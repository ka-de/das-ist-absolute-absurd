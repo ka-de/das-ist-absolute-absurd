{
 "cells": [
  {
   "cell_type": "markdown",
   "metadata": {},
   "source": [
    "# Python Oneliners 🐍"
   ]
  },
  {
   "cell_type": "markdown",
   "metadata": {},
   "source": [
    "### The Palindrome Oneliner\n",
    "----\n",
    "\n",
    "The given code defines a lambda function named `palindrome` that checks if a given string `s` is a palindrome or not. Here's a breakdown:\n",
    "\n",
    "- `lambda s`: This part declares an anonymous lambda function that takes a single argument `s`.\n",
    "- `s == s[::-1]`: This is the main logic of the lambda function. It checks if the string `s` is equal to its reverse (`s[::-1]`), which is a common way to determine if a string is a palindrome.\n",
    "\n",
    "A palindrome is a word, phrase, or sequence of characters that reads the same backward as forward. The lambda function returns `True` if the input string is a palindrome and `False` otherwise."
   ]
  },
  {
   "cell_type": "code",
   "execution_count": 5,
   "metadata": {},
   "outputs": [
    {
     "name": "stdout",
     "output_type": "stream",
     "text": [
      "gorog is a palindrome. ✅\n"
     ]
    }
   ],
   "source": [
    "palindrome = lambda s: s == s[::-1]\n",
    "\n",
    "#word = input(\"Enter a word: \")\n",
    "#word = \"radar\"\n",
    "#result = palindrome(word)\n",
    "#if result:\n",
    "#    print(f\"{word} is a palindrome. ✅\")\n",
    "#else:\n",
    "#    print(f\"{word} is not a palindrome. ❌\")"
   ]
  },
  {
   "cell_type": "markdown",
   "metadata": {},
   "source": [
    "### Swap Two Variables\n",
    "----\n",
    "\n",
    "The given line of code is a Python one-liner that swaps the values of two variables, `a` and `b`, using tuple unpacking. Here's an explanation:\n",
    "\n",
    "- `a, b = b, a`: This line simultaneously assigns the value of `b` to `a` and the value of `a` to `b`. This is achieved through tuple unpacking, where the right side creates a tuple `(b, a)` and the left side unpacks it into the variables `a` and `b`.\n",
    "\n",
    "This one-liner eliminates the need for a temporary variable to perform the swap. It takes advantage of the fact that the right side creates a tuple, and the values are then unpacked and assigned to the respective variables on the left side. After this line executes, the values of `a` and `b` will be swapped."
   ]
  },
  {
   "cell_type": "code",
   "execution_count": 6,
   "metadata": {},
   "outputs": [
    {
     "name": "stdout",
     "output_type": "stream",
     "text": [
      "After swapping: a = 10 , b = 5\n"
     ]
    }
   ],
   "source": [
    "# Example usage of the swap two variables one-liner\n",
    "a = 5\n",
    "b = 10\n",
    "\n",
    "# Swapping values using the one-liner\n",
    "a, b = b, a\n",
    "\n",
    "# Now 'a' will be 10, and 'b' will be 5\n",
    "print(\"After swapping: a =\", a, \", b =\", b)"
   ]
  },
  {
   "cell_type": "markdown",
   "metadata": {},
   "source": [
    "### Calculate sum at even indices\n",
    "----\n",
    "\n",
    "- `stock_prices[::2]`: This part of the code uses slicing to create a new list containing every element at even indices from the original `stock_prices` list. The `::2` notation means to take every second element (stride of 2).\n",
    "\n",
    "- `sum(stock_prices[::2])`: The `sum()` function is then applied to the list obtained from the slicing. It calculates the sum of all the values in that list.\n",
    "\n",
    "In summary, this one-liner calculates the sum of values at even indices in the `stock_prices` list. If `stock_prices` is `[10, 20, 30, 40, 50]`, the result would be `10 + 30 + 50 = 90`.\n",
    "\n",
    "In the context of a list or array, the term \"even indices\" refers to the positions of elements in the list where the index (position) is an even number. In Python, indexing starts from 0.\n",
    "\n",
    "For example:\n",
    "- Element at index 0 is at an even position.\n",
    "- Element at index 2 is at an even position.\n",
    "- Element at index 4 is at an even position.\n",
    "- And so on.\n",
    "\n",
    "If we have a list `L = [10, 20, 30, 40, 50]`, the elements at even indices are `L[0]`, `L[2]`, `L[4]`, and so forth. In this case, the values would be 10, 30, and 50.\n",
    "\n",
    "The slicing notation `L[::2]` is used to create a new list containing elements at even indices. The `::2` means to take every second element, starting from the first element (index 0)."
   ]
  },
  {
   "cell_type": "code",
   "execution_count": 1,
   "metadata": {},
   "outputs": [
    {
     "name": "stdout",
     "output_type": "stream",
     "text": [
      "The sum of stock prices at even indices is: 165 📈\n"
     ]
    }
   ],
   "source": [
    "stock_prices = [15, 25, 30, 40, 50, 60, 70]\n",
    "\n",
    "result = sum(stock_prices[::2])\n",
    "\n",
    "print(f\"The sum of stock prices at even indices is: {result} 📈\")"
   ]
  }
 ],
 "metadata": {
  "kernelspec": {
   "display_name": "base",
   "language": "python",
   "name": "python3"
  },
  "language_info": {
   "codemirror_mode": {
    "name": "ipython",
    "version": 3
   },
   "file_extension": ".py",
   "mimetype": "text/x-python",
   "name": "python",
   "nbconvert_exporter": "python",
   "pygments_lexer": "ipython3",
   "version": "3.12.1"
  }
 },
 "nbformat": 4,
 "nbformat_minor": 2
}
