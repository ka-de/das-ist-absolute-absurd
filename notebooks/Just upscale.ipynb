{
 "cells": [
  {
   "cell_type": "markdown",
   "metadata": {},
   "source": [
    "### Upscale only\n",
    "----"
   ]
  },
  {
   "cell_type": "code",
   "execution_count": null,
   "metadata": {},
   "outputs": [],
   "source": [
    "from pathlib import Path\n",
    "from google.colab import drive\n",
    "drive.mount('/content/drive')\n",
    "\n",
    "%cd /\n",
    "!git lfs install\n",
    "!git clone https://github.com/comfyanonymous/ComfyUI\n",
    "!pip3 install xformers!=0.0.18 torch==2.2.0 torchvision torchaudio --index-url https://download.pytorch.org/whl/cu121\n",
    "!pip3 install einops torchsde\n",
    "\n",
    "%cd /ComfyUI\n",
    "!rm -rvf ./input ./output\n",
    "!ln -sv /content/drive/MyDrive/output /ComfyUI/output\n",
    "!ln -sv /content/drive/MyDrive/input /ComfyUI/input\n",
    "!wget -O ./models/upscale_models/Real_HAT_GAN_SRx4.pth https://huggingface.co/k4d3/upscalers/resolve/main/Real_HAT_GAN_SRx4.pth?download=true\n",
    "!wget -O ./models/upscale_models/Real_HAT_GAN_sharper.pth https://huggingface.co/k4d3/upscalers/resolve/main/Real_HAT_GAN_sharper.pth?download=true\n",
    "\n",
    "!mkdir -pv /ComfyUI/user/default\n",
    "!echo '{\"Comfy.ColorPalette\":\"light\",\"Comfy.LinkRenderMode\":\"0\"}' > /ComfyUI/user/default/comfy.settings.json\n",
    "!echo '{\"betterTaesdPreviews\":{\"enabled\":true,\"max_size\":768,\"max_batch\":4,\"max_batch_cols\":2,\"throttle_secs\":1,\"maxed_batch_step_mode\":true}}' > /ComfyUI/custom_nodes/ComfyUI-bleh/blehconfig.json\n",
    "\n",
    "!npm install -g localtunnel\n",
    "\n",
    "import subprocess\n",
    "import threading\n",
    "import time\n",
    "import socket\n",
    "import urllib.request\n",
    "\n",
    "def iframe_thread(port):\n",
    "  while True:\n",
    "      time.sleep(0.5)\n",
    "      sock = socket.socket(socket.AF_INET, socket.SOCK_STREAM)\n",
    "      result = sock.connect_ex(('127.0.0.1', port))\n",
    "      if result == 0:\n",
    "        break\n",
    "      sock.close()\n",
    "  print(\"\\nComfyUI finished loading, trying to launch localtunnel (if it gets stuck here localtunnel is having issues)\\n\")\n",
    "\n",
    "  print(\"The password/enpoint ip for localtunnel is:\", urllib.request.urlopen('https://ipv4.icanhazip.com').read().decode('utf8').strip(\"\\n\"))\n",
    "  p = subprocess.Popen([\"lt\", \"--port\", \"{}\".format(port)], stdout=subprocess.PIPE)\n",
    "  for line in p.stdout:\n",
    "    print(line.decode(), end='')\n",
    "\n",
    "\n",
    "threading.Thread(target=iframe_thread, daemon=True, args=(8188,)).start()\n",
    "\n",
    "!python main.py"
   ]
  },
  {
   "cell_type": "markdown",
   "metadata": {},
   "source": [
    "### Start ComfyUI (In case upscaler crashed Comfy, hihi)\n",
    "----"
   ]
  },
  {
   "cell_type": "code",
   "execution_count": null,
   "metadata": {},
   "outputs": [],
   "source": [
    "%cd /ComfyUI\n",
    "\n",
    "!npm install -g localtunnel\n",
    "\n",
    "import subprocess\n",
    "import threading\n",
    "import time\n",
    "import socket\n",
    "import urllib.request\n",
    "\n",
    "def iframe_thread(port):\n",
    "  while True:\n",
    "      time.sleep(0.5)\n",
    "      sock = socket.socket(socket.AF_INET, socket.SOCK_STREAM)\n",
    "      result = sock.connect_ex(('127.0.0.1', port))\n",
    "      if result == 0:\n",
    "        break\n",
    "      sock.close()\n",
    "  print(\"\\nComfyUI finished loading, trying to launch localtunnel (if it gets stuck here localtunnel is having issues)\\n\")\n",
    "\n",
    "  print(\"The password/enpoint ip for localtunnel is:\", urllib.request.urlopen('https://ipv4.icanhazip.com').read().decode('utf8').strip(\"\\n\"))\n",
    "  p = subprocess.Popen([\"lt\", \"--port\", \"{}\".format(port)], stdout=subprocess.PIPE)\n",
    "  for line in p.stdout:\n",
    "    print(line.decode(), end='')\n",
    "\n",
    "\n",
    "threading.Thread(target=iframe_thread, daemon=True, args=(8188,)).start()\n",
    "\n",
    "!python main.py"
   ]
  }
 ],
 "metadata": {
  "language_info": {
   "name": "python"
  }
 },
 "nbformat": 4,
 "nbformat_minor": 2
}
