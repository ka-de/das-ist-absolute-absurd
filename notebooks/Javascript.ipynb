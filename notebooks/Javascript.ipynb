{
 "cells": [
  {
   "cell_type": "markdown",
   "metadata": {},
   "source": [
    "# JavaScript Shenanigans\n",
    "\n",
    "### Order of Things\n",
    "----"
   ]
  },
  {
   "cell_type": "code",
   "execution_count": null,
   "metadata": {
    "dotnet_interactive": {
     "language": "javascript"
    },
    "polyglot_notebook": {
     "kernelName": "javascript"
    },
    "vscode": {
     "languageId": "polyglot-notebook"
    }
   },
   "outputs": [],
   "source": [
    "Promise.resolve().then(() => console.log(1));\n",
    "queueMicrotask(() => console.log(2));\n",
    "setTimeout(() => console.log(3), 0);\n",
    "console.log(4);\n",
    "new Promise(() => console.log(5));\n",
    "(async () => console.log(6))();"
   ]
  },
  {
   "cell_type": "markdown",
   "metadata": {},
   "source": [
    "The order in which the logs are printed in this code is determined by the event loop and the different queues involved in the execution of asynchronous tasks in JavaScript. Here's an explanation for the output order:\n",
    "\n",
    "1. `console.log(4)`: This is a synchronous operation, so it gets executed immediately, outputting `4`.\n",
    "\n",
    "2. `console.log(5)`: The `new Promise(() => console.log(5))` line creates a new Promise instance and immediately executes the provided function, logging `5`.\n",
    "\n",
    "3. `console.log(6)`: The `(async () => console.log(6))()` is an immediately invoked async function expression. Since it's a synchronous operation, it logs `6` right away.\n",
    "\n",
    "4. `console.log(1)`: The `Promise.resolve().then(() => console.log(1))` line creates a resolved Promise and schedules the callback function `() => console.log(1)` to be executed on the microtask queue. However, microtasks are executed after the current macrotask (the script in this case) has finished executing.\n",
    "\n",
    "5. `console.log(2)`: The `queueMicrotask(() => console.log(2))` schedules the callback function `() => console.log(2)` to be executed on the microtask queue, after the current macrotask has finished executing and before any other microtasks or macrotasks.\n",
    "\n",
    "6. `console.log(3)`: The `setTimeout(() => console.log(3), 0)` schedules the callback function `() => console.log(3)` to be executed on the macrotask queue (the event queue) with a delay of 0 milliseconds. However, even with a delay of 0, the callback function is not executed immediately; it's added to the event queue and executed only after the current macrotask (the script) and any microtasks have completed.\n",
    "\n",
    "After the main script has finished executing, the event loop checks the microtask queue and executes all the microtasks (in this case, the callbacks scheduled by `Promise.resolve().then` and `queueMicrotask`) before checking the macrotask queue (the event queue) and executing the `setTimeout` callback.\n",
    "\n",
    "So, the order of execution becomes:\n",
    "\n",
    "1. Synchronous operations: `console.log(4)`, `console.log(5)`, `console.log(6)`\n",
    "2. Microtasks: `console.log(1)`, `console.log(2)`\n",
    "3. Macrotasks (event queue): `console.log(3)`\n",
    "\n",
    "This order demonstrates the event loop's prioritization of microtasks over macrotasks and the non-blocking nature of asynchronous operations in JavaScript."
   ]
  },
  {
   "cell_type": "markdown",
   "metadata": {},
   "source": [
    "### Class Hierarchy\n",
    "----\n",
    "\n",
    "This JavaScript script defines a class hierarchy representing different types of animals, with a focus on dogs. Let's break down the structure and functionality step by step.\n",
    "\n",
    "### `Animal` Class\n",
    "\n",
    "```javascript\n",
    "class Animal {\n",
    "  constructor(name) {\n",
    "    this.name = name;\n",
    "  }\n",
    "}\n",
    "```\n",
    "\n",
    "The `Animal` class serves as the base class for all animals. It has a constructor that takes a `name` parameter and assigns it to the instance variable `this.name`.\n",
    "\n",
    "### `Mammal` Class\n",
    "\n",
    "```javascript\n",
    "class Mammal extends Animal {\n",
    "  constructor(name) {\n",
    "    super(name);\n",
    "  }\n",
    "\n",
    "  breathe() { \n",
    "    console.log(\"Breathing..\");\n",
    "  }\n",
    "}\n",
    "```\n",
    "\n",
    "The `Mammal` class extends the `Animal` class, inheriting its properties. It adds a `breathe` method, which simply logs \"Breathing..\" to the console.\n",
    "\n",
    "### `Canine` Class\n",
    "\n",
    "```javascript\n",
    "class Canine extends Mammal {\n",
    "  constructor(name) {\n",
    "    super(name);\n",
    "  }\n",
    "\n",
    "  howl() {\n",
    "    console.log(\"Howling!\");\n",
    "  }\n",
    "}\n",
    "```\n",
    "\n",
    "The `Canine` class extends the `Mammal` class, inheriting both `Animal` and `Mammal` properties. It introduces a `howl` method, which logs \"Howling!\" to the console.\n",
    "\n",
    "### `Dog` Class\n",
    "\n",
    "```javascript\n",
    "class Dog extends Canine {\n",
    "  constructor(name, breed) {\n",
    "    super(name);\n",
    "    this.breed = breed;\n",
    "  }\n",
    "\n",
    "  bark() {\n",
    "    console.log(this.name + \" of breed \" + this.breed + \" is barking\");\n",
    "  }\n",
    "\n",
    "  wagTail() {\n",
    "    console.log(this.name + \" of breed \" + this.breed + \" is wagging their tail!\");\n",
    "  }\n",
    "}\n",
    "```\n",
    "\n",
    "The `Dog` class extends the `Canine` class, inheriting properties from all previous classes. It has its own constructor, taking `name` and `breed` parameters, and introduces two methods: `bark` and `wagTail`. The `bark` method logs a message about the dog barking, and the `wagTail` method logs a message about the dog wagging its tail.\n",
    "\n",
    "### Using the Classes\n",
    "\n",
    "```javascript\n",
    "dog = new Dog(\"Doggie\", \"Dalmatian\");\n",
    "dog.wagTail();\n",
    "```\n",
    "\n",
    "Here, an instance of the `Dog` class is created with the name \"Doggie\" and the breed \"Dalmatian\". The `wagTail` method is then called on this instance, which logs a message specific to the dog's name and breed.\n",
    "\n",
    "This script demonstrates the concept of class inheritance in JavaScript, showcasing how properties and methods can be inherited and extended to create a hierarchy of related classes."
   ]
  },
  {
   "cell_type": "code",
   "execution_count": 14,
   "metadata": {
    "dotnet_interactive": {
     "language": "javascript"
    },
    "polyglot_notebook": {
     "kernelName": "javascript"
    },
    "vscode": {
     "languageId": "polyglot-notebook"
    }
   },
   "outputs": [
    {
     "data": {
      "text/plain": [
       "Max of breed Dalmatian is wagging their tail!"
      ]
     },
     "metadata": {},
     "output_type": "display_data"
    },
    {
     "data": {
      "text/plain": [
       "Max is howling!"
      ]
     },
     "metadata": {},
     "output_type": "display_data"
    },
    {
     "data": {
      "text/plain": [
       "Max is breathing."
      ]
     },
     "metadata": {},
     "output_type": "display_data"
    }
   ],
   "source": [
    "class Animal {\n",
    "  constructor(name) {\n",
    "    this.name = name;\n",
    "  }\n",
    "}\n",
    "\n",
    "class Mammal extends Animal {\n",
    "  constructor(name) {\n",
    "    super(name);\n",
    "  }\n",
    "\n",
    "  breathe() { \n",
    "    console.log(this.name + \" is breathing.\");\n",
    "   }\n",
    "}\n",
    "\n",
    "class Canine extends Mammal {\n",
    "  constructor(name) {\n",
    "    super(name);\n",
    "  }\n",
    "\n",
    "  howl() {\n",
    "    console.log(this.name + \" is howling!\");\n",
    "  }\n",
    "}\n",
    "\n",
    "class Dog extends Canine {\n",
    "  constructor(name, breed) {\n",
    "    super(name);\n",
    "    this.breed = breed;\n",
    "  }\n",
    "\n",
    "  bark() {\n",
    "    console.log(this.name + \" of breed \" + this.breed + \" is barking\");\n",
    "  }\n",
    "\n",
    "  wagTail() {\n",
    "    console.log(this.name + \" of breed \" + this.breed + \" is wagging their tail!\");\n",
    "  }\n",
    "}\n",
    "\n",
    "dog = new Dog(\"Max\", \"Dalmatian\");\n",
    "dog.wagTail();\n",
    "dog.howl();\n",
    "dog.breathe();"
   ]
  },
  {
   "cell_type": "code",
   "execution_count": 25,
   "metadata": {
    "dotnet_interactive": {
     "language": "javascript"
    },
    "polyglot_notebook": {
     "kernelName": "javascript"
    },
    "vscode": {
     "languageId": "polyglot-notebook"
    }
   },
   "outputs": [
    {
     "data": {
      "text/plain": [
       "1"
      ]
     },
     "metadata": {},
     "output_type": "display_data"
    },
    {
     "data": {
      "text/plain": [
       "2"
      ]
     },
     "metadata": {},
     "output_type": "display_data"
    },
    {
     "data": {
      "text/plain": [
       "3"
      ]
     },
     "metadata": {},
     "output_type": "display_data"
    }
   ],
   "source": [
    "function* genFunc() {\n",
    "  yield 1;\n",
    "  yield 2;\n",
    "  yield 3;\n",
    "  return 4;\n",
    "}\n",
    "\n",
    "// Only the yielded values get printed not the returned one!\n",
    "for (const value of genFunc()) {\n",
    "  console.log(value);\n",
    "} // 1 2 3\n",
    "\n",
    "/*\n",
    "const iterator = genFunc();\n",
    "console.log(iterator.next());\n",
    "console.log(iterator.next());\n",
    "console.log(iterator.next());\n",
    "console.log(iterator.next());\n",
    "*/"
   ]
  }
 ],
 "metadata": {
  "language_info": {
   "name": "python"
  }
 },
 "nbformat": 4,
 "nbformat_minor": 2
}
