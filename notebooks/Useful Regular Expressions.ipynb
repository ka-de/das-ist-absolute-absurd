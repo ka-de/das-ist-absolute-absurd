{
 "cells": [
  {
   "cell_type": "markdown",
   "metadata": {},
   "source": [
    "### Replace Spaces with Underscores, Except between Commas\n",
    "----"
   ]
  },
  {
   "cell_type": "code",
   "execution_count": null,
   "metadata": {
    "vscode": {
     "languageId": "perl"
    }
   },
   "outputs": [],
   "source": [
    "(?<!,\\s*)(\\s+)(?!\\s*,)"
   ]
  },
  {
   "cell_type": "markdown",
   "metadata": {},
   "source": [
    "This regular expression uses negative lookbehind and negative lookahead assertions to ensure that the spaces being replaced are not immediately preceded or followed by a comma character. Here's a breakdown of how it works:\n",
    "\n",
    "1. `(?<!,\\s*)` - Negative lookbehind assertion that ensures the match is not preceded by a comma and zero or more spaces.\n",
    "2. `(\\s+)` - Captures one or more spaces in a group.\n",
    "3. `(?!\\s*,)` - Negative lookahead assertion that ensures the match is not followed by zero or more spaces and a comma.\n",
    "\n",
    "To use this regular expression in Visual Studio Code, follow these steps:\n",
    "\n",
    "1. Press `Ctrl+H` (or `Cmd+H` on macOS) to open the \"Find and Replace\" panel.\n",
    "2. In the \"Find\" field, enter the regular expression `(?<!,\\s*)(\\s+)(?!\\s*,)`.\n",
    "3. In the \"Replace\" field, enter `_` (or `\\\\_` if you want to replace spaces with literal underscores).\n",
    "4. Make sure the \"Use Regular Expression\" option is checked.\n",
    "5. Click \"Replace All\" or \"Replace\" to replace the matches one by one.\n",
    "\n",
    "This regular expression will replace spaces with underscores in your code, except when the space is between two comma characters."
   ]
  }
 ],
 "metadata": {
  "language_info": {
   "name": "python"
  }
 },
 "nbformat": 4,
 "nbformat_minor": 2
}
