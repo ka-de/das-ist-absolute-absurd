{
 "cells": [
  {
   "cell_type": "markdown",
   "metadata": {},
   "source": [
    "Recursively searches through subdirectories in the current directory, identifying and renaming all \"*.txt\" files that start with an underscore by **removing the underscore** from their filenames."
   ]
  },
  {
   "cell_type": "code",
   "execution_count": null,
   "metadata": {
    "vscode": {
     "languageId": "powershell"
    }
   },
   "outputs": [],
   "source": [
    "$subdirectories = Get-ChildItem -Directory\n",
    "\n",
    "foreach ($subdirectory in $subdirectories) {\n",
    "    # Get all *.txt files starting with an underscore in the current subdirectory\n",
    "    $filesToRename = Get-ChildItem -Path $subdirectory.FullName -Filter \"_*.txt\"\n",
    "\n",
    "    foreach ($file in $filesToRename) {\n",
    "        # Build the new filename without the underscore\n",
    "        $newName = $file.Name -replace \"^_\", \"\"\n",
    "\n",
    "        # Rename the file\n",
    "        Rename-Item -Path $file.FullName -NewName $newName\n",
    "    }\n",
    "}"
   ]
  },
  {
   "cell_type": "markdown",
   "metadata": {},
   "source": [
    "On Linux, you can use the rename command along with a regular expression to quickly remove the extra backslash from the filenames. Here's a one-liner you can use:"
   ]
  },
  {
   "cell_type": "code",
   "execution_count": null,
   "metadata": {
    "vscode": {
     "languageId": "plaintext"
    }
   },
   "outputs": [],
   "source": [
    "rename 's/\\\\(.+)/$1/' *.txt"
   ]
  },
  {
   "cell_type": "code",
   "execution_count": null,
   "metadata": {
    "vscode": {
     "languageId": "powershell"
    }
   },
   "outputs": [],
   "source": [
    "Get-ChildItem -Filter *.txt | ForEach-Object {Rename-Item $_.FullName -NewName ($_.BaseName -replace '\\\\(.+)', '$1' + $_.Extension)}"
   ]
  },
  {
   "cell_type": "markdown",
   "metadata": {},
   "source": [
    "You can use the sed command to replace all occurrences of underscore (_) characters with space characters inside every text file."
   ]
  },
  {
   "cell_type": "code",
   "execution_count": null,
   "metadata": {
    "vscode": {
     "languageId": "plaintext"
    }
   },
   "outputs": [],
   "source": [
    "find . -type f -name \"*.txt\" -exec sed -i 's/_/ /g' {} +"
   ]
  },
  {
   "cell_type": "code",
   "execution_count": null,
   "metadata": {
    "vscode": {
     "languageId": "powershell"
    }
   },
   "outputs": [],
   "source": [
    "Get-ChildItem -Recurse -Filter *.txt | ForEach-Object {\n",
    "    (Get-Content $_.FullName) -replace '_', ' ' | Set-Content $_.FullName\n",
    "}"
   ]
  },
  {
   "cell_type": "markdown",
   "metadata": {},
   "source": [
    "This command will rename all files with extensions .jpg.txt, .png.txt, and .webp.txt to just .txt. Make sure to run this command in the correct directory and consider creating a backup before making such changes."
   ]
  },
  {
   "cell_type": "code",
   "execution_count": null,
   "metadata": {
    "vscode": {
     "languageId": "plaintext"
    }
   },
   "outputs": [],
   "source": [
    "rename 's/\\.(jpg|png|webp)\\.txt$/.txt/' *.txt *.png *.webp\n",
    "# I think this is what i want:\n",
    "rename 's/\\.(jpg|png|webp)\\.txt$/.txt/' *.txt"
   ]
  },
  {
   "cell_type": "code",
   "execution_count": null,
   "metadata": {
    "vscode": {
     "languageId": "powershell"
    }
   },
   "outputs": [],
   "source": [
    "Get-ChildItem -Path . -Recurse -Filter *.txt |\n",
    "ForEach-Object {\n",
    "    $newName = $_.BaseName -replace '\\.(jpg|jpeg|png|webp)$'\n",
    "    $newName += $_.Extension\n",
    "    Rename-Item -Path $_.FullName -NewName $newName\n",
    "}"
   ]
  },
  {
   "cell_type": "markdown",
   "metadata": {},
   "source": [
    "This command uses sed to add the string \"score_9, score_8_up, score_7_up, score_6_up, score_5_up, score_4_up,\" to the beginning of each line in all .txt files in the current directory."
   ]
  },
  {
   "cell_type": "code",
   "execution_count": null,
   "metadata": {
    "vscode": {
     "languageId": "plaintext"
    }
   },
   "outputs": [],
   "source": [
    "sed -i 's/^/score_9, score_8_up, score_7_up, score_6_up, score_5_up, score_4_up, /' *.txt"
   ]
  },
  {
   "cell_type": "code",
   "execution_count": null,
   "metadata": {
    "vscode": {
     "languageId": "powershell"
    }
   },
   "outputs": [],
   "source": [
    "# Untested\n",
    "Get-ChildItem -Filter *.txt | ForEach-Object {\n",
    "    (Get-Content $_.FullName) -replace '^', 'score_9, score_8_up, score_7_up, score_6_up, score_5_up, score_4_up, ' | Set-Content $_.FullName\n",
    "}"
   ]
  },
  {
   "cell_type": "markdown",
   "metadata": {},
   "source": [
    "This command recursively finds all text files in the current directory and its subdirectories, then uses the sed tool to replace all occurrences of \", , \" with \", \" in each file."
   ]
  },
  {
   "cell_type": "code",
   "execution_count": null,
   "metadata": {
    "vscode": {
     "languageId": "plaintext"
    }
   },
   "outputs": [],
   "source": [
    "find . -type f -name '*.txt' -exec sed -i 's/, , /, /g' {} +"
   ]
  },
  {
   "cell_type": "code",
   "execution_count": null,
   "metadata": {
    "vscode": {
     "languageId": "plaintext"
    }
   },
   "outputs": [],
   "source": [
    "Get-ChildItem -Recurse -Filter *.txt | ForEach-Object {\n",
    "    (Get-Content $_.FullName) -replace ', , ', ', ' | Set-Content $_.FullName\n",
    "}"
   ]
  },
  {
   "cell_type": "markdown",
   "metadata": {},
   "source": [
    "To merge upstream Git changes into your forked repository, follow these steps:\n",
    "\n",
    "1. **Add Upstream Remote:**"
   ]
  },
  {
   "cell_type": "code",
   "execution_count": null,
   "metadata": {
    "vscode": {
     "languageId": "plaintext"
    }
   },
   "outputs": [],
   "source": [
    "git remote add upstream https://github.com/original-owner/original-repository.git"
   ]
  },
  {
   "cell_type": "markdown",
   "metadata": {},
   "source": [
    "2. **Fetch Upstream Changes:**"
   ]
  },
  {
   "cell_type": "code",
   "execution_count": null,
   "metadata": {
    "vscode": {
     "languageId": "plaintext"
    }
   },
   "outputs": [],
   "source": [
    "git fetch upstream"
   ]
  },
  {
   "cell_type": "markdown",
   "metadata": {},
   "source": [
    "3. **Merge Upstream Changes:**"
   ]
  },
  {
   "cell_type": "code",
   "execution_count": null,
   "metadata": {
    "vscode": {
     "languageId": "plaintext"
    }
   },
   "outputs": [],
   "source": [
    "git merge upstream/main"
   ]
  },
  {
   "cell_type": "markdown",
   "metadata": {},
   "source": [
    "4. **Resolve any Merge Conflicts:**\n",
    "\n",
    "   If there are conflicts, Git will notify you. Resolve conflicts in the files and then continue the merge:"
   ]
  },
  {
   "cell_type": "code",
   "execution_count": null,
   "metadata": {
    "vscode": {
     "languageId": "plaintext"
    }
   },
   "outputs": [],
   "source": [
    "git add .\n",
    "git merge --continue"
   ]
  },
  {
   "cell_type": "markdown",
   "metadata": {},
   "source": [
    "5. **Push Changes to Your Fork:**"
   ]
  },
  {
   "cell_type": "code",
   "execution_count": null,
   "metadata": {
    "vscode": {
     "languageId": "plaintext"
    }
   },
   "outputs": [],
   "source": [
    "git push origin main"
   ]
  },
  {
   "cell_type": "markdown",
   "metadata": {},
   "source": [
    "# gcloud\n",
    "-----"
   ]
  },
  {
   "cell_type": "code",
   "execution_count": null,
   "metadata": {
    "vscode": {
     "languageId": "plaintext"
    }
   },
   "outputs": [],
   "source": [
    "gcloud compute tpus tpu-vm create tpu-kade --zone=europe-west4-a --accelerator-type=v3-8  --version=tpu-ubuntu2204-base"
   ]
  },
  {
   "cell_type": "code",
   "execution_count": null,
   "metadata": {
    "vscode": {
     "languageId": "plaintext"
    }
   },
   "outputs": [],
   "source": [
    "gcloud compute tpus tpu-vm create tpu-kade --zone=us-central1-f --accelerator-type=v3-8  --version=tpu-ubuntu2204-base"
   ]
  },
  {
   "cell_type": "code",
   "execution_count": null,
   "metadata": {
    "vscode": {
     "languageId": "plaintext"
    }
   },
   "outputs": [],
   "source": [
    "gcloud compute tpus tpu-vm create tpu-kade  --zone=us-central1-f --accelerator-type=v2-8 --version=tpu-vm-tf-2.15.0-pjrt"
   ]
  },
  {
   "cell_type": "code",
   "execution_count": null,
   "metadata": {
    "vscode": {
     "languageId": "plaintext"
    }
   },
   "outputs": [],
   "source": [
    "gcloud compute tpus tpu-vm create tpu-kade  --zone=europe-west4-a --accelerator-type=v3-8 --version=tpu-vm-tf-2.15.0-pjrt"
   ]
  }
 ],
 "metadata": {
  "language_info": {
   "name": "python"
  }
 },
 "nbformat": 4,
 "nbformat_minor": 2
}
