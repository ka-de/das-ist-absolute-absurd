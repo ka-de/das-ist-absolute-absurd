{
 "cells": [
  {
   "cell_type": "code",
   "execution_count": 18,
   "metadata": {},
   "outputs": [
    {
     "data": {
      "text/html": [
       "<pre style=\"white-space:pre;overflow-x:auto;line-height:normal;font-family:Menlo,'DejaVu Sans Mono',consolas,'Courier New',monospace\">╔═════════════════════════════════════════════════════════════════════════════════════════════════════════════════╗\n",
       "║                                                  <span style=\"font-weight: bold\">Exaggeration</span>                                                   ║\n",
       "╚═════════════════════════════════════════════════════════════════════════════════════════════════════════════════╝\n",
       "\n",
       "<span style=\"color: #808000; text-decoration-color: #808000\">───────────────────────────────────────────────────────────────────────────────────────────────────────────────────</span>\n",
       "\n",
       "                                             <span style=\"font-weight: bold; text-decoration: underline\">Written by Balazs Horvath</span>                                             \n",
       "\n",
       "                                                     <span style=\"font-weight: bold\">Chapter 1</span>                                                     \n",
       "\n",
       "                                                <span style=\"font-weight: bold\">Pursued by Shadows</span>                                                 \n",
       "\n",
       "Having influence over those who follow you is important, but it also comes with risks – some might betray you. Now,\n",
       "they want me dead because I'm not useful to them anymore. I managed to escape, but they're good at tracking.       \n",
       "\n",
       "While running, I stashed a chest of valuable stuff under a big rock where a stream meets a river. If you help me,  \n",
       "you can have what's in the chest, but first, we need to deal with these people chasing me. Will you help?          \n",
       "\n",
       "à̶̡̼͒̆I̸͓͎̙͌͝f̷̞̌̊ ̶̧̦̂̿͜y̵͕͚̜͝o̸̬̓̂̚ụ̷͔̄͠ ̴̨͈̮̒͝c̷̪̩͝h̶̡̟͂ȯ̶̢̪̯ȯ̶̹̹̮́̅s̶̖̽̓̚ȩ̴̫̠̔ ̷̛͚̜̔͋o̷̪̬͌̾n̵͕̳̮̒̊e̷̫̓ ̴̟͓̓ó̵̢͚̂f̵͓̈̒͛ ̶̯̋̈͆t̷͕̑̉h̵͖̭̉́̚ẹ̵͒͊͝m̸̜̍̒,̶̨͍̗͗ ̷̩̳̥̿w̶͓͒h̸̛̥̖̺͋͝ą̶̵̷̶̶̸̴̨̦̪̞̯̝̞̙̘͇̙̬̞͖̯̀͋̀͐̃̐́̾̐͋̀̉̀͐̕t̸͉͉͕̽͋̚ ̸̺͈̥̌͋ḩ̸̡̘̒͂̉a̵̮̺̒p̴̢̫͂̕̚ṕ̴̡ĕ̷̯̘n̵̞͚̓̌̇s̵̯̒͗̎ ̸̢͇̩̉̓͝t̴̡̰̦͐ô̴̮̼̊͘ ̶̲͈̓̑͜t̷̟̕ḥ̴̙̏e̶̙̽̚ ̸̧̍͘ó̷͈̻͋t̶̼͓̮́ḧ̸̙̮́̆͝e̸̡̅͋͠ͅr̶̬̠̅͂̎?̶̰̀͂͠                                                             \n",
       "\n",
       "Are you prepared for the shit that is coming?                                                                      \n",
       "</pre>\n"
      ],
      "text/plain": [
       "╔═════════════════════════════════════════════════════════════════════════════════════════════════════════════════╗\n",
       "║                                                  \u001b[1mExaggeration\u001b[0m                                                   ║\n",
       "╚═════════════════════════════════════════════════════════════════════════════════════════════════════════════════╝\n",
       "\n",
       "\u001b[33m───────────────────────────────────────────────────────────────────────────────────────────────────────────────────\u001b[0m\n",
       "\n",
       "                                             \u001b[1;4mWritten by Balazs Horvath\u001b[0m                                             \n",
       "\n",
       "                                                     \u001b[1mChapter 1\u001b[0m                                                     \n",
       "\n",
       "                                                \u001b[1mPursued by Shadows\u001b[0m                                                 \n",
       "\n",
       "Having influence over those who follow you is important, but it also comes with risks – some might betray you. Now,\n",
       "they want me dead because I'm not useful to them anymore. I managed to escape, but they're good at tracking.       \n",
       "\n",
       "While running, I stashed a chest of valuable stuff under a big rock where a stream meets a river. If you help me,  \n",
       "you can have what's in the chest, but first, we need to deal with these people chasing me. Will you help?          \n",
       "\n",
       "à̶̡̼͒̆I̸͓͎̙͌͝f̷̞̌̊ ̶̧̦̂̿͜y̵͕͚̜͝o̸̬̓̂̚ụ̷͔̄͠ ̴̨͈̮̒͝c̷̪̩͝h̶̡̟͂ȯ̶̢̪̯ȯ̶̹̹̮́̅s̶̖̽̓̚ȩ̴̫̠̔ ̷̛͚̜̔͋o̷̪̬͌̾n̵͕̳̮̒̊e̷̫̓ ̴̟͓̓ó̵̢͚̂f̵͓̈̒͛ ̶̯̋̈͆t̷͕̑̉h̵͖̭̉́̚ẹ̵͒͊͝m̸̜̍̒,̶̨͍̗͗ ̷̩̳̥̿w̶͓͒h̸̛̥̖̺͋͝ą̶̵̷̶̶̸̴̨̦̪̞̯̝̞̙̘͇̙̬̞͖̯̀͋̀͐̃̐́̾̐͋̀̉̀͐̕t̸͉͉͕̽͋̚ ̸̺͈̥̌͋ḩ̸̡̘̒͂̉a̵̮̺̒p̴̢̫͂̕̚ṕ̴̡ĕ̷̯̘n̵̞͚̓̌̇s̵̯̒͗̎ ̸̢͇̩̉̓͝t̴̡̰̦͐ô̴̮̼̊͘ ̶̲͈̓̑͜t̷̟̕ḥ̴̙̏e̶̙̽̚ ̸̧̍͘ó̷͈̻͋t̶̼͓̮́ḧ̸̙̮́̆͝e̸̡̅͋͠ͅr̶̬̠̅͂̎?̶̰̀͂͠                                                             \n",
       "\n",
       "Are you prepared for the shit that is coming?                                                                      \n"
      ]
     },
     "metadata": {},
     "output_type": "display_data"
    }
   ],
   "source": [
    "from rich.console import Console\n",
    "from rich.markdown import Markdown\n",
    "\n",
    "# Create a Rich console\n",
    "console = Console()\n",
    "\n",
    "markdown_content = \"\"\"\n",
    "# Exaggeration\n",
    "----\n",
    "\n",
    "## Written by Balazs Horvath\n",
    "\n",
    "### Chapter 1\n",
    "### Pursued by Shadows\n",
    "\n",
    "Having influence over those who follow you is important, but it also comes with risks – some might betray you. Now, they want me dead because I'm not useful to them anymore. I managed to escape, but they're good at tracking.\n",
    "\n",
    "While running, I stashed a chest of valuable stuff under a big rock where a stream meets a river. If you help me, you can have what's in the chest, but first, we need to deal with these people chasing me. Will you help?\n",
    "\n",
    "\n",
    "\n",
    "\n",
    "Are you prepared for the shit that is coming?\n",
    "\n",
    "\"\"\"\n",
    "\n",
    "markdown = Markdown(markdown_content)\n",
    "console.print(markdown)\n"
   ]
  },
  {
   "cell_type": "markdown",
   "metadata": {},
   "source": [
    "à̶̡̼͒̆I̸͓͎̙͌͝f̷̞̌̊ ̶̧̦̂̿͜y̵͕͚̜͝o̸̬̓̂̚ụ̷͔̄͠ ̴̨͈̮̒͝c̷̪̩͝h̶̡̟͂ȯ̶̢̪̯ȯ̶̹̹̮́̅s̶̖̽̓̚ȩ̴̫̠̔ ̷̛͚̜̔͋o̷̪̬͌̾n̵͕̳̮̒̊e̷̫̓ ̴̟͓̓ó̵̢͚̂f̵͓̈̒͛ ̶̯̋̈͆t̷͕̑̉h̵͖̭̉́̚ẹ̵͒͊͝m̸̜̍̒,̶̨͍̗͗ ̷̩̳̥̿w̶͓͒h̸̛̥̖̺͋͝ą̶̵̷̶̶̸̴̨̦̪̞̯̝̞̙̘͇̙̬̞͖̯̀͋̀͐̃̐́̾̐͋̀̉̀͐̕t̸͉͉͕̽͋̚ ̸̺͈̥̌͋ḩ̸̡̘̒͂̉a̵̮̺̒p̴̢̫͂̕̚ṕ̴̡ĕ̷̯̘n̵̞͚̓̌̇s̵̯̒͗̎ ̸̢͇̩̉̓͝t̴̡̰̦͐ô̴̮̼̊͘ ̶̲͈̓̑͜t̷̟̕ḥ̴̙̏e̶̙̽̚ ̸̧̍͘ó̷͈̻͋t̶̼͓̮́ḧ̸̙̮́̆͝e̸̡̅͋͠ͅr̶̬̠̅͂̎?̶̰̀͂͠\n"
   ]
  },
  {
   "cell_type": "markdown",
   "metadata": {},
   "source": [
    "If you choose one of them, what happens to the other?"
   ]
  },
  {
   "cell_type": "markdown",
   "metadata": {},
   "source": [
    "Influence over *those* who follow *you*, but it also influences others to stab you in the back.\n",
    "They want me dead! I don't have any value to them anymore, but I managed to escape before they came for me.\n",
    "However, they are catching up to me, it looks like they are skilled trackers.\n",
    "A stream flows into the nearby river, at that point I've hid a chest under a huge boulder, if you help me,\n",
    "you can have it's contents, but first you have to help me kill these fuckers!"
   ]
  }
 ],
 "metadata": {
  "kernelspec": {
   "display_name": "base",
   "language": "python",
   "name": "python3"
  },
  "language_info": {
   "codemirror_mode": {
    "name": "ipython",
    "version": 3
   },
   "file_extension": ".py",
   "mimetype": "text/x-python",
   "name": "python",
   "nbconvert_exporter": "python",
   "pygments_lexer": "ipython3",
   "version": "3.11.5"
  }
 },
 "nbformat": 4,
 "nbformat_minor": 2
}
