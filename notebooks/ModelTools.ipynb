{
 "cells": [
  {
   "cell_type": "markdown",
   "metadata": {},
   "source": [
    "# Rename models to all lowercase letters\n",
    "----\n",
    "\n",
    " This 🐍 script recursively traverses the specified directory (E:\\!MODELS) and its subdirectories, converting every uppercase character in each file's name to lowercase."
   ]
  },
  {
   "cell_type": "code",
   "execution_count": null,
   "metadata": {},
   "outputs": [],
   "source": [
    "import os\n",
    "import time\n",
    "\n",
    "# Define the root directory\n",
    "root_directory = r'E:\\!MODELS'\n",
    "\n",
    "# Function to rename files to lowercase in a given directory\n",
    "def rename_to_lowercase(directory):\n",
    "    for dirpath, dirnames, filenames in os.walk(directory):\n",
    "        for filename in filenames:\n",
    "            old_path = os.path.join(dirpath, filename)\n",
    "            new_filename = filename.lower()\n",
    "            new_path = os.path.join(dirpath, new_filename)\n",
    "            \n",
    "            # Add a loop to retry renaming after a short delay if the file is in use\n",
    "            max_retries = 3\n",
    "            for attempt in range(max_retries):\n",
    "                try:\n",
    "                    os.rename(old_path, new_path)\n",
    "                    print(f\"Renamed file: {old_path} to {new_path}\")\n",
    "                    break\n",
    "                except PermissionError:\n",
    "                    print(f\"Permission error: {old_path}. Retrying after 1 second.\")\n",
    "                    time.sleep(1)\n",
    "            else:\n",
    "                print(f\"Failed to rename file: {old_path}. Skipped after {max_retries} attempts.\")\n",
    "\n",
    "# Start the renaming process\n",
    "print(f\"Renaming files to lowercase in directory: {root_directory}\")\n",
    "rename_to_lowercase(root_directory)\n",
    "print(\"Renaming complete.\")"
   ]
  },
  {
   "cell_type": "markdown",
   "metadata": {},
   "source": [
    "# Rename models from _ to -\n",
    "----\n",
    "This 🐍 script replaces underscores with hyphens in the file names of all files within the specified directory and its subdirectories, handling permission errors with retries and providing informative messages for each renaming operation."
   ]
  },
  {
   "cell_type": "code",
   "execution_count": null,
   "metadata": {},
   "outputs": [],
   "source": [
    "import os\n",
    "import time\n",
    "\n",
    "# Define the root directory\n",
    "root_directory = r'E:\\!MODELS'\n",
    "\n",
    "# Function to rename files by replacing underscores with hyphens\n",
    "def replace_underscore_with_hyphen(directory):\n",
    "    for dirpath, dirnames, filenames in os.walk(directory):\n",
    "        for filename in filenames:\n",
    "            old_path = os.path.join(dirpath, filename)\n",
    "            new_filename = filename.replace('_', '-')\n",
    "            new_path = os.path.join(dirpath, new_filename)\n",
    "            \n",
    "            # Add a loop to retry renaming after a short delay if the file is in use\n",
    "            max_retries = 3\n",
    "            for attempt in range(max_retries):\n",
    "                try:\n",
    "                    os.rename(old_path, new_path)\n",
    "                    print(f\"Renamed file: {old_path} to {new_path}\")\n",
    "                    break\n",
    "                except PermissionError:\n",
    "                    print(f\"Permission error: {old_path}. Retrying after 1 second.\")\n",
    "                    time.sleep(1)\n",
    "            else:\n",
    "                print(f\"Failed to rename file: {old_path}. Skipped after {max_retries} attempts.\")\n",
    "\n",
    "# Start the renaming process\n",
    "print(f\"Replacing underscores with hyphens in file names in directory: {root_directory}\")\n",
    "replace_underscore_with_hyphen(root_directory)\n",
    "print(\"Renaming complete.\")"
   ]
  },
  {
   "cell_type": "markdown",
   "metadata": {},
   "source": [
    "# Remove all .git directories\n",
    "----\n",
    "This 🐍 script removes all .git directories in the specified root directory and its subdirectories, printing messages for each successful removal operation."
   ]
  },
  {
   "cell_type": "code",
   "execution_count": null,
   "metadata": {},
   "outputs": [],
   "source": [
    "import os\n",
    "import shutil\n",
    "\n",
    "# Define the root directory\n",
    "root_directory = r'E:\\!MODELS'\n",
    "\n",
    "# Function to remove all .git directories in the root directory and its subdirectories\n",
    "def remove_git_directories(directory):\n",
    "    for dirpath, dirnames, filenames in os.walk(directory):\n",
    "        for dirname in dirnames:\n",
    "            if dirname.lower() == '.git':\n",
    "                git_dir = os.path.join(dirpath, dirname)\n",
    "                try:\n",
    "                    shutil.rmtree(git_dir)\n",
    "                    print(f\"Removed .git directory: {git_dir}\")\n",
    "                except PermissionError:\n",
    "                    print(f\"Permission error: {git_dir}. Skipping removal.\")\n",
    "\n",
    "# Start the removal process\n",
    "print(f\"Removing .git directories in directory: {root_directory}\")\n",
    "remove_git_directories(root_directory)\n",
    "print(\".git directory removal complete.\")"
   ]
  }
 ],
 "metadata": {
  "kernelspec": {
   "display_name": "base",
   "language": "python",
   "name": "python3"
  },
  "language_info": {
   "codemirror_mode": {
    "name": "ipython",
    "version": 3
   },
   "file_extension": ".py",
   "mimetype": "text/x-python",
   "name": "python",
   "nbconvert_exporter": "python",
   "pygments_lexer": "ipython3",
   "version": "3.11.5"
  }
 },
 "nbformat": 4,
 "nbformat_minor": 2
}
