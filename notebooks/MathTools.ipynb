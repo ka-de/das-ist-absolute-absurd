{
 "cells": [
  {
   "cell_type": "markdown",
   "metadata": {},
   "source": [
    "# MathTools\n",
    "----"
   ]
  },
  {
   "cell_type": "code",
   "execution_count": 1,
   "metadata": {},
   "outputs": [
    {
     "data": {
      "application/vnd.jupyter.widget-view+json": {
       "model_id": "49c5774d3ee74d38b041c8c86a530f92",
       "version_major": 2,
       "version_minor": 0
      },
      "text/plain": [
       "IntSlider(value=1504, description='Width:', max=3000, min=1)"
      ]
     },
     "metadata": {},
     "output_type": "display_data"
    },
    {
     "data": {
      "application/vnd.jupyter.widget-view+json": {
       "model_id": "15c98c8428514ad7afeba37b524dcf23",
       "version_major": 2,
       "version_minor": 0
      },
      "text/plain": [
       "IntSlider(value=1504, description='Height:', max=3000, min=1)"
      ]
     },
     "metadata": {},
     "output_type": "display_data"
    },
    {
     "data": {
      "application/vnd.jupyter.widget-view+json": {
       "model_id": "fe53db83f40a435b835ec50ceae85906",
       "version_major": 2,
       "version_minor": 0
      },
      "text/plain": [
       "Label(value='Resolution: 1504 x 1504')"
      ]
     },
     "metadata": {},
     "output_type": "display_data"
    },
    {
     "data": {
      "application/vnd.jupyter.widget-view+json": {
       "model_id": "a0c53a2408bc4c7bb2d9fd2195be1125",
       "version_major": 2,
       "version_minor": 0
      },
      "text/plain": [
       "Label(value='Aspect Ratio: 4:3')"
      ]
     },
     "metadata": {},
     "output_type": "display_data"
    },
    {
     "data": {
      "application/vnd.jupyter.widget-view+json": {
       "model_id": "16de6d3fc96b44e4a4018f6bacb4f2da",
       "version_major": 2,
       "version_minor": 0
      },
      "text/plain": [
       "HTML(value=\"Pixels: 2,262,016 | Divisible by 8: <span style='color: green;'>True</span>\")"
      ]
     },
     "metadata": {},
     "output_type": "display_data"
    },
    {
     "data": {
      "application/vnd.jupyter.widget-view+json": {
       "model_id": "e7cdbb248a324080a7216e313db56bf4",
       "version_major": 2,
       "version_minor": 0
      },
      "text/plain": [
       "Button(description='%8==0', style=ButtonStyle())"
      ]
     },
     "metadata": {},
     "output_type": "display_data"
    }
   ],
   "source": [
    "import ipywidgets as widgets\n",
    "from IPython.display import display\n",
    "import math\n",
    "\n",
    "# Function to find the greatest common divisor\n",
    "def gcd(a, b):\n",
    "    while b:\n",
    "        a, b = b, a % b\n",
    "    return a\n",
    "\n",
    "# Function to update resolution and aspect ratio labels\n",
    "def update_resolution(change):\n",
    "    width = int(slider_width.value)\n",
    "    height = int(slider_height.value)\n",
    "    \n",
    "    # Calculate greatest common divisor for simplification\n",
    "    divisor = gcd(width, height)\n",
    "    \n",
    "    # Calculate simplified aspect ratio\n",
    "    aspect_ratio = f\"{width // divisor}:{height // divisor}\"\n",
    "    \n",
    "    # Check if the number of pixels is divisible by 8\n",
    "    is_divisible_by_8 = (width * height) % 8 == 0\n",
    "    \n",
    "    resolution_label.value = f\"Resolution: {width} x {height}\"\n",
    "    aspect_ratio_label.value = f\"Aspect Ratio: {aspect_ratio}\"\n",
    "    \n",
    "    # Display \"True\" in green and \"False\" in red using HTML\n",
    "    pixels_info.value = f\"Pixels: {width * height} | %8=0: <span style='color: {'green' if is_divisible_by_8 else 'red'};'>{is_divisible_by_8}</span>\"\n",
    "\n",
    "# Function to set the closest match making the total pixel count divisible by 8\n",
    "def set_divisible_by_8(change):\n",
    "    current_width = slider_width.value\n",
    "    current_height = slider_height.value\n",
    "    \n",
    "    # Find the closest match for width and height making the total pixel count divisible by 8\n",
    "    new_width = math.floor(current_width / 8) * 8\n",
    "    new_height = math.floor(current_height / 8) * 8\n",
    "    \n",
    "    slider_width.value = new_width\n",
    "    slider_height.value = new_height\n",
    "\n",
    "# Create sliders for width and height\n",
    "slider_width = widgets.IntSlider(value=1504, min=1, max=3000, step=1, description='Width:')\n",
    "slider_height = widgets.IntSlider(value=1504, min=1, max=3000, step=1, description='Height:')\n",
    "\n",
    "# Create labels to display current resolution and aspect ratio\n",
    "resolution_label = widgets.Label(value=\"Resolution: 1504 x 1504\")\n",
    "aspect_ratio_label = widgets.Label(value=\"Aspect Ratio: 4:3\")  # Default aspect ratio, you can adjust as needed\n",
    "\n",
    "# Create text field to display pixel information\n",
    "pixels_info = widgets.HTML(value=\"Pixels: 2,262,016 | Divisible by 8: <span style='color: green;'>True</span>\")\n",
    "\n",
    "# Create button to set the closest match making the total pixel count divisible by 8\n",
    "button_divisible_by_8 = widgets.Button(description='%8==0')\n",
    "button_divisible_by_8.on_click(set_divisible_by_8)\n",
    "\n",
    "# Link slider values to update function\n",
    "slider_width.observe(update_resolution, 'value')\n",
    "slider_height.observe(update_resolution, 'value')\n",
    "\n",
    "# Display widgets\n",
    "display(slider_width, slider_height, resolution_label, aspect_ratio_label, pixels_info, button_divisible_by_8)\n"
   ]
  },
  {
   "cell_type": "markdown",
   "metadata": {},
   "source": [
    "## Pythagoras Fuckery"
   ]
  },
  {
   "cell_type": "code",
   "execution_count": 2,
   "metadata": {},
   "outputs": [
    {
     "data": {
      "application/vnd.jupyter.widget-view+json": {
       "model_id": "7884a10bafcb4c43b67ecf6269d29aae",
       "version_major": 2,
       "version_minor": 0
      },
      "text/plain": [
       "VBox(children=(interactive(children=(FloatSlider(value=5.0, description='a_cm', min=1.0, step=1.0), FloatSlide…"
      ]
     },
     "metadata": {},
     "output_type": "display_data"
    }
   ],
   "source": [
    "import math\n",
    "import matplotlib.pyplot as plt\n",
    "from ipywidgets import interactive, Output, VBox\n",
    "import ipywidgets as widgets\n",
    "from IPython.display import display, clear_output\n",
    "\n",
    "def pythagorean_theorem_cm(a_cm, b_cm):\n",
    "    c_cm = math.sqrt(a_cm**2 + b_cm**2)\n",
    "    return c_cm\n",
    "\n",
    "# Define the output widget\n",
    "output = Output(layout={'height': 'auto', 'overflow': 'auto'})\n",
    "\n",
    "def plot_triangle(a_cm, b_cm):\n",
    "    plt.clf()  # Clear the current figure before plotting\n",
    "    c_cm = pythagorean_theorem_cm(a_cm, b_cm)\n",
    "\n",
    "    triangle_x = [0, 0, a_cm]\n",
    "    triangle_y = [0, b_cm, 0]\n",
    "\n",
    "    plt.plot(triangle_x, triangle_y, 'r-')\n",
    "    plt.text(a_cm / 2, -0.5, f'C = {c_cm:.2f} cm', fontsize=12, ha='center')\n",
    "\n",
    "    plt.axhline(0, color='black', linewidth=0.5)\n",
    "    plt.axvline(0, color='black', linewidth=0.5)\n",
    "    plt.xlabel('X axis (cm)')\n",
    "    plt.ylabel('Y axis (cm)')\n",
    "\n",
    "    plt.title('Right-angled Triangle')\n",
    "\n",
    "    plt.grid(color='gray', linestyle='--', linewidth=0.5)\n",
    "    plt.axis('equal')\n",
    "    plt.tight_layout(pad=2)  # Add padding to the layout\n",
    "\n",
    "    with output:\n",
    "        clear_output(wait=True)  # Clear the output completely\n",
    "        display(plt.gcf())  # Display the current figure\n",
    "\n",
    "# Use interactive widgets for input\n",
    "interactive_plot = interactive(plot_triangle, a_cm=widgets.FloatSlider(min=1, max=100, step=1, value=5),\n",
    "                                b_cm=widgets.FloatSlider(min=1, max=100, step=1, value=5))\n",
    "display(VBox([interactive_plot, output]))\n"
   ]
  },
  {
   "cell_type": "markdown",
   "metadata": {},
   "source": [
    "# Bézier my curves, bitch!"
   ]
  },
  {
   "cell_type": "code",
   "execution_count": 3,
   "metadata": {},
   "outputs": [
    {
     "data": {
      "application/vnd.jupyter.widget-view+json": {
       "model_id": "9b177407f27d4c99b373f2440519b02d",
       "version_major": 2,
       "version_minor": 0
      },
      "text/plain": [
       "interactive(children=(FloatSlider(value=0.0, description='X0', max=5.0, min=-5.0), FloatSlider(value=0.0, desc…"
      ]
     },
     "metadata": {},
     "output_type": "display_data"
    }
   ],
   "source": [
    "import matplotlib.pyplot as plt\n",
    "import numpy as np\n",
    "import ipywidgets as widgets\n",
    "from ipywidgets import interact\n",
    "\n",
    "def cubic_bezier(t, p0, p1, p2, p3):\n",
    "    \"\"\"\n",
    "    Calculate cubic Bezier curve at parameter t.\n",
    "    \"\"\"\n",
    "    return (1 - t)**3 * p0 + 3 * (1 - t)**2 * t * p1 + 3 * (1 - t) * t**2 * p2 + t**3 * p3\n",
    "\n",
    "def plot_bezier_curve(p0, p1, p2, p3):\n",
    "    \"\"\"\n",
    "    Plot cubic Bezier curve given control points.\n",
    "    \"\"\"\n",
    "    t_values = np.linspace(0, 1, 1000)\n",
    "    curve_points = [cubic_bezier(t, p0, p1, p2, p3) for t in t_values]\n",
    "\n",
    "    # Extract x and y coordinates for plotting\n",
    "    x_values, y_values = zip(*curve_points)\n",
    "\n",
    "    plt.plot(x_values, y_values, label='Cubic Bezier Curve', color='blue')\n",
    "    plt.scatter([p0[0], p1[0], p2[0], p3[0]], [p0[1], p1[1], p2[1], p3[1]], color='red', label='Control Points')\n",
    "    plt.title('Cubic Bezier Curve')\n",
    "    plt.xlabel('X-axis')\n",
    "    plt.ylabel('Y-axis')\n",
    "    plt.legend()\n",
    "    plt.grid(True)\n",
    "    plt.show()\n",
    "\n",
    "# Define initial control points\n",
    "initial_control_point_0 = np.array([0, 0])\n",
    "initial_control_point_1 = np.array([1, 2])\n",
    "initial_control_point_2 = np.array([3, 3])\n",
    "initial_control_point_3 = np.array([4, 1])\n",
    "\n",
    "# Create sliders for control points\n",
    "control_point_0_slider = widgets.FloatSlider(min=-5, max=5, step=0.1, value=initial_control_point_0[0], description='X0')\n",
    "control_point_1_slider = widgets.FloatSlider(min=-5, max=5, step=0.1, value=initial_control_point_0[1], description='Y0')\n",
    "control_point_2_slider = widgets.FloatSlider(min=-5, max=5, step=0.1, value=initial_control_point_1[0], description='X1')\n",
    "control_point_3_slider = widgets.FloatSlider(min=-5, max=5, step=0.1, value=initial_control_point_1[1], description='Y1')\n",
    "control_point_4_slider = widgets.FloatSlider(min=-5, max=5, step=0.1, value=initial_control_point_2[0], description='X2')\n",
    "control_point_5_slider = widgets.FloatSlider(min=-5, max=5, step=0.1, value=initial_control_point_2[1], description='Y2')\n",
    "control_point_6_slider = widgets.FloatSlider(min=-5, max=5, step=0.1, value=initial_control_point_3[0], description='X3')\n",
    "control_point_7_slider = widgets.FloatSlider(min=-5, max=5, step=0.1, value=initial_control_point_3[1], description='Y3')\n",
    "\n",
    "# Define interactive function\n",
    "@interact(x0=control_point_0_slider, y0=control_point_1_slider,\n",
    "          x1=control_point_2_slider, y1=control_point_3_slider,\n",
    "          x2=control_point_4_slider, y2=control_point_5_slider,\n",
    "          x3=control_point_6_slider, y3=control_point_7_slider)\n",
    "def update_curve(x0, y0, x1, y1, x2, y2, x3, y3):\n",
    "    control_point_0 = np.array([x0, y0])\n",
    "    control_point_1 = np.array([x1, y1])\n",
    "    control_point_2 = np.array([x2, y2])\n",
    "    control_point_3 = np.array([x3, y3])\n",
    "\n",
    "    plot_bezier_curve(control_point_0, control_point_1, control_point_2, control_point_3)\n"
   ]
  },
  {
   "cell_type": "code",
   "execution_count": 6,
   "metadata": {},
   "outputs": [
    {
     "data": {
      "application/vnd.jupyter.widget-view+json": {
       "model_id": "82c35820868c47758777b7898cb5e615",
       "version_major": 2,
       "version_minor": 0
      },
      "text/plain": [
       "interactive(children=(FloatSlider(value=0.0, description='X0', max=5.0, min=-5.0), FloatSlider(value=0.0, desc…"
      ]
     },
     "metadata": {},
     "output_type": "display_data"
    }
   ],
   "source": [
    "import matplotlib.pyplot as plt\n",
    "import numpy as np\n",
    "from ipywidgets import interactive, FloatSlider\n",
    "from IPython.display import display\n",
    "\n",
    "def quadratic_bezier(t, p0, p1, p2):\n",
    "    return (1 - t)**2 * p0 + 2 * (1 - t) * t * p1 + t**2 * p2\n",
    "\n",
    "def plot_quadratic_bezier(p0, p1, p2):\n",
    "    t_values = np.linspace(0, 1, 1000)\n",
    "    curve_points = [quadratic_bezier(t, p0, p1, p2) for t in t_values]\n",
    "\n",
    "    x_values, y_values = zip(*curve_points)\n",
    "\n",
    "    plt.plot(x_values, y_values, label='Quadratic Bézier Curve', color='blue')\n",
    "    plt.scatter([p0[0], p1[0], p2[0]], [p0[1], p1[1], p2[1]], color='red', label='Control Points')\n",
    "    plt.title('Quadratic Bézier Curve')\n",
    "    plt.xlabel('X-axis')\n",
    "    plt.ylabel('Y-axis')\n",
    "    plt.legend()\n",
    "    plt.grid(True)\n",
    "    plt.show()\n",
    "\n",
    "# Use interactive widgets for input\n",
    "initial_control_point_0 = np.array([0, 0])\n",
    "initial_control_point_1 = np.array([1, 2])\n",
    "initial_control_point_2 = np.array([3, 0])\n",
    "\n",
    "control_point_0_slider = FloatSlider(min=-5, max=5, step=0.1, value=initial_control_point_0[0], description='X0')\n",
    "control_point_1_slider = FloatSlider(min=-5, max=5, step=0.1, value=initial_control_point_0[1], description='Y0')\n",
    "control_point_2_slider = FloatSlider(min=-5, max=5, step=0.1, value=initial_control_point_1[0], description='X1')\n",
    "control_point_3_slider = FloatSlider(min=-5, max=5, step=0.1, value=initial_control_point_1[1], description='Y1')\n",
    "control_point_4_slider = FloatSlider(min=-5, max=5, step=0.1, value=initial_control_point_2[0], description='X2')\n",
    "control_point_5_slider = FloatSlider(min=-5, max=5, step=0.1, value=initial_control_point_2[1], description='Y2')\n",
    "\n",
    "# Define interactive function\n",
    "def update_curve(x0, y0, x1, y1, x2, y2):\n",
    "    control_point_0 = np.array([x0, y0])\n",
    "    control_point_1 = np.array([x1, y1])\n",
    "    control_point_2 = np.array([x2, y2])\n",
    "\n",
    "    plot_quadratic_bezier(control_point_0, control_point_1, control_point_2)\n",
    "\n",
    "# Display sliders and initial plot\n",
    "interactive_plot = interactive(update_curve,\n",
    "                                x0=control_point_0_slider, y0=control_point_1_slider,\n",
    "                                x1=control_point_2_slider, y1=control_point_3_slider,\n",
    "                                x2=control_point_4_slider, y2=control_point_5_slider)\n",
    "\n",
    "display(interactive_plot)\n"
   ]
  },
  {
   "cell_type": "code",
   "execution_count": 4,
   "metadata": {},
   "outputs": [
    {
     "data": {
      "application/vnd.jupyter.widget-view+json": {
       "model_id": "0d6c1d554d7f47359d827be27e774e43",
       "version_major": 2,
       "version_minor": 0
      },
      "text/plain": [
       "interactive(children=(FloatSlider(value=0.0, description='X0', max=5.0, min=-5.0), FloatSlider(value=0.0, desc…"
      ]
     },
     "metadata": {},
     "output_type": "display_data"
    }
   ],
   "source": [
    "import matplotlib.pyplot as plt\n",
    "import numpy as np\n",
    "from ipywidgets import interactive, FloatSlider\n",
    "from IPython.display import display\n",
    "\n",
    "def rational_quadratic_bezier(t, p0, p1, p2, w0, w1, w2):\n",
    "    numerator = (1 - t)**2 * w0 * p0 + 2 * (1 - t) * t * w1 * p1 + t**2 * w2 * p2\n",
    "    denominator = (1 - t)**2 * w0 + 2 * (1 - t) * t * w1 + t**2 * w2\n",
    "    return numerator / denominator\n",
    "\n",
    "def plot_rational_quadratic_bezier(p0, p1, p2, w0, w1, w2):\n",
    "    t_values = np.linspace(0, 1, 1000)\n",
    "    curve_points = [rational_quadratic_bezier(t, p0, p1, p2, w0, w1, w2) for t in t_values]\n",
    "\n",
    "    x_values, y_values = zip(*curve_points)\n",
    "\n",
    "    plt.plot(x_values, y_values, label='Rational Quadratic Bézier Curve', color='blue')\n",
    "    plt.scatter([p0[0], p1[0], p2[0]], [p0[1], p1[1], p2[1]], color='red', label='Control Points')\n",
    "    plt.title('Rational Quadratic Bézier Curve')\n",
    "    plt.xlabel('X-axis')\n",
    "    plt.ylabel('Y-axis')\n",
    "    plt.legend()\n",
    "    plt.grid(True)\n",
    "    plt.show()\n",
    "\n",
    "# Use interactive widgets for input\n",
    "initial_control_point_0 = np.array([0, 0])\n",
    "initial_control_point_1 = np.array([1, 2])\n",
    "initial_control_point_2 = np.array([3, 0])\n",
    "initial_weights = np.array([1, 1, 1])\n",
    "\n",
    "control_point_0_slider = FloatSlider(min=-5, max=5, step=0.1, value=initial_control_point_0[0], description='X0')\n",
    "control_point_1_slider = FloatSlider(min=-5, max=5, step=0.1, value=initial_control_point_0[1], description='Y0')\n",
    "control_point_2_slider = FloatSlider(min=-5, max=5, step=0.1, value=initial_control_point_1[0], description='X1')\n",
    "control_point_3_slider = FloatSlider(min=-5, max=5, step=0.1, value=initial_control_point_1[1], description='Y1')\n",
    "control_point_4_slider = FloatSlider(min=-5, max=5, step=0.1, value=initial_control_point_2[0], description='X2')\n",
    "control_point_5_slider = FloatSlider(min=-5, max=5, step=0.1, value=initial_control_point_2[1], description='Y2')\n",
    "weight_0_slider = FloatSlider(min=0.1, max=5, step=0.1, value=initial_weights[0], description='W0')\n",
    "weight_1_slider = FloatSlider(min=0.1, max=5, step=0.1, value=initial_weights[1], description='W1')\n",
    "weight_2_slider = FloatSlider(min=0.1, max=5, step=0.1, value=initial_weights[2], description='W2')\n",
    "\n",
    "# Define interactive function\n",
    "def update_curve(x0, y0, x1, y1, x2, y2, w0, w1, w2):\n",
    "    control_point_0 = np.array([x0, y0])\n",
    "    control_point_1 = np.array([x1, y1])\n",
    "    control_point_2 = np.array([x2, y2])\n",
    "    weights = np.array([w0, w1, w2])\n",
    "\n",
    "    plot_rational_quadratic_bezier(control_point_0, control_point_1, control_point_2, *weights)\n",
    "\n",
    "# Display sliders and initial plot\n",
    "interactive_plot = interactive(update_curve,\n",
    "                                x0=control_point_0_slider, y0=control_point_1_slider,\n",
    "                                x1=control_point_2_slider, y1=control_point_3_slider,\n",
    "                                x2=control_point_4_slider, y2=control_point_5_slider,\n",
    "                                w0=weight_0_slider, w1=weight_1_slider, w2=weight_2_slider)\n",
    "\n",
    "display(interactive_plot)\n"
   ]
  },
  {
   "cell_type": "code",
   "execution_count": 5,
   "metadata": {},
   "outputs": [
    {
     "data": {
      "application/vnd.jupyter.widget-view+json": {
       "model_id": "a25316e61b18420da483bdd201befc07",
       "version_major": 2,
       "version_minor": 0
      },
      "text/plain": [
       "VBox(children=(FloatSlider(value=0.0, description='Smoothness:', max=10.0), IntSlider(value=2, description='De…"
      ]
     },
     "metadata": {},
     "output_type": "display_data"
    }
   ],
   "source": [
    "import numpy as np\n",
    "from scipy.interpolate import splprep, splev\n",
    "import ipywidgets as widgets\n",
    "from IPython.display import display, clear_output\n",
    "import matplotlib.pyplot as plt\n",
    "\n",
    "# Initial control points\n",
    "t = np.linspace(0, 2 * np.pi, 10)\n",
    "x_initial = np.cos(t)\n",
    "y_initial = np.sin(t)\n",
    "\n",
    "# Fit a NURBS curve\n",
    "tck, u = splprep([x_initial, y_initial], k=2, s=0)\n",
    "u_new = np.linspace(0, 1, 1000)\n",
    "curve_points = splev(u_new, tck)\n",
    "\n",
    "# Create widgets for adjusting the NURBS curve and control points\n",
    "def update_nurbs_curve(smoothness, degree, **control_points):\n",
    "    control_points_array = np.array([control_points[f'control_point_{i+1}'] for i in range(len(control_points))]).reshape(2, -1)\n",
    "    tck, u = splprep(control_points_array, k=degree, s=smoothness)\n",
    "    u_new = np.linspace(0, 1, 1000)\n",
    "    curve_points = splev(u_new, tck)\n",
    "\n",
    "    # Update the plot\n",
    "    plt.clf()\n",
    "    plt.plot(control_points_array[0], control_points_array[1], 'ro', label='Control Points')\n",
    "    plt.plot(curve_points[0], curve_points[1], 'b-', label='NURBS Curve')\n",
    "    plt.legend()\n",
    "    plt.title('NURBS Curve with Control Points')\n",
    "    plt.xlabel('X-axis')\n",
    "    plt.ylabel('Y-axis')\n",
    "    plt.show()\n",
    "\n",
    "# Define interactive widgets\n",
    "smoothness_slider = widgets.FloatSlider(value=0, min=0, max=10, step=0.1, description='Smoothness:')\n",
    "degree_slider = widgets.IntSlider(value=2, min=1, max=5, description='Degree:')\n",
    "\n",
    "# Create input widgets for control points\n",
    "control_point_widgets = [widgets.FloatSlider(value=coord, min=-1, max=1, step=0.1, description=f'Point {i+1}') \n",
    "                         for i, coord in enumerate(np.concatenate([x_initial, y_initial]))]\n",
    "\n",
    "# Create an interactive output\n",
    "interactive_output = widgets.interactive_output(update_nurbs_curve, \n",
    "                                                {'smoothness': smoothness_slider, 'degree': degree_slider,\n",
    "                                                 **{f'control_point_{i+1}': widget for i, widget in enumerate(control_point_widgets)}})\n",
    "\n",
    "# Display widgets and plot\n",
    "display(widgets.VBox([smoothness_slider, degree_slider, *control_point_widgets, interactive_output]))\n"
   ]
  }
 ],
 "metadata": {
  "kernelspec": {
   "display_name": "base",
   "language": "python",
   "name": "python3"
  },
  "language_info": {
   "codemirror_mode": {
    "name": "ipython",
    "version": 3
   },
   "file_extension": ".py",
   "mimetype": "text/x-python",
   "name": "python",
   "nbconvert_exporter": "python",
   "pygments_lexer": "ipython3",
   "version": "3.11.5"
  }
 },
 "nbformat": 4,
 "nbformat_minor": 2
}
