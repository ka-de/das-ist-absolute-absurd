{
 "cells": [
  {
   "cell_type": "markdown",
   "metadata": {},
   "source": [
    "# Training Directory Tools\n",
    "----\n",
    "\n",
    "This notebook contains all my magic I use to fiddle around with my datasets."
   ]
  },
  {
   "cell_type": "markdown",
   "metadata": {},
   "source": [
    "## Convert .webp to .png\n",
    "----\n",
    "\n",
    "This script converts all WebP images in a specified directory and its subdirectories to PNG format. It utilizes the `os` module to navigate through the directory structure and the `PIL` (Python Imaging Library) module's `Image` class to handle image processing. The function `convert_webp_to_png(directory)` takes a directory path as input, iterates through all files in that directory (including subdirectories), identifies WebP files based on their extension, converts them to PNG format, and saves the converted images in the same location. If conversion is successful, it also removes the original WebP files. If any errors occur during conversion, it prints an error message with details."
   ]
  },
  {
   "cell_type": "code",
   "execution_count": 1,
   "metadata": {},
   "outputs": [
    {
     "name": "stdout",
     "output_type": "stream",
     "text": [
      "Converted E:\\training_dir\\bunnypaws\\Aspekt.webp to E:\\training_dir\\bunnypaws\\Aspekt.png\n",
      "Converted E:\\training_dir\\bunnypaws\\BeckAndArco.webp to E:\\training_dir\\bunnypaws\\BeckAndArco.png\n",
      "Converted E:\\training_dir\\bunnypaws\\CAACAgEAAxUAAWDcC-RAMyhgCSdjHXALY3-AW04jAAJJAQACUzihRiT7YFrWoWOgIAQ.webp to E:\\training_dir\\bunnypaws\\CAACAgEAAxUAAWDcC-RAMyhgCSdjHXALY3-AW04jAAJJAQACUzihRiT7YFrWoWOgIAQ.png\n",
      "Converted E:\\training_dir\\bunnypaws\\CAACAgEAAxUAAWDcH6ECBkkGen9vu0nfz3nOhi4KAAKqAQACdX3pR00bYhmqsDSOIAQ.webp to E:\\training_dir\\bunnypaws\\CAACAgEAAxUAAWDcH6ECBkkGen9vu0nfz3nOhi4KAAKqAQACdX3pR00bYhmqsDSOIAQ.png\n",
      "Converted E:\\training_dir\\bunnypaws\\CAACAgEAAxUAAWDcH6EHLyrFVV6KDt_ehvaTqEvCAAIuAQACJLbhR4tj2fapsvIsIAQ.webp to E:\\training_dir\\bunnypaws\\CAACAgEAAxUAAWDcH6EHLyrFVV6KDt_ehvaTqEvCAAIuAQACJLbhR4tj2fapsvIsIAQ.png\n",
      "Converted E:\\training_dir\\bunnypaws\\CAACAgEAAxUAAWDcH6Fvhv_5o8LmW4VwvgvHplQuAAJcAQACwNToRrdQ2H_0JmXkIAQ.webp to E:\\training_dir\\bunnypaws\\CAACAgEAAxUAAWDcH6Fvhv_5o8LmW4VwvgvHplQuAAJcAQACwNToRrdQ2H_0JmXkIAQ.png\n",
      "Converted E:\\training_dir\\bunnypaws\\CAACAgEAAxUAAWDcH6FXpV9s5T9aqYxdwsq2CHK-AAJHAQAC9l3pRpKFNSJYMQzMIAQ.webp to E:\\training_dir\\bunnypaws\\CAACAgEAAxUAAWDcH6FXpV9s5T9aqYxdwsq2CHK-AAJHAQAC9l3pRpKFNSJYMQzMIAQ.png\n",
      "Converted E:\\training_dir\\bunnypaws\\CAACAgEAAxUAAWDcH6Gmc5IRiZOcEodSJMvwByT-AAJpAQACM3_oRttoMTyEb6hiIAQ.webp to E:\\training_dir\\bunnypaws\\CAACAgEAAxUAAWDcH6Gmc5IRiZOcEodSJMvwByT-AAJpAQACM3_oRttoMTyEb6hiIAQ.png\n",
      "Converted E:\\training_dir\\bunnypaws\\CAACAgEAAxUAAWDcH6GPof0niWcvLa18a0an3y7pAAL2AAOhC0BHtJ4uQOzams0gBA.webp to E:\\training_dir\\bunnypaws\\CAACAgEAAxUAAWDcH6GPof0niWcvLa18a0an3y7pAAL2AAOhC0BHtJ4uQOzams0gBA.png\n",
      "Converted E:\\training_dir\\bunnypaws\\CAACAgEAAxUAAWDcH6HJlQro8jRi6YhljooQxaVAAAJNAQACqIzoRlkjbJYGu5L1IAQ.webp to E:\\training_dir\\bunnypaws\\CAACAgEAAxUAAWDcH6HJlQro8jRi6YhljooQxaVAAAJNAQACqIzoRlkjbJYGu5L1IAQ.png\n",
      "Converted E:\\training_dir\\bunnypaws\\CAACAgEAAxUAAWDcH6HX3_yt4_sdkAMPDE-8j57HAAJXAQAC5tjpRp4WfYQ82fHQIAQ.webp to E:\\training_dir\\bunnypaws\\CAACAgEAAxUAAWDcH6HX3_yt4_sdkAMPDE-8j57HAAJXAQAC5tjpRp4WfYQ82fHQIAQ.png\n",
      "Converted E:\\training_dir\\bunnypaws\\CAACAgEAAxUAAWDR3f-rfzg3uLDp_UQtPzdCFBr8AAIyAAPjPnQj9X5nrJxfBBYfBA.webp to E:\\training_dir\\bunnypaws\\CAACAgEAAxUAAWDR3f-rfzg3uLDp_UQtPzdCFBr8AAIyAAPjPnQj9X5nrJxfBBYfBA.png\n",
      "Converted E:\\training_dir\\bunnypaws\\CAACAgEAAxUAAWDR3f8YhZGGB5a4jn0OsZ_DDsdCAAIuAAPjPnQjYmocomYgQs4fBA.webp to E:\\training_dir\\bunnypaws\\CAACAgEAAxUAAWDR3f8YhZGGB5a4jn0OsZ_DDsdCAAIuAAPjPnQjYmocomYgQs4fBA.png\n",
      "Converted E:\\training_dir\\bunnypaws\\CAACAgEAAxUAAWDR3f_mt1pICh0kkMEChTL4tLB2AAIzAAPjPnQjWkMrcKIhxuMfBA.webp to E:\\training_dir\\bunnypaws\\CAACAgEAAxUAAWDR3f_mt1pICh0kkMEChTL4tLB2AAIzAAPjPnQjWkMrcKIhxuMfBA.png\n",
      "Converted E:\\training_dir\\bunnypaws\\CAACAgEAAxUAAWDTdOdajTYAAUlMeSk7xoVlEghmEgACPgADvpG7CZ17P6Aj_cp5HwQ.webp to E:\\training_dir\\bunnypaws\\CAACAgEAAxUAAWDTdOdajTYAAUlMeSk7xoVlEghmEgACPgADvpG7CZ17P6Aj_cp5HwQ.png\n",
      "Converted E:\\training_dir\\bunnypaws\\CAACAgEAAxUAAWE7Bh6hnbi6iq43f-cvDzt6v91NAAJsAQAC6Ql0JFsPeucxX9A1IAQ.webp to E:\\training_dir\\bunnypaws\\CAACAgEAAxUAAWE7Bh6hnbi6iq43f-cvDzt6v91NAAJsAQAC6Ql0JFsPeucxX9A1IAQ.png\n",
      "Converted E:\\training_dir\\bunnypaws\\CAACAgEAAxUAAWE7Bh6MR2e4JOInqY_QO1mVzx-xAAIMAgAC6Ql0JGmAQvmx1LW5IAQ.webp to E:\\training_dir\\bunnypaws\\CAACAgEAAxUAAWE7Bh6MR2e4JOInqY_QO1mVzx-xAAIMAgAC6Ql0JGmAQvmx1LW5IAQ.png\n",
      "Converted E:\\training_dir\\bunnypaws\\CAACAgEAAxUAAWE7Bh7pmyQ4Fv_x9MDW_uBvuyFdAAJtAQAC6Ql0JG7FX_thTUBLIAQ.webp to E:\\training_dir\\bunnypaws\\CAACAgEAAxUAAWE7Bh7pmyQ4Fv_x9MDW_uBvuyFdAAJtAQAC6Ql0JG7FX_thTUBLIAQ.png\n",
      "Converted E:\\training_dir\\bunnypaws\\CAACAgEAAxUAAWE7Bh7RX2H0FVS6o2ik9QzmJNPjAAINAgAC6Ql0JMKM1j9yWCR-IAQ.webp to E:\\training_dir\\bunnypaws\\CAACAgEAAxUAAWE7Bh7RX2H0FVS6o2ik9QzmJNPjAAINAgAC6Ql0JMKM1j9yWCR-IAQ.png\n",
      "Converted E:\\training_dir\\bunnypaws\\CAACAgEAAxUAAWFH7AE5-fdbrERFOhnYrvSt6t3gAAJ_AQAC3qPwR-zE0ZrxvEzlIAQ.webp to E:\\training_dir\\bunnypaws\\CAACAgEAAxUAAWFH7AE5-fdbrERFOhnYrvSt6t3gAAJ_AQAC3qPwR-zE0ZrxvEzlIAQ.png\n",
      "Converted E:\\training_dir\\bunnypaws\\CAACAgEAAxUAAWFH7AErFp00iaunAQiPzQ2FvQSPAALJAQACtX_xR_bgUCZs2Ww8IAQ.webp to E:\\training_dir\\bunnypaws\\CAACAgEAAxUAAWFH7AErFp00iaunAQiPzQ2FvQSPAALJAQACtX_xR_bgUCZs2Ww8IAQ.png\n",
      "Converted E:\\training_dir\\bunnypaws\\CAACAgEAAxUAAWFH7AEVH_buD5sQh1dhoQYJFtJyAAJ9AQACupnwRw-X4hKABjBBIAQ.webp to E:\\training_dir\\bunnypaws\\CAACAgEAAxUAAWFH7AEVH_buD5sQh1dhoQYJFtJyAAJ9AQACupnwRw-X4hKABjBBIAQ.png\n",
      "Converted E:\\training_dir\\bunnypaws\\CAACAgEAAxUAAWFH7AFfM6KTyVyTFtwmye6h8_oMAAI2AgACeCTxRyi-wCqjZBH5IAQ.webp to E:\\training_dir\\bunnypaws\\CAACAgEAAxUAAWFH7AFfM6KTyVyTFtwmye6h8_oMAAI2AgACeCTxRyi-wCqjZBH5IAQ.png\n",
      "Converted E:\\training_dir\\bunnypaws\\CAACAgEAAxUAAWFH7AGAVBONYcuqhHTWGsYgnCZSAAJDAQACsk_5R2ygKezbUBTCIAQ.webp to E:\\training_dir\\bunnypaws\\CAACAgEAAxUAAWFH7AGAVBONYcuqhHTWGsYgnCZSAAJDAQACsk_5R2ygKezbUBTCIAQ.png\n",
      "Converted E:\\training_dir\\bunnypaws\\CAACAgEAAxUAAWFH7AGgRDccu4nX57fVOMps8Zs_AAJIAgACDxjxR4d-wYqkYks2IAQ.webp to E:\\training_dir\\bunnypaws\\CAACAgEAAxUAAWFH7AGgRDccu4nX57fVOMps8Zs_AAJIAgACDxjxR4d-wYqkYks2IAQ.png\n",
      "Converted E:\\training_dir\\bunnypaws\\CAACAgEAAxUAAWFH7AGuUyY6zTKHxCYk-GQfMJsSAALxAQAC0nDxRz97_4_z3n2XIAQ.webp to E:\\training_dir\\bunnypaws\\CAACAgEAAxUAAWFH7AGuUyY6zTKHxCYk-GQfMJsSAALxAQAC0nDxRz97_4_z3n2XIAQ.png\n",
      "Converted E:\\training_dir\\bunnypaws\\CAACAgEAAxUAAWFIIWUF8dAjrT_wHknzD4gy7lxlAAIrAAO4BXszgWlJ6HHmI48gBA.webp to E:\\training_dir\\bunnypaws\\CAACAgEAAxUAAWFIIWUF8dAjrT_wHknzD4gy7lxlAAIrAAO4BXszgWlJ6HHmI48gBA.png\n",
      "Converted E:\\training_dir\\bunnypaws\\CAACAgEAAxUAAWFIIWUT0gSlfYG9D4K5NAw2w4wMAALrAQACZhLZRMAOgnhxF_tXIAQ.webp to E:\\training_dir\\bunnypaws\\CAACAgEAAxUAAWFIIWUT0gSlfYG9D4K5NAw2w4wMAALrAQACZhLZRMAOgnhxF_tXIAQ.png\n",
      "Converted E:\\training_dir\\bunnypaws\\CAACAgEAAxUAAWFIIWWMoXbpGA3AqCR6S9tZJyFSAALXAQAClXH4RdJA0iyIoKHdIAQ.webp to E:\\training_dir\\bunnypaws\\CAACAgEAAxUAAWFIIWWMoXbpGA3AqCR6S9tZJyFSAALXAQAClXH4RdJA0iyIoKHdIAQ.png\n",
      "Converted E:\\training_dir\\bunnypaws\\CAACAgEAAxUAAWHM1d8nUpvZyMQ1Jks3oansJJy_AAKdAQACLHkxR78fw7vrv1wQIwQ.webp to E:\\training_dir\\bunnypaws\\CAACAgEAAxUAAWHM1d8nUpvZyMQ1Jks3oansJJy_AAKdAQACLHkxR78fw7vrv1wQIwQ.png\n",
      "Converted E:\\training_dir\\bunnypaws\\CAACAgEAAxUAAWHM1d8xHjkSHq8Njr9Bl6RwEm-lAAI-AgAC4tY5R-GNIJrpVBqDIwQ.webp to E:\\training_dir\\bunnypaws\\CAACAgEAAxUAAWHM1d8xHjkSHq8Njr9Bl6RwEm-lAAI-AgAC4tY5R-GNIJrpVBqDIwQ.png\n",
      "Converted E:\\training_dir\\bunnypaws\\CAACAgEAAxUAAWHM1d9KRMOUqsVvyGtYf-4_o4BqAAJ4AQACD-QwR6uootqbwnGhIwQ.webp to E:\\training_dir\\bunnypaws\\CAACAgEAAxUAAWHM1d9KRMOUqsVvyGtYf-4_o4BqAAJ4AQACD-QwR6uootqbwnGhIwQ.png\n",
      "Converted E:\\training_dir\\bunnypaws\\CAACAgEAAxUAAWKLulEDomzz_AO4sENSAvEO4uM9AAITAAPAQ0hMH6XFXs4QrqUkBA.webp to E:\\training_dir\\bunnypaws\\CAACAgEAAxUAAWKLulEDomzz_AO4sENSAvEO4uM9AAITAAPAQ0hMH6XFXs4QrqUkBA.png\n",
      "Converted E:\\training_dir\\bunnypaws\\CAACAgEAAxUAAWKLulEIhmGfRbGYAUqY_aq9aokKAAIRAAMpB0lMKeRIY9hVeHokBA.webp to E:\\training_dir\\bunnypaws\\CAACAgEAAxUAAWKLulEIhmGfRbGYAUqY_aq9aokKAAIRAAMpB0lMKeRIY9hVeHokBA.png\n",
      "Converted E:\\training_dir\\bunnypaws\\CAACAgEAAxUAAWKLulEJGQSJ7Wo_bc2-bsBCggv1AAIMAAMkWkhMYPzqP_9bLi4kBA.webp to E:\\training_dir\\bunnypaws\\CAACAgEAAxUAAWKLulEJGQSJ7Wo_bc2-bsBCggv1AAIMAAMkWkhMYPzqP_9bLi4kBA.png\n",
      "Converted E:\\training_dir\\bunnypaws\\CAACAgEAAxUAAWKLulElp4EF5yTSuHON-a9iu0aAAAIFAAOL4klM5mySPnwOhcckBA.webp to E:\\training_dir\\bunnypaws\\CAACAgEAAxUAAWKLulElp4EF5yTSuHON-a9iu0aAAAIFAAOL4klM5mySPnwOhcckBA.png\n",
      "Converted E:\\training_dir\\bunnypaws\\CAACAgEAAxUAAWKLulF41LGfQvZv-pYHC5cc0iImAAIIAAMNC0FM4VZWfzgAAaqlJAQ.webp to E:\\training_dir\\bunnypaws\\CAACAgEAAxUAAWKLulF41LGfQvZv-pYHC5cc0iImAAIIAAMNC0FM4VZWfzgAAaqlJAQ.png\n",
      "Converted E:\\training_dir\\bunnypaws\\CAACAgEAAxUAAWKLulFc8KhqegZI1C6A4_PRsAj9AAICAANwM0BMmxu7Bhu1KMIkBA.webp to E:\\training_dir\\bunnypaws\\CAACAgEAAxUAAWKLulFc8KhqegZI1C6A4_PRsAj9AAICAANwM0BMmxu7Bhu1KMIkBA.png\n",
      "Converted E:\\training_dir\\bunnypaws\\CAACAgEAAxUAAWKLulFRJkWqXNSqNmWJZbU7DTsdAAIGAAMj8UhMtIE6ogUD2tgkBA.webp to E:\\training_dir\\bunnypaws\\CAACAgEAAxUAAWKLulFRJkWqXNSqNmWJZbU7DTsdAAIGAAMj8UhMtIE6ogUD2tgkBA.png\n",
      "Converted E:\\training_dir\\bunnypaws\\CAACAgEAAxUAAWKLulG5NeloUVIROkLdma1HIAmRAAIGAAM9qEhMlF0Z9Hvp8t8kBA.webp to E:\\training_dir\\bunnypaws\\CAACAgEAAxUAAWKLulG5NeloUVIROkLdma1HIAmRAAIGAAM9qEhMlF0Z9Hvp8t8kBA.png\n",
      "Converted E:\\training_dir\\bunnypaws\\CAACAgEAAxUAAWKLulH1D_-JbhqSHmbfw3-A4l7WAAIOAANrNEhMfE4tst0nqFAkBA.webp to E:\\training_dir\\bunnypaws\\CAACAgEAAxUAAWKLulH1D_-JbhqSHmbfw3-A4l7WAAIOAANrNEhMfE4tst0nqFAkBA.png\n",
      "Converted E:\\training_dir\\bunnypaws\\CAACAgEAAxUAAWKLulHt3toF2ErX2NgldtFsJReHAAIYAAOXI0lMBJXEJboVDH4kBA.webp to E:\\training_dir\\bunnypaws\\CAACAgEAAxUAAWKLulHt3toF2ErX2NgldtFsJReHAAIYAAOXI0lMBJXEJboVDH4kBA.png\n",
      "Converted E:\\training_dir\\bunnypaws\\CAACAgEAAxUAAWKS9EavJJ9PvUHieykK4sycGCHBAAJ0AQACDqIYRygL9mwg4NnWJAQ.webp to E:\\training_dir\\bunnypaws\\CAACAgEAAxUAAWKS9EavJJ9PvUHieykK4sycGCHBAAJ0AQACDqIYRygL9mwg4NnWJAQ.png\n",
      "Converted E:\\training_dir\\bunnypaws\\CAACAgEAAxUAAWKS9EbunICCRgPt0MYm--wfpynNAAIQAwACXXUYR79eF_xK_xaaJAQ.webp to E:\\training_dir\\bunnypaws\\CAACAgEAAxUAAWKS9EbunICCRgPt0MYm--wfpynNAAIQAwACXXUYR79eF_xK_xaaJAQ.png\n",
      "Converted E:\\training_dir\\bunnypaws\\CAACAgEAAxUAAWORcb1_nbaWnk79Ya-Jlm1C2PlfAAKXBAACH16YR02CUN0j931bKwQ.webp to E:\\training_dir\\bunnypaws\\CAACAgEAAxUAAWORcb1_nbaWnk79Ya-Jlm1C2PlfAAKXBAACH16YR02CUN0j931bKwQ.png\n",
      "Converted E:\\training_dir\\bunnypaws\\CAACAgEAAxUAAWORcb2bT2w-zVDGAqMgaq1wcSOwAAK0AgACBNWQReqCVrN-uRQaKwQ.webp to E:\\training_dir\\bunnypaws\\CAACAgEAAxUAAWORcb2bT2w-zVDGAqMgaq1wcSOwAAK0AgACBNWQReqCVrN-uRQaKwQ.png\n",
      "Converted E:\\training_dir\\bunnypaws\\CAACAgEAAxUAAWORcb2UvreFl32oUeBwlZ9orsi5AAKaAQACxkLYRkZIjvPYFnCdKwQ.webp to E:\\training_dir\\bunnypaws\\CAACAgEAAxUAAWORcb2UvreFl32oUeBwlZ9orsi5AAKaAQACxkLYRkZIjvPYFnCdKwQ.png\n",
      "Converted E:\\training_dir\\bunnypaws\\CAACAgEAAxUAAWORcb3SCsMv9uX96KFkeMWxClq6AAIyAgACJVaZRWQsqXTWHku9KwQ.webp to E:\\training_dir\\bunnypaws\\CAACAgEAAxUAAWORcb3SCsMv9uX96KFkeMWxClq6AAIyAgACJVaZRWQsqXTWHku9KwQ.png\n",
      "Converted E:\\training_dir\\bunnypaws\\CAACAgEAAxUAAWP-kzUakCvjYfqmGy2zRFwIBOIJAAIDAwACSiqZRpqcR_GqSZXJLgQ.webp to E:\\training_dir\\bunnypaws\\CAACAgEAAxUAAWP-kzUakCvjYfqmGy2zRFwIBOIJAAIDAwACSiqZRpqcR_GqSZXJLgQ.png\n",
      "Converted E:\\training_dir\\bunnypaws\\CAACAgEAAxUAAWP-kzUnvo5IT27BTpK0HiM2OxR3AAKBAgACcJSYRj_SZHVTdIT-LgQ.webp to E:\\training_dir\\bunnypaws\\CAACAgEAAxUAAWP-kzUnvo5IT27BTpK0HiM2OxR3AAKBAgACcJSYRj_SZHVTdIT-LgQ.png\n",
      "Converted E:\\training_dir\\bunnypaws\\CAACAgEAAxUAAWP-kzVmCxyT4PC1eAOIN2Wf3ILQAALHAgACuruZRpdNc3dn240qLgQ.webp to E:\\training_dir\\bunnypaws\\CAACAgEAAxUAAWP-kzVmCxyT4PC1eAOIN2Wf3ILQAALHAgACuruZRpdNc3dn240qLgQ.png\n",
      "Converted E:\\training_dir\\bunnypaws\\CAACAgEAAxUAAWP-kzVTtzRwqjEMqQJyvkzq1W1gAAKxAgACu4CZRvBvxqACqpgaLgQ.webp to E:\\training_dir\\bunnypaws\\CAACAgEAAxUAAWP-kzVTtzRwqjEMqQJyvkzq1W1gAAKxAgACu4CZRvBvxqACqpgaLgQ.png\n",
      "Converted E:\\training_dir\\bunnypaws\\CAACAgEAAxUAAWP-kzVYUGwzWMr2x3TFD-Q0CHLbAALjAwACMmmgRm_DU36eh3XHLgQ.webp to E:\\training_dir\\bunnypaws\\CAACAgEAAxUAAWP-kzVYUGwzWMr2x3TFD-Q0CHLbAALjAwACMmmgRm_DU36eh3XHLgQ.png\n",
      "Converted E:\\training_dir\\bunnypaws\\CAACAgEAAxUAAWP-kzWlMHAtZpEPPPuEGOI2DuFiAAJCAgAC2tWhRusq-Cq3l32HLgQ.webp to E:\\training_dir\\bunnypaws\\CAACAgEAAxUAAWP-kzWlMHAtZpEPPPuEGOI2DuFiAAJCAgAC2tWhRusq-Cq3l32HLgQ.png\n",
      "Converted E:\\training_dir\\bunnypaws\\CAACAgEAAxUAAWR-E9HXpjnsz-EzbfV7B65tT9FIAALbAwACNcHxRxPg7eZZowy5LwQ.webp to E:\\training_dir\\bunnypaws\\CAACAgEAAxUAAWR-E9HXpjnsz-EzbfV7B65tT9FIAALbAwACNcHxRxPg7eZZowy5LwQ.png\n",
      "Converted E:\\training_dir\\bunnypaws\\CAACAgEAAxUAAWSbwkw4rlV9ceT5sa4U3UoH3H4NAAIaAAO6XcgaNR-YR57KIqUvBA.webp to E:\\training_dir\\bunnypaws\\CAACAgEAAxUAAWSbwkw4rlV9ceT5sa4U3UoH3H4NAAIaAAO6XcgaNR-YR57KIqUvBA.png\n",
      "Converted E:\\training_dir\\bunnypaws\\CAACAgEAAxUAAWSbwkw5pG8BeXPi_UfbWc8gbUTEAAIKAAO6XcganuzCkCuOMm8vBA.webp to E:\\training_dir\\bunnypaws\\CAACAgEAAxUAAWSbwkw5pG8BeXPi_UfbWc8gbUTEAAIKAAO6XcganuzCkCuOMm8vBA.png\n",
      "Converted E:\\training_dir\\bunnypaws\\CAACAgEAAxUAAWSbwkw7noF7kyoJdG0CS_M48UR4AAIfAAO6Xcga6mcBo8URXxMvBA.webp to E:\\training_dir\\bunnypaws\\CAACAgEAAxUAAWSbwkw7noF7kyoJdG0CS_M48UR4AAIfAAO6Xcga6mcBo8URXxMvBA.png\n",
      "Converted E:\\training_dir\\bunnypaws\\CAACAgEAAxUAAWSbwkwdX5mol1Xqv_I6ZXmX7qxUAAIVAAO6XcgaWrByHzSwCZsvBA.webp to E:\\training_dir\\bunnypaws\\CAACAgEAAxUAAWSbwkwdX5mol1Xqv_I6ZXmX7qxUAAIVAAO6XcgaWrByHzSwCZsvBA.png\n",
      "Converted E:\\training_dir\\bunnypaws\\CAACAgEAAxUAAWSbwkwjd08z2Stg4_KDo5nfs_kSAAILAAO6XcgaQTDOocrTLKIvBA.webp to E:\\training_dir\\bunnypaws\\CAACAgEAAxUAAWSbwkwjd08z2Stg4_KDo5nfs_kSAAILAAO6XcgaQTDOocrTLKIvBA.png\n",
      "Converted E:\\training_dir\\bunnypaws\\CAACAgEAAxUAAWSbwkwKCPGAvvPneaYwyIz9ScJkAAIhAAO6XcgaDxgfrx8-VMQvBA.webp to E:\\training_dir\\bunnypaws\\CAACAgEAAxUAAWSbwkwKCPGAvvPneaYwyIz9ScJkAAIhAAO6XcgaDxgfrx8-VMQvBA.png\n",
      "Converted E:\\training_dir\\bunnypaws\\CAACAgEAAxUAAWSbwkwKsW6q8FDzJ5RO37Z91XzTAAIUAAO6XcgaLI-7asSSRwIvBA.webp to E:\\training_dir\\bunnypaws\\CAACAgEAAxUAAWSbwkwKsW6q8FDzJ5RO37Z91XzTAAIUAAO6XcgaLI-7asSSRwIvBA.png\n",
      "Converted E:\\training_dir\\bunnypaws\\CAACAgEAAxUAAWSbwkwTRsblNmEbbnc-hdb7k6fqAAIcAAO6XcgalhQcgptbQeovBA.webp to E:\\training_dir\\bunnypaws\\CAACAgEAAxUAAWSbwkwTRsblNmEbbnc-hdb7k6fqAAIcAAO6XcgalhQcgptbQeovBA.png\n",
      "Converted E:\\training_dir\\bunnypaws\\CAACAgEAAxUAAWSbwkwU6IIqxlon8l1YRL4lkP6-AAIRAAO6XcgadBKAOP2cUc0vBA.webp to E:\\training_dir\\bunnypaws\\CAACAgEAAxUAAWSbwkwU6IIqxlon8l1YRL4lkP6-AAIRAAO6XcgadBKAOP2cUc0vBA.png\n",
      "Converted E:\\training_dir\\bunnypaws\\CAACAgEAAxUAAWSbwkwuU-F6Y9iUF3nSojeLWD9ZAAINAAO6Xcga2RjGU9TxG3MvBA.webp to E:\\training_dir\\bunnypaws\\CAACAgEAAxUAAWSbwkwuU-F6Y9iUF3nSojeLWD9ZAAINAAO6Xcga2RjGU9TxG3MvBA.png\n",
      "Converted E:\\training_dir\\bunnypaws\\CAACAgEAAxUAAWSbwkwzo6zg5rraJe-3D-n7-lhtAAIMAAO6XcgaY-GtcllBobsvBA.webp to E:\\training_dir\\bunnypaws\\CAACAgEAAxUAAWSbwkwzo6zg5rraJe-3D-n7-lhtAAIMAAO6XcgaY-GtcllBobsvBA.png\n",
      "Converted E:\\training_dir\\bunnypaws\\CAACAgEAAxUAAWSbwkxDHfE8ZGuVlkPAgLyzNRuUAAIOAAO6XcgaVEz5PpG1hDcvBA.webp to E:\\training_dir\\bunnypaws\\CAACAgEAAxUAAWSbwkxDHfE8ZGuVlkPAgLyzNRuUAAIOAAO6XcgaVEz5PpG1hDcvBA.png\n",
      "Converted E:\\training_dir\\bunnypaws\\CAACAgEAAxUAAWSbwkxj-NR1mZxBn7l4bVHZWGL9AAIIAAO6Xcgaw6RhEj0pQ98vBA.webp to E:\\training_dir\\bunnypaws\\CAACAgEAAxUAAWSbwkxj-NR1mZxBn7l4bVHZWGL9AAIIAAO6Xcgaw6RhEj0pQ98vBA.png\n",
      "Converted E:\\training_dir\\bunnypaws\\CAACAgEAAxUAAWSbwkxzadNSp_fyxjWbOlERlTENAAIWAAO6XcgaT4VBRjfiQrMvBA.webp to E:\\training_dir\\bunnypaws\\CAACAgEAAxUAAWSbwkxzadNSp_fyxjWbOlERlTENAAIWAAO6XcgaT4VBRjfiQrMvBA.png\n",
      "Converted E:\\training_dir\\bunnypaws\\CAACAgEAAxUAAWSbwky2uzWuVX_Z31_RqqZ3S2LLAAIbAAO6XcgaDJthxzhbiPQvBA.webp to E:\\training_dir\\bunnypaws\\CAACAgEAAxUAAWSbwky2uzWuVX_Z31_RqqZ3S2LLAAIbAAO6XcgaDJthxzhbiPQvBA.png\n",
      "Converted E:\\training_dir\\bunnypaws\\CAACAgEAAxUAAWSbwky2v6MK8QGPbqGRXY_7Ff97AAIJAAO6XcgaeX7t7CnUP1svBA.webp to E:\\training_dir\\bunnypaws\\CAACAgEAAxUAAWSbwky2v6MK8QGPbqGRXY_7Ff97AAIJAAO6XcgaeX7t7CnUP1svBA.png\n",
      "Converted E:\\training_dir\\bunnypaws\\CAACAgEAAxUAAWSbwkyEfms6iPq5DS29Dd6D2z8cAAIPAAO6XcgaSD_BYsNul3QvBA.webp to E:\\training_dir\\bunnypaws\\CAACAgEAAxUAAWSbwkyEfms6iPq5DS29Dd6D2z8cAAIPAAO6XcgaSD_BYsNul3QvBA.png\n",
      "Converted E:\\training_dir\\bunnypaws\\CAACAgEAAxUAAWSbwkyF0C8hg5V4gzf3ndkxR85jAAISAAO6Xcga_3S1kpeG4LQvBA.webp to E:\\training_dir\\bunnypaws\\CAACAgEAAxUAAWSbwkyF0C8hg5V4gzf3ndkxR85jAAISAAO6Xcga_3S1kpeG4LQvBA.png\n",
      "Converted E:\\training_dir\\bunnypaws\\CAACAgEAAxUAAWSbwkyH33sfBFAx-udTNCmUeGywAAIdAAO6Xcga_ctijKR1SWQvBA.webp to E:\\training_dir\\bunnypaws\\CAACAgEAAxUAAWSbwkyH33sfBFAx-udTNCmUeGywAAIdAAO6Xcga_ctijKR1SWQvBA.png\n",
      "Converted E:\\training_dir\\bunnypaws\\CAACAgEAAxUAAWSbwkykaxoUEqLzH4LQ_97kEjXEAAITAAO6XcgalElYoZSU-h4vBA.webp to E:\\training_dir\\bunnypaws\\CAACAgEAAxUAAWSbwkykaxoUEqLzH4LQ_97kEjXEAAITAAO6XcgalElYoZSU-h4vBA.png\n",
      "Converted E:\\training_dir\\bunnypaws\\CAACAgEAAxUAAWSbwkyMiVj6YuoX4f1yksaw9XyaAAIHAAO6XcgaYS178gABwtHvLwQ.webp to E:\\training_dir\\bunnypaws\\CAACAgEAAxUAAWSbwkyMiVj6YuoX4f1yksaw9XyaAAIHAAO6XcgaYS178gABwtHvLwQ.png\n",
      "Converted E:\\training_dir\\bunnypaws\\CAACAgEAAxUAAWSbwkyMLVRhyMBQuekl6MU232DLAAIYAAO6XcgaXuWrR0M7nusvBA.webp to E:\\training_dir\\bunnypaws\\CAACAgEAAxUAAWSbwkyMLVRhyMBQuekl6MU232DLAAIYAAO6XcgaXuWrR0M7nusvBA.png\n",
      "Converted E:\\training_dir\\bunnypaws\\CAACAgEAAxUAAWSbwkyn8eJ-MwaRB-f2Ou7LxyT8AAIiAAO6XcgaE-dnsDfMxP0vBA.webp to E:\\training_dir\\bunnypaws\\CAACAgEAAxUAAWSbwkyn8eJ-MwaRB-f2Ou7LxyT8AAIiAAO6XcgaE-dnsDfMxP0vBA.png\n",
      "Converted E:\\training_dir\\bunnypaws\\CAACAgEAAxUAAWSbwkysaopy3WbowTHE85MwgCBtAAIQAAO6XcgaM4nGd953zAgvBA.webp to E:\\training_dir\\bunnypaws\\CAACAgEAAxUAAWSbwkysaopy3WbowTHE85MwgCBtAAIQAAO6XcgaM4nGd953zAgvBA.png\n",
      "Converted E:\\training_dir\\bunnypaws\\CAACAgEAAxUAAWSbwkyv8XFDUvDopgHaqfyF2Ap4AAIkAAO6XcgaegbweKIdMFovBA.webp to E:\\training_dir\\bunnypaws\\CAACAgEAAxUAAWSbwkyv8XFDUvDopgHaqfyF2Ap4AAIkAAO6XcgaegbweKIdMFovBA.png\n",
      "Converted E:\\training_dir\\bunnypaws\\CAACAgEAAxUAAWSbwkz-wfHvOQif4He4CbowbLJ7AAIXAAO6Xcgar4TYt4Rpe80vBA.webp to E:\\training_dir\\bunnypaws\\CAACAgEAAxUAAWSbwkz-wfHvOQif4He4CbowbLJ7AAIXAAO6Xcgar4TYt4Rpe80vBA.png\n",
      "Converted E:\\training_dir\\bunnypaws\\CAACAgEAAxUAAWSbwkzeeJGC64ZF_k6FCWDI13-2AAIgAAO6XcgacZW0m8P5TS8vBA.webp to E:\\training_dir\\bunnypaws\\CAACAgEAAxUAAWSbwkzeeJGC64ZF_k6FCWDI13-2AAIgAAO6XcgacZW0m8P5TS8vBA.png\n",
      "Converted E:\\training_dir\\bunnypaws\\CAACAgEAAxUAAWSbwkzNSMfJYVDxbL0nz5TAec57AAIZAAO6Xcgafq6xhLNMpREvBA.webp to E:\\training_dir\\bunnypaws\\CAACAgEAAxUAAWSbwkzNSMfJYVDxbL0nz5TAec57AAIZAAO6Xcgafq6xhLNMpREvBA.png\n",
      "Converted E:\\training_dir\\bunnypaws\\CAACAgEAAxUAAWSbwkzOMyLagJgU71zyU3sqe44NAAIjAAO6Xcga9LMZPXdT4fAvBA.webp to E:\\training_dir\\bunnypaws\\CAACAgEAAxUAAWSbwkzOMyLagJgU71zyU3sqe44NAAIjAAO6Xcga9LMZPXdT4fAvBA.png\n",
      "Converted E:\\training_dir\\bunnypaws\\CAACAgEAAxUAAWSbwkztm4XH8wc-ByvaBMG-nFU3AAIeAAO6XcgavKzzR2QciJkvBA.webp to E:\\training_dir\\bunnypaws\\CAACAgEAAxUAAWSbwkztm4XH8wc-ByvaBMG-nFU3AAIeAAO6XcgavKzzR2QciJkvBA.png\n",
      "Converted E:\\training_dir\\bunnypaws\\CAACAgEAAxUAAWS_fA8UiecLy6US0JYAAcIsOIydfwACsQIAAo7XaURmftWN7HRPfC8E.webp to E:\\training_dir\\bunnypaws\\CAACAgEAAxUAAWS_fA8UiecLy6US0JYAAcIsOIydfwACsQIAAo7XaURmftWN7HRPfC8E.png\n",
      "Converted E:\\training_dir\\bunnypaws\\CAACAgEAAxUAAWTm-yeGgksfp7EaSFOqsKXDZK9OAALLAgAC5mUBR50sbvWbHcsFMAQ.webp to E:\\training_dir\\bunnypaws\\CAACAgEAAxUAAWTm-yeGgksfp7EaSFOqsKXDZK9OAALLAgAC5mUBR50sbvWbHcsFMAQ.png\n",
      "Converted E:\\training_dir\\bunnypaws\\CAACAgEAAxUAAWTm-yeV1H3a-uFPYwY-9mwm1N-UAAJEAwACF_QAAUdpKqLTGH2rUzAE.webp to E:\\training_dir\\bunnypaws\\CAACAgEAAxUAAWTm-yeV1H3a-uFPYwY-9mwm1N-UAAJEAwACF_QAAUdpKqLTGH2rUzAE.png\n",
      "Converted E:\\training_dir\\bunnypaws\\CAACAgEAAxUAAWTm_XfgFuSKPA31_6CyojocUFAAAyUDAAL5MgABR3-WElC-epoyMAQ.webp to E:\\training_dir\\bunnypaws\\CAACAgEAAxUAAWTm_XfgFuSKPA31_6CyojocUFAAAyUDAAL5MgABR3-WElC-epoyMAQ.png\n",
      "Converted E:\\training_dir\\bunnypaws\\CAACAgEAAxUAAWTm_XfHwVXKLVOJCRGH5nzwbHNqAAK6AgAC0p0BR7FaPllcQXVfMAQ.webp to E:\\training_dir\\bunnypaws\\CAACAgEAAxUAAWTm_XfHwVXKLVOJCRGH5nzwbHNqAAK6AgAC0p0BR7FaPllcQXVfMAQ.png\n",
      "Converted E:\\training_dir\\bunnypaws\\CAACAgIAAxUAAWPEVDsAAQY-fz77fmvBhMZzH3nkEgACNgAD7JKZCF9KatFJoFE8LQQ.webp to E:\\training_dir\\bunnypaws\\CAACAgIAAxUAAWPEVDsAAQY-fz77fmvBhMZzH3nkEgACNgAD7JKZCF9KatFJoFE8LQQ.png\n",
      "Converted E:\\training_dir\\bunnypaws\\CAACAgIAAxUAAWPEVDsaiqHjVkEGMD67c3ib6tbIAAK-DgACssZgSBPTpgQ2UcPBLQQ.webp to E:\\training_dir\\bunnypaws\\CAACAgIAAxUAAWPEVDsaiqHjVkEGMD67c3ib6tbIAAK-DgACssZgSBPTpgQ2UcPBLQQ.png\n",
      "Converted E:\\training_dir\\bunnypaws\\CAACAgIAAxUAAWPEVDsdLcoyLG7MSxvM_Yule07TAALEEQACI48QSVg1609hc02VLQQ.webp to E:\\training_dir\\bunnypaws\\CAACAgIAAxUAAWPEVDsdLcoyLG7MSxvM_Yule07TAALEEQACI48QSVg1609hc02VLQQ.png\n",
      "Converted E:\\training_dir\\bunnypaws\\CAACAgIAAxUAAWPEVDsGSX1M_jZWo_rGJiGX0cIwAALTHQAC6WXhS_68PRxD7GiTLQQ.webp to E:\\training_dir\\bunnypaws\\CAACAgIAAxUAAWPEVDsGSX1M_jZWo_rGJiGX0cIwAALTHQAC6WXhS_68PRxD7GiTLQQ.png\n",
      "Converted E:\\training_dir\\bunnypaws\\CAACAgIAAxUAAWPEVDsHvgoGhsel8VmKWT20N5cEAALTDAAC3AZhSMz7iB99mStuLQQ.webp to E:\\training_dir\\bunnypaws\\CAACAgIAAxUAAWPEVDsHvgoGhsel8VmKWT20N5cEAALTDAAC3AZhSMz7iB99mStuLQQ.png\n",
      "Converted E:\\training_dir\\bunnypaws\\CAACAgIAAxUAAWPEVDsK1eBELiGnNOQXFc8JS0ZHAALzIwACF2PhSxJfrg2W6SRwLQQ.webp to E:\\training_dir\\bunnypaws\\CAACAgIAAxUAAWPEVDsK1eBELiGnNOQXFc8JS0ZHAALzIwACF2PhSxJfrg2W6SRwLQQ.png\n",
      "Converted E:\\training_dir\\bunnypaws\\CAACAgIAAxUAAWPEVDslSciIv3MgX4jvqhcabWeKAAIsAAPskpkIyjIKrjeDXYUtBA.webp to E:\\training_dir\\bunnypaws\\CAACAgIAAxUAAWPEVDslSciIv3MgX4jvqhcabWeKAAIsAAPskpkIyjIKrjeDXYUtBA.png\n",
      "Converted E:\\training_dir\\bunnypaws\\CAACAgIAAxUAAWPEVDsNSSPnr8RwUDym7BclED-oAAK6DAACYwhhSL8bXWZMZUzxLQQ.webp to E:\\training_dir\\bunnypaws\\CAACAgIAAxUAAWPEVDsNSSPnr8RwUDym7BclED-oAAK6DAACYwhhSL8bXWZMZUzxLQQ.png\n",
      "Converted E:\\training_dir\\bunnypaws\\CAACAgIAAxUAAWPEVDsrY-gBaVUtdXaaWLVHvbYRAAIeFAACazUQSexiP7NcZBkiLQQ.webp to E:\\training_dir\\bunnypaws\\CAACAgIAAxUAAWPEVDsrY-gBaVUtdXaaWLVHvbYRAAIeFAACazUQSexiP7NcZBkiLQQ.png\n",
      "Converted E:\\training_dir\\bunnypaws\\CAACAgIAAxUAAWPEVDsskEpo1X7laXuMMSvxBWAYAALrCwAClwZhSLUfezSbWEzJLQQ.webp to E:\\training_dir\\bunnypaws\\CAACAgIAAxUAAWPEVDsskEpo1X7laXuMMSvxBWAYAALrCwAClwZhSLUfezSbWEzJLQQ.png\n",
      "Converted E:\\training_dir\\bunnypaws\\CAACAgIAAxUAAWPEVDsSKJsp2G6miXkQ5GplG__-AAKeJAACF_zhS9DW_2DnEHMdLQQ.webp to E:\\training_dir\\bunnypaws\\CAACAgIAAxUAAWPEVDsSKJsp2G6miXkQ5GplG__-AAKeJAACF_zhS9DW_2DnEHMdLQQ.png\n",
      "Converted E:\\training_dir\\bunnypaws\\CAACAgIAAxUAAWPEVDsSkUjqAAH2ktgWHt0WQi3C3wACSQsAAnYGYEidYqpnORvlnS0E.webp to E:\\training_dir\\bunnypaws\\CAACAgIAAxUAAWPEVDsSkUjqAAH2ktgWHt0WQi3C3wACSQsAAnYGYEidYqpnORvlnS0E.png\n",
      "Converted E:\\training_dir\\bunnypaws\\CAACAgIAAxUAAWPEVDstfTL2aMlrq1OjlWZ9ExDdAAJpJwACsurhS9z9AAFoBULEfS0E.webp to E:\\training_dir\\bunnypaws\\CAACAgIAAxUAAWPEVDstfTL2aMlrq1OjlWZ9ExDdAAJpJwACsurhS9z9AAFoBULEfS0E.png\n",
      "Converted E:\\training_dir\\bunnypaws\\CAACAgIAAxUAAWPEVDsxDvjnMC9It_Yzzosh0bDLAAIwAAPskpkIGMAAATnpr1aQLQQ.webp to E:\\training_dir\\bunnypaws\\CAACAgIAAxUAAWPEVDsxDvjnMC9It_Yzzosh0bDLAAIwAAPskpkIGMAAATnpr1aQLQQ.png\n",
      "Converted E:\\training_dir\\bunnypaws\\CAACAgIAAxUAAWPEVDszAAHcC60k8I4wcwtbCPRBwAAC5RIAAjaZEUlBhVKZnz7bjC0E.webp to E:\\training_dir\\bunnypaws\\CAACAgIAAxUAAWPEVDszAAHcC60k8I4wcwtbCPRBwAAC5RIAAjaZEUlBhVKZnz7bjC0E.png\n",
      "Converted E:\\training_dir\\bunnypaws\\CAACAgIAAxUAAWPEVDsZBeDvuWiGh9crSwEWwec4AAItAAPskpkIavk5TLTs5a4tBA.webp to E:\\training_dir\\bunnypaws\\CAACAgIAAxUAAWPEVDsZBeDvuWiGh9crSwEWwec4AAItAAPskpkIavk5TLTs5a4tBA.png\n",
      "Converted E:\\training_dir\\bunnypaws\\CAACAgIAAxUAAWPEVDsZICfX5V1FrgafsK7N1JyhAAL0DwACuldgSHbONqMvfjFWLQQ.webp to E:\\training_dir\\bunnypaws\\CAACAgIAAxUAAWPEVDsZICfX5V1FrgafsK7N1JyhAAL0DwACuldgSHbONqMvfjFWLQQ.png\n",
      "Converted E:\\training_dir\\bunnypaws\\CAACAgIAAxUAAWPEVDtC-NkLQ0nw0_02Eubqe7dgAAJnDgACj8FhSA_ZTILxfJLRLQQ.webp to E:\\training_dir\\bunnypaws\\CAACAgIAAxUAAWPEVDtC-NkLQ0nw0_02Eubqe7dgAAJnDgACj8FhSA_ZTILxfJLRLQQ.png\n",
      "Converted E:\\training_dir\\bunnypaws\\CAACAgIAAxUAAWPEVDtFEc5FRNhnzNiDswNSLUP_AALbHwACXJrgS8Xk5QSyVR4wLQQ.webp to E:\\training_dir\\bunnypaws\\CAACAgIAAxUAAWPEVDtFEc5FRNhnzNiDswNSLUP_AALbHwACXJrgS8Xk5QSyVR4wLQQ.png\n",
      "Converted E:\\training_dir\\bunnypaws\\CAACAgIAAxUAAWPEVDtJdN9kx4xmYSMvaisaZElIAAIxAAPskpkIz-hYgyb31JctBA.webp to E:\\training_dir\\bunnypaws\\CAACAgIAAxUAAWPEVDtJdN9kx4xmYSMvaisaZElIAAIxAAPskpkIz-hYgyb31JctBA.png\n",
      "Converted E:\\training_dir\\bunnypaws\\CAACAgIAAxUAAWPEVDtJxS9wis66VzA2-1vhVbPVAALBDQACrCVhSK-GT62vBBoILQQ.webp to E:\\training_dir\\bunnypaws\\CAACAgIAAxUAAWPEVDtJxS9wis66VzA2-1vhVbPVAALBDQACrCVhSK-GT62vBBoILQQ.png\n",
      "Converted E:\\training_dir\\bunnypaws\\CAACAgIAAxUAAWPEVDtlJGQFSdIYokZ4Xns8_LvgAAKnDwACiNAZSY4Sogr9B14LLQQ.webp to E:\\training_dir\\bunnypaws\\CAACAgIAAxUAAWPEVDtlJGQFSdIYokZ4Xns8_LvgAAKnDwACiNAZSY4Sogr9B14LLQQ.png\n",
      "Converted E:\\training_dir\\bunnypaws\\CAACAgIAAxUAAWPEVDtOO02t5McrsfdaDOk54BADAALZFgACzmPhScFa0P40ppNxLQQ.webp to E:\\training_dir\\bunnypaws\\CAACAgIAAxUAAWPEVDtOO02t5McrsfdaDOk54BADAALZFgACzmPhScFa0P40ppNxLQQ.png\n",
      "Converted E:\\training_dir\\bunnypaws\\CAACAgIAAxUAAWPEVDtR2wGcIGzPWnCmNPC2aAxrAAIzKAACzgAB4Etg2LZFuElqAAEtBA.webp to E:\\training_dir\\bunnypaws\\CAACAgIAAxUAAWPEVDtR2wGcIGzPWnCmNPC2aAxrAAIzKAACzgAB4Etg2LZFuElqAAEtBA.png\n",
      "Converted E:\\training_dir\\bunnypaws\\CAACAgIAAxUAAWPEVDtsQEszljQamKu1KdsIfhE2AAJPCwACXK9hSGl2JGk6Lr2ULQQ.webp to E:\\training_dir\\bunnypaws\\CAACAgIAAxUAAWPEVDtsQEszljQamKu1KdsIfhE2AAJPCwACXK9hSGl2JGk6Lr2ULQQ.png\n",
      "Converted E:\\training_dir\\bunnypaws\\CAACAgIAAxUAAWPEVDtTZV7izc89IMz04UfnA1vtAAI0AAPskpkIuUIxCIAzbv8tBA.webp to E:\\training_dir\\bunnypaws\\CAACAgIAAxUAAWPEVDtTZV7izc89IMz04UfnA1vtAAI0AAPskpkIuUIxCIAzbv8tBA.png\n",
      "Converted E:\\training_dir\\bunnypaws\\CAACAgIAAxUAAWPEVDtY2fo0YN_WKGTKWVIleI0iAALXCwACLK5hSC7vfBx_p_DiLQQ.webp to E:\\training_dir\\bunnypaws\\CAACAgIAAxUAAWPEVDtY2fo0YN_WKGTKWVIleI0iAALXCwACLK5hSC7vfBx_p_DiLQQ.png\n",
      "Converted E:\\training_dir\\bunnypaws\\CAACAgIAAxUAAWPEVDu07I9jDLrPxsoBTiiTzL7aAAIyAAPskpkIfHgwA9eHAAGaLQQ.webp to E:\\training_dir\\bunnypaws\\CAACAgIAAxUAAWPEVDu07I9jDLrPxsoBTiiTzL7aAAIyAAPskpkIfHgwA9eHAAGaLQQ.png\n",
      "Converted E:\\training_dir\\bunnypaws\\CAACAgIAAxUAAWPEVDu1cuo2B0eehtp1seOC5u-XAAJiEwACvmUYSRPHK4TijlycLQQ.webp to E:\\training_dir\\bunnypaws\\CAACAgIAAxUAAWPEVDu1cuo2B0eehtp1seOC5u-XAAJiEwACvmUYSRPHK4TijlycLQQ.png\n",
      "Converted E:\\training_dir\\bunnypaws\\CAACAgIAAxUAAWPEVDu2P507Zs-rU_M5hElpmFPCAAI5DAAC1NphSNHTjZEoqx1kLQQ.webp to E:\\training_dir\\bunnypaws\\CAACAgIAAxUAAWPEVDu2P507Zs-rU_M5hElpmFPCAAI5DAAC1NphSNHTjZEoqx1kLQQ.png\n",
      "Converted E:\\training_dir\\bunnypaws\\CAACAgIAAxUAAWPEVDu58VAN2DIWmS298DvjXU1XAALGDQACqSBgSHfrXA93GnAHLQQ.webp to E:\\training_dir\\bunnypaws\\CAACAgIAAxUAAWPEVDu58VAN2DIWmS298DvjXU1XAALGDQACqSBgSHfrXA93GnAHLQQ.png\n",
      "Converted E:\\training_dir\\bunnypaws\\CAACAgIAAxUAAWPEVDubzsQyEBnUCKce9m2mzLgHAAK_EQACJ8gQSUOUFPn2sx_zLQQ.webp to E:\\training_dir\\bunnypaws\\CAACAgIAAxUAAWPEVDubzsQyEBnUCKce9m2mzLgHAAK_EQACJ8gQSUOUFPn2sx_zLQQ.png\n",
      "Converted E:\\training_dir\\bunnypaws\\CAACAgIAAxUAAWPEVDuEWM2c9qFwZVdt7obc4ms6AALKLAACfIHgS7aCZH9l8vyXLQQ.webp to E:\\training_dir\\bunnypaws\\CAACAgIAAxUAAWPEVDuEWM2c9qFwZVdt7obc4ms6AALKLAACfIHgS7aCZH9l8vyXLQQ.png\n",
      "Converted E:\\training_dir\\bunnypaws\\CAACAgIAAxUAAWPEVDuk9aBvFvCPkL7Tx9OXMSgjAALvJAACWLLgS7fZrgyhwQAB4i0E.webp to E:\\training_dir\\bunnypaws\\CAACAgIAAxUAAWPEVDuk9aBvFvCPkL7Tx9OXMSgjAALvJAACWLLgS7fZrgyhwQAB4i0E.png\n",
      "Converted E:\\training_dir\\bunnypaws\\CAACAgIAAxUAAWPEVDuKyPpmVeahInwJqyo-ce7tAALMEQACOxkQSaoxWaSPbDaILQQ.webp to E:\\training_dir\\bunnypaws\\CAACAgIAAxUAAWPEVDuKyPpmVeahInwJqyo-ce7tAALMEQACOxkQSaoxWaSPbDaILQQ.png\n",
      "Converted E:\\training_dir\\bunnypaws\\CAACAgIAAxUAAWPEVDuLKYgTjTBeMn-qKceI8sdmAAK4KAACJbDhS0kyrJLts1VfLQQ.webp to E:\\training_dir\\bunnypaws\\CAACAgIAAxUAAWPEVDuLKYgTjTBeMn-qKceI8sdmAAK4KAACJbDhS0kyrJLts1VfLQQ.png\n",
      "Converted E:\\training_dir\\bunnypaws\\CAACAgIAAxUAAWPEVDurxa15wKrpdTz7YcDQaNYsAAL7FAACcvcQSc8eFsO2P-qMLQQ.webp to E:\\training_dir\\bunnypaws\\CAACAgIAAxUAAWPEVDurxa15wKrpdTz7YcDQaNYsAAL7FAACcvcQSc8eFsO2P-qMLQQ.png\n",
      "Converted E:\\training_dir\\bunnypaws\\CAACAgIAAxUAAWPEVDuSIvWGiak_c_dGr_KrlFXcAAIWDgACRAVgSBqT3rViIvQAAS0E.webp to E:\\training_dir\\bunnypaws\\CAACAgIAAxUAAWPEVDuSIvWGiak_c_dGr_KrlFXcAAIWDgACRAVgSBqT3rViIvQAAS0E.png\n",
      "Converted E:\\training_dir\\bunnypaws\\CAACAgIAAxUAAWPEVDv5KTxCf8orCCIGTfdZ4troAAIvAAPskpkIXOzXfxv5c9otBA.webp to E:\\training_dir\\bunnypaws\\CAACAgIAAxUAAWPEVDv5KTxCf8orCCIGTfdZ4troAAIvAAPskpkIXOzXfxv5c9otBA.png\n",
      "Converted E:\\training_dir\\bunnypaws\\CAACAgIAAxUAAWPEVDv9wgrHJjWCqwvew2KwUJUYAAILEQACUoIYSRZrf6ijm48yLQQ.webp to E:\\training_dir\\bunnypaws\\CAACAgIAAxUAAWPEVDv9wgrHJjWCqwvew2KwUJUYAAILEQACUoIYSRZrf6ijm48yLQQ.png\n",
      "Converted E:\\training_dir\\bunnypaws\\CAACAgIAAxUAAWPEVDvAwK92k-vwi-425GhsDJZnAAKJDgACy7FhSD3CHoDBy-N3LQQ.webp to E:\\training_dir\\bunnypaws\\CAACAgIAAxUAAWPEVDvAwK92k-vwi-425GhsDJZnAAKJDgACy7FhSD3CHoDBy-N3LQQ.png\n",
      "Converted E:\\training_dir\\bunnypaws\\CAACAgIAAxUAAWPEVDvF9wGWFE06Q98Kcajq_G-oAAI1AAPskpkIaSQDZmYbuA8tBA.webp to E:\\training_dir\\bunnypaws\\CAACAgIAAxUAAWPEVDvF9wGWFE06Q98Kcajq_G-oAAI1AAPskpkIaSQDZmYbuA8tBA.png\n",
      "Converted E:\\training_dir\\bunnypaws\\CAACAgIAAxUAAWPEVDvFgYN0c-BMopR_zr9AF3pbAAIzAAPskpkIwtKPvixBnyYtBA.webp to E:\\training_dir\\bunnypaws\\CAACAgIAAxUAAWPEVDvFgYN0c-BMopR_zr9AF3pbAAIzAAPskpkIwtKPvixBnyYtBA.png\n",
      "Converted E:\\training_dir\\bunnypaws\\CAACAgIAAxUAAWPEVDvfqc2Ip6Ugr1DgECtEaqvaAAKFCwACT65hSHyNfSYQSVj5LQQ.webp to E:\\training_dir\\bunnypaws\\CAACAgIAAxUAAWPEVDvfqc2Ip6Ugr1DgECtEaqvaAAKFCwACT65hSHyNfSYQSVj5LQQ.png\n",
      "Converted E:\\training_dir\\bunnypaws\\CAACAgIAAxUAAWPEVDvIOo0xiAP3CR-WAcqcnSDAAAI0IgACSRrgS4P7o8y-IjZqLQQ.webp to E:\\training_dir\\bunnypaws\\CAACAgIAAxUAAWPEVDvIOo0xiAP3CR-WAcqcnSDAAAI0IgACSRrgS4P7o8y-IjZqLQQ.png\n",
      "Converted E:\\training_dir\\bunnypaws\\CAACAgIAAxUAAWPEVDvk877TCwGlSieaC2kISv1LAAJjDAACAb9gSIU9hc-07plQLQQ.webp to E:\\training_dir\\bunnypaws\\CAACAgIAAxUAAWPEVDvk877TCwGlSieaC2kISv1LAAJjDAACAb9gSIU9hc-07plQLQQ.png\n",
      "Converted E:\\training_dir\\bunnypaws\\CAACAgIAAxUAAWPEVDvLCYquPd4cim70V91lwWBWAALBFAACiEwRSaMaHieO-Vc2LQQ.webp to E:\\training_dir\\bunnypaws\\CAACAgIAAxUAAWPEVDvLCYquPd4cim70V91lwWBWAALBFAACiEwRSaMaHieO-Vc2LQQ.png\n",
      "Converted E:\\training_dir\\bunnypaws\\CAACAgIAAxUAAWPEVDvNaW_NAxWub3z1hiTbwaRZAAIiHwACGRHhSxqCy7HLyk_KLQQ.webp to E:\\training_dir\\bunnypaws\\CAACAgIAAxUAAWPEVDvNaW_NAxWub3z1hiTbwaRZAAIiHwACGRHhSxqCy7HLyk_KLQQ.png\n",
      "Converted E:\\training_dir\\bunnypaws\\CAACAgIAAxUAAWPEVDvnflY_RDV2P97cWqn5uczOAAIuAAPskpkIZSLJ6UU9UzstBA.webp to E:\\training_dir\\bunnypaws\\CAACAgIAAxUAAWPEVDvnflY_RDV2P97cWqn5uczOAAIuAAPskpkIZSLJ6UU9UzstBA.png\n",
      "Converted E:\\training_dir\\bunnypaws\\CAACAgIAAxUAAWPEVDvRYSb5M-4_nd8ZchYmDIczAAKGJAACI63gSwogj88WrWEmLQQ.webp to E:\\training_dir\\bunnypaws\\CAACAgIAAxUAAWPEVDvRYSb5M-4_nd8ZchYmDIczAAKGJAACI63gSwogj88WrWEmLQQ.png\n",
      "Converted E:\\training_dir\\bunnypaws\\CAACAgQAAxUAAWDTd4o8rIKJ10f9O9k_3TReuPF1AAIOAANBBI8pCYy93nFcBKAfBA.webp to E:\\training_dir\\bunnypaws\\CAACAgQAAxUAAWDTd4o8rIKJ10f9O9k_3TReuPF1AAIOAANBBI8pCYy93nFcBKAfBA.png\n",
      "Converted E:\\training_dir\\bunnypaws\\CAACAgQAAxUAAWDTd4odRYqMG4JTwRjm1o7GnNgJAAJVAANBBI8pWG_FAc1CdCkfBA.webp to E:\\training_dir\\bunnypaws\\CAACAgQAAxUAAWDTd4odRYqMG4JTwRjm1o7GnNgJAAJVAANBBI8pWG_FAc1CdCkfBA.png\n",
      "Converted E:\\training_dir\\bunnypaws\\CAACAgQAAxUAAWDTd4oe0bCKOetlKhjQJSE15AABCgACNQADQQSPKV7PCg6dx3_zHwQ.webp to E:\\training_dir\\bunnypaws\\CAACAgQAAxUAAWDTd4oe0bCKOetlKhjQJSE15AABCgACNQADQQSPKV7PCg6dx3_zHwQ.png\n",
      "Converted E:\\training_dir\\bunnypaws\\CAACAgQAAxUAAWDTd4oEWqlTDz4v9tcmo3evxFwWAAImAANBBI8pbxnKG7pOe6wfBA.webp to E:\\training_dir\\bunnypaws\\CAACAgQAAxUAAWDTd4oEWqlTDz4v9tcmo3evxFwWAAImAANBBI8pbxnKG7pOe6wfBA.png\n",
      "Converted E:\\training_dir\\bunnypaws\\CAACAgQAAxUAAWDTd4oh1UtvE0VrxyFgOl_NuN3EAAINAANBBI8p3M8Sqi_268sfBA.webp to E:\\training_dir\\bunnypaws\\CAACAgQAAxUAAWDTd4oh1UtvE0VrxyFgOl_NuN3EAAINAANBBI8p3M8Sqi_268sfBA.png\n",
      "Converted E:\\training_dir\\bunnypaws\\CAACAgQAAxUAAWDTd4omzRx4q19VuY8rJp37sNv3AAIwAANBBI8plNusVc6AcvMfBA.webp to E:\\training_dir\\bunnypaws\\CAACAgQAAxUAAWDTd4omzRx4q19VuY8rJp37sNv3AAIwAANBBI8plNusVc6AcvMfBA.png\n",
      "Converted E:\\training_dir\\bunnypaws\\CAACAgQAAxUAAWDTd4on76WWtKfzTKTTjSjn9y6fAAInAANBBI8p4AaxwzUbehMfBA.webp to E:\\training_dir\\bunnypaws\\CAACAgQAAxUAAWDTd4on76WWtKfzTKTTjSjn9y6fAAInAANBBI8p4AaxwzUbehMfBA.png\n",
      "Converted E:\\training_dir\\bunnypaws\\CAACAgQAAxUAAWDTd4onuJzYIiQSOiX_AQZJ1l6VAAI2AANBBI8p1w_7smfq9QIfBA.webp to E:\\training_dir\\bunnypaws\\CAACAgQAAxUAAWDTd4onuJzYIiQSOiX_AQZJ1l6VAAI2AANBBI8p1w_7smfq9QIfBA.png\n",
      "Converted E:\\training_dir\\bunnypaws\\CAACAgQAAxUAAWDTd4oQbuJMTR3bxqBNaQrElwpLAAKEAANBBI8pinQNjU6m44QfBA.webp to E:\\training_dir\\bunnypaws\\CAACAgQAAxUAAWDTd4oQbuJMTR3bxqBNaQrElwpLAAKEAANBBI8pinQNjU6m44QfBA.png\n",
      "Converted E:\\training_dir\\bunnypaws\\CAACAgQAAxUAAWDTd4oT9J8MXuVFeBoxRY4Wk1jTAAIpAANBBI8pRDsK-lUq3esfBA.webp to E:\\training_dir\\bunnypaws\\CAACAgQAAxUAAWDTd4oT9J8MXuVFeBoxRY4Wk1jTAAIpAANBBI8pRDsK-lUq3esfBA.png\n",
      "Converted E:\\training_dir\\bunnypaws\\CAACAgQAAxUAAWDTd4oTBQjMibhsOFS8fGlmRi9jAAIlAANBBI8p-mXXjEMIPoofBA.webp to E:\\training_dir\\bunnypaws\\CAACAgQAAxUAAWDTd4oTBQjMibhsOFS8fGlmRi9jAAIlAANBBI8p-mXXjEMIPoofBA.png\n",
      "Converted E:\\training_dir\\bunnypaws\\CAACAgQAAxUAAWDTd4oTjDIMcWXTo71fTMq2ygg2AAIbAANBBI8p_o66WiefLggfBA.webp to E:\\training_dir\\bunnypaws\\CAACAgQAAxUAAWDTd4oTjDIMcWXTo71fTMq2ygg2AAIbAANBBI8p_o66WiefLggfBA.png\n",
      "Converted E:\\training_dir\\bunnypaws\\CAACAgQAAxUAAWDTd4oTQnRZyFAr5lOsEZPqVgU6AAI0AANBBI8pnRDkGreTndsfBA.webp to E:\\training_dir\\bunnypaws\\CAACAgQAAxUAAWDTd4oTQnRZyFAr5lOsEZPqVgU6AAI0AANBBI8pnRDkGreTndsfBA.png\n",
      "Converted E:\\training_dir\\bunnypaws\\CAACAgQAAxUAAWDTd4oTV_2oeDkhbirI97ThZTuiAAI5AANBBI8pecVFWdwsbR4fBA.webp to E:\\training_dir\\bunnypaws\\CAACAgQAAxUAAWDTd4oTV_2oeDkhbirI97ThZTuiAAI5AANBBI8pecVFWdwsbR4fBA.png\n",
      "Converted E:\\training_dir\\bunnypaws\\CAACAgQAAxUAAWDTd4oUPDXFQ9xY8BZaryeDv3kIAAItAANBBI8pbCFj7voGQsEfBA.webp to E:\\training_dir\\bunnypaws\\CAACAgQAAxUAAWDTd4oUPDXFQ9xY8BZaryeDv3kIAAItAANBBI8pbCFj7voGQsEfBA.png\n",
      "Converted E:\\training_dir\\bunnypaws\\CAACAgQAAxUAAWDTd4p1p-SdcdnuzZb1WMfw5goIAAI9AANBBI8pcuAbWnmeuH8fBA.webp to E:\\training_dir\\bunnypaws\\CAACAgQAAxUAAWDTd4p1p-SdcdnuzZb1WMfw5goIAAI9AANBBI8pcuAbWnmeuH8fBA.png\n",
      "Converted E:\\training_dir\\bunnypaws\\CAACAgQAAxUAAWDTd4pB7HyRK8_w92xpKc2MoQ4fAAILAANBBI8pmT_2fIikiOkfBA.webp to E:\\training_dir\\bunnypaws\\CAACAgQAAxUAAWDTd4pB7HyRK8_w92xpKc2MoQ4fAAILAANBBI8pmT_2fIikiOkfBA.png\n",
      "Converted E:\\training_dir\\bunnypaws\\CAACAgQAAxUAAWDTd4pBDQsRz8iVAAG7znH08ouCXwACFgADQQSPKdYFZMUwIY7eHwQ.webp to E:\\training_dir\\bunnypaws\\CAACAgQAAxUAAWDTd4pBDQsRz8iVAAG7znH08ouCXwACFgADQQSPKdYFZMUwIY7eHwQ.png\n",
      "Converted E:\\training_dir\\bunnypaws\\CAACAgQAAxUAAWDTd4pciiLXRmG929X6AAE96W_GdgACHQADQQSPKS-_HQMuMuqiHwQ.webp to E:\\training_dir\\bunnypaws\\CAACAgQAAxUAAWDTd4pciiLXRmG929X6AAE96W_GdgACHQADQQSPKS-_HQMuMuqiHwQ.png\n",
      "Converted E:\\training_dir\\bunnypaws\\CAACAgQAAxUAAWDTd4pdTNacv7CIjGRJGBF2QA8AAxEAA0EEjylx8a0bi4zUfB8E.webp to E:\\training_dir\\bunnypaws\\CAACAgQAAxUAAWDTd4pdTNacv7CIjGRJGBF2QA8AAxEAA0EEjylx8a0bi4zUfB8E.png\n",
      "Converted E:\\training_dir\\bunnypaws\\CAACAgQAAxUAAWDTd4phHMHoSadLQQMSU-dF9Bp6AAJZAANBBI8pYNqpbLHbVJAfBA.webp to E:\\training_dir\\bunnypaws\\CAACAgQAAxUAAWDTd4phHMHoSadLQQMSU-dF9Bp6AAJZAANBBI8pYNqpbLHbVJAfBA.png\n",
      "Converted E:\\training_dir\\bunnypaws\\CAACAgQAAxUAAWDTd4pleLRHz7teeQS9SK05ZJsOAAKFAANBBI8pkdpfU5lAcIsfBA.webp to E:\\training_dir\\bunnypaws\\CAACAgQAAxUAAWDTd4pleLRHz7teeQS9SK05ZJsOAAKFAANBBI8pkdpfU5lAcIsfBA.png\n",
      "Converted E:\\training_dir\\bunnypaws\\CAACAgQAAxUAAWDTd4pLHgYT0sXa3S67KHcu2yfbAAJWAANBBI8pNje8bsmT7R4fBA.webp to E:\\training_dir\\bunnypaws\\CAACAgQAAxUAAWDTd4pLHgYT0sXa3S67KHcu2yfbAAJWAANBBI8pNje8bsmT7R4fBA.png\n",
      "Converted E:\\training_dir\\bunnypaws\\CAACAgQAAxUAAWDTd4pMzFDmjHf_xxbN-0qt6qaaAAKHAANBBI8p-NkdI61Wc64fBA.webp to E:\\training_dir\\bunnypaws\\CAACAgQAAxUAAWDTd4pMzFDmjHf_xxbN-0qt6qaaAAKHAANBBI8p-NkdI61Wc64fBA.png\n",
      "Converted E:\\training_dir\\bunnypaws\\CAACAgQAAxUAAWDTd4pQW1Mc0kxM_EbxeVsVwnbxAAJ_AANBBI8pXKAAAaYBfLdmHwQ.webp to E:\\training_dir\\bunnypaws\\CAACAgQAAxUAAWDTd4pQW1Mc0kxM_EbxeVsVwnbxAAJ_AANBBI8pXKAAAaYBfLdmHwQ.png\n",
      "Converted E:\\training_dir\\bunnypaws\\CAACAgQAAxUAAWDTd4pTZuIwNhjePW-8OYQI1G_8AAJaAANBBI8ps8RvZQABKjM8HwQ.webp to E:\\training_dir\\bunnypaws\\CAACAgQAAxUAAWDTd4pTZuIwNhjePW-8OYQI1G_8AAJaAANBBI8ps8RvZQABKjM8HwQ.png\n",
      "Converted E:\\training_dir\\bunnypaws\\CAACAgQAAxUAAWDTd4pU55hBWUHDJsrurMYmy22qAAISAANBBI8pYViCMam4I5cfBA.webp to E:\\training_dir\\bunnypaws\\CAACAgQAAxUAAWDTd4pU55hBWUHDJsrurMYmy22qAAISAANBBI8pYViCMam4I5cfBA.png\n",
      "Converted E:\\training_dir\\bunnypaws\\CAACAgQAAxUAAWDTd4pW30sa5gnNljK4Qh9V1eeQAAIUAANBBI8pAd0KtNaKW8cfBA.webp to E:\\training_dir\\bunnypaws\\CAACAgQAAxUAAWDTd4pW30sa5gnNljK4Qh9V1eeQAAIUAANBBI8pAd0KtNaKW8cfBA.png\n",
      "Converted E:\\training_dir\\bunnypaws\\CAACAgQAAxUAAWDTd4pxix6K5EmRr5sz_GsPx1WVAAIuAANBBI8pk7Zucv8wmTIfBA.webp to E:\\training_dir\\bunnypaws\\CAACAgQAAxUAAWDTd4pxix6K5EmRr5sz_GsPx1WVAAIuAANBBI8pk7Zucv8wmTIfBA.png\n",
      "Converted E:\\training_dir\\bunnypaws\\CAACAgQAAxUAAWDTd4pYxSshrZ9YW7uhpjgH7fTPAAJcAANBBI8prso4sFJJ4zAfBA.webp to E:\\training_dir\\bunnypaws\\CAACAgQAAxUAAWDTd4pYxSshrZ9YW7uhpjgH7fTPAAJcAANBBI8prso4sFJJ4zAfBA.png\n",
      "Converted E:\\training_dir\\bunnypaws\\CAACAgQAAxUAAWDTd4pzjBbMIy9gUK9GiVZh01kOAAKGAANBBI8p8_BOKAQ-QZ4fBA.webp to E:\\training_dir\\bunnypaws\\CAACAgQAAxUAAWDTd4pzjBbMIy9gUK9GiVZh01kOAAKGAANBBI8p8_BOKAQ-QZ4fBA.png\n",
      "Converted E:\\training_dir\\bunnypaws\\CAACAgQAAxUAAWDTd4pzyUuICRYYvvr9y7Tg1kIbAAIMAANBBI8pTrJO4Zf3oMEfBA.webp to E:\\training_dir\\bunnypaws\\CAACAgQAAxUAAWDTd4pzyUuICRYYvvr9y7Tg1kIbAAIMAANBBI8pTrJO4Zf3oMEfBA.png\n",
      "Converted E:\\training_dir\\bunnypaws\\CAACAgQAAxUAAWDTd4q3BuZhJNvSJFJDAyURGIycAAI8AANBBI8pWcWzjUYB2i8fBA.webp to E:\\training_dir\\bunnypaws\\CAACAgQAAxUAAWDTd4q3BuZhJNvSJFJDAyURGIycAAI8AANBBI8pWcWzjUYB2i8fBA.png\n",
      "Converted E:\\training_dir\\bunnypaws\\CAACAgQAAxUAAWDTd4q3R9XmVPZG3C6Ygdu8aVYgAAJ-AANBBI8pRWwqoIxXcMYfBA.webp to E:\\training_dir\\bunnypaws\\CAACAgQAAxUAAWDTd4q3R9XmVPZG3C6Ygdu8aVYgAAJ-AANBBI8pRWwqoIxXcMYfBA.png\n",
      "Converted E:\\training_dir\\bunnypaws\\CAACAgQAAxUAAWDTd4q9SaymeqjVlER_CgheQ9L0AAIZAANBBI8puSS9Wks4cNofBA.webp to E:\\training_dir\\bunnypaws\\CAACAgQAAxUAAWDTd4q9SaymeqjVlER_CgheQ9L0AAIZAANBBI8puSS9Wks4cNofBA.png\n",
      "Converted E:\\training_dir\\bunnypaws\\CAACAgQAAxUAAWDTd4qCM3lBTlS3wv5PZiAY3yu1AAJdAANBBI8p3coC7GuLGr0fBA.webp to E:\\training_dir\\bunnypaws\\CAACAgQAAxUAAWDTd4qCM3lBTlS3wv5PZiAY3yu1AAJdAANBBI8p3coC7GuLGr0fBA.png\n",
      "Converted E:\\training_dir\\bunnypaws\\CAACAgQAAxUAAWDTd4qdj_XNNlft2hTFG8GYW3gYAAKDAANBBI8pcTXTxQdA2xYfBA.webp to E:\\training_dir\\bunnypaws\\CAACAgQAAxUAAWDTd4qdj_XNNlft2hTFG8GYW3gYAAKDAANBBI8pcTXTxQdA2xYfBA.png\n",
      "Converted E:\\training_dir\\bunnypaws\\CAACAgQAAxUAAWDTd4qDUQ5_Qy5_YcCRlpFe34-8AAI6AANBBI8ptxOBq0FmuhEfBA.webp to E:\\training_dir\\bunnypaws\\CAACAgQAAxUAAWDTd4qDUQ5_Qy5_YcCRlpFe34-8AAI6AANBBI8ptxOBq0FmuhEfBA.png\n",
      "Converted E:\\training_dir\\bunnypaws\\CAACAgQAAxUAAWDTd4qg1sbu5-yEydwhwXsBiBkNAAIyAANBBI8phe7AL-LagXcfBA.webp to E:\\training_dir\\bunnypaws\\CAACAgQAAxUAAWDTd4qg1sbu5-yEydwhwXsBiBkNAAIyAANBBI8phe7AL-LagXcfBA.png\n",
      "Converted E:\\training_dir\\bunnypaws\\CAACAgQAAxUAAWDTd4qGyNhu9YPJtJNbT-_qMgM9AAIVAANBBI8pRD8RPrU0ddMfBA.webp to E:\\training_dir\\bunnypaws\\CAACAgQAAxUAAWDTd4qGyNhu9YPJtJNbT-_qMgM9AAIVAANBBI8pRD8RPrU0ddMfBA.png\n",
      "Converted E:\\training_dir\\bunnypaws\\CAACAgQAAxUAAWDTd4qipUmxGrBRG98ySKM16MIAA14AA0EEjyl5LXFbWyWz0R8E.webp to E:\\training_dir\\bunnypaws\\CAACAgQAAxUAAWDTd4qipUmxGrBRG98ySKM16MIAA14AA0EEjyl5LXFbWyWz0R8E.png\n",
      "Converted E:\\training_dir\\bunnypaws\\CAACAgQAAxUAAWDTd4qjaO0uMEq3j5Y4kWq9MMKbAAIsAANBBI8pnBWaXwABn0iqHwQ.webp to E:\\training_dir\\bunnypaws\\CAACAgQAAxUAAWDTd4qjaO0uMEq3j5Y4kWq9MMKbAAIsAANBBI8pnBWaXwABn0iqHwQ.png\n",
      "Converted E:\\training_dir\\bunnypaws\\CAACAgQAAxUAAWDTd4qK5_f9L97ZGJOl4-0DlH3GAAIhAANBBI8puz4iDxHA2VwfBA.webp to E:\\training_dir\\bunnypaws\\CAACAgQAAxUAAWDTd4qK5_f9L97ZGJOl4-0DlH3GAAIhAANBBI8puz4iDxHA2VwfBA.png\n",
      "Converted E:\\training_dir\\bunnypaws\\CAACAgQAAxUAAWDTd4qmM2a3083_J0_j_3mwLuaqAAJXAANBBI8pqzCv0PPo0vYfBA.webp to E:\\training_dir\\bunnypaws\\CAACAgQAAxUAAWDTd4qmM2a3083_J0_j_3mwLuaqAAJXAANBBI8pqzCv0PPo0vYfBA.png\n",
      "Converted E:\\training_dir\\bunnypaws\\CAACAgQAAxUAAWDTd4qmZlL4HiMYqyONVFi_Xvt_AAIkAANBBI8pSSRPC-FQEPwfBA.webp to E:\\training_dir\\bunnypaws\\CAACAgQAAxUAAWDTd4qmZlL4HiMYqyONVFi_Xvt_AAIkAANBBI8pSSRPC-FQEPwfBA.png\n",
      "Converted E:\\training_dir\\bunnypaws\\CAACAgQAAxUAAWDTd4qRjS7j3Feda5cgmSoP5LwJAAKCAANBBI8psYSyoB13HIgfBA.webp to E:\\training_dir\\bunnypaws\\CAACAgQAAxUAAWDTd4qRjS7j3Feda5cgmSoP5LwJAAKCAANBBI8psYSyoB13HIgfBA.png\n",
      "Converted E:\\training_dir\\bunnypaws\\CAACAgQAAxUAAWDTd4qxi1vW9xFLmDSjFcZNhRaXAAI7AANBBI8p0E6g8L5TvcQfBA.webp to E:\\training_dir\\bunnypaws\\CAACAgQAAxUAAWDTd4qxi1vW9xFLmDSjFcZNhRaXAAI7AANBBI8p0E6g8L5TvcQfBA.png\n",
      "Converted E:\\training_dir\\bunnypaws\\CAACAgQAAxUAAWDTd4r1vVh6Hkp5O1rKoYTptm8vAAIPAANBBI8pw_9pHX7FN0MfBA.webp to E:\\training_dir\\bunnypaws\\CAACAgQAAxUAAWDTd4r1vVh6Hkp5O1rKoYTptm8vAAIPAANBBI8pw_9pHX7FN0MfBA.png\n",
      "Converted E:\\training_dir\\bunnypaws\\CAACAgQAAxUAAWDTd4r4LPBGUURbRQKpFdDVayhAAAJYAANBBI8pfEZtXPgOuF4fBA.webp to E:\\training_dir\\bunnypaws\\CAACAgQAAxUAAWDTd4r4LPBGUURbRQKpFdDVayhAAAJYAANBBI8pfEZtXPgOuF4fBA.png\n",
      "Converted E:\\training_dir\\bunnypaws\\CAACAgQAAxUAAWDTd4r5ZybDC6Q-u85jS7j4-2HOAAIrAANBBI8pOZr9k1agWegfBA.webp to E:\\training_dir\\bunnypaws\\CAACAgQAAxUAAWDTd4r5ZybDC6Q-u85jS7j4-2HOAAIrAANBBI8pOZr9k1agWegfBA.png\n",
      "Converted E:\\training_dir\\bunnypaws\\CAACAgQAAxUAAWDTd4r6-su20V-ke5cfXJuhURBEAAIYAANBBI8pDfr4aUhtPoUfBA.webp to E:\\training_dir\\bunnypaws\\CAACAgQAAxUAAWDTd4r6-su20V-ke5cfXJuhURBEAAIYAANBBI8pDfr4aUhtPoUfBA.png\n",
      "Converted E:\\training_dir\\bunnypaws\\CAACAgQAAxUAAWDTd4r8YX1yEh9SpuBN1BCjtFLoAAIvAANBBI8pDo33GIcBfFAfBA.webp to E:\\training_dir\\bunnypaws\\CAACAgQAAxUAAWDTd4r8YX1yEh9SpuBN1BCjtFLoAAIvAANBBI8pDo33GIcBfFAfBA.png\n",
      "Converted E:\\training_dir\\bunnypaws\\CAACAgQAAxUAAWDTd4r8zQe9aLseMTdZL0Pf-1BuAAIoAANBBI8pvD92OhWGxK4fBA.webp to E:\\training_dir\\bunnypaws\\CAACAgQAAxUAAWDTd4r8zQe9aLseMTdZL0Pf-1BuAAIoAANBBI8pvD92OhWGxK4fBA.png\n",
      "Converted E:\\training_dir\\bunnypaws\\CAACAgQAAxUAAWDTd4raC-WMfjtAOejcPZYeqI45AAKBAANBBI8pt3oUA5x5ZowfBA.webp to E:\\training_dir\\bunnypaws\\CAACAgQAAxUAAWDTd4raC-WMfjtAOejcPZYeqI45AAKBAANBBI8pt3oUA5x5ZowfBA.png\n",
      "Converted E:\\training_dir\\bunnypaws\\CAACAgQAAxUAAWDTd4rb1BOdu_zzW5-OZvKijVeaAAIaAANBBI8pptGlvVBcVkIfBA.webp to E:\\training_dir\\bunnypaws\\CAACAgQAAxUAAWDTd4rb1BOdu_zzW5-OZvKijVeaAAIaAANBBI8pptGlvVBcVkIfBA.png\n",
      "Converted E:\\training_dir\\bunnypaws\\CAACAgQAAxUAAWDTd4rC67EiJF9qJr4FscYVF8HpAAIxAANBBI8pUqelRZFWzIYfBA.webp to E:\\training_dir\\bunnypaws\\CAACAgQAAxUAAWDTd4rC67EiJF9qJr4FscYVF8HpAAIxAANBBI8pUqelRZFWzIYfBA.png\n",
      "Converted E:\\training_dir\\bunnypaws\\CAACAgQAAxUAAWDTd4rEfkYesu52CkRrudtcDPTdAAIQAANBBI8pLzZtanK6UrkfBA.webp to E:\\training_dir\\bunnypaws\\CAACAgQAAxUAAWDTd4rEfkYesu52CkRrudtcDPTdAAIQAANBBI8pLzZtanK6UrkfBA.png\n",
      "Converted E:\\training_dir\\bunnypaws\\CAACAgQAAxUAAWDTd4rGVxgxnu9GkI2W98vtikMrAAI3AANBBI8pnHomZSe5VMUfBA.webp to E:\\training_dir\\bunnypaws\\CAACAgQAAxUAAWDTd4rGVxgxnu9GkI2W98vtikMrAAI3AANBBI8pnHomZSe5VMUfBA.png\n",
      "Converted E:\\training_dir\\bunnypaws\\CAACAgQAAxUAAWDTd4ri3Av3JrzwJCUJPlxa2FXgAAIgAANBBI8pJ0HKDyxOk1YfBA.webp to E:\\training_dir\\bunnypaws\\CAACAgQAAxUAAWDTd4ri3Av3JrzwJCUJPlxa2FXgAAIgAANBBI8pJ0HKDyxOk1YfBA.png\n",
      "Converted E:\\training_dir\\bunnypaws\\CAACAgQAAxUAAWDTd4ri9L4J-bGMobm_tsUgmMpaAAIqAANBBI8pMg4awZgpbeMfBA.webp to E:\\training_dir\\bunnypaws\\CAACAgQAAxUAAWDTd4ri9L4J-bGMobm_tsUgmMpaAAIqAANBBI8pMg4awZgpbeMfBA.png\n",
      "Converted E:\\training_dir\\bunnypaws\\CAACAgQAAxUAAWDTd4rjAQUZLgxPzylo0Drpc4tyAAIXAANBBI8p70JNJes4qJIfBA.webp to E:\\training_dir\\bunnypaws\\CAACAgQAAxUAAWDTd4rjAQUZLgxPzylo0Drpc4tyAAIXAANBBI8p70JNJes4qJIfBA.png\n",
      "Converted E:\\training_dir\\bunnypaws\\CAACAgQAAxUAAWDTd4rJEj7J-YutbxRgXbgRciRXAAITAANBBI8prB6c7AqdBIIfBA.webp to E:\\training_dir\\bunnypaws\\CAACAgQAAxUAAWDTd4rJEj7J-YutbxRgXbgRciRXAAITAANBBI8prB6c7AqdBIIfBA.png\n",
      "Converted E:\\training_dir\\bunnypaws\\CAACAgQAAxUAAWDTd4rnnk0UCW6--Qi5tGBnX9_0AAI4AANBBI8pcGMILuq54_UfBA.webp to E:\\training_dir\\bunnypaws\\CAACAgQAAxUAAWDTd4rnnk0UCW6--Qi5tGBnX9_0AAI4AANBBI8pcGMILuq54_UfBA.png\n",
      "Converted E:\\training_dir\\bunnypaws\\CAACAgQAAxUAAWDTd4rpyU5asx952b5mEJsO15ZqAAIzAANBBI8pxeNFanxRHUcfBA.webp to E:\\training_dir\\bunnypaws\\CAACAgQAAxUAAWDTd4rpyU5asx952b5mEJsO15ZqAAIzAANBBI8pxeNFanxRHUcfBA.png\n",
      "Converted E:\\training_dir\\bunnypaws\\CAACAgQAAxUAAWDTd4rTh1lf5Qcn42bU1u6OYfHnAAIiAANBBI8pFjwQpwFS2msfBA.webp to E:\\training_dir\\bunnypaws\\CAACAgQAAxUAAWDTd4rTh1lf5Qcn42bU1u6OYfHnAAIiAANBBI8pFjwQpwFS2msfBA.png\n",
      "Converted E:\\training_dir\\bunnypaws\\CAACAgQAAxUAAWDTd4rUC7wE02pCmnhW4Tg_z5UyAAIjAANBBI8plb-6CTwxDvIfBA.webp to E:\\training_dir\\bunnypaws\\CAACAgQAAxUAAWDTd4rUC7wE02pCmnhW4Tg_z5UyAAIjAANBBI8plb-6CTwxDvIfBA.png\n",
      "Converted E:\\training_dir\\bunnypaws\\CAACAgQAAxUAAWDTd4rVgPriAvX_LoFRt8z2bu7-AAKAAANBBI8puD-rIc7fBosfBA.webp to E:\\training_dir\\bunnypaws\\CAACAgQAAxUAAWDTd4rVgPriAvX_LoFRt8z2bu7-AAKAAANBBI8puD-rIc7fBosfBA.png\n",
      "Converted E:\\training_dir\\bunnypaws\\CAACAgQAAxUAAWDTd4rXoOMn5sjDq9NYqPssNPhBAAIeAANBBI8pIOMc2v2XSjgfBA.webp to E:\\training_dir\\bunnypaws\\CAACAgQAAxUAAWDTd4rXoOMn5sjDq9NYqPssNPhBAAIeAANBBI8pIOMc2v2XSjgfBA.png\n",
      "Converted E:\\training_dir\\bunnypaws\\CAACAgQAAxUAAWDTd4rYZJDtM0KiDFuqU8RRnx1IAAJbAANBBI8pd9DAsXZFgOMfBA.webp to E:\\training_dir\\bunnypaws\\CAACAgQAAxUAAWDTd4rYZJDtM0KiDFuqU8RRnx1IAAJbAANBBI8pd9DAsXZFgOMfBA.png\n",
      "Converted E:\\training_dir\\bunnypaws\\CAACAgQAAxUAAWDTd4rztQKJ02KlC0xtxFOkGU9nAAIcAANBBI8pg71wEMvkoycfBA.webp to E:\\training_dir\\bunnypaws\\CAACAgQAAxUAAWDTd4rztQKJ02KlC0xtxFOkGU9nAAIcAANBBI8pg71wEMvkoycfBA.png\n",
      "Converted E:\\training_dir\\bunnypaws\\CAACAgQAAxUAAWDTdvog9GmIrFZlV-zBnL3xj8ZtAAL4BwAC0SShUwZotdV14eXTHwQ.webp to E:\\training_dir\\bunnypaws\\CAACAgQAAxUAAWDTdvog9GmIrFZlV-zBnL3xj8ZtAAL4BwAC0SShUwZotdV14eXTHwQ.png\n",
      "Converted E:\\training_dir\\bunnypaws\\CAACAgQAAxUAAWDTdvoitsW-U1GKzfSxaJ3K7p0SAAJ2CgACFNmgUzN71U3UdjGlHwQ.webp to E:\\training_dir\\bunnypaws\\CAACAgQAAxUAAWDTdvoitsW-U1GKzfSxaJ3K7p0SAAJ2CgACFNmgUzN71U3UdjGlHwQ.png\n",
      "Converted E:\\training_dir\\bunnypaws\\CAACAgQAAxUAAWDTdvoSeDWizcI1rQxsjncK1qHrAAJLCAACFzuoUwnpuoEjrJA0HwQ.webp to E:\\training_dir\\bunnypaws\\CAACAgQAAxUAAWDTdvoSeDWizcI1rQxsjncK1qHrAAJLCAACFzuoUwnpuoEjrJA0HwQ.png\n",
      "Converted E:\\training_dir\\bunnypaws\\CAACAgQAAxUAAWDTdvp7hhsEFEyAep0UdwVXDUQFAALFBwACI7TYU1Xg9yLFZ5pwHwQ.webp to E:\\training_dir\\bunnypaws\\CAACAgQAAxUAAWDTdvp7hhsEFEyAep0UdwVXDUQFAALFBwACI7TYU1Xg9yLFZ5pwHwQ.png\n",
      "Converted E:\\training_dir\\bunnypaws\\CAACAgQAAxUAAWDTdvpbm7uK26ULWN-i320AAYkycAACIwwAArIN0FN6fdNS34DSgR8E.webp to E:\\training_dir\\bunnypaws\\CAACAgQAAxUAAWDTdvpbm7uK26ULWN-i320AAYkycAACIwwAArIN0FN6fdNS34DSgR8E.png\n",
      "Converted E:\\training_dir\\bunnypaws\\CAACAgQAAxUAAWDTdvpi8TxyViAQ2oKssBd2VnIaAAJ6CAACCTTYU1_TpyeKu7T0HwQ.webp to E:\\training_dir\\bunnypaws\\CAACAgQAAxUAAWDTdvpi8TxyViAQ2oKssBd2VnIaAAJ6CAACCTTYU1_TpyeKu7T0HwQ.png\n",
      "Converted E:\\training_dir\\bunnypaws\\CAACAgQAAxUAAWDTdvpJOi2IFxhBNapovsXuHXa9AAKrCgACUsbRU6Ao7E30qmJaHwQ.webp to E:\\training_dir\\bunnypaws\\CAACAgQAAxUAAWDTdvpJOi2IFxhBNapovsXuHXa9AAKrCgACUsbRU6Ao7E30qmJaHwQ.png\n",
      "Converted E:\\training_dir\\bunnypaws\\CAACAgQAAxUAAWDTdvpnwvqLsNbzQlybuVvxrjxFAAKaCAACHj_QUyXkv7g-DyyvHwQ.webp to E:\\training_dir\\bunnypaws\\CAACAgQAAxUAAWDTdvpnwvqLsNbzQlybuVvxrjxFAAKaCAACHj_QUyXkv7g-DyyvHwQ.png\n",
      "Converted E:\\training_dir\\bunnypaws\\CAACAgQAAxUAAWDTdvpWgIdo4MOC-hAugSWoKNjkAAKnCAACVDfYUxNV92mq8vGDHwQ.webp to E:\\training_dir\\bunnypaws\\CAACAgQAAxUAAWDTdvpWgIdo4MOC-hAugSWoKNjkAAKnCAACVDfYUxNV92mq8vGDHwQ.png\n",
      "Converted E:\\training_dir\\bunnypaws\\CAACAgQAAxUAAWDTdvpZCGSke-GZy1YH7O4uFDIGAAITCAACs2qoUy_cI-sng66_HwQ.webp to E:\\training_dir\\bunnypaws\\CAACAgQAAxUAAWDTdvpZCGSke-GZy1YH7O4uFDIGAAITCAACs2qoUy_cI-sng66_HwQ.png\n",
      "Converted E:\\training_dir\\bunnypaws\\CAACAgQAAxUAAWDTdvq1rn2Eww-IeE1klRlJkJK-AAJSCgACSMGgU3UeQzDjygmcHwQ.webp to E:\\training_dir\\bunnypaws\\CAACAgQAAxUAAWDTdvq1rn2Eww-IeE1klRlJkJK-AAJSCgACSMGgU3UeQzDjygmcHwQ.png\n",
      "Converted E:\\training_dir\\bunnypaws\\CAACAgQAAxUAAWDTdvqUzHfGvXvAEUT_zR3U2lQAA-gIAAKBeKhTeqPs1ybXmqgfBA.webp to E:\\training_dir\\bunnypaws\\CAACAgQAAxUAAWDTdvqUzHfGvXvAEUT_zR3U2lQAA-gIAAKBeKhTeqPs1ybXmqgfBA.png\n",
      "Converted E:\\training_dir\\bunnypaws\\CAACAgQAAxUAAWDTdvr0ThIYtfmhoRea6D_qywAB_wACRQ0AApdZoVMMc19yMSl0NB8E.webp to E:\\training_dir\\bunnypaws\\CAACAgQAAxUAAWDTdvr0ThIYtfmhoRea6D_qywAB_wACRQ0AApdZoVMMc19yMSl0NB8E.png\n",
      "Converted E:\\training_dir\\bunnypaws\\CAACAgQAAxUAAWDTdvr37M2_9DVtMl3bL4Hl34FdAAIJDAAC8MqhU6FPY4s5SjWrHwQ.webp to E:\\training_dir\\bunnypaws\\CAACAgQAAxUAAWDTdvr37M2_9DVtMl3bL4Hl34FdAAIJDAAC8MqhU6FPY4s5SjWrHwQ.png\n",
      "Converted E:\\training_dir\\bunnypaws\\CAACAgQAAxUAAWDTdvrb3rGZuGkmvUXxEi0eVkuoAAJ_CgACNwyhUw4YK-n_itKRHwQ.webp to E:\\training_dir\\bunnypaws\\CAACAgQAAxUAAWDTdvrb3rGZuGkmvUXxEi0eVkuoAAJ_CgACNwyhUw4YK-n_itKRHwQ.png\n",
      "Converted E:\\training_dir\\bunnypaws\\CAACAgQAAxUAAWDTdvrjFMHvRNBoDSTZ8ubNI63VAAKyFQACiRugU1qHKmNJ0w1tHwQ.webp to E:\\training_dir\\bunnypaws\\CAACAgQAAxUAAWDTdvrjFMHvRNBoDSTZ8ubNI63VAAKyFQACiRugU1qHKmNJ0w1tHwQ.png\n",
      "Converted E:\\training_dir\\bunnypaws\\CAACAgQAAxUAAWDTdvrVKhmAZdtBzlvTZlAdqjt9AAILCgACpCnZUzKsugmk18fKHwQ.webp to E:\\training_dir\\bunnypaws\\CAACAgQAAxUAAWDTdvrVKhmAZdtBzlvTZlAdqjt9AAILCgACpCnZUzKsugmk18fKHwQ.png\n",
      "Converted E:\\training_dir\\bunnypaws\\CAACAgQAAxUAAWDTdvrWuA5Ef_O0xg5dFLT72OKZAAKkCAACo43RUztfC-7Mfi7GHwQ.webp to E:\\training_dir\\bunnypaws\\CAACAgQAAxUAAWDTdvrWuA5Ef_O0xg5dFLT72OKZAAKkCAACo43RUztfC-7Mfi7GHwQ.png\n",
      "Converted E:\\training_dir\\bunnypaws\\CAACAgQAAxUAAWDTdvrXQbcQbROIz75PbiIdZ6Z3AALOCQACKSSoU1XGqQ01l1u2HwQ.webp to E:\\training_dir\\bunnypaws\\CAACAgQAAxUAAWDTdvrXQbcQbROIz75PbiIdZ6Z3AALOCQACKSSoU1XGqQ01l1u2HwQ.png\n",
      "Converted E:\\training_dir\\bunnypaws\\CAACAgQAAxUAAWFII2whcPCb8fgeCFupyWchqLM-AAIpAwAC8cCUCUHb29sKklYdIAQ.webp to E:\\training_dir\\bunnypaws\\CAACAgQAAxUAAWFII2whcPCb8fgeCFupyWchqLM-AAIpAwAC8cCUCUHb29sKklYdIAQ.png\n",
      "Converted E:\\training_dir\\bunnypaws\\CAACAgQAAxUAAWFII2wv3-U9VsjaOmlFFyhS9jhVAAInAwAC8cCUCbQZBeTjtii8IAQ.webp to E:\\training_dir\\bunnypaws\\CAACAgQAAxUAAWFII2wv3-U9VsjaOmlFFyhS9jhVAAInAwAC8cCUCbQZBeTjtii8IAQ.png\n",
      "Converted E:\\training_dir\\bunnypaws\\CAACAgQAAxUAAWFIIVQG6QS2VmhitLBFzPVUGjAiAAIPAAPhgOIcWx-D6ml4AAGdIAQ.webp to E:\\training_dir\\bunnypaws\\CAACAgQAAxUAAWFIIVQG6QS2VmhitLBFzPVUGjAiAAIPAAPhgOIcWx-D6ml4AAGdIAQ.png\n",
      "Converted E:\\training_dir\\bunnypaws\\CAACAgQAAxUAAWFIIVR-2Z4GBoAfL_0-BIx9ut3EAAIMAAPhgOIcLFs6iz-IXi8gBA.webp to E:\\training_dir\\bunnypaws\\CAACAgQAAxUAAWFIIVR-2Z4GBoAfL_0-BIx9ut3EAAIMAAPhgOIcLFs6iz-IXi8gBA.png\n",
      "Converted E:\\training_dir\\bunnypaws\\CAACAgQAAxUAAWFIIVSFc2wSzVIbfzqmqiOCcqIgAAINAAPhgOIcHTIFJD4R4PAgBA.webp to E:\\training_dir\\bunnypaws\\CAACAgQAAxUAAWFIIVSFc2wSzVIbfzqmqiOCcqIgAAINAAPhgOIcHTIFJD4R4PAgBA.png\n",
      "Converted E:\\training_dir\\bunnypaws\\CAACAgQAAxUAAWFIIVT6G2Zu0hKtRPHbY0SR2eDxAAILAAPhgOIcDJyMwuV7REUgBA.webp to E:\\training_dir\\bunnypaws\\CAACAgQAAxUAAWFIIVT6G2Zu0hKtRPHbY0SR2eDxAAILAAPhgOIcDJyMwuV7REUgBA.png\n",
      "Converted E:\\training_dir\\bunnypaws\\CAACAgQAAxUAAWFIIVT9vhDtxOiWaRZa8mYAAUTyuAACDgAD4YDiHKtuj-GoerDDIAQ.webp to E:\\training_dir\\bunnypaws\\CAACAgQAAxUAAWFIIVT9vhDtxOiWaRZa8mYAAUTyuAACDgAD4YDiHKtuj-GoerDDIAQ.png\n",
      "Converted E:\\training_dir\\bunnypaws\\CAACAgQAAxUAAWFIIVToyVqIdH9HypyqxZ24sJJnAAIQAAPhgOIcJhaRN2xHgawgBA.webp to E:\\training_dir\\bunnypaws\\CAACAgQAAxUAAWFIIVToyVqIdH9HypyqxZ24sJJnAAIQAAPhgOIcJhaRN2xHgawgBA.png\n",
      "Converted E:\\training_dir\\bunnypaws\\CAACAgQAAxUAAWIi_gdBXbxnTDqmeg2GdyF6Iu6fAAJHCwACN_NpUTulV756qUZhIwQ.webp to E:\\training_dir\\bunnypaws\\CAACAgQAAxUAAWIi_gdBXbxnTDqmeg2GdyF6Iu6fAAJHCwACN_NpUTulV756qUZhIwQ.png\n",
      "Converted E:\\training_dir\\bunnypaws\\CAACAgQAAxUAAWIi_gdd3JcFgUHXwNdJeNDNdkVqAAKECgACTKxoUXCka4rhmyrBIwQ.webp to E:\\training_dir\\bunnypaws\\CAACAgQAAxUAAWIi_gdd3JcFgUHXwNdJeNDNdkVqAAKECgACTKxoUXCka4rhmyrBIwQ.png\n",
      "Converted E:\\training_dir\\bunnypaws\\CAACAgQAAxUAAWIi_gdeQOu5SfgbRhSjWNcpEt_7AAIDCgACUo9oUVj0WvyQlqwBIwQ.webp to E:\\training_dir\\bunnypaws\\CAACAgQAAxUAAWIi_gdeQOu5SfgbRhSjWNcpEt_7AAIDCgACUo9oUVj0WvyQlqwBIwQ.png\n",
      "Converted E:\\training_dir\\bunnypaws\\CAACAgQAAxUAAWIi_gdGRl3_I5FAriw2sFr2-WyNAAKkCgACHk9oUd7hTzv27l5NIwQ.webp to E:\\training_dir\\bunnypaws\\CAACAgQAAxUAAWIi_gdGRl3_I5FAriw2sFr2-WyNAAKkCgACHk9oUd7hTzv27l5NIwQ.png\n",
      "Converted E:\\training_dir\\bunnypaws\\CAACAgQAAxUAAWIi_geE9l_85GN13C2i5BX4CW6aAAJTCwACStdpUTv5aQABCL1INyME.webp to E:\\training_dir\\bunnypaws\\CAACAgQAAxUAAWIi_geE9l_85GN13C2i5BX4CW6aAAJTCwACStdpUTv5aQABCL1INyME.png\n",
      "Converted E:\\training_dir\\bunnypaws\\CAACAgQAAxUAAWIi_gf-soqBePbcYNhrqCKVxE2dAALjCQACEAxoUfbsUStmpEztIwQ.webp to E:\\training_dir\\bunnypaws\\CAACAgQAAxUAAWIi_gf-soqBePbcYNhrqCKVxE2dAALjCQACEAxoUfbsUStmpEztIwQ.png\n",
      "Converted E:\\training_dir\\bunnypaws\\CAACAgQAAxUAAWJHUcoF5JLPg-vPgZiXUzDZnzKaAAJXCwACfynpUnvPh7Zm5AzgIwQ.webp to E:\\training_dir\\bunnypaws\\CAACAgQAAxUAAWJHUcoF5JLPg-vPgZiXUzDZnzKaAAJXCwACfynpUnvPh7Zm5AzgIwQ.png\n",
      "Converted E:\\training_dir\\bunnypaws\\CAACAgQAAxUAAWJHUcoYNXnluRMAAUh98gsRqlQXhAACgQ0AAm01sVA0pyC_mgr8BCME.webp to E:\\training_dir\\bunnypaws\\CAACAgQAAxUAAWJHUcoYNXnluRMAAUh98gsRqlQXhAACgQ0AAm01sVA0pyC_mgr8BCME.png\n",
      "Converted E:\\training_dir\\bunnypaws\\CAACAgQAAxUAAWJHUcp5hBVhklRQjn2Wns3shoaTAALaCgACRl_hUn42bt6EBUL0IwQ.webp to E:\\training_dir\\bunnypaws\\CAACAgQAAxUAAWJHUcp5hBVhklRQjn2Wns3shoaTAALaCgACRl_hUn42bt6EBUL0IwQ.png\n",
      "Converted E:\\training_dir\\bunnypaws\\CAACAgQAAxUAAWJHUcrx3YLYJKpS0bYSbyFO0yGSAAKWCgACEiewUF0idwTJdvEwIwQ.webp to E:\\training_dir\\bunnypaws\\CAACAgQAAxUAAWJHUcrx3YLYJKpS0bYSbyFO0yGSAAKWCgACEiewUF0idwTJdvEwIwQ.png\n",
      "Converted E:\\training_dir\\bunnypaws\\CAACAgQAAxUAAWKBiZE66xWFogdvUDH5Ib_kv_veAAKTDgACY4YYUNYzVmpEZ4FOJAQ.webp to E:\\training_dir\\bunnypaws\\CAACAgQAAxUAAWKBiZE66xWFogdvUDH5Ib_kv_veAAKTDgACY4YYUNYzVmpEZ4FOJAQ.png\n",
      "Converted E:\\training_dir\\bunnypaws\\CAACAgQAAxUAAWKBiZE9UhoJsRMVcQJ8qKGMtKCrAAIoCwACLEu5UhQwYj4vbcfiJAQ.webp to E:\\training_dir\\bunnypaws\\CAACAgQAAxUAAWKBiZE9UhoJsRMVcQJ8qKGMtKCrAAIoCwACLEu5UhQwYj4vbcfiJAQ.png\n",
      "Converted E:\\training_dir\\bunnypaws\\CAACAgQAAxUAAWKBiZEcgkIAAc8KcwKxFdMSXoV3YgACmgwAAmoxMVMY_vl1JhoLbyQE.webp to E:\\training_dir\\bunnypaws\\CAACAgQAAxUAAWKBiZEcgkIAAc8KcwKxFdMSXoV3YgACmgwAAmoxMVMY_vl1JhoLbyQE.png\n",
      "Converted E:\\training_dir\\bunnypaws\\CAACAgQAAxUAAWKBiZEO66-RN7bXtNyV-nY3IK99AAL1CwAC4CnIUDjqGdtJnK7gJAQ.webp to E:\\training_dir\\bunnypaws\\CAACAgQAAxUAAWKBiZEO66-RN7bXtNyV-nY3IK99AAL1CwAC4CnIUDjqGdtJnK7gJAQ.png\n",
      "Converted E:\\training_dir\\bunnypaws\\CAACAgQAAxUAAWKBiZEO9s5jkscYy1YNKw504g56AALQCwACxgngUQ4JM9alJln4JAQ.webp to E:\\training_dir\\bunnypaws\\CAACAgQAAxUAAWKBiZEO9s5jkscYy1YNKw504g56AALQCwACxgngUQ4JM9alJln4JAQ.png\n",
      "Converted E:\\training_dir\\bunnypaws\\CAACAgQAAxUAAWKBiZEXFaGvXPFhHMCddB5yi05nAAIQCwACu-7JUFBSrjHLeRm1JAQ.webp to E:\\training_dir\\bunnypaws\\CAACAgQAAxUAAWKBiZEXFaGvXPFhHMCddB5yi05nAAIQCwACu-7JUFBSrjHLeRm1JAQ.png\n",
      "Converted E:\\training_dir\\bunnypaws\\CAACAgQAAxUAAWKBiZF2KLpWVe8nDq8WFCc7e_q_AALBCgACCJC5UthNWkayQMqZJAQ.webp to E:\\training_dir\\bunnypaws\\CAACAgQAAxUAAWKBiZF2KLpWVe8nDq8WFCc7e_q_AALBCgACCJC5UthNWkayQMqZJAQ.png\n",
      "Converted E:\\training_dir\\bunnypaws\\CAACAgQAAxUAAWKBiZF7gdyukNMzAAEWDjhaeb-wvgACmgoAAmfeGFApvkLctdtBtCQE.webp to E:\\training_dir\\bunnypaws\\CAACAgQAAxUAAWKBiZF7gdyukNMzAAEWDjhaeb-wvgACmgoAAmfeGFApvkLctdtBtCQE.png\n",
      "Converted E:\\training_dir\\bunnypaws\\CAACAgQAAxUAAWKBiZF7w9Wip-s4JBTru1Qq2Vr5AAJ8CQACkdvIUKZsdi9RDS6UJAQ.webp to E:\\training_dir\\bunnypaws\\CAACAgQAAxUAAWKBiZF7w9Wip-s4JBTru1Qq2Vr5AAJ8CQACkdvIUKZsdi9RDS6UJAQ.png\n",
      "Converted E:\\training_dir\\bunnypaws\\CAACAgQAAxUAAWKBiZF8IQytpLLjrYvRlXlXs--yAAIMCQACx4bJUHE_WxEhfWVBJAQ.webp to E:\\training_dir\\bunnypaws\\CAACAgQAAxUAAWKBiZF8IQytpLLjrYvRlXlXs--yAAIMCQACx4bJUHE_WxEhfWVBJAQ.png\n",
      "Converted E:\\training_dir\\bunnypaws\\CAACAgQAAxUAAWKBiZFae9FnPKEkk7Z5RJ_cb3cNAAK2CwACimEJUEKUIjZaaX-IJAQ.webp to E:\\training_dir\\bunnypaws\\CAACAgQAAxUAAWKBiZFae9FnPKEkk7Z5RJ_cb3cNAAK2CwACimEJUEKUIjZaaX-IJAQ.png\n",
      "Converted E:\\training_dir\\bunnypaws\\CAACAgQAAxUAAWKBiZFd67845VCqzW_vv1xSFijvAAIJCwACX-S5UqC3EZIBWR4ZJAQ.webp to E:\\training_dir\\bunnypaws\\CAACAgQAAxUAAWKBiZFd67845VCqzW_vv1xSFijvAAIJCwACX-S5UqC3EZIBWR4ZJAQ.png\n",
      "Converted E:\\training_dir\\bunnypaws\\CAACAgQAAxUAAWKBiZFhyde2jduFUoCP3YYT-r33AAIJDQACsqaZUiPFknLuBH8QJAQ.webp to E:\\training_dir\\bunnypaws\\CAACAgQAAxUAAWKBiZFhyde2jduFUoCP3YYT-r33AAIJDQACsqaZUiPFknLuBH8QJAQ.png\n",
      "Converted E:\\training_dir\\bunnypaws\\CAACAgQAAxUAAWKBiZFqepPLpjEAAal5myHYnRWbFQACTAoAAsCfmVKXnzuioeDo7CQE.webp to E:\\training_dir\\bunnypaws\\CAACAgQAAxUAAWKBiZFqepPLpjEAAal5myHYnRWbFQACTAoAAsCfmVKXnzuioeDo7CQE.png\n",
      "Converted E:\\training_dir\\bunnypaws\\CAACAgQAAxUAAWKBiZFRQQHYqFoJaxrmaw8Su4KaAAKVCgAC-nrgUaNhFURHjYLvJAQ.webp to E:\\training_dir\\bunnypaws\\CAACAgQAAxUAAWKBiZFRQQHYqFoJaxrmaw8Su4KaAAKVCgAC-nrgUaNhFURHjYLvJAQ.png\n",
      "Converted E:\\training_dir\\bunnypaws\\CAACAgQAAxUAAWKBiZFXKRhtONLScKDF_d_sBJ6EAAIvEAACBwThUXwMvYhSrH8NJAQ.webp to E:\\training_dir\\bunnypaws\\CAACAgQAAxUAAWKBiZFXKRhtONLScKDF_d_sBJ6EAAIvEAACBwThUXwMvYhSrH8NJAQ.png\n",
      "Converted E:\\training_dir\\bunnypaws\\CAACAgQAAxUAAWKBiZGGSKUZbcQUwhNTuc902LB_AAKzCQACrrwZUDxEZxZtvwuYJAQ.webp to E:\\training_dir\\bunnypaws\\CAACAgQAAxUAAWKBiZGGSKUZbcQUwhNTuc902LB_AAKzCQACrrwZUDxEZxZtvwuYJAQ.png\n",
      "Converted E:\\training_dir\\bunnypaws\\CAACAgQAAxUAAWKBiZGmHNtVOvP49Y0B3y1WMvWPAAKqDAAC0RwAAVCWNsOpm_b5eCQE.webp to E:\\training_dir\\bunnypaws\\CAACAgQAAxUAAWKBiZGmHNtVOvP49Y0B3y1WMvWPAAKqDAAC0RwAAVCWNsOpm_b5eCQE.png\n",
      "Converted E:\\training_dir\\bunnypaws\\CAACAgQAAxUAAWKBiZGQtcKuaMAjl8J2eCdgQrkkAAJECQACX7iZUnq0-SVkL3sRJAQ.webp to E:\\training_dir\\bunnypaws\\CAACAgQAAxUAAWKBiZGQtcKuaMAjl8J2eCdgQrkkAAJECQACX7iZUnq0-SVkL3sRJAQ.png\n",
      "Converted E:\\training_dir\\bunnypaws\\CAACAgQAAxUAAWKBiZGVzXpahRtoSoOKfIiEtGuSAAIGCwACv6spUjB5rHSyqm1NJAQ.webp to E:\\training_dir\\bunnypaws\\CAACAgQAAxUAAWKBiZGVzXpahRtoSoOKfIiEtGuSAAIGCwACv6spUjB5rHSyqm1NJAQ.png\n",
      "Converted E:\\training_dir\\bunnypaws\\CAACAgQAAxUAAWKBiZH6p1pR-1sHJ7C-IuH7wKKsAAKWCwACCR_YUTYhwCtob1JQJAQ.webp to E:\\training_dir\\bunnypaws\\CAACAgQAAxUAAWKBiZH6p1pR-1sHJ7C-IuH7wKKsAAKWCwACCR_YUTYhwCtob1JQJAQ.png\n",
      "Converted E:\\training_dir\\bunnypaws\\CAACAgQAAxUAAWKBiZH6qFgRbdTrs6xUpoTziHjLAAKuCQACJVGYUkyjy-U5jX-bJAQ.webp to E:\\training_dir\\bunnypaws\\CAACAgQAAxUAAWKBiZH6qFgRbdTrs6xUpoTziHjLAAKuCQACJVGYUkyjy-U5jX-bJAQ.png\n",
      "Converted E:\\training_dir\\bunnypaws\\CAACAgQAAxUAAWKBiZHogw9z8VcRfs3SzeN6ZzT2AAK6CQACYczIUBszy7T60UN7JAQ.webp to E:\\training_dir\\bunnypaws\\CAACAgQAAxUAAWKBiZHogw9z8VcRfs3SzeN6ZzT2AAK6CQACYczIUBszy7T60UN7JAQ.png\n",
      "Converted E:\\training_dir\\bunnypaws\\CAACAgQAAxUAAWL2HZEG5vkZDNb6kDQiO_oAAZ-4gAACugoAAsH9cFN_JFMHbmkg3CkE.webp to E:\\training_dir\\bunnypaws\\CAACAgQAAxUAAWL2HZEG5vkZDNb6kDQiO_oAAZ-4gAACugoAAsH9cFN_JFMHbmkg3CkE.png\n",
      "Converted E:\\training_dir\\bunnypaws\\CAACAgQAAxUAAWL2HZGaQRfaHEoiZBah6LalGAhWAAIqDAACRCZpU22SoVyY5nTCKQQ.webp to E:\\training_dir\\bunnypaws\\CAACAgQAAxUAAWL2HZGaQRfaHEoiZBah6LalGAhWAAIqDAACRCZpU22SoVyY5nTCKQQ.png\n",
      "Converted E:\\training_dir\\bunnypaws\\CAACAgQAAxUAAWL2HZGHKBy9xxYhayCVpKpYy_gyAALrBgACKhgGA7W2MbfWrI1HKQQ.webp to E:\\training_dir\\bunnypaws\\CAACAgQAAxUAAWL2HZGHKBy9xxYhayCVpKpYy_gyAALrBgACKhgGA7W2MbfWrI1HKQQ.png\n",
      "Converted E:\\training_dir\\bunnypaws\\CAACAgQAAxUAAWL2HZGzoMS9MNJwrU9FkE8xQB5bAALqBgACKhgGA5d-zEi36mr9KQQ.webp to E:\\training_dir\\bunnypaws\\CAACAgQAAxUAAWL2HZGzoMS9MNJwrU9FkE8xQB5bAALqBgACKhgGA5d-zEi36mr9KQQ.png\n",
      "Converted E:\\training_dir\\bunnypaws\\CAACAgQAAxUAAWL2HZHo0Fpvy3_G4pfalEwM235zAAIzCgACipFoUw4nJpwB7HqrKQQ.webp to E:\\training_dir\\bunnypaws\\CAACAgQAAxUAAWL2HZHo0Fpvy3_G4pfalEwM235zAAIzCgACipFoUw4nJpwB7HqrKQQ.png\n",
      "Converted E:\\training_dir\\bunnypaws\\CAACAgQAAxUAAWL2HZHvbMmFAsPl6BMeOTsdh1_GAAK7CgAClCFoU9wa9uAUvFlIKQQ.webp to E:\\training_dir\\bunnypaws\\CAACAgQAAxUAAWL2HZHvbMmFAsPl6BMeOTsdh1_GAAK7CgAClCFoU9wa9uAUvFlIKQQ.png\n",
      "Converted E:\\training_dir\\bunnypaws\\CAACAgQAAxUAAWOCu2111TXt9Cb__qNSOLvK4MRAAAK4AAMzr7oHDp-Z9y6oJh8rBA.webp to E:\\training_dir\\bunnypaws\\CAACAgQAAxUAAWOCu2111TXt9Cb__qNSOLvK4MRAAAK4AAMzr7oHDp-Z9y6oJh8rBA.png\n",
      "Converted E:\\training_dir\\bunnypaws\\CAACAgQAAxUAAWOCu21FidayIkjss6kTZ05_V6ogAAK9AAMzr7oH3ed-w6OMsLcrBA.webp to E:\\training_dir\\bunnypaws\\CAACAgQAAxUAAWOCu21FidayIkjss6kTZ05_V6ogAAK9AAMzr7oH3ed-w6OMsLcrBA.png\n",
      "Converted E:\\training_dir\\bunnypaws\\CAACAgQAAxUAAWOCu22rfakH_-riLcjCEW7YJmtgAAK7AAMzr7oHfDi3R-It5eErBA.webp to E:\\training_dir\\bunnypaws\\CAACAgQAAxUAAWOCu22rfakH_-riLcjCEW7YJmtgAAK7AAMzr7oHfDi3R-It5eErBA.png\n",
      "Converted E:\\training_dir\\bunnypaws\\CAACAgQAAxUAAWOCu22z3Ht34aNLfgQrywaCg1ixAAK8AAMzr7oH3moRXEazlzwrBA.webp to E:\\training_dir\\bunnypaws\\CAACAgQAAxUAAWOCu22z3Ht34aNLfgQrywaCg1ixAAK8AAMzr7oH3moRXEazlzwrBA.png\n",
      "Converted E:\\training_dir\\bunnypaws\\CAACAgQAAxUAAWOCu23QWj6IpuMBccAlaWtTf_pXAAK6AAMzr7oHx-SCpovImTgrBA.webp to E:\\training_dir\\bunnypaws\\CAACAgQAAxUAAWOCu23QWj6IpuMBccAlaWtTf_pXAAK6AAMzr7oHx-SCpovImTgrBA.png\n",
      "Converted E:\\training_dir\\bunnypaws\\CAACAgUAAxUAAWDTcR00nQV-nio-obEepwji9sVlAAITBwACrI3WApYaA7IKCJIHHwQ.webp to E:\\training_dir\\bunnypaws\\CAACAgUAAxUAAWDTcR00nQV-nio-obEepwji9sVlAAITBwACrI3WApYaA7IKCJIHHwQ.png\n",
      "Converted E:\\training_dir\\bunnypaws\\CAACAgUAAxUAAWOCzQc7NXEyDPfUBH0uDPTR58NcAAICAwACFbXpVkEMr1pU2KSVKwQ.webp to E:\\training_dir\\bunnypaws\\CAACAgUAAxUAAWOCzQc7NXEyDPfUBH0uDPTR58NcAAICAwACFbXpVkEMr1pU2KSVKwQ.png\n",
      "Converted E:\\training_dir\\bunnypaws\\CAACAgUAAxUAAWOCzQfHdt5Pf0O6hqRz2lIjPzoXAAKvAgAClrPpVlYIryhi8ylGKwQ.webp to E:\\training_dir\\bunnypaws\\CAACAgUAAxUAAWOCzQfHdt5Pf0O6hqRz2lIjPzoXAAKvAgAClrPpVlYIryhi8ylGKwQ.png\n",
      "Converted E:\\training_dir\\bunnypaws\\Caz.webp to E:\\training_dir\\bunnypaws\\Caz.png\n",
      "Converted E:\\training_dir\\bunnypaws\\Dally.webp to E:\\training_dir\\bunnypaws\\Dally.png\n",
      "Converted E:\\training_dir\\bunnypaws\\Dem.webp to E:\\training_dir\\bunnypaws\\Dem.png\n",
      "Converted E:\\training_dir\\bunnypaws\\Emarl.webp to E:\\training_dir\\bunnypaws\\Emarl.png\n",
      "Converted E:\\training_dir\\bunnypaws\\Farfalle.webp to E:\\training_dir\\bunnypaws\\Farfalle.png\n",
      "Converted E:\\training_dir\\bunnypaws\\Fialovy.webp to E:\\training_dir\\bunnypaws\\Fialovy.png\n",
      "Converted E:\\training_dir\\bunnypaws\\GenericDefault.webp to E:\\training_dir\\bunnypaws\\GenericDefault.png\n",
      "Converted E:\\training_dir\\bunnypaws\\Koiley.webp to E:\\training_dir\\bunnypaws\\Koiley.png\n",
      "Converted E:\\training_dir\\bunnypaws\\Kyto.webp to E:\\training_dir\\bunnypaws\\Kyto.png\n",
      "Converted E:\\training_dir\\bunnypaws\\Lyx.webp to E:\\training_dir\\bunnypaws\\Lyx.png\n",
      "Converted E:\\training_dir\\bunnypaws\\Mango.webp to E:\\training_dir\\bunnypaws\\Mango.png\n",
      "Converted E:\\training_dir\\bunnypaws\\Meeps.webp to E:\\training_dir\\bunnypaws\\Meeps.png\n",
      "Converted E:\\training_dir\\bunnypaws\\Midnight.webp to E:\\training_dir\\bunnypaws\\Midnight.png\n",
      "Converted E:\\training_dir\\bunnypaws\\Movi.webp to E:\\training_dir\\bunnypaws\\Movi.png\n",
      "Converted E:\\training_dir\\bunnypaws\\Neev.webp to E:\\training_dir\\bunnypaws\\Neev.png\n",
      "Converted E:\\training_dir\\bunnypaws\\Otter.webp to E:\\training_dir\\bunnypaws\\Otter.png\n",
      "Converted E:\\training_dir\\bunnypaws\\Raditas.webp to E:\\training_dir\\bunnypaws\\Raditas.png\n",
      "Converted E:\\training_dir\\bunnypaws\\Raijen.webp to E:\\training_dir\\bunnypaws\\Raijen.png\n",
      "Converted E:\\training_dir\\bunnypaws\\Rogue.webp to E:\\training_dir\\bunnypaws\\Rogue.png\n",
      "Converted E:\\training_dir\\bunnypaws\\Seven.webp to E:\\training_dir\\bunnypaws\\Seven.png\n",
      "Converted E:\\training_dir\\bunnypaws\\Sevrah.webp to E:\\training_dir\\bunnypaws\\Sevrah.png\n",
      "Converted E:\\training_dir\\bunnypaws\\Soukuugo.webp to E:\\training_dir\\bunnypaws\\Soukuugo.png\n",
      "Converted E:\\training_dir\\bunnypaws\\West2.webp to E:\\training_dir\\bunnypaws\\West2.png\n"
     ]
    }
   ],
   "source": [
    "import os\n",
    "from PIL import Image\n",
    "\n",
    "def convert_webp_to_png(directory):\n",
    "    for root, dirs, files in os.walk(directory):\n",
    "        for file in files:\n",
    "            if file.lower().endswith('.webp'):\n",
    "                webp_path = os.path.join(root, file)\n",
    "                png_path = os.path.splitext(webp_path)[0] + '.png'\n",
    "                try:\n",
    "                    with Image.open(webp_path) as img:\n",
    "                        img.save(png_path, format='PNG')\n",
    "\n",
    "                    os.remove(webp_path)\n",
    "                    print(f\"Converted {webp_path} to {png_path}\")\n",
    "                except Exception as e:\n",
    "                    print(f\"Error converting {webp_path}: {e}\")\n",
    "\n",
    "directory = r'E:\\training_dir'\n",
    "convert_webp_to_png(directory)"
   ]
  },
  {
   "cell_type": "markdown",
   "metadata": {},
   "source": []
  },
  {
   "cell_type": "code",
   "execution_count": 18,
   "metadata": {},
   "outputs": [
    {
     "name": "stdout",
     "output_type": "stream",
     "text": [
      "Warning: Tags file missing for 5399024-snake-scales-texture-pattern-reptile-colorful-skin-blue-scale-scaley-scaly-australia-david-clode-macro-new-skin-water-python-python-iridescence-iridescent-abstract-png-images.jpg\n",
      "Warning: Caption file missing for 5399024-snake-scales-texture-pattern-reptile-colorful-skin-blue-scale-scaley-scaly-australia-david-clode-macro-new-skin-water-python-python-iridescence-iridescent-abstract-png-images.jpg\n",
      "Processed Tibet tilkisi.jpg successfully.\n",
      "Warning: Caption file missing for tibetan-foxes-2048x1159.jpg\n",
      "Processed tumblr_41647863cea34e332fdeab607f40531f_7f78453a_1280.jpg successfully.\n",
      "Warning: Caption file missing for 00000233-03232306.png\n",
      "Warning: Caption file missing for 00051-1629238066.png\n",
      "Warning: Caption file missing for 00053-241989068.png\n",
      "Warning: Caption file missing for 00091-2849301263.png\n",
      "Warning: Caption file missing for 00302-1912251111.png\n",
      "Warning: Caption file missing for 00845-1683561778.png\n",
      "Warning: Caption file missing for 07bd3943-bd6c-4c9b-9e0a-683ed1b92899.png\n",
      "Warning: Caption file missing for 10846033.jpg\n",
      "Warning: Caption file missing for 10846076.jpg\n",
      "Processed 1539232.jpg successfully.\n",
      "Processed 1f049eb995024948b6b7f2205e0703af.jpg successfully.\n",
      "Warning: Caption file missing for 2018-12-02-19-17-46-1200x800.jpg\n",
      "Processed 37398.jpg successfully.\n",
      "Warning: Caption file missing for 3dfb5542-b462-435b-b204-83b76122f4a1.png\n",
      "Warning: Caption file missing for 441e95f17163856adbcdee6b1b2cb433.png\n",
      "Warning: Caption file missing for 74a76661fe5840e08f7724cabd93b289.pngtplv-6bxrjdptv7-image.png\n",
      "Warning: Caption file missing for 7af8f639c59f0276970a3b476778c9a5.png\n",
      "Warning: Caption file missing for 81b16ba5-5867-4dac-b2aa-e366f10778e2.png\n",
      "Warning: Caption file missing for 83973-fox-foxes-face.jpg\n",
      "Warning: Caption file missing for 882adc1422e945259cf54be10ab8270e.jpg\n",
      "Warning: Caption file missing for 8a3caa4d-1fbf-473c-80cb-b632b4db2480.png\n",
      "Warning: Caption file missing for animal-fur-2.jpg\n",
      "Warning: Caption file missing for b4584b0f5f4d11df8181000b2f3ed30f.jpg\n",
      "Warning: Caption file missing for BifrostprojectV4.8.safetensorsUpscale_00007_.png\n",
      "Warning: Caption file missing for BifrostprojectV4.8.safetensorsUpscale_00010_.png\n",
      "Warning: Caption file missing for BifrostprojectV4.8.safetensorsUpscale_00014_.png\n",
      "Warning: Caption file missing for BifrostprojectV4.8.safetensorsUpscale_00032_.png\n",
      "Warning: Caption file missing for BifrostprojectV4.8.safetensorsUpscale_00038_.png\n",
      "Warning: Caption file missing for BifrostprojectV4.8.safetensorsUpscale_00039_.png\n",
      "Processed Border-Collie-2.jpg successfully.\n",
      "Processed border-collie-4.jpg successfully.\n",
      "Processed border-collie-running-grass-299097784-2000-226321f61c2c426da90434e13a55a0b5.jpeg successfully.\n",
      "Warning: Caption file missing for c50d73ab7dc24215b3dc3fcfc014d5da.jpg\n",
      "Warning: Caption file missing for ComfyUI_00870_.png\n",
      "Processed cute-red-panda-ailurus-fulgens-in-a-tree.jpg successfully.\n",
      "Warning: Caption file missing for e5280a8f-4b21-45a9-bfd7-9b0d4cf2524d.png\n",
      "Warning: Tags file missing for fenn.JPG\n",
      "Processed fennec-fox--vulpes-zerda---484466908-bc194497fd834b29bf44692c4908d4bc.jpg successfully.\n",
      "Processed fennec-fox-01-f56044b427f64d64a263417db3c23a13.jpg successfully.\n",
      "Warning: Caption file missing for fine_print_part_3_7__horse_tf__by_spichtf_dh2nq5m-fullview.png\n",
      "Processed gecko.jpg successfully.\n",
      "Warning: Caption file missing for HeuA9t.jpg\n",
      "Warning: Caption file missing for imagen.png\n",
      "Processed iStock-484910814.jpg successfully.\n",
      "Processed p86qy9k3xm851.png successfully.\n",
      "Processed puvwusj6wcu41.jpg successfully.\n",
      "Processed Red_Panda_(25193861686).jpg successfully.\n",
      "Processed rev-1-PDP-TRL2-093_High_Res_JPEG.png successfully.\n",
      "Processed snow-leopard--panthera-uncia--157528589-5c473a9ec9e77c00016ec625.jpg successfully.\n",
      "Processed snow-leopard-1373866.jpg successfully.\n",
      "Processed snow-leopard-1463457416BI7.jpg successfully.\n",
      "Processed Snow_Leopard_Relaxed.jpg successfully.\n",
      "Processed the-cuteness-that-is-the-fennec-fox-fennec-foxes-19305761-2560-1707.jpg successfully.\n",
      "Processed the-endangered-snow-leopard.jpg successfully.\n",
      "Warning: Caption file missing for view (1).png\n",
      "Warning: Caption file missing for view (2).png\n",
      "Warning: Caption file missing for view (3).png\n",
      "Warning: Caption file missing for view (4).png\n",
      "Warning: Caption file missing for view (5).png\n",
      "Warning: Caption file missing for view (6).png\n",
      "Warning: Caption file missing for view.png\n",
      "Warning: Caption file missing for view2.png\n",
      "Warning: Caption file missing for view3.png\n",
      "Processed Young-Snow-Leopard-©-David-Lawson-_-WWF-UK-scaled.jpg successfully.\n",
      "Warning: Caption file missing for 10b627b9b2bd45a10ecadb685679bf3c.jpg\n",
      "Processed 129440_Iridescent-fish-scales_shutterstock_586009376---Index.jpg successfully.\n"
     ]
    }
   ],
   "source": [
    "import os\n",
    "\n",
    "def process_image_files(directory):\n",
    "    \"\"\"\n",
    "    Process image files in the given directory. For each image file (.jpeg, .jpg, .png),\n",
    "    if corresponding tags and caption files exist, combine the tags (.tags) and caption (.caption)\n",
    "    into a single text file (.txt) with tags followed by caption separated by a comma. Additionally,\n",
    "    the caption will have the following modifications:\n",
    "        - Each sentence will have commas inside sentences stripped from them.\n",
    "        - Each sentence will end with a period followed by a comma.\n",
    "        - Any parentheses in the tags will be escaped with a backslash.\n",
    "\n",
    "    Parameters:\n",
    "        directory (str): The directory path containing image files and associated tags\n",
    "                         and caption files.\n",
    "    \"\"\"\n",
    "    for root, dirs, files in os.walk(directory):\n",
    "        for file in files:\n",
    "            if file.lower().endswith(('.jpeg', '.jpg', '.png')):\n",
    "                image_name, _ = os.path.splitext(file)\n",
    "                tags_file = os.path.join(root, image_name + '.tags')\n",
    "                caption_file = os.path.join(root, image_name + '.caption')\n",
    "                txt_file = os.path.join(root, image_name + '.txt')\n",
    "                \n",
    "                if os.path.exists(tags_file) and os.path.exists(caption_file):\n",
    "                    with open(tags_file, 'r') as f:\n",
    "                        tags = f.read().strip()\n",
    "                        tags = tags.replace('(', '\\\\(').replace(')', '\\\\)')\n",
    "                    with open(caption_file, 'r') as f:\n",
    "                        caption = f.read().strip()\n",
    "                        caption = caption.replace(', ', ' ')\n",
    "                        caption = caption.replace('.', '.,')\n",
    "                        caption = caption.rstrip(',')\n",
    "                    \n",
    "                    with open(txt_file, 'w') as f:\n",
    "                        f.write(tags + ', ' + caption)\n",
    "                    print(f\"Processed {file} successfully.\")\n",
    "                else:\n",
    "                    if not os.path.exists(tags_file):\n",
    "                        print(f\"Warning: Tags file missing for {file}\")\n",
    "                    if not os.path.exists(caption_file):\n",
    "                        print(f\"Warning: Caption file missing for {file}\")\n",
    "\n",
    "directory = r'C:\\Users\\kade\\Desktop\\training_dir_staging'\n",
    "process_image_files(directory)"
   ]
  },
  {
   "cell_type": "code",
   "execution_count": 20,
   "metadata": {},
   "outputs": [
    {
     "name": "stdout",
     "output_type": "stream",
     "text": [
      "Missing files:\n",
      "C:\\Users\\kade\\Desktop\\training_dir_staging\\129440_Iridescent-fish-scales_shutterstock_586009376---Index.caption\n",
      "C:\\Users\\kade\\Desktop\\training_dir_staging\\129440_Iridescent-fish-scales_shutterstock_586009376---Index.tags\n",
      "C:\\Users\\kade\\Desktop\\training_dir_staging\\1539232.caption\n",
      "C:\\Users\\kade\\Desktop\\training_dir_staging\\1539232.tags\n",
      "C:\\Users\\kade\\Desktop\\training_dir_staging\\37398.caption\n",
      "C:\\Users\\kade\\Desktop\\training_dir_staging\\37398.tags\n",
      "C:\\Users\\kade\\Desktop\\training_dir_staging\\Border-Collie-2.caption\n",
      "C:\\Users\\kade\\Desktop\\training_dir_staging\\Border-Collie-2.tags\n",
      "C:\\Users\\kade\\Desktop\\training_dir_staging\\border-collie-4.caption\n",
      "C:\\Users\\kade\\Desktop\\training_dir_staging\\border-collie-4.tags\n",
      "C:\\Users\\kade\\Desktop\\training_dir_staging\\border-collie-running-grass-299097784-2000-226321f61c2c426da90434e13a55a0b5.caption\n",
      "C:\\Users\\kade\\Desktop\\training_dir_staging\\border-collie-running-grass-299097784-2000-226321f61c2c426da90434e13a55a0b5.tags\n",
      "C:\\Users\\kade\\Desktop\\training_dir_staging\\cute-red-panda-ailurus-fulgens-in-a-tree.caption\n",
      "C:\\Users\\kade\\Desktop\\training_dir_staging\\cute-red-panda-ailurus-fulgens-in-a-tree.tags\n",
      "C:\\Users\\kade\\Desktop\\training_dir_staging\\Fennec Fox_11102014_TC (44).caption\n",
      "C:\\Users\\kade\\Desktop\\training_dir_staging\\Fennec Fox_11102014_TC (44).tags\n",
      "C:\\Users\\kade\\Desktop\\training_dir_staging\\fennec-fox--vulpes-zerda---484466908-bc194497fd834b29bf44692c4908d4bc.caption\n",
      "C:\\Users\\kade\\Desktop\\training_dir_staging\\fennec-fox--vulpes-zerda---484466908-bc194497fd834b29bf44692c4908d4bc.tags\n",
      "C:\\Users\\kade\\Desktop\\training_dir_staging\\fennec-fox-01-f56044b427f64d64a263417db3c23a13.caption\n",
      "C:\\Users\\kade\\Desktop\\training_dir_staging\\fennec-fox-01-f56044b427f64d64a263417db3c23a13.tags\n",
      "C:\\Users\\kade\\Desktop\\training_dir_staging\\gecko.caption\n",
      "C:\\Users\\kade\\Desktop\\training_dir_staging\\gecko.tags\n",
      "C:\\Users\\kade\\Desktop\\training_dir_staging\\p86qy9k3xm851.caption\n",
      "C:\\Users\\kade\\Desktop\\training_dir_staging\\p86qy9k3xm851.tags\n",
      "C:\\Users\\kade\\Desktop\\training_dir_staging\\puvwusj6wcu41.caption\n",
      "C:\\Users\\kade\\Desktop\\training_dir_staging\\puvwusj6wcu41.tags\n",
      "C:\\Users\\kade\\Desktop\\training_dir_staging\\Red_Panda_(25193861686).caption\n",
      "C:\\Users\\kade\\Desktop\\training_dir_staging\\Red_Panda_(25193861686).tags\n",
      "C:\\Users\\kade\\Desktop\\training_dir_staging\\snow-leopard--panthera-uncia--157528589-5c473a9ec9e77c00016ec625.caption\n",
      "C:\\Users\\kade\\Desktop\\training_dir_staging\\snow-leopard--panthera-uncia--157528589-5c473a9ec9e77c00016ec625.tags\n",
      "C:\\Users\\kade\\Desktop\\training_dir_staging\\snow-leopard-1373866.caption\n",
      "C:\\Users\\kade\\Desktop\\training_dir_staging\\snow-leopard-1373866.tags\n",
      "C:\\Users\\kade\\Desktop\\training_dir_staging\\snow-leopard-1463457416BI7.caption\n",
      "C:\\Users\\kade\\Desktop\\training_dir_staging\\snow-leopard-1463457416BI7.tags\n",
      "C:\\Users\\kade\\Desktop\\training_dir_staging\\Snow_Leopard_Relaxed.caption\n",
      "C:\\Users\\kade\\Desktop\\training_dir_staging\\Snow_Leopard_Relaxed.tags\n",
      "C:\\Users\\kade\\Desktop\\training_dir_staging\\the-cuteness-that-is-the-fennec-fox-fennec-foxes-19305761-2560-1707.caption\n",
      "C:\\Users\\kade\\Desktop\\training_dir_staging\\the-cuteness-that-is-the-fennec-fox-fennec-foxes-19305761-2560-1707.tags\n",
      "C:\\Users\\kade\\Desktop\\training_dir_staging\\the-endangered-snow-leopard.caption\n",
      "C:\\Users\\kade\\Desktop\\training_dir_staging\\the-endangered-snow-leopard.tags\n",
      "C:\\Users\\kade\\Desktop\\training_dir_staging\\Tibet tilkisi.caption\n",
      "C:\\Users\\kade\\Desktop\\training_dir_staging\\Tibet tilkisi.tags\n",
      "C:\\Users\\kade\\Desktop\\training_dir_staging\\tumblr_41647863cea34e332fdeab607f40531f_7f78453a_1280.caption\n",
      "C:\\Users\\kade\\Desktop\\training_dir_staging\\tumblr_41647863cea34e332fdeab607f40531f_7f78453a_1280.tags\n",
      "C:\\Users\\kade\\Desktop\\training_dir_staging\\Young-Snow-Leopard-©-David-Lawson-_-WWF-UK-scaled.caption\n",
      "C:\\Users\\kade\\Desktop\\training_dir_staging\\Young-Snow-Leopard-©-David-Lawson-_-WWF-UK-scaled.tags\n",
      "C:\\Users\\kade\\Desktop\\training_dir_staging\\1_anthro_female_wolf\\0065bed9d6cc650a495e33a45bb5a4b2.caption\n",
      "C:\\Users\\kade\\Desktop\\training_dir_staging\\1_anthro_female_wolf\\0065bed9d6cc650a495e33a45bb5a4b2.tags\n",
      "C:\\Users\\kade\\Desktop\\training_dir_staging\\1_anthro_female_wolf\\007922d7b32ee59c4b9b3eb410aa40ef.caption\n",
      "C:\\Users\\kade\\Desktop\\training_dir_staging\\1_anthro_female_wolf\\007922d7b32ee59c4b9b3eb410aa40ef.tags\n",
      "C:\\Users\\kade\\Desktop\\training_dir_staging\\1_anthro_female_wolf\\015b3c91db97cc1b6dcb61f3cadbab6a.caption\n",
      "C:\\Users\\kade\\Desktop\\training_dir_staging\\1_anthro_female_wolf\\015b3c91db97cc1b6dcb61f3cadbab6a.tags\n",
      "C:\\Users\\kade\\Desktop\\training_dir_staging\\1_anthro_female_wolf\\02f520839bf0e92d1d5959e15619e5c5.caption\n",
      "C:\\Users\\kade\\Desktop\\training_dir_staging\\1_anthro_female_wolf\\02f520839bf0e92d1d5959e15619e5c5.tags\n",
      "C:\\Users\\kade\\Desktop\\training_dir_staging\\1_anthro_female_wolf\\03d584d33089e524a0b0adfeb822c9ca.caption\n",
      "C:\\Users\\kade\\Desktop\\training_dir_staging\\1_anthro_female_wolf\\03d584d33089e524a0b0adfeb822c9ca.tags\n",
      "C:\\Users\\kade\\Desktop\\training_dir_staging\\1_anthro_female_wolf\\0400f0ad2913ad9142085116cba70484.caption\n",
      "C:\\Users\\kade\\Desktop\\training_dir_staging\\1_anthro_female_wolf\\0400f0ad2913ad9142085116cba70484.tags\n",
      "C:\\Users\\kade\\Desktop\\training_dir_staging\\1_anthro_female_wolf\\044ac7cef4923151b87e834d3cf47665.caption\n",
      "C:\\Users\\kade\\Desktop\\training_dir_staging\\1_anthro_female_wolf\\044ac7cef4923151b87e834d3cf47665.tags\n",
      "C:\\Users\\kade\\Desktop\\training_dir_staging\\1_anthro_female_wolf\\0742e7cf19a83803a84a54620b1573d2.caption\n",
      "C:\\Users\\kade\\Desktop\\training_dir_staging\\1_anthro_female_wolf\\0742e7cf19a83803a84a54620b1573d2.tags\n",
      "C:\\Users\\kade\\Desktop\\training_dir_staging\\1_anthro_female_wolf\\078ebaa98bc66979f853ab860da333ac.caption\n",
      "C:\\Users\\kade\\Desktop\\training_dir_staging\\1_anthro_female_wolf\\078ebaa98bc66979f853ab860da333ac.tags\n",
      "C:\\Users\\kade\\Desktop\\training_dir_staging\\1_anthro_female_wolf\\08a4a519f8f1b30b6383c0596770f4f9.caption\n",
      "C:\\Users\\kade\\Desktop\\training_dir_staging\\1_anthro_female_wolf\\08a4a519f8f1b30b6383c0596770f4f9.tags\n",
      "C:\\Users\\kade\\Desktop\\training_dir_staging\\1_anthro_female_wolf\\09907126412f1beda5395d4e6bab69ed.caption\n",
      "C:\\Users\\kade\\Desktop\\training_dir_staging\\1_anthro_female_wolf\\09907126412f1beda5395d4e6bab69ed.tags\n",
      "C:\\Users\\kade\\Desktop\\training_dir_staging\\1_anthro_female_wolf\\0aaebaa7632b50e8508cfc7e92180f0b.caption\n",
      "C:\\Users\\kade\\Desktop\\training_dir_staging\\1_anthro_female_wolf\\0aaebaa7632b50e8508cfc7e92180f0b.tags\n",
      "C:\\Users\\kade\\Desktop\\training_dir_staging\\1_anthro_female_wolf\\1302e78425465cda5670c172fb04460f.caption\n",
      "C:\\Users\\kade\\Desktop\\training_dir_staging\\1_anthro_female_wolf\\1302e78425465cda5670c172fb04460f.tags\n",
      "C:\\Users\\kade\\Desktop\\training_dir_staging\\1_anthro_female_wolf\\139bca7a738ff7790386f14d3ccf6792.caption\n",
      "C:\\Users\\kade\\Desktop\\training_dir_staging\\1_anthro_female_wolf\\139bca7a738ff7790386f14d3ccf6792.tags\n",
      "C:\\Users\\kade\\Desktop\\training_dir_staging\\1_anthro_female_wolf\\13ee9a7ac3fc1d546f7faaf65eeda6bb.caption\n",
      "C:\\Users\\kade\\Desktop\\training_dir_staging\\1_anthro_female_wolf\\13ee9a7ac3fc1d546f7faaf65eeda6bb.tags\n",
      "C:\\Users\\kade\\Desktop\\training_dir_staging\\1_anthro_female_wolf\\15529cb0d629a9609b156387672e1b86.caption\n",
      "C:\\Users\\kade\\Desktop\\training_dir_staging\\1_anthro_female_wolf\\15529cb0d629a9609b156387672e1b86.tags\n",
      "C:\\Users\\kade\\Desktop\\training_dir_staging\\1_anthro_female_wolf\\158b56747e812e4f95739c175c0517d1.caption\n",
      "C:\\Users\\kade\\Desktop\\training_dir_staging\\1_anthro_female_wolf\\158b56747e812e4f95739c175c0517d1.tags\n",
      "C:\\Users\\kade\\Desktop\\training_dir_staging\\1_anthro_female_wolf\\16fc3b693b464ff88e71f4e0e39e06d8.caption\n",
      "C:\\Users\\kade\\Desktop\\training_dir_staging\\1_anthro_female_wolf\\16fc3b693b464ff88e71f4e0e39e06d8.tags\n",
      "C:\\Users\\kade\\Desktop\\training_dir_staging\\1_anthro_female_wolf\\1707ecd2f0f11cea2cf16852f58d39b3.caption\n",
      "C:\\Users\\kade\\Desktop\\training_dir_staging\\1_anthro_female_wolf\\1707ecd2f0f11cea2cf16852f58d39b3.tags\n",
      "C:\\Users\\kade\\Desktop\\training_dir_staging\\1_anthro_female_wolf\\18ac6ba23754c307feb3f632957e7382.caption\n",
      "C:\\Users\\kade\\Desktop\\training_dir_staging\\1_anthro_female_wolf\\18ac6ba23754c307feb3f632957e7382.tags\n",
      "C:\\Users\\kade\\Desktop\\training_dir_staging\\1_anthro_female_wolf\\1ad53dc89d54a67c1a2d423fb6a146c5.caption\n",
      "C:\\Users\\kade\\Desktop\\training_dir_staging\\1_anthro_female_wolf\\1ad53dc89d54a67c1a2d423fb6a146c5.tags\n",
      "C:\\Users\\kade\\Desktop\\training_dir_staging\\1_anthro_female_wolf\\1b6eb0316c9cd2f58625c33056e355b5.caption\n",
      "C:\\Users\\kade\\Desktop\\training_dir_staging\\1_anthro_female_wolf\\1b6eb0316c9cd2f58625c33056e355b5.tags\n",
      "C:\\Users\\kade\\Desktop\\training_dir_staging\\1_anthro_female_wolf\\1bcf69e0d928323b2b18f75489fa41ba.caption\n",
      "C:\\Users\\kade\\Desktop\\training_dir_staging\\1_anthro_female_wolf\\1bcf69e0d928323b2b18f75489fa41ba.tags\n",
      "C:\\Users\\kade\\Desktop\\training_dir_staging\\1_anthro_female_wolf\\1bedc52cc0f488ffae7e75b6c1bbb9d4.caption\n",
      "C:\\Users\\kade\\Desktop\\training_dir_staging\\1_anthro_female_wolf\\1bedc52cc0f488ffae7e75b6c1bbb9d4.tags\n",
      "C:\\Users\\kade\\Desktop\\training_dir_staging\\1_anthro_female_wolf\\1f827e8065c32bca3482e171b0414617.caption\n",
      "C:\\Users\\kade\\Desktop\\training_dir_staging\\1_anthro_female_wolf\\1f827e8065c32bca3482e171b0414617.tags\n",
      "C:\\Users\\kade\\Desktop\\training_dir_staging\\1_anthro_female_wolf\\21e914e7120e63dd11c24610f28af4f5.caption\n",
      "C:\\Users\\kade\\Desktop\\training_dir_staging\\1_anthro_female_wolf\\21e914e7120e63dd11c24610f28af4f5.tags\n",
      "C:\\Users\\kade\\Desktop\\training_dir_staging\\1_anthro_female_wolf\\22fb8b15889bb32609b79b9b572c9bca.caption\n",
      "C:\\Users\\kade\\Desktop\\training_dir_staging\\1_anthro_female_wolf\\22fb8b15889bb32609b79b9b572c9bca.tags\n",
      "C:\\Users\\kade\\Desktop\\training_dir_staging\\1_anthro_female_wolf\\25a45f9d05bbbd925d1a670118bc3369.caption\n",
      "C:\\Users\\kade\\Desktop\\training_dir_staging\\1_anthro_female_wolf\\25a45f9d05bbbd925d1a670118bc3369.tags\n",
      "C:\\Users\\kade\\Desktop\\training_dir_staging\\1_anthro_female_wolf\\27f24117ffe62cb15caf9e0f04821337.caption\n",
      "C:\\Users\\kade\\Desktop\\training_dir_staging\\1_anthro_female_wolf\\27f24117ffe62cb15caf9e0f04821337.tags\n",
      "C:\\Users\\kade\\Desktop\\training_dir_staging\\1_anthro_female_wolf\\28a92c6c25ef330b79f286128c4011dc.caption\n",
      "C:\\Users\\kade\\Desktop\\training_dir_staging\\1_anthro_female_wolf\\28a92c6c25ef330b79f286128c4011dc.tags\n",
      "C:\\Users\\kade\\Desktop\\training_dir_staging\\1_anthro_female_wolf\\2c134d70a430a39ffb979b909df0b76a.caption\n",
      "C:\\Users\\kade\\Desktop\\training_dir_staging\\1_anthro_female_wolf\\2c134d70a430a39ffb979b909df0b76a.tags\n",
      "C:\\Users\\kade\\Desktop\\training_dir_staging\\1_anthro_female_wolf\\2e30adbebce9e467f58c5150c8220916.caption\n",
      "C:\\Users\\kade\\Desktop\\training_dir_staging\\1_anthro_female_wolf\\2e30adbebce9e467f58c5150c8220916.tags\n",
      "C:\\Users\\kade\\Desktop\\training_dir_staging\\1_anthro_female_wolf\\2e5df8de431314345f592d970eb4712d.caption\n",
      "C:\\Users\\kade\\Desktop\\training_dir_staging\\1_anthro_female_wolf\\2e5df8de431314345f592d970eb4712d.tags\n",
      "C:\\Users\\kade\\Desktop\\training_dir_staging\\1_anthro_female_wolf\\2eaaa2ced7090835ac5f40308217cd04.caption\n",
      "C:\\Users\\kade\\Desktop\\training_dir_staging\\1_anthro_female_wolf\\2eaaa2ced7090835ac5f40308217cd04.tags\n",
      "C:\\Users\\kade\\Desktop\\training_dir_staging\\1_anthro_female_wolf\\30a4fc6438b28b1788591f1df2fa8311.caption\n",
      "C:\\Users\\kade\\Desktop\\training_dir_staging\\1_anthro_female_wolf\\30a4fc6438b28b1788591f1df2fa8311.tags\n",
      "C:\\Users\\kade\\Desktop\\training_dir_staging\\1_anthro_female_wolf\\32416e4e13b7ec49970a093866be1965.caption\n",
      "C:\\Users\\kade\\Desktop\\training_dir_staging\\1_anthro_female_wolf\\32416e4e13b7ec49970a093866be1965.tags\n",
      "C:\\Users\\kade\\Desktop\\training_dir_staging\\1_anthro_female_wolf\\328e68bc0d20d2d063f5cf588f70379c.caption\n",
      "C:\\Users\\kade\\Desktop\\training_dir_staging\\1_anthro_female_wolf\\328e68bc0d20d2d063f5cf588f70379c.tags\n",
      "C:\\Users\\kade\\Desktop\\training_dir_staging\\1_anthro_female_wolf\\3406bf0630cd829f16756eeba3b3fce3.caption\n",
      "C:\\Users\\kade\\Desktop\\training_dir_staging\\1_anthro_female_wolf\\3406bf0630cd829f16756eeba3b3fce3.tags\n",
      "C:\\Users\\kade\\Desktop\\training_dir_staging\\1_anthro_female_wolf\\3489f2ad37044aa4cd649e69debf70de.caption\n",
      "C:\\Users\\kade\\Desktop\\training_dir_staging\\1_anthro_female_wolf\\3489f2ad37044aa4cd649e69debf70de.tags\n",
      "C:\\Users\\kade\\Desktop\\training_dir_staging\\1_anthro_female_wolf\\3635138ca3cf805463ad15d627331804.caption\n",
      "C:\\Users\\kade\\Desktop\\training_dir_staging\\1_anthro_female_wolf\\3635138ca3cf805463ad15d627331804.tags\n",
      "C:\\Users\\kade\\Desktop\\training_dir_staging\\1_anthro_female_wolf\\36d52a63508844a4fdad51e9033fd37b.caption\n",
      "C:\\Users\\kade\\Desktop\\training_dir_staging\\1_anthro_female_wolf\\36d52a63508844a4fdad51e9033fd37b.tags\n",
      "C:\\Users\\kade\\Desktop\\training_dir_staging\\1_anthro_female_wolf\\39a0ca98bef2eb97d88884a62c7604ea.caption\n",
      "C:\\Users\\kade\\Desktop\\training_dir_staging\\1_anthro_female_wolf\\39a0ca98bef2eb97d88884a62c7604ea.tags\n",
      "C:\\Users\\kade\\Desktop\\training_dir_staging\\1_anthro_female_wolf\\3a89d2c312914bc0773eee7889ca342f.caption\n",
      "C:\\Users\\kade\\Desktop\\training_dir_staging\\1_anthro_female_wolf\\3a89d2c312914bc0773eee7889ca342f.tags\n",
      "C:\\Users\\kade\\Desktop\\training_dir_staging\\1_anthro_female_wolf\\3bb8a470d1a1085287f0841a0e8a943b.caption\n",
      "C:\\Users\\kade\\Desktop\\training_dir_staging\\1_anthro_female_wolf\\3bb8a470d1a1085287f0841a0e8a943b.tags\n",
      "C:\\Users\\kade\\Desktop\\training_dir_staging\\1_anthro_female_wolf\\3cb413c76e981c4c73eb342c397c49f8.caption\n",
      "C:\\Users\\kade\\Desktop\\training_dir_staging\\1_anthro_female_wolf\\3cb413c76e981c4c73eb342c397c49f8.tags\n",
      "C:\\Users\\kade\\Desktop\\training_dir_staging\\1_anthro_female_wolf\\3ccc46f5030bf1d32f8f40b307b2a356.caption\n",
      "C:\\Users\\kade\\Desktop\\training_dir_staging\\1_anthro_female_wolf\\3ccc46f5030bf1d32f8f40b307b2a356.tags\n",
      "C:\\Users\\kade\\Desktop\\training_dir_staging\\1_anthro_female_wolf\\3efaedfb748b5264b088775b7b965469.caption\n",
      "C:\\Users\\kade\\Desktop\\training_dir_staging\\1_anthro_female_wolf\\3efaedfb748b5264b088775b7b965469.tags\n",
      "C:\\Users\\kade\\Desktop\\training_dir_staging\\1_anthro_female_wolf\\3f039793725933b93afcdb1e20287c7f.caption\n",
      "C:\\Users\\kade\\Desktop\\training_dir_staging\\1_anthro_female_wolf\\3f039793725933b93afcdb1e20287c7f.tags\n",
      "C:\\Users\\kade\\Desktop\\training_dir_staging\\1_anthro_female_wolf\\3f51d8a8b93a526578877d8b4cd94b4e.caption\n",
      "C:\\Users\\kade\\Desktop\\training_dir_staging\\1_anthro_female_wolf\\3f51d8a8b93a526578877d8b4cd94b4e.tags\n",
      "C:\\Users\\kade\\Desktop\\training_dir_staging\\1_anthro_female_wolf\\4089a82bca147e5f80b15077575c7c2b.caption\n",
      "C:\\Users\\kade\\Desktop\\training_dir_staging\\1_anthro_female_wolf\\4089a82bca147e5f80b15077575c7c2b.tags\n",
      "C:\\Users\\kade\\Desktop\\training_dir_staging\\1_anthro_female_wolf\\4276a57ae427a28cbf0fc943e8c3432e.caption\n",
      "C:\\Users\\kade\\Desktop\\training_dir_staging\\1_anthro_female_wolf\\4276a57ae427a28cbf0fc943e8c3432e.tags\n",
      "C:\\Users\\kade\\Desktop\\training_dir_staging\\1_anthro_female_wolf\\428c1b7233a5fa30d947430f9745a696.caption\n",
      "C:\\Users\\kade\\Desktop\\training_dir_staging\\1_anthro_female_wolf\\428c1b7233a5fa30d947430f9745a696.tags\n",
      "C:\\Users\\kade\\Desktop\\training_dir_staging\\1_anthro_female_wolf\\43a977cd47075b842edc45d3966085b2.caption\n",
      "C:\\Users\\kade\\Desktop\\training_dir_staging\\1_anthro_female_wolf\\43a977cd47075b842edc45d3966085b2.tags\n",
      "C:\\Users\\kade\\Desktop\\training_dir_staging\\1_anthro_female_wolf\\43cb7be77390332dcd1484c9e0d3e091.caption\n",
      "C:\\Users\\kade\\Desktop\\training_dir_staging\\1_anthro_female_wolf\\43cb7be77390332dcd1484c9e0d3e091.tags\n",
      "C:\\Users\\kade\\Desktop\\training_dir_staging\\1_anthro_female_wolf\\43f3d6bec1724008e446755905669e46.caption\n",
      "C:\\Users\\kade\\Desktop\\training_dir_staging\\1_anthro_female_wolf\\43f3d6bec1724008e446755905669e46.tags\n",
      "C:\\Users\\kade\\Desktop\\training_dir_staging\\1_anthro_female_wolf\\4820cf48f57329a4152d0db7014daaa3.caption\n",
      "C:\\Users\\kade\\Desktop\\training_dir_staging\\1_anthro_female_wolf\\4820cf48f57329a4152d0db7014daaa3.tags\n",
      "C:\\Users\\kade\\Desktop\\training_dir_staging\\1_anthro_female_wolf\\484fad4765abb786b64e348684dfb588.caption\n",
      "C:\\Users\\kade\\Desktop\\training_dir_staging\\1_anthro_female_wolf\\484fad4765abb786b64e348684dfb588.tags\n",
      "C:\\Users\\kade\\Desktop\\training_dir_staging\\1_anthro_female_wolf\\490b7bf07fdfd28ee726ca8cde24688d.caption\n",
      "C:\\Users\\kade\\Desktop\\training_dir_staging\\1_anthro_female_wolf\\490b7bf07fdfd28ee726ca8cde24688d.tags\n",
      "C:\\Users\\kade\\Desktop\\training_dir_staging\\1_anthro_female_wolf\\4a78c13c1a4462e1107e31903d1da0c4.caption\n",
      "C:\\Users\\kade\\Desktop\\training_dir_staging\\1_anthro_female_wolf\\4a78c13c1a4462e1107e31903d1da0c4.tags\n",
      "C:\\Users\\kade\\Desktop\\training_dir_staging\\1_anthro_female_wolf\\4bb1ef70dea6a72f9652c4d95fd53f99.caption\n",
      "C:\\Users\\kade\\Desktop\\training_dir_staging\\1_anthro_female_wolf\\4bb1ef70dea6a72f9652c4d95fd53f99.tags\n",
      "C:\\Users\\kade\\Desktop\\training_dir_staging\\1_anthro_female_wolf\\4c62cd7cde2ac1b11a7ee0793977955f.caption\n",
      "C:\\Users\\kade\\Desktop\\training_dir_staging\\1_anthro_female_wolf\\4c62cd7cde2ac1b11a7ee0793977955f.tags\n",
      "C:\\Users\\kade\\Desktop\\training_dir_staging\\1_anthro_female_wolf\\4de81f19c289542be7edd078a10df343.caption\n",
      "C:\\Users\\kade\\Desktop\\training_dir_staging\\1_anthro_female_wolf\\4de81f19c289542be7edd078a10df343.tags\n",
      "C:\\Users\\kade\\Desktop\\training_dir_staging\\1_anthro_female_wolf\\4f3d2007269f9acf06ea385f12ad2a13.caption\n",
      "C:\\Users\\kade\\Desktop\\training_dir_staging\\1_anthro_female_wolf\\4f3d2007269f9acf06ea385f12ad2a13.tags\n",
      "C:\\Users\\kade\\Desktop\\training_dir_staging\\1_anthro_female_wolf\\4f69292bd32a6f010124486b772c816a.caption\n",
      "C:\\Users\\kade\\Desktop\\training_dir_staging\\1_anthro_female_wolf\\4f69292bd32a6f010124486b772c816a.tags\n",
      "C:\\Users\\kade\\Desktop\\training_dir_staging\\1_anthro_female_wolf\\5109e84c97e771ce6c9b1f28b57da3a8.caption\n",
      "C:\\Users\\kade\\Desktop\\training_dir_staging\\1_anthro_female_wolf\\5109e84c97e771ce6c9b1f28b57da3a8.tags\n",
      "C:\\Users\\kade\\Desktop\\training_dir_staging\\1_anthro_female_wolf\\531af2cf667276ee5b1f9de81a02f529.caption\n",
      "C:\\Users\\kade\\Desktop\\training_dir_staging\\1_anthro_female_wolf\\531af2cf667276ee5b1f9de81a02f529.tags\n",
      "C:\\Users\\kade\\Desktop\\training_dir_staging\\1_anthro_female_wolf\\539922647ec2f81fe2886d760a62a128.caption\n",
      "C:\\Users\\kade\\Desktop\\training_dir_staging\\1_anthro_female_wolf\\539922647ec2f81fe2886d760a62a128.tags\n",
      "C:\\Users\\kade\\Desktop\\training_dir_staging\\1_anthro_female_wolf\\55db07b136271c2aba47907f543c98b5.caption\n",
      "C:\\Users\\kade\\Desktop\\training_dir_staging\\1_anthro_female_wolf\\55db07b136271c2aba47907f543c98b5.tags\n",
      "C:\\Users\\kade\\Desktop\\training_dir_staging\\1_anthro_female_wolf\\5618ca7834b53a010d54796f7005769d.caption\n",
      "C:\\Users\\kade\\Desktop\\training_dir_staging\\1_anthro_female_wolf\\5618ca7834b53a010d54796f7005769d.tags\n",
      "C:\\Users\\kade\\Desktop\\training_dir_staging\\1_anthro_female_wolf\\58ca1fc6084b7d46bfed617bca8e7b1c.caption\n",
      "C:\\Users\\kade\\Desktop\\training_dir_staging\\1_anthro_female_wolf\\58ca1fc6084b7d46bfed617bca8e7b1c.tags\n",
      "C:\\Users\\kade\\Desktop\\training_dir_staging\\1_anthro_female_wolf\\59148dd7a5a5d8c4406f5bb6b91e2e59.caption\n",
      "C:\\Users\\kade\\Desktop\\training_dir_staging\\1_anthro_female_wolf\\59148dd7a5a5d8c4406f5bb6b91e2e59.tags\n",
      "C:\\Users\\kade\\Desktop\\training_dir_staging\\1_anthro_female_wolf\\591e8bbc259127772737be7472cd7a15.caption\n",
      "C:\\Users\\kade\\Desktop\\training_dir_staging\\1_anthro_female_wolf\\591e8bbc259127772737be7472cd7a15.tags\n",
      "C:\\Users\\kade\\Desktop\\training_dir_staging\\1_anthro_female_wolf\\596f87771b81f8e080af1653a7fb1f7c.caption\n",
      "C:\\Users\\kade\\Desktop\\training_dir_staging\\1_anthro_female_wolf\\596f87771b81f8e080af1653a7fb1f7c.tags\n",
      "C:\\Users\\kade\\Desktop\\training_dir_staging\\1_anthro_female_wolf\\59bbb24b2daa68b750f71949fdcda08b.caption\n",
      "C:\\Users\\kade\\Desktop\\training_dir_staging\\1_anthro_female_wolf\\59bbb24b2daa68b750f71949fdcda08b.tags\n",
      "C:\\Users\\kade\\Desktop\\training_dir_staging\\1_anthro_female_wolf\\5a569181d6db8b8ec29beaa76dd18f48.caption\n",
      "C:\\Users\\kade\\Desktop\\training_dir_staging\\1_anthro_female_wolf\\5a569181d6db8b8ec29beaa76dd18f48.tags\n",
      "C:\\Users\\kade\\Desktop\\training_dir_staging\\1_anthro_female_wolf\\5c6158e55da94e13c17700a5f5d5d26e.caption\n",
      "C:\\Users\\kade\\Desktop\\training_dir_staging\\1_anthro_female_wolf\\5c6158e55da94e13c17700a5f5d5d26e.tags\n",
      "C:\\Users\\kade\\Desktop\\training_dir_staging\\1_anthro_female_wolf\\5ce41b3d4488d8c46e0ff738fc6da926.caption\n",
      "C:\\Users\\kade\\Desktop\\training_dir_staging\\1_anthro_female_wolf\\5ce41b3d4488d8c46e0ff738fc6da926.tags\n",
      "C:\\Users\\kade\\Desktop\\training_dir_staging\\1_anthro_female_wolf\\5cf1cdae3b2d439d2e69b5ceb9c3b965.caption\n",
      "C:\\Users\\kade\\Desktop\\training_dir_staging\\1_anthro_female_wolf\\5cf1cdae3b2d439d2e69b5ceb9c3b965.tags\n",
      "C:\\Users\\kade\\Desktop\\training_dir_staging\\1_anthro_female_wolf\\5d1c16995348f2bb2d38e13e002f951b.caption\n",
      "C:\\Users\\kade\\Desktop\\training_dir_staging\\1_anthro_female_wolf\\5d1c16995348f2bb2d38e13e002f951b.tags\n",
      "C:\\Users\\kade\\Desktop\\training_dir_staging\\1_anthro_female_wolf\\5d27311f2c7ce57e713d24f854fc931a.caption\n",
      "C:\\Users\\kade\\Desktop\\training_dir_staging\\1_anthro_female_wolf\\5d27311f2c7ce57e713d24f854fc931a.tags\n",
      "C:\\Users\\kade\\Desktop\\training_dir_staging\\1_anthro_female_wolf\\5e6eb3a9095cf88c009b7bb078dcc88b.caption\n",
      "C:\\Users\\kade\\Desktop\\training_dir_staging\\1_anthro_female_wolf\\5e6eb3a9095cf88c009b7bb078dcc88b.tags\n",
      "C:\\Users\\kade\\Desktop\\training_dir_staging\\1_anthro_female_wolf\\5f7b9a55cbb1eedbbd27ac08771c95e0.caption\n",
      "C:\\Users\\kade\\Desktop\\training_dir_staging\\1_anthro_female_wolf\\5f7b9a55cbb1eedbbd27ac08771c95e0.tags\n",
      "C:\\Users\\kade\\Desktop\\training_dir_staging\\1_anthro_female_wolf\\614e55ba473d29ffdb344b9864a98c2d.caption\n",
      "C:\\Users\\kade\\Desktop\\training_dir_staging\\1_anthro_female_wolf\\614e55ba473d29ffdb344b9864a98c2d.tags\n",
      "C:\\Users\\kade\\Desktop\\training_dir_staging\\1_anthro_female_wolf\\647dee7df7a135696454e6757c617e3c.caption\n",
      "C:\\Users\\kade\\Desktop\\training_dir_staging\\1_anthro_female_wolf\\647dee7df7a135696454e6757c617e3c.tags\n",
      "C:\\Users\\kade\\Desktop\\training_dir_staging\\1_anthro_female_wolf\\65eaebdf4ee26539f4b45ed256e418f2.caption\n",
      "C:\\Users\\kade\\Desktop\\training_dir_staging\\1_anthro_female_wolf\\65eaebdf4ee26539f4b45ed256e418f2.tags\n",
      "C:\\Users\\kade\\Desktop\\training_dir_staging\\1_anthro_female_wolf\\6802d44e3fd3af26b15e962ee1f103b0.caption\n",
      "C:\\Users\\kade\\Desktop\\training_dir_staging\\1_anthro_female_wolf\\6802d44e3fd3af26b15e962ee1f103b0.tags\n",
      "C:\\Users\\kade\\Desktop\\training_dir_staging\\1_anthro_female_wolf\\68b2f2a7b413a4fb2646aa996fcf7191.caption\n",
      "C:\\Users\\kade\\Desktop\\training_dir_staging\\1_anthro_female_wolf\\68b2f2a7b413a4fb2646aa996fcf7191.tags\n",
      "C:\\Users\\kade\\Desktop\\training_dir_staging\\1_anthro_female_wolf\\693d75ce63dead7a5591950779a88995.caption\n",
      "C:\\Users\\kade\\Desktop\\training_dir_staging\\1_anthro_female_wolf\\693d75ce63dead7a5591950779a88995.tags\n",
      "C:\\Users\\kade\\Desktop\\training_dir_staging\\1_anthro_female_wolf\\6a15ad8281193c5a443a7c4b969964ff.caption\n",
      "C:\\Users\\kade\\Desktop\\training_dir_staging\\1_anthro_female_wolf\\6a15ad8281193c5a443a7c4b969964ff.tags\n",
      "C:\\Users\\kade\\Desktop\\training_dir_staging\\1_anthro_female_wolf\\6d600b8737995327ca3155417d461bc5.caption\n",
      "C:\\Users\\kade\\Desktop\\training_dir_staging\\1_anthro_female_wolf\\6d600b8737995327ca3155417d461bc5.tags\n",
      "C:\\Users\\kade\\Desktop\\training_dir_staging\\1_anthro_female_wolf\\6d73e0b8296dbc433899a4b1f055c14c.caption\n",
      "C:\\Users\\kade\\Desktop\\training_dir_staging\\1_anthro_female_wolf\\6d73e0b8296dbc433899a4b1f055c14c.tags\n",
      "C:\\Users\\kade\\Desktop\\training_dir_staging\\1_anthro_female_wolf\\6fc162befcae346523b997cbdfd1acca.caption\n",
      "C:\\Users\\kade\\Desktop\\training_dir_staging\\1_anthro_female_wolf\\6fc162befcae346523b997cbdfd1acca.tags\n",
      "C:\\Users\\kade\\Desktop\\training_dir_staging\\1_anthro_female_wolf\\70efa9e990f7d1d63eb3d1608f3bee03.caption\n",
      "C:\\Users\\kade\\Desktop\\training_dir_staging\\1_anthro_female_wolf\\70efa9e990f7d1d63eb3d1608f3bee03.tags\n",
      "C:\\Users\\kade\\Desktop\\training_dir_staging\\1_anthro_female_wolf\\71a21f4d68124375a2b2fefbc34c468f.caption\n",
      "C:\\Users\\kade\\Desktop\\training_dir_staging\\1_anthro_female_wolf\\71a21f4d68124375a2b2fefbc34c468f.tags\n",
      "C:\\Users\\kade\\Desktop\\training_dir_staging\\1_anthro_female_wolf\\720f57b2d82ac9f2ffc0efdccee81423.caption\n",
      "C:\\Users\\kade\\Desktop\\training_dir_staging\\1_anthro_female_wolf\\720f57b2d82ac9f2ffc0efdccee81423.tags\n",
      "C:\\Users\\kade\\Desktop\\training_dir_staging\\1_anthro_female_wolf\\72a418e66a406f12fd2264c4c8b44d6c.caption\n",
      "C:\\Users\\kade\\Desktop\\training_dir_staging\\1_anthro_female_wolf\\72a418e66a406f12fd2264c4c8b44d6c.tags\n",
      "C:\\Users\\kade\\Desktop\\training_dir_staging\\1_anthro_female_wolf\\746ee9f42d106bae98dc5064c866d1d5.caption\n",
      "C:\\Users\\kade\\Desktop\\training_dir_staging\\1_anthro_female_wolf\\746ee9f42d106bae98dc5064c866d1d5.tags\n",
      "C:\\Users\\kade\\Desktop\\training_dir_staging\\1_anthro_female_wolf\\750b5fd7726b792985b393a0a20fcd86.caption\n",
      "C:\\Users\\kade\\Desktop\\training_dir_staging\\1_anthro_female_wolf\\750b5fd7726b792985b393a0a20fcd86.tags\n",
      "C:\\Users\\kade\\Desktop\\training_dir_staging\\1_anthro_female_wolf\\75256cc99df45cfb60920275208a2013.caption\n",
      "C:\\Users\\kade\\Desktop\\training_dir_staging\\1_anthro_female_wolf\\75256cc99df45cfb60920275208a2013.tags\n",
      "C:\\Users\\kade\\Desktop\\training_dir_staging\\1_anthro_female_wolf\\760dac92b0c9110b4077cbb437802332.caption\n",
      "C:\\Users\\kade\\Desktop\\training_dir_staging\\1_anthro_female_wolf\\760dac92b0c9110b4077cbb437802332.tags\n",
      "C:\\Users\\kade\\Desktop\\training_dir_staging\\1_anthro_female_wolf\\77d03c00584ebd35bd046a69c67251f0.caption\n",
      "C:\\Users\\kade\\Desktop\\training_dir_staging\\1_anthro_female_wolf\\77d03c00584ebd35bd046a69c67251f0.tags\n",
      "C:\\Users\\kade\\Desktop\\training_dir_staging\\1_anthro_female_wolf\\78abcb297b60a75b05bdb9e98f0887da.caption\n",
      "C:\\Users\\kade\\Desktop\\training_dir_staging\\1_anthro_female_wolf\\78abcb297b60a75b05bdb9e98f0887da.tags\n",
      "C:\\Users\\kade\\Desktop\\training_dir_staging\\1_anthro_female_wolf\\79ced9d539981c7f0adf7e9330255bb3.caption\n",
      "C:\\Users\\kade\\Desktop\\training_dir_staging\\1_anthro_female_wolf\\79ced9d539981c7f0adf7e9330255bb3.tags\n",
      "C:\\Users\\kade\\Desktop\\training_dir_staging\\1_anthro_female_wolf\\79f122a3eb05da4a0b9e265b961b8555.caption\n",
      "C:\\Users\\kade\\Desktop\\training_dir_staging\\1_anthro_female_wolf\\79f122a3eb05da4a0b9e265b961b8555.tags\n",
      "C:\\Users\\kade\\Desktop\\training_dir_staging\\1_anthro_female_wolf\\7a44e3dcb62f14d89cf0d835607f31a7.caption\n",
      "C:\\Users\\kade\\Desktop\\training_dir_staging\\1_anthro_female_wolf\\7a44e3dcb62f14d89cf0d835607f31a7.tags\n",
      "C:\\Users\\kade\\Desktop\\training_dir_staging\\1_anthro_female_wolf\\7d8be2df3c27ea5ec7bea7ca75e26ac9.caption\n",
      "C:\\Users\\kade\\Desktop\\training_dir_staging\\1_anthro_female_wolf\\7d8be2df3c27ea5ec7bea7ca75e26ac9.tags\n",
      "C:\\Users\\kade\\Desktop\\training_dir_staging\\1_anthro_female_wolf\\7dfc20fbba3be572556a9e9a7dc1fc90.caption\n",
      "C:\\Users\\kade\\Desktop\\training_dir_staging\\1_anthro_female_wolf\\7dfc20fbba3be572556a9e9a7dc1fc90.tags\n",
      "C:\\Users\\kade\\Desktop\\training_dir_staging\\1_anthro_female_wolf\\7e19ffa9471636f72683e40ecf13d8f0.caption\n",
      "C:\\Users\\kade\\Desktop\\training_dir_staging\\1_anthro_female_wolf\\7e19ffa9471636f72683e40ecf13d8f0.tags\n",
      "C:\\Users\\kade\\Desktop\\training_dir_staging\\1_anthro_female_wolf\\7e3e5ba6d445d754de50dff53d9a0fdd.caption\n",
      "C:\\Users\\kade\\Desktop\\training_dir_staging\\1_anthro_female_wolf\\7e3e5ba6d445d754de50dff53d9a0fdd.tags\n",
      "C:\\Users\\kade\\Desktop\\training_dir_staging\\1_anthro_female_wolf\\7f3dcddf998159759a3d980962a206b0.caption\n",
      "C:\\Users\\kade\\Desktop\\training_dir_staging\\1_anthro_female_wolf\\7f3dcddf998159759a3d980962a206b0.tags\n",
      "C:\\Users\\kade\\Desktop\\training_dir_staging\\1_anthro_female_wolf\\7f475eef5149ff5559ffc4657f89efcd.caption\n",
      "C:\\Users\\kade\\Desktop\\training_dir_staging\\1_anthro_female_wolf\\7f475eef5149ff5559ffc4657f89efcd.tags\n",
      "C:\\Users\\kade\\Desktop\\training_dir_staging\\1_anthro_female_wolf\\7fcc7c0e60f73d5d2468687de0fb6990.caption\n",
      "C:\\Users\\kade\\Desktop\\training_dir_staging\\1_anthro_female_wolf\\7fcc7c0e60f73d5d2468687de0fb6990.tags\n",
      "C:\\Users\\kade\\Desktop\\training_dir_staging\\1_anthro_female_wolf\\81fb1b8c1c36cb51413bd096420b6c52.caption\n",
      "C:\\Users\\kade\\Desktop\\training_dir_staging\\1_anthro_female_wolf\\81fb1b8c1c36cb51413bd096420b6c52.tags\n",
      "C:\\Users\\kade\\Desktop\\training_dir_staging\\1_anthro_female_wolf\\84cf3ae0ebb4c21255a54b0068464ad4.caption\n",
      "C:\\Users\\kade\\Desktop\\training_dir_staging\\1_anthro_female_wolf\\84cf3ae0ebb4c21255a54b0068464ad4.tags\n",
      "C:\\Users\\kade\\Desktop\\training_dir_staging\\1_anthro_female_wolf\\8534db19a9871dfd177740bf8a13a5c4.caption\n",
      "C:\\Users\\kade\\Desktop\\training_dir_staging\\1_anthro_female_wolf\\8534db19a9871dfd177740bf8a13a5c4.tags\n",
      "C:\\Users\\kade\\Desktop\\training_dir_staging\\1_anthro_female_wolf\\8751d41ab83b3ec0e66f414ad0e49799.caption\n",
      "C:\\Users\\kade\\Desktop\\training_dir_staging\\1_anthro_female_wolf\\8751d41ab83b3ec0e66f414ad0e49799.tags\n",
      "C:\\Users\\kade\\Desktop\\training_dir_staging\\1_anthro_female_wolf\\88632e5f41da0c210e092b3def107e09.caption\n",
      "C:\\Users\\kade\\Desktop\\training_dir_staging\\1_anthro_female_wolf\\88632e5f41da0c210e092b3def107e09.tags\n",
      "C:\\Users\\kade\\Desktop\\training_dir_staging\\1_anthro_female_wolf\\8abaf32246c951dc2036202e1222b1a1.caption\n",
      "C:\\Users\\kade\\Desktop\\training_dir_staging\\1_anthro_female_wolf\\8abaf32246c951dc2036202e1222b1a1.tags\n",
      "C:\\Users\\kade\\Desktop\\training_dir_staging\\1_anthro_female_wolf\\8b2caf35cc5c6b3589e2b65676535c1e.caption\n",
      "C:\\Users\\kade\\Desktop\\training_dir_staging\\1_anthro_female_wolf\\8b2caf35cc5c6b3589e2b65676535c1e.tags\n",
      "C:\\Users\\kade\\Desktop\\training_dir_staging\\1_anthro_female_wolf\\8b54cc5ae82d92e3e8b76aa3a9d03a9e.caption\n",
      "C:\\Users\\kade\\Desktop\\training_dir_staging\\1_anthro_female_wolf\\8b54cc5ae82d92e3e8b76aa3a9d03a9e.tags\n",
      "C:\\Users\\kade\\Desktop\\training_dir_staging\\1_anthro_female_wolf\\8bc47cb2676051034ff7c6ad0136171d.caption\n",
      "C:\\Users\\kade\\Desktop\\training_dir_staging\\1_anthro_female_wolf\\8bc47cb2676051034ff7c6ad0136171d.tags\n",
      "C:\\Users\\kade\\Desktop\\training_dir_staging\\1_anthro_female_wolf\\8c38d13198d384f3da040c8ad4c5f3ab.caption\n",
      "C:\\Users\\kade\\Desktop\\training_dir_staging\\1_anthro_female_wolf\\8c38d13198d384f3da040c8ad4c5f3ab.tags\n",
      "C:\\Users\\kade\\Desktop\\training_dir_staging\\1_anthro_female_wolf\\8de2cde207c632b8713c54346eafb326.caption\n",
      "C:\\Users\\kade\\Desktop\\training_dir_staging\\1_anthro_female_wolf\\8de2cde207c632b8713c54346eafb326.tags\n",
      "C:\\Users\\kade\\Desktop\\training_dir_staging\\1_anthro_female_wolf\\8e8d15980c00b289bed082198cdfebf2.caption\n",
      "C:\\Users\\kade\\Desktop\\training_dir_staging\\1_anthro_female_wolf\\8e8d15980c00b289bed082198cdfebf2.tags\n",
      "C:\\Users\\kade\\Desktop\\training_dir_staging\\1_anthro_female_wolf\\8f8f8e579be66ababa54f67319defc69.caption\n",
      "C:\\Users\\kade\\Desktop\\training_dir_staging\\1_anthro_female_wolf\\8f8f8e579be66ababa54f67319defc69.tags\n",
      "C:\\Users\\kade\\Desktop\\training_dir_staging\\1_anthro_female_wolf\\91b09e23ed56893536298efb23b604ed.caption\n",
      "C:\\Users\\kade\\Desktop\\training_dir_staging\\1_anthro_female_wolf\\91b09e23ed56893536298efb23b604ed.tags\n",
      "C:\\Users\\kade\\Desktop\\training_dir_staging\\1_anthro_female_wolf\\92276675fe10ccff15e10a5b373ed849.caption\n",
      "C:\\Users\\kade\\Desktop\\training_dir_staging\\1_anthro_female_wolf\\92276675fe10ccff15e10a5b373ed849.tags\n",
      "C:\\Users\\kade\\Desktop\\training_dir_staging\\1_anthro_female_wolf\\92ece761273730bbca1763fad74bbdea.caption\n",
      "C:\\Users\\kade\\Desktop\\training_dir_staging\\1_anthro_female_wolf\\92ece761273730bbca1763fad74bbdea.tags\n",
      "C:\\Users\\kade\\Desktop\\training_dir_staging\\1_anthro_female_wolf\\978701af4d1b1bb52c4b2629d2a45365.caption\n",
      "C:\\Users\\kade\\Desktop\\training_dir_staging\\1_anthro_female_wolf\\978701af4d1b1bb52c4b2629d2a45365.tags\n",
      "C:\\Users\\kade\\Desktop\\training_dir_staging\\1_anthro_female_wolf\\98ee9348cd91a4074c55adbc7d5ddb49.caption\n",
      "C:\\Users\\kade\\Desktop\\training_dir_staging\\1_anthro_female_wolf\\98ee9348cd91a4074c55adbc7d5ddb49.tags\n",
      "C:\\Users\\kade\\Desktop\\training_dir_staging\\1_anthro_female_wolf\\997f16c2298e3a6e0f1bf6a2561b0563.caption\n",
      "C:\\Users\\kade\\Desktop\\training_dir_staging\\1_anthro_female_wolf\\997f16c2298e3a6e0f1bf6a2561b0563.tags\n",
      "C:\\Users\\kade\\Desktop\\training_dir_staging\\1_anthro_female_wolf\\9a4eff36dc201ff63d6383e6d2d49aaa.caption\n",
      "C:\\Users\\kade\\Desktop\\training_dir_staging\\1_anthro_female_wolf\\9a4eff36dc201ff63d6383e6d2d49aaa.tags\n",
      "C:\\Users\\kade\\Desktop\\training_dir_staging\\1_anthro_female_wolf\\9d0e18041ad944dd3b6b3e5b52d7a5fd.caption\n",
      "C:\\Users\\kade\\Desktop\\training_dir_staging\\1_anthro_female_wolf\\9d0e18041ad944dd3b6b3e5b52d7a5fd.tags\n",
      "C:\\Users\\kade\\Desktop\\training_dir_staging\\1_anthro_female_wolf\\9f33976cd749dc23c9cd5a5631ca5487.caption\n",
      "C:\\Users\\kade\\Desktop\\training_dir_staging\\1_anthro_female_wolf\\9f33976cd749dc23c9cd5a5631ca5487.tags\n",
      "C:\\Users\\kade\\Desktop\\training_dir_staging\\1_anthro_female_wolf\\a049f1b733f7db0b255657769d813e98.caption\n",
      "C:\\Users\\kade\\Desktop\\training_dir_staging\\1_anthro_female_wolf\\a049f1b733f7db0b255657769d813e98.tags\n",
      "C:\\Users\\kade\\Desktop\\training_dir_staging\\1_anthro_female_wolf\\a18ea6acf9c723d601c535ad01c94181.caption\n",
      "C:\\Users\\kade\\Desktop\\training_dir_staging\\1_anthro_female_wolf\\a18ea6acf9c723d601c535ad01c94181.tags\n",
      "C:\\Users\\kade\\Desktop\\training_dir_staging\\1_anthro_female_wolf\\a21aec17bb2910fda5e0635594a83316.caption\n",
      "C:\\Users\\kade\\Desktop\\training_dir_staging\\1_anthro_female_wolf\\a21aec17bb2910fda5e0635594a83316.tags\n",
      "C:\\Users\\kade\\Desktop\\training_dir_staging\\1_anthro_female_wolf\\a31a69bb5b7ef8d624c0f06837e21093.caption\n",
      "C:\\Users\\kade\\Desktop\\training_dir_staging\\1_anthro_female_wolf\\a31a69bb5b7ef8d624c0f06837e21093.tags\n",
      "C:\\Users\\kade\\Desktop\\training_dir_staging\\1_anthro_female_wolf\\a36009c36307e41441efd2047a078a0d.caption\n",
      "C:\\Users\\kade\\Desktop\\training_dir_staging\\1_anthro_female_wolf\\a36009c36307e41441efd2047a078a0d.tags\n",
      "C:\\Users\\kade\\Desktop\\training_dir_staging\\1_anthro_female_wolf\\a3a37d16ea339c649ccb2507f5fdce00.caption\n",
      "C:\\Users\\kade\\Desktop\\training_dir_staging\\1_anthro_female_wolf\\a3a37d16ea339c649ccb2507f5fdce00.tags\n",
      "C:\\Users\\kade\\Desktop\\training_dir_staging\\1_anthro_female_wolf\\a3f80a461aee53ca1d39d722486ff6a3.caption\n",
      "C:\\Users\\kade\\Desktop\\training_dir_staging\\1_anthro_female_wolf\\a3f80a461aee53ca1d39d722486ff6a3.tags\n",
      "C:\\Users\\kade\\Desktop\\training_dir_staging\\1_anthro_female_wolf\\a45adfa7fc6483f6ab729a9af3949e5f.caption\n",
      "C:\\Users\\kade\\Desktop\\training_dir_staging\\1_anthro_female_wolf\\a45adfa7fc6483f6ab729a9af3949e5f.tags\n",
      "C:\\Users\\kade\\Desktop\\training_dir_staging\\1_anthro_female_wolf\\a4f726ab0cc470cfdd3b64f02ab3e593.caption\n",
      "C:\\Users\\kade\\Desktop\\training_dir_staging\\1_anthro_female_wolf\\a4f726ab0cc470cfdd3b64f02ab3e593.tags\n",
      "C:\\Users\\kade\\Desktop\\training_dir_staging\\1_anthro_female_wolf\\a72826b5b8955ed9f1457b87d62d3960.caption\n",
      "C:\\Users\\kade\\Desktop\\training_dir_staging\\1_anthro_female_wolf\\a72826b5b8955ed9f1457b87d62d3960.tags\n",
      "C:\\Users\\kade\\Desktop\\training_dir_staging\\1_anthro_female_wolf\\a8866166354a6c88a8f423811a38d520.caption\n",
      "C:\\Users\\kade\\Desktop\\training_dir_staging\\1_anthro_female_wolf\\a8866166354a6c88a8f423811a38d520.tags\n",
      "C:\\Users\\kade\\Desktop\\training_dir_staging\\1_anthro_female_wolf\\a8dffb6872c1bd08896ae61827621f89.caption\n",
      "C:\\Users\\kade\\Desktop\\training_dir_staging\\1_anthro_female_wolf\\a8dffb6872c1bd08896ae61827621f89.tags\n",
      "C:\\Users\\kade\\Desktop\\training_dir_staging\\1_anthro_female_wolf\\a8ecdfd137bf526e77d652359295e6c5.caption\n",
      "C:\\Users\\kade\\Desktop\\training_dir_staging\\1_anthro_female_wolf\\a8ecdfd137bf526e77d652359295e6c5.tags\n",
      "C:\\Users\\kade\\Desktop\\training_dir_staging\\1_anthro_female_wolf\\a97738f9285d54ed29b4891893e91584.caption\n",
      "C:\\Users\\kade\\Desktop\\training_dir_staging\\1_anthro_female_wolf\\a97738f9285d54ed29b4891893e91584.tags\n",
      "C:\\Users\\kade\\Desktop\\training_dir_staging\\1_anthro_female_wolf\\a9c3ddf2c986007c2436f2bbf03650e0.caption\n",
      "C:\\Users\\kade\\Desktop\\training_dir_staging\\1_anthro_female_wolf\\a9c3ddf2c986007c2436f2bbf03650e0.tags\n",
      "C:\\Users\\kade\\Desktop\\training_dir_staging\\1_anthro_female_wolf\\aa03748853b113190b82812dc2a22993.caption\n",
      "C:\\Users\\kade\\Desktop\\training_dir_staging\\1_anthro_female_wolf\\aa03748853b113190b82812dc2a22993.tags\n",
      "C:\\Users\\kade\\Desktop\\training_dir_staging\\1_anthro_female_wolf\\aa098f9f9e491a209e752a0883c2de26.caption\n",
      "C:\\Users\\kade\\Desktop\\training_dir_staging\\1_anthro_female_wolf\\aa098f9f9e491a209e752a0883c2de26.tags\n",
      "C:\\Users\\kade\\Desktop\\training_dir_staging\\1_anthro_female_wolf\\aa874a3f3b42f2ba76f76ca8990593ba.caption\n",
      "C:\\Users\\kade\\Desktop\\training_dir_staging\\1_anthro_female_wolf\\aa874a3f3b42f2ba76f76ca8990593ba.tags\n",
      "C:\\Users\\kade\\Desktop\\training_dir_staging\\1_anthro_female_wolf\\abb02daf0892e435c3003232af185644.caption\n",
      "C:\\Users\\kade\\Desktop\\training_dir_staging\\1_anthro_female_wolf\\abb02daf0892e435c3003232af185644.tags\n",
      "C:\\Users\\kade\\Desktop\\training_dir_staging\\1_anthro_female_wolf\\ae7130effd3d2bc5a84b2afc99ba8a47.caption\n",
      "C:\\Users\\kade\\Desktop\\training_dir_staging\\1_anthro_female_wolf\\ae7130effd3d2bc5a84b2afc99ba8a47.tags\n",
      "C:\\Users\\kade\\Desktop\\training_dir_staging\\1_anthro_female_wolf\\b23b51bc4d55c390e2f7caa8b2640e28.caption\n",
      "C:\\Users\\kade\\Desktop\\training_dir_staging\\1_anthro_female_wolf\\b23b51bc4d55c390e2f7caa8b2640e28.tags\n",
      "C:\\Users\\kade\\Desktop\\training_dir_staging\\1_anthro_female_wolf\\b6634495249d296478c2ecefbba5543a.caption\n",
      "C:\\Users\\kade\\Desktop\\training_dir_staging\\1_anthro_female_wolf\\b6634495249d296478c2ecefbba5543a.tags\n",
      "C:\\Users\\kade\\Desktop\\training_dir_staging\\1_anthro_female_wolf\\b7068a546b6ba7663e6cddbccdde1814.caption\n",
      "C:\\Users\\kade\\Desktop\\training_dir_staging\\1_anthro_female_wolf\\b7068a546b6ba7663e6cddbccdde1814.tags\n",
      "C:\\Users\\kade\\Desktop\\training_dir_staging\\1_anthro_female_wolf\\b789f0f7966c40d56e1bbd0273d07768.caption\n",
      "C:\\Users\\kade\\Desktop\\training_dir_staging\\1_anthro_female_wolf\\b789f0f7966c40d56e1bbd0273d07768.tags\n",
      "C:\\Users\\kade\\Desktop\\training_dir_staging\\1_anthro_female_wolf\\b7a4015cd768f3e344e87d1d79f36990.caption\n",
      "C:\\Users\\kade\\Desktop\\training_dir_staging\\1_anthro_female_wolf\\b7a4015cd768f3e344e87d1d79f36990.tags\n",
      "C:\\Users\\kade\\Desktop\\training_dir_staging\\1_anthro_female_wolf\\bb817203c8a414db5456a0ea7d0fc394.caption\n",
      "C:\\Users\\kade\\Desktop\\training_dir_staging\\1_anthro_female_wolf\\bb817203c8a414db5456a0ea7d0fc394.tags\n",
      "C:\\Users\\kade\\Desktop\\training_dir_staging\\1_anthro_female_wolf\\bb916cc06c15aa54457667ea5078b8a1.caption\n",
      "C:\\Users\\kade\\Desktop\\training_dir_staging\\1_anthro_female_wolf\\bb916cc06c15aa54457667ea5078b8a1.tags\n",
      "C:\\Users\\kade\\Desktop\\training_dir_staging\\1_anthro_female_wolf\\bef19f93a8bdac156afb315fee47fd3a.caption\n",
      "C:\\Users\\kade\\Desktop\\training_dir_staging\\1_anthro_female_wolf\\bef19f93a8bdac156afb315fee47fd3a.tags\n",
      "C:\\Users\\kade\\Desktop\\training_dir_staging\\1_anthro_female_wolf\\c30a00d4210159115059769551525169.caption\n",
      "C:\\Users\\kade\\Desktop\\training_dir_staging\\1_anthro_female_wolf\\c30a00d4210159115059769551525169.tags\n",
      "C:\\Users\\kade\\Desktop\\training_dir_staging\\1_anthro_female_wolf\\cd66cc84b2368ea4ac3e242de3ede22d.caption\n",
      "C:\\Users\\kade\\Desktop\\training_dir_staging\\1_anthro_female_wolf\\cd66cc84b2368ea4ac3e242de3ede22d.tags\n",
      "C:\\Users\\kade\\Desktop\\training_dir_staging\\1_anthro_female_wolf\\d17ccc65409af50242208f8ed90cf377.caption\n",
      "C:\\Users\\kade\\Desktop\\training_dir_staging\\1_anthro_female_wolf\\d17ccc65409af50242208f8ed90cf377.tags\n",
      "C:\\Users\\kade\\Desktop\\training_dir_staging\\1_anthro_female_wolf\\d4ccd6d74e5169ab19fecaf736ac0e84.caption\n",
      "C:\\Users\\kade\\Desktop\\training_dir_staging\\1_anthro_female_wolf\\d4ccd6d74e5169ab19fecaf736ac0e84.tags\n",
      "C:\\Users\\kade\\Desktop\\training_dir_staging\\1_anthro_female_wolf\\d64c7097c47104dcca6ebb1f33971801.caption\n",
      "C:\\Users\\kade\\Desktop\\training_dir_staging\\1_anthro_female_wolf\\d64c7097c47104dcca6ebb1f33971801.tags\n",
      "C:\\Users\\kade\\Desktop\\training_dir_staging\\1_anthro_female_wolf\\d9e70b01fde4f6a95c7c1ab9de9277a1.caption\n",
      "C:\\Users\\kade\\Desktop\\training_dir_staging\\1_anthro_female_wolf\\d9e70b01fde4f6a95c7c1ab9de9277a1.tags\n",
      "C:\\Users\\kade\\Desktop\\training_dir_staging\\1_anthro_female_wolf\\db333acd706cb46825f562c32a0c1771.caption\n",
      "C:\\Users\\kade\\Desktop\\training_dir_staging\\1_anthro_female_wolf\\db333acd706cb46825f562c32a0c1771.tags\n",
      "C:\\Users\\kade\\Desktop\\training_dir_staging\\1_anthro_female_wolf\\dc41bd1ddbb4c3371d8c0f7d54ca5ebc.caption\n",
      "C:\\Users\\kade\\Desktop\\training_dir_staging\\1_anthro_female_wolf\\dc41bd1ddbb4c3371d8c0f7d54ca5ebc.tags\n",
      "C:\\Users\\kade\\Desktop\\training_dir_staging\\1_anthro_female_wolf\\de4def659b957ee6a76098fb51aa43c7.caption\n",
      "C:\\Users\\kade\\Desktop\\training_dir_staging\\1_anthro_female_wolf\\de4def659b957ee6a76098fb51aa43c7.tags\n",
      "C:\\Users\\kade\\Desktop\\training_dir_staging\\1_anthro_female_wolf\\e00c475a7f5becb57f3816a7c458dccf.caption\n",
      "C:\\Users\\kade\\Desktop\\training_dir_staging\\1_anthro_female_wolf\\e00c475a7f5becb57f3816a7c458dccf.tags\n",
      "C:\\Users\\kade\\Desktop\\training_dir_staging\\1_anthro_female_wolf\\e19b87066e1432e985bc9cfaaf1f201e.caption\n",
      "C:\\Users\\kade\\Desktop\\training_dir_staging\\1_anthro_female_wolf\\e19b87066e1432e985bc9cfaaf1f201e.tags\n",
      "C:\\Users\\kade\\Desktop\\training_dir_staging\\1_anthro_female_wolf\\e2471967f368adb295a0e2224d7ff3f7.caption\n",
      "C:\\Users\\kade\\Desktop\\training_dir_staging\\1_anthro_female_wolf\\e2471967f368adb295a0e2224d7ff3f7.tags\n",
      "C:\\Users\\kade\\Desktop\\training_dir_staging\\1_anthro_female_wolf\\e4c9d7b854f7c1fac07d36561f736c53.caption\n",
      "C:\\Users\\kade\\Desktop\\training_dir_staging\\1_anthro_female_wolf\\e4c9d7b854f7c1fac07d36561f736c53.tags\n",
      "C:\\Users\\kade\\Desktop\\training_dir_staging\\1_anthro_female_wolf\\e4f3c0f08ca21bba138491c929c9c309.caption\n",
      "C:\\Users\\kade\\Desktop\\training_dir_staging\\1_anthro_female_wolf\\e4f3c0f08ca21bba138491c929c9c309.tags\n",
      "C:\\Users\\kade\\Desktop\\training_dir_staging\\1_anthro_female_wolf\\e674c82a7a9f452616d1e15717d74529.caption\n",
      "C:\\Users\\kade\\Desktop\\training_dir_staging\\1_anthro_female_wolf\\e674c82a7a9f452616d1e15717d74529.tags\n",
      "C:\\Users\\kade\\Desktop\\training_dir_staging\\1_anthro_female_wolf\\e71c6006e3dd70bd43851d7ee860fbba.caption\n",
      "C:\\Users\\kade\\Desktop\\training_dir_staging\\1_anthro_female_wolf\\e71c6006e3dd70bd43851d7ee860fbba.tags\n",
      "C:\\Users\\kade\\Desktop\\training_dir_staging\\1_anthro_female_wolf\\e7bdc08c71a4a18142c73fb16ff68b52.caption\n",
      "C:\\Users\\kade\\Desktop\\training_dir_staging\\1_anthro_female_wolf\\e7bdc08c71a4a18142c73fb16ff68b52.tags\n",
      "C:\\Users\\kade\\Desktop\\training_dir_staging\\1_anthro_female_wolf\\ea0184738fa8d00a83bbe6072d09914e.caption\n",
      "C:\\Users\\kade\\Desktop\\training_dir_staging\\1_anthro_female_wolf\\ea0184738fa8d00a83bbe6072d09914e.tags\n",
      "C:\\Users\\kade\\Desktop\\training_dir_staging\\1_anthro_female_wolf\\ec0ab533c71148221d0e3c3230f5b689.caption\n",
      "C:\\Users\\kade\\Desktop\\training_dir_staging\\1_anthro_female_wolf\\ec0ab533c71148221d0e3c3230f5b689.tags\n",
      "C:\\Users\\kade\\Desktop\\training_dir_staging\\1_anthro_female_wolf\\eceb326b86bea2cd10c585aa2bb089a4.caption\n",
      "C:\\Users\\kade\\Desktop\\training_dir_staging\\1_anthro_female_wolf\\eceb326b86bea2cd10c585aa2bb089a4.tags\n",
      "C:\\Users\\kade\\Desktop\\training_dir_staging\\1_anthro_female_wolf\\edeccac4e00ba90f5aef0e9813906d91.caption\n",
      "C:\\Users\\kade\\Desktop\\training_dir_staging\\1_anthro_female_wolf\\edeccac4e00ba90f5aef0e9813906d91.tags\n",
      "C:\\Users\\kade\\Desktop\\training_dir_staging\\1_anthro_female_wolf\\eef39325cb95501bc7d416b2ef08435a.caption\n",
      "C:\\Users\\kade\\Desktop\\training_dir_staging\\1_anthro_female_wolf\\eef39325cb95501bc7d416b2ef08435a.tags\n",
      "C:\\Users\\kade\\Desktop\\training_dir_staging\\1_anthro_female_wolf\\f085b417a0857f8bce4bdc41795a0f0a.caption\n",
      "C:\\Users\\kade\\Desktop\\training_dir_staging\\1_anthro_female_wolf\\f085b417a0857f8bce4bdc41795a0f0a.tags\n",
      "C:\\Users\\kade\\Desktop\\training_dir_staging\\1_anthro_female_wolf\\f086c0942bafb98635dbc20efa348141.caption\n",
      "C:\\Users\\kade\\Desktop\\training_dir_staging\\1_anthro_female_wolf\\f086c0942bafb98635dbc20efa348141.tags\n",
      "C:\\Users\\kade\\Desktop\\training_dir_staging\\1_anthro_female_wolf\\f17bb3cbc638467611ed698588d5b3f8.caption\n",
      "C:\\Users\\kade\\Desktop\\training_dir_staging\\1_anthro_female_wolf\\f17bb3cbc638467611ed698588d5b3f8.tags\n",
      "C:\\Users\\kade\\Desktop\\training_dir_staging\\1_anthro_female_wolf\\f3213a5aa644039125f272bd0787c67e.caption\n",
      "C:\\Users\\kade\\Desktop\\training_dir_staging\\1_anthro_female_wolf\\f3213a5aa644039125f272bd0787c67e.tags\n",
      "C:\\Users\\kade\\Desktop\\training_dir_staging\\1_anthro_female_wolf\\f6510ae2c0b912059f761da49878504a.caption\n",
      "C:\\Users\\kade\\Desktop\\training_dir_staging\\1_anthro_female_wolf\\f6510ae2c0b912059f761da49878504a.tags\n",
      "C:\\Users\\kade\\Desktop\\training_dir_staging\\1_anthro_female_wolf\\f6cd3dc8e35553b0deb6c843f568f041.caption\n",
      "C:\\Users\\kade\\Desktop\\training_dir_staging\\1_anthro_female_wolf\\f6cd3dc8e35553b0deb6c843f568f041.tags\n",
      "C:\\Users\\kade\\Desktop\\training_dir_staging\\1_anthro_female_wolf\\f71b4fbda57816979e49a9a3c310c092.caption\n",
      "C:\\Users\\kade\\Desktop\\training_dir_staging\\1_anthro_female_wolf\\f71b4fbda57816979e49a9a3c310c092.tags\n",
      "C:\\Users\\kade\\Desktop\\training_dir_staging\\1_anthro_female_wolf\\f773509b0d9ba2b0251219c888d39766.caption\n",
      "C:\\Users\\kade\\Desktop\\training_dir_staging\\1_anthro_female_wolf\\f773509b0d9ba2b0251219c888d39766.tags\n",
      "C:\\Users\\kade\\Desktop\\training_dir_staging\\1_anthro_female_wolf\\f901097a9602d262eba227d0b157d577.caption\n",
      "C:\\Users\\kade\\Desktop\\training_dir_staging\\1_anthro_female_wolf\\f901097a9602d262eba227d0b157d577.tags\n",
      "C:\\Users\\kade\\Desktop\\training_dir_staging\\1_anthro_female_wolf\\fc0af1bdc11c8caaaa7ac45222b424e1.caption\n",
      "C:\\Users\\kade\\Desktop\\training_dir_staging\\1_anthro_female_wolf\\fc0af1bdc11c8caaaa7ac45222b424e1.tags\n",
      "C:\\Users\\kade\\Desktop\\training_dir_staging\\1_anthro_female_wolf\\fc5ad46cffb1ab92a4876054b74649b5.caption\n",
      "C:\\Users\\kade\\Desktop\\training_dir_staging\\1_anthro_female_wolf\\fc5ad46cffb1ab92a4876054b74649b5.tags\n",
      "C:\\Users\\kade\\Desktop\\training_dir_staging\\1_anthro_female_wolf\\fcdef4f41c03069b43faa9ec00ff9075.caption\n",
      "C:\\Users\\kade\\Desktop\\training_dir_staging\\1_anthro_female_wolf\\fcdef4f41c03069b43faa9ec00ff9075.tags\n",
      "C:\\Users\\kade\\Desktop\\training_dir_staging\\1_anthro_female_wolf\\fd0c4a40d99ed99440f7301e283ef10f.caption\n",
      "C:\\Users\\kade\\Desktop\\training_dir_staging\\1_anthro_female_wolf\\fd0c4a40d99ed99440f7301e283ef10f.tags\n",
      "C:\\Users\\kade\\Desktop\\training_dir_staging\\1_anthro_female_wolf\\fd81338a954333fd686ddae2fe46cccf.caption\n",
      "C:\\Users\\kade\\Desktop\\training_dir_staging\\1_anthro_female_wolf\\fd81338a954333fd686ddae2fe46cccf.tags\n",
      "C:\\Users\\kade\\Desktop\\training_dir_staging\\1_anthro_female_wolf\\feacfeffeb94de41a8ec3d4154908d0f.caption\n",
      "C:\\Users\\kade\\Desktop\\training_dir_staging\\1_anthro_female_wolf\\feacfeffeb94de41a8ec3d4154908d0f.tags\n",
      "C:\\Users\\kade\\Desktop\\training_dir_staging\\1_anthro_female_wolf\\fef9f2bd26f21cfc785ffce22b41f657.caption\n",
      "C:\\Users\\kade\\Desktop\\training_dir_staging\\1_anthro_female_wolf\\fef9f2bd26f21cfc785ffce22b41f657.tags\n",
      "C:\\Users\\kade\\Desktop\\training_dir_staging\\1_anthro_tibetan_sand_fox\\393493d693b319e5fce484be7dab290f.caption\n",
      "C:\\Users\\kade\\Desktop\\training_dir_staging\\1_anthro_tibetan_sand_fox\\73036189d69d46bceed4634edfdeffc1.caption\n",
      "C:\\Users\\kade\\Desktop\\training_dir_staging\\1_anthro_tibetan_sand_fox\\c86172f9d9747dee7721a3cdf581f293.caption\n",
      "C:\\Users\\kade\\Desktop\\training_dir_staging\\1_anthro_tibetan_sand_fox\\cbd20d11c803cfc78f7e590f26051c27.caption\n"
     ]
    }
   ],
   "source": [
    "import os\n",
    "\n",
    "def find_missing_files(directory):\n",
    "    missing_files = []\n",
    "    for root, dirs, files in os.walk(directory):\n",
    "        for file in files:\n",
    "            if file.lower().endswith(('.png', '.jpg', '.jpeg')):\n",
    "                file_name, file_extension = os.path.splitext(file)\n",
    "                caption_file = os.path.join(root, file_name + \".caption\")\n",
    "                tags_file = os.path.join(root, file_name + \".tags\")\n",
    "                if not os.path.exists(caption_file):\n",
    "                    missing_files.append(caption_file)\n",
    "                if not os.path.exists(tags_file):\n",
    "                    missing_files.append(tags_file)\n",
    "    return missing_files\n",
    "\n",
    "if __name__ == \"__main__\":\n",
    "    directory = r\"C:\\Users\\kade\\Desktop\\training_dir_staging\"\n",
    "    missing_files = find_missing_files(directory)\n",
    "    if missing_files:\n",
    "        print(\"Missing files:\")\n",
    "        for file in missing_files:\n",
    "            print(file)\n",
    "    else:\n",
    "        print(\"No missing files found.\")\n"
   ]
  },
  {
   "cell_type": "code",
   "execution_count": 23,
   "metadata": {},
   "outputs": [
    {
     "data": {
      "text/html": [
       "<pre style=\"white-space:pre;overflow-x:auto;line-height:normal;font-family:Menlo,'DejaVu Sans Mono',consolas,'Courier New',monospace\">Processing file: <span style=\"font-weight: bold\">C:\\Users\\kade\\Desktop\\training_dir_staging\\1_auroth_the_winter_wyvern\\</span><span style=\"color: #008080; text-decoration-color: #008080; font-weight: bold\">1020418.j</span><span style=\"font-weight: bold\">son</span>\n",
       "</pre>\n"
      ],
      "text/plain": [
       "Processing file: \u001b[1mC:\\Users\\kade\\Desktop\\training_dir_staging\\1_auroth_the_winter_wyvern\\\u001b[0m\u001b[1;36m1020418.j\u001b[0m\u001b[1mson\u001b[0m\n"
      ]
     },
     "metadata": {},
     "output_type": "display_data"
    },
    {
     "data": {
      "text/html": [
       "<pre style=\"white-space:pre;overflow-x:auto;line-height:normal;font-family:Menlo,'DejaVu Sans Mono',consolas,'Courier New',monospace\">Creating caption file: \n",
       "<span style=\"font-weight: bold\">C:\\Users\\kade\\Desktop\\training_dir_staging\\1_auroth_the_winter_wyvern\\4e87fd5eb9adc34574880ed08ad802d1.txt</span>\n",
       "</pre>\n"
      ],
      "text/plain": [
       "Creating caption file: \n",
       "\u001b[1mC:\\Users\\kade\\Desktop\\training_dir_staging\\1_auroth_the_winter_wyvern\\4e87fd5eb9adc34574880ed08ad802d1.txt\u001b[0m\n"
      ]
     },
     "metadata": {},
     "output_type": "display_data"
    },
    {
     "data": {
      "text/html": [
       "<pre style=\"white-space:pre;overflow-x:auto;line-height:normal;font-family:Menlo,'DejaVu Sans Mono',consolas,'Courier New',monospace\">Writing tags: <span style=\"font-style: italic\">anus, bedroom eyes, book, cave, claws, female, feral, genitals, half-closed eyes, ice, looking at </span>\n",
       "<span style=\"font-style: italic\">viewer, lying, membrane \\</span><span style=\"font-weight: bold; font-style: italic\">(</span><span style=\"font-style: italic\">anatomy\\</span><span style=\"font-weight: bold; font-style: italic\">)</span><span style=\"font-style: italic\">, membranous wings, narrowed eyes, pinup, pose, presenting, pussy, seductive, </span>\n",
       "<span style=\"font-style: italic\">smile, solo, tail, wings, by nahyon, european mythology, mythology, auroth the winter wyvern, dragon, mythological </span>\n",
       "<span style=\"font-style: italic\">creature, mythological scalie, scalie, western dragon, wyvern</span>\n",
       "</pre>\n"
      ],
      "text/plain": [
       "Writing tags: \u001b[3manus, bedroom eyes, book, cave, claws, female, feral, genitals, half-closed eyes, ice, looking at \u001b[0m\n",
       "\u001b[3mviewer, lying, membrane \\\u001b[0m\u001b[1;3m(\u001b[0m\u001b[3manatomy\\\u001b[0m\u001b[1;3m)\u001b[0m\u001b[3m, membranous wings, narrowed eyes, pinup, pose, presenting, pussy, seductive, \u001b[0m\n",
       "\u001b[3msmile, solo, tail, wings, by nahyon, european mythology, mythology, auroth the winter wyvern, dragon, mythological \u001b[0m\n",
       "\u001b[3mcreature, mythological scalie, scalie, western dragon, wyvern\u001b[0m\n"
      ]
     },
     "metadata": {},
     "output_type": "display_data"
    },
    {
     "data": {
      "text/html": [
       "<pre style=\"white-space:pre;overflow-x:auto;line-height:normal;font-family:Menlo,'DejaVu Sans Mono',consolas,'Courier New',monospace\">Processing file: <span style=\"font-weight: bold\">C:\\Users\\kade\\Desktop\\training_dir_staging\\1_auroth_the_winter_wyvern\\</span><span style=\"color: #008080; text-decoration-color: #008080; font-weight: bold\">1064034.j</span><span style=\"font-weight: bold\">son</span>\n",
       "</pre>\n"
      ],
      "text/plain": [
       "Processing file: \u001b[1mC:\\Users\\kade\\Desktop\\training_dir_staging\\1_auroth_the_winter_wyvern\\\u001b[0m\u001b[1;36m1064034.j\u001b[0m\u001b[1mson\u001b[0m\n"
      ]
     },
     "metadata": {},
     "output_type": "display_data"
    },
    {
     "data": {
      "text/html": [
       "<pre style=\"white-space:pre;overflow-x:auto;line-height:normal;font-family:Menlo,'DejaVu Sans Mono',consolas,'Courier New',monospace\">Creating caption file: \n",
       "<span style=\"font-weight: bold\">C:\\Users\\kade\\Desktop\\training_dir_staging\\1_auroth_the_winter_wyvern\\2e6c00a1c24df8f59f60b279b124755e.txt</span>\n",
       "</pre>\n"
      ],
      "text/plain": [
       "Creating caption file: \n",
       "\u001b[1mC:\\Users\\kade\\Desktop\\training_dir_staging\\1_auroth_the_winter_wyvern\\2e6c00a1c24df8f59f60b279b124755e.txt\u001b[0m\n"
      ]
     },
     "metadata": {},
     "output_type": "display_data"
    },
    {
     "data": {
      "text/html": [
       "<pre style=\"white-space:pre;overflow-x:auto;line-height:normal;font-family:Menlo,'DejaVu Sans Mono',consolas,'Courier New',monospace\">Writing tags: <span style=\"color: #008080; text-decoration-color: #008080; font-weight: bold; font-style: italic\">3</span><span style=\"font-style: italic\"> toes, </span><span style=\"color: #008080; text-decoration-color: #008080; font-weight: bold; font-style: italic\">4</span><span style=\"font-style: italic\"> toes, anus, blue anus, blue claws, blue eyes, blue pussy, butt, claws, clitoral hood, </span>\n",
       "<span style=\"font-style: italic\">detailed background, digitigrade, feet, female, feral, genitals, hindpaw, looking at viewer, lying, membrane </span>\n",
       "<span style=\"font-style: italic\">\\</span><span style=\"font-weight: bold; font-style: italic\">(</span><span style=\"font-style: italic\">anatomy\\</span><span style=\"font-weight: bold; font-style: italic\">)</span><span style=\"font-style: italic\">, membranous wings, nude, on side, pawpads, paws, presenting, presenting hindquarters, pussy, snow, </span>\n",
       "<span style=\"font-style: italic\">snowing, soles, solo, tail, toes, wings, by velannal, european mythology, mythology, auroth the winter wyvern, </span>\n",
       "<span style=\"font-style: italic\">dragon, mythological creature, mythological scalie, scalie, western dragon, wyvern</span>\n",
       "</pre>\n"
      ],
      "text/plain": [
       "Writing tags: \u001b[1;3;36m3\u001b[0m\u001b[3m toes, \u001b[0m\u001b[1;3;36m4\u001b[0m\u001b[3m toes, anus, blue anus, blue claws, blue eyes, blue pussy, butt, claws, clitoral hood, \u001b[0m\n",
       "\u001b[3mdetailed background, digitigrade, feet, female, feral, genitals, hindpaw, looking at viewer, lying, membrane \u001b[0m\n",
       "\u001b[3m\\\u001b[0m\u001b[1;3m(\u001b[0m\u001b[3manatomy\\\u001b[0m\u001b[1;3m)\u001b[0m\u001b[3m, membranous wings, nude, on side, pawpads, paws, presenting, presenting hindquarters, pussy, snow, \u001b[0m\n",
       "\u001b[3msnowing, soles, solo, tail, toes, wings, by velannal, european mythology, mythology, auroth the winter wyvern, \u001b[0m\n",
       "\u001b[3mdragon, mythological creature, mythological scalie, scalie, western dragon, wyvern\u001b[0m\n"
      ]
     },
     "metadata": {},
     "output_type": "display_data"
    },
    {
     "data": {
      "text/html": [
       "<pre style=\"white-space:pre;overflow-x:auto;line-height:normal;font-family:Menlo,'DejaVu Sans Mono',consolas,'Courier New',monospace\">Processing file: <span style=\"font-weight: bold\">C:\\Users\\kade\\Desktop\\training_dir_staging\\1_auroth_the_winter_wyvern\\</span><span style=\"color: #008080; text-decoration-color: #008080; font-weight: bold\">1113240.j</span><span style=\"font-weight: bold\">son</span>\n",
       "</pre>\n"
      ],
      "text/plain": [
       "Processing file: \u001b[1mC:\\Users\\kade\\Desktop\\training_dir_staging\\1_auroth_the_winter_wyvern\\\u001b[0m\u001b[1;36m1113240.j\u001b[0m\u001b[1mson\u001b[0m\n"
      ]
     },
     "metadata": {},
     "output_type": "display_data"
    },
    {
     "data": {
      "text/html": [
       "<pre style=\"white-space:pre;overflow-x:auto;line-height:normal;font-family:Menlo,'DejaVu Sans Mono',consolas,'Courier New',monospace\">Creating caption file: \n",
       "<span style=\"font-weight: bold\">C:\\Users\\kade\\Desktop\\training_dir_staging\\1_auroth_the_winter_wyvern\\aa7a545f8f5c49341c08a79fc83fc48f.txt</span>\n",
       "</pre>\n"
      ],
      "text/plain": [
       "Creating caption file: \n",
       "\u001b[1mC:\\Users\\kade\\Desktop\\training_dir_staging\\1_auroth_the_winter_wyvern\\aa7a545f8f5c49341c08a79fc83fc48f.txt\u001b[0m\n"
      ]
     },
     "metadata": {},
     "output_type": "display_data"
    },
    {
     "data": {
      "text/html": [
       "<pre style=\"white-space:pre;overflow-x:auto;line-height:normal;font-family:Menlo,'DejaVu Sans Mono',consolas,'Courier New',monospace\">Writing tags: <span style=\"font-style: italic\">anus, big butt, blue body, blue clitoris, blue eyes, blue fangs, blue glow, blue hair, blue mane, </span>\n",
       "<span style=\"font-style: italic\">blue pussy, blue scales, blue skin, blush, bodily fluids, butt, butt focus, cave, clitoris, depth of field, </span>\n",
       "<span style=\"font-style: italic\">detailed background, fangs, female, feral, foreshortening, genital fluids, genitals, glowing, glowing clitoris, </span>\n",
       "<span style=\"font-style: italic\">glowing genitalia, glowing pussy, hair, huge butt, huge thighs, long hair, long mouth, looking at viewer, looking </span>\n",
       "<span style=\"font-style: italic\">back, looking back at viewer, mane, membrane \\</span><span style=\"font-weight: bold; font-style: italic\">(</span><span style=\"font-style: italic\">anatomy\\</span><span style=\"font-weight: bold; font-style: italic\">)</span><span style=\"font-style: italic\">, membranous wings, nude, overbite, presenting, presenting </span>\n",
       "<span style=\"font-style: italic\">anus, presenting hindquarters, presenting pussy, pupils, purple blush, pussy, pussy juice on tail, pussy juice </span>\n",
       "<span style=\"font-style: italic\">string, raised tail, rear view, scales, slit pupils, smile, snout, solo, sparkles, spikes, spread wings, </span>\n",
       "<span style=\"font-style: italic\">stalactite, stalagmite, steam, tail, tail mane, teeth, thick thighs, vaginal fluids, warm/cold theme, wings, by </span>\n",
       "<span style=\"font-style: italic\">photonoko, european mythology, mythology, auroth the winter wyvern, dragon, mythological creature, mythological </span>\n",
       "<span style=\"font-style: italic\">scalie, reptile, scalie, western dragon, wyvern, blue theme, cool colors, digital media \\</span><span style=\"font-weight: bold; font-style: italic\">(</span><span style=\"font-style: italic\">artwork\\</span><span style=\"font-weight: bold; font-style: italic\">)</span><span style=\"font-style: italic\">, digital </span>\n",
       "<span style=\"font-style: italic\">painting \\</span><span style=\"font-weight: bold; font-style: italic\">(</span><span style=\"font-style: italic\">artwork\\</span><span style=\"font-weight: bold; font-style: italic\">)</span><span style=\"font-style: italic\">, restricted palette</span>\n",
       "</pre>\n"
      ],
      "text/plain": [
       "Writing tags: \u001b[3manus, big butt, blue body, blue clitoris, blue eyes, blue fangs, blue glow, blue hair, blue mane, \u001b[0m\n",
       "\u001b[3mblue pussy, blue scales, blue skin, blush, bodily fluids, butt, butt focus, cave, clitoris, depth of field, \u001b[0m\n",
       "\u001b[3mdetailed background, fangs, female, feral, foreshortening, genital fluids, genitals, glowing, glowing clitoris, \u001b[0m\n",
       "\u001b[3mglowing genitalia, glowing pussy, hair, huge butt, huge thighs, long hair, long mouth, looking at viewer, looking \u001b[0m\n",
       "\u001b[3mback, looking back at viewer, mane, membrane \\\u001b[0m\u001b[1;3m(\u001b[0m\u001b[3manatomy\\\u001b[0m\u001b[1;3m)\u001b[0m\u001b[3m, membranous wings, nude, overbite, presenting, presenting \u001b[0m\n",
       "\u001b[3manus, presenting hindquarters, presenting pussy, pupils, purple blush, pussy, pussy juice on tail, pussy juice \u001b[0m\n",
       "\u001b[3mstring, raised tail, rear view, scales, slit pupils, smile, snout, solo, sparkles, spikes, spread wings, \u001b[0m\n",
       "\u001b[3mstalactite, stalagmite, steam, tail, tail mane, teeth, thick thighs, vaginal fluids, warm/cold theme, wings, by \u001b[0m\n",
       "\u001b[3mphotonoko, european mythology, mythology, auroth the winter wyvern, dragon, mythological creature, mythological \u001b[0m\n",
       "\u001b[3mscalie, reptile, scalie, western dragon, wyvern, blue theme, cool colors, digital media \\\u001b[0m\u001b[1;3m(\u001b[0m\u001b[3martwork\\\u001b[0m\u001b[1;3m)\u001b[0m\u001b[3m, digital \u001b[0m\n",
       "\u001b[3mpainting \\\u001b[0m\u001b[1;3m(\u001b[0m\u001b[3martwork\\\u001b[0m\u001b[1;3m)\u001b[0m\u001b[3m, restricted palette\u001b[0m\n"
      ]
     },
     "metadata": {},
     "output_type": "display_data"
    },
    {
     "data": {
      "text/html": [
       "<pre style=\"white-space:pre;overflow-x:auto;line-height:normal;font-family:Menlo,'DejaVu Sans Mono',consolas,'Courier New',monospace\">Processing file: <span style=\"font-weight: bold\">C:\\Users\\kade\\Desktop\\training_dir_staging\\1_auroth_the_winter_wyvern\\</span><span style=\"color: #008080; text-decoration-color: #008080; font-weight: bold\">1161307.j</span><span style=\"font-weight: bold\">son</span>\n",
       "</pre>\n"
      ],
      "text/plain": [
       "Processing file: \u001b[1mC:\\Users\\kade\\Desktop\\training_dir_staging\\1_auroth_the_winter_wyvern\\\u001b[0m\u001b[1;36m1161307.j\u001b[0m\u001b[1mson\u001b[0m\n"
      ]
     },
     "metadata": {},
     "output_type": "display_data"
    },
    {
     "data": {
      "text/html": [
       "<pre style=\"white-space:pre;overflow-x:auto;line-height:normal;font-family:Menlo,'DejaVu Sans Mono',consolas,'Courier New',monospace\">Creating caption file: \n",
       "<span style=\"font-weight: bold\">C:\\Users\\kade\\Desktop\\training_dir_staging\\1_auroth_the_winter_wyvern\\e16dfcd36f6254e5855bc92728930082.txt</span>\n",
       "</pre>\n"
      ],
      "text/plain": [
       "Creating caption file: \n",
       "\u001b[1mC:\\Users\\kade\\Desktop\\training_dir_staging\\1_auroth_the_winter_wyvern\\e16dfcd36f6254e5855bc92728930082.txt\u001b[0m\n"
      ]
     },
     "metadata": {},
     "output_type": "display_data"
    },
    {
     "data": {
      "text/html": [
       "<pre style=\"white-space:pre;overflow-x:auto;line-height:normal;font-family:Menlo,'DejaVu Sans Mono',consolas,'Courier New',monospace\">Writing tags: <span style=\"font-style: italic\">anthro, anthrofied, areola, blue areola, blue eyes, blue nipples, breasts, cave, cavern, claws, </span>\n",
       "<span style=\"font-style: italic\">crystal, detailed background, fangs, female, frozen, grey hair, hair, ice, icicle, inanimate transformation, </span>\n",
       "<span style=\"font-style: italic\">nipples, non-mammal breasts, nude, petrification, scales, sitting, solo, tail, teeth, transformation, wing claws, </span>\n",
       "<span style=\"font-style: italic\">wings, by oot, european mythology, mythology, auroth the winter wyvern, dragon, mythological creature, mythological</span>\n",
       "<span style=\"font-style: italic\">scalie, reptile, scalie, western dragon, wyvern, blue theme, cool colors, restricted palette</span>\n",
       "</pre>\n"
      ],
      "text/plain": [
       "Writing tags: \u001b[3manthro, anthrofied, areola, blue areola, blue eyes, blue nipples, breasts, cave, cavern, claws, \u001b[0m\n",
       "\u001b[3mcrystal, detailed background, fangs, female, frozen, grey hair, hair, ice, icicle, inanimate transformation, \u001b[0m\n",
       "\u001b[3mnipples, non-mammal breasts, nude, petrification, scales, sitting, solo, tail, teeth, transformation, wing claws, \u001b[0m\n",
       "\u001b[3mwings, by oot, european mythology, mythology, auroth the winter wyvern, dragon, mythological creature, mythological\u001b[0m\n",
       "\u001b[3mscalie, reptile, scalie, western dragon, wyvern, blue theme, cool colors, restricted palette\u001b[0m\n"
      ]
     },
     "metadata": {},
     "output_type": "display_data"
    },
    {
     "data": {
      "text/html": [
       "<pre style=\"white-space:pre;overflow-x:auto;line-height:normal;font-family:Menlo,'DejaVu Sans Mono',consolas,'Courier New',monospace\">Processing file: <span style=\"font-weight: bold\">C:\\Users\\kade\\Desktop\\training_dir_staging\\1_auroth_the_winter_wyvern\\</span><span style=\"color: #008080; text-decoration-color: #008080; font-weight: bold\">1248466.j</span><span style=\"font-weight: bold\">son</span>\n",
       "</pre>\n"
      ],
      "text/plain": [
       "Processing file: \u001b[1mC:\\Users\\kade\\Desktop\\training_dir_staging\\1_auroth_the_winter_wyvern\\\u001b[0m\u001b[1;36m1248466.j\u001b[0m\u001b[1mson\u001b[0m\n"
      ]
     },
     "metadata": {},
     "output_type": "display_data"
    },
    {
     "data": {
      "text/html": [
       "<pre style=\"white-space:pre;overflow-x:auto;line-height:normal;font-family:Menlo,'DejaVu Sans Mono',consolas,'Courier New',monospace\">Creating caption file: \n",
       "<span style=\"font-weight: bold\">C:\\Users\\kade\\Desktop\\training_dir_staging\\1_auroth_the_winter_wyvern\\573c476d8d1b068cd22b351641d51769.txt</span>\n",
       "</pre>\n"
      ],
      "text/plain": [
       "Creating caption file: \n",
       "\u001b[1mC:\\Users\\kade\\Desktop\\training_dir_staging\\1_auroth_the_winter_wyvern\\573c476d8d1b068cd22b351641d51769.txt\u001b[0m\n"
      ]
     },
     "metadata": {},
     "output_type": "display_data"
    },
    {
     "data": {
      "text/html": [
       "<pre style=\"white-space:pre;overflow-x:auto;line-height:normal;font-family:Menlo,'DejaVu Sans Mono',consolas,'Courier New',monospace\">Writing tags: <span style=\"font-style: italic\">anthro, anthrofied, bent over, big breasts, blue body, blue eyes, blue hair, blue nipples, blue </span>\n",
       "<span style=\"font-style: italic\">sclera, blue skin, breast squish, breasts, female, hair, holding breast, horn, inverted nipples, leaning, leaning </span>\n",
       "<span style=\"font-style: italic\">forward, nipples, non-mammal breasts, nude, solo, squish, tail, teal nipples, by skygracer, european mythology, </span>\n",
       "<span style=\"font-style: italic\">mythology, auroth the winter wyvern, dragon, mythological creature, mythological scalie, scalie, western dragon, </span>\n",
       "<span style=\"font-style: italic\">wyvern, digital media \\</span><span style=\"font-weight: bold; font-style: italic\">(</span><span style=\"font-style: italic\">artwork\\</span><span style=\"font-weight: bold; font-style: italic\">)</span>\n",
       "</pre>\n"
      ],
      "text/plain": [
       "Writing tags: \u001b[3manthro, anthrofied, bent over, big breasts, blue body, blue eyes, blue hair, blue nipples, blue \u001b[0m\n",
       "\u001b[3msclera, blue skin, breast squish, breasts, female, hair, holding breast, horn, inverted nipples, leaning, leaning \u001b[0m\n",
       "\u001b[3mforward, nipples, non-mammal breasts, nude, solo, squish, tail, teal nipples, by skygracer, european mythology, \u001b[0m\n",
       "\u001b[3mmythology, auroth the winter wyvern, dragon, mythological creature, mythological scalie, scalie, western dragon, \u001b[0m\n",
       "\u001b[3mwyvern, digital media \\\u001b[0m\u001b[1;3m(\u001b[0m\u001b[3martwork\\\u001b[0m\u001b[1;3m)\u001b[0m\n"
      ]
     },
     "metadata": {},
     "output_type": "display_data"
    },
    {
     "data": {
      "text/html": [
       "<pre style=\"white-space:pre;overflow-x:auto;line-height:normal;font-family:Menlo,'DejaVu Sans Mono',consolas,'Courier New',monospace\">Processing file: <span style=\"font-weight: bold\">C:\\Users\\kade\\Desktop\\training_dir_staging\\1_auroth_the_winter_wyvern\\</span><span style=\"color: #008080; text-decoration-color: #008080; font-weight: bold\">1314713.j</span><span style=\"font-weight: bold\">son</span>\n",
       "</pre>\n"
      ],
      "text/plain": [
       "Processing file: \u001b[1mC:\\Users\\kade\\Desktop\\training_dir_staging\\1_auroth_the_winter_wyvern\\\u001b[0m\u001b[1;36m1314713.j\u001b[0m\u001b[1mson\u001b[0m\n"
      ]
     },
     "metadata": {},
     "output_type": "display_data"
    },
    {
     "data": {
      "text/html": [
       "<pre style=\"white-space:pre;overflow-x:auto;line-height:normal;font-family:Menlo,'DejaVu Sans Mono',consolas,'Courier New',monospace\">Creating caption file: \n",
       "<span style=\"font-weight: bold\">C:\\Users\\kade\\Desktop\\training_dir_staging\\1_auroth_the_winter_wyvern\\370927792afcce621f8ec5620e7eb2ea.txt</span>\n",
       "</pre>\n"
      ],
      "text/plain": [
       "Creating caption file: \n",
       "\u001b[1mC:\\Users\\kade\\Desktop\\training_dir_staging\\1_auroth_the_winter_wyvern\\370927792afcce621f8ec5620e7eb2ea.txt\u001b[0m\n"
      ]
     },
     "metadata": {},
     "output_type": "display_data"
    },
    {
     "data": {
      "text/html": [
       "<pre style=\"white-space:pre;overflow-x:auto;line-height:normal;font-family:Menlo,'DejaVu Sans Mono',consolas,'Courier New',monospace\">Writing tags: <span style=\"font-style: italic\">anthro, anthrofied, anus, belly scales, bodily fluids, breasts, butt, claws, egg, female, fur, </span>\n",
       "<span style=\"font-style: italic\">genital fluids, genitals, hair, looking at viewer, non-mammal breasts, presenting, presenting hindquarters, pussy, </span>\n",
       "<span style=\"font-style: italic\">scales, solo, tail, vaginal fluids, by wingedwilly, european mythology, mythology, auroth the winter wyvern, </span>\n",
       "<span style=\"font-style: italic\">dragon, furred dragon, mythological creature, mythological scalie, scalie, western dragon, wyvern</span>\n",
       "</pre>\n"
      ],
      "text/plain": [
       "Writing tags: \u001b[3manthro, anthrofied, anus, belly scales, bodily fluids, breasts, butt, claws, egg, female, fur, \u001b[0m\n",
       "\u001b[3mgenital fluids, genitals, hair, looking at viewer, non-mammal breasts, presenting, presenting hindquarters, pussy, \u001b[0m\n",
       "\u001b[3mscales, solo, tail, vaginal fluids, by wingedwilly, european mythology, mythology, auroth the winter wyvern, \u001b[0m\n",
       "\u001b[3mdragon, furred dragon, mythological creature, mythological scalie, scalie, western dragon, wyvern\u001b[0m\n"
      ]
     },
     "metadata": {},
     "output_type": "display_data"
    },
    {
     "data": {
      "text/html": [
       "<pre style=\"white-space:pre;overflow-x:auto;line-height:normal;font-family:Menlo,'DejaVu Sans Mono',consolas,'Courier New',monospace\">Processing file: <span style=\"font-weight: bold\">C:\\Users\\kade\\Desktop\\training_dir_staging\\1_auroth_the_winter_wyvern\\</span><span style=\"color: #008080; text-decoration-color: #008080; font-weight: bold\">1365423.j</span><span style=\"font-weight: bold\">son</span>\n",
       "</pre>\n"
      ],
      "text/plain": [
       "Processing file: \u001b[1mC:\\Users\\kade\\Desktop\\training_dir_staging\\1_auroth_the_winter_wyvern\\\u001b[0m\u001b[1;36m1365423.j\u001b[0m\u001b[1mson\u001b[0m\n"
      ]
     },
     "metadata": {},
     "output_type": "display_data"
    },
    {
     "data": {
      "text/html": [
       "<pre style=\"white-space:pre;overflow-x:auto;line-height:normal;font-family:Menlo,'DejaVu Sans Mono',consolas,'Courier New',monospace\">Creating caption file: \n",
       "<span style=\"font-weight: bold\">C:\\Users\\kade\\Desktop\\training_dir_staging\\1_auroth_the_winter_wyvern\\f50bf2e34960d9b565cbcf9efb4c9fb9.txt</span>\n",
       "</pre>\n"
      ],
      "text/plain": [
       "Creating caption file: \n",
       "\u001b[1mC:\\Users\\kade\\Desktop\\training_dir_staging\\1_auroth_the_winter_wyvern\\f50bf2e34960d9b565cbcf9efb4c9fb9.txt\u001b[0m\n"
      ]
     },
     "metadata": {},
     "output_type": "display_data"
    },
    {
     "data": {
      "text/html": [
       "<pre style=\"white-space:pre;overflow-x:auto;line-height:normal;font-family:Menlo,'DejaVu Sans Mono',consolas,'Courier New',monospace\">Writing tags: <span style=\"font-style: italic\">ambiguous form, anal juice, anus, bodily fluids, butt, claws, drooling, female, genital fluids, </span>\n",
       "<span style=\"font-style: italic\">genitals, in heat, looking at viewer, looking back, nude, presenting, presenting hindquarters, presenting pussy, </span>\n",
       "<span style=\"font-style: italic\">pussy, raised tail, rear view, saliva, solo, tail, tongue, vaginal fluids, wings, by sepiruth, european mythology, </span>\n",
       "<span style=\"font-style: italic\">mythology, auroth the winter wyvern, dragon, mythological creature, mythological scalie, scalie, western dragon, </span>\n",
       "<span style=\"font-style: italic\">wyvern</span>\n",
       "</pre>\n"
      ],
      "text/plain": [
       "Writing tags: \u001b[3mambiguous form, anal juice, anus, bodily fluids, butt, claws, drooling, female, genital fluids, \u001b[0m\n",
       "\u001b[3mgenitals, in heat, looking at viewer, looking back, nude, presenting, presenting hindquarters, presenting pussy, \u001b[0m\n",
       "\u001b[3mpussy, raised tail, rear view, saliva, solo, tail, tongue, vaginal fluids, wings, by sepiruth, european mythology, \u001b[0m\n",
       "\u001b[3mmythology, auroth the winter wyvern, dragon, mythological creature, mythological scalie, scalie, western dragon, \u001b[0m\n",
       "\u001b[3mwyvern\u001b[0m\n"
      ]
     },
     "metadata": {},
     "output_type": "display_data"
    },
    {
     "data": {
      "text/html": [
       "<pre style=\"white-space:pre;overflow-x:auto;line-height:normal;font-family:Menlo,'DejaVu Sans Mono',consolas,'Courier New',monospace\">Processing file: <span style=\"font-weight: bold\">C:\\Users\\kade\\Desktop\\training_dir_staging\\1_auroth_the_winter_wyvern\\</span><span style=\"color: #008080; text-decoration-color: #008080; font-weight: bold\">1463431.j</span><span style=\"font-weight: bold\">son</span>\n",
       "</pre>\n"
      ],
      "text/plain": [
       "Processing file: \u001b[1mC:\\Users\\kade\\Desktop\\training_dir_staging\\1_auroth_the_winter_wyvern\\\u001b[0m\u001b[1;36m1463431.j\u001b[0m\u001b[1mson\u001b[0m\n"
      ]
     },
     "metadata": {},
     "output_type": "display_data"
    },
    {
     "data": {
      "text/html": [
       "<pre style=\"white-space:pre;overflow-x:auto;line-height:normal;font-family:Menlo,'DejaVu Sans Mono',consolas,'Courier New',monospace\">Creating caption file: \n",
       "<span style=\"font-weight: bold\">C:\\Users\\kade\\Desktop\\training_dir_staging\\1_auroth_the_winter_wyvern\\2d74fa0d926b7b7095a5d69cbdbf6eef.txt</span>\n",
       "</pre>\n"
      ],
      "text/plain": [
       "Creating caption file: \n",
       "\u001b[1mC:\\Users\\kade\\Desktop\\training_dir_staging\\1_auroth_the_winter_wyvern\\2d74fa0d926b7b7095a5d69cbdbf6eef.txt\u001b[0m\n"
      ]
     },
     "metadata": {},
     "output_type": "display_data"
    },
    {
     "data": {
      "text/html": [
       "<pre style=\"white-space:pre;overflow-x:auto;line-height:normal;font-family:Menlo,'DejaVu Sans Mono',consolas,'Courier New',monospace\">Writing tags: <span style=\"font-style: italic\">anus, bedroom eyes, belly scales, blush, bodily fluids, butt, claws, clitoris, curling toes, feet, </span>\n",
       "<span style=\"font-style: italic\">female, feral, fur, genital fluids, genitals, hair, half-closed eyes, horn, in heat, leaking, looking at viewer, </span>\n",
       "<span style=\"font-style: italic\">lying, membrane \\</span><span style=\"font-weight: bold; font-style: italic\">(</span><span style=\"font-style: italic\">anatomy\\</span><span style=\"font-weight: bold; font-style: italic\">)</span><span style=\"font-style: italic\">, membranous wings, narrowed eyes, nude, on back, presenting, presenting hindquarters, </span>\n",
       "<span style=\"font-style: italic\">presenting pussy, pussy, scales, seductive, snout, solo, spread legs, spreading, stripes, sweat, tail, teeth, toe </span>\n",
       "<span style=\"font-style: italic\">claws, toes, vaginal fluids, wings, by wingedwilly, european mythology, mythology, auroth the winter wyvern, </span>\n",
       "<span style=\"font-style: italic\">dragon, furred dragon, mythological creature, mythological scalie, scalie, western dragon, wyvern, digital media </span>\n",
       "<span style=\"font-style: italic\">\\</span><span style=\"font-weight: bold; font-style: italic\">(</span><span style=\"font-style: italic\">artwork\\</span><span style=\"font-weight: bold; font-style: italic\">)</span>\n",
       "</pre>\n"
      ],
      "text/plain": [
       "Writing tags: \u001b[3manus, bedroom eyes, belly scales, blush, bodily fluids, butt, claws, clitoris, curling toes, feet, \u001b[0m\n",
       "\u001b[3mfemale, feral, fur, genital fluids, genitals, hair, half-closed eyes, horn, in heat, leaking, looking at viewer, \u001b[0m\n",
       "\u001b[3mlying, membrane \\\u001b[0m\u001b[1;3m(\u001b[0m\u001b[3manatomy\\\u001b[0m\u001b[1;3m)\u001b[0m\u001b[3m, membranous wings, narrowed eyes, nude, on back, presenting, presenting hindquarters, \u001b[0m\n",
       "\u001b[3mpresenting pussy, pussy, scales, seductive, snout, solo, spread legs, spreading, stripes, sweat, tail, teeth, toe \u001b[0m\n",
       "\u001b[3mclaws, toes, vaginal fluids, wings, by wingedwilly, european mythology, mythology, auroth the winter wyvern, \u001b[0m\n",
       "\u001b[3mdragon, furred dragon, mythological creature, mythological scalie, scalie, western dragon, wyvern, digital media \u001b[0m\n",
       "\u001b[3m\\\u001b[0m\u001b[1;3m(\u001b[0m\u001b[3martwork\\\u001b[0m\u001b[1;3m)\u001b[0m\n"
      ]
     },
     "metadata": {},
     "output_type": "display_data"
    },
    {
     "data": {
      "text/html": [
       "<pre style=\"white-space:pre;overflow-x:auto;line-height:normal;font-family:Menlo,'DejaVu Sans Mono',consolas,'Courier New',monospace\">Processing file: <span style=\"font-weight: bold\">C:\\Users\\kade\\Desktop\\training_dir_staging\\1_auroth_the_winter_wyvern\\</span><span style=\"color: #008080; text-decoration-color: #008080; font-weight: bold\">1593156.j</span><span style=\"font-weight: bold\">son</span>\n",
       "</pre>\n"
      ],
      "text/plain": [
       "Processing file: \u001b[1mC:\\Users\\kade\\Desktop\\training_dir_staging\\1_auroth_the_winter_wyvern\\\u001b[0m\u001b[1;36m1593156.j\u001b[0m\u001b[1mson\u001b[0m\n"
      ]
     },
     "metadata": {},
     "output_type": "display_data"
    },
    {
     "data": {
      "text/html": [
       "<pre style=\"white-space:pre;overflow-x:auto;line-height:normal;font-family:Menlo,'DejaVu Sans Mono',consolas,'Courier New',monospace\">Creating caption file: \n",
       "<span style=\"font-weight: bold\">C:\\Users\\kade\\Desktop\\training_dir_staging\\1_auroth_the_winter_wyvern\\d997da2dbc8066ed364a7d4c0c335f05.txt</span>\n",
       "</pre>\n"
      ],
      "text/plain": [
       "Creating caption file: \n",
       "\u001b[1mC:\\Users\\kade\\Desktop\\training_dir_staging\\1_auroth_the_winter_wyvern\\d997da2dbc8066ed364a7d4c0c335f05.txt\u001b[0m\n"
      ]
     },
     "metadata": {},
     "output_type": "display_data"
    },
    {
     "data": {
      "text/html": [
       "<pre style=\"white-space:pre;overflow-x:auto;line-height:normal;font-family:Menlo,'DejaVu Sans Mono',consolas,'Courier New',monospace\">Writing tags: <span style=\"font-style: italic\">anus, blue body, blue eyes, blue hair, blue scales, claws, female, feral, fur, genitals, hair, horn, </span>\n",
       "<span style=\"font-style: italic\">looking at viewer, membrane \\</span><span style=\"font-weight: bold; font-style: italic\">(</span><span style=\"font-style: italic\">anatomy\\</span><span style=\"font-weight: bold; font-style: italic\">)</span><span style=\"font-style: italic\">, membranous wings, nude, pussy, scales, simple background, smile, solo, </span>\n",
       "<span style=\"font-style: italic\">spread legs, spreading, tail, teeth, wings, by backsash, european mythology, mythology, auroth the winter wyvern, </span>\n",
       "<span style=\"font-style: italic\">dragon, mythological creature, mythological scalie, scalie, western dragon, wyvern, digital media \\</span><span style=\"font-weight: bold; font-style: italic\">(</span><span style=\"font-style: italic\">artwork\\</span><span style=\"font-weight: bold; font-style: italic\">)</span>\n",
       "</pre>\n"
      ],
      "text/plain": [
       "Writing tags: \u001b[3manus, blue body, blue eyes, blue hair, blue scales, claws, female, feral, fur, genitals, hair, horn, \u001b[0m\n",
       "\u001b[3mlooking at viewer, membrane \\\u001b[0m\u001b[1;3m(\u001b[0m\u001b[3manatomy\\\u001b[0m\u001b[1;3m)\u001b[0m\u001b[3m, membranous wings, nude, pussy, scales, simple background, smile, solo, \u001b[0m\n",
       "\u001b[3mspread legs, spreading, tail, teeth, wings, by backsash, european mythology, mythology, auroth the winter wyvern, \u001b[0m\n",
       "\u001b[3mdragon, mythological creature, mythological scalie, scalie, western dragon, wyvern, digital media \\\u001b[0m\u001b[1;3m(\u001b[0m\u001b[3martwork\\\u001b[0m\u001b[1;3m)\u001b[0m\n"
      ]
     },
     "metadata": {},
     "output_type": "display_data"
    },
    {
     "data": {
      "text/html": [
       "<pre style=\"white-space:pre;overflow-x:auto;line-height:normal;font-family:Menlo,'DejaVu Sans Mono',consolas,'Courier New',monospace\">Processing file: <span style=\"font-weight: bold\">C:\\Users\\kade\\Desktop\\training_dir_staging\\1_auroth_the_winter_wyvern\\</span><span style=\"color: #008080; text-decoration-color: #008080; font-weight: bold\">1795149.j</span><span style=\"font-weight: bold\">son</span>\n",
       "</pre>\n"
      ],
      "text/plain": [
       "Processing file: \u001b[1mC:\\Users\\kade\\Desktop\\training_dir_staging\\1_auroth_the_winter_wyvern\\\u001b[0m\u001b[1;36m1795149.j\u001b[0m\u001b[1mson\u001b[0m\n"
      ]
     },
     "metadata": {},
     "output_type": "display_data"
    },
    {
     "data": {
      "text/html": [
       "<pre style=\"white-space:pre;overflow-x:auto;line-height:normal;font-family:Menlo,'DejaVu Sans Mono',consolas,'Courier New',monospace\">Creating caption file: \n",
       "<span style=\"font-weight: bold\">C:\\Users\\kade\\Desktop\\training_dir_staging\\1_auroth_the_winter_wyvern\\b647d98f673a43150f0d7a1a54435e7a.txt</span>\n",
       "</pre>\n"
      ],
      "text/plain": [
       "Creating caption file: \n",
       "\u001b[1mC:\\Users\\kade\\Desktop\\training_dir_staging\\1_auroth_the_winter_wyvern\\b647d98f673a43150f0d7a1a54435e7a.txt\u001b[0m\n"
      ]
     },
     "metadata": {},
     "output_type": "display_data"
    },
    {
     "data": {
      "text/html": [
       "<pre style=\"white-space:pre;overflow-x:auto;line-height:normal;font-family:Menlo,'DejaVu Sans Mono',consolas,'Courier New',monospace\">Writing tags: <span style=\"font-style: italic\">all fours, anus, blue body, blue eyes, blue skin, butt, cave, female, feral, genitals, looking at </span>\n",
       "<span style=\"font-style: italic\">viewer, looking back, presenting, presenting hindquarters, pussy, sharp teeth, smile, solo, tail, teeth, by </span>\n",
       "<span style=\"font-style: italic\">elzzombie, european mythology, mythology, auroth the winter wyvern, dragon, mythological creature, mythological </span>\n",
       "<span style=\"font-style: italic\">scalie, scalie, western dragon, wyvern, cool colors, digital media \\</span><span style=\"font-weight: bold; font-style: italic\">(</span><span style=\"font-style: italic\">artwork\\</span><span style=\"font-weight: bold; font-style: italic\">)</span><span style=\"font-style: italic\">, signature, teal theme</span>\n",
       "</pre>\n"
      ],
      "text/plain": [
       "Writing tags: \u001b[3mall fours, anus, blue body, blue eyes, blue skin, butt, cave, female, feral, genitals, looking at \u001b[0m\n",
       "\u001b[3mviewer, looking back, presenting, presenting hindquarters, pussy, sharp teeth, smile, solo, tail, teeth, by \u001b[0m\n",
       "\u001b[3melzzombie, european mythology, mythology, auroth the winter wyvern, dragon, mythological creature, mythological \u001b[0m\n",
       "\u001b[3mscalie, scalie, western dragon, wyvern, cool colors, digital media \\\u001b[0m\u001b[1;3m(\u001b[0m\u001b[3martwork\\\u001b[0m\u001b[1;3m)\u001b[0m\u001b[3m, signature, teal theme\u001b[0m\n"
      ]
     },
     "metadata": {},
     "output_type": "display_data"
    },
    {
     "data": {
      "text/html": [
       "<pre style=\"white-space:pre;overflow-x:auto;line-height:normal;font-family:Menlo,'DejaVu Sans Mono',consolas,'Courier New',monospace\">Processing file: <span style=\"font-weight: bold\">C:\\Users\\kade\\Desktop\\training_dir_staging\\1_auroth_the_winter_wyvern\\</span><span style=\"color: #008080; text-decoration-color: #008080; font-weight: bold\">1879915.j</span><span style=\"font-weight: bold\">son</span>\n",
       "</pre>\n"
      ],
      "text/plain": [
       "Processing file: \u001b[1mC:\\Users\\kade\\Desktop\\training_dir_staging\\1_auroth_the_winter_wyvern\\\u001b[0m\u001b[1;36m1879915.j\u001b[0m\u001b[1mson\u001b[0m\n"
      ]
     },
     "metadata": {},
     "output_type": "display_data"
    },
    {
     "data": {
      "text/html": [
       "<pre style=\"white-space:pre;overflow-x:auto;line-height:normal;font-family:Menlo,'DejaVu Sans Mono',consolas,'Courier New',monospace\">Creating caption file: \n",
       "<span style=\"font-weight: bold\">C:\\Users\\kade\\Desktop\\training_dir_staging\\1_auroth_the_winter_wyvern\\d3140464dece2aae6d567a9d4942ffee.txt</span>\n",
       "</pre>\n"
      ],
      "text/plain": [
       "Creating caption file: \n",
       "\u001b[1mC:\\Users\\kade\\Desktop\\training_dir_staging\\1_auroth_the_winter_wyvern\\d3140464dece2aae6d567a9d4942ffee.txt\u001b[0m\n"
      ]
     },
     "metadata": {},
     "output_type": "display_data"
    },
    {
     "data": {
      "text/html": [
       "<pre style=\"white-space:pre;overflow-x:auto;line-height:normal;font-family:Menlo,'DejaVu Sans Mono',consolas,'Courier New',monospace\">Writing tags: <span style=\"font-style: italic\">after sex, anus, bedroom eyes, bodily fluids, book, brown background, claws, clitoris, cum, cum in </span>\n",
       "<span style=\"font-style: italic\">pussy, cum inside, feet, female, feral, genital fluids, genitals, grey background, hair, half-closed eyes, horn, </span>\n",
       "<span style=\"font-style: italic\">leaking cum, looking at viewer, lying, narrowed eyes, on back, pussy, seductive, sharp teeth, simple background, </span>\n",
       "<span style=\"font-style: italic\">smile, solo, spread legs, spreading, tail, teeth, toe claws, wings, by karukuji, european mythology, mythology, </span>\n",
       "<span style=\"font-style: italic\">auroth the winter wyvern, dragon, mythological creature, mythological scalie, scalie, western dragon, wyvern, </span>\n",
       "<span style=\"font-style: italic\">monochrome, signature</span>\n",
       "</pre>\n"
      ],
      "text/plain": [
       "Writing tags: \u001b[3mafter sex, anus, bedroom eyes, bodily fluids, book, brown background, claws, clitoris, cum, cum in \u001b[0m\n",
       "\u001b[3mpussy, cum inside, feet, female, feral, genital fluids, genitals, grey background, hair, half-closed eyes, horn, \u001b[0m\n",
       "\u001b[3mleaking cum, looking at viewer, lying, narrowed eyes, on back, pussy, seductive, sharp teeth, simple background, \u001b[0m\n",
       "\u001b[3msmile, solo, spread legs, spreading, tail, teeth, toe claws, wings, by karukuji, european mythology, mythology, \u001b[0m\n",
       "\u001b[3mauroth the winter wyvern, dragon, mythological creature, mythological scalie, scalie, western dragon, wyvern, \u001b[0m\n",
       "\u001b[3mmonochrome, signature\u001b[0m\n"
      ]
     },
     "metadata": {},
     "output_type": "display_data"
    },
    {
     "data": {
      "text/html": [
       "<pre style=\"white-space:pre;overflow-x:auto;line-height:normal;font-family:Menlo,'DejaVu Sans Mono',consolas,'Courier New',monospace\">Processing file: <span style=\"font-weight: bold\">C:\\Users\\kade\\Desktop\\training_dir_staging\\1_auroth_the_winter_wyvern\\</span><span style=\"color: #008080; text-decoration-color: #008080; font-weight: bold\">1879919.j</span><span style=\"font-weight: bold\">son</span>\n",
       "</pre>\n"
      ],
      "text/plain": [
       "Processing file: \u001b[1mC:\\Users\\kade\\Desktop\\training_dir_staging\\1_auroth_the_winter_wyvern\\\u001b[0m\u001b[1;36m1879919.j\u001b[0m\u001b[1mson\u001b[0m\n"
      ]
     },
     "metadata": {},
     "output_type": "display_data"
    },
    {
     "data": {
      "text/html": [
       "<pre style=\"white-space:pre;overflow-x:auto;line-height:normal;font-family:Menlo,'DejaVu Sans Mono',consolas,'Courier New',monospace\">Creating caption file: \n",
       "<span style=\"font-weight: bold\">C:\\Users\\kade\\Desktop\\training_dir_staging\\1_auroth_the_winter_wyvern\\2c1b2bf3c5abbab360c9a166ce85d643.txt</span>\n",
       "</pre>\n"
      ],
      "text/plain": [
       "Creating caption file: \n",
       "\u001b[1mC:\\Users\\kade\\Desktop\\training_dir_staging\\1_auroth_the_winter_wyvern\\2c1b2bf3c5abbab360c9a166ce85d643.txt\u001b[0m\n"
      ]
     },
     "metadata": {},
     "output_type": "display_data"
    },
    {
     "data": {
      "text/html": [
       "<pre style=\"white-space:pre;overflow-x:auto;line-height:normal;font-family:Menlo,'DejaVu Sans Mono',consolas,'Courier New',monospace\">Writing tags: <span style=\"font-style: italic\">anus, bedroom eyes, book, brown background, claws, clitoris, feet, female, feral, foot focus, </span>\n",
       "<span style=\"font-style: italic\">genitals, grey background, hair, half-closed eyes, horn, looking at viewer, lying, narrowed eyes, on back, </span>\n",
       "<span style=\"font-style: italic\">presenting, pussy, seductive, sharp teeth, simple background, smile, solo, spread legs, spreading, tail, teeth, toe</span>\n",
       "<span style=\"font-style: italic\">claws, wings, by karukuji, european mythology, mythology, auroth the winter wyvern, dragon, mythological creature, </span>\n",
       "<span style=\"font-style: italic\">mythological scalie, scalie, western dragon, wyvern, monochrome, signature</span>\n",
       "</pre>\n"
      ],
      "text/plain": [
       "Writing tags: \u001b[3manus, bedroom eyes, book, brown background, claws, clitoris, feet, female, feral, foot focus, \u001b[0m\n",
       "\u001b[3mgenitals, grey background, hair, half-closed eyes, horn, looking at viewer, lying, narrowed eyes, on back, \u001b[0m\n",
       "\u001b[3mpresenting, pussy, seductive, sharp teeth, simple background, smile, solo, spread legs, spreading, tail, teeth, toe\u001b[0m\n",
       "\u001b[3mclaws, wings, by karukuji, european mythology, mythology, auroth the winter wyvern, dragon, mythological creature, \u001b[0m\n",
       "\u001b[3mmythological scalie, scalie, western dragon, wyvern, monochrome, signature\u001b[0m\n"
      ]
     },
     "metadata": {},
     "output_type": "display_data"
    },
    {
     "data": {
      "text/html": [
       "<pre style=\"white-space:pre;overflow-x:auto;line-height:normal;font-family:Menlo,'DejaVu Sans Mono',consolas,'Courier New',monospace\">Processing file: <span style=\"font-weight: bold\">C:\\Users\\kade\\Desktop\\training_dir_staging\\1_auroth_the_winter_wyvern\\</span><span style=\"color: #008080; text-decoration-color: #008080; font-weight: bold\">1896245.j</span><span style=\"font-weight: bold\">son</span>\n",
       "</pre>\n"
      ],
      "text/plain": [
       "Processing file: \u001b[1mC:\\Users\\kade\\Desktop\\training_dir_staging\\1_auroth_the_winter_wyvern\\\u001b[0m\u001b[1;36m1896245.j\u001b[0m\u001b[1mson\u001b[0m\n"
      ]
     },
     "metadata": {},
     "output_type": "display_data"
    },
    {
     "data": {
      "text/html": [
       "<pre style=\"white-space:pre;overflow-x:auto;line-height:normal;font-family:Menlo,'DejaVu Sans Mono',consolas,'Courier New',monospace\">Creating caption file: \n",
       "<span style=\"font-weight: bold\">C:\\Users\\kade\\Desktop\\training_dir_staging\\1_auroth_the_winter_wyvern\\cb362d45bf5dc3f05601269a359f7bac.txt</span>\n",
       "</pre>\n"
      ],
      "text/plain": [
       "Creating caption file: \n",
       "\u001b[1mC:\\Users\\kade\\Desktop\\training_dir_staging\\1_auroth_the_winter_wyvern\\cb362d45bf5dc3f05601269a359f7bac.txt\u001b[0m\n"
      ]
     },
     "metadata": {},
     "output_type": "display_data"
    },
    {
     "data": {
      "text/html": [
       "<pre style=\"white-space:pre;overflow-x:auto;line-height:normal;font-family:Menlo,'DejaVu Sans Mono',consolas,'Courier New',monospace\">Writing tags: <span style=\"font-style: italic\">anus, blue anus, blue body, blue fur, blue pussy, butt, claws, clitoris, female, feral, fur, </span>\n",
       "<span style=\"font-style: italic\">genitals, glowing, glowing anus, glowing genitalia, glowing markings, glowing pussy, horn, markings, presenting, </span>\n",
       "<span style=\"font-style: italic\">presenting hindquarters, presenting pussy, pussy, solo, tail, teeth, tongue, tongue out, wings, by sovaka, european</span>\n",
       "<span style=\"font-style: italic\">mythology, mythology, auroth the winter wyvern, dragon, mythological creature, mythological scalie, scalie, western</span>\n",
       "<span style=\"font-style: italic\">dragon, wyvern</span>\n",
       "</pre>\n"
      ],
      "text/plain": [
       "Writing tags: \u001b[3manus, blue anus, blue body, blue fur, blue pussy, butt, claws, clitoris, female, feral, fur, \u001b[0m\n",
       "\u001b[3mgenitals, glowing, glowing anus, glowing genitalia, glowing markings, glowing pussy, horn, markings, presenting, \u001b[0m\n",
       "\u001b[3mpresenting hindquarters, presenting pussy, pussy, solo, tail, teeth, tongue, tongue out, wings, by sovaka, european\u001b[0m\n",
       "\u001b[3mmythology, mythology, auroth the winter wyvern, dragon, mythological creature, mythological scalie, scalie, western\u001b[0m\n",
       "\u001b[3mdragon, wyvern\u001b[0m\n"
      ]
     },
     "metadata": {},
     "output_type": "display_data"
    },
    {
     "data": {
      "text/html": [
       "<pre style=\"white-space:pre;overflow-x:auto;line-height:normal;font-family:Menlo,'DejaVu Sans Mono',consolas,'Courier New',monospace\">Processing file: <span style=\"font-weight: bold\">C:\\Users\\kade\\Desktop\\training_dir_staging\\1_auroth_the_winter_wyvern\\</span><span style=\"color: #008080; text-decoration-color: #008080; font-weight: bold\">1921809.j</span><span style=\"font-weight: bold\">son</span>\n",
       "</pre>\n"
      ],
      "text/plain": [
       "Processing file: \u001b[1mC:\\Users\\kade\\Desktop\\training_dir_staging\\1_auroth_the_winter_wyvern\\\u001b[0m\u001b[1;36m1921809.j\u001b[0m\u001b[1mson\u001b[0m\n"
      ]
     },
     "metadata": {},
     "output_type": "display_data"
    },
    {
     "data": {
      "text/html": [
       "<pre style=\"white-space:pre;overflow-x:auto;line-height:normal;font-family:Menlo,'DejaVu Sans Mono',consolas,'Courier New',monospace\">Creating caption file: \n",
       "<span style=\"font-weight: bold\">C:\\Users\\kade\\Desktop\\training_dir_staging\\1_auroth_the_winter_wyvern\\c5f03cfc632c2008839baf752ef23de1.txt</span>\n",
       "</pre>\n"
      ],
      "text/plain": [
       "Creating caption file: \n",
       "\u001b[1mC:\\Users\\kade\\Desktop\\training_dir_staging\\1_auroth_the_winter_wyvern\\c5f03cfc632c2008839baf752ef23de1.txt\u001b[0m\n"
      ]
     },
     "metadata": {},
     "output_type": "display_data"
    },
    {
     "data": {
      "text/html": [
       "<pre style=\"white-space:pre;overflow-x:auto;line-height:normal;font-family:Menlo,'DejaVu Sans Mono',consolas,'Courier New',monospace\">Writing tags: <span style=\"font-style: italic\">bedroom eyes, blue eyes, claws, clothed, clothed feral, clothing, dakimakura design, female, feral, </span>\n",
       "<span style=\"font-style: italic\">half-closed eyes, heart symbol, lingerie, lingerie on feral, looking at viewer, narrowed eyes, panties, seductive, </span>\n",
       "<span style=\"font-style: italic\">simple background, smile, solo, tail, teeth, underwear, wings, by arsauron, by greame, european mythology, </span>\n",
       "<span style=\"font-style: italic\">mythology, auroth the winter wyvern, dragon, mythological creature, mythological scalie, scalie, western dragon, </span>\n",
       "<span style=\"font-style: italic\">wyvern, digital media \\</span><span style=\"font-weight: bold; font-style: italic\">(</span><span style=\"font-style: italic\">artwork\\</span><span style=\"font-weight: bold; font-style: italic\">)</span><span style=\"font-style: italic\">, signature</span>\n",
       "</pre>\n"
      ],
      "text/plain": [
       "Writing tags: \u001b[3mbedroom eyes, blue eyes, claws, clothed, clothed feral, clothing, dakimakura design, female, feral, \u001b[0m\n",
       "\u001b[3mhalf-closed eyes, heart symbol, lingerie, lingerie on feral, looking at viewer, narrowed eyes, panties, seductive, \u001b[0m\n",
       "\u001b[3msimple background, smile, solo, tail, teeth, underwear, wings, by arsauron, by greame, european mythology, \u001b[0m\n",
       "\u001b[3mmythology, auroth the winter wyvern, dragon, mythological creature, mythological scalie, scalie, western dragon, \u001b[0m\n",
       "\u001b[3mwyvern, digital media \\\u001b[0m\u001b[1;3m(\u001b[0m\u001b[3martwork\\\u001b[0m\u001b[1;3m)\u001b[0m\u001b[3m, signature\u001b[0m\n"
      ]
     },
     "metadata": {},
     "output_type": "display_data"
    },
    {
     "data": {
      "text/html": [
       "<pre style=\"white-space:pre;overflow-x:auto;line-height:normal;font-family:Menlo,'DejaVu Sans Mono',consolas,'Courier New',monospace\">Processing file: <span style=\"font-weight: bold\">C:\\Users\\kade\\Desktop\\training_dir_staging\\1_auroth_the_winter_wyvern\\</span><span style=\"color: #008080; text-decoration-color: #008080; font-weight: bold\">1927818.j</span><span style=\"font-weight: bold\">son</span>\n",
       "</pre>\n"
      ],
      "text/plain": [
       "Processing file: \u001b[1mC:\\Users\\kade\\Desktop\\training_dir_staging\\1_auroth_the_winter_wyvern\\\u001b[0m\u001b[1;36m1927818.j\u001b[0m\u001b[1mson\u001b[0m\n"
      ]
     },
     "metadata": {},
     "output_type": "display_data"
    },
    {
     "data": {
      "text/html": [
       "<pre style=\"white-space:pre;overflow-x:auto;line-height:normal;font-family:Menlo,'DejaVu Sans Mono',consolas,'Courier New',monospace\">Creating caption file: \n",
       "<span style=\"font-weight: bold\">C:\\Users\\kade\\Desktop\\training_dir_staging\\1_auroth_the_winter_wyvern\\8e957fcc23b441b1228e3f1d9f688408.txt</span>\n",
       "</pre>\n"
      ],
      "text/plain": [
       "Creating caption file: \n",
       "\u001b[1mC:\\Users\\kade\\Desktop\\training_dir_staging\\1_auroth_the_winter_wyvern\\8e957fcc23b441b1228e3f1d9f688408.txt\u001b[0m\n"
      ]
     },
     "metadata": {},
     "output_type": "display_data"
    },
    {
     "data": {
      "text/html": [
       "<pre style=\"white-space:pre;overflow-x:auto;line-height:normal;font-family:Menlo,'DejaVu Sans Mono',consolas,'Courier New',monospace\">Writing tags: <span style=\"font-style: italic\">anus, blue anus, blue eyes, blue pussy, bodily fluids, female, feral, genital fluids, genitals, </span>\n",
       "<span style=\"font-style: italic\">looking at viewer, looking back, open mouth, open smile, presenting, presenting pussy, pussy, pussy juice string, </span>\n",
       "<span style=\"font-style: italic\">saliva, sharp teeth, simple background, smile, solo, spines, tail, teeth, tongue, vaginal fluids, by conditional </span>\n",
       "<span style=\"font-style: italic\">dnp, by elvche, european mythology, mythology, auroth the winter wyvern, dragon, mythological creature, </span>\n",
       "<span style=\"font-style: italic\">mythological scalie, scalie, western dragon, wyvern, digital media \\</span><span style=\"font-weight: bold; font-style: italic\">(</span><span style=\"font-style: italic\">artwork\\</span><span style=\"font-weight: bold; font-style: italic\">)</span>\n",
       "</pre>\n"
      ],
      "text/plain": [
       "Writing tags: \u001b[3manus, blue anus, blue eyes, blue pussy, bodily fluids, female, feral, genital fluids, genitals, \u001b[0m\n",
       "\u001b[3mlooking at viewer, looking back, open mouth, open smile, presenting, presenting pussy, pussy, pussy juice string, \u001b[0m\n",
       "\u001b[3msaliva, sharp teeth, simple background, smile, solo, spines, tail, teeth, tongue, vaginal fluids, by conditional \u001b[0m\n",
       "\u001b[3mdnp, by elvche, european mythology, mythology, auroth the winter wyvern, dragon, mythological creature, \u001b[0m\n",
       "\u001b[3mmythological scalie, scalie, western dragon, wyvern, digital media \\\u001b[0m\u001b[1;3m(\u001b[0m\u001b[3martwork\\\u001b[0m\u001b[1;3m)\u001b[0m\n"
      ]
     },
     "metadata": {},
     "output_type": "display_data"
    },
    {
     "data": {
      "text/html": [
       "<pre style=\"white-space:pre;overflow-x:auto;line-height:normal;font-family:Menlo,'DejaVu Sans Mono',consolas,'Courier New',monospace\">Processing file: <span style=\"font-weight: bold\">C:\\Users\\kade\\Desktop\\training_dir_staging\\1_auroth_the_winter_wyvern\\</span><span style=\"color: #008080; text-decoration-color: #008080; font-weight: bold\">1927831.j</span><span style=\"font-weight: bold\">son</span>\n",
       "</pre>\n"
      ],
      "text/plain": [
       "Processing file: \u001b[1mC:\\Users\\kade\\Desktop\\training_dir_staging\\1_auroth_the_winter_wyvern\\\u001b[0m\u001b[1;36m1927831.j\u001b[0m\u001b[1mson\u001b[0m\n"
      ]
     },
     "metadata": {},
     "output_type": "display_data"
    },
    {
     "data": {
      "text/html": [
       "<pre style=\"white-space:pre;overflow-x:auto;line-height:normal;font-family:Menlo,'DejaVu Sans Mono',consolas,'Courier New',monospace\">Creating caption file: \n",
       "<span style=\"font-weight: bold\">C:\\Users\\kade\\Desktop\\training_dir_staging\\1_auroth_the_winter_wyvern\\ebefac03fc5ac2a0bcb370af25f16a21.txt</span>\n",
       "</pre>\n"
      ],
      "text/plain": [
       "Creating caption file: \n",
       "\u001b[1mC:\\Users\\kade\\Desktop\\training_dir_staging\\1_auroth_the_winter_wyvern\\ebefac03fc5ac2a0bcb370af25f16a21.txt\u001b[0m\n"
      ]
     },
     "metadata": {},
     "output_type": "display_data"
    },
    {
     "data": {
      "text/html": [
       "<pre style=\"white-space:pre;overflow-x:auto;line-height:normal;font-family:Menlo,'DejaVu Sans Mono',consolas,'Courier New',monospace\">Writing tags: <span style=\"font-style: italic\">animal genitalia, anus, blue anus, blue eyes, blue penis, bodily fluids, crossgender, feral, genital </span>\n",
       "<span style=\"font-style: italic\">slit, genitals, knot, looking at viewer, looking back, male, open mouth, penis, presenting, presenting anus, </span>\n",
       "<span style=\"font-style: italic\">saliva, smile, solo, spines, tail, teeth, tongue, wings, by conditional dnp, by elvche, european mythology, </span>\n",
       "<span style=\"font-style: italic\">mythology, auroth the winter wyvern, dragon, mythological creature, mythological scalie, scalie, western dragon, </span>\n",
       "<span style=\"font-style: italic\">wyvern, slit \\</span><span style=\"font-weight: bold; font-style: italic\">(</span><span style=\"font-style: italic\">disambiguation\\</span><span style=\"font-weight: bold; font-style: italic\">)</span><span style=\"font-style: italic\">, digital media \\</span><span style=\"font-weight: bold; font-style: italic\">(</span><span style=\"font-style: italic\">artwork\\</span><span style=\"font-weight: bold; font-style: italic\">)</span><span style=\"font-style: italic\">, female \\</span><span style=\"font-weight: bold; font-style: italic\">(</span><span style=\"font-style: italic\">lore\\</span><span style=\"font-weight: bold; font-style: italic\">)</span>\n",
       "</pre>\n"
      ],
      "text/plain": [
       "Writing tags: \u001b[3manimal genitalia, anus, blue anus, blue eyes, blue penis, bodily fluids, crossgender, feral, genital \u001b[0m\n",
       "\u001b[3mslit, genitals, knot, looking at viewer, looking back, male, open mouth, penis, presenting, presenting anus, \u001b[0m\n",
       "\u001b[3msaliva, smile, solo, spines, tail, teeth, tongue, wings, by conditional dnp, by elvche, european mythology, \u001b[0m\n",
       "\u001b[3mmythology, auroth the winter wyvern, dragon, mythological creature, mythological scalie, scalie, western dragon, \u001b[0m\n",
       "\u001b[3mwyvern, slit \\\u001b[0m\u001b[1;3m(\u001b[0m\u001b[3mdisambiguation\\\u001b[0m\u001b[1;3m)\u001b[0m\u001b[3m, digital media \\\u001b[0m\u001b[1;3m(\u001b[0m\u001b[3martwork\\\u001b[0m\u001b[1;3m)\u001b[0m\u001b[3m, female \\\u001b[0m\u001b[1;3m(\u001b[0m\u001b[3mlore\\\u001b[0m\u001b[1;3m)\u001b[0m\n"
      ]
     },
     "metadata": {},
     "output_type": "display_data"
    },
    {
     "data": {
      "text/html": [
       "<pre style=\"white-space:pre;overflow-x:auto;line-height:normal;font-family:Menlo,'DejaVu Sans Mono',consolas,'Courier New',monospace\">Processing file: <span style=\"font-weight: bold\">C:\\Users\\kade\\Desktop\\training_dir_staging\\1_auroth_the_winter_wyvern\\</span><span style=\"color: #008080; text-decoration-color: #008080; font-weight: bold\">1929656.j</span><span style=\"font-weight: bold\">son</span>\n",
       "</pre>\n"
      ],
      "text/plain": [
       "Processing file: \u001b[1mC:\\Users\\kade\\Desktop\\training_dir_staging\\1_auroth_the_winter_wyvern\\\u001b[0m\u001b[1;36m1929656.j\u001b[0m\u001b[1mson\u001b[0m\n"
      ]
     },
     "metadata": {},
     "output_type": "display_data"
    },
    {
     "data": {
      "text/html": [
       "<pre style=\"white-space:pre;overflow-x:auto;line-height:normal;font-family:Menlo,'DejaVu Sans Mono',consolas,'Courier New',monospace\">Creating caption file: \n",
       "<span style=\"font-weight: bold\">C:\\Users\\kade\\Desktop\\training_dir_staging\\1_auroth_the_winter_wyvern\\0a9f0f2fc77fc2cdc26f119b005770a7.txt</span>\n",
       "</pre>\n"
      ],
      "text/plain": [
       "Creating caption file: \n",
       "\u001b[1mC:\\Users\\kade\\Desktop\\training_dir_staging\\1_auroth_the_winter_wyvern\\0a9f0f2fc77fc2cdc26f119b005770a7.txt\u001b[0m\n"
      ]
     },
     "metadata": {},
     "output_type": "display_data"
    },
    {
     "data": {
      "text/html": [
       "<pre style=\"white-space:pre;overflow-x:auto;line-height:normal;font-family:Menlo,'DejaVu Sans Mono',consolas,'Courier New',monospace\">Writing tags: <span style=\"font-style: italic\">anus, ass up, butt, claws, female, feral, fur, genitals, hair, looking at viewer, open mouth, pussy, </span>\n",
       "<span style=\"font-style: italic\">raised tail, scales, solo, tail, tongue, tongue out, wings, by conditional dnp, by elvche, european mythology, </span>\n",
       "<span style=\"font-style: italic\">mythology, auroth the winter wyvern, dragon, mythological creature, mythological scalie, scalie, western dragon, </span>\n",
       "<span style=\"font-style: italic\">wyvern, digital media \\</span><span style=\"font-weight: bold; font-style: italic\">(</span><span style=\"font-style: italic\">artwork\\</span><span style=\"font-weight: bold; font-style: italic\">)</span>\n",
       "</pre>\n"
      ],
      "text/plain": [
       "Writing tags: \u001b[3manus, ass up, butt, claws, female, feral, fur, genitals, hair, looking at viewer, open mouth, pussy, \u001b[0m\n",
       "\u001b[3mraised tail, scales, solo, tail, tongue, tongue out, wings, by conditional dnp, by elvche, european mythology, \u001b[0m\n",
       "\u001b[3mmythology, auroth the winter wyvern, dragon, mythological creature, mythological scalie, scalie, western dragon, \u001b[0m\n",
       "\u001b[3mwyvern, digital media \\\u001b[0m\u001b[1;3m(\u001b[0m\u001b[3martwork\\\u001b[0m\u001b[1;3m)\u001b[0m\n"
      ]
     },
     "metadata": {},
     "output_type": "display_data"
    },
    {
     "data": {
      "text/html": [
       "<pre style=\"white-space:pre;overflow-x:auto;line-height:normal;font-family:Menlo,'DejaVu Sans Mono',consolas,'Courier New',monospace\">Processing file: <span style=\"font-weight: bold\">C:\\Users\\kade\\Desktop\\training_dir_staging\\1_auroth_the_winter_wyvern\\</span><span style=\"color: #008080; text-decoration-color: #008080; font-weight: bold\">1929659.j</span><span style=\"font-weight: bold\">son</span>\n",
       "</pre>\n"
      ],
      "text/plain": [
       "Processing file: \u001b[1mC:\\Users\\kade\\Desktop\\training_dir_staging\\1_auroth_the_winter_wyvern\\\u001b[0m\u001b[1;36m1929659.j\u001b[0m\u001b[1mson\u001b[0m\n"
      ]
     },
     "metadata": {},
     "output_type": "display_data"
    },
    {
     "data": {
      "text/html": [
       "<pre style=\"white-space:pre;overflow-x:auto;line-height:normal;font-family:Menlo,'DejaVu Sans Mono',consolas,'Courier New',monospace\">Creating caption file: \n",
       "<span style=\"font-weight: bold\">C:\\Users\\kade\\Desktop\\training_dir_staging\\1_auroth_the_winter_wyvern\\80a1b3f51c138a940ac6135856eda0b7.txt</span>\n",
       "</pre>\n"
      ],
      "text/plain": [
       "Creating caption file: \n",
       "\u001b[1mC:\\Users\\kade\\Desktop\\training_dir_staging\\1_auroth_the_winter_wyvern\\80a1b3f51c138a940ac6135856eda0b7.txt\u001b[0m\n"
      ]
     },
     "metadata": {},
     "output_type": "display_data"
    },
    {
     "data": {
      "text/html": [
       "<pre style=\"white-space:pre;overflow-x:auto;line-height:normal;font-family:Menlo,'DejaVu Sans Mono',consolas,'Courier New',monospace\">Writing tags: <span style=\"font-style: italic\">anus, ass up, blue penis, butt, claws, crossgender, erection, feral, fur, genitals, hair, looking at </span>\n",
       "<span style=\"font-style: italic\">viewer, male, open mouth, penis, raised tail, scales, solo, tail, tongue, tongue out, wings, by conditional dnp, by</span>\n",
       "<span style=\"font-style: italic\">elvche, european mythology, mythology, auroth the winter wyvern, dragon, mythological creature, mythological </span>\n",
       "<span style=\"font-style: italic\">scalie, scalie, western dragon, wyvern, digital media \\</span><span style=\"font-weight: bold; font-style: italic\">(</span><span style=\"font-style: italic\">artwork\\</span><span style=\"font-weight: bold; font-style: italic\">)</span><span style=\"font-style: italic\">, female \\</span><span style=\"font-weight: bold; font-style: italic\">(</span><span style=\"font-style: italic\">lore\\</span><span style=\"font-weight: bold; font-style: italic\">)</span>\n",
       "</pre>\n"
      ],
      "text/plain": [
       "Writing tags: \u001b[3manus, ass up, blue penis, butt, claws, crossgender, erection, feral, fur, genitals, hair, looking at \u001b[0m\n",
       "\u001b[3mviewer, male, open mouth, penis, raised tail, scales, solo, tail, tongue, tongue out, wings, by conditional dnp, by\u001b[0m\n",
       "\u001b[3melvche, european mythology, mythology, auroth the winter wyvern, dragon, mythological creature, mythological \u001b[0m\n",
       "\u001b[3mscalie, scalie, western dragon, wyvern, digital media \\\u001b[0m\u001b[1;3m(\u001b[0m\u001b[3martwork\\\u001b[0m\u001b[1;3m)\u001b[0m\u001b[3m, female \\\u001b[0m\u001b[1;3m(\u001b[0m\u001b[3mlore\\\u001b[0m\u001b[1;3m)\u001b[0m\n"
      ]
     },
     "metadata": {},
     "output_type": "display_data"
    },
    {
     "data": {
      "text/html": [
       "<pre style=\"white-space:pre;overflow-x:auto;line-height:normal;font-family:Menlo,'DejaVu Sans Mono',consolas,'Courier New',monospace\">Processing file: <span style=\"font-weight: bold\">C:\\Users\\kade\\Desktop\\training_dir_staging\\1_auroth_the_winter_wyvern\\</span><span style=\"color: #008080; text-decoration-color: #008080; font-weight: bold\">1956320.j</span><span style=\"font-weight: bold\">son</span>\n",
       "</pre>\n"
      ],
      "text/plain": [
       "Processing file: \u001b[1mC:\\Users\\kade\\Desktop\\training_dir_staging\\1_auroth_the_winter_wyvern\\\u001b[0m\u001b[1;36m1956320.j\u001b[0m\u001b[1mson\u001b[0m\n"
      ]
     },
     "metadata": {},
     "output_type": "display_data"
    },
    {
     "data": {
      "text/html": [
       "<pre style=\"white-space:pre;overflow-x:auto;line-height:normal;font-family:Menlo,'DejaVu Sans Mono',consolas,'Courier New',monospace\">Creating caption file: \n",
       "<span style=\"font-weight: bold\">C:\\Users\\kade\\Desktop\\training_dir_staging\\1_auroth_the_winter_wyvern\\eee05c54cd881534a1ee9d465d753f8c.txt</span>\n",
       "</pre>\n"
      ],
      "text/plain": [
       "Creating caption file: \n",
       "\u001b[1mC:\\Users\\kade\\Desktop\\training_dir_staging\\1_auroth_the_winter_wyvern\\eee05c54cd881534a1ee9d465d753f8c.txt\u001b[0m\n"
      ]
     },
     "metadata": {},
     "output_type": "display_data"
    },
    {
     "data": {
      "text/html": [
       "<pre style=\"white-space:pre;overflow-x:auto;line-height:normal;font-family:Menlo,'DejaVu Sans Mono',consolas,'Courier New',monospace\">Writing tags: <span style=\"color: #008080; text-decoration-color: #008080; font-weight: bold; font-style: italic\">3</span><span style=\"font-style: italic\"> toes, animal genitalia, belly scales, blue body, blue cloaca, blue hair, blue scales, book, cloaca,</span>\n",
       "<span style=\"font-style: italic\">countershade tail, countershade torso, countershading, detailed background, feet, female, feral, fur, genitals, </span>\n",
       "<span style=\"font-style: italic\">hair, head down, high-angle view, holding book, holding object, horizontal cloaca, horn, inside, legs up, long </span>\n",
       "<span style=\"font-style: italic\">hair, looking at viewer, looking up, lying, magic, nude, on back, open mouth, pupils, raised tail, reclining, </span>\n",
       "<span style=\"font-style: italic\">relaxing, runes, scales, scroll, seductive, side view, slit pupils, smile, solo, spikes, tail, teal eyes, teeth, </span>\n",
       "<span style=\"font-style: italic\">text, toes, white body, white countershading, by nexivian, european mythology, mythology, auroth the winter wyvern,</span>\n",
       "<span style=\"font-style: italic\">dragon, furred dragon, mythological creature, mythological scalie, reptile, scalie, western dragon, wyvern, digital</span>\n",
       "<span style=\"font-style: italic\">media \\</span><span style=\"font-weight: bold; font-style: italic\">(</span><span style=\"font-style: italic\">artwork\\</span><span style=\"font-weight: bold; font-style: italic\">)</span><span style=\"font-style: italic\">, english text, full-length portrait, portrait</span>\n",
       "</pre>\n"
      ],
      "text/plain": [
       "Writing tags: \u001b[1;3;36m3\u001b[0m\u001b[3m toes, animal genitalia, belly scales, blue body, blue cloaca, blue hair, blue scales, book, cloaca,\u001b[0m\n",
       "\u001b[3mcountershade tail, countershade torso, countershading, detailed background, feet, female, feral, fur, genitals, \u001b[0m\n",
       "\u001b[3mhair, head down, high-angle view, holding book, holding object, horizontal cloaca, horn, inside, legs up, long \u001b[0m\n",
       "\u001b[3mhair, looking at viewer, looking up, lying, magic, nude, on back, open mouth, pupils, raised tail, reclining, \u001b[0m\n",
       "\u001b[3mrelaxing, runes, scales, scroll, seductive, side view, slit pupils, smile, solo, spikes, tail, teal eyes, teeth, \u001b[0m\n",
       "\u001b[3mtext, toes, white body, white countershading, by nexivian, european mythology, mythology, auroth the winter wyvern,\u001b[0m\n",
       "\u001b[3mdragon, furred dragon, mythological creature, mythological scalie, reptile, scalie, western dragon, wyvern, digital\u001b[0m\n",
       "\u001b[3mmedia \\\u001b[0m\u001b[1;3m(\u001b[0m\u001b[3martwork\\\u001b[0m\u001b[1;3m)\u001b[0m\u001b[3m, english text, full-length portrait, portrait\u001b[0m\n"
      ]
     },
     "metadata": {},
     "output_type": "display_data"
    },
    {
     "data": {
      "text/html": [
       "<pre style=\"white-space:pre;overflow-x:auto;line-height:normal;font-family:Menlo,'DejaVu Sans Mono',consolas,'Courier New',monospace\">Processing file: <span style=\"font-weight: bold\">C:\\Users\\kade\\Desktop\\training_dir_staging\\1_auroth_the_winter_wyvern\\</span><span style=\"color: #008080; text-decoration-color: #008080; font-weight: bold\">1956322.j</span><span style=\"font-weight: bold\">son</span>\n",
       "</pre>\n"
      ],
      "text/plain": [
       "Processing file: \u001b[1mC:\\Users\\kade\\Desktop\\training_dir_staging\\1_auroth_the_winter_wyvern\\\u001b[0m\u001b[1;36m1956322.j\u001b[0m\u001b[1mson\u001b[0m\n"
      ]
     },
     "metadata": {},
     "output_type": "display_data"
    },
    {
     "data": {
      "text/html": [
       "<pre style=\"white-space:pre;overflow-x:auto;line-height:normal;font-family:Menlo,'DejaVu Sans Mono',consolas,'Courier New',monospace\">Creating caption file: \n",
       "<span style=\"font-weight: bold\">C:\\Users\\kade\\Desktop\\training_dir_staging\\1_auroth_the_winter_wyvern\\a431552458b53178c1a71ac29463324a.txt</span>\n",
       "</pre>\n"
      ],
      "text/plain": [
       "Creating caption file: \n",
       "\u001b[1mC:\\Users\\kade\\Desktop\\training_dir_staging\\1_auroth_the_winter_wyvern\\a431552458b53178c1a71ac29463324a.txt\u001b[0m\n"
      ]
     },
     "metadata": {},
     "output_type": "display_data"
    },
    {
     "data": {
      "text/html": [
       "<pre style=\"white-space:pre;overflow-x:auto;line-height:normal;font-family:Menlo,'DejaVu Sans Mono',consolas,'Courier New',monospace\">Writing tags: <span style=\"color: #008080; text-decoration-color: #008080; font-weight: bold; font-style: italic\">3</span><span style=\"font-style: italic\"> toes, belly scales, blue body, blue hair, blue scales, book, countershade tail, countershade torso,</span>\n",
       "<span style=\"font-style: italic\">countershading, detailed background, featureless crotch, feet, female, feral, fur, hair, head down, high-angle </span>\n",
       "<span style=\"font-style: italic\">view, holding book, holding object, horn, inside, legs up, long hair, looking down, lying, magic, nude, on back, </span>\n",
       "<span style=\"font-style: italic\">pupils, raised tail, reclining, relaxing, runes, scales, scroll, side view, slit pupils, smile, solo, spikes, tail,</span>\n",
       "<span style=\"font-style: italic\">teal eyes, teeth, text, toes, white body, white countershading, by nexivian, european mythology, mythology, auroth </span>\n",
       "<span style=\"font-style: italic\">the winter wyvern, dragon, furred dragon, mythological creature, mythological scalie, reptile, scalie, western </span>\n",
       "<span style=\"font-style: italic\">dragon, wyvern, digital media \\</span><span style=\"font-weight: bold; font-style: italic\">(</span><span style=\"font-style: italic\">artwork\\</span><span style=\"font-weight: bold; font-style: italic\">)</span><span style=\"font-style: italic\">, english text, full-length portrait, portrait</span>\n",
       "</pre>\n"
      ],
      "text/plain": [
       "Writing tags: \u001b[1;3;36m3\u001b[0m\u001b[3m toes, belly scales, blue body, blue hair, blue scales, book, countershade tail, countershade torso,\u001b[0m\n",
       "\u001b[3mcountershading, detailed background, featureless crotch, feet, female, feral, fur, hair, head down, high-angle \u001b[0m\n",
       "\u001b[3mview, holding book, holding object, horn, inside, legs up, long hair, looking down, lying, magic, nude, on back, \u001b[0m\n",
       "\u001b[3mpupils, raised tail, reclining, relaxing, runes, scales, scroll, side view, slit pupils, smile, solo, spikes, tail,\u001b[0m\n",
       "\u001b[3mteal eyes, teeth, text, toes, white body, white countershading, by nexivian, european mythology, mythology, auroth \u001b[0m\n",
       "\u001b[3mthe winter wyvern, dragon, furred dragon, mythological creature, mythological scalie, reptile, scalie, western \u001b[0m\n",
       "\u001b[3mdragon, wyvern, digital media \\\u001b[0m\u001b[1;3m(\u001b[0m\u001b[3martwork\\\u001b[0m\u001b[1;3m)\u001b[0m\u001b[3m, english text, full-length portrait, portrait\u001b[0m\n"
      ]
     },
     "metadata": {},
     "output_type": "display_data"
    },
    {
     "data": {
      "text/html": [
       "<pre style=\"white-space:pre;overflow-x:auto;line-height:normal;font-family:Menlo,'DejaVu Sans Mono',consolas,'Courier New',monospace\">Processing file: <span style=\"font-weight: bold\">C:\\Users\\kade\\Desktop\\training_dir_staging\\1_auroth_the_winter_wyvern\\</span><span style=\"color: #008080; text-decoration-color: #008080; font-weight: bold\">1956326.j</span><span style=\"font-weight: bold\">son</span>\n",
       "</pre>\n"
      ],
      "text/plain": [
       "Processing file: \u001b[1mC:\\Users\\kade\\Desktop\\training_dir_staging\\1_auroth_the_winter_wyvern\\\u001b[0m\u001b[1;36m1956326.j\u001b[0m\u001b[1mson\u001b[0m\n"
      ]
     },
     "metadata": {},
     "output_type": "display_data"
    },
    {
     "data": {
      "text/html": [
       "<pre style=\"white-space:pre;overflow-x:auto;line-height:normal;font-family:Menlo,'DejaVu Sans Mono',consolas,'Courier New',monospace\">Creating caption file: \n",
       "<span style=\"font-weight: bold\">C:\\Users\\kade\\Desktop\\training_dir_staging\\1_auroth_the_winter_wyvern\\4ba42023a6ff525f3ecea1842966674e.txt</span>\n",
       "</pre>\n"
      ],
      "text/plain": [
       "Creating caption file: \n",
       "\u001b[1mC:\\Users\\kade\\Desktop\\training_dir_staging\\1_auroth_the_winter_wyvern\\4ba42023a6ff525f3ecea1842966674e.txt\u001b[0m\n"
      ]
     },
     "metadata": {},
     "output_type": "display_data"
    },
    {
     "data": {
      "text/html": [
       "<pre style=\"white-space:pre;overflow-x:auto;line-height:normal;font-family:Menlo,'DejaVu Sans Mono',consolas,'Courier New',monospace\">Writing tags: <span style=\"color: #008080; text-decoration-color: #008080; font-weight: bold; font-style: italic\">3</span><span style=\"font-style: italic\"> toes, anus, belly scales, black border, blue anus, blue body, blue hair, blue pussy, blue scales, </span>\n",
       "<span style=\"font-style: italic\">book, border, countershade tail, countershade torso, countershading, detailed background, feet, female, feral, fur,</span>\n",
       "<span style=\"font-style: italic\">genitals, hair, head down, high-angle view, holding book, holding object, horn, inside, legs up, long hair, looking</span>\n",
       "<span style=\"font-style: italic\">at viewer, looking up, lying, magic, nude, on back, open mouth, pupils, pussy, raised tail, reclining, relaxing, </span>\n",
       "<span style=\"font-style: italic\">runes, scales, scroll, side view, slit pupils, smile, solo, spikes, tail, teal eyes, teeth, text, toes, white body,</span>\n",
       "<span style=\"font-style: italic\">white countershading, by nexivian, european mythology, mythology, auroth the winter wyvern, dragon, furred dragon, </span>\n",
       "<span style=\"font-style: italic\">mythological creature, mythological scalie, reptile, scalie, western dragon, wyvern, digital media \\</span><span style=\"font-weight: bold; font-style: italic\">(</span><span style=\"font-style: italic\">artwork\\</span><span style=\"font-weight: bold; font-style: italic\">)</span><span style=\"font-style: italic\">, </span>\n",
       "<span style=\"font-style: italic\">english text, full-length portrait, portrait</span>\n",
       "</pre>\n"
      ],
      "text/plain": [
       "Writing tags: \u001b[1;3;36m3\u001b[0m\u001b[3m toes, anus, belly scales, black border, blue anus, blue body, blue hair, blue pussy, blue scales, \u001b[0m\n",
       "\u001b[3mbook, border, countershade tail, countershade torso, countershading, detailed background, feet, female, feral, fur,\u001b[0m\n",
       "\u001b[3mgenitals, hair, head down, high-angle view, holding book, holding object, horn, inside, legs up, long hair, looking\u001b[0m\n",
       "\u001b[3mat viewer, looking up, lying, magic, nude, on back, open mouth, pupils, pussy, raised tail, reclining, relaxing, \u001b[0m\n",
       "\u001b[3mrunes, scales, scroll, side view, slit pupils, smile, solo, spikes, tail, teal eyes, teeth, text, toes, white body,\u001b[0m\n",
       "\u001b[3mwhite countershading, by nexivian, european mythology, mythology, auroth the winter wyvern, dragon, furred dragon, \u001b[0m\n",
       "\u001b[3mmythological creature, mythological scalie, reptile, scalie, western dragon, wyvern, digital media \\\u001b[0m\u001b[1;3m(\u001b[0m\u001b[3martwork\\\u001b[0m\u001b[1;3m)\u001b[0m\u001b[3m, \u001b[0m\n",
       "\u001b[3menglish text, full-length portrait, portrait\u001b[0m\n"
      ]
     },
     "metadata": {},
     "output_type": "display_data"
    },
    {
     "data": {
      "text/html": [
       "<pre style=\"white-space:pre;overflow-x:auto;line-height:normal;font-family:Menlo,'DejaVu Sans Mono',consolas,'Courier New',monospace\">Processing file: <span style=\"font-weight: bold\">C:\\Users\\kade\\Desktop\\training_dir_staging\\1_auroth_the_winter_wyvern\\</span><span style=\"color: #008080; text-decoration-color: #008080; font-weight: bold\">2029454.j</span><span style=\"font-weight: bold\">son</span>\n",
       "</pre>\n"
      ],
      "text/plain": [
       "Processing file: \u001b[1mC:\\Users\\kade\\Desktop\\training_dir_staging\\1_auroth_the_winter_wyvern\\\u001b[0m\u001b[1;36m2029454.j\u001b[0m\u001b[1mson\u001b[0m\n"
      ]
     },
     "metadata": {},
     "output_type": "display_data"
    },
    {
     "data": {
      "text/html": [
       "<pre style=\"white-space:pre;overflow-x:auto;line-height:normal;font-family:Menlo,'DejaVu Sans Mono',consolas,'Courier New',monospace\">Creating caption file: \n",
       "<span style=\"font-weight: bold\">C:\\Users\\kade\\Desktop\\training_dir_staging\\1_auroth_the_winter_wyvern\\1f6d421b3e9d8ed468b1d4ba42aeb2b9.txt</span>\n",
       "</pre>\n"
      ],
      "text/plain": [
       "Creating caption file: \n",
       "\u001b[1mC:\\Users\\kade\\Desktop\\training_dir_staging\\1_auroth_the_winter_wyvern\\1f6d421b3e9d8ed468b1d4ba42aeb2b9.txt\u001b[0m\n"
      ]
     },
     "metadata": {},
     "output_type": "display_data"
    },
    {
     "data": {
      "text/html": [
       "<pre style=\"white-space:pre;overflow-x:auto;line-height:normal;font-family:Menlo,'DejaVu Sans Mono',consolas,'Courier New',monospace\">Writing tags: <span style=\"font-style: italic\">ambiguous gender, beach, bikini, blue body, blue claws, blue hair, blue horn, blue scales, blue </span>\n",
       "<span style=\"font-style: italic\">teeth, bottle, butt, claws, clothed, clothed feral, clothing, cloud, container, detailed background, eyes closed, </span>\n",
       "<span style=\"font-style: italic\">eyewear, feral, fur, hair, horn, lying, on back, on towel, outside, pattern bikini, pattern clothing, pattern </span>\n",
       "<span style=\"font-style: italic\">swimwear, paws, relaxing, sand, scales, sea, seaside, sky, sleeping, smile, solo, spread legs, spreading, striped </span>\n",
       "<span style=\"font-style: italic\">bikini, striped clothing, striped swimwear, stripes, sunglasses, swimwear, tail, teeth, thick thighs, towel, </span>\n",
       "<span style=\"font-style: italic\">umbrella, water, water bottle, wings, by nexivian, european mythology, mythology, auroth the winter wyvern, dragon,</span>\n",
       "<span style=\"font-style: italic\">mythological creature, mythological scalie, scalie, western dragon, wyvern, female \\</span><span style=\"font-weight: bold; font-style: italic\">(</span><span style=\"font-style: italic\">lore\\</span><span style=\"font-weight: bold; font-style: italic\">)</span>\n",
       "</pre>\n"
      ],
      "text/plain": [
       "Writing tags: \u001b[3mambiguous gender, beach, bikini, blue body, blue claws, blue hair, blue horn, blue scales, blue \u001b[0m\n",
       "\u001b[3mteeth, bottle, butt, claws, clothed, clothed feral, clothing, cloud, container, detailed background, eyes closed, \u001b[0m\n",
       "\u001b[3meyewear, feral, fur, hair, horn, lying, on back, on towel, outside, pattern bikini, pattern clothing, pattern \u001b[0m\n",
       "\u001b[3mswimwear, paws, relaxing, sand, scales, sea, seaside, sky, sleeping, smile, solo, spread legs, spreading, striped \u001b[0m\n",
       "\u001b[3mbikini, striped clothing, striped swimwear, stripes, sunglasses, swimwear, tail, teeth, thick thighs, towel, \u001b[0m\n",
       "\u001b[3mumbrella, water, water bottle, wings, by nexivian, european mythology, mythology, auroth the winter wyvern, dragon,\u001b[0m\n",
       "\u001b[3mmythological creature, mythological scalie, scalie, western dragon, wyvern, female \\\u001b[0m\u001b[1;3m(\u001b[0m\u001b[3mlore\\\u001b[0m\u001b[1;3m)\u001b[0m\n"
      ]
     },
     "metadata": {},
     "output_type": "display_data"
    },
    {
     "data": {
      "text/html": [
       "<pre style=\"white-space:pre;overflow-x:auto;line-height:normal;font-family:Menlo,'DejaVu Sans Mono',consolas,'Courier New',monospace\">Processing file: <span style=\"font-weight: bold\">C:\\Users\\kade\\Desktop\\training_dir_staging\\1_auroth_the_winter_wyvern\\</span><span style=\"color: #008080; text-decoration-color: #008080; font-weight: bold\">2029459.j</span><span style=\"font-weight: bold\">son</span>\n",
       "</pre>\n"
      ],
      "text/plain": [
       "Processing file: \u001b[1mC:\\Users\\kade\\Desktop\\training_dir_staging\\1_auroth_the_winter_wyvern\\\u001b[0m\u001b[1;36m2029459.j\u001b[0m\u001b[1mson\u001b[0m\n"
      ]
     },
     "metadata": {},
     "output_type": "display_data"
    },
    {
     "data": {
      "text/html": [
       "<pre style=\"white-space:pre;overflow-x:auto;line-height:normal;font-family:Menlo,'DejaVu Sans Mono',consolas,'Courier New',monospace\">Creating caption file: \n",
       "<span style=\"font-weight: bold\">C:\\Users\\kade\\Desktop\\training_dir_staging\\1_auroth_the_winter_wyvern\\43b2ddea71bd8d13ab15b564f7268433.txt</span>\n",
       "</pre>\n"
      ],
      "text/plain": [
       "Creating caption file: \n",
       "\u001b[1mC:\\Users\\kade\\Desktop\\training_dir_staging\\1_auroth_the_winter_wyvern\\43b2ddea71bd8d13ab15b564f7268433.txt\u001b[0m\n"
      ]
     },
     "metadata": {},
     "output_type": "display_data"
    },
    {
     "data": {
      "text/html": [
       "<pre style=\"white-space:pre;overflow-x:auto;line-height:normal;font-family:Menlo,'DejaVu Sans Mono',consolas,'Courier New',monospace\">Writing tags: <span style=\"font-style: italic\">animal genitalia, beach, beach umbrella, bedroom eyes, bikini, blue body, blue claws, blue cloaca, </span>\n",
       "<span style=\"font-style: italic\">blue hair, blue horn, blue scales, blue sclera, blue teeth, bottle, butt, claws, cloaca, clothing, clothing aside, </span>\n",
       "<span style=\"font-style: italic\">cloud, container, detailed background, dialogue, eyewear, female, feral, fur, genitals, hair, half-closed eyes, </span>\n",
       "<span style=\"font-style: italic\">horizontal cloaca, horn, looking at viewer, lying, narrowed eyes, on back, outside, parasol, pattern bikini, </span>\n",
       "<span style=\"font-style: italic\">pattern clothing, pattern swimwear, paws, presenting, presenting cloaca, presenting hindquarters, relaxing, sand, </span>\n",
       "<span style=\"font-style: italic\">scales, sea, seaside, seductive, sky, smile, solo, spread legs, spreading, striped bikini, striped clothing, </span>\n",
       "<span style=\"font-style: italic\">striped swimwear, stripes, sunglasses, swimwear, swimwear aside, tail, talking to viewer, teeth, text, thick </span>\n",
       "<span style=\"font-style: italic\">thighs, towel, umbrella, underwear, underwear aside, water, water bottle, wings, by nexivian, european mythology, </span>\n",
       "<span style=\"font-style: italic\">mythology, auroth the winter wyvern, dragon, mythological creature, mythological scalie, scalie, western dragon, </span>\n",
       "<span style=\"font-style: italic\">wyvern, english text</span>\n",
       "</pre>\n"
      ],
      "text/plain": [
       "Writing tags: \u001b[3manimal genitalia, beach, beach umbrella, bedroom eyes, bikini, blue body, blue claws, blue cloaca, \u001b[0m\n",
       "\u001b[3mblue hair, blue horn, blue scales, blue sclera, blue teeth, bottle, butt, claws, cloaca, clothing, clothing aside, \u001b[0m\n",
       "\u001b[3mcloud, container, detailed background, dialogue, eyewear, female, feral, fur, genitals, hair, half-closed eyes, \u001b[0m\n",
       "\u001b[3mhorizontal cloaca, horn, looking at viewer, lying, narrowed eyes, on back, outside, parasol, pattern bikini, \u001b[0m\n",
       "\u001b[3mpattern clothing, pattern swimwear, paws, presenting, presenting cloaca, presenting hindquarters, relaxing, sand, \u001b[0m\n",
       "\u001b[3mscales, sea, seaside, seductive, sky, smile, solo, spread legs, spreading, striped bikini, striped clothing, \u001b[0m\n",
       "\u001b[3mstriped swimwear, stripes, sunglasses, swimwear, swimwear aside, tail, talking to viewer, teeth, text, thick \u001b[0m\n",
       "\u001b[3mthighs, towel, umbrella, underwear, underwear aside, water, water bottle, wings, by nexivian, european mythology, \u001b[0m\n",
       "\u001b[3mmythology, auroth the winter wyvern, dragon, mythological creature, mythological scalie, scalie, western dragon, \u001b[0m\n",
       "\u001b[3mwyvern, english text\u001b[0m\n"
      ]
     },
     "metadata": {},
     "output_type": "display_data"
    },
    {
     "data": {
      "text/html": [
       "<pre style=\"white-space:pre;overflow-x:auto;line-height:normal;font-family:Menlo,'DejaVu Sans Mono',consolas,'Courier New',monospace\">Processing file: <span style=\"font-weight: bold\">C:\\Users\\kade\\Desktop\\training_dir_staging\\1_auroth_the_winter_wyvern\\</span><span style=\"color: #008080; text-decoration-color: #008080; font-weight: bold\">2029463.j</span><span style=\"font-weight: bold\">son</span>\n",
       "</pre>\n"
      ],
      "text/plain": [
       "Processing file: \u001b[1mC:\\Users\\kade\\Desktop\\training_dir_staging\\1_auroth_the_winter_wyvern\\\u001b[0m\u001b[1;36m2029463.j\u001b[0m\u001b[1mson\u001b[0m\n"
      ]
     },
     "metadata": {},
     "output_type": "display_data"
    },
    {
     "data": {
      "text/html": [
       "<pre style=\"white-space:pre;overflow-x:auto;line-height:normal;font-family:Menlo,'DejaVu Sans Mono',consolas,'Courier New',monospace\">Creating caption file: \n",
       "<span style=\"font-weight: bold\">C:\\Users\\kade\\Desktop\\training_dir_staging\\1_auroth_the_winter_wyvern\\7102258909b9c3655fc1611a889b11cd.txt</span>\n",
       "</pre>\n"
      ],
      "text/plain": [
       "Creating caption file: \n",
       "\u001b[1mC:\\Users\\kade\\Desktop\\training_dir_staging\\1_auroth_the_winter_wyvern\\7102258909b9c3655fc1611a889b11cd.txt\u001b[0m\n"
      ]
     },
     "metadata": {},
     "output_type": "display_data"
    },
    {
     "data": {
      "text/html": [
       "<pre style=\"white-space:pre;overflow-x:auto;line-height:normal;font-family:Menlo,'DejaVu Sans Mono',consolas,'Courier New',monospace\">Writing tags: <span style=\"font-style: italic\">after cloacal, after sex, animal genitalia, beach, beach umbrella, bedroom eyes, bikini, blue body, </span>\n",
       "<span style=\"font-style: italic\">blue claws, blue cloaca, blue hair, blue horn, blue scales, blue sclera, blue teeth, blush, bodily fluids, bottle, </span>\n",
       "<span style=\"font-style: italic\">butt, claws, cloaca, clothing, clothing aside, cloud, container, cum, cum in cloaca, cum inside, cum on cloaca, cum</span>\n",
       "<span style=\"font-style: italic\">on tail, detailed background, dialogue, eyewear, female, feral, fur, genital fluids, genitals, hair, half-closed </span>\n",
       "<span style=\"font-style: italic\">eyes, horizontal cloaca, horn, lying, narrowed eyes, on back, outside, parasol, pattern bikini, pattern clothing, </span>\n",
       "<span style=\"font-style: italic\">pattern swimwear, paws, presenting, presenting cloaca, presenting cream pie, relaxing, sand, scales, sea, seaside, </span>\n",
       "<span style=\"font-style: italic\">seductive, sharp teeth, sky, smile, solo, spread legs, spreading, striped bikini, striped clothing, striped </span>\n",
       "<span style=\"font-style: italic\">swimwear, stripes, sunglasses, swimwear, swimwear aside, tail, talking to viewer, teeth, text, thick thighs, towel,</span>\n",
       "<span style=\"font-style: italic\">umbrella, underwear, underwear aside, water, water bottle, wings, by nexivian, european mythology, mythology, </span>\n",
       "<span style=\"font-style: italic\">auroth the winter wyvern, dragon, mythological creature, mythological scalie, scalie, western dragon, wyvern, </span>\n",
       "<span style=\"font-style: italic\">english text</span>\n",
       "</pre>\n"
      ],
      "text/plain": [
       "Writing tags: \u001b[3mafter cloacal, after sex, animal genitalia, beach, beach umbrella, bedroom eyes, bikini, blue body, \u001b[0m\n",
       "\u001b[3mblue claws, blue cloaca, blue hair, blue horn, blue scales, blue sclera, blue teeth, blush, bodily fluids, bottle, \u001b[0m\n",
       "\u001b[3mbutt, claws, cloaca, clothing, clothing aside, cloud, container, cum, cum in cloaca, cum inside, cum on cloaca, cum\u001b[0m\n",
       "\u001b[3mon tail, detailed background, dialogue, eyewear, female, feral, fur, genital fluids, genitals, hair, half-closed \u001b[0m\n",
       "\u001b[3meyes, horizontal cloaca, horn, lying, narrowed eyes, on back, outside, parasol, pattern bikini, pattern clothing, \u001b[0m\n",
       "\u001b[3mpattern swimwear, paws, presenting, presenting cloaca, presenting cream pie, relaxing, sand, scales, sea, seaside, \u001b[0m\n",
       "\u001b[3mseductive, sharp teeth, sky, smile, solo, spread legs, spreading, striped bikini, striped clothing, striped \u001b[0m\n",
       "\u001b[3mswimwear, stripes, sunglasses, swimwear, swimwear aside, tail, talking to viewer, teeth, text, thick thighs, towel,\u001b[0m\n",
       "\u001b[3mumbrella, underwear, underwear aside, water, water bottle, wings, by nexivian, european mythology, mythology, \u001b[0m\n",
       "\u001b[3mauroth the winter wyvern, dragon, mythological creature, mythological scalie, scalie, western dragon, wyvern, \u001b[0m\n",
       "\u001b[3menglish text\u001b[0m\n"
      ]
     },
     "metadata": {},
     "output_type": "display_data"
    },
    {
     "data": {
      "text/html": [
       "<pre style=\"white-space:pre;overflow-x:auto;line-height:normal;font-family:Menlo,'DejaVu Sans Mono',consolas,'Courier New',monospace\">Processing file: <span style=\"font-weight: bold\">C:\\Users\\kade\\Desktop\\training_dir_staging\\1_auroth_the_winter_wyvern\\</span><span style=\"color: #008080; text-decoration-color: #008080; font-weight: bold\">2029468.j</span><span style=\"font-weight: bold\">son</span>\n",
       "</pre>\n"
      ],
      "text/plain": [
       "Processing file: \u001b[1mC:\\Users\\kade\\Desktop\\training_dir_staging\\1_auroth_the_winter_wyvern\\\u001b[0m\u001b[1;36m2029468.j\u001b[0m\u001b[1mson\u001b[0m\n"
      ]
     },
     "metadata": {},
     "output_type": "display_data"
    },
    {
     "data": {
      "text/html": [
       "<pre style=\"white-space:pre;overflow-x:auto;line-height:normal;font-family:Menlo,'DejaVu Sans Mono',consolas,'Courier New',monospace\">Creating caption file: \n",
       "<span style=\"font-weight: bold\">C:\\Users\\kade\\Desktop\\training_dir_staging\\1_auroth_the_winter_wyvern\\c83884f7a72bf8c87ca48f954407fdc2.txt</span>\n",
       "</pre>\n"
      ],
      "text/plain": [
       "Creating caption file: \n",
       "\u001b[1mC:\\Users\\kade\\Desktop\\training_dir_staging\\1_auroth_the_winter_wyvern\\c83884f7a72bf8c87ca48f954407fdc2.txt\u001b[0m\n"
      ]
     },
     "metadata": {},
     "output_type": "display_data"
    },
    {
     "data": {
      "text/html": [
       "<pre style=\"white-space:pre;overflow-x:auto;line-height:normal;font-family:Menlo,'DejaVu Sans Mono',consolas,'Courier New',monospace\">Writing tags: <span style=\"font-style: italic\">ambient silhouette, anus, asking, asking another, asking viewer, asking why, asking why not, beach, </span>\n",
       "<span style=\"font-style: italic\">bedroom eyes, bikini, blue anus, blue body, blue claws, blue hair, blue horn, blue scales, blue sclera, blue teeth,</span>\n",
       "<span style=\"font-style: italic\">bottle, butt, claws, clitoral hood, clitoris, clothing, clothing aside, cloud, container, detailed background, </span>\n",
       "<span style=\"font-style: italic\">dialogue, eyewear, female, feral, fur, genitals, green pussy, hair, half-closed eyes, horn, humanoid genitalia, </span>\n",
       "<span style=\"font-style: italic\">humanoid pussy, looking at viewer, lying, membrane \\</span><span style=\"font-weight: bold; font-style: italic\">(</span><span style=\"font-style: italic\">anatomy\\</span><span style=\"font-weight: bold; font-style: italic\">)</span><span style=\"font-style: italic\">, membranous wings, multicolored pussy, narrowed </span>\n",
       "<span style=\"font-style: italic\">eyes, on back, outside, pattern bikini, pattern clothing, pattern swimwear, paws, polygonal speech bubble, </span>\n",
       "<span style=\"font-style: italic\">presenting, presenting hindquarters, presenting pussy, pussy, question, relaxing, sand, scales, sea, seaside, </span>\n",
       "<span style=\"font-style: italic\">seductive, sharp teeth, silhouette, sky, smile, solo, species in dialogue, speech bubble, spread legs, spreading, </span>\n",
       "<span style=\"font-style: italic\">striped bikini, striped clothing, striped swimwear, stripes, sunglasses, swimwear, swimwear aside, tail, talking to</span>\n",
       "<span style=\"font-style: italic\">viewer, teal inner pussy, teal pussy, teeth, text, thick thighs, towel, two tone pussy, umbrella, underwear, </span>\n",
       "<span style=\"font-style: italic\">underwear aside, water, water bottle, wings, by nexivian, european mythology, mythology, auroth the winter wyvern, </span>\n",
       "<span style=\"font-style: italic\">ambient bird, ambient flier, avian, bird, dragon, mythological creature, mythological scalie, scalie, western </span>\n",
       "<span style=\"font-style: italic\">dragon, wyvern, english text</span>\n",
       "</pre>\n"
      ],
      "text/plain": [
       "Writing tags: \u001b[3mambient silhouette, anus, asking, asking another, asking viewer, asking why, asking why not, beach, \u001b[0m\n",
       "\u001b[3mbedroom eyes, bikini, blue anus, blue body, blue claws, blue hair, blue horn, blue scales, blue sclera, blue teeth,\u001b[0m\n",
       "\u001b[3mbottle, butt, claws, clitoral hood, clitoris, clothing, clothing aside, cloud, container, detailed background, \u001b[0m\n",
       "\u001b[3mdialogue, eyewear, female, feral, fur, genitals, green pussy, hair, half-closed eyes, horn, humanoid genitalia, \u001b[0m\n",
       "\u001b[3mhumanoid pussy, looking at viewer, lying, membrane \\\u001b[0m\u001b[1;3m(\u001b[0m\u001b[3manatomy\\\u001b[0m\u001b[1;3m)\u001b[0m\u001b[3m, membranous wings, multicolored pussy, narrowed \u001b[0m\n",
       "\u001b[3meyes, on back, outside, pattern bikini, pattern clothing, pattern swimwear, paws, polygonal speech bubble, \u001b[0m\n",
       "\u001b[3mpresenting, presenting hindquarters, presenting pussy, pussy, question, relaxing, sand, scales, sea, seaside, \u001b[0m\n",
       "\u001b[3mseductive, sharp teeth, silhouette, sky, smile, solo, species in dialogue, speech bubble, spread legs, spreading, \u001b[0m\n",
       "\u001b[3mstriped bikini, striped clothing, striped swimwear, stripes, sunglasses, swimwear, swimwear aside, tail, talking to\u001b[0m\n",
       "\u001b[3mviewer, teal inner pussy, teal pussy, teeth, text, thick thighs, towel, two tone pussy, umbrella, underwear, \u001b[0m\n",
       "\u001b[3munderwear aside, water, water bottle, wings, by nexivian, european mythology, mythology, auroth the winter wyvern, \u001b[0m\n",
       "\u001b[3mambient bird, ambient flier, avian, bird, dragon, mythological creature, mythological scalie, scalie, western \u001b[0m\n",
       "\u001b[3mdragon, wyvern, english text\u001b[0m\n"
      ]
     },
     "metadata": {},
     "output_type": "display_data"
    },
    {
     "data": {
      "text/html": [
       "<pre style=\"white-space:pre;overflow-x:auto;line-height:normal;font-family:Menlo,'DejaVu Sans Mono',consolas,'Courier New',monospace\">Processing file: <span style=\"font-weight: bold\">C:\\Users\\kade\\Desktop\\training_dir_staging\\1_auroth_the_winter_wyvern\\</span><span style=\"color: #008080; text-decoration-color: #008080; font-weight: bold\">2029470.j</span><span style=\"font-weight: bold\">son</span>\n",
       "</pre>\n"
      ],
      "text/plain": [
       "Processing file: \u001b[1mC:\\Users\\kade\\Desktop\\training_dir_staging\\1_auroth_the_winter_wyvern\\\u001b[0m\u001b[1;36m2029470.j\u001b[0m\u001b[1mson\u001b[0m\n"
      ]
     },
     "metadata": {},
     "output_type": "display_data"
    },
    {
     "data": {
      "text/html": [
       "<pre style=\"white-space:pre;overflow-x:auto;line-height:normal;font-family:Menlo,'DejaVu Sans Mono',consolas,'Courier New',monospace\">Creating caption file: \n",
       "<span style=\"font-weight: bold\">C:\\Users\\kade\\Desktop\\training_dir_staging\\1_auroth_the_winter_wyvern\\da542ef09cdd697127cc61385a9e8851.txt</span>\n",
       "</pre>\n"
      ],
      "text/plain": [
       "Creating caption file: \n",
       "\u001b[1mC:\\Users\\kade\\Desktop\\training_dir_staging\\1_auroth_the_winter_wyvern\\da542ef09cdd697127cc61385a9e8851.txt\u001b[0m\n"
      ]
     },
     "metadata": {},
     "output_type": "display_data"
    },
    {
     "data": {
      "text/html": [
       "<pre style=\"white-space:pre;overflow-x:auto;line-height:normal;font-family:Menlo,'DejaVu Sans Mono',consolas,'Courier New',monospace\">Writing tags: <span style=\"font-style: italic\">after vaginal, after vaginal penetration, ambient silhouette, anus, beach, bedroom eyes, bikini, blue</span>\n",
       "<span style=\"font-style: italic\">body, blue claws, blue hair, blue horn, blue scales, blue sclera, blue teeth, blush, bodily fluids, bottle, butt, </span>\n",
       "<span style=\"font-style: italic\">claws, clitoral hood, clitoris, clothing, clothing aside, cloud, container, cum, cum from pussy, cum in pussy, cum </span>\n",
       "<span style=\"font-style: italic\">inside, cum on tail, detailed background, dialogue, dialogue with sound effects, eyewear, female, feral, fur, </span>\n",
       "<span style=\"font-style: italic\">genital fluids, genitals, green pussy, hair, half-closed eyes, horn, humanoid genitalia, humanoid pussy, leaking </span>\n",
       "<span style=\"font-style: italic\">cum, lying, membrane \\</span><span style=\"font-weight: bold; font-style: italic\">(</span><span style=\"font-style: italic\">anatomy\\</span><span style=\"font-weight: bold; font-style: italic\">)</span><span style=\"font-style: italic\">, membranous wings, moan, multi-word onomatopoeia, multicolored pussy, narrowed </span>\n",
       "<span style=\"font-style: italic\">eyes, on back, onomatopoeia, outside, pattern bikini, pattern clothing, pattern swimwear, paws, polygonal speech </span>\n",
       "<span style=\"font-style: italic\">bubble, presenting, presenting cream pie, presenting pussy, pussy, relaxing, sand, scales, sea, seaside, seductive,</span>\n",
       "<span style=\"font-style: italic\">silhouette, sky, smile, solo, sound effects, speech bubble, spread legs, spreading, striped bikini, striped </span>\n",
       "<span style=\"font-style: italic\">clothing, striped swimwear, stripes, sunglasses, swimwear, swimwear aside, tail, talking to viewer, teal inner </span>\n",
       "<span style=\"font-style: italic\">pussy, teal pussy, teeth, text, thick thighs, towel, two tone pussy, umbrella, underwear, underwear aside, water, </span>\n",
       "<span style=\"font-style: italic\">water bottle, wings, by nexivian, european mythology, mythology, auroth the winter wyvern, ambient bird, ambient </span>\n",
       "<span style=\"font-style: italic\">flier, avian, bird, dragon, mythological creature, mythological scalie, scalie, western dragon, wyvern, english </span>\n",
       "<span style=\"font-style: italic\">text</span>\n",
       "</pre>\n"
      ],
      "text/plain": [
       "Writing tags: \u001b[3mafter vaginal, after vaginal penetration, ambient silhouette, anus, beach, bedroom eyes, bikini, blue\u001b[0m\n",
       "\u001b[3mbody, blue claws, blue hair, blue horn, blue scales, blue sclera, blue teeth, blush, bodily fluids, bottle, butt, \u001b[0m\n",
       "\u001b[3mclaws, clitoral hood, clitoris, clothing, clothing aside, cloud, container, cum, cum from pussy, cum in pussy, cum \u001b[0m\n",
       "\u001b[3minside, cum on tail, detailed background, dialogue, dialogue with sound effects, eyewear, female, feral, fur, \u001b[0m\n",
       "\u001b[3mgenital fluids, genitals, green pussy, hair, half-closed eyes, horn, humanoid genitalia, humanoid pussy, leaking \u001b[0m\n",
       "\u001b[3mcum, lying, membrane \\\u001b[0m\u001b[1;3m(\u001b[0m\u001b[3manatomy\\\u001b[0m\u001b[1;3m)\u001b[0m\u001b[3m, membranous wings, moan, multi-word onomatopoeia, multicolored pussy, narrowed \u001b[0m\n",
       "\u001b[3meyes, on back, onomatopoeia, outside, pattern bikini, pattern clothing, pattern swimwear, paws, polygonal speech \u001b[0m\n",
       "\u001b[3mbubble, presenting, presenting cream pie, presenting pussy, pussy, relaxing, sand, scales, sea, seaside, seductive,\u001b[0m\n",
       "\u001b[3msilhouette, sky, smile, solo, sound effects, speech bubble, spread legs, spreading, striped bikini, striped \u001b[0m\n",
       "\u001b[3mclothing, striped swimwear, stripes, sunglasses, swimwear, swimwear aside, tail, talking to viewer, teal inner \u001b[0m\n",
       "\u001b[3mpussy, teal pussy, teeth, text, thick thighs, towel, two tone pussy, umbrella, underwear, underwear aside, water, \u001b[0m\n",
       "\u001b[3mwater bottle, wings, by nexivian, european mythology, mythology, auroth the winter wyvern, ambient bird, ambient \u001b[0m\n",
       "\u001b[3mflier, avian, bird, dragon, mythological creature, mythological scalie, scalie, western dragon, wyvern, english \u001b[0m\n",
       "\u001b[3mtext\u001b[0m\n"
      ]
     },
     "metadata": {},
     "output_type": "display_data"
    },
    {
     "data": {
      "text/html": [
       "<pre style=\"white-space:pre;overflow-x:auto;line-height:normal;font-family:Menlo,'DejaVu Sans Mono',consolas,'Courier New',monospace\">Processing file: <span style=\"font-weight: bold\">C:\\Users\\kade\\Desktop\\training_dir_staging\\1_auroth_the_winter_wyvern\\</span><span style=\"color: #008080; text-decoration-color: #008080; font-weight: bold\">2067509.j</span><span style=\"font-weight: bold\">son</span>\n",
       "</pre>\n"
      ],
      "text/plain": [
       "Processing file: \u001b[1mC:\\Users\\kade\\Desktop\\training_dir_staging\\1_auroth_the_winter_wyvern\\\u001b[0m\u001b[1;36m2067509.j\u001b[0m\u001b[1mson\u001b[0m\n"
      ]
     },
     "metadata": {},
     "output_type": "display_data"
    },
    {
     "data": {
      "text/html": [
       "<pre style=\"white-space:pre;overflow-x:auto;line-height:normal;font-family:Menlo,'DejaVu Sans Mono',consolas,'Courier New',monospace\">Creating caption file: \n",
       "<span style=\"font-weight: bold\">C:\\Users\\kade\\Desktop\\training_dir_staging\\1_auroth_the_winter_wyvern\\9c57f440e577ea54aed2c26189843009.txt</span>\n",
       "</pre>\n"
      ],
      "text/plain": [
       "Creating caption file: \n",
       "\u001b[1mC:\\Users\\kade\\Desktop\\training_dir_staging\\1_auroth_the_winter_wyvern\\9c57f440e577ea54aed2c26189843009.txt\u001b[0m\n"
      ]
     },
     "metadata": {},
     "output_type": "display_data"
    },
    {
     "data": {
      "text/html": [
       "<pre style=\"white-space:pre;overflow-x:auto;line-height:normal;font-family:Menlo,'DejaVu Sans Mono',consolas,'Courier New',monospace\">Writing tags: <span style=\"font-style: italic\">anus, claws, female, feral, frill \\</span><span style=\"font-weight: bold; font-style: italic\">(</span><span style=\"font-style: italic\">anatomy\\</span><span style=\"font-weight: bold; font-style: italic\">)</span><span style=\"font-style: italic\">, fur, genitals, head crest, head frill, heart symbol, </span>\n",
       "<span style=\"font-style: italic\">lying, membrane \\</span><span style=\"font-weight: bold; font-style: italic\">(</span><span style=\"font-style: italic\">anatomy\\</span><span style=\"font-weight: bold; font-style: italic\">)</span><span style=\"font-style: italic\">, membranous wings, on side, plump labia, presenting, presenting pussy, pussy, scales, </span>\n",
       "<span style=\"font-style: italic\">shadow, simple background, solo, stretched out leg, tail, teeth showing, wet, wings, winter, by nahyon, european </span>\n",
       "<span style=\"font-style: italic\">mythology, mythology, auroth the winter wyvern, dragon, furred dragon, furred reptilian, furred wyvern, </span>\n",
       "<span style=\"font-style: italic\">mythological creature, mythological scalie, reptile, scalie, western dragon, wyvern, signature</span>\n",
       "</pre>\n"
      ],
      "text/plain": [
       "Writing tags: \u001b[3manus, claws, female, feral, frill \\\u001b[0m\u001b[1;3m(\u001b[0m\u001b[3manatomy\\\u001b[0m\u001b[1;3m)\u001b[0m\u001b[3m, fur, genitals, head crest, head frill, heart symbol, \u001b[0m\n",
       "\u001b[3mlying, membrane \\\u001b[0m\u001b[1;3m(\u001b[0m\u001b[3manatomy\\\u001b[0m\u001b[1;3m)\u001b[0m\u001b[3m, membranous wings, on side, plump labia, presenting, presenting pussy, pussy, scales, \u001b[0m\n",
       "\u001b[3mshadow, simple background, solo, stretched out leg, tail, teeth showing, wet, wings, winter, by nahyon, european \u001b[0m\n",
       "\u001b[3mmythology, mythology, auroth the winter wyvern, dragon, furred dragon, furred reptilian, furred wyvern, \u001b[0m\n",
       "\u001b[3mmythological creature, mythological scalie, reptile, scalie, western dragon, wyvern, signature\u001b[0m\n"
      ]
     },
     "metadata": {},
     "output_type": "display_data"
    },
    {
     "data": {
      "text/html": [
       "<pre style=\"white-space:pre;overflow-x:auto;line-height:normal;font-family:Menlo,'DejaVu Sans Mono',consolas,'Courier New',monospace\">Processing file: <span style=\"font-weight: bold\">C:\\Users\\kade\\Desktop\\training_dir_staging\\1_auroth_the_winter_wyvern\\</span><span style=\"color: #008080; text-decoration-color: #008080; font-weight: bold\">2078657.j</span><span style=\"font-weight: bold\">son</span>\n",
       "</pre>\n"
      ],
      "text/plain": [
       "Processing file: \u001b[1mC:\\Users\\kade\\Desktop\\training_dir_staging\\1_auroth_the_winter_wyvern\\\u001b[0m\u001b[1;36m2078657.j\u001b[0m\u001b[1mson\u001b[0m\n"
      ]
     },
     "metadata": {},
     "output_type": "display_data"
    },
    {
     "data": {
      "text/html": [
       "<pre style=\"white-space:pre;overflow-x:auto;line-height:normal;font-family:Menlo,'DejaVu Sans Mono',consolas,'Courier New',monospace\">Creating caption file: \n",
       "<span style=\"font-weight: bold\">C:\\Users\\kade\\Desktop\\training_dir_staging\\1_auroth_the_winter_wyvern\\237e548ef2de010bcd17e072ddbbbc02.txt</span>\n",
       "</pre>\n"
      ],
      "text/plain": [
       "Creating caption file: \n",
       "\u001b[1mC:\\Users\\kade\\Desktop\\training_dir_staging\\1_auroth_the_winter_wyvern\\237e548ef2de010bcd17e072ddbbbc02.txt\u001b[0m\n"
      ]
     },
     "metadata": {},
     "output_type": "display_data"
    },
    {
     "data": {
      "text/html": [
       "<pre style=\"white-space:pre;overflow-x:auto;line-height:normal;font-family:Menlo,'DejaVu Sans Mono',consolas,'Courier New',monospace\">Writing tags: <span style=\"font-style: italic\">animal genitalia, blue eyes, blue hair, bodily fluids, cloaca, cloaca juice, dakimakura design, </span>\n",
       "<span style=\"font-style: italic\">female, feral, genital fluids, genitals, hair, horizontal cloaca, horn, membrane \\</span><span style=\"font-weight: bold; font-style: italic\">(</span><span style=\"font-style: italic\">anatomy\\</span><span style=\"font-weight: bold; font-style: italic\">)</span><span style=\"font-style: italic\">, membranous wings, </span>\n",
       "<span style=\"font-style: italic\">open mouth, presenting, presenting cloaca, solo, tail, teeth, tongue, wings, by arsauron, by greame, european </span>\n",
       "<span style=\"font-style: italic\">mythology, mythology, auroth the winter wyvern, dragon, mythological creature, mythological scalie, scalie, western</span>\n",
       "<span style=\"font-style: italic\">dragon, wyvern, digital media \\</span><span style=\"font-weight: bold; font-style: italic\">(</span><span style=\"font-style: italic\">artwork\\</span><span style=\"font-weight: bold; font-style: italic\">)</span>\n",
       "</pre>\n"
      ],
      "text/plain": [
       "Writing tags: \u001b[3manimal genitalia, blue eyes, blue hair, bodily fluids, cloaca, cloaca juice, dakimakura design, \u001b[0m\n",
       "\u001b[3mfemale, feral, genital fluids, genitals, hair, horizontal cloaca, horn, membrane \\\u001b[0m\u001b[1;3m(\u001b[0m\u001b[3manatomy\\\u001b[0m\u001b[1;3m)\u001b[0m\u001b[3m, membranous wings, \u001b[0m\n",
       "\u001b[3mopen mouth, presenting, presenting cloaca, solo, tail, teeth, tongue, wings, by arsauron, by greame, european \u001b[0m\n",
       "\u001b[3mmythology, mythology, auroth the winter wyvern, dragon, mythological creature, mythological scalie, scalie, western\u001b[0m\n",
       "\u001b[3mdragon, wyvern, digital media \\\u001b[0m\u001b[1;3m(\u001b[0m\u001b[3martwork\\\u001b[0m\u001b[1;3m)\u001b[0m\n"
      ]
     },
     "metadata": {},
     "output_type": "display_data"
    },
    {
     "data": {
      "text/html": [
       "<pre style=\"white-space:pre;overflow-x:auto;line-height:normal;font-family:Menlo,'DejaVu Sans Mono',consolas,'Courier New',monospace\">Processing file: <span style=\"font-weight: bold\">C:\\Users\\kade\\Desktop\\training_dir_staging\\1_auroth_the_winter_wyvern\\</span><span style=\"color: #008080; text-decoration-color: #008080; font-weight: bold\">2148089.j</span><span style=\"font-weight: bold\">son</span>\n",
       "</pre>\n"
      ],
      "text/plain": [
       "Processing file: \u001b[1mC:\\Users\\kade\\Desktop\\training_dir_staging\\1_auroth_the_winter_wyvern\\\u001b[0m\u001b[1;36m2148089.j\u001b[0m\u001b[1mson\u001b[0m\n"
      ]
     },
     "metadata": {},
     "output_type": "display_data"
    },
    {
     "data": {
      "text/html": [
       "<pre style=\"white-space:pre;overflow-x:auto;line-height:normal;font-family:Menlo,'DejaVu Sans Mono',consolas,'Courier New',monospace\">Creating caption file: \n",
       "<span style=\"font-weight: bold\">C:\\Users\\kade\\Desktop\\training_dir_staging\\1_auroth_the_winter_wyvern\\da2d28fb8d09c138d611f6a5f6bbf317.txt</span>\n",
       "</pre>\n"
      ],
      "text/plain": [
       "Creating caption file: \n",
       "\u001b[1mC:\\Users\\kade\\Desktop\\training_dir_staging\\1_auroth_the_winter_wyvern\\da2d28fb8d09c138d611f6a5f6bbf317.txt\u001b[0m\n"
      ]
     },
     "metadata": {},
     "output_type": "display_data"
    },
    {
     "data": {
      "text/html": [
       "<pre style=\"white-space:pre;overflow-x:auto;line-height:normal;font-family:Menlo,'DejaVu Sans Mono',consolas,'Courier New',monospace\">Writing tags: <span style=\"color: #008080; text-decoration-color: #008080; font-weight: bold; font-style: italic\">3</span><span style=\"font-style: italic\"> toes, animal genitalia, bedroom eyes, biped, bodily fluids, book, bow \\</span><span style=\"font-weight: bold; font-style: italic\">(</span><span style=\"font-style: italic\">feature\\</span><span style=\"font-weight: bold; font-style: italic\">)</span><span style=\"font-style: italic\">, christmas </span>\n",
       "<span style=\"font-style: italic\">clothing, christmas headwear, christmas lights, christmas tree, claws, cloaca, clothing, collar, digitigrade, </span>\n",
       "<span style=\"font-style: italic\">eyelashes, feet, female, feral, genitals, gift, hat, headgear, headwear, holidays, horizontal cloaca, ice, ice </span>\n",
       "<span style=\"font-style: italic\">cave, messy, narrowed eyes, plant, saliva, santa hat, scales, seductive, solo, tail, toes, tongue, tongue out, </span>\n",
       "<span style=\"font-style: italic\">tree, wings, by bitemylip, christmas, european mythology, mythology, auroth the winter wyvern, dragon, mythological</span>\n",
       "<span style=\"font-style: italic\">creature, mythological scalie, reptile, scalie, western dragon, wyvern</span>\n",
       "</pre>\n"
      ],
      "text/plain": [
       "Writing tags: \u001b[1;3;36m3\u001b[0m\u001b[3m toes, animal genitalia, bedroom eyes, biped, bodily fluids, book, bow \\\u001b[0m\u001b[1;3m(\u001b[0m\u001b[3mfeature\\\u001b[0m\u001b[1;3m)\u001b[0m\u001b[3m, christmas \u001b[0m\n",
       "\u001b[3mclothing, christmas headwear, christmas lights, christmas tree, claws, cloaca, clothing, collar, digitigrade, \u001b[0m\n",
       "\u001b[3meyelashes, feet, female, feral, genitals, gift, hat, headgear, headwear, holidays, horizontal cloaca, ice, ice \u001b[0m\n",
       "\u001b[3mcave, messy, narrowed eyes, plant, saliva, santa hat, scales, seductive, solo, tail, toes, tongue, tongue out, \u001b[0m\n",
       "\u001b[3mtree, wings, by bitemylip, christmas, european mythology, mythology, auroth the winter wyvern, dragon, mythological\u001b[0m\n",
       "\u001b[3mcreature, mythological scalie, reptile, scalie, western dragon, wyvern\u001b[0m\n"
      ]
     },
     "metadata": {},
     "output_type": "display_data"
    },
    {
     "data": {
      "text/html": [
       "<pre style=\"white-space:pre;overflow-x:auto;line-height:normal;font-family:Menlo,'DejaVu Sans Mono',consolas,'Courier New',monospace\">Processing file: <span style=\"font-weight: bold\">C:\\Users\\kade\\Desktop\\training_dir_staging\\1_auroth_the_winter_wyvern\\</span><span style=\"color: #008080; text-decoration-color: #008080; font-weight: bold\">2148156.j</span><span style=\"font-weight: bold\">son</span>\n",
       "</pre>\n"
      ],
      "text/plain": [
       "Processing file: \u001b[1mC:\\Users\\kade\\Desktop\\training_dir_staging\\1_auroth_the_winter_wyvern\\\u001b[0m\u001b[1;36m2148156.j\u001b[0m\u001b[1mson\u001b[0m\n"
      ]
     },
     "metadata": {},
     "output_type": "display_data"
    },
    {
     "data": {
      "text/html": [
       "<pre style=\"white-space:pre;overflow-x:auto;line-height:normal;font-family:Menlo,'DejaVu Sans Mono',consolas,'Courier New',monospace\">Creating caption file: \n",
       "<span style=\"font-weight: bold\">C:\\Users\\kade\\Desktop\\training_dir_staging\\1_auroth_the_winter_wyvern\\5e05814ba0db26a071a40922688df3a2.txt</span>\n",
       "</pre>\n"
      ],
      "text/plain": [
       "Creating caption file: \n",
       "\u001b[1mC:\\Users\\kade\\Desktop\\training_dir_staging\\1_auroth_the_winter_wyvern\\5e05814ba0db26a071a40922688df3a2.txt\u001b[0m\n"
      ]
     },
     "metadata": {},
     "output_type": "display_data"
    },
    {
     "data": {
      "text/html": [
       "<pre style=\"white-space:pre;overflow-x:auto;line-height:normal;font-family:Menlo,'DejaVu Sans Mono',consolas,'Courier New',monospace\">Writing tags: <span style=\"font-style: italic\">anus, biped, book, candle, female, feral, genitals, looking at viewer, mane, pussy, solo, tail, </span>\n",
       "<span style=\"font-style: italic\">wings, by sorcentz, european mythology, mythology, auroth the winter wyvern, dragon, mythological creature, </span>\n",
       "<span style=\"font-style: italic\">mythological scalie, reptile, scalie, western dragon, wyvern</span>\n",
       "</pre>\n"
      ],
      "text/plain": [
       "Writing tags: \u001b[3manus, biped, book, candle, female, feral, genitals, looking at viewer, mane, pussy, solo, tail, \u001b[0m\n",
       "\u001b[3mwings, by sorcentz, european mythology, mythology, auroth the winter wyvern, dragon, mythological creature, \u001b[0m\n",
       "\u001b[3mmythological scalie, reptile, scalie, western dragon, wyvern\u001b[0m\n"
      ]
     },
     "metadata": {},
     "output_type": "display_data"
    },
    {
     "data": {
      "text/html": [
       "<pre style=\"white-space:pre;overflow-x:auto;line-height:normal;font-family:Menlo,'DejaVu Sans Mono',consolas,'Courier New',monospace\">Processing file: <span style=\"font-weight: bold\">C:\\Users\\kade\\Desktop\\training_dir_staging\\1_auroth_the_winter_wyvern\\</span><span style=\"color: #008080; text-decoration-color: #008080; font-weight: bold\">2155332.j</span><span style=\"font-weight: bold\">son</span>\n",
       "</pre>\n"
      ],
      "text/plain": [
       "Processing file: \u001b[1mC:\\Users\\kade\\Desktop\\training_dir_staging\\1_auroth_the_winter_wyvern\\\u001b[0m\u001b[1;36m2155332.j\u001b[0m\u001b[1mson\u001b[0m\n"
      ]
     },
     "metadata": {},
     "output_type": "display_data"
    },
    {
     "data": {
      "text/html": [
       "<pre style=\"white-space:pre;overflow-x:auto;line-height:normal;font-family:Menlo,'DejaVu Sans Mono',consolas,'Courier New',monospace\">Creating caption file: \n",
       "<span style=\"font-weight: bold\">C:\\Users\\kade\\Desktop\\training_dir_staging\\1_auroth_the_winter_wyvern\\dd79241ff104a914235a7198da668909.txt</span>\n",
       "</pre>\n"
      ],
      "text/plain": [
       "Creating caption file: \n",
       "\u001b[1mC:\\Users\\kade\\Desktop\\training_dir_staging\\1_auroth_the_winter_wyvern\\dd79241ff104a914235a7198da668909.txt\u001b[0m\n"
      ]
     },
     "metadata": {},
     "output_type": "display_data"
    },
    {
     "data": {
      "text/html": [
       "<pre style=\"white-space:pre;overflow-x:auto;line-height:normal;font-family:Menlo,'DejaVu Sans Mono',consolas,'Courier New',monospace\">Writing tags: <span style=\"font-style: italic\">anthro, anthrofied, anus, bent over, blue anus, blue pussy, blush, bodily fluids, butt, clitoris, </span>\n",
       "<span style=\"font-style: italic\">female, genital fluids, genitals, looking at viewer, looking back, nude, presenting, presenting hindquarters, </span>\n",
       "<span style=\"font-style: italic\">presenting pussy, pussy, raised tail, rear view, simple background, smile, solo, standing, tail, vaginal fluids, by</span>\n",
       "<span style=\"font-style: italic\">cerf, mythology, auroth the winter wyvern, dragon, mythological creature, mythological scalie, scalie, digital </span>\n",
       "<span style=\"font-style: italic\">media \\</span><span style=\"font-weight: bold; font-style: italic\">(</span><span style=\"font-style: italic\">artwork\\</span><span style=\"font-weight: bold; font-style: italic\">)</span>\n",
       "</pre>\n"
      ],
      "text/plain": [
       "Writing tags: \u001b[3manthro, anthrofied, anus, bent over, blue anus, blue pussy, blush, bodily fluids, butt, clitoris, \u001b[0m\n",
       "\u001b[3mfemale, genital fluids, genitals, looking at viewer, looking back, nude, presenting, presenting hindquarters, \u001b[0m\n",
       "\u001b[3mpresenting pussy, pussy, raised tail, rear view, simple background, smile, solo, standing, tail, vaginal fluids, by\u001b[0m\n",
       "\u001b[3mcerf, mythology, auroth the winter wyvern, dragon, mythological creature, mythological scalie, scalie, digital \u001b[0m\n",
       "\u001b[3mmedia \\\u001b[0m\u001b[1;3m(\u001b[0m\u001b[3martwork\\\u001b[0m\u001b[1;3m)\u001b[0m\n"
      ]
     },
     "metadata": {},
     "output_type": "display_data"
    },
    {
     "data": {
      "text/html": [
       "<pre style=\"white-space:pre;overflow-x:auto;line-height:normal;font-family:Menlo,'DejaVu Sans Mono',consolas,'Courier New',monospace\">Processing file: <span style=\"font-weight: bold\">C:\\Users\\kade\\Desktop\\training_dir_staging\\1_auroth_the_winter_wyvern\\</span><span style=\"color: #008080; text-decoration-color: #008080; font-weight: bold\">2270102.j</span><span style=\"font-weight: bold\">son</span>\n",
       "</pre>\n"
      ],
      "text/plain": [
       "Processing file: \u001b[1mC:\\Users\\kade\\Desktop\\training_dir_staging\\1_auroth_the_winter_wyvern\\\u001b[0m\u001b[1;36m2270102.j\u001b[0m\u001b[1mson\u001b[0m\n"
      ]
     },
     "metadata": {},
     "output_type": "display_data"
    },
    {
     "data": {
      "text/html": [
       "<pre style=\"white-space:pre;overflow-x:auto;line-height:normal;font-family:Menlo,'DejaVu Sans Mono',consolas,'Courier New',monospace\">Creating caption file: \n",
       "<span style=\"font-weight: bold\">C:\\Users\\kade\\Desktop\\training_dir_staging\\1_auroth_the_winter_wyvern\\c63842cff078d32530d744f3f04616a2.txt</span>\n",
       "</pre>\n"
      ],
      "text/plain": [
       "Creating caption file: \n",
       "\u001b[1mC:\\Users\\kade\\Desktop\\training_dir_staging\\1_auroth_the_winter_wyvern\\c63842cff078d32530d744f3f04616a2.txt\u001b[0m\n"
      ]
     },
     "metadata": {},
     "output_type": "display_data"
    },
    {
     "data": {
      "text/html": [
       "<pre style=\"white-space:pre;overflow-x:auto;line-height:normal;font-family:Menlo,'DejaVu Sans Mono',consolas,'Courier New',monospace\">Writing tags: <span style=\"font-style: italic\">anthro, anthrofied, blue body, blue hair, blue scales, breasts, butt, claws, female, fur, hair, horn,</span>\n",
       "<span style=\"font-style: italic\">long hair, looking at viewer, lying, membrane \\</span><span style=\"font-weight: bold; font-style: italic\">(</span><span style=\"font-style: italic\">anatomy\\</span><span style=\"font-weight: bold; font-style: italic\">)</span><span style=\"font-style: italic\">, membranous wings, nude, on front, scales, solo, tail, </span>\n",
       "<span style=\"font-style: italic\">wings, by azzunyr, european mythology, mythology, auroth the winter wyvern, dragon, mythological creature, </span>\n",
       "<span style=\"font-style: italic\">mythological scalie, scalie, western dragon, wyvern, blue and white, monochrome</span>\n",
       "</pre>\n"
      ],
      "text/plain": [
       "Writing tags: \u001b[3manthro, anthrofied, blue body, blue hair, blue scales, breasts, butt, claws, female, fur, hair, horn,\u001b[0m\n",
       "\u001b[3mlong hair, looking at viewer, lying, membrane \\\u001b[0m\u001b[1;3m(\u001b[0m\u001b[3manatomy\\\u001b[0m\u001b[1;3m)\u001b[0m\u001b[3m, membranous wings, nude, on front, scales, solo, tail, \u001b[0m\n",
       "\u001b[3mwings, by azzunyr, european mythology, mythology, auroth the winter wyvern, dragon, mythological creature, \u001b[0m\n",
       "\u001b[3mmythological scalie, scalie, western dragon, wyvern, blue and white, monochrome\u001b[0m\n"
      ]
     },
     "metadata": {},
     "output_type": "display_data"
    },
    {
     "data": {
      "text/html": [
       "<pre style=\"white-space:pre;overflow-x:auto;line-height:normal;font-family:Menlo,'DejaVu Sans Mono',consolas,'Courier New',monospace\">Processing file: <span style=\"font-weight: bold\">C:\\Users\\kade\\Desktop\\training_dir_staging\\1_auroth_the_winter_wyvern\\</span><span style=\"color: #008080; text-decoration-color: #008080; font-weight: bold\">2273501.j</span><span style=\"font-weight: bold\">son</span>\n",
       "</pre>\n"
      ],
      "text/plain": [
       "Processing file: \u001b[1mC:\\Users\\kade\\Desktop\\training_dir_staging\\1_auroth_the_winter_wyvern\\\u001b[0m\u001b[1;36m2273501.j\u001b[0m\u001b[1mson\u001b[0m\n"
      ]
     },
     "metadata": {},
     "output_type": "display_data"
    },
    {
     "data": {
      "text/html": [
       "<pre style=\"white-space:pre;overflow-x:auto;line-height:normal;font-family:Menlo,'DejaVu Sans Mono',consolas,'Courier New',monospace\">Creating caption file: \n",
       "<span style=\"font-weight: bold\">C:\\Users\\kade\\Desktop\\training_dir_staging\\1_auroth_the_winter_wyvern\\9c0a5a24be60f5fc32dd2cfb4025b8b3.txt</span>\n",
       "</pre>\n"
      ],
      "text/plain": [
       "Creating caption file: \n",
       "\u001b[1mC:\\Users\\kade\\Desktop\\training_dir_staging\\1_auroth_the_winter_wyvern\\9c0a5a24be60f5fc32dd2cfb4025b8b3.txt\u001b[0m\n"
      ]
     },
     "metadata": {},
     "output_type": "display_data"
    },
    {
     "data": {
      "text/html": [
       "<pre style=\"white-space:pre;overflow-x:auto;line-height:normal;font-family:Menlo,'DejaVu Sans Mono',consolas,'Courier New',monospace\">Writing tags: <span style=\"font-style: italic\">blue body, blue eyes, blue fur, blue scales, bodily fluids, book, claws, feet, female, feral, foot </span>\n",
       "<span style=\"font-style: italic\">focus, fur, genital fluids, genitals, ice, inviting, licking, lying, on back, pen, pussy, scales, self lick, solo, </span>\n",
       "<span style=\"font-style: italic\">spread pussy, spreading, tail, tongue, tongue out, vaginal fluids, by fenrir784, by keebles, by third-party edit, </span>\n",
       "<span style=\"font-style: italic\">european mythology, mythology, auroth the winter wyvern, dragon, mythological creature, mythological scalie, </span>\n",
       "<span style=\"font-style: italic\">scalie, western dragon, wyvern</span>\n",
       "</pre>\n"
      ],
      "text/plain": [
       "Writing tags: \u001b[3mblue body, blue eyes, blue fur, blue scales, bodily fluids, book, claws, feet, female, feral, foot \u001b[0m\n",
       "\u001b[3mfocus, fur, genital fluids, genitals, ice, inviting, licking, lying, on back, pen, pussy, scales, self lick, solo, \u001b[0m\n",
       "\u001b[3mspread pussy, spreading, tail, tongue, tongue out, vaginal fluids, by fenrir784, by keebles, by third-party edit, \u001b[0m\n",
       "\u001b[3meuropean mythology, mythology, auroth the winter wyvern, dragon, mythological creature, mythological scalie, \u001b[0m\n",
       "\u001b[3mscalie, western dragon, wyvern\u001b[0m\n"
      ]
     },
     "metadata": {},
     "output_type": "display_data"
    },
    {
     "data": {
      "text/html": [
       "<pre style=\"white-space:pre;overflow-x:auto;line-height:normal;font-family:Menlo,'DejaVu Sans Mono',consolas,'Courier New',monospace\">Processing file: <span style=\"font-weight: bold\">C:\\Users\\kade\\Desktop\\training_dir_staging\\1_auroth_the_winter_wyvern\\</span><span style=\"color: #008080; text-decoration-color: #008080; font-weight: bold\">2321801.j</span><span style=\"font-weight: bold\">son</span>\n",
       "</pre>\n"
      ],
      "text/plain": [
       "Processing file: \u001b[1mC:\\Users\\kade\\Desktop\\training_dir_staging\\1_auroth_the_winter_wyvern\\\u001b[0m\u001b[1;36m2321801.j\u001b[0m\u001b[1mson\u001b[0m\n"
      ]
     },
     "metadata": {},
     "output_type": "display_data"
    },
    {
     "data": {
      "text/html": [
       "<pre style=\"white-space:pre;overflow-x:auto;line-height:normal;font-family:Menlo,'DejaVu Sans Mono',consolas,'Courier New',monospace\">Creating caption file: \n",
       "<span style=\"font-weight: bold\">C:\\Users\\kade\\Desktop\\training_dir_staging\\1_auroth_the_winter_wyvern\\3ea091af4bf8ddf5a484c98b91ce4840.txt</span>\n",
       "</pre>\n"
      ],
      "text/plain": [
       "Creating caption file: \n",
       "\u001b[1mC:\\Users\\kade\\Desktop\\training_dir_staging\\1_auroth_the_winter_wyvern\\3ea091af4bf8ddf5a484c98b91ce4840.txt\u001b[0m\n"
      ]
     },
     "metadata": {},
     "output_type": "display_data"
    },
    {
     "data": {
      "text/html": [
       "<pre style=\"white-space:pre;overflow-x:auto;line-height:normal;font-family:Menlo,'DejaVu Sans Mono',consolas,'Courier New',monospace\">Writing tags: <span style=\"font-style: italic\">anus, big butt, bioluminescence, bodily fluids, butt, female, feral, genital fluids, genitals, </span>\n",
       "<span style=\"font-style: italic\">glowing, hair, leaking, looking at viewer, looking back, mature female, nude, plump labia, presenting, presenting </span>\n",
       "<span style=\"font-style: italic\">hindquarters, pussy, pussy juice leaking, raised tail, rear view, scales, seductive, slightly chubby, smile, solo, </span>\n",
       "<span style=\"font-style: italic\">steam, tail, teeth, thick thighs, tongue, tongue out, vaginal fluids, wings, by wingedwilly, european mythology, </span>\n",
       "<span style=\"font-style: italic\">mythology, auroth the winter wyvern, dragon, mythological creature, mythological scalie, scalie, western dragon, </span>\n",
       "<span style=\"font-style: italic\">wyvern, digital media \\</span><span style=\"font-weight: bold; font-style: italic\">(</span><span style=\"font-style: italic\">artwork\\</span><span style=\"font-weight: bold; font-style: italic\">)</span>\n",
       "</pre>\n"
      ],
      "text/plain": [
       "Writing tags: \u001b[3manus, big butt, bioluminescence, bodily fluids, butt, female, feral, genital fluids, genitals, \u001b[0m\n",
       "\u001b[3mglowing, hair, leaking, looking at viewer, looking back, mature female, nude, plump labia, presenting, presenting \u001b[0m\n",
       "\u001b[3mhindquarters, pussy, pussy juice leaking, raised tail, rear view, scales, seductive, slightly chubby, smile, solo, \u001b[0m\n",
       "\u001b[3msteam, tail, teeth, thick thighs, tongue, tongue out, vaginal fluids, wings, by wingedwilly, european mythology, \u001b[0m\n",
       "\u001b[3mmythology, auroth the winter wyvern, dragon, mythological creature, mythological scalie, scalie, western dragon, \u001b[0m\n",
       "\u001b[3mwyvern, digital media \\\u001b[0m\u001b[1;3m(\u001b[0m\u001b[3martwork\\\u001b[0m\u001b[1;3m)\u001b[0m\n"
      ]
     },
     "metadata": {},
     "output_type": "display_data"
    },
    {
     "data": {
      "text/html": [
       "<pre style=\"white-space:pre;overflow-x:auto;line-height:normal;font-family:Menlo,'DejaVu Sans Mono',consolas,'Courier New',monospace\">Processing file: <span style=\"font-weight: bold\">C:\\Users\\kade\\Desktop\\training_dir_staging\\1_auroth_the_winter_wyvern\\</span><span style=\"color: #008080; text-decoration-color: #008080; font-weight: bold\">2346298.j</span><span style=\"font-weight: bold\">son</span>\n",
       "</pre>\n"
      ],
      "text/plain": [
       "Processing file: \u001b[1mC:\\Users\\kade\\Desktop\\training_dir_staging\\1_auroth_the_winter_wyvern\\\u001b[0m\u001b[1;36m2346298.j\u001b[0m\u001b[1mson\u001b[0m\n"
      ]
     },
     "metadata": {},
     "output_type": "display_data"
    },
    {
     "data": {
      "text/html": [
       "<pre style=\"white-space:pre;overflow-x:auto;line-height:normal;font-family:Menlo,'DejaVu Sans Mono',consolas,'Courier New',monospace\">Creating caption file: \n",
       "<span style=\"font-weight: bold\">C:\\Users\\kade\\Desktop\\training_dir_staging\\1_auroth_the_winter_wyvern\\ab1f0b014a92853e995dff058c5171ca.txt</span>\n",
       "</pre>\n"
      ],
      "text/plain": [
       "Creating caption file: \n",
       "\u001b[1mC:\\Users\\kade\\Desktop\\training_dir_staging\\1_auroth_the_winter_wyvern\\ab1f0b014a92853e995dff058c5171ca.txt\u001b[0m\n"
      ]
     },
     "metadata": {},
     "output_type": "display_data"
    },
    {
     "data": {
      "text/html": [
       "<pre style=\"white-space:pre;overflow-x:auto;line-height:normal;font-family:Menlo,'DejaVu Sans Mono',consolas,'Courier New',monospace\">Writing tags: <span style=\"font-style: italic\">anthro, anthrofied, areola, big breasts, big butt, bioluminescence, blush, bodily fluids, breast </span>\n",
       "<span style=\"font-style: italic\">expansion, breasts, butt, claws, dialogue, embarrassed, expansion, female, fur, genital fluids, genitals, glowing, </span>\n",
       "<span style=\"font-style: italic\">hair, horn, huge breasts, huge butt, huge thighs, hyper, hyper breasts, hyper butt, hyper thighs, lactating, </span>\n",
       "<span style=\"font-style: italic\">leaking, mature anthro, mature female, nipples, non-mammal breasts, non-mammal nipples, nude, pussy, scales, </span>\n",
       "<span style=\"font-style: italic\">slightly chubby, solo, tail, teeth, text, thick thighs, transformation, wide hips, by wingedwilly, european </span>\n",
       "<span style=\"font-style: italic\">mythology, mythology, auroth the winter wyvern, dragon, mythological creature, mythological scalie, reptile, </span>\n",
       "<span style=\"font-style: italic\">scalie, western dragon, wyvern, digital media \\</span><span style=\"font-weight: bold; font-style: italic\">(</span><span style=\"font-style: italic\">artwork\\</span><span style=\"font-weight: bold; font-style: italic\">)</span><span style=\"font-style: italic\">, english text</span>\n",
       "</pre>\n"
      ],
      "text/plain": [
       "Writing tags: \u001b[3manthro, anthrofied, areola, big breasts, big butt, bioluminescence, blush, bodily fluids, breast \u001b[0m\n",
       "\u001b[3mexpansion, breasts, butt, claws, dialogue, embarrassed, expansion, female, fur, genital fluids, genitals, glowing, \u001b[0m\n",
       "\u001b[3mhair, horn, huge breasts, huge butt, huge thighs, hyper, hyper breasts, hyper butt, hyper thighs, lactating, \u001b[0m\n",
       "\u001b[3mleaking, mature anthro, mature female, nipples, non-mammal breasts, non-mammal nipples, nude, pussy, scales, \u001b[0m\n",
       "\u001b[3mslightly chubby, solo, tail, teeth, text, thick thighs, transformation, wide hips, by wingedwilly, european \u001b[0m\n",
       "\u001b[3mmythology, mythology, auroth the winter wyvern, dragon, mythological creature, mythological scalie, reptile, \u001b[0m\n",
       "\u001b[3mscalie, western dragon, wyvern, digital media \\\u001b[0m\u001b[1;3m(\u001b[0m\u001b[3martwork\\\u001b[0m\u001b[1;3m)\u001b[0m\u001b[3m, english text\u001b[0m\n"
      ]
     },
     "metadata": {},
     "output_type": "display_data"
    },
    {
     "data": {
      "text/html": [
       "<pre style=\"white-space:pre;overflow-x:auto;line-height:normal;font-family:Menlo,'DejaVu Sans Mono',consolas,'Courier New',monospace\">Processing file: <span style=\"font-weight: bold\">C:\\Users\\kade\\Desktop\\training_dir_staging\\1_auroth_the_winter_wyvern\\</span><span style=\"color: #008080; text-decoration-color: #008080; font-weight: bold\">2361291.j</span><span style=\"font-weight: bold\">son</span>\n",
       "</pre>\n"
      ],
      "text/plain": [
       "Processing file: \u001b[1mC:\\Users\\kade\\Desktop\\training_dir_staging\\1_auroth_the_winter_wyvern\\\u001b[0m\u001b[1;36m2361291.j\u001b[0m\u001b[1mson\u001b[0m\n"
      ]
     },
     "metadata": {},
     "output_type": "display_data"
    },
    {
     "data": {
      "text/html": [
       "<pre style=\"white-space:pre;overflow-x:auto;line-height:normal;font-family:Menlo,'DejaVu Sans Mono',consolas,'Courier New',monospace\">Creating caption file: \n",
       "<span style=\"font-weight: bold\">C:\\Users\\kade\\Desktop\\training_dir_staging\\1_auroth_the_winter_wyvern\\843f3c13d34ff3e23acffdebea347c85.txt</span>\n",
       "</pre>\n"
      ],
      "text/plain": [
       "Creating caption file: \n",
       "\u001b[1mC:\\Users\\kade\\Desktop\\training_dir_staging\\1_auroth_the_winter_wyvern\\843f3c13d34ff3e23acffdebea347c85.txt\u001b[0m\n"
      ]
     },
     "metadata": {},
     "output_type": "display_data"
    },
    {
     "data": {
      "text/html": [
       "<pre style=\"white-space:pre;overflow-x:auto;line-height:normal;font-family:Menlo,'DejaVu Sans Mono',consolas,'Courier New',monospace\">Writing tags: <span style=\"font-style: italic\">anus, blue anus, blue eyes, blue pussy, butt, claws, female, feral, genitals, non-mammal pussy, </span>\n",
       "<span style=\"font-style: italic\">presenting, presenting hindquarters, pussy, smile, solo, tail, tongue, tongue out, wings, by naive tabby, european </span>\n",
       "<span style=\"font-style: italic\">mythology, mythology, auroth the winter wyvern, dragon, mythological creature, mythological scalie, scalie, western</span>\n",
       "<span style=\"font-style: italic\">dragon, wyvern, digital media \\</span><span style=\"font-weight: bold; font-style: italic\">(</span><span style=\"font-style: italic\">artwork\\</span><span style=\"font-weight: bold; font-style: italic\">)</span>\n",
       "</pre>\n"
      ],
      "text/plain": [
       "Writing tags: \u001b[3manus, blue anus, blue eyes, blue pussy, butt, claws, female, feral, genitals, non-mammal pussy, \u001b[0m\n",
       "\u001b[3mpresenting, presenting hindquarters, pussy, smile, solo, tail, tongue, tongue out, wings, by naive tabby, european \u001b[0m\n",
       "\u001b[3mmythology, mythology, auroth the winter wyvern, dragon, mythological creature, mythological scalie, scalie, western\u001b[0m\n",
       "\u001b[3mdragon, wyvern, digital media \\\u001b[0m\u001b[1;3m(\u001b[0m\u001b[3martwork\\\u001b[0m\u001b[1;3m)\u001b[0m\n"
      ]
     },
     "metadata": {},
     "output_type": "display_data"
    },
    {
     "data": {
      "text/html": [
       "<pre style=\"white-space:pre;overflow-x:auto;line-height:normal;font-family:Menlo,'DejaVu Sans Mono',consolas,'Courier New',monospace\">Processing file: <span style=\"font-weight: bold\">C:\\Users\\kade\\Desktop\\training_dir_staging\\1_auroth_the_winter_wyvern\\</span><span style=\"color: #008080; text-decoration-color: #008080; font-weight: bold\">2447036.j</span><span style=\"font-weight: bold\">son</span>\n",
       "</pre>\n"
      ],
      "text/plain": [
       "Processing file: \u001b[1mC:\\Users\\kade\\Desktop\\training_dir_staging\\1_auroth_the_winter_wyvern\\\u001b[0m\u001b[1;36m2447036.j\u001b[0m\u001b[1mson\u001b[0m\n"
      ]
     },
     "metadata": {},
     "output_type": "display_data"
    },
    {
     "data": {
      "text/html": [
       "<pre style=\"white-space:pre;overflow-x:auto;line-height:normal;font-family:Menlo,'DejaVu Sans Mono',consolas,'Courier New',monospace\">Creating caption file: \n",
       "<span style=\"font-weight: bold\">C:\\Users\\kade\\Desktop\\training_dir_staging\\1_auroth_the_winter_wyvern\\46613853e0f2b50377cb4e1c869c8169.txt</span>\n",
       "</pre>\n"
      ],
      "text/plain": [
       "Creating caption file: \n",
       "\u001b[1mC:\\Users\\kade\\Desktop\\training_dir_staging\\1_auroth_the_winter_wyvern\\46613853e0f2b50377cb4e1c869c8169.txt\u001b[0m\n"
      ]
     },
     "metadata": {},
     "output_type": "display_data"
    },
    {
     "data": {
      "text/html": [
       "<pre style=\"white-space:pre;overflow-x:auto;line-height:normal;font-family:Menlo,'DejaVu Sans Mono',consolas,'Courier New',monospace\">Writing tags: <span style=\"font-style: italic\">anus, belly, belly scales, big butt, blue eyes, blue hair, blue horn, bodily fluids, butt, fangs, </span>\n",
       "<span style=\"font-style: italic\">female, feral, flares, genital fluids, genitals, hair, horn, looking at viewer, low-angle view, pussy, scales, side</span>\n",
       "<span style=\"font-style: italic\">view, smile, solo, teeth, vaginal fluids, by marsey naarin, european mythology, mythology, auroth the winter </span>\n",
       "<span style=\"font-style: italic\">wyvern, dragon, mythological creature, mythological scalie, scalie, western dragon, wyvern</span>\n",
       "</pre>\n"
      ],
      "text/plain": [
       "Writing tags: \u001b[3manus, belly, belly scales, big butt, blue eyes, blue hair, blue horn, bodily fluids, butt, fangs, \u001b[0m\n",
       "\u001b[3mfemale, feral, flares, genital fluids, genitals, hair, horn, looking at viewer, low-angle view, pussy, scales, side\u001b[0m\n",
       "\u001b[3mview, smile, solo, teeth, vaginal fluids, by marsey naarin, european mythology, mythology, auroth the winter \u001b[0m\n",
       "\u001b[3mwyvern, dragon, mythological creature, mythological scalie, scalie, western dragon, wyvern\u001b[0m\n"
      ]
     },
     "metadata": {},
     "output_type": "display_data"
    },
    {
     "data": {
      "text/html": [
       "<pre style=\"white-space:pre;overflow-x:auto;line-height:normal;font-family:Menlo,'DejaVu Sans Mono',consolas,'Courier New',monospace\">Processing file: <span style=\"font-weight: bold\">C:\\Users\\kade\\Desktop\\training_dir_staging\\1_auroth_the_winter_wyvern\\</span><span style=\"color: #008080; text-decoration-color: #008080; font-weight: bold\">2449254.j</span><span style=\"font-weight: bold\">son</span>\n",
       "</pre>\n"
      ],
      "text/plain": [
       "Processing file: \u001b[1mC:\\Users\\kade\\Desktop\\training_dir_staging\\1_auroth_the_winter_wyvern\\\u001b[0m\u001b[1;36m2449254.j\u001b[0m\u001b[1mson\u001b[0m\n"
      ]
     },
     "metadata": {},
     "output_type": "display_data"
    },
    {
     "data": {
      "text/html": [
       "<pre style=\"white-space:pre;overflow-x:auto;line-height:normal;font-family:Menlo,'DejaVu Sans Mono',consolas,'Courier New',monospace\">Creating caption file: \n",
       "<span style=\"font-weight: bold\">C:\\Users\\kade\\Desktop\\training_dir_staging\\1_auroth_the_winter_wyvern\\1dc8092f14bc104b0144bc09babf1ab6.txt</span>\n",
       "</pre>\n"
      ],
      "text/plain": [
       "Creating caption file: \n",
       "\u001b[1mC:\\Users\\kade\\Desktop\\training_dir_staging\\1_auroth_the_winter_wyvern\\1dc8092f14bc104b0144bc09babf1ab6.txt\u001b[0m\n"
      ]
     },
     "metadata": {},
     "output_type": "display_data"
    },
    {
     "data": {
      "text/html": [
       "<pre style=\"white-space:pre;overflow-x:auto;line-height:normal;font-family:Menlo,'DejaVu Sans Mono',consolas,'Courier New',monospace\">Writing tags: <span style=\"font-style: italic\">anthro, anus, armwear, bed, bedroom eyes, big breasts, big butt, bioluminescence, blue body, breasts,</span>\n",
       "<span style=\"font-style: italic\">bridal gauntlets, butt, clothed, clothing, crown, curvy figure, dialogue, dress, female, furniture, gem, genitals, </span>\n",
       "<span style=\"font-style: italic\">glowing, glowing genitalia, hair, headgear, horn, huge breasts, huge thighs, innie pussy, jewelry, looking at </span>\n",
       "<span style=\"font-style: italic\">viewer, looking back, lying, lying on bed, mature anthro, mature female, narrowed eyes, non-mammal breasts, on bed,</span>\n",
       "<span style=\"font-style: italic\">panties, panties down, partially clothed, pillow, plump labia, pussy, raised tail, scales, seductive, smile, solo, </span>\n",
       "<span style=\"font-style: italic\">speech bubble, tail, tail cover, text, thick thighs, topwear, underwear, underwear down, veil, wedding dress, wide </span>\n",
       "<span style=\"font-style: italic\">hips, by wingedwilly, mythology, auroth the winter wyvern, dragon, mythological creature, mythological scalie, </span>\n",
       "<span style=\"font-style: italic\">reptile, scalie, digital media \\</span><span style=\"font-weight: bold; font-style: italic\">(</span><span style=\"font-style: italic\">artwork\\</span><span style=\"font-weight: bold; font-style: italic\">)</span><span style=\"font-style: italic\">, english text, story, story in description</span>\n",
       "</pre>\n"
      ],
      "text/plain": [
       "Writing tags: \u001b[3manthro, anus, armwear, bed, bedroom eyes, big breasts, big butt, bioluminescence, blue body, breasts,\u001b[0m\n",
       "\u001b[3mbridal gauntlets, butt, clothed, clothing, crown, curvy figure, dialogue, dress, female, furniture, gem, genitals, \u001b[0m\n",
       "\u001b[3mglowing, glowing genitalia, hair, headgear, horn, huge breasts, huge thighs, innie pussy, jewelry, looking at \u001b[0m\n",
       "\u001b[3mviewer, looking back, lying, lying on bed, mature anthro, mature female, narrowed eyes, non-mammal breasts, on bed,\u001b[0m\n",
       "\u001b[3mpanties, panties down, partially clothed, pillow, plump labia, pussy, raised tail, scales, seductive, smile, solo, \u001b[0m\n",
       "\u001b[3mspeech bubble, tail, tail cover, text, thick thighs, topwear, underwear, underwear down, veil, wedding dress, wide \u001b[0m\n",
       "\u001b[3mhips, by wingedwilly, mythology, auroth the winter wyvern, dragon, mythological creature, mythological scalie, \u001b[0m\n",
       "\u001b[3mreptile, scalie, digital media \\\u001b[0m\u001b[1;3m(\u001b[0m\u001b[3martwork\\\u001b[0m\u001b[1;3m)\u001b[0m\u001b[3m, english text, story, story in description\u001b[0m\n"
      ]
     },
     "metadata": {},
     "output_type": "display_data"
    },
    {
     "data": {
      "text/html": [
       "<pre style=\"white-space:pre;overflow-x:auto;line-height:normal;font-family:Menlo,'DejaVu Sans Mono',consolas,'Courier New',monospace\">Processing file: <span style=\"font-weight: bold\">C:\\Users\\kade\\Desktop\\training_dir_staging\\1_auroth_the_winter_wyvern\\</span><span style=\"color: #008080; text-decoration-color: #008080; font-weight: bold\">2451556.j</span><span style=\"font-weight: bold\">son</span>\n",
       "</pre>\n"
      ],
      "text/plain": [
       "Processing file: \u001b[1mC:\\Users\\kade\\Desktop\\training_dir_staging\\1_auroth_the_winter_wyvern\\\u001b[0m\u001b[1;36m2451556.j\u001b[0m\u001b[1mson\u001b[0m\n"
      ]
     },
     "metadata": {},
     "output_type": "display_data"
    },
    {
     "data": {
      "text/html": [
       "<pre style=\"white-space:pre;overflow-x:auto;line-height:normal;font-family:Menlo,'DejaVu Sans Mono',consolas,'Courier New',monospace\">Creating caption file: \n",
       "<span style=\"font-weight: bold\">C:\\Users\\kade\\Desktop\\training_dir_staging\\1_auroth_the_winter_wyvern\\3c8f1c3b4a9ecee8759edeccbf02b9c4.txt</span>\n",
       "</pre>\n"
      ],
      "text/plain": [
       "Creating caption file: \n",
       "\u001b[1mC:\\Users\\kade\\Desktop\\training_dir_staging\\1_auroth_the_winter_wyvern\\3c8f1c3b4a9ecee8759edeccbf02b9c4.txt\u001b[0m\n"
      ]
     },
     "metadata": {},
     "output_type": "display_data"
    },
    {
     "data": {
      "text/html": [
       "<pre style=\"white-space:pre;overflow-x:auto;line-height:normal;font-family:Menlo,'DejaVu Sans Mono',consolas,'Courier New',monospace\">Writing tags: <span style=\"font-style: italic\">anthro, areola, big breasts, bioluminescence, breasts, butt, cave, claws, cleavage, clothed, </span>\n",
       "<span style=\"font-style: italic\">clothing, clothing lift, curvy figure, dialogue, dress, eyelashes, female, flashing, flashing breasts, genitals, </span>\n",
       "<span style=\"font-style: italic\">glowing, hair, horn, huge breasts, huge thighs, imminent sex, innie pussy, looking at viewer, mature anthro, mature</span>\n",
       "<span style=\"font-style: italic\">female, navel, nipples, non-mammal breasts, nude, pussy, scales, scar, seductive, simple background, skimpy, </span>\n",
       "<span style=\"font-style: italic\">slightly chubby, slightly chubby female, smile, solo, speech bubble, standing, steam, tail, teeth, text, thick </span>\n",
       "<span style=\"font-style: italic\">thighs, tongue, topwear, voluptuous, wide hips, by wingedwilly, european mythology, mythology, auroth the winter </span>\n",
       "<span style=\"font-style: italic\">wyvern, dragon, mythological creature, mythological scalie, reptile, scalie, western dragon, wyvern, digital media </span>\n",
       "<span style=\"font-style: italic\">\\</span><span style=\"font-weight: bold; font-style: italic\">(</span><span style=\"font-style: italic\">artwork\\</span><span style=\"font-weight: bold; font-style: italic\">)</span><span style=\"font-style: italic\">, english text</span>\n",
       "</pre>\n"
      ],
      "text/plain": [
       "Writing tags: \u001b[3manthro, areola, big breasts, bioluminescence, breasts, butt, cave, claws, cleavage, clothed, \u001b[0m\n",
       "\u001b[3mclothing, clothing lift, curvy figure, dialogue, dress, eyelashes, female, flashing, flashing breasts, genitals, \u001b[0m\n",
       "\u001b[3mglowing, hair, horn, huge breasts, huge thighs, imminent sex, innie pussy, looking at viewer, mature anthro, mature\u001b[0m\n",
       "\u001b[3mfemale, navel, nipples, non-mammal breasts, nude, pussy, scales, scar, seductive, simple background, skimpy, \u001b[0m\n",
       "\u001b[3mslightly chubby, slightly chubby female, smile, solo, speech bubble, standing, steam, tail, teeth, text, thick \u001b[0m\n",
       "\u001b[3mthighs, tongue, topwear, voluptuous, wide hips, by wingedwilly, european mythology, mythology, auroth the winter \u001b[0m\n",
       "\u001b[3mwyvern, dragon, mythological creature, mythological scalie, reptile, scalie, western dragon, wyvern, digital media \u001b[0m\n",
       "\u001b[3m\\\u001b[0m\u001b[1;3m(\u001b[0m\u001b[3martwork\\\u001b[0m\u001b[1;3m)\u001b[0m\u001b[3m, english text\u001b[0m\n"
      ]
     },
     "metadata": {},
     "output_type": "display_data"
    },
    {
     "data": {
      "text/html": [
       "<pre style=\"white-space:pre;overflow-x:auto;line-height:normal;font-family:Menlo,'DejaVu Sans Mono',consolas,'Courier New',monospace\">Processing file: <span style=\"font-weight: bold\">C:\\Users\\kade\\Desktop\\training_dir_staging\\1_auroth_the_winter_wyvern\\</span><span style=\"color: #008080; text-decoration-color: #008080; font-weight: bold\">2510805.j</span><span style=\"font-weight: bold\">son</span>\n",
       "</pre>\n"
      ],
      "text/plain": [
       "Processing file: \u001b[1mC:\\Users\\kade\\Desktop\\training_dir_staging\\1_auroth_the_winter_wyvern\\\u001b[0m\u001b[1;36m2510805.j\u001b[0m\u001b[1mson\u001b[0m\n"
      ]
     },
     "metadata": {},
     "output_type": "display_data"
    },
    {
     "data": {
      "text/html": [
       "<pre style=\"white-space:pre;overflow-x:auto;line-height:normal;font-family:Menlo,'DejaVu Sans Mono',consolas,'Courier New',monospace\">Creating caption file: \n",
       "<span style=\"font-weight: bold\">C:\\Users\\kade\\Desktop\\training_dir_staging\\1_auroth_the_winter_wyvern\\1e483be8bc6bc55f8a47b8a0d4c9cc14.txt</span>\n",
       "</pre>\n"
      ],
      "text/plain": [
       "Creating caption file: \n",
       "\u001b[1mC:\\Users\\kade\\Desktop\\training_dir_staging\\1_auroth_the_winter_wyvern\\1e483be8bc6bc55f8a47b8a0d4c9cc14.txt\u001b[0m\n"
      ]
     },
     "metadata": {},
     "output_type": "display_data"
    },
    {
     "data": {
      "text/html": [
       "<pre style=\"white-space:pre;overflow-x:auto;line-height:normal;font-family:Menlo,'DejaVu Sans Mono',consolas,'Courier New',monospace\">Writing tags: <span style=\"font-style: italic\">areola, breasts, busty feral, censor bar, claws, female, feral, hair, horn, ineffective censorship, </span>\n",
       "<span style=\"font-style: italic\">non-mammal breasts, nude, scales, solo, tail, teeth, wings, by eguchi tumoru, european mythology, mythology, auroth</span>\n",
       "<span style=\"font-style: italic\">the winter wyvern, dragon, mythological creature, mythological scalie, scalie, western dragon, wyvern, censored</span>\n",
       "</pre>\n"
      ],
      "text/plain": [
       "Writing tags: \u001b[3mareola, breasts, busty feral, censor bar, claws, female, feral, hair, horn, ineffective censorship, \u001b[0m\n",
       "\u001b[3mnon-mammal breasts, nude, scales, solo, tail, teeth, wings, by eguchi tumoru, european mythology, mythology, auroth\u001b[0m\n",
       "\u001b[3mthe winter wyvern, dragon, mythological creature, mythological scalie, scalie, western dragon, wyvern, censored\u001b[0m\n"
      ]
     },
     "metadata": {},
     "output_type": "display_data"
    },
    {
     "data": {
      "text/html": [
       "<pre style=\"white-space:pre;overflow-x:auto;line-height:normal;font-family:Menlo,'DejaVu Sans Mono',consolas,'Courier New',monospace\">Processing file: <span style=\"font-weight: bold\">C:\\Users\\kade\\Desktop\\training_dir_staging\\1_auroth_the_winter_wyvern\\</span><span style=\"color: #008080; text-decoration-color: #008080; font-weight: bold\">2577276.j</span><span style=\"font-weight: bold\">son</span>\n",
       "</pre>\n"
      ],
      "text/plain": [
       "Processing file: \u001b[1mC:\\Users\\kade\\Desktop\\training_dir_staging\\1_auroth_the_winter_wyvern\\\u001b[0m\u001b[1;36m2577276.j\u001b[0m\u001b[1mson\u001b[0m\n"
      ]
     },
     "metadata": {},
     "output_type": "display_data"
    },
    {
     "data": {
      "text/html": [
       "<pre style=\"white-space:pre;overflow-x:auto;line-height:normal;font-family:Menlo,'DejaVu Sans Mono',consolas,'Courier New',monospace\">Creating caption file: \n",
       "<span style=\"font-weight: bold\">C:\\Users\\kade\\Desktop\\training_dir_staging\\1_auroth_the_winter_wyvern\\9cc2724775d8910c192f48af30aa0e36.txt</span>\n",
       "</pre>\n"
      ],
      "text/plain": [
       "Creating caption file: \n",
       "\u001b[1mC:\\Users\\kade\\Desktop\\training_dir_staging\\1_auroth_the_winter_wyvern\\9cc2724775d8910c192f48af30aa0e36.txt\u001b[0m\n"
      ]
     },
     "metadata": {},
     "output_type": "display_data"
    },
    {
     "data": {
      "text/html": [
       "<pre style=\"white-space:pre;overflow-x:auto;line-height:normal;font-family:Menlo,'DejaVu Sans Mono',consolas,'Courier New',monospace\">Writing tags: <span style=\"font-style: italic\">anthro, anus, bedroom eyes, belly, blush, bodily fluids, butt, claws, curling toes, egg, feet, </span>\n",
       "<span style=\"font-style: italic\">female, genital fluids, genitals, glowing, hair, heart symbol, horn, impregnation request, looking at viewer, </span>\n",
       "<span style=\"font-style: italic\">lying, mature anthro, mature female, narrowed eyes, nude, on back, open mouth, oviposition, pregnant, pussy, </span>\n",
       "<span style=\"font-style: italic\">scales, seductive, solo, spread legs, spreading, stretched pussy, teeth, text, thick thighs, tongue, vaginal, </span>\n",
       "<span style=\"font-style: italic\">wings, by wingedwilly, european mythology, mythology, auroth the winter wyvern, dragon, mythological creature, </span>\n",
       "<span style=\"font-style: italic\">mythological scalie, reptile, scalie, western dragon, wyvern, digital media \\</span><span style=\"font-weight: bold; font-style: italic\">(</span><span style=\"font-style: italic\">artwork\\</span><span style=\"font-weight: bold; font-style: italic\">)</span>\n",
       "</pre>\n"
      ],
      "text/plain": [
       "Writing tags: \u001b[3manthro, anus, bedroom eyes, belly, blush, bodily fluids, butt, claws, curling toes, egg, feet, \u001b[0m\n",
       "\u001b[3mfemale, genital fluids, genitals, glowing, hair, heart symbol, horn, impregnation request, looking at viewer, \u001b[0m\n",
       "\u001b[3mlying, mature anthro, mature female, narrowed eyes, nude, on back, open mouth, oviposition, pregnant, pussy, \u001b[0m\n",
       "\u001b[3mscales, seductive, solo, spread legs, spreading, stretched pussy, teeth, text, thick thighs, tongue, vaginal, \u001b[0m\n",
       "\u001b[3mwings, by wingedwilly, european mythology, mythology, auroth the winter wyvern, dragon, mythological creature, \u001b[0m\n",
       "\u001b[3mmythological scalie, reptile, scalie, western dragon, wyvern, digital media \\\u001b[0m\u001b[1;3m(\u001b[0m\u001b[3martwork\\\u001b[0m\u001b[1;3m)\u001b[0m\n"
      ]
     },
     "metadata": {},
     "output_type": "display_data"
    },
    {
     "data": {
      "text/html": [
       "<pre style=\"white-space:pre;overflow-x:auto;line-height:normal;font-family:Menlo,'DejaVu Sans Mono',consolas,'Courier New',monospace\">Processing file: <span style=\"font-weight: bold\">C:\\Users\\kade\\Desktop\\training_dir_staging\\1_auroth_the_winter_wyvern\\</span><span style=\"color: #008080; text-decoration-color: #008080; font-weight: bold\">2652172.j</span><span style=\"font-weight: bold\">son</span>\n",
       "</pre>\n"
      ],
      "text/plain": [
       "Processing file: \u001b[1mC:\\Users\\kade\\Desktop\\training_dir_staging\\1_auroth_the_winter_wyvern\\\u001b[0m\u001b[1;36m2652172.j\u001b[0m\u001b[1mson\u001b[0m\n"
      ]
     },
     "metadata": {},
     "output_type": "display_data"
    },
    {
     "data": {
      "text/html": [
       "<pre style=\"white-space:pre;overflow-x:auto;line-height:normal;font-family:Menlo,'DejaVu Sans Mono',consolas,'Courier New',monospace\">Creating caption file: \n",
       "<span style=\"font-weight: bold\">C:\\Users\\kade\\Desktop\\training_dir_staging\\1_auroth_the_winter_wyvern\\a6958d0604d2658304cd46850c412494.txt</span>\n",
       "</pre>\n"
      ],
      "text/plain": [
       "Creating caption file: \n",
       "\u001b[1mC:\\Users\\kade\\Desktop\\training_dir_staging\\1_auroth_the_winter_wyvern\\a6958d0604d2658304cd46850c412494.txt\u001b[0m\n"
      ]
     },
     "metadata": {},
     "output_type": "display_data"
    },
    {
     "data": {
      "text/html": [
       "<pre style=\"white-space:pre;overflow-x:auto;line-height:normal;font-family:Menlo,'DejaVu Sans Mono',consolas,'Courier New',monospace\">Writing tags: <span style=\"font-style: italic\">anthro, anus, areola, banana, bedroom eyes, big breasts, big butt, bodily fluids, breasts, butt, </span>\n",
       "<span style=\"font-style: italic\">claws, female, food, food fetish, food play, fruit, genital fluids, genitals, glowing, hair, half-closed eyes, huge</span>\n",
       "<span style=\"font-style: italic\">breasts, improvised sex toy, looking at viewer, mature anthro, mature female, narrowed eyes, nipples, non-mammal </span>\n",
       "<span style=\"font-style: italic\">breasts, nude, plant, presenting, pussy, raised tail, scales, seductive, slightly chubby, smile, solo, submissive, </span>\n",
       "<span style=\"font-style: italic\">tail, thick thighs, tongue, wide hips, by wingedwilly, mythology, auroth the winter wyvern, dragon, mythological </span>\n",
       "<span style=\"font-style: italic\">creature, mythological scalie, reptile, scalie</span>\n",
       "</pre>\n"
      ],
      "text/plain": [
       "Writing tags: \u001b[3manthro, anus, areola, banana, bedroom eyes, big breasts, big butt, bodily fluids, breasts, butt, \u001b[0m\n",
       "\u001b[3mclaws, female, food, food fetish, food play, fruit, genital fluids, genitals, glowing, hair, half-closed eyes, huge\u001b[0m\n",
       "\u001b[3mbreasts, improvised sex toy, looking at viewer, mature anthro, mature female, narrowed eyes, nipples, non-mammal \u001b[0m\n",
       "\u001b[3mbreasts, nude, plant, presenting, pussy, raised tail, scales, seductive, slightly chubby, smile, solo, submissive, \u001b[0m\n",
       "\u001b[3mtail, thick thighs, tongue, wide hips, by wingedwilly, mythology, auroth the winter wyvern, dragon, mythological \u001b[0m\n",
       "\u001b[3mcreature, mythological scalie, reptile, scalie\u001b[0m\n"
      ]
     },
     "metadata": {},
     "output_type": "display_data"
    },
    {
     "data": {
      "text/html": [
       "<pre style=\"white-space:pre;overflow-x:auto;line-height:normal;font-family:Menlo,'DejaVu Sans Mono',consolas,'Courier New',monospace\">Processing file: <span style=\"font-weight: bold\">C:\\Users\\kade\\Desktop\\training_dir_staging\\1_auroth_the_winter_wyvern\\</span><span style=\"color: #008080; text-decoration-color: #008080; font-weight: bold\">2654436.j</span><span style=\"font-weight: bold\">son</span>\n",
       "</pre>\n"
      ],
      "text/plain": [
       "Processing file: \u001b[1mC:\\Users\\kade\\Desktop\\training_dir_staging\\1_auroth_the_winter_wyvern\\\u001b[0m\u001b[1;36m2654436.j\u001b[0m\u001b[1mson\u001b[0m\n"
      ]
     },
     "metadata": {},
     "output_type": "display_data"
    },
    {
     "data": {
      "text/html": [
       "<pre style=\"white-space:pre;overflow-x:auto;line-height:normal;font-family:Menlo,'DejaVu Sans Mono',consolas,'Courier New',monospace\">Creating caption file: \n",
       "<span style=\"font-weight: bold\">C:\\Users\\kade\\Desktop\\training_dir_staging\\1_auroth_the_winter_wyvern\\b55aa39a891144b44b59e63c1f44d922.txt</span>\n",
       "</pre>\n"
      ],
      "text/plain": [
       "Creating caption file: \n",
       "\u001b[1mC:\\Users\\kade\\Desktop\\training_dir_staging\\1_auroth_the_winter_wyvern\\b55aa39a891144b44b59e63c1f44d922.txt\u001b[0m\n"
      ]
     },
     "metadata": {},
     "output_type": "display_data"
    },
    {
     "data": {
      "text/html": [
       "<pre style=\"white-space:pre;overflow-x:auto;line-height:normal;font-family:Menlo,'DejaVu Sans Mono',consolas,'Courier New',monospace\">Writing tags: <span style=\"font-style: italic\">action pose, anthro, anus, areola, big breasts, big butt, blue hair, blue nipples, breasts, butt, </span>\n",
       "<span style=\"font-style: italic\">claws, detailed background, fangs, feet, female, fingers, forest, genitals, hair, looking at viewer, looking down, </span>\n",
       "<span style=\"font-style: italic\">low-angle view, membrane \\</span><span style=\"font-weight: bold; font-style: italic\">(</span><span style=\"font-style: italic\">anatomy\\</span><span style=\"font-weight: bold; font-style: italic\">)</span><span style=\"font-style: italic\">, membranous wings, multicolored hair, nature, nature background, navel, night,</span>\n",
       "<span style=\"font-style: italic\">nipples, non-mammal breasts, non-mammal nipples, non-mammal pussy, notched wings, nude, open mouth, outside, plant,</span>\n",
       "<span style=\"font-style: italic\">pose, pussy, sharp teeth, sky, solo, tail, talons, teeth, thick thighs, toe claws, toes, tree, two tone hair, wide </span>\n",
       "<span style=\"font-style: italic\">hips, winged arms, wings, by bonifasko, european mythology, mythology, auroth the winter wyvern, dragon, </span>\n",
       "<span style=\"font-style: italic\">mythological creature, mythological scalie, scalie, western dragon, digital media \\</span><span style=\"font-weight: bold; font-style: italic\">(</span><span style=\"font-style: italic\">artwork\\</span><span style=\"font-weight: bold; font-style: italic\">)</span><span style=\"font-style: italic\">, full-length </span>\n",
       "<span style=\"font-style: italic\">portrait, portrait</span>\n",
       "</pre>\n"
      ],
      "text/plain": [
       "Writing tags: \u001b[3maction pose, anthro, anus, areola, big breasts, big butt, blue hair, blue nipples, breasts, butt, \u001b[0m\n",
       "\u001b[3mclaws, detailed background, fangs, feet, female, fingers, forest, genitals, hair, looking at viewer, looking down, \u001b[0m\n",
       "\u001b[3mlow-angle view, membrane \\\u001b[0m\u001b[1;3m(\u001b[0m\u001b[3manatomy\\\u001b[0m\u001b[1;3m)\u001b[0m\u001b[3m, membranous wings, multicolored hair, nature, nature background, navel, night,\u001b[0m\n",
       "\u001b[3mnipples, non-mammal breasts, non-mammal nipples, non-mammal pussy, notched wings, nude, open mouth, outside, plant,\u001b[0m\n",
       "\u001b[3mpose, pussy, sharp teeth, sky, solo, tail, talons, teeth, thick thighs, toe claws, toes, tree, two tone hair, wide \u001b[0m\n",
       "\u001b[3mhips, winged arms, wings, by bonifasko, european mythology, mythology, auroth the winter wyvern, dragon, \u001b[0m\n",
       "\u001b[3mmythological creature, mythological scalie, scalie, western dragon, digital media \\\u001b[0m\u001b[1;3m(\u001b[0m\u001b[3martwork\\\u001b[0m\u001b[1;3m)\u001b[0m\u001b[3m, full-length \u001b[0m\n",
       "\u001b[3mportrait, portrait\u001b[0m\n"
      ]
     },
     "metadata": {},
     "output_type": "display_data"
    },
    {
     "data": {
      "text/html": [
       "<pre style=\"white-space:pre;overflow-x:auto;line-height:normal;font-family:Menlo,'DejaVu Sans Mono',consolas,'Courier New',monospace\">Processing file: <span style=\"font-weight: bold\">C:\\Users\\kade\\Desktop\\training_dir_staging\\1_auroth_the_winter_wyvern\\</span><span style=\"color: #008080; text-decoration-color: #008080; font-weight: bold\">2725647.j</span><span style=\"font-weight: bold\">son</span>\n",
       "</pre>\n"
      ],
      "text/plain": [
       "Processing file: \u001b[1mC:\\Users\\kade\\Desktop\\training_dir_staging\\1_auroth_the_winter_wyvern\\\u001b[0m\u001b[1;36m2725647.j\u001b[0m\u001b[1mson\u001b[0m\n"
      ]
     },
     "metadata": {},
     "output_type": "display_data"
    },
    {
     "data": {
      "text/html": [
       "<pre style=\"white-space:pre;overflow-x:auto;line-height:normal;font-family:Menlo,'DejaVu Sans Mono',consolas,'Courier New',monospace\">Creating caption file: \n",
       "<span style=\"font-weight: bold\">C:\\Users\\kade\\Desktop\\training_dir_staging\\1_auroth_the_winter_wyvern\\8ff34e3be366514eaf6444db0e3cbe6e.txt</span>\n",
       "</pre>\n"
      ],
      "text/plain": [
       "Creating caption file: \n",
       "\u001b[1mC:\\Users\\kade\\Desktop\\training_dir_staging\\1_auroth_the_winter_wyvern\\8ff34e3be366514eaf6444db0e3cbe6e.txt\u001b[0m\n"
      ]
     },
     "metadata": {},
     "output_type": "display_data"
    },
    {
     "data": {
      "text/html": [
       "<pre style=\"white-space:pre;overflow-x:auto;line-height:normal;font-family:Menlo,'DejaVu Sans Mono',consolas,'Courier New',monospace\">Writing tags: <span style=\"font-style: italic\">anthro, anus, blue body, blue scales, butt, condom, detailed background, female, genitals, glowing, </span>\n",
       "<span style=\"font-style: italic\">glowing genitalia, glowing pussy, green pussy, horizontal pussy, membrane \\</span><span style=\"font-weight: bold; font-style: italic\">(</span><span style=\"font-style: italic\">anatomy\\</span><span style=\"font-weight: bold; font-style: italic\">)</span><span style=\"font-style: italic\">, membranous wings, open </span>\n",
       "<span style=\"font-style: italic\">mouth, pussy, red cross, scales, sexual barrier device, smile, solo, tail, teeth, text, tongue, wings, by </span>\n",
       "<span style=\"font-style: italic\">bitemylip, european mythology, mythology, auroth the winter wyvern, dragon, mythological creature, mythological </span>\n",
       "<span style=\"font-style: italic\">scalie, scalie, western dragon, wyvern, digital media \\</span><span style=\"font-weight: bold; font-style: italic\">(</span><span style=\"font-style: italic\">artwork\\</span><span style=\"font-weight: bold; font-style: italic\">)</span><span style=\"font-style: italic\">, english text</span>\n",
       "</pre>\n"
      ],
      "text/plain": [
       "Writing tags: \u001b[3manthro, anus, blue body, blue scales, butt, condom, detailed background, female, genitals, glowing, \u001b[0m\n",
       "\u001b[3mglowing genitalia, glowing pussy, green pussy, horizontal pussy, membrane \\\u001b[0m\u001b[1;3m(\u001b[0m\u001b[3manatomy\\\u001b[0m\u001b[1;3m)\u001b[0m\u001b[3m, membranous wings, open \u001b[0m\n",
       "\u001b[3mmouth, pussy, red cross, scales, sexual barrier device, smile, solo, tail, teeth, text, tongue, wings, by \u001b[0m\n",
       "\u001b[3mbitemylip, european mythology, mythology, auroth the winter wyvern, dragon, mythological creature, mythological \u001b[0m\n",
       "\u001b[3mscalie, scalie, western dragon, wyvern, digital media \\\u001b[0m\u001b[1;3m(\u001b[0m\u001b[3martwork\\\u001b[0m\u001b[1;3m)\u001b[0m\u001b[3m, english text\u001b[0m\n"
      ]
     },
     "metadata": {},
     "output_type": "display_data"
    },
    {
     "data": {
      "text/html": [
       "<pre style=\"white-space:pre;overflow-x:auto;line-height:normal;font-family:Menlo,'DejaVu Sans Mono',consolas,'Courier New',monospace\">Processing file: <span style=\"font-weight: bold\">C:\\Users\\kade\\Desktop\\training_dir_staging\\1_auroth_the_winter_wyvern\\</span><span style=\"color: #008080; text-decoration-color: #008080; font-weight: bold\">2786224.j</span><span style=\"font-weight: bold\">son</span>\n",
       "</pre>\n"
      ],
      "text/plain": [
       "Processing file: \u001b[1mC:\\Users\\kade\\Desktop\\training_dir_staging\\1_auroth_the_winter_wyvern\\\u001b[0m\u001b[1;36m2786224.j\u001b[0m\u001b[1mson\u001b[0m\n"
      ]
     },
     "metadata": {},
     "output_type": "display_data"
    },
    {
     "data": {
      "text/html": [
       "<pre style=\"white-space:pre;overflow-x:auto;line-height:normal;font-family:Menlo,'DejaVu Sans Mono',consolas,'Courier New',monospace\">Creating caption file: \n",
       "<span style=\"font-weight: bold\">C:\\Users\\kade\\Desktop\\training_dir_staging\\1_auroth_the_winter_wyvern\\633681daa39602fe3ff978022ebbe004.txt</span>\n",
       "</pre>\n"
      ],
      "text/plain": [
       "Creating caption file: \n",
       "\u001b[1mC:\\Users\\kade\\Desktop\\training_dir_staging\\1_auroth_the_winter_wyvern\\633681daa39602fe3ff978022ebbe004.txt\u001b[0m\n"
      ]
     },
     "metadata": {},
     "output_type": "display_data"
    },
    {
     "data": {
      "text/html": [
       "<pre style=\"white-space:pre;overflow-x:auto;line-height:normal;font-family:Menlo,'DejaVu Sans Mono',consolas,'Courier New',monospace\">Writing tags: <span style=\"font-style: italic\">back spikes, female, feral, fur, membrane \\</span><span style=\"font-weight: bold; font-style: italic\">(</span><span style=\"font-style: italic\">anatomy\\</span><span style=\"font-weight: bold; font-style: italic\">)</span><span style=\"font-style: italic\">, membranous wings, mountain, solo, spikes, </span>\n",
       "<span style=\"font-style: italic\">spikes \\</span><span style=\"font-weight: bold; font-style: italic\">(</span><span style=\"font-style: italic\">anatomy\\</span><span style=\"font-weight: bold; font-style: italic\">)</span><span style=\"font-style: italic\">, spread wings, tail, waterfall, wings, by adrim, european mythology, mythology, auroth the </span>\n",
       "<span style=\"font-style: italic\">winter wyvern, winter wyvern, dragon, mythological creature, mythological scalie, scalie, western dragon, wyvern, </span>\n",
       "<span style=\"font-style: italic\">4k, widescreen</span>\n",
       "</pre>\n"
      ],
      "text/plain": [
       "Writing tags: \u001b[3mback spikes, female, feral, fur, membrane \\\u001b[0m\u001b[1;3m(\u001b[0m\u001b[3manatomy\\\u001b[0m\u001b[1;3m)\u001b[0m\u001b[3m, membranous wings, mountain, solo, spikes, \u001b[0m\n",
       "\u001b[3mspikes \\\u001b[0m\u001b[1;3m(\u001b[0m\u001b[3manatomy\\\u001b[0m\u001b[1;3m)\u001b[0m\u001b[3m, spread wings, tail, waterfall, wings, by adrim, european mythology, mythology, auroth the \u001b[0m\n",
       "\u001b[3mwinter wyvern, winter wyvern, dragon, mythological creature, mythological scalie, scalie, western dragon, wyvern, \u001b[0m\n",
       "\u001b[3m4k, widescreen\u001b[0m\n"
      ]
     },
     "metadata": {},
     "output_type": "display_data"
    },
    {
     "data": {
      "text/html": [
       "<pre style=\"white-space:pre;overflow-x:auto;line-height:normal;font-family:Menlo,'DejaVu Sans Mono',consolas,'Courier New',monospace\">Processing file: <span style=\"font-weight: bold\">C:\\Users\\kade\\Desktop\\training_dir_staging\\1_auroth_the_winter_wyvern\\</span><span style=\"color: #008080; text-decoration-color: #008080; font-weight: bold\">2799382.j</span><span style=\"font-weight: bold\">son</span>\n",
       "</pre>\n"
      ],
      "text/plain": [
       "Processing file: \u001b[1mC:\\Users\\kade\\Desktop\\training_dir_staging\\1_auroth_the_winter_wyvern\\\u001b[0m\u001b[1;36m2799382.j\u001b[0m\u001b[1mson\u001b[0m\n"
      ]
     },
     "metadata": {},
     "output_type": "display_data"
    },
    {
     "data": {
      "text/html": [
       "<pre style=\"white-space:pre;overflow-x:auto;line-height:normal;font-family:Menlo,'DejaVu Sans Mono',consolas,'Courier New',monospace\">Creating caption file: \n",
       "<span style=\"font-weight: bold\">C:\\Users\\kade\\Desktop\\training_dir_staging\\1_auroth_the_winter_wyvern\\f5ee3db3ea4feea98097135ea37035bd.txt</span>\n",
       "</pre>\n"
      ],
      "text/plain": [
       "Creating caption file: \n",
       "\u001b[1mC:\\Users\\kade\\Desktop\\training_dir_staging\\1_auroth_the_winter_wyvern\\f5ee3db3ea4feea98097135ea37035bd.txt\u001b[0m\n"
      ]
     },
     "metadata": {},
     "output_type": "display_data"
    },
    {
     "data": {
      "text/html": [
       "<pre style=\"white-space:pre;overflow-x:auto;line-height:normal;font-family:Menlo,'DejaVu Sans Mono',consolas,'Courier New',monospace\">Writing tags: <span style=\"font-style: italic\">anthro, anus, aurora \\</span><span style=\"font-weight: bold; font-style: italic\">(</span><span style=\"font-style: italic\">phenomenon\\</span><span style=\"font-weight: bold; font-style: italic\">)</span><span style=\"font-style: italic\">, big butt, blue anus, blue pussy, bodily fluids, butt, claws, </span>\n",
       "<span style=\"font-style: italic\">clitoris, dialogue, dominant, dominant female, female, genital fluids, genitals, hair, huge butt, ice, imminent </span>\n",
       "<span style=\"font-style: italic\">facesitting, imminent sex, looking at viewer, looking back, mature female, nude, plump labia, pussy, raised tail, </span>\n",
       "<span style=\"font-style: italic\">rear view, scales, smile, solo, tail, teeth, text, thick thighs, tongue, vaginal fluids, wide hips, by wingedwilly,</span>\n",
       "<span style=\"font-style: italic\">european mythology, mythology, auroth the winter wyvern, dragon, mythological creature, mythological scalie, </span>\n",
       "<span style=\"font-style: italic\">scalie, western dragon, wyvern, digital media \\</span><span style=\"font-weight: bold; font-style: italic\">(</span><span style=\"font-style: italic\">artwork\\</span><span style=\"font-weight: bold; font-style: italic\">)</span><span style=\"font-style: italic\">, english text</span>\n",
       "</pre>\n"
      ],
      "text/plain": [
       "Writing tags: \u001b[3manthro, anus, aurora \\\u001b[0m\u001b[1;3m(\u001b[0m\u001b[3mphenomenon\\\u001b[0m\u001b[1;3m)\u001b[0m\u001b[3m, big butt, blue anus, blue pussy, bodily fluids, butt, claws, \u001b[0m\n",
       "\u001b[3mclitoris, dialogue, dominant, dominant female, female, genital fluids, genitals, hair, huge butt, ice, imminent \u001b[0m\n",
       "\u001b[3mfacesitting, imminent sex, looking at viewer, looking back, mature female, nude, plump labia, pussy, raised tail, \u001b[0m\n",
       "\u001b[3mrear view, scales, smile, solo, tail, teeth, text, thick thighs, tongue, vaginal fluids, wide hips, by wingedwilly,\u001b[0m\n",
       "\u001b[3meuropean mythology, mythology, auroth the winter wyvern, dragon, mythological creature, mythological scalie, \u001b[0m\n",
       "\u001b[3mscalie, western dragon, wyvern, digital media \\\u001b[0m\u001b[1;3m(\u001b[0m\u001b[3martwork\\\u001b[0m\u001b[1;3m)\u001b[0m\u001b[3m, english text\u001b[0m\n"
      ]
     },
     "metadata": {},
     "output_type": "display_data"
    },
    {
     "data": {
      "text/html": [
       "<pre style=\"white-space:pre;overflow-x:auto;line-height:normal;font-family:Menlo,'DejaVu Sans Mono',consolas,'Courier New',monospace\">Processing file: <span style=\"font-weight: bold\">C:\\Users\\kade\\Desktop\\training_dir_staging\\1_auroth_the_winter_wyvern\\</span><span style=\"color: #008080; text-decoration-color: #008080; font-weight: bold\">2901042.j</span><span style=\"font-weight: bold\">son</span>\n",
       "</pre>\n"
      ],
      "text/plain": [
       "Processing file: \u001b[1mC:\\Users\\kade\\Desktop\\training_dir_staging\\1_auroth_the_winter_wyvern\\\u001b[0m\u001b[1;36m2901042.j\u001b[0m\u001b[1mson\u001b[0m\n"
      ]
     },
     "metadata": {},
     "output_type": "display_data"
    },
    {
     "data": {
      "text/html": [
       "<pre style=\"white-space:pre;overflow-x:auto;line-height:normal;font-family:Menlo,'DejaVu Sans Mono',consolas,'Courier New',monospace\">Creating caption file: \n",
       "<span style=\"font-weight: bold\">C:\\Users\\kade\\Desktop\\training_dir_staging\\1_auroth_the_winter_wyvern\\33730c7e3df8d237bb92b675dc4eed68.txt</span>\n",
       "</pre>\n"
      ],
      "text/plain": [
       "Creating caption file: \n",
       "\u001b[1mC:\\Users\\kade\\Desktop\\training_dir_staging\\1_auroth_the_winter_wyvern\\33730c7e3df8d237bb92b675dc4eed68.txt\u001b[0m\n"
      ]
     },
     "metadata": {},
     "output_type": "display_data"
    },
    {
     "data": {
      "text/html": [
       "<pre style=\"white-space:pre;overflow-x:auto;line-height:normal;font-family:Menlo,'DejaVu Sans Mono',consolas,'Courier New',monospace\">Writing tags: <span style=\"font-style: italic\">black border, blue body, blue eyes, blue fur, border, container, cup, female, feral, fur, holding </span>\n",
       "<span style=\"font-style: italic\">object, simple background, solo, wings, by aeveno </span><span style=\"font-weight: bold; font-style: italic\">(</span><span style=\"font-style: italic\">artist</span><span style=\"font-weight: bold; font-style: italic\">)</span><span style=\"font-style: italic\">, european mythology, mythology, auroth the winter </span>\n",
       "<span style=\"font-style: italic\">wyvern, dragon, mythological creature, mythological scalie, scalie, western dragon, wyvern, half-length portrait, </span>\n",
       "<span style=\"font-style: italic\">portrait</span>\n",
       "</pre>\n"
      ],
      "text/plain": [
       "Writing tags: \u001b[3mblack border, blue body, blue eyes, blue fur, border, container, cup, female, feral, fur, holding \u001b[0m\n",
       "\u001b[3mobject, simple background, solo, wings, by aeveno \u001b[0m\u001b[1;3m(\u001b[0m\u001b[3martist\u001b[0m\u001b[1;3m)\u001b[0m\u001b[3m, european mythology, mythology, auroth the winter \u001b[0m\n",
       "\u001b[3mwyvern, dragon, mythological creature, mythological scalie, scalie, western dragon, wyvern, half-length portrait, \u001b[0m\n",
       "\u001b[3mportrait\u001b[0m\n"
      ]
     },
     "metadata": {},
     "output_type": "display_data"
    },
    {
     "data": {
      "text/html": [
       "<pre style=\"white-space:pre;overflow-x:auto;line-height:normal;font-family:Menlo,'DejaVu Sans Mono',consolas,'Courier New',monospace\">Processing file: <span style=\"font-weight: bold\">C:\\Users\\kade\\Desktop\\training_dir_staging\\1_auroth_the_winter_wyvern\\</span><span style=\"color: #008080; text-decoration-color: #008080; font-weight: bold\">2913379.j</span><span style=\"font-weight: bold\">son</span>\n",
       "</pre>\n"
      ],
      "text/plain": [
       "Processing file: \u001b[1mC:\\Users\\kade\\Desktop\\training_dir_staging\\1_auroth_the_winter_wyvern\\\u001b[0m\u001b[1;36m2913379.j\u001b[0m\u001b[1mson\u001b[0m\n"
      ]
     },
     "metadata": {},
     "output_type": "display_data"
    },
    {
     "data": {
      "text/html": [
       "<pre style=\"white-space:pre;overflow-x:auto;line-height:normal;font-family:Menlo,'DejaVu Sans Mono',consolas,'Courier New',monospace\">Creating caption file: \n",
       "<span style=\"font-weight: bold\">C:\\Users\\kade\\Desktop\\training_dir_staging\\1_auroth_the_winter_wyvern\\f3aaabaff3bd2b15f62da1a7e84c4852.txt</span>\n",
       "</pre>\n"
      ],
      "text/plain": [
       "Creating caption file: \n",
       "\u001b[1mC:\\Users\\kade\\Desktop\\training_dir_staging\\1_auroth_the_winter_wyvern\\f3aaabaff3bd2b15f62da1a7e84c4852.txt\u001b[0m\n"
      ]
     },
     "metadata": {},
     "output_type": "display_data"
    },
    {
     "data": {
      "text/html": [
       "<pre style=\"white-space:pre;overflow-x:auto;line-height:normal;font-family:Menlo,'DejaVu Sans Mono',consolas,'Courier New',monospace\">Writing tags: <span style=\"font-style: italic\">anthro, anthro penetrated, arm stockings, armwear, big breasts, blue body, blue nipples, blue pussy, </span>\n",
       "<span style=\"font-style: italic\">blue scales, bodily fluids, breasts, cave, clitoris, clothing, cowgirl position, detailed background, duo, elbow </span>\n",
       "<span style=\"font-style: italic\">gloves, faceless character, faceless male, female, female on top, female penetrated, from front position, genital </span>\n",
       "<span style=\"font-style: italic\">fluids, genitals, gloves, handwear, huge breasts, human on anthro, human penetrating, human penetrating anthro, </span>\n",
       "<span style=\"font-style: italic\">humanoid genitalia, humanoid penis, interspecies, legwear, male, male/female, male on bottom, male penetrating, </span>\n",
       "<span style=\"font-style: italic\">male penetrating female, narrowed eyes, nipples, non-mammal breasts, on bottom, on top, penetration, penile, penile</span>\n",
       "<span style=\"font-style: italic\">penetration, penis, penis in pussy, pink penis, pussy, scales, sex, small waist, stockings, tail, tan penis, thick </span>\n",
       "<span style=\"font-style: italic\">thighs, thigh highs, three-quarter view, tongue, tongue out, vaginal, vaginal fluids, vaginal penetration, wide </span>\n",
       "<span style=\"font-style: italic\">hips, by elzzombie, european mythology, mythology, auroth the winter wyvern, winter wyvern, dragon, human, mammal, </span>\n",
       "<span style=\"font-style: italic\">mythological creature, mythological scalie, scalie, western dragon, wyvern, digital media \\</span><span style=\"font-weight: bold; font-style: italic\">(</span><span style=\"font-style: italic\">artwork\\</span><span style=\"font-weight: bold; font-style: italic\">)</span>\n",
       "</pre>\n"
      ],
      "text/plain": [
       "Writing tags: \u001b[3manthro, anthro penetrated, arm stockings, armwear, big breasts, blue body, blue nipples, blue pussy, \u001b[0m\n",
       "\u001b[3mblue scales, bodily fluids, breasts, cave, clitoris, clothing, cowgirl position, detailed background, duo, elbow \u001b[0m\n",
       "\u001b[3mgloves, faceless character, faceless male, female, female on top, female penetrated, from front position, genital \u001b[0m\n",
       "\u001b[3mfluids, genitals, gloves, handwear, huge breasts, human on anthro, human penetrating, human penetrating anthro, \u001b[0m\n",
       "\u001b[3mhumanoid genitalia, humanoid penis, interspecies, legwear, male, male/female, male on bottom, male penetrating, \u001b[0m\n",
       "\u001b[3mmale penetrating female, narrowed eyes, nipples, non-mammal breasts, on bottom, on top, penetration, penile, penile\u001b[0m\n",
       "\u001b[3mpenetration, penis, penis in pussy, pink penis, pussy, scales, sex, small waist, stockings, tail, tan penis, thick \u001b[0m\n",
       "\u001b[3mthighs, thigh highs, three-quarter view, tongue, tongue out, vaginal, vaginal fluids, vaginal penetration, wide \u001b[0m\n",
       "\u001b[3mhips, by elzzombie, european mythology, mythology, auroth the winter wyvern, winter wyvern, dragon, human, mammal, \u001b[0m\n",
       "\u001b[3mmythological creature, mythological scalie, scalie, western dragon, wyvern, digital media \\\u001b[0m\u001b[1;3m(\u001b[0m\u001b[3martwork\\\u001b[0m\u001b[1;3m)\u001b[0m\n"
      ]
     },
     "metadata": {},
     "output_type": "display_data"
    },
    {
     "data": {
      "text/html": [
       "<pre style=\"white-space:pre;overflow-x:auto;line-height:normal;font-family:Menlo,'DejaVu Sans Mono',consolas,'Courier New',monospace\">Processing file: <span style=\"font-weight: bold\">C:\\Users\\kade\\Desktop\\training_dir_staging\\1_auroth_the_winter_wyvern\\</span><span style=\"color: #008080; text-decoration-color: #008080; font-weight: bold\">2942660.j</span><span style=\"font-weight: bold\">son</span>\n",
       "</pre>\n"
      ],
      "text/plain": [
       "Processing file: \u001b[1mC:\\Users\\kade\\Desktop\\training_dir_staging\\1_auroth_the_winter_wyvern\\\u001b[0m\u001b[1;36m2942660.j\u001b[0m\u001b[1mson\u001b[0m\n"
      ]
     },
     "metadata": {},
     "output_type": "display_data"
    },
    {
     "data": {
      "text/html": [
       "<pre style=\"white-space:pre;overflow-x:auto;line-height:normal;font-family:Menlo,'DejaVu Sans Mono',consolas,'Courier New',monospace\">Creating caption file: \n",
       "<span style=\"font-weight: bold\">C:\\Users\\kade\\Desktop\\training_dir_staging\\1_auroth_the_winter_wyvern\\cfbf55237aa7b66f6aa7df4e3ec77024.txt</span>\n",
       "</pre>\n"
      ],
      "text/plain": [
       "Creating caption file: \n",
       "\u001b[1mC:\\Users\\kade\\Desktop\\training_dir_staging\\1_auroth_the_winter_wyvern\\cfbf55237aa7b66f6aa7df4e3ec77024.txt\u001b[0m\n"
      ]
     },
     "metadata": {},
     "output_type": "display_data"
    },
    {
     "data": {
      "text/html": [
       "<pre style=\"white-space:pre;overflow-x:auto;line-height:normal;font-family:Menlo,'DejaVu Sans Mono',consolas,'Courier New',monospace\">Writing tags: <span style=\"font-style: italic\">anthro, anus, bedroom eyes, big breasts, big butt, blue insides, bodily fluids, breasts, butt, claws,</span>\n",
       "<span style=\"font-style: italic\">clitoris, crown, cyanotic epithelium, dialogue, feet, female, folded, genital fluids, genitals, glowing, hair, </span>\n",
       "<span style=\"font-style: italic\">headgear, huge breasts, huge butt, ice, legs up, looking at viewer, lying, mature female, narrowed eyes, nipples, </span>\n",
       "<span style=\"font-style: italic\">nude, on back, plump labia, presenting, presenting pussy, pussy, scales, seductive, slightly chubby, smile, solo, </span>\n",
       "<span style=\"font-style: italic\">spread legs, spreading, tail, talking to viewer, teeth, text, thick thighs, tongue, tongue out, wide hips, by </span>\n",
       "<span style=\"font-style: italic\">wingedwilly, european mythology, mythology, auroth the winter wyvern, dragon, mythological creature, mythological </span>\n",
       "<span style=\"font-style: italic\">scalie, reptile, scalie, western dragon, wyvern</span>\n",
       "</pre>\n"
      ],
      "text/plain": [
       "Writing tags: \u001b[3manthro, anus, bedroom eyes, big breasts, big butt, blue insides, bodily fluids, breasts, butt, claws,\u001b[0m\n",
       "\u001b[3mclitoris, crown, cyanotic epithelium, dialogue, feet, female, folded, genital fluids, genitals, glowing, hair, \u001b[0m\n",
       "\u001b[3mheadgear, huge breasts, huge butt, ice, legs up, looking at viewer, lying, mature female, narrowed eyes, nipples, \u001b[0m\n",
       "\u001b[3mnude, on back, plump labia, presenting, presenting pussy, pussy, scales, seductive, slightly chubby, smile, solo, \u001b[0m\n",
       "\u001b[3mspread legs, spreading, tail, talking to viewer, teeth, text, thick thighs, tongue, tongue out, wide hips, by \u001b[0m\n",
       "\u001b[3mwingedwilly, european mythology, mythology, auroth the winter wyvern, dragon, mythological creature, mythological \u001b[0m\n",
       "\u001b[3mscalie, reptile, scalie, western dragon, wyvern\u001b[0m\n"
      ]
     },
     "metadata": {},
     "output_type": "display_data"
    },
    {
     "data": {
      "text/html": [
       "<pre style=\"white-space:pre;overflow-x:auto;line-height:normal;font-family:Menlo,'DejaVu Sans Mono',consolas,'Courier New',monospace\">Processing file: <span style=\"font-weight: bold\">C:\\Users\\kade\\Desktop\\training_dir_staging\\1_auroth_the_winter_wyvern\\</span><span style=\"color: #008080; text-decoration-color: #008080; font-weight: bold\">2942665.j</span><span style=\"font-weight: bold\">son</span>\n",
       "</pre>\n"
      ],
      "text/plain": [
       "Processing file: \u001b[1mC:\\Users\\kade\\Desktop\\training_dir_staging\\1_auroth_the_winter_wyvern\\\u001b[0m\u001b[1;36m2942665.j\u001b[0m\u001b[1mson\u001b[0m\n"
      ]
     },
     "metadata": {},
     "output_type": "display_data"
    },
    {
     "data": {
      "text/html": [
       "<pre style=\"white-space:pre;overflow-x:auto;line-height:normal;font-family:Menlo,'DejaVu Sans Mono',consolas,'Courier New',monospace\">Creating caption file: \n",
       "<span style=\"font-weight: bold\">C:\\Users\\kade\\Desktop\\training_dir_staging\\1_auroth_the_winter_wyvern\\6919cd4a140fe46d135a905e8dbd5833.txt</span>\n",
       "</pre>\n"
      ],
      "text/plain": [
       "Creating caption file: \n",
       "\u001b[1mC:\\Users\\kade\\Desktop\\training_dir_staging\\1_auroth_the_winter_wyvern\\6919cd4a140fe46d135a905e8dbd5833.txt\u001b[0m\n"
      ]
     },
     "metadata": {},
     "output_type": "display_data"
    },
    {
     "data": {
      "text/html": [
       "<pre style=\"white-space:pre;overflow-x:auto;line-height:normal;font-family:Menlo,'DejaVu Sans Mono',consolas,'Courier New',monospace\">Writing tags: <span style=\"font-style: italic\">anthro, anus, balls, bedroom eyes, big breasts, big butt, bodily fluids, breasts, butt, claws, crown,</span>\n",
       "<span style=\"font-style: italic\">dominant, dominant gynomorph, dominant intersex, feet, genital fluids, genitals, glowing, gynomorph, hair, </span>\n",
       "<span style=\"font-style: italic\">headgear, huge breasts, huge butt, ice, intersex, legs up, looking at viewer, lying, mature gynomorph, mature </span>\n",
       "<span style=\"font-style: italic\">intersex, narrowed eyes, nipples, non-mammal balls, non-mammal breasts, non-mammal nipples, nude, on back, penis, </span>\n",
       "<span style=\"font-style: italic\">presenting, presenting penis, scales, seductive, slightly chubby, smile, solo, spread legs, spreading, tail, teeth,</span>\n",
       "<span style=\"font-style: italic\">text, thick thighs, tongue, wide hips, by wingedwilly, european mythology, mythology, auroth the winter wyvern, </span>\n",
       "<span style=\"font-style: italic\">dragon, mythological creature, mythological scalie, reptile, scalie, western dragon, wyvern</span>\n",
       "</pre>\n"
      ],
      "text/plain": [
       "Writing tags: \u001b[3manthro, anus, balls, bedroom eyes, big breasts, big butt, bodily fluids, breasts, butt, claws, crown,\u001b[0m\n",
       "\u001b[3mdominant, dominant gynomorph, dominant intersex, feet, genital fluids, genitals, glowing, gynomorph, hair, \u001b[0m\n",
       "\u001b[3mheadgear, huge breasts, huge butt, ice, intersex, legs up, looking at viewer, lying, mature gynomorph, mature \u001b[0m\n",
       "\u001b[3mintersex, narrowed eyes, nipples, non-mammal balls, non-mammal breasts, non-mammal nipples, nude, on back, penis, \u001b[0m\n",
       "\u001b[3mpresenting, presenting penis, scales, seductive, slightly chubby, smile, solo, spread legs, spreading, tail, teeth,\u001b[0m\n",
       "\u001b[3mtext, thick thighs, tongue, wide hips, by wingedwilly, european mythology, mythology, auroth the winter wyvern, \u001b[0m\n",
       "\u001b[3mdragon, mythological creature, mythological scalie, reptile, scalie, western dragon, wyvern\u001b[0m\n"
      ]
     },
     "metadata": {},
     "output_type": "display_data"
    },
    {
     "data": {
      "text/html": [
       "<pre style=\"white-space:pre;overflow-x:auto;line-height:normal;font-family:Menlo,'DejaVu Sans Mono',consolas,'Courier New',monospace\">Processing file: <span style=\"font-weight: bold\">C:\\Users\\kade\\Desktop\\training_dir_staging\\1_auroth_the_winter_wyvern\\</span><span style=\"color: #008080; text-decoration-color: #008080; font-weight: bold\">2969161.j</span><span style=\"font-weight: bold\">son</span>\n",
       "</pre>\n"
      ],
      "text/plain": [
       "Processing file: \u001b[1mC:\\Users\\kade\\Desktop\\training_dir_staging\\1_auroth_the_winter_wyvern\\\u001b[0m\u001b[1;36m2969161.j\u001b[0m\u001b[1mson\u001b[0m\n"
      ]
     },
     "metadata": {},
     "output_type": "display_data"
    },
    {
     "data": {
      "text/html": [
       "<pre style=\"white-space:pre;overflow-x:auto;line-height:normal;font-family:Menlo,'DejaVu Sans Mono',consolas,'Courier New',monospace\">Creating caption file: \n",
       "<span style=\"font-weight: bold\">C:\\Users\\kade\\Desktop\\training_dir_staging\\1_auroth_the_winter_wyvern\\3714169cc8372d23ff7f3e07cc60242d.txt</span>\n",
       "</pre>\n"
      ],
      "text/plain": [
       "Creating caption file: \n",
       "\u001b[1mC:\\Users\\kade\\Desktop\\training_dir_staging\\1_auroth_the_winter_wyvern\\3714169cc8372d23ff7f3e07cc60242d.txt\u001b[0m\n"
      ]
     },
     "metadata": {},
     "output_type": "display_data"
    },
    {
     "data": {
      "text/html": [
       "<pre style=\"white-space:pre;overflow-x:auto;line-height:normal;font-family:Menlo,'DejaVu Sans Mono',consolas,'Courier New',monospace\">Writing tags: <span style=\"font-style: italic\">anthro, anus, balls, big breasts, big butt, breasts, butt, claws, crossgender, erection, ftg </span>\n",
       "<span style=\"font-style: italic\">crossgender, ftg transformation, fti crossgender, fti transformation, gender transformation, genitals, gynomorph, </span>\n",
       "<span style=\"font-style: italic\">hair, huge thighs, intersex, mature gynomorph, mature intersex, nude, penis, potion, raised tail, scales, solo, </span>\n",
       "<span style=\"font-style: italic\">tail, teeth, text, thick thighs, tongue, transformation, wide hips, by wingedwilly, european mythology, mythology, </span>\n",
       "<span style=\"font-style: italic\">auroth the winter wyvern, dragon, mythological creature, mythological scalie, scalie, western dragon, wyvern, </span>\n",
       "<span style=\"font-style: italic\">english text, story, story in description</span>\n",
       "</pre>\n"
      ],
      "text/plain": [
       "Writing tags: \u001b[3manthro, anus, balls, big breasts, big butt, breasts, butt, claws, crossgender, erection, ftg \u001b[0m\n",
       "\u001b[3mcrossgender, ftg transformation, fti crossgender, fti transformation, gender transformation, genitals, gynomorph, \u001b[0m\n",
       "\u001b[3mhair, huge thighs, intersex, mature gynomorph, mature intersex, nude, penis, potion, raised tail, scales, solo, \u001b[0m\n",
       "\u001b[3mtail, teeth, text, thick thighs, tongue, transformation, wide hips, by wingedwilly, european mythology, mythology, \u001b[0m\n",
       "\u001b[3mauroth the winter wyvern, dragon, mythological creature, mythological scalie, scalie, western dragon, wyvern, \u001b[0m\n",
       "\u001b[3menglish text, story, story in description\u001b[0m\n"
      ]
     },
     "metadata": {},
     "output_type": "display_data"
    },
    {
     "data": {
      "text/html": [
       "<pre style=\"white-space:pre;overflow-x:auto;line-height:normal;font-family:Menlo,'DejaVu Sans Mono',consolas,'Courier New',monospace\">Processing file: <span style=\"font-weight: bold\">C:\\Users\\kade\\Desktop\\training_dir_staging\\1_auroth_the_winter_wyvern\\</span><span style=\"color: #008080; text-decoration-color: #008080; font-weight: bold\">3002708.j</span><span style=\"font-weight: bold\">son</span>\n",
       "</pre>\n"
      ],
      "text/plain": [
       "Processing file: \u001b[1mC:\\Users\\kade\\Desktop\\training_dir_staging\\1_auroth_the_winter_wyvern\\\u001b[0m\u001b[1;36m3002708.j\u001b[0m\u001b[1mson\u001b[0m\n"
      ]
     },
     "metadata": {},
     "output_type": "display_data"
    },
    {
     "data": {
      "text/html": [
       "<pre style=\"white-space:pre;overflow-x:auto;line-height:normal;font-family:Menlo,'DejaVu Sans Mono',consolas,'Courier New',monospace\">Creating caption file: \n",
       "<span style=\"font-weight: bold\">C:\\Users\\kade\\Desktop\\training_dir_staging\\1_auroth_the_winter_wyvern\\0403ca68e56676dee3018319343f1f83.txt</span>\n",
       "</pre>\n"
      ],
      "text/plain": [
       "Creating caption file: \n",
       "\u001b[1mC:\\Users\\kade\\Desktop\\training_dir_staging\\1_auroth_the_winter_wyvern\\0403ca68e56676dee3018319343f1f83.txt\u001b[0m\n"
      ]
     },
     "metadata": {},
     "output_type": "display_data"
    },
    {
     "data": {
      "text/html": [
       "<pre style=\"white-space:pre;overflow-x:auto;line-height:normal;font-family:Menlo,'DejaVu Sans Mono',consolas,'Courier New',monospace\">Writing tags: <span style=\"font-style: italic\">anthro, belly, big breasts, big butt, bodily fluids, bone, breasts, butt, chain, claws, clothed, </span>\n",
       "<span style=\"font-style: italic\">clothing, costume, female, genital fluids, genitals, hair, halloween costume, hand on belly, headgear, heart </span>\n",
       "<span style=\"font-style: italic\">symbol, holidays, huge breasts, innie pussy, looking at viewer, mature female, nipples, pussy, scales, seductive, </span>\n",
       "<span style=\"font-style: italic\">skeleton, slightly chubby, slightly chubby female, smile, solo, tail, teeth, thick thighs, vaginal fluids, wide </span>\n",
       "<span style=\"font-style: italic\">hips, by wingedwilly, european mythology, halloween, mythology, auroth the winter wyvern, dragon, mythological </span>\n",
       "<span style=\"font-style: italic\">creature, mythological scalie, scalie, western dragon, wyvern</span>\n",
       "</pre>\n"
      ],
      "text/plain": [
       "Writing tags: \u001b[3manthro, belly, big breasts, big butt, bodily fluids, bone, breasts, butt, chain, claws, clothed, \u001b[0m\n",
       "\u001b[3mclothing, costume, female, genital fluids, genitals, hair, halloween costume, hand on belly, headgear, heart \u001b[0m\n",
       "\u001b[3msymbol, holidays, huge breasts, innie pussy, looking at viewer, mature female, nipples, pussy, scales, seductive, \u001b[0m\n",
       "\u001b[3mskeleton, slightly chubby, slightly chubby female, smile, solo, tail, teeth, thick thighs, vaginal fluids, wide \u001b[0m\n",
       "\u001b[3mhips, by wingedwilly, european mythology, halloween, mythology, auroth the winter wyvern, dragon, mythological \u001b[0m\n",
       "\u001b[3mcreature, mythological scalie, scalie, western dragon, wyvern\u001b[0m\n"
      ]
     },
     "metadata": {},
     "output_type": "display_data"
    },
    {
     "data": {
      "text/html": [
       "<pre style=\"white-space:pre;overflow-x:auto;line-height:normal;font-family:Menlo,'DejaVu Sans Mono',consolas,'Courier New',monospace\">Processing file: <span style=\"font-weight: bold\">C:\\Users\\kade\\Desktop\\training_dir_staging\\1_auroth_the_winter_wyvern\\</span><span style=\"color: #008080; text-decoration-color: #008080; font-weight: bold\">3100806.j</span><span style=\"font-weight: bold\">son</span>\n",
       "</pre>\n"
      ],
      "text/plain": [
       "Processing file: \u001b[1mC:\\Users\\kade\\Desktop\\training_dir_staging\\1_auroth_the_winter_wyvern\\\u001b[0m\u001b[1;36m3100806.j\u001b[0m\u001b[1mson\u001b[0m\n"
      ]
     },
     "metadata": {},
     "output_type": "display_data"
    },
    {
     "data": {
      "text/html": [
       "<pre style=\"white-space:pre;overflow-x:auto;line-height:normal;font-family:Menlo,'DejaVu Sans Mono',consolas,'Courier New',monospace\">Creating caption file: \n",
       "<span style=\"font-weight: bold\">C:\\Users\\kade\\Desktop\\training_dir_staging\\1_auroth_the_winter_wyvern\\b5800e86e16ac59ff5bc63bc382b190b.txt</span>\n",
       "</pre>\n"
      ],
      "text/plain": [
       "Creating caption file: \n",
       "\u001b[1mC:\\Users\\kade\\Desktop\\training_dir_staging\\1_auroth_the_winter_wyvern\\b5800e86e16ac59ff5bc63bc382b190b.txt\u001b[0m\n"
      ]
     },
     "metadata": {},
     "output_type": "display_data"
    },
    {
     "data": {
      "text/html": [
       "<pre style=\"white-space:pre;overflow-x:auto;line-height:normal;font-family:Menlo,'DejaVu Sans Mono',consolas,'Courier New',monospace\">Writing tags: <span style=\"font-style: italic\">anthro, areola, big breasts, blue body, blue eyes, breasts, female, grey areola, grey nipples, hair, </span>\n",
       "<span style=\"font-style: italic\">hand behind head, huge breasts, membrane \\</span><span style=\"font-weight: bold; font-style: italic\">(</span><span style=\"font-style: italic\">anatomy\\</span><span style=\"font-weight: bold; font-style: italic\">)</span><span style=\"font-style: italic\">, membranous wings, nipples, presenting, sitting, slightly </span>\n",
       "<span style=\"font-style: italic\">chubby, solo, spikes, spikes \\</span><span style=\"font-weight: bold; font-style: italic\">(</span><span style=\"font-style: italic\">anatomy\\</span><span style=\"font-weight: bold; font-style: italic\">)</span><span style=\"font-style: italic\">, tail, teeth, text, wings, by harnny, european mythology, mythology, </span>\n",
       "<span style=\"font-style: italic\">auroth the winter wyvern, dragon, mythological creature, mythological scalie, scalie, western dragon, wyvern, </span>\n",
       "<span style=\"font-style: italic\">signature, url</span>\n",
       "</pre>\n"
      ],
      "text/plain": [
       "Writing tags: \u001b[3manthro, areola, big breasts, blue body, blue eyes, breasts, female, grey areola, grey nipples, hair, \u001b[0m\n",
       "\u001b[3mhand behind head, huge breasts, membrane \\\u001b[0m\u001b[1;3m(\u001b[0m\u001b[3manatomy\\\u001b[0m\u001b[1;3m)\u001b[0m\u001b[3m, membranous wings, nipples, presenting, sitting, slightly \u001b[0m\n",
       "\u001b[3mchubby, solo, spikes, spikes \\\u001b[0m\u001b[1;3m(\u001b[0m\u001b[3manatomy\\\u001b[0m\u001b[1;3m)\u001b[0m\u001b[3m, tail, teeth, text, wings, by harnny, european mythology, mythology, \u001b[0m\n",
       "\u001b[3mauroth the winter wyvern, dragon, mythological creature, mythological scalie, scalie, western dragon, wyvern, \u001b[0m\n",
       "\u001b[3msignature, url\u001b[0m\n"
      ]
     },
     "metadata": {},
     "output_type": "display_data"
    },
    {
     "data": {
      "text/html": [
       "<pre style=\"white-space:pre;overflow-x:auto;line-height:normal;font-family:Menlo,'DejaVu Sans Mono',consolas,'Courier New',monospace\">Processing file: <span style=\"font-weight: bold\">C:\\Users\\kade\\Desktop\\training_dir_staging\\1_auroth_the_winter_wyvern\\</span><span style=\"color: #008080; text-decoration-color: #008080; font-weight: bold\">3135286.j</span><span style=\"font-weight: bold\">son</span>\n",
       "</pre>\n"
      ],
      "text/plain": [
       "Processing file: \u001b[1mC:\\Users\\kade\\Desktop\\training_dir_staging\\1_auroth_the_winter_wyvern\\\u001b[0m\u001b[1;36m3135286.j\u001b[0m\u001b[1mson\u001b[0m\n"
      ]
     },
     "metadata": {},
     "output_type": "display_data"
    },
    {
     "data": {
      "text/html": [
       "<pre style=\"white-space:pre;overflow-x:auto;line-height:normal;font-family:Menlo,'DejaVu Sans Mono',consolas,'Courier New',monospace\">Creating caption file: \n",
       "<span style=\"font-weight: bold\">C:\\Users\\kade\\Desktop\\training_dir_staging\\1_auroth_the_winter_wyvern\\17d8ab1ae41a3cb492375e020f74db0d.txt</span>\n",
       "</pre>\n"
      ],
      "text/plain": [
       "Creating caption file: \n",
       "\u001b[1mC:\\Users\\kade\\Desktop\\training_dir_staging\\1_auroth_the_winter_wyvern\\17d8ab1ae41a3cb492375e020f74db0d.txt\u001b[0m\n"
      ]
     },
     "metadata": {},
     "output_type": "display_data"
    },
    {
     "data": {
      "text/html": [
       "<pre style=\"white-space:pre;overflow-x:auto;line-height:normal;font-family:Menlo,'DejaVu Sans Mono',consolas,'Courier New',monospace\">Writing tags: <span style=\"font-style: italic\">anus, blue sclera, bodily fluids, claws, curling toes, dialogue, feet, female, feral, genital fluids,</span>\n",
       "<span style=\"font-style: italic\">genitals, hair, looking at viewer, lying, on back, presenting, presenting pussy, pussy, simple background, solo, </span>\n",
       "<span style=\"font-style: italic\">tail, talking feral, text, thick thighs, vaginal fluids, by darkenstardragon, european mythology, mythology, auroth</span>\n",
       "<span style=\"font-style: italic\">the winter wyvern, dragon, mythological creature, mythological scalie, scalie, western dragon, wyvern, english text</span>\n",
       "</pre>\n"
      ],
      "text/plain": [
       "Writing tags: \u001b[3manus, blue sclera, bodily fluids, claws, curling toes, dialogue, feet, female, feral, genital fluids,\u001b[0m\n",
       "\u001b[3mgenitals, hair, looking at viewer, lying, on back, presenting, presenting pussy, pussy, simple background, solo, \u001b[0m\n",
       "\u001b[3mtail, talking feral, text, thick thighs, vaginal fluids, by darkenstardragon, european mythology, mythology, auroth\u001b[0m\n",
       "\u001b[3mthe winter wyvern, dragon, mythological creature, mythological scalie, scalie, western dragon, wyvern, english text\u001b[0m\n"
      ]
     },
     "metadata": {},
     "output_type": "display_data"
    },
    {
     "data": {
      "text/html": [
       "<pre style=\"white-space:pre;overflow-x:auto;line-height:normal;font-family:Menlo,'DejaVu Sans Mono',consolas,'Courier New',monospace\">Processing file: <span style=\"font-weight: bold\">C:\\Users\\kade\\Desktop\\training_dir_staging\\1_auroth_the_winter_wyvern\\</span><span style=\"color: #008080; text-decoration-color: #008080; font-weight: bold\">3171297.j</span><span style=\"font-weight: bold\">son</span>\n",
       "</pre>\n"
      ],
      "text/plain": [
       "Processing file: \u001b[1mC:\\Users\\kade\\Desktop\\training_dir_staging\\1_auroth_the_winter_wyvern\\\u001b[0m\u001b[1;36m3171297.j\u001b[0m\u001b[1mson\u001b[0m\n"
      ]
     },
     "metadata": {},
     "output_type": "display_data"
    },
    {
     "data": {
      "text/html": [
       "<pre style=\"white-space:pre;overflow-x:auto;line-height:normal;font-family:Menlo,'DejaVu Sans Mono',consolas,'Courier New',monospace\">Creating caption file: \n",
       "<span style=\"font-weight: bold\">C:\\Users\\kade\\Desktop\\training_dir_staging\\1_auroth_the_winter_wyvern\\cf8c44e7f3eabb3e6098b5774575a5cc.txt</span>\n",
       "</pre>\n"
      ],
      "text/plain": [
       "Creating caption file: \n",
       "\u001b[1mC:\\Users\\kade\\Desktop\\training_dir_staging\\1_auroth_the_winter_wyvern\\cf8c44e7f3eabb3e6098b5774575a5cc.txt\u001b[0m\n"
      ]
     },
     "metadata": {},
     "output_type": "display_data"
    },
    {
     "data": {
      "text/html": [
       "<pre style=\"white-space:pre;overflow-x:auto;line-height:normal;font-family:Menlo,'DejaVu Sans Mono',consolas,'Courier New',monospace\">Writing tags: <span style=\"font-style: italic\">anthro, areola, big breasts, blue areola, blue nipples, book, breasts, claws, female, fingers, </span>\n",
       "<span style=\"font-style: italic\">holding book, holding object, huge breasts, looking at viewer, nipples, non-mammal breasts, nude, pillow, pupils, </span>\n",
       "<span style=\"font-style: italic\">slit pupils, solo, tail, toe claws, wings, by conditional dnp, by suirano, european mythology, mythology, auroth </span>\n",
       "<span style=\"font-style: italic\">the winter wyvern, dragon, mythological creature, mythological scalie, scalie, western dragon, wyvern, digital </span>\n",
       "<span style=\"font-style: italic\">media \\</span><span style=\"font-weight: bold; font-style: italic\">(</span><span style=\"font-style: italic\">artwork\\</span><span style=\"font-weight: bold; font-style: italic\">)</span>\n",
       "</pre>\n"
      ],
      "text/plain": [
       "Writing tags: \u001b[3manthro, areola, big breasts, blue areola, blue nipples, book, breasts, claws, female, fingers, \u001b[0m\n",
       "\u001b[3mholding book, holding object, huge breasts, looking at viewer, nipples, non-mammal breasts, nude, pillow, pupils, \u001b[0m\n",
       "\u001b[3mslit pupils, solo, tail, toe claws, wings, by conditional dnp, by suirano, european mythology, mythology, auroth \u001b[0m\n",
       "\u001b[3mthe winter wyvern, dragon, mythological creature, mythological scalie, scalie, western dragon, wyvern, digital \u001b[0m\n",
       "\u001b[3mmedia \\\u001b[0m\u001b[1;3m(\u001b[0m\u001b[3martwork\\\u001b[0m\u001b[1;3m)\u001b[0m\n"
      ]
     },
     "metadata": {},
     "output_type": "display_data"
    },
    {
     "data": {
      "text/html": [
       "<pre style=\"white-space:pre;overflow-x:auto;line-height:normal;font-family:Menlo,'DejaVu Sans Mono',consolas,'Courier New',monospace\">Processing file: <span style=\"font-weight: bold\">C:\\Users\\kade\\Desktop\\training_dir_staging\\1_auroth_the_winter_wyvern\\</span><span style=\"color: #008080; text-decoration-color: #008080; font-weight: bold\">3282212.j</span><span style=\"font-weight: bold\">son</span>\n",
       "</pre>\n"
      ],
      "text/plain": [
       "Processing file: \u001b[1mC:\\Users\\kade\\Desktop\\training_dir_staging\\1_auroth_the_winter_wyvern\\\u001b[0m\u001b[1;36m3282212.j\u001b[0m\u001b[1mson\u001b[0m\n"
      ]
     },
     "metadata": {},
     "output_type": "display_data"
    },
    {
     "data": {
      "text/html": [
       "<pre style=\"white-space:pre;overflow-x:auto;line-height:normal;font-family:Menlo,'DejaVu Sans Mono',consolas,'Courier New',monospace\">Creating caption file: \n",
       "<span style=\"font-weight: bold\">C:\\Users\\kade\\Desktop\\training_dir_staging\\1_auroth_the_winter_wyvern\\9e1877904f0852785e2dfd0e71e35c9a.txt</span>\n",
       "</pre>\n"
      ],
      "text/plain": [
       "Creating caption file: \n",
       "\u001b[1mC:\\Users\\kade\\Desktop\\training_dir_staging\\1_auroth_the_winter_wyvern\\9e1877904f0852785e2dfd0e71e35c9a.txt\u001b[0m\n"
      ]
     },
     "metadata": {},
     "output_type": "display_data"
    },
    {
     "data": {
      "text/html": [
       "<pre style=\"white-space:pre;overflow-x:auto;line-height:normal;font-family:Menlo,'DejaVu Sans Mono',consolas,'Courier New',monospace\">Writing tags: <span style=\"font-style: italic\">anthro, blush, breasts, claws, female, genitals, horn, nipples, nude, pussy, scales, solo, tail, </span>\n",
       "<span style=\"font-style: italic\">teeth, by fraydragon, european mythology, mythology, auroth \\</span><span style=\"font-weight: bold; font-style: italic\">(</span><span style=\"font-style: italic\">bigboy980\\</span><span style=\"font-weight: bold; font-style: italic\">)</span><span style=\"font-style: italic\">, auroth the winter wyvern, fan character,</span>\n",
       "<span style=\"font-style: italic\">dragon, mythological creature, mythological scalie, scalie, western dragon, wyvern</span>\n",
       "</pre>\n"
      ],
      "text/plain": [
       "Writing tags: \u001b[3manthro, blush, breasts, claws, female, genitals, horn, nipples, nude, pussy, scales, solo, tail, \u001b[0m\n",
       "\u001b[3mteeth, by fraydragon, european mythology, mythology, auroth \\\u001b[0m\u001b[1;3m(\u001b[0m\u001b[3mbigboy980\\\u001b[0m\u001b[1;3m)\u001b[0m\u001b[3m, auroth the winter wyvern, fan character,\u001b[0m\n",
       "\u001b[3mdragon, mythological creature, mythological scalie, scalie, western dragon, wyvern\u001b[0m\n"
      ]
     },
     "metadata": {},
     "output_type": "display_data"
    },
    {
     "data": {
      "text/html": [
       "<pre style=\"white-space:pre;overflow-x:auto;line-height:normal;font-family:Menlo,'DejaVu Sans Mono',consolas,'Courier New',monospace\">Processing file: <span style=\"font-weight: bold\">C:\\Users\\kade\\Desktop\\training_dir_staging\\1_auroth_the_winter_wyvern\\</span><span style=\"color: #008080; text-decoration-color: #008080; font-weight: bold\">3528770.j</span><span style=\"font-weight: bold\">son</span>\n",
       "</pre>\n"
      ],
      "text/plain": [
       "Processing file: \u001b[1mC:\\Users\\kade\\Desktop\\training_dir_staging\\1_auroth_the_winter_wyvern\\\u001b[0m\u001b[1;36m3528770.j\u001b[0m\u001b[1mson\u001b[0m\n"
      ]
     },
     "metadata": {},
     "output_type": "display_data"
    },
    {
     "data": {
      "text/html": [
       "<pre style=\"white-space:pre;overflow-x:auto;line-height:normal;font-family:Menlo,'DejaVu Sans Mono',consolas,'Courier New',monospace\">Creating caption file: \n",
       "<span style=\"font-weight: bold\">C:\\Users\\kade\\Desktop\\training_dir_staging\\1_auroth_the_winter_wyvern\\b11b4cd4d2e8b36ce24ec39aad8754fc.txt</span>\n",
       "</pre>\n"
      ],
      "text/plain": [
       "Creating caption file: \n",
       "\u001b[1mC:\\Users\\kade\\Desktop\\training_dir_staging\\1_auroth_the_winter_wyvern\\b11b4cd4d2e8b36ce24ec39aad8754fc.txt\u001b[0m\n"
      ]
     },
     "metadata": {},
     "output_type": "display_data"
    },
    {
     "data": {
      "text/html": [
       "<pre style=\"white-space:pre;overflow-x:auto;line-height:normal;font-family:Menlo,'DejaVu Sans Mono',consolas,'Courier New',monospace\">Writing tags: <span style=\"font-style: italic\">anus, belly, big anus, big belly, big butt, blue anus, blue claws, butt, claws, egg, female, feral, </span>\n",
       "<span style=\"font-style: italic\">front view, genitals, ice, lying, on back, open mouth, overweight, overweight female, paws, pregnant, presenting, </span>\n",
       "<span style=\"font-style: italic\">presenting anus, presenting pussy, puffy anus, pussy, solo, spread legs, spreading, steam, tail, thick tail, </span>\n",
       "<span style=\"font-style: italic\">tongue, wet, wide hips, winter, by nat </span><span style=\"color: #008080; text-decoration-color: #008080; font-weight: bold; font-style: italic\">127</span><span style=\"font-style: italic\">, european mythology, mythology, auroth the winter wyvern, dragon, </span>\n",
       "<span style=\"font-style: italic\">mythological creature, mythological scalie, scalie, western dragon, wyvern</span>\n",
       "</pre>\n"
      ],
      "text/plain": [
       "Writing tags: \u001b[3manus, belly, big anus, big belly, big butt, blue anus, blue claws, butt, claws, egg, female, feral, \u001b[0m\n",
       "\u001b[3mfront view, genitals, ice, lying, on back, open mouth, overweight, overweight female, paws, pregnant, presenting, \u001b[0m\n",
       "\u001b[3mpresenting anus, presenting pussy, puffy anus, pussy, solo, spread legs, spreading, steam, tail, thick tail, \u001b[0m\n",
       "\u001b[3mtongue, wet, wide hips, winter, by nat \u001b[0m\u001b[1;3;36m127\u001b[0m\u001b[3m, european mythology, mythology, auroth the winter wyvern, dragon, \u001b[0m\n",
       "\u001b[3mmythological creature, mythological scalie, scalie, western dragon, wyvern\u001b[0m\n"
      ]
     },
     "metadata": {},
     "output_type": "display_data"
    },
    {
     "data": {
      "text/html": [
       "<pre style=\"white-space:pre;overflow-x:auto;line-height:normal;font-family:Menlo,'DejaVu Sans Mono',consolas,'Courier New',monospace\">Processing file: <span style=\"font-weight: bold\">C:\\Users\\kade\\Desktop\\training_dir_staging\\1_auroth_the_winter_wyvern\\</span><span style=\"color: #008080; text-decoration-color: #008080; font-weight: bold\">3559641.j</span><span style=\"font-weight: bold\">son</span>\n",
       "</pre>\n"
      ],
      "text/plain": [
       "Processing file: \u001b[1mC:\\Users\\kade\\Desktop\\training_dir_staging\\1_auroth_the_winter_wyvern\\\u001b[0m\u001b[1;36m3559641.j\u001b[0m\u001b[1mson\u001b[0m\n"
      ]
     },
     "metadata": {},
     "output_type": "display_data"
    },
    {
     "data": {
      "text/html": [
       "<pre style=\"white-space:pre;overflow-x:auto;line-height:normal;font-family:Menlo,'DejaVu Sans Mono',consolas,'Courier New',monospace\">Creating caption file: \n",
       "<span style=\"font-weight: bold\">C:\\Users\\kade\\Desktop\\training_dir_staging\\1_auroth_the_winter_wyvern\\7251129092ffb3e11e522836e62f47df.txt</span>\n",
       "</pre>\n"
      ],
      "text/plain": [
       "Creating caption file: \n",
       "\u001b[1mC:\\Users\\kade\\Desktop\\training_dir_staging\\1_auroth_the_winter_wyvern\\7251129092ffb3e11e522836e62f47df.txt\u001b[0m\n"
      ]
     },
     "metadata": {},
     "output_type": "display_data"
    },
    {
     "data": {
      "text/html": [
       "<pre style=\"white-space:pre;overflow-x:auto;line-height:normal;font-family:Menlo,'DejaVu Sans Mono',consolas,'Courier New',monospace\">Writing tags: <span style=\"font-style: italic\">anthro, areola, big breasts, blue areola, blue nipples, bodily fluids, breasts, claws, fangs, female,</span>\n",
       "<span style=\"font-style: italic\">fingers, genital fluids, genitals, huge breasts, looking at viewer, mature female, membrane \\</span><span style=\"font-weight: bold; font-style: italic\">(</span><span style=\"font-style: italic\">anatomy\\</span><span style=\"font-weight: bold; font-style: italic\">)</span><span style=\"font-style: italic\">, membranous</span>\n",
       "<span style=\"font-style: italic\">wings, nipples, non-mammal breasts, nude, open mouth, open smile, pupils, pussy, simple background, slightly </span>\n",
       "<span style=\"font-style: italic\">chubby, slightly chubby anthro, slightly chubby female, slit pupils, smile, solo, tail, teeth, thick thighs, toe </span>\n",
       "<span style=\"font-style: italic\">claws, tongue, tongue out, vaginal fluids, wide hips, wings, by tolerain, european mythology, mythology, auroth the</span>\n",
       "<span style=\"font-style: italic\">winter wyvern, dragon, mythological creature, mythological scalie, scalie, western dragon, wyvern</span>\n",
       "</pre>\n"
      ],
      "text/plain": [
       "Writing tags: \u001b[3manthro, areola, big breasts, blue areola, blue nipples, bodily fluids, breasts, claws, fangs, female,\u001b[0m\n",
       "\u001b[3mfingers, genital fluids, genitals, huge breasts, looking at viewer, mature female, membrane \\\u001b[0m\u001b[1;3m(\u001b[0m\u001b[3manatomy\\\u001b[0m\u001b[1;3m)\u001b[0m\u001b[3m, membranous\u001b[0m\n",
       "\u001b[3mwings, nipples, non-mammal breasts, nude, open mouth, open smile, pupils, pussy, simple background, slightly \u001b[0m\n",
       "\u001b[3mchubby, slightly chubby anthro, slightly chubby female, slit pupils, smile, solo, tail, teeth, thick thighs, toe \u001b[0m\n",
       "\u001b[3mclaws, tongue, tongue out, vaginal fluids, wide hips, wings, by tolerain, european mythology, mythology, auroth the\u001b[0m\n",
       "\u001b[3mwinter wyvern, dragon, mythological creature, mythological scalie, scalie, western dragon, wyvern\u001b[0m\n"
      ]
     },
     "metadata": {},
     "output_type": "display_data"
    },
    {
     "data": {
      "text/html": [
       "<pre style=\"white-space:pre;overflow-x:auto;line-height:normal;font-family:Menlo,'DejaVu Sans Mono',consolas,'Courier New',monospace\">Processing file: <span style=\"font-weight: bold\">C:\\Users\\kade\\Desktop\\training_dir_staging\\1_auroth_the_winter_wyvern\\</span><span style=\"color: #008080; text-decoration-color: #008080; font-weight: bold\">3600840.j</span><span style=\"font-weight: bold\">son</span>\n",
       "</pre>\n"
      ],
      "text/plain": [
       "Processing file: \u001b[1mC:\\Users\\kade\\Desktop\\training_dir_staging\\1_auroth_the_winter_wyvern\\\u001b[0m\u001b[1;36m3600840.j\u001b[0m\u001b[1mson\u001b[0m\n"
      ]
     },
     "metadata": {},
     "output_type": "display_data"
    },
    {
     "data": {
      "text/html": [
       "<pre style=\"white-space:pre;overflow-x:auto;line-height:normal;font-family:Menlo,'DejaVu Sans Mono',consolas,'Courier New',monospace\">Creating caption file: \n",
       "<span style=\"font-weight: bold\">C:\\Users\\kade\\Desktop\\training_dir_staging\\1_auroth_the_winter_wyvern\\f6bf346761b968f9fad4948384782f27.txt</span>\n",
       "</pre>\n"
      ],
      "text/plain": [
       "Creating caption file: \n",
       "\u001b[1mC:\\Users\\kade\\Desktop\\training_dir_staging\\1_auroth_the_winter_wyvern\\f6bf346761b968f9fad4948384782f27.txt\u001b[0m\n"
      ]
     },
     "metadata": {},
     "output_type": "display_data"
    },
    {
     "data": {
      "text/html": [
       "<pre style=\"white-space:pre;overflow-x:auto;line-height:normal;font-family:Menlo,'DejaVu Sans Mono',consolas,'Courier New',monospace\">Writing tags: <span style=\"color: #008080; text-decoration-color: #008080; font-weight: bold; font-style: italic\">3</span><span style=\"font-style: italic\"> claws, </span><span style=\"color: #008080; text-decoration-color: #008080; font-weight: bold; font-style: italic\">3</span><span style=\"font-style: italic\"> toes, </span><span style=\"color: #008080; text-decoration-color: #008080; font-weight: bold; font-style: italic\">4</span><span style=\"font-style: italic\"> fingers, anthro, anus, areola, barefoot, big breasts, blue areola, blue body, blue</span>\n",
       "<span style=\"font-style: italic\">nipples, blue pussy, blue scales, bodily fluids, breast squish, breasts, claws, clitoris, crown, dialogue, feet, </span>\n",
       "<span style=\"font-style: italic\">female, fingers, fluffy paws, gaping, gaping pussy, genital fluids, genitals, glowing, glowing body, glowing eyes, </span>\n",
       "<span style=\"font-style: italic\">glowing teeth, hair, hand on breast, headgear, holding breast, ice, inviting, inviting to sex, lying, nipples, </span>\n",
       "<span style=\"font-style: italic\">non-mammal breasts, non-mammal nipples, nude, outline, painted sketch, presenting, presenting breasts, presenting </span>\n",
       "<span style=\"font-style: italic\">pussy, pussy, scales, semi-anthro, simple background, solo, speech bubble, spread legs, spread pussy, spreading, </span>\n",
       "<span style=\"font-style: italic\">squish, tail, teeth, text, thick tail, toes, wings, by ultrahyper, european mythology, mythology, auroth the winter</span>\n",
       "<span style=\"font-style: italic\">wyvern, dragon, mythological creature, mythological scalie, scalie, western dragon, wyvern, colored sketch, digital</span>\n",
       "<span style=\"font-style: italic\">media \\</span><span style=\"font-weight: bold; font-style: italic\">(</span><span style=\"font-style: italic\">artwork\\</span><span style=\"font-weight: bold; font-style: italic\">)</span><span style=\"font-style: italic\">, sketch</span>\n",
       "</pre>\n"
      ],
      "text/plain": [
       "Writing tags: \u001b[1;3;36m3\u001b[0m\u001b[3m claws, \u001b[0m\u001b[1;3;36m3\u001b[0m\u001b[3m toes, \u001b[0m\u001b[1;3;36m4\u001b[0m\u001b[3m fingers, anthro, anus, areola, barefoot, big breasts, blue areola, blue body, blue\u001b[0m\n",
       "\u001b[3mnipples, blue pussy, blue scales, bodily fluids, breast squish, breasts, claws, clitoris, crown, dialogue, feet, \u001b[0m\n",
       "\u001b[3mfemale, fingers, fluffy paws, gaping, gaping pussy, genital fluids, genitals, glowing, glowing body, glowing eyes, \u001b[0m\n",
       "\u001b[3mglowing teeth, hair, hand on breast, headgear, holding breast, ice, inviting, inviting to sex, lying, nipples, \u001b[0m\n",
       "\u001b[3mnon-mammal breasts, non-mammal nipples, nude, outline, painted sketch, presenting, presenting breasts, presenting \u001b[0m\n",
       "\u001b[3mpussy, pussy, scales, semi-anthro, simple background, solo, speech bubble, spread legs, spread pussy, spreading, \u001b[0m\n",
       "\u001b[3msquish, tail, teeth, text, thick tail, toes, wings, by ultrahyper, european mythology, mythology, auroth the winter\u001b[0m\n",
       "\u001b[3mwyvern, dragon, mythological creature, mythological scalie, scalie, western dragon, wyvern, colored sketch, digital\u001b[0m\n",
       "\u001b[3mmedia \\\u001b[0m\u001b[1;3m(\u001b[0m\u001b[3martwork\\\u001b[0m\u001b[1;3m)\u001b[0m\u001b[3m, sketch\u001b[0m\n"
      ]
     },
     "metadata": {},
     "output_type": "display_data"
    },
    {
     "data": {
      "text/html": [
       "<pre style=\"white-space:pre;overflow-x:auto;line-height:normal;font-family:Menlo,'DejaVu Sans Mono',consolas,'Courier New',monospace\">Processing file: <span style=\"font-weight: bold\">C:\\Users\\kade\\Desktop\\training_dir_staging\\1_auroth_the_winter_wyvern\\</span><span style=\"color: #008080; text-decoration-color: #008080; font-weight: bold\">3615008.j</span><span style=\"font-weight: bold\">son</span>\n",
       "</pre>\n"
      ],
      "text/plain": [
       "Processing file: \u001b[1mC:\\Users\\kade\\Desktop\\training_dir_staging\\1_auroth_the_winter_wyvern\\\u001b[0m\u001b[1;36m3615008.j\u001b[0m\u001b[1mson\u001b[0m\n"
      ]
     },
     "metadata": {},
     "output_type": "display_data"
    },
    {
     "data": {
      "text/html": [
       "<pre style=\"white-space:pre;overflow-x:auto;line-height:normal;font-family:Menlo,'DejaVu Sans Mono',consolas,'Courier New',monospace\">Creating caption file: \n",
       "<span style=\"font-weight: bold\">C:\\Users\\kade\\Desktop\\training_dir_staging\\1_auroth_the_winter_wyvern\\b04947fe35dbb0a7a7f72838ee035388.txt</span>\n",
       "</pre>\n"
      ],
      "text/plain": [
       "Creating caption file: \n",
       "\u001b[1mC:\\Users\\kade\\Desktop\\training_dir_staging\\1_auroth_the_winter_wyvern\\b04947fe35dbb0a7a7f72838ee035388.txt\u001b[0m\n"
      ]
     },
     "metadata": {},
     "output_type": "display_data"
    },
    {
     "data": {
      "text/html": [
       "<pre style=\"white-space:pre;overflow-x:auto;line-height:normal;font-family:Menlo,'DejaVu Sans Mono',consolas,'Courier New',monospace\">Writing tags: <span style=\"font-style: italic\">blue teeth, blue tongue, bodily fluids, close-up, drooling, female, feral, mouth shot, open mouth, </span>\n",
       "<span style=\"font-style: italic\">saliva, saliva string, scales, simple background, solo, teeth, tongue, by vorekingdom, european mythology, </span>\n",
       "<span style=\"font-style: italic\">mythology, auroth the winter wyvern, dragon, mythological creature, mythological scalie, scalie, western dragon, </span>\n",
       "<span style=\"font-style: italic\">wyvern, digital media \\</span><span style=\"font-weight: bold; font-style: italic\">(</span><span style=\"font-style: italic\">artwork\\</span><span style=\"font-weight: bold; font-style: italic\">)</span>\n",
       "</pre>\n"
      ],
      "text/plain": [
       "Writing tags: \u001b[3mblue teeth, blue tongue, bodily fluids, close-up, drooling, female, feral, mouth shot, open mouth, \u001b[0m\n",
       "\u001b[3msaliva, saliva string, scales, simple background, solo, teeth, tongue, by vorekingdom, european mythology, \u001b[0m\n",
       "\u001b[3mmythology, auroth the winter wyvern, dragon, mythological creature, mythological scalie, scalie, western dragon, \u001b[0m\n",
       "\u001b[3mwyvern, digital media \\\u001b[0m\u001b[1;3m(\u001b[0m\u001b[3martwork\\\u001b[0m\u001b[1;3m)\u001b[0m\n"
      ]
     },
     "metadata": {},
     "output_type": "display_data"
    },
    {
     "data": {
      "text/html": [
       "<pre style=\"white-space:pre;overflow-x:auto;line-height:normal;font-family:Menlo,'DejaVu Sans Mono',consolas,'Courier New',monospace\">Processing file: <span style=\"font-weight: bold\">C:\\Users\\kade\\Desktop\\training_dir_staging\\1_auroth_the_winter_wyvern\\</span><span style=\"color: #008080; text-decoration-color: #008080; font-weight: bold\">3653196.j</span><span style=\"font-weight: bold\">son</span>\n",
       "</pre>\n"
      ],
      "text/plain": [
       "Processing file: \u001b[1mC:\\Users\\kade\\Desktop\\training_dir_staging\\1_auroth_the_winter_wyvern\\\u001b[0m\u001b[1;36m3653196.j\u001b[0m\u001b[1mson\u001b[0m\n"
      ]
     },
     "metadata": {},
     "output_type": "display_data"
    },
    {
     "data": {
      "text/html": [
       "<pre style=\"white-space:pre;overflow-x:auto;line-height:normal;font-family:Menlo,'DejaVu Sans Mono',consolas,'Courier New',monospace\">Creating caption file: \n",
       "<span style=\"font-weight: bold\">C:\\Users\\kade\\Desktop\\training_dir_staging\\1_auroth_the_winter_wyvern\\81d8ccccab027982f3ab77051242fe93.txt</span>\n",
       "</pre>\n"
      ],
      "text/plain": [
       "Creating caption file: \n",
       "\u001b[1mC:\\Users\\kade\\Desktop\\training_dir_staging\\1_auroth_the_winter_wyvern\\81d8ccccab027982f3ab77051242fe93.txt\u001b[0m\n"
      ]
     },
     "metadata": {},
     "output_type": "display_data"
    },
    {
     "data": {
      "text/html": [
       "<pre style=\"white-space:pre;overflow-x:auto;line-height:normal;font-family:Menlo,'DejaVu Sans Mono',consolas,'Courier New',monospace\">Writing tags: <span style=\"color: #008080; text-decoration-color: #008080; font-weight: bold; font-style: italic\">3</span><span style=\"font-style: italic\"> claws, </span><span style=\"color: #008080; text-decoration-color: #008080; font-weight: bold; font-style: italic\">3</span><span style=\"font-style: italic\"> toes, </span><span style=\"color: #008080; text-decoration-color: #008080; font-weight: bold; font-style: italic\">4</span><span style=\"font-style: italic\"> fingers, anthro, anus, areola, barefoot, bedroom, bedroom eyes, blue anus, blue </span>\n",
       "<span style=\"font-style: italic\">areola, blue body, blue nipples, blue outline, blue pussy, blue scales, bodily fluids, breasts, claws, crown, feet,</span>\n",
       "<span style=\"font-style: italic\">female, fingers, fluffy paws, gaping, gaping pussy, genital fluids, genitals, glowing, glowing body, glowing eyes, </span>\n",
       "<span style=\"font-style: italic\">hair, headgear, ice, inviting, licking, licking lips, membrane \\</span><span style=\"font-weight: bold; font-style: italic\">(</span><span style=\"font-style: italic\">anatomy\\</span><span style=\"font-weight: bold; font-style: italic\">)</span><span style=\"font-style: italic\">, membranous wings, narrowed eyes, </span>\n",
       "<span style=\"font-style: italic\">nipples, non-mammal breasts, non-mammal nipples, nude, outline, painted sketch, pillow, presenting, presenting </span>\n",
       "<span style=\"font-style: italic\">pussy, pussy, scales, seductive, simple background, solo, spikes, spikes \\</span><span style=\"font-weight: bold; font-style: italic\">(</span><span style=\"font-style: italic\">anatomy\\</span><span style=\"font-weight: bold; font-style: italic\">)</span><span style=\"font-style: italic\">, tail, toes, tongue, tongue </span>\n",
       "<span style=\"font-style: italic\">out, vaginal fluids, wings, by tikiro, european mythology, mythology, auroth the winter wyvern, dragon, </span>\n",
       "<span style=\"font-style: italic\">mythological creature, mythological scalie, scalie, western dragon, wyvern, colored sketch, digital media </span>\n",
       "<span style=\"font-style: italic\">\\</span><span style=\"font-weight: bold; font-style: italic\">(</span><span style=\"font-style: italic\">artwork\\</span><span style=\"font-weight: bold; font-style: italic\">)</span><span style=\"font-style: italic\">, digital painting \\</span><span style=\"font-weight: bold; font-style: italic\">(</span><span style=\"font-style: italic\">artwork\\</span><span style=\"font-weight: bold; font-style: italic\">)</span><span style=\"font-style: italic\">, sketch</span>\n",
       "</pre>\n"
      ],
      "text/plain": [
       "Writing tags: \u001b[1;3;36m3\u001b[0m\u001b[3m claws, \u001b[0m\u001b[1;3;36m3\u001b[0m\u001b[3m toes, \u001b[0m\u001b[1;3;36m4\u001b[0m\u001b[3m fingers, anthro, anus, areola, barefoot, bedroom, bedroom eyes, blue anus, blue \u001b[0m\n",
       "\u001b[3mareola, blue body, blue nipples, blue outline, blue pussy, blue scales, bodily fluids, breasts, claws, crown, feet,\u001b[0m\n",
       "\u001b[3mfemale, fingers, fluffy paws, gaping, gaping pussy, genital fluids, genitals, glowing, glowing body, glowing eyes, \u001b[0m\n",
       "\u001b[3mhair, headgear, ice, inviting, licking, licking lips, membrane \\\u001b[0m\u001b[1;3m(\u001b[0m\u001b[3manatomy\\\u001b[0m\u001b[1;3m)\u001b[0m\u001b[3m, membranous wings, narrowed eyes, \u001b[0m\n",
       "\u001b[3mnipples, non-mammal breasts, non-mammal nipples, nude, outline, painted sketch, pillow, presenting, presenting \u001b[0m\n",
       "\u001b[3mpussy, pussy, scales, seductive, simple background, solo, spikes, spikes \\\u001b[0m\u001b[1;3m(\u001b[0m\u001b[3manatomy\\\u001b[0m\u001b[1;3m)\u001b[0m\u001b[3m, tail, toes, tongue, tongue \u001b[0m\n",
       "\u001b[3mout, vaginal fluids, wings, by tikiro, european mythology, mythology, auroth the winter wyvern, dragon, \u001b[0m\n",
       "\u001b[3mmythological creature, mythological scalie, scalie, western dragon, wyvern, colored sketch, digital media \u001b[0m\n",
       "\u001b[3m\\\u001b[0m\u001b[1;3m(\u001b[0m\u001b[3martwork\\\u001b[0m\u001b[1;3m)\u001b[0m\u001b[3m, digital painting \\\u001b[0m\u001b[1;3m(\u001b[0m\u001b[3martwork\\\u001b[0m\u001b[1;3m)\u001b[0m\u001b[3m, sketch\u001b[0m\n"
      ]
     },
     "metadata": {},
     "output_type": "display_data"
    },
    {
     "data": {
      "text/html": [
       "<pre style=\"white-space:pre;overflow-x:auto;line-height:normal;font-family:Menlo,'DejaVu Sans Mono',consolas,'Courier New',monospace\">Processing file: <span style=\"font-weight: bold\">C:\\Users\\kade\\Desktop\\training_dir_staging\\1_auroth_the_winter_wyvern\\</span><span style=\"color: #008080; text-decoration-color: #008080; font-weight: bold\">3741680.j</span><span style=\"font-weight: bold\">son</span>\n",
       "</pre>\n"
      ],
      "text/plain": [
       "Processing file: \u001b[1mC:\\Users\\kade\\Desktop\\training_dir_staging\\1_auroth_the_winter_wyvern\\\u001b[0m\u001b[1;36m3741680.j\u001b[0m\u001b[1mson\u001b[0m\n"
      ]
     },
     "metadata": {},
     "output_type": "display_data"
    },
    {
     "data": {
      "text/html": [
       "<pre style=\"white-space:pre;overflow-x:auto;line-height:normal;font-family:Menlo,'DejaVu Sans Mono',consolas,'Courier New',monospace\">Creating caption file: \n",
       "<span style=\"font-weight: bold\">C:\\Users\\kade\\Desktop\\training_dir_staging\\1_auroth_the_winter_wyvern\\5d262a76eb98a1b5ec6662d53e7a0abd.txt</span>\n",
       "</pre>\n"
      ],
      "text/plain": [
       "Creating caption file: \n",
       "\u001b[1mC:\\Users\\kade\\Desktop\\training_dir_staging\\1_auroth_the_winter_wyvern\\5d262a76eb98a1b5ec6662d53e7a0abd.txt\u001b[0m\n"
      ]
     },
     "metadata": {},
     "output_type": "display_data"
    },
    {
     "data": {
      "text/html": [
       "<pre style=\"white-space:pre;overflow-x:auto;line-height:normal;font-family:Menlo,'DejaVu Sans Mono',consolas,'Courier New',monospace\">Writing tags: <span style=\"font-style: italic\">balls, big balls, big penis, dialogue, feral, genitals, huge balls, huge penis, hyper, male, penis, </span>\n",
       "<span style=\"font-style: italic\">solo, text, wings, by barnikan, european mythology, mythology, auroth the winter wyvern, dragon, mythological </span>\n",
       "<span style=\"font-style: italic\">creature, mythological scalie, scalie, western dragon, wyvern, english text, herm \\</span><span style=\"font-weight: bold; font-style: italic\">(</span><span style=\"font-style: italic\">lore\\</span><span style=\"font-weight: bold; font-style: italic\">)</span><span style=\"font-style: italic\">, intersex \\</span><span style=\"font-weight: bold; font-style: italic\">(</span><span style=\"font-style: italic\">lore\\</span><span style=\"font-weight: bold; font-style: italic\">)</span>\n",
       "</pre>\n"
      ],
      "text/plain": [
       "Writing tags: \u001b[3mballs, big balls, big penis, dialogue, feral, genitals, huge balls, huge penis, hyper, male, penis, \u001b[0m\n",
       "\u001b[3msolo, text, wings, by barnikan, european mythology, mythology, auroth the winter wyvern, dragon, mythological \u001b[0m\n",
       "\u001b[3mcreature, mythological scalie, scalie, western dragon, wyvern, english text, herm \\\u001b[0m\u001b[1;3m(\u001b[0m\u001b[3mlore\\\u001b[0m\u001b[1;3m)\u001b[0m\u001b[3m, intersex \\\u001b[0m\u001b[1;3m(\u001b[0m\u001b[3mlore\\\u001b[0m\u001b[1;3m)\u001b[0m\n"
      ]
     },
     "metadata": {},
     "output_type": "display_data"
    },
    {
     "data": {
      "text/html": [
       "<pre style=\"white-space:pre;overflow-x:auto;line-height:normal;font-family:Menlo,'DejaVu Sans Mono',consolas,'Courier New',monospace\">Processing file: <span style=\"font-weight: bold\">C:\\Users\\kade\\Desktop\\training_dir_staging\\1_auroth_the_winter_wyvern\\</span><span style=\"color: #008080; text-decoration-color: #008080; font-weight: bold\">3819247.j</span><span style=\"font-weight: bold\">son</span>\n",
       "</pre>\n"
      ],
      "text/plain": [
       "Processing file: \u001b[1mC:\\Users\\kade\\Desktop\\training_dir_staging\\1_auroth_the_winter_wyvern\\\u001b[0m\u001b[1;36m3819247.j\u001b[0m\u001b[1mson\u001b[0m\n"
      ]
     },
     "metadata": {},
     "output_type": "display_data"
    },
    {
     "data": {
      "text/html": [
       "<pre style=\"white-space:pre;overflow-x:auto;line-height:normal;font-family:Menlo,'DejaVu Sans Mono',consolas,'Courier New',monospace\">Creating caption file: \n",
       "<span style=\"font-weight: bold\">C:\\Users\\kade\\Desktop\\training_dir_staging\\1_auroth_the_winter_wyvern\\0b72c4c8d83a06db6a5ce16ceb5867cb.txt</span>\n",
       "</pre>\n"
      ],
      "text/plain": [
       "Creating caption file: \n",
       "\u001b[1mC:\\Users\\kade\\Desktop\\training_dir_staging\\1_auroth_the_winter_wyvern\\0b72c4c8d83a06db6a5ce16ceb5867cb.txt\u001b[0m\n"
      ]
     },
     "metadata": {},
     "output_type": "display_data"
    },
    {
     "data": {
      "text/html": [
       "<pre style=\"white-space:pre;overflow-x:auto;line-height:normal;font-family:Menlo,'DejaVu Sans Mono',consolas,'Courier New',monospace\">Writing tags: <span style=\"font-style: italic\">back boob, barely visible genitalia, big breasts, big butt, blue eyes, border, breasts, butt, curvy </span>\n",
       "<span style=\"font-style: italic\">anthro, female, genitals, hair, hand on hip, huge butt, long hair, looking at viewer, looking back, outside, pussy,</span>\n",
       "<span style=\"font-style: italic\">raised tail, rear view, side boob, solo, tail, thick thighs, white border, wide hips, by ionicnebula, by r-mk, </span>\n",
       "<span style=\"font-style: italic\">european mythology, mythology, auroth \\</span><span style=\"font-weight: bold; font-style: italic\">(</span><span style=\"font-style: italic\">furromantic\\</span><span style=\"font-weight: bold; font-style: italic\">)</span><span style=\"font-style: italic\">, auroth the winter wyvern, dragon, mythological creature, </span>\n",
       "<span style=\"font-style: italic\">mythological scalie, reptile, scalie, western dragon, wyvern</span>\n",
       "</pre>\n"
      ],
      "text/plain": [
       "Writing tags: \u001b[3mback boob, barely visible genitalia, big breasts, big butt, blue eyes, border, breasts, butt, curvy \u001b[0m\n",
       "\u001b[3manthro, female, genitals, hair, hand on hip, huge butt, long hair, looking at viewer, looking back, outside, pussy,\u001b[0m\n",
       "\u001b[3mraised tail, rear view, side boob, solo, tail, thick thighs, white border, wide hips, by ionicnebula, by r-mk, \u001b[0m\n",
       "\u001b[3meuropean mythology, mythology, auroth \\\u001b[0m\u001b[1;3m(\u001b[0m\u001b[3mfurromantic\\\u001b[0m\u001b[1;3m)\u001b[0m\u001b[3m, auroth the winter wyvern, dragon, mythological creature, \u001b[0m\n",
       "\u001b[3mmythological scalie, reptile, scalie, western dragon, wyvern\u001b[0m\n"
      ]
     },
     "metadata": {},
     "output_type": "display_data"
    },
    {
     "data": {
      "text/html": [
       "<pre style=\"white-space:pre;overflow-x:auto;line-height:normal;font-family:Menlo,'DejaVu Sans Mono',consolas,'Courier New',monospace\">Processing file: <span style=\"font-weight: bold\">C:\\Users\\kade\\Desktop\\training_dir_staging\\1_auroth_the_winter_wyvern\\</span><span style=\"color: #008080; text-decoration-color: #008080; font-weight: bold\">3910237.j</span><span style=\"font-weight: bold\">son</span>\n",
       "</pre>\n"
      ],
      "text/plain": [
       "Processing file: \u001b[1mC:\\Users\\kade\\Desktop\\training_dir_staging\\1_auroth_the_winter_wyvern\\\u001b[0m\u001b[1;36m3910237.j\u001b[0m\u001b[1mson\u001b[0m\n"
      ]
     },
     "metadata": {},
     "output_type": "display_data"
    },
    {
     "data": {
      "text/html": [
       "<pre style=\"white-space:pre;overflow-x:auto;line-height:normal;font-family:Menlo,'DejaVu Sans Mono',consolas,'Courier New',monospace\">Creating caption file: \n",
       "<span style=\"font-weight: bold\">C:\\Users\\kade\\Desktop\\training_dir_staging\\1_auroth_the_winter_wyvern\\affc64a669e4efbbcfef4709a7cfe641.txt</span>\n",
       "</pre>\n"
      ],
      "text/plain": [
       "Creating caption file: \n",
       "\u001b[1mC:\\Users\\kade\\Desktop\\training_dir_staging\\1_auroth_the_winter_wyvern\\affc64a669e4efbbcfef4709a7cfe641.txt\u001b[0m\n"
      ]
     },
     "metadata": {},
     "output_type": "display_data"
    },
    {
     "data": {
      "text/html": [
       "<pre style=\"white-space:pre;overflow-x:auto;line-height:normal;font-family:Menlo,'DejaVu Sans Mono',consolas,'Courier New',monospace\">Writing tags: <span style=\"font-style: italic\">anthro, big breasts, book, breasts, claws, featureless breasts, female, fur, hair, nude, smile, solo,</span>\n",
       "<span style=\"font-style: italic\">tail, wings, by amethystdust, european mythology, mythology, auroth the winter wyvern, dragon, mythological </span>\n",
       "<span style=\"font-style: italic\">creature, mythological scalie, scalie, western dragon, wyvern</span>\n",
       "</pre>\n"
      ],
      "text/plain": [
       "Writing tags: \u001b[3manthro, big breasts, book, breasts, claws, featureless breasts, female, fur, hair, nude, smile, solo,\u001b[0m\n",
       "\u001b[3mtail, wings, by amethystdust, european mythology, mythology, auroth the winter wyvern, dragon, mythological \u001b[0m\n",
       "\u001b[3mcreature, mythological scalie, scalie, western dragon, wyvern\u001b[0m\n"
      ]
     },
     "metadata": {},
     "output_type": "display_data"
    },
    {
     "data": {
      "text/html": [
       "<pre style=\"white-space:pre;overflow-x:auto;line-height:normal;font-family:Menlo,'DejaVu Sans Mono',consolas,'Courier New',monospace\">Processing file: <span style=\"font-weight: bold\">C:\\Users\\kade\\Desktop\\training_dir_staging\\1_auroth_the_winter_wyvern\\</span><span style=\"color: #008080; text-decoration-color: #008080; font-weight: bold\">4041872.j</span><span style=\"font-weight: bold\">son</span>\n",
       "</pre>\n"
      ],
      "text/plain": [
       "Processing file: \u001b[1mC:\\Users\\kade\\Desktop\\training_dir_staging\\1_auroth_the_winter_wyvern\\\u001b[0m\u001b[1;36m4041872.j\u001b[0m\u001b[1mson\u001b[0m\n"
      ]
     },
     "metadata": {},
     "output_type": "display_data"
    },
    {
     "data": {
      "text/html": [
       "<pre style=\"white-space:pre;overflow-x:auto;line-height:normal;font-family:Menlo,'DejaVu Sans Mono',consolas,'Courier New',monospace\">Creating caption file: \n",
       "<span style=\"font-weight: bold\">C:\\Users\\kade\\Desktop\\training_dir_staging\\1_auroth_the_winter_wyvern\\b91b9aac50c83822bf44016367b0af91.txt</span>\n",
       "</pre>\n"
      ],
      "text/plain": [
       "Creating caption file: \n",
       "\u001b[1mC:\\Users\\kade\\Desktop\\training_dir_staging\\1_auroth_the_winter_wyvern\\b91b9aac50c83822bf44016367b0af91.txt\u001b[0m\n"
      ]
     },
     "metadata": {},
     "output_type": "display_data"
    },
    {
     "data": {
      "text/html": [
       "<pre style=\"white-space:pre;overflow-x:auto;line-height:normal;font-family:Menlo,'DejaVu Sans Mono',consolas,'Courier New',monospace\">Writing tags: <span style=\"font-style: italic\">anthro, anus, areola, big breasts, big butt, blue areola, blue body, blue eyes, blue hair, blue </span>\n",
       "<span style=\"font-style: italic\">nipples, blue pussy, blue scales, breasts, butt, claws, clitoris, curvy figure, female, genitals, hair, huge </span>\n",
       "<span style=\"font-style: italic\">breasts, ice, larger female, looking at viewer, membrane \\</span><span style=\"font-weight: bold; font-style: italic\">(</span><span style=\"font-style: italic\">anatomy\\</span><span style=\"font-weight: bold; font-style: italic\">)</span><span style=\"font-style: italic\">, nipples, nude, pussy, scales, size </span>\n",
       "<span style=\"font-style: italic\">difference, snow, solo, spread legs, spreading, tail, teeth, toe claws, voluptuous, by yiezzas, european mythology,</span>\n",
       "<span style=\"font-style: italic\">mythology, auroth the winter wyvern, dragon, mammal, mythological creature, mythological scalie, scalie, western </span>\n",
       "<span style=\"font-style: italic\">dragon, wyvern, 3d \\</span><span style=\"font-weight: bold; font-style: italic\">(</span><span style=\"font-style: italic\">artwork\\</span><span style=\"font-weight: bold; font-style: italic\">)</span><span style=\"font-style: italic\">, 4k, digital media \\</span><span style=\"font-weight: bold; font-style: italic\">(</span><span style=\"font-style: italic\">artwork\\</span><span style=\"font-weight: bold; font-style: italic\">)</span>\n",
       "</pre>\n"
      ],
      "text/plain": [
       "Writing tags: \u001b[3manthro, anus, areola, big breasts, big butt, blue areola, blue body, blue eyes, blue hair, blue \u001b[0m\n",
       "\u001b[3mnipples, blue pussy, blue scales, breasts, butt, claws, clitoris, curvy figure, female, genitals, hair, huge \u001b[0m\n",
       "\u001b[3mbreasts, ice, larger female, looking at viewer, membrane \\\u001b[0m\u001b[1;3m(\u001b[0m\u001b[3manatomy\\\u001b[0m\u001b[1;3m)\u001b[0m\u001b[3m, nipples, nude, pussy, scales, size \u001b[0m\n",
       "\u001b[3mdifference, snow, solo, spread legs, spreading, tail, teeth, toe claws, voluptuous, by yiezzas, european mythology,\u001b[0m\n",
       "\u001b[3mmythology, auroth the winter wyvern, dragon, mammal, mythological creature, mythological scalie, scalie, western \u001b[0m\n",
       "\u001b[3mdragon, wyvern, 3d \\\u001b[0m\u001b[1;3m(\u001b[0m\u001b[3martwork\\\u001b[0m\u001b[1;3m)\u001b[0m\u001b[3m, 4k, digital media \\\u001b[0m\u001b[1;3m(\u001b[0m\u001b[3martwork\\\u001b[0m\u001b[1;3m)\u001b[0m\n"
      ]
     },
     "metadata": {},
     "output_type": "display_data"
    },
    {
     "data": {
      "text/html": [
       "<pre style=\"white-space:pre;overflow-x:auto;line-height:normal;font-family:Menlo,'DejaVu Sans Mono',consolas,'Courier New',monospace\">Processing file: <span style=\"font-weight: bold\">C:\\Users\\kade\\Desktop\\training_dir_staging\\1_auroth_the_winter_wyvern\\</span><span style=\"color: #008080; text-decoration-color: #008080; font-weight: bold\">4043608.j</span><span style=\"font-weight: bold\">son</span>\n",
       "</pre>\n"
      ],
      "text/plain": [
       "Processing file: \u001b[1mC:\\Users\\kade\\Desktop\\training_dir_staging\\1_auroth_the_winter_wyvern\\\u001b[0m\u001b[1;36m4043608.j\u001b[0m\u001b[1mson\u001b[0m\n"
      ]
     },
     "metadata": {},
     "output_type": "display_data"
    },
    {
     "data": {
      "text/html": [
       "<pre style=\"white-space:pre;overflow-x:auto;line-height:normal;font-family:Menlo,'DejaVu Sans Mono',consolas,'Courier New',monospace\">Creating caption file: \n",
       "<span style=\"font-weight: bold\">C:\\Users\\kade\\Desktop\\training_dir_staging\\1_auroth_the_winter_wyvern\\2440ecda95a0ab0ca236d1c6bc09830e.txt</span>\n",
       "</pre>\n"
      ],
      "text/plain": [
       "Creating caption file: \n",
       "\u001b[1mC:\\Users\\kade\\Desktop\\training_dir_staging\\1_auroth_the_winter_wyvern\\2440ecda95a0ab0ca236d1c6bc09830e.txt\u001b[0m\n"
      ]
     },
     "metadata": {},
     "output_type": "display_data"
    },
    {
     "data": {
      "text/html": [
       "<pre style=\"white-space:pre;overflow-x:auto;line-height:normal;font-family:Menlo,'DejaVu Sans Mono',consolas,'Courier New',monospace\">Writing tags: <span style=\"font-style: italic\">anus, blue body, claws, clitoris, countershade neck, countershade tail, countershade torso, </span>\n",
       "<span style=\"font-style: italic\">countershading, crotch tuft, female, feral, genitals, pupils, pussy, slit pupils, solo, tail, tuft, by kabscorner, </span>\n",
       "<span style=\"font-style: italic\">cc-by-nc-nd, creative commons, european mythology, mythology, auroth the winter wyvern, dragon, mythological </span>\n",
       "<span style=\"font-style: italic\">creature, mythological scalie, scalie, western dragon, wyvern</span>\n",
       "</pre>\n"
      ],
      "text/plain": [
       "Writing tags: \u001b[3manus, blue body, claws, clitoris, countershade neck, countershade tail, countershade torso, \u001b[0m\n",
       "\u001b[3mcountershading, crotch tuft, female, feral, genitals, pupils, pussy, slit pupils, solo, tail, tuft, by kabscorner, \u001b[0m\n",
       "\u001b[3mcc-by-nc-nd, creative commons, european mythology, mythology, auroth the winter wyvern, dragon, mythological \u001b[0m\n",
       "\u001b[3mcreature, mythological scalie, scalie, western dragon, wyvern\u001b[0m\n"
      ]
     },
     "metadata": {},
     "output_type": "display_data"
    },
    {
     "data": {
      "text/html": [
       "<pre style=\"white-space:pre;overflow-x:auto;line-height:normal;font-family:Menlo,'DejaVu Sans Mono',consolas,'Courier New',monospace\">Processing file: <span style=\"font-weight: bold\">C:\\Users\\kade\\Desktop\\training_dir_staging\\1_auroth_the_winter_wyvern\\</span><span style=\"color: #008080; text-decoration-color: #008080; font-weight: bold\">4043635.j</span><span style=\"font-weight: bold\">son</span>\n",
       "</pre>\n"
      ],
      "text/plain": [
       "Processing file: \u001b[1mC:\\Users\\kade\\Desktop\\training_dir_staging\\1_auroth_the_winter_wyvern\\\u001b[0m\u001b[1;36m4043635.j\u001b[0m\u001b[1mson\u001b[0m\n"
      ]
     },
     "metadata": {},
     "output_type": "display_data"
    },
    {
     "data": {
      "text/html": [
       "<pre style=\"white-space:pre;overflow-x:auto;line-height:normal;font-family:Menlo,'DejaVu Sans Mono',consolas,'Courier New',monospace\">Creating caption file: \n",
       "<span style=\"font-weight: bold\">C:\\Users\\kade\\Desktop\\training_dir_staging\\1_auroth_the_winter_wyvern\\99015411aebe6df198971ffdadde80cd.txt</span>\n",
       "</pre>\n"
      ],
      "text/plain": [
       "Creating caption file: \n",
       "\u001b[1mC:\\Users\\kade\\Desktop\\training_dir_staging\\1_auroth_the_winter_wyvern\\99015411aebe6df198971ffdadde80cd.txt\u001b[0m\n"
      ]
     },
     "metadata": {},
     "output_type": "display_data"
    },
    {
     "data": {
      "text/html": [
       "<pre style=\"white-space:pre;overflow-x:auto;line-height:normal;font-family:Menlo,'DejaVu Sans Mono',consolas,'Courier New',monospace\">Writing tags: <span style=\"font-style: italic\">anus, balls, blue body, blue penis, bodily fluids, claws, countershade neck, countershade tail, </span>\n",
       "<span style=\"font-style: italic\">countershade torso, countershading, crossgender, feral, genital fluids, genitals, knot, male, penis, precum, </span>\n",
       "<span style=\"font-style: italic\">pupils, slit pupils, solo, tail, vein, veiny penis, by kabscorner, cc-by-nc-nd, creative commons, european </span>\n",
       "<span style=\"font-style: italic\">mythology, mythology, auroth the winter wyvern, dragon, mythological creature, mythological scalie, scalie, western</span>\n",
       "<span style=\"font-style: italic\">dragon, wyvern</span>\n",
       "</pre>\n"
      ],
      "text/plain": [
       "Writing tags: \u001b[3manus, balls, blue body, blue penis, bodily fluids, claws, countershade neck, countershade tail, \u001b[0m\n",
       "\u001b[3mcountershade torso, countershading, crossgender, feral, genital fluids, genitals, knot, male, penis, precum, \u001b[0m\n",
       "\u001b[3mpupils, slit pupils, solo, tail, vein, veiny penis, by kabscorner, cc-by-nc-nd, creative commons, european \u001b[0m\n",
       "\u001b[3mmythology, mythology, auroth the winter wyvern, dragon, mythological creature, mythological scalie, scalie, western\u001b[0m\n",
       "\u001b[3mdragon, wyvern\u001b[0m\n"
      ]
     },
     "metadata": {},
     "output_type": "display_data"
    },
    {
     "data": {
      "text/html": [
       "<pre style=\"white-space:pre;overflow-x:auto;line-height:normal;font-family:Menlo,'DejaVu Sans Mono',consolas,'Courier New',monospace\">Processing file: <span style=\"font-weight: bold\">C:\\Users\\kade\\Desktop\\training_dir_staging\\1_auroth_the_winter_wyvern\\</span><span style=\"color: #008080; text-decoration-color: #008080; font-weight: bold\">4054501.j</span><span style=\"font-weight: bold\">son</span>\n",
       "</pre>\n"
      ],
      "text/plain": [
       "Processing file: \u001b[1mC:\\Users\\kade\\Desktop\\training_dir_staging\\1_auroth_the_winter_wyvern\\\u001b[0m\u001b[1;36m4054501.j\u001b[0m\u001b[1mson\u001b[0m\n"
      ]
     },
     "metadata": {},
     "output_type": "display_data"
    },
    {
     "data": {
      "text/html": [
       "<pre style=\"white-space:pre;overflow-x:auto;line-height:normal;font-family:Menlo,'DejaVu Sans Mono',consolas,'Courier New',monospace\">Creating caption file: \n",
       "<span style=\"font-weight: bold\">C:\\Users\\kade\\Desktop\\training_dir_staging\\1_auroth_the_winter_wyvern\\eccad2ef5701fec60a273d92b52a5edf.txt</span>\n",
       "</pre>\n"
      ],
      "text/plain": [
       "Creating caption file: \n",
       "\u001b[1mC:\\Users\\kade\\Desktop\\training_dir_staging\\1_auroth_the_winter_wyvern\\eccad2ef5701fec60a273d92b52a5edf.txt\u001b[0m\n"
      ]
     },
     "metadata": {},
     "output_type": "display_data"
    },
    {
     "data": {
      "text/html": [
       "<pre style=\"white-space:pre;overflow-x:auto;line-height:normal;font-family:Menlo,'DejaVu Sans Mono',consolas,'Courier New',monospace\">Writing tags: <span style=\"font-style: italic\">anthro, anthrofied, areola, bedroom eyes, big areola, big breasts, big butt, big nipples, biped, blue</span>\n",
       "<span style=\"font-style: italic\">body, blue eyes, blue hair, blue horn, blue scales, breast squish, breasts, butt, cave, clothing, curvy figure, </span>\n",
       "<span style=\"font-style: italic\">electronics, eyelashes, female, footwear, footwear only, hair, high heels, high heels only, holding object, holding</span>\n",
       "<span style=\"font-style: italic\">phone, horn, huge breasts, huge butt, landline phone, lips, looking at viewer, lying, mature anthro, mature female,</span>\n",
       "<span style=\"font-style: italic\">membrane \\</span><span style=\"font-weight: bold; font-style: italic\">(</span><span style=\"font-style: italic\">anatomy\\</span><span style=\"font-weight: bold; font-style: italic\">)</span><span style=\"font-style: italic\">, membranous wings, mostly nude, nails, narrowed eyes, nipples, phone, raised leg, rotary </span>\n",
       "<span style=\"font-style: italic\">phone, scales, seductive, smile, solo, spikes, squish, tail, teeth, thick eyelashes, thick lips, thick tail, thick </span>\n",
       "<span style=\"font-style: italic\">thighs, voluptuous, wide hips, wings, by djpuppeh, european mythology, mythology, auroth the winter wyvern, dragon,</span>\n",
       "<span style=\"font-style: italic\">mythological creature, mythological scalie, scalie, western dragon, wyvern, digital media \\</span><span style=\"font-weight: bold; font-style: italic\">(</span><span style=\"font-style: italic\">artwork\\</span><span style=\"font-weight: bold; font-style: italic\">)</span>\n",
       "</pre>\n"
      ],
      "text/plain": [
       "Writing tags: \u001b[3manthro, anthrofied, areola, bedroom eyes, big areola, big breasts, big butt, big nipples, biped, blue\u001b[0m\n",
       "\u001b[3mbody, blue eyes, blue hair, blue horn, blue scales, breast squish, breasts, butt, cave, clothing, curvy figure, \u001b[0m\n",
       "\u001b[3melectronics, eyelashes, female, footwear, footwear only, hair, high heels, high heels only, holding object, holding\u001b[0m\n",
       "\u001b[3mphone, horn, huge breasts, huge butt, landline phone, lips, looking at viewer, lying, mature anthro, mature female,\u001b[0m\n",
       "\u001b[3mmembrane \\\u001b[0m\u001b[1;3m(\u001b[0m\u001b[3manatomy\\\u001b[0m\u001b[1;3m)\u001b[0m\u001b[3m, membranous wings, mostly nude, nails, narrowed eyes, nipples, phone, raised leg, rotary \u001b[0m\n",
       "\u001b[3mphone, scales, seductive, smile, solo, spikes, squish, tail, teeth, thick eyelashes, thick lips, thick tail, thick \u001b[0m\n",
       "\u001b[3mthighs, voluptuous, wide hips, wings, by djpuppeh, european mythology, mythology, auroth the winter wyvern, dragon,\u001b[0m\n",
       "\u001b[3mmythological creature, mythological scalie, scalie, western dragon, wyvern, digital media \\\u001b[0m\u001b[1;3m(\u001b[0m\u001b[3martwork\\\u001b[0m\u001b[1;3m)\u001b[0m\n"
      ]
     },
     "metadata": {},
     "output_type": "display_data"
    },
    {
     "data": {
      "text/html": [
       "<pre style=\"white-space:pre;overflow-x:auto;line-height:normal;font-family:Menlo,'DejaVu Sans Mono',consolas,'Courier New',monospace\">Processing file: <span style=\"font-weight: bold\">C:\\Users\\kade\\Desktop\\training_dir_staging\\1_auroth_the_winter_wyvern\\</span><span style=\"color: #008080; text-decoration-color: #008080; font-weight: bold\">4232186.j</span><span style=\"font-weight: bold\">son</span>\n",
       "</pre>\n"
      ],
      "text/plain": [
       "Processing file: \u001b[1mC:\\Users\\kade\\Desktop\\training_dir_staging\\1_auroth_the_winter_wyvern\\\u001b[0m\u001b[1;36m4232186.j\u001b[0m\u001b[1mson\u001b[0m\n"
      ]
     },
     "metadata": {},
     "output_type": "display_data"
    },
    {
     "data": {
      "text/html": [
       "<pre style=\"white-space:pre;overflow-x:auto;line-height:normal;font-family:Menlo,'DejaVu Sans Mono',consolas,'Courier New',monospace\">Creating caption file: \n",
       "<span style=\"font-weight: bold\">C:\\Users\\kade\\Desktop\\training_dir_staging\\1_auroth_the_winter_wyvern\\db12637d4ef8410f556202cfa46d1590.txt</span>\n",
       "</pre>\n"
      ],
      "text/plain": [
       "Creating caption file: \n",
       "\u001b[1mC:\\Users\\kade\\Desktop\\training_dir_staging\\1_auroth_the_winter_wyvern\\db12637d4ef8410f556202cfa46d1590.txt\u001b[0m\n"
      ]
     },
     "metadata": {},
     "output_type": "display_data"
    },
    {
     "data": {
      "text/html": [
       "<pre style=\"white-space:pre;overflow-x:auto;line-height:normal;font-family:Menlo,'DejaVu Sans Mono',consolas,'Courier New',monospace\">Writing tags: <span style=\"font-style: italic\">anthro, anus, bed, bedroom eyes, big butt, bra, butt, clothing, female, furniture, genitals, legwear,</span>\n",
       "<span style=\"font-style: italic\">looking at viewer, looking back, looking back at viewer, narrowed eyes, on bed, pussy, raised tail, seductive, </span>\n",
       "<span style=\"font-style: italic\">solo, tail, thigh highs, underwear, by conditional dnp, by paradoxing, mythology, auroth the winter wyvern, dragon,</span>\n",
       "<span style=\"font-style: italic\">mythological creature, mythological scalie, scalie</span>\n",
       "</pre>\n"
      ],
      "text/plain": [
       "Writing tags: \u001b[3manthro, anus, bed, bedroom eyes, big butt, bra, butt, clothing, female, furniture, genitals, legwear,\u001b[0m\n",
       "\u001b[3mlooking at viewer, looking back, looking back at viewer, narrowed eyes, on bed, pussy, raised tail, seductive, \u001b[0m\n",
       "\u001b[3msolo, tail, thigh highs, underwear, by conditional dnp, by paradoxing, mythology, auroth the winter wyvern, dragon,\u001b[0m\n",
       "\u001b[3mmythological creature, mythological scalie, scalie\u001b[0m\n"
      ]
     },
     "metadata": {},
     "output_type": "display_data"
    },
    {
     "data": {
      "text/html": [
       "<pre style=\"white-space:pre;overflow-x:auto;line-height:normal;font-family:Menlo,'DejaVu Sans Mono',consolas,'Courier New',monospace\">Processing file: <span style=\"font-weight: bold\">C:\\Users\\kade\\Desktop\\training_dir_staging\\1_auroth_the_winter_wyvern\\</span><span style=\"color: #008080; text-decoration-color: #008080; font-weight: bold\">4348281.j</span><span style=\"font-weight: bold\">son</span>\n",
       "</pre>\n"
      ],
      "text/plain": [
       "Processing file: \u001b[1mC:\\Users\\kade\\Desktop\\training_dir_staging\\1_auroth_the_winter_wyvern\\\u001b[0m\u001b[1;36m4348281.j\u001b[0m\u001b[1mson\u001b[0m\n"
      ]
     },
     "metadata": {},
     "output_type": "display_data"
    },
    {
     "data": {
      "text/html": [
       "<pre style=\"white-space:pre;overflow-x:auto;line-height:normal;font-family:Menlo,'DejaVu Sans Mono',consolas,'Courier New',monospace\">Creating caption file: \n",
       "<span style=\"font-weight: bold\">C:\\Users\\kade\\Desktop\\training_dir_staging\\1_auroth_the_winter_wyvern\\492312ef07a1639cec21b9fc2ffb6573.txt</span>\n",
       "</pre>\n"
      ],
      "text/plain": [
       "Creating caption file: \n",
       "\u001b[1mC:\\Users\\kade\\Desktop\\training_dir_staging\\1_auroth_the_winter_wyvern\\492312ef07a1639cec21b9fc2ffb6573.txt\u001b[0m\n"
      ]
     },
     "metadata": {},
     "output_type": "display_data"
    },
    {
     "data": {
      "text/html": [
       "<pre style=\"white-space:pre;overflow-x:auto;line-height:normal;font-family:Menlo,'DejaVu Sans Mono',consolas,'Courier New',monospace\">Writing tags: <span style=\"font-style: italic\">anthro, bathrobe, bedroom eyes, belly, belly scales, big belly, big breasts, big butt, bottomless, </span>\n",
       "<span style=\"font-style: italic\">breasts, butt, clothed, clothing, female, front view, genitals, glowing, hair, looking at viewer, mug, narrowed </span>\n",
       "<span style=\"font-style: italic\">eyes, nipples, open clothing, open robe, partially clothed, pussy, robe, scales, seductive, simple background, </span>\n",
       "<span style=\"font-style: italic\">smile, solo, speech bubble, tail, teeth, thick thighs, wide hips, by wingedwilly, european mythology, mythology, </span>\n",
       "<span style=\"font-style: italic\">auroth the winter wyvern, dragon, mythological creature, mythological scalie, scalie, western dragon, wyvern</span>\n",
       "</pre>\n"
      ],
      "text/plain": [
       "Writing tags: \u001b[3manthro, bathrobe, bedroom eyes, belly, belly scales, big belly, big breasts, big butt, bottomless, \u001b[0m\n",
       "\u001b[3mbreasts, butt, clothed, clothing, female, front view, genitals, glowing, hair, looking at viewer, mug, narrowed \u001b[0m\n",
       "\u001b[3meyes, nipples, open clothing, open robe, partially clothed, pussy, robe, scales, seductive, simple background, \u001b[0m\n",
       "\u001b[3msmile, solo, speech bubble, tail, teeth, thick thighs, wide hips, by wingedwilly, european mythology, mythology, \u001b[0m\n",
       "\u001b[3mauroth the winter wyvern, dragon, mythological creature, mythological scalie, scalie, western dragon, wyvern\u001b[0m\n"
      ]
     },
     "metadata": {},
     "output_type": "display_data"
    },
    {
     "data": {
      "text/html": [
       "<pre style=\"white-space:pre;overflow-x:auto;line-height:normal;font-family:Menlo,'DejaVu Sans Mono',consolas,'Courier New',monospace\">Processing file: <span style=\"font-weight: bold\">C:\\Users\\kade\\Desktop\\training_dir_staging\\1_auroth_the_winter_wyvern\\</span><span style=\"color: #008080; text-decoration-color: #008080; font-weight: bold\">605244.j</span><span style=\"font-weight: bold\">son</span>\n",
       "</pre>\n"
      ],
      "text/plain": [
       "Processing file: \u001b[1mC:\\Users\\kade\\Desktop\\training_dir_staging\\1_auroth_the_winter_wyvern\\\u001b[0m\u001b[1;36m605244.j\u001b[0m\u001b[1mson\u001b[0m\n"
      ]
     },
     "metadata": {},
     "output_type": "display_data"
    },
    {
     "data": {
      "text/html": [
       "<pre style=\"white-space:pre;overflow-x:auto;line-height:normal;font-family:Menlo,'DejaVu Sans Mono',consolas,'Courier New',monospace\">Creating caption file: \n",
       "<span style=\"font-weight: bold\">C:\\Users\\kade\\Desktop\\training_dir_staging\\1_auroth_the_winter_wyvern\\074cb61e85ec0bb8acc3f2ba6ee4de0b.txt</span>\n",
       "</pre>\n"
      ],
      "text/plain": [
       "Creating caption file: \n",
       "\u001b[1mC:\\Users\\kade\\Desktop\\training_dir_staging\\1_auroth_the_winter_wyvern\\074cb61e85ec0bb8acc3f2ba6ee4de0b.txt\u001b[0m\n"
      ]
     },
     "metadata": {},
     "output_type": "display_data"
    },
    {
     "data": {
      "text/html": [
       "<pre style=\"white-space:pre;overflow-x:auto;line-height:normal;font-family:Menlo,'DejaVu Sans Mono',consolas,'Courier New',monospace\">Writing tags: <span style=\"color: #008080; text-decoration-color: #008080; font-weight: bold; font-style: italic\">4</span><span style=\"font-style: italic\"> toes, anisodactyl, anus, bedroom eyes, butt, feet, female, feral, genitals, half-closed eyes, </span>\n",
       "<span style=\"font-style: italic\">hindpaw, membrane \\</span><span style=\"font-weight: bold; font-style: italic\">(</span><span style=\"font-style: italic\">anatomy\\</span><span style=\"font-weight: bold; font-style: italic\">)</span><span style=\"font-style: italic\">, membranous wings, narrowed eyes, paws, presenting, presenting hindquarters, </span>\n",
       "<span style=\"font-style: italic\">presenting pussy, pussy, seductive, solo, spread legs, spreading, toes, wings, by nahyon, european mythology, </span>\n",
       "<span style=\"font-style: italic\">mythology, auroth the winter wyvern, dragon, mythological creature, mythological scalie, scalie, western dragon, </span>\n",
       "<span style=\"font-style: italic\">wyvern</span>\n",
       "</pre>\n"
      ],
      "text/plain": [
       "Writing tags: \u001b[1;3;36m4\u001b[0m\u001b[3m toes, anisodactyl, anus, bedroom eyes, butt, feet, female, feral, genitals, half-closed eyes, \u001b[0m\n",
       "\u001b[3mhindpaw, membrane \\\u001b[0m\u001b[1;3m(\u001b[0m\u001b[3manatomy\\\u001b[0m\u001b[1;3m)\u001b[0m\u001b[3m, membranous wings, narrowed eyes, paws, presenting, presenting hindquarters, \u001b[0m\n",
       "\u001b[3mpresenting pussy, pussy, seductive, solo, spread legs, spreading, toes, wings, by nahyon, european mythology, \u001b[0m\n",
       "\u001b[3mmythology, auroth the winter wyvern, dragon, mythological creature, mythological scalie, scalie, western dragon, \u001b[0m\n",
       "\u001b[3mwyvern\u001b[0m\n"
      ]
     },
     "metadata": {},
     "output_type": "display_data"
    },
    {
     "data": {
      "text/html": [
       "<pre style=\"white-space:pre;overflow-x:auto;line-height:normal;font-family:Menlo,'DejaVu Sans Mono',consolas,'Courier New',monospace\">Processing file: <span style=\"font-weight: bold\">C:\\Users\\kade\\Desktop\\training_dir_staging\\1_auroth_the_winter_wyvern\\</span><span style=\"color: #008080; text-decoration-color: #008080; font-weight: bold\">612129.j</span><span style=\"font-weight: bold\">son</span>\n",
       "</pre>\n"
      ],
      "text/plain": [
       "Processing file: \u001b[1mC:\\Users\\kade\\Desktop\\training_dir_staging\\1_auroth_the_winter_wyvern\\\u001b[0m\u001b[1;36m612129.j\u001b[0m\u001b[1mson\u001b[0m\n"
      ]
     },
     "metadata": {},
     "output_type": "display_data"
    },
    {
     "data": {
      "text/html": [
       "<pre style=\"white-space:pre;overflow-x:auto;line-height:normal;font-family:Menlo,'DejaVu Sans Mono',consolas,'Courier New',monospace\">Creating caption file: \n",
       "<span style=\"font-weight: bold\">C:\\Users\\kade\\Desktop\\training_dir_staging\\1_auroth_the_winter_wyvern\\92916ffa925672a98f19e1d4bc20bc61.txt</span>\n",
       "</pre>\n"
      ],
      "text/plain": [
       "Creating caption file: \n",
       "\u001b[1mC:\\Users\\kade\\Desktop\\training_dir_staging\\1_auroth_the_winter_wyvern\\92916ffa925672a98f19e1d4bc20bc61.txt\u001b[0m\n"
      ]
     },
     "metadata": {},
     "output_type": "display_data"
    },
    {
     "data": {
      "text/html": [
       "<pre style=\"white-space:pre;overflow-x:auto;line-height:normal;font-family:Menlo,'DejaVu Sans Mono',consolas,'Courier New',monospace\">Writing tags: <span style=\"font-style: italic\">all fours, belly, blue body, blue eyes, blue fur, blue scales, blush, digitigrade, female, feral, </span>\n",
       "<span style=\"font-style: italic\">fur, genitals, ice, looking at viewer, pussy, scales, solo, tail, tongue, tongue out, by keebles, european </span>\n",
       "<span style=\"font-style: italic\">mythology, mythology, auroth the winter wyvern, dragon, mythological creature, mythological scalie, scalie, western</span>\n",
       "<span style=\"font-style: italic\">dragon, wyvern</span>\n",
       "</pre>\n"
      ],
      "text/plain": [
       "Writing tags: \u001b[3mall fours, belly, blue body, blue eyes, blue fur, blue scales, blush, digitigrade, female, feral, \u001b[0m\n",
       "\u001b[3mfur, genitals, ice, looking at viewer, pussy, scales, solo, tail, tongue, tongue out, by keebles, european \u001b[0m\n",
       "\u001b[3mmythology, mythology, auroth the winter wyvern, dragon, mythological creature, mythological scalie, scalie, western\u001b[0m\n",
       "\u001b[3mdragon, wyvern\u001b[0m\n"
      ]
     },
     "metadata": {},
     "output_type": "display_data"
    },
    {
     "data": {
      "text/html": [
       "<pre style=\"white-space:pre;overflow-x:auto;line-height:normal;font-family:Menlo,'DejaVu Sans Mono',consolas,'Courier New',monospace\">Processing file: <span style=\"font-weight: bold\">C:\\Users\\kade\\Desktop\\training_dir_staging\\1_auroth_the_winter_wyvern\\</span><span style=\"color: #008080; text-decoration-color: #008080; font-weight: bold\">770708.j</span><span style=\"font-weight: bold\">son</span>\n",
       "</pre>\n"
      ],
      "text/plain": [
       "Processing file: \u001b[1mC:\\Users\\kade\\Desktop\\training_dir_staging\\1_auroth_the_winter_wyvern\\\u001b[0m\u001b[1;36m770708.j\u001b[0m\u001b[1mson\u001b[0m\n"
      ]
     },
     "metadata": {},
     "output_type": "display_data"
    },
    {
     "data": {
      "text/html": [
       "<pre style=\"white-space:pre;overflow-x:auto;line-height:normal;font-family:Menlo,'DejaVu Sans Mono',consolas,'Courier New',monospace\">Creating caption file: \n",
       "<span style=\"font-weight: bold\">C:\\Users\\kade\\Desktop\\training_dir_staging\\1_auroth_the_winter_wyvern\\7faec49a208bb42e476d683c554a6564.txt</span>\n",
       "</pre>\n"
      ],
      "text/plain": [
       "Creating caption file: \n",
       "\u001b[1mC:\\Users\\kade\\Desktop\\training_dir_staging\\1_auroth_the_winter_wyvern\\7faec49a208bb42e476d683c554a6564.txt\u001b[0m\n"
      ]
     },
     "metadata": {},
     "output_type": "display_data"
    },
    {
     "data": {
      "text/html": [
       "<pre style=\"white-space:pre;overflow-x:auto;line-height:normal;font-family:Menlo,'DejaVu Sans Mono',consolas,'Courier New',monospace\">Writing tags: <span style=\"font-style: italic\">all fours, anthro, anthrofied, bedroom eyes, big breasts, big butt, blue eyes, breasts, butt, claws, </span>\n",
       "<span style=\"font-style: italic\">curvy figure, female, genitals, grey hair, hair, hanging breasts, huge butt, looking back, membrane \\</span><span style=\"font-weight: bold; font-style: italic\">(</span><span style=\"font-style: italic\">anatomy\\</span><span style=\"font-weight: bold; font-style: italic\">)</span><span style=\"font-style: italic\">, </span>\n",
       "<span style=\"font-style: italic\">membranous wings, narrowed eyes, non-mammal breasts, nude, presenting, presenting hindquarters, presenting pussy, </span>\n",
       "<span style=\"font-style: italic\">pussy, raised tail, rear view, seductive, smile, solo, tail, thick thighs, voluptuous, wide hips, wing claws, </span>\n",
       "<span style=\"font-style: italic\">wings, by bear-box doodletimes, by bearbox doodletimes, by berox, european mythology, mythology, auroth the winter </span>\n",
       "<span style=\"font-style: italic\">wyvern, dragon, mythological creature, mythological scalie, scalie, western dragon, wyvern, blue and white, </span>\n",
       "<span style=\"font-style: italic\">monochrome, restricted palette</span>\n",
       "</pre>\n"
      ],
      "text/plain": [
       "Writing tags: \u001b[3mall fours, anthro, anthrofied, bedroom eyes, big breasts, big butt, blue eyes, breasts, butt, claws, \u001b[0m\n",
       "\u001b[3mcurvy figure, female, genitals, grey hair, hair, hanging breasts, huge butt, looking back, membrane \\\u001b[0m\u001b[1;3m(\u001b[0m\u001b[3manatomy\\\u001b[0m\u001b[1;3m)\u001b[0m\u001b[3m, \u001b[0m\n",
       "\u001b[3mmembranous wings, narrowed eyes, non-mammal breasts, nude, presenting, presenting hindquarters, presenting pussy, \u001b[0m\n",
       "\u001b[3mpussy, raised tail, rear view, seductive, smile, solo, tail, thick thighs, voluptuous, wide hips, wing claws, \u001b[0m\n",
       "\u001b[3mwings, by bear-box doodletimes, by bearbox doodletimes, by berox, european mythology, mythology, auroth the winter \u001b[0m\n",
       "\u001b[3mwyvern, dragon, mythological creature, mythological scalie, scalie, western dragon, wyvern, blue and white, \u001b[0m\n",
       "\u001b[3mmonochrome, restricted palette\u001b[0m\n"
      ]
     },
     "metadata": {},
     "output_type": "display_data"
    },
    {
     "data": {
      "text/html": [
       "<pre style=\"white-space:pre;overflow-x:auto;line-height:normal;font-family:Menlo,'DejaVu Sans Mono',consolas,'Courier New',monospace\">Processing file: <span style=\"font-weight: bold\">C:\\Users\\kade\\Desktop\\training_dir_staging\\1_auroth_the_winter_wyvern\\</span><span style=\"color: #008080; text-decoration-color: #008080; font-weight: bold\">773196.j</span><span style=\"font-weight: bold\">son</span>\n",
       "</pre>\n"
      ],
      "text/plain": [
       "Processing file: \u001b[1mC:\\Users\\kade\\Desktop\\training_dir_staging\\1_auroth_the_winter_wyvern\\\u001b[0m\u001b[1;36m773196.j\u001b[0m\u001b[1mson\u001b[0m\n"
      ]
     },
     "metadata": {},
     "output_type": "display_data"
    },
    {
     "data": {
      "text/html": [
       "<pre style=\"white-space:pre;overflow-x:auto;line-height:normal;font-family:Menlo,'DejaVu Sans Mono',consolas,'Courier New',monospace\">Creating caption file: \n",
       "<span style=\"font-weight: bold\">C:\\Users\\kade\\Desktop\\training_dir_staging\\1_auroth_the_winter_wyvern\\bf2f1fd0723406dd0dfa3942903f3f37.txt</span>\n",
       "</pre>\n"
      ],
      "text/plain": [
       "Creating caption file: \n",
       "\u001b[1mC:\\Users\\kade\\Desktop\\training_dir_staging\\1_auroth_the_winter_wyvern\\bf2f1fd0723406dd0dfa3942903f3f37.txt\u001b[0m\n"
      ]
     },
     "metadata": {},
     "output_type": "display_data"
    },
    {
     "data": {
      "text/html": [
       "<pre style=\"white-space:pre;overflow-x:auto;line-height:normal;font-family:Menlo,'DejaVu Sans Mono',consolas,'Courier New',monospace\">Writing tags: <span style=\"color: #008080; text-decoration-color: #008080; font-weight: bold; font-style: italic\">4</span><span style=\"font-style: italic\"> toes, anisodactyl, anus, bedroom eyes, butt, feet, female, feral, genitals, half-closed eyes, </span>\n",
       "<span style=\"font-style: italic\">hindpaw, membrane \\</span><span style=\"font-weight: bold; font-style: italic\">(</span><span style=\"font-style: italic\">anatomy\\</span><span style=\"font-weight: bold; font-style: italic\">)</span><span style=\"font-style: italic\">, membranous wings, narrowed eyes, paws, presenting, presenting hindquarters, </span>\n",
       "<span style=\"font-style: italic\">presenting pussy, pussy, seductive, solo, spread legs, spreading, tail, toes, wings, by mashcr, by nahyon, european</span>\n",
       "<span style=\"font-style: italic\">mythology, mythology, auroth the winter wyvern, dragon, mythological creature, mythological scalie, scalie, western</span>\n",
       "<span style=\"font-style: italic\">dragon, wyvern, collaboration</span>\n",
       "</pre>\n"
      ],
      "text/plain": [
       "Writing tags: \u001b[1;3;36m4\u001b[0m\u001b[3m toes, anisodactyl, anus, bedroom eyes, butt, feet, female, feral, genitals, half-closed eyes, \u001b[0m\n",
       "\u001b[3mhindpaw, membrane \\\u001b[0m\u001b[1;3m(\u001b[0m\u001b[3manatomy\\\u001b[0m\u001b[1;3m)\u001b[0m\u001b[3m, membranous wings, narrowed eyes, paws, presenting, presenting hindquarters, \u001b[0m\n",
       "\u001b[3mpresenting pussy, pussy, seductive, solo, spread legs, spreading, tail, toes, wings, by mashcr, by nahyon, european\u001b[0m\n",
       "\u001b[3mmythology, mythology, auroth the winter wyvern, dragon, mythological creature, mythological scalie, scalie, western\u001b[0m\n",
       "\u001b[3mdragon, wyvern, collaboration\u001b[0m\n"
      ]
     },
     "metadata": {},
     "output_type": "display_data"
    },
    {
     "data": {
      "text/html": [
       "<pre style=\"white-space:pre;overflow-x:auto;line-height:normal;font-family:Menlo,'DejaVu Sans Mono',consolas,'Courier New',monospace\">Processing file: <span style=\"font-weight: bold\">C:\\Users\\kade\\Desktop\\training_dir_staging\\1_auroth_the_winter_wyvern\\</span><span style=\"color: #008080; text-decoration-color: #008080; font-weight: bold\">874555.j</span><span style=\"font-weight: bold\">son</span>\n",
       "</pre>\n"
      ],
      "text/plain": [
       "Processing file: \u001b[1mC:\\Users\\kade\\Desktop\\training_dir_staging\\1_auroth_the_winter_wyvern\\\u001b[0m\u001b[1;36m874555.j\u001b[0m\u001b[1mson\u001b[0m\n"
      ]
     },
     "metadata": {},
     "output_type": "display_data"
    },
    {
     "data": {
      "text/html": [
       "<pre style=\"white-space:pre;overflow-x:auto;line-height:normal;font-family:Menlo,'DejaVu Sans Mono',consolas,'Courier New',monospace\">Creating caption file: \n",
       "<span style=\"font-weight: bold\">C:\\Users\\kade\\Desktop\\training_dir_staging\\1_auroth_the_winter_wyvern\\1bd3537bf896c14c1b120ac96dbcdc3c.txt</span>\n",
       "</pre>\n"
      ],
      "text/plain": [
       "Creating caption file: \n",
       "\u001b[1mC:\\Users\\kade\\Desktop\\training_dir_staging\\1_auroth_the_winter_wyvern\\1bd3537bf896c14c1b120ac96dbcdc3c.txt\u001b[0m\n"
      ]
     },
     "metadata": {},
     "output_type": "display_data"
    },
    {
     "data": {
      "text/html": [
       "<pre style=\"white-space:pre;overflow-x:auto;line-height:normal;font-family:Menlo,'DejaVu Sans Mono',consolas,'Courier New',monospace\">Writing tags: <span style=\"font-style: italic\">black background, blue body, blue claws, blue eyes, blue fur, blue scales, butt, claws, clitoris, </span>\n",
       "<span style=\"font-style: italic\">crouching, female, feral, fur, genitals, looking back, membrane \\</span><span style=\"font-weight: bold; font-style: italic\">(</span><span style=\"font-style: italic\">anatomy\\</span><span style=\"font-weight: bold; font-style: italic\">)</span><span style=\"font-style: italic\">, membranous wings, nude, open mouth, </span>\n",
       "<span style=\"font-style: italic\">pussy, raised tail, rear view, scales, seductive, simple background, solo, spikes, tail, teeth, toe claws, wings, </span>\n",
       "<span style=\"font-style: italic\">by hawkilla, european mythology, mythology, auroth the winter wyvern, dragon, mythological creature, mythological </span>\n",
       "<span style=\"font-style: italic\">scalie, scalie, western dragon, wyvern</span>\n",
       "</pre>\n"
      ],
      "text/plain": [
       "Writing tags: \u001b[3mblack background, blue body, blue claws, blue eyes, blue fur, blue scales, butt, claws, clitoris, \u001b[0m\n",
       "\u001b[3mcrouching, female, feral, fur, genitals, looking back, membrane \\\u001b[0m\u001b[1;3m(\u001b[0m\u001b[3manatomy\\\u001b[0m\u001b[1;3m)\u001b[0m\u001b[3m, membranous wings, nude, open mouth, \u001b[0m\n",
       "\u001b[3mpussy, raised tail, rear view, scales, seductive, simple background, solo, spikes, tail, teeth, toe claws, wings, \u001b[0m\n",
       "\u001b[3mby hawkilla, european mythology, mythology, auroth the winter wyvern, dragon, mythological creature, mythological \u001b[0m\n",
       "\u001b[3mscalie, scalie, western dragon, wyvern\u001b[0m\n"
      ]
     },
     "metadata": {},
     "output_type": "display_data"
    },
    {
     "data": {
      "text/html": [
       "<pre style=\"white-space:pre;overflow-x:auto;line-height:normal;font-family:Menlo,'DejaVu Sans Mono',consolas,'Courier New',monospace\">Processing file: <span style=\"font-weight: bold\">C:\\Users\\kade\\Desktop\\training_dir_staging\\1_auroth_the_winter_wyvern\\</span><span style=\"color: #008080; text-decoration-color: #008080; font-weight: bold\">899418.j</span><span style=\"font-weight: bold\">son</span>\n",
       "</pre>\n"
      ],
      "text/plain": [
       "Processing file: \u001b[1mC:\\Users\\kade\\Desktop\\training_dir_staging\\1_auroth_the_winter_wyvern\\\u001b[0m\u001b[1;36m899418.j\u001b[0m\u001b[1mson\u001b[0m\n"
      ]
     },
     "metadata": {},
     "output_type": "display_data"
    },
    {
     "data": {
      "text/html": [
       "<pre style=\"white-space:pre;overflow-x:auto;line-height:normal;font-family:Menlo,'DejaVu Sans Mono',consolas,'Courier New',monospace\">Creating caption file: \n",
       "<span style=\"font-weight: bold\">C:\\Users\\kade\\Desktop\\training_dir_staging\\1_auroth_the_winter_wyvern\\683f85f40a7e57c99d86f8d837683260.txt</span>\n",
       "</pre>\n"
      ],
      "text/plain": [
       "Creating caption file: \n",
       "\u001b[1mC:\\Users\\kade\\Desktop\\training_dir_staging\\1_auroth_the_winter_wyvern\\683f85f40a7e57c99d86f8d837683260.txt\u001b[0m\n"
      ]
     },
     "metadata": {},
     "output_type": "display_data"
    },
    {
     "data": {
      "text/html": [
       "<pre style=\"white-space:pre;overflow-x:auto;line-height:normal;font-family:Menlo,'DejaVu Sans Mono',consolas,'Courier New',monospace\">Writing tags: <span style=\"font-style: italic\">anthro, anthrofied, areola, bedroom eyes, belly scales, big breasts, big butt, biped, blue body, blue</span>\n",
       "<span style=\"font-style: italic\">eyes, blue fur, blue hair, blue nipples, blue scales, blue tail, breasts, butt, butt pose, claws, curvy figure, </span>\n",
       "<span style=\"font-style: italic\">fangs, female, fur, glowing, glowing eyes, grin, hair, half-closed eyes, hand on hip, long hair, looking at viewer,</span>\n",
       "<span style=\"font-style: italic\">looking back, membrane \\</span><span style=\"font-weight: bold; font-style: italic\">(</span><span style=\"font-style: italic\">anatomy\\</span><span style=\"font-weight: bold; font-style: italic\">)</span><span style=\"font-style: italic\">, membranous wings, muscular, muscular anthro, muscular female, muscular thighs, </span>\n",
       "<span style=\"font-style: italic\">narrowed eyes, nipples, non-mammal breasts, nude, pinup, pose, rear view, scales, seductive, sharp teeth, side </span>\n",
       "<span style=\"font-style: italic\">boob, smile, solo, spiked tail, spikes, spikes \\</span><span style=\"font-weight: bold; font-style: italic\">(</span><span style=\"font-style: italic\">anatomy\\</span><span style=\"font-weight: bold; font-style: italic\">)</span><span style=\"font-style: italic\">, standing, tail, teeth, text, thick tail, thick thighs, </span>\n",
       "<span style=\"font-style: italic\">voluptuous, wide hips, wings, by doomthewolf, mythology, auroth the winter wyvern, dragon, furred dragon, </span>\n",
       "<span style=\"font-style: italic\">mythological creature, mythological scalie, scalie, digital media \\</span><span style=\"font-weight: bold; font-style: italic\">(</span><span style=\"font-style: italic\">artwork\\</span><span style=\"font-weight: bold; font-style: italic\">)</span><span style=\"font-style: italic\">, url</span>\n",
       "</pre>\n"
      ],
      "text/plain": [
       "Writing tags: \u001b[3manthro, anthrofied, areola, bedroom eyes, belly scales, big breasts, big butt, biped, blue body, blue\u001b[0m\n",
       "\u001b[3meyes, blue fur, blue hair, blue nipples, blue scales, blue tail, breasts, butt, butt pose, claws, curvy figure, \u001b[0m\n",
       "\u001b[3mfangs, female, fur, glowing, glowing eyes, grin, hair, half-closed eyes, hand on hip, long hair, looking at viewer,\u001b[0m\n",
       "\u001b[3mlooking back, membrane \\\u001b[0m\u001b[1;3m(\u001b[0m\u001b[3manatomy\\\u001b[0m\u001b[1;3m)\u001b[0m\u001b[3m, membranous wings, muscular, muscular anthro, muscular female, muscular thighs, \u001b[0m\n",
       "\u001b[3mnarrowed eyes, nipples, non-mammal breasts, nude, pinup, pose, rear view, scales, seductive, sharp teeth, side \u001b[0m\n",
       "\u001b[3mboob, smile, solo, spiked tail, spikes, spikes \\\u001b[0m\u001b[1;3m(\u001b[0m\u001b[3manatomy\\\u001b[0m\u001b[1;3m)\u001b[0m\u001b[3m, standing, tail, teeth, text, thick tail, thick thighs, \u001b[0m\n",
       "\u001b[3mvoluptuous, wide hips, wings, by doomthewolf, mythology, auroth the winter wyvern, dragon, furred dragon, \u001b[0m\n",
       "\u001b[3mmythological creature, mythological scalie, scalie, digital media \\\u001b[0m\u001b[1;3m(\u001b[0m\u001b[3martwork\\\u001b[0m\u001b[1;3m)\u001b[0m\u001b[3m, url\u001b[0m\n"
      ]
     },
     "metadata": {},
     "output_type": "display_data"
    },
    {
     "data": {
      "text/html": [
       "<pre style=\"white-space:pre;overflow-x:auto;line-height:normal;font-family:Menlo,'DejaVu Sans Mono',consolas,'Courier New',monospace\">Processing file: <span style=\"font-weight: bold\">C:\\Users\\kade\\Desktop\\training_dir_staging\\1_auroth_the_winter_wyvern\\</span><span style=\"color: #008080; text-decoration-color: #008080; font-weight: bold\">988394.j</span><span style=\"font-weight: bold\">son</span>\n",
       "</pre>\n"
      ],
      "text/plain": [
       "Processing file: \u001b[1mC:\\Users\\kade\\Desktop\\training_dir_staging\\1_auroth_the_winter_wyvern\\\u001b[0m\u001b[1;36m988394.j\u001b[0m\u001b[1mson\u001b[0m\n"
      ]
     },
     "metadata": {},
     "output_type": "display_data"
    },
    {
     "data": {
      "text/html": [
       "<pre style=\"white-space:pre;overflow-x:auto;line-height:normal;font-family:Menlo,'DejaVu Sans Mono',consolas,'Courier New',monospace\">Creating caption file: \n",
       "<span style=\"font-weight: bold\">C:\\Users\\kade\\Desktop\\training_dir_staging\\1_auroth_the_winter_wyvern\\c83477e278268426cd39ee8031878c6e.txt</span>\n",
       "</pre>\n"
      ],
      "text/plain": [
       "Creating caption file: \n",
       "\u001b[1mC:\\Users\\kade\\Desktop\\training_dir_staging\\1_auroth_the_winter_wyvern\\c83477e278268426cd39ee8031878c6e.txt\u001b[0m\n"
      ]
     },
     "metadata": {},
     "output_type": "display_data"
    },
    {
     "data": {
      "text/html": [
       "<pre style=\"white-space:pre;overflow-x:auto;line-height:normal;font-family:Menlo,'DejaVu Sans Mono',consolas,'Courier New',monospace\">Writing tags: <span style=\"font-style: italic\">anthro, anthrofied, blue body, blue eyes, blue hair, blue scales, blue teeth, breasts, featureless </span>\n",
       "<span style=\"font-style: italic\">breasts, female, grey background, hair, long hair, looking at viewer, non-mammal breasts, nude, scales, sharp </span>\n",
       "<span style=\"font-style: italic\">teeth, simple background, solo, teeth, by hawkilla, european mythology, mythology, auroth the winter wyvern, </span>\n",
       "<span style=\"font-style: italic\">dragon, mythological creature, mythological scalie, scalie, western dragon, wyvern</span>\n",
       "</pre>\n"
      ],
      "text/plain": [
       "Writing tags: \u001b[3manthro, anthrofied, blue body, blue eyes, blue hair, blue scales, blue teeth, breasts, featureless \u001b[0m\n",
       "\u001b[3mbreasts, female, grey background, hair, long hair, looking at viewer, non-mammal breasts, nude, scales, sharp \u001b[0m\n",
       "\u001b[3mteeth, simple background, solo, teeth, by hawkilla, european mythology, mythology, auroth the winter wyvern, \u001b[0m\n",
       "\u001b[3mdragon, mythological creature, mythological scalie, scalie, western dragon, wyvern\u001b[0m\n"
      ]
     },
     "metadata": {},
     "output_type": "display_data"
    },
    {
     "data": {
      "text/html": [
       "<pre style=\"white-space:pre;overflow-x:auto;line-height:normal;font-family:Menlo,'DejaVu Sans Mono',consolas,'Courier New',monospace\">Processing file: <span style=\"font-weight: bold\">C:\\Users\\kade\\Desktop\\training_dir_staging\\1_realistic\\</span><span style=\"color: #008080; text-decoration-color: #008080; font-weight: bold\">29209.j</span><span style=\"font-weight: bold\">son</span>\n",
       "</pre>\n"
      ],
      "text/plain": [
       "Processing file: \u001b[1mC:\\Users\\kade\\Desktop\\training_dir_staging\\1_realistic\\\u001b[0m\u001b[1;36m29209.j\u001b[0m\u001b[1mson\u001b[0m\n"
      ]
     },
     "metadata": {},
     "output_type": "display_data"
    },
    {
     "data": {
      "text/html": [
       "<pre style=\"white-space:pre;overflow-x:auto;line-height:normal;font-family:Menlo,'DejaVu Sans Mono',consolas,'Courier New',monospace\">Creating caption file: <span style=\"font-weight: bold\">C:\\Users\\kade\\Desktop\\training_dir_staging\\1_realistic\\441e95f17163856adbcdee6b1b2cb433.txt</span>\n",
       "</pre>\n"
      ],
      "text/plain": [
       "Creating caption file: \u001b[1mC:\\Users\\kade\\Desktop\\training_dir_staging\\1_realistic\\441e95f17163856adbcdee6b1b2cb433.txt\u001b[0m\n"
      ]
     },
     "metadata": {},
     "output_type": "display_data"
    },
    {
     "data": {
      "text/html": [
       "<pre style=\"white-space:pre;overflow-x:auto;line-height:normal;font-family:Menlo,'DejaVu Sans Mono',consolas,'Courier New',monospace\">Writing tags: <span style=\"font-style: italic\">animal genitalia, animal pussy, anus, black anus, black body, black claws, black fur, black nose, </span>\n",
       "<span style=\"font-style: italic\">brown body, brown eyes, brown fur, butt, canine genitalia, canine pussy, claws, collar, detailed background, </span>\n",
       "<span style=\"font-style: italic\">detailed fur, dewlap \\</span><span style=\"font-weight: bold; font-style: italic\">(</span><span style=\"font-style: italic\">anatomy\\</span><span style=\"font-weight: bold; font-style: italic\">)</span><span style=\"font-style: italic\">, female, feral, floppy ears, forest, fur, genitals, glistening, glistening eyes, </span>\n",
       "<span style=\"font-style: italic\">grass, group, jowls, light, light beam, looking at viewer, mouth closed, multicolored body, multicolored fur, </span>\n",
       "<span style=\"font-style: italic\">outside, paws, pink anus, pink pussy, plant, pussy, raised tail, realistic, short fur, short tail, shrub, sunbeam, </span>\n",
       "<span style=\"font-style: italic\">sunlight, tree, trio, wrinkles, blp, canid, canine, canis, domestic dog, mammal, mastiff, molosser, attempted </span>\n",
       "<span style=\"font-style: italic\">signature, lighting</span>\n",
       "</pre>\n"
      ],
      "text/plain": [
       "Writing tags: \u001b[3manimal genitalia, animal pussy, anus, black anus, black body, black claws, black fur, black nose, \u001b[0m\n",
       "\u001b[3mbrown body, brown eyes, brown fur, butt, canine genitalia, canine pussy, claws, collar, detailed background, \u001b[0m\n",
       "\u001b[3mdetailed fur, dewlap \\\u001b[0m\u001b[1;3m(\u001b[0m\u001b[3manatomy\\\u001b[0m\u001b[1;3m)\u001b[0m\u001b[3m, female, feral, floppy ears, forest, fur, genitals, glistening, glistening eyes, \u001b[0m\n",
       "\u001b[3mgrass, group, jowls, light, light beam, looking at viewer, mouth closed, multicolored body, multicolored fur, \u001b[0m\n",
       "\u001b[3moutside, paws, pink anus, pink pussy, plant, pussy, raised tail, realistic, short fur, short tail, shrub, sunbeam, \u001b[0m\n",
       "\u001b[3msunlight, tree, trio, wrinkles, blp, canid, canine, canis, domestic dog, mammal, mastiff, molosser, attempted \u001b[0m\n",
       "\u001b[3msignature, lighting\u001b[0m\n"
      ]
     },
     "metadata": {},
     "output_type": "display_data"
    },
    {
     "data": {
      "text/html": [
       "<pre style=\"white-space:pre;overflow-x:auto;line-height:normal;font-family:Menlo,'DejaVu Sans Mono',consolas,'Courier New',monospace\">Processing file: <span style=\"font-weight: bold\">C:\\Users\\kade\\Desktop\\training_dir_staging\\1_realistic\\</span><span style=\"color: #008080; text-decoration-color: #008080; font-weight: bold\">29954.j</span><span style=\"font-weight: bold\">son</span>\n",
       "</pre>\n"
      ],
      "text/plain": [
       "Processing file: \u001b[1mC:\\Users\\kade\\Desktop\\training_dir_staging\\1_realistic\\\u001b[0m\u001b[1;36m29954.j\u001b[0m\u001b[1mson\u001b[0m\n"
      ]
     },
     "metadata": {},
     "output_type": "display_data"
    },
    {
     "data": {
      "text/html": [
       "<pre style=\"white-space:pre;overflow-x:auto;line-height:normal;font-family:Menlo,'DejaVu Sans Mono',consolas,'Courier New',monospace\">Creating caption file: <span style=\"font-weight: bold\">C:\\Users\\kade\\Desktop\\training_dir_staging\\1_realistic\\7af8f639c59f0276970a3b476778c9a5.txt</span>\n",
       "</pre>\n"
      ],
      "text/plain": [
       "Creating caption file: \u001b[1mC:\\Users\\kade\\Desktop\\training_dir_staging\\1_realistic\\7af8f639c59f0276970a3b476778c9a5.txt\u001b[0m\n"
      ]
     },
     "metadata": {},
     "output_type": "display_data"
    },
    {
     "data": {
      "text/html": [
       "<pre style=\"white-space:pre;overflow-x:auto;line-height:normal;font-family:Menlo,'DejaVu Sans Mono',consolas,'Courier New',monospace\">Writing tags: <span style=\"font-style: italic\">animal genitalia, animal pussy, anus, big ears, black nose, black pawpads, black pussy, brown eyes, </span>\n",
       "<span style=\"font-style: italic\">butt, canine pussy, cheek tuft, day, detailed background, detailed fur, ears up, facial tuft, female, feral, </span>\n",
       "<span style=\"font-style: italic\">flower, forest, fur, genitals, glistening, glistening eyes, grey body, grey fur, inner ear fluff, light, </span>\n",
       "<span style=\"font-style: italic\">multicolored body, multicolored fur, outside, pawpads, pink anus, plant, presenting, presenting hindquarters, </span>\n",
       "<span style=\"font-style: italic\">pussy, raised tail, realistic, rock, slim, solo, sunlight, tan body, tan fur, three-quarter view, tree, tuft, white</span>\n",
       "<span style=\"font-style: italic\">body, white fur, y anus, blp, canid, canine, canis, coyote, mammal, lighting</span>\n",
       "</pre>\n"
      ],
      "text/plain": [
       "Writing tags: \u001b[3manimal genitalia, animal pussy, anus, big ears, black nose, black pawpads, black pussy, brown eyes, \u001b[0m\n",
       "\u001b[3mbutt, canine pussy, cheek tuft, day, detailed background, detailed fur, ears up, facial tuft, female, feral, \u001b[0m\n",
       "\u001b[3mflower, forest, fur, genitals, glistening, glistening eyes, grey body, grey fur, inner ear fluff, light, \u001b[0m\n",
       "\u001b[3mmulticolored body, multicolored fur, outside, pawpads, pink anus, plant, presenting, presenting hindquarters, \u001b[0m\n",
       "\u001b[3mpussy, raised tail, realistic, rock, slim, solo, sunlight, tan body, tan fur, three-quarter view, tree, tuft, white\u001b[0m\n",
       "\u001b[3mbody, white fur, y anus, blp, canid, canine, canis, coyote, mammal, lighting\u001b[0m\n"
      ]
     },
     "metadata": {},
     "output_type": "display_data"
    },
    {
     "data": {
      "text/html": [
       "<pre style=\"white-space:pre;overflow-x:auto;line-height:normal;font-family:Menlo,'DejaVu Sans Mono',consolas,'Courier New',monospace\">Processing file: <span style=\"font-weight: bold\">C:\\Users\\kade\\Desktop\\training_dir_staging\\1_tibetan_sand_fox\\</span><span style=\"color: #008080; text-decoration-color: #008080; font-weight: bold\">2158069.j</span><span style=\"font-weight: bold\">son</span>\n",
       "</pre>\n"
      ],
      "text/plain": [
       "Processing file: \u001b[1mC:\\Users\\kade\\Desktop\\training_dir_staging\\1_tibetan_sand_fox\\\u001b[0m\u001b[1;36m2158069.j\u001b[0m\u001b[1mson\u001b[0m\n"
      ]
     },
     "metadata": {},
     "output_type": "display_data"
    },
    {
     "data": {
      "text/html": [
       "<pre style=\"white-space:pre;overflow-x:auto;line-height:normal;font-family:Menlo,'DejaVu Sans Mono',consolas,'Courier New',monospace\">Creating caption file: \n",
       "<span style=\"font-weight: bold\">C:\\Users\\kade\\Desktop\\training_dir_staging\\1_tibetan_sand_fox\\73036189d69d46bceed4634edfdeffc1.txt</span>\n",
       "</pre>\n"
      ],
      "text/plain": [
       "Creating caption file: \n",
       "\u001b[1mC:\\Users\\kade\\Desktop\\training_dir_staging\\1_tibetan_sand_fox\\73036189d69d46bceed4634edfdeffc1.txt\u001b[0m\n"
      ]
     },
     "metadata": {},
     "output_type": "display_data"
    },
    {
     "data": {
      "text/html": [
       "<pre style=\"white-space:pre;overflow-x:auto;line-height:normal;font-family:Menlo,'DejaVu Sans Mono',consolas,'Courier New',monospace\">Writing tags: <span style=\"font-style: italic\">anthro, bottomwear, brown body, brown fur, claws, cleaver, clothed, clothing, collage, dipstick tail,</span>\n",
       "<span style=\"font-style: italic\">female, footwear, fur, gradient background, half-closed eyes, hoodie, knife, legwear, looking at viewer, looking </span>\n",
       "<span style=\"font-style: italic\">back, markings, melee weapon, multicolored tail, narrowed eyes, panties, panty shot, pawpads, pupils, shoes, simple</span>\n",
       "<span style=\"font-style: italic\">background, skirt, slit pupils, socks, solo, standing, sweater, sword, tail, tail markings, tiptoes, topwear, </span>\n",
       "<span style=\"font-style: italic\">underwear, upskirt, weapon, yellow eyes, by nibhaaz, nibhaaz \\</span><span style=\"font-weight: bold; font-style: italic\">(</span><span style=\"font-style: italic\">character\\</span><span style=\"font-weight: bold; font-style: italic\">)</span><span style=\"font-style: italic\">, canid, canine, fox, mammal, tibetan </span>\n",
       "<span style=\"font-style: italic\">sand fox, true fox, digital media \\</span><span style=\"font-weight: bold; font-style: italic\">(</span><span style=\"font-style: italic\">artwork\\</span><span style=\"font-weight: bold; font-style: italic\">)</span>\n",
       "</pre>\n"
      ],
      "text/plain": [
       "Writing tags: \u001b[3manthro, bottomwear, brown body, brown fur, claws, cleaver, clothed, clothing, collage, dipstick tail,\u001b[0m\n",
       "\u001b[3mfemale, footwear, fur, gradient background, half-closed eyes, hoodie, knife, legwear, looking at viewer, looking \u001b[0m\n",
       "\u001b[3mback, markings, melee weapon, multicolored tail, narrowed eyes, panties, panty shot, pawpads, pupils, shoes, simple\u001b[0m\n",
       "\u001b[3mbackground, skirt, slit pupils, socks, solo, standing, sweater, sword, tail, tail markings, tiptoes, topwear, \u001b[0m\n",
       "\u001b[3munderwear, upskirt, weapon, yellow eyes, by nibhaaz, nibhaaz \\\u001b[0m\u001b[1;3m(\u001b[0m\u001b[3mcharacter\\\u001b[0m\u001b[1;3m)\u001b[0m\u001b[3m, canid, canine, fox, mammal, tibetan \u001b[0m\n",
       "\u001b[3msand fox, true fox, digital media \\\u001b[0m\u001b[1;3m(\u001b[0m\u001b[3martwork\\\u001b[0m\u001b[1;3m)\u001b[0m\n"
      ]
     },
     "metadata": {},
     "output_type": "display_data"
    },
    {
     "data": {
      "text/html": [
       "<pre style=\"white-space:pre;overflow-x:auto;line-height:normal;font-family:Menlo,'DejaVu Sans Mono',consolas,'Courier New',monospace\">Processing file: <span style=\"font-weight: bold\">C:\\Users\\kade\\Desktop\\training_dir_staging\\1_tibetan_sand_fox\\</span><span style=\"color: #008080; text-decoration-color: #008080; font-weight: bold\">3034494.j</span><span style=\"font-weight: bold\">son</span>\n",
       "</pre>\n"
      ],
      "text/plain": [
       "Processing file: \u001b[1mC:\\Users\\kade\\Desktop\\training_dir_staging\\1_tibetan_sand_fox\\\u001b[0m\u001b[1;36m3034494.j\u001b[0m\u001b[1mson\u001b[0m\n"
      ]
     },
     "metadata": {},
     "output_type": "display_data"
    },
    {
     "data": {
      "text/html": [
       "<pre style=\"white-space:pre;overflow-x:auto;line-height:normal;font-family:Menlo,'DejaVu Sans Mono',consolas,'Courier New',monospace\">Creating caption file: \n",
       "<span style=\"font-weight: bold\">C:\\Users\\kade\\Desktop\\training_dir_staging\\1_tibetan_sand_fox\\c86172f9d9747dee7721a3cdf581f293.txt</span>\n",
       "</pre>\n"
      ],
      "text/plain": [
       "Creating caption file: \n",
       "\u001b[1mC:\\Users\\kade\\Desktop\\training_dir_staging\\1_tibetan_sand_fox\\c86172f9d9747dee7721a3cdf581f293.txt\u001b[0m\n"
      ]
     },
     "metadata": {},
     "output_type": "display_data"
    },
    {
     "data": {
      "text/html": [
       "<pre style=\"white-space:pre;overflow-x:auto;line-height:normal;font-family:Menlo,'DejaVu Sans Mono',consolas,'Courier New',monospace\">Writing tags: <span style=\"color: #008080; text-decoration-color: #008080; font-weight: bold; font-style: italic\">4</span><span style=\"font-style: italic\"> fingers, anthro, big breasts, blush, blush lines, breasts, brown eyes, claws, clothing, eating, </span>\n",
       "<span style=\"font-style: italic\">eyebrows, female, female anthro, finger claws, fingers, food, fur, grey body, grey fur, grey hair, hair, </span>\n",
       "<span style=\"font-style: italic\">half-closed eyes, holding food, holding object, huge breasts, kemono, multicolored body, multicolored fur, </span>\n",
       "<span style=\"font-style: italic\">multicolored hair, narrowed eyes, onigiri, overweight, overweight anthro, overweight female, rice, satisfied, short</span>\n",
       "<span style=\"font-style: italic\">hair, simple background, solo, sweater, tan body, tan fur, tan hair, text, thick eyebrows, topwear, white </span>\n",
       "<span style=\"font-style: italic\">background, white body, white fur, white hair, by 848siba, canid, canine, fox, mammal, tibetan sand fox, true fox, </span>\n",
       "<span style=\"font-style: italic\">digital media \\</span><span style=\"font-weight: bold; font-style: italic\">(</span><span style=\"font-style: italic\">artwork\\</span><span style=\"font-weight: bold; font-style: italic\">)</span><span style=\"font-style: italic\">, half-length portrait, japanese text, portrait</span>\n",
       "</pre>\n"
      ],
      "text/plain": [
       "Writing tags: \u001b[1;3;36m4\u001b[0m\u001b[3m fingers, anthro, big breasts, blush, blush lines, breasts, brown eyes, claws, clothing, eating, \u001b[0m\n",
       "\u001b[3meyebrows, female, female anthro, finger claws, fingers, food, fur, grey body, grey fur, grey hair, hair, \u001b[0m\n",
       "\u001b[3mhalf-closed eyes, holding food, holding object, huge breasts, kemono, multicolored body, multicolored fur, \u001b[0m\n",
       "\u001b[3mmulticolored hair, narrowed eyes, onigiri, overweight, overweight anthro, overweight female, rice, satisfied, short\u001b[0m\n",
       "\u001b[3mhair, simple background, solo, sweater, tan body, tan fur, tan hair, text, thick eyebrows, topwear, white \u001b[0m\n",
       "\u001b[3mbackground, white body, white fur, white hair, by 848siba, canid, canine, fox, mammal, tibetan sand fox, true fox, \u001b[0m\n",
       "\u001b[3mdigital media \\\u001b[0m\u001b[1;3m(\u001b[0m\u001b[3martwork\\\u001b[0m\u001b[1;3m)\u001b[0m\u001b[3m, half-length portrait, japanese text, portrait\u001b[0m\n"
      ]
     },
     "metadata": {},
     "output_type": "display_data"
    },
    {
     "data": {
      "text/html": [
       "<pre style=\"white-space:pre;overflow-x:auto;line-height:normal;font-family:Menlo,'DejaVu Sans Mono',consolas,'Courier New',monospace\">Processing file: <span style=\"font-weight: bold\">C:\\Users\\kade\\Desktop\\training_dir_staging\\1_tibetan_sand_fox\\</span><span style=\"color: #008080; text-decoration-color: #008080; font-weight: bold\">3311067.j</span><span style=\"font-weight: bold\">son</span>\n",
       "</pre>\n"
      ],
      "text/plain": [
       "Processing file: \u001b[1mC:\\Users\\kade\\Desktop\\training_dir_staging\\1_tibetan_sand_fox\\\u001b[0m\u001b[1;36m3311067.j\u001b[0m\u001b[1mson\u001b[0m\n"
      ]
     },
     "metadata": {},
     "output_type": "display_data"
    },
    {
     "data": {
      "text/html": [
       "<pre style=\"white-space:pre;overflow-x:auto;line-height:normal;font-family:Menlo,'DejaVu Sans Mono',consolas,'Courier New',monospace\">Creating caption file: \n",
       "<span style=\"font-weight: bold\">C:\\Users\\kade\\Desktop\\training_dir_staging\\1_tibetan_sand_fox\\30261212a214395a2f9d2bfe24195ecc.txt</span>\n",
       "</pre>\n"
      ],
      "text/plain": [
       "Creating caption file: \n",
       "\u001b[1mC:\\Users\\kade\\Desktop\\training_dir_staging\\1_tibetan_sand_fox\\30261212a214395a2f9d2bfe24195ecc.txt\u001b[0m\n"
      ]
     },
     "metadata": {},
     "output_type": "display_data"
    },
    {
     "data": {
      "text/html": [
       "<pre style=\"white-space:pre;overflow-x:auto;line-height:normal;font-family:Menlo,'DejaVu Sans Mono',consolas,'Courier New',monospace\">Writing tags: <span style=\"color: #008080; text-decoration-color: #008080; font-weight: bold; font-style: italic\">5</span><span style=\"font-style: italic\"> fingers, anthro, bare shoulders, bikini, breasts, brown body, brown ears, brown fur, brown hair, </span>\n",
       "<span style=\"font-style: italic\">brown nose, claws, cleavage cutout, clothed, clothing, collarbone, countershade face, countershade legs, </span>\n",
       "<span style=\"font-style: italic\">countershade torso, countershading, cutout, female, female anthro, finger claws, fingers, fully clothed, fur, hair,</span>\n",
       "<span style=\"font-style: italic\">hair bun, humanoid hands, kemono, light body, multicolored body, multicolored fur, navel, purple bikini, purple </span>\n",
       "<span style=\"font-style: italic\">clothing, purple swimwear, sagging breasts, simple background, solo, swimwear, text, two tone body, two tone fur, </span>\n",
       "<span style=\"font-style: italic\">under boob, whiskers, white background, white body, white countershading, white fur, white inner ear, by kazuhiro, </span>\n",
       "<span style=\"font-style: italic\">canid, canine, fox, mammal, tibetan sand fox, true fox, digital media \\</span><span style=\"font-weight: bold; font-style: italic\">(</span><span style=\"font-style: italic\">artwork\\</span><span style=\"font-weight: bold; font-style: italic\">)</span><span style=\"font-style: italic\">, japanese text, portrait, </span>\n",
       "<span style=\"font-style: italic\">three-quarter portrait, translation request</span>\n",
       "</pre>\n"
      ],
      "text/plain": [
       "Writing tags: \u001b[1;3;36m5\u001b[0m\u001b[3m fingers, anthro, bare shoulders, bikini, breasts, brown body, brown ears, brown fur, brown hair, \u001b[0m\n",
       "\u001b[3mbrown nose, claws, cleavage cutout, clothed, clothing, collarbone, countershade face, countershade legs, \u001b[0m\n",
       "\u001b[3mcountershade torso, countershading, cutout, female, female anthro, finger claws, fingers, fully clothed, fur, hair,\u001b[0m\n",
       "\u001b[3mhair bun, humanoid hands, kemono, light body, multicolored body, multicolored fur, navel, purple bikini, purple \u001b[0m\n",
       "\u001b[3mclothing, purple swimwear, sagging breasts, simple background, solo, swimwear, text, two tone body, two tone fur, \u001b[0m\n",
       "\u001b[3munder boob, whiskers, white background, white body, white countershading, white fur, white inner ear, by kazuhiro, \u001b[0m\n",
       "\u001b[3mcanid, canine, fox, mammal, tibetan sand fox, true fox, digital media \\\u001b[0m\u001b[1;3m(\u001b[0m\u001b[3martwork\\\u001b[0m\u001b[1;3m)\u001b[0m\u001b[3m, japanese text, portrait, \u001b[0m\n",
       "\u001b[3mthree-quarter portrait, translation request\u001b[0m\n"
      ]
     },
     "metadata": {},
     "output_type": "display_data"
    },
    {
     "data": {
      "text/html": [
       "<pre style=\"white-space:pre;overflow-x:auto;line-height:normal;font-family:Menlo,'DejaVu Sans Mono',consolas,'Courier New',monospace\">Processing file: <span style=\"font-weight: bold\">C:\\Users\\kade\\Desktop\\training_dir_staging\\1_tibetan_sand_fox\\</span><span style=\"color: #008080; text-decoration-color: #008080; font-weight: bold\">3384187.j</span><span style=\"font-weight: bold\">son</span>\n",
       "</pre>\n"
      ],
      "text/plain": [
       "Processing file: \u001b[1mC:\\Users\\kade\\Desktop\\training_dir_staging\\1_tibetan_sand_fox\\\u001b[0m\u001b[1;36m3384187.j\u001b[0m\u001b[1mson\u001b[0m\n"
      ]
     },
     "metadata": {},
     "output_type": "display_data"
    },
    {
     "data": {
      "text/html": [
       "<pre style=\"white-space:pre;overflow-x:auto;line-height:normal;font-family:Menlo,'DejaVu Sans Mono',consolas,'Courier New',monospace\">Creating caption file: \n",
       "<span style=\"font-weight: bold\">C:\\Users\\kade\\Desktop\\training_dir_staging\\1_tibetan_sand_fox\\393493d693b319e5fce484be7dab290f.txt</span>\n",
       "</pre>\n"
      ],
      "text/plain": [
       "Creating caption file: \n",
       "\u001b[1mC:\\Users\\kade\\Desktop\\training_dir_staging\\1_tibetan_sand_fox\\393493d693b319e5fce484be7dab290f.txt\u001b[0m\n"
      ]
     },
     "metadata": {},
     "output_type": "display_data"
    },
    {
     "data": {
      "text/html": [
       "<pre style=\"white-space:pre;overflow-x:auto;line-height:normal;font-family:Menlo,'DejaVu Sans Mono',consolas,'Courier New',monospace\">Writing tags: <span style=\"font-style: italic\">all fours, animal genitalia, animal penis, annoyed, anthro, armpit tuft, balls, bottomwear, breasts, </span>\n",
       "<span style=\"font-style: italic\">butt, canine genitalia, canine penis, cleavage, clothed, clothing, coffee mug, container, crossed arms, cup, </span>\n",
       "<span style=\"font-style: italic\">cutoffs, daisy dukes, denim, denim bottomwear, denim clothing, erection, front view, fur, genitals, gynomorph, hand</span>\n",
       "<span style=\"font-style: italic\">behind head, hands behind head, holding container, holding cup, holding object, hoodie, hotpants, intersex, knot, </span>\n",
       "<span style=\"font-style: italic\">open shorts, penis, penis in face, rear view, red penis, shirt, shorts, skirt, snarling, solo, standing, tan body, </span>\n",
       "<span style=\"font-style: italic\">tan fur, tank top, topwear, underwear, by nibhaaz, nibhaaz \\</span><span style=\"font-weight: bold; font-style: italic\">(</span><span style=\"font-style: italic\">character\\</span><span style=\"font-weight: bold; font-style: italic\">)</span><span style=\"font-style: italic\">, canid, canine, fox, mammal, tibetan sand </span>\n",
       "<span style=\"font-style: italic\">fox, true fox, digital media \\</span><span style=\"font-weight: bold; font-style: italic\">(</span><span style=\"font-style: italic\">artwork\\</span><span style=\"font-weight: bold; font-style: italic\">)</span><span style=\"font-style: italic\">, multiple images</span>\n",
       "</pre>\n"
      ],
      "text/plain": [
       "Writing tags: \u001b[3mall fours, animal genitalia, animal penis, annoyed, anthro, armpit tuft, balls, bottomwear, breasts, \u001b[0m\n",
       "\u001b[3mbutt, canine genitalia, canine penis, cleavage, clothed, clothing, coffee mug, container, crossed arms, cup, \u001b[0m\n",
       "\u001b[3mcutoffs, daisy dukes, denim, denim bottomwear, denim clothing, erection, front view, fur, genitals, gynomorph, hand\u001b[0m\n",
       "\u001b[3mbehind head, hands behind head, holding container, holding cup, holding object, hoodie, hotpants, intersex, knot, \u001b[0m\n",
       "\u001b[3mopen shorts, penis, penis in face, rear view, red penis, shirt, shorts, skirt, snarling, solo, standing, tan body, \u001b[0m\n",
       "\u001b[3mtan fur, tank top, topwear, underwear, by nibhaaz, nibhaaz \\\u001b[0m\u001b[1;3m(\u001b[0m\u001b[3mcharacter\\\u001b[0m\u001b[1;3m)\u001b[0m\u001b[3m, canid, canine, fox, mammal, tibetan sand \u001b[0m\n",
       "\u001b[3mfox, true fox, digital media \\\u001b[0m\u001b[1;3m(\u001b[0m\u001b[3martwork\\\u001b[0m\u001b[1;3m)\u001b[0m\u001b[3m, multiple images\u001b[0m\n"
      ]
     },
     "metadata": {},
     "output_type": "display_data"
    },
    {
     "data": {
      "text/html": [
       "<pre style=\"white-space:pre;overflow-x:auto;line-height:normal;font-family:Menlo,'DejaVu Sans Mono',consolas,'Courier New',monospace\">Processing file: <span style=\"font-weight: bold\">C:\\Users\\kade\\Desktop\\training_dir_staging\\1_tibetan_sand_fox\\</span><span style=\"color: #008080; text-decoration-color: #008080; font-weight: bold\">3752769.j</span><span style=\"font-weight: bold\">son</span>\n",
       "</pre>\n"
      ],
      "text/plain": [
       "Processing file: \u001b[1mC:\\Users\\kade\\Desktop\\training_dir_staging\\1_tibetan_sand_fox\\\u001b[0m\u001b[1;36m3752769.j\u001b[0m\u001b[1mson\u001b[0m\n"
      ]
     },
     "metadata": {},
     "output_type": "display_data"
    },
    {
     "data": {
      "text/html": [
       "<pre style=\"white-space:pre;overflow-x:auto;line-height:normal;font-family:Menlo,'DejaVu Sans Mono',consolas,'Courier New',monospace\">Creating caption file: \n",
       "<span style=\"font-weight: bold\">C:\\Users\\kade\\Desktop\\training_dir_staging\\1_tibetan_sand_fox\\12899330cba693194650732daae1d5bc.txt</span>\n",
       "</pre>\n"
      ],
      "text/plain": [
       "Creating caption file: \n",
       "\u001b[1mC:\\Users\\kade\\Desktop\\training_dir_staging\\1_tibetan_sand_fox\\12899330cba693194650732daae1d5bc.txt\u001b[0m\n"
      ]
     },
     "metadata": {},
     "output_type": "display_data"
    },
    {
     "data": {
      "text/html": [
       "<pre style=\"white-space:pre;overflow-x:auto;line-height:normal;font-family:Menlo,'DejaVu Sans Mono',consolas,'Courier New',monospace\">Writing tags: <span style=\"font-style: italic\">anthro, areola, black nose, breasts, brown body, brown fur, cheek tuft, chest tuft, claws, clitoral </span>\n",
       "<span style=\"font-style: italic\">hood, eyes closed, facial tuft, female, fur, genitals, grey body, grey fur, grey hair, hair, hindpaw, navel, </span>\n",
       "<span style=\"font-style: italic\">neutral expression, nipples, nude, paws, pink nipples, pussy, simple background, solo, standing, tied hair, tuft, </span>\n",
       "<span style=\"font-style: italic\">white body, white fur, by foxboy83, by tootaloo, vixen logic, ferra \\</span><span style=\"font-weight: bold; font-style: italic\">(</span><span style=\"font-style: italic\">vixen logic\\</span><span style=\"font-weight: bold; font-style: italic\">)</span><span style=\"font-style: italic\">, canid, canine, fox, mammal, </span>\n",
       "<span style=\"font-style: italic\">tibetan sand fox, true fox, colored, flat colors, full-length portrait, model sheet, portrait</span>\n",
       "</pre>\n"
      ],
      "text/plain": [
       "Writing tags: \u001b[3manthro, areola, black nose, breasts, brown body, brown fur, cheek tuft, chest tuft, claws, clitoral \u001b[0m\n",
       "\u001b[3mhood, eyes closed, facial tuft, female, fur, genitals, grey body, grey fur, grey hair, hair, hindpaw, navel, \u001b[0m\n",
       "\u001b[3mneutral expression, nipples, nude, paws, pink nipples, pussy, simple background, solo, standing, tied hair, tuft, \u001b[0m\n",
       "\u001b[3mwhite body, white fur, by foxboy83, by tootaloo, vixen logic, ferra \\\u001b[0m\u001b[1;3m(\u001b[0m\u001b[3mvixen logic\\\u001b[0m\u001b[1;3m)\u001b[0m\u001b[3m, canid, canine, fox, mammal, \u001b[0m\n",
       "\u001b[3mtibetan sand fox, true fox, colored, flat colors, full-length portrait, model sheet, portrait\u001b[0m\n"
      ]
     },
     "metadata": {},
     "output_type": "display_data"
    },
    {
     "data": {
      "text/html": [
       "<pre style=\"white-space:pre;overflow-x:auto;line-height:normal;font-family:Menlo,'DejaVu Sans Mono',consolas,'Courier New',monospace\">Processing file: <span style=\"font-weight: bold\">C:\\Users\\kade\\Desktop\\training_dir_staging\\1_tibetan_sand_fox\\</span><span style=\"color: #008080; text-decoration-color: #008080; font-weight: bold\">4242736.j</span><span style=\"font-weight: bold\">son</span>\n",
       "</pre>\n"
      ],
      "text/plain": [
       "Processing file: \u001b[1mC:\\Users\\kade\\Desktop\\training_dir_staging\\1_tibetan_sand_fox\\\u001b[0m\u001b[1;36m4242736.j\u001b[0m\u001b[1mson\u001b[0m\n"
      ]
     },
     "metadata": {},
     "output_type": "display_data"
    },
    {
     "data": {
      "text/html": [
       "<pre style=\"white-space:pre;overflow-x:auto;line-height:normal;font-family:Menlo,'DejaVu Sans Mono',consolas,'Courier New',monospace\">Creating caption file: \n",
       "<span style=\"font-weight: bold\">C:\\Users\\kade\\Desktop\\training_dir_staging\\1_tibetan_sand_fox\\cbd20d11c803cfc78f7e590f26051c27.txt</span>\n",
       "</pre>\n"
      ],
      "text/plain": [
       "Creating caption file: \n",
       "\u001b[1mC:\\Users\\kade\\Desktop\\training_dir_staging\\1_tibetan_sand_fox\\cbd20d11c803cfc78f7e590f26051c27.txt\u001b[0m\n"
      ]
     },
     "metadata": {},
     "output_type": "display_data"
    },
    {
     "data": {
      "text/html": [
       "<pre style=\"white-space:pre;overflow-x:auto;line-height:normal;font-family:Menlo,'DejaVu Sans Mono',consolas,'Courier New',monospace\">Writing tags: <span style=\"font-style: italic\">anthro, clothed, clothing, footwear, kemono, looking at viewer, shoes, solo, stare, by ekaki510, </span>\n",
       "<span style=\"font-style: italic\">canid, canine, fox, mammal, tibetan sand fox, true fox</span>\n",
       "</pre>\n"
      ],
      "text/plain": [
       "Writing tags: \u001b[3manthro, clothed, clothing, footwear, kemono, looking at viewer, shoes, solo, stare, by ekaki510, \u001b[0m\n",
       "\u001b[3mcanid, canine, fox, mammal, tibetan sand fox, true fox\u001b[0m\n"
      ]
     },
     "metadata": {},
     "output_type": "display_data"
    },
    {
     "data": {
      "text/html": [
       "<pre style=\"white-space:pre;overflow-x:auto;line-height:normal;font-family:Menlo,'DejaVu Sans Mono',consolas,'Courier New',monospace\">Processing file: <span style=\"font-weight: bold\">C:\\Users\\kade\\Desktop\\training_dir_staging\\1_tibetan_sand_fox\\</span><span style=\"color: #008080; text-decoration-color: #008080; font-weight: bold\">4549980.j</span><span style=\"font-weight: bold\">son</span>\n",
       "</pre>\n"
      ],
      "text/plain": [
       "Processing file: \u001b[1mC:\\Users\\kade\\Desktop\\training_dir_staging\\1_tibetan_sand_fox\\\u001b[0m\u001b[1;36m4549980.j\u001b[0m\u001b[1mson\u001b[0m\n"
      ]
     },
     "metadata": {},
     "output_type": "display_data"
    },
    {
     "data": {
      "text/html": [
       "<pre style=\"white-space:pre;overflow-x:auto;line-height:normal;font-family:Menlo,'DejaVu Sans Mono',consolas,'Courier New',monospace\">Creating caption file: \n",
       "<span style=\"font-weight: bold\">C:\\Users\\kade\\Desktop\\training_dir_staging\\1_tibetan_sand_fox\\2b751e142daf0fb1a14aa15aaa8aea50.txt</span>\n",
       "</pre>\n"
      ],
      "text/plain": [
       "Creating caption file: \n",
       "\u001b[1mC:\\Users\\kade\\Desktop\\training_dir_staging\\1_tibetan_sand_fox\\2b751e142daf0fb1a14aa15aaa8aea50.txt\u001b[0m\n"
      ]
     },
     "metadata": {},
     "output_type": "display_data"
    },
    {
     "data": {
      "text/html": [
       "<pre style=\"white-space:pre;overflow-x:auto;line-height:normal;font-family:Menlo,'DejaVu Sans Mono',consolas,'Courier New',monospace\">Writing tags: <span style=\"font-style: italic\">blush, bodily fluids, female, feral, genital fluids, looking at viewer, quadruped, solo, sweat, </span>\n",
       "<span style=\"font-style: italic\">talking to viewer, text, vaginal fluids, whiskers, by nekostar, canid, canine, fox, mammal, tibetan sand fox, true </span>\n",
       "<span style=\"font-style: italic\">fox, digital media \\</span><span style=\"font-weight: bold; font-style: italic\">(</span><span style=\"font-style: italic\">artwork\\</span><span style=\"font-weight: bold; font-style: italic\">)</span><span style=\"font-style: italic\">, english text</span>\n",
       "</pre>\n"
      ],
      "text/plain": [
       "Writing tags: \u001b[3mblush, bodily fluids, female, feral, genital fluids, looking at viewer, quadruped, solo, sweat, \u001b[0m\n",
       "\u001b[3mtalking to viewer, text, vaginal fluids, whiskers, by nekostar, canid, canine, fox, mammal, tibetan sand fox, true \u001b[0m\n",
       "\u001b[3mfox, digital media \\\u001b[0m\u001b[1;3m(\u001b[0m\u001b[3martwork\\\u001b[0m\u001b[1;3m)\u001b[0m\u001b[3m, english text\u001b[0m\n"
      ]
     },
     "metadata": {},
     "output_type": "display_data"
    },
    {
     "data": {
      "text/html": [
       "<pre style=\"white-space:pre;overflow-x:auto;line-height:normal;font-family:Menlo,'DejaVu Sans Mono',consolas,'Courier New',monospace\">Processing file: <span style=\"font-weight: bold\">C:\\Users\\kade\\Desktop\\training_dir_staging\\1_tibetan_sand_fox\\</span><span style=\"color: #008080; text-decoration-color: #008080; font-weight: bold\">4637263.j</span><span style=\"font-weight: bold\">son</span>\n",
       "</pre>\n"
      ],
      "text/plain": [
       "Processing file: \u001b[1mC:\\Users\\kade\\Desktop\\training_dir_staging\\1_tibetan_sand_fox\\\u001b[0m\u001b[1;36m4637263.j\u001b[0m\u001b[1mson\u001b[0m\n"
      ]
     },
     "metadata": {},
     "output_type": "display_data"
    },
    {
     "data": {
      "text/html": [
       "<pre style=\"white-space:pre;overflow-x:auto;line-height:normal;font-family:Menlo,'DejaVu Sans Mono',consolas,'Courier New',monospace\">Creating caption file: \n",
       "<span style=\"font-weight: bold\">C:\\Users\\kade\\Desktop\\training_dir_staging\\1_tibetan_sand_fox\\3471d49a60b4a911c8354c4a3b0d5fec.txt</span>\n",
       "</pre>\n"
      ],
      "text/plain": [
       "Creating caption file: \n",
       "\u001b[1mC:\\Users\\kade\\Desktop\\training_dir_staging\\1_tibetan_sand_fox\\3471d49a60b4a911c8354c4a3b0d5fec.txt\u001b[0m\n"
      ]
     },
     "metadata": {},
     "output_type": "display_data"
    },
    {
     "data": {
      "text/html": [
       "<pre style=\"white-space:pre;overflow-x:auto;line-height:normal;font-family:Menlo,'DejaVu Sans Mono',consolas,'Courier New',monospace\">Writing tags: <span style=\"color: #008080; text-decoration-color: #008080; font-weight: bold; font-style: italic\">3</span><span style=\"font-style: italic\"> fingers, amber eyes, anthro, biped, black bottomwear, black clothing, black footwear, black skirt, </span>\n",
       "<span style=\"font-style: italic\">black socks, blazer, blush, bodily fluids, bottomwear, bow tie, breasts, cellphone, clawed fingers, clothing, </span>\n",
       "<span style=\"font-style: italic\">countershade fur, countershading, dialogue, dipstick tail, dress shirt, drooling, electronics, ellipsis, female, </span>\n",
       "<span style=\"font-style: italic\">fingers, fluffy, fluffy tail, footprint, footwear, fur, grey background, hair, inner ear fluff, looking at viewer, </span>\n",
       "<span style=\"font-style: italic\">looking sideways, markings, multiple poses, open mouth, pawpads, pawprint, phone, pleated skirt, pose, reference </span>\n",
       "<span style=\"font-style: italic\">image, saliva, sanpaku, school uniform, shirt, shoes, short hair, simple background, skirt, smartphone, sneakers, </span>\n",
       "<span style=\"font-style: italic\">socks, solo, speech bubble, tail, tail markings, tan body, tan fur, tan hair, teeth, topwear, tuft, uniform, </span>\n",
       "<span style=\"font-style: italic\">whiskers, white body, white clothing, white fur, white hair, white shirt, white topwear, by peppergecko72, canid, </span>\n",
       "<span style=\"font-style: italic\">canine, fox, mammal, tibetan sand fox, true fox, character name</span>\n",
       "</pre>\n"
      ],
      "text/plain": [
       "Writing tags: \u001b[1;3;36m3\u001b[0m\u001b[3m fingers, amber eyes, anthro, biped, black bottomwear, black clothing, black footwear, black skirt, \u001b[0m\n",
       "\u001b[3mblack socks, blazer, blush, bodily fluids, bottomwear, bow tie, breasts, cellphone, clawed fingers, clothing, \u001b[0m\n",
       "\u001b[3mcountershade fur, countershading, dialogue, dipstick tail, dress shirt, drooling, electronics, ellipsis, female, \u001b[0m\n",
       "\u001b[3mfingers, fluffy, fluffy tail, footprint, footwear, fur, grey background, hair, inner ear fluff, looking at viewer, \u001b[0m\n",
       "\u001b[3mlooking sideways, markings, multiple poses, open mouth, pawpads, pawprint, phone, pleated skirt, pose, reference \u001b[0m\n",
       "\u001b[3mimage, saliva, sanpaku, school uniform, shirt, shoes, short hair, simple background, skirt, smartphone, sneakers, \u001b[0m\n",
       "\u001b[3msocks, solo, speech bubble, tail, tail markings, tan body, tan fur, tan hair, teeth, topwear, tuft, uniform, \u001b[0m\n",
       "\u001b[3mwhiskers, white body, white clothing, white fur, white hair, white shirt, white topwear, by peppergecko72, canid, \u001b[0m\n",
       "\u001b[3mcanine, fox, mammal, tibetan sand fox, true fox, character name\u001b[0m\n"
      ]
     },
     "metadata": {},
     "output_type": "display_data"
    },
    {
     "data": {
      "text/html": [
       "<pre style=\"white-space:pre;overflow-x:auto;line-height:normal;font-family:Menlo,'DejaVu Sans Mono',consolas,'Courier New',monospace\">Processing file: <span style=\"font-weight: bold\">C:\\Users\\kade\\Desktop\\training_dir_staging\\1_tibetan_sand_fox\\</span><span style=\"color: #008080; text-decoration-color: #008080; font-weight: bold\">79789.j</span><span style=\"font-weight: bold\">son</span>\n",
       "</pre>\n"
      ],
      "text/plain": [
       "Processing file: \u001b[1mC:\\Users\\kade\\Desktop\\training_dir_staging\\1_tibetan_sand_fox\\\u001b[0m\u001b[1;36m79789.j\u001b[0m\u001b[1mson\u001b[0m\n"
      ]
     },
     "metadata": {},
     "output_type": "display_data"
    },
    {
     "data": {
      "text/html": [
       "<pre style=\"white-space:pre;overflow-x:auto;line-height:normal;font-family:Menlo,'DejaVu Sans Mono',consolas,'Courier New',monospace\">Creating caption file: \n",
       "<span style=\"font-weight: bold\">C:\\Users\\kade\\Desktop\\training_dir_staging\\1_tibetan_sand_fox\\009cfd85dfaf4f59d700fbbfa3c8cf12.txt</span>\n",
       "</pre>\n"
      ],
      "text/plain": [
       "Creating caption file: \n",
       "\u001b[1mC:\\Users\\kade\\Desktop\\training_dir_staging\\1_tibetan_sand_fox\\009cfd85dfaf4f59d700fbbfa3c8cf12.txt\u001b[0m\n"
      ]
     },
     "metadata": {},
     "output_type": "display_data"
    },
    {
     "data": {
      "text/html": [
       "<pre style=\"white-space:pre;overflow-x:auto;line-height:normal;font-family:Menlo,'DejaVu Sans Mono',consolas,'Courier New',monospace\">Writing tags: <span style=\"font-style: italic\">ambiguous form, ambiguous gender, serious, solo, by skia, canid, canine, fox, mammal, tibetan sand </span>\n",
       "<span style=\"font-style: italic\">fox, true fox, low res</span>\n",
       "</pre>\n"
      ],
      "text/plain": [
       "Writing tags: \u001b[3mambiguous form, ambiguous gender, serious, solo, by skia, canid, canine, fox, mammal, tibetan sand \u001b[0m\n",
       "\u001b[3mfox, true fox, low res\u001b[0m\n"
      ]
     },
     "metadata": {},
     "output_type": "display_data"
    },
    {
     "data": {
      "text/html": [
       "<pre style=\"white-space:pre;overflow-x:auto;line-height:normal;font-family:Menlo,'DejaVu Sans Mono',consolas,'Courier New',monospace\">Processing file: <span style=\"font-weight: bold\">C:\\Users\\kade\\Desktop\\training_dir_staging\\1_tibetan_sand_fox\\</span><span style=\"color: #008080; text-decoration-color: #008080; font-weight: bold\">99976.j</span><span style=\"font-weight: bold\">son</span>\n",
       "</pre>\n"
      ],
      "text/plain": [
       "Processing file: \u001b[1mC:\\Users\\kade\\Desktop\\training_dir_staging\\1_tibetan_sand_fox\\\u001b[0m\u001b[1;36m99976.j\u001b[0m\u001b[1mson\u001b[0m\n"
      ]
     },
     "metadata": {},
     "output_type": "display_data"
    },
    {
     "data": {
      "text/html": [
       "<pre style=\"white-space:pre;overflow-x:auto;line-height:normal;font-family:Menlo,'DejaVu Sans Mono',consolas,'Courier New',monospace\">Creating caption file: \n",
       "<span style=\"font-weight: bold\">C:\\Users\\kade\\Desktop\\training_dir_staging\\1_tibetan_sand_fox\\e80b29ca09aa55edd87213134217659c.txt</span>\n",
       "</pre>\n"
      ],
      "text/plain": [
       "Creating caption file: \n",
       "\u001b[1mC:\\Users\\kade\\Desktop\\training_dir_staging\\1_tibetan_sand_fox\\e80b29ca09aa55edd87213134217659c.txt\u001b[0m\n"
      ]
     },
     "metadata": {},
     "output_type": "display_data"
    },
    {
     "data": {
      "text/html": [
       "<pre style=\"white-space:pre;overflow-x:auto;line-height:normal;font-family:Menlo,'DejaVu Sans Mono',consolas,'Courier New',monospace\">Writing tags: <span style=\"font-style: italic\">:|, ambiguous gender, black nose, ears up, feral, looking at viewer, quadruped, real, sitting, solo, </span>\n",
       "<span style=\"font-style: italic\">unimpressed, by unknown artist, canid, canine, fox, mammal, tibetan sand fox, true fox, grandfathered content, </span>\n",
       "<span style=\"font-style: italic\">photography \\</span><span style=\"font-weight: bold; font-style: italic\">(</span><span style=\"font-style: italic\">artwork\\</span><span style=\"font-weight: bold; font-style: italic\">)</span>\n",
       "</pre>\n"
      ],
      "text/plain": [
       "Writing tags: \u001b[3m:|, ambiguous gender, black nose, ears up, feral, looking at viewer, quadruped, real, sitting, solo, \u001b[0m\n",
       "\u001b[3munimpressed, by unknown artist, canid, canine, fox, mammal, tibetan sand fox, true fox, grandfathered content, \u001b[0m\n",
       "\u001b[3mphotography \\\u001b[0m\u001b[1;3m(\u001b[0m\u001b[3martwork\\\u001b[0m\u001b[1;3m)\u001b[0m\n"
      ]
     },
     "metadata": {},
     "output_type": "display_data"
    },
    {
     "data": {
      "text/html": [
       "<pre style=\"white-space:pre;overflow-x:auto;line-height:normal;font-family:Menlo,'DejaVu Sans Mono',consolas,'Courier New',monospace\">Processing file: <span style=\"font-weight: bold\">C:\\Users\\kade\\Desktop\\training_dir_staging\\1_traialas\\</span><span style=\"color: #008080; text-decoration-color: #008080; font-weight: bold\">27866.j</span><span style=\"font-weight: bold\">son</span>\n",
       "</pre>\n"
      ],
      "text/plain": [
       "Processing file: \u001b[1mC:\\Users\\kade\\Desktop\\training_dir_staging\\1_traialas\\\u001b[0m\u001b[1;36m27866.j\u001b[0m\u001b[1mson\u001b[0m\n"
      ]
     },
     "metadata": {},
     "output_type": "display_data"
    },
    {
     "data": {
      "text/html": [
       "<pre style=\"white-space:pre;overflow-x:auto;line-height:normal;font-family:Menlo,'DejaVu Sans Mono',consolas,'Courier New',monospace\">Creating caption file: <span style=\"font-weight: bold\">C:\\Users\\kade\\Desktop\\training_dir_staging\\1_traialas\\6158a3bb0a7b2811f651088d6a189219.txt</span>\n",
       "</pre>\n"
      ],
      "text/plain": [
       "Creating caption file: \u001b[1mC:\\Users\\kade\\Desktop\\training_dir_staging\\1_traialas\\6158a3bb0a7b2811f651088d6a189219.txt\u001b[0m\n"
      ]
     },
     "metadata": {},
     "output_type": "display_data"
    },
    {
     "data": {
      "text/html": [
       "<pre style=\"white-space:pre;overflow-x:auto;line-height:normal;font-family:Menlo,'DejaVu Sans Mono',consolas,'Courier New',monospace\">Writing tags: <span style=\"font-style: italic\">anatomically correct, animal genitalia, animal pussy, anus, bed, black body, blush, butt, canine </span>\n",
       "<span style=\"font-style: italic\">genitalia, canine pussy, female, feral, furniture, genitals, horn, looking at viewer, on bed, pussy, seductive, </span>\n",
       "<span style=\"font-style: italic\">simple background, solo, spade tail, traialas, canid, generation </span><span style=\"color: #008080; text-decoration-color: #008080; font-weight: bold; font-style: italic\">2</span><span style=\"font-style: italic\"> pokemon, houndoom, mammal, pokemon \\</span><span style=\"font-weight: bold; font-style: italic\">(</span><span style=\"font-style: italic\">species\\</span><span style=\"font-weight: bold; font-style: italic\">)</span>\n",
       "</pre>\n"
      ],
      "text/plain": [
       "Writing tags: \u001b[3manatomically correct, animal genitalia, animal pussy, anus, bed, black body, blush, butt, canine \u001b[0m\n",
       "\u001b[3mgenitalia, canine pussy, female, feral, furniture, genitals, horn, looking at viewer, on bed, pussy, seductive, \u001b[0m\n",
       "\u001b[3msimple background, solo, spade tail, traialas, canid, generation \u001b[0m\u001b[1;3;36m2\u001b[0m\u001b[3m pokemon, houndoom, mammal, pokemon \\\u001b[0m\u001b[1;3m(\u001b[0m\u001b[3mspecies\\\u001b[0m\u001b[1;3m)\u001b[0m\n"
      ]
     },
     "metadata": {},
     "output_type": "display_data"
    },
    {
     "data": {
      "text/html": [
       "<pre style=\"white-space:pre;overflow-x:auto;line-height:normal;font-family:Menlo,'DejaVu Sans Mono',consolas,'Courier New',monospace\">Processing file: <span style=\"font-weight: bold\">C:\\Users\\kade\\Desktop\\training_dir_staging\\1_traialas\\</span><span style=\"color: #008080; text-decoration-color: #008080; font-weight: bold\">29188.j</span><span style=\"font-weight: bold\">son</span>\n",
       "</pre>\n"
      ],
      "text/plain": [
       "Processing file: \u001b[1mC:\\Users\\kade\\Desktop\\training_dir_staging\\1_traialas\\\u001b[0m\u001b[1;36m29188.j\u001b[0m\u001b[1mson\u001b[0m\n"
      ]
     },
     "metadata": {},
     "output_type": "display_data"
    },
    {
     "data": {
      "text/html": [
       "<pre style=\"white-space:pre;overflow-x:auto;line-height:normal;font-family:Menlo,'DejaVu Sans Mono',consolas,'Courier New',monospace\">Creating caption file: <span style=\"font-weight: bold\">C:\\Users\\kade\\Desktop\\training_dir_staging\\1_traialas\\bbd618e91b4549a86ade24a5628918cb.txt</span>\n",
       "</pre>\n"
      ],
      "text/plain": [
       "Creating caption file: \u001b[1mC:\\Users\\kade\\Desktop\\training_dir_staging\\1_traialas\\bbd618e91b4549a86ade24a5628918cb.txt\u001b[0m\n"
      ]
     },
     "metadata": {},
     "output_type": "display_data"
    },
    {
     "data": {
      "text/html": [
       "<pre style=\"white-space:pre;overflow-x:auto;line-height:normal;font-family:Menlo,'DejaVu Sans Mono',consolas,'Courier New',monospace\">Writing tags: <span style=\"font-style: italic\">female, feral, hair, horn, looking at viewer, lying, mane, nude, on side, outside, paws, pink hair, </span>\n",
       "<span style=\"font-style: italic\">smile, solo, traialas, dragon, eastern dragon, scalie</span>\n",
       "</pre>\n"
      ],
      "text/plain": [
       "Writing tags: \u001b[3mfemale, feral, hair, horn, looking at viewer, lying, mane, nude, on side, outside, paws, pink hair, \u001b[0m\n",
       "\u001b[3msmile, solo, traialas, dragon, eastern dragon, scalie\u001b[0m\n"
      ]
     },
     "metadata": {},
     "output_type": "display_data"
    },
    {
     "data": {
      "text/html": [
       "<pre style=\"white-space:pre;overflow-x:auto;line-height:normal;font-family:Menlo,'DejaVu Sans Mono',consolas,'Courier New',monospace\">Processing file: <span style=\"font-weight: bold\">C:\\Users\\kade\\Desktop\\training_dir_staging\\1_traialas\\</span><span style=\"color: #008080; text-decoration-color: #008080; font-weight: bold\">29238.j</span><span style=\"font-weight: bold\">son</span>\n",
       "</pre>\n"
      ],
      "text/plain": [
       "Processing file: \u001b[1mC:\\Users\\kade\\Desktop\\training_dir_staging\\1_traialas\\\u001b[0m\u001b[1;36m29238.j\u001b[0m\u001b[1mson\u001b[0m\n"
      ]
     },
     "metadata": {},
     "output_type": "display_data"
    },
    {
     "data": {
      "text/html": [
       "<pre style=\"white-space:pre;overflow-x:auto;line-height:normal;font-family:Menlo,'DejaVu Sans Mono',consolas,'Courier New',monospace\">Creating caption file: <span style=\"font-weight: bold\">C:\\Users\\kade\\Desktop\\training_dir_staging\\1_traialas\\f88495f169db174aac04b1c32d08f7c1.txt</span>\n",
       "</pre>\n"
      ],
      "text/plain": [
       "Creating caption file: \u001b[1mC:\\Users\\kade\\Desktop\\training_dir_staging\\1_traialas\\f88495f169db174aac04b1c32d08f7c1.txt\u001b[0m\n"
      ]
     },
     "metadata": {},
     "output_type": "display_data"
    },
    {
     "data": {
      "text/html": [
       "<pre style=\"white-space:pre;overflow-x:auto;line-height:normal;font-family:Menlo,'DejaVu Sans Mono',consolas,'Courier New',monospace\">Writing tags: <span style=\"font-style: italic\">anthro, anus, bed, blush, female, fur, furniture, genitals, hair, horn, looking at viewer, lying, </span>\n",
       "<span style=\"font-style: italic\">nude, on back, on bed, paws, pink hair, presenting, pussy, solo, tuft, white body, traialas, dragon, eastern </span>\n",
       "<span style=\"font-style: italic\">dragon, hybrid</span>\n",
       "</pre>\n"
      ],
      "text/plain": [
       "Writing tags: \u001b[3manthro, anus, bed, blush, female, fur, furniture, genitals, hair, horn, looking at viewer, lying, \u001b[0m\n",
       "\u001b[3mnude, on back, on bed, paws, pink hair, presenting, pussy, solo, tuft, white body, traialas, dragon, eastern \u001b[0m\n",
       "\u001b[3mdragon, hybrid\u001b[0m\n"
      ]
     },
     "metadata": {},
     "output_type": "display_data"
    },
    {
     "data": {
      "text/html": [
       "<pre style=\"white-space:pre;overflow-x:auto;line-height:normal;font-family:Menlo,'DejaVu Sans Mono',consolas,'Courier New',monospace\">Processing file: <span style=\"font-weight: bold\">C:\\Users\\kade\\Desktop\\training_dir_staging\\1_traialas\\</span><span style=\"color: #008080; text-decoration-color: #008080; font-weight: bold\">29239.j</span><span style=\"font-weight: bold\">son</span>\n",
       "</pre>\n"
      ],
      "text/plain": [
       "Processing file: \u001b[1mC:\\Users\\kade\\Desktop\\training_dir_staging\\1_traialas\\\u001b[0m\u001b[1;36m29239.j\u001b[0m\u001b[1mson\u001b[0m\n"
      ]
     },
     "metadata": {},
     "output_type": "display_data"
    },
    {
     "data": {
      "text/html": [
       "<pre style=\"white-space:pre;overflow-x:auto;line-height:normal;font-family:Menlo,'DejaVu Sans Mono',consolas,'Courier New',monospace\">Creating caption file: <span style=\"font-weight: bold\">C:\\Users\\kade\\Desktop\\training_dir_staging\\1_traialas\\2dca0cadfad690aa0ffbb7fc72bfb031.txt</span>\n",
       "</pre>\n"
      ],
      "text/plain": [
       "Creating caption file: \u001b[1mC:\\Users\\kade\\Desktop\\training_dir_staging\\1_traialas\\2dca0cadfad690aa0ffbb7fc72bfb031.txt\u001b[0m\n"
      ]
     },
     "metadata": {},
     "output_type": "display_data"
    },
    {
     "data": {
      "text/html": [
       "<pre style=\"white-space:pre;overflow-x:auto;line-height:normal;font-family:Menlo,'DejaVu Sans Mono',consolas,'Courier New',monospace\">Writing tags: <span style=\"font-style: italic\">anthro, anus, bed, blush, butt, female, furniture, genitals, hair, horn, looking at viewer, nude, on </span>\n",
       "<span style=\"font-style: italic\">bed, paws, pink hair, presenting, presenting hindquarters, pussy, raised tail, smile, solo, tuft, white body, </span>\n",
       "<span style=\"font-style: italic\">traialas, dragon, eastern dragon</span>\n",
       "</pre>\n"
      ],
      "text/plain": [
       "Writing tags: \u001b[3manthro, anus, bed, blush, butt, female, furniture, genitals, hair, horn, looking at viewer, nude, on \u001b[0m\n",
       "\u001b[3mbed, paws, pink hair, presenting, presenting hindquarters, pussy, raised tail, smile, solo, tuft, white body, \u001b[0m\n",
       "\u001b[3mtraialas, dragon, eastern dragon\u001b[0m\n"
      ]
     },
     "metadata": {},
     "output_type": "display_data"
    },
    {
     "data": {
      "text/html": [
       "<pre style=\"white-space:pre;overflow-x:auto;line-height:normal;font-family:Menlo,'DejaVu Sans Mono',consolas,'Courier New',monospace\">Processing file: <span style=\"font-weight: bold\">C:\\Users\\kade\\Desktop\\training_dir_staging\\1_traialas\\</span><span style=\"color: #008080; text-decoration-color: #008080; font-weight: bold\">29844.j</span><span style=\"font-weight: bold\">son</span>\n",
       "</pre>\n"
      ],
      "text/plain": [
       "Processing file: \u001b[1mC:\\Users\\kade\\Desktop\\training_dir_staging\\1_traialas\\\u001b[0m\u001b[1;36m29844.j\u001b[0m\u001b[1mson\u001b[0m\n"
      ]
     },
     "metadata": {},
     "output_type": "display_data"
    },
    {
     "data": {
      "text/html": [
       "<pre style=\"white-space:pre;overflow-x:auto;line-height:normal;font-family:Menlo,'DejaVu Sans Mono',consolas,'Courier New',monospace\">Creating caption file: <span style=\"font-weight: bold\">C:\\Users\\kade\\Desktop\\training_dir_staging\\1_traialas\\d004d528a77288966e62c18659d7c0d3.txt</span>\n",
       "</pre>\n"
      ],
      "text/plain": [
       "Creating caption file: \u001b[1mC:\\Users\\kade\\Desktop\\training_dir_staging\\1_traialas\\d004d528a77288966e62c18659d7c0d3.txt\u001b[0m\n"
      ]
     },
     "metadata": {},
     "output_type": "display_data"
    },
    {
     "data": {
      "text/html": [
       "<pre style=\"white-space:pre;overflow-x:auto;line-height:normal;font-family:Menlo,'DejaVu Sans Mono',consolas,'Courier New',monospace\">Writing tags: <span style=\"font-style: italic\">anthro, anus, breasts, butt, cloven hooves, female, fur, genitals, hair, hooves, looking at viewer, </span>\n",
       "<span style=\"font-style: italic\">nipples, nude, outside, presenting, presenting hindquarters, pussy, raised tail, smile, solo, traialas, cervid, </span>\n",
       "<span style=\"font-style: italic\">mammal</span>\n",
       "</pre>\n"
      ],
      "text/plain": [
       "Writing tags: \u001b[3manthro, anus, breasts, butt, cloven hooves, female, fur, genitals, hair, hooves, looking at viewer, \u001b[0m\n",
       "\u001b[3mnipples, nude, outside, presenting, presenting hindquarters, pussy, raised tail, smile, solo, traialas, cervid, \u001b[0m\n",
       "\u001b[3mmammal\u001b[0m\n"
      ]
     },
     "metadata": {},
     "output_type": "display_data"
    },
    {
     "data": {
      "text/html": [
       "<pre style=\"white-space:pre;overflow-x:auto;line-height:normal;font-family:Menlo,'DejaVu Sans Mono',consolas,'Courier New',monospace\">Processing file: <span style=\"font-weight: bold\">C:\\Users\\kade\\Desktop\\training_dir_staging\\1_traialas\\</span><span style=\"color: #008080; text-decoration-color: #008080; font-weight: bold\">30083.j</span><span style=\"font-weight: bold\">son</span>\n",
       "</pre>\n"
      ],
      "text/plain": [
       "Processing file: \u001b[1mC:\\Users\\kade\\Desktop\\training_dir_staging\\1_traialas\\\u001b[0m\u001b[1;36m30083.j\u001b[0m\u001b[1mson\u001b[0m\n"
      ]
     },
     "metadata": {},
     "output_type": "display_data"
    },
    {
     "data": {
      "text/html": [
       "<pre style=\"white-space:pre;overflow-x:auto;line-height:normal;font-family:Menlo,'DejaVu Sans Mono',consolas,'Courier New',monospace\">Creating caption file: <span style=\"font-weight: bold\">C:\\Users\\kade\\Desktop\\training_dir_staging\\1_traialas\\33908270b549a1aaa6b5b59152cff782.txt</span>\n",
       "</pre>\n"
      ],
      "text/plain": [
       "Creating caption file: \u001b[1mC:\\Users\\kade\\Desktop\\training_dir_staging\\1_traialas\\33908270b549a1aaa6b5b59152cff782.txt\u001b[0m\n"
      ]
     },
     "metadata": {},
     "output_type": "display_data"
    },
    {
     "data": {
      "text/html": [
       "<pre style=\"white-space:pre;overflow-x:auto;line-height:normal;font-family:Menlo,'DejaVu Sans Mono',consolas,'Courier New',monospace\">Writing tags: <span style=\"font-style: italic\">anthro, black stripes, blush, breasts, clothing, countershading, female, fur, genitals, hair, </span>\n",
       "<span style=\"font-style: italic\">legwear, looking at viewer, mane, navel, nipples, orange body, orange fur, pussy, simple background, slightly </span>\n",
       "<span style=\"font-style: italic\">chubby, smile, solo, striped body, striped fur, stripes, tan body, tan countershading, transparent background, </span>\n",
       "<span style=\"font-style: italic\">tuft, yellow eyes, traialas, arcanine, canid, canine, generation </span><span style=\"color: #008080; text-decoration-color: #008080; font-weight: bold; font-style: italic\">1</span><span style=\"font-style: italic\"> pokemon, mammal, pokemon \\</span><span style=\"font-weight: bold; font-style: italic\">(</span><span style=\"font-style: italic\">species\\</span><span style=\"font-weight: bold; font-style: italic\">)</span><span style=\"font-style: italic\">, alpha </span>\n",
       "<span style=\"font-style: italic\">channel, colored</span>\n",
       "</pre>\n"
      ],
      "text/plain": [
       "Writing tags: \u001b[3manthro, black stripes, blush, breasts, clothing, countershading, female, fur, genitals, hair, \u001b[0m\n",
       "\u001b[3mlegwear, looking at viewer, mane, navel, nipples, orange body, orange fur, pussy, simple background, slightly \u001b[0m\n",
       "\u001b[3mchubby, smile, solo, striped body, striped fur, stripes, tan body, tan countershading, transparent background, \u001b[0m\n",
       "\u001b[3mtuft, yellow eyes, traialas, arcanine, canid, canine, generation \u001b[0m\u001b[1;3;36m1\u001b[0m\u001b[3m pokemon, mammal, pokemon \\\u001b[0m\u001b[1;3m(\u001b[0m\u001b[3mspecies\\\u001b[0m\u001b[1;3m)\u001b[0m\u001b[3m, alpha \u001b[0m\n",
       "\u001b[3mchannel, colored\u001b[0m\n"
      ]
     },
     "metadata": {},
     "output_type": "display_data"
    }
   ],
   "source": [
    "import os\n",
    "import json\n",
    "from rich.console import Console\n",
    "\n",
    "console = Console()\n",
    "\n",
    "# Define tags to be ignored\n",
    "ignored_tags = [\n",
    "    \"hi res\",\n",
    "    \"shaded\",\n",
    "    \"tagme\",\n",
    "    \"absurd res\",\n",
    "    \"detailed\",\n",
    "    \"dota\",\n",
    "]\n",
    "\n",
    "def process_file(file_path):\n",
    "    try:\n",
    "        console.print(f\"Processing file: [bold]{file_path}[/bold]\")\n",
    "        with open(file_path, \"r\") as f:\n",
    "            data = json.load(f)\n",
    "\n",
    "        # Parse the URL and generate filename\n",
    "        post_data = data.get(\"post\", {})\n",
    "        file_data = post_data.get(\"file\", {})\n",
    "        url = file_data.get(\"url\")\n",
    "        if url:\n",
    "            filename, ext = os.path.splitext(os.path.basename(url))\n",
    "\n",
    "            # Create caption file\n",
    "            caption_file = f\"{filename}.txt\"\n",
    "            caption_path = os.path.join(os.path.dirname(file_path), caption_file)\n",
    "\n",
    "            with open(caption_path, \"w\", encoding=\"utf-8\") as f:\n",
    "                console.print(f\"Creating caption file: [bold]{caption_path}[/bold]\")\n",
    "                # Write rating\n",
    "                rating = file_data.get(\"rating\", \"q\")\n",
    "                if rating == \"s\":\n",
    "                    f.write(\"rating_safe, \")\n",
    "                elif rating == \"e\":\n",
    "                    f.write(\"rating_explicit, \")\n",
    "                else:\n",
    "                    f.write(\"rating_questionable, \")\n",
    "\n",
    "                # Process tags\n",
    "                tags = []\n",
    "                tags_data = post_data.get(\"tags\", {})\n",
    "                for category, tags_list in tags_data.items():\n",
    "                    for tag in tags_list:\n",
    "                        # Replace underscores with spaces\n",
    "                        tag = tag.replace(\"_\", \" \")\n",
    "                        if tag.lower() not in ignored_tags:\n",
    "                            processed_tag = process_tag(tag, category)\n",
    "                            if processed_tag:\n",
    "                                tags.append(processed_tag)\n",
    "\n",
    "                # Check if there are any valid tags before writing\n",
    "                if tags:\n",
    "                    # Join tags with commas and write to file\n",
    "                    tags_line = \", \".join(tags)\n",
    "                    f.write(tags_line.strip())\n",
    "                    console.print(f\"Writing tags: [italic]{tags_line.strip()}[/italic]\")\n",
    "\n",
    "    except Exception as e:\n",
    "        console.print(f\"Error processing file: [bold]{file_path}[/bold]\")\n",
    "        console.print(e)\n",
    "\n",
    "def process_tag(tag, category=None):\n",
    "    if tag.isdigit() or all(part.isdigit() for part in tag.split(':')):\n",
    "        return \"\"\n",
    "    tag = tag.replace(\"_\", \" \")\n",
    "    if category == \"artist\":\n",
    "        return f\"by {tag}\"\n",
    "    else:\n",
    "        tag = tag.replace(\"(\", \"\\\\(\").replace(\")\", \"\\\\)\")\n",
    "        return tag\n",
    "\n",
    "def recursive_process(directory):\n",
    "    for root, dirs, files in os.walk(directory):\n",
    "        for file in files:\n",
    "            if file.endswith(\".json\"):\n",
    "                file_path = os.path.join(root, file)\n",
    "                process_file(file_path)\n",
    "\n",
    "if __name__ == \"__main__\":\n",
    "    root_directory = r\"C:\\Users\\kade\\Desktop\\training_dir_staging\"\n",
    "    recursive_process(root_directory)"
   ]
  },
  {
   "cell_type": "markdown",
   "metadata": {},
   "source": [
    "### Duplicate checker\n",
    "----"
   ]
  },
  {
   "cell_type": "code",
   "execution_count": 3,
   "metadata": {},
   "outputs": [],
   "source": [
    "import os\n",
    "\n",
    "def check_duplicate_tags(file_path):\n",
    "    with open(file_path, 'r') as file:\n",
    "        tags = file.read().split(', ')\n",
    "        duplicates = set()\n",
    "        unique_tags = set()\n",
    "        for tag in tags:\n",
    "            if tag in unique_tags:\n",
    "                duplicates.add(tag)\n",
    "            else:\n",
    "                unique_tags.add(tag)\n",
    "        if duplicates:\n",
    "            print(f\"Duplicate tags found in {file_path}: {', '.join(duplicates)}\")\n",
    "\n",
    "def check_tags_in_directory(directory):\n",
    "    for root, _, files in os.walk(directory):\n",
    "        for file_name in files:\n",
    "            if file_name.endswith('.txt'):\n",
    "                file_path = os.path.join(root, file_name)\n",
    "                check_duplicate_tags(file_path)\n",
    "\n",
    "if __name__ == \"__main__\":\n",
    "    directory_path = r'C:\\Users\\kade\\Desktop\\training_dir_staging'\n",
    "    check_tags_in_directory(directory_path)\n"
   ]
  },
  {
   "cell_type": "markdown",
   "metadata": {},
   "source": [
    "### Tag Counter\n",
    "----"
   ]
  },
  {
   "cell_type": "code",
   "execution_count": 13,
   "metadata": {},
   "outputs": [
    {
     "name": "stdout",
     "output_type": "stream",
     "text": [
      "solo: 135 times\n",
      "female: 108 times\n",
      "rating_questionable: 104 times\n",
      ": 95 times\n",
      "genitals: 86 times\n",
      "looking at viewer: 86 times\n",
      "fur: 83 times\n",
      "tail: 80 times\n",
      "dragon: 80 times\n",
      "scalie: 78 times\n",
      "dota: 77 times\n",
      "mythology: 77 times\n",
      "auroth the winter wyvern: 77 times\n",
      "mythological creature: 77 times\n",
      "mythological scalie: 77 times\n",
      "anthro: 75 times\n",
      "european mythology: 72 times\n",
      "western dragon: 72 times\n",
      "hi res: 72 times\n",
      "wyvern: 71 times\n",
      "pussy: 68 times\n",
      "feral: 68 times\n",
      "mammal: 65 times\n",
      "claws: 64 times\n",
      "hair: 62 times\n",
      "nude: 59 times\n",
      "breasts: 57 times\n",
      "teeth: 57 times\n",
      "anus: 55 times\n",
      "butt: 54 times\n",
      "smile: 52 times\n",
      "realistic: 50 times\n",
      "scales: 45 times\n",
      "wings: 45 times\n",
      "canid: 42 times\n",
      "canine: 41 times\n",
      "bodily fluids: 40 times\n",
      "presenting: 40 times\n",
      "tongue: 40 times\n",
      "nipples: 38 times\n",
      "digital media \\(artwork\\): 37 times\n",
      "detailed background: 37 times\n",
      "lying: 36 times\n",
      "genital fluids: 35 times\n",
      "white body: 34 times\n",
      "outside: 33 times\n",
      "blue body: 32 times\n",
      "clothing: 31 times\n",
      "blue eyes: 30 times\n",
      "seductive: 29 times\n",
      "open mouth: 29 times\n",
      "horn: 29 times\n",
      "white fur: 29 times\n",
      "black nose: 29 times\n",
      "thick thighs: 28 times\n",
      "big breasts: 27 times\n",
      "narrowed eyes: 26 times\n",
      "feet: 25 times\n",
      "simple background: 25 times\n",
      "spread legs: 24 times\n",
      "spreading: 24 times\n",
      "on back: 24 times\n",
      "text: 24 times\n",
      "rating_safe: 24 times\n",
      "bedroom eyes: 23 times\n",
      "membrane \\(anatomy\\): 23 times\n",
      "presenting pussy: 23 times\n",
      "membranous wings: 22 times\n",
      "presenting hindquarters: 22 times\n",
      "raised tail: 22 times\n",
      "blue scales: 22 times\n",
      "canis: 22 times\n",
      "big butt: 21 times\n",
      "areola: 21 times\n",
      "ambiguous gender: 21 times\n",
      "absurd res: 20 times\n",
      "tuft: 20 times\n",
      "wide hips: 19 times\n",
      "paws: 19 times\n",
      "blue hair: 19 times\n",
      "whiskers: 19 times\n",
      "clothed: 18 times\n",
      "non-mammal breasts: 18 times\n",
      "fox: 18 times\n",
      "tongue out: 17 times\n",
      "looking back: 17 times\n",
      "clitoris: 17 times\n",
      "male: 17 times\n",
      "rating_explicit: 17 times\n",
      "tibetan sand fox: 17 times\n",
      "vaginal fluids: 16 times\n",
      "toes: 16 times\n",
      "reptile: 16 times\n",
      "english text: 16 times\n",
      "furniture: 16 times\n",
      "animal genitalia: 16 times\n",
      "blush: 16 times\n",
      "penis: 16 times\n",
      "half-closed eyes: 15 times\n",
      "glowing: 15 times\n",
      "inside: 15 times\n",
      "huge breasts: 14 times\n",
      "by wingedwilly: 14 times\n",
      "fingers: 14 times\n",
      "2019: 13 times\n",
      "dialogue: 13 times\n",
      "bed: 13 times\n",
      "portrait: 13 times\n",
      "plant: 13 times\n",
      "black fur: 13 times\n",
      "black body: 13 times\n",
      "brown body: 13 times\n",
      "brown fur: 13 times\n",
      "rear view: 12 times\n",
      "toe claws: 12 times\n",
      "underwear: 12 times\n",
      "sky: 12 times\n",
      "blue pussy: 12 times\n",
      "balls: 12 times\n",
      "ice: 12 times\n",
      "wolf: 12 times\n",
      "orange body: 12 times\n",
      "mature female: 11 times\n",
      "slightly chubby: 11 times\n",
      "on bed: 11 times\n",
      "book: 11 times\n",
      "blue anus: 11 times\n",
      "navel: 11 times\n",
      "orange fur: 11 times\n",
      "grey fur: 11 times\n",
      "long hair: 10 times\n",
      "spikes: 10 times\n",
      "relaxing: 10 times\n",
      "water: 10 times\n",
      "sharp teeth: 10 times\n",
      "anthrofied: 10 times\n",
      "erection: 10 times\n",
      "blue nipples: 10 times\n",
      "tree: 10 times\n",
      "inner ear fluff: 10 times\n",
      "detailed fur: 10 times\n",
      "detailed: 10 times\n",
      "true fox: 10 times\n",
      "headgear: 9 times\n",
      "topwear: 9 times\n",
      "eyes closed: 9 times\n",
      "stripes: 9 times\n",
      "countershading: 9 times\n",
      "pupils: 9 times\n",
      "slit pupils: 9 times\n",
      "holding object: 9 times\n",
      "shaded: 9 times\n",
      "biped: 9 times\n",
      "saliva: 9 times\n",
      "multicolored fur: 9 times\n",
      "tan body: 9 times\n",
      "grey body: 9 times\n",
      "felid: 9 times\n",
      "yellow eyes: 9 times\n",
      "huge butt: 8 times\n",
      "blue claws: 8 times\n",
      "blue fur: 8 times\n",
      "container: 8 times\n",
      "by nexivian: 8 times\n",
      "belly scales: 8 times\n",
      "3 toes: 8 times\n",
      "pawpads: 8 times\n",
      "fangs: 8 times\n",
      "legs up: 8 times\n",
      "duo: 8 times\n",
      "canine genitalia: 8 times\n",
      "belly: 7 times\n",
      "4 toes: 7 times\n",
      "speech bubble: 7 times\n",
      "blue horn: 7 times\n",
      "blue teeth: 7 times\n",
      "2018: 7 times\n",
      "furred dragon: 7 times\n",
      "1:1: 7 times\n",
      "cave: 7 times\n",
      "standing: 7 times\n",
      "cum: 7 times\n",
      "cum inside: 7 times\n",
      "sitting: 7 times\n",
      "penetration: 7 times\n",
      "sex: 7 times\n",
      "pink nipples: 7 times\n",
      "tan fur: 7 times\n",
      "by conditional_dnp: 6 times\n",
      "blue sclera: 6 times\n",
      "2022: 6 times\n",
      "curvy figure: 6 times\n",
      "mature anthro: 6 times\n",
      "pillow: 6 times\n",
      "bikini: 6 times\n",
      "eyewear: 6 times\n",
      "swimwear: 6 times\n",
      "countershade torso: 6 times\n",
      "signature: 6 times\n",
      "talking to viewer: 6 times\n",
      "blue areola: 6 times\n",
      "knot: 6 times\n",
      "presenting anus: 6 times\n",
      "forest: 6 times\n",
      "cum in pussy: 6 times\n",
      "female penetrated: 6 times\n",
      "male/female: 6 times\n",
      "male penetrating: 6 times\n",
      "male penetrating female: 6 times\n",
      "penile: 6 times\n",
      "5 fingers: 6 times\n",
      "blurred background: 6 times\n",
      "multicolored body: 6 times\n",
      "traialas: 6 times\n",
      "hindpaw: 5 times\n",
      "2016: 5 times\n",
      "crown: 5 times\n",
      "huge thighs: 5 times\n",
      "panties: 5 times\n",
      "plump labia: 5 times\n",
      "beach: 5 times\n",
      "bottle: 5 times\n",
      "cloud: 5 times\n",
      "pattern bikini: 5 times\n",
      "pattern clothing: 5 times\n",
      "pattern swimwear: 5 times\n",
      "sand: 5 times\n",
      "sea: 5 times\n",
      "seaside: 5 times\n",
      "striped bikini: 5 times\n",
      "striped clothing: 5 times\n",
      "striped swimwear: 5 times\n",
      "sunglasses: 5 times\n",
      "towel: 5 times\n",
      "umbrella: 5 times\n",
      "water bottle: 5 times\n",
      "cloaca: 5 times\n",
      "horizontal cloaca: 5 times\n",
      "countershade tail: 5 times\n",
      "4:3: 5 times\n",
      "clitoral hood: 5 times\n",
      "digitigrade: 5 times\n",
      "snow: 5 times\n",
      "voluptuous: 5 times\n",
      "full-length portrait: 5 times\n",
      "non-mammal nipples: 5 times\n",
      "after sex: 5 times\n",
      "vaginal: 5 times\n",
      "markings: 5 times\n",
      "collar: 5 times\n",
      "red fox: 5 times\n",
      "bottomwear: 5 times\n",
      "day: 5 times\n",
      "spots: 5 times\n",
      "pantherine: 5 times\n",
      "animal pussy: 5 times\n",
      "canine pussy: 5 times\n",
      "feline: 5 times\n",
      "heart symbol: 4 times\n",
      "by nahyon: 4 times\n",
      "by elvche: 4 times\n",
      "bioluminescence: 4 times\n",
      "glowing genitalia: 4 times\n",
      "jewelry: 4 times\n",
      "grey background: 4 times\n",
      "monochrome: 4 times\n",
      "on side: 4 times\n",
      "crossgender: 4 times\n",
      "gynomorph: 4 times\n",
      "intersex: 4 times\n",
      "eyelashes: 4 times\n",
      "steam: 4 times\n",
      "clothing aside: 4 times\n",
      "swimwear aside: 4 times\n",
      "underwear aside: 4 times\n",
      "side view: 4 times\n",
      "holding book: 4 times\n",
      "white countershading: 4 times\n",
      "pose: 4 times\n",
      "mane: 4 times\n",
      "spikes \\(anatomy\\): 4 times\n",
      "thick tail: 4 times\n",
      "all fours: 4 times\n",
      "grey hair: 4 times\n",
      "gaping: 4 times\n",
      "2021: 4 times\n",
      "humanoid genitalia: 4 times\n",
      "leaking cum: 4 times\n",
      "bra: 4 times\n",
      "legwear: 4 times\n",
      "footwear: 4 times\n",
      "anthro penetrated: 4 times\n",
      "human on anthro: 4 times\n",
      "interspecies: 4 times\n",
      "vaginal penetration: 4 times\n",
      "animal penis: 4 times\n",
      "canine penis: 4 times\n",
      "pink hair: 4 times\n",
      "spotted body: 4 times\n",
      "spotted fur: 4 times\n",
      "solo focus: 4 times\n",
      "brown eyes: 4 times\n",
      "light: 4 times\n",
      "white hair: 4 times\n",
      "black pawpads: 4 times\n",
      "innie pussy: 3 times\n",
      "slightly chubby female: 3 times\n",
      "border: 3 times\n",
      "curling toes: 3 times\n",
      "partially clothed: 3 times\n",
      "female \\(lore\\): 3 times\n",
      "presenting cloaca: 3 times\n",
      "foot focus: 3 times\n",
      "leaking: 3 times\n",
      "snowing: 3 times\n",
      "soles: 3 times\n",
      "egg: 3 times\n",
      "transformation: 3 times\n",
      "cleavage: 3 times\n",
      "blue cloaca: 3 times\n",
      "front view: 3 times\n",
      "head down: 3 times\n",
      "high-angle view: 3 times\n",
      "magic: 3 times\n",
      "reclining: 3 times\n",
      "runes: 3 times\n",
      "scroll: 3 times\n",
      "teal eyes: 3 times\n",
      "blue skin: 3 times\n",
      "breast squish: 3 times\n",
      "squish: 3 times\n",
      "candle: 3 times\n",
      "glowing eyes: 3 times\n",
      "muscular: 3 times\n",
      "muscular female: 3 times\n",
      "cum on tail: 3 times\n",
      "presenting cream pie: 3 times\n",
      "restricted palette: 3 times\n",
      "blue penis: 3 times\n",
      "4 fingers: 3 times\n",
      "barefoot: 3 times\n",
      "inviting: 3 times\n",
      "glowing pussy: 3 times\n",
      "green pussy: 3 times\n",
      "vein: 3 times\n",
      "veiny penis: 3 times\n",
      "spread pussy: 3 times\n",
      "2017: 3 times\n",
      "cool colors: 3 times\n",
      "drooling: 3 times\n",
      "overweight: 3 times\n",
      "hat: 3 times\n",
      "headwear: 3 times\n",
      "cum from pussy: 3 times\n",
      "human penetrating: 3 times\n",
      "human penetrating anthro: 3 times\n",
      "penile penetration: 3 times\n",
      "penis in pussy: 3 times\n",
      "human: 3 times\n",
      "semi-anthro: 3 times\n",
      "flower: 3 times\n",
      "shirt: 3 times\n",
      "pink areola: 3 times\n",
      "oral: 3 times\n",
      "fellatio: 3 times\n",
      "oral penetration: 3 times\n",
      "striped body: 3 times\n",
      "abs: 3 times\n",
      "neck tuft: 3 times\n",
      "finger claws: 3 times\n",
      "grass: 3 times\n",
      "nordic sled dog: 3 times\n",
      "spitz: 3 times\n",
      "husky: 3 times\n",
      "necklace: 3 times\n",
      "kemono: 3 times\n",
      "shoes: 3 times\n",
      "skirt: 3 times\n",
      "eastern dragon: 3 times\n",
      "holidays: 2 times\n",
      "anisodactyl: 2 times\n",
      "ass up: 2 times\n",
      "hand on hip: 2 times\n",
      "side boob: 2 times\n",
      "2023: 2 times\n",
      "by hawkilla: 2 times\n",
      "armwear: 2 times\n",
      "dress: 2 times\n",
      "story: 2 times\n",
      "story in description: 2 times\n",
      "clothed feral: 2 times\n",
      "dakimakura design: 2 times\n",
      "by arsauron: 2 times\n",
      "by greame: 2 times\n",
      "countershade neck: 2 times\n",
      "by kabscorner: 2 times\n",
      "cc-by-nc-nd: 2 times\n",
      "creative commons: 2 times\n",
      "brown background: 2 times\n",
      "by karukuji: 2 times\n",
      "in heat: 2 times\n",
      "snout: 2 times\n",
      "sweat: 2 times\n",
      "black border: 2 times\n",
      "cup: 2 times\n",
      "half-length portrait: 2 times\n",
      "9:16: 2 times\n",
      "mature gynomorph: 2 times\n",
      "mature intersex: 2 times\n",
      "imminent sex: 2 times\n",
      "beach umbrella: 2 times\n",
      "parasol: 2 times\n",
      "low-angle view: 2 times\n",
      "big belly: 2 times\n",
      "looking up: 2 times\n",
      "pinup: 2 times\n",
      "bent over: 2 times\n",
      "holding breast: 2 times\n",
      "big penis: 2 times\n",
      "hyper: 2 times\n",
      "mountain: 2 times\n",
      "spread wings: 2 times\n",
      "winter wyvern: 2 times\n",
      "4k: 2 times\n",
      "url: 2 times\n",
      "dominant: 2 times\n",
      "presenting penis: 2 times\n",
      "open smile: 2 times\n",
      "wing claws: 2 times\n",
      "blue and white: 2 times\n",
      "3 claws: 2 times\n",
      "fluffy paws: 2 times\n",
      "gaping pussy: 2 times\n",
      "glowing body: 2 times\n",
      "licking: 2 times\n",
      "outline: 2 times\n",
      "painted sketch: 2 times\n",
      "colored sketch: 2 times\n",
      "digital painting \\(artwork\\): 2 times\n",
      "sketch: 2 times\n",
      "non-mammal pussy: 2 times\n",
      "pussy juice string: 2 times\n",
      "spines: 2 times\n",
      "by bitemylip: 2 times\n",
      "by keebles: 2 times\n",
      "wet: 2 times\n",
      "winter: 2 times\n",
      "pregnant: 2 times\n",
      "looking down: 2 times\n",
      "food: 2 times\n",
      "looking back at viewer: 2 times\n",
      "blue theme: 2 times\n",
      "featureless breasts: 2 times\n",
      "overweight female: 2 times\n",
      "puffy anus: 2 times\n",
      "multicolored hair: 2 times\n",
      "nature: 2 times\n",
      "hand behind head: 2 times\n",
      "by elzzombie: 2 times\n",
      "lingerie: 2 times\n",
      "ambient silhouette: 2 times\n",
      "humanoid pussy: 2 times\n",
      "multicolored pussy: 2 times\n",
      "polygonal speech bubble: 2 times\n",
      "silhouette: 2 times\n",
      "teal inner pussy: 2 times\n",
      "teal pussy: 2 times\n",
      "two tone pussy: 2 times\n",
      "ambient bird: 2 times\n",
      "ambient flier: 2 times\n",
      "avian: 2 times\n",
      "bird: 2 times\n",
      "after vaginal: 2 times\n",
      "thigh highs: 2 times\n",
      "electronics: 2 times\n",
      "lips: 2 times\n",
      "nails: 2 times\n",
      "phone: 2 times\n",
      "cowgirl position: 2 times\n",
      "faceless character: 2 times\n",
      "faceless male: 2 times\n",
      "female on top: 2 times\n",
      "from front position: 2 times\n",
      "humanoid penis: 2 times\n",
      "male on bottom: 2 times\n",
      "on bottom: 2 times\n",
      "on top: 2 times\n",
      "pink penis: 2 times\n",
      "three-quarter view: 2 times\n",
      "ambiguous form: 2 times\n",
      "bathing: 2 times\n",
      "partially submerged: 2 times\n",
      "fennec: 2 times\n",
      "pants: 2 times\n",
      "denim: 2 times\n",
      "denim clothing: 2 times\n",
      "denim bottomwear: 2 times\n",
      "window: 2 times\n",
      "swimming pool: 2 times\n",
      "collar only: 2 times\n",
      "red penis: 2 times\n",
      "black lips: 2 times\n",
      "raccoon: 2 times\n",
      "bear: 2 times\n",
      "tiger: 2 times\n",
      "silver fox: 2 times\n",
      "white clothing: 2 times\n",
      "black anus: 2 times\n",
      "glistening: 2 times\n",
      "glistening eyes: 2 times\n",
      "pink anus: 2 times\n",
      "sunlight: 2 times\n",
      "blp: 2 times\n",
      "domestic dog: 2 times\n",
      "lighting: 2 times\n",
      "pink nose: 2 times\n",
      "lynx: 2 times\n",
      "piercing: 2 times\n",
      "ear piercing: 2 times\n",
      "black pussy: 2 times\n",
      "cheek tuft: 2 times\n",
      "ears up: 2 times\n",
      "facial tuft: 2 times\n",
      "rock: 2 times\n",
      "yellow body: 2 times\n",
      "tribal: 2 times\n",
      "bust portrait: 2 times\n",
      "hay: 2 times\n",
      "brown hair: 2 times\n",
      "dripping: 2 times\n",
      "weapon: 2 times\n",
      "overweight anthro: 2 times\n",
      "cum in ass: 2 times\n",
      "gaping anus: 2 times\n",
      "anatomically correct: 2 times\n",
      "striped fur: 2 times\n",
      "colored: 2 times\n",
      "quadruped: 2 times\n",
      "female anthro: 2 times\n",
      "white background: 2 times\n",
      "japanese text: 2 times\n",
      "dipstick tail: 2 times\n",
      "short hair: 2 times\n",
      "socks: 2 times\n",
      "tail markings: 2 times\n",
      "tan hair: 2 times\n",
      "hoodie: 2 times\n",
      "by nibhaaz: 2 times\n",
      "nibhaaz \\(character\\): 2 times\n",
      "sweater: 2 times\n",
      "pokemon \\(species\\): 2 times\n",
      "bone: 1 times\n",
      "chain: 1 times\n",
      "costume: 1 times\n",
      "halloween costume: 1 times\n",
      "hand on belly: 1 times\n",
      "skeleton: 1 times\n",
      "halloween: 1 times\n",
      "back boob: 1 times\n",
      "barely visible genitalia: 1 times\n",
      "curvy anthro: 1 times\n",
      "white border: 1 times\n",
      "by ionicnebula: 1 times\n",
      "by r-mk: 1 times\n",
      "auroth \\(furromantic\\): 1 times\n",
      "talking feral: 1 times\n",
      "by darkenstardragon: 1 times\n",
      "black background: 1 times\n",
      "crouching: 1 times\n",
      "bridal gauntlets: 1 times\n",
      "gem: 1 times\n",
      "lying on bed: 1 times\n",
      "panties down: 1 times\n",
      "tail cover: 1 times\n",
      "underwear down: 1 times\n",
      "veil: 1 times\n",
      "wedding dress: 1 times\n",
      "5:3: 1 times\n",
      "busty feral: 1 times\n",
      "censor bar: 1 times\n",
      "ineffective censorship: 1 times\n",
      "by eguchi_tumoru: 1 times\n",
      "censored: 1 times\n",
      "on towel: 1 times\n",
      "sleeping: 1 times\n",
      "cloaca juice: 1 times\n",
      "crotch tuft: 1 times\n",
      "by velannal: 1 times\n",
      "by aeveno_(artist): 1 times\n",
      "ftg crossgender: 1 times\n",
      "ftg transformation: 1 times\n",
      "fti crossgender: 1 times\n",
      "fti transformation: 1 times\n",
      "gender transformation: 1 times\n",
      "potion: 1 times\n",
      "clothing lift: 1 times\n",
      "flashing: 1 times\n",
      "flashing breasts: 1 times\n",
      "scar: 1 times\n",
      "skimpy: 1 times\n",
      "pussy juice leaking: 1 times\n",
      "flares: 1 times\n",
      "by marsey_naarin: 1 times\n",
      "bathrobe: 1 times\n",
      "bottomless: 1 times\n",
      "mug: 1 times\n",
      "open clothing: 1 times\n",
      "open robe: 1 times\n",
      "robe: 1 times\n",
      "inverted nipples: 1 times\n",
      "leaning: 1 times\n",
      "leaning forward: 1 times\n",
      "teal nipples: 1 times\n",
      "by skygracer: 1 times\n",
      "big balls: 1 times\n",
      "huge balls: 1 times\n",
      "huge penis: 1 times\n",
      "by barnikan: 1 times\n",
      "herm \\(lore\\): 1 times\n",
      "intersex \\(lore\\): 1 times\n",
      "by sorcentz: 1 times\n",
      "back spikes: 1 times\n",
      "waterfall: 1 times\n",
      "by adrim: 1 times\n",
      "16:9: 1 times\n",
      "widescreen: 1 times\n",
      "blue tail: 1 times\n",
      "butt pose: 1 times\n",
      "grin: 1 times\n",
      "muscular anthro: 1 times\n",
      "muscular thighs: 1 times\n",
      "spiked tail: 1 times\n",
      "by doomthewolf: 1 times\n",
      "dominant gynomorph: 1 times\n",
      "dominant intersex: 1 times\n",
      "non-mammal balls: 1 times\n",
      "after cloacal: 1 times\n",
      "cum in cloaca: 1 times\n",
      "cum on cloaca: 1 times\n",
      "slightly chubby anthro: 1 times\n",
      "by tolerain: 1 times\n",
      "hanging breasts: 1 times\n",
      "by bear-box_doodletimes: 1 times\n",
      "by bearbox_doodletimes: 1 times\n",
      "by berox: 1 times\n",
      "2015: 1 times\n",
      "bedroom: 1 times\n",
      "blue outline: 1 times\n",
      "licking lips: 1 times\n",
      "by tikiro: 1 times\n",
      "by naive_tabby: 1 times\n",
      "condom: 1 times\n",
      "horizontal pussy: 1 times\n",
      "red cross: 1 times\n",
      "sexual barrier device: 1 times\n",
      "precum: 1 times\n",
      "pen: 1 times\n",
      "self lick: 1 times\n",
      "by fenrir784: 1 times\n",
      "by third-party_edit: 1 times\n",
      "frill \\(anatomy\\): 1 times\n",
      "head crest: 1 times\n",
      "head frill: 1 times\n",
      "shadow: 1 times\n",
      "stretched out leg: 1 times\n",
      "teeth showing: 1 times\n",
      "furred reptilian: 1 times\n",
      "furred wyvern: 1 times\n",
      "impregnation request: 1 times\n",
      "oviposition: 1 times\n",
      "stretched pussy: 1 times\n",
      "by fraydragon: 1 times\n",
      "auroth \\(bigboy980\\): 1 times\n",
      "fan character: 1 times\n",
      "featureless crotch: 1 times\n",
      "banana: 1 times\n",
      "food fetish: 1 times\n",
      "food play: 1 times\n",
      "fruit: 1 times\n",
      "improvised sex toy: 1 times\n",
      "submissive: 1 times\n",
      "blue clitoris: 1 times\n",
      "blue fangs: 1 times\n",
      "blue glow: 1 times\n",
      "blue mane: 1 times\n",
      "butt focus: 1 times\n",
      "depth of field: 1 times\n",
      "foreshortening: 1 times\n",
      "glowing clitoris: 1 times\n",
      "long mouth: 1 times\n",
      "overbite: 1 times\n",
      "purple blush: 1 times\n",
      "pussy juice on tail: 1 times\n",
      "sparkles: 1 times\n",
      "stalactite: 1 times\n",
      "stalagmite: 1 times\n",
      "tail mane: 1 times\n",
      "warm/cold theme: 1 times\n",
      "by photonoko: 1 times\n",
      "breast expansion: 1 times\n",
      "embarrassed: 1 times\n",
      "expansion: 1 times\n",
      "hyper breasts: 1 times\n",
      "hyper butt: 1 times\n",
      "hyper thighs: 1 times\n",
      "lactating: 1 times\n",
      "2020: 1 times\n",
      "by amethystdust: 1 times\n",
      "tagme: 1 times\n",
      "blue tongue: 1 times\n",
      "close-up: 1 times\n",
      "mouth shot: 1 times\n",
      "saliva string: 1 times\n",
      "by vorekingdom: 1 times\n",
      "big anus: 1 times\n",
      "by nat_127: 1 times\n",
      "action pose: 1 times\n",
      "nature background: 1 times\n",
      "night: 1 times\n",
      "notched wings: 1 times\n",
      "talons: 1 times\n",
      "two tone hair: 1 times\n",
      "winged arms: 1 times\n",
      "by bonifasko: 1 times\n",
      "grey areola: 1 times\n",
      "grey nipples: 1 times\n",
      "by harnny: 1 times\n",
      "3:2: 1 times\n",
      "teal theme: 1 times\n",
      "larger female: 1 times\n",
      "size difference: 1 times\n",
      "by yiezzas: 1 times\n",
      "3d \\(artwork\\): 1 times\n",
      "by mashcr: 1 times\n",
      "collaboration: 1 times\n",
      "lingerie on feral: 1 times\n",
      "3:1: 1 times\n",
      "on front: 1 times\n",
      "by azzunyr: 1 times\n",
      "asking: 1 times\n",
      "asking another: 1 times\n",
      "asking viewer: 1 times\n",
      "asking why: 1 times\n",
      "asking why not: 1 times\n",
      "question: 1 times\n",
      "species in dialogue: 1 times\n",
      "glowing anus: 1 times\n",
      "glowing markings: 1 times\n",
      "by sovaka: 1 times\n",
      "by suirano: 1 times\n",
      "blue insides: 1 times\n",
      "cyanotic epithelium: 1 times\n",
      "folded: 1 times\n",
      "by backsash: 1 times\n",
      "bow \\(feature\\): 1 times\n",
      "christmas clothing: 1 times\n",
      "christmas headwear: 1 times\n",
      "christmas lights: 1 times\n",
      "christmas tree: 1 times\n",
      "gift: 1 times\n",
      "ice cave: 1 times\n",
      "messy: 1 times\n",
      "santa hat: 1 times\n",
      "christmas: 1 times\n",
      "after vaginal penetration: 1 times\n",
      "dialogue with sound effects: 1 times\n",
      "moan: 1 times\n",
      "multi-word onomatopoeia: 1 times\n",
      "onomatopoeia: 1 times\n",
      "sound effects: 1 times\n",
      "by paradoxing: 1 times\n",
      "by cerf: 1 times\n",
      "cavern: 1 times\n",
      "crystal: 1 times\n",
      "frozen: 1 times\n",
      "icicle: 1 times\n",
      "inanimate transformation: 1 times\n",
      "petrification: 1 times\n",
      "by oot: 1 times\n",
      "genital slit: 1 times\n",
      "slit \\(disambiguation\\): 1 times\n",
      "big areola: 1 times\n",
      "big nipples: 1 times\n",
      "footwear only: 1 times\n",
      "high heels: 1 times\n",
      "high heels only: 1 times\n",
      "holding phone: 1 times\n",
      "landline phone: 1 times\n",
      "mostly nude: 1 times\n",
      "raised leg: 1 times\n",
      "rotary phone: 1 times\n",
      "thick eyelashes: 1 times\n",
      "thick lips: 1 times\n",
      "by djpuppeh: 1 times\n",
      "arm stockings: 1 times\n",
      "elbow gloves: 1 times\n",
      "gloves: 1 times\n",
      "handwear: 1 times\n",
      "small waist: 1 times\n",
      "stockings: 1 times\n",
      "tan penis: 1 times\n",
      "anal juice: 1 times\n",
      "by sepiruth: 1 times\n",
      "aurora \\(phenomenon\\): 1 times\n",
      "dominant female: 1 times\n",
      "imminent facesitting: 1 times\n",
      "glowing teeth: 1 times\n",
      "hand on breast: 1 times\n",
      "inviting to sex: 1 times\n",
      "presenting breasts: 1 times\n",
      "by ultrahyper: 1 times\n",
      "pink eyes: 1 times\n",
      "girly: 1 times\n",
      "colored nails: 1 times\n",
      "red eyes: 1 times\n",
      "jeans: 1 times\n",
      "anatomically correct penis: 1 times\n",
      "bottomwear down: 1 times\n",
      "t-shirt: 1 times\n",
      "pants down: 1 times\n",
      "blue pants: 1 times\n",
      "sheath: 1 times\n",
      "poolside: 1 times\n",
      "tentacles: 1 times\n",
      "tentacle sex: 1 times\n",
      "bound: 1 times\n",
      "blue tentacles: 1 times\n",
      "rape: 1 times\n",
      "forced: 1 times\n",
      "hyena: 1 times\n",
      "spotted hyena: 1 times\n",
      "procyonid: 1 times\n",
      "brown bear: 1 times\n",
      "ursine: 1 times\n",
      "sylveon: 1 times\n",
      "ribbons: 1 times\n",
      "pink body: 1 times\n",
      "pink fur: 1 times\n",
      "nipple outline: 1 times\n",
      "white bra: 1 times\n",
      "black claws: 1 times\n",
      "dewlap \\(anatomy\\): 1 times\n",
      "floppy ears: 1 times\n",
      "group: 1 times\n",
      "jowls: 1 times\n",
      "light beam: 1 times\n",
      "mouth closed: 1 times\n",
      "pink pussy: 1 times\n",
      "short fur: 1 times\n",
      "short tail: 1 times\n",
      "shrub: 1 times\n",
      "sunbeam: 1 times\n",
      "trio: 1 times\n",
      "wrinkles: 1 times\n",
      "mastiff: 1 times\n",
      "molosser: 1 times\n",
      "attempted signature: 1 times\n",
      "jacket: 1 times\n",
      "big ears: 1 times\n",
      "slim: 1 times\n",
      "y anus: 1 times\n",
      "coyote: 1 times\n",
      "bicycle: 1 times\n",
      "motorcycle: 1 times\n",
      "athletic: 1 times\n",
      "gabumon: 1 times\n",
      "animal skin: 1 times\n",
      "ailurid: 1 times\n",
      "red panda: 1 times\n",
      "domestic cat: 1 times\n",
      "felis: 1 times\n",
      "belt: 1 times\n",
      "lamp: 1 times\n",
      "sofa: 1 times\n",
      "bodypaint: 1 times\n",
      "facial markings: 1 times\n",
      "head markings: 1 times\n",
      "tribal markings: 1 times\n",
      "black spots: 1 times\n",
      "jolteon: 1 times\n",
      "snow leopard: 1 times\n",
      "tavern: 1 times\n",
      "beverage: 1 times\n",
      "bar: 1 times\n",
      "alcohol: 1 times\n",
      "braided hair: 1 times\n",
      "beer: 1 times\n",
      "leopard: 1 times\n",
      "camel toe: 1 times\n",
      "orange eyes: 1 times\n",
      "equid: 1 times\n",
      "equine: 1 times\n",
      "horse: 1 times\n",
      "barn: 1 times\n",
      "stable: 1 times\n",
      "equine pussy: 1 times\n",
      "back muscles: 1 times\n",
      "lion: 1 times\n",
      "ear tuft: 1 times\n",
      "bestiality: 1 times\n",
      "pikachu: 1 times\n",
      "mask: 1 times\n",
      "fursuit: 1 times\n",
      "after anal: 1 times\n",
      "cum on butt: 1 times\n",
      "bench: 1 times\n",
      "cum from ass: 1 times\n",
      "fence: 1 times\n",
      "park: 1 times\n",
      "first person view: 1 times\n",
      "male pov: 1 times\n",
      "anthro on anthro: 1 times\n",
      "anthro penetrating anthro: 1 times\n",
      "black hair: 1 times\n",
      "anthro penetrating: 1 times\n",
      "anatomically correct pussy: 1 times\n",
      "anatomically correct genitalia: 1 times\n",
      "anatomically correct anus: 1 times\n",
      "black nipples: 1 times\n",
      "cheetah: 1 times\n",
      "canid demon: 1 times\n",
      "hellhound: 1 times\n",
      "red sclera: 1 times\n",
      "demon: 1 times\n",
      "ear ring: 1 times\n",
      "ring piercing: 1 times\n",
      "rodent: 1 times\n",
      "murid: 1 times\n",
      "murine: 1 times\n",
      "male on anthro: 1 times\n",
      "female on human: 1 times\n",
      "mouse: 1 times\n",
      "rat: 1 times\n",
      "looking pleasured: 1 times\n",
      "orgasm: 1 times\n",
      "female focus: 1 times\n",
      "faceless human: 1 times\n",
      "buckteeth: 1 times\n",
      "ejaculation: 1 times\n",
      "otter: 1 times\n",
      "mustelid: 1 times\n",
      "glasses: 1 times\n",
      "flat chested: 1 times\n",
      "spread toes: 1 times\n",
      "serious: 1 times\n",
      "by skia: 1 times\n",
      "2010: 1 times\n",
      "low res: 1 times\n",
      "chest tuft: 1 times\n",
      "neutral expression: 1 times\n",
      "tied hair: 1 times\n",
      "by foxboy83: 1 times\n",
      "by tootaloo: 1 times\n",
      "vixen logic: 1 times\n",
      "ferra \\(vixen logic\\): 1 times\n",
      "5:8: 1 times\n",
      "flat colors: 1 times\n",
      "model sheet: 1 times\n",
      "by nekostar: 1 times\n",
      "2024: 1 times\n",
      "bare shoulders: 1 times\n",
      "brown ears: 1 times\n",
      "brown nose: 1 times\n",
      "cleavage cutout: 1 times\n",
      "collarbone: 1 times\n",
      "countershade face: 1 times\n",
      "countershade legs: 1 times\n",
      "cutout: 1 times\n",
      "fully clothed: 1 times\n",
      "hair bun: 1 times\n",
      "humanoid hands: 1 times\n",
      "light body: 1 times\n",
      "purple bikini: 1 times\n",
      "purple clothing: 1 times\n",
      "purple swimwear: 1 times\n",
      "sagging breasts: 1 times\n",
      "two tone body: 1 times\n",
      "two tone fur: 1 times\n",
      "under boob: 1 times\n",
      "white inner ear: 1 times\n",
      "by kazuhiro: 1 times\n",
      "three-quarter portrait: 1 times\n",
      "translation request: 1 times\n",
      "3 fingers: 1 times\n",
      "amber eyes: 1 times\n",
      "black bottomwear: 1 times\n",
      "black clothing: 1 times\n",
      "black footwear: 1 times\n",
      "black skirt: 1 times\n",
      "black socks: 1 times\n",
      "blazer: 1 times\n",
      "bow tie: 1 times\n",
      "cellphone: 1 times\n",
      "clawed fingers: 1 times\n",
      "countershade fur: 1 times\n",
      "dress shirt: 1 times\n",
      "ellipsis: 1 times\n",
      "fluffy: 1 times\n",
      "fluffy tail: 1 times\n",
      "footprint: 1 times\n",
      "looking sideways: 1 times\n",
      "multiple poses: 1 times\n",
      "pawprint: 1 times\n",
      "pleated skirt: 1 times\n",
      "reference image: 1 times\n",
      "sanpaku: 1 times\n",
      "school uniform: 1 times\n",
      "smartphone: 1 times\n",
      "sneakers: 1 times\n",
      "uniform: 1 times\n",
      "white shirt: 1 times\n",
      "white topwear: 1 times\n",
      "by peppergecko72: 1 times\n",
      "character name: 1 times\n",
      "annoyed: 1 times\n",
      "armpit tuft: 1 times\n",
      "coffee mug: 1 times\n",
      "crossed arms: 1 times\n",
      "cutoffs: 1 times\n",
      "daisy dukes: 1 times\n",
      "hands behind head: 1 times\n",
      "holding container: 1 times\n",
      "holding cup: 1 times\n",
      "hotpants: 1 times\n",
      "open shorts: 1 times\n",
      "penis in face: 1 times\n",
      "shorts: 1 times\n",
      "snarling: 1 times\n",
      "tank top: 1 times\n",
      "multiple images: 1 times\n",
      "cleaver: 1 times\n",
      "collage: 1 times\n",
      "gradient background: 1 times\n",
      "knife: 1 times\n",
      "melee weapon: 1 times\n",
      "multicolored tail: 1 times\n",
      "panty shot: 1 times\n",
      "sword: 1 times\n",
      "tiptoes: 1 times\n",
      "upskirt: 1 times\n",
      "vore: 1 times\n",
      "partially inside: 1 times\n",
      "oral vore: 1 times\n",
      "blush lines: 1 times\n",
      "eating: 1 times\n",
      "eyebrows: 1 times\n",
      "holding food: 1 times\n",
      "onigiri: 1 times\n",
      "rice: 1 times\n",
      "satisfied: 1 times\n",
      "thick eyebrows: 1 times\n",
      "by 848siba: 1 times\n",
      "stare: 1 times\n",
      "by ekaki510: 1 times\n",
      ":|: 1 times\n",
      "real: 1 times\n",
      "unimpressed: 1 times\n",
      "by unknown_artist: 1 times\n",
      "grandfathered content: 1 times\n",
      "photography \\(artwork\\): 1 times\n",
      "black stripes: 1 times\n",
      "tan countershading: 1 times\n",
      "transparent background: 1 times\n",
      "arcanine: 1 times\n",
      "generation 1 pokemon: 1 times\n",
      "5:7: 1 times\n",
      "alpha channel: 1 times\n",
      "spade tail: 1 times\n",
      "generation 2 pokemon: 1 times\n",
      "houndoom: 1 times\n",
      "cloven hooves: 1 times\n",
      "hooves: 1 times\n",
      "cervid: 1 times\n",
      "hybrid: 1 times\n"
     ]
    }
   ],
   "source": [
    "import os\n",
    "from collections import Counter\n",
    "\n",
    "def extract_tags_from_file(file_path):\n",
    "    with open(file_path, 'r', encoding='utf-8') as file:\n",
    "        content = file.read()\n",
    "        tags = content.split(', ')\n",
    "        return tags\n",
    "\n",
    "def process_directory(directory_path):\n",
    "    all_tags = []\n",
    "    for root, dirs, files in os.walk(directory_path):\n",
    "        for file in files:\n",
    "            if file.endswith(\".txt\"):\n",
    "                file_path = os.path.join(root, file)\n",
    "                tags = extract_tags_from_file(file_path)\n",
    "                all_tags.extend(tags)\n",
    "    return all_tags\n",
    "\n",
    "def list_tags_frequency(tags):\n",
    "    tag_counter = Counter(tags)\n",
    "    sorted_tags = sorted(tag_counter.items(), key=lambda x: x[1], reverse=True)\n",
    "    return sorted_tags\n",
    "\n",
    "# Specify the directory path\n",
    "directory_path = r'C:\\Users\\kade\\Desktop\\training_dir_staging'\n",
    "\n",
    "# Process the directory and extract tags\n",
    "all_tags = process_directory(directory_path)\n",
    "\n",
    "# List tags and their frequencies in descending order\n",
    "sorted_tags = list_tags_frequency(all_tags)\n",
    "\n",
    "# Print the results\n",
    "for tag, frequency in sorted_tags:\n",
    "    print(f'{tag}: {frequency} times')"
   ]
  },
  {
   "cell_type": "markdown",
   "metadata": {},
   "source": [
    "### Replace tags and remove duplicates\n",
    "----"
   ]
  },
  {
   "cell_type": "code",
   "execution_count": 35,
   "metadata": {},
   "outputs": [],
   "source": [
    "import os\n",
    "import re\n",
    "\n",
    "def process_files(directory, old_tag, new_tag):\n",
    "    try:\n",
    "        for entry in os.listdir(directory):\n",
    "            entry_path = os.path.join(directory, entry)\n",
    "\n",
    "            if os.path.isdir(entry_path):\n",
    "                process_files(entry_path, old_tag, new_tag)\n",
    "\n",
    "            elif os.path.isfile(entry_path) and entry.endswith(\".txt\"):\n",
    "                with open(entry_path, 'r', encoding='utf-8') as f:\n",
    "                    content = f.read()\n",
    "\n",
    "                if old_tag:\n",
    "                    content = re.sub(r'\\b' + re.escape(old_tag) + r'\\b', new_tag, content)\n",
    "\n",
    "                tag_pattern = re.compile(r'(\\b\\w+\\b)(?:(?:,|\\s)+\\1)+')\n",
    "                content = re.sub(tag_pattern, r'\\1', content)\n",
    "\n",
    "                with open(entry_path, 'w', encoding='utf-8') as f:\n",
    "                    f.write(content)\n",
    "\n",
    "    except Exception as e:\n",
    "        print(f\"Error processing directory {directory}: {e}\\n\")\n",
    "\n",
    "# Directory path\n",
    "directory_path = r'C:\\Users\\kade\\Desktop\\training_dir_staging'\n",
    "\n",
    "process_files(directory_path, 'were', 'sparkledog')\n",
    "process_files(directory_path, 'werecanine', 'sparkledog')\n",
    "process_files(directory_path, 'werewolf', 'sparkledog')"
   ]
  },
  {
   "cell_type": "markdown",
   "metadata": {},
   "source": [
    "### Insert tag\n",
    "----"
   ]
  },
  {
   "cell_type": "code",
   "execution_count": 1,
   "metadata": {},
   "outputs": [],
   "source": [
    "import os\n",
    "\n",
    "# Function to insert a specified tag in text files in subdirectories\n",
    "def insert_tag_in_files(directory, tag_to_insert):\n",
    "    try:\n",
    "        for entry in os.listdir(directory):\n",
    "            entry_path = os.path.join(directory, entry)\n",
    "\n",
    "            if os.path.isdir(entry_path):\n",
    "                insert_tag_in_files(entry_path, tag_to_insert)\n",
    "\n",
    "            elif os.path.isfile(entry_path) and entry.endswith(\".txt\"):\n",
    "\n",
    "                with open(entry_path, 'r', encoding='utf-8') as f:\n",
    "                    content = f.read()\n",
    "\n",
    "                # Insert the specified tag\n",
    "                content = tag_to_insert + ', ' + content\n",
    "\n",
    "                # Write back to the file\n",
    "                with open(entry_path, 'w', encoding='utf-8') as f:\n",
    "                    f.write(content)\n",
    "\n",
    "    except Exception as e:\n",
    "        print(f\"Error processing directory {directory}: {e}\\n\")\n",
    "\n",
    "directory_path = r'C:\\Users\\kade\\Desktop\\training_dir_staging'\n",
    "\n",
    "# Execute the function with the desired tag\n",
    "insert_tag_in_files(directory_path, 'realistic')"
   ]
  },
  {
   "cell_type": "markdown",
   "metadata": {},
   "source": [
    "### Escape parentheses\n",
    "----\n",
    "\n",
    "Recursively escape unescaped parentheses in all '.txt' files within the specified directory and its subdirectories. "
   ]
  },
  {
   "cell_type": "code",
   "execution_count": 2,
   "metadata": {},
   "outputs": [],
   "source": [
    "import os\n",
    "import re\n",
    "\n",
    "def escape_parentheses(file_path):\n",
    "    with open(file_path, 'r') as file:\n",
    "        content = file.read()\n",
    "\n",
    "    # Escape unescaped parentheses\n",
    "    content = re.sub(r'(?<!\\\\)([()])', r'\\\\\\1', content)\n",
    "\n",
    "    with open(file_path, 'w') as file:\n",
    "        file.write(content)\n",
    "\n",
    "def process_directory(directory):\n",
    "    for root, dirs, files in os.walk(directory):\n",
    "        for file in files:\n",
    "            if file.endswith(\".txt\"):\n",
    "                file_path = os.path.join(root, file)\n",
    "                escape_parentheses(file_path)\n",
    "\n",
    "                # Recurse into subdirectories\n",
    "                process_directory(os.path.join(root, file))\n",
    "\n",
    "directory_path = r'C:\\Users\\kade\\Desktop\\training_dir_staging'\n",
    "process_directory(directory_path)"
   ]
  },
  {
   "cell_type": "markdown",
   "metadata": {},
   "source": [
    "### Replace underscores with spaces\n",
    "----\n",
    "\n",
    "Recursively replaces underscores with spaces in the content of text files in the specified directory and its subdirectories,\n",
    "excluding specified tags."
   ]
  },
  {
   "cell_type": "code",
   "execution_count": 3,
   "metadata": {},
   "outputs": [],
   "source": [
    "import os\n",
    "\n",
    "excluded_tags = [\n",
    "    \"rating_safe\",\n",
    "    \"rating_explicit\",\n",
    "    \"rating_questionable\"\n",
    "]\n",
    "\n",
    "def replace_underscores_with_spaces(directory_path):\n",
    "    for root, dirs, files in os.walk(directory_path):\n",
    "        for filename in files:\n",
    "            if filename.endswith(\".txt\"):\n",
    "                file_path = os.path.join(root, filename)\n",
    "\n",
    "                # Read the content of the file\n",
    "                with open(file_path, 'r') as file:\n",
    "                    content = file.read()\n",
    "\n",
    "                # Replace underscores with spaces, excluding specific tags\n",
    "                for tag in excluded_tags:\n",
    "                    replacement = tag.replace('_', ' ')\n",
    "                    content = content.replace(replacement, tag)\n",
    "\n",
    "                # Write the modified content back to the file\n",
    "                with open(file_path, 'w') as file:\n",
    "                    file.write(content)\n",
    "\n",
    "# Specify the directory path\n",
    "directory_path = r'C:\\Users\\kade\\Desktop\\training_dir_staging'\n",
    "\n",
    "# Call the function to recursively replace underscores with spaces (excluding specified tags)\n",
    "replace_underscores_with_spaces(directory_path)"
   ]
  },
  {
   "cell_type": "markdown",
   "metadata": {},
   "source": [
    "### Fix tags that need underscores after that! 🐱\n",
    "----"
   ]
  },
  {
   "cell_type": "code",
   "execution_count": 12,
   "metadata": {},
   "outputs": [],
   "source": [
    "import os\n",
    "import fileinput\n",
    "\n",
    "# Function to recursively replace text in *.txt files\n",
    "def replace_text_in_files(directory):\n",
    "    for subdir, _, files in os.walk(directory):\n",
    "        for file in files:\n",
    "            if file.endswith(\".txt\"):\n",
    "                file_path = os.path.join(subdir, file)\n",
    "                with fileinput.FileInput(file_path, inplace=True) as file:\n",
    "                    for line in file:\n",
    "                        print(line.replace(\"rating safe\", \"rating_safe\")\n",
    "                                   .replace(\"rating questionable\", \"rating_questionable\")\n",
    "                                   .replace(\"rating explicit\", \"rating_explicit\"), end='')\n",
    "\n",
    "# Replace text in the specified directory\n",
    "replace_text_in_files(r'C:\\Users\\kade\\Desktop\\training_dir_staging')"
   ]
  },
  {
   "cell_type": "markdown",
   "metadata": {},
   "source": [
    "### Remove extra file extension before .txt\n",
    "----"
   ]
  },
  {
   "cell_type": "code",
   "execution_count": 4,
   "metadata": {},
   "outputs": [],
   "source": [
    "import os\n",
    "\n",
    "def rename_files(directory_path):\n",
    "    \"\"\"\n",
    "    Recursively renames files with additional image extensions in the specified directory and its subdirectories.\n",
    "    \"\"\"\n",
    "    for root, dirs, files in os.walk(directory_path):\n",
    "        for filename in files:\n",
    "            if filename.endswith('.txt'):\n",
    "                # Extract the base name without extension\n",
    "                base_name, extension = os.path.splitext(filename)\n",
    "\n",
    "                # Check if the file has an additional image extension\n",
    "                if base_name.endswith(('.png', '.jpg', '.jpeg', '.webp', '.gif')):\n",
    "                    # Construct the new filename with only the txt extension\n",
    "                    new_filename = base_name[:-4] + '.txt'\n",
    "\n",
    "                    # Construct the full file paths\n",
    "                    old_path = os.path.join(root, filename)\n",
    "                    new_path = os.path.join(root, new_filename)\n",
    "\n",
    "                    # Rename the file\n",
    "                    os.rename(old_path, new_path)\n",
    "\n",
    "# Specify the directory path\n",
    "directory_path = r'C:\\Users\\kade\\Desktop\\training_dir_staging'\n",
    "\n",
    "# Call the function to recursively rename files\n",
    "rename_files(directory_path)"
   ]
  },
  {
   "cell_type": "markdown",
   "metadata": {},
   "source": [
    "### Newlines to commas\n",
    "----\n",
    "\n",
    "Recursively modify the content of '.txt' files in the specified directory and its subdirectories by replacing newlines with commas and spaces. "
   ]
  },
  {
   "cell_type": "code",
   "execution_count": 14,
   "metadata": {},
   "outputs": [],
   "source": [
    "import os\n",
    "\n",
    "def process_directory(directory):\n",
    "    for root, dirs, files in os.walk(directory):\n",
    "        for filename in files:\n",
    "            if filename.endswith(\".txt\"):\n",
    "                file_path = os.path.join(root, filename)\n",
    "                \n",
    "                # Read the content of the file\n",
    "                with open(file_path, 'r') as file:\n",
    "                    content = file.read()\n",
    "                \n",
    "                # Replace newline with a comma and space\n",
    "                modified_content = content.replace('\\n', ', ')\n",
    "                \n",
    "                # Write the modified content back to the file\n",
    "                with open(file_path, 'w') as file:\n",
    "                    file.write(modified_content)\n",
    "\n",
    "# Directory path\n",
    "directory_path = r'C:\\Users\\kade\\Desktop\\training_dir_staging'\n",
    "\n",
    "# Recursively process the directory and its subdirectories\n",
    "process_directory(directory_path)"
   ]
  },
  {
   "cell_type": "markdown",
   "metadata": {},
   "source": [
    "### Remove tags ⚠️\n",
    "----"
   ]
  },
  {
   "cell_type": "code",
   "execution_count": null,
   "metadata": {},
   "outputs": [],
   "source": [
    "\"\"\"\n",
    "This script is designed to remove specific tags from text files (*.txt) located within a given directory and its subdirectories. It iterates through each file, reads its content, removes specified tags, and then overwrites the file with the modified content.\n",
    "\n",
    "The tags to be removed are specified in the `tags_to_remove` list within the `remove_tags` function. These tags include various strings, such as certain species names, phrases like \"unavailable at source,\" years from 1996 to 2024, and phrases like \"generation X pokemon.\" The script constructs regular expressions to match both escaped and non-escaped occurrences of parentheses in the tags.\n",
    "\n",
    "The `remove_tags` function takes a file path as input and returns a list of removal actions performed, indicating which tags were removed from which files.\n",
    "\n",
    "The `process_directory` function recursively processes all files within a specified directory and its subdirectories. For each file with a \".txt\" extension, it calls the `remove_tags` function to remove tags and accumulates removal actions. Finally, it prints out all removal actions performed.\n",
    "\n",
    "To utilize the script, provide the path to the directory containing the text files that need tag removal. Upon execution, the script will modify the files in place, removing the specified tags, and output a log of removal actions.\n",
    "\"\"\"\n",
    "\n",
    "import os\n",
    "import re\n",
    "\n",
    "def remove_tags(file_path):\n",
    "    with open(file_path, 'r', encoding='utf-8') as file:\n",
    "        content = file.read()\n",
    "\n",
    "    tags_to_remove = [\n",
    "        \"pal (species)\",\n",
    "        \"pocketpair\",\n",
    "        \"unavailable at source\",\n",
    "        \"partially\",\n",
    "        \"pokemon (species)\",\n",
    "        \"generation\",\n",
    "        \"pokephilia\",\n",
    "        \"pokemon\",\n",
    "        \"nintendo\",\n",
    "        \"eeveelution\",\n",
    "        \"uncensored\",\n",
    "        \"translated\",\n",
    "        \"partially translated\",\n",
    "        \"translation request\",\n",
    "        \"16 10\",\n",
    "        \"16 9\",\n",
    "        \"10 16\",\n",
    "        \"9 16\",\n",
    "        \"6 5\",\n",
    "        \"5 6\",\n",
    "        \"5 4\",\n",
    "        \"4 3\",\n",
    "        \"4 5\",\n",
    "        \"3 4\",\n",
    "        \"3 2\",\n",
    "        \"2 3\",\n",
    "        \"2 1\",\n",
    "        \"1 2\",\n",
    "        \"1 1\",\n",
    "        \"4k\",\n",
    "        \"absurd res\",\n",
    "        \"hi res\",\n",
    "        \"elden ring\",\n",
    "        \"fromsoftware\",\n",
    "        \"canid\",\n",
    "        \"canis\",\n",
    "        \"mammal\",\n",
    "        \"unwanted erection\",\n",
    "        \"lighting\",\n",
    "        \"shaded\",\n",
    "        \"widescreen\"\n",
    "    ]\n",
    "\n",
    "    for gen in range(1, 10):\n",
    "        tags_to_remove.append(f\"generation {gen} pokemon\")\n",
    "\n",
    "    for year in range(1996, 2025):\n",
    "        tags_to_remove.append(str(year))\n",
    "\n",
    "    removal_actions = []\n",
    "\n",
    "    for tag in tags_to_remove:\n",
    "        # Construct regular expression to match both escaped and non-escaped occurrences of parentheses\n",
    "        pattern = re.compile(re.escape(tag.replace('(', '\\(').replace(')', '\\)')) + r'|' + tag.replace('(', '\\(').replace(')', '\\)'))\n",
    "        if pattern.search(content):\n",
    "            content = pattern.sub('', content)\n",
    "            removal_actions.append(f'Removed tag \"{tag}\" from file: {file_path}')\n",
    "\n",
    "    with open(file_path, 'w', encoding='utf-8') as file:\n",
    "        file.write(content)\n",
    "\n",
    "    return removal_actions\n",
    "\n",
    "def process_directory(directory):\n",
    "    all_removal_actions = []\n",
    "\n",
    "    for root, dirs, files in os.walk(directory):\n",
    "        for file in files:\n",
    "            if file.endswith(\".txt\"):\n",
    "                file_path = os.path.join(root, file)\n",
    "                removal_actions = remove_tags(file_path)\n",
    "                all_removal_actions.extend(removal_actions)\n",
    "\n",
    "    for action in all_removal_actions:\n",
    "        print(action)\n",
    "\n",
    "# Provide the path to the directory\n",
    "directory_path = r'C:\\Users\\kade\\Desktop\\training_dir_staging'\n",
    "\n",
    "# Recursively remove tags from *.txt files in the specified directory and print removal actions\n",
    "process_directory(directory_path)"
   ]
  },
  {
   "cell_type": "code",
   "execution_count": 5,
   "metadata": {},
   "outputs": [
    {
     "name": "stdout",
     "output_type": "stream",
     "text": [
      "Removed tag \"hi res\" and \", \" after it from file: C:\\Users\\kade\\Desktop\\training_dir_staging\\1_hoodwink_(dota)\\01868e97d6881edd02a2a023f3eebd1e.txt\n",
      "Removed tag \"mammal\" and \", \" after it from file: C:\\Users\\kade\\Desktop\\training_dir_staging\\1_hoodwink_(dota)\\01868e97d6881edd02a2a023f3eebd1e.txt\n",
      "Removed tag \"3 4\" and \", \" after it from file: C:\\Users\\kade\\Desktop\\training_dir_staging\\1_hoodwink_(dota)\\01899bf2d1d82e428f4cc17112b59520.txt\n",
      "Removed tag \"absurd res\" and \", \" after it from file: C:\\Users\\kade\\Desktop\\training_dir_staging\\1_hoodwink_(dota)\\01899bf2d1d82e428f4cc17112b59520.txt\n",
      "Removed tag \"hi res\" and \", \" after it from file: C:\\Users\\kade\\Desktop\\training_dir_staging\\1_hoodwink_(dota)\\01899bf2d1d82e428f4cc17112b59520.txt\n",
      "Removed tag \"mammal\" and \", \" after it from file: C:\\Users\\kade\\Desktop\\training_dir_staging\\1_hoodwink_(dota)\\01899bf2d1d82e428f4cc17112b59520.txt\n",
      "Removed tag \"4 5\" and \", \" after it from file: C:\\Users\\kade\\Desktop\\training_dir_staging\\1_hoodwink_(dota)\\04553a0fd0510e3e4e64b3a311e49971.txt\n",
      "Removed tag \"hi res\" and \", \" after it from file: C:\\Users\\kade\\Desktop\\training_dir_staging\\1_hoodwink_(dota)\\04553a0fd0510e3e4e64b3a311e49971.txt\n",
      "Removed tag \"mammal\" and \", \" after it from file: C:\\Users\\kade\\Desktop\\training_dir_staging\\1_hoodwink_(dota)\\04553a0fd0510e3e4e64b3a311e49971.txt\n",
      "Removed tag \"shaded\" and \", \" after it from file: C:\\Users\\kade\\Desktop\\training_dir_staging\\1_hoodwink_(dota)\\04553a0fd0510e3e4e64b3a311e49971.txt\n",
      "Removed tag \"1 1\" and \", \" after it from file: C:\\Users\\kade\\Desktop\\training_dir_staging\\1_hoodwink_(dota)\\07e66de95f7dd16b9991bac4113978ea.txt\n",
      "Removed tag \"mammal\" and \", \" after it from file: C:\\Users\\kade\\Desktop\\training_dir_staging\\1_hoodwink_(dota)\\07e66de95f7dd16b9991bac4113978ea.txt\n",
      "Removed tag \"hi res\" and \", \" after it from file: C:\\Users\\kade\\Desktop\\training_dir_staging\\1_hoodwink_(dota)\\08113a3082fe403e6d02bb7989d4f92f.txt\n",
      "Removed tag \"mammal\" and \", \" after it from file: C:\\Users\\kade\\Desktop\\training_dir_staging\\1_hoodwink_(dota)\\08113a3082fe403e6d02bb7989d4f92f.txt\n",
      "Removed tag \"shaded\" and \", \" after it from file: C:\\Users\\kade\\Desktop\\training_dir_staging\\1_hoodwink_(dota)\\08113a3082fe403e6d02bb7989d4f92f.txt\n",
      "Removed tag \"2020\" and \", \" after it from file: C:\\Users\\kade\\Desktop\\training_dir_staging\\1_hoodwink_(dota)\\08113a3082fe403e6d02bb7989d4f92f.txt\n",
      "Removed tag \"hi res\" and \", \" after it from file: C:\\Users\\kade\\Desktop\\training_dir_staging\\1_hoodwink_(dota)\\0b2f58624a4e9f37e4af90f7bcdbdb31.txt\n",
      "Removed tag \"mammal\" and \", \" after it from file: C:\\Users\\kade\\Desktop\\training_dir_staging\\1_hoodwink_(dota)\\0b2f58624a4e9f37e4af90f7bcdbdb31.txt\n",
      "Removed tag \"2 3\" and \", \" after it from file: C:\\Users\\kade\\Desktop\\training_dir_staging\\1_hoodwink_(dota)\\0e0acc8f6fdc78d3603848fdc17e765c.txt\n",
      "Removed tag \"hi res\" and \", \" after it from file: C:\\Users\\kade\\Desktop\\training_dir_staging\\1_hoodwink_(dota)\\0e0acc8f6fdc78d3603848fdc17e765c.txt\n",
      "Removed tag \"mammal\" and \", \" after it from file: C:\\Users\\kade\\Desktop\\training_dir_staging\\1_hoodwink_(dota)\\0e0acc8f6fdc78d3603848fdc17e765c.txt\n",
      "Removed tag \"hi res\" and \", \" after it from file: C:\\Users\\kade\\Desktop\\training_dir_staging\\1_hoodwink_(dota)\\10735d968894b3b629e3e33e5883bf02.txt\n",
      "Removed tag \"mammal\" and \", \" after it from file: C:\\Users\\kade\\Desktop\\training_dir_staging\\1_hoodwink_(dota)\\10735d968894b3b629e3e33e5883bf02.txt\n",
      "Removed tag \"shaded\" and \", \" after it from file: C:\\Users\\kade\\Desktop\\training_dir_staging\\1_hoodwink_(dota)\\10735d968894b3b629e3e33e5883bf02.txt\n",
      "Removed tag \"mammal\" and \", \" after it from file: C:\\Users\\kade\\Desktop\\training_dir_staging\\1_hoodwink_(dota)\\115282efc076d961aebe179767d7d41e.txt\n",
      "Removed tag \"mammal\" and \", \" after it from file: C:\\Users\\kade\\Desktop\\training_dir_staging\\1_hoodwink_(dota)\\11f3176343e282b10d62bad1c114b58c.txt\n",
      "Removed tag \"hi res\" and \", \" after it from file: C:\\Users\\kade\\Desktop\\training_dir_staging\\1_hoodwink_(dota)\\1281e6c04032fe0ebdbc214edfb5af17.txt\n",
      "Removed tag \"mammal\" and \", \" after it from file: C:\\Users\\kade\\Desktop\\training_dir_staging\\1_hoodwink_(dota)\\1281e6c04032fe0ebdbc214edfb5af17.txt\n",
      "Removed tag \"16 9\" and \", \" after it from file: C:\\Users\\kade\\Desktop\\training_dir_staging\\1_hoodwink_(dota)\\134570b4dc1afdb7ea1faa77d7ddd18a.txt\n",
      "Removed tag \"hi res\" and \", \" after it from file: C:\\Users\\kade\\Desktop\\training_dir_staging\\1_hoodwink_(dota)\\134570b4dc1afdb7ea1faa77d7ddd18a.txt\n",
      "Removed tag \"mammal\" and \", \" after it from file: C:\\Users\\kade\\Desktop\\training_dir_staging\\1_hoodwink_(dota)\\134570b4dc1afdb7ea1faa77d7ddd18a.txt\n",
      "Removed tag \"widescreen\" and \", \" after it from file: C:\\Users\\kade\\Desktop\\training_dir_staging\\1_hoodwink_(dota)\\134570b4dc1afdb7ea1faa77d7ddd18a.txt\n",
      "Removed tag \"16 9\" and \", \" after it from file: C:\\Users\\kade\\Desktop\\training_dir_staging\\1_hoodwink_(dota)\\14df734fd554688f2dba3c12ec2cf6a2.txt\n",
      "Removed tag \"hi res\" and \", \" after it from file: C:\\Users\\kade\\Desktop\\training_dir_staging\\1_hoodwink_(dota)\\14df734fd554688f2dba3c12ec2cf6a2.txt\n",
      "Removed tag \"mammal\" and \", \" after it from file: C:\\Users\\kade\\Desktop\\training_dir_staging\\1_hoodwink_(dota)\\14df734fd554688f2dba3c12ec2cf6a2.txt\n",
      "Removed tag \"widescreen\" and \", \" after it from file: C:\\Users\\kade\\Desktop\\training_dir_staging\\1_hoodwink_(dota)\\14df734fd554688f2dba3c12ec2cf6a2.txt\n",
      "Removed tag \"4 5\" and \", \" after it from file: C:\\Users\\kade\\Desktop\\training_dir_staging\\1_hoodwink_(dota)\\16d66ea52ede3e961c8b61f37cad6c8f.txt\n",
      "Removed tag \"hi res\" and \", \" after it from file: C:\\Users\\kade\\Desktop\\training_dir_staging\\1_hoodwink_(dota)\\16d66ea52ede3e961c8b61f37cad6c8f.txt\n",
      "Removed tag \"mammal\" and \", \" after it from file: C:\\Users\\kade\\Desktop\\training_dir_staging\\1_hoodwink_(dota)\\16d66ea52ede3e961c8b61f37cad6c8f.txt\n",
      "Removed tag \"shaded\" and \", \" after it from file: C:\\Users\\kade\\Desktop\\training_dir_staging\\1_hoodwink_(dota)\\16d66ea52ede3e961c8b61f37cad6c8f.txt\n",
      "Removed tag \"mammal\" and \", \" after it from file: C:\\Users\\kade\\Desktop\\training_dir_staging\\1_hoodwink_(dota)\\182da864de3957013b898da3684517f4.txt\n",
      "Removed tag \"16 9\" and \", \" after it from file: C:\\Users\\kade\\Desktop\\training_dir_staging\\1_hoodwink_(dota)\\1eaf4ac7e53369baab276ce30684c11b.txt\n",
      "Removed tag \"hi res\" and \", \" after it from file: C:\\Users\\kade\\Desktop\\training_dir_staging\\1_hoodwink_(dota)\\1eaf4ac7e53369baab276ce30684c11b.txt\n",
      "Removed tag \"mammal\" and \", \" after it from file: C:\\Users\\kade\\Desktop\\training_dir_staging\\1_hoodwink_(dota)\\1eaf4ac7e53369baab276ce30684c11b.txt\n",
      "Removed tag \"widescreen\" and \", \" after it from file: C:\\Users\\kade\\Desktop\\training_dir_staging\\1_hoodwink_(dota)\\1eaf4ac7e53369baab276ce30684c11b.txt\n",
      "Removed tag \"2024\" and \", \" after it from file: C:\\Users\\kade\\Desktop\\training_dir_staging\\1_hoodwink_(dota)\\1eaf4ac7e53369baab276ce30684c11b.txt\n",
      "Removed tag \"hi res\" and \", \" after it from file: C:\\Users\\kade\\Desktop\\training_dir_staging\\1_hoodwink_(dota)\\20cf561e83d087a45297d659e07d2d85.txt\n",
      "Removed tag \"mammal\" and \", \" after it from file: C:\\Users\\kade\\Desktop\\training_dir_staging\\1_hoodwink_(dota)\\20cf561e83d087a45297d659e07d2d85.txt\n",
      "Removed tag \"1 1\" and \", \" after it from file: C:\\Users\\kade\\Desktop\\training_dir_staging\\1_hoodwink_(dota)\\2147101b69a01f0a33eb8a4c2453aa32.txt\n",
      "Removed tag \"mammal\" and \", \" after it from file: C:\\Users\\kade\\Desktop\\training_dir_staging\\1_hoodwink_(dota)\\2147101b69a01f0a33eb8a4c2453aa32.txt\n",
      "Removed tag \"hi res\" and \", \" after it from file: C:\\Users\\kade\\Desktop\\training_dir_staging\\1_hoodwink_(dota)\\24bf8e3896ad9b43868629b49dc18809.txt\n",
      "Removed tag \"mammal\" and \", \" after it from file: C:\\Users\\kade\\Desktop\\training_dir_staging\\1_hoodwink_(dota)\\24bf8e3896ad9b43868629b49dc18809.txt\n",
      "Removed tag \"hi res\" and \", \" after it from file: C:\\Users\\kade\\Desktop\\training_dir_staging\\1_hoodwink_(dota)\\2592862e41c1ef3862b119b8dfb4f603.txt\n",
      "Removed tag \"mammal\" and \", \" after it from file: C:\\Users\\kade\\Desktop\\training_dir_staging\\1_hoodwink_(dota)\\2592862e41c1ef3862b119b8dfb4f603.txt\n",
      "Removed tag \"2023\" and \", \" after it from file: C:\\Users\\kade\\Desktop\\training_dir_staging\\1_hoodwink_(dota)\\2592862e41c1ef3862b119b8dfb4f603.txt\n",
      "Removed tag \"4 3\" and \", \" after it from file: C:\\Users\\kade\\Desktop\\training_dir_staging\\1_hoodwink_(dota)\\264912117825caaa620ba370d5ade828.txt\n",
      "Removed tag \"hi res\" and \", \" after it from file: C:\\Users\\kade\\Desktop\\training_dir_staging\\1_hoodwink_(dota)\\264912117825caaa620ba370d5ade828.txt\n",
      "Removed tag \"mammal\" and \", \" after it from file: C:\\Users\\kade\\Desktop\\training_dir_staging\\1_hoodwink_(dota)\\264912117825caaa620ba370d5ade828.txt\n",
      "Removed tag \"absurd res\" and \", \" after it from file: C:\\Users\\kade\\Desktop\\training_dir_staging\\1_hoodwink_(dota)\\26f88092877a8dad24941f27d26f9d4a.txt\n",
      "Removed tag \"hi res\" and \", \" after it from file: C:\\Users\\kade\\Desktop\\training_dir_staging\\1_hoodwink_(dota)\\26f88092877a8dad24941f27d26f9d4a.txt\n",
      "Removed tag \"mammal\" and \", \" after it from file: C:\\Users\\kade\\Desktop\\training_dir_staging\\1_hoodwink_(dota)\\26f88092877a8dad24941f27d26f9d4a.txt\n",
      "Removed tag \"2023\" and \", \" after it from file: C:\\Users\\kade\\Desktop\\training_dir_staging\\1_hoodwink_(dota)\\26f88092877a8dad24941f27d26f9d4a.txt\n",
      "Removed tag \"hi res\" and \", \" after it from file: C:\\Users\\kade\\Desktop\\training_dir_staging\\1_hoodwink_(dota)\\2b61cb5d2c0bebba57aa7ddb09121cb4.txt\n",
      "Removed tag \"mammal\" and \", \" after it from file: C:\\Users\\kade\\Desktop\\training_dir_staging\\1_hoodwink_(dota)\\2b61cb5d2c0bebba57aa7ddb09121cb4.txt\n",
      "Removed tag \"16 9\" and \", \" after it from file: C:\\Users\\kade\\Desktop\\training_dir_staging\\1_hoodwink_(dota)\\2b8a4e1a8ab717f393f43cb81c728ad9.txt\n",
      "Removed tag \"hi res\" and \", \" after it from file: C:\\Users\\kade\\Desktop\\training_dir_staging\\1_hoodwink_(dota)\\2b8a4e1a8ab717f393f43cb81c728ad9.txt\n",
      "Removed tag \"mammal\" and \", \" after it from file: C:\\Users\\kade\\Desktop\\training_dir_staging\\1_hoodwink_(dota)\\2b8a4e1a8ab717f393f43cb81c728ad9.txt\n",
      "Removed tag \"widescreen\" and \", \" after it from file: C:\\Users\\kade\\Desktop\\training_dir_staging\\1_hoodwink_(dota)\\2b8a4e1a8ab717f393f43cb81c728ad9.txt\n",
      "Removed tag \"absurd res\" and \", \" after it from file: C:\\Users\\kade\\Desktop\\training_dir_staging\\1_hoodwink_(dota)\\2d338a6a310232f44ac6e80b52045bc1.txt\n",
      "Removed tag \"hi res\" and \", \" after it from file: C:\\Users\\kade\\Desktop\\training_dir_staging\\1_hoodwink_(dota)\\2d338a6a310232f44ac6e80b52045bc1.txt\n",
      "Removed tag \"mammal\" and \", \" after it from file: C:\\Users\\kade\\Desktop\\training_dir_staging\\1_hoodwink_(dota)\\2d338a6a310232f44ac6e80b52045bc1.txt\n",
      "Removed tag \"16 10\" and \", \" after it from file: C:\\Users\\kade\\Desktop\\training_dir_staging\\1_hoodwink_(dota)\\2f1e0a34c2e0d8b544d9d8295b2c8910.txt\n",
      "Removed tag \"absurd res\" and \", \" after it from file: C:\\Users\\kade\\Desktop\\training_dir_staging\\1_hoodwink_(dota)\\2f1e0a34c2e0d8b544d9d8295b2c8910.txt\n",
      "Removed tag \"hi res\" and \", \" after it from file: C:\\Users\\kade\\Desktop\\training_dir_staging\\1_hoodwink_(dota)\\2f1e0a34c2e0d8b544d9d8295b2c8910.txt\n",
      "Removed tag \"mammal\" and \", \" after it from file: C:\\Users\\kade\\Desktop\\training_dir_staging\\1_hoodwink_(dota)\\2f1e0a34c2e0d8b544d9d8295b2c8910.txt\n",
      "Removed tag \"widescreen\" and \", \" after it from file: C:\\Users\\kade\\Desktop\\training_dir_staging\\1_hoodwink_(dota)\\2f1e0a34c2e0d8b544d9d8295b2c8910.txt\n",
      "Removed tag \"hi res\" and \", \" after it from file: C:\\Users\\kade\\Desktop\\training_dir_staging\\1_hoodwink_(dota)\\31be5fd6602bc269cd119b041a34948c.txt\n",
      "Removed tag \"mammal\" and \", \" after it from file: C:\\Users\\kade\\Desktop\\training_dir_staging\\1_hoodwink_(dota)\\31be5fd6602bc269cd119b041a34948c.txt\n",
      "Removed tag \"mammal\" and \", \" after it from file: C:\\Users\\kade\\Desktop\\training_dir_staging\\1_hoodwink_(dota)\\3296fd07eea8775791e3e1c43e392d87.txt\n",
      "Removed tag \"2020\" and \", \" after it from file: C:\\Users\\kade\\Desktop\\training_dir_staging\\1_hoodwink_(dota)\\3296fd07eea8775791e3e1c43e392d87.txt\n",
      "Removed tag \"hi res\" and \", \" after it from file: C:\\Users\\kade\\Desktop\\training_dir_staging\\1_hoodwink_(dota)\\342787d8172c9ea352cc54642d744d09.txt\n",
      "Removed tag \"mammal\" and \", \" after it from file: C:\\Users\\kade\\Desktop\\training_dir_staging\\1_hoodwink_(dota)\\342787d8172c9ea352cc54642d744d09.txt\n",
      "Removed tag \"16 9\" and \", \" after it from file: C:\\Users\\kade\\Desktop\\training_dir_staging\\1_hoodwink_(dota)\\349ba22ece78fbf560a896c4fa6d5428.txt\n",
      "Removed tag \"hi res\" and \", \" after it from file: C:\\Users\\kade\\Desktop\\training_dir_staging\\1_hoodwink_(dota)\\349ba22ece78fbf560a896c4fa6d5428.txt\n",
      "Removed tag \"mammal\" and \", \" after it from file: C:\\Users\\kade\\Desktop\\training_dir_staging\\1_hoodwink_(dota)\\349ba22ece78fbf560a896c4fa6d5428.txt\n",
      "Removed tag \"widescreen\" and \", \" after it from file: C:\\Users\\kade\\Desktop\\training_dir_staging\\1_hoodwink_(dota)\\349ba22ece78fbf560a896c4fa6d5428.txt\n",
      "Removed tag \"hi res\" and \", \" after it from file: C:\\Users\\kade\\Desktop\\training_dir_staging\\1_hoodwink_(dota)\\3a6257c6c150bc36ba77c9fc943c17a3.txt\n",
      "Removed tag \"mammal\" and \", \" after it from file: C:\\Users\\kade\\Desktop\\training_dir_staging\\1_hoodwink_(dota)\\3a6257c6c150bc36ba77c9fc943c17a3.txt\n",
      "Removed tag \"2023\" and \", \" after it from file: C:\\Users\\kade\\Desktop\\training_dir_staging\\1_hoodwink_(dota)\\3a6257c6c150bc36ba77c9fc943c17a3.txt\n",
      "Removed tag \"hi res\" and \", \" after it from file: C:\\Users\\kade\\Desktop\\training_dir_staging\\1_hoodwink_(dota)\\3a7a57805a648d7ae853b76a97e4adbe.txt\n",
      "Removed tag \"mammal\" and \", \" after it from file: C:\\Users\\kade\\Desktop\\training_dir_staging\\1_hoodwink_(dota)\\3a7a57805a648d7ae853b76a97e4adbe.txt\n",
      "Removed tag \"partially\" and \", \" after it from file: C:\\Users\\kade\\Desktop\\training_dir_staging\\1_hoodwink_(dota)\\3d43b0feb9f9b8cb726b3b39b82a9525.txt\n",
      "Removed tag \"4 5\" and \", \" after it from file: C:\\Users\\kade\\Desktop\\training_dir_staging\\1_hoodwink_(dota)\\3d43b0feb9f9b8cb726b3b39b82a9525.txt\n",
      "Removed tag \"hi res\" and \", \" after it from file: C:\\Users\\kade\\Desktop\\training_dir_staging\\1_hoodwink_(dota)\\3d43b0feb9f9b8cb726b3b39b82a9525.txt\n",
      "Removed tag \"mammal\" and \", \" after it from file: C:\\Users\\kade\\Desktop\\training_dir_staging\\1_hoodwink_(dota)\\3d43b0feb9f9b8cb726b3b39b82a9525.txt\n",
      "Removed tag \"shaded\" and \", \" after it from file: C:\\Users\\kade\\Desktop\\training_dir_staging\\1_hoodwink_(dota)\\3d43b0feb9f9b8cb726b3b39b82a9525.txt\n",
      "Removed tag \"1 1\" and \", \" after it from file: C:\\Users\\kade\\Desktop\\training_dir_staging\\1_hoodwink_(dota)\\3e0303b46b87a43b35e70f374c457d16.txt\n",
      "Removed tag \"mammal\" and \", \" after it from file: C:\\Users\\kade\\Desktop\\training_dir_staging\\1_hoodwink_(dota)\\3e0303b46b87a43b35e70f374c457d16.txt\n",
      "Removed tag \"16 9\" and \", \" after it from file: C:\\Users\\kade\\Desktop\\training_dir_staging\\1_hoodwink_(dota)\\3e0c2aadde9d289b9cc53116d6acb3b5.txt\n",
      "Removed tag \"absurd res\" and \", \" after it from file: C:\\Users\\kade\\Desktop\\training_dir_staging\\1_hoodwink_(dota)\\3e0c2aadde9d289b9cc53116d6acb3b5.txt\n",
      "Removed tag \"hi res\" and \", \" after it from file: C:\\Users\\kade\\Desktop\\training_dir_staging\\1_hoodwink_(dota)\\3e0c2aadde9d289b9cc53116d6acb3b5.txt\n",
      "Removed tag \"mammal\" and \", \" after it from file: C:\\Users\\kade\\Desktop\\training_dir_staging\\1_hoodwink_(dota)\\3e0c2aadde9d289b9cc53116d6acb3b5.txt\n",
      "Removed tag \"widescreen\" and \", \" after it from file: C:\\Users\\kade\\Desktop\\training_dir_staging\\1_hoodwink_(dota)\\3e0c2aadde9d289b9cc53116d6acb3b5.txt\n",
      "Removed tag \"1 1\" and \", \" after it from file: C:\\Users\\kade\\Desktop\\training_dir_staging\\1_hoodwink_(dota)\\3f02511eb81ef7cca243e901871efae5.txt\n",
      "Removed tag \"absurd res\" and \", \" after it from file: C:\\Users\\kade\\Desktop\\training_dir_staging\\1_hoodwink_(dota)\\3f02511eb81ef7cca243e901871efae5.txt\n",
      "Removed tag \"hi res\" and \", \" after it from file: C:\\Users\\kade\\Desktop\\training_dir_staging\\1_hoodwink_(dota)\\3f02511eb81ef7cca243e901871efae5.txt\n",
      "Removed tag \"mammal\" and \", \" after it from file: C:\\Users\\kade\\Desktop\\training_dir_staging\\1_hoodwink_(dota)\\3f02511eb81ef7cca243e901871efae5.txt\n",
      "Removed tag \"hi res\" and \", \" after it from file: C:\\Users\\kade\\Desktop\\training_dir_staging\\1_hoodwink_(dota)\\41331a707ad655f5f8a9aa74d7c56a04.txt\n",
      "Removed tag \"mammal\" and \", \" after it from file: C:\\Users\\kade\\Desktop\\training_dir_staging\\1_hoodwink_(dota)\\41331a707ad655f5f8a9aa74d7c56a04.txt\n",
      "Removed tag \"mammal\" and \", \" after it from file: C:\\Users\\kade\\Desktop\\training_dir_staging\\1_hoodwink_(dota)\\43681cbf0525465bc45c8e2d1ecfa83c.txt\n",
      "Removed tag \"hi res\" and \", \" after it from file: C:\\Users\\kade\\Desktop\\training_dir_staging\\1_hoodwink_(dota)\\43af2af6d28e725210338eb3c9d86531.txt\n",
      "Removed tag \"mammal\" and \", \" after it from file: C:\\Users\\kade\\Desktop\\training_dir_staging\\1_hoodwink_(dota)\\43af2af6d28e725210338eb3c9d86531.txt\n",
      "Removed tag \"2022\" and \", \" after it from file: C:\\Users\\kade\\Desktop\\training_dir_staging\\1_hoodwink_(dota)\\43af2af6d28e725210338eb3c9d86531.txt\n",
      "Removed tag \"3 4\" and \", \" after it from file: C:\\Users\\kade\\Desktop\\training_dir_staging\\1_hoodwink_(dota)\\466ae0552e96289a125e25e2df4ffd60.txt\n",
      "Removed tag \"hi res\" and \", \" after it from file: C:\\Users\\kade\\Desktop\\training_dir_staging\\1_hoodwink_(dota)\\466ae0552e96289a125e25e2df4ffd60.txt\n",
      "Removed tag \"mammal\" and \", \" after it from file: C:\\Users\\kade\\Desktop\\training_dir_staging\\1_hoodwink_(dota)\\466ae0552e96289a125e25e2df4ffd60.txt\n",
      "Removed tag \"hi res\" and \", \" after it from file: C:\\Users\\kade\\Desktop\\training_dir_staging\\1_hoodwink_(dota)\\470fcbe5e6ef6778ca95d11d87c5b43a.txt\n",
      "Removed tag \"mammal\" and \", \" after it from file: C:\\Users\\kade\\Desktop\\training_dir_staging\\1_hoodwink_(dota)\\470fcbe5e6ef6778ca95d11d87c5b43a.txt\n",
      "Removed tag \"hi res\" and \", \" after it from file: C:\\Users\\kade\\Desktop\\training_dir_staging\\1_hoodwink_(dota)\\4848caa455724ab900812ddb8f8608b9.txt\n",
      "Removed tag \"mammal\" and \", \" after it from file: C:\\Users\\kade\\Desktop\\training_dir_staging\\1_hoodwink_(dota)\\4848caa455724ab900812ddb8f8608b9.txt\n",
      "Removed tag \"3 4\" and \", \" after it from file: C:\\Users\\kade\\Desktop\\training_dir_staging\\1_hoodwink_(dota)\\485423089451d0eecc381a056983a308.txt\n",
      "Removed tag \"hi res\" and \", \" after it from file: C:\\Users\\kade\\Desktop\\training_dir_staging\\1_hoodwink_(dota)\\485423089451d0eecc381a056983a308.txt\n",
      "Removed tag \"mammal\" and \", \" after it from file: C:\\Users\\kade\\Desktop\\training_dir_staging\\1_hoodwink_(dota)\\485423089451d0eecc381a056983a308.txt\n",
      "Removed tag \"absurd res\" and \", \" after it from file: C:\\Users\\kade\\Desktop\\training_dir_staging\\1_hoodwink_(dota)\\485ec432ba74a167ccc150391f7ba538.txt\n",
      "Removed tag \"hi res\" and \", \" after it from file: C:\\Users\\kade\\Desktop\\training_dir_staging\\1_hoodwink_(dota)\\485ec432ba74a167ccc150391f7ba538.txt\n",
      "Removed tag \"mammal\" and \", \" after it from file: C:\\Users\\kade\\Desktop\\training_dir_staging\\1_hoodwink_(dota)\\485ec432ba74a167ccc150391f7ba538.txt\n",
      "Removed tag \"2020\" and \", \" after it from file: C:\\Users\\kade\\Desktop\\training_dir_staging\\1_hoodwink_(dota)\\485ec432ba74a167ccc150391f7ba538.txt\n",
      "Removed tag \"mammal\" and \", \" after it from file: C:\\Users\\kade\\Desktop\\training_dir_staging\\1_hoodwink_(dota)\\48a0bbc18f063b74710063c0179c34b2.txt\n",
      "Removed tag \"3 4\" and \", \" after it from file: C:\\Users\\kade\\Desktop\\training_dir_staging\\1_hoodwink_(dota)\\4b70b53cb45cb72d4dcaa38bf9b419e8.txt\n",
      "Removed tag \"hi res\" and \", \" after it from file: C:\\Users\\kade\\Desktop\\training_dir_staging\\1_hoodwink_(dota)\\4b70b53cb45cb72d4dcaa38bf9b419e8.txt\n",
      "Removed tag \"mammal\" and \", \" after it from file: C:\\Users\\kade\\Desktop\\training_dir_staging\\1_hoodwink_(dota)\\4b70b53cb45cb72d4dcaa38bf9b419e8.txt\n",
      "Removed tag \"absurd res\" and \", \" after it from file: C:\\Users\\kade\\Desktop\\training_dir_staging\\1_hoodwink_(dota)\\4dedd288971cbc209a454efe0aeb8e64.txt\n",
      "Removed tag \"hi res\" and \", \" after it from file: C:\\Users\\kade\\Desktop\\training_dir_staging\\1_hoodwink_(dota)\\4dedd288971cbc209a454efe0aeb8e64.txt\n",
      "Removed tag \"mammal\" and \", \" after it from file: C:\\Users\\kade\\Desktop\\training_dir_staging\\1_hoodwink_(dota)\\4dedd288971cbc209a454efe0aeb8e64.txt\n",
      "Removed tag \"shaded\" and \", \" after it from file: C:\\Users\\kade\\Desktop\\training_dir_staging\\1_hoodwink_(dota)\\4dedd288971cbc209a454efe0aeb8e64.txt\n",
      "Removed tag \"2022\" and \", \" after it from file: C:\\Users\\kade\\Desktop\\training_dir_staging\\1_hoodwink_(dota)\\4dedd288971cbc209a454efe0aeb8e64.txt\n",
      "Removed tag \"3 4\" and \", \" after it from file: C:\\Users\\kade\\Desktop\\training_dir_staging\\1_hoodwink_(dota)\\50b03d529b0f572f01985a9e10e77d68.txt\n",
      "Removed tag \"hi res\" and \", \" after it from file: C:\\Users\\kade\\Desktop\\training_dir_staging\\1_hoodwink_(dota)\\50b03d529b0f572f01985a9e10e77d68.txt\n",
      "Removed tag \"mammal\" and \", \" after it from file: C:\\Users\\kade\\Desktop\\training_dir_staging\\1_hoodwink_(dota)\\50b03d529b0f572f01985a9e10e77d68.txt\n",
      "Removed tag \"3 4\" and \", \" after it from file: C:\\Users\\kade\\Desktop\\training_dir_staging\\1_hoodwink_(dota)\\51f4b9e69c35d0c7f097ee8dbc57b8eb.txt\n",
      "Removed tag \"hi res\" and \", \" after it from file: C:\\Users\\kade\\Desktop\\training_dir_staging\\1_hoodwink_(dota)\\51f4b9e69c35d0c7f097ee8dbc57b8eb.txt\n",
      "Removed tag \"mammal\" and \", \" after it from file: C:\\Users\\kade\\Desktop\\training_dir_staging\\1_hoodwink_(dota)\\51f4b9e69c35d0c7f097ee8dbc57b8eb.txt\n",
      "Removed tag \"hi res\" and \", \" after it from file: C:\\Users\\kade\\Desktop\\training_dir_staging\\1_hoodwink_(dota)\\55080ce5464eb2b030b443ea8d1d2bed.txt\n",
      "Removed tag \"mammal\" and \", \" after it from file: C:\\Users\\kade\\Desktop\\training_dir_staging\\1_hoodwink_(dota)\\55080ce5464eb2b030b443ea8d1d2bed.txt\n",
      "Removed tag \"2022\" and \", \" after it from file: C:\\Users\\kade\\Desktop\\training_dir_staging\\1_hoodwink_(dota)\\55080ce5464eb2b030b443ea8d1d2bed.txt\n",
      "Removed tag \"1 1\" and \", \" after it from file: C:\\Users\\kade\\Desktop\\training_dir_staging\\1_hoodwink_(dota)\\574ab1ecfd32e053b458e30f64aef25f.txt\n",
      "Removed tag \"mammal\" and \", \" after it from file: C:\\Users\\kade\\Desktop\\training_dir_staging\\1_hoodwink_(dota)\\574ab1ecfd32e053b458e30f64aef25f.txt\n",
      "Removed tag \"4 5\" and \", \" after it from file: C:\\Users\\kade\\Desktop\\training_dir_staging\\1_hoodwink_(dota)\\57bd5a871215d5d00e241c86e76d22c5.txt\n",
      "Removed tag \"absurd res\" and \", \" after it from file: C:\\Users\\kade\\Desktop\\training_dir_staging\\1_hoodwink_(dota)\\57bd5a871215d5d00e241c86e76d22c5.txt\n",
      "Removed tag \"hi res\" and \", \" after it from file: C:\\Users\\kade\\Desktop\\training_dir_staging\\1_hoodwink_(dota)\\57bd5a871215d5d00e241c86e76d22c5.txt\n",
      "Removed tag \"mammal\" and \", \" after it from file: C:\\Users\\kade\\Desktop\\training_dir_staging\\1_hoodwink_(dota)\\57bd5a871215d5d00e241c86e76d22c5.txt\n",
      "Removed tag \"hi res\" and \", \" after it from file: C:\\Users\\kade\\Desktop\\training_dir_staging\\1_hoodwink_(dota)\\595112ed1bcc83f82cdac5188cd36baf.txt\n",
      "Removed tag \"mammal\" and \", \" after it from file: C:\\Users\\kade\\Desktop\\training_dir_staging\\1_hoodwink_(dota)\\595112ed1bcc83f82cdac5188cd36baf.txt\n",
      "Removed tag \"16 9\" and \", \" after it from file: C:\\Users\\kade\\Desktop\\training_dir_staging\\1_hoodwink_(dota)\\5a396174222d3ae56f02ac9f81fa4f23.txt\n",
      "Removed tag \"hi res\" and \", \" after it from file: C:\\Users\\kade\\Desktop\\training_dir_staging\\1_hoodwink_(dota)\\5a396174222d3ae56f02ac9f81fa4f23.txt\n",
      "Removed tag \"mammal\" and \", \" after it from file: C:\\Users\\kade\\Desktop\\training_dir_staging\\1_hoodwink_(dota)\\5a396174222d3ae56f02ac9f81fa4f23.txt\n",
      "Removed tag \"widescreen\" and \", \" after it from file: C:\\Users\\kade\\Desktop\\training_dir_staging\\1_hoodwink_(dota)\\5a396174222d3ae56f02ac9f81fa4f23.txt\n",
      "Removed tag \"hi res\" and \", \" after it from file: C:\\Users\\kade\\Desktop\\training_dir_staging\\1_hoodwink_(dota)\\5c4138ca271644c37e197bb8a7b53eb7.txt\n",
      "Removed tag \"mammal\" and \", \" after it from file: C:\\Users\\kade\\Desktop\\training_dir_staging\\1_hoodwink_(dota)\\5c4138ca271644c37e197bb8a7b53eb7.txt\n",
      "Removed tag \"partially\" and \", \" after it from file: C:\\Users\\kade\\Desktop\\training_dir_staging\\1_hoodwink_(dota)\\5db59a491942801fb3741e068a3c1012.txt\n",
      "Removed tag \"4 5\" and \", \" after it from file: C:\\Users\\kade\\Desktop\\training_dir_staging\\1_hoodwink_(dota)\\5db59a491942801fb3741e068a3c1012.txt\n",
      "Removed tag \"hi res\" and \", \" after it from file: C:\\Users\\kade\\Desktop\\training_dir_staging\\1_hoodwink_(dota)\\5db59a491942801fb3741e068a3c1012.txt\n",
      "Removed tag \"mammal\" and \", \" after it from file: C:\\Users\\kade\\Desktop\\training_dir_staging\\1_hoodwink_(dota)\\5db59a491942801fb3741e068a3c1012.txt\n",
      "Removed tag \"shaded\" and \", \" after it from file: C:\\Users\\kade\\Desktop\\training_dir_staging\\1_hoodwink_(dota)\\5db59a491942801fb3741e068a3c1012.txt\n",
      "Removed tag \"mammal\" and \", \" after it from file: C:\\Users\\kade\\Desktop\\training_dir_staging\\1_hoodwink_(dota)\\5dfae3c0a6d08bd8c6d3c915340f2648.txt\n",
      "Removed tag \"16 9\" and \", \" after it from file: C:\\Users\\kade\\Desktop\\training_dir_staging\\1_hoodwink_(dota)\\602c6a585b7be21c9615e2f7e52086c3.txt\n",
      "Removed tag \"hi res\" and \", \" after it from file: C:\\Users\\kade\\Desktop\\training_dir_staging\\1_hoodwink_(dota)\\602c6a585b7be21c9615e2f7e52086c3.txt\n",
      "Removed tag \"mammal\" and \", \" after it from file: C:\\Users\\kade\\Desktop\\training_dir_staging\\1_hoodwink_(dota)\\602c6a585b7be21c9615e2f7e52086c3.txt\n",
      "Removed tag \"widescreen\" and \", \" after it from file: C:\\Users\\kade\\Desktop\\training_dir_staging\\1_hoodwink_(dota)\\602c6a585b7be21c9615e2f7e52086c3.txt\n",
      "Removed tag \"16 9\" and \", \" after it from file: C:\\Users\\kade\\Desktop\\training_dir_staging\\1_hoodwink_(dota)\\644f9f31aedd2f1d7e4d5d72ea594fc2.txt\n",
      "Removed tag \"hi res\" and \", \" after it from file: C:\\Users\\kade\\Desktop\\training_dir_staging\\1_hoodwink_(dota)\\644f9f31aedd2f1d7e4d5d72ea594fc2.txt\n",
      "Removed tag \"mammal\" and \", \" after it from file: C:\\Users\\kade\\Desktop\\training_dir_staging\\1_hoodwink_(dota)\\644f9f31aedd2f1d7e4d5d72ea594fc2.txt\n",
      "Removed tag \"widescreen\" and \", \" after it from file: C:\\Users\\kade\\Desktop\\training_dir_staging\\1_hoodwink_(dota)\\644f9f31aedd2f1d7e4d5d72ea594fc2.txt\n",
      "Removed tag \"2 3\" and \", \" after it from file: C:\\Users\\kade\\Desktop\\training_dir_staging\\1_hoodwink_(dota)\\68f54bd7507573ca1cda4c81e0e0bff2.txt\n",
      "Removed tag \"hi res\" and \", \" after it from file: C:\\Users\\kade\\Desktop\\training_dir_staging\\1_hoodwink_(dota)\\68f54bd7507573ca1cda4c81e0e0bff2.txt\n",
      "Removed tag \"mammal\" and \", \" after it from file: C:\\Users\\kade\\Desktop\\training_dir_staging\\1_hoodwink_(dota)\\68f54bd7507573ca1cda4c81e0e0bff2.txt\n",
      "Removed tag \"absurd res\" and \", \" after it from file: C:\\Users\\kade\\Desktop\\training_dir_staging\\1_hoodwink_(dota)\\69c60b26acdb835447e5fbc0b8231db5.txt\n",
      "Removed tag \"hi res\" and \", \" after it from file: C:\\Users\\kade\\Desktop\\training_dir_staging\\1_hoodwink_(dota)\\69c60b26acdb835447e5fbc0b8231db5.txt\n",
      "Removed tag \"mammal\" and \", \" after it from file: C:\\Users\\kade\\Desktop\\training_dir_staging\\1_hoodwink_(dota)\\69c60b26acdb835447e5fbc0b8231db5.txt\n",
      "Removed tag \"absurd res\" and \", \" after it from file: C:\\Users\\kade\\Desktop\\training_dir_staging\\1_hoodwink_(dota)\\6a961bd7f74396d6b16571d8e7aa696b.txt\n",
      "Removed tag \"hi res\" and \", \" after it from file: C:\\Users\\kade\\Desktop\\training_dir_staging\\1_hoodwink_(dota)\\6a961bd7f74396d6b16571d8e7aa696b.txt\n",
      "Removed tag \"mammal\" and \", \" after it from file: C:\\Users\\kade\\Desktop\\training_dir_staging\\1_hoodwink_(dota)\\6a961bd7f74396d6b16571d8e7aa696b.txt\n",
      "Removed tag \"2021\" and \", \" after it from file: C:\\Users\\kade\\Desktop\\training_dir_staging\\1_hoodwink_(dota)\\6a961bd7f74396d6b16571d8e7aa696b.txt\n",
      "Removed tag \"partially\" and \", \" after it from file: C:\\Users\\kade\\Desktop\\training_dir_staging\\1_hoodwink_(dota)\\6ac539a52bee488ce21b5704afd44ffc.txt\n",
      "Removed tag \"absurd res\" and \", \" after it from file: C:\\Users\\kade\\Desktop\\training_dir_staging\\1_hoodwink_(dota)\\6ac539a52bee488ce21b5704afd44ffc.txt\n",
      "Removed tag \"hi res\" and \", \" after it from file: C:\\Users\\kade\\Desktop\\training_dir_staging\\1_hoodwink_(dota)\\6ac539a52bee488ce21b5704afd44ffc.txt\n",
      "Removed tag \"mammal\" and \", \" after it from file: C:\\Users\\kade\\Desktop\\training_dir_staging\\1_hoodwink_(dota)\\6ac539a52bee488ce21b5704afd44ffc.txt\n",
      "Removed tag \"4 5\" and \", \" after it from file: C:\\Users\\kade\\Desktop\\training_dir_staging\\1_hoodwink_(dota)\\6bbb218098e2f54935e35e028af2dfc1.txt\n",
      "Removed tag \"hi res\" and \", \" after it from file: C:\\Users\\kade\\Desktop\\training_dir_staging\\1_hoodwink_(dota)\\6bbb218098e2f54935e35e028af2dfc1.txt\n",
      "Removed tag \"mammal\" and \", \" after it from file: C:\\Users\\kade\\Desktop\\training_dir_staging\\1_hoodwink_(dota)\\6bbb218098e2f54935e35e028af2dfc1.txt\n",
      "Removed tag \"2022\" and \", \" after it from file: C:\\Users\\kade\\Desktop\\training_dir_staging\\1_hoodwink_(dota)\\6bbb218098e2f54935e35e028af2dfc1.txt\n",
      "Removed tag \"hi res\" and \", \" after it from file: C:\\Users\\kade\\Desktop\\training_dir_staging\\1_hoodwink_(dota)\\6c37b26ab9ce78a3803ab959cd4d4e42.txt\n",
      "Removed tag \"mammal\" and \", \" after it from file: C:\\Users\\kade\\Desktop\\training_dir_staging\\1_hoodwink_(dota)\\6c37b26ab9ce78a3803ab959cd4d4e42.txt\n",
      "Removed tag \"2022\" and \", \" after it from file: C:\\Users\\kade\\Desktop\\training_dir_staging\\1_hoodwink_(dota)\\6c37b26ab9ce78a3803ab959cd4d4e42.txt\n",
      "Removed tag \"1 1\" and \", \" after it from file: C:\\Users\\kade\\Desktop\\training_dir_staging\\1_hoodwink_(dota)\\6c71cadf21599c241098c130f009ae74.txt\n",
      "Removed tag \"mammal\" and \", \" after it from file: C:\\Users\\kade\\Desktop\\training_dir_staging\\1_hoodwink_(dota)\\6c71cadf21599c241098c130f009ae74.txt\n",
      "Removed tag \"absurd res\" and \", \" after it from file: C:\\Users\\kade\\Desktop\\training_dir_staging\\1_hoodwink_(dota)\\6cf80fb8117a151b3e8de82430ed197d.txt\n",
      "Removed tag \"hi res\" and \", \" after it from file: C:\\Users\\kade\\Desktop\\training_dir_staging\\1_hoodwink_(dota)\\6cf80fb8117a151b3e8de82430ed197d.txt\n",
      "Removed tag \"mammal\" and \", \" after it from file: C:\\Users\\kade\\Desktop\\training_dir_staging\\1_hoodwink_(dota)\\6cf80fb8117a151b3e8de82430ed197d.txt\n",
      "Removed tag \"2023\" and \", \" after it from file: C:\\Users\\kade\\Desktop\\training_dir_staging\\1_hoodwink_(dota)\\6cf80fb8117a151b3e8de82430ed197d.txt\n",
      "Removed tag \"4 3\" and \", \" after it from file: C:\\Users\\kade\\Desktop\\training_dir_staging\\1_hoodwink_(dota)\\6e55dbfb203915de50244796867bcd87.txt\n",
      "Removed tag \"absurd res\" and \", \" after it from file: C:\\Users\\kade\\Desktop\\training_dir_staging\\1_hoodwink_(dota)\\6e55dbfb203915de50244796867bcd87.txt\n",
      "Removed tag \"hi res\" and \", \" after it from file: C:\\Users\\kade\\Desktop\\training_dir_staging\\1_hoodwink_(dota)\\6e55dbfb203915de50244796867bcd87.txt\n",
      "Removed tag \"canid\" and \", \" after it from file: C:\\Users\\kade\\Desktop\\training_dir_staging\\1_hoodwink_(dota)\\6e55dbfb203915de50244796867bcd87.txt\n",
      "Removed tag \"mammal\" and \", \" after it from file: C:\\Users\\kade\\Desktop\\training_dir_staging\\1_hoodwink_(dota)\\6e55dbfb203915de50244796867bcd87.txt\n",
      "Removed tag \"hi res\" and \", \" after it from file: C:\\Users\\kade\\Desktop\\training_dir_staging\\1_hoodwink_(dota)\\6ea740f68c0be4224e4fa934a4c78928.txt\n",
      "Removed tag \"mammal\" and \", \" after it from file: C:\\Users\\kade\\Desktop\\training_dir_staging\\1_hoodwink_(dota)\\6ea740f68c0be4224e4fa934a4c78928.txt\n",
      "Removed tag \"hi res\" and \", \" after it from file: C:\\Users\\kade\\Desktop\\training_dir_staging\\1_hoodwink_(dota)\\6ec1999028b6c9c7470f493083edb2c7.txt\n",
      "Removed tag \"mammal\" and \", \" after it from file: C:\\Users\\kade\\Desktop\\training_dir_staging\\1_hoodwink_(dota)\\6ec1999028b6c9c7470f493083edb2c7.txt\n",
      "Removed tag \"hi res\" and \", \" after it from file: C:\\Users\\kade\\Desktop\\training_dir_staging\\1_hoodwink_(dota)\\6ee0a6f1989f9b9a0f52b54ad035e307.txt\n",
      "Removed tag \"mammal\" and \", \" after it from file: C:\\Users\\kade\\Desktop\\training_dir_staging\\1_hoodwink_(dota)\\6ee0a6f1989f9b9a0f52b54ad035e307.txt\n",
      "Removed tag \"hi res\" and \", \" after it from file: C:\\Users\\kade\\Desktop\\training_dir_staging\\1_hoodwink_(dota)\\6f508eb534bf653216224ee3740dbf7e.txt\n",
      "Removed tag \"mammal\" and \", \" after it from file: C:\\Users\\kade\\Desktop\\training_dir_staging\\1_hoodwink_(dota)\\6f508eb534bf653216224ee3740dbf7e.txt\n",
      "Removed tag \"2021\" and \", \" after it from file: C:\\Users\\kade\\Desktop\\training_dir_staging\\1_hoodwink_(dota)\\6f508eb534bf653216224ee3740dbf7e.txt\n",
      "Removed tag \"mammal\" and \", \" after it from file: C:\\Users\\kade\\Desktop\\training_dir_staging\\1_hoodwink_(dota)\\7073902bc7c64e50bb00498b966def23.txt\n",
      "Removed tag \"2021\" and \", \" after it from file: C:\\Users\\kade\\Desktop\\training_dir_staging\\1_hoodwink_(dota)\\7073902bc7c64e50bb00498b966def23.txt\n",
      "Removed tag \"absurd res\" and \", \" after it from file: C:\\Users\\kade\\Desktop\\training_dir_staging\\1_hoodwink_(dota)\\710b296218ff3cd1e9d6bde1b3be8995.txt\n",
      "Removed tag \"hi res\" and \", \" after it from file: C:\\Users\\kade\\Desktop\\training_dir_staging\\1_hoodwink_(dota)\\710b296218ff3cd1e9d6bde1b3be8995.txt\n",
      "Removed tag \"mammal\" and \", \" after it from file: C:\\Users\\kade\\Desktop\\training_dir_staging\\1_hoodwink_(dota)\\710b296218ff3cd1e9d6bde1b3be8995.txt\n",
      "Removed tag \"2021\" and \", \" after it from file: C:\\Users\\kade\\Desktop\\training_dir_staging\\1_hoodwink_(dota)\\710b296218ff3cd1e9d6bde1b3be8995.txt\n",
      "Removed tag \"1 1\" and \", \" after it from file: C:\\Users\\kade\\Desktop\\training_dir_staging\\1_hoodwink_(dota)\\71580ff5a4cc62fb6c8d5c418cf26c52.txt\n",
      "Removed tag \"mammal\" and \", \" after it from file: C:\\Users\\kade\\Desktop\\training_dir_staging\\1_hoodwink_(dota)\\71580ff5a4cc62fb6c8d5c418cf26c52.txt\n",
      "Removed tag \"hi res\" and \", \" after it from file: C:\\Users\\kade\\Desktop\\training_dir_staging\\1_hoodwink_(dota)\\71c67ec7dc1e487fa1740ae328c998e7.txt\n",
      "Removed tag \"mammal\" and \", \" after it from file: C:\\Users\\kade\\Desktop\\training_dir_staging\\1_hoodwink_(dota)\\71c67ec7dc1e487fa1740ae328c998e7.txt\n",
      "Removed tag \"partially\" and \", \" after it from file: C:\\Users\\kade\\Desktop\\training_dir_staging\\1_hoodwink_(dota)\\71ce3ab55048b233ca5de663d2e1b397.txt\n",
      "Removed tag \"hi res\" and \", \" after it from file: C:\\Users\\kade\\Desktop\\training_dir_staging\\1_hoodwink_(dota)\\71ce3ab55048b233ca5de663d2e1b397.txt\n",
      "Removed tag \"canid\" and \", \" after it from file: C:\\Users\\kade\\Desktop\\training_dir_staging\\1_hoodwink_(dota)\\71ce3ab55048b233ca5de663d2e1b397.txt\n",
      "Removed tag \"mammal\" and \", \" after it from file: C:\\Users\\kade\\Desktop\\training_dir_staging\\1_hoodwink_(dota)\\71ce3ab55048b233ca5de663d2e1b397.txt\n",
      "Removed tag \"16 9\" and \", \" after it from file: C:\\Users\\kade\\Desktop\\training_dir_staging\\1_hoodwink_(dota)\\73e57493f66d8ca2a19271a7d3c7742c.txt\n",
      "Removed tag \"hi res\" and \", \" after it from file: C:\\Users\\kade\\Desktop\\training_dir_staging\\1_hoodwink_(dota)\\73e57493f66d8ca2a19271a7d3c7742c.txt\n",
      "Removed tag \"mammal\" and \", \" after it from file: C:\\Users\\kade\\Desktop\\training_dir_staging\\1_hoodwink_(dota)\\73e57493f66d8ca2a19271a7d3c7742c.txt\n",
      "Removed tag \"widescreen\" and \", \" after it from file: C:\\Users\\kade\\Desktop\\training_dir_staging\\1_hoodwink_(dota)\\73e57493f66d8ca2a19271a7d3c7742c.txt\n",
      "Removed tag \"3 4\" and \", \" after it from file: C:\\Users\\kade\\Desktop\\training_dir_staging\\1_hoodwink_(dota)\\752011f430b79ae188b43d271e3253d9.txt\n",
      "Removed tag \"hi res\" and \", \" after it from file: C:\\Users\\kade\\Desktop\\training_dir_staging\\1_hoodwink_(dota)\\752011f430b79ae188b43d271e3253d9.txt\n",
      "Removed tag \"mammal\" and \", \" after it from file: C:\\Users\\kade\\Desktop\\training_dir_staging\\1_hoodwink_(dota)\\752011f430b79ae188b43d271e3253d9.txt\n",
      "Removed tag \"1 1\" and \", \" after it from file: C:\\Users\\kade\\Desktop\\training_dir_staging\\1_hoodwink_(dota)\\754957cfca537124a6edb37c00a401ad.txt\n",
      "Removed tag \"absurd res\" and \", \" after it from file: C:\\Users\\kade\\Desktop\\training_dir_staging\\1_hoodwink_(dota)\\754957cfca537124a6edb37c00a401ad.txt\n",
      "Removed tag \"hi res\" and \", \" after it from file: C:\\Users\\kade\\Desktop\\training_dir_staging\\1_hoodwink_(dota)\\754957cfca537124a6edb37c00a401ad.txt\n",
      "Removed tag \"mammal\" and \", \" after it from file: C:\\Users\\kade\\Desktop\\training_dir_staging\\1_hoodwink_(dota)\\754957cfca537124a6edb37c00a401ad.txt\n",
      "Removed tag \"16 10\" and \", \" after it from file: C:\\Users\\kade\\Desktop\\training_dir_staging\\1_hoodwink_(dota)\\7591ef228f0edbdbc49c3719f97d14c9.txt\n",
      "Removed tag \"absurd res\" and \", \" after it from file: C:\\Users\\kade\\Desktop\\training_dir_staging\\1_hoodwink_(dota)\\7591ef228f0edbdbc49c3719f97d14c9.txt\n",
      "Removed tag \"hi res\" and \", \" after it from file: C:\\Users\\kade\\Desktop\\training_dir_staging\\1_hoodwink_(dota)\\7591ef228f0edbdbc49c3719f97d14c9.txt\n",
      "Removed tag \"mammal\" and \", \" after it from file: C:\\Users\\kade\\Desktop\\training_dir_staging\\1_hoodwink_(dota)\\7591ef228f0edbdbc49c3719f97d14c9.txt\n",
      "Removed tag \"widescreen\" and \", \" after it from file: C:\\Users\\kade\\Desktop\\training_dir_staging\\1_hoodwink_(dota)\\7591ef228f0edbdbc49c3719f97d14c9.txt\n",
      "Removed tag \"absurd res\" and \", \" after it from file: C:\\Users\\kade\\Desktop\\training_dir_staging\\1_hoodwink_(dota)\\778594da94bdb676d514feec0a608852.txt\n",
      "Removed tag \"hi res\" and \", \" after it from file: C:\\Users\\kade\\Desktop\\training_dir_staging\\1_hoodwink_(dota)\\778594da94bdb676d514feec0a608852.txt\n",
      "Removed tag \"mammal\" and \", \" after it from file: C:\\Users\\kade\\Desktop\\training_dir_staging\\1_hoodwink_(dota)\\778594da94bdb676d514feec0a608852.txt\n",
      "Removed tag \"hi res\" and \", \" after it from file: C:\\Users\\kade\\Desktop\\training_dir_staging\\1_hoodwink_(dota)\\7887381f60beae295d96d77a5784902c.txt\n",
      "Removed tag \"mammal\" and \", \" after it from file: C:\\Users\\kade\\Desktop\\training_dir_staging\\1_hoodwink_(dota)\\7887381f60beae295d96d77a5784902c.txt\n",
      "Removed tag \"partially\" and \", \" after it from file: C:\\Users\\kade\\Desktop\\training_dir_staging\\1_hoodwink_(dota)\\78c7eb17f4372fb72c09274e9f6d3295.txt\n",
      "Removed tag \"absurd res\" and \", \" after it from file: C:\\Users\\kade\\Desktop\\training_dir_staging\\1_hoodwink_(dota)\\78c7eb17f4372fb72c09274e9f6d3295.txt\n",
      "Removed tag \"hi res\" and \", \" after it from file: C:\\Users\\kade\\Desktop\\training_dir_staging\\1_hoodwink_(dota)\\78c7eb17f4372fb72c09274e9f6d3295.txt\n",
      "Removed tag \"mammal\" and \", \" after it from file: C:\\Users\\kade\\Desktop\\training_dir_staging\\1_hoodwink_(dota)\\78c7eb17f4372fb72c09274e9f6d3295.txt\n",
      "Removed tag \"4 5\" and \", \" after it from file: C:\\Users\\kade\\Desktop\\training_dir_staging\\1_hoodwink_(dota)\\7972f294d93a571c75cdd7242348039e.txt\n",
      "Removed tag \"mammal\" and \", \" after it from file: C:\\Users\\kade\\Desktop\\training_dir_staging\\1_hoodwink_(dota)\\7972f294d93a571c75cdd7242348039e.txt\n",
      "Removed tag \"mammal\" and \", \" after it from file: C:\\Users\\kade\\Desktop\\training_dir_staging\\1_hoodwink_(dota)\\7977e1d7747dec81ba9f2fae103a22be.txt\n",
      "Removed tag \"mammal\" and \", \" after it from file: C:\\Users\\kade\\Desktop\\training_dir_staging\\1_hoodwink_(dota)\\79b7af405b95cfa86920a867a9c7d3f3.txt\n",
      "Removed tag \"16 9\" and \", \" after it from file: C:\\Users\\kade\\Desktop\\training_dir_staging\\1_hoodwink_(dota)\\7a0d27fd173baa9019b08fdc5984a082.txt\n",
      "Removed tag \"hi res\" and \", \" after it from file: C:\\Users\\kade\\Desktop\\training_dir_staging\\1_hoodwink_(dota)\\7a0d27fd173baa9019b08fdc5984a082.txt\n",
      "Removed tag \"mammal\" and \", \" after it from file: C:\\Users\\kade\\Desktop\\training_dir_staging\\1_hoodwink_(dota)\\7a0d27fd173baa9019b08fdc5984a082.txt\n",
      "Removed tag \"widescreen\" and \", \" after it from file: C:\\Users\\kade\\Desktop\\training_dir_staging\\1_hoodwink_(dota)\\7a0d27fd173baa9019b08fdc5984a082.txt\n",
      "Removed tag \"1 1\" and \", \" after it from file: C:\\Users\\kade\\Desktop\\training_dir_staging\\1_hoodwink_(dota)\\7c2db4d1067cdca9c026a424459e5cf8.txt\n",
      "Removed tag \"hi res\" and \", \" after it from file: C:\\Users\\kade\\Desktop\\training_dir_staging\\1_hoodwink_(dota)\\7c2db4d1067cdca9c026a424459e5cf8.txt\n",
      "Removed tag \"mammal\" and \", \" after it from file: C:\\Users\\kade\\Desktop\\training_dir_staging\\1_hoodwink_(dota)\\7c2db4d1067cdca9c026a424459e5cf8.txt\n",
      "Removed tag \"hi res\" and \", \" after it from file: C:\\Users\\kade\\Desktop\\training_dir_staging\\1_hoodwink_(dota)\\7d48a82a991ccb0bd89f862b43c5f115.txt\n",
      "Removed tag \"mammal\" and \", \" after it from file: C:\\Users\\kade\\Desktop\\training_dir_staging\\1_hoodwink_(dota)\\7d48a82a991ccb0bd89f862b43c5f115.txt\n",
      "Removed tag \"partially\" and \", \" after it from file: C:\\Users\\kade\\Desktop\\training_dir_staging\\1_hoodwink_(dota)\\8088e44d69769e6131a7aa37616e0eed.txt\n",
      "Removed tag \"hi res\" and \", \" after it from file: C:\\Users\\kade\\Desktop\\training_dir_staging\\1_hoodwink_(dota)\\8088e44d69769e6131a7aa37616e0eed.txt\n",
      "Removed tag \"mammal\" and \", \" after it from file: C:\\Users\\kade\\Desktop\\training_dir_staging\\1_hoodwink_(dota)\\8088e44d69769e6131a7aa37616e0eed.txt\n",
      "Removed tag \"hi res\" and \", \" after it from file: C:\\Users\\kade\\Desktop\\training_dir_staging\\1_hoodwink_(dota)\\81c497ae2e1b5c3297a294fceb05e0ab.txt\n",
      "Removed tag \"mammal\" and \", \" after it from file: C:\\Users\\kade\\Desktop\\training_dir_staging\\1_hoodwink_(dota)\\81c497ae2e1b5c3297a294fceb05e0ab.txt\n",
      "Removed tag \"absurd res\" and \", \" after it from file: C:\\Users\\kade\\Desktop\\training_dir_staging\\1_hoodwink_(dota)\\82c3511aed6c78fc4ba7fd7c495c564c.txt\n",
      "Removed tag \"hi res\" and \", \" after it from file: C:\\Users\\kade\\Desktop\\training_dir_staging\\1_hoodwink_(dota)\\82c3511aed6c78fc4ba7fd7c495c564c.txt\n",
      "Removed tag \"mammal\" and \", \" after it from file: C:\\Users\\kade\\Desktop\\training_dir_staging\\1_hoodwink_(dota)\\82c3511aed6c78fc4ba7fd7c495c564c.txt\n",
      "Removed tag \"absurd res\" and \", \" after it from file: C:\\Users\\kade\\Desktop\\training_dir_staging\\1_hoodwink_(dota)\\8305635fe2476f3bf2d0676d670fd652.txt\n",
      "Removed tag \"hi res\" and \", \" after it from file: C:\\Users\\kade\\Desktop\\training_dir_staging\\1_hoodwink_(dota)\\8305635fe2476f3bf2d0676d670fd652.txt\n",
      "Removed tag \"mammal\" and \", \" after it from file: C:\\Users\\kade\\Desktop\\training_dir_staging\\1_hoodwink_(dota)\\8305635fe2476f3bf2d0676d670fd652.txt\n",
      "Removed tag \"2021\" and \", \" after it from file: C:\\Users\\kade\\Desktop\\training_dir_staging\\1_hoodwink_(dota)\\8305635fe2476f3bf2d0676d670fd652.txt\n",
      "Removed tag \"hi res\" and \", \" after it from file: C:\\Users\\kade\\Desktop\\training_dir_staging\\1_hoodwink_(dota)\\85245239a17d1f4ae6d0846376169bee.txt\n",
      "Removed tag \"mammal\" and \", \" after it from file: C:\\Users\\kade\\Desktop\\training_dir_staging\\1_hoodwink_(dota)\\85245239a17d1f4ae6d0846376169bee.txt\n",
      "Removed tag \"2023\" and \", \" after it from file: C:\\Users\\kade\\Desktop\\training_dir_staging\\1_hoodwink_(dota)\\85245239a17d1f4ae6d0846376169bee.txt\n",
      "Removed tag \"hi res\" and \", \" after it from file: C:\\Users\\kade\\Desktop\\training_dir_staging\\1_hoodwink_(dota)\\86a664584dce38bdbfa1fc09cb095307.txt\n",
      "Removed tag \"mammal\" and \", \" after it from file: C:\\Users\\kade\\Desktop\\training_dir_staging\\1_hoodwink_(dota)\\86a664584dce38bdbfa1fc09cb095307.txt\n",
      "Removed tag \"2022\" and \", \" after it from file: C:\\Users\\kade\\Desktop\\training_dir_staging\\1_hoodwink_(dota)\\86a664584dce38bdbfa1fc09cb095307.txt\n",
      "Removed tag \"1 1\" and \", \" after it from file: C:\\Users\\kade\\Desktop\\training_dir_staging\\1_hoodwink_(dota)\\8b0d800985fabb2a85c0f15bade63791.txt\n",
      "Removed tag \"absurd res\" and \", \" after it from file: C:\\Users\\kade\\Desktop\\training_dir_staging\\1_hoodwink_(dota)\\8b0d800985fabb2a85c0f15bade63791.txt\n",
      "Removed tag \"hi res\" and \", \" after it from file: C:\\Users\\kade\\Desktop\\training_dir_staging\\1_hoodwink_(dota)\\8b0d800985fabb2a85c0f15bade63791.txt\n",
      "Removed tag \"mammal\" and \", \" after it from file: C:\\Users\\kade\\Desktop\\training_dir_staging\\1_hoodwink_(dota)\\8b0d800985fabb2a85c0f15bade63791.txt\n",
      "Removed tag \"3 4\" and \", \" after it from file: C:\\Users\\kade\\Desktop\\training_dir_staging\\1_hoodwink_(dota)\\8b6d2e72e9cd7645640d01b3628b1e87.txt\n",
      "Removed tag \"hi res\" and \", \" after it from file: C:\\Users\\kade\\Desktop\\training_dir_staging\\1_hoodwink_(dota)\\8b6d2e72e9cd7645640d01b3628b1e87.txt\n",
      "Removed tag \"mammal\" and \", \" after it from file: C:\\Users\\kade\\Desktop\\training_dir_staging\\1_hoodwink_(dota)\\8b6d2e72e9cd7645640d01b3628b1e87.txt\n",
      "Removed tag \"2 3\" and \", \" after it from file: C:\\Users\\kade\\Desktop\\training_dir_staging\\1_hoodwink_(dota)\\8bb8c0655ef67f38fd166270e9d3812d.txt\n",
      "Removed tag \"absurd res\" and \", \" after it from file: C:\\Users\\kade\\Desktop\\training_dir_staging\\1_hoodwink_(dota)\\8bb8c0655ef67f38fd166270e9d3812d.txt\n",
      "Removed tag \"hi res\" and \", \" after it from file: C:\\Users\\kade\\Desktop\\training_dir_staging\\1_hoodwink_(dota)\\8bb8c0655ef67f38fd166270e9d3812d.txt\n",
      "Removed tag \"mammal\" and \", \" after it from file: C:\\Users\\kade\\Desktop\\training_dir_staging\\1_hoodwink_(dota)\\8bb8c0655ef67f38fd166270e9d3812d.txt\n",
      "Removed tag \"hi res\" and \", \" after it from file: C:\\Users\\kade\\Desktop\\training_dir_staging\\1_hoodwink_(dota)\\8c4218cfe50a9fe3be6846e1010735ec.txt\n",
      "Removed tag \"mammal\" and \", \" after it from file: C:\\Users\\kade\\Desktop\\training_dir_staging\\1_hoodwink_(dota)\\8c4218cfe50a9fe3be6846e1010735ec.txt\n",
      "Removed tag \"hi res\" and \", \" after it from file: C:\\Users\\kade\\Desktop\\training_dir_staging\\1_hoodwink_(dota)\\8e223e124f7c168d085be56cfb07ee03.txt\n",
      "Removed tag \"mammal\" and \", \" after it from file: C:\\Users\\kade\\Desktop\\training_dir_staging\\1_hoodwink_(dota)\\8e223e124f7c168d085be56cfb07ee03.txt\n",
      "Removed tag \"2023\" and \", \" after it from file: C:\\Users\\kade\\Desktop\\training_dir_staging\\1_hoodwink_(dota)\\8e223e124f7c168d085be56cfb07ee03.txt\n",
      "Removed tag \"16 9\" and \", \" after it from file: C:\\Users\\kade\\Desktop\\training_dir_staging\\1_hoodwink_(dota)\\8fdd677fc91a60d6040b50da1d403dc6.txt\n",
      "Removed tag \"absurd res\" and \", \" after it from file: C:\\Users\\kade\\Desktop\\training_dir_staging\\1_hoodwink_(dota)\\8fdd677fc91a60d6040b50da1d403dc6.txt\n",
      "Removed tag \"hi res\" and \", \" after it from file: C:\\Users\\kade\\Desktop\\training_dir_staging\\1_hoodwink_(dota)\\8fdd677fc91a60d6040b50da1d403dc6.txt\n",
      "Removed tag \"mammal\" and \", \" after it from file: C:\\Users\\kade\\Desktop\\training_dir_staging\\1_hoodwink_(dota)\\8fdd677fc91a60d6040b50da1d403dc6.txt\n",
      "Removed tag \"widescreen\" and \", \" after it from file: C:\\Users\\kade\\Desktop\\training_dir_staging\\1_hoodwink_(dota)\\8fdd677fc91a60d6040b50da1d403dc6.txt\n",
      "Removed tag \"hi res\" and \", \" after it from file: C:\\Users\\kade\\Desktop\\training_dir_staging\\1_hoodwink_(dota)\\90361e2455a98a9a31f914baf44895cf.txt\n",
      "Removed tag \"mammal\" and \", \" after it from file: C:\\Users\\kade\\Desktop\\training_dir_staging\\1_hoodwink_(dota)\\90361e2455a98a9a31f914baf44895cf.txt\n",
      "Removed tag \"1 1\" and \", \" after it from file: C:\\Users\\kade\\Desktop\\training_dir_staging\\1_hoodwink_(dota)\\91b738a714c066ee273434f6b961d3e3.txt\n",
      "Removed tag \"mammal\" and \", \" after it from file: C:\\Users\\kade\\Desktop\\training_dir_staging\\1_hoodwink_(dota)\\91b738a714c066ee273434f6b961d3e3.txt\n",
      "Removed tag \"hi res\" and \", \" after it from file: C:\\Users\\kade\\Desktop\\training_dir_staging\\1_hoodwink_(dota)\\9232d1f9b2f6953a147b0c387781196b.txt\n",
      "Removed tag \"mammal\" and \", \" after it from file: C:\\Users\\kade\\Desktop\\training_dir_staging\\1_hoodwink_(dota)\\9232d1f9b2f6953a147b0c387781196b.txt\n",
      "Removed tag \"hi res\" and \", \" after it from file: C:\\Users\\kade\\Desktop\\training_dir_staging\\1_hoodwink_(dota)\\929261cffffcc58c95654b2a25b2c1d6.txt\n",
      "Removed tag \"mammal\" and \", \" after it from file: C:\\Users\\kade\\Desktop\\training_dir_staging\\1_hoodwink_(dota)\\929261cffffcc58c95654b2a25b2c1d6.txt\n",
      "Removed tag \"hi res\" and \", \" after it from file: C:\\Users\\kade\\Desktop\\training_dir_staging\\1_hoodwink_(dota)\\9650b1378c5e4908e6ce26b707c05034.txt\n",
      "Removed tag \"mammal\" and \", \" after it from file: C:\\Users\\kade\\Desktop\\training_dir_staging\\1_hoodwink_(dota)\\9650b1378c5e4908e6ce26b707c05034.txt\n",
      "Removed tag \"absurd res\" and \", \" after it from file: C:\\Users\\kade\\Desktop\\training_dir_staging\\1_hoodwink_(dota)\\984ccb4557c17471adbcbc6c60584981.txt\n",
      "Removed tag \"hi res\" and \", \" after it from file: C:\\Users\\kade\\Desktop\\training_dir_staging\\1_hoodwink_(dota)\\984ccb4557c17471adbcbc6c60584981.txt\n",
      "Removed tag \"mammal\" and \", \" after it from file: C:\\Users\\kade\\Desktop\\training_dir_staging\\1_hoodwink_(dota)\\984ccb4557c17471adbcbc6c60584981.txt\n",
      "Removed tag \"1 1\" and \", \" after it from file: C:\\Users\\kade\\Desktop\\training_dir_staging\\1_hoodwink_(dota)\\98ba75ed394712f595f6fffca4a9b2cd.txt\n",
      "Removed tag \"absurd res\" and \", \" after it from file: C:\\Users\\kade\\Desktop\\training_dir_staging\\1_hoodwink_(dota)\\98ba75ed394712f595f6fffca4a9b2cd.txt\n",
      "Removed tag \"hi res\" and \", \" after it from file: C:\\Users\\kade\\Desktop\\training_dir_staging\\1_hoodwink_(dota)\\98ba75ed394712f595f6fffca4a9b2cd.txt\n",
      "Removed tag \"mammal\" and \", \" after it from file: C:\\Users\\kade\\Desktop\\training_dir_staging\\1_hoodwink_(dota)\\98ba75ed394712f595f6fffca4a9b2cd.txt\n",
      "Removed tag \"hi res\" and \", \" after it from file: C:\\Users\\kade\\Desktop\\training_dir_staging\\1_hoodwink_(dota)\\99f979891a98f704b00339560442ef06.txt\n",
      "Removed tag \"mammal\" and \", \" after it from file: C:\\Users\\kade\\Desktop\\training_dir_staging\\1_hoodwink_(dota)\\99f979891a98f704b00339560442ef06.txt\n",
      "Removed tag \"absurd res\" and \", \" after it from file: C:\\Users\\kade\\Desktop\\training_dir_staging\\1_hoodwink_(dota)\\9ac2f792fb341c12398f0c52e32bd374.txt\n",
      "Removed tag \"hi res\" and \", \" after it from file: C:\\Users\\kade\\Desktop\\training_dir_staging\\1_hoodwink_(dota)\\9ac2f792fb341c12398f0c52e32bd374.txt\n",
      "Removed tag \"mammal\" and \", \" after it from file: C:\\Users\\kade\\Desktop\\training_dir_staging\\1_hoodwink_(dota)\\9ac2f792fb341c12398f0c52e32bd374.txt\n",
      "Removed tag \"3 4\" and \", \" after it from file: C:\\Users\\kade\\Desktop\\training_dir_staging\\1_hoodwink_(dota)\\9b6419d7fad3281387e101126e520dae.txt\n",
      "Removed tag \"hi res\" and \", \" after it from file: C:\\Users\\kade\\Desktop\\training_dir_staging\\1_hoodwink_(dota)\\9b6419d7fad3281387e101126e520dae.txt\n",
      "Removed tag \"mammal\" and \", \" after it from file: C:\\Users\\kade\\Desktop\\training_dir_staging\\1_hoodwink_(dota)\\9b6419d7fad3281387e101126e520dae.txt\n",
      "Removed tag \"absurd res\" and \", \" after it from file: C:\\Users\\kade\\Desktop\\training_dir_staging\\1_hoodwink_(dota)\\9c3191d4c1f6605f07e9d54668ef9273.txt\n",
      "Removed tag \"hi res\" and \", \" after it from file: C:\\Users\\kade\\Desktop\\training_dir_staging\\1_hoodwink_(dota)\\9c3191d4c1f6605f07e9d54668ef9273.txt\n",
      "Removed tag \"mammal\" and \", \" after it from file: C:\\Users\\kade\\Desktop\\training_dir_staging\\1_hoodwink_(dota)\\9c3191d4c1f6605f07e9d54668ef9273.txt\n",
      "Removed tag \"1 1\" and \", \" after it from file: C:\\Users\\kade\\Desktop\\training_dir_staging\\1_hoodwink_(dota)\\a05cf5a4006962a9fdf55b097fa49343.txt\n",
      "Removed tag \"hi res\" and \", \" after it from file: C:\\Users\\kade\\Desktop\\training_dir_staging\\1_hoodwink_(dota)\\a05cf5a4006962a9fdf55b097fa49343.txt\n",
      "Removed tag \"mammal\" and \", \" after it from file: C:\\Users\\kade\\Desktop\\training_dir_staging\\1_hoodwink_(dota)\\a05cf5a4006962a9fdf55b097fa49343.txt\n",
      "Removed tag \"4 5\" and \", \" after it from file: C:\\Users\\kade\\Desktop\\training_dir_staging\\1_hoodwink_(dota)\\a08d0c1463f4dc6ac3905bdb6ffb5673.txt\n",
      "Removed tag \"hi res\" and \", \" after it from file: C:\\Users\\kade\\Desktop\\training_dir_staging\\1_hoodwink_(dota)\\a08d0c1463f4dc6ac3905bdb6ffb5673.txt\n",
      "Removed tag \"mammal\" and \", \" after it from file: C:\\Users\\kade\\Desktop\\training_dir_staging\\1_hoodwink_(dota)\\a08d0c1463f4dc6ac3905bdb6ffb5673.txt\n",
      "Removed tag \"1 1\" and \", \" after it from file: C:\\Users\\kade\\Desktop\\training_dir_staging\\1_hoodwink_(dota)\\a1f230cd3f66840acc9002e3300c2edd.txt\n",
      "Removed tag \"mammal\" and \", \" after it from file: C:\\Users\\kade\\Desktop\\training_dir_staging\\1_hoodwink_(dota)\\a1f230cd3f66840acc9002e3300c2edd.txt\n",
      "Removed tag \"mammal\" and \", \" after it from file: C:\\Users\\kade\\Desktop\\training_dir_staging\\1_hoodwink_(dota)\\a2256224c74293714de658f224efbe26.txt\n",
      "Removed tag \"hi res\" and \", \" after it from file: C:\\Users\\kade\\Desktop\\training_dir_staging\\1_hoodwink_(dota)\\a48185d41321e893e0c8864920cc2031.txt\n",
      "Removed tag \"mammal\" and \", \" after it from file: C:\\Users\\kade\\Desktop\\training_dir_staging\\1_hoodwink_(dota)\\a48185d41321e893e0c8864920cc2031.txt\n",
      "Removed tag \"16 9\" and \", \" after it from file: C:\\Users\\kade\\Desktop\\training_dir_staging\\1_hoodwink_(dota)\\a55f494022aaece17a838bd24a6d6c61.txt\n",
      "Removed tag \"hi res\" and \", \" after it from file: C:\\Users\\kade\\Desktop\\training_dir_staging\\1_hoodwink_(dota)\\a55f494022aaece17a838bd24a6d6c61.txt\n",
      "Removed tag \"mammal\" and \", \" after it from file: C:\\Users\\kade\\Desktop\\training_dir_staging\\1_hoodwink_(dota)\\a55f494022aaece17a838bd24a6d6c61.txt\n",
      "Removed tag \"widescreen\" and \", \" after it from file: C:\\Users\\kade\\Desktop\\training_dir_staging\\1_hoodwink_(dota)\\a55f494022aaece17a838bd24a6d6c61.txt\n",
      "Removed tag \"hi res\" and \", \" after it from file: C:\\Users\\kade\\Desktop\\training_dir_staging\\1_hoodwink_(dota)\\a6c9dad6272651c52ce40d34b5766aff.txt\n",
      "Removed tag \"mammal\" and \", \" after it from file: C:\\Users\\kade\\Desktop\\training_dir_staging\\1_hoodwink_(dota)\\a6c9dad6272651c52ce40d34b5766aff.txt\n",
      "Removed tag \"mammal\" and \", \" after it from file: C:\\Users\\kade\\Desktop\\training_dir_staging\\1_hoodwink_(dota)\\a7cf1eaa8dd44dedcc7f8a9751285a0a.txt\n",
      "Removed tag \"1 1\" and \", \" after it from file: C:\\Users\\kade\\Desktop\\training_dir_staging\\1_hoodwink_(dota)\\aae622c79f924159e44e15f1cd5f8166.txt\n",
      "Removed tag \"hi res\" and \", \" after it from file: C:\\Users\\kade\\Desktop\\training_dir_staging\\1_hoodwink_(dota)\\aae622c79f924159e44e15f1cd5f8166.txt\n",
      "Removed tag \"mammal\" and \", \" after it from file: C:\\Users\\kade\\Desktop\\training_dir_staging\\1_hoodwink_(dota)\\aae622c79f924159e44e15f1cd5f8166.txt\n",
      "Removed tag \"hi res\" and \", \" after it from file: C:\\Users\\kade\\Desktop\\training_dir_staging\\1_hoodwink_(dota)\\aaed40a7a07a3c954fd8987c8cd6ba7c.txt\n",
      "Removed tag \"mammal\" and \", \" after it from file: C:\\Users\\kade\\Desktop\\training_dir_staging\\1_hoodwink_(dota)\\aaed40a7a07a3c954fd8987c8cd6ba7c.txt\n",
      "Removed tag \"5 6\" and \", \" after it from file: C:\\Users\\kade\\Desktop\\training_dir_staging\\1_hoodwink_(dota)\\acd0bc4e36f700df30ea49c3ed7886d4.txt\n",
      "Removed tag \"hi res\" and \", \" after it from file: C:\\Users\\kade\\Desktop\\training_dir_staging\\1_hoodwink_(dota)\\acd0bc4e36f700df30ea49c3ed7886d4.txt\n",
      "Removed tag \"mammal\" and \", \" after it from file: C:\\Users\\kade\\Desktop\\training_dir_staging\\1_hoodwink_(dota)\\acd0bc4e36f700df30ea49c3ed7886d4.txt\n",
      "Removed tag \"hi res\" and \", \" after it from file: C:\\Users\\kade\\Desktop\\training_dir_staging\\1_hoodwink_(dota)\\acf08f3d85ed2be25f9b7bf981079039.txt\n",
      "Removed tag \"mammal\" and \", \" after it from file: C:\\Users\\kade\\Desktop\\training_dir_staging\\1_hoodwink_(dota)\\acf08f3d85ed2be25f9b7bf981079039.txt\n",
      "Removed tag \"absurd res\" and \", \" after it from file: C:\\Users\\kade\\Desktop\\training_dir_staging\\1_hoodwink_(dota)\\b1434ea9f4eafe5f2229a4044854a96c.txt\n",
      "Removed tag \"hi res\" and \", \" after it from file: C:\\Users\\kade\\Desktop\\training_dir_staging\\1_hoodwink_(dota)\\b1434ea9f4eafe5f2229a4044854a96c.txt\n",
      "Removed tag \"mammal\" and \", \" after it from file: C:\\Users\\kade\\Desktop\\training_dir_staging\\1_hoodwink_(dota)\\b1434ea9f4eafe5f2229a4044854a96c.txt\n",
      "Removed tag \"absurd res\" and \", \" after it from file: C:\\Users\\kade\\Desktop\\training_dir_staging\\1_hoodwink_(dota)\\b26407e43df60511d6045052167ed813.txt\n",
      "Removed tag \"hi res\" and \", \" after it from file: C:\\Users\\kade\\Desktop\\training_dir_staging\\1_hoodwink_(dota)\\b26407e43df60511d6045052167ed813.txt\n",
      "Removed tag \"mammal\" and \", \" after it from file: C:\\Users\\kade\\Desktop\\training_dir_staging\\1_hoodwink_(dota)\\b26407e43df60511d6045052167ed813.txt\n",
      "Removed tag \"hi res\" and \", \" after it from file: C:\\Users\\kade\\Desktop\\training_dir_staging\\1_hoodwink_(dota)\\b37d075e8f41db60655367dc9c99c025.txt\n",
      "Removed tag \"mammal\" and \", \" after it from file: C:\\Users\\kade\\Desktop\\training_dir_staging\\1_hoodwink_(dota)\\b37d075e8f41db60655367dc9c99c025.txt\n",
      "Removed tag \"hi res\" and \", \" after it from file: C:\\Users\\kade\\Desktop\\training_dir_staging\\1_hoodwink_(dota)\\b3c37bf8ecadb054d31975c1ef1154f6.txt\n",
      "Removed tag \"mammal\" and \", \" after it from file: C:\\Users\\kade\\Desktop\\training_dir_staging\\1_hoodwink_(dota)\\b3c37bf8ecadb054d31975c1ef1154f6.txt\n",
      "Removed tag \"2022\" and \", \" after it from file: C:\\Users\\kade\\Desktop\\training_dir_staging\\1_hoodwink_(dota)\\b3c37bf8ecadb054d31975c1ef1154f6.txt\n",
      "Removed tag \"absurd res\" and \", \" after it from file: C:\\Users\\kade\\Desktop\\training_dir_staging\\1_hoodwink_(dota)\\b4dae9a5d4a51d089d7a63d19b9c8738.txt\n",
      "Removed tag \"hi res\" and \", \" after it from file: C:\\Users\\kade\\Desktop\\training_dir_staging\\1_hoodwink_(dota)\\b4dae9a5d4a51d089d7a63d19b9c8738.txt\n",
      "Removed tag \"mammal\" and \", \" after it from file: C:\\Users\\kade\\Desktop\\training_dir_staging\\1_hoodwink_(dota)\\b4dae9a5d4a51d089d7a63d19b9c8738.txt\n",
      "Removed tag \"mammal\" and \", \" after it from file: C:\\Users\\kade\\Desktop\\training_dir_staging\\1_hoodwink_(dota)\\b66c3ebc28a32a349b2a63efc7369c31.txt\n",
      "Removed tag \"2022\" and \", \" after it from file: C:\\Users\\kade\\Desktop\\training_dir_staging\\1_hoodwink_(dota)\\b66c3ebc28a32a349b2a63efc7369c31.txt\n",
      "Removed tag \"4 5\" and \", \" after it from file: C:\\Users\\kade\\Desktop\\training_dir_staging\\1_hoodwink_(dota)\\b71c69ea3063a945bcf89e1b86fa4fbd.txt\n",
      "Removed tag \"hi res\" and \", \" after it from file: C:\\Users\\kade\\Desktop\\training_dir_staging\\1_hoodwink_(dota)\\b71c69ea3063a945bcf89e1b86fa4fbd.txt\n",
      "Removed tag \"mammal\" and \", \" after it from file: C:\\Users\\kade\\Desktop\\training_dir_staging\\1_hoodwink_(dota)\\b71c69ea3063a945bcf89e1b86fa4fbd.txt\n",
      "Removed tag \"1 1\" and \", \" after it from file: C:\\Users\\kade\\Desktop\\training_dir_staging\\1_hoodwink_(dota)\\b873d02bc24fd400f70ee1545343a6f3.txt\n",
      "Removed tag \"mammal\" and \", \" after it from file: C:\\Users\\kade\\Desktop\\training_dir_staging\\1_hoodwink_(dota)\\b873d02bc24fd400f70ee1545343a6f3.txt\n",
      "Removed tag \"hi res\" and \", \" after it from file: C:\\Users\\kade\\Desktop\\training_dir_staging\\1_hoodwink_(dota)\\b89266f03f43f8a4d08c2ccf36145326.txt\n",
      "Removed tag \"mammal\" and \", \" after it from file: C:\\Users\\kade\\Desktop\\training_dir_staging\\1_hoodwink_(dota)\\b89266f03f43f8a4d08c2ccf36145326.txt\n",
      "Removed tag \"1 1\" and \", \" after it from file: C:\\Users\\kade\\Desktop\\training_dir_staging\\1_hoodwink_(dota)\\b997012e4568d339f0e03923e11ae3aa.txt\n",
      "Removed tag \"hi res\" and \", \" after it from file: C:\\Users\\kade\\Desktop\\training_dir_staging\\1_hoodwink_(dota)\\b997012e4568d339f0e03923e11ae3aa.txt\n",
      "Removed tag \"mammal\" and \", \" after it from file: C:\\Users\\kade\\Desktop\\training_dir_staging\\1_hoodwink_(dota)\\b997012e4568d339f0e03923e11ae3aa.txt\n",
      "Removed tag \"3 4\" and \", \" after it from file: C:\\Users\\kade\\Desktop\\training_dir_staging\\1_hoodwink_(dota)\\b9c8ac3432cd666ecbd1c36bc646b84f.txt\n",
      "Removed tag \"hi res\" and \", \" after it from file: C:\\Users\\kade\\Desktop\\training_dir_staging\\1_hoodwink_(dota)\\b9c8ac3432cd666ecbd1c36bc646b84f.txt\n",
      "Removed tag \"mammal\" and \", \" after it from file: C:\\Users\\kade\\Desktop\\training_dir_staging\\1_hoodwink_(dota)\\b9c8ac3432cd666ecbd1c36bc646b84f.txt\n",
      "Removed tag \"1 1\" and \", \" after it from file: C:\\Users\\kade\\Desktop\\training_dir_staging\\1_hoodwink_(dota)\\baf4ce9f2d710d31503a3735d6b6afe4.txt\n",
      "Removed tag \"mammal\" and \", \" after it from file: C:\\Users\\kade\\Desktop\\training_dir_staging\\1_hoodwink_(dota)\\baf4ce9f2d710d31503a3735d6b6afe4.txt\n",
      "Removed tag \"1 1\" and \", \" after it from file: C:\\Users\\kade\\Desktop\\training_dir_staging\\1_hoodwink_(dota)\\bbf51c1de8b559bc943da7e26193fea7.txt\n",
      "Removed tag \"hi res\" and \", \" after it from file: C:\\Users\\kade\\Desktop\\training_dir_staging\\1_hoodwink_(dota)\\bbf51c1de8b559bc943da7e26193fea7.txt\n",
      "Removed tag \"canid\" and \", \" after it from file: C:\\Users\\kade\\Desktop\\training_dir_staging\\1_hoodwink_(dota)\\bbf51c1de8b559bc943da7e26193fea7.txt\n",
      "Removed tag \"mammal\" and \", \" after it from file: C:\\Users\\kade\\Desktop\\training_dir_staging\\1_hoodwink_(dota)\\bbf51c1de8b559bc943da7e26193fea7.txt\n",
      "Removed tag \"hi res\" and \", \" after it from file: C:\\Users\\kade\\Desktop\\training_dir_staging\\1_hoodwink_(dota)\\bc549a9f280095b025f3a67e6b1cbc8c.txt\n",
      "Removed tag \"mammal\" and \", \" after it from file: C:\\Users\\kade\\Desktop\\training_dir_staging\\1_hoodwink_(dota)\\bc549a9f280095b025f3a67e6b1cbc8c.txt\n",
      "Removed tag \"2021\" and \", \" after it from file: C:\\Users\\kade\\Desktop\\training_dir_staging\\1_hoodwink_(dota)\\bc549a9f280095b025f3a67e6b1cbc8c.txt\n",
      "Removed tag \"1 1\" and \", \" after it from file: C:\\Users\\kade\\Desktop\\training_dir_staging\\1_hoodwink_(dota)\\bec5855ac0c5ba490fc063d55e7b51bb.txt\n",
      "Removed tag \"mammal\" and \", \" after it from file: C:\\Users\\kade\\Desktop\\training_dir_staging\\1_hoodwink_(dota)\\bec5855ac0c5ba490fc063d55e7b51bb.txt\n",
      "Removed tag \"hi res\" and \", \" after it from file: C:\\Users\\kade\\Desktop\\training_dir_staging\\1_hoodwink_(dota)\\bfbb72e3847ec77e537c1da817c32a53.txt\n",
      "Removed tag \"mammal\" and \", \" after it from file: C:\\Users\\kade\\Desktop\\training_dir_staging\\1_hoodwink_(dota)\\bfbb72e3847ec77e537c1da817c32a53.txt\n",
      "Removed tag \"16 9\" and \", \" after it from file: C:\\Users\\kade\\Desktop\\training_dir_staging\\1_hoodwink_(dota)\\bfcff31bf9dc5a2c7f9a119cf98e666c.txt\n",
      "Removed tag \"hi res\" and \", \" after it from file: C:\\Users\\kade\\Desktop\\training_dir_staging\\1_hoodwink_(dota)\\bfcff31bf9dc5a2c7f9a119cf98e666c.txt\n",
      "Removed tag \"mammal\" and \", \" after it from file: C:\\Users\\kade\\Desktop\\training_dir_staging\\1_hoodwink_(dota)\\bfcff31bf9dc5a2c7f9a119cf98e666c.txt\n",
      "Removed tag \"widescreen\" and \", \" after it from file: C:\\Users\\kade\\Desktop\\training_dir_staging\\1_hoodwink_(dota)\\bfcff31bf9dc5a2c7f9a119cf98e666c.txt\n",
      "Removed tag \"hi res\" and \", \" after it from file: C:\\Users\\kade\\Desktop\\training_dir_staging\\1_hoodwink_(dota)\\c04c6bc4ff1524107bb1c0c266af7f06.txt\n",
      "Removed tag \"mammal\" and \", \" after it from file: C:\\Users\\kade\\Desktop\\training_dir_staging\\1_hoodwink_(dota)\\c04c6bc4ff1524107bb1c0c266af7f06.txt\n",
      "Removed tag \"hi res\" and \", \" after it from file: C:\\Users\\kade\\Desktop\\training_dir_staging\\1_hoodwink_(dota)\\c105f82bdf4d58949849fc1c2394f282.txt\n",
      "Removed tag \"mammal\" and \", \" after it from file: C:\\Users\\kade\\Desktop\\training_dir_staging\\1_hoodwink_(dota)\\c105f82bdf4d58949849fc1c2394f282.txt\n",
      "Removed tag \"16 9\" and \", \" after it from file: C:\\Users\\kade\\Desktop\\training_dir_staging\\1_hoodwink_(dota)\\c4ff43a6e337483be72c053dfb403cd6.txt\n",
      "Removed tag \"hi res\" and \", \" after it from file: C:\\Users\\kade\\Desktop\\training_dir_staging\\1_hoodwink_(dota)\\c4ff43a6e337483be72c053dfb403cd6.txt\n",
      "Removed tag \"mammal\" and \", \" after it from file: C:\\Users\\kade\\Desktop\\training_dir_staging\\1_hoodwink_(dota)\\c4ff43a6e337483be72c053dfb403cd6.txt\n",
      "Removed tag \"widescreen\" and \", \" after it from file: C:\\Users\\kade\\Desktop\\training_dir_staging\\1_hoodwink_(dota)\\c4ff43a6e337483be72c053dfb403cd6.txt\n",
      "Removed tag \"3 4\" and \", \" after it from file: C:\\Users\\kade\\Desktop\\training_dir_staging\\1_hoodwink_(dota)\\c725f4eaa8077ee28ae3cd48a2c05c8a.txt\n",
      "Removed tag \"hi res\" and \", \" after it from file: C:\\Users\\kade\\Desktop\\training_dir_staging\\1_hoodwink_(dota)\\c725f4eaa8077ee28ae3cd48a2c05c8a.txt\n",
      "Removed tag \"mammal\" and \", \" after it from file: C:\\Users\\kade\\Desktop\\training_dir_staging\\1_hoodwink_(dota)\\c725f4eaa8077ee28ae3cd48a2c05c8a.txt\n",
      "Removed tag \"16 9\" and \", \" after it from file: C:\\Users\\kade\\Desktop\\training_dir_staging\\1_hoodwink_(dota)\\c7bf7b1b895ab827a744aeec00b82346.txt\n",
      "Removed tag \"hi res\" and \", \" after it from file: C:\\Users\\kade\\Desktop\\training_dir_staging\\1_hoodwink_(dota)\\c7bf7b1b895ab827a744aeec00b82346.txt\n",
      "Removed tag \"mammal\" and \", \" after it from file: C:\\Users\\kade\\Desktop\\training_dir_staging\\1_hoodwink_(dota)\\c7bf7b1b895ab827a744aeec00b82346.txt\n",
      "Removed tag \"widescreen\" and \", \" after it from file: C:\\Users\\kade\\Desktop\\training_dir_staging\\1_hoodwink_(dota)\\c7bf7b1b895ab827a744aeec00b82346.txt\n",
      "Removed tag \"canid\" and \", \" after it from file: C:\\Users\\kade\\Desktop\\training_dir_staging\\1_hoodwink_(dota)\\c8b2b75b7b5e8c417d455e0e7bb5ea27.txt\n",
      "Removed tag \"mammal\" and \", \" after it from file: C:\\Users\\kade\\Desktop\\training_dir_staging\\1_hoodwink_(dota)\\c8b2b75b7b5e8c417d455e0e7bb5ea27.txt\n",
      "Removed tag \"absurd res\" and \", \" after it from file: C:\\Users\\kade\\Desktop\\training_dir_staging\\1_hoodwink_(dota)\\c8e89dfbb1406573bb504ff5736e3b82.txt\n",
      "Removed tag \"hi res\" and \", \" after it from file: C:\\Users\\kade\\Desktop\\training_dir_staging\\1_hoodwink_(dota)\\c8e89dfbb1406573bb504ff5736e3b82.txt\n",
      "Removed tag \"mammal\" and \", \" after it from file: C:\\Users\\kade\\Desktop\\training_dir_staging\\1_hoodwink_(dota)\\c8e89dfbb1406573bb504ff5736e3b82.txt\n",
      "Removed tag \"2 3\" and \", \" after it from file: C:\\Users\\kade\\Desktop\\training_dir_staging\\1_hoodwink_(dota)\\cbda5d29e732fb0b64d5fb98053d99f1.txt\n",
      "Removed tag \"hi res\" and \", \" after it from file: C:\\Users\\kade\\Desktop\\training_dir_staging\\1_hoodwink_(dota)\\cbda5d29e732fb0b64d5fb98053d99f1.txt\n",
      "Removed tag \"mammal\" and \", \" after it from file: C:\\Users\\kade\\Desktop\\training_dir_staging\\1_hoodwink_(dota)\\cbda5d29e732fb0b64d5fb98053d99f1.txt\n",
      "Removed tag \"hi res\" and \", \" after it from file: C:\\Users\\kade\\Desktop\\training_dir_staging\\1_hoodwink_(dota)\\d000b046dc41f4119c742c44d675e5b8.txt\n",
      "Removed tag \"mammal\" and \", \" after it from file: C:\\Users\\kade\\Desktop\\training_dir_staging\\1_hoodwink_(dota)\\d000b046dc41f4119c742c44d675e5b8.txt\n",
      "Removed tag \"hi res\" and \", \" after it from file: C:\\Users\\kade\\Desktop\\training_dir_staging\\1_hoodwink_(dota)\\d1142a67d6408352305956c2e994fe38.txt\n",
      "Removed tag \"mammal\" and \", \" after it from file: C:\\Users\\kade\\Desktop\\training_dir_staging\\1_hoodwink_(dota)\\d1142a67d6408352305956c2e994fe38.txt\n",
      "Removed tag \"2022\" and \", \" after it from file: C:\\Users\\kade\\Desktop\\training_dir_staging\\1_hoodwink_(dota)\\d1142a67d6408352305956c2e994fe38.txt\n",
      "Removed tag \"absurd res\" and \", \" after it from file: C:\\Users\\kade\\Desktop\\training_dir_staging\\1_hoodwink_(dota)\\d12ee21e72344cbf0b2dda06cae3200c.txt\n",
      "Removed tag \"hi res\" and \", \" after it from file: C:\\Users\\kade\\Desktop\\training_dir_staging\\1_hoodwink_(dota)\\d12ee21e72344cbf0b2dda06cae3200c.txt\n",
      "Removed tag \"mammal\" and \", \" after it from file: C:\\Users\\kade\\Desktop\\training_dir_staging\\1_hoodwink_(dota)\\d12ee21e72344cbf0b2dda06cae3200c.txt\n",
      "Removed tag \"1 1\" and \", \" after it from file: C:\\Users\\kade\\Desktop\\training_dir_staging\\1_hoodwink_(dota)\\d23b665e4473bf7361f198803e8c4503.txt\n",
      "Removed tag \"absurd res\" and \", \" after it from file: C:\\Users\\kade\\Desktop\\training_dir_staging\\1_hoodwink_(dota)\\d23b665e4473bf7361f198803e8c4503.txt\n",
      "Removed tag \"hi res\" and \", \" after it from file: C:\\Users\\kade\\Desktop\\training_dir_staging\\1_hoodwink_(dota)\\d23b665e4473bf7361f198803e8c4503.txt\n",
      "Removed tag \"mammal\" and \", \" after it from file: C:\\Users\\kade\\Desktop\\training_dir_staging\\1_hoodwink_(dota)\\d23b665e4473bf7361f198803e8c4503.txt\n",
      "Removed tag \"16 9\" and \", \" after it from file: C:\\Users\\kade\\Desktop\\training_dir_staging\\1_hoodwink_(dota)\\d33dcf0dc7171bb7c8af1eab44e96183.txt\n",
      "Removed tag \"hi res\" and \", \" after it from file: C:\\Users\\kade\\Desktop\\training_dir_staging\\1_hoodwink_(dota)\\d33dcf0dc7171bb7c8af1eab44e96183.txt\n",
      "Removed tag \"mammal\" and \", \" after it from file: C:\\Users\\kade\\Desktop\\training_dir_staging\\1_hoodwink_(dota)\\d33dcf0dc7171bb7c8af1eab44e96183.txt\n",
      "Removed tag \"widescreen\" and \", \" after it from file: C:\\Users\\kade\\Desktop\\training_dir_staging\\1_hoodwink_(dota)\\d33dcf0dc7171bb7c8af1eab44e96183.txt\n",
      "Removed tag \"3 4\" and \", \" after it from file: C:\\Users\\kade\\Desktop\\training_dir_staging\\1_hoodwink_(dota)\\d4da462a2fddfeb8a36939e1cc5705e4.txt\n",
      "Removed tag \"hi res\" and \", \" after it from file: C:\\Users\\kade\\Desktop\\training_dir_staging\\1_hoodwink_(dota)\\d4da462a2fddfeb8a36939e1cc5705e4.txt\n",
      "Removed tag \"mammal\" and \", \" after it from file: C:\\Users\\kade\\Desktop\\training_dir_staging\\1_hoodwink_(dota)\\d4da462a2fddfeb8a36939e1cc5705e4.txt\n",
      "Removed tag \"1 1\" and \", \" after it from file: C:\\Users\\kade\\Desktop\\training_dir_staging\\1_hoodwink_(dota)\\d548c4c5ea84a0208cef95f4b97a2161.txt\n",
      "Removed tag \"mammal\" and \", \" after it from file: C:\\Users\\kade\\Desktop\\training_dir_staging\\1_hoodwink_(dota)\\d548c4c5ea84a0208cef95f4b97a2161.txt\n",
      "Removed tag \"hi res\" and \", \" after it from file: C:\\Users\\kade\\Desktop\\training_dir_staging\\1_hoodwink_(dota)\\d5e78e066fe2135bbe78157e684424b0.txt\n",
      "Removed tag \"mammal\" and \", \" after it from file: C:\\Users\\kade\\Desktop\\training_dir_staging\\1_hoodwink_(dota)\\d5e78e066fe2135bbe78157e684424b0.txt\n",
      "Removed tag \"2022\" and \", \" after it from file: C:\\Users\\kade\\Desktop\\training_dir_staging\\1_hoodwink_(dota)\\d5e78e066fe2135bbe78157e684424b0.txt\n",
      "Removed tag \"absurd res\" and \", \" after it from file: C:\\Users\\kade\\Desktop\\training_dir_staging\\1_hoodwink_(dota)\\d66758606b00fa6d0ec4167e442d37ca.txt\n",
      "Removed tag \"hi res\" and \", \" after it from file: C:\\Users\\kade\\Desktop\\training_dir_staging\\1_hoodwink_(dota)\\d66758606b00fa6d0ec4167e442d37ca.txt\n",
      "Removed tag \"mammal\" and \", \" after it from file: C:\\Users\\kade\\Desktop\\training_dir_staging\\1_hoodwink_(dota)\\d66758606b00fa6d0ec4167e442d37ca.txt\n",
      "Removed tag \"4 5\" and \", \" after it from file: C:\\Users\\kade\\Desktop\\training_dir_staging\\1_hoodwink_(dota)\\d67e613fbc7e0bd6b70b420cfd71fe10.txt\n",
      "Removed tag \"hi res\" and \", \" after it from file: C:\\Users\\kade\\Desktop\\training_dir_staging\\1_hoodwink_(dota)\\d67e613fbc7e0bd6b70b420cfd71fe10.txt\n",
      "Removed tag \"mammal\" and \", \" after it from file: C:\\Users\\kade\\Desktop\\training_dir_staging\\1_hoodwink_(dota)\\d67e613fbc7e0bd6b70b420cfd71fe10.txt\n",
      "Removed tag \"4 3\" and \", \" after it from file: C:\\Users\\kade\\Desktop\\training_dir_staging\\1_hoodwink_(dota)\\dab0820881a7db6e3ff9d4ef62fdbd28.txt\n",
      "Removed tag \"hi res\" and \", \" after it from file: C:\\Users\\kade\\Desktop\\training_dir_staging\\1_hoodwink_(dota)\\dab0820881a7db6e3ff9d4ef62fdbd28.txt\n",
      "Removed tag \"mammal\" and \", \" after it from file: C:\\Users\\kade\\Desktop\\training_dir_staging\\1_hoodwink_(dota)\\dab0820881a7db6e3ff9d4ef62fdbd28.txt\n",
      "Removed tag \"5 6\" and \", \" after it from file: C:\\Users\\kade\\Desktop\\training_dir_staging\\1_hoodwink_(dota)\\dc5d4d24bcd523cfb8df51674f076b44.txt\n",
      "Removed tag \"hi res\" and \", \" after it from file: C:\\Users\\kade\\Desktop\\training_dir_staging\\1_hoodwink_(dota)\\dc5d4d24bcd523cfb8df51674f076b44.txt\n",
      "Removed tag \"mammal\" and \", \" after it from file: C:\\Users\\kade\\Desktop\\training_dir_staging\\1_hoodwink_(dota)\\dc5d4d24bcd523cfb8df51674f076b44.txt\n",
      "Removed tag \"hi res\" and \", \" after it from file: C:\\Users\\kade\\Desktop\\training_dir_staging\\1_hoodwink_(dota)\\e0b0f2b7e068cd2c1a202b237074a2b7.txt\n",
      "Removed tag \"mammal\" and \", \" after it from file: C:\\Users\\kade\\Desktop\\training_dir_staging\\1_hoodwink_(dota)\\e0b0f2b7e068cd2c1a202b237074a2b7.txt\n",
      "Removed tag \"partially\" and \", \" after it from file: C:\\Users\\kade\\Desktop\\training_dir_staging\\1_hoodwink_(dota)\\e14fb50d3836ff7c850c93e90dd03e78.txt\n",
      "Removed tag \"hi res\" and \", \" after it from file: C:\\Users\\kade\\Desktop\\training_dir_staging\\1_hoodwink_(dota)\\e14fb50d3836ff7c850c93e90dd03e78.txt\n",
      "Removed tag \"mammal\" and \", \" after it from file: C:\\Users\\kade\\Desktop\\training_dir_staging\\1_hoodwink_(dota)\\e14fb50d3836ff7c850c93e90dd03e78.txt\n",
      "Removed tag \"hi res\" and \", \" after it from file: C:\\Users\\kade\\Desktop\\training_dir_staging\\1_hoodwink_(dota)\\e1caabd39f46cf768f60fef01656a719.txt\n",
      "Removed tag \"mammal\" and \", \" after it from file: C:\\Users\\kade\\Desktop\\training_dir_staging\\1_hoodwink_(dota)\\e1caabd39f46cf768f60fef01656a719.txt\n",
      "Removed tag \"2021\" and \", \" after it from file: C:\\Users\\kade\\Desktop\\training_dir_staging\\1_hoodwink_(dota)\\e1caabd39f46cf768f60fef01656a719.txt\n",
      "Removed tag \"hi res\" and \", \" after it from file: C:\\Users\\kade\\Desktop\\training_dir_staging\\1_hoodwink_(dota)\\e3d3163d04fe826e4e90ebf300577534.txt\n",
      "Removed tag \"mammal\" and \", \" after it from file: C:\\Users\\kade\\Desktop\\training_dir_staging\\1_hoodwink_(dota)\\e3d3163d04fe826e4e90ebf300577534.txt\n",
      "Removed tag \"hi res\" and \", \" after it from file: C:\\Users\\kade\\Desktop\\training_dir_staging\\1_hoodwink_(dota)\\e3ea9216d5d954e5db3b773d0dcf98a4.txt\n",
      "Removed tag \"mammal\" and \", \" after it from file: C:\\Users\\kade\\Desktop\\training_dir_staging\\1_hoodwink_(dota)\\e3ea9216d5d954e5db3b773d0dcf98a4.txt\n",
      "Removed tag \"hi res\" and \", \" after it from file: C:\\Users\\kade\\Desktop\\training_dir_staging\\1_hoodwink_(dota)\\e7441183c16ddde64b7b14aff25ae2c2.txt\n",
      "Removed tag \"mammal\" and \", \" after it from file: C:\\Users\\kade\\Desktop\\training_dir_staging\\1_hoodwink_(dota)\\e7441183c16ddde64b7b14aff25ae2c2.txt\n",
      "Removed tag \"hi res\" and \", \" after it from file: C:\\Users\\kade\\Desktop\\training_dir_staging\\1_hoodwink_(dota)\\e8bc995eef1f71b50158c522d4cb1bd7.txt\n",
      "Removed tag \"mammal\" and \", \" after it from file: C:\\Users\\kade\\Desktop\\training_dir_staging\\1_hoodwink_(dota)\\e8bc995eef1f71b50158c522d4cb1bd7.txt\n",
      "Removed tag \"1 1\" and \", \" after it from file: C:\\Users\\kade\\Desktop\\training_dir_staging\\1_hoodwink_(dota)\\e9478da54959aefff161b310cd305f70.txt\n",
      "Removed tag \"mammal\" and \", \" after it from file: C:\\Users\\kade\\Desktop\\training_dir_staging\\1_hoodwink_(dota)\\e9478da54959aefff161b310cd305f70.txt\n",
      "Removed tag \"partially\" and \", \" after it from file: C:\\Users\\kade\\Desktop\\training_dir_staging\\1_hoodwink_(dota)\\e968f54ae812de2618cb695050911f60.txt\n",
      "Removed tag \"absurd res\" and \", \" after it from file: C:\\Users\\kade\\Desktop\\training_dir_staging\\1_hoodwink_(dota)\\e968f54ae812de2618cb695050911f60.txt\n",
      "Removed tag \"hi res\" and \", \" after it from file: C:\\Users\\kade\\Desktop\\training_dir_staging\\1_hoodwink_(dota)\\e968f54ae812de2618cb695050911f60.txt\n",
      "Removed tag \"mammal\" and \", \" after it from file: C:\\Users\\kade\\Desktop\\training_dir_staging\\1_hoodwink_(dota)\\e968f54ae812de2618cb695050911f60.txt\n",
      "Removed tag \"1 1\" and \", \" after it from file: C:\\Users\\kade\\Desktop\\training_dir_staging\\1_hoodwink_(dota)\\ea0cc90fb1d3ed6fa87eb89f6bfd5ff3.txt\n",
      "Removed tag \"mammal\" and \", \" after it from file: C:\\Users\\kade\\Desktop\\training_dir_staging\\1_hoodwink_(dota)\\ea0cc90fb1d3ed6fa87eb89f6bfd5ff3.txt\n",
      "Removed tag \"3 4\" and \", \" after it from file: C:\\Users\\kade\\Desktop\\training_dir_staging\\1_hoodwink_(dota)\\eba461d33b3daec41d78e22ef6fdfe96.txt\n",
      "Removed tag \"hi res\" and \", \" after it from file: C:\\Users\\kade\\Desktop\\training_dir_staging\\1_hoodwink_(dota)\\eba461d33b3daec41d78e22ef6fdfe96.txt\n",
      "Removed tag \"mammal\" and \", \" after it from file: C:\\Users\\kade\\Desktop\\training_dir_staging\\1_hoodwink_(dota)\\eba461d33b3daec41d78e22ef6fdfe96.txt\n",
      "Removed tag \"16 9\" and \", \" after it from file: C:\\Users\\kade\\Desktop\\training_dir_staging\\1_hoodwink_(dota)\\edc24e20b8239897d52d92fa1c1f23b8.txt\n",
      "Removed tag \"hi res\" and \", \" after it from file: C:\\Users\\kade\\Desktop\\training_dir_staging\\1_hoodwink_(dota)\\edc24e20b8239897d52d92fa1c1f23b8.txt\n",
      "Removed tag \"mammal\" and \", \" after it from file: C:\\Users\\kade\\Desktop\\training_dir_staging\\1_hoodwink_(dota)\\edc24e20b8239897d52d92fa1c1f23b8.txt\n",
      "Removed tag \"widescreen\" and \", \" after it from file: C:\\Users\\kade\\Desktop\\training_dir_staging\\1_hoodwink_(dota)\\edc24e20b8239897d52d92fa1c1f23b8.txt\n",
      "Removed tag \"absurd res\" and \", \" after it from file: C:\\Users\\kade\\Desktop\\training_dir_staging\\1_hoodwink_(dota)\\edd03f53770a39c8cdad22f08874aafe.txt\n",
      "Removed tag \"hi res\" and \", \" after it from file: C:\\Users\\kade\\Desktop\\training_dir_staging\\1_hoodwink_(dota)\\edd03f53770a39c8cdad22f08874aafe.txt\n",
      "Removed tag \"mammal\" and \", \" after it from file: C:\\Users\\kade\\Desktop\\training_dir_staging\\1_hoodwink_(dota)\\edd03f53770a39c8cdad22f08874aafe.txt\n",
      "Removed tag \"absurd res\" and \", \" after it from file: C:\\Users\\kade\\Desktop\\training_dir_staging\\1_hoodwink_(dota)\\ef63d01c16f0ff567e0354f8bb3fdb6e.txt\n",
      "Removed tag \"hi res\" and \", \" after it from file: C:\\Users\\kade\\Desktop\\training_dir_staging\\1_hoodwink_(dota)\\ef63d01c16f0ff567e0354f8bb3fdb6e.txt\n",
      "Removed tag \"mammal\" and \", \" after it from file: C:\\Users\\kade\\Desktop\\training_dir_staging\\1_hoodwink_(dota)\\ef63d01c16f0ff567e0354f8bb3fdb6e.txt\n",
      "Removed tag \"hi res\" and \", \" after it from file: C:\\Users\\kade\\Desktop\\training_dir_staging\\1_hoodwink_(dota)\\f316441aabf4cec76d1b8fbce474165f.txt\n",
      "Removed tag \"mammal\" and \", \" after it from file: C:\\Users\\kade\\Desktop\\training_dir_staging\\1_hoodwink_(dota)\\f316441aabf4cec76d1b8fbce474165f.txt\n",
      "Removed tag \"hi res\" and \", \" after it from file: C:\\Users\\kade\\Desktop\\training_dir_staging\\1_hoodwink_(dota)\\f3a36ab258473f898df476578853485f.txt\n",
      "Removed tag \"mammal\" and \", \" after it from file: C:\\Users\\kade\\Desktop\\training_dir_staging\\1_hoodwink_(dota)\\f3a36ab258473f898df476578853485f.txt\n",
      "Removed tag \"2024\" and \", \" after it from file: C:\\Users\\kade\\Desktop\\training_dir_staging\\1_hoodwink_(dota)\\f3a36ab258473f898df476578853485f.txt\n",
      "Removed tag \"16 9\" and \", \" after it from file: C:\\Users\\kade\\Desktop\\training_dir_staging\\1_hoodwink_(dota)\\f3cf09f62d31c953b15e4fda722143e1.txt\n",
      "Removed tag \"hi res\" and \", \" after it from file: C:\\Users\\kade\\Desktop\\training_dir_staging\\1_hoodwink_(dota)\\f3cf09f62d31c953b15e4fda722143e1.txt\n",
      "Removed tag \"mammal\" and \", \" after it from file: C:\\Users\\kade\\Desktop\\training_dir_staging\\1_hoodwink_(dota)\\f3cf09f62d31c953b15e4fda722143e1.txt\n",
      "Removed tag \"widescreen\" and \", \" after it from file: C:\\Users\\kade\\Desktop\\training_dir_staging\\1_hoodwink_(dota)\\f3cf09f62d31c953b15e4fda722143e1.txt\n",
      "Removed tag \"mammal\" and \", \" after it from file: C:\\Users\\kade\\Desktop\\training_dir_staging\\1_hoodwink_(dota)\\f3dd2af7545b958d139d274bf0c54de8.txt\n",
      "Removed tag \"2021\" and \", \" after it from file: C:\\Users\\kade\\Desktop\\training_dir_staging\\1_hoodwink_(dota)\\f3dd2af7545b958d139d274bf0c54de8.txt\n",
      "Removed tag \"hi res\" and \", \" after it from file: C:\\Users\\kade\\Desktop\\training_dir_staging\\1_hoodwink_(dota)\\f706dab1ea29bfcd39ab1a7c491914c6.txt\n",
      "Removed tag \"mammal\" and \", \" after it from file: C:\\Users\\kade\\Desktop\\training_dir_staging\\1_hoodwink_(dota)\\f706dab1ea29bfcd39ab1a7c491914c6.txt\n",
      "Removed tag \"1 1\" and \", \" after it from file: C:\\Users\\kade\\Desktop\\training_dir_staging\\1_hoodwink_(dota)\\f8b7dcd07fd70110ad62dab582ac9d94.txt\n",
      "Removed tag \"mammal\" and \", \" after it from file: C:\\Users\\kade\\Desktop\\training_dir_staging\\1_hoodwink_(dota)\\f8b7dcd07fd70110ad62dab582ac9d94.txt\n",
      "Removed tag \"1 1\" and \", \" after it from file: C:\\Users\\kade\\Desktop\\training_dir_staging\\1_hoodwink_(dota)\\f981093ba3c2a7e83c915356c64630d6.txt\n",
      "Removed tag \"mammal\" and \", \" after it from file: C:\\Users\\kade\\Desktop\\training_dir_staging\\1_hoodwink_(dota)\\f981093ba3c2a7e83c915356c64630d6.txt\n",
      "Removed tag \"mammal\" and \", \" after it from file: C:\\Users\\kade\\Desktop\\training_dir_staging\\1_hoodwink_(dota)\\f9977c4be7ac3dbe664a085cc2398040.txt\n",
      "Removed tag \"2 3\" and \", \" after it from file: C:\\Users\\kade\\Desktop\\training_dir_staging\\1_hoodwink_(dota)\\faed1cdd7c25c2cacb77075d9e500b12.txt\n",
      "Removed tag \"hi res\" and \", \" after it from file: C:\\Users\\kade\\Desktop\\training_dir_staging\\1_hoodwink_(dota)\\faed1cdd7c25c2cacb77075d9e500b12.txt\n",
      "Removed tag \"mammal\" and \", \" after it from file: C:\\Users\\kade\\Desktop\\training_dir_staging\\1_hoodwink_(dota)\\faed1cdd7c25c2cacb77075d9e500b12.txt\n",
      "Removed tag \"16 9\" and \", \" after it from file: C:\\Users\\kade\\Desktop\\training_dir_staging\\1_hoodwink_(dota)\\fb95f500f414f5811dc6f71702c8a89c.txt\n",
      "Removed tag \"hi res\" and \", \" after it from file: C:\\Users\\kade\\Desktop\\training_dir_staging\\1_hoodwink_(dota)\\fb95f500f414f5811dc6f71702c8a89c.txt\n",
      "Removed tag \"mammal\" and \", \" after it from file: C:\\Users\\kade\\Desktop\\training_dir_staging\\1_hoodwink_(dota)\\fb95f500f414f5811dc6f71702c8a89c.txt\n",
      "Removed tag \"widescreen\" and \", \" after it from file: C:\\Users\\kade\\Desktop\\training_dir_staging\\1_hoodwink_(dota)\\fb95f500f414f5811dc6f71702c8a89c.txt\n"
     ]
    }
   ],
   "source": [
    "import os\n",
    "\n",
    "def remove_tags(file_path):\n",
    "    with open(file_path, 'r', encoding='utf-8') as file:\n",
    "        content = file.read()\n",
    "\n",
    "    tags_to_remove = [\n",
    "        \"pal (species)\",\n",
    "        \"pocketpair\",\n",
    "        \"unavailable at source\",\n",
    "        \"partially\",\n",
    "        \"pokemon \\(species\\)\",\n",
    "        \"generation\",\n",
    "        \"pokephilia\",\n",
    "        \"pokemon\",\n",
    "        \"nintendo\",\n",
    "        \"eeveelution\",\n",
    "        \"uncensored\",\n",
    "        \"translated\",\n",
    "        \"partially translated\",\n",
    "        \"translation request\",\n",
    "        \"16 10\",\n",
    "        \"16 9\",\n",
    "        \"10 16\",\n",
    "        \"9 16\",\n",
    "        \"6 5\",\n",
    "        \"5 6\",\n",
    "        \"5 4\",\n",
    "        \"4 3\",\n",
    "        \"4 5\",\n",
    "        \"3 4\",\n",
    "        \"3 2\",\n",
    "        \"2 3\",\n",
    "        \"2 1\",\n",
    "        \"1 2\",\n",
    "        \"1 1\",\n",
    "        \"4k\",\n",
    "        \"absurd res\",\n",
    "        \"hi res\",\n",
    "        \"elden ring\",\n",
    "        \"fromsoftware\",\n",
    "        \"canid\",\n",
    "        \"canis\",\n",
    "        \"mammal\",\n",
    "        \"unwanted erection\",\n",
    "        \"lighting\",\n",
    "        \"shaded\",\n",
    "        \"widescreen\"\n",
    "    ]\n",
    "\n",
    "    for gen in range(1, 9):\n",
    "        tags_to_remove.append(f\"generation {gen} pokemon\")\n",
    "\n",
    "    for year in range(1996, 2025):\n",
    "        tags_to_remove.append(str(year))\n",
    "\n",
    "    removal_actions = []\n",
    "\n",
    "    for tag in tags_to_remove:\n",
    "        if tag in content:\n",
    "            content = content.replace(tag, '')\n",
    "\n",
    "            tag_comma = f\"{tag}, \"\n",
    "            content = content.replace(tag_comma, '')\n",
    "\n",
    "            removal_actions.append(f'Removed tag \"{tag}\" and \", \" after it from file: {file_path}')\n",
    "\n",
    "    with open(file_path, 'w', encoding='utf-8') as file:\n",
    "        file.write(content)\n",
    "\n",
    "    return removal_actions\n",
    "\n",
    "def process_directory(directory):\n",
    "    all_removal_actions = []\n",
    "\n",
    "    for root, dirs, files in os.walk(directory):\n",
    "        for file in files:\n",
    "            if file.endswith(\".txt\"):\n",
    "                file_path = os.path.join(root, file)\n",
    "                removal_actions = remove_tags(file_path)\n",
    "                all_removal_actions.extend(removal_actions)\n",
    "\n",
    "    for action in all_removal_actions:\n",
    "        print(action)\n",
    "\n",
    "# Provide the path to the directory\n",
    "directory_path = r'C:\\Users\\kade\\Desktop\\training_dir_staging'\n",
    "\n",
    "# Recursively remove tags and \", \" after tags from *.txt files in the specified directory and print removal actions\n",
    "process_directory(directory_path)\n"
   ]
  },
  {
   "cell_type": "markdown",
   "metadata": {},
   "source": [
    "### Replace `, ,` with `,` after that mess. 😼\n",
    "----"
   ]
  },
  {
   "cell_type": "code",
   "execution_count": 10,
   "metadata": {},
   "outputs": [],
   "source": [
    "import os\n",
    "\n",
    "# Start directory\n",
    "start_dir = r'C:\\Users\\kade\\Desktop\\training_dir_staging'\n",
    "\n",
    "# Function to replace text in *.txt files\n",
    "def replace_text_in_files(directory):\n",
    "    while True:  # Run indefinitely until no more matches are found\n",
    "        found_match = False  # Flag to track if any match is found\n",
    "        for root, dirs, files in os.walk(directory):\n",
    "            for file in files:\n",
    "                if file.endswith(\".txt\"):\n",
    "                    file_path = os.path.join(root, file)\n",
    "                    with open(file_path, 'r', encoding='utf-8') as f:\n",
    "                        content = f.read()\n",
    "                    # Replace ', ,' with ','\n",
    "                    updated_content = content.replace(', ,', ',').replace(',  ,', ',')\n",
    "                    if updated_content != content:\n",
    "                        found_match = True  # Set the flag to True if any match is found\n",
    "                        with open(file_path, 'w', encoding='utf-8') as f:\n",
    "                            f.write(updated_content)\n",
    "        if not found_match:  # If no match is found, break the loop\n",
    "            break\n",
    "\n",
    "# Run the function\n",
    "replace_text_in_files(start_dir)"
   ]
  },
  {
   "cell_type": "code",
   "execution_count": null,
   "metadata": {},
   "outputs": [],
   "source": [
    "import os\n",
    "\n",
    "# Start directory\n",
    "start_dir = r'C:\\Users\\kade\\Desktop\\training_dir_staging'\n",
    "\n",
    "# Function to replace text in *.txt files\n",
    "def replace_text_in_files(directory):\n",
    "    for root, dirs, files in os.walk(directory):\n",
    "        for file in files:\n",
    "            if file.endswith(\".txt\"):\n",
    "                file_path = os.path.join(root, file)\n",
    "                with open(file_path, 'r', encoding='utf-8') as f:\n",
    "                    content = f.read()\n",
    "                # Replace ', ,' with ','\n",
    "                content = content.replace(', ,', ',')\n",
    "                content = content.replace(',  ,', ',')\n",
    "                with open(file_path, 'w', encoding='utf-8') as f:\n",
    "                    f.write(content)\n",
    "\n",
    "# Run the function\n",
    "replace_text_in_files(start_dir)"
   ]
  }
 ],
 "metadata": {
  "kernelspec": {
   "display_name": "base",
   "language": "python",
   "name": "python3"
  },
  "language_info": {
   "codemirror_mode": {
    "name": "ipython",
    "version": 3
   },
   "file_extension": ".py",
   "mimetype": "text/x-python",
   "name": "python",
   "nbconvert_exporter": "python",
   "pygments_lexer": "ipython3",
   "version": "3.12.2"
  }
 },
 "nbformat": 4,
 "nbformat_minor": 2
}
