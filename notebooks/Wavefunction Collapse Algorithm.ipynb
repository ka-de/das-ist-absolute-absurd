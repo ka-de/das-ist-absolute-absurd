{
 "cells": [
  {
   "cell_type": "markdown",
   "metadata": {},
   "source": [
    "# The Wavefunction Collapse Algorithm\n",
    "----\n",
    "\n",
    "The Wavefunction Collapse Algorithm (WFC) is a procedural generation algorithm that generates images by collapsing a wavefunction. It's inspired by the process of quantum measurement, where a quantum system transitions from a superposition of states to a single state.\n",
    "\n",
    "Here's a high-level overview of the algorithm:\n",
    "\n",
    "1. **Initialization**: Start with a grid of cells, each in a superposition of all possible states (e.g., different types of tiles in a tileset).\n",
    "\n",
    "2. **Observation**: Choose a cell using some heuristic (e.g., the cell with the smallest entropy), and collapse it into a single state, chosen randomly according to the weights of its superposition.\n",
    "\n",
    "3. **Propagation**: Update the superpositions of all neighboring cells to remove states that are no longer compatible with the collapsed cell. This is typically done using a predefined set of constraints (e.g., certain tiles can only be placed next to certain other tiles).\n",
    "\n",
    "4. **Repeat**: Continue with the observation and propagation steps until all cells have been collapsed.\n",
    "\n",
    "The algorithm can be represented mathematically as follows:\n",
    "\n",
    "Let $S = \\{s_1, s_2, ..., s_n\\}$ be the set of all possible states. Each cell $c$ in the grid has a superposition $P_c = \\{p_{c1}, p_{c2}, ..., p_{cn}\\}$, where $p_{ci}$ is the weight of state $s_i$ at cell $c$.\n",
    "\n",
    "The observation step can be represented as:\n",
    "\n",
    "$s_c = \\text{random}(S, P_c)$\n",
    "\n",
    "where $\\text{random}(S, P_c)$ is a function that chooses a state from $S$ randomly according to the weights $P_c$, and $s_c$ is the observed state of cell $c$.\n",
    "\n",
    "The propagation step can be represented as:\n",
    "\n",
    "$P_{c'} = P_{c'} \\cap \\text{compatible}(s_c)$\n",
    "\n",
    "for all neighboring cells $c'$ of $c$, where $\\text{compatible}(s_c)$ is a function that returns the set of states compatible with $s_c$.\n",
    "\n",
    "This process continues until all cells have been observed, resulting in a fully generated image. The algorithm can generate a wide variety of images depending on the initial set of states and compatibility rules. It's a powerful tool for procedural generation in game development and other fields."
   ]
  },
  {
   "cell_type": "code",
   "execution_count": 1,
   "metadata": {},
   "outputs": [
    {
     "data": {
      "image/png": "[encoded data removed]",
      "text/plain": [
       "<Figure size 480x480 with 1 Axes>"
      ]
     },
     "metadata": {},
     "output_type": "display_data"
    }
   ],
   "source": [
    "import numpy as np\n",
    "import matplotlib.pyplot as plt\n",
    "from matplotlib.colors import ListedColormap\n",
    "\n",
    "# Parameters\n",
    "grid_size = 10\n",
    "pattern_size = 3\n",
    "\n",
    "# Generate random binary pattern\n",
    "pattern = np.random.choice([0, 1], size=(pattern_size, pattern_size))\n",
    "\n",
    "# Initialize grid with superposition\n",
    "grid = np.ones((grid_size, grid_size)) * -1\n",
    "\n",
    "# Collapse function\n",
    "def collapse(grid, x, y, pattern):\n",
    "    size = pattern.shape[0]\n",
    "    grid[x:x+size, y:y+size] = pattern\n",
    "\n",
    "# Main simulation loop\n",
    "for i in range(grid_size - pattern_size + 1):\n",
    "    for j in range(grid_size - pattern_size + 1):\n",
    "        # Check if the pattern fits\n",
    "        if np.all(grid[i:i+pattern_size, j:j+pattern_size] == -1):\n",
    "            collapse(grid, i, j, pattern)\n",
    "\n",
    "# Plotting\n",
    "cmap = ListedColormap(['white', 'black'])\n",
    "plt.matshow(grid, cmap=cmap)\n",
    "plt.title('Wavefunction Collapse Algorithm')\n",
    "plt.show()\n"
   ]
  }
 ],
 "metadata": {
  "kernelspec": {
   "display_name": "base",
   "language": "python",
   "name": "python3"
  },
  "language_info": {
   "codemirror_mode": {
    "name": "ipython",
    "version": 3
   },
   "file_extension": ".py",
   "mimetype": "text/x-python",
   "name": "python",
   "nbconvert_exporter": "python",
   "pygments_lexer": "ipython3",
   "version": "3.11.5"
  }
 },
 "nbformat": 4,
 "nbformat_minor": 2
}
