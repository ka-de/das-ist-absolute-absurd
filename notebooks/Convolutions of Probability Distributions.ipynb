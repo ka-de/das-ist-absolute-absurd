{
 "cells": [
  {
   "cell_type": "markdown",
   "metadata": {},
   "source": [
    "# Convolution of Probability Distributions\n",
    "\n",
    "The convolution of two probability distributions represents the distribution of the sum of two independent random variables. If we have two independent random variables, X and Y, with probability density functions (PDFs) $f(x)$ and $g(y)$ respectively, the pdf of the sum Z = X + Y is given by the convolution of $f$ and $g$, denoted as $(f*g)(z)$.\n",
    "\n",
    "The convolution is defined as:\n",
    "\n",
    "$$(f*g)(z) = \\int_{-\\infty}^{\\infty} f(x)g(z-x) dx$$\n",
    "\n",
    "In the discrete case, the convolution of two probability mass functions is given by:\n",
    "\n",
    "$$(f*g)(z) = \\sum_{k=-\\infty}^{\\infty} f(k)g(z-k)$$\n",
    "\n",
    "In both cases, the convolution operation involves \"flipping and shifting\" one function and then \"integrating or summing\" the product of the two functions. This gives the probability that the sum of the two random variables equals a particular value."
   ]
  },
  {
   "cell_type": "code",
   "execution_count": 1,
   "metadata": {},
   "outputs": [
    {
     "data": {
      "application/vnd.jupyter.widget-view+json": {
       "model_id": "c158d9abd6bf4f5eb7327e14a58f957e",
       "version_major": 2,
       "version_minor": 0
      },
      "text/plain": [
       "interactive(children=(FloatSlider(value=0.0, description='mu1', max=3.0, min=-3.0), FloatSlider(value=1.0, des…"
      ]
     },
     "metadata": {},
     "output_type": "display_data"
    },
    {
     "data": {
      "text/plain": [
       "<function __main__.plot_convolution(mu1=0, sigma1=1, mu2=0, sigma2=1)>"
      ]
     },
     "execution_count": 1,
     "metadata": {},
     "output_type": "execute_result"
    }
   ],
   "source": [
    "import numpy as np\n",
    "import matplotlib.pyplot as plt\n",
    "from scipy.stats import norm\n",
    "from ipywidgets import interact, FloatSlider\n",
    "\n",
    "# Define the function to plot the convolution\n",
    "def plot_convolution(mu1=0, sigma1=1, mu2=0, sigma2=1):\n",
    "    # Define the range of x values\n",
    "    x = np.linspace(-10, 10, 1000)\n",
    "\n",
    "    # Calculate the pdfs for the two distributions\n",
    "    pdf1 = norm.pdf(x, mu1, sigma1)\n",
    "    pdf2 = norm.pdf(x, mu2, sigma2)\n",
    "\n",
    "    # Calculate the convolution of the two distributions\n",
    "    conv = np.convolve(pdf1, pdf2, mode='same') / sum(pdf1)\n",
    "\n",
    "    # Plot the two pdfs and their convolution\n",
    "    plt.figure(figsize=(12, 6))\n",
    "    plt.plot(x, pdf1, label=f'N({mu1},{sigma1**2})')\n",
    "    plt.plot(x, pdf2, label=f'N({mu2},{sigma2**2})')\n",
    "    plt.plot(x, conv, label='Convolution')\n",
    "    plt.legend()\n",
    "    plt.grid(True)\n",
    "    plt.show()\n",
    "\n",
    "# Use ipywidgets to create sliders for the parameters\n",
    "interact(plot_convolution,\n",
    "         mu1=FloatSlider(min=-3, max=3, step=0.1, value=0),\n",
    "         sigma1=FloatSlider(min=0.1, max=3, step=0.1, value=1),\n",
    "         mu2=FloatSlider(min=-3, max=3, step=0.1, value=0),\n",
    "         sigma2=FloatSlider(min=0.1, max=3, step=0.1, value=1))\n"
   ]
  }
 ],
 "metadata": {
  "kernelspec": {
   "display_name": "base",
   "language": "python",
   "name": "python3"
  },
  "language_info": {
   "codemirror_mode": {
    "name": "ipython",
    "version": 3
   },
   "file_extension": ".py",
   "mimetype": "text/x-python",
   "name": "python",
   "nbconvert_exporter": "python",
   "pygments_lexer": "ipython3",
   "version": "3.11.5"
  }
 },
 "nbformat": 4,
 "nbformat_minor": 2
}
