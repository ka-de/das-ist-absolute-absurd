{
 "cells": [
  {
   "cell_type": "markdown",
   "metadata": {},
   "source": [
    "## Kill Transparency with Black\n",
    "----\n",
    "\n",
    "This Python script utilizes the PIL (Python Imaging Library) to recursively traverse a specified directory, identifying image files with extensions `.jpg`, `.jpeg`, or `.png`, and adds a black layer behind the main layer of each image, effectively removing any existing transparency, before overwriting the original files with the modified versions."
   ]
  },
  {
   "cell_type": "code",
   "execution_count": null,
   "metadata": {},
   "outputs": [],
   "source": [
    "import os\n",
    "from PIL import Image\n",
    "\n",
    "def add_black_layer(image_path):\n",
    "    try:\n",
    "        with Image.open(image_path) as img:\n",
    "            black_layer = Image.new('RGB', img.size, (0, 0, 0))\n",
    "            black_layer.paste(img, (0, 0), img)\n",
    "            black_layer.save(image_path)\n",
    "            print(f\"Black layer added to and overwritten {image_path}\")\n",
    "    except Exception as e:\n",
    "        print(f\"Error processing {image_path}: {e}\")\n",
    "\n",
    "def process_directory(directory):\n",
    "    for root, dirs, files in os.walk(directory):\n",
    "        for file in files:\n",
    "            if file.lower().endswith(('.jpg', '.jpeg', '.png')):\n",
    "                file_path = os.path.join(root, file)\n",
    "                add_black_layer(file_path)\n",
    "\n",
    "if __name__ == \"__main__\":\n",
    "    directory = r'C:\\Users\\kade\\Desktop\\training_dir_staging'\n",
    "    process_directory(directory)"
   ]
  }
 ],
 "metadata": {
  "kernelspec": {
   "display_name": "base",
   "language": "python",
   "name": "python3"
  },
  "language_info": {
   "codemirror_mode": {
    "name": "ipython",
    "version": 3
   },
   "file_extension": ".py",
   "mimetype": "text/x-python",
   "name": "python",
   "nbconvert_exporter": "python",
   "pygments_lexer": "ipython3",
   "version": "3.12.2"
  }
 },
 "nbformat": 4,
 "nbformat_minor": 2
}
