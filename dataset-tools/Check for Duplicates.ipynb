{
 "cells": [
  {
   "cell_type": "markdown",
   "metadata": {},
   "source": [
    "## Check for Duplicate Words Between Captions and Tags\n",
    "----\n",
    "\n",
    "This script traverses through a directory, searches for text files, processes each file to extract tags and captions, and highlights occurrences of tags within captions using random colors, displaying the results in a visually rich format in the terminal. This script assumes that you separate your tags with `,` and your captions with `.,`."
   ]
  },
  {
   "cell_type": "code",
   "execution_count": 13,
   "metadata": {},
   "outputs": [
    {
     "data": {
      "text/html": [
       "<pre style=\"white-space:pre;overflow-x:auto;line-height:normal;font-family:Menlo,'DejaVu Sans Mono',consolas,'Courier New',monospace\">\n",
       "\n",
       "<span style=\"font-weight: bold\">C:\\Users\\kade\\Desktop\\training_dir_staging\\1_furry_sticker\\0d81f956ae974d505e254b280b43c947.txt</span>\n",
       "\n",
       "</pre>\n"
      ],
      "text/plain": [
       "\n",
       "\n",
       "\u001b[1mC:\\Users\\kade\\Desktop\\training_dir_staging\\1_furry_sticker\\0d81f956ae974d505e254b280b43c947.txt\u001b[0m\n",
       "\n"
      ]
     },
     "metadata": {},
     "output_type": "display_data"
    },
    {
     "data": {
      "text/html": [
       "<pre style=\"white-space:pre;overflow-x:auto;line-height:normal;font-family:Menlo,'DejaVu Sans Mono',consolas,'Courier New',monospace\">Tag <span style=\"color: #008000; text-decoration-color: #008000\">\"</span><span style=\"color: #1d72fc; text-decoration-color: #1d72fc; font-weight: bold\">furry sticker</span><span style=\"color: #008000; text-decoration-color: #008000\">\"</span> found in caption <span style=\"color: #008000; text-decoration-color: #008000\">\"This </span><span style=\"color: #1d72fc; text-decoration-color: #1d72fc; font-weight: bold\">furry sticker</span><span style=\"color: #008000; text-decoration-color: #008000\"> depicts a cartoonish anthro rabbit.\"</span>\n",
       "</pre>\n"
      ],
      "text/plain": [
       "Tag \u001b[32m\"\u001b[0m\u001b[1;38;2;29;114;252mfurry sticker\u001b[0m\u001b[32m\"\u001b[0m found in caption \u001b[32m\"This \u001b[0m\u001b[1;38;2;29;114;252mfurry sticker\u001b[0m\u001b[32m depicts a cartoonish anthro rabbit.\"\u001b[0m\n"
      ]
     },
     "metadata": {},
     "output_type": "display_data"
    },
    {
     "data": {
      "text/html": [
       "<pre style=\"white-space:pre;overflow-x:auto;line-height:normal;font-family:Menlo,'DejaVu Sans Mono',consolas,'Courier New',monospace\">Tag <span style=\"color: #008000; text-decoration-color: #008000\">\"</span><span style=\"color: #af5572; text-decoration-color: #af5572; font-weight: bold\">glasses</span><span style=\"color: #008000; text-decoration-color: #008000\">\"</span> found in caption <span style=\"color: #008000; text-decoration-color: #008000\">\"It is wearing </span><span style=\"color: #af5572; text-decoration-color: #af5572; font-weight: bold\">glasses</span><span style=\"color: #008000; text-decoration-color: #008000\"> and its fur color is a shade of brown with a lighter beige </span>\n",
       "<span style=\"color: #008000; text-decoration-color: #008000\">color on the bottom of its tail and front of its ears.\"</span>\n",
       "</pre>\n"
      ],
      "text/plain": [
       "Tag \u001b[32m\"\u001b[0m\u001b[1;38;2;175;85;114mglasses\u001b[0m\u001b[32m\"\u001b[0m found in caption \u001b[32m\"It is wearing \u001b[0m\u001b[1;38;2;175;85;114mglasses\u001b[0m\u001b[32m and its fur color is a shade of brown with a lighter beige \u001b[0m\n",
       "\u001b[32mcolor on the bottom of its tail and front of its ears.\"\u001b[0m\n"
      ]
     },
     "metadata": {},
     "output_type": "display_data"
    },
    {
     "data": {
      "text/html": [
       "<pre style=\"white-space:pre;overflow-x:auto;line-height:normal;font-family:Menlo,'DejaVu Sans Mono',consolas,'Courier New',monospace\">Tag <span style=\"color: #008000; text-decoration-color: #008000\">\"</span><span style=\"color: #951f27; text-decoration-color: #951f27; font-weight: bold\">anthro</span><span style=\"color: #008000; text-decoration-color: #008000\">\"</span> found in caption <span style=\"color: #008000; text-decoration-color: #008000\">\"This furry sticker depicts a cartoonish </span><span style=\"color: #951f27; text-decoration-color: #951f27; font-weight: bold\">anthro</span><span style=\"color: #008000; text-decoration-color: #008000\"> rabbit.\"</span>\n",
       "</pre>\n"
      ],
      "text/plain": [
       "Tag \u001b[32m\"\u001b[0m\u001b[1;38;2;149;31;39manthro\u001b[0m\u001b[32m\"\u001b[0m found in caption \u001b[32m\"This furry sticker depicts a cartoonish \u001b[0m\u001b[1;38;2;149;31;39manthro\u001b[0m\u001b[32m rabbit.\"\u001b[0m\n"
      ]
     },
     "metadata": {},
     "output_type": "display_data"
    },
    {
     "data": {
      "text/html": [
       "<pre style=\"white-space:pre;overflow-x:auto;line-height:normal;font-family:Menlo,'DejaVu Sans Mono',consolas,'Courier New',monospace\">Tag <span style=\"color: #008000; text-decoration-color: #008000\">\"</span><span style=\"color: #bfe6bc; text-decoration-color: #bfe6bc; font-weight: bold\">rabbit</span><span style=\"color: #008000; text-decoration-color: #008000\">\"</span> found in caption <span style=\"color: #008000; text-decoration-color: #008000\">\"This furry sticker depicts a cartoonish anthro </span><span style=\"color: #bfe6bc; text-decoration-color: #bfe6bc; font-weight: bold\">rabbit</span><span style=\"color: #008000; text-decoration-color: #008000\">.\"</span>\n",
       "</pre>\n"
      ],
      "text/plain": [
       "Tag \u001b[32m\"\u001b[0m\u001b[1;38;2;191;230;188mrabbit\u001b[0m\u001b[32m\"\u001b[0m found in caption \u001b[32m\"This furry sticker depicts a cartoonish anthro \u001b[0m\u001b[1;38;2;191;230;188mrabbit\u001b[0m\u001b[32m.\"\u001b[0m\n"
      ]
     },
     "metadata": {},
     "output_type": "display_data"
    },
    {
     "data": {
      "text/html": [
       "<pre style=\"white-space:pre;overflow-x:auto;line-height:normal;font-family:Menlo,'DejaVu Sans Mono',consolas,'Courier New',monospace\">Tag <span style=\"color: #008000; text-decoration-color: #008000\">\"</span><span style=\"color: #d75645; text-decoration-color: #d75645; font-weight: bold\">blush</span><span style=\"color: #008000; text-decoration-color: #008000\">\"</span> found in caption <span style=\"color: #008000; text-decoration-color: #008000\">\"The character has a playful expression with its mouth open and a slight </span><span style=\"color: #d75645; text-decoration-color: #d75645; font-weight: bold\">blush</span><span style=\"color: #008000; text-decoration-color: #008000\"> on the </span>\n",
       "<span style=\"color: #008000; text-decoration-color: #008000\">cheeks.\"</span>\n",
       "</pre>\n"
      ],
      "text/plain": [
       "Tag \u001b[32m\"\u001b[0m\u001b[1;38;2;215;86;69mblush\u001b[0m\u001b[32m\"\u001b[0m found in caption \u001b[32m\"The character has a playful expression with its mouth open and a slight \u001b[0m\u001b[1;38;2;215;86;69mblush\u001b[0m\u001b[32m on the \u001b[0m\n",
       "\u001b[32mcheeks.\"\u001b[0m\n"
      ]
     },
     "metadata": {},
     "output_type": "display_data"
    },
    {
     "data": {
      "text/html": [
       "<pre style=\"white-space:pre;overflow-x:auto;line-height:normal;font-family:Menlo,'DejaVu Sans Mono',consolas,'Courier New',monospace\">Tag <span style=\"color: #008000; text-decoration-color: #008000\">\"</span><span style=\"color: #a98089; text-decoration-color: #a98089; font-weight: bold\">fur</span><span style=\"color: #008000; text-decoration-color: #008000\">\"</span> found in caption <span style=\"color: #008000; text-decoration-color: #008000\">\"It is wearing glasses and its </span><span style=\"color: #a98089; text-decoration-color: #a98089; font-weight: bold\">fur</span><span style=\"color: #008000; text-decoration-color: #008000\"> color is a shade of brown with a lighter beige color </span>\n",
       "<span style=\"color: #008000; text-decoration-color: #008000\">on the bottom of its tail and front of its ears.\"</span>\n",
       "</pre>\n"
      ],
      "text/plain": [
       "Tag \u001b[32m\"\u001b[0m\u001b[1;38;2;169;128;137mfur\u001b[0m\u001b[32m\"\u001b[0m found in caption \u001b[32m\"It is wearing glasses and its \u001b[0m\u001b[1;38;2;169;128;137mfur\u001b[0m\u001b[32m color is a shade of brown with a lighter beige color \u001b[0m\n",
       "\u001b[32mon the bottom of its tail and front of its ears.\"\u001b[0m\n"
      ]
     },
     "metadata": {},
     "output_type": "display_data"
    },
    {
     "data": {
      "text/html": [
       "<pre style=\"white-space:pre;overflow-x:auto;line-height:normal;font-family:Menlo,'DejaVu Sans Mono',consolas,'Courier New',monospace\">Tag <span style=\"color: #008000; text-decoration-color: #008000\">\"</span><span style=\"color: #221dae; text-decoration-color: #221dae; font-weight: bold\">outline</span><span style=\"color: #008000; text-decoration-color: #008000\">\"</span> found in caption <span style=\"color: #008000; text-decoration-color: #008000\">\"The character is surrounded by two blue sparkles and two blue motion lines and it </span>\n",
       "<span style=\"color: #008000; text-decoration-color: #008000\">has a white </span><span style=\"color: #221dae; text-decoration-color: #221dae; font-weight: bold\">outline</span><span style=\"color: #008000; text-decoration-color: #008000\"> around it.\"</span>\n",
       "</pre>\n"
      ],
      "text/plain": [
       "Tag \u001b[32m\"\u001b[0m\u001b[1;38;2;34;29;174moutline\u001b[0m\u001b[32m\"\u001b[0m found in caption \u001b[32m\"The character is surrounded by two blue sparkles and two blue motion lines and it \u001b[0m\n",
       "\u001b[32mhas a white \u001b[0m\u001b[1;38;2;34;29;174moutline\u001b[0m\u001b[32m around it.\"\u001b[0m\n"
      ]
     },
     "metadata": {},
     "output_type": "display_data"
    },
    {
     "data": {
      "text/html": [
       "<pre style=\"white-space:pre;overflow-x:auto;line-height:normal;font-family:Menlo,'DejaVu Sans Mono',consolas,'Courier New',monospace\">\n",
       "\n",
       "<span style=\"font-weight: bold\">C:\\Users\\kade\\Desktop\\training_dir_staging\\1_furry_sticker\\0da4833461592f1c7f4ac4151f7f8960.txt</span>\n",
       "\n",
       "</pre>\n"
      ],
      "text/plain": [
       "\n",
       "\n",
       "\u001b[1mC:\\Users\\kade\\Desktop\\training_dir_staging\\1_furry_sticker\\0da4833461592f1c7f4ac4151f7f8960.txt\u001b[0m\n",
       "\n"
      ]
     },
     "metadata": {},
     "output_type": "display_data"
    },
    {
     "data": {
      "text/html": [
       "<pre style=\"white-space:pre;overflow-x:auto;line-height:normal;font-family:Menlo,'DejaVu Sans Mono',consolas,'Courier New',monospace\">Tag <span style=\"color: #008000; text-decoration-color: #008000\">\"</span><span style=\"color: #1bdc8a; text-decoration-color: #1bdc8a; font-weight: bold\">eyes closed</span><span style=\"color: #008000; text-decoration-color: #008000\">\"</span> found in caption <span style=\"color: #008000; text-decoration-color: #008000\">\"It has its </span><span style=\"color: #1bdc8a; text-decoration-color: #1bdc8a; font-weight: bold\">eyes closed</span><span style=\"color: #008000; text-decoration-color: #008000\"> and is crossing its arms with a displeased expression.\"</span>\n",
       "</pre>\n"
      ],
      "text/plain": [
       "Tag \u001b[32m\"\u001b[0m\u001b[1;38;2;27;220;138meyes closed\u001b[0m\u001b[32m\"\u001b[0m found in caption \u001b[32m\"It has its \u001b[0m\u001b[1;38;2;27;220;138meyes closed\u001b[0m\u001b[32m and is crossing its arms with a displeased expression.\"\u001b[0m\n"
      ]
     },
     "metadata": {},
     "output_type": "display_data"
    },
    {
     "data": {
      "text/html": [
       "<pre style=\"white-space:pre;overflow-x:auto;line-height:normal;font-family:Menlo,'DejaVu Sans Mono',consolas,'Courier New',monospace\">Tag <span style=\"color: #008000; text-decoration-color: #008000\">\"</span><span style=\"color: #a3df0a; text-decoration-color: #a3df0a; font-weight: bold\">headwear</span><span style=\"color: #008000; text-decoration-color: #008000\">\"</span> found in caption <span style=\"color: #008000; text-decoration-color: #008000\">\"The character has a brownish fur coat and brown hair sticking out from under the </span>\n",
       "<span style=\"color: #a3df0a; text-decoration-color: #a3df0a; font-weight: bold\">headwear</span><span style=\"color: #008000; text-decoration-color: #008000\">.\"</span>\n",
       "</pre>\n"
      ],
      "text/plain": [
       "Tag \u001b[32m\"\u001b[0m\u001b[1;38;2;163;223;10mheadwear\u001b[0m\u001b[32m\"\u001b[0m found in caption \u001b[32m\"The character has a brownish fur coat and brown hair sticking out from under the \u001b[0m\n",
       "\u001b[1;38;2;163;223;10mheadwear\u001b[0m\u001b[32m.\"\u001b[0m\n"
      ]
     },
     "metadata": {},
     "output_type": "display_data"
    },
    {
     "data": {
      "text/html": [
       "<pre style=\"white-space:pre;overflow-x:auto;line-height:normal;font-family:Menlo,'DejaVu Sans Mono',consolas,'Courier New',monospace\">Tag <span style=\"color: #008000; text-decoration-color: #008000\">\"</span><span style=\"color: #bc0272; text-decoration-color: #bc0272; font-weight: bold\">collar</span><span style=\"color: #008000; text-decoration-color: #008000\">\"</span> found in caption <span style=\"color: #008000; text-decoration-color: #008000\">\"It has a brown nose and wears a blue cap with the Japanese flag on it and a blue </span>\n",
       "<span style=\"color: #bc0272; text-decoration-color: #bc0272; font-weight: bold\">collar</span><span style=\"color: #008000; text-decoration-color: #008000\"> around its neck with a black stripe in the middle.\"</span>\n",
       "</pre>\n"
      ],
      "text/plain": [
       "Tag \u001b[32m\"\u001b[0m\u001b[1;38;2;188;2;114mcollar\u001b[0m\u001b[32m\"\u001b[0m found in caption \u001b[32m\"It has a brown nose and wears a blue cap with the Japanese flag on it and a blue \u001b[0m\n",
       "\u001b[1;38;2;188;2;114mcollar\u001b[0m\u001b[32m around its neck with a black stripe in the middle.\"\u001b[0m\n"
      ]
     },
     "metadata": {},
     "output_type": "display_data"
    },
    {
     "data": {
      "text/html": [
       "<pre style=\"white-space:pre;overflow-x:auto;line-height:normal;font-family:Menlo,'DejaVu Sans Mono',consolas,'Courier New',monospace\">Tag <span style=\"color: #008000; text-decoration-color: #008000\">\"</span><span style=\"color: #032bb9; text-decoration-color: #032bb9; font-weight: bold\">fur</span><span style=\"color: #008000; text-decoration-color: #008000\">\"</span> found in caption <span style=\"color: #008000; text-decoration-color: #008000\">\"The character has a brownish </span><span style=\"color: #032bb9; text-decoration-color: #032bb9; font-weight: bold\">fur</span><span style=\"color: #008000; text-decoration-color: #008000\"> coat and brown hair sticking out from under the </span>\n",
       "<span style=\"color: #008000; text-decoration-color: #008000\">headwear.\"</span>\n",
       "</pre>\n"
      ],
      "text/plain": [
       "Tag \u001b[32m\"\u001b[0m\u001b[1;38;2;3;43;185mfur\u001b[0m\u001b[32m\"\u001b[0m found in caption \u001b[32m\"The character has a brownish \u001b[0m\u001b[1;38;2;3;43;185mfur\u001b[0m\u001b[32m coat and brown hair sticking out from under the \u001b[0m\n",
       "\u001b[32mheadwear.\"\u001b[0m\n"
      ]
     },
     "metadata": {},
     "output_type": "display_data"
    },
    {
     "data": {
      "text/html": [
       "<pre style=\"white-space:pre;overflow-x:auto;line-height:normal;font-family:Menlo,'DejaVu Sans Mono',consolas,'Courier New',monospace\">Tag <span style=\"color: #008000; text-decoration-color: #008000\">\"</span><span style=\"color: #4665d2; text-decoration-color: #4665d2; font-weight: bold\">brown hair</span><span style=\"color: #008000; text-decoration-color: #008000\">\"</span> found in caption <span style=\"color: #008000; text-decoration-color: #008000\">\"The character has a brownish fur coat and </span><span style=\"color: #4665d2; text-decoration-color: #4665d2; font-weight: bold\">brown hair</span><span style=\"color: #008000; text-decoration-color: #008000\"> sticking out from under the</span>\n",
       "<span style=\"color: #008000; text-decoration-color: #008000\">headwear.\"</span>\n",
       "</pre>\n"
      ],
      "text/plain": [
       "Tag \u001b[32m\"\u001b[0m\u001b[1;38;2;70;101;210mbrown hair\u001b[0m\u001b[32m\"\u001b[0m found in caption \u001b[32m\"The character has a brownish fur coat and \u001b[0m\u001b[1;38;2;70;101;210mbrown hair\u001b[0m\u001b[32m sticking out from under the\u001b[0m\n",
       "\u001b[32mheadwear.\"\u001b[0m\n"
      ]
     },
     "metadata": {},
     "output_type": "display_data"
    },
    {
     "data": {
      "text/html": [
       "<pre style=\"white-space:pre;overflow-x:auto;line-height:normal;font-family:Menlo,'DejaVu Sans Mono',consolas,'Courier New',monospace\">Tag <span style=\"color: #008000; text-decoration-color: #008000\">\"</span><span style=\"color: #84aff1; text-decoration-color: #84aff1; font-weight: bold\">text</span><span style=\"color: #008000; text-decoration-color: #008000\">\"</span> found in caption <span style=\"color: #008000; text-decoration-color: #008000\">\"The character and the </span><span style=\"color: #84aff1; text-decoration-color: #84aff1; font-weight: bold\">text</span><span style=\"color: #008000; text-decoration-color: #008000\"> has a white outline around it.\"</span>\n",
       "</pre>\n"
      ],
      "text/plain": [
       "Tag \u001b[32m\"\u001b[0m\u001b[1;38;2;132;175;241mtext\u001b[0m\u001b[32m\"\u001b[0m found in caption \u001b[32m\"The character and the \u001b[0m\u001b[1;38;2;132;175;241mtext\u001b[0m\u001b[32m has a white outline around it.\"\u001b[0m\n"
      ]
     },
     "metadata": {},
     "output_type": "display_data"
    },
    {
     "data": {
      "text/html": [
       "<pre style=\"white-space:pre;overflow-x:auto;line-height:normal;font-family:Menlo,'DejaVu Sans Mono',consolas,'Courier New',monospace\">Tag <span style=\"color: #008000; text-decoration-color: #008000\">\"</span><span style=\"color: #a84b2b; text-decoration-color: #a84b2b; font-weight: bold\">anthro</span><span style=\"color: #008000; text-decoration-color: #008000\">\"</span> found in caption <span style=\"color: #008000; text-decoration-color: #008000\">\"The image showcases an animated character that is an </span><span style=\"color: #a84b2b; text-decoration-color: #a84b2b; font-weight: bold\">anthro</span><span style=\"color: #008000; text-decoration-color: #008000\"> dog.\"</span>\n",
       "</pre>\n"
      ],
      "text/plain": [
       "Tag \u001b[32m\"\u001b[0m\u001b[1;38;2;168;75;43manthro\u001b[0m\u001b[32m\"\u001b[0m found in caption \u001b[32m\"The image showcases an animated character that is an \u001b[0m\u001b[1;38;2;168;75;43manthro\u001b[0m\u001b[32m dog.\"\u001b[0m\n"
      ]
     },
     "metadata": {},
     "output_type": "display_data"
    },
    {
     "data": {
      "text/html": [
       "<pre style=\"white-space:pre;overflow-x:auto;line-height:normal;font-family:Menlo,'DejaVu Sans Mono',consolas,'Courier New',monospace\">\n",
       "\n",
       "<span style=\"font-weight: bold\">C:\\Users\\kade\\Desktop\\training_dir_staging\\1_furry_sticker\\0f27c73c75d57814e6dacf5c60040473.txt</span>\n",
       "\n",
       "</pre>\n"
      ],
      "text/plain": [
       "\n",
       "\n",
       "\u001b[1mC:\\Users\\kade\\Desktop\\training_dir_staging\\1_furry_sticker\\0f27c73c75d57814e6dacf5c60040473.txt\u001b[0m\n",
       "\n"
      ]
     },
     "metadata": {},
     "output_type": "display_data"
    },
    {
     "data": {
      "text/html": [
       "<pre style=\"white-space:pre;overflow-x:auto;line-height:normal;font-family:Menlo,'DejaVu Sans Mono',consolas,'Courier New',monospace\">Tag <span style=\"color: #008000; text-decoration-color: #008000\">\"</span><span style=\"color: #f2fb34; text-decoration-color: #f2fb34; font-weight: bold\">furry sticker</span><span style=\"color: #008000; text-decoration-color: #008000\">\"</span> found in caption <span style=\"color: #008000; text-decoration-color: #008000\">\"This </span><span style=\"color: #f2fb34; text-decoration-color: #f2fb34; font-weight: bold\">furry sticker</span><span style=\"color: #008000; text-decoration-color: #008000\"> showcases an animated anthro fox character sitting at a </span>\n",
       "<span style=\"color: #008000; text-decoration-color: #008000\">desk with its hands on a laptop's screen.\"</span>\n",
       "</pre>\n"
      ],
      "text/plain": [
       "Tag \u001b[32m\"\u001b[0m\u001b[1;38;2;242;251;52mfurry sticker\u001b[0m\u001b[32m\"\u001b[0m found in caption \u001b[32m\"This \u001b[0m\u001b[1;38;2;242;251;52mfurry sticker\u001b[0m\u001b[32m showcases an animated anthro fox character sitting at a \u001b[0m\n",
       "\u001b[32mdesk with its hands on a laptop's screen.\"\u001b[0m\n"
      ]
     },
     "metadata": {},
     "output_type": "display_data"
    },
    {
     "data": {
      "text/html": [
       "<pre style=\"white-space:pre;overflow-x:auto;line-height:normal;font-family:Menlo,'DejaVu Sans Mono',consolas,'Courier New',monospace\">Tag <span style=\"color: #008000; text-decoration-color: #008000\">\"</span><span style=\"color: #412131; text-decoration-color: #412131; font-weight: bold\">fox</span><span style=\"color: #008000; text-decoration-color: #008000\">\"</span> found in caption <span style=\"color: #008000; text-decoration-color: #008000\">\"This furry sticker showcases an animated anthro </span><span style=\"color: #412131; text-decoration-color: #412131; font-weight: bold\">fox</span><span style=\"color: #008000; text-decoration-color: #008000\"> character sitting at a desk with </span>\n",
       "<span style=\"color: #008000; text-decoration-color: #008000\">its hands on a laptop's screen.\"</span>\n",
       "</pre>\n"
      ],
      "text/plain": [
       "Tag \u001b[32m\"\u001b[0m\u001b[1;38;2;65;33;49mfox\u001b[0m\u001b[32m\"\u001b[0m found in caption \u001b[32m\"This furry sticker showcases an animated anthro \u001b[0m\u001b[1;38;2;65;33;49mfox\u001b[0m\u001b[32m character sitting at a desk with \u001b[0m\n",
       "\u001b[32mits hands on a laptop's screen.\"\u001b[0m\n"
      ]
     },
     "metadata": {},
     "output_type": "display_data"
    },
    {
     "data": {
      "text/html": [
       "<pre style=\"white-space:pre;overflow-x:auto;line-height:normal;font-family:Menlo,'DejaVu Sans Mono',consolas,'Courier New',monospace\">Tag <span style=\"color: #008000; text-decoration-color: #008000\">\"</span><span style=\"color: #b00949; text-decoration-color: #b00949; font-weight: bold\">fox</span><span style=\"color: #008000; text-decoration-color: #008000\">\"</span> found in caption <span style=\"color: #008000; text-decoration-color: #008000\">\"The </span><span style=\"color: #b00949; text-decoration-color: #b00949; font-weight: bold\">fox</span><span style=\"color: #008000; text-decoration-color: #008000\"> appears to be in a state of surprise or shock with wide-open eyes and a closed </span>\n",
       "<span style=\"color: #008000; text-decoration-color: #008000\">mouth that is drawn as a small black line.\"</span>\n",
       "</pre>\n"
      ],
      "text/plain": [
       "Tag \u001b[32m\"\u001b[0m\u001b[1;38;2;176;9;73mfox\u001b[0m\u001b[32m\"\u001b[0m found in caption \u001b[32m\"The \u001b[0m\u001b[1;38;2;176;9;73mfox\u001b[0m\u001b[32m appears to be in a state of surprise or shock with wide-open eyes and a closed \u001b[0m\n",
       "\u001b[32mmouth that is drawn as a small black line.\"\u001b[0m\n"
      ]
     },
     "metadata": {},
     "output_type": "display_data"
    },
    {
     "data": {
      "text/html": [
       "<pre style=\"white-space:pre;overflow-x:auto;line-height:normal;font-family:Menlo,'DejaVu Sans Mono',consolas,'Courier New',monospace\">Tag <span style=\"color: #008000; text-decoration-color: #008000\">\"</span><span style=\"color: #3a03ea; text-decoration-color: #3a03ea; font-weight: bold\">fox</span><span style=\"color: #008000; text-decoration-color: #008000\">\"</span> found in caption <span style=\"color: #008000; text-decoration-color: #008000\">\"The </span><span style=\"color: #3a03ea; text-decoration-color: #3a03ea; font-weight: bold\">fox</span><span style=\"color: #008000; text-decoration-color: #008000\"> has a vibrant red fur with his chest and bottom of its face covered in white </span>\n",
       "<span style=\"color: #008000; text-decoration-color: #008000\">fur.\"</span>\n",
       "</pre>\n"
      ],
      "text/plain": [
       "Tag \u001b[32m\"\u001b[0m\u001b[1;38;2;58;3;234mfox\u001b[0m\u001b[32m\"\u001b[0m found in caption \u001b[32m\"The \u001b[0m\u001b[1;38;2;58;3;234mfox\u001b[0m\u001b[32m has a vibrant red fur with his chest and bottom of its face covered in white \u001b[0m\n",
       "\u001b[32mfur.\"\u001b[0m\n"
      ]
     },
     "metadata": {},
     "output_type": "display_data"
    },
    {
     "data": {
      "text/html": [
       "<pre style=\"white-space:pre;overflow-x:auto;line-height:normal;font-family:Menlo,'DejaVu Sans Mono',consolas,'Courier New',monospace\">Tag <span style=\"color: #008000; text-decoration-color: #008000\">\"</span><span style=\"color: #e6614b; text-decoration-color: #e6614b; font-weight: bold\">red fur</span><span style=\"color: #008000; text-decoration-color: #008000\">\"</span> found in caption <span style=\"color: #008000; text-decoration-color: #008000\">\"The fox has a vibrant </span><span style=\"color: #e6614b; text-decoration-color: #e6614b; font-weight: bold\">red fur</span><span style=\"color: #008000; text-decoration-color: #008000\"> with his chest and bottom of its face covered in </span>\n",
       "<span style=\"color: #008000; text-decoration-color: #008000\">white fur.\"</span>\n",
       "</pre>\n"
      ],
      "text/plain": [
       "Tag \u001b[32m\"\u001b[0m\u001b[1;38;2;230;97;75mred fur\u001b[0m\u001b[32m\"\u001b[0m found in caption \u001b[32m\"The fox has a vibrant \u001b[0m\u001b[1;38;2;230;97;75mred fur\u001b[0m\u001b[32m with his chest and bottom of its face covered in \u001b[0m\n",
       "\u001b[32mwhite fur.\"\u001b[0m\n"
      ]
     },
     "metadata": {},
     "output_type": "display_data"
    },
    {
     "data": {
      "text/html": [
       "<pre style=\"white-space:pre;overflow-x:auto;line-height:normal;font-family:Menlo,'DejaVu Sans Mono',consolas,'Courier New',monospace\">Tag <span style=\"color: #008000; text-decoration-color: #008000\">\"</span><span style=\"color: #e8e72a; text-decoration-color: #e8e72a; font-weight: bold\">fur</span><span style=\"color: #008000; text-decoration-color: #008000\">\"</span> found in caption <span style=\"color: #008000; text-decoration-color: #008000\">\"The fox has a vibrant red </span><span style=\"color: #e8e72a; text-decoration-color: #e8e72a; font-weight: bold\">fur</span><span style=\"color: #008000; text-decoration-color: #008000\"> with his chest and bottom of its face covered in white </span>\n",
       "<span style=\"color: #e8e72a; text-decoration-color: #e8e72a; font-weight: bold\">fur</span><span style=\"color: #008000; text-decoration-color: #008000\">.\"</span>\n",
       "</pre>\n"
      ],
      "text/plain": [
       "Tag \u001b[32m\"\u001b[0m\u001b[1;38;2;232;231;42mfur\u001b[0m\u001b[32m\"\u001b[0m found in caption \u001b[32m\"The fox has a vibrant red \u001b[0m\u001b[1;38;2;232;231;42mfur\u001b[0m\u001b[32m with his chest and bottom of its face covered in white \u001b[0m\n",
       "\u001b[1;38;2;232;231;42mfur\u001b[0m\u001b[32m.\"\u001b[0m\n"
      ]
     },
     "metadata": {},
     "output_type": "display_data"
    },
    {
     "data": {
      "text/html": [
       "<pre style=\"white-space:pre;overflow-x:auto;line-height:normal;font-family:Menlo,'DejaVu Sans Mono',consolas,'Courier New',monospace\">Tag <span style=\"color: #008000; text-decoration-color: #008000\">\"</span><span style=\"color: #4a9369; text-decoration-color: #4a9369; font-weight: bold\">anthro</span><span style=\"color: #008000; text-decoration-color: #008000\">\"</span> found in caption <span style=\"color: #008000; text-decoration-color: #008000\">\"This furry sticker showcases an animated </span><span style=\"color: #4a9369; text-decoration-color: #4a9369; font-weight: bold\">anthro</span><span style=\"color: #008000; text-decoration-color: #008000\"> fox character sitting at a desk with</span>\n",
       "<span style=\"color: #008000; text-decoration-color: #008000\">its hands on a laptop's screen.\"</span>\n",
       "</pre>\n"
      ],
      "text/plain": [
       "Tag \u001b[32m\"\u001b[0m\u001b[1;38;2;74;147;105manthro\u001b[0m\u001b[32m\"\u001b[0m found in caption \u001b[32m\"This furry sticker showcases an animated \u001b[0m\u001b[1;38;2;74;147;105manthro\u001b[0m\u001b[32m fox character sitting at a desk with\u001b[0m\n",
       "\u001b[32mits hands on a laptop's screen.\"\u001b[0m\n"
      ]
     },
     "metadata": {},
     "output_type": "display_data"
    },
    {
     "data": {
      "text/html": [
       "<pre style=\"white-space:pre;overflow-x:auto;line-height:normal;font-family:Menlo,'DejaVu Sans Mono',consolas,'Courier New',monospace\">Tag <span style=\"color: #008000; text-decoration-color: #008000\">\"</span><span style=\"color: #13d1ea; text-decoration-color: #13d1ea; font-weight: bold\">computer</span><span style=\"color: #008000; text-decoration-color: #008000\">\"</span> found in caption <span style=\"color: #008000; text-decoration-color: #008000\">\"On the desk there's also a </span><span style=\"color: #13d1ea; text-decoration-color: #13d1ea; font-weight: bold\">computer</span><span style=\"color: #008000; text-decoration-color: #008000\"> mouse with a blue mouse pad under it.\"</span>\n",
       "</pre>\n"
      ],
      "text/plain": [
       "Tag \u001b[32m\"\u001b[0m\u001b[1;38;2;19;209;234mcomputer\u001b[0m\u001b[32m\"\u001b[0m found in caption \u001b[32m\"On the desk there's also a \u001b[0m\u001b[1;38;2;19;209;234mcomputer\u001b[0m\u001b[32m mouse with a blue mouse pad under it.\"\u001b[0m\n"
      ]
     },
     "metadata": {},
     "output_type": "display_data"
    },
    {
     "data": {
      "text/html": [
       "<pre style=\"white-space:pre;overflow-x:auto;line-height:normal;font-family:Menlo,'DejaVu Sans Mono',consolas,'Courier New',monospace\">Tag <span style=\"color: #008000; text-decoration-color: #008000\">\"</span><span style=\"color: #e94ec7; text-decoration-color: #e94ec7; font-weight: bold\">white fur</span><span style=\"color: #008000; text-decoration-color: #008000\">\"</span> found in caption <span style=\"color: #008000; text-decoration-color: #008000\">\"The fox has a vibrant red fur with his chest and bottom of its face covered in </span>\n",
       "<span style=\"color: #e94ec7; text-decoration-color: #e94ec7; font-weight: bold\">white fur</span><span style=\"color: #008000; text-decoration-color: #008000\">.\"</span>\n",
       "</pre>\n"
      ],
      "text/plain": [
       "Tag \u001b[32m\"\u001b[0m\u001b[1;38;2;233;78;199mwhite fur\u001b[0m\u001b[32m\"\u001b[0m found in caption \u001b[32m\"The fox has a vibrant red fur with his chest and bottom of its face covered in \u001b[0m\n",
       "\u001b[1;38;2;233;78;199mwhite fur\u001b[0m\u001b[32m.\"\u001b[0m\n"
      ]
     },
     "metadata": {},
     "output_type": "display_data"
    },
    {
     "data": {
      "text/html": [
       "<pre style=\"white-space:pre;overflow-x:auto;line-height:normal;font-family:Menlo,'DejaVu Sans Mono',consolas,'Courier New',monospace\">\n",
       "\n",
       "<span style=\"font-weight: bold\">C:\\Users\\kade\\Desktop\\training_dir_staging\\1_furry_sticker\\1aea6a3150d717943f2e5d70f799050d.txt</span>\n",
       "\n",
       "</pre>\n"
      ],
      "text/plain": [
       "\n",
       "\n",
       "\u001b[1mC:\\Users\\kade\\Desktop\\training_dir_staging\\1_furry_sticker\\1aea6a3150d717943f2e5d70f799050d.txt\u001b[0m\n",
       "\n"
      ]
     },
     "metadata": {},
     "output_type": "display_data"
    },
    {
     "data": {
      "text/html": [
       "<pre style=\"white-space:pre;overflow-x:auto;line-height:normal;font-family:Menlo,'DejaVu Sans Mono',consolas,'Courier New',monospace\">Tag <span style=\"color: #008000; text-decoration-color: #008000\">\"</span><span style=\"color: #82617c; text-decoration-color: #82617c; font-weight: bold\">fox</span><span style=\"color: #008000; text-decoration-color: #008000\">\"</span> found in caption <span style=\"color: #008000; text-decoration-color: #008000\">\"The image features a stylized cartoon depiction of a </span><span style=\"color: #82617c; text-decoration-color: #82617c; font-weight: bold\">fox</span><span style=\"color: #008000; text-decoration-color: #008000\"> with a playful and cheeky </span>\n",
       "<span style=\"color: #008000; text-decoration-color: #008000\">expression and it has its eyes closed.\"</span>\n",
       "</pre>\n"
      ],
      "text/plain": [
       "Tag \u001b[32m\"\u001b[0m\u001b[1;38;2;130;97;124mfox\u001b[0m\u001b[32m\"\u001b[0m found in caption \u001b[32m\"The image features a stylized cartoon depiction of a \u001b[0m\u001b[1;38;2;130;97;124mfox\u001b[0m\u001b[32m with a playful and cheeky \u001b[0m\n",
       "\u001b[32mexpression and it has its eyes closed.\"\u001b[0m\n"
      ]
     },
     "metadata": {},
     "output_type": "display_data"
    },
    {
     "data": {
      "text/html": [
       "<pre style=\"white-space:pre;overflow-x:auto;line-height:normal;font-family:Menlo,'DejaVu Sans Mono',consolas,'Courier New',monospace\">Tag <span style=\"color: #008000; text-decoration-color: #008000\">\"</span><span style=\"color: #65c7d8; text-decoration-color: #65c7d8; font-weight: bold\">eyes closed</span><span style=\"color: #008000; text-decoration-color: #008000\">\"</span> found in caption <span style=\"color: #008000; text-decoration-color: #008000\">\"The image features a stylized cartoon depiction of a fox with a playful and </span>\n",
       "<span style=\"color: #008000; text-decoration-color: #008000\">cheeky expression and it has its </span><span style=\"color: #65c7d8; text-decoration-color: #65c7d8; font-weight: bold\">eyes closed</span><span style=\"color: #008000; text-decoration-color: #008000\">.\"</span>\n",
       "</pre>\n"
      ],
      "text/plain": [
       "Tag \u001b[32m\"\u001b[0m\u001b[1;38;2;101;199;216meyes closed\u001b[0m\u001b[32m\"\u001b[0m found in caption \u001b[32m\"The image features a stylized cartoon depiction of a fox with a playful and \u001b[0m\n",
       "\u001b[32mcheeky expression and it has its \u001b[0m\u001b[1;38;2;101;199;216meyes closed\u001b[0m\u001b[32m.\"\u001b[0m\n"
      ]
     },
     "metadata": {},
     "output_type": "display_data"
    },
    {
     "data": {
      "text/html": [
       "<pre style=\"white-space:pre;overflow-x:auto;line-height:normal;font-family:Menlo,'DejaVu Sans Mono',consolas,'Courier New',monospace\">Tag <span style=\"color: #008000; text-decoration-color: #008000\">\"</span><span style=\"color: #cbe7bd; text-decoration-color: #cbe7bd; font-weight: bold\">black background</span><span style=\"color: #008000; text-decoration-color: #008000\">\"</span> found in caption <span style=\"color: #008000; text-decoration-color: #008000\">\"It is set against a </span><span style=\"color: #cbe7bd; text-decoration-color: #cbe7bd; font-weight: bold\">black background</span><span style=\"color: #008000; text-decoration-color: #008000\"> and there's a textual element at the </span>\n",
       "<span style=\"color: #008000; text-decoration-color: #008000\">bottom that reads 'GAFFERTAPE'.\"</span>\n",
       "</pre>\n"
      ],
      "text/plain": [
       "Tag \u001b[32m\"\u001b[0m\u001b[1;38;2;203;231;189mblack background\u001b[0m\u001b[32m\"\u001b[0m found in caption \u001b[32m\"It is set against a \u001b[0m\u001b[1;38;2;203;231;189mblack background\u001b[0m\u001b[32m and there's a textual element at the \u001b[0m\n",
       "\u001b[32mbottom that reads 'GAFFERTAPE'.\"\u001b[0m\n"
      ]
     },
     "metadata": {},
     "output_type": "display_data"
    },
    {
     "data": {
      "text/html": [
       "<pre style=\"white-space:pre;overflow-x:auto;line-height:normal;font-family:Menlo,'DejaVu Sans Mono',consolas,'Courier New',monospace\">Tag <span style=\"color: #008000; text-decoration-color: #008000\">\"</span><span style=\"color: #e791a0; text-decoration-color: #e791a0; font-weight: bold\">text</span><span style=\"color: #008000; text-decoration-color: #008000\">\"</span> found in caption <span style=\"color: #008000; text-decoration-color: #008000\">\"The character and the </span><span style=\"color: #e791a0; text-decoration-color: #e791a0; font-weight: bold\">text</span><span style=\"color: #008000; text-decoration-color: #008000\"> has a white outline around it.\"</span>\n",
       "</pre>\n"
      ],
      "text/plain": [
       "Tag \u001b[32m\"\u001b[0m\u001b[1;38;2;231;145;160mtext\u001b[0m\u001b[32m\"\u001b[0m found in caption \u001b[32m\"The character and the \u001b[0m\u001b[1;38;2;231;145;160mtext\u001b[0m\u001b[32m has a white outline around it.\"\u001b[0m\n"
      ]
     },
     "metadata": {},
     "output_type": "display_data"
    },
    {
     "data": {
      "text/html": [
       "<pre style=\"white-space:pre;overflow-x:auto;line-height:normal;font-family:Menlo,'DejaVu Sans Mono',consolas,'Courier New',monospace\">Tag <span style=\"color: #008000; text-decoration-color: #008000\">\"</span><span style=\"color: #4889a8; text-decoration-color: #4889a8; font-weight: bold\">fur</span><span style=\"color: #008000; text-decoration-color: #008000\">\"</span> found in caption <span style=\"color: #008000; text-decoration-color: #008000\">\"The creature has orange </span><span style=\"color: #4889a8; text-decoration-color: #4889a8; font-weight: bold\">fur</span><span style=\"color: #008000; text-decoration-color: #008000\"> with white accents pointed ears and a mischievous smirk.\"</span>\n",
       "</pre>\n"
      ],
      "text/plain": [
       "Tag \u001b[32m\"\u001b[0m\u001b[1;38;2;72;137;168mfur\u001b[0m\u001b[32m\"\u001b[0m found in caption \u001b[32m\"The creature has orange \u001b[0m\u001b[1;38;2;72;137;168mfur\u001b[0m\u001b[32m with white accents pointed ears and a mischievous smirk.\"\u001b[0m\n"
      ]
     },
     "metadata": {},
     "output_type": "display_data"
    },
    {
     "data": {
      "text/html": [
       "<pre style=\"white-space:pre;overflow-x:auto;line-height:normal;font-family:Menlo,'DejaVu Sans Mono',consolas,'Courier New',monospace\">Tag <span style=\"color: #008000; text-decoration-color: #008000\">\"</span><span style=\"color: #e24c0d; text-decoration-color: #e24c0d; font-weight: bold\">orange fur</span><span style=\"color: #008000; text-decoration-color: #008000\">\"</span> found in caption <span style=\"color: #008000; text-decoration-color: #008000\">\"The creature has </span><span style=\"color: #e24c0d; text-decoration-color: #e24c0d; font-weight: bold\">orange fur</span><span style=\"color: #008000; text-decoration-color: #008000\"> with white accents pointed ears and a mischievous </span>\n",
       "<span style=\"color: #008000; text-decoration-color: #008000\">smirk.\"</span>\n",
       "</pre>\n"
      ],
      "text/plain": [
       "Tag \u001b[32m\"\u001b[0m\u001b[1;38;2;226;76;13morange fur\u001b[0m\u001b[32m\"\u001b[0m found in caption \u001b[32m\"The creature has \u001b[0m\u001b[1;38;2;226;76;13morange fur\u001b[0m\u001b[32m with white accents pointed ears and a mischievous \u001b[0m\n",
       "\u001b[32msmirk.\"\u001b[0m\n"
      ]
     },
     "metadata": {},
     "output_type": "display_data"
    },
    {
     "data": {
      "text/html": [
       "<pre style=\"white-space:pre;overflow-x:auto;line-height:normal;font-family:Menlo,'DejaVu Sans Mono',consolas,'Courier New',monospace\">\n",
       "\n",
       "<span style=\"font-weight: bold\">C:\\Users\\kade\\Desktop\\training_dir_staging\\1_furry_sticker\\1b09d9c4726d721e86b204c23ab9e184.txt</span>\n",
       "\n",
       "</pre>\n"
      ],
      "text/plain": [
       "\n",
       "\n",
       "\u001b[1mC:\\Users\\kade\\Desktop\\training_dir_staging\\1_furry_sticker\\1b09d9c4726d721e86b204c23ab9e184.txt\u001b[0m\n",
       "\n"
      ]
     },
     "metadata": {},
     "output_type": "display_data"
    },
    {
     "data": {
      "text/html": [
       "<pre style=\"white-space:pre;overflow-x:auto;line-height:normal;font-family:Menlo,'DejaVu Sans Mono',consolas,'Courier New',monospace\">Tag <span style=\"color: #008000; text-decoration-color: #008000\">\"</span><span style=\"color: #806a49; text-decoration-color: #806a49; font-weight: bold\">fox</span><span style=\"color: #008000; text-decoration-color: #008000\">\"</span> found in caption <span style=\"color: #008000; text-decoration-color: #008000\">\"The image depicts an anthro red </span><span style=\"color: #806a49; text-decoration-color: #806a49; font-weight: bold\">fox</span><span style=\"color: #008000; text-decoration-color: #008000\"> sitting at a desk.\"</span>\n",
       "</pre>\n"
      ],
      "text/plain": [
       "Tag \u001b[32m\"\u001b[0m\u001b[1;38;2;128;106;73mfox\u001b[0m\u001b[32m\"\u001b[0m found in caption \u001b[32m\"The image depicts an anthro red \u001b[0m\u001b[1;38;2;128;106;73mfox\u001b[0m\u001b[32m sitting at a desk.\"\u001b[0m\n"
      ]
     },
     "metadata": {},
     "output_type": "display_data"
    },
    {
     "data": {
      "text/html": [
       "<pre style=\"white-space:pre;overflow-x:auto;line-height:normal;font-family:Menlo,'DejaVu Sans Mono',consolas,'Courier New',monospace\">Tag <span style=\"color: #008000; text-decoration-color: #008000\">\"</span><span style=\"color: #cb5f1a; text-decoration-color: #cb5f1a; font-weight: bold\">fox</span><span style=\"color: #008000; text-decoration-color: #008000\">\"</span> found in caption <span style=\"color: #008000; text-decoration-color: #008000\">\"The </span><span style=\"color: #cb5f1a; text-decoration-color: #cb5f1a; font-weight: bold\">fox</span><span style=\"color: #008000; text-decoration-color: #008000\"> appears to be working on a computer as evidenced by the keyboard in front of it</span>\n",
       "<span style=\"color: #008000; text-decoration-color: #008000\">and the computer mouse with a mousepad on the desk.\"</span>\n",
       "</pre>\n"
      ],
      "text/plain": [
       "Tag \u001b[32m\"\u001b[0m\u001b[1;38;2;203;95;26mfox\u001b[0m\u001b[32m\"\u001b[0m found in caption \u001b[32m\"The \u001b[0m\u001b[1;38;2;203;95;26mfox\u001b[0m\u001b[32m appears to be working on a computer as evidenced by the keyboard in front of it\u001b[0m\n",
       "\u001b[32mand the computer mouse with a mousepad on the desk.\"\u001b[0m\n"
      ]
     },
     "metadata": {},
     "output_type": "display_data"
    },
    {
     "data": {
      "text/html": [
       "<pre style=\"white-space:pre;overflow-x:auto;line-height:normal;font-family:Menlo,'DejaVu Sans Mono',consolas,'Courier New',monospace\">Tag <span style=\"color: #008000; text-decoration-color: #008000\">\"</span><span style=\"color: #16d5b4; text-decoration-color: #16d5b4; font-weight: bold\">fox</span><span style=\"color: #008000; text-decoration-color: #008000\">\"</span> found in caption <span style=\"color: #008000; text-decoration-color: #008000\">\"The </span><span style=\"color: #16d5b4; text-decoration-color: #16d5b4; font-weight: bold\">fox</span><span style=\"color: #008000; text-decoration-color: #008000\"> has a perplexed expression on its face.\"</span>\n",
       "</pre>\n"
      ],
      "text/plain": [
       "Tag \u001b[32m\"\u001b[0m\u001b[1;38;2;22;213;180mfox\u001b[0m\u001b[32m\"\u001b[0m found in caption \u001b[32m\"The \u001b[0m\u001b[1;38;2;22;213;180mfox\u001b[0m\u001b[32m has a perplexed expression on its face.\"\u001b[0m\n"
      ]
     },
     "metadata": {},
     "output_type": "display_data"
    },
    {
     "data": {
      "text/html": [
       "<pre style=\"white-space:pre;overflow-x:auto;line-height:normal;font-family:Menlo,'DejaVu Sans Mono',consolas,'Courier New',monospace\">Tag <span style=\"color: #008000; text-decoration-color: #008000\">\"</span><span style=\"color: #5ab6f5; text-decoration-color: #5ab6f5; font-weight: bold\">anthro</span><span style=\"color: #008000; text-decoration-color: #008000\">\"</span> found in caption <span style=\"color: #008000; text-decoration-color: #008000\">\"The image depicts an </span><span style=\"color: #5ab6f5; text-decoration-color: #5ab6f5; font-weight: bold\">anthro</span><span style=\"color: #008000; text-decoration-color: #008000\"> red fox sitting at a desk.\"</span>\n",
       "</pre>\n"
      ],
      "text/plain": [
       "Tag \u001b[32m\"\u001b[0m\u001b[1;38;2;90;182;245manthro\u001b[0m\u001b[32m\"\u001b[0m found in caption \u001b[32m\"The image depicts an \u001b[0m\u001b[1;38;2;90;182;245manthro\u001b[0m\u001b[32m red fox sitting at a desk.\"\u001b[0m\n"
      ]
     },
     "metadata": {},
     "output_type": "display_data"
    },
    {
     "data": {
      "text/html": [
       "<pre style=\"white-space:pre;overflow-x:auto;line-height:normal;font-family:Menlo,'DejaVu Sans Mono',consolas,'Courier New',monospace\">\n",
       "\n",
       "<span style=\"font-weight: bold\">C:\\Users\\kade\\Desktop\\training_dir_staging\\1_furry_sticker\\1c014a48012a09c9d2fb05aea4862190.txt</span>\n",
       "\n",
       "</pre>\n"
      ],
      "text/plain": [
       "\n",
       "\n",
       "\u001b[1mC:\\Users\\kade\\Desktop\\training_dir_staging\\1_furry_sticker\\1c014a48012a09c9d2fb05aea4862190.txt\u001b[0m\n",
       "\n"
      ]
     },
     "metadata": {},
     "output_type": "display_data"
    },
    {
     "data": {
      "text/html": [
       "<pre style=\"white-space:pre;overflow-x:auto;line-height:normal;font-family:Menlo,'DejaVu Sans Mono',consolas,'Courier New',monospace\">Tag <span style=\"color: #008000; text-decoration-color: #008000\">\"</span><span style=\"color: #644808; text-decoration-color: #644808; font-weight: bold\">anthro</span><span style=\"color: #008000; text-decoration-color: #008000\">\"</span> found in caption <span style=\"color: #008000; text-decoration-color: #008000\">\"The image showcases a cartoonish </span><span style=\"color: #644808; text-decoration-color: #644808; font-weight: bold\">anthro</span><span style=\"color: #008000; text-decoration-color: #008000\"> canine with gray and black fur.\"</span>\n",
       "</pre>\n"
      ],
      "text/plain": [
       "Tag \u001b[32m\"\u001b[0m\u001b[1;38;2;100;72;8manthro\u001b[0m\u001b[32m\"\u001b[0m found in caption \u001b[32m\"The image showcases a cartoonish \u001b[0m\u001b[1;38;2;100;72;8manthro\u001b[0m\u001b[32m canine with gray and black fur.\"\u001b[0m\n"
      ]
     },
     "metadata": {},
     "output_type": "display_data"
    },
    {
     "data": {
      "text/html": [
       "<pre style=\"white-space:pre;overflow-x:auto;line-height:normal;font-family:Menlo,'DejaVu Sans Mono',consolas,'Courier New',monospace\">Tag <span style=\"color: #008000; text-decoration-color: #008000\">\"</span><span style=\"color: #9c0bad; text-decoration-color: #9c0bad; font-weight: bold\">fur</span><span style=\"color: #008000; text-decoration-color: #008000\">\"</span> found in caption <span style=\"color: #008000; text-decoration-color: #008000\">\"The image showcases a cartoonish anthro canine with gray and black </span><span style=\"color: #9c0bad; text-decoration-color: #9c0bad; font-weight: bold\">fur</span><span style=\"color: #008000; text-decoration-color: #008000\">.\"</span>\n",
       "</pre>\n"
      ],
      "text/plain": [
       "Tag \u001b[32m\"\u001b[0m\u001b[1;38;2;156;11;173mfur\u001b[0m\u001b[32m\"\u001b[0m found in caption \u001b[32m\"The image showcases a cartoonish anthro canine with gray and black \u001b[0m\u001b[1;38;2;156;11;173mfur\u001b[0m\u001b[32m.\"\u001b[0m\n"
      ]
     },
     "metadata": {},
     "output_type": "display_data"
    },
    {
     "data": {
      "text/html": [
       "<pre style=\"white-space:pre;overflow-x:auto;line-height:normal;font-family:Menlo,'DejaVu Sans Mono',consolas,'Courier New',monospace\">Tag <span style=\"color: #008000; text-decoration-color: #008000\">\"</span><span style=\"color: #eb68bc; text-decoration-color: #eb68bc; font-weight: bold\">canine</span><span style=\"color: #008000; text-decoration-color: #008000\">\"</span> found in caption <span style=\"color: #008000; text-decoration-color: #008000\">\"The image showcases a cartoonish anthro </span><span style=\"color: #eb68bc; text-decoration-color: #eb68bc; font-weight: bold\">canine</span><span style=\"color: #008000; text-decoration-color: #008000\"> with gray and black fur.\"</span>\n",
       "</pre>\n"
      ],
      "text/plain": [
       "Tag \u001b[32m\"\u001b[0m\u001b[1;38;2;235;104;188mcanine\u001b[0m\u001b[32m\"\u001b[0m found in caption \u001b[32m\"The image showcases a cartoonish anthro \u001b[0m\u001b[1;38;2;235;104;188mcanine\u001b[0m\u001b[32m with gray and black fur.\"\u001b[0m\n"
      ]
     },
     "metadata": {},
     "output_type": "display_data"
    },
    {
     "data": {
      "text/html": [
       "<pre style=\"white-space:pre;overflow-x:auto;line-height:normal;font-family:Menlo,'DejaVu Sans Mono',consolas,'Courier New',monospace\">\n",
       "\n",
       "<span style=\"font-weight: bold\">C:\\Users\\kade\\Desktop\\training_dir_staging\\1_furry_sticker\\1d64f33795f33146e529a43b23c9d247.txt</span>\n",
       "\n",
       "</pre>\n"
      ],
      "text/plain": [
       "\n",
       "\n",
       "\u001b[1mC:\\Users\\kade\\Desktop\\training_dir_staging\\1_furry_sticker\\1d64f33795f33146e529a43b23c9d247.txt\u001b[0m\n",
       "\n"
      ]
     },
     "metadata": {},
     "output_type": "display_data"
    },
    {
     "data": {
      "text/html": [
       "<pre style=\"white-space:pre;overflow-x:auto;line-height:normal;font-family:Menlo,'DejaVu Sans Mono',consolas,'Courier New',monospace\">Tag <span style=\"color: #008000; text-decoration-color: #008000\">\"</span><span style=\"color: #7b88cf; text-decoration-color: #7b88cf; font-weight: bold\">furry sticker</span><span style=\"color: #008000; text-decoration-color: #008000\">\"</span> found in caption <span style=\"color: #008000; text-decoration-color: #008000\">\"The </span><span style=\"color: #7b88cf; text-decoration-color: #7b88cf; font-weight: bold\">furry sticker</span><span style=\"color: #008000; text-decoration-color: #008000\"> features a cartoon anthro fox character.\"</span>\n",
       "</pre>\n"
      ],
      "text/plain": [
       "Tag \u001b[32m\"\u001b[0m\u001b[1;38;2;123;136;207mfurry sticker\u001b[0m\u001b[32m\"\u001b[0m found in caption \u001b[32m\"The \u001b[0m\u001b[1;38;2;123;136;207mfurry sticker\u001b[0m\u001b[32m features a cartoon anthro fox character.\"\u001b[0m\n"
      ]
     },
     "metadata": {},
     "output_type": "display_data"
    },
    {
     "data": {
      "text/html": [
       "<pre style=\"white-space:pre;overflow-x:auto;line-height:normal;font-family:Menlo,'DejaVu Sans Mono',consolas,'Courier New',monospace\">Tag <span style=\"color: #008000; text-decoration-color: #008000\">\"</span><span style=\"color: #1472cc; text-decoration-color: #1472cc; font-weight: bold\">fox</span><span style=\"color: #008000; text-decoration-color: #008000\">\"</span> found in caption <span style=\"color: #008000; text-decoration-color: #008000\">\"The furry sticker features a cartoon anthro </span><span style=\"color: #1472cc; text-decoration-color: #1472cc; font-weight: bold\">fox</span><span style=\"color: #008000; text-decoration-color: #008000\"> character.\"</span>\n",
       "</pre>\n"
      ],
      "text/plain": [
       "Tag \u001b[32m\"\u001b[0m\u001b[1;38;2;20;114;204mfox\u001b[0m\u001b[32m\"\u001b[0m found in caption \u001b[32m\"The furry sticker features a cartoon anthro \u001b[0m\u001b[1;38;2;20;114;204mfox\u001b[0m\u001b[32m character.\"\u001b[0m\n"
      ]
     },
     "metadata": {},
     "output_type": "display_data"
    },
    {
     "data": {
      "text/html": [
       "<pre style=\"white-space:pre;overflow-x:auto;line-height:normal;font-family:Menlo,'DejaVu Sans Mono',consolas,'Courier New',monospace\">Tag <span style=\"color: #008000; text-decoration-color: #008000\">\"</span><span style=\"color: #b67f22; text-decoration-color: #b67f22; font-weight: bold\">fox</span><span style=\"color: #008000; text-decoration-color: #008000\">\"</span> found in caption <span style=\"color: #008000; text-decoration-color: #008000\">\"The </span><span style=\"color: #b67f22; text-decoration-color: #b67f22; font-weight: bold\">fox</span><span style=\"color: #008000; text-decoration-color: #008000\"> has a red fur with pointed ears and amber eyes.\"</span>\n",
       "</pre>\n"
      ],
      "text/plain": [
       "Tag \u001b[32m\"\u001b[0m\u001b[1;38;2;182;127;34mfox\u001b[0m\u001b[32m\"\u001b[0m found in caption \u001b[32m\"The \u001b[0m\u001b[1;38;2;182;127;34mfox\u001b[0m\u001b[32m has a red fur with pointed ears and amber eyes.\"\u001b[0m\n"
      ]
     },
     "metadata": {},
     "output_type": "display_data"
    },
    {
     "data": {
      "text/html": [
       "<pre style=\"white-space:pre;overflow-x:auto;line-height:normal;font-family:Menlo,'DejaVu Sans Mono',consolas,'Courier New',monospace\">Tag <span style=\"color: #008000; text-decoration-color: #008000\">\"</span><span style=\"color: #84aeb8; text-decoration-color: #84aeb8; font-weight: bold\">fox</span><span style=\"color: #008000; text-decoration-color: #008000\">\"</span> found in caption <span style=\"color: #008000; text-decoration-color: #008000\">\"Above the </span><span style=\"color: #84aeb8; text-decoration-color: #84aeb8; font-weight: bold\">fox</span><span style=\"color: #008000; text-decoration-color: #008000\"> there's a light bulb symbol indicating a bright idea or inspiration.\"</span>\n",
       "</pre>\n"
      ],
      "text/plain": [
       "Tag \u001b[32m\"\u001b[0m\u001b[1;38;2;132;174;184mfox\u001b[0m\u001b[32m\"\u001b[0m found in caption \u001b[32m\"Above the \u001b[0m\u001b[1;38;2;132;174;184mfox\u001b[0m\u001b[32m there's a light bulb symbol indicating a bright idea or inspiration.\"\u001b[0m\n"
      ]
     },
     "metadata": {},
     "output_type": "display_data"
    },
    {
     "data": {
      "text/html": [
       "<pre style=\"white-space:pre;overflow-x:auto;line-height:normal;font-family:Menlo,'DejaVu Sans Mono',consolas,'Courier New',monospace\">Tag <span style=\"color: #008000; text-decoration-color: #008000\">\"</span><span style=\"color: #1d7021; text-decoration-color: #1d7021; font-weight: bold\">anthro</span><span style=\"color: #008000; text-decoration-color: #008000\">\"</span> found in caption <span style=\"color: #008000; text-decoration-color: #008000\">\"The furry sticker features a cartoon </span><span style=\"color: #1d7021; text-decoration-color: #1d7021; font-weight: bold\">anthro</span><span style=\"color: #008000; text-decoration-color: #008000\"> fox character.\"</span>\n",
       "</pre>\n"
      ],
      "text/plain": [
       "Tag \u001b[32m\"\u001b[0m\u001b[1;38;2;29;112;33manthro\u001b[0m\u001b[32m\"\u001b[0m found in caption \u001b[32m\"The furry sticker features a cartoon \u001b[0m\u001b[1;38;2;29;112;33manthro\u001b[0m\u001b[32m fox character.\"\u001b[0m\n"
      ]
     },
     "metadata": {},
     "output_type": "display_data"
    },
    {
     "data": {
      "text/html": [
       "<pre style=\"white-space:pre;overflow-x:auto;line-height:normal;font-family:Menlo,'DejaVu Sans Mono',consolas,'Courier New',monospace\">Tag <span style=\"color: #008000; text-decoration-color: #008000\">\"</span><span style=\"color: #281313; text-decoration-color: #281313; font-weight: bold\">fur</span><span style=\"color: #008000; text-decoration-color: #008000\">\"</span> found in caption <span style=\"color: #008000; text-decoration-color: #008000\">\"The fox has a red </span><span style=\"color: #281313; text-decoration-color: #281313; font-weight: bold\">fur</span><span style=\"color: #008000; text-decoration-color: #008000\"> with pointed ears and amber eyes.\"</span>\n",
       "</pre>\n"
      ],
      "text/plain": [
       "Tag \u001b[32m\"\u001b[0m\u001b[1;38;2;40;19;19mfur\u001b[0m\u001b[32m\"\u001b[0m found in caption \u001b[32m\"The fox has a red \u001b[0m\u001b[1;38;2;40;19;19mfur\u001b[0m\u001b[32m with pointed ears and amber eyes.\"\u001b[0m\n"
      ]
     },
     "metadata": {},
     "output_type": "display_data"
    },
    {
     "data": {
      "text/html": [
       "<pre style=\"white-space:pre;overflow-x:auto;line-height:normal;font-family:Menlo,'DejaVu Sans Mono',consolas,'Courier New',monospace\">Tag <span style=\"color: #008000; text-decoration-color: #008000\">\"</span><span style=\"color: #52a5ef; text-decoration-color: #52a5ef; font-weight: bold\">red fur</span><span style=\"color: #008000; text-decoration-color: #008000\">\"</span> found in caption <span style=\"color: #008000; text-decoration-color: #008000\">\"The fox has a </span><span style=\"color: #52a5ef; text-decoration-color: #52a5ef; font-weight: bold\">red fur</span><span style=\"color: #008000; text-decoration-color: #008000\"> with pointed ears and amber eyes.\"</span>\n",
       "</pre>\n"
      ],
      "text/plain": [
       "Tag \u001b[32m\"\u001b[0m\u001b[1;38;2;82;165;239mred fur\u001b[0m\u001b[32m\"\u001b[0m found in caption \u001b[32m\"The fox has a \u001b[0m\u001b[1;38;2;82;165;239mred fur\u001b[0m\u001b[32m with pointed ears and amber eyes.\"\u001b[0m\n"
      ]
     },
     "metadata": {},
     "output_type": "display_data"
    },
    {
     "data": {
      "text/html": [
       "<pre style=\"white-space:pre;overflow-x:auto;line-height:normal;font-family:Menlo,'DejaVu Sans Mono',consolas,'Courier New',monospace\">Tag <span style=\"color: #008000; text-decoration-color: #008000\">\"</span><span style=\"color: #f064cf; text-decoration-color: #f064cf; font-weight: bold\">outline</span><span style=\"color: #008000; text-decoration-color: #008000\">\"</span> found in caption <span style=\"color: #008000; text-decoration-color: #008000\">\"The character has a white </span><span style=\"color: #f064cf; text-decoration-color: #f064cf; font-weight: bold\">outline</span><span style=\"color: #008000; text-decoration-color: #008000\"> around it.\"</span>\n",
       "</pre>\n"
      ],
      "text/plain": [
       "Tag \u001b[32m\"\u001b[0m\u001b[1;38;2;240;100;207moutline\u001b[0m\u001b[32m\"\u001b[0m found in caption \u001b[32m\"The character has a white \u001b[0m\u001b[1;38;2;240;100;207moutline\u001b[0m\u001b[32m around it.\"\u001b[0m\n"
      ]
     },
     "metadata": {},
     "output_type": "display_data"
    },
    {
     "data": {
      "text/html": [
       "<pre style=\"white-space:pre;overflow-x:auto;line-height:normal;font-family:Menlo,'DejaVu Sans Mono',consolas,'Courier New',monospace\">\n",
       "\n",
       "<span style=\"font-weight: bold\">C:\\Users\\kade\\Desktop\\training_dir_staging\\1_furry_sticker\\1e3206f761554e1827e9e2ff1dd2f180.txt</span>\n",
       "\n",
       "</pre>\n"
      ],
      "text/plain": [
       "\n",
       "\n",
       "\u001b[1mC:\\Users\\kade\\Desktop\\training_dir_staging\\1_furry_sticker\\1e3206f761554e1827e9e2ff1dd2f180.txt\u001b[0m\n",
       "\n"
      ]
     },
     "metadata": {},
     "output_type": "display_data"
    },
    {
     "data": {
      "text/html": [
       "<pre style=\"white-space:pre;overflow-x:auto;line-height:normal;font-family:Menlo,'DejaVu Sans Mono',consolas,'Courier New',monospace\">Tag <span style=\"color: #008000; text-decoration-color: #008000\">\"</span><span style=\"color: #1fd57f; text-decoration-color: #1fd57f; font-weight: bold\">furry sticker</span><span style=\"color: #008000; text-decoration-color: #008000\">\"</span> found in caption <span style=\"color: #008000; text-decoration-color: #008000\">\"The </span><span style=\"color: #1fd57f; text-decoration-color: #1fd57f; font-weight: bold\">furry sticker</span><span style=\"color: #008000; text-decoration-color: #008000\"> showcases an animated character that resembles a fluffy </span>\n",
       "<span style=\"color: #008000; text-decoration-color: #008000\">orange cat.\"</span>\n",
       "</pre>\n"
      ],
      "text/plain": [
       "Tag \u001b[32m\"\u001b[0m\u001b[1;38;2;31;213;127mfurry sticker\u001b[0m\u001b[32m\"\u001b[0m found in caption \u001b[32m\"The \u001b[0m\u001b[1;38;2;31;213;127mfurry sticker\u001b[0m\u001b[32m showcases an animated character that resembles a fluffy \u001b[0m\n",
       "\u001b[32morange cat.\"\u001b[0m\n"
      ]
     },
     "metadata": {},
     "output_type": "display_data"
    },
    {
     "data": {
      "text/html": [
       "<pre style=\"white-space:pre;overflow-x:auto;line-height:normal;font-family:Menlo,'DejaVu Sans Mono',consolas,'Courier New',monospace\">Tag <span style=\"color: #008000; text-decoration-color: #008000\">\"</span><span style=\"color: #50a6c2; text-decoration-color: #50a6c2; font-weight: bold\">yarn</span><span style=\"color: #008000; text-decoration-color: #008000\">\"</span> found in caption <span style=\"color: #008000; text-decoration-color: #008000\">\"The cat appears to be playing with a red ball of </span><span style=\"color: #50a6c2; text-decoration-color: #50a6c2; font-weight: bold\">yarn</span><span style=\"color: #008000; text-decoration-color: #008000\"> holding it with both paws and </span>\n",
       "<span style=\"color: #008000; text-decoration-color: #008000\">biting into it.\"</span>\n",
       "</pre>\n"
      ],
      "text/plain": [
       "Tag \u001b[32m\"\u001b[0m\u001b[1;38;2;80;166;194myarn\u001b[0m\u001b[32m\"\u001b[0m found in caption \u001b[32m\"The cat appears to be playing with a red ball of \u001b[0m\u001b[1;38;2;80;166;194myarn\u001b[0m\u001b[32m holding it with both paws and \u001b[0m\n",
       "\u001b[32mbiting into it.\"\u001b[0m\n"
      ]
     },
     "metadata": {},
     "output_type": "display_data"
    },
    {
     "data": {
      "text/html": [
       "<pre style=\"white-space:pre;overflow-x:auto;line-height:normal;font-family:Menlo,'DejaVu Sans Mono',consolas,'Courier New',monospace\">Tag <span style=\"color: #008000; text-decoration-color: #008000\">\"</span><span style=\"color: #09d1c2; text-decoration-color: #09d1c2; font-weight: bold\">paws</span><span style=\"color: #008000; text-decoration-color: #008000\">\"</span> found in caption <span style=\"color: #008000; text-decoration-color: #008000\">\"The cat appears to be playing with a red ball of yarn holding it with both </span><span style=\"color: #09d1c2; text-decoration-color: #09d1c2; font-weight: bold\">paws</span><span style=\"color: #008000; text-decoration-color: #008000\"> and </span>\n",
       "<span style=\"color: #008000; text-decoration-color: #008000\">biting into it.\"</span>\n",
       "</pre>\n"
      ],
      "text/plain": [
       "Tag \u001b[32m\"\u001b[0m\u001b[1;38;2;9;209;194mpaws\u001b[0m\u001b[32m\"\u001b[0m found in caption \u001b[32m\"The cat appears to be playing with a red ball of yarn holding it with both \u001b[0m\u001b[1;38;2;9;209;194mpaws\u001b[0m\u001b[32m and \u001b[0m\n",
       "\u001b[32mbiting into it.\"\u001b[0m\n"
      ]
     },
     "metadata": {},
     "output_type": "display_data"
    },
    {
     "data": {
      "text/html": [
       "<pre style=\"white-space:pre;overflow-x:auto;line-height:normal;font-family:Menlo,'DejaVu Sans Mono',consolas,'Courier New',monospace\">\n",
       "\n",
       "<span style=\"font-weight: bold\">C:\\Users\\kade\\Desktop\\training_dir_staging\\1_furry_sticker\\2ae636ee5a3b5b8240f11ca4b9083435.txt</span>\n",
       "\n",
       "</pre>\n"
      ],
      "text/plain": [
       "\n",
       "\n",
       "\u001b[1mC:\\Users\\kade\\Desktop\\training_dir_staging\\1_furry_sticker\\2ae636ee5a3b5b8240f11ca4b9083435.txt\u001b[0m\n",
       "\n"
      ]
     },
     "metadata": {},
     "output_type": "display_data"
    },
    {
     "data": {
      "text/html": [
       "<pre style=\"white-space:pre;overflow-x:auto;line-height:normal;font-family:Menlo,'DejaVu Sans Mono',consolas,'Courier New',monospace\">Tag <span style=\"color: #008000; text-decoration-color: #008000\">\"</span><span style=\"color: #97d03e; text-decoration-color: #97d03e; font-weight: bold\">halo</span><span style=\"color: #008000; text-decoration-color: #008000\">\"</span> found in caption <span style=\"color: #008000; text-decoration-color: #008000\">\"The character also has a </span><span style=\"color: #97d03e; text-decoration-color: #97d03e; font-weight: bold\">halo</span><span style=\"color: #008000; text-decoration-color: #008000\"> above its head which is a common symbol of purity or </span>\n",
       "<span style=\"color: #008000; text-decoration-color: #008000\">divinity in various cultures.\"</span>\n",
       "</pre>\n"
      ],
      "text/plain": [
       "Tag \u001b[32m\"\u001b[0m\u001b[1;38;2;151;208;62mhalo\u001b[0m\u001b[32m\"\u001b[0m found in caption \u001b[32m\"The character also has a \u001b[0m\u001b[1;38;2;151;208;62mhalo\u001b[0m\u001b[32m above its head which is a common symbol of purity or \u001b[0m\n",
       "\u001b[32mdivinity in various cultures.\"\u001b[0m\n"
      ]
     },
     "metadata": {},
     "output_type": "display_data"
    },
    {
     "data": {
      "text/html": [
       "<pre style=\"white-space:pre;overflow-x:auto;line-height:normal;font-family:Menlo,'DejaVu Sans Mono',consolas,'Courier New',monospace\">Tag <span style=\"color: #008000; text-decoration-color: #008000\">\"</span><span style=\"color: #1cbea3; text-decoration-color: #1cbea3; font-weight: bold\">eyes closed</span><span style=\"color: #008000; text-decoration-color: #008000\">\"</span> found in caption <span style=\"color: #008000; text-decoration-color: #008000\">\"It has a playful expression with its </span><span style=\"color: #1cbea3; text-decoration-color: #1cbea3; font-weight: bold\">eyes closed</span><span style=\"color: #008000; text-decoration-color: #008000\"> and a slight smile.\"</span>\n",
       "</pre>\n"
      ],
      "text/plain": [
       "Tag \u001b[32m\"\u001b[0m\u001b[1;38;2;28;190;163meyes closed\u001b[0m\u001b[32m\"\u001b[0m found in caption \u001b[32m\"It has a playful expression with its \u001b[0m\u001b[1;38;2;28;190;163meyes closed\u001b[0m\u001b[32m and a slight smile.\"\u001b[0m\n"
      ]
     },
     "metadata": {},
     "output_type": "display_data"
    },
    {
     "data": {
      "text/html": [
       "<pre style=\"white-space:pre;overflow-x:auto;line-height:normal;font-family:Menlo,'DejaVu Sans Mono',consolas,'Courier New',monospace\">Tag <span style=\"color: #008000; text-decoration-color: #008000\">\"</span><span style=\"color: #6d91b0; text-decoration-color: #6d91b0; font-weight: bold\">anthro</span><span style=\"color: #008000; text-decoration-color: #008000\">\"</span> found in caption <span style=\"color: #008000; text-decoration-color: #008000\">\"The image depicts an animated character resembling an </span><span style=\"color: #6d91b0; text-decoration-color: #6d91b0; font-weight: bold\">anthro</span><span style=\"color: #008000; text-decoration-color: #008000\"> canine with black and </span>\n",
       "<span style=\"color: #008000; text-decoration-color: #008000\">gray fur.\"</span>\n",
       "</pre>\n"
      ],
      "text/plain": [
       "Tag \u001b[32m\"\u001b[0m\u001b[1;38;2;109;145;176manthro\u001b[0m\u001b[32m\"\u001b[0m found in caption \u001b[32m\"The image depicts an animated character resembling an \u001b[0m\u001b[1;38;2;109;145;176manthro\u001b[0m\u001b[32m canine with black and \u001b[0m\n",
       "\u001b[32mgray fur.\"\u001b[0m\n"
      ]
     },
     "metadata": {},
     "output_type": "display_data"
    },
    {
     "data": {
      "text/html": [
       "<pre style=\"white-space:pre;overflow-x:auto;line-height:normal;font-family:Menlo,'DejaVu Sans Mono',consolas,'Courier New',monospace\">Tag <span style=\"color: #008000; text-decoration-color: #008000\">\"</span><span style=\"color: #3f18ab; text-decoration-color: #3f18ab; font-weight: bold\">fur</span><span style=\"color: #008000; text-decoration-color: #008000\">\"</span> found in caption <span style=\"color: #008000; text-decoration-color: #008000\">\"The image depicts an animated character resembling an anthro canine with black and gray</span>\n",
       "<span style=\"color: #3f18ab; text-decoration-color: #3f18ab; font-weight: bold\">fur</span><span style=\"color: #008000; text-decoration-color: #008000\">.\"</span>\n",
       "</pre>\n"
      ],
      "text/plain": [
       "Tag \u001b[32m\"\u001b[0m\u001b[1;38;2;63;24;171mfur\u001b[0m\u001b[32m\"\u001b[0m found in caption \u001b[32m\"The image depicts an animated character resembling an anthro canine with black and gray\u001b[0m\n",
       "\u001b[1;38;2;63;24;171mfur\u001b[0m\u001b[32m.\"\u001b[0m\n"
      ]
     },
     "metadata": {},
     "output_type": "display_data"
    },
    {
     "data": {
      "text/html": [
       "<pre style=\"white-space:pre;overflow-x:auto;line-height:normal;font-family:Menlo,'DejaVu Sans Mono',consolas,'Courier New',monospace\">Tag <span style=\"color: #008000; text-decoration-color: #008000\">\"</span><span style=\"color: #3365ab; text-decoration-color: #3365ab; font-weight: bold\">canine</span><span style=\"color: #008000; text-decoration-color: #008000\">\"</span> found in caption <span style=\"color: #008000; text-decoration-color: #008000\">\"The image depicts an animated character resembling an anthro </span><span style=\"color: #3365ab; text-decoration-color: #3365ab; font-weight: bold\">canine</span><span style=\"color: #008000; text-decoration-color: #008000\"> with black and </span>\n",
       "<span style=\"color: #008000; text-decoration-color: #008000\">gray fur.\"</span>\n",
       "</pre>\n"
      ],
      "text/plain": [
       "Tag \u001b[32m\"\u001b[0m\u001b[1;38;2;51;101;171mcanine\u001b[0m\u001b[32m\"\u001b[0m found in caption \u001b[32m\"The image depicts an animated character resembling an anthro \u001b[0m\u001b[1;38;2;51;101;171mcanine\u001b[0m\u001b[32m with black and \u001b[0m\n",
       "\u001b[32mgray fur.\"\u001b[0m\n"
      ]
     },
     "metadata": {},
     "output_type": "display_data"
    },
    {
     "data": {
      "text/html": [
       "<pre style=\"white-space:pre;overflow-x:auto;line-height:normal;font-family:Menlo,'DejaVu Sans Mono',consolas,'Courier New',monospace\">Tag <span style=\"color: #008000; text-decoration-color: #008000\">\"</span><span style=\"color: #3acf3c; text-decoration-color: #3acf3c; font-weight: bold\">smile</span><span style=\"color: #008000; text-decoration-color: #008000\">\"</span> found in caption <span style=\"color: #008000; text-decoration-color: #008000\">\"It has a playful expression with its eyes closed and a slight </span><span style=\"color: #3acf3c; text-decoration-color: #3acf3c; font-weight: bold\">smile</span><span style=\"color: #008000; text-decoration-color: #008000\">.\"</span>\n",
       "</pre>\n"
      ],
      "text/plain": [
       "Tag \u001b[32m\"\u001b[0m\u001b[1;38;2;58;207;60msmile\u001b[0m\u001b[32m\"\u001b[0m found in caption \u001b[32m\"It has a playful expression with its eyes closed and a slight \u001b[0m\u001b[1;38;2;58;207;60msmile\u001b[0m\u001b[32m.\"\u001b[0m\n"
      ]
     },
     "metadata": {},
     "output_type": "display_data"
    },
    {
     "data": {
      "text/html": [
       "<pre style=\"white-space:pre;overflow-x:auto;line-height:normal;font-family:Menlo,'DejaVu Sans Mono',consolas,'Courier New',monospace\">\n",
       "\n",
       "<span style=\"font-weight: bold\">C:\\Users\\kade\\Desktop\\training_dir_staging\\1_furry_sticker\\2b95b2d52c86f274dbe76eb23f5230d6.txt</span>\n",
       "\n",
       "</pre>\n"
      ],
      "text/plain": [
       "\n",
       "\n",
       "\u001b[1mC:\\Users\\kade\\Desktop\\training_dir_staging\\1_furry_sticker\\2b95b2d52c86f274dbe76eb23f5230d6.txt\u001b[0m\n",
       "\n"
      ]
     },
     "metadata": {},
     "output_type": "display_data"
    },
    {
     "data": {
      "text/html": [
       "<pre style=\"white-space:pre;overflow-x:auto;line-height:normal;font-family:Menlo,'DejaVu Sans Mono',consolas,'Courier New',monospace\">Tag <span style=\"color: #008000; text-decoration-color: #008000\">\"</span><span style=\"color: #8e3043; text-decoration-color: #8e3043; font-weight: bold\">collar</span><span style=\"color: #008000; text-decoration-color: #008000\">\"</span> found in caption <span style=\"color: #008000; text-decoration-color: #008000\">\"It has green eyes and a pink </span><span style=\"color: #8e3043; text-decoration-color: #8e3043; font-weight: bold\">collar</span><span style=\"color: #008000; text-decoration-color: #008000\">.\"</span>\n",
       "</pre>\n"
      ],
      "text/plain": [
       "Tag \u001b[32m\"\u001b[0m\u001b[1;38;2;142;48;67mcollar\u001b[0m\u001b[32m\"\u001b[0m found in caption \u001b[32m\"It has green eyes and a pink \u001b[0m\u001b[1;38;2;142;48;67mcollar\u001b[0m\u001b[32m.\"\u001b[0m\n"
      ]
     },
     "metadata": {},
     "output_type": "display_data"
    },
    {
     "data": {
      "text/html": [
       "<pre style=\"white-space:pre;overflow-x:auto;line-height:normal;font-family:Menlo,'DejaVu Sans Mono',consolas,'Courier New',monospace\">Tag <span style=\"color: #008000; text-decoration-color: #008000\">\"</span><span style=\"color: #e9a86a; text-decoration-color: #e9a86a; font-weight: bold\">anthro</span><span style=\"color: #008000; text-decoration-color: #008000\">\"</span> found in caption <span style=\"color: #008000; text-decoration-color: #008000\">\"The image depicts an animated character with the appearance of an </span><span style=\"color: #e9a86a; text-decoration-color: #e9a86a; font-weight: bold\">anthro</span><span style=\"color: #008000; text-decoration-color: #008000\"> tabby cat.\"</span>\n",
       "</pre>\n"
      ],
      "text/plain": [
       "Tag \u001b[32m\"\u001b[0m\u001b[1;38;2;233;168;106manthro\u001b[0m\u001b[32m\"\u001b[0m found in caption \u001b[32m\"The image depicts an animated character with the appearance of an \u001b[0m\u001b[1;38;2;233;168;106manthro\u001b[0m\u001b[32m tabby cat.\"\u001b[0m\n"
      ]
     },
     "metadata": {},
     "output_type": "display_data"
    },
    {
     "data": {
      "text/html": [
       "<pre style=\"white-space:pre;overflow-x:auto;line-height:normal;font-family:Menlo,'DejaVu Sans Mono',consolas,'Courier New',monospace\">Tag <span style=\"color: #008000; text-decoration-color: #008000\">\"</span><span style=\"color: #54d80e; text-decoration-color: #54d80e; font-weight: bold\">green eyes</span><span style=\"color: #008000; text-decoration-color: #008000\">\"</span> found in caption <span style=\"color: #008000; text-decoration-color: #008000\">\"It has </span><span style=\"color: #54d80e; text-decoration-color: #54d80e; font-weight: bold\">green eyes</span><span style=\"color: #008000; text-decoration-color: #008000\"> and a pink collar.\"</span>\n",
       "</pre>\n"
      ],
      "text/plain": [
       "Tag \u001b[32m\"\u001b[0m\u001b[1;38;2;84;216;14mgreen eyes\u001b[0m\u001b[32m\"\u001b[0m found in caption \u001b[32m\"It has \u001b[0m\u001b[1;38;2;84;216;14mgreen eyes\u001b[0m\u001b[32m and a pink collar.\"\u001b[0m\n"
      ]
     },
     "metadata": {},
     "output_type": "display_data"
    },
    {
     "data": {
      "text/html": [
       "<pre style=\"white-space:pre;overflow-x:auto;line-height:normal;font-family:Menlo,'DejaVu Sans Mono',consolas,'Courier New',monospace\">Tag <span style=\"color: #008000; text-decoration-color: #008000\">\"</span><span style=\"color: #52df0f; text-decoration-color: #52df0f; font-weight: bold\">cup</span><span style=\"color: #008000; text-decoration-color: #008000\">\"</span> found in caption <span style=\"color: #008000; text-decoration-color: #008000\">\"It is holding a white </span><span style=\"color: #52df0f; text-decoration-color: #52df0f; font-weight: bold\">cup</span><span style=\"color: #008000; text-decoration-color: #008000\"> containing a hot beverage as evidenced by the steam rising </span>\n",
       "<span style=\"color: #008000; text-decoration-color: #008000\">from it.\"</span>\n",
       "</pre>\n"
      ],
      "text/plain": [
       "Tag \u001b[32m\"\u001b[0m\u001b[1;38;2;82;223;15mcup\u001b[0m\u001b[32m\"\u001b[0m found in caption \u001b[32m\"It is holding a white \u001b[0m\u001b[1;38;2;82;223;15mcup\u001b[0m\u001b[32m containing a hot beverage as evidenced by the steam rising \u001b[0m\n",
       "\u001b[32mfrom it.\"\u001b[0m\n"
      ]
     },
     "metadata": {},
     "output_type": "display_data"
    },
    {
     "data": {
      "text/html": [
       "<pre style=\"white-space:pre;overflow-x:auto;line-height:normal;font-family:Menlo,'DejaVu Sans Mono',consolas,'Courier New',monospace\">Tag <span style=\"color: #008000; text-decoration-color: #008000\">\"</span><span style=\"color: #c0031b; text-decoration-color: #c0031b; font-weight: bold\">beverage</span><span style=\"color: #008000; text-decoration-color: #008000\">\"</span> found in caption <span style=\"color: #008000; text-decoration-color: #008000\">\"It is holding a white cup containing a hot </span><span style=\"color: #c0031b; text-decoration-color: #c0031b; font-weight: bold\">beverage</span><span style=\"color: #008000; text-decoration-color: #008000\"> as evidenced by the steam </span>\n",
       "<span style=\"color: #008000; text-decoration-color: #008000\">rising from it.\"</span>\n",
       "</pre>\n"
      ],
      "text/plain": [
       "Tag \u001b[32m\"\u001b[0m\u001b[1;38;2;192;3;27mbeverage\u001b[0m\u001b[32m\"\u001b[0m found in caption \u001b[32m\"It is holding a white cup containing a hot \u001b[0m\u001b[1;38;2;192;3;27mbeverage\u001b[0m\u001b[32m as evidenced by the steam \u001b[0m\n",
       "\u001b[32mrising from it.\"\u001b[0m\n"
      ]
     },
     "metadata": {},
     "output_type": "display_data"
    },
    {
     "data": {
      "text/html": [
       "<pre style=\"white-space:pre;overflow-x:auto;line-height:normal;font-family:Menlo,'DejaVu Sans Mono',consolas,'Courier New',monospace\">\n",
       "\n",
       "<span style=\"font-weight: bold\">C:\\Users\\kade\\Desktop\\training_dir_staging\\1_furry_sticker\\2d7427d4c1f515b063211ae7605dfe94.txt</span>\n",
       "\n",
       "</pre>\n"
      ],
      "text/plain": [
       "\n",
       "\n",
       "\u001b[1mC:\\Users\\kade\\Desktop\\training_dir_staging\\1_furry_sticker\\2d7427d4c1f515b063211ae7605dfe94.txt\u001b[0m\n",
       "\n"
      ]
     },
     "metadata": {},
     "output_type": "display_data"
    },
    {
     "data": {
      "text/html": [
       "<pre style=\"white-space:pre;overflow-x:auto;line-height:normal;font-family:Menlo,'DejaVu Sans Mono',consolas,'Courier New',monospace\">Tag <span style=\"color: #008000; text-decoration-color: #008000\">\"</span><span style=\"color: #89f500; text-decoration-color: #89f500; font-weight: bold\">anthro</span><span style=\"color: #008000; text-decoration-color: #008000\">\"</span> found in caption <span style=\"color: #008000; text-decoration-color: #008000\">\"The image showcases an cartoony </span><span style=\"color: #89f500; text-decoration-color: #89f500; font-weight: bold\">anthro</span><span style=\"color: #008000; text-decoration-color: #008000\"> panther.\"</span>\n",
       "</pre>\n"
      ],
      "text/plain": [
       "Tag \u001b[32m\"\u001b[0m\u001b[1;38;2;137;245;0manthro\u001b[0m\u001b[32m\"\u001b[0m found in caption \u001b[32m\"The image showcases an cartoony \u001b[0m\u001b[1;38;2;137;245;0manthro\u001b[0m\u001b[32m panther.\"\u001b[0m\n"
      ]
     },
     "metadata": {},
     "output_type": "display_data"
    },
    {
     "data": {
      "text/html": [
       "<pre style=\"white-space:pre;overflow-x:auto;line-height:normal;font-family:Menlo,'DejaVu Sans Mono',consolas,'Courier New',monospace\">Tag <span style=\"color: #008000; text-decoration-color: #008000\">\"</span><span style=\"color: #8757a0; text-decoration-color: #8757a0; font-weight: bold\">outline</span><span style=\"color: #008000; text-decoration-color: #008000\">\"</span> found in caption <span style=\"color: #008000; text-decoration-color: #008000\">\"The character has a white </span><span style=\"color: #8757a0; text-decoration-color: #8757a0; font-weight: bold\">outline</span><span style=\"color: #008000; text-decoration-color: #008000\"> around it.\"</span>\n",
       "</pre>\n"
      ],
      "text/plain": [
       "Tag \u001b[32m\"\u001b[0m\u001b[1;38;2;135;87;160moutline\u001b[0m\u001b[32m\"\u001b[0m found in caption \u001b[32m\"The character has a white \u001b[0m\u001b[1;38;2;135;87;160moutline\u001b[0m\u001b[32m around it.\"\u001b[0m\n"
      ]
     },
     "metadata": {},
     "output_type": "display_data"
    },
    {
     "data": {
      "text/html": [
       "<pre style=\"white-space:pre;overflow-x:auto;line-height:normal;font-family:Menlo,'DejaVu Sans Mono',consolas,'Courier New',monospace\">\n",
       "\n",
       "<span style=\"font-weight: bold\">C:\\Users\\kade\\Desktop\\training_dir_staging\\1_furry_sticker\\2dbc05b0a9a9053fbfb97a94f20689a8.txt</span>\n",
       "\n",
       "</pre>\n"
      ],
      "text/plain": [
       "\n",
       "\n",
       "\u001b[1mC:\\Users\\kade\\Desktop\\training_dir_staging\\1_furry_sticker\\2dbc05b0a9a9053fbfb97a94f20689a8.txt\u001b[0m\n",
       "\n"
      ]
     },
     "metadata": {},
     "output_type": "display_data"
    },
    {
     "data": {
      "text/html": [
       "<pre style=\"white-space:pre;overflow-x:auto;line-height:normal;font-family:Menlo,'DejaVu Sans Mono',consolas,'Courier New',monospace\">Tag <span style=\"color: #008000; text-decoration-color: #008000\">\"</span><span style=\"color: #850c13; text-decoration-color: #850c13; font-weight: bold\">tongue</span><span style=\"color: #008000; text-decoration-color: #008000\">\"</span> found in caption <span style=\"color: #008000; text-decoration-color: #008000\">\"The character has a playful expression with its </span><span style=\"color: #850c13; text-decoration-color: #850c13; font-weight: bold\">tongue</span><span style=\"color: #008000; text-decoration-color: #008000\"> sticking out and a </span>\n",
       "<span style=\"color: #008000; text-decoration-color: #008000\">mischievous glint in its eyes which are squished in a silly manner.\"</span>\n",
       "</pre>\n"
      ],
      "text/plain": [
       "Tag \u001b[32m\"\u001b[0m\u001b[1;38;2;133;12;19mtongue\u001b[0m\u001b[32m\"\u001b[0m found in caption \u001b[32m\"The character has a playful expression with its \u001b[0m\u001b[1;38;2;133;12;19mtongue\u001b[0m\u001b[32m sticking out and a \u001b[0m\n",
       "\u001b[32mmischievous glint in its eyes which are squished in a silly manner.\"\u001b[0m\n"
      ]
     },
     "metadata": {},
     "output_type": "display_data"
    },
    {
     "data": {
      "text/html": [
       "<pre style=\"white-space:pre;overflow-x:auto;line-height:normal;font-family:Menlo,'DejaVu Sans Mono',consolas,'Courier New',monospace\">Tag <span style=\"color: #008000; text-decoration-color: #008000\">\"</span><span style=\"color: #8bcce9; text-decoration-color: #8bcce9; font-weight: bold\">fur</span><span style=\"color: #008000; text-decoration-color: #008000\">\"</span> found in caption <span style=\"color: #008000; text-decoration-color: #008000\">\"The </span><span style=\"color: #8bcce9; text-decoration-color: #8bcce9; font-weight: bold\">fur</span><span style=\"color: #008000; text-decoration-color: #008000\"> color is a mix of gray and white with black highlights and it has pointed </span>\n",
       "<span style=\"color: #008000; text-decoration-color: #008000\">ears.\"</span>\n",
       "</pre>\n"
      ],
      "text/plain": [
       "Tag \u001b[32m\"\u001b[0m\u001b[1;38;2;139;204;233mfur\u001b[0m\u001b[32m\"\u001b[0m found in caption \u001b[32m\"The \u001b[0m\u001b[1;38;2;139;204;233mfur\u001b[0m\u001b[32m color is a mix of gray and white with black highlights and it has pointed \u001b[0m\n",
       "\u001b[32mears.\"\u001b[0m\n"
      ]
     },
     "metadata": {},
     "output_type": "display_data"
    },
    {
     "data": {
      "text/html": [
       "<pre style=\"white-space:pre;overflow-x:auto;line-height:normal;font-family:Menlo,'DejaVu Sans Mono',consolas,'Courier New',monospace\">Tag <span style=\"color: #008000; text-decoration-color: #008000\">\"</span><span style=\"color: #aceb9f; text-decoration-color: #aceb9f; font-weight: bold\">anthro</span><span style=\"color: #008000; text-decoration-color: #008000\">\"</span> found in caption <span style=\"color: #008000; text-decoration-color: #008000\">\"The image depicts a cartoonish </span><span style=\"color: #aceb9f; text-decoration-color: #aceb9f; font-weight: bold\">anthro</span><span style=\"color: #008000; text-decoration-color: #008000\"> canine.\"</span>\n",
       "</pre>\n"
      ],
      "text/plain": [
       "Tag \u001b[32m\"\u001b[0m\u001b[1;38;2;172;235;159manthro\u001b[0m\u001b[32m\"\u001b[0m found in caption \u001b[32m\"The image depicts a cartoonish \u001b[0m\u001b[1;38;2;172;235;159manthro\u001b[0m\u001b[32m canine.\"\u001b[0m\n"
      ]
     },
     "metadata": {},
     "output_type": "display_data"
    },
    {
     "data": {
      "text/html": [
       "<pre style=\"white-space:pre;overflow-x:auto;line-height:normal;font-family:Menlo,'DejaVu Sans Mono',consolas,'Courier New',monospace\">Tag <span style=\"color: #008000; text-decoration-color: #008000\">\"</span><span style=\"color: #94cc97; text-decoration-color: #94cc97; font-weight: bold\">canine</span><span style=\"color: #008000; text-decoration-color: #008000\">\"</span> found in caption <span style=\"color: #008000; text-decoration-color: #008000\">\"The image depicts a cartoonish anthro </span><span style=\"color: #94cc97; text-decoration-color: #94cc97; font-weight: bold\">canine</span><span style=\"color: #008000; text-decoration-color: #008000\">.\"</span>\n",
       "</pre>\n"
      ],
      "text/plain": [
       "Tag \u001b[32m\"\u001b[0m\u001b[1;38;2;148;204;151mcanine\u001b[0m\u001b[32m\"\u001b[0m found in caption \u001b[32m\"The image depicts a cartoonish anthro \u001b[0m\u001b[1;38;2;148;204;151mcanine\u001b[0m\u001b[32m.\"\u001b[0m\n"
      ]
     },
     "metadata": {},
     "output_type": "display_data"
    },
    {
     "data": {
      "text/html": [
       "<pre style=\"white-space:pre;overflow-x:auto;line-height:normal;font-family:Menlo,'DejaVu Sans Mono',consolas,'Courier New',monospace\">\n",
       "\n",
       "<span style=\"font-weight: bold\">C:\\Users\\kade\\Desktop\\training_dir_staging\\1_furry_sticker\\2ecb7e60de62a4cd44b60b342e6fae90.txt</span>\n",
       "\n",
       "</pre>\n"
      ],
      "text/plain": [
       "\n",
       "\n",
       "\u001b[1mC:\\Users\\kade\\Desktop\\training_dir_staging\\1_furry_sticker\\2ecb7e60de62a4cd44b60b342e6fae90.txt\u001b[0m\n",
       "\n"
      ]
     },
     "metadata": {},
     "output_type": "display_data"
    },
    {
     "data": {
      "text/html": [
       "<pre style=\"white-space:pre;overflow-x:auto;line-height:normal;font-family:Menlo,'DejaVu Sans Mono',consolas,'Courier New',monospace\">Tag <span style=\"color: #008000; text-decoration-color: #008000\">\"</span><span style=\"color: #c6f6a9; text-decoration-color: #c6f6a9; font-weight: bold\">fox</span><span style=\"color: #008000; text-decoration-color: #008000\">\"</span> found in caption <span style=\"color: #008000; text-decoration-color: #008000\">\"The image portrays an animated anthro </span><span style=\"color: #c6f6a9; text-decoration-color: #c6f6a9; font-weight: bold\">fox</span><span style=\"color: #008000; text-decoration-color: #008000\"> character standing upright with its arms </span>\n",
       "<span style=\"color: #008000; text-decoration-color: #008000\">raised in a celebratory manner.\"</span>\n",
       "</pre>\n"
      ],
      "text/plain": [
       "Tag \u001b[32m\"\u001b[0m\u001b[1;38;2;198;246;169mfox\u001b[0m\u001b[32m\"\u001b[0m found in caption \u001b[32m\"The image portrays an animated anthro \u001b[0m\u001b[1;38;2;198;246;169mfox\u001b[0m\u001b[32m character standing upright with its arms \u001b[0m\n",
       "\u001b[32mraised in a celebratory manner.\"\u001b[0m\n"
      ]
     },
     "metadata": {},
     "output_type": "display_data"
    },
    {
     "data": {
      "text/html": [
       "<pre style=\"white-space:pre;overflow-x:auto;line-height:normal;font-family:Menlo,'DejaVu Sans Mono',consolas,'Courier New',monospace\">Tag <span style=\"color: #008000; text-decoration-color: #008000\">\"</span><span style=\"color: #6f4ea4; text-decoration-color: #6f4ea4; font-weight: bold\">fox</span><span style=\"color: #008000; text-decoration-color: #008000\">\"</span> found in caption <span style=\"color: #008000; text-decoration-color: #008000\">\"The </span><span style=\"color: #6f4ea4; text-decoration-color: #6f4ea4; font-weight: bold\">fox</span><span style=\"color: #008000; text-decoration-color: #008000\"> has a red fur coat with white underbelly and a red tail with a white tip.\"</span>\n",
       "</pre>\n"
      ],
      "text/plain": [
       "Tag \u001b[32m\"\u001b[0m\u001b[1;38;2;111;78;164mfox\u001b[0m\u001b[32m\"\u001b[0m found in caption \u001b[32m\"The \u001b[0m\u001b[1;38;2;111;78;164mfox\u001b[0m\u001b[32m has a red fur coat with white underbelly and a red tail with a white tip.\"\u001b[0m\n"
      ]
     },
     "metadata": {},
     "output_type": "display_data"
    },
    {
     "data": {
      "text/html": [
       "<pre style=\"white-space:pre;overflow-x:auto;line-height:normal;font-family:Menlo,'DejaVu Sans Mono',consolas,'Courier New',monospace\">Tag <span style=\"color: #008000; text-decoration-color: #008000\">\"</span><span style=\"color: #906a14; text-decoration-color: #906a14; font-weight: bold\">fox</span><span style=\"color: #008000; text-decoration-color: #008000\">\"</span> found in caption <span style=\"color: #008000; text-decoration-color: #008000\">\"Above the </span><span style=\"color: #906a14; text-decoration-color: #906a14; font-weight: bold\">fox</span><span style=\"color: #008000; text-decoration-color: #008000\"> there's a word 'YAY!' written in black with a large white outline </span>\n",
       "<span style=\"color: #008000; text-decoration-color: #008000\">emphasizing its celebratory mood.\"</span>\n",
       "</pre>\n"
      ],
      "text/plain": [
       "Tag \u001b[32m\"\u001b[0m\u001b[1;38;2;144;106;20mfox\u001b[0m\u001b[32m\"\u001b[0m found in caption \u001b[32m\"Above the \u001b[0m\u001b[1;38;2;144;106;20mfox\u001b[0m\u001b[32m there's a word 'YAY!' written in black with a large white outline \u001b[0m\n",
       "\u001b[32memphasizing its celebratory mood.\"\u001b[0m\n"
      ]
     },
     "metadata": {},
     "output_type": "display_data"
    },
    {
     "data": {
      "text/html": [
       "<pre style=\"white-space:pre;overflow-x:auto;line-height:normal;font-family:Menlo,'DejaVu Sans Mono',consolas,'Courier New',monospace\">Tag <span style=\"color: #008000; text-decoration-color: #008000\">\"</span><span style=\"color: #6950f4; text-decoration-color: #6950f4; font-weight: bold\">anthro</span><span style=\"color: #008000; text-decoration-color: #008000\">\"</span> found in caption <span style=\"color: #008000; text-decoration-color: #008000\">\"The image portrays an animated </span><span style=\"color: #6950f4; text-decoration-color: #6950f4; font-weight: bold\">anthro</span><span style=\"color: #008000; text-decoration-color: #008000\"> fox character standing upright with its arms </span>\n",
       "<span style=\"color: #008000; text-decoration-color: #008000\">raised in a celebratory manner.\"</span>\n",
       "</pre>\n"
      ],
      "text/plain": [
       "Tag \u001b[32m\"\u001b[0m\u001b[1;38;2;105;80;244manthro\u001b[0m\u001b[32m\"\u001b[0m found in caption \u001b[32m\"The image portrays an animated \u001b[0m\u001b[1;38;2;105;80;244manthro\u001b[0m\u001b[32m fox character standing upright with its arms \u001b[0m\n",
       "\u001b[32mraised in a celebratory manner.\"\u001b[0m\n"
      ]
     },
     "metadata": {},
     "output_type": "display_data"
    },
    {
     "data": {
      "text/html": [
       "<pre style=\"white-space:pre;overflow-x:auto;line-height:normal;font-family:Menlo,'DejaVu Sans Mono',consolas,'Courier New',monospace\">Tag <span style=\"color: #008000; text-decoration-color: #008000\">\"</span><span style=\"color: #5cb96f; text-decoration-color: #5cb96f; font-weight: bold\">fur</span><span style=\"color: #008000; text-decoration-color: #008000\">\"</span> found in caption <span style=\"color: #008000; text-decoration-color: #008000\">\"The fox has a red </span><span style=\"color: #5cb96f; text-decoration-color: #5cb96f; font-weight: bold\">fur</span><span style=\"color: #008000; text-decoration-color: #008000\"> coat with white underbelly and a red tail with a white tip.\"</span>\n",
       "</pre>\n"
      ],
      "text/plain": [
       "Tag \u001b[32m\"\u001b[0m\u001b[1;38;2;92;185;111mfur\u001b[0m\u001b[32m\"\u001b[0m found in caption \u001b[32m\"The fox has a red \u001b[0m\u001b[1;38;2;92;185;111mfur\u001b[0m\u001b[32m coat with white underbelly and a red tail with a white tip.\"\u001b[0m\n"
      ]
     },
     "metadata": {},
     "output_type": "display_data"
    },
    {
     "data": {
      "text/html": [
       "<pre style=\"white-space:pre;overflow-x:auto;line-height:normal;font-family:Menlo,'DejaVu Sans Mono',consolas,'Courier New',monospace\">Tag <span style=\"color: #008000; text-decoration-color: #008000\">\"</span><span style=\"color: #050832; text-decoration-color: #050832; font-weight: bold\">red fur</span><span style=\"color: #008000; text-decoration-color: #008000\">\"</span> found in caption <span style=\"color: #008000; text-decoration-color: #008000\">\"The fox has a </span><span style=\"color: #050832; text-decoration-color: #050832; font-weight: bold\">red fur</span><span style=\"color: #008000; text-decoration-color: #008000\"> coat with white underbelly and a red tail with a white tip.\"</span>\n",
       "</pre>\n"
      ],
      "text/plain": [
       "Tag \u001b[32m\"\u001b[0m\u001b[1;38;2;5;8;50mred fur\u001b[0m\u001b[32m\"\u001b[0m found in caption \u001b[32m\"The fox has a \u001b[0m\u001b[1;38;2;5;8;50mred fur\u001b[0m\u001b[32m coat with white underbelly and a red tail with a white tip.\"\u001b[0m\n"
      ]
     },
     "metadata": {},
     "output_type": "display_data"
    },
    {
     "data": {
      "text/html": [
       "<pre style=\"white-space:pre;overflow-x:auto;line-height:normal;font-family:Menlo,'DejaVu Sans Mono',consolas,'Courier New',monospace\">Tag <span style=\"color: #008000; text-decoration-color: #008000\">\"</span><span style=\"color: #1d0a96; text-decoration-color: #1d0a96; font-weight: bold\">outline</span><span style=\"color: #008000; text-decoration-color: #008000\">\"</span> found in caption <span style=\"color: #008000; text-decoration-color: #008000\">\"Above the fox there's a word 'YAY!' written in black with a large white </span><span style=\"color: #1d0a96; text-decoration-color: #1d0a96; font-weight: bold\">outline</span><span style=\"color: #008000; text-decoration-color: #008000\"> </span>\n",
       "<span style=\"color: #008000; text-decoration-color: #008000\">emphasizing its celebratory mood.\"</span>\n",
       "</pre>\n"
      ],
      "text/plain": [
       "Tag \u001b[32m\"\u001b[0m\u001b[1;38;2;29;10;150moutline\u001b[0m\u001b[32m\"\u001b[0m found in caption \u001b[32m\"Above the fox there's a word 'YAY!' written in black with a large white \u001b[0m\u001b[1;38;2;29;10;150moutline\u001b[0m\u001b[32m \u001b[0m\n",
       "\u001b[32memphasizing its celebratory mood.\"\u001b[0m\n"
      ]
     },
     "metadata": {},
     "output_type": "display_data"
    },
    {
     "data": {
      "text/html": [
       "<pre style=\"white-space:pre;overflow-x:auto;line-height:normal;font-family:Menlo,'DejaVu Sans Mono',consolas,'Courier New',monospace\">Tag <span style=\"color: #008000; text-decoration-color: #008000\">\"</span><span style=\"color: #8e4c70; text-decoration-color: #8e4c70; font-weight: bold\">outline</span><span style=\"color: #008000; text-decoration-color: #008000\">\"</span> found in caption <span style=\"color: #008000; text-decoration-color: #008000\">\"The character has a white </span><span style=\"color: #8e4c70; text-decoration-color: #8e4c70; font-weight: bold\">outline</span><span style=\"color: #008000; text-decoration-color: #008000\"> around it.\"</span>\n",
       "</pre>\n"
      ],
      "text/plain": [
       "Tag \u001b[32m\"\u001b[0m\u001b[1;38;2;142;76;112moutline\u001b[0m\u001b[32m\"\u001b[0m found in caption \u001b[32m\"The character has a white \u001b[0m\u001b[1;38;2;142;76;112moutline\u001b[0m\u001b[32m around it.\"\u001b[0m\n"
      ]
     },
     "metadata": {},
     "output_type": "display_data"
    },
    {
     "data": {
      "text/html": [
       "<pre style=\"white-space:pre;overflow-x:auto;line-height:normal;font-family:Menlo,'DejaVu Sans Mono',consolas,'Courier New',monospace\">Tag <span style=\"color: #008000; text-decoration-color: #008000\">\"</span><span style=\"color: #a67208; text-decoration-color: #a67208; font-weight: bold\">smile</span><span style=\"color: #008000; text-decoration-color: #008000\">\"</span> found in caption <span style=\"color: #008000; text-decoration-color: #008000\">\"It has big open-mouthed </span><span style=\"color: #a67208; text-decoration-color: #a67208; font-weight: bold\">smile</span><span style=\"color: #008000; text-decoration-color: #008000\"> indicating excitement or joy.\"</span>\n",
       "</pre>\n"
      ],
      "text/plain": [
       "Tag \u001b[32m\"\u001b[0m\u001b[1;38;2;166;114;8msmile\u001b[0m\u001b[32m\"\u001b[0m found in caption \u001b[32m\"It has big open-mouthed \u001b[0m\u001b[1;38;2;166;114;8msmile\u001b[0m\u001b[32m indicating excitement or joy.\"\u001b[0m\n"
      ]
     },
     "metadata": {},
     "output_type": "display_data"
    },
    {
     "data": {
      "text/html": [
       "<pre style=\"white-space:pre;overflow-x:auto;line-height:normal;font-family:Menlo,'DejaVu Sans Mono',consolas,'Courier New',monospace\">Tag <span style=\"color: #008000; text-decoration-color: #008000\">\"</span><span style=\"color: #6e9203; text-decoration-color: #6e9203; font-weight: bold\">tail</span><span style=\"color: #008000; text-decoration-color: #008000\">\"</span> found in caption <span style=\"color: #008000; text-decoration-color: #008000\">\"The fox has a red fur coat with white underbelly and a red </span><span style=\"color: #6e9203; text-decoration-color: #6e9203; font-weight: bold\">tail</span><span style=\"color: #008000; text-decoration-color: #008000\"> with a white tip.\"</span>\n",
       "</pre>\n"
      ],
      "text/plain": [
       "Tag \u001b[32m\"\u001b[0m\u001b[1;38;2;110;146;3mtail\u001b[0m\u001b[32m\"\u001b[0m found in caption \u001b[32m\"The fox has a red fur coat with white underbelly and a red \u001b[0m\u001b[1;38;2;110;146;3mtail\u001b[0m\u001b[32m with a white tip.\"\u001b[0m\n"
      ]
     },
     "metadata": {},
     "output_type": "display_data"
    },
    {
     "data": {
      "text/html": [
       "<pre style=\"white-space:pre;overflow-x:auto;line-height:normal;font-family:Menlo,'DejaVu Sans Mono',consolas,'Courier New',monospace\">\n",
       "\n",
       "<span style=\"font-weight: bold\">C:\\Users\\kade\\Desktop\\training_dir_staging\\1_furry_sticker\\3a12abc329a5913967328896b6f284f3.txt</span>\n",
       "\n",
       "</pre>\n"
      ],
      "text/plain": [
       "\n",
       "\n",
       "\u001b[1mC:\\Users\\kade\\Desktop\\training_dir_staging\\1_furry_sticker\\3a12abc329a5913967328896b6f284f3.txt\u001b[0m\n",
       "\n"
      ]
     },
     "metadata": {},
     "output_type": "display_data"
    },
    {
     "data": {
      "text/html": [
       "<pre style=\"white-space:pre;overflow-x:auto;line-height:normal;font-family:Menlo,'DejaVu Sans Mono',consolas,'Courier New',monospace\">Tag <span style=\"color: #008000; text-decoration-color: #008000\">\"</span><span style=\"color: #b76671; text-decoration-color: #b76671; font-weight: bold\">anthro</span><span style=\"color: #008000; text-decoration-color: #008000\">\"</span> found in caption <span style=\"color: #008000; text-decoration-color: #008000\">\"The image showcases an </span><span style=\"color: #b76671; text-decoration-color: #b76671; font-weight: bold\">anthro</span><span style=\"color: #008000; text-decoration-color: #008000\"> tabby cat with an orange fur coat.\"</span>\n",
       "</pre>\n"
      ],
      "text/plain": [
       "Tag \u001b[32m\"\u001b[0m\u001b[1;38;2;183;102;113manthro\u001b[0m\u001b[32m\"\u001b[0m found in caption \u001b[32m\"The image showcases an \u001b[0m\u001b[1;38;2;183;102;113manthro\u001b[0m\u001b[32m tabby cat with an orange fur coat.\"\u001b[0m\n"
      ]
     },
     "metadata": {},
     "output_type": "display_data"
    },
    {
     "data": {
      "text/html": [
       "<pre style=\"white-space:pre;overflow-x:auto;line-height:normal;font-family:Menlo,'DejaVu Sans Mono',consolas,'Courier New',monospace\">Tag <span style=\"color: #008000; text-decoration-color: #008000\">\"</span><span style=\"color: #f3a79a; text-decoration-color: #f3a79a; font-weight: bold\">green eyes</span><span style=\"color: #008000; text-decoration-color: #008000\">\"</span> found in caption <span style=\"color: #008000; text-decoration-color: #008000\">\"It has </span><span style=\"color: #f3a79a; text-decoration-color: #f3a79a; font-weight: bold\">green eyes</span><span style=\"color: #008000; text-decoration-color: #008000\"> and a playful and content expression.\"</span>\n",
       "</pre>\n"
      ],
      "text/plain": [
       "Tag \u001b[32m\"\u001b[0m\u001b[1;38;2;243;167;154mgreen eyes\u001b[0m\u001b[32m\"\u001b[0m found in caption \u001b[32m\"It has \u001b[0m\u001b[1;38;2;243;167;154mgreen eyes\u001b[0m\u001b[32m and a playful and content expression.\"\u001b[0m\n"
      ]
     },
     "metadata": {},
     "output_type": "display_data"
    },
    {
     "data": {
      "text/html": [
       "<pre style=\"white-space:pre;overflow-x:auto;line-height:normal;font-family:Menlo,'DejaVu Sans Mono',consolas,'Courier New',monospace\">Tag <span style=\"color: #008000; text-decoration-color: #008000\">\"</span><span style=\"color: #ff6632; text-decoration-color: #ff6632; font-weight: bold\">fur</span><span style=\"color: #008000; text-decoration-color: #008000\">\"</span> found in caption <span style=\"color: #008000; text-decoration-color: #008000\">\"The image showcases an anthro tabby cat with an orange </span><span style=\"color: #ff6632; text-decoration-color: #ff6632; font-weight: bold\">fur</span><span style=\"color: #008000; text-decoration-color: #008000\"> coat.\"</span>\n",
       "</pre>\n"
      ],
      "text/plain": [
       "Tag \u001b[32m\"\u001b[0m\u001b[1;38;2;255;102;50mfur\u001b[0m\u001b[32m\"\u001b[0m found in caption \u001b[32m\"The image showcases an anthro tabby cat with an orange \u001b[0m\u001b[1;38;2;255;102;50mfur\u001b[0m\u001b[32m coat.\"\u001b[0m\n"
      ]
     },
     "metadata": {},
     "output_type": "display_data"
    },
    {
     "data": {
      "text/html": [
       "<pre style=\"white-space:pre;overflow-x:auto;line-height:normal;font-family:Menlo,'DejaVu Sans Mono',consolas,'Courier New',monospace\">Tag <span style=\"color: #008000; text-decoration-color: #008000\">\"</span><span style=\"color: #a7c99f; text-decoration-color: #a7c99f; font-weight: bold\">food</span><span style=\"color: #008000; text-decoration-color: #008000\">\"</span> found in caption <span style=\"color: #008000; text-decoration-color: #008000\">\"The character is resting on a red couch next to a white bowl filled with fish shaped </span>\n",
       "<span style=\"color: #008000; text-decoration-color: #008000\">dry cat </span><span style=\"color: #a7c99f; text-decoration-color: #a7c99f; font-weight: bold\">food</span><span style=\"color: #008000; text-decoration-color: #008000\">.\"</span>\n",
       "</pre>\n"
      ],
      "text/plain": [
       "Tag \u001b[32m\"\u001b[0m\u001b[1;38;2;167;201;159mfood\u001b[0m\u001b[32m\"\u001b[0m found in caption \u001b[32m\"The character is resting on a red couch next to a white bowl filled with fish shaped \u001b[0m\n",
       "\u001b[32mdry cat \u001b[0m\u001b[1;38;2;167;201;159mfood\u001b[0m\u001b[32m.\"\u001b[0m\n"
      ]
     },
     "metadata": {},
     "output_type": "display_data"
    },
    {
     "data": {
      "text/html": [
       "<pre style=\"white-space:pre;overflow-x:auto;line-height:normal;font-family:Menlo,'DejaVu Sans Mono',consolas,'Courier New',monospace\">Tag <span style=\"color: #008000; text-decoration-color: #008000\">\"</span><span style=\"color: #8046e8; text-decoration-color: #8046e8; font-weight: bold\">bowl</span><span style=\"color: #008000; text-decoration-color: #008000\">\"</span> found in caption <span style=\"color: #008000; text-decoration-color: #008000\">\"The character is resting on a red couch next to a white </span><span style=\"color: #8046e8; text-decoration-color: #8046e8; font-weight: bold\">bowl</span><span style=\"color: #008000; text-decoration-color: #008000\"> filled with fish shaped </span>\n",
       "<span style=\"color: #008000; text-decoration-color: #008000\">dry cat food.\"</span>\n",
       "</pre>\n"
      ],
      "text/plain": [
       "Tag \u001b[32m\"\u001b[0m\u001b[1;38;2;128;70;232mbowl\u001b[0m\u001b[32m\"\u001b[0m found in caption \u001b[32m\"The character is resting on a red couch next to a white \u001b[0m\u001b[1;38;2;128;70;232mbowl\u001b[0m\u001b[32m filled with fish shaped \u001b[0m\n",
       "\u001b[32mdry cat food.\"\u001b[0m\n"
      ]
     },
     "metadata": {},
     "output_type": "display_data"
    },
    {
     "data": {
      "text/html": [
       "<pre style=\"white-space:pre;overflow-x:auto;line-height:normal;font-family:Menlo,'DejaVu Sans Mono',consolas,'Courier New',monospace\">\n",
       "\n",
       "<span style=\"font-weight: bold\">C:\\Users\\kade\\Desktop\\training_dir_staging\\1_furry_sticker\\3c0feb90f445fd0a32d2a70d595d9a0f.txt</span>\n",
       "\n",
       "</pre>\n"
      ],
      "text/plain": [
       "\n",
       "\n",
       "\u001b[1mC:\\Users\\kade\\Desktop\\training_dir_staging\\1_furry_sticker\\3c0feb90f445fd0a32d2a70d595d9a0f.txt\u001b[0m\n",
       "\n"
      ]
     },
     "metadata": {},
     "output_type": "display_data"
    },
    {
     "data": {
      "text/html": [
       "<pre style=\"white-space:pre;overflow-x:auto;line-height:normal;font-family:Menlo,'DejaVu Sans Mono',consolas,'Courier New',monospace\">Tag <span style=\"color: #008000; text-decoration-color: #008000\">\"</span><span style=\"color: #2e106a; text-decoration-color: #2e106a; font-weight: bold\">collar</span><span style=\"color: #008000; text-decoration-color: #008000\">\"</span> found in caption <span style=\"color: #008000; text-decoration-color: #008000\">\"It is wearing a red </span><span style=\"color: #2e106a; text-decoration-color: #2e106a; font-weight: bold\">collar</span><span style=\"color: #008000; text-decoration-color: #008000\"> with a gold cat head medal on it.\"</span>\n",
       "</pre>\n"
      ],
      "text/plain": [
       "Tag \u001b[32m\"\u001b[0m\u001b[1;38;2;46;16;106mcollar\u001b[0m\u001b[32m\"\u001b[0m found in caption \u001b[32m\"It is wearing a red \u001b[0m\u001b[1;38;2;46;16;106mcollar\u001b[0m\u001b[32m with a gold cat head medal on it.\"\u001b[0m\n"
      ]
     },
     "metadata": {},
     "output_type": "display_data"
    },
    {
     "data": {
      "text/html": [
       "<pre style=\"white-space:pre;overflow-x:auto;line-height:normal;font-family:Menlo,'DejaVu Sans Mono',consolas,'Courier New',monospace\">Tag <span style=\"color: #008000; text-decoration-color: #008000\">\"</span><span style=\"color: #89241e; text-decoration-color: #89241e; font-weight: bold\">pawpads</span><span style=\"color: #008000; text-decoration-color: #008000\">\"</span> found in caption <span style=\"color: #008000; text-decoration-color: #008000\">\"It has brown fur and orange </span><span style=\"color: #89241e; text-decoration-color: #89241e; font-weight: bold\">pawpads</span><span style=\"color: #008000; text-decoration-color: #008000\">.\"</span>\n",
       "</pre>\n"
      ],
      "text/plain": [
       "Tag \u001b[32m\"\u001b[0m\u001b[1;38;2;137;36;30mpawpads\u001b[0m\u001b[32m\"\u001b[0m found in caption \u001b[32m\"It has brown fur and orange \u001b[0m\u001b[1;38;2;137;36;30mpawpads\u001b[0m\u001b[32m.\"\u001b[0m\n"
      ]
     },
     "metadata": {},
     "output_type": "display_data"
    },
    {
     "data": {
      "text/html": [
       "<pre style=\"white-space:pre;overflow-x:auto;line-height:normal;font-family:Menlo,'DejaVu Sans Mono',consolas,'Courier New',monospace\">Tag <span style=\"color: #008000; text-decoration-color: #008000\">\"</span><span style=\"color: #b0cde8; text-decoration-color: #b0cde8; font-weight: bold\">anthro</span><span style=\"color: #008000; text-decoration-color: #008000\">\"</span> found in caption <span style=\"color: #008000; text-decoration-color: #008000\">\"The background is black. There's a tabby cat </span><span style=\"color: #b0cde8; text-decoration-color: #b0cde8; font-weight: bold\">anthro</span><span style=\"color: #008000; text-decoration-color: #008000\"> in the foreground.\"</span>\n",
       "</pre>\n"
      ],
      "text/plain": [
       "Tag \u001b[32m\"\u001b[0m\u001b[1;38;2;176;205;232manthro\u001b[0m\u001b[32m\"\u001b[0m found in caption \u001b[32m\"The background is black. There's a tabby cat \u001b[0m\u001b[1;38;2;176;205;232manthro\u001b[0m\u001b[32m in the foreground.\"\u001b[0m\n"
      ]
     },
     "metadata": {},
     "output_type": "display_data"
    },
    {
     "data": {
      "text/html": [
       "<pre style=\"white-space:pre;overflow-x:auto;line-height:normal;font-family:Menlo,'DejaVu Sans Mono',consolas,'Courier New',monospace\">Tag <span style=\"color: #008000; text-decoration-color: #008000\">\"</span><span style=\"color: #851afd; text-decoration-color: #851afd; font-weight: bold\">fur</span><span style=\"color: #008000; text-decoration-color: #008000\">\"</span> found in caption <span style=\"color: #008000; text-decoration-color: #008000\">\"It has brown </span><span style=\"color: #851afd; text-decoration-color: #851afd; font-weight: bold\">fur</span><span style=\"color: #008000; text-decoration-color: #008000\"> and orange pawpads.\"</span>\n",
       "</pre>\n"
      ],
      "text/plain": [
       "Tag \u001b[32m\"\u001b[0m\u001b[1;38;2;133;26;253mfur\u001b[0m\u001b[32m\"\u001b[0m found in caption \u001b[32m\"It has brown \u001b[0m\u001b[1;38;2;133;26;253mfur\u001b[0m\u001b[32m and orange pawpads.\"\u001b[0m\n"
      ]
     },
     "metadata": {},
     "output_type": "display_data"
    },
    {
     "data": {
      "text/html": [
       "<pre style=\"white-space:pre;overflow-x:auto;line-height:normal;font-family:Menlo,'DejaVu Sans Mono',consolas,'Courier New',monospace\">Tag <span style=\"color: #008000; text-decoration-color: #008000\">\"</span><span style=\"color: #09faf5; text-decoration-color: #09faf5; font-weight: bold\">tabby cat</span><span style=\"color: #008000; text-decoration-color: #008000\">\"</span> found in caption <span style=\"color: #008000; text-decoration-color: #008000\">\"The background is black. There's a </span><span style=\"color: #09faf5; text-decoration-color: #09faf5; font-weight: bold\">tabby cat</span><span style=\"color: #008000; text-decoration-color: #008000\"> anthro in the foreground.\"</span>\n",
       "</pre>\n"
      ],
      "text/plain": [
       "Tag \u001b[32m\"\u001b[0m\u001b[1;38;2;9;250;245mtabby cat\u001b[0m\u001b[32m\"\u001b[0m found in caption \u001b[32m\"The background is black. There's a \u001b[0m\u001b[1;38;2;9;250;245mtabby cat\u001b[0m\u001b[32m anthro in the foreground.\"\u001b[0m\n"
      ]
     },
     "metadata": {},
     "output_type": "display_data"
    },
    {
     "data": {
      "text/html": [
       "<pre style=\"white-space:pre;overflow-x:auto;line-height:normal;font-family:Menlo,'DejaVu Sans Mono',consolas,'Courier New',monospace\">Tag <span style=\"color: #008000; text-decoration-color: #008000\">\"</span><span style=\"color: #76d7a7; text-decoration-color: #76d7a7; font-weight: bold\">blush</span><span style=\"color: #008000; text-decoration-color: #008000\">\"</span> found in caption <span style=\"color: #008000; text-decoration-color: #008000\">\"It has a small </span><span style=\"color: #76d7a7; text-decoration-color: #76d7a7; font-weight: bold\">blush</span><span style=\"color: #008000; text-decoration-color: #008000\"> on his cheeks.\"</span>\n",
       "</pre>\n"
      ],
      "text/plain": [
       "Tag \u001b[32m\"\u001b[0m\u001b[1;38;2;118;215;167mblush\u001b[0m\u001b[32m\"\u001b[0m found in caption \u001b[32m\"It has a small \u001b[0m\u001b[1;38;2;118;215;167mblush\u001b[0m\u001b[32m on his cheeks.\"\u001b[0m\n"
      ]
     },
     "metadata": {},
     "output_type": "display_data"
    },
    {
     "data": {
      "text/html": [
       "<pre style=\"white-space:pre;overflow-x:auto;line-height:normal;font-family:Menlo,'DejaVu Sans Mono',consolas,'Courier New',monospace\">\n",
       "\n",
       "<span style=\"font-weight: bold\">C:\\Users\\kade\\Desktop\\training_dir_staging\\1_furry_sticker\\3c3c9b21f695ab5433c806acd9d3f635.txt</span>\n",
       "\n",
       "</pre>\n"
      ],
      "text/plain": [
       "\n",
       "\n",
       "\u001b[1mC:\\Users\\kade\\Desktop\\training_dir_staging\\1_furry_sticker\\3c3c9b21f695ab5433c806acd9d3f635.txt\u001b[0m\n",
       "\n"
      ]
     },
     "metadata": {},
     "output_type": "display_data"
    },
    {
     "data": {
      "text/html": [
       "<pre style=\"white-space:pre;overflow-x:auto;line-height:normal;font-family:Menlo,'DejaVu Sans Mono',consolas,'Courier New',monospace\">Tag <span style=\"color: #008000; text-decoration-color: #008000\">\"</span><span style=\"color: #82a12d; text-decoration-color: #82a12d; font-weight: bold\">anthro</span><span style=\"color: #008000; text-decoration-color: #008000\">\"</span> found in caption <span style=\"color: #008000; text-decoration-color: #008000\">\"In the center of the image is an </span><span style=\"color: #82a12d; text-decoration-color: #82a12d; font-weight: bold\">anthro</span><span style=\"color: #008000; text-decoration-color: #008000\"> red panda.\"</span>\n",
       "</pre>\n"
      ],
      "text/plain": [
       "Tag \u001b[32m\"\u001b[0m\u001b[1;38;2;130;161;45manthro\u001b[0m\u001b[32m\"\u001b[0m found in caption \u001b[32m\"In the center of the image is an \u001b[0m\u001b[1;38;2;130;161;45manthro\u001b[0m\u001b[32m red panda.\"\u001b[0m\n"
      ]
     },
     "metadata": {},
     "output_type": "display_data"
    },
    {
     "data": {
      "text/html": [
       "<pre style=\"white-space:pre;overflow-x:auto;line-height:normal;font-family:Menlo,'DejaVu Sans Mono',consolas,'Courier New',monospace\">Tag <span style=\"color: #008000; text-decoration-color: #008000\">\"</span><span style=\"color: #212bca; text-decoration-color: #212bca; font-weight: bold\">red panda</span><span style=\"color: #008000; text-decoration-color: #008000\">\"</span> found in caption <span style=\"color: #008000; text-decoration-color: #008000\">\"In the center of the image is an anthro </span><span style=\"color: #212bca; text-decoration-color: #212bca; font-weight: bold\">red panda</span><span style=\"color: #008000; text-decoration-color: #008000\">.\"</span>\n",
       "</pre>\n"
      ],
      "text/plain": [
       "Tag \u001b[32m\"\u001b[0m\u001b[1;38;2;33;43;202mred panda\u001b[0m\u001b[32m\"\u001b[0m found in caption \u001b[32m\"In the center of the image is an anthro \u001b[0m\u001b[1;38;2;33;43;202mred panda\u001b[0m\u001b[32m.\"\u001b[0m\n"
      ]
     },
     "metadata": {},
     "output_type": "display_data"
    },
    {
     "data": {
      "text/html": [
       "<pre style=\"white-space:pre;overflow-x:auto;line-height:normal;font-family:Menlo,'DejaVu Sans Mono',consolas,'Courier New',monospace\">Tag <span style=\"color: #008000; text-decoration-color: #008000\">\"</span><span style=\"color: #565d84; text-decoration-color: #565d84; font-weight: bold\">hair</span><span style=\"color: #008000; text-decoration-color: #008000\">\"</span> found in caption <span style=\"color: #008000; text-decoration-color: #008000\">\"It has black </span><span style=\"color: #565d84; text-decoration-color: #565d84; font-weight: bold\">hair</span><span style=\"color: #008000; text-decoration-color: #008000\"> with blue ends and white fur and white ears with red accents. It's </span>\n",
       "<span style=\"color: #008000; text-decoration-color: #008000\">chest and hands are white with his hand ending in black fur.\"</span>\n",
       "</pre>\n"
      ],
      "text/plain": [
       "Tag \u001b[32m\"\u001b[0m\u001b[1;38;2;86;93;132mhair\u001b[0m\u001b[32m\"\u001b[0m found in caption \u001b[32m\"It has black \u001b[0m\u001b[1;38;2;86;93;132mhair\u001b[0m\u001b[32m with blue ends and white fur and white ears with red accents. It's \u001b[0m\n",
       "\u001b[32mchest and hands are white with his hand ending in black fur.\"\u001b[0m\n"
      ]
     },
     "metadata": {},
     "output_type": "display_data"
    },
    {
     "data": {
      "text/html": [
       "<pre style=\"white-space:pre;overflow-x:auto;line-height:normal;font-family:Menlo,'DejaVu Sans Mono',consolas,'Courier New',monospace\">Tag <span style=\"color: #008000; text-decoration-color: #008000\">\"</span><span style=\"color: #b2e95d; text-decoration-color: #b2e95d; font-weight: bold\">fur</span><span style=\"color: #008000; text-decoration-color: #008000\">\"</span> found in caption <span style=\"color: #008000; text-decoration-color: #008000\">\"It has black hair with blue ends and white </span><span style=\"color: #b2e95d; text-decoration-color: #b2e95d; font-weight: bold\">fur</span><span style=\"color: #008000; text-decoration-color: #008000\"> and white ears with red accents. It's </span>\n",
       "<span style=\"color: #008000; text-decoration-color: #008000\">chest and hands are white with his hand ending in black </span><span style=\"color: #b2e95d; text-decoration-color: #b2e95d; font-weight: bold\">fur</span><span style=\"color: #008000; text-decoration-color: #008000\">.\"</span>\n",
       "</pre>\n"
      ],
      "text/plain": [
       "Tag \u001b[32m\"\u001b[0m\u001b[1;38;2;178;233;93mfur\u001b[0m\u001b[32m\"\u001b[0m found in caption \u001b[32m\"It has black hair with blue ends and white \u001b[0m\u001b[1;38;2;178;233;93mfur\u001b[0m\u001b[32m and white ears with red accents. It's \u001b[0m\n",
       "\u001b[32mchest and hands are white with his hand ending in black \u001b[0m\u001b[1;38;2;178;233;93mfur\u001b[0m\u001b[32m.\"\u001b[0m\n"
      ]
     },
     "metadata": {},
     "output_type": "display_data"
    },
    {
     "data": {
      "text/html": [
       "<pre style=\"white-space:pre;overflow-x:auto;line-height:normal;font-family:Menlo,'DejaVu Sans Mono',consolas,'Courier New',monospace\">Tag <span style=\"color: #008000; text-decoration-color: #008000\">\"</span><span style=\"color: #fce92c; text-decoration-color: #fce92c; font-weight: bold\">blue eyes</span><span style=\"color: #008000; text-decoration-color: #008000\">\"</span> found in caption <span style=\"color: #008000; text-decoration-color: #008000\">\"It is smiling and looking off to the right with it's </span><span style=\"color: #fce92c; text-decoration-color: #fce92c; font-weight: bold\">blue eyes</span><span style=\"color: #008000; text-decoration-color: #008000\">.\"</span>\n",
       "</pre>\n"
      ],
      "text/plain": [
       "Tag \u001b[32m\"\u001b[0m\u001b[1;38;2;252;233;44mblue eyes\u001b[0m\u001b[32m\"\u001b[0m found in caption \u001b[32m\"It is smiling and looking off to the right with it's \u001b[0m\u001b[1;38;2;252;233;44mblue eyes\u001b[0m\u001b[32m.\"\u001b[0m\n"
      ]
     },
     "metadata": {},
     "output_type": "display_data"
    },
    {
     "data": {
      "text/html": [
       "<pre style=\"white-space:pre;overflow-x:auto;line-height:normal;font-family:Menlo,'DejaVu Sans Mono',consolas,'Courier New',monospace\">Tag <span style=\"color: #008000; text-decoration-color: #008000\">\"</span><span style=\"color: #fe4878; text-decoration-color: #fe4878; font-weight: bold\">white fur</span><span style=\"color: #008000; text-decoration-color: #008000\">\"</span> found in caption <span style=\"color: #008000; text-decoration-color: #008000\">\"It has black hair with blue ends and </span><span style=\"color: #fe4878; text-decoration-color: #fe4878; font-weight: bold\">white fur</span><span style=\"color: #008000; text-decoration-color: #008000\"> and white ears with red accents. </span>\n",
       "<span style=\"color: #008000; text-decoration-color: #008000\">It's chest and hands are white with his hand ending in black fur.\"</span>\n",
       "</pre>\n"
      ],
      "text/plain": [
       "Tag \u001b[32m\"\u001b[0m\u001b[1;38;2;254;72;120mwhite fur\u001b[0m\u001b[32m\"\u001b[0m found in caption \u001b[32m\"It has black hair with blue ends and \u001b[0m\u001b[1;38;2;254;72;120mwhite fur\u001b[0m\u001b[32m and white ears with red accents. \u001b[0m\n",
       "\u001b[32mIt's chest and hands are white with his hand ending in black fur.\"\u001b[0m\n"
      ]
     },
     "metadata": {},
     "output_type": "display_data"
    },
    {
     "data": {
      "text/html": [
       "<pre style=\"white-space:pre;overflow-x:auto;line-height:normal;font-family:Menlo,'DejaVu Sans Mono',consolas,'Courier New',monospace\">Tag <span style=\"color: #008000; text-decoration-color: #008000\">\"</span><span style=\"color: #4966c4; text-decoration-color: #4966c4; font-weight: bold\">black hair</span><span style=\"color: #008000; text-decoration-color: #008000\">\"</span> found in caption <span style=\"color: #008000; text-decoration-color: #008000\">\"It has </span><span style=\"color: #4966c4; text-decoration-color: #4966c4; font-weight: bold\">black hair</span><span style=\"color: #008000; text-decoration-color: #008000\"> with blue ends and white fur and white ears with red accents. </span>\n",
       "<span style=\"color: #008000; text-decoration-color: #008000\">It's chest and hands are white with his hand ending in black fur.\"</span>\n",
       "</pre>\n"
      ],
      "text/plain": [
       "Tag \u001b[32m\"\u001b[0m\u001b[1;38;2;73;102;196mblack hair\u001b[0m\u001b[32m\"\u001b[0m found in caption \u001b[32m\"It has \u001b[0m\u001b[1;38;2;73;102;196mblack hair\u001b[0m\u001b[32m with blue ends and white fur and white ears with red accents. \u001b[0m\n",
       "\u001b[32mIt's chest and hands are white with his hand ending in black fur.\"\u001b[0m\n"
      ]
     },
     "metadata": {},
     "output_type": "display_data"
    },
    {
     "data": {
      "text/html": [
       "<pre style=\"white-space:pre;overflow-x:auto;line-height:normal;font-family:Menlo,'DejaVu Sans Mono',consolas,'Courier New',monospace\">\n",
       "\n",
       "<span style=\"font-weight: bold\">C:\\Users\\kade\\Desktop\\training_dir_staging\\1_furry_sticker\\4130b426cf410e21596e60f281ee38d7.txt</span>\n",
       "\n",
       "</pre>\n"
      ],
      "text/plain": [
       "\n",
       "\n",
       "\u001b[1mC:\\Users\\kade\\Desktop\\training_dir_staging\\1_furry_sticker\\4130b426cf410e21596e60f281ee38d7.txt\u001b[0m\n",
       "\n"
      ]
     },
     "metadata": {},
     "output_type": "display_data"
    },
    {
     "data": {
      "text/html": [
       "<pre style=\"white-space:pre;overflow-x:auto;line-height:normal;font-family:Menlo,'DejaVu Sans Mono',consolas,'Courier New',monospace\">Tag <span style=\"color: #008000; text-decoration-color: #008000\">\"</span><span style=\"color: #3488e2; text-decoration-color: #3488e2; font-weight: bold\">furry sticker</span><span style=\"color: #008000; text-decoration-color: #008000\">\"</span> found in caption <span style=\"color: #008000; text-decoration-color: #008000\">\"This image is a </span><span style=\"color: #3488e2; text-decoration-color: #3488e2; font-weight: bold\">furry sticker</span><span style=\"color: #008000; text-decoration-color: #008000\"> of two anthro animals one that appears to be an</span>\n",
       "<span style=\"color: #008000; text-decoration-color: #008000\">fox and the other a ych.\"</span>\n",
       "</pre>\n"
      ],
      "text/plain": [
       "Tag \u001b[32m\"\u001b[0m\u001b[1;38;2;52;136;226mfurry sticker\u001b[0m\u001b[32m\"\u001b[0m found in caption \u001b[32m\"This image is a \u001b[0m\u001b[1;38;2;52;136;226mfurry sticker\u001b[0m\u001b[32m of two anthro animals one that appears to be an\u001b[0m\n",
       "\u001b[32mfox and the other a ych.\"\u001b[0m\n"
      ]
     },
     "metadata": {},
     "output_type": "display_data"
    },
    {
     "data": {
      "text/html": [
       "<pre style=\"white-space:pre;overflow-x:auto;line-height:normal;font-family:Menlo,'DejaVu Sans Mono',consolas,'Courier New',monospace\">Tag <span style=\"color: #008000; text-decoration-color: #008000\">\"</span><span style=\"color: #02e3f5; text-decoration-color: #02e3f5; font-weight: bold\">fox</span><span style=\"color: #008000; text-decoration-color: #008000\">\"</span> found in caption <span style=\"color: #008000; text-decoration-color: #008000\">\"This image is a furry sticker of two anthro animals one that appears to be an </span><span style=\"color: #02e3f5; text-decoration-color: #02e3f5; font-weight: bold\">fox</span><span style=\"color: #008000; text-decoration-color: #008000\"> and </span>\n",
       "<span style=\"color: #008000; text-decoration-color: #008000\">the other a ych.\"</span>\n",
       "</pre>\n"
      ],
      "text/plain": [
       "Tag \u001b[32m\"\u001b[0m\u001b[1;38;2;2;227;245mfox\u001b[0m\u001b[32m\"\u001b[0m found in caption \u001b[32m\"This image is a furry sticker of two anthro animals one that appears to be an \u001b[0m\u001b[1;38;2;2;227;245mfox\u001b[0m\u001b[32m and \u001b[0m\n",
       "\u001b[32mthe other a ych.\"\u001b[0m\n"
      ]
     },
     "metadata": {},
     "output_type": "display_data"
    },
    {
     "data": {
      "text/html": [
       "<pre style=\"white-space:pre;overflow-x:auto;line-height:normal;font-family:Menlo,'DejaVu Sans Mono',consolas,'Courier New',monospace\">Tag <span style=\"color: #008000; text-decoration-color: #008000\">\"</span><span style=\"color: #6f2ee5; text-decoration-color: #6f2ee5; font-weight: bold\">fox</span><span style=\"color: #008000; text-decoration-color: #008000\">\"</span> found in caption <span style=\"color: #008000; text-decoration-color: #008000\">\"The </span><span style=\"color: #6f2ee5; text-decoration-color: #6f2ee5; font-weight: bold\">fox</span><span style=\"color: #008000; text-decoration-color: #008000\"> is orange and white with its eyes closed and a content expression while the </span>\n",
       "<span style=\"color: #008000; text-decoration-color: #008000\">anthro ych is blue and white.\"</span>\n",
       "</pre>\n"
      ],
      "text/plain": [
       "Tag \u001b[32m\"\u001b[0m\u001b[1;38;2;111;46;229mfox\u001b[0m\u001b[32m\"\u001b[0m found in caption \u001b[32m\"The \u001b[0m\u001b[1;38;2;111;46;229mfox\u001b[0m\u001b[32m is orange and white with its eyes closed and a content expression while the \u001b[0m\n",
       "\u001b[32manthro ych is blue and white.\"\u001b[0m\n"
      ]
     },
     "metadata": {},
     "output_type": "display_data"
    },
    {
     "data": {
      "text/html": [
       "<pre style=\"white-space:pre;overflow-x:auto;line-height:normal;font-family:Menlo,'DejaVu Sans Mono',consolas,'Courier New',monospace\">Tag <span style=\"color: #008000; text-decoration-color: #008000\">\"</span><span style=\"color: #5ebeaf; text-decoration-color: #5ebeaf; font-weight: bold\">fox</span><span style=\"color: #008000; text-decoration-color: #008000\">\"</span> found in caption <span style=\"color: #008000; text-decoration-color: #008000\">\"The </span><span style=\"color: #5ebeaf; text-decoration-color: #5ebeaf; font-weight: bold\">fox</span><span style=\"color: #008000; text-decoration-color: #008000\"> is petting the anthro ych's head.\"</span>\n",
       "</pre>\n"
      ],
      "text/plain": [
       "Tag \u001b[32m\"\u001b[0m\u001b[1;38;2;94;190;175mfox\u001b[0m\u001b[32m\"\u001b[0m found in caption \u001b[32m\"The \u001b[0m\u001b[1;38;2;94;190;175mfox\u001b[0m\u001b[32m is petting the anthro ych's head.\"\u001b[0m\n"
      ]
     },
     "metadata": {},
     "output_type": "display_data"
    },
    {
     "data": {
      "text/html": [
       "<pre style=\"white-space:pre;overflow-x:auto;line-height:normal;font-family:Menlo,'DejaVu Sans Mono',consolas,'Courier New',monospace\">Tag <span style=\"color: #008000; text-decoration-color: #008000\">\"</span><span style=\"color: #fc230b; text-decoration-color: #fc230b; font-weight: bold\">fox</span><span style=\"color: #008000; text-decoration-color: #008000\">\"</span> found in caption <span style=\"color: #008000; text-decoration-color: #008000\">\"The </span><span style=\"color: #fc230b; text-decoration-color: #fc230b; font-weight: bold\">fox</span><span style=\"color: #008000; text-decoration-color: #008000\"> has a white outline and the ych a blue outline around it.\"</span>\n",
       "</pre>\n"
      ],
      "text/plain": [
       "Tag \u001b[32m\"\u001b[0m\u001b[1;38;2;252;35;11mfox\u001b[0m\u001b[32m\"\u001b[0m found in caption \u001b[32m\"The \u001b[0m\u001b[1;38;2;252;35;11mfox\u001b[0m\u001b[32m has a white outline and the ych a blue outline around it.\"\u001b[0m\n"
      ]
     },
     "metadata": {},
     "output_type": "display_data"
    },
    {
     "data": {
      "text/html": [
       "<pre style=\"white-space:pre;overflow-x:auto;line-height:normal;font-family:Menlo,'DejaVu Sans Mono',consolas,'Courier New',monospace\">Tag <span style=\"color: #008000; text-decoration-color: #008000\">\"</span><span style=\"color: #ad1a19; text-decoration-color: #ad1a19; font-weight: bold\">anthro</span><span style=\"color: #008000; text-decoration-color: #008000\">\"</span> found in caption <span style=\"color: #008000; text-decoration-color: #008000\">\"This image is a furry sticker of two </span><span style=\"color: #ad1a19; text-decoration-color: #ad1a19; font-weight: bold\">anthro</span><span style=\"color: #008000; text-decoration-color: #008000\"> animals one that appears to be an fox </span>\n",
       "<span style=\"color: #008000; text-decoration-color: #008000\">and the other a ych.\"</span>\n",
       "</pre>\n"
      ],
      "text/plain": [
       "Tag \u001b[32m\"\u001b[0m\u001b[1;38;2;173;26;25manthro\u001b[0m\u001b[32m\"\u001b[0m found in caption \u001b[32m\"This image is a furry sticker of two \u001b[0m\u001b[1;38;2;173;26;25manthro\u001b[0m\u001b[32m animals one that appears to be an fox \u001b[0m\n",
       "\u001b[32mand the other a ych.\"\u001b[0m\n"
      ]
     },
     "metadata": {},
     "output_type": "display_data"
    },
    {
     "data": {
      "text/html": [
       "<pre style=\"white-space:pre;overflow-x:auto;line-height:normal;font-family:Menlo,'DejaVu Sans Mono',consolas,'Courier New',monospace\">Tag <span style=\"color: #008000; text-decoration-color: #008000\">\"</span><span style=\"color: #8fbc50; text-decoration-color: #8fbc50; font-weight: bold\">anthro</span><span style=\"color: #008000; text-decoration-color: #008000\">\"</span> found in caption <span style=\"color: #008000; text-decoration-color: #008000\">\"The fox is orange and white with its eyes closed and a content expression while the </span>\n",
       "<span style=\"color: #8fbc50; text-decoration-color: #8fbc50; font-weight: bold\">anthro</span><span style=\"color: #008000; text-decoration-color: #008000\"> ych is blue and white.\"</span>\n",
       "</pre>\n"
      ],
      "text/plain": [
       "Tag \u001b[32m\"\u001b[0m\u001b[1;38;2;143;188;80manthro\u001b[0m\u001b[32m\"\u001b[0m found in caption \u001b[32m\"The fox is orange and white with its eyes closed and a content expression while the \u001b[0m\n",
       "\u001b[1;38;2;143;188;80manthro\u001b[0m\u001b[32m ych is blue and white.\"\u001b[0m\n"
      ]
     },
     "metadata": {},
     "output_type": "display_data"
    },
    {
     "data": {
      "text/html": [
       "<pre style=\"white-space:pre;overflow-x:auto;line-height:normal;font-family:Menlo,'DejaVu Sans Mono',consolas,'Courier New',monospace\">Tag <span style=\"color: #008000; text-decoration-color: #008000\">\"</span><span style=\"color: #2bf8cf; text-decoration-color: #2bf8cf; font-weight: bold\">anthro</span><span style=\"color: #008000; text-decoration-color: #008000\">\"</span> found in caption <span style=\"color: #008000; text-decoration-color: #008000\">\"The fox is petting the </span><span style=\"color: #2bf8cf; text-decoration-color: #2bf8cf; font-weight: bold\">anthro</span><span style=\"color: #008000; text-decoration-color: #008000\"> ych's head.\"</span>\n",
       "</pre>\n"
      ],
      "text/plain": [
       "Tag \u001b[32m\"\u001b[0m\u001b[1;38;2;43;248;207manthro\u001b[0m\u001b[32m\"\u001b[0m found in caption \u001b[32m\"The fox is petting the \u001b[0m\u001b[1;38;2;43;248;207manthro\u001b[0m\u001b[32m ych's head.\"\u001b[0m\n"
      ]
     },
     "metadata": {},
     "output_type": "display_data"
    },
    {
     "data": {
      "text/html": [
       "<pre style=\"white-space:pre;overflow-x:auto;line-height:normal;font-family:Menlo,'DejaVu Sans Mono',consolas,'Courier New',monospace\">Tag <span style=\"color: #008000; text-decoration-color: #008000\">\"</span><span style=\"color: #33c91a; text-decoration-color: #33c91a; font-weight: bold\">anthro</span><span style=\"color: #008000; text-decoration-color: #008000\">\"</span> found in caption <span style=\"color: #008000; text-decoration-color: #008000\">\"Above the </span><span style=\"color: #33c91a; text-decoration-color: #33c91a; font-weight: bold\">anthro</span><span style=\"color: #008000; text-decoration-color: #008000\"> ych there's a text that reads 'PAT' indicating the action being </span>\n",
       "<span style=\"color: #008000; text-decoration-color: #008000\">depicted.\"</span>\n",
       "</pre>\n"
      ],
      "text/plain": [
       "Tag \u001b[32m\"\u001b[0m\u001b[1;38;2;51;201;26manthro\u001b[0m\u001b[32m\"\u001b[0m found in caption \u001b[32m\"Above the \u001b[0m\u001b[1;38;2;51;201;26manthro\u001b[0m\u001b[32m ych there's a text that reads 'PAT' indicating the action being \u001b[0m\n",
       "\u001b[32mdepicted.\"\u001b[0m\n"
      ]
     },
     "metadata": {},
     "output_type": "display_data"
    },
    {
     "data": {
      "text/html": [
       "<pre style=\"white-space:pre;overflow-x:auto;line-height:normal;font-family:Menlo,'DejaVu Sans Mono',consolas,'Courier New',monospace\">Tag <span style=\"color: #008000; text-decoration-color: #008000\">\"</span><span style=\"color: #ff684b; text-decoration-color: #ff684b; font-weight: bold\">eyes closed</span><span style=\"color: #008000; text-decoration-color: #008000\">\"</span> found in caption <span style=\"color: #008000; text-decoration-color: #008000\">\"The fox is orange and white with its </span><span style=\"color: #ff684b; text-decoration-color: #ff684b; font-weight: bold\">eyes closed</span><span style=\"color: #008000; text-decoration-color: #008000\"> and a content expression while</span>\n",
       "<span style=\"color: #008000; text-decoration-color: #008000\">the anthro ych is blue and white.\"</span>\n",
       "</pre>\n"
      ],
      "text/plain": [
       "Tag \u001b[32m\"\u001b[0m\u001b[1;38;2;255;104;75meyes closed\u001b[0m\u001b[32m\"\u001b[0m found in caption \u001b[32m\"The fox is orange and white with its \u001b[0m\u001b[1;38;2;255;104;75meyes closed\u001b[0m\u001b[32m and a content expression while\u001b[0m\n",
       "\u001b[32mthe anthro ych is blue and white.\"\u001b[0m\n"
      ]
     },
     "metadata": {},
     "output_type": "display_data"
    },
    {
     "data": {
      "text/html": [
       "<pre style=\"white-space:pre;overflow-x:auto;line-height:normal;font-family:Menlo,'DejaVu Sans Mono',consolas,'Courier New',monospace\">Tag <span style=\"color: #008000; text-decoration-color: #008000\">\"</span><span style=\"color: #e58e4e; text-decoration-color: #e58e4e; font-weight: bold\">text</span><span style=\"color: #008000; text-decoration-color: #008000\">\"</span> found in caption <span style=\"color: #008000; text-decoration-color: #008000\">\"Above the anthro ych there's a </span><span style=\"color: #e58e4e; text-decoration-color: #e58e4e; font-weight: bold\">text</span><span style=\"color: #008000; text-decoration-color: #008000\"> that reads 'PAT' indicating the action being </span>\n",
       "<span style=\"color: #008000; text-decoration-color: #008000\">depicted.\"</span>\n",
       "</pre>\n"
      ],
      "text/plain": [
       "Tag \u001b[32m\"\u001b[0m\u001b[1;38;2;229;142;78mtext\u001b[0m\u001b[32m\"\u001b[0m found in caption \u001b[32m\"Above the anthro ych there's a \u001b[0m\u001b[1;38;2;229;142;78mtext\u001b[0m\u001b[32m that reads 'PAT' indicating the action being \u001b[0m\n",
       "\u001b[32mdepicted.\"\u001b[0m\n"
      ]
     },
     "metadata": {},
     "output_type": "display_data"
    },
    {
     "data": {
      "text/html": [
       "<pre style=\"white-space:pre;overflow-x:auto;line-height:normal;font-family:Menlo,'DejaVu Sans Mono',consolas,'Courier New',monospace\">Tag <span style=\"color: #008000; text-decoration-color: #008000\">\"</span><span style=\"color: #26405c; text-decoration-color: #26405c; font-weight: bold\">sticker</span><span style=\"color: #008000; text-decoration-color: #008000\">\"</span> found in caption <span style=\"color: #008000; text-decoration-color: #008000\">\"This image is a furry </span><span style=\"color: #26405c; text-decoration-color: #26405c; font-weight: bold\">sticker</span><span style=\"color: #008000; text-decoration-color: #008000\"> of two anthro animals one that appears to be an fox </span>\n",
       "<span style=\"color: #008000; text-decoration-color: #008000\">and the other a ych.\"</span>\n",
       "</pre>\n"
      ],
      "text/plain": [
       "Tag \u001b[32m\"\u001b[0m\u001b[1;38;2;38;64;92msticker\u001b[0m\u001b[32m\"\u001b[0m found in caption \u001b[32m\"This image is a furry \u001b[0m\u001b[1;38;2;38;64;92msticker\u001b[0m\u001b[32m of two anthro animals one that appears to be an fox \u001b[0m\n",
       "\u001b[32mand the other a ych.\"\u001b[0m\n"
      ]
     },
     "metadata": {},
     "output_type": "display_data"
    },
    {
     "data": {
      "text/html": [
       "<pre style=\"white-space:pre;overflow-x:auto;line-height:normal;font-family:Menlo,'DejaVu Sans Mono',consolas,'Courier New',monospace\">Tag <span style=\"color: #008000; text-decoration-color: #008000\">\"</span><span style=\"color: #95827e; text-decoration-color: #95827e; font-weight: bold\">outline</span><span style=\"color: #008000; text-decoration-color: #008000\">\"</span> found in caption <span style=\"color: #008000; text-decoration-color: #008000\">\"The fox has a white </span><span style=\"color: #95827e; text-decoration-color: #95827e; font-weight: bold\">outline</span><span style=\"color: #008000; text-decoration-color: #008000\"> and the ych a blue </span><span style=\"color: #95827e; text-decoration-color: #95827e; font-weight: bold\">outline</span><span style=\"color: #008000; text-decoration-color: #008000\"> around it.\"</span>\n",
       "</pre>\n"
      ],
      "text/plain": [
       "Tag \u001b[32m\"\u001b[0m\u001b[1;38;2;149;130;126moutline\u001b[0m\u001b[32m\"\u001b[0m found in caption \u001b[32m\"The fox has a white \u001b[0m\u001b[1;38;2;149;130;126moutline\u001b[0m\u001b[32m and the ych a blue \u001b[0m\u001b[1;38;2;149;130;126moutline\u001b[0m\u001b[32m around it.\"\u001b[0m\n"
      ]
     },
     "metadata": {},
     "output_type": "display_data"
    },
    {
     "data": {
      "text/html": [
       "<pre style=\"white-space:pre;overflow-x:auto;line-height:normal;font-family:Menlo,'DejaVu Sans Mono',consolas,'Courier New',monospace\">\n",
       "\n",
       "<span style=\"font-weight: bold\">C:\\Users\\kade\\Desktop\\training_dir_staging\\1_furry_sticker\\4896b709d1fe529d7d701fe6b410d0f4.txt</span>\n",
       "\n",
       "</pre>\n"
      ],
      "text/plain": [
       "\n",
       "\n",
       "\u001b[1mC:\\Users\\kade\\Desktop\\training_dir_staging\\1_furry_sticker\\4896b709d1fe529d7d701fe6b410d0f4.txt\u001b[0m\n",
       "\n"
      ]
     },
     "metadata": {},
     "output_type": "display_data"
    },
    {
     "data": {
      "text/html": [
       "<pre style=\"white-space:pre;overflow-x:auto;line-height:normal;font-family:Menlo,'DejaVu Sans Mono',consolas,'Courier New',monospace\">Tag <span style=\"color: #008000; text-decoration-color: #008000\">\"</span><span style=\"color: #76f1f8; text-decoration-color: #76f1f8; font-weight: bold\">sergal</span><span style=\"color: #008000; text-decoration-color: #008000\">\"</span> found in caption <span style=\"color: #008000; text-decoration-color: #008000\">\"The </span><span style=\"color: #76f1f8; text-decoration-color: #76f1f8; font-weight: bold\">sergal</span><span style=\"color: #008000; text-decoration-color: #008000\"> has pointed ears and a long tail behind his back.\"</span>\n",
       "</pre>\n"
      ],
      "text/plain": [
       "Tag \u001b[32m\"\u001b[0m\u001b[1;38;2;118;241;248msergal\u001b[0m\u001b[32m\"\u001b[0m found in caption \u001b[32m\"The \u001b[0m\u001b[1;38;2;118;241;248msergal\u001b[0m\u001b[32m has pointed ears and a long tail behind his back.\"\u001b[0m\n"
      ]
     },
     "metadata": {},
     "output_type": "display_data"
    },
    {
     "data": {
      "text/html": [
       "<pre style=\"white-space:pre;overflow-x:auto;line-height:normal;font-family:Menlo,'DejaVu Sans Mono',consolas,'Courier New',monospace\">Tag <span style=\"color: #008000; text-decoration-color: #008000\">\"</span><span style=\"color: #c29587; text-decoration-color: #c29587; font-weight: bold\">speech bubble</span><span style=\"color: #008000; text-decoration-color: #008000\">\"</span> found in caption <span style=\"color: #008000; text-decoration-color: #008000\">\"Above the character there is a </span><span style=\"color: #c29587; text-decoration-color: #c29587; font-weight: bold\">speech bubble</span><span style=\"color: #008000; text-decoration-color: #008000\"> that reads 'FOOD'.\"</span>\n",
       "</pre>\n"
      ],
      "text/plain": [
       "Tag \u001b[32m\"\u001b[0m\u001b[1;38;2;194;149;135mspeech bubble\u001b[0m\u001b[32m\"\u001b[0m found in caption \u001b[32m\"Above the character there is a \u001b[0m\u001b[1;38;2;194;149;135mspeech bubble\u001b[0m\u001b[32m that reads 'FOOD'.\"\u001b[0m\n"
      ]
     },
     "metadata": {},
     "output_type": "display_data"
    },
    {
     "data": {
      "text/html": [
       "<pre style=\"white-space:pre;overflow-x:auto;line-height:normal;font-family:Menlo,'DejaVu Sans Mono',consolas,'Courier New',monospace\">\n",
       "\n",
       "<span style=\"font-weight: bold\">C:\\Users\\kade\\Desktop\\training_dir_staging\\1_furry_sticker\\51d1cdf4a51c513f026b3f3abbbe1397.txt</span>\n",
       "\n",
       "</pre>\n"
      ],
      "text/plain": [
       "\n",
       "\n",
       "\u001b[1mC:\\Users\\kade\\Desktop\\training_dir_staging\\1_furry_sticker\\51d1cdf4a51c513f026b3f3abbbe1397.txt\u001b[0m\n",
       "\n"
      ]
     },
     "metadata": {},
     "output_type": "display_data"
    },
    {
     "data": {
      "text/html": [
       "<pre style=\"white-space:pre;overflow-x:auto;line-height:normal;font-family:Menlo,'DejaVu Sans Mono',consolas,'Courier New',monospace\">Tag <span style=\"color: #008000; text-decoration-color: #008000\">\"</span><span style=\"color: #43c661; text-decoration-color: #43c661; font-weight: bold\">furry sticker</span><span style=\"color: #008000; text-decoration-color: #008000\">\"</span> found in caption <span style=\"color: #008000; text-decoration-color: #008000\">\"This image is a </span><span style=\"color: #43c661; text-decoration-color: #43c661; font-weight: bold\">furry sticker</span><span style=\"color: #008000; text-decoration-color: #008000\"> of a stylized anthro hyena.\"</span>\n",
       "</pre>\n"
      ],
      "text/plain": [
       "Tag \u001b[32m\"\u001b[0m\u001b[1;38;2;67;198;97mfurry sticker\u001b[0m\u001b[32m\"\u001b[0m found in caption \u001b[32m\"This image is a \u001b[0m\u001b[1;38;2;67;198;97mfurry sticker\u001b[0m\u001b[32m of a stylized anthro hyena.\"\u001b[0m\n"
      ]
     },
     "metadata": {},
     "output_type": "display_data"
    },
    {
     "data": {
      "text/html": [
       "<pre style=\"white-space:pre;overflow-x:auto;line-height:normal;font-family:Menlo,'DejaVu Sans Mono',consolas,'Courier New',monospace\">Tag <span style=\"color: #008000; text-decoration-color: #008000\">\"</span><span style=\"color: #e55953; text-decoration-color: #e55953; font-weight: bold\">anthro</span><span style=\"color: #008000; text-decoration-color: #008000\">\"</span> found in caption <span style=\"color: #008000; text-decoration-color: #008000\">\"This image is a furry sticker of a stylized </span><span style=\"color: #e55953; text-decoration-color: #e55953; font-weight: bold\">anthro</span><span style=\"color: #008000; text-decoration-color: #008000\"> hyena.\"</span>\n",
       "</pre>\n"
      ],
      "text/plain": [
       "Tag \u001b[32m\"\u001b[0m\u001b[1;38;2;229;89;83manthro\u001b[0m\u001b[32m\"\u001b[0m found in caption \u001b[32m\"This image is a furry sticker of a stylized \u001b[0m\u001b[1;38;2;229;89;83manthro\u001b[0m\u001b[32m hyena.\"\u001b[0m\n"
      ]
     },
     "metadata": {},
     "output_type": "display_data"
    },
    {
     "data": {
      "text/html": [
       "<pre style=\"white-space:pre;overflow-x:auto;line-height:normal;font-family:Menlo,'DejaVu Sans Mono',consolas,'Courier New',monospace\">Tag <span style=\"color: #008000; text-decoration-color: #008000\">\"</span><span style=\"color: #536032; text-decoration-color: #536032; font-weight: bold\">blush</span><span style=\"color: #008000; text-decoration-color: #008000\">\"</span> found in caption <span style=\"color: #008000; text-decoration-color: #008000\">\"The hyena has a </span><span style=\"color: #536032; text-decoration-color: #536032; font-weight: bold\">blush</span><span style=\"color: #008000; text-decoration-color: #008000\">.\"</span>\n",
       "</pre>\n"
      ],
      "text/plain": [
       "Tag \u001b[32m\"\u001b[0m\u001b[1;38;2;83;96;50mblush\u001b[0m\u001b[32m\"\u001b[0m found in caption \u001b[32m\"The hyena has a \u001b[0m\u001b[1;38;2;83;96;50mblush\u001b[0m\u001b[32m.\"\u001b[0m\n"
      ]
     },
     "metadata": {},
     "output_type": "display_data"
    },
    {
     "data": {
      "text/html": [
       "<pre style=\"white-space:pre;overflow-x:auto;line-height:normal;font-family:Menlo,'DejaVu Sans Mono',consolas,'Courier New',monospace\">Tag <span style=\"color: #008000; text-decoration-color: #008000\">\"</span><span style=\"color: #f4544e; text-decoration-color: #f4544e; font-weight: bold\">hyena</span><span style=\"color: #008000; text-decoration-color: #008000\">\"</span> found in caption <span style=\"color: #008000; text-decoration-color: #008000\">\"This image is a furry sticker of a stylized anthro </span><span style=\"color: #f4544e; text-decoration-color: #f4544e; font-weight: bold\">hyena</span><span style=\"color: #008000; text-decoration-color: #008000\">.\"</span>\n",
       "</pre>\n"
      ],
      "text/plain": [
       "Tag \u001b[32m\"\u001b[0m\u001b[1;38;2;244;84;78mhyena\u001b[0m\u001b[32m\"\u001b[0m found in caption \u001b[32m\"This image is a furry sticker of a stylized anthro \u001b[0m\u001b[1;38;2;244;84;78mhyena\u001b[0m\u001b[32m.\"\u001b[0m\n"
      ]
     },
     "metadata": {},
     "output_type": "display_data"
    },
    {
     "data": {
      "text/html": [
       "<pre style=\"white-space:pre;overflow-x:auto;line-height:normal;font-family:Menlo,'DejaVu Sans Mono',consolas,'Courier New',monospace\">Tag <span style=\"color: #008000; text-decoration-color: #008000\">\"</span><span style=\"color: #e863f0; text-decoration-color: #e863f0; font-weight: bold\">hyena</span><span style=\"color: #008000; text-decoration-color: #008000\">\"</span> found in caption <span style=\"color: #008000; text-decoration-color: #008000\">\"The </span><span style=\"color: #e863f0; text-decoration-color: #e863f0; font-weight: bold\">hyena</span><span style=\"color: #008000; text-decoration-color: #008000\"> has a blush.\"</span>\n",
       "</pre>\n"
      ],
      "text/plain": [
       "Tag \u001b[32m\"\u001b[0m\u001b[1;38;2;232;99;240mhyena\u001b[0m\u001b[32m\"\u001b[0m found in caption \u001b[32m\"The \u001b[0m\u001b[1;38;2;232;99;240mhyena\u001b[0m\u001b[32m has a blush.\"\u001b[0m\n"
      ]
     },
     "metadata": {},
     "output_type": "display_data"
    },
    {
     "data": {
      "text/html": [
       "<pre style=\"white-space:pre;overflow-x:auto;line-height:normal;font-family:Menlo,'DejaVu Sans Mono',consolas,'Courier New',monospace\">Tag <span style=\"color: #008000; text-decoration-color: #008000\">\"</span><span style=\"color: #31c549; text-decoration-color: #31c549; font-weight: bold\">tail</span><span style=\"color: #008000; text-decoration-color: #008000\">\"</span> found in caption <span style=\"color: #008000; text-decoration-color: #008000\">\"It is depicted in a playful or cheeky pose with its </span><span style=\"color: #31c549; text-decoration-color: #31c549; font-weight: bold\">tail</span><span style=\"color: #008000; text-decoration-color: #008000\"> raised and wagging.\"</span>\n",
       "</pre>\n"
      ],
      "text/plain": [
       "Tag \u001b[32m\"\u001b[0m\u001b[1;38;2;49;197;73mtail\u001b[0m\u001b[32m\"\u001b[0m found in caption \u001b[32m\"It is depicted in a playful or cheeky pose with its \u001b[0m\u001b[1;38;2;49;197;73mtail\u001b[0m\u001b[32m raised and wagging.\"\u001b[0m\n"
      ]
     },
     "metadata": {},
     "output_type": "display_data"
    },
    {
     "data": {
      "text/html": [
       "<pre style=\"white-space:pre;overflow-x:auto;line-height:normal;font-family:Menlo,'DejaVu Sans Mono',consolas,'Courier New',monospace\">Tag <span style=\"color: #008000; text-decoration-color: #008000\">\"</span><span style=\"color: #d7149c; text-decoration-color: #d7149c; font-weight: bold\">outline</span><span style=\"color: #008000; text-decoration-color: #008000\">\"</span> found in caption <span style=\"color: #008000; text-decoration-color: #008000\">\"The character is wearing purple shorts and there's a white </span><span style=\"color: #d7149c; text-decoration-color: #d7149c; font-weight: bold\">outline</span><span style=\"color: #008000; text-decoration-color: #008000\"> around the </span>\n",
       "<span style=\"color: #008000; text-decoration-color: #008000\">character.\"</span>\n",
       "</pre>\n"
      ],
      "text/plain": [
       "Tag \u001b[32m\"\u001b[0m\u001b[1;38;2;215;20;156moutline\u001b[0m\u001b[32m\"\u001b[0m found in caption \u001b[32m\"The character is wearing purple shorts and there's a white \u001b[0m\u001b[1;38;2;215;20;156moutline\u001b[0m\u001b[32m around the \u001b[0m\n",
       "\u001b[32mcharacter.\"\u001b[0m\n"
      ]
     },
     "metadata": {},
     "output_type": "display_data"
    },
    {
     "data": {
      "text/html": [
       "<pre style=\"white-space:pre;overflow-x:auto;line-height:normal;font-family:Menlo,'DejaVu Sans Mono',consolas,'Courier New',monospace\">\n",
       "\n",
       "<span style=\"font-weight: bold\">C:\\Users\\kade\\Desktop\\training_dir_staging\\1_furry_sticker\\560fb29619d60a588b629ab27cd7b869.txt</span>\n",
       "\n",
       "</pre>\n"
      ],
      "text/plain": [
       "\n",
       "\n",
       "\u001b[1mC:\\Users\\kade\\Desktop\\training_dir_staging\\1_furry_sticker\\560fb29619d60a588b629ab27cd7b869.txt\u001b[0m\n",
       "\n"
      ]
     },
     "metadata": {},
     "output_type": "display_data"
    },
    {
     "data": {
      "text/html": [
       "<pre style=\"white-space:pre;overflow-x:auto;line-height:normal;font-family:Menlo,'DejaVu Sans Mono',consolas,'Courier New',monospace\">Tag <span style=\"color: #008000; text-decoration-color: #008000\">\"</span><span style=\"color: #c32694; text-decoration-color: #c32694; font-weight: bold\">anthro</span><span style=\"color: #008000; text-decoration-color: #008000\">\"</span> found in caption <span style=\"color: #008000; text-decoration-color: #008000\">\"This image is a cartoon representation of </span><span style=\"color: #c32694; text-decoration-color: #c32694; font-weight: bold\">anthro</span><span style=\"color: #008000; text-decoration-color: #008000\"> rabbit.\"</span>\n",
       "</pre>\n"
      ],
      "text/plain": [
       "Tag \u001b[32m\"\u001b[0m\u001b[1;38;2;195;38;148manthro\u001b[0m\u001b[32m\"\u001b[0m found in caption \u001b[32m\"This image is a cartoon representation of \u001b[0m\u001b[1;38;2;195;38;148manthro\u001b[0m\u001b[32m rabbit.\"\u001b[0m\n"
      ]
     },
     "metadata": {},
     "output_type": "display_data"
    },
    {
     "data": {
      "text/html": [
       "<pre style=\"white-space:pre;overflow-x:auto;line-height:normal;font-family:Menlo,'DejaVu Sans Mono',consolas,'Courier New',monospace\">Tag <span style=\"color: #008000; text-decoration-color: #008000\">\"</span><span style=\"color: #be2c47; text-decoration-color: #be2c47; font-weight: bold\">rabbit</span><span style=\"color: #008000; text-decoration-color: #008000\">\"</span> found in caption <span style=\"color: #008000; text-decoration-color: #008000\">\"This image is a cartoon representation of anthro </span><span style=\"color: #be2c47; text-decoration-color: #be2c47; font-weight: bold\">rabbit</span><span style=\"color: #008000; text-decoration-color: #008000\">.\"</span>\n",
       "</pre>\n"
      ],
      "text/plain": [
       "Tag \u001b[32m\"\u001b[0m\u001b[1;38;2;190;44;71mrabbit\u001b[0m\u001b[32m\"\u001b[0m found in caption \u001b[32m\"This image is a cartoon representation of anthro \u001b[0m\u001b[1;38;2;190;44;71mrabbit\u001b[0m\u001b[32m.\"\u001b[0m\n"
      ]
     },
     "metadata": {},
     "output_type": "display_data"
    },
    {
     "data": {
      "text/html": [
       "<pre style=\"white-space:pre;overflow-x:auto;line-height:normal;font-family:Menlo,'DejaVu Sans Mono',consolas,'Courier New',monospace\">Tag <span style=\"color: #008000; text-decoration-color: #008000\">\"</span><span style=\"color: #71232a; text-decoration-color: #71232a; font-weight: bold\">fur</span><span style=\"color: #008000; text-decoration-color: #008000\">\"</span> found in caption <span style=\"color: #008000; text-decoration-color: #008000\">\"The bunny has a light brown </span><span style=\"color: #71232a; text-decoration-color: #71232a; font-weight: bold\">fur</span><span style=\"color: #008000; text-decoration-color: #008000\"> color with some white and pink patches.\"</span>\n",
       "</pre>\n"
      ],
      "text/plain": [
       "Tag \u001b[32m\"\u001b[0m\u001b[1;38;2;113;35;42mfur\u001b[0m\u001b[32m\"\u001b[0m found in caption \u001b[32m\"The bunny has a light brown \u001b[0m\u001b[1;38;2;113;35;42mfur\u001b[0m\u001b[32m color with some white and pink patches.\"\u001b[0m\n"
      ]
     },
     "metadata": {},
     "output_type": "display_data"
    },
    {
     "data": {
      "text/html": [
       "<pre style=\"white-space:pre;overflow-x:auto;line-height:normal;font-family:Menlo,'DejaVu Sans Mono',consolas,'Courier New',monospace\">Tag <span style=\"color: #008000; text-decoration-color: #008000\">\"</span><span style=\"color: #c70ae6; text-decoration-color: #c70ae6; font-weight: bold\">pink nose</span><span style=\"color: #008000; text-decoration-color: #008000\">\"</span> found in caption <span style=\"color: #008000; text-decoration-color: #008000\">\"It has a cheerful expression with round open eyes and a </span><span style=\"color: #c70ae6; text-decoration-color: #c70ae6; font-weight: bold\">pink nose</span><span style=\"color: #008000; text-decoration-color: #008000\">.\"</span>\n",
       "</pre>\n"
      ],
      "text/plain": [
       "Tag \u001b[32m\"\u001b[0m\u001b[1;38;2;199;10;230mpink nose\u001b[0m\u001b[32m\"\u001b[0m found in caption \u001b[32m\"It has a cheerful expression with round open eyes and a \u001b[0m\u001b[1;38;2;199;10;230mpink nose\u001b[0m\u001b[32m.\"\u001b[0m\n"
      ]
     },
     "metadata": {},
     "output_type": "display_data"
    },
    {
     "data": {
      "text/html": [
       "<pre style=\"white-space:pre;overflow-x:auto;line-height:normal;font-family:Menlo,'DejaVu Sans Mono',consolas,'Courier New',monospace\">Tag <span style=\"color: #008000; text-decoration-color: #008000\">\"</span><span style=\"color: #afb26e; text-decoration-color: #afb26e; font-weight: bold\">brown fur</span><span style=\"color: #008000; text-decoration-color: #008000\">\"</span> found in caption <span style=\"color: #008000; text-decoration-color: #008000\">\"The bunny has a light </span><span style=\"color: #afb26e; text-decoration-color: #afb26e; font-weight: bold\">brown fur</span><span style=\"color: #008000; text-decoration-color: #008000\"> color with some white and pink patches.\"</span>\n",
       "</pre>\n"
      ],
      "text/plain": [
       "Tag \u001b[32m\"\u001b[0m\u001b[1;38;2;175;178;110mbrown fur\u001b[0m\u001b[32m\"\u001b[0m found in caption \u001b[32m\"The bunny has a light \u001b[0m\u001b[1;38;2;175;178;110mbrown fur\u001b[0m\u001b[32m color with some white and pink patches.\"\u001b[0m\n"
      ]
     },
     "metadata": {},
     "output_type": "display_data"
    },
    {
     "data": {
      "text/html": [
       "<pre style=\"white-space:pre;overflow-x:auto;line-height:normal;font-family:Menlo,'DejaVu Sans Mono',consolas,'Courier New',monospace\">\n",
       "\n",
       "<span style=\"font-weight: bold\">C:\\Users\\kade\\Desktop\\training_dir_staging\\1_furry_sticker\\7b7bd6e31e5116408d9cbfe7b7644e1f.txt</span>\n",
       "\n",
       "</pre>\n"
      ],
      "text/plain": [
       "\n",
       "\n",
       "\u001b[1mC:\\Users\\kade\\Desktop\\training_dir_staging\\1_furry_sticker\\7b7bd6e31e5116408d9cbfe7b7644e1f.txt\u001b[0m\n",
       "\n"
      ]
     },
     "metadata": {},
     "output_type": "display_data"
    },
    {
     "data": {
      "text/html": [
       "<pre style=\"white-space:pre;overflow-x:auto;line-height:normal;font-family:Menlo,'DejaVu Sans Mono',consolas,'Courier New',monospace\">Tag <span style=\"color: #008000; text-decoration-color: #008000\">\"</span><span style=\"color: #d4edea; text-decoration-color: #d4edea; font-weight: bold\">furry sticker</span><span style=\"color: #008000; text-decoration-color: #008000\">\"</span> found in caption <span style=\"color: #008000; text-decoration-color: #008000\">\"This </span><span style=\"color: #d4edea; text-decoration-color: #d4edea; font-weight: bold\">furry sticker</span><span style=\"color: #008000; text-decoration-color: #008000\"> is a stylized animated depiction of anthro fox.\"</span>\n",
       "</pre>\n"
      ],
      "text/plain": [
       "Tag \u001b[32m\"\u001b[0m\u001b[1;38;2;212;237;234mfurry sticker\u001b[0m\u001b[32m\"\u001b[0m found in caption \u001b[32m\"This \u001b[0m\u001b[1;38;2;212;237;234mfurry sticker\u001b[0m\u001b[32m is a stylized animated depiction of anthro fox.\"\u001b[0m\n"
      ]
     },
     "metadata": {},
     "output_type": "display_data"
    },
    {
     "data": {
      "text/html": [
       "<pre style=\"white-space:pre;overflow-x:auto;line-height:normal;font-family:Menlo,'DejaVu Sans Mono',consolas,'Courier New',monospace\">Tag <span style=\"color: #008000; text-decoration-color: #008000\">\"</span><span style=\"color: #677644; text-decoration-color: #677644; font-weight: bold\">collar</span><span style=\"color: #008000; text-decoration-color: #008000\">\"</span> found in caption <span style=\"color: #008000; text-decoration-color: #008000\">\"It has green eyes and is wearing a blue </span><span style=\"color: #677644; text-decoration-color: #677644; font-weight: bold\">collar</span><span style=\"color: #008000; text-decoration-color: #008000\"> with a silver buckle.\"</span>\n",
       "</pre>\n"
      ],
      "text/plain": [
       "Tag \u001b[32m\"\u001b[0m\u001b[1;38;2;103;118;68mcollar\u001b[0m\u001b[32m\"\u001b[0m found in caption \u001b[32m\"It has green eyes and is wearing a blue \u001b[0m\u001b[1;38;2;103;118;68mcollar\u001b[0m\u001b[32m with a silver buckle.\"\u001b[0m\n"
      ]
     },
     "metadata": {},
     "output_type": "display_data"
    },
    {
     "data": {
      "text/html": [
       "<pre style=\"white-space:pre;overflow-x:auto;line-height:normal;font-family:Menlo,'DejaVu Sans Mono',consolas,'Courier New',monospace\">Tag <span style=\"color: #008000; text-decoration-color: #008000\">\"</span><span style=\"color: #8652ba; text-decoration-color: #8652ba; font-weight: bold\">fox</span><span style=\"color: #008000; text-decoration-color: #008000\">\"</span> found in caption <span style=\"color: #008000; text-decoration-color: #008000\">\"This furry sticker is a stylized animated depiction of anthro </span><span style=\"color: #8652ba; text-decoration-color: #8652ba; font-weight: bold\">fox</span><span style=\"color: #008000; text-decoration-color: #008000\">.\"</span>\n",
       "</pre>\n"
      ],
      "text/plain": [
       "Tag \u001b[32m\"\u001b[0m\u001b[1;38;2;134;82;186mfox\u001b[0m\u001b[32m\"\u001b[0m found in caption \u001b[32m\"This furry sticker is a stylized animated depiction of anthro \u001b[0m\u001b[1;38;2;134;82;186mfox\u001b[0m\u001b[32m.\"\u001b[0m\n"
      ]
     },
     "metadata": {},
     "output_type": "display_data"
    },
    {
     "data": {
      "text/html": [
       "<pre style=\"white-space:pre;overflow-x:auto;line-height:normal;font-family:Menlo,'DejaVu Sans Mono',consolas,'Courier New',monospace\">Tag <span style=\"color: #008000; text-decoration-color: #008000\">\"</span><span style=\"color: #332001; text-decoration-color: #332001; font-weight: bold\">green eyes</span><span style=\"color: #008000; text-decoration-color: #008000\">\"</span> found in caption <span style=\"color: #008000; text-decoration-color: #008000\">\"It has </span><span style=\"color: #332001; text-decoration-color: #332001; font-weight: bold\">green eyes</span><span style=\"color: #008000; text-decoration-color: #008000\"> and is wearing a blue collar with a silver buckle.\"</span>\n",
       "</pre>\n"
      ],
      "text/plain": [
       "Tag \u001b[32m\"\u001b[0m\u001b[1;38;2;51;32;1mgreen eyes\u001b[0m\u001b[32m\"\u001b[0m found in caption \u001b[32m\"It has \u001b[0m\u001b[1;38;2;51;32;1mgreen eyes\u001b[0m\u001b[32m and is wearing a blue collar with a silver buckle.\"\u001b[0m\n"
      ]
     },
     "metadata": {},
     "output_type": "display_data"
    },
    {
     "data": {
      "text/html": [
       "<pre style=\"white-space:pre;overflow-x:auto;line-height:normal;font-family:Menlo,'DejaVu Sans Mono',consolas,'Courier New',monospace\">Tag <span style=\"color: #008000; text-decoration-color: #008000\">\"</span><span style=\"color: #4a3d8f; text-decoration-color: #4a3d8f; font-weight: bold\">anthro</span><span style=\"color: #008000; text-decoration-color: #008000\">\"</span> found in caption <span style=\"color: #008000; text-decoration-color: #008000\">\"This furry sticker is a stylized animated depiction of </span><span style=\"color: #4a3d8f; text-decoration-color: #4a3d8f; font-weight: bold\">anthro</span><span style=\"color: #008000; text-decoration-color: #008000\"> fox.\"</span>\n",
       "</pre>\n"
      ],
      "text/plain": [
       "Tag \u001b[32m\"\u001b[0m\u001b[1;38;2;74;61;143manthro\u001b[0m\u001b[32m\"\u001b[0m found in caption \u001b[32m\"This furry sticker is a stylized animated depiction of \u001b[0m\u001b[1;38;2;74;61;143manthro\u001b[0m\u001b[32m fox.\"\u001b[0m\n"
      ]
     },
     "metadata": {},
     "output_type": "display_data"
    },
    {
     "data": {
      "text/html": [
       "<pre style=\"white-space:pre;overflow-x:auto;line-height:normal;font-family:Menlo,'DejaVu Sans Mono',consolas,'Courier New',monospace\">Tag <span style=\"color: #008000; text-decoration-color: #008000\">\"</span><span style=\"color: #8d8fbe; text-decoration-color: #8d8fbe; font-weight: bold\">fur</span><span style=\"color: #008000; text-decoration-color: #008000\">\"</span> found in caption <span style=\"color: #008000; text-decoration-color: #008000\">\"The character has an orange </span><span style=\"color: #8d8fbe; text-decoration-color: #8d8fbe; font-weight: bold\">fur</span><span style=\"color: #008000; text-decoration-color: #008000\"> coat and white underbelly.\"</span>\n",
       "</pre>\n"
      ],
      "text/plain": [
       "Tag \u001b[32m\"\u001b[0m\u001b[1;38;2;141;143;190mfur\u001b[0m\u001b[32m\"\u001b[0m found in caption \u001b[32m\"The character has an orange \u001b[0m\u001b[1;38;2;141;143;190mfur\u001b[0m\u001b[32m coat and white underbelly.\"\u001b[0m\n"
      ]
     },
     "metadata": {},
     "output_type": "display_data"
    },
    {
     "data": {
      "text/html": [
       "<pre style=\"white-space:pre;overflow-x:auto;line-height:normal;font-family:Menlo,'DejaVu Sans Mono',consolas,'Courier New',monospace\">Tag <span style=\"color: #008000; text-decoration-color: #008000\">\"</span><span style=\"color: #db7d62; text-decoration-color: #db7d62; font-weight: bold\">orange fur</span><span style=\"color: #008000; text-decoration-color: #008000\">\"</span> found in caption <span style=\"color: #008000; text-decoration-color: #008000\">\"The character has an </span><span style=\"color: #db7d62; text-decoration-color: #db7d62; font-weight: bold\">orange fur</span><span style=\"color: #008000; text-decoration-color: #008000\"> coat and white underbelly.\"</span>\n",
       "</pre>\n"
      ],
      "text/plain": [
       "Tag \u001b[32m\"\u001b[0m\u001b[1;38;2;219;125;98morange fur\u001b[0m\u001b[32m\"\u001b[0m found in caption \u001b[32m\"The character has an \u001b[0m\u001b[1;38;2;219;125;98morange fur\u001b[0m\u001b[32m coat and white underbelly.\"\u001b[0m\n"
      ]
     },
     "metadata": {},
     "output_type": "display_data"
    },
    {
     "data": {
      "text/html": [
       "<pre style=\"white-space:pre;overflow-x:auto;line-height:normal;font-family:Menlo,'DejaVu Sans Mono',consolas,'Courier New',monospace\">\n",
       "\n",
       "<span style=\"font-weight: bold\">C:\\Users\\kade\\Desktop\\training_dir_staging\\1_furry_sticker\\7ba5c31f77820c66bceb515864857325.txt</span>\n",
       "\n",
       "</pre>\n"
      ],
      "text/plain": [
       "\n",
       "\n",
       "\u001b[1mC:\\Users\\kade\\Desktop\\training_dir_staging\\1_furry_sticker\\7ba5c31f77820c66bceb515864857325.txt\u001b[0m\n",
       "\n"
      ]
     },
     "metadata": {},
     "output_type": "display_data"
    },
    {
     "data": {
      "text/html": [
       "<pre style=\"white-space:pre;overflow-x:auto;line-height:normal;font-family:Menlo,'DejaVu Sans Mono',consolas,'Courier New',monospace\">Tag <span style=\"color: #008000; text-decoration-color: #008000\">\"</span><span style=\"color: #829156; text-decoration-color: #829156; font-weight: bold\">lion</span><span style=\"color: #008000; text-decoration-color: #008000\">\"</span> found in caption <span style=\"color: #008000; text-decoration-color: #008000\">\"This sticker depicts animated anthro </span><span style=\"color: #829156; text-decoration-color: #829156; font-weight: bold\">lion</span><span style=\"color: #008000; text-decoration-color: #008000\"> creature with a playful expression.\"</span>\n",
       "</pre>\n"
      ],
      "text/plain": [
       "Tag \u001b[32m\"\u001b[0m\u001b[1;38;2;130;145;86mlion\u001b[0m\u001b[32m\"\u001b[0m found in caption \u001b[32m\"This sticker depicts animated anthro \u001b[0m\u001b[1;38;2;130;145;86mlion\u001b[0m\u001b[32m creature with a playful expression.\"\u001b[0m\n"
      ]
     },
     "metadata": {},
     "output_type": "display_data"
    },
    {
     "data": {
      "text/html": [
       "<pre style=\"white-space:pre;overflow-x:auto;line-height:normal;font-family:Menlo,'DejaVu Sans Mono',consolas,'Courier New',monospace\">Tag <span style=\"color: #008000; text-decoration-color: #008000\">\"</span><span style=\"color: #dbfb32; text-decoration-color: #dbfb32; font-weight: bold\">anthro</span><span style=\"color: #008000; text-decoration-color: #008000\">\"</span> found in caption <span style=\"color: #008000; text-decoration-color: #008000\">\"This sticker depicts animated </span><span style=\"color: #dbfb32; text-decoration-color: #dbfb32; font-weight: bold\">anthro</span><span style=\"color: #008000; text-decoration-color: #008000\"> lion creature with a playful expression.\"</span>\n",
       "</pre>\n"
      ],
      "text/plain": [
       "Tag \u001b[32m\"\u001b[0m\u001b[1;38;2;219;251;50manthro\u001b[0m\u001b[32m\"\u001b[0m found in caption \u001b[32m\"This sticker depicts animated \u001b[0m\u001b[1;38;2;219;251;50manthro\u001b[0m\u001b[32m lion creature with a playful expression.\"\u001b[0m\n"
      ]
     },
     "metadata": {},
     "output_type": "display_data"
    },
    {
     "data": {
      "text/html": [
       "<pre style=\"white-space:pre;overflow-x:auto;line-height:normal;font-family:Menlo,'DejaVu Sans Mono',consolas,'Courier New',monospace\">Tag <span style=\"color: #008000; text-decoration-color: #008000\">\"</span><span style=\"color: #1b3d41; text-decoration-color: #1b3d41; font-weight: bold\">fur</span><span style=\"color: #008000; text-decoration-color: #008000\">\"</span> found in caption <span style=\"color: #008000; text-decoration-color: #008000\">\"It has light and dark brown </span><span style=\"color: #1b3d41; text-decoration-color: #1b3d41; font-weight: bold\">fur</span><span style=\"color: #008000; text-decoration-color: #008000\"> a pink nose and is waving its right cartoonish paw as </span>\n",
       "<span style=\"color: #008000; text-decoration-color: #008000\">if greeting someone.\"</span>\n",
       "</pre>\n"
      ],
      "text/plain": [
       "Tag \u001b[32m\"\u001b[0m\u001b[1;38;2;27;61;65mfur\u001b[0m\u001b[32m\"\u001b[0m found in caption \u001b[32m\"It has light and dark brown \u001b[0m\u001b[1;38;2;27;61;65mfur\u001b[0m\u001b[32m a pink nose and is waving its right cartoonish paw as \u001b[0m\n",
       "\u001b[32mif greeting someone.\"\u001b[0m\n"
      ]
     },
     "metadata": {},
     "output_type": "display_data"
    },
    {
     "data": {
      "text/html": [
       "<pre style=\"white-space:pre;overflow-x:auto;line-height:normal;font-family:Menlo,'DejaVu Sans Mono',consolas,'Courier New',monospace\">Tag <span style=\"color: #008000; text-decoration-color: #008000\">\"</span><span style=\"color: #b88e68; text-decoration-color: #b88e68; font-weight: bold\">text</span><span style=\"color: #008000; text-decoration-color: #008000\">\"</span> found in caption <span style=\"color: #008000; text-decoration-color: #008000\">\"There is also a speech bubble with the </span><span style=\"color: #b88e68; text-decoration-color: #b88e68; font-weight: bold\">text</span><span style=\"color: #008000; text-decoration-color: #008000\"> \"</span>Hey.<span style=\"color: #008000; text-decoration-color: #008000\">\" written inside it above its head.\"</span>\n",
       "</pre>\n"
      ],
      "text/plain": [
       "Tag \u001b[32m\"\u001b[0m\u001b[1;38;2;184;142;104mtext\u001b[0m\u001b[32m\"\u001b[0m found in caption \u001b[32m\"There is also a speech bubble with the \u001b[0m\u001b[1;38;2;184;142;104mtext\u001b[0m\u001b[32m \"\u001b[0mHey.\u001b[32m\" written inside it above its head.\"\u001b[0m\n"
      ]
     },
     "metadata": {},
     "output_type": "display_data"
    },
    {
     "data": {
      "text/html": [
       "<pre style=\"white-space:pre;overflow-x:auto;line-height:normal;font-family:Menlo,'DejaVu Sans Mono',consolas,'Courier New',monospace\">Tag <span style=\"color: #008000; text-decoration-color: #008000\">\"</span><span style=\"color: #b6ba98; text-decoration-color: #b6ba98; font-weight: bold\">speech bubble</span><span style=\"color: #008000; text-decoration-color: #008000\">\"</span> found in caption <span style=\"color: #008000; text-decoration-color: #008000\">\"There is also a </span><span style=\"color: #b6ba98; text-decoration-color: #b6ba98; font-weight: bold\">speech bubble</span><span style=\"color: #008000; text-decoration-color: #008000\"> with the text \"</span>Hey.<span style=\"color: #008000; text-decoration-color: #008000\">\" written inside it above </span>\n",
       "<span style=\"color: #008000; text-decoration-color: #008000\">its head.\"</span>\n",
       "</pre>\n"
      ],
      "text/plain": [
       "Tag \u001b[32m\"\u001b[0m\u001b[1;38;2;182;186;152mspeech bubble\u001b[0m\u001b[32m\"\u001b[0m found in caption \u001b[32m\"There is also a \u001b[0m\u001b[1;38;2;182;186;152mspeech bubble\u001b[0m\u001b[32m with the text \"\u001b[0mHey.\u001b[32m\" written inside it above \u001b[0m\n",
       "\u001b[32mits head.\"\u001b[0m\n"
      ]
     },
     "metadata": {},
     "output_type": "display_data"
    },
    {
     "data": {
      "text/html": [
       "<pre style=\"white-space:pre;overflow-x:auto;line-height:normal;font-family:Menlo,'DejaVu Sans Mono',consolas,'Courier New',monospace\">\n",
       "\n",
       "<span style=\"font-weight: bold\">C:\\Users\\kade\\Desktop\\training_dir_staging\\1_furry_sticker\\995650eef692b8280ccbd6bd38f1bbae.txt</span>\n",
       "\n",
       "</pre>\n"
      ],
      "text/plain": [
       "\n",
       "\n",
       "\u001b[1mC:\\Users\\kade\\Desktop\\training_dir_staging\\1_furry_sticker\\995650eef692b8280ccbd6bd38f1bbae.txt\u001b[0m\n",
       "\n"
      ]
     },
     "metadata": {},
     "output_type": "display_data"
    },
    {
     "data": {
      "text/html": [
       "<pre style=\"white-space:pre;overflow-x:auto;line-height:normal;font-family:Menlo,'DejaVu Sans Mono',consolas,'Courier New',monospace\">Tag <span style=\"color: #008000; text-decoration-color: #008000\">\"</span><span style=\"color: #12b2fd; text-decoration-color: #12b2fd; font-weight: bold\">anthro</span><span style=\"color: #008000; text-decoration-color: #008000\">\"</span> found in caption <span style=\"color: #008000; text-decoration-color: #008000\">\"This image is a sticker of two </span><span style=\"color: #12b2fd; text-decoration-color: #12b2fd; font-weight: bold\">anthro</span><span style=\"color: #008000; text-decoration-color: #008000\"> characters.\"</span>\n",
       "</pre>\n"
      ],
      "text/plain": [
       "Tag \u001b[32m\"\u001b[0m\u001b[1;38;2;18;178;253manthro\u001b[0m\u001b[32m\"\u001b[0m found in caption \u001b[32m\"This image is a sticker of two \u001b[0m\u001b[1;38;2;18;178;253manthro\u001b[0m\u001b[32m characters.\"\u001b[0m\n"
      ]
     },
     "metadata": {},
     "output_type": "display_data"
    },
    {
     "data": {
      "text/html": [
       "<pre style=\"white-space:pre;overflow-x:auto;line-height:normal;font-family:Menlo,'DejaVu Sans Mono',consolas,'Courier New',monospace\">Tag <span style=\"color: #008000; text-decoration-color: #008000\">\"</span><span style=\"color: #7557f9; text-decoration-color: #7557f9; font-weight: bold\">anthro</span><span style=\"color: #008000; text-decoration-color: #008000\">\"</span> found in caption <span style=\"color: #008000; text-decoration-color: #008000\">\"A tiger is standing upright wearing a cap with an American flag and holding </span><span style=\"color: #7557f9; text-decoration-color: #7557f9; font-weight: bold\">anthro</span><span style=\"color: #008000; text-decoration-color: #008000\"> </span>\n",
       "<span style=\"color: #008000; text-decoration-color: #008000\">fox around its arms and holding a black mask in front of the fox's face.\"</span>\n",
       "</pre>\n"
      ],
      "text/plain": [
       "Tag \u001b[32m\"\u001b[0m\u001b[1;38;2;117;87;249manthro\u001b[0m\u001b[32m\"\u001b[0m found in caption \u001b[32m\"A tiger is standing upright wearing a cap with an American flag and holding \u001b[0m\u001b[1;38;2;117;87;249manthro\u001b[0m\u001b[32m \u001b[0m\n",
       "\u001b[32mfox around its arms and holding a black mask in front of the fox's face.\"\u001b[0m\n"
      ]
     },
     "metadata": {},
     "output_type": "display_data"
    },
    {
     "data": {
      "text/html": [
       "<pre style=\"white-space:pre;overflow-x:auto;line-height:normal;font-family:Menlo,'DejaVu Sans Mono',consolas,'Courier New',monospace\">Tag <span style=\"color: #008000; text-decoration-color: #008000\">\"</span><span style=\"color: #6dc027; text-decoration-color: #6dc027; font-weight: bold\">blush</span><span style=\"color: #008000; text-decoration-color: #008000\">\"</span> found in caption <span style=\"color: #008000; text-decoration-color: #008000\">\"The fox has a </span><span style=\"color: #6dc027; text-decoration-color: #6dc027; font-weight: bold\">blush</span><span style=\"color: #008000; text-decoration-color: #008000\"> on it's face.\"</span>\n",
       "</pre>\n"
      ],
      "text/plain": [
       "Tag \u001b[32m\"\u001b[0m\u001b[1;38;2;109;192;39mblush\u001b[0m\u001b[32m\"\u001b[0m found in caption \u001b[32m\"The fox has a \u001b[0m\u001b[1;38;2;109;192;39mblush\u001b[0m\u001b[32m on it's face.\"\u001b[0m\n"
      ]
     },
     "metadata": {},
     "output_type": "display_data"
    },
    {
     "data": {
      "text/html": [
       "<pre style=\"white-space:pre;overflow-x:auto;line-height:normal;font-family:Menlo,'DejaVu Sans Mono',consolas,'Courier New',monospace\">Tag <span style=\"color: #008000; text-decoration-color: #008000\">\"</span><span style=\"color: #c66daa; text-decoration-color: #c66daa; font-weight: bold\">fox</span><span style=\"color: #008000; text-decoration-color: #008000\">\"</span> found in caption <span style=\"color: #008000; text-decoration-color: #008000\">\"A tiger is standing upright wearing a cap with an American flag and holding anthro </span><span style=\"color: #c66daa; text-decoration-color: #c66daa; font-weight: bold\">fox</span><span style=\"color: #008000; text-decoration-color: #008000\"> </span>\n",
       "<span style=\"color: #008000; text-decoration-color: #008000\">around its arms and holding a black mask in front of the </span><span style=\"color: #c66daa; text-decoration-color: #c66daa; font-weight: bold\">fox</span><span style=\"color: #008000; text-decoration-color: #008000\">'s face.\"</span>\n",
       "</pre>\n"
      ],
      "text/plain": [
       "Tag \u001b[32m\"\u001b[0m\u001b[1;38;2;198;109;170mfox\u001b[0m\u001b[32m\"\u001b[0m found in caption \u001b[32m\"A tiger is standing upright wearing a cap with an American flag and holding anthro \u001b[0m\u001b[1;38;2;198;109;170mfox\u001b[0m\u001b[32m \u001b[0m\n",
       "\u001b[32maround its arms and holding a black mask in front of the \u001b[0m\u001b[1;38;2;198;109;170mfox\u001b[0m\u001b[32m's face.\"\u001b[0m\n"
      ]
     },
     "metadata": {},
     "output_type": "display_data"
    },
    {
     "data": {
      "text/html": [
       "<pre style=\"white-space:pre;overflow-x:auto;line-height:normal;font-family:Menlo,'DejaVu Sans Mono',consolas,'Courier New',monospace\">Tag <span style=\"color: #008000; text-decoration-color: #008000\">\"</span><span style=\"color: #8ac206; text-decoration-color: #8ac206; font-weight: bold\">fox</span><span style=\"color: #008000; text-decoration-color: #008000\">\"</span> found in caption <span style=\"color: #008000; text-decoration-color: #008000\">\"Above them there's a speech bubble with various symbols including a chain and a </span><span style=\"color: #8ac206; text-decoration-color: #8ac206; font-weight: bold\">fox</span><span style=\"color: #008000; text-decoration-color: #008000\"> and</span>\n",
       "<span style=\"color: #008000; text-decoration-color: #008000\">an eggplant with a red line crossing it out.\"</span>\n",
       "</pre>\n"
      ],
      "text/plain": [
       "Tag \u001b[32m\"\u001b[0m\u001b[1;38;2;138;194;6mfox\u001b[0m\u001b[32m\"\u001b[0m found in caption \u001b[32m\"Above them there's a speech bubble with various symbols including a chain and a \u001b[0m\u001b[1;38;2;138;194;6mfox\u001b[0m\u001b[32m and\u001b[0m\n",
       "\u001b[32man eggplant with a red line crossing it out.\"\u001b[0m\n"
      ]
     },
     "metadata": {},
     "output_type": "display_data"
    },
    {
     "data": {
      "text/html": [
       "<pre style=\"white-space:pre;overflow-x:auto;line-height:normal;font-family:Menlo,'DejaVu Sans Mono',consolas,'Courier New',monospace\">Tag <span style=\"color: #008000; text-decoration-color: #008000\">\"</span><span style=\"color: #458d7b; text-decoration-color: #458d7b; font-weight: bold\">fox</span><span style=\"color: #008000; text-decoration-color: #008000\">\"</span> found in caption <span style=\"color: #008000; text-decoration-color: #008000\">\"The </span><span style=\"color: #458d7b; text-decoration-color: #458d7b; font-weight: bold\">fox</span><span style=\"color: #008000; text-decoration-color: #008000\"> is naked and has a fluffy tail that ends in white.\"</span>\n",
       "</pre>\n"
      ],
      "text/plain": [
       "Tag \u001b[32m\"\u001b[0m\u001b[1;38;2;69;141;123mfox\u001b[0m\u001b[32m\"\u001b[0m found in caption \u001b[32m\"The \u001b[0m\u001b[1;38;2;69;141;123mfox\u001b[0m\u001b[32m is naked and has a fluffy tail that ends in white.\"\u001b[0m\n"
      ]
     },
     "metadata": {},
     "output_type": "display_data"
    },
    {
     "data": {
      "text/html": [
       "<pre style=\"white-space:pre;overflow-x:auto;line-height:normal;font-family:Menlo,'DejaVu Sans Mono',consolas,'Courier New',monospace\">Tag <span style=\"color: #008000; text-decoration-color: #008000\">\"</span><span style=\"color: #e85f48; text-decoration-color: #e85f48; font-weight: bold\">fox</span><span style=\"color: #008000; text-decoration-color: #008000\">\"</span> found in caption <span style=\"color: #008000; text-decoration-color: #008000\">\"The </span><span style=\"color: #e85f48; text-decoration-color: #e85f48; font-weight: bold\">fox</span><span style=\"color: #008000; text-decoration-color: #008000\"> has a blush on it's face.\"</span>\n",
       "</pre>\n"
      ],
      "text/plain": [
       "Tag \u001b[32m\"\u001b[0m\u001b[1;38;2;232;95;72mfox\u001b[0m\u001b[32m\"\u001b[0m found in caption \u001b[32m\"The \u001b[0m\u001b[1;38;2;232;95;72mfox\u001b[0m\u001b[32m has a blush on it's face.\"\u001b[0m\n"
      ]
     },
     "metadata": {},
     "output_type": "display_data"
    },
    {
     "data": {
      "text/html": [
       "<pre style=\"white-space:pre;overflow-x:auto;line-height:normal;font-family:Menlo,'DejaVu Sans Mono',consolas,'Courier New',monospace\">Tag <span style=\"color: #008000; text-decoration-color: #008000\">\"</span><span style=\"color: #4ca48d; text-decoration-color: #4ca48d; font-weight: bold\">tiger</span><span style=\"color: #008000; text-decoration-color: #008000\">\"</span> found in caption <span style=\"color: #008000; text-decoration-color: #008000\">\"A </span><span style=\"color: #4ca48d; text-decoration-color: #4ca48d; font-weight: bold\">tiger</span><span style=\"color: #008000; text-decoration-color: #008000\"> is standing upright wearing a cap with an American flag and holding anthro </span>\n",
       "<span style=\"color: #008000; text-decoration-color: #008000\">fox around its arms and holding a black mask in front of the fox's face.\"</span>\n",
       "</pre>\n"
      ],
      "text/plain": [
       "Tag \u001b[32m\"\u001b[0m\u001b[1;38;2;76;164;141mtiger\u001b[0m\u001b[32m\"\u001b[0m found in caption \u001b[32m\"A \u001b[0m\u001b[1;38;2;76;164;141mtiger\u001b[0m\u001b[32m is standing upright wearing a cap with an American flag and holding anthro \u001b[0m\n",
       "\u001b[32mfox around its arms and holding a black mask in front of the fox's face.\"\u001b[0m\n"
      ]
     },
     "metadata": {},
     "output_type": "display_data"
    },
    {
     "data": {
      "text/html": [
       "<pre style=\"white-space:pre;overflow-x:auto;line-height:normal;font-family:Menlo,'DejaVu Sans Mono',consolas,'Courier New',monospace\">Tag <span style=\"color: #008000; text-decoration-color: #008000\">\"</span><span style=\"color: #d1f1d6; text-decoration-color: #d1f1d6; font-weight: bold\">tiger</span><span style=\"color: #008000; text-decoration-color: #008000\">\"</span> found in caption <span style=\"color: #008000; text-decoration-color: #008000\">\"The </span><span style=\"color: #d1f1d6; text-decoration-color: #d1f1d6; font-weight: bold\">tiger</span><span style=\"color: #008000; text-decoration-color: #008000\"> is also wearing a black and orange outfit.\"</span>\n",
       "</pre>\n"
      ],
      "text/plain": [
       "Tag \u001b[32m\"\u001b[0m\u001b[1;38;2;209;241;214mtiger\u001b[0m\u001b[32m\"\u001b[0m found in caption \u001b[32m\"The \u001b[0m\u001b[1;38;2;209;241;214mtiger\u001b[0m\u001b[32m is also wearing a black and orange outfit.\"\u001b[0m\n"
      ]
     },
     "metadata": {},
     "output_type": "display_data"
    },
    {
     "data": {
      "text/html": [
       "<pre style=\"white-space:pre;overflow-x:auto;line-height:normal;font-family:Menlo,'DejaVu Sans Mono',consolas,'Courier New',monospace\">Tag <span style=\"color: #008000; text-decoration-color: #008000\">\"</span><span style=\"color: #c88bba; text-decoration-color: #c88bba; font-weight: bold\">tiger</span><span style=\"color: #008000; text-decoration-color: #008000\">\"</span> found in caption <span style=\"color: #008000; text-decoration-color: #008000\">\"The </span><span style=\"color: #c88bba; text-decoration-color: #c88bba; font-weight: bold\">tiger</span><span style=\"color: #008000; text-decoration-color: #008000\"> has a bell on the end of its tail.\"</span>\n",
       "</pre>\n"
      ],
      "text/plain": [
       "Tag \u001b[32m\"\u001b[0m\u001b[1;38;2;200;139;186mtiger\u001b[0m\u001b[32m\"\u001b[0m found in caption \u001b[32m\"The \u001b[0m\u001b[1;38;2;200;139;186mtiger\u001b[0m\u001b[32m has a bell on the end of its tail.\"\u001b[0m\n"
      ]
     },
     "metadata": {},
     "output_type": "display_data"
    },
    {
     "data": {
      "text/html": [
       "<pre style=\"white-space:pre;overflow-x:auto;line-height:normal;font-family:Menlo,'DejaVu Sans Mono',consolas,'Courier New',monospace\">Tag <span style=\"color: #008000; text-decoration-color: #008000\">\"</span><span style=\"color: #3a6ee7; text-decoration-color: #3a6ee7; font-weight: bold\">green eyes</span><span style=\"color: #008000; text-decoration-color: #008000\">\"</span> found in caption <span style=\"color: #008000; text-decoration-color: #008000\">\"Both characters have </span><span style=\"color: #3a6ee7; text-decoration-color: #3a6ee7; font-weight: bold\">green eyes</span><span style=\"color: #008000; text-decoration-color: #008000\">.\"</span>\n",
       "</pre>\n"
      ],
      "text/plain": [
       "Tag \u001b[32m\"\u001b[0m\u001b[1;38;2;58;110;231mgreen eyes\u001b[0m\u001b[32m\"\u001b[0m found in caption \u001b[32m\"Both characters have \u001b[0m\u001b[1;38;2;58;110;231mgreen eyes\u001b[0m\u001b[32m.\"\u001b[0m\n"
      ]
     },
     "metadata": {},
     "output_type": "display_data"
    },
    {
     "data": {
      "text/html": [
       "<pre style=\"white-space:pre;overflow-x:auto;line-height:normal;font-family:Menlo,'DejaVu Sans Mono',consolas,'Courier New',monospace\">Tag <span style=\"color: #008000; text-decoration-color: #008000\">\"</span><span style=\"color: #7bca14; text-decoration-color: #7bca14; font-weight: bold\">speech bubble</span><span style=\"color: #008000; text-decoration-color: #008000\">\"</span> found in caption <span style=\"color: #008000; text-decoration-color: #008000\">\"Above them there's a </span><span style=\"color: #7bca14; text-decoration-color: #7bca14; font-weight: bold\">speech bubble</span><span style=\"color: #008000; text-decoration-color: #008000\"> with various symbols including a chain and</span>\n",
       "<span style=\"color: #008000; text-decoration-color: #008000\">a fox and an eggplant with a red line crossing it out.\"</span>\n",
       "</pre>\n"
      ],
      "text/plain": [
       "Tag \u001b[32m\"\u001b[0m\u001b[1;38;2;123;202;20mspeech bubble\u001b[0m\u001b[32m\"\u001b[0m found in caption \u001b[32m\"Above them there's a \u001b[0m\u001b[1;38;2;123;202;20mspeech bubble\u001b[0m\u001b[32m with various symbols including a chain and\u001b[0m\n",
       "\u001b[32ma fox and an eggplant with a red line crossing it out.\"\u001b[0m\n"
      ]
     },
     "metadata": {},
     "output_type": "display_data"
    },
    {
     "data": {
      "text/html": [
       "<pre style=\"white-space:pre;overflow-x:auto;line-height:normal;font-family:Menlo,'DejaVu Sans Mono',consolas,'Courier New',monospace\">\n",
       "\n",
       "<span style=\"font-weight: bold\">C:\\Users\\kade\\Desktop\\training_dir_staging\\1_furry_sticker\\af645ac16a9c9608b6429837a82b361c.txt</span>\n",
       "\n",
       "</pre>\n"
      ],
      "text/plain": [
       "\n",
       "\n",
       "\u001b[1mC:\\Users\\kade\\Desktop\\training_dir_staging\\1_furry_sticker\\af645ac16a9c9608b6429837a82b361c.txt\u001b[0m\n",
       "\n"
      ]
     },
     "metadata": {},
     "output_type": "display_data"
    },
    {
     "data": {
      "text/html": [
       "<pre style=\"white-space:pre;overflow-x:auto;line-height:normal;font-family:Menlo,'DejaVu Sans Mono',consolas,'Courier New',monospace\">Tag <span style=\"color: #008000; text-decoration-color: #008000\">\"</span><span style=\"color: #c7112a; text-decoration-color: #c7112a; font-weight: bold\">furry sticker</span><span style=\"color: #008000; text-decoration-color: #008000\">\"</span> found in caption <span style=\"color: #008000; text-decoration-color: #008000\">\"This </span><span style=\"color: #c7112a; text-decoration-color: #c7112a; font-weight: bold\">furry sticker</span><span style=\"color: #008000; text-decoration-color: #008000\"> depicts anthro fox with orange fur and green eyes.\"</span>\n",
       "</pre>\n"
      ],
      "text/plain": [
       "Tag \u001b[32m\"\u001b[0m\u001b[1;38;2;199;17;42mfurry sticker\u001b[0m\u001b[32m\"\u001b[0m found in caption \u001b[32m\"This \u001b[0m\u001b[1;38;2;199;17;42mfurry sticker\u001b[0m\u001b[32m depicts anthro fox with orange fur and green eyes.\"\u001b[0m\n"
      ]
     },
     "metadata": {},
     "output_type": "display_data"
    },
    {
     "data": {
      "text/html": [
       "<pre style=\"white-space:pre;overflow-x:auto;line-height:normal;font-family:Menlo,'DejaVu Sans Mono',consolas,'Courier New',monospace\">Tag <span style=\"color: #008000; text-decoration-color: #008000\">\"</span><span style=\"color: #040396; text-decoration-color: #040396; font-weight: bold\">fox</span><span style=\"color: #008000; text-decoration-color: #008000\">\"</span> found in caption <span style=\"color: #008000; text-decoration-color: #008000\">\"This furry sticker depicts anthro </span><span style=\"color: #040396; text-decoration-color: #040396; font-weight: bold\">fox</span><span style=\"color: #008000; text-decoration-color: #008000\"> with orange fur and green eyes.\"</span>\n",
       "</pre>\n"
      ],
      "text/plain": [
       "Tag \u001b[32m\"\u001b[0m\u001b[1;38;2;4;3;150mfox\u001b[0m\u001b[32m\"\u001b[0m found in caption \u001b[32m\"This furry sticker depicts anthro \u001b[0m\u001b[1;38;2;4;3;150mfox\u001b[0m\u001b[32m with orange fur and green eyes.\"\u001b[0m\n"
      ]
     },
     "metadata": {},
     "output_type": "display_data"
    },
    {
     "data": {
      "text/html": [
       "<pre style=\"white-space:pre;overflow-x:auto;line-height:normal;font-family:Menlo,'DejaVu Sans Mono',consolas,'Courier New',monospace\">Tag <span style=\"color: #008000; text-decoration-color: #008000\">\"</span><span style=\"color: #11822a; text-decoration-color: #11822a; font-weight: bold\">fox</span><span style=\"color: #008000; text-decoration-color: #008000\">\"</span> found in caption <span style=\"color: #008000; text-decoration-color: #008000\">\"The anthro </span><span style=\"color: #11822a; text-decoration-color: #11822a; font-weight: bold\">fox</span><span style=\"color: #008000; text-decoration-color: #008000\"> is shown in a pose while talking with its mouth open and its hands at </span>\n",
       "<span style=\"color: #008000; text-decoration-color: #008000\">its chest.\"</span>\n",
       "</pre>\n"
      ],
      "text/plain": [
       "Tag \u001b[32m\"\u001b[0m\u001b[1;38;2;17;130;42mfox\u001b[0m\u001b[32m\"\u001b[0m found in caption \u001b[32m\"The anthro \u001b[0m\u001b[1;38;2;17;130;42mfox\u001b[0m\u001b[32m is shown in a pose while talking with its mouth open and its hands at \u001b[0m\n",
       "\u001b[32mits chest.\"\u001b[0m\n"
      ]
     },
     "metadata": {},
     "output_type": "display_data"
    },
    {
     "data": {
      "text/html": [
       "<pre style=\"white-space:pre;overflow-x:auto;line-height:normal;font-family:Menlo,'DejaVu Sans Mono',consolas,'Courier New',monospace\">Tag <span style=\"color: #008000; text-decoration-color: #008000\">\"</span><span style=\"color: #2ecfb9; text-decoration-color: #2ecfb9; font-weight: bold\">fox</span><span style=\"color: #008000; text-decoration-color: #008000\">\"</span> found in caption <span style=\"color: #008000; text-decoration-color: #008000\">\"The background is transparent putting emphasis on the </span><span style=\"color: #2ecfb9; text-decoration-color: #2ecfb9; font-weight: bold\">fox</span><span style=\"color: #008000; text-decoration-color: #008000\"> character.\"</span>\n",
       "</pre>\n"
      ],
      "text/plain": [
       "Tag \u001b[32m\"\u001b[0m\u001b[1;38;2;46;207;185mfox\u001b[0m\u001b[32m\"\u001b[0m found in caption \u001b[32m\"The background is transparent putting emphasis on the \u001b[0m\u001b[1;38;2;46;207;185mfox\u001b[0m\u001b[32m character.\"\u001b[0m\n"
      ]
     },
     "metadata": {},
     "output_type": "display_data"
    },
    {
     "data": {
      "text/html": [
       "<pre style=\"white-space:pre;overflow-x:auto;line-height:normal;font-family:Menlo,'DejaVu Sans Mono',consolas,'Courier New',monospace\">Tag <span style=\"color: #008000; text-decoration-color: #008000\">\"</span><span style=\"color: #9581c0; text-decoration-color: #9581c0; font-weight: bold\">anthro</span><span style=\"color: #008000; text-decoration-color: #008000\">\"</span> found in caption <span style=\"color: #008000; text-decoration-color: #008000\">\"This furry sticker depicts </span><span style=\"color: #9581c0; text-decoration-color: #9581c0; font-weight: bold\">anthro</span><span style=\"color: #008000; text-decoration-color: #008000\"> fox with orange fur and green eyes.\"</span>\n",
       "</pre>\n"
      ],
      "text/plain": [
       "Tag \u001b[32m\"\u001b[0m\u001b[1;38;2;149;129;192manthro\u001b[0m\u001b[32m\"\u001b[0m found in caption \u001b[32m\"This furry sticker depicts \u001b[0m\u001b[1;38;2;149;129;192manthro\u001b[0m\u001b[32m fox with orange fur and green eyes.\"\u001b[0m\n"
      ]
     },
     "metadata": {},
     "output_type": "display_data"
    },
    {
     "data": {
      "text/html": [
       "<pre style=\"white-space:pre;overflow-x:auto;line-height:normal;font-family:Menlo,'DejaVu Sans Mono',consolas,'Courier New',monospace\">Tag <span style=\"color: #008000; text-decoration-color: #008000\">\"</span><span style=\"color: #0d0122; text-decoration-color: #0d0122; font-weight: bold\">anthro</span><span style=\"color: #008000; text-decoration-color: #008000\">\"</span> found in caption <span style=\"color: #008000; text-decoration-color: #008000\">\"The </span><span style=\"color: #0d0122; text-decoration-color: #0d0122; font-weight: bold\">anthro</span><span style=\"color: #008000; text-decoration-color: #008000\"> fox is shown in a pose while talking with its mouth open and its hands at</span>\n",
       "<span style=\"color: #008000; text-decoration-color: #008000\">its chest.\"</span>\n",
       "</pre>\n"
      ],
      "text/plain": [
       "Tag \u001b[32m\"\u001b[0m\u001b[1;38;2;13;1;34manthro\u001b[0m\u001b[32m\"\u001b[0m found in caption \u001b[32m\"The \u001b[0m\u001b[1;38;2;13;1;34manthro\u001b[0m\u001b[32m fox is shown in a pose while talking with its mouth open and its hands at\u001b[0m\n",
       "\u001b[32mits chest.\"\u001b[0m\n"
      ]
     },
     "metadata": {},
     "output_type": "display_data"
    },
    {
     "data": {
      "text/html": [
       "<pre style=\"white-space:pre;overflow-x:auto;line-height:normal;font-family:Menlo,'DejaVu Sans Mono',consolas,'Courier New',monospace\">Tag <span style=\"color: #008000; text-decoration-color: #008000\">\"</span><span style=\"color: #e8e9f6; text-decoration-color: #e8e9f6; font-weight: bold\">green eyes</span><span style=\"color: #008000; text-decoration-color: #008000\">\"</span> found in caption <span style=\"color: #008000; text-decoration-color: #008000\">\"This furry sticker depicts anthro fox with orange fur and </span><span style=\"color: #e8e9f6; text-decoration-color: #e8e9f6; font-weight: bold\">green eyes</span><span style=\"color: #008000; text-decoration-color: #008000\">.\"</span>\n",
       "</pre>\n"
      ],
      "text/plain": [
       "Tag \u001b[32m\"\u001b[0m\u001b[1;38;2;232;233;246mgreen eyes\u001b[0m\u001b[32m\"\u001b[0m found in caption \u001b[32m\"This furry sticker depicts anthro fox with orange fur and \u001b[0m\u001b[1;38;2;232;233;246mgreen eyes\u001b[0m\u001b[32m.\"\u001b[0m\n"
      ]
     },
     "metadata": {},
     "output_type": "display_data"
    },
    {
     "data": {
      "text/html": [
       "<pre style=\"white-space:pre;overflow-x:auto;line-height:normal;font-family:Menlo,'DejaVu Sans Mono',consolas,'Courier New',monospace\">Tag <span style=\"color: #008000; text-decoration-color: #008000\">\"</span><span style=\"color: #cf5f44; text-decoration-color: #cf5f44; font-weight: bold\">fur</span><span style=\"color: #008000; text-decoration-color: #008000\">\"</span> found in caption <span style=\"color: #008000; text-decoration-color: #008000\">\"This </span><span style=\"color: #cf5f44; text-decoration-color: #cf5f44; font-weight: bold\">fur</span><span style=\"color: #008000; text-decoration-color: #008000\">ry sticker depicts anthro fox with orange </span><span style=\"color: #cf5f44; text-decoration-color: #cf5f44; font-weight: bold\">fur</span><span style=\"color: #008000; text-decoration-color: #008000\"> and green eyes.\"</span>\n",
       "</pre>\n"
      ],
      "text/plain": [
       "Tag \u001b[32m\"\u001b[0m\u001b[1;38;2;207;95;68mfur\u001b[0m\u001b[32m\"\u001b[0m found in caption \u001b[32m\"This \u001b[0m\u001b[1;38;2;207;95;68mfur\u001b[0m\u001b[32mry sticker depicts anthro fox with orange \u001b[0m\u001b[1;38;2;207;95;68mfur\u001b[0m\u001b[32m and green eyes.\"\u001b[0m\n"
      ]
     },
     "metadata": {},
     "output_type": "display_data"
    },
    {
     "data": {
      "text/html": [
       "<pre style=\"white-space:pre;overflow-x:auto;line-height:normal;font-family:Menlo,'DejaVu Sans Mono',consolas,'Courier New',monospace\">Tag <span style=\"color: #008000; text-decoration-color: #008000\">\"</span><span style=\"color: #51c0b9; text-decoration-color: #51c0b9; font-weight: bold\">orange fur</span><span style=\"color: #008000; text-decoration-color: #008000\">\"</span> found in caption <span style=\"color: #008000; text-decoration-color: #008000\">\"This furry sticker depicts anthro fox with </span><span style=\"color: #51c0b9; text-decoration-color: #51c0b9; font-weight: bold\">orange fur</span><span style=\"color: #008000; text-decoration-color: #008000\"> and green eyes.\"</span>\n",
       "</pre>\n"
      ],
      "text/plain": [
       "Tag \u001b[32m\"\u001b[0m\u001b[1;38;2;81;192;185morange fur\u001b[0m\u001b[32m\"\u001b[0m found in caption \u001b[32m\"This furry sticker depicts anthro fox with \u001b[0m\u001b[1;38;2;81;192;185morange fur\u001b[0m\u001b[32m and green eyes.\"\u001b[0m\n"
      ]
     },
     "metadata": {},
     "output_type": "display_data"
    },
    {
     "data": {
      "text/html": [
       "<pre style=\"white-space:pre;overflow-x:auto;line-height:normal;font-family:Menlo,'DejaVu Sans Mono',consolas,'Courier New',monospace\">Tag <span style=\"color: #008000; text-decoration-color: #008000\">\"</span><span style=\"color: #b1035d; text-decoration-color: #b1035d; font-weight: bold\">outline</span><span style=\"color: #008000; text-decoration-color: #008000\">\"</span> found in caption <span style=\"color: #008000; text-decoration-color: #008000\">\"The character has a white </span><span style=\"color: #b1035d; text-decoration-color: #b1035d; font-weight: bold\">outline</span><span style=\"color: #008000; text-decoration-color: #008000\"> around it.\"</span>\n",
       "</pre>\n"
      ],
      "text/plain": [
       "Tag \u001b[32m\"\u001b[0m\u001b[1;38;2;177;3;93moutline\u001b[0m\u001b[32m\"\u001b[0m found in caption \u001b[32m\"The character has a white \u001b[0m\u001b[1;38;2;177;3;93moutline\u001b[0m\u001b[32m around it.\"\u001b[0m\n"
      ]
     },
     "metadata": {},
     "output_type": "display_data"
    },
    {
     "data": {
      "text/html": [
       "<pre style=\"white-space:pre;overflow-x:auto;line-height:normal;font-family:Menlo,'DejaVu Sans Mono',consolas,'Courier New',monospace\">\n",
       "\n",
       "<span style=\"font-weight: bold\">C:\\Users\\kade\\Desktop\\training_dir_staging\\1_furry_sticker\\c004dd17eabdc650f7870d1cce451132.txt</span>\n",
       "\n",
       "</pre>\n"
      ],
      "text/plain": [
       "\n",
       "\n",
       "\u001b[1mC:\\Users\\kade\\Desktop\\training_dir_staging\\1_furry_sticker\\c004dd17eabdc650f7870d1cce451132.txt\u001b[0m\n",
       "\n"
      ]
     },
     "metadata": {},
     "output_type": "display_data"
    },
    {
     "data": {
      "text/html": [
       "<pre style=\"white-space:pre;overflow-x:auto;line-height:normal;font-family:Menlo,'DejaVu Sans Mono',consolas,'Courier New',monospace\">Tag <span style=\"color: #008000; text-decoration-color: #008000\">\"</span><span style=\"color: #432e4c; text-decoration-color: #432e4c; font-weight: bold\">furry sticker</span><span style=\"color: #008000; text-decoration-color: #008000\">\"</span> found in caption <span style=\"color: #008000; text-decoration-color: #008000\">\"This is </span><span style=\"color: #432e4c; text-decoration-color: #432e4c; font-weight: bold\">furry sticker</span><span style=\"color: #008000; text-decoration-color: #008000\"> of anthro fox.\"</span>\n",
       "</pre>\n"
      ],
      "text/plain": [
       "Tag \u001b[32m\"\u001b[0m\u001b[1;38;2;67;46;76mfurry sticker\u001b[0m\u001b[32m\"\u001b[0m found in caption \u001b[32m\"This is \u001b[0m\u001b[1;38;2;67;46;76mfurry sticker\u001b[0m\u001b[32m of anthro fox.\"\u001b[0m\n"
      ]
     },
     "metadata": {},
     "output_type": "display_data"
    },
    {
     "data": {
      "text/html": [
       "<pre style=\"white-space:pre;overflow-x:auto;line-height:normal;font-family:Menlo,'DejaVu Sans Mono',consolas,'Courier New',monospace\">Tag <span style=\"color: #008000; text-decoration-color: #008000\">\"</span><span style=\"color: #38ac0d; text-decoration-color: #38ac0d; font-weight: bold\">fox</span><span style=\"color: #008000; text-decoration-color: #008000\">\"</span> found in caption <span style=\"color: #008000; text-decoration-color: #008000\">\"This is furry sticker of anthro </span><span style=\"color: #38ac0d; text-decoration-color: #38ac0d; font-weight: bold\">fox</span><span style=\"color: #008000; text-decoration-color: #008000\">.\"</span>\n",
       "</pre>\n"
      ],
      "text/plain": [
       "Tag \u001b[32m\"\u001b[0m\u001b[1;38;2;56;172;13mfox\u001b[0m\u001b[32m\"\u001b[0m found in caption \u001b[32m\"This is furry sticker of anthro \u001b[0m\u001b[1;38;2;56;172;13mfox\u001b[0m\u001b[32m.\"\u001b[0m\n"
      ]
     },
     "metadata": {},
     "output_type": "display_data"
    },
    {
     "data": {
      "text/html": [
       "<pre style=\"white-space:pre;overflow-x:auto;line-height:normal;font-family:Menlo,'DejaVu Sans Mono',consolas,'Courier New',monospace\">Tag <span style=\"color: #008000; text-decoration-color: #008000\">\"</span><span style=\"color: #993538; text-decoration-color: #993538; font-weight: bold\">fox</span><span style=\"color: #008000; text-decoration-color: #008000\">\"</span> found in caption <span style=\"color: #008000; text-decoration-color: #008000\">\"The </span><span style=\"color: #993538; text-decoration-color: #993538; font-weight: bold\">fox</span><span style=\"color: #008000; text-decoration-color: #008000\"> is depicted in a thoughtful pose with one hand on its chin and a slightly </span>\n",
       "<span style=\"color: #008000; text-decoration-color: #008000\">furrowed brow as if it's pondering.\"</span>\n",
       "</pre>\n"
      ],
      "text/plain": [
       "Tag \u001b[32m\"\u001b[0m\u001b[1;38;2;153;53;56mfox\u001b[0m\u001b[32m\"\u001b[0m found in caption \u001b[32m\"The \u001b[0m\u001b[1;38;2;153;53;56mfox\u001b[0m\u001b[32m is depicted in a thoughtful pose with one hand on its chin and a slightly \u001b[0m\n",
       "\u001b[32mfurrowed brow as if it's pondering.\"\u001b[0m\n"
      ]
     },
     "metadata": {},
     "output_type": "display_data"
    },
    {
     "data": {
      "text/html": [
       "<pre style=\"white-space:pre;overflow-x:auto;line-height:normal;font-family:Menlo,'DejaVu Sans Mono',consolas,'Courier New',monospace\">Tag <span style=\"color: #008000; text-decoration-color: #008000\">\"</span><span style=\"color: #3a1a6f; text-decoration-color: #3a1a6f; font-weight: bold\">fox</span><span style=\"color: #008000; text-decoration-color: #008000\">\"</span> found in caption <span style=\"color: #008000; text-decoration-color: #008000\">\"The </span><span style=\"color: #3a1a6f; text-decoration-color: #3a1a6f; font-weight: bold\">fox</span><span style=\"color: #008000; text-decoration-color: #008000\"> has a red and brown coat with white underbelly and a tail that is red at the </span>\n",
       "<span style=\"color: #008000; text-decoration-color: #008000\">base and white at the tip.\"</span>\n",
       "</pre>\n"
      ],
      "text/plain": [
       "Tag \u001b[32m\"\u001b[0m\u001b[1;38;2;58;26;111mfox\u001b[0m\u001b[32m\"\u001b[0m found in caption \u001b[32m\"The \u001b[0m\u001b[1;38;2;58;26;111mfox\u001b[0m\u001b[32m has a red and brown coat with white underbelly and a tail that is red at the \u001b[0m\n",
       "\u001b[32mbase and white at the tip.\"\u001b[0m\n"
      ]
     },
     "metadata": {},
     "output_type": "display_data"
    },
    {
     "data": {
      "text/html": [
       "<pre style=\"white-space:pre;overflow-x:auto;line-height:normal;font-family:Menlo,'DejaVu Sans Mono',consolas,'Courier New',monospace\">Tag <span style=\"color: #008000; text-decoration-color: #008000\">\"</span><span style=\"color: #484882; text-decoration-color: #484882; font-weight: bold\">fox</span><span style=\"color: #008000; text-decoration-color: #008000\">\"</span> found in caption <span style=\"color: #008000; text-decoration-color: #008000\">\"The </span><span style=\"color: #484882; text-decoration-color: #484882; font-weight: bold\">fox</span><span style=\"color: #008000; text-decoration-color: #008000\"> has green eyes and is wearing a small grey hat.\"</span>\n",
       "</pre>\n"
      ],
      "text/plain": [
       "Tag \u001b[32m\"\u001b[0m\u001b[1;38;2;72;72;130mfox\u001b[0m\u001b[32m\"\u001b[0m found in caption \u001b[32m\"The \u001b[0m\u001b[1;38;2;72;72;130mfox\u001b[0m\u001b[32m has green eyes and is wearing a small grey hat.\"\u001b[0m\n"
      ]
     },
     "metadata": {},
     "output_type": "display_data"
    },
    {
     "data": {
      "text/html": [
       "<pre style=\"white-space:pre;overflow-x:auto;line-height:normal;font-family:Menlo,'DejaVu Sans Mono',consolas,'Courier New',monospace\">Tag <span style=\"color: #008000; text-decoration-color: #008000\">\"</span><span style=\"color: #189ba9; text-decoration-color: #189ba9; font-weight: bold\">fox</span><span style=\"color: #008000; text-decoration-color: #008000\">\"</span> found in caption <span style=\"color: #008000; text-decoration-color: #008000\">\"There's also a blue circle with an 'X' in it next to the </span><span style=\"color: #189ba9; text-decoration-color: #189ba9; font-weight: bold\">fox</span><span style=\"color: #008000; text-decoration-color: #008000\"> which indicates something </span>\n",
       "<span style=\"color: #008000; text-decoration-color: #008000\">wrong or incorrect and it is doubting it.\"</span>\n",
       "</pre>\n"
      ],
      "text/plain": [
       "Tag \u001b[32m\"\u001b[0m\u001b[1;38;2;24;155;169mfox\u001b[0m\u001b[32m\"\u001b[0m found in caption \u001b[32m\"There's also a blue circle with an 'X' in it next to the \u001b[0m\u001b[1;38;2;24;155;169mfox\u001b[0m\u001b[32m which indicates something \u001b[0m\n",
       "\u001b[32mwrong or incorrect and it is doubting it.\"\u001b[0m\n"
      ]
     },
     "metadata": {},
     "output_type": "display_data"
    },
    {
     "data": {
      "text/html": [
       "<pre style=\"white-space:pre;overflow-x:auto;line-height:normal;font-family:Menlo,'DejaVu Sans Mono',consolas,'Courier New',monospace\">Tag <span style=\"color: #008000; text-decoration-color: #008000\">\"</span><span style=\"color: #3d2942; text-decoration-color: #3d2942; font-weight: bold\">anthro</span><span style=\"color: #008000; text-decoration-color: #008000\">\"</span> found in caption <span style=\"color: #008000; text-decoration-color: #008000\">\"This is furry sticker of </span><span style=\"color: #3d2942; text-decoration-color: #3d2942; font-weight: bold\">anthro</span><span style=\"color: #008000; text-decoration-color: #008000\"> fox.\"</span>\n",
       "</pre>\n"
      ],
      "text/plain": [
       "Tag \u001b[32m\"\u001b[0m\u001b[1;38;2;61;41;66manthro\u001b[0m\u001b[32m\"\u001b[0m found in caption \u001b[32m\"This is furry sticker of \u001b[0m\u001b[1;38;2;61;41;66manthro\u001b[0m\u001b[32m fox.\"\u001b[0m\n"
      ]
     },
     "metadata": {},
     "output_type": "display_data"
    },
    {
     "data": {
      "text/html": [
       "<pre style=\"white-space:pre;overflow-x:auto;line-height:normal;font-family:Menlo,'DejaVu Sans Mono',consolas,'Courier New',monospace\">Tag <span style=\"color: #008000; text-decoration-color: #008000\">\"</span><span style=\"color: #7e3ddb; text-decoration-color: #7e3ddb; font-weight: bold\">green eyes</span><span style=\"color: #008000; text-decoration-color: #008000\">\"</span> found in caption <span style=\"color: #008000; text-decoration-color: #008000\">\"The fox has </span><span style=\"color: #7e3ddb; text-decoration-color: #7e3ddb; font-weight: bold\">green eyes</span><span style=\"color: #008000; text-decoration-color: #008000\"> and is wearing a small grey hat.\"</span>\n",
       "</pre>\n"
      ],
      "text/plain": [
       "Tag \u001b[32m\"\u001b[0m\u001b[1;38;2;126;61;219mgreen eyes\u001b[0m\u001b[32m\"\u001b[0m found in caption \u001b[32m\"The fox has \u001b[0m\u001b[1;38;2;126;61;219mgreen eyes\u001b[0m\u001b[32m and is wearing a small grey hat.\"\u001b[0m\n"
      ]
     },
     "metadata": {},
     "output_type": "display_data"
    },
    {
     "data": {
      "text/html": [
       "<pre style=\"white-space:pre;overflow-x:auto;line-height:normal;font-family:Menlo,'DejaVu Sans Mono',consolas,'Courier New',monospace\">Tag <span style=\"color: #008000; text-decoration-color: #008000\">\"</span><span style=\"color: #11b994; text-decoration-color: #11b994; font-weight: bold\">hat</span><span style=\"color: #008000; text-decoration-color: #008000\">\"</span> found in caption <span style=\"color: #008000; text-decoration-color: #008000\">\"The fox has green eyes and is wearing a small grey </span><span style=\"color: #11b994; text-decoration-color: #11b994; font-weight: bold\">hat</span><span style=\"color: #008000; text-decoration-color: #008000\">.\"</span>\n",
       "</pre>\n"
      ],
      "text/plain": [
       "Tag \u001b[32m\"\u001b[0m\u001b[1;38;2;17;185;148mhat\u001b[0m\u001b[32m\"\u001b[0m found in caption \u001b[32m\"The fox has green eyes and is wearing a small grey \u001b[0m\u001b[1;38;2;17;185;148mhat\u001b[0m\u001b[32m.\"\u001b[0m\n"
      ]
     },
     "metadata": {},
     "output_type": "display_data"
    },
    {
     "data": {
      "text/html": [
       "<pre style=\"white-space:pre;overflow-x:auto;line-height:normal;font-family:Menlo,'DejaVu Sans Mono',consolas,'Courier New',monospace\">\n",
       "\n",
       "<span style=\"font-weight: bold\">C:\\Users\\kade\\Desktop\\training_dir_staging\\1_furry_sticker\\cd363fa50058989fb9e47cde17599357.txt</span>\n",
       "\n",
       "</pre>\n"
      ],
      "text/plain": [
       "\n",
       "\n",
       "\u001b[1mC:\\Users\\kade\\Desktop\\training_dir_staging\\1_furry_sticker\\cd363fa50058989fb9e47cde17599357.txt\u001b[0m\n",
       "\n"
      ]
     },
     "metadata": {},
     "output_type": "display_data"
    },
    {
     "data": {
      "text/html": [
       "<pre style=\"white-space:pre;overflow-x:auto;line-height:normal;font-family:Menlo,'DejaVu Sans Mono',consolas,'Courier New',monospace\">Tag <span style=\"color: #008000; text-decoration-color: #008000\">\"</span><span style=\"color: #f48993; text-decoration-color: #f48993; font-weight: bold\">fur</span><span style=\"color: #008000; text-decoration-color: #008000\">\"</span> found in caption <span style=\"color: #008000; text-decoration-color: #008000\">\"It has a light purple </span><span style=\"color: #f48993; text-decoration-color: #f48993; font-weight: bold\">fur</span><span style=\"color: #008000; text-decoration-color: #008000\"> with large expressive eyes and an open mouth which appears to</span>\n",
       "<span style=\"color: #008000; text-decoration-color: #008000\">be shouting.\"</span>\n",
       "</pre>\n"
      ],
      "text/plain": [
       "Tag \u001b[32m\"\u001b[0m\u001b[1;38;2;244;137;147mfur\u001b[0m\u001b[32m\"\u001b[0m found in caption \u001b[32m\"It has a light purple \u001b[0m\u001b[1;38;2;244;137;147mfur\u001b[0m\u001b[32m with large expressive eyes and an open mouth which appears to\u001b[0m\n",
       "\u001b[32mbe shouting.\"\u001b[0m\n"
      ]
     },
     "metadata": {},
     "output_type": "display_data"
    },
    {
     "data": {
      "text/html": [
       "<pre style=\"white-space:pre;overflow-x:auto;line-height:normal;font-family:Menlo,'DejaVu Sans Mono',consolas,'Courier New',monospace\">Tag <span style=\"color: #008000; text-decoration-color: #008000\">\"</span><span style=\"color: #f7c148; text-decoration-color: #f7c148; font-weight: bold\">open mouth</span><span style=\"color: #008000; text-decoration-color: #008000\">\"</span> found in caption <span style=\"color: #008000; text-decoration-color: #008000\">\"It has a light purple fur with large expressive eyes and an </span><span style=\"color: #f7c148; text-decoration-color: #f7c148; font-weight: bold\">open mouth</span><span style=\"color: #008000; text-decoration-color: #008000\"> which </span>\n",
       "<span style=\"color: #008000; text-decoration-color: #008000\">appears to be shouting.\"</span>\n",
       "</pre>\n"
      ],
      "text/plain": [
       "Tag \u001b[32m\"\u001b[0m\u001b[1;38;2;247;193;72mopen mouth\u001b[0m\u001b[32m\"\u001b[0m found in caption \u001b[32m\"It has a light purple fur with large expressive eyes and an \u001b[0m\u001b[1;38;2;247;193;72mopen mouth\u001b[0m\u001b[32m which \u001b[0m\n",
       "\u001b[32mappears to be shouting.\"\u001b[0m\n"
      ]
     },
     "metadata": {},
     "output_type": "display_data"
    },
    {
     "data": {
      "text/html": [
       "<pre style=\"white-space:pre;overflow-x:auto;line-height:normal;font-family:Menlo,'DejaVu Sans Mono',consolas,'Courier New',monospace\">Tag <span style=\"color: #008000; text-decoration-color: #008000\">\"</span><span style=\"color: #ec437b; text-decoration-color: #ec437b; font-weight: bold\">anthro</span><span style=\"color: #008000; text-decoration-color: #008000\">\"</span> found in caption <span style=\"color: #008000; text-decoration-color: #008000\">\"This image is a stylized cartoonish sticker of </span><span style=\"color: #ec437b; text-decoration-color: #ec437b; font-weight: bold\">anthro</span><span style=\"color: #008000; text-decoration-color: #008000\"> red panda's face.\"</span>\n",
       "</pre>\n"
      ],
      "text/plain": [
       "Tag \u001b[32m\"\u001b[0m\u001b[1;38;2;236;67;123manthro\u001b[0m\u001b[32m\"\u001b[0m found in caption \u001b[32m\"This image is a stylized cartoonish sticker of \u001b[0m\u001b[1;38;2;236;67;123manthro\u001b[0m\u001b[32m red panda's face.\"\u001b[0m\n"
      ]
     },
     "metadata": {},
     "output_type": "display_data"
    },
    {
     "data": {
      "text/html": [
       "<pre style=\"white-space:pre;overflow-x:auto;line-height:normal;font-family:Menlo,'DejaVu Sans Mono',consolas,'Courier New',monospace\">Tag <span style=\"color: #008000; text-decoration-color: #008000\">\"</span><span style=\"color: #6a00a5; text-decoration-color: #6a00a5; font-weight: bold\">purple fur</span><span style=\"color: #008000; text-decoration-color: #008000\">\"</span> found in caption <span style=\"color: #008000; text-decoration-color: #008000\">\"It has a light </span><span style=\"color: #6a00a5; text-decoration-color: #6a00a5; font-weight: bold\">purple fur</span><span style=\"color: #008000; text-decoration-color: #008000\"> with large expressive eyes and an open mouth which </span>\n",
       "<span style=\"color: #008000; text-decoration-color: #008000\">appears to be shouting.\"</span>\n",
       "</pre>\n"
      ],
      "text/plain": [
       "Tag \u001b[32m\"\u001b[0m\u001b[1;38;2;106;0;165mpurple fur\u001b[0m\u001b[32m\"\u001b[0m found in caption \u001b[32m\"It has a light \u001b[0m\u001b[1;38;2;106;0;165mpurple fur\u001b[0m\u001b[32m with large expressive eyes and an open mouth which \u001b[0m\n",
       "\u001b[32mappears to be shouting.\"\u001b[0m\n"
      ]
     },
     "metadata": {},
     "output_type": "display_data"
    },
    {
     "data": {
      "text/html": [
       "<pre style=\"white-space:pre;overflow-x:auto;line-height:normal;font-family:Menlo,'DejaVu Sans Mono',consolas,'Courier New',monospace\">\n",
       "\n",
       "<span style=\"font-weight: bold\">C:\\Users\\kade\\Desktop\\training_dir_staging\\1_furry_sticker\\f1ff847532e185a197af2f14a1fba805.txt</span>\n",
       "\n",
       "</pre>\n"
      ],
      "text/plain": [
       "\n",
       "\n",
       "\u001b[1mC:\\Users\\kade\\Desktop\\training_dir_staging\\1_furry_sticker\\f1ff847532e185a197af2f14a1fba805.txt\u001b[0m\n",
       "\n"
      ]
     },
     "metadata": {},
     "output_type": "display_data"
    },
    {
     "data": {
      "text/html": [
       "<pre style=\"white-space:pre;overflow-x:auto;line-height:normal;font-family:Menlo,'DejaVu Sans Mono',consolas,'Courier New',monospace\">Tag <span style=\"color: #008000; text-decoration-color: #008000\">\"</span><span style=\"color: #5aae5c; text-decoration-color: #5aae5c; font-weight: bold\">snow leopard</span><span style=\"color: #008000; text-decoration-color: #008000\">\"</span> found in caption <span style=\"color: #008000; text-decoration-color: #008000\">\"This image is a sticker featuring a cartoonish anthro </span><span style=\"color: #5aae5c; text-decoration-color: #5aae5c; font-weight: bold\">snow leopard</span><span style=\"color: #008000; text-decoration-color: #008000\">.\"</span>\n",
       "</pre>\n"
      ],
      "text/plain": [
       "Tag \u001b[32m\"\u001b[0m\u001b[1;38;2;90;174;92msnow leopard\u001b[0m\u001b[32m\"\u001b[0m found in caption \u001b[32m\"This image is a sticker featuring a cartoonish anthro \u001b[0m\u001b[1;38;2;90;174;92msnow leopard\u001b[0m\u001b[32m.\"\u001b[0m\n"
      ]
     },
     "metadata": {},
     "output_type": "display_data"
    },
    {
     "data": {
      "text/html": [
       "<pre style=\"white-space:pre;overflow-x:auto;line-height:normal;font-family:Menlo,'DejaVu Sans Mono',consolas,'Courier New',monospace\">Tag <span style=\"color: #008000; text-decoration-color: #008000\">\"</span><span style=\"color: #1fdf30; text-decoration-color: #1fdf30; font-weight: bold\">fur</span><span style=\"color: #008000; text-decoration-color: #008000\">\"</span> found in caption <span style=\"color: #008000; text-decoration-color: #008000\">\"It has gray </span><span style=\"color: #1fdf30; text-decoration-color: #1fdf30; font-weight: bold\">fur</span><span style=\"color: #008000; text-decoration-color: #008000\"> with black spots and blue hair.\"</span>\n",
       "</pre>\n"
      ],
      "text/plain": [
       "Tag \u001b[32m\"\u001b[0m\u001b[1;38;2;31;223;48mfur\u001b[0m\u001b[32m\"\u001b[0m found in caption \u001b[32m\"It has gray \u001b[0m\u001b[1;38;2;31;223;48mfur\u001b[0m\u001b[32m with black spots and blue hair.\"\u001b[0m\n"
      ]
     },
     "metadata": {},
     "output_type": "display_data"
    },
    {
     "data": {
      "text/html": [
       "<pre style=\"white-space:pre;overflow-x:auto;line-height:normal;font-family:Menlo,'DejaVu Sans Mono',consolas,'Courier New',monospace\">Tag <span style=\"color: #008000; text-decoration-color: #008000\">\"</span><span style=\"color: #702f43; text-decoration-color: #702f43; font-weight: bold\">text</span><span style=\"color: #008000; text-decoration-color: #008000\">\"</span> found in caption <span style=\"color: #008000; text-decoration-color: #008000\">\"The speech bubble's background is white and the </span><span style=\"color: #702f43; text-decoration-color: #702f43; font-weight: bold\">text</span><span style=\"color: #008000; text-decoration-color: #008000\"> 'MOW!' is written in large bold </span>\n",
       "<span style=\"color: #008000; text-decoration-color: #008000\">black letters.\"</span>\n",
       "</pre>\n"
      ],
      "text/plain": [
       "Tag \u001b[32m\"\u001b[0m\u001b[1;38;2;112;47;67mtext\u001b[0m\u001b[32m\"\u001b[0m found in caption \u001b[32m\"The speech bubble's background is white and the \u001b[0m\u001b[1;38;2;112;47;67mtext\u001b[0m\u001b[32m 'MOW!' is written in large bold \u001b[0m\n",
       "\u001b[32mblack letters.\"\u001b[0m\n"
      ]
     },
     "metadata": {},
     "output_type": "display_data"
    },
    {
     "data": {
      "text/html": [
       "<pre style=\"white-space:pre;overflow-x:auto;line-height:normal;font-family:Menlo,'DejaVu Sans Mono',consolas,'Courier New',monospace\">Tag <span style=\"color: #008000; text-decoration-color: #008000\">\"</span><span style=\"color: #759cdf; text-decoration-color: #759cdf; font-weight: bold\">hair</span><span style=\"color: #008000; text-decoration-color: #008000\">\"</span> found in caption <span style=\"color: #008000; text-decoration-color: #008000\">\"It has gray fur with black spots and blue </span><span style=\"color: #759cdf; text-decoration-color: #759cdf; font-weight: bold\">hair</span><span style=\"color: #008000; text-decoration-color: #008000\">.\"</span>\n",
       "</pre>\n"
      ],
      "text/plain": [
       "Tag \u001b[32m\"\u001b[0m\u001b[1;38;2;117;156;223mhair\u001b[0m\u001b[32m\"\u001b[0m found in caption \u001b[32m\"It has gray fur with black spots and blue \u001b[0m\u001b[1;38;2;117;156;223mhair\u001b[0m\u001b[32m.\"\u001b[0m\n"
      ]
     },
     "metadata": {},
     "output_type": "display_data"
    },
    {
     "data": {
      "text/html": [
       "<pre style=\"white-space:pre;overflow-x:auto;line-height:normal;font-family:Menlo,'DejaVu Sans Mono',consolas,'Courier New',monospace\">Tag <span style=\"color: #008000; text-decoration-color: #008000\">\"</span><span style=\"color: #00753b; text-decoration-color: #00753b; font-weight: bold\">blue hair</span><span style=\"color: #008000; text-decoration-color: #008000\">\"</span> found in caption <span style=\"color: #008000; text-decoration-color: #008000\">\"It has gray fur with black spots and </span><span style=\"color: #00753b; text-decoration-color: #00753b; font-weight: bold\">blue hair</span><span style=\"color: #008000; text-decoration-color: #008000\">.\"</span>\n",
       "</pre>\n"
      ],
      "text/plain": [
       "Tag \u001b[32m\"\u001b[0m\u001b[1;38;2;0;117;59mblue hair\u001b[0m\u001b[32m\"\u001b[0m found in caption \u001b[32m\"It has gray fur with black spots and \u001b[0m\u001b[1;38;2;0;117;59mblue hair\u001b[0m\u001b[32m.\"\u001b[0m\n"
      ]
     },
     "metadata": {},
     "output_type": "display_data"
    },
    {
     "data": {
      "text/html": [
       "<pre style=\"white-space:pre;overflow-x:auto;line-height:normal;font-family:Menlo,'DejaVu Sans Mono',consolas,'Courier New',monospace\">\n",
       "\n",
       "<span style=\"font-weight: bold\">C:\\Users\\kade\\Desktop\\training_dir_staging\\1_furry_sticker\\f9468ada1a62410d8d0891cabe0c538a.txt</span>\n",
       "\n",
       "</pre>\n"
      ],
      "text/plain": [
       "\n",
       "\n",
       "\u001b[1mC:\\Users\\kade\\Desktop\\training_dir_staging\\1_furry_sticker\\f9468ada1a62410d8d0891cabe0c538a.txt\u001b[0m\n",
       "\n"
      ]
     },
     "metadata": {},
     "output_type": "display_data"
    },
    {
     "data": {
      "text/html": [
       "<pre style=\"white-space:pre;overflow-x:auto;line-height:normal;font-family:Menlo,'DejaVu Sans Mono',consolas,'Courier New',monospace\">Tag <span style=\"color: #008000; text-decoration-color: #008000\">\"</span><span style=\"color: #5a67e3; text-decoration-color: #5a67e3; font-weight: bold\">fox</span><span style=\"color: #008000; text-decoration-color: #008000\">\"</span> found in caption <span style=\"color: #008000; text-decoration-color: #008000\">\"This image is an illustration of anthro </span><span style=\"color: #5a67e3; text-decoration-color: #5a67e3; font-weight: bold\">fox</span><span style=\"color: #008000; text-decoration-color: #008000\"> with a blue hair on its head.\"</span>\n",
       "</pre>\n"
      ],
      "text/plain": [
       "Tag \u001b[32m\"\u001b[0m\u001b[1;38;2;90;103;227mfox\u001b[0m\u001b[32m\"\u001b[0m found in caption \u001b[32m\"This image is an illustration of anthro \u001b[0m\u001b[1;38;2;90;103;227mfox\u001b[0m\u001b[32m with a blue hair on its head.\"\u001b[0m\n"
      ]
     },
     "metadata": {},
     "output_type": "display_data"
    },
    {
     "data": {
      "text/html": [
       "<pre style=\"white-space:pre;overflow-x:auto;line-height:normal;font-family:Menlo,'DejaVu Sans Mono',consolas,'Courier New',monospace\">Tag <span style=\"color: #008000; text-decoration-color: #008000\">\"</span><span style=\"color: #fd54b7; text-decoration-color: #fd54b7; font-weight: bold\">fox</span><span style=\"color: #008000; text-decoration-color: #008000\">\"</span> found in caption <span style=\"color: #008000; text-decoration-color: #008000\">\"The </span><span style=\"color: #fd54b7; text-decoration-color: #fd54b7; font-weight: bold\">fox</span><span style=\"color: #008000; text-decoration-color: #008000\"> has a large tail that is half red and half white.\"</span>\n",
       "</pre>\n"
      ],
      "text/plain": [
       "Tag \u001b[32m\"\u001b[0m\u001b[1;38;2;253;84;183mfox\u001b[0m\u001b[32m\"\u001b[0m found in caption \u001b[32m\"The \u001b[0m\u001b[1;38;2;253;84;183mfox\u001b[0m\u001b[32m has a large tail that is half red and half white.\"\u001b[0m\n"
      ]
     },
     "metadata": {},
     "output_type": "display_data"
    },
    {
     "data": {
      "text/html": [
       "<pre style=\"white-space:pre;overflow-x:auto;line-height:normal;font-family:Menlo,'DejaVu Sans Mono',consolas,'Courier New',monospace\">Tag <span style=\"color: #008000; text-decoration-color: #008000\">\"</span><span style=\"color: #7b29bc; text-decoration-color: #7b29bc; font-weight: bold\">anthro</span><span style=\"color: #008000; text-decoration-color: #008000\">\"</span> found in caption <span style=\"color: #008000; text-decoration-color: #008000\">\"This image is an illustration of </span><span style=\"color: #7b29bc; text-decoration-color: #7b29bc; font-weight: bold\">anthro</span><span style=\"color: #008000; text-decoration-color: #008000\"> fox with a blue hair on its head.\"</span>\n",
       "</pre>\n"
      ],
      "text/plain": [
       "Tag \u001b[32m\"\u001b[0m\u001b[1;38;2;123;41;188manthro\u001b[0m\u001b[32m\"\u001b[0m found in caption \u001b[32m\"This image is an illustration of \u001b[0m\u001b[1;38;2;123;41;188manthro\u001b[0m\u001b[32m fox with a blue hair on its head.\"\u001b[0m\n"
      ]
     },
     "metadata": {},
     "output_type": "display_data"
    },
    {
     "data": {
      "text/html": [
       "<pre style=\"white-space:pre;overflow-x:auto;line-height:normal;font-family:Menlo,'DejaVu Sans Mono',consolas,'Courier New',monospace\">Tag <span style=\"color: #008000; text-decoration-color: #008000\">\"</span><span style=\"color: #f6f3b8; text-decoration-color: #f6f3b8; font-weight: bold\">headphones</span><span style=\"color: #008000; text-decoration-color: #008000\">\"</span> found in caption <span style=\"color: #008000; text-decoration-color: #008000\">\"The character is wearing </span><span style=\"color: #f6f3b8; text-decoration-color: #f6f3b8; font-weight: bold\">headphones</span><span style=\"color: #008000; text-decoration-color: #008000\"> of which only one is visible.\"</span>\n",
       "</pre>\n"
      ],
      "text/plain": [
       "Tag \u001b[32m\"\u001b[0m\u001b[1;38;2;246;243;184mheadphones\u001b[0m\u001b[32m\"\u001b[0m found in caption \u001b[32m\"The character is wearing \u001b[0m\u001b[1;38;2;246;243;184mheadphones\u001b[0m\u001b[32m of which only one is visible.\"\u001b[0m\n"
      ]
     },
     "metadata": {},
     "output_type": "display_data"
    },
    {
     "data": {
      "text/html": [
       "<pre style=\"white-space:pre;overflow-x:auto;line-height:normal;font-family:Menlo,'DejaVu Sans Mono',consolas,'Courier New',monospace\">Tag <span style=\"color: #008000; text-decoration-color: #008000\">\"</span><span style=\"color: #7f4fc2; text-decoration-color: #7f4fc2; font-weight: bold\">blue hair</span><span style=\"color: #008000; text-decoration-color: #008000\">\"</span> found in caption <span style=\"color: #008000; text-decoration-color: #008000\">\"This image is an illustration of anthro fox with a </span><span style=\"color: #7f4fc2; text-decoration-color: #7f4fc2; font-weight: bold\">blue hair</span><span style=\"color: #008000; text-decoration-color: #008000\"> on its head.\"</span>\n",
       "</pre>\n"
      ],
      "text/plain": [
       "Tag \u001b[32m\"\u001b[0m\u001b[1;38;2;127;79;194mblue hair\u001b[0m\u001b[32m\"\u001b[0m found in caption \u001b[32m\"This image is an illustration of anthro fox with a \u001b[0m\u001b[1;38;2;127;79;194mblue hair\u001b[0m\u001b[32m on its head.\"\u001b[0m\n"
      ]
     },
     "metadata": {},
     "output_type": "display_data"
    },
    {
     "data": {
      "text/html": [
       "<pre style=\"white-space:pre;overflow-x:auto;line-height:normal;font-family:Menlo,'DejaVu Sans Mono',consolas,'Courier New',monospace\">Tag <span style=\"color: #008000; text-decoration-color: #008000\">\"</span><span style=\"color: #3a784b; text-decoration-color: #3a784b; font-weight: bold\">tail</span><span style=\"color: #008000; text-decoration-color: #008000\">\"</span> found in caption <span style=\"color: #008000; text-decoration-color: #008000\">\"The fox has a large </span><span style=\"color: #3a784b; text-decoration-color: #3a784b; font-weight: bold\">tail</span><span style=\"color: #008000; text-decoration-color: #008000\"> that is half red and half white.\"</span>\n",
       "</pre>\n"
      ],
      "text/plain": [
       "Tag \u001b[32m\"\u001b[0m\u001b[1;38;2;58;120;75mtail\u001b[0m\u001b[32m\"\u001b[0m found in caption \u001b[32m\"The fox has a large \u001b[0m\u001b[1;38;2;58;120;75mtail\u001b[0m\u001b[32m that is half red and half white.\"\u001b[0m\n"
      ]
     },
     "metadata": {},
     "output_type": "display_data"
    },
    {
     "data": {
      "text/html": [
       "<pre style=\"white-space:pre;overflow-x:auto;line-height:normal;font-family:Menlo,'DejaVu Sans Mono',consolas,'Courier New',monospace\">Tag <span style=\"color: #008000; text-decoration-color: #008000\">\"</span><span style=\"color: #451e8e; text-decoration-color: #451e8e; font-weight: bold\">hair</span><span style=\"color: #008000; text-decoration-color: #008000\">\"</span> found in caption <span style=\"color: #008000; text-decoration-color: #008000\">\"This image is an illustration of anthro fox with a blue </span><span style=\"color: #451e8e; text-decoration-color: #451e8e; font-weight: bold\">hair</span><span style=\"color: #008000; text-decoration-color: #008000\"> on its head.\"</span>\n",
       "</pre>\n"
      ],
      "text/plain": [
       "Tag \u001b[32m\"\u001b[0m\u001b[1;38;2;69;30;142mhair\u001b[0m\u001b[32m\"\u001b[0m found in caption \u001b[32m\"This image is an illustration of anthro fox with a blue \u001b[0m\u001b[1;38;2;69;30;142mhair\u001b[0m\u001b[32m on its head.\"\u001b[0m\n"
      ]
     },
     "metadata": {},
     "output_type": "display_data"
    }
   ],
   "source": [
    "import os\n",
    "import random\n",
    "import re\n",
    "from rich import print\n",
    "from rich.console import Console\n",
    "from rich.style import Style\n",
    "from rich.color import Color\n",
    "\n",
    "def find_files(path, extension):\n",
    "    for root, dirs, files in os.walk(path):\n",
    "        for file in files:\n",
    "            if file.endswith(extension):\n",
    "                yield os.path.join(root, file)\n",
    "\n",
    "def process_file(file_path):\n",
    "    console = Console()\n",
    "    file_path_printed = False\n",
    "    with open(file_path, 'r') as file:\n",
    "        content = file.read()\n",
    "        elements = content.split(',')\n",
    "        captions = [element.strip() for element in elements if '.' in element]\n",
    "        tags = [element.strip() for element in elements if '.' not in element and element.strip() != '']\n",
    "        for tag in tags:\n",
    "            pattern = r'\\b{}\\b'.format(re.escape(tag))\n",
    "            for caption in captions:\n",
    "                if re.search(pattern, caption):\n",
    "                    if not file_path_printed:\n",
    "                        console.print(f'\\n\\n[bold]{file_path}[/bold]\\n')\n",
    "                        file_path_printed = True\n",
    "                    color = Color.from_rgb(random.randint(0, 255), random.randint(0, 255), random.randint(0, 255))\n",
    "                    style = Style(color=color, bold=True)\n",
    "                    highlighted_caption = caption.replace(tag, f\"[{style}]{tag}[/{style}]\")\n",
    "                    console.print(f'Tag \"[{style}]{tag}[/{style}]\" found in caption \"{highlighted_caption}\"')\n",
    "\n",
    "def main():\n",
    "    path = 'C:\\\\Users\\\\kade\\\\Desktop\\\\training_dir_staging'\n",
    "    for file_path in find_files(path, '.txt'):\n",
    "        process_file(file_path)\n",
    "\n",
    "if __name__ == \"__main__\":\n",
    "    main()"
   ]
  }
 ],
 "metadata": {
  "kernelspec": {
   "display_name": "base",
   "language": "python",
   "name": "python3"
  },
  "language_info": {
   "codemirror_mode": {
    "name": "ipython",
    "version": 3
   },
   "file_extension": ".py",
   "mimetype": "text/x-python",
   "name": "python",
   "nbconvert_exporter": "python",
   "pygments_lexer": "ipython3",
   "version": "3.12.2"
  }
 },
 "nbformat": 4,
 "nbformat_minor": 2
}
