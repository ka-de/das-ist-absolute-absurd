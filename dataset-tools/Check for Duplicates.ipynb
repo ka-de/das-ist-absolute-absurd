{
 "cells": [
  {
   "cell_type": "markdown",
   "metadata": {},
   "source": [
    "## Check for Duplicate Words Between Captions and Tags\n",
    "----\n",
    "\n",
    "Awoo"
   ]
  },
  {
   "cell_type": "code",
   "execution_count": 16,
   "metadata": {},
   "outputs": [
    {
     "data": {
      "text/html": [
       "<pre style=\"white-space:pre;overflow-x:auto;line-height:normal;font-family:Menlo,'DejaVu Sans Mono',consolas,'Courier New',monospace\">C:\\Users\\kade\\Desktop\\training_dir_staging\\1_furry_sticker\\0ad753093ae60a8b9b2aab24b81b3f3d.txt\n",
       "</pre>\n"
      ],
      "text/plain": [
       "C:\\Users\\kade\\Desktop\\training_dir_staging\\1_furry_sticker\\0ad753093ae60a8b9b2aab24b81b3f3d.txt\n"
      ]
     },
     "metadata": {},
     "output_type": "display_data"
    },
    {
     "data": {
      "text/html": [
       "<pre style=\"white-space:pre;overflow-x:auto;line-height:normal;font-family:Menlo,'DejaVu Sans Mono',consolas,'Courier New',monospace\">Tag <span style=\"color: #008000; text-decoration-color: #008000\">\"</span><span style=\"color: #892c12; text-decoration-color: #892c12; font-weight: bold\">black background</span><span style=\"color: #008000; text-decoration-color: #008000\">\"</span> found in caption <span style=\"color: #008000; text-decoration-color: #008000\">\"The entire image has a </span><span style=\"color: #892c12; text-decoration-color: #892c12; font-weight: bold\">black background</span><span style=\"color: #008000; text-decoration-color: #008000\"> with a white outline around the </span>\n",
       "<span style=\"color: #008000; text-decoration-color: #008000\">character and the texts.\"</span>\n",
       "</pre>\n"
      ],
      "text/plain": [
       "Tag \u001b[32m\"\u001b[0m\u001b[1;38;2;137;44;18mblack background\u001b[0m\u001b[32m\"\u001b[0m found in caption \u001b[32m\"The entire image has a \u001b[0m\u001b[1;38;2;137;44;18mblack background\u001b[0m\u001b[32m with a white outline around the \u001b[0m\n",
       "\u001b[32mcharacter and the texts.\"\u001b[0m\n"
      ]
     },
     "metadata": {},
     "output_type": "display_data"
    },
    {
     "data": {
      "text/html": [
       "<pre style=\"white-space:pre;overflow-x:auto;line-height:normal;font-family:Menlo,'DejaVu Sans Mono',consolas,'Courier New',monospace\">Tag <span style=\"color: #008000; text-decoration-color: #008000\">\"</span><span style=\"color: #21f8b0; text-decoration-color: #21f8b0; font-weight: bold\">anthro</span><span style=\"color: #008000; text-decoration-color: #008000\">\"</span> found in caption <span style=\"color: #008000; text-decoration-color: #008000\">\"The image showcases </span><span style=\"color: #21f8b0; text-decoration-color: #21f8b0; font-weight: bold\">anthro</span><span style=\"color: #008000; text-decoration-color: #008000\"> black panther with dark black spots and large yellow </span>\n",
       "<span style=\"color: #008000; text-decoration-color: #008000\">eyes.\"</span>\n",
       "</pre>\n"
      ],
      "text/plain": [
       "Tag \u001b[32m\"\u001b[0m\u001b[1;38;2;33;248;176manthro\u001b[0m\u001b[32m\"\u001b[0m found in caption \u001b[32m\"The image showcases \u001b[0m\u001b[1;38;2;33;248;176manthro\u001b[0m\u001b[32m black panther with dark black spots and large yellow \u001b[0m\n",
       "\u001b[32meyes.\"\u001b[0m\n"
      ]
     },
     "metadata": {},
     "output_type": "display_data"
    },
    {
     "data": {
      "text/html": [
       "<pre style=\"white-space:pre;overflow-x:auto;line-height:normal;font-family:Menlo,'DejaVu Sans Mono',consolas,'Courier New',monospace\">Tag <span style=\"color: #008000; text-decoration-color: #008000\">\"</span><span style=\"color: #5470b9; text-decoration-color: #5470b9; font-weight: bold\">text</span><span style=\"color: #008000; text-decoration-color: #008000\">\"</span> found in caption <span style=\"color: #008000; text-decoration-color: #008000\">\"The entire image has a black background with a white outline around the character and </span>\n",
       "<span style=\"color: #008000; text-decoration-color: #008000\">the </span><span style=\"color: #5470b9; text-decoration-color: #5470b9; font-weight: bold\">text</span><span style=\"color: #008000; text-decoration-color: #008000\">s.\"</span>\n",
       "</pre>\n"
      ],
      "text/plain": [
       "Tag \u001b[32m\"\u001b[0m\u001b[1;38;2;84;112;185mtext\u001b[0m\u001b[32m\"\u001b[0m found in caption \u001b[32m\"The entire image has a black background with a white outline around the character and \u001b[0m\n",
       "\u001b[32mthe \u001b[0m\u001b[1;38;2;84;112;185mtext\u001b[0m\u001b[32ms.\"\u001b[0m\n"
      ]
     },
     "metadata": {},
     "output_type": "display_data"
    },
    {
     "data": {
      "text/html": [
       "<pre style=\"white-space:pre;overflow-x:auto;line-height:normal;font-family:Menlo,'DejaVu Sans Mono',consolas,'Courier New',monospace\">C:\\Users\\kade\\Desktop\\training_dir_staging\\1_furry_sticker\\0d281d07dfc997a5b1037939ccd33eca.txt\n",
       "</pre>\n"
      ],
      "text/plain": [
       "C:\\Users\\kade\\Desktop\\training_dir_staging\\1_furry_sticker\\0d281d07dfc997a5b1037939ccd33eca.txt\n"
      ]
     },
     "metadata": {},
     "output_type": "display_data"
    },
    {
     "data": {
      "text/html": [
       "<pre style=\"white-space:pre;overflow-x:auto;line-height:normal;font-family:Menlo,'DejaVu Sans Mono',consolas,'Courier New',monospace\">Tag <span style=\"color: #008000; text-decoration-color: #008000\">\"</span><span style=\"color: #0fd06e; text-decoration-color: #0fd06e; font-weight: bold\">furry sticker</span><span style=\"color: #008000; text-decoration-color: #008000\">\"</span> found in caption <span style=\"color: #008000; text-decoration-color: #008000\">\"This image is a </span><span style=\"color: #0fd06e; text-decoration-color: #0fd06e; font-weight: bold\">furry sticker</span><span style=\"color: #008000; text-decoration-color: #008000\"> of anthro german shepherd dog with a humorous </span>\n",
       "<span style=\"color: #008000; text-decoration-color: #008000\">expression.\"</span>\n",
       "</pre>\n"
      ],
      "text/plain": [
       "Tag \u001b[32m\"\u001b[0m\u001b[1;38;2;15;208;110mfurry sticker\u001b[0m\u001b[32m\"\u001b[0m found in caption \u001b[32m\"This image is a \u001b[0m\u001b[1;38;2;15;208;110mfurry sticker\u001b[0m\u001b[32m of anthro german shepherd dog with a humorous \u001b[0m\n",
       "\u001b[32mexpression.\"\u001b[0m\n"
      ]
     },
     "metadata": {},
     "output_type": "display_data"
    },
    {
     "data": {
      "text/html": [
       "<pre style=\"white-space:pre;overflow-x:auto;line-height:normal;font-family:Menlo,'DejaVu Sans Mono',consolas,'Courier New',monospace\">Tag <span style=\"color: #008000; text-decoration-color: #008000\">\"</span><span style=\"color: #c276b1; text-decoration-color: #c276b1; font-weight: bold\">german shepherd</span><span style=\"color: #008000; text-decoration-color: #008000\">\"</span> found in caption <span style=\"color: #008000; text-decoration-color: #008000\">\"This image is a furry sticker of anthro </span><span style=\"color: #c276b1; text-decoration-color: #c276b1; font-weight: bold\">german shepherd</span><span style=\"color: #008000; text-decoration-color: #008000\"> dog with a humorous</span>\n",
       "<span style=\"color: #008000; text-decoration-color: #008000\">expression.\"</span>\n",
       "</pre>\n"
      ],
      "text/plain": [
       "Tag \u001b[32m\"\u001b[0m\u001b[1;38;2;194;118;177mgerman shepherd\u001b[0m\u001b[32m\"\u001b[0m found in caption \u001b[32m\"This image is a furry sticker of anthro \u001b[0m\u001b[1;38;2;194;118;177mgerman shepherd\u001b[0m\u001b[32m dog with a humorous\u001b[0m\n",
       "\u001b[32mexpression.\"\u001b[0m\n"
      ]
     },
     "metadata": {},
     "output_type": "display_data"
    },
    {
     "data": {
      "text/html": [
       "<pre style=\"white-space:pre;overflow-x:auto;line-height:normal;font-family:Menlo,'DejaVu Sans Mono',consolas,'Courier New',monospace\">Tag <span style=\"color: #008000; text-decoration-color: #008000\">\"</span><span style=\"color: #44e712; text-decoration-color: #44e712; font-weight: bold\">canine</span><span style=\"color: #008000; text-decoration-color: #008000\">\"</span> found in caption <span style=\"color: #008000; text-decoration-color: #008000\">\"The </span><span style=\"color: #44e712; text-decoration-color: #44e712; font-weight: bold\">canine</span><span style=\"color: #008000; text-decoration-color: #008000\"> appears to be shrugging with its paws raised and wearing dog tag.\"</span>\n",
       "</pre>\n"
      ],
      "text/plain": [
       "Tag \u001b[32m\"\u001b[0m\u001b[1;38;2;68;231;18mcanine\u001b[0m\u001b[32m\"\u001b[0m found in caption \u001b[32m\"The \u001b[0m\u001b[1;38;2;68;231;18mcanine\u001b[0m\u001b[32m appears to be shrugging with its paws raised and wearing dog tag.\"\u001b[0m\n"
      ]
     },
     "metadata": {},
     "output_type": "display_data"
    },
    {
     "data": {
      "text/html": [
       "<pre style=\"white-space:pre;overflow-x:auto;line-height:normal;font-family:Menlo,'DejaVu Sans Mono',consolas,'Courier New',monospace\">Tag <span style=\"color: #008000; text-decoration-color: #008000\">\"</span><span style=\"color: #acf27e; text-decoration-color: #acf27e; font-weight: bold\">anthro</span><span style=\"color: #008000; text-decoration-color: #008000\">\"</span> found in caption <span style=\"color: #008000; text-decoration-color: #008000\">\"This image is a furry sticker of </span><span style=\"color: #acf27e; text-decoration-color: #acf27e; font-weight: bold\">anthro</span><span style=\"color: #008000; text-decoration-color: #008000\"> german shepherd dog with a humorous </span>\n",
       "<span style=\"color: #008000; text-decoration-color: #008000\">expression.\"</span>\n",
       "</pre>\n"
      ],
      "text/plain": [
       "Tag \u001b[32m\"\u001b[0m\u001b[1;38;2;172;242;126manthro\u001b[0m\u001b[32m\"\u001b[0m found in caption \u001b[32m\"This image is a furry sticker of \u001b[0m\u001b[1;38;2;172;242;126manthro\u001b[0m\u001b[32m german shepherd dog with a humorous \u001b[0m\n",
       "\u001b[32mexpression.\"\u001b[0m\n"
      ]
     },
     "metadata": {},
     "output_type": "display_data"
    },
    {
     "data": {
      "text/html": [
       "<pre style=\"white-space:pre;overflow-x:auto;line-height:normal;font-family:Menlo,'DejaVu Sans Mono',consolas,'Courier New',monospace\">Tag <span style=\"color: #008000; text-decoration-color: #008000\">\"</span><span style=\"color: #acc44e; text-decoration-color: #acc44e; font-weight: bold\">fur</span><span style=\"color: #008000; text-decoration-color: #008000\">\"</span> found in caption <span style=\"color: #008000; text-decoration-color: #008000\">\"This image is a </span><span style=\"color: #acc44e; text-decoration-color: #acc44e; font-weight: bold\">fur</span><span style=\"color: #008000; text-decoration-color: #008000\">ry sticker of anthro german shepherd dog with a humorous </span>\n",
       "<span style=\"color: #008000; text-decoration-color: #008000\">expression.\"</span>\n",
       "</pre>\n"
      ],
      "text/plain": [
       "Tag \u001b[32m\"\u001b[0m\u001b[1;38;2;172;196;78mfur\u001b[0m\u001b[32m\"\u001b[0m found in caption \u001b[32m\"This image is a \u001b[0m\u001b[1;38;2;172;196;78mfur\u001b[0m\u001b[32mry sticker of anthro german shepherd dog with a humorous \u001b[0m\n",
       "\u001b[32mexpression.\"\u001b[0m\n"
      ]
     },
     "metadata": {},
     "output_type": "display_data"
    },
    {
     "data": {
      "text/html": [
       "<pre style=\"white-space:pre;overflow-x:auto;line-height:normal;font-family:Menlo,'DejaVu Sans Mono',consolas,'Courier New',monospace\">Tag <span style=\"color: #008000; text-decoration-color: #008000\">\"</span><span style=\"color: #a74521; text-decoration-color: #a74521; font-weight: bold\">outline</span><span style=\"color: #008000; text-decoration-color: #008000\">\"</span> found in caption <span style=\"color: #008000; text-decoration-color: #008000\">\"The character and the speech bubble has a white </span><span style=\"color: #a74521; text-decoration-color: #a74521; font-weight: bold\">outline</span><span style=\"color: #008000; text-decoration-color: #008000\"> around them.\"</span>\n",
       "</pre>\n"
      ],
      "text/plain": [
       "Tag \u001b[32m\"\u001b[0m\u001b[1;38;2;167;69;33moutline\u001b[0m\u001b[32m\"\u001b[0m found in caption \u001b[32m\"The character and the speech bubble has a white \u001b[0m\u001b[1;38;2;167;69;33moutline\u001b[0m\u001b[32m around them.\"\u001b[0m\n"
      ]
     },
     "metadata": {},
     "output_type": "display_data"
    },
    {
     "data": {
      "text/html": [
       "<pre style=\"white-space:pre;overflow-x:auto;line-height:normal;font-family:Menlo,'DejaVu Sans Mono',consolas,'Courier New',monospace\">Tag <span style=\"color: #008000; text-decoration-color: #008000\">\"</span><span style=\"color: #9824b2; text-decoration-color: #9824b2; font-weight: bold\">humor</span><span style=\"color: #008000; text-decoration-color: #008000\">\"</span> found in caption <span style=\"color: #008000; text-decoration-color: #008000\">\"This image is a furry sticker of anthro german shepherd dog with a </span><span style=\"color: #9824b2; text-decoration-color: #9824b2; font-weight: bold\">humor</span><span style=\"color: #008000; text-decoration-color: #008000\">ous </span>\n",
       "<span style=\"color: #008000; text-decoration-color: #008000\">expression.\"</span>\n",
       "</pre>\n"
      ],
      "text/plain": [
       "Tag \u001b[32m\"\u001b[0m\u001b[1;38;2;152;36;178mhumor\u001b[0m\u001b[32m\"\u001b[0m found in caption \u001b[32m\"This image is a furry sticker of anthro german shepherd dog with a \u001b[0m\u001b[1;38;2;152;36;178mhumor\u001b[0m\u001b[32mous \u001b[0m\n",
       "\u001b[32mexpression.\"\u001b[0m\n"
      ]
     },
     "metadata": {},
     "output_type": "display_data"
    },
    {
     "data": {
      "text/html": [
       "<pre style=\"white-space:pre;overflow-x:auto;line-height:normal;font-family:Menlo,'DejaVu Sans Mono',consolas,'Courier New',monospace\">Tag <span style=\"color: #008000; text-decoration-color: #008000\">\"</span><span style=\"color: #cb7668; text-decoration-color: #cb7668; font-weight: bold\">speech bubble</span><span style=\"color: #008000; text-decoration-color: #008000\">\"</span> found in caption <span style=\"color: #008000; text-decoration-color: #008000\">\"It is accompanied by a </span><span style=\"color: #cb7668; text-decoration-color: #cb7668; font-weight: bold\">speech bubble</span><span style=\"color: #008000; text-decoration-color: #008000\"> with 'I DON'T KNOW MAN I'M JUST A DOG.\"</span>\n",
       "</pre>\n"
      ],
      "text/plain": [
       "Tag \u001b[32m\"\u001b[0m\u001b[1;38;2;203;118;104mspeech bubble\u001b[0m\u001b[32m\"\u001b[0m found in caption \u001b[32m\"It is accompanied by a \u001b[0m\u001b[1;38;2;203;118;104mspeech bubble\u001b[0m\u001b[32m with 'I DON'T KNOW MAN I'M JUST A DOG.\"\u001b[0m\n"
      ]
     },
     "metadata": {},
     "output_type": "display_data"
    },
    {
     "data": {
      "text/html": [
       "<pre style=\"white-space:pre;overflow-x:auto;line-height:normal;font-family:Menlo,'DejaVu Sans Mono',consolas,'Courier New',monospace\">Tag <span style=\"color: #008000; text-decoration-color: #008000\">\"</span><span style=\"color: #f64455; text-decoration-color: #f64455; font-weight: bold\">speech bubble</span><span style=\"color: #008000; text-decoration-color: #008000\">\"</span> found in caption <span style=\"color: #008000; text-decoration-color: #008000\">\"The character and the </span><span style=\"color: #f64455; text-decoration-color: #f64455; font-weight: bold\">speech bubble</span><span style=\"color: #008000; text-decoration-color: #008000\"> has a white outline around them.\"</span>\n",
       "</pre>\n"
      ],
      "text/plain": [
       "Tag \u001b[32m\"\u001b[0m\u001b[1;38;2;246;68;85mspeech bubble\u001b[0m\u001b[32m\"\u001b[0m found in caption \u001b[32m\"The character and the \u001b[0m\u001b[1;38;2;246;68;85mspeech bubble\u001b[0m\u001b[32m has a white outline around them.\"\u001b[0m\n"
      ]
     },
     "metadata": {},
     "output_type": "display_data"
    },
    {
     "data": {
      "text/html": [
       "<pre style=\"white-space:pre;overflow-x:auto;line-height:normal;font-family:Menlo,'DejaVu Sans Mono',consolas,'Courier New',monospace\">C:\\Users\\kade\\Desktop\\training_dir_staging\\1_furry_sticker\\0d81f956ae974d505e254b280b43c947.txt\n",
       "</pre>\n"
      ],
      "text/plain": [
       "C:\\Users\\kade\\Desktop\\training_dir_staging\\1_furry_sticker\\0d81f956ae974d505e254b280b43c947.txt\n"
      ]
     },
     "metadata": {},
     "output_type": "display_data"
    },
    {
     "data": {
      "text/html": [
       "<pre style=\"white-space:pre;overflow-x:auto;line-height:normal;font-family:Menlo,'DejaVu Sans Mono',consolas,'Courier New',monospace\">Tag <span style=\"color: #008000; text-decoration-color: #008000\">\"</span><span style=\"color: #9e10ec; text-decoration-color: #9e10ec; font-weight: bold\">furry sticker</span><span style=\"color: #008000; text-decoration-color: #008000\">\"</span> found in caption <span style=\"color: #008000; text-decoration-color: #008000\">\"This </span><span style=\"color: #9e10ec; text-decoration-color: #9e10ec; font-weight: bold\">furry sticker</span><span style=\"color: #008000; text-decoration-color: #008000\"> depicts a cartoonish anthro rabbit.\"</span>\n",
       "</pre>\n"
      ],
      "text/plain": [
       "Tag \u001b[32m\"\u001b[0m\u001b[1;38;2;158;16;236mfurry sticker\u001b[0m\u001b[32m\"\u001b[0m found in caption \u001b[32m\"This \u001b[0m\u001b[1;38;2;158;16;236mfurry sticker\u001b[0m\u001b[32m depicts a cartoonish anthro rabbit.\"\u001b[0m\n"
      ]
     },
     "metadata": {},
     "output_type": "display_data"
    },
    {
     "data": {
      "text/html": [
       "<pre style=\"white-space:pre;overflow-x:auto;line-height:normal;font-family:Menlo,'DejaVu Sans Mono',consolas,'Courier New',monospace\">Tag <span style=\"color: #008000; text-decoration-color: #008000\">\"</span><span style=\"color: #e3f6a6; text-decoration-color: #e3f6a6; font-weight: bold\">glasses</span><span style=\"color: #008000; text-decoration-color: #008000\">\"</span> found in caption <span style=\"color: #008000; text-decoration-color: #008000\">\"It is wearing </span><span style=\"color: #e3f6a6; text-decoration-color: #e3f6a6; font-weight: bold\">glasses</span><span style=\"color: #008000; text-decoration-color: #008000\"> and its fur color is a shade of brown with a lighter beige </span>\n",
       "<span style=\"color: #008000; text-decoration-color: #008000\">color on the bottom of its tail and front of its ears.\"</span>\n",
       "</pre>\n"
      ],
      "text/plain": [
       "Tag \u001b[32m\"\u001b[0m\u001b[1;38;2;227;246;166mglasses\u001b[0m\u001b[32m\"\u001b[0m found in caption \u001b[32m\"It is wearing \u001b[0m\u001b[1;38;2;227;246;166mglasses\u001b[0m\u001b[32m and its fur color is a shade of brown with a lighter beige \u001b[0m\n",
       "\u001b[32mcolor on the bottom of its tail and front of its ears.\"\u001b[0m\n"
      ]
     },
     "metadata": {},
     "output_type": "display_data"
    },
    {
     "data": {
      "text/html": [
       "<pre style=\"white-space:pre;overflow-x:auto;line-height:normal;font-family:Menlo,'DejaVu Sans Mono',consolas,'Courier New',monospace\">Tag <span style=\"color: #008000; text-decoration-color: #008000\">\"</span><span style=\"color: #379d14; text-decoration-color: #379d14; font-weight: bold\">anthro</span><span style=\"color: #008000; text-decoration-color: #008000\">\"</span> found in caption <span style=\"color: #008000; text-decoration-color: #008000\">\"This furry sticker depicts a cartoonish </span><span style=\"color: #379d14; text-decoration-color: #379d14; font-weight: bold\">anthro</span><span style=\"color: #008000; text-decoration-color: #008000\"> rabbit.\"</span>\n",
       "</pre>\n"
      ],
      "text/plain": [
       "Tag \u001b[32m\"\u001b[0m\u001b[1;38;2;55;157;20manthro\u001b[0m\u001b[32m\"\u001b[0m found in caption \u001b[32m\"This furry sticker depicts a cartoonish \u001b[0m\u001b[1;38;2;55;157;20manthro\u001b[0m\u001b[32m rabbit.\"\u001b[0m\n"
      ]
     },
     "metadata": {},
     "output_type": "display_data"
    },
    {
     "data": {
      "text/html": [
       "<pre style=\"white-space:pre;overflow-x:auto;line-height:normal;font-family:Menlo,'DejaVu Sans Mono',consolas,'Courier New',monospace\">Tag <span style=\"color: #008000; text-decoration-color: #008000\">\"</span><span style=\"color: #c959f8; text-decoration-color: #c959f8; font-weight: bold\">rabbit</span><span style=\"color: #008000; text-decoration-color: #008000\">\"</span> found in caption <span style=\"color: #008000; text-decoration-color: #008000\">\"This furry sticker depicts a cartoonish anthro </span><span style=\"color: #c959f8; text-decoration-color: #c959f8; font-weight: bold\">rabbit</span><span style=\"color: #008000; text-decoration-color: #008000\">.\"</span>\n",
       "</pre>\n"
      ],
      "text/plain": [
       "Tag \u001b[32m\"\u001b[0m\u001b[1;38;2;201;89;248mrabbit\u001b[0m\u001b[32m\"\u001b[0m found in caption \u001b[32m\"This furry sticker depicts a cartoonish anthro \u001b[0m\u001b[1;38;2;201;89;248mrabbit\u001b[0m\u001b[32m.\"\u001b[0m\n"
      ]
     },
     "metadata": {},
     "output_type": "display_data"
    },
    {
     "data": {
      "text/html": [
       "<pre style=\"white-space:pre;overflow-x:auto;line-height:normal;font-family:Menlo,'DejaVu Sans Mono',consolas,'Courier New',monospace\">Tag <span style=\"color: #008000; text-decoration-color: #008000\">\"</span><span style=\"color: #b69c27; text-decoration-color: #b69c27; font-weight: bold\">blush</span><span style=\"color: #008000; text-decoration-color: #008000\">\"</span> found in caption <span style=\"color: #008000; text-decoration-color: #008000\">\"The character has a playful expression with its mouth open and a slight </span><span style=\"color: #b69c27; text-decoration-color: #b69c27; font-weight: bold\">blush</span><span style=\"color: #008000; text-decoration-color: #008000\"> on the </span>\n",
       "<span style=\"color: #008000; text-decoration-color: #008000\">cheeks.\"</span>\n",
       "</pre>\n"
      ],
      "text/plain": [
       "Tag \u001b[32m\"\u001b[0m\u001b[1;38;2;182;156;39mblush\u001b[0m\u001b[32m\"\u001b[0m found in caption \u001b[32m\"The character has a playful expression with its mouth open and a slight \u001b[0m\u001b[1;38;2;182;156;39mblush\u001b[0m\u001b[32m on the \u001b[0m\n",
       "\u001b[32mcheeks.\"\u001b[0m\n"
      ]
     },
     "metadata": {},
     "output_type": "display_data"
    },
    {
     "data": {
      "text/html": [
       "<pre style=\"white-space:pre;overflow-x:auto;line-height:normal;font-family:Menlo,'DejaVu Sans Mono',consolas,'Courier New',monospace\">Tag <span style=\"color: #008000; text-decoration-color: #008000\">\"</span><span style=\"color: #2e0b55; text-decoration-color: #2e0b55; font-weight: bold\">fur</span><span style=\"color: #008000; text-decoration-color: #008000\">\"</span> found in caption <span style=\"color: #008000; text-decoration-color: #008000\">\"This </span><span style=\"color: #2e0b55; text-decoration-color: #2e0b55; font-weight: bold\">fur</span><span style=\"color: #008000; text-decoration-color: #008000\">ry sticker depicts a cartoonish anthro rabbit.\"</span>\n",
       "</pre>\n"
      ],
      "text/plain": [
       "Tag \u001b[32m\"\u001b[0m\u001b[1;38;2;46;11;85mfur\u001b[0m\u001b[32m\"\u001b[0m found in caption \u001b[32m\"This \u001b[0m\u001b[1;38;2;46;11;85mfur\u001b[0m\u001b[32mry sticker depicts a cartoonish anthro rabbit.\"\u001b[0m\n"
      ]
     },
     "metadata": {},
     "output_type": "display_data"
    },
    {
     "data": {
      "text/html": [
       "<pre style=\"white-space:pre;overflow-x:auto;line-height:normal;font-family:Menlo,'DejaVu Sans Mono',consolas,'Courier New',monospace\">Tag <span style=\"color: #008000; text-decoration-color: #008000\">\"</span><span style=\"color: #0a80e1; text-decoration-color: #0a80e1; font-weight: bold\">fur</span><span style=\"color: #008000; text-decoration-color: #008000\">\"</span> found in caption <span style=\"color: #008000; text-decoration-color: #008000\">\"It is wearing glasses and its </span><span style=\"color: #0a80e1; text-decoration-color: #0a80e1; font-weight: bold\">fur</span><span style=\"color: #008000; text-decoration-color: #008000\"> color is a shade of brown with a lighter beige color </span>\n",
       "<span style=\"color: #008000; text-decoration-color: #008000\">on the bottom of its tail and front of its ears.\"</span>\n",
       "</pre>\n"
      ],
      "text/plain": [
       "Tag \u001b[32m\"\u001b[0m\u001b[1;38;2;10;128;225mfur\u001b[0m\u001b[32m\"\u001b[0m found in caption \u001b[32m\"It is wearing glasses and its \u001b[0m\u001b[1;38;2;10;128;225mfur\u001b[0m\u001b[32m color is a shade of brown with a lighter beige color \u001b[0m\n",
       "\u001b[32mon the bottom of its tail and front of its ears.\"\u001b[0m\n"
      ]
     },
     "metadata": {},
     "output_type": "display_data"
    },
    {
     "data": {
      "text/html": [
       "<pre style=\"white-space:pre;overflow-x:auto;line-height:normal;font-family:Menlo,'DejaVu Sans Mono',consolas,'Courier New',monospace\">Tag <span style=\"color: #008000; text-decoration-color: #008000\">\"</span><span style=\"color: #c87c31; text-decoration-color: #c87c31; font-weight: bold\">outline</span><span style=\"color: #008000; text-decoration-color: #008000\">\"</span> found in caption <span style=\"color: #008000; text-decoration-color: #008000\">\"The character is surrounded by two blue sparkles and two blue motion lines and it </span>\n",
       "<span style=\"color: #008000; text-decoration-color: #008000\">has a white </span><span style=\"color: #c87c31; text-decoration-color: #c87c31; font-weight: bold\">outline</span><span style=\"color: #008000; text-decoration-color: #008000\"> around it.\"</span>\n",
       "</pre>\n"
      ],
      "text/plain": [
       "Tag \u001b[32m\"\u001b[0m\u001b[1;38;2;200;124;49moutline\u001b[0m\u001b[32m\"\u001b[0m found in caption \u001b[32m\"The character is surrounded by two blue sparkles and two blue motion lines and it \u001b[0m\n",
       "\u001b[32mhas a white \u001b[0m\u001b[1;38;2;200;124;49moutline\u001b[0m\u001b[32m around it.\"\u001b[0m\n"
      ]
     },
     "metadata": {},
     "output_type": "display_data"
    },
    {
     "data": {
      "text/html": [
       "<pre style=\"white-space:pre;overflow-x:auto;line-height:normal;font-family:Menlo,'DejaVu Sans Mono',consolas,'Courier New',monospace\">C:\\Users\\kade\\Desktop\\training_dir_staging\\1_furry_sticker\\0da4833461592f1c7f4ac4151f7f8960.txt\n",
       "</pre>\n"
      ],
      "text/plain": [
       "C:\\Users\\kade\\Desktop\\training_dir_staging\\1_furry_sticker\\0da4833461592f1c7f4ac4151f7f8960.txt\n"
      ]
     },
     "metadata": {},
     "output_type": "display_data"
    },
    {
     "data": {
      "text/html": [
       "<pre style=\"white-space:pre;overflow-x:auto;line-height:normal;font-family:Menlo,'DejaVu Sans Mono',consolas,'Courier New',monospace\">Tag <span style=\"color: #008000; text-decoration-color: #008000\">\"</span><span style=\"color: #7c9c88; text-decoration-color: #7c9c88; font-weight: bold\">eyes closed</span><span style=\"color: #008000; text-decoration-color: #008000\">\"</span> found in caption <span style=\"color: #008000; text-decoration-color: #008000\">\"It has its </span><span style=\"color: #7c9c88; text-decoration-color: #7c9c88; font-weight: bold\">eyes closed</span><span style=\"color: #008000; text-decoration-color: #008000\"> and is crossing its arms with a displeased expression.\"</span>\n",
       "</pre>\n"
      ],
      "text/plain": [
       "Tag \u001b[32m\"\u001b[0m\u001b[1;38;2;124;156;136meyes closed\u001b[0m\u001b[32m\"\u001b[0m found in caption \u001b[32m\"It has its \u001b[0m\u001b[1;38;2;124;156;136meyes closed\u001b[0m\u001b[32m and is crossing its arms with a displeased expression.\"\u001b[0m\n"
      ]
     },
     "metadata": {},
     "output_type": "display_data"
    },
    {
     "data": {
      "text/html": [
       "<pre style=\"white-space:pre;overflow-x:auto;line-height:normal;font-family:Menlo,'DejaVu Sans Mono',consolas,'Courier New',monospace\">Tag <span style=\"color: #008000; text-decoration-color: #008000\">\"</span><span style=\"color: #1a5160; text-decoration-color: #1a5160; font-weight: bold\">headwear</span><span style=\"color: #008000; text-decoration-color: #008000\">\"</span> found in caption <span style=\"color: #008000; text-decoration-color: #008000\">\"The character has a brownish fur coat and brown hair sticking out from under the </span>\n",
       "<span style=\"color: #1a5160; text-decoration-color: #1a5160; font-weight: bold\">headwear</span><span style=\"color: #008000; text-decoration-color: #008000\">.\"</span>\n",
       "</pre>\n"
      ],
      "text/plain": [
       "Tag \u001b[32m\"\u001b[0m\u001b[1;38;2;26;81;96mheadwear\u001b[0m\u001b[32m\"\u001b[0m found in caption \u001b[32m\"The character has a brownish fur coat and brown hair sticking out from under the \u001b[0m\n",
       "\u001b[1;38;2;26;81;96mheadwear\u001b[0m\u001b[32m.\"\u001b[0m\n"
      ]
     },
     "metadata": {},
     "output_type": "display_data"
    },
    {
     "data": {
      "text/html": [
       "<pre style=\"white-space:pre;overflow-x:auto;line-height:normal;font-family:Menlo,'DejaVu Sans Mono',consolas,'Courier New',monospace\">Tag <span style=\"color: #008000; text-decoration-color: #008000\">\"</span><span style=\"color: #d99b45; text-decoration-color: #d99b45; font-weight: bold\">hat</span><span style=\"color: #008000; text-decoration-color: #008000\">\"</span> found in caption <span style=\"color: #008000; text-decoration-color: #008000\">\"The image showcases an animated character t</span><span style=\"color: #d99b45; text-decoration-color: #d99b45; font-weight: bold\">hat</span><span style=\"color: #008000; text-decoration-color: #008000\"> is an anthro dog.\"</span>\n",
       "</pre>\n"
      ],
      "text/plain": [
       "Tag \u001b[32m\"\u001b[0m\u001b[1;38;2;217;155;69mhat\u001b[0m\u001b[32m\"\u001b[0m found in caption \u001b[32m\"The image showcases an animated character t\u001b[0m\u001b[1;38;2;217;155;69mhat\u001b[0m\u001b[32m is an anthro dog.\"\u001b[0m\n"
      ]
     },
     "metadata": {},
     "output_type": "display_data"
    },
    {
     "data": {
      "text/html": [
       "<pre style=\"white-space:pre;overflow-x:auto;line-height:normal;font-family:Menlo,'DejaVu Sans Mono',consolas,'Courier New',monospace\">Tag <span style=\"color: #008000; text-decoration-color: #008000\">\"</span><span style=\"color: #eea0f5; text-decoration-color: #eea0f5; font-weight: bold\">collar</span><span style=\"color: #008000; text-decoration-color: #008000\">\"</span> found in caption <span style=\"color: #008000; text-decoration-color: #008000\">\"It has a brown nose and wears a blue cap with the Japanese flag on it and a blue </span>\n",
       "<span style=\"color: #eea0f5; text-decoration-color: #eea0f5; font-weight: bold\">collar</span><span style=\"color: #008000; text-decoration-color: #008000\"> around its neck with a black stripe in the middle.\"</span>\n",
       "</pre>\n"
      ],
      "text/plain": [
       "Tag \u001b[32m\"\u001b[0m\u001b[1;38;2;238;160;245mcollar\u001b[0m\u001b[32m\"\u001b[0m found in caption \u001b[32m\"It has a brown nose and wears a blue cap with the Japanese flag on it and a blue \u001b[0m\n",
       "\u001b[1;38;2;238;160;245mcollar\u001b[0m\u001b[32m around its neck with a black stripe in the middle.\"\u001b[0m\n"
      ]
     },
     "metadata": {},
     "output_type": "display_data"
    },
    {
     "data": {
      "text/html": [
       "<pre style=\"white-space:pre;overflow-x:auto;line-height:normal;font-family:Menlo,'DejaVu Sans Mono',consolas,'Courier New',monospace\">Tag <span style=\"color: #008000; text-decoration-color: #008000\">\"</span><span style=\"color: #7835c2; text-decoration-color: #7835c2; font-weight: bold\">fur</span><span style=\"color: #008000; text-decoration-color: #008000\">\"</span> found in caption <span style=\"color: #008000; text-decoration-color: #008000\">\"The character has a brownish </span><span style=\"color: #7835c2; text-decoration-color: #7835c2; font-weight: bold\">fur</span><span style=\"color: #008000; text-decoration-color: #008000\"> coat and brown hair sticking out from under the </span>\n",
       "<span style=\"color: #008000; text-decoration-color: #008000\">headwear.\"</span>\n",
       "</pre>\n"
      ],
      "text/plain": [
       "Tag \u001b[32m\"\u001b[0m\u001b[1;38;2;120;53;194mfur\u001b[0m\u001b[32m\"\u001b[0m found in caption \u001b[32m\"The character has a brownish \u001b[0m\u001b[1;38;2;120;53;194mfur\u001b[0m\u001b[32m coat and brown hair sticking out from under the \u001b[0m\n",
       "\u001b[32mheadwear.\"\u001b[0m\n"
      ]
     },
     "metadata": {},
     "output_type": "display_data"
    },
    {
     "data": {
      "text/html": [
       "<pre style=\"white-space:pre;overflow-x:auto;line-height:normal;font-family:Menlo,'DejaVu Sans Mono',consolas,'Courier New',monospace\">Tag <span style=\"color: #008000; text-decoration-color: #008000\">\"</span><span style=\"color: #0631e7; text-decoration-color: #0631e7; font-weight: bold\">brown hair</span><span style=\"color: #008000; text-decoration-color: #008000\">\"</span> found in caption <span style=\"color: #008000; text-decoration-color: #008000\">\"The character has a brownish fur coat and </span><span style=\"color: #0631e7; text-decoration-color: #0631e7; font-weight: bold\">brown hair</span><span style=\"color: #008000; text-decoration-color: #008000\"> sticking out from under the</span>\n",
       "<span style=\"color: #008000; text-decoration-color: #008000\">headwear.\"</span>\n",
       "</pre>\n"
      ],
      "text/plain": [
       "Tag \u001b[32m\"\u001b[0m\u001b[1;38;2;6;49;231mbrown hair\u001b[0m\u001b[32m\"\u001b[0m found in caption \u001b[32m\"The character has a brownish fur coat and \u001b[0m\u001b[1;38;2;6;49;231mbrown hair\u001b[0m\u001b[32m sticking out from under the\u001b[0m\n",
       "\u001b[32mheadwear.\"\u001b[0m\n"
      ]
     },
     "metadata": {},
     "output_type": "display_data"
    },
    {
     "data": {
      "text/html": [
       "<pre style=\"white-space:pre;overflow-x:auto;line-height:normal;font-family:Menlo,'DejaVu Sans Mono',consolas,'Courier New',monospace\">Tag <span style=\"color: #008000; text-decoration-color: #008000\">\"</span><span style=\"color: #a4b13e; text-decoration-color: #a4b13e; font-weight: bold\">text</span><span style=\"color: #008000; text-decoration-color: #008000\">\"</span> found in caption <span style=\"color: #008000; text-decoration-color: #008000\">\"The character and the </span><span style=\"color: #a4b13e; text-decoration-color: #a4b13e; font-weight: bold\">text</span><span style=\"color: #008000; text-decoration-color: #008000\"> has a white outline around it.\"</span>\n",
       "</pre>\n"
      ],
      "text/plain": [
       "Tag \u001b[32m\"\u001b[0m\u001b[1;38;2;164;177;62mtext\u001b[0m\u001b[32m\"\u001b[0m found in caption \u001b[32m\"The character and the \u001b[0m\u001b[1;38;2;164;177;62mtext\u001b[0m\u001b[32m has a white outline around it.\"\u001b[0m\n"
      ]
     },
     "metadata": {},
     "output_type": "display_data"
    },
    {
     "data": {
      "text/html": [
       "<pre style=\"white-space:pre;overflow-x:auto;line-height:normal;font-family:Menlo,'DejaVu Sans Mono',consolas,'Courier New',monospace\">Tag <span style=\"color: #008000; text-decoration-color: #008000\">\"</span><span style=\"color: #19134a; text-decoration-color: #19134a; font-weight: bold\">anthro</span><span style=\"color: #008000; text-decoration-color: #008000\">\"</span> found in caption <span style=\"color: #008000; text-decoration-color: #008000\">\"The image showcases an animated character that is an </span><span style=\"color: #19134a; text-decoration-color: #19134a; font-weight: bold\">anthro</span><span style=\"color: #008000; text-decoration-color: #008000\"> dog.\"</span>\n",
       "</pre>\n"
      ],
      "text/plain": [
       "Tag \u001b[32m\"\u001b[0m\u001b[1;38;2;25;19;74manthro\u001b[0m\u001b[32m\"\u001b[0m found in caption \u001b[32m\"The image showcases an animated character that is an \u001b[0m\u001b[1;38;2;25;19;74manthro\u001b[0m\u001b[32m dog.\"\u001b[0m\n"
      ]
     },
     "metadata": {},
     "output_type": "display_data"
    },
    {
     "data": {
      "text/html": [
       "<pre style=\"white-space:pre;overflow-x:auto;line-height:normal;font-family:Menlo,'DejaVu Sans Mono',consolas,'Courier New',monospace\">C:\\Users\\kade\\Desktop\\training_dir_staging\\1_furry_sticker\\0f27c73c75d57814e6dacf5c60040473.txt\n",
       "</pre>\n"
      ],
      "text/plain": [
       "C:\\Users\\kade\\Desktop\\training_dir_staging\\1_furry_sticker\\0f27c73c75d57814e6dacf5c60040473.txt\n"
      ]
     },
     "metadata": {},
     "output_type": "display_data"
    },
    {
     "data": {
      "text/html": [
       "<pre style=\"white-space:pre;overflow-x:auto;line-height:normal;font-family:Menlo,'DejaVu Sans Mono',consolas,'Courier New',monospace\">Tag <span style=\"color: #008000; text-decoration-color: #008000\">\"</span><span style=\"color: #1eb033; text-decoration-color: #1eb033; font-weight: bold\">furry sticker</span><span style=\"color: #008000; text-decoration-color: #008000\">\"</span> found in caption <span style=\"color: #008000; text-decoration-color: #008000\">\"This </span><span style=\"color: #1eb033; text-decoration-color: #1eb033; font-weight: bold\">furry sticker</span><span style=\"color: #008000; text-decoration-color: #008000\"> showcases an animated anthro fox character sitting at a </span>\n",
       "<span style=\"color: #008000; text-decoration-color: #008000\">desk with its hands on a laptop's screen.\"</span>\n",
       "</pre>\n"
      ],
      "text/plain": [
       "Tag \u001b[32m\"\u001b[0m\u001b[1;38;2;30;176;51mfurry sticker\u001b[0m\u001b[32m\"\u001b[0m found in caption \u001b[32m\"This \u001b[0m\u001b[1;38;2;30;176;51mfurry sticker\u001b[0m\u001b[32m showcases an animated anthro fox character sitting at a \u001b[0m\n",
       "\u001b[32mdesk with its hands on a laptop's screen.\"\u001b[0m\n"
      ]
     },
     "metadata": {},
     "output_type": "display_data"
    },
    {
     "data": {
      "text/html": [
       "<pre style=\"white-space:pre;overflow-x:auto;line-height:normal;font-family:Menlo,'DejaVu Sans Mono',consolas,'Courier New',monospace\">Tag <span style=\"color: #008000; text-decoration-color: #008000\">\"</span><span style=\"color: #a5cd4e; text-decoration-color: #a5cd4e; font-weight: bold\">fox</span><span style=\"color: #008000; text-decoration-color: #008000\">\"</span> found in caption <span style=\"color: #008000; text-decoration-color: #008000\">\"This furry sticker showcases an animated anthro </span><span style=\"color: #a5cd4e; text-decoration-color: #a5cd4e; font-weight: bold\">fox</span><span style=\"color: #008000; text-decoration-color: #008000\"> character sitting at a desk with </span>\n",
       "<span style=\"color: #008000; text-decoration-color: #008000\">its hands on a laptop's screen.\"</span>\n",
       "</pre>\n"
      ],
      "text/plain": [
       "Tag \u001b[32m\"\u001b[0m\u001b[1;38;2;165;205;78mfox\u001b[0m\u001b[32m\"\u001b[0m found in caption \u001b[32m\"This furry sticker showcases an animated anthro \u001b[0m\u001b[1;38;2;165;205;78mfox\u001b[0m\u001b[32m character sitting at a desk with \u001b[0m\n",
       "\u001b[32mits hands on a laptop's screen.\"\u001b[0m\n"
      ]
     },
     "metadata": {},
     "output_type": "display_data"
    },
    {
     "data": {
      "text/html": [
       "<pre style=\"white-space:pre;overflow-x:auto;line-height:normal;font-family:Menlo,'DejaVu Sans Mono',consolas,'Courier New',monospace\">Tag <span style=\"color: #008000; text-decoration-color: #008000\">\"</span><span style=\"color: #35f307; text-decoration-color: #35f307; font-weight: bold\">fox</span><span style=\"color: #008000; text-decoration-color: #008000\">\"</span> found in caption <span style=\"color: #008000; text-decoration-color: #008000\">\"The </span><span style=\"color: #35f307; text-decoration-color: #35f307; font-weight: bold\">fox</span><span style=\"color: #008000; text-decoration-color: #008000\"> appears to be in a state of surprise or shock with wide-open eyes and a closed </span>\n",
       "<span style=\"color: #008000; text-decoration-color: #008000\">mouth that is drawn as a small black line.\"</span>\n",
       "</pre>\n"
      ],
      "text/plain": [
       "Tag \u001b[32m\"\u001b[0m\u001b[1;38;2;53;243;7mfox\u001b[0m\u001b[32m\"\u001b[0m found in caption \u001b[32m\"The \u001b[0m\u001b[1;38;2;53;243;7mfox\u001b[0m\u001b[32m appears to be in a state of surprise or shock with wide-open eyes and a closed \u001b[0m\n",
       "\u001b[32mmouth that is drawn as a small black line.\"\u001b[0m\n"
      ]
     },
     "metadata": {},
     "output_type": "display_data"
    },
    {
     "data": {
      "text/html": [
       "<pre style=\"white-space:pre;overflow-x:auto;line-height:normal;font-family:Menlo,'DejaVu Sans Mono',consolas,'Courier New',monospace\">Tag <span style=\"color: #008000; text-decoration-color: #008000\">\"</span><span style=\"color: #9aa493; text-decoration-color: #9aa493; font-weight: bold\">fox</span><span style=\"color: #008000; text-decoration-color: #008000\">\"</span> found in caption <span style=\"color: #008000; text-decoration-color: #008000\">\"The </span><span style=\"color: #9aa493; text-decoration-color: #9aa493; font-weight: bold\">fox</span><span style=\"color: #008000; text-decoration-color: #008000\"> has a vibrant red fur with his chest and bottom of its face covered in white </span>\n",
       "<span style=\"color: #008000; text-decoration-color: #008000\">fur.\"</span>\n",
       "</pre>\n"
      ],
      "text/plain": [
       "Tag \u001b[32m\"\u001b[0m\u001b[1;38;2;154;164;147mfox\u001b[0m\u001b[32m\"\u001b[0m found in caption \u001b[32m\"The \u001b[0m\u001b[1;38;2;154;164;147mfox\u001b[0m\u001b[32m has a vibrant red fur with his chest and bottom of its face covered in white \u001b[0m\n",
       "\u001b[32mfur.\"\u001b[0m\n"
      ]
     },
     "metadata": {},
     "output_type": "display_data"
    },
    {
     "data": {
      "text/html": [
       "<pre style=\"white-space:pre;overflow-x:auto;line-height:normal;font-family:Menlo,'DejaVu Sans Mono',consolas,'Courier New',monospace\">Tag <span style=\"color: #008000; text-decoration-color: #008000\">\"</span><span style=\"color: #0a5710; text-decoration-color: #0a5710; font-weight: bold\">red fur</span><span style=\"color: #008000; text-decoration-color: #008000\">\"</span> found in caption <span style=\"color: #008000; text-decoration-color: #008000\">\"The fox has a vibrant </span><span style=\"color: #0a5710; text-decoration-color: #0a5710; font-weight: bold\">red fur</span><span style=\"color: #008000; text-decoration-color: #008000\"> with his chest and bottom of its face covered in </span>\n",
       "<span style=\"color: #008000; text-decoration-color: #008000\">white fur.\"</span>\n",
       "</pre>\n"
      ],
      "text/plain": [
       "Tag \u001b[32m\"\u001b[0m\u001b[1;38;2;10;87;16mred fur\u001b[0m\u001b[32m\"\u001b[0m found in caption \u001b[32m\"The fox has a vibrant \u001b[0m\u001b[1;38;2;10;87;16mred fur\u001b[0m\u001b[32m with his chest and bottom of its face covered in \u001b[0m\n",
       "\u001b[32mwhite fur.\"\u001b[0m\n"
      ]
     },
     "metadata": {},
     "output_type": "display_data"
    },
    {
     "data": {
      "text/html": [
       "<pre style=\"white-space:pre;overflow-x:auto;line-height:normal;font-family:Menlo,'DejaVu Sans Mono',consolas,'Courier New',monospace\">Tag <span style=\"color: #008000; text-decoration-color: #008000\">\"</span><span style=\"color: #63b066; text-decoration-color: #63b066; font-weight: bold\">fur</span><span style=\"color: #008000; text-decoration-color: #008000\">\"</span> found in caption <span style=\"color: #008000; text-decoration-color: #008000\">\"This </span><span style=\"color: #63b066; text-decoration-color: #63b066; font-weight: bold\">fur</span><span style=\"color: #008000; text-decoration-color: #008000\">ry sticker showcases an animated anthro fox character sitting at a desk with </span>\n",
       "<span style=\"color: #008000; text-decoration-color: #008000\">its hands on a laptop's screen.\"</span>\n",
       "</pre>\n"
      ],
      "text/plain": [
       "Tag \u001b[32m\"\u001b[0m\u001b[1;38;2;99;176;102mfur\u001b[0m\u001b[32m\"\u001b[0m found in caption \u001b[32m\"This \u001b[0m\u001b[1;38;2;99;176;102mfur\u001b[0m\u001b[32mry sticker showcases an animated anthro fox character sitting at a desk with \u001b[0m\n",
       "\u001b[32mits hands on a laptop's screen.\"\u001b[0m\n"
      ]
     },
     "metadata": {},
     "output_type": "display_data"
    },
    {
     "data": {
      "text/html": [
       "<pre style=\"white-space:pre;overflow-x:auto;line-height:normal;font-family:Menlo,'DejaVu Sans Mono',consolas,'Courier New',monospace\">Tag <span style=\"color: #008000; text-decoration-color: #008000\">\"</span><span style=\"color: #869430; text-decoration-color: #869430; font-weight: bold\">fur</span><span style=\"color: #008000; text-decoration-color: #008000\">\"</span> found in caption <span style=\"color: #008000; text-decoration-color: #008000\">\"The fox has a vibrant red </span><span style=\"color: #869430; text-decoration-color: #869430; font-weight: bold\">fur</span><span style=\"color: #008000; text-decoration-color: #008000\"> with his chest and bottom of its face covered in white </span>\n",
       "<span style=\"color: #869430; text-decoration-color: #869430; font-weight: bold\">fur</span><span style=\"color: #008000; text-decoration-color: #008000\">.\"</span>\n",
       "</pre>\n"
      ],
      "text/plain": [
       "Tag \u001b[32m\"\u001b[0m\u001b[1;38;2;134;148;48mfur\u001b[0m\u001b[32m\"\u001b[0m found in caption \u001b[32m\"The fox has a vibrant red \u001b[0m\u001b[1;38;2;134;148;48mfur\u001b[0m\u001b[32m with his chest and bottom of its face covered in white \u001b[0m\n",
       "\u001b[1;38;2;134;148;48mfur\u001b[0m\u001b[32m.\"\u001b[0m\n"
      ]
     },
     "metadata": {},
     "output_type": "display_data"
    },
    {
     "data": {
      "text/html": [
       "<pre style=\"white-space:pre;overflow-x:auto;line-height:normal;font-family:Menlo,'DejaVu Sans Mono',consolas,'Courier New',monospace\">Tag <span style=\"color: #008000; text-decoration-color: #008000\">\"</span><span style=\"color: #35187c; text-decoration-color: #35187c; font-weight: bold\">anthro</span><span style=\"color: #008000; text-decoration-color: #008000\">\"</span> found in caption <span style=\"color: #008000; text-decoration-color: #008000\">\"This furry sticker showcases an animated </span><span style=\"color: #35187c; text-decoration-color: #35187c; font-weight: bold\">anthro</span><span style=\"color: #008000; text-decoration-color: #008000\"> fox character sitting at a desk with</span>\n",
       "<span style=\"color: #008000; text-decoration-color: #008000\">its hands on a laptop's screen.\"</span>\n",
       "</pre>\n"
      ],
      "text/plain": [
       "Tag \u001b[32m\"\u001b[0m\u001b[1;38;2;53;24;124manthro\u001b[0m\u001b[32m\"\u001b[0m found in caption \u001b[32m\"This furry sticker showcases an animated \u001b[0m\u001b[1;38;2;53;24;124manthro\u001b[0m\u001b[32m fox character sitting at a desk with\u001b[0m\n",
       "\u001b[32mits hands on a laptop's screen.\"\u001b[0m\n"
      ]
     },
     "metadata": {},
     "output_type": "display_data"
    },
    {
     "data": {
      "text/html": [
       "<pre style=\"white-space:pre;overflow-x:auto;line-height:normal;font-family:Menlo,'DejaVu Sans Mono',consolas,'Courier New',monospace\">Tag <span style=\"color: #008000; text-decoration-color: #008000\">\"</span><span style=\"color: #f0e6af; text-decoration-color: #f0e6af; font-weight: bold\">computer</span><span style=\"color: #008000; text-decoration-color: #008000\">\"</span> found in caption <span style=\"color: #008000; text-decoration-color: #008000\">\"On the desk there's also a </span><span style=\"color: #f0e6af; text-decoration-color: #f0e6af; font-weight: bold\">computer</span><span style=\"color: #008000; text-decoration-color: #008000\"> mouse with a blue mouse pad under it.\"</span>\n",
       "</pre>\n"
      ],
      "text/plain": [
       "Tag \u001b[32m\"\u001b[0m\u001b[1;38;2;240;230;175mcomputer\u001b[0m\u001b[32m\"\u001b[0m found in caption \u001b[32m\"On the desk there's also a \u001b[0m\u001b[1;38;2;240;230;175mcomputer\u001b[0m\u001b[32m mouse with a blue mouse pad under it.\"\u001b[0m\n"
      ]
     },
     "metadata": {},
     "output_type": "display_data"
    },
    {
     "data": {
      "text/html": [
       "<pre style=\"white-space:pre;overflow-x:auto;line-height:normal;font-family:Menlo,'DejaVu Sans Mono',consolas,'Courier New',monospace\">Tag <span style=\"color: #008000; text-decoration-color: #008000\">\"</span><span style=\"color: #e56174; text-decoration-color: #e56174; font-weight: bold\">white fur</span><span style=\"color: #008000; text-decoration-color: #008000\">\"</span> found in caption <span style=\"color: #008000; text-decoration-color: #008000\">\"The fox has a vibrant red fur with his chest and bottom of its face covered in </span>\n",
       "<span style=\"color: #e56174; text-decoration-color: #e56174; font-weight: bold\">white fur</span><span style=\"color: #008000; text-decoration-color: #008000\">.\"</span>\n",
       "</pre>\n"
      ],
      "text/plain": [
       "Tag \u001b[32m\"\u001b[0m\u001b[1;38;2;229;97;116mwhite fur\u001b[0m\u001b[32m\"\u001b[0m found in caption \u001b[32m\"The fox has a vibrant red fur with his chest and bottom of its face covered in \u001b[0m\n",
       "\u001b[1;38;2;229;97;116mwhite fur\u001b[0m\u001b[32m.\"\u001b[0m\n"
      ]
     },
     "metadata": {},
     "output_type": "display_data"
    },
    {
     "data": {
      "text/html": [
       "<pre style=\"white-space:pre;overflow-x:auto;line-height:normal;font-family:Menlo,'DejaVu Sans Mono',consolas,'Courier New',monospace\">C:\\Users\\kade\\Desktop\\training_dir_staging\\1_furry_sticker\\1aea6a3150d717943f2e5d70f799050d.txt\n",
       "</pre>\n"
      ],
      "text/plain": [
       "C:\\Users\\kade\\Desktop\\training_dir_staging\\1_furry_sticker\\1aea6a3150d717943f2e5d70f799050d.txt\n"
      ]
     },
     "metadata": {},
     "output_type": "display_data"
    },
    {
     "data": {
      "text/html": [
       "<pre style=\"white-space:pre;overflow-x:auto;line-height:normal;font-family:Menlo,'DejaVu Sans Mono',consolas,'Courier New',monospace\">Tag <span style=\"color: #008000; text-decoration-color: #008000\">\"</span><span style=\"color: #f90e35; text-decoration-color: #f90e35; font-weight: bold\">fox</span><span style=\"color: #008000; text-decoration-color: #008000\">\"</span> found in caption <span style=\"color: #008000; text-decoration-color: #008000\">\"The image features a stylized cartoon depiction of a </span><span style=\"color: #f90e35; text-decoration-color: #f90e35; font-weight: bold\">fox</span><span style=\"color: #008000; text-decoration-color: #008000\"> with a playful and cheeky </span>\n",
       "<span style=\"color: #008000; text-decoration-color: #008000\">expression and it has its eyes closed.\"</span>\n",
       "</pre>\n"
      ],
      "text/plain": [
       "Tag \u001b[32m\"\u001b[0m\u001b[1;38;2;249;14;53mfox\u001b[0m\u001b[32m\"\u001b[0m found in caption \u001b[32m\"The image features a stylized cartoon depiction of a \u001b[0m\u001b[1;38;2;249;14;53mfox\u001b[0m\u001b[32m with a playful and cheeky \u001b[0m\n",
       "\u001b[32mexpression and it has its eyes closed.\"\u001b[0m\n"
      ]
     },
     "metadata": {},
     "output_type": "display_data"
    },
    {
     "data": {
      "text/html": [
       "<pre style=\"white-space:pre;overflow-x:auto;line-height:normal;font-family:Menlo,'DejaVu Sans Mono',consolas,'Courier New',monospace\">Tag <span style=\"color: #008000; text-decoration-color: #008000\">\"</span><span style=\"color: #f30487; text-decoration-color: #f30487; font-weight: bold\">eyes closed</span><span style=\"color: #008000; text-decoration-color: #008000\">\"</span> found in caption <span style=\"color: #008000; text-decoration-color: #008000\">\"The image features a stylized cartoon depiction of a fox with a playful and </span>\n",
       "<span style=\"color: #008000; text-decoration-color: #008000\">cheeky expression and it has its </span><span style=\"color: #f30487; text-decoration-color: #f30487; font-weight: bold\">eyes closed</span><span style=\"color: #008000; text-decoration-color: #008000\">.\"</span>\n",
       "</pre>\n"
      ],
      "text/plain": [
       "Tag \u001b[32m\"\u001b[0m\u001b[1;38;2;243;4;135meyes closed\u001b[0m\u001b[32m\"\u001b[0m found in caption \u001b[32m\"The image features a stylized cartoon depiction of a fox with a playful and \u001b[0m\n",
       "\u001b[32mcheeky expression and it has its \u001b[0m\u001b[1;38;2;243;4;135meyes closed\u001b[0m\u001b[32m.\"\u001b[0m\n"
      ]
     },
     "metadata": {},
     "output_type": "display_data"
    },
    {
     "data": {
      "text/html": [
       "<pre style=\"white-space:pre;overflow-x:auto;line-height:normal;font-family:Menlo,'DejaVu Sans Mono',consolas,'Courier New',monospace\">Tag <span style=\"color: #008000; text-decoration-color: #008000\">\"</span><span style=\"color: #4314ec; text-decoration-color: #4314ec; font-weight: bold\">black background</span><span style=\"color: #008000; text-decoration-color: #008000\">\"</span> found in caption <span style=\"color: #008000; text-decoration-color: #008000\">\"It is set against a </span><span style=\"color: #4314ec; text-decoration-color: #4314ec; font-weight: bold\">black background</span><span style=\"color: #008000; text-decoration-color: #008000\"> and there's a textual element at the </span>\n",
       "<span style=\"color: #008000; text-decoration-color: #008000\">bottom that reads 'GAFFERTAPE'.\"</span>\n",
       "</pre>\n"
      ],
      "text/plain": [
       "Tag \u001b[32m\"\u001b[0m\u001b[1;38;2;67;20;236mblack background\u001b[0m\u001b[32m\"\u001b[0m found in caption \u001b[32m\"It is set against a \u001b[0m\u001b[1;38;2;67;20;236mblack background\u001b[0m\u001b[32m and there's a textual element at the \u001b[0m\n",
       "\u001b[32mbottom that reads 'GAFFERTAPE'.\"\u001b[0m\n"
      ]
     },
     "metadata": {},
     "output_type": "display_data"
    },
    {
     "data": {
      "text/html": [
       "<pre style=\"white-space:pre;overflow-x:auto;line-height:normal;font-family:Menlo,'DejaVu Sans Mono',consolas,'Courier New',monospace\">Tag <span style=\"color: #008000; text-decoration-color: #008000\">\"</span><span style=\"color: #20ca1f; text-decoration-color: #20ca1f; font-weight: bold\">text</span><span style=\"color: #008000; text-decoration-color: #008000\">\"</span> found in caption <span style=\"color: #008000; text-decoration-color: #008000\">\"It is set against a black background and there's a </span><span style=\"color: #20ca1f; text-decoration-color: #20ca1f; font-weight: bold\">text</span><span style=\"color: #008000; text-decoration-color: #008000\">ual element at the bottom that </span>\n",
       "<span style=\"color: #008000; text-decoration-color: #008000\">reads 'GAFFERTAPE'.\"</span>\n",
       "</pre>\n"
      ],
      "text/plain": [
       "Tag \u001b[32m\"\u001b[0m\u001b[1;38;2;32;202;31mtext\u001b[0m\u001b[32m\"\u001b[0m found in caption \u001b[32m\"It is set against a black background and there's a \u001b[0m\u001b[1;38;2;32;202;31mtext\u001b[0m\u001b[32mual element at the bottom that \u001b[0m\n",
       "\u001b[32mreads 'GAFFERTAPE'.\"\u001b[0m\n"
      ]
     },
     "metadata": {},
     "output_type": "display_data"
    },
    {
     "data": {
      "text/html": [
       "<pre style=\"white-space:pre;overflow-x:auto;line-height:normal;font-family:Menlo,'DejaVu Sans Mono',consolas,'Courier New',monospace\">Tag <span style=\"color: #008000; text-decoration-color: #008000\">\"</span><span style=\"color: #afa6a7; text-decoration-color: #afa6a7; font-weight: bold\">text</span><span style=\"color: #008000; text-decoration-color: #008000\">\"</span> found in caption <span style=\"color: #008000; text-decoration-color: #008000\">\"The character and the </span><span style=\"color: #afa6a7; text-decoration-color: #afa6a7; font-weight: bold\">text</span><span style=\"color: #008000; text-decoration-color: #008000\"> has a white outline around it.\"</span>\n",
       "</pre>\n"
      ],
      "text/plain": [
       "Tag \u001b[32m\"\u001b[0m\u001b[1;38;2;175;166;167mtext\u001b[0m\u001b[32m\"\u001b[0m found in caption \u001b[32m\"The character and the \u001b[0m\u001b[1;38;2;175;166;167mtext\u001b[0m\u001b[32m has a white outline around it.\"\u001b[0m\n"
      ]
     },
     "metadata": {},
     "output_type": "display_data"
    },
    {
     "data": {
      "text/html": [
       "<pre style=\"white-space:pre;overflow-x:auto;line-height:normal;font-family:Menlo,'DejaVu Sans Mono',consolas,'Courier New',monospace\">Tag <span style=\"color: #008000; text-decoration-color: #008000\">\"</span><span style=\"color: #0cda3a; text-decoration-color: #0cda3a; font-weight: bold\">fur</span><span style=\"color: #008000; text-decoration-color: #008000\">\"</span> found in caption <span style=\"color: #008000; text-decoration-color: #008000\">\"The creature has orange </span><span style=\"color: #0cda3a; text-decoration-color: #0cda3a; font-weight: bold\">fur</span><span style=\"color: #008000; text-decoration-color: #008000\"> with white accents pointed ears and a mischievous smirk.\"</span>\n",
       "</pre>\n"
      ],
      "text/plain": [
       "Tag \u001b[32m\"\u001b[0m\u001b[1;38;2;12;218;58mfur\u001b[0m\u001b[32m\"\u001b[0m found in caption \u001b[32m\"The creature has orange \u001b[0m\u001b[1;38;2;12;218;58mfur\u001b[0m\u001b[32m with white accents pointed ears and a mischievous smirk.\"\u001b[0m\n"
      ]
     },
     "metadata": {},
     "output_type": "display_data"
    },
    {
     "data": {
      "text/html": [
       "<pre style=\"white-space:pre;overflow-x:auto;line-height:normal;font-family:Menlo,'DejaVu Sans Mono',consolas,'Courier New',monospace\">Tag <span style=\"color: #008000; text-decoration-color: #008000\">\"</span><span style=\"color: #98371e; text-decoration-color: #98371e; font-weight: bold\">orange fur</span><span style=\"color: #008000; text-decoration-color: #008000\">\"</span> found in caption <span style=\"color: #008000; text-decoration-color: #008000\">\"The creature has </span><span style=\"color: #98371e; text-decoration-color: #98371e; font-weight: bold\">orange fur</span><span style=\"color: #008000; text-decoration-color: #008000\"> with white accents pointed ears and a mischievous </span>\n",
       "<span style=\"color: #008000; text-decoration-color: #008000\">smirk.\"</span>\n",
       "</pre>\n"
      ],
      "text/plain": [
       "Tag \u001b[32m\"\u001b[0m\u001b[1;38;2;152;55;30morange fur\u001b[0m\u001b[32m\"\u001b[0m found in caption \u001b[32m\"The creature has \u001b[0m\u001b[1;38;2;152;55;30morange fur\u001b[0m\u001b[32m with white accents pointed ears and a mischievous \u001b[0m\n",
       "\u001b[32msmirk.\"\u001b[0m\n"
      ]
     },
     "metadata": {},
     "output_type": "display_data"
    },
    {
     "data": {
      "text/html": [
       "<pre style=\"white-space:pre;overflow-x:auto;line-height:normal;font-family:Menlo,'DejaVu Sans Mono',consolas,'Courier New',monospace\">C:\\Users\\kade\\Desktop\\training_dir_staging\\1_furry_sticker\\1b09d9c4726d721e86b204c23ab9e184.txt\n",
       "</pre>\n"
      ],
      "text/plain": [
       "C:\\Users\\kade\\Desktop\\training_dir_staging\\1_furry_sticker\\1b09d9c4726d721e86b204c23ab9e184.txt\n"
      ]
     },
     "metadata": {},
     "output_type": "display_data"
    },
    {
     "data": {
      "text/html": [
       "<pre style=\"white-space:pre;overflow-x:auto;line-height:normal;font-family:Menlo,'DejaVu Sans Mono',consolas,'Courier New',monospace\">Tag <span style=\"color: #008000; text-decoration-color: #008000\">\"</span><span style=\"color: #74e01b; text-decoration-color: #74e01b; font-weight: bold\">fox</span><span style=\"color: #008000; text-decoration-color: #008000\">\"</span> found in caption <span style=\"color: #008000; text-decoration-color: #008000\">\"The image depicts an anthro red </span><span style=\"color: #74e01b; text-decoration-color: #74e01b; font-weight: bold\">fox</span><span style=\"color: #008000; text-decoration-color: #008000\"> sitting at a desk.\"</span>\n",
       "</pre>\n"
      ],
      "text/plain": [
       "Tag \u001b[32m\"\u001b[0m\u001b[1;38;2;116;224;27mfox\u001b[0m\u001b[32m\"\u001b[0m found in caption \u001b[32m\"The image depicts an anthro red \u001b[0m\u001b[1;38;2;116;224;27mfox\u001b[0m\u001b[32m sitting at a desk.\"\u001b[0m\n"
      ]
     },
     "metadata": {},
     "output_type": "display_data"
    },
    {
     "data": {
      "text/html": [
       "<pre style=\"white-space:pre;overflow-x:auto;line-height:normal;font-family:Menlo,'DejaVu Sans Mono',consolas,'Courier New',monospace\">Tag <span style=\"color: #008000; text-decoration-color: #008000\">\"</span><span style=\"color: #16c944; text-decoration-color: #16c944; font-weight: bold\">fox</span><span style=\"color: #008000; text-decoration-color: #008000\">\"</span> found in caption <span style=\"color: #008000; text-decoration-color: #008000\">\"The </span><span style=\"color: #16c944; text-decoration-color: #16c944; font-weight: bold\">fox</span><span style=\"color: #008000; text-decoration-color: #008000\"> appears to be working on a computer as evidenced by the keyboard in front of it</span>\n",
       "<span style=\"color: #008000; text-decoration-color: #008000\">and the computer mouse with a mousepad on the desk.\"</span>\n",
       "</pre>\n"
      ],
      "text/plain": [
       "Tag \u001b[32m\"\u001b[0m\u001b[1;38;2;22;201;68mfox\u001b[0m\u001b[32m\"\u001b[0m found in caption \u001b[32m\"The \u001b[0m\u001b[1;38;2;22;201;68mfox\u001b[0m\u001b[32m appears to be working on a computer as evidenced by the keyboard in front of it\u001b[0m\n",
       "\u001b[32mand the computer mouse with a mousepad on the desk.\"\u001b[0m\n"
      ]
     },
     "metadata": {},
     "output_type": "display_data"
    },
    {
     "data": {
      "text/html": [
       "<pre style=\"white-space:pre;overflow-x:auto;line-height:normal;font-family:Menlo,'DejaVu Sans Mono',consolas,'Courier New',monospace\">Tag <span style=\"color: #008000; text-decoration-color: #008000\">\"</span><span style=\"color: #46ee14; text-decoration-color: #46ee14; font-weight: bold\">fox</span><span style=\"color: #008000; text-decoration-color: #008000\">\"</span> found in caption <span style=\"color: #008000; text-decoration-color: #008000\">\"The </span><span style=\"color: #46ee14; text-decoration-color: #46ee14; font-weight: bold\">fox</span><span style=\"color: #008000; text-decoration-color: #008000\"> has a perplexed expression on its face.\"</span>\n",
       "</pre>\n"
      ],
      "text/plain": [
       "Tag \u001b[32m\"\u001b[0m\u001b[1;38;2;70;238;20mfox\u001b[0m\u001b[32m\"\u001b[0m found in caption \u001b[32m\"The \u001b[0m\u001b[1;38;2;70;238;20mfox\u001b[0m\u001b[32m has a perplexed expression on its face.\"\u001b[0m\n"
      ]
     },
     "metadata": {},
     "output_type": "display_data"
    },
    {
     "data": {
      "text/html": [
       "<pre style=\"white-space:pre;overflow-x:auto;line-height:normal;font-family:Menlo,'DejaVu Sans Mono',consolas,'Courier New',monospace\">Tag <span style=\"color: #008000; text-decoration-color: #008000\">\"</span><span style=\"color: #cf17ce; text-decoration-color: #cf17ce; font-weight: bold\">anthro</span><span style=\"color: #008000; text-decoration-color: #008000\">\"</span> found in caption <span style=\"color: #008000; text-decoration-color: #008000\">\"The image depicts an </span><span style=\"color: #cf17ce; text-decoration-color: #cf17ce; font-weight: bold\">anthro</span><span style=\"color: #008000; text-decoration-color: #008000\"> red fox sitting at a desk.\"</span>\n",
       "</pre>\n"
      ],
      "text/plain": [
       "Tag \u001b[32m\"\u001b[0m\u001b[1;38;2;207;23;206manthro\u001b[0m\u001b[32m\"\u001b[0m found in caption \u001b[32m\"The image depicts an \u001b[0m\u001b[1;38;2;207;23;206manthro\u001b[0m\u001b[32m red fox sitting at a desk.\"\u001b[0m\n"
      ]
     },
     "metadata": {},
     "output_type": "display_data"
    },
    {
     "data": {
      "text/html": [
       "<pre style=\"white-space:pre;overflow-x:auto;line-height:normal;font-family:Menlo,'DejaVu Sans Mono',consolas,'Courier New',monospace\">C:\\Users\\kade\\Desktop\\training_dir_staging\\1_furry_sticker\\1c014a48012a09c9d2fb05aea4862190.txt\n",
       "</pre>\n"
      ],
      "text/plain": [
       "C:\\Users\\kade\\Desktop\\training_dir_staging\\1_furry_sticker\\1c014a48012a09c9d2fb05aea4862190.txt\n"
      ]
     },
     "metadata": {},
     "output_type": "display_data"
    },
    {
     "data": {
      "text/html": [
       "<pre style=\"white-space:pre;overflow-x:auto;line-height:normal;font-family:Menlo,'DejaVu Sans Mono',consolas,'Courier New',monospace\">Tag <span style=\"color: #008000; text-decoration-color: #008000\">\"</span><span style=\"color: #b7e6f5; text-decoration-color: #b7e6f5; font-weight: bold\">anthro</span><span style=\"color: #008000; text-decoration-color: #008000\">\"</span> found in caption <span style=\"color: #008000; text-decoration-color: #008000\">\"The image showcases a cartoonish </span><span style=\"color: #b7e6f5; text-decoration-color: #b7e6f5; font-weight: bold\">anthro</span><span style=\"color: #008000; text-decoration-color: #008000\"> canine with gray and black fur.\"</span>\n",
       "</pre>\n"
      ],
      "text/plain": [
       "Tag \u001b[32m\"\u001b[0m\u001b[1;38;2;183;230;245manthro\u001b[0m\u001b[32m\"\u001b[0m found in caption \u001b[32m\"The image showcases a cartoonish \u001b[0m\u001b[1;38;2;183;230;245manthro\u001b[0m\u001b[32m canine with gray and black fur.\"\u001b[0m\n"
      ]
     },
     "metadata": {},
     "output_type": "display_data"
    },
    {
     "data": {
      "text/html": [
       "<pre style=\"white-space:pre;overflow-x:auto;line-height:normal;font-family:Menlo,'DejaVu Sans Mono',consolas,'Courier New',monospace\">Tag <span style=\"color: #008000; text-decoration-color: #008000\">\"</span><span style=\"color: #ae2134; text-decoration-color: #ae2134; font-weight: bold\">fur</span><span style=\"color: #008000; text-decoration-color: #008000\">\"</span> found in caption <span style=\"color: #008000; text-decoration-color: #008000\">\"The image showcases a cartoonish anthro canine with gray and black </span><span style=\"color: #ae2134; text-decoration-color: #ae2134; font-weight: bold\">fur</span><span style=\"color: #008000; text-decoration-color: #008000\">.\"</span>\n",
       "</pre>\n"
      ],
      "text/plain": [
       "Tag \u001b[32m\"\u001b[0m\u001b[1;38;2;174;33;52mfur\u001b[0m\u001b[32m\"\u001b[0m found in caption \u001b[32m\"The image showcases a cartoonish anthro canine with gray and black \u001b[0m\u001b[1;38;2;174;33;52mfur\u001b[0m\u001b[32m.\"\u001b[0m\n"
      ]
     },
     "metadata": {},
     "output_type": "display_data"
    },
    {
     "data": {
      "text/html": [
       "<pre style=\"white-space:pre;overflow-x:auto;line-height:normal;font-family:Menlo,'DejaVu Sans Mono',consolas,'Courier New',monospace\">Tag <span style=\"color: #008000; text-decoration-color: #008000\">\"</span><span style=\"color: #18615f; text-decoration-color: #18615f; font-weight: bold\">canine</span><span style=\"color: #008000; text-decoration-color: #008000\">\"</span> found in caption <span style=\"color: #008000; text-decoration-color: #008000\">\"The image showcases a cartoonish anthro </span><span style=\"color: #18615f; text-decoration-color: #18615f; font-weight: bold\">canine</span><span style=\"color: #008000; text-decoration-color: #008000\"> with gray and black fur.\"</span>\n",
       "</pre>\n"
      ],
      "text/plain": [
       "Tag \u001b[32m\"\u001b[0m\u001b[1;38;2;24;97;95mcanine\u001b[0m\u001b[32m\"\u001b[0m found in caption \u001b[32m\"The image showcases a cartoonish anthro \u001b[0m\u001b[1;38;2;24;97;95mcanine\u001b[0m\u001b[32m with gray and black fur.\"\u001b[0m\n"
      ]
     },
     "metadata": {},
     "output_type": "display_data"
    },
    {
     "data": {
      "text/html": [
       "<pre style=\"white-space:pre;overflow-x:auto;line-height:normal;font-family:Menlo,'DejaVu Sans Mono',consolas,'Courier New',monospace\">C:\\Users\\kade\\Desktop\\training_dir_staging\\1_furry_sticker\\1d64f33795f33146e529a43b23c9d247.txt\n",
       "</pre>\n"
      ],
      "text/plain": [
       "C:\\Users\\kade\\Desktop\\training_dir_staging\\1_furry_sticker\\1d64f33795f33146e529a43b23c9d247.txt\n"
      ]
     },
     "metadata": {},
     "output_type": "display_data"
    },
    {
     "data": {
      "text/html": [
       "<pre style=\"white-space:pre;overflow-x:auto;line-height:normal;font-family:Menlo,'DejaVu Sans Mono',consolas,'Courier New',monospace\">Tag <span style=\"color: #008000; text-decoration-color: #008000\">\"</span><span style=\"color: #51bbcc; text-decoration-color: #51bbcc; font-weight: bold\">furry sticker</span><span style=\"color: #008000; text-decoration-color: #008000\">\"</span> found in caption <span style=\"color: #008000; text-decoration-color: #008000\">\"The </span><span style=\"color: #51bbcc; text-decoration-color: #51bbcc; font-weight: bold\">furry sticker</span><span style=\"color: #008000; text-decoration-color: #008000\"> features a cartoon anthro fox character.\"</span>\n",
       "</pre>\n"
      ],
      "text/plain": [
       "Tag \u001b[32m\"\u001b[0m\u001b[1;38;2;81;187;204mfurry sticker\u001b[0m\u001b[32m\"\u001b[0m found in caption \u001b[32m\"The \u001b[0m\u001b[1;38;2;81;187;204mfurry sticker\u001b[0m\u001b[32m features a cartoon anthro fox character.\"\u001b[0m\n"
      ]
     },
     "metadata": {},
     "output_type": "display_data"
    },
    {
     "data": {
      "text/html": [
       "<pre style=\"white-space:pre;overflow-x:auto;line-height:normal;font-family:Menlo,'DejaVu Sans Mono',consolas,'Courier New',monospace\">Tag <span style=\"color: #008000; text-decoration-color: #008000\">\"</span><span style=\"color: #1f851f; text-decoration-color: #1f851f; font-weight: bold\">fox</span><span style=\"color: #008000; text-decoration-color: #008000\">\"</span> found in caption <span style=\"color: #008000; text-decoration-color: #008000\">\"The furry sticker features a cartoon anthro </span><span style=\"color: #1f851f; text-decoration-color: #1f851f; font-weight: bold\">fox</span><span style=\"color: #008000; text-decoration-color: #008000\"> character.\"</span>\n",
       "</pre>\n"
      ],
      "text/plain": [
       "Tag \u001b[32m\"\u001b[0m\u001b[1;38;2;31;133;31mfox\u001b[0m\u001b[32m\"\u001b[0m found in caption \u001b[32m\"The furry sticker features a cartoon anthro \u001b[0m\u001b[1;38;2;31;133;31mfox\u001b[0m\u001b[32m character.\"\u001b[0m\n"
      ]
     },
     "metadata": {},
     "output_type": "display_data"
    },
    {
     "data": {
      "text/html": [
       "<pre style=\"white-space:pre;overflow-x:auto;line-height:normal;font-family:Menlo,'DejaVu Sans Mono',consolas,'Courier New',monospace\">Tag <span style=\"color: #008000; text-decoration-color: #008000\">\"</span><span style=\"color: #a26f3f; text-decoration-color: #a26f3f; font-weight: bold\">fox</span><span style=\"color: #008000; text-decoration-color: #008000\">\"</span> found in caption <span style=\"color: #008000; text-decoration-color: #008000\">\"The </span><span style=\"color: #a26f3f; text-decoration-color: #a26f3f; font-weight: bold\">fox</span><span style=\"color: #008000; text-decoration-color: #008000\"> has a red fur with pointed ears and amber eyes.\"</span>\n",
       "</pre>\n"
      ],
      "text/plain": [
       "Tag \u001b[32m\"\u001b[0m\u001b[1;38;2;162;111;63mfox\u001b[0m\u001b[32m\"\u001b[0m found in caption \u001b[32m\"The \u001b[0m\u001b[1;38;2;162;111;63mfox\u001b[0m\u001b[32m has a red fur with pointed ears and amber eyes.\"\u001b[0m\n"
      ]
     },
     "metadata": {},
     "output_type": "display_data"
    },
    {
     "data": {
      "text/html": [
       "<pre style=\"white-space:pre;overflow-x:auto;line-height:normal;font-family:Menlo,'DejaVu Sans Mono',consolas,'Courier New',monospace\">Tag <span style=\"color: #008000; text-decoration-color: #008000\">\"</span><span style=\"color: #0aea26; text-decoration-color: #0aea26; font-weight: bold\">fox</span><span style=\"color: #008000; text-decoration-color: #008000\">\"</span> found in caption <span style=\"color: #008000; text-decoration-color: #008000\">\"Above the </span><span style=\"color: #0aea26; text-decoration-color: #0aea26; font-weight: bold\">fox</span><span style=\"color: #008000; text-decoration-color: #008000\"> there's a light bulb symbol indicating a bright idea or inspiration.\"</span>\n",
       "</pre>\n"
      ],
      "text/plain": [
       "Tag \u001b[32m\"\u001b[0m\u001b[1;38;2;10;234;38mfox\u001b[0m\u001b[32m\"\u001b[0m found in caption \u001b[32m\"Above the \u001b[0m\u001b[1;38;2;10;234;38mfox\u001b[0m\u001b[32m there's a light bulb symbol indicating a bright idea or inspiration.\"\u001b[0m\n"
      ]
     },
     "metadata": {},
     "output_type": "display_data"
    },
    {
     "data": {
      "text/html": [
       "<pre style=\"white-space:pre;overflow-x:auto;line-height:normal;font-family:Menlo,'DejaVu Sans Mono',consolas,'Courier New',monospace\">Tag <span style=\"color: #008000; text-decoration-color: #008000\">\"</span><span style=\"color: #54d52c; text-decoration-color: #54d52c; font-weight: bold\">anthro</span><span style=\"color: #008000; text-decoration-color: #008000\">\"</span> found in caption <span style=\"color: #008000; text-decoration-color: #008000\">\"The furry sticker features a cartoon </span><span style=\"color: #54d52c; text-decoration-color: #54d52c; font-weight: bold\">anthro</span><span style=\"color: #008000; text-decoration-color: #008000\"> fox character.\"</span>\n",
       "</pre>\n"
      ],
      "text/plain": [
       "Tag \u001b[32m\"\u001b[0m\u001b[1;38;2;84;213;44manthro\u001b[0m\u001b[32m\"\u001b[0m found in caption \u001b[32m\"The furry sticker features a cartoon \u001b[0m\u001b[1;38;2;84;213;44manthro\u001b[0m\u001b[32m fox character.\"\u001b[0m\n"
      ]
     },
     "metadata": {},
     "output_type": "display_data"
    },
    {
     "data": {
      "text/html": [
       "<pre style=\"white-space:pre;overflow-x:auto;line-height:normal;font-family:Menlo,'DejaVu Sans Mono',consolas,'Courier New',monospace\">Tag <span style=\"color: #008000; text-decoration-color: #008000\">\"</span><span style=\"color: #fee5ed; text-decoration-color: #fee5ed; font-weight: bold\">fur</span><span style=\"color: #008000; text-decoration-color: #008000\">\"</span> found in caption <span style=\"color: #008000; text-decoration-color: #008000\">\"The </span><span style=\"color: #fee5ed; text-decoration-color: #fee5ed; font-weight: bold\">fur</span><span style=\"color: #008000; text-decoration-color: #008000\">ry sticker features a cartoon anthro fox character.\"</span>\n",
       "</pre>\n"
      ],
      "text/plain": [
       "Tag \u001b[32m\"\u001b[0m\u001b[1;38;2;254;229;237mfur\u001b[0m\u001b[32m\"\u001b[0m found in caption \u001b[32m\"The \u001b[0m\u001b[1;38;2;254;229;237mfur\u001b[0m\u001b[32mry sticker features a cartoon anthro fox character.\"\u001b[0m\n"
      ]
     },
     "metadata": {},
     "output_type": "display_data"
    },
    {
     "data": {
      "text/html": [
       "<pre style=\"white-space:pre;overflow-x:auto;line-height:normal;font-family:Menlo,'DejaVu Sans Mono',consolas,'Courier New',monospace\">Tag <span style=\"color: #008000; text-decoration-color: #008000\">\"</span><span style=\"color: #7424af; text-decoration-color: #7424af; font-weight: bold\">fur</span><span style=\"color: #008000; text-decoration-color: #008000\">\"</span> found in caption <span style=\"color: #008000; text-decoration-color: #008000\">\"The fox has a red </span><span style=\"color: #7424af; text-decoration-color: #7424af; font-weight: bold\">fur</span><span style=\"color: #008000; text-decoration-color: #008000\"> with pointed ears and amber eyes.\"</span>\n",
       "</pre>\n"
      ],
      "text/plain": [
       "Tag \u001b[32m\"\u001b[0m\u001b[1;38;2;116;36;175mfur\u001b[0m\u001b[32m\"\u001b[0m found in caption \u001b[32m\"The fox has a red \u001b[0m\u001b[1;38;2;116;36;175mfur\u001b[0m\u001b[32m with pointed ears and amber eyes.\"\u001b[0m\n"
      ]
     },
     "metadata": {},
     "output_type": "display_data"
    },
    {
     "data": {
      "text/html": [
       "<pre style=\"white-space:pre;overflow-x:auto;line-height:normal;font-family:Menlo,'DejaVu Sans Mono',consolas,'Courier New',monospace\">Tag <span style=\"color: #008000; text-decoration-color: #008000\">\"</span><span style=\"color: #8340a6; text-decoration-color: #8340a6; font-weight: bold\">red fur</span><span style=\"color: #008000; text-decoration-color: #008000\">\"</span> found in caption <span style=\"color: #008000; text-decoration-color: #008000\">\"The fox has a </span><span style=\"color: #8340a6; text-decoration-color: #8340a6; font-weight: bold\">red fur</span><span style=\"color: #008000; text-decoration-color: #008000\"> with pointed ears and amber eyes.\"</span>\n",
       "</pre>\n"
      ],
      "text/plain": [
       "Tag \u001b[32m\"\u001b[0m\u001b[1;38;2;131;64;166mred fur\u001b[0m\u001b[32m\"\u001b[0m found in caption \u001b[32m\"The fox has a \u001b[0m\u001b[1;38;2;131;64;166mred fur\u001b[0m\u001b[32m with pointed ears and amber eyes.\"\u001b[0m\n"
      ]
     },
     "metadata": {},
     "output_type": "display_data"
    },
    {
     "data": {
      "text/html": [
       "<pre style=\"white-space:pre;overflow-x:auto;line-height:normal;font-family:Menlo,'DejaVu Sans Mono',consolas,'Courier New',monospace\">Tag <span style=\"color: #008000; text-decoration-color: #008000\">\"</span><span style=\"color: #4a7b84; text-decoration-color: #4a7b84; font-weight: bold\">outline</span><span style=\"color: #008000; text-decoration-color: #008000\">\"</span> found in caption <span style=\"color: #008000; text-decoration-color: #008000\">\"The character has a white </span><span style=\"color: #4a7b84; text-decoration-color: #4a7b84; font-weight: bold\">outline</span><span style=\"color: #008000; text-decoration-color: #008000\"> around it.\"</span>\n",
       "</pre>\n"
      ],
      "text/plain": [
       "Tag \u001b[32m\"\u001b[0m\u001b[1;38;2;74;123;132moutline\u001b[0m\u001b[32m\"\u001b[0m found in caption \u001b[32m\"The character has a white \u001b[0m\u001b[1;38;2;74;123;132moutline\u001b[0m\u001b[32m around it.\"\u001b[0m\n"
      ]
     },
     "metadata": {},
     "output_type": "display_data"
    },
    {
     "data": {
      "text/html": [
       "<pre style=\"white-space:pre;overflow-x:auto;line-height:normal;font-family:Menlo,'DejaVu Sans Mono',consolas,'Courier New',monospace\">C:\\Users\\kade\\Desktop\\training_dir_staging\\1_furry_sticker\\1e3206f761554e1827e9e2ff1dd2f180.txt\n",
       "</pre>\n"
      ],
      "text/plain": [
       "C:\\Users\\kade\\Desktop\\training_dir_staging\\1_furry_sticker\\1e3206f761554e1827e9e2ff1dd2f180.txt\n"
      ]
     },
     "metadata": {},
     "output_type": "display_data"
    },
    {
     "data": {
      "text/html": [
       "<pre style=\"white-space:pre;overflow-x:auto;line-height:normal;font-family:Menlo,'DejaVu Sans Mono',consolas,'Courier New',monospace\">Tag <span style=\"color: #008000; text-decoration-color: #008000\">\"</span><span style=\"color: #62c5ac; text-decoration-color: #62c5ac; font-weight: bold\">furry sticker</span><span style=\"color: #008000; text-decoration-color: #008000\">\"</span> found in caption <span style=\"color: #008000; text-decoration-color: #008000\">\"The </span><span style=\"color: #62c5ac; text-decoration-color: #62c5ac; font-weight: bold\">furry sticker</span><span style=\"color: #008000; text-decoration-color: #008000\"> showcases an animated character that resembles a fluffy </span>\n",
       "<span style=\"color: #008000; text-decoration-color: #008000\">orange cat.\"</span>\n",
       "</pre>\n"
      ],
      "text/plain": [
       "Tag \u001b[32m\"\u001b[0m\u001b[1;38;2;98;197;172mfurry sticker\u001b[0m\u001b[32m\"\u001b[0m found in caption \u001b[32m\"The \u001b[0m\u001b[1;38;2;98;197;172mfurry sticker\u001b[0m\u001b[32m showcases an animated character that resembles a fluffy \u001b[0m\n",
       "\u001b[32morange cat.\"\u001b[0m\n"
      ]
     },
     "metadata": {},
     "output_type": "display_data"
    },
    {
     "data": {
      "text/html": [
       "<pre style=\"white-space:pre;overflow-x:auto;line-height:normal;font-family:Menlo,'DejaVu Sans Mono',consolas,'Courier New',monospace\">Tag <span style=\"color: #008000; text-decoration-color: #008000\">\"</span><span style=\"color: #4db492; text-decoration-color: #4db492; font-weight: bold\">yarn</span><span style=\"color: #008000; text-decoration-color: #008000\">\"</span> found in caption <span style=\"color: #008000; text-decoration-color: #008000\">\"The cat appears to be playing with a red ball of </span><span style=\"color: #4db492; text-decoration-color: #4db492; font-weight: bold\">yarn</span><span style=\"color: #008000; text-decoration-color: #008000\"> holding it with both paws and </span>\n",
       "<span style=\"color: #008000; text-decoration-color: #008000\">biting into it.\"</span>\n",
       "</pre>\n"
      ],
      "text/plain": [
       "Tag \u001b[32m\"\u001b[0m\u001b[1;38;2;77;180;146myarn\u001b[0m\u001b[32m\"\u001b[0m found in caption \u001b[32m\"The cat appears to be playing with a red ball of \u001b[0m\u001b[1;38;2;77;180;146myarn\u001b[0m\u001b[32m holding it with both paws and \u001b[0m\n",
       "\u001b[32mbiting into it.\"\u001b[0m\n"
      ]
     },
     "metadata": {},
     "output_type": "display_data"
    },
    {
     "data": {
      "text/html": [
       "<pre style=\"white-space:pre;overflow-x:auto;line-height:normal;font-family:Menlo,'DejaVu Sans Mono',consolas,'Courier New',monospace\">Tag <span style=\"color: #008000; text-decoration-color: #008000\">\"</span><span style=\"color: #8b85fa; text-decoration-color: #8b85fa; font-weight: bold\">paws</span><span style=\"color: #008000; text-decoration-color: #008000\">\"</span> found in caption <span style=\"color: #008000; text-decoration-color: #008000\">\"The cat appears to be playing with a red ball of yarn holding it with both </span><span style=\"color: #8b85fa; text-decoration-color: #8b85fa; font-weight: bold\">paws</span><span style=\"color: #008000; text-decoration-color: #008000\"> and </span>\n",
       "<span style=\"color: #008000; text-decoration-color: #008000\">biting into it.\"</span>\n",
       "</pre>\n"
      ],
      "text/plain": [
       "Tag \u001b[32m\"\u001b[0m\u001b[1;38;2;139;133;250mpaws\u001b[0m\u001b[32m\"\u001b[0m found in caption \u001b[32m\"The cat appears to be playing with a red ball of yarn holding it with both \u001b[0m\u001b[1;38;2;139;133;250mpaws\u001b[0m\u001b[32m and \u001b[0m\n",
       "\u001b[32mbiting into it.\"\u001b[0m\n"
      ]
     },
     "metadata": {},
     "output_type": "display_data"
    },
    {
     "data": {
      "text/html": [
       "<pre style=\"white-space:pre;overflow-x:auto;line-height:normal;font-family:Menlo,'DejaVu Sans Mono',consolas,'Courier New',monospace\">Tag <span style=\"color: #008000; text-decoration-color: #008000\">\"</span><span style=\"color: #81167c; text-decoration-color: #81167c; font-weight: bold\">fur</span><span style=\"color: #008000; text-decoration-color: #008000\">\"</span> found in caption <span style=\"color: #008000; text-decoration-color: #008000\">\"The </span><span style=\"color: #81167c; text-decoration-color: #81167c; font-weight: bold\">fur</span><span style=\"color: #008000; text-decoration-color: #008000\">ry sticker showcases an animated character that resembles a fluffy orange cat.\"</span>\n",
       "</pre>\n"
      ],
      "text/plain": [
       "Tag \u001b[32m\"\u001b[0m\u001b[1;38;2;129;22;124mfur\u001b[0m\u001b[32m\"\u001b[0m found in caption \u001b[32m\"The \u001b[0m\u001b[1;38;2;129;22;124mfur\u001b[0m\u001b[32mry sticker showcases an animated character that resembles a fluffy orange cat.\"\u001b[0m\n"
      ]
     },
     "metadata": {},
     "output_type": "display_data"
    },
    {
     "data": {
      "text/html": [
       "<pre style=\"white-space:pre;overflow-x:auto;line-height:normal;font-family:Menlo,'DejaVu Sans Mono',consolas,'Courier New',monospace\">C:\\Users\\kade\\Desktop\\training_dir_staging\\1_furry_sticker\\2ae636ee5a3b5b8240f11ca4b9083435.txt\n",
       "</pre>\n"
      ],
      "text/plain": [
       "C:\\Users\\kade\\Desktop\\training_dir_staging\\1_furry_sticker\\2ae636ee5a3b5b8240f11ca4b9083435.txt\n"
      ]
     },
     "metadata": {},
     "output_type": "display_data"
    },
    {
     "data": {
      "text/html": [
       "<pre style=\"white-space:pre;overflow-x:auto;line-height:normal;font-family:Menlo,'DejaVu Sans Mono',consolas,'Courier New',monospace\">Tag <span style=\"color: #008000; text-decoration-color: #008000\">\"</span><span style=\"color: #5427cc; text-decoration-color: #5427cc; font-weight: bold\">halo</span><span style=\"color: #008000; text-decoration-color: #008000\">\"</span> found in caption <span style=\"color: #008000; text-decoration-color: #008000\">\"The character also has a </span><span style=\"color: #5427cc; text-decoration-color: #5427cc; font-weight: bold\">halo</span><span style=\"color: #008000; text-decoration-color: #008000\"> above its head which is a common symbol of purity or </span>\n",
       "<span style=\"color: #008000; text-decoration-color: #008000\">divinity in various cultures.\"</span>\n",
       "</pre>\n"
      ],
      "text/plain": [
       "Tag \u001b[32m\"\u001b[0m\u001b[1;38;2;84;39;204mhalo\u001b[0m\u001b[32m\"\u001b[0m found in caption \u001b[32m\"The character also has a \u001b[0m\u001b[1;38;2;84;39;204mhalo\u001b[0m\u001b[32m above its head which is a common symbol of purity or \u001b[0m\n",
       "\u001b[32mdivinity in various cultures.\"\u001b[0m\n"
      ]
     },
     "metadata": {},
     "output_type": "display_data"
    },
    {
     "data": {
      "text/html": [
       "<pre style=\"white-space:pre;overflow-x:auto;line-height:normal;font-family:Menlo,'DejaVu Sans Mono',consolas,'Courier New',monospace\">Tag <span style=\"color: #008000; text-decoration-color: #008000\">\"</span><span style=\"color: #ca108b; text-decoration-color: #ca108b; font-weight: bold\">eyes closed</span><span style=\"color: #008000; text-decoration-color: #008000\">\"</span> found in caption <span style=\"color: #008000; text-decoration-color: #008000\">\"It has a playful expression with its </span><span style=\"color: #ca108b; text-decoration-color: #ca108b; font-weight: bold\">eyes closed</span><span style=\"color: #008000; text-decoration-color: #008000\"> and a slight smile.\"</span>\n",
       "</pre>\n"
      ],
      "text/plain": [
       "Tag \u001b[32m\"\u001b[0m\u001b[1;38;2;202;16;139meyes closed\u001b[0m\u001b[32m\"\u001b[0m found in caption \u001b[32m\"It has a playful expression with its \u001b[0m\u001b[1;38;2;202;16;139meyes closed\u001b[0m\u001b[32m and a slight smile.\"\u001b[0m\n"
      ]
     },
     "metadata": {},
     "output_type": "display_data"
    },
    {
     "data": {
      "text/html": [
       "<pre style=\"white-space:pre;overflow-x:auto;line-height:normal;font-family:Menlo,'DejaVu Sans Mono',consolas,'Courier New',monospace\">Tag <span style=\"color: #008000; text-decoration-color: #008000\">\"</span><span style=\"color: #ef06f1; text-decoration-color: #ef06f1; font-weight: bold\">anthro</span><span style=\"color: #008000; text-decoration-color: #008000\">\"</span> found in caption <span style=\"color: #008000; text-decoration-color: #008000\">\"The image depicts an animated character resembling an </span><span style=\"color: #ef06f1; text-decoration-color: #ef06f1; font-weight: bold\">anthro</span><span style=\"color: #008000; text-decoration-color: #008000\"> canine with black and </span>\n",
       "<span style=\"color: #008000; text-decoration-color: #008000\">gray fur.\"</span>\n",
       "</pre>\n"
      ],
      "text/plain": [
       "Tag \u001b[32m\"\u001b[0m\u001b[1;38;2;239;6;241manthro\u001b[0m\u001b[32m\"\u001b[0m found in caption \u001b[32m\"The image depicts an animated character resembling an \u001b[0m\u001b[1;38;2;239;6;241manthro\u001b[0m\u001b[32m canine with black and \u001b[0m\n",
       "\u001b[32mgray fur.\"\u001b[0m\n"
      ]
     },
     "metadata": {},
     "output_type": "display_data"
    },
    {
     "data": {
      "text/html": [
       "<pre style=\"white-space:pre;overflow-x:auto;line-height:normal;font-family:Menlo,'DejaVu Sans Mono',consolas,'Courier New',monospace\">Tag <span style=\"color: #008000; text-decoration-color: #008000\">\"</span><span style=\"color: #23eb10; text-decoration-color: #23eb10; font-weight: bold\">fur</span><span style=\"color: #008000; text-decoration-color: #008000\">\"</span> found in caption <span style=\"color: #008000; text-decoration-color: #008000\">\"The image depicts an animated character resembling an anthro canine with black and gray</span>\n",
       "<span style=\"color: #23eb10; text-decoration-color: #23eb10; font-weight: bold\">fur</span><span style=\"color: #008000; text-decoration-color: #008000\">.\"</span>\n",
       "</pre>\n"
      ],
      "text/plain": [
       "Tag \u001b[32m\"\u001b[0m\u001b[1;38;2;35;235;16mfur\u001b[0m\u001b[32m\"\u001b[0m found in caption \u001b[32m\"The image depicts an animated character resembling an anthro canine with black and gray\u001b[0m\n",
       "\u001b[1;38;2;35;235;16mfur\u001b[0m\u001b[32m.\"\u001b[0m\n"
      ]
     },
     "metadata": {},
     "output_type": "display_data"
    },
    {
     "data": {
      "text/html": [
       "<pre style=\"white-space:pre;overflow-x:auto;line-height:normal;font-family:Menlo,'DejaVu Sans Mono',consolas,'Courier New',monospace\">Tag <span style=\"color: #008000; text-decoration-color: #008000\">\"</span><span style=\"color: #4cae3a; text-decoration-color: #4cae3a; font-weight: bold\">canine</span><span style=\"color: #008000; text-decoration-color: #008000\">\"</span> found in caption <span style=\"color: #008000; text-decoration-color: #008000\">\"The image depicts an animated character resembling an anthro </span><span style=\"color: #4cae3a; text-decoration-color: #4cae3a; font-weight: bold\">canine</span><span style=\"color: #008000; text-decoration-color: #008000\"> with black and </span>\n",
       "<span style=\"color: #008000; text-decoration-color: #008000\">gray fur.\"</span>\n",
       "</pre>\n"
      ],
      "text/plain": [
       "Tag \u001b[32m\"\u001b[0m\u001b[1;38;2;76;174;58mcanine\u001b[0m\u001b[32m\"\u001b[0m found in caption \u001b[32m\"The image depicts an animated character resembling an anthro \u001b[0m\u001b[1;38;2;76;174;58mcanine\u001b[0m\u001b[32m with black and \u001b[0m\n",
       "\u001b[32mgray fur.\"\u001b[0m\n"
      ]
     },
     "metadata": {},
     "output_type": "display_data"
    },
    {
     "data": {
      "text/html": [
       "<pre style=\"white-space:pre;overflow-x:auto;line-height:normal;font-family:Menlo,'DejaVu Sans Mono',consolas,'Courier New',monospace\">Tag <span style=\"color: #008000; text-decoration-color: #008000\">\"</span><span style=\"color: #cdfd36; text-decoration-color: #cdfd36; font-weight: bold\">smile</span><span style=\"color: #008000; text-decoration-color: #008000\">\"</span> found in caption <span style=\"color: #008000; text-decoration-color: #008000\">\"It has a playful expression with its eyes closed and a slight </span><span style=\"color: #cdfd36; text-decoration-color: #cdfd36; font-weight: bold\">smile</span><span style=\"color: #008000; text-decoration-color: #008000\">.\"</span>\n",
       "</pre>\n"
      ],
      "text/plain": [
       "Tag \u001b[32m\"\u001b[0m\u001b[1;38;2;205;253;54msmile\u001b[0m\u001b[32m\"\u001b[0m found in caption \u001b[32m\"It has a playful expression with its eyes closed and a slight \u001b[0m\u001b[1;38;2;205;253;54msmile\u001b[0m\u001b[32m.\"\u001b[0m\n"
      ]
     },
     "metadata": {},
     "output_type": "display_data"
    },
    {
     "data": {
      "text/html": [
       "<pre style=\"white-space:pre;overflow-x:auto;line-height:normal;font-family:Menlo,'DejaVu Sans Mono',consolas,'Courier New',monospace\">C:\\Users\\kade\\Desktop\\training_dir_staging\\1_furry_sticker\\2b95b2d52c86f274dbe76eb23f5230d6.txt\n",
       "</pre>\n"
      ],
      "text/plain": [
       "C:\\Users\\kade\\Desktop\\training_dir_staging\\1_furry_sticker\\2b95b2d52c86f274dbe76eb23f5230d6.txt\n"
      ]
     },
     "metadata": {},
     "output_type": "display_data"
    },
    {
     "data": {
      "text/html": [
       "<pre style=\"white-space:pre;overflow-x:auto;line-height:normal;font-family:Menlo,'DejaVu Sans Mono',consolas,'Courier New',monospace\">Tag <span style=\"color: #008000; text-decoration-color: #008000\">\"</span><span style=\"color: #20df90; text-decoration-color: #20df90; font-weight: bold\">collar</span><span style=\"color: #008000; text-decoration-color: #008000\">\"</span> found in caption <span style=\"color: #008000; text-decoration-color: #008000\">\"It has green eyes and a pink </span><span style=\"color: #20df90; text-decoration-color: #20df90; font-weight: bold\">collar</span><span style=\"color: #008000; text-decoration-color: #008000\">.\"</span>\n",
       "</pre>\n"
      ],
      "text/plain": [
       "Tag \u001b[32m\"\u001b[0m\u001b[1;38;2;32;223;144mcollar\u001b[0m\u001b[32m\"\u001b[0m found in caption \u001b[32m\"It has green eyes and a pink \u001b[0m\u001b[1;38;2;32;223;144mcollar\u001b[0m\u001b[32m.\"\u001b[0m\n"
      ]
     },
     "metadata": {},
     "output_type": "display_data"
    },
    {
     "data": {
      "text/html": [
       "<pre style=\"white-space:pre;overflow-x:auto;line-height:normal;font-family:Menlo,'DejaVu Sans Mono',consolas,'Courier New',monospace\">Tag <span style=\"color: #008000; text-decoration-color: #008000\">\"</span><span style=\"color: #83fbb6; text-decoration-color: #83fbb6; font-weight: bold\">anthro</span><span style=\"color: #008000; text-decoration-color: #008000\">\"</span> found in caption <span style=\"color: #008000; text-decoration-color: #008000\">\"The image depicts an animated character with the appearance of an </span><span style=\"color: #83fbb6; text-decoration-color: #83fbb6; font-weight: bold\">anthro</span><span style=\"color: #008000; text-decoration-color: #008000\"> tabby cat.\"</span>\n",
       "</pre>\n"
      ],
      "text/plain": [
       "Tag \u001b[32m\"\u001b[0m\u001b[1;38;2;131;251;182manthro\u001b[0m\u001b[32m\"\u001b[0m found in caption \u001b[32m\"The image depicts an animated character with the appearance of an \u001b[0m\u001b[1;38;2;131;251;182manthro\u001b[0m\u001b[32m tabby cat.\"\u001b[0m\n"
      ]
     },
     "metadata": {},
     "output_type": "display_data"
    },
    {
     "data": {
      "text/html": [
       "<pre style=\"white-space:pre;overflow-x:auto;line-height:normal;font-family:Menlo,'DejaVu Sans Mono',consolas,'Courier New',monospace\">Tag <span style=\"color: #008000; text-decoration-color: #008000\">\"</span><span style=\"color: #e31c84; text-decoration-color: #e31c84; font-weight: bold\">green eyes</span><span style=\"color: #008000; text-decoration-color: #008000\">\"</span> found in caption <span style=\"color: #008000; text-decoration-color: #008000\">\"It has </span><span style=\"color: #e31c84; text-decoration-color: #e31c84; font-weight: bold\">green eyes</span><span style=\"color: #008000; text-decoration-color: #008000\"> and a pink collar.\"</span>\n",
       "</pre>\n"
      ],
      "text/plain": [
       "Tag \u001b[32m\"\u001b[0m\u001b[1;38;2;227;28;132mgreen eyes\u001b[0m\u001b[32m\"\u001b[0m found in caption \u001b[32m\"It has \u001b[0m\u001b[1;38;2;227;28;132mgreen eyes\u001b[0m\u001b[32m and a pink collar.\"\u001b[0m\n"
      ]
     },
     "metadata": {},
     "output_type": "display_data"
    },
    {
     "data": {
      "text/html": [
       "<pre style=\"white-space:pre;overflow-x:auto;line-height:normal;font-family:Menlo,'DejaVu Sans Mono',consolas,'Courier New',monospace\">Tag <span style=\"color: #008000; text-decoration-color: #008000\">\"</span><span style=\"color: #ee2cd8; text-decoration-color: #ee2cd8; font-weight: bold\">cup</span><span style=\"color: #008000; text-decoration-color: #008000\">\"</span> found in caption <span style=\"color: #008000; text-decoration-color: #008000\">\"It is holding a white </span><span style=\"color: #ee2cd8; text-decoration-color: #ee2cd8; font-weight: bold\">cup</span><span style=\"color: #008000; text-decoration-color: #008000\"> containing a hot beverage as evidenced by the steam rising </span>\n",
       "<span style=\"color: #008000; text-decoration-color: #008000\">from it.\"</span>\n",
       "</pre>\n"
      ],
      "text/plain": [
       "Tag \u001b[32m\"\u001b[0m\u001b[1;38;2;238;44;216mcup\u001b[0m\u001b[32m\"\u001b[0m found in caption \u001b[32m\"It is holding a white \u001b[0m\u001b[1;38;2;238;44;216mcup\u001b[0m\u001b[32m containing a hot beverage as evidenced by the steam rising \u001b[0m\n",
       "\u001b[32mfrom it.\"\u001b[0m\n"
      ]
     },
     "metadata": {},
     "output_type": "display_data"
    },
    {
     "data": {
      "text/html": [
       "<pre style=\"white-space:pre;overflow-x:auto;line-height:normal;font-family:Menlo,'DejaVu Sans Mono',consolas,'Courier New',monospace\">Tag <span style=\"color: #008000; text-decoration-color: #008000\">\"</span><span style=\"color: #3ee897; text-decoration-color: #3ee897; font-weight: bold\">beverage</span><span style=\"color: #008000; text-decoration-color: #008000\">\"</span> found in caption <span style=\"color: #008000; text-decoration-color: #008000\">\"It is holding a white cup containing a hot </span><span style=\"color: #3ee897; text-decoration-color: #3ee897; font-weight: bold\">beverage</span><span style=\"color: #008000; text-decoration-color: #008000\"> as evidenced by the steam </span>\n",
       "<span style=\"color: #008000; text-decoration-color: #008000\">rising from it.\"</span>\n",
       "</pre>\n"
      ],
      "text/plain": [
       "Tag \u001b[32m\"\u001b[0m\u001b[1;38;2;62;232;151mbeverage\u001b[0m\u001b[32m\"\u001b[0m found in caption \u001b[32m\"It is holding a white cup containing a hot \u001b[0m\u001b[1;38;2;62;232;151mbeverage\u001b[0m\u001b[32m as evidenced by the steam \u001b[0m\n",
       "\u001b[32mrising from it.\"\u001b[0m\n"
      ]
     },
     "metadata": {},
     "output_type": "display_data"
    },
    {
     "data": {
      "text/html": [
       "<pre style=\"white-space:pre;overflow-x:auto;line-height:normal;font-family:Menlo,'DejaVu Sans Mono',consolas,'Courier New',monospace\">C:\\Users\\kade\\Desktop\\training_dir_staging\\1_furry_sticker\\2d7427d4c1f515b063211ae7605dfe94.txt\n",
       "</pre>\n"
      ],
      "text/plain": [
       "C:\\Users\\kade\\Desktop\\training_dir_staging\\1_furry_sticker\\2d7427d4c1f515b063211ae7605dfe94.txt\n"
      ]
     },
     "metadata": {},
     "output_type": "display_data"
    },
    {
     "data": {
      "text/html": [
       "<pre style=\"white-space:pre;overflow-x:auto;line-height:normal;font-family:Menlo,'DejaVu Sans Mono',consolas,'Courier New',monospace\">Tag <span style=\"color: #008000; text-decoration-color: #008000\">\"</span><span style=\"color: #e56a65; text-decoration-color: #e56a65; font-weight: bold\">anthro</span><span style=\"color: #008000; text-decoration-color: #008000\">\"</span> found in caption <span style=\"color: #008000; text-decoration-color: #008000\">\"The image showcases an cartoony </span><span style=\"color: #e56a65; text-decoration-color: #e56a65; font-weight: bold\">anthro</span><span style=\"color: #008000; text-decoration-color: #008000\"> panther.\"</span>\n",
       "</pre>\n"
      ],
      "text/plain": [
       "Tag \u001b[32m\"\u001b[0m\u001b[1;38;2;229;106;101manthro\u001b[0m\u001b[32m\"\u001b[0m found in caption \u001b[32m\"The image showcases an cartoony \u001b[0m\u001b[1;38;2;229;106;101manthro\u001b[0m\u001b[32m panther.\"\u001b[0m\n"
      ]
     },
     "metadata": {},
     "output_type": "display_data"
    },
    {
     "data": {
      "text/html": [
       "<pre style=\"white-space:pre;overflow-x:auto;line-height:normal;font-family:Menlo,'DejaVu Sans Mono',consolas,'Courier New',monospace\">Tag <span style=\"color: #008000; text-decoration-color: #008000\">\"</span><span style=\"color: #9e9b20; text-decoration-color: #9e9b20; font-weight: bold\">outline</span><span style=\"color: #008000; text-decoration-color: #008000\">\"</span> found in caption <span style=\"color: #008000; text-decoration-color: #008000\">\"The character has a white </span><span style=\"color: #9e9b20; text-decoration-color: #9e9b20; font-weight: bold\">outline</span><span style=\"color: #008000; text-decoration-color: #008000\"> around it.\"</span>\n",
       "</pre>\n"
      ],
      "text/plain": [
       "Tag \u001b[32m\"\u001b[0m\u001b[1;38;2;158;155;32moutline\u001b[0m\u001b[32m\"\u001b[0m found in caption \u001b[32m\"The character has a white \u001b[0m\u001b[1;38;2;158;155;32moutline\u001b[0m\u001b[32m around it.\"\u001b[0m\n"
      ]
     },
     "metadata": {},
     "output_type": "display_data"
    },
    {
     "data": {
      "text/html": [
       "<pre style=\"white-space:pre;overflow-x:auto;line-height:normal;font-family:Menlo,'DejaVu Sans Mono',consolas,'Courier New',monospace\">C:\\Users\\kade\\Desktop\\training_dir_staging\\1_furry_sticker\\2dbc05b0a9a9053fbfb97a94f20689a8.txt\n",
       "</pre>\n"
      ],
      "text/plain": [
       "C:\\Users\\kade\\Desktop\\training_dir_staging\\1_furry_sticker\\2dbc05b0a9a9053fbfb97a94f20689a8.txt\n"
      ]
     },
     "metadata": {},
     "output_type": "display_data"
    },
    {
     "data": {
      "text/html": [
       "<pre style=\"white-space:pre;overflow-x:auto;line-height:normal;font-family:Menlo,'DejaVu Sans Mono',consolas,'Courier New',monospace\">Tag <span style=\"color: #008000; text-decoration-color: #008000\">\"</span><span style=\"color: #dacb73; text-decoration-color: #dacb73; font-weight: bold\">tongue</span><span style=\"color: #008000; text-decoration-color: #008000\">\"</span> found in caption <span style=\"color: #008000; text-decoration-color: #008000\">\"The character has a playful expression with its </span><span style=\"color: #dacb73; text-decoration-color: #dacb73; font-weight: bold\">tongue</span><span style=\"color: #008000; text-decoration-color: #008000\"> sticking out and a </span>\n",
       "<span style=\"color: #008000; text-decoration-color: #008000\">mischievous glint in its eyes which are squished in a silly manner.\"</span>\n",
       "</pre>\n"
      ],
      "text/plain": [
       "Tag \u001b[32m\"\u001b[0m\u001b[1;38;2;218;203;115mtongue\u001b[0m\u001b[32m\"\u001b[0m found in caption \u001b[32m\"The character has a playful expression with its \u001b[0m\u001b[1;38;2;218;203;115mtongue\u001b[0m\u001b[32m sticking out and a \u001b[0m\n",
       "\u001b[32mmischievous glint in its eyes which are squished in a silly manner.\"\u001b[0m\n"
      ]
     },
     "metadata": {},
     "output_type": "display_data"
    },
    {
     "data": {
      "text/html": [
       "<pre style=\"white-space:pre;overflow-x:auto;line-height:normal;font-family:Menlo,'DejaVu Sans Mono',consolas,'Courier New',monospace\">Tag <span style=\"color: #008000; text-decoration-color: #008000\">\"</span><span style=\"color: #ac740f; text-decoration-color: #ac740f; font-weight: bold\">fur</span><span style=\"color: #008000; text-decoration-color: #008000\">\"</span> found in caption <span style=\"color: #008000; text-decoration-color: #008000\">\"The </span><span style=\"color: #ac740f; text-decoration-color: #ac740f; font-weight: bold\">fur</span><span style=\"color: #008000; text-decoration-color: #008000\"> color is a mix of gray and white with black highlights and it has pointed </span>\n",
       "<span style=\"color: #008000; text-decoration-color: #008000\">ears.\"</span>\n",
       "</pre>\n"
      ],
      "text/plain": [
       "Tag \u001b[32m\"\u001b[0m\u001b[1;38;2;172;116;15mfur\u001b[0m\u001b[32m\"\u001b[0m found in caption \u001b[32m\"The \u001b[0m\u001b[1;38;2;172;116;15mfur\u001b[0m\u001b[32m color is a mix of gray and white with black highlights and it has pointed \u001b[0m\n",
       "\u001b[32mears.\"\u001b[0m\n"
      ]
     },
     "metadata": {},
     "output_type": "display_data"
    },
    {
     "data": {
      "text/html": [
       "<pre style=\"white-space:pre;overflow-x:auto;line-height:normal;font-family:Menlo,'DejaVu Sans Mono',consolas,'Courier New',monospace\">Tag <span style=\"color: #008000; text-decoration-color: #008000\">\"</span><span style=\"color: #17a55f; text-decoration-color: #17a55f; font-weight: bold\">anthro</span><span style=\"color: #008000; text-decoration-color: #008000\">\"</span> found in caption <span style=\"color: #008000; text-decoration-color: #008000\">\"The image depicts a cartoonish </span><span style=\"color: #17a55f; text-decoration-color: #17a55f; font-weight: bold\">anthro</span><span style=\"color: #008000; text-decoration-color: #008000\"> canine.\"</span>\n",
       "</pre>\n"
      ],
      "text/plain": [
       "Tag \u001b[32m\"\u001b[0m\u001b[1;38;2;23;165;95manthro\u001b[0m\u001b[32m\"\u001b[0m found in caption \u001b[32m\"The image depicts a cartoonish \u001b[0m\u001b[1;38;2;23;165;95manthro\u001b[0m\u001b[32m canine.\"\u001b[0m\n"
      ]
     },
     "metadata": {},
     "output_type": "display_data"
    },
    {
     "data": {
      "text/html": [
       "<pre style=\"white-space:pre;overflow-x:auto;line-height:normal;font-family:Menlo,'DejaVu Sans Mono',consolas,'Courier New',monospace\">Tag <span style=\"color: #008000; text-decoration-color: #008000\">\"</span><span style=\"color: #623d3f; text-decoration-color: #623d3f; font-weight: bold\">canine</span><span style=\"color: #008000; text-decoration-color: #008000\">\"</span> found in caption <span style=\"color: #008000; text-decoration-color: #008000\">\"The image depicts a cartoonish anthro </span><span style=\"color: #623d3f; text-decoration-color: #623d3f; font-weight: bold\">canine</span><span style=\"color: #008000; text-decoration-color: #008000\">.\"</span>\n",
       "</pre>\n"
      ],
      "text/plain": [
       "Tag \u001b[32m\"\u001b[0m\u001b[1;38;2;98;61;63mcanine\u001b[0m\u001b[32m\"\u001b[0m found in caption \u001b[32m\"The image depicts a cartoonish anthro \u001b[0m\u001b[1;38;2;98;61;63mcanine\u001b[0m\u001b[32m.\"\u001b[0m\n"
      ]
     },
     "metadata": {},
     "output_type": "display_data"
    },
    {
     "data": {
      "text/html": [
       "<pre style=\"white-space:pre;overflow-x:auto;line-height:normal;font-family:Menlo,'DejaVu Sans Mono',consolas,'Courier New',monospace\">C:\\Users\\kade\\Desktop\\training_dir_staging\\1_furry_sticker\\2ecb7e60de62a4cd44b60b342e6fae90.txt\n",
       "</pre>\n"
      ],
      "text/plain": [
       "C:\\Users\\kade\\Desktop\\training_dir_staging\\1_furry_sticker\\2ecb7e60de62a4cd44b60b342e6fae90.txt\n"
      ]
     },
     "metadata": {},
     "output_type": "display_data"
    },
    {
     "data": {
      "text/html": [
       "<pre style=\"white-space:pre;overflow-x:auto;line-height:normal;font-family:Menlo,'DejaVu Sans Mono',consolas,'Courier New',monospace\">Tag <span style=\"color: #008000; text-decoration-color: #008000\">\"</span><span style=\"color: #e9871d; text-decoration-color: #e9871d; font-weight: bold\">fox</span><span style=\"color: #008000; text-decoration-color: #008000\">\"</span> found in caption <span style=\"color: #008000; text-decoration-color: #008000\">\"The image portrays an animated anthro </span><span style=\"color: #e9871d; text-decoration-color: #e9871d; font-weight: bold\">fox</span><span style=\"color: #008000; text-decoration-color: #008000\"> character standing upright with its arms </span>\n",
       "<span style=\"color: #008000; text-decoration-color: #008000\">raised in a celebratory manner.\"</span>\n",
       "</pre>\n"
      ],
      "text/plain": [
       "Tag \u001b[32m\"\u001b[0m\u001b[1;38;2;233;135;29mfox\u001b[0m\u001b[32m\"\u001b[0m found in caption \u001b[32m\"The image portrays an animated anthro \u001b[0m\u001b[1;38;2;233;135;29mfox\u001b[0m\u001b[32m character standing upright with its arms \u001b[0m\n",
       "\u001b[32mraised in a celebratory manner.\"\u001b[0m\n"
      ]
     },
     "metadata": {},
     "output_type": "display_data"
    },
    {
     "data": {
      "text/html": [
       "<pre style=\"white-space:pre;overflow-x:auto;line-height:normal;font-family:Menlo,'DejaVu Sans Mono',consolas,'Courier New',monospace\">Tag <span style=\"color: #008000; text-decoration-color: #008000\">\"</span><span style=\"color: #278fc0; text-decoration-color: #278fc0; font-weight: bold\">fox</span><span style=\"color: #008000; text-decoration-color: #008000\">\"</span> found in caption <span style=\"color: #008000; text-decoration-color: #008000\">\"The </span><span style=\"color: #278fc0; text-decoration-color: #278fc0; font-weight: bold\">fox</span><span style=\"color: #008000; text-decoration-color: #008000\"> has a red fur coat with white underbelly and a red tail with a white tip.\"</span>\n",
       "</pre>\n"
      ],
      "text/plain": [
       "Tag \u001b[32m\"\u001b[0m\u001b[1;38;2;39;143;192mfox\u001b[0m\u001b[32m\"\u001b[0m found in caption \u001b[32m\"The \u001b[0m\u001b[1;38;2;39;143;192mfox\u001b[0m\u001b[32m has a red fur coat with white underbelly and a red tail with a white tip.\"\u001b[0m\n"
      ]
     },
     "metadata": {},
     "output_type": "display_data"
    },
    {
     "data": {
      "text/html": [
       "<pre style=\"white-space:pre;overflow-x:auto;line-height:normal;font-family:Menlo,'DejaVu Sans Mono',consolas,'Courier New',monospace\">Tag <span style=\"color: #008000; text-decoration-color: #008000\">\"</span><span style=\"color: #a31c6b; text-decoration-color: #a31c6b; font-weight: bold\">fox</span><span style=\"color: #008000; text-decoration-color: #008000\">\"</span> found in caption <span style=\"color: #008000; text-decoration-color: #008000\">\"Above the </span><span style=\"color: #a31c6b; text-decoration-color: #a31c6b; font-weight: bold\">fox</span><span style=\"color: #008000; text-decoration-color: #008000\"> there's a word 'YAY!' written in black with a large white outline </span>\n",
       "<span style=\"color: #008000; text-decoration-color: #008000\">emphasizing its celebratory mood.\"</span>\n",
       "</pre>\n"
      ],
      "text/plain": [
       "Tag \u001b[32m\"\u001b[0m\u001b[1;38;2;163;28;107mfox\u001b[0m\u001b[32m\"\u001b[0m found in caption \u001b[32m\"Above the \u001b[0m\u001b[1;38;2;163;28;107mfox\u001b[0m\u001b[32m there's a word 'YAY!' written in black with a large white outline \u001b[0m\n",
       "\u001b[32memphasizing its celebratory mood.\"\u001b[0m\n"
      ]
     },
     "metadata": {},
     "output_type": "display_data"
    },
    {
     "data": {
      "text/html": [
       "<pre style=\"white-space:pre;overflow-x:auto;line-height:normal;font-family:Menlo,'DejaVu Sans Mono',consolas,'Courier New',monospace\">Tag <span style=\"color: #008000; text-decoration-color: #008000\">\"</span><span style=\"color: #336a28; text-decoration-color: #336a28; font-weight: bold\">anthro</span><span style=\"color: #008000; text-decoration-color: #008000\">\"</span> found in caption <span style=\"color: #008000; text-decoration-color: #008000\">\"The image portrays an animated </span><span style=\"color: #336a28; text-decoration-color: #336a28; font-weight: bold\">anthro</span><span style=\"color: #008000; text-decoration-color: #008000\"> fox character standing upright with its arms </span>\n",
       "<span style=\"color: #008000; text-decoration-color: #008000\">raised in a celebratory manner.\"</span>\n",
       "</pre>\n"
      ],
      "text/plain": [
       "Tag \u001b[32m\"\u001b[0m\u001b[1;38;2;51;106;40manthro\u001b[0m\u001b[32m\"\u001b[0m found in caption \u001b[32m\"The image portrays an animated \u001b[0m\u001b[1;38;2;51;106;40manthro\u001b[0m\u001b[32m fox character standing upright with its arms \u001b[0m\n",
       "\u001b[32mraised in a celebratory manner.\"\u001b[0m\n"
      ]
     },
     "metadata": {},
     "output_type": "display_data"
    },
    {
     "data": {
      "text/html": [
       "<pre style=\"white-space:pre;overflow-x:auto;line-height:normal;font-family:Menlo,'DejaVu Sans Mono',consolas,'Courier New',monospace\">Tag <span style=\"color: #008000; text-decoration-color: #008000\">\"</span><span style=\"color: #862c22; text-decoration-color: #862c22; font-weight: bold\">fur</span><span style=\"color: #008000; text-decoration-color: #008000\">\"</span> found in caption <span style=\"color: #008000; text-decoration-color: #008000\">\"The fox has a red </span><span style=\"color: #862c22; text-decoration-color: #862c22; font-weight: bold\">fur</span><span style=\"color: #008000; text-decoration-color: #008000\"> coat with white underbelly and a red tail with a white tip.\"</span>\n",
       "</pre>\n"
      ],
      "text/plain": [
       "Tag \u001b[32m\"\u001b[0m\u001b[1;38;2;134;44;34mfur\u001b[0m\u001b[32m\"\u001b[0m found in caption \u001b[32m\"The fox has a red \u001b[0m\u001b[1;38;2;134;44;34mfur\u001b[0m\u001b[32m coat with white underbelly and a red tail with a white tip.\"\u001b[0m\n"
      ]
     },
     "metadata": {},
     "output_type": "display_data"
    },
    {
     "data": {
      "text/html": [
       "<pre style=\"white-space:pre;overflow-x:auto;line-height:normal;font-family:Menlo,'DejaVu Sans Mono',consolas,'Courier New',monospace\">Tag <span style=\"color: #008000; text-decoration-color: #008000\">\"</span><span style=\"color: #5a62d4; text-decoration-color: #5a62d4; font-weight: bold\">red fur</span><span style=\"color: #008000; text-decoration-color: #008000\">\"</span> found in caption <span style=\"color: #008000; text-decoration-color: #008000\">\"The fox has a </span><span style=\"color: #5a62d4; text-decoration-color: #5a62d4; font-weight: bold\">red fur</span><span style=\"color: #008000; text-decoration-color: #008000\"> coat with white underbelly and a red tail with a white tip.\"</span>\n",
       "</pre>\n"
      ],
      "text/plain": [
       "Tag \u001b[32m\"\u001b[0m\u001b[1;38;2;90;98;212mred fur\u001b[0m\u001b[32m\"\u001b[0m found in caption \u001b[32m\"The fox has a \u001b[0m\u001b[1;38;2;90;98;212mred fur\u001b[0m\u001b[32m coat with white underbelly and a red tail with a white tip.\"\u001b[0m\n"
      ]
     },
     "metadata": {},
     "output_type": "display_data"
    },
    {
     "data": {
      "text/html": [
       "<pre style=\"white-space:pre;overflow-x:auto;line-height:normal;font-family:Menlo,'DejaVu Sans Mono',consolas,'Courier New',monospace\">Tag <span style=\"color: #008000; text-decoration-color: #008000\">\"</span><span style=\"color: #4b57d8; text-decoration-color: #4b57d8; font-weight: bold\">outline</span><span style=\"color: #008000; text-decoration-color: #008000\">\"</span> found in caption <span style=\"color: #008000; text-decoration-color: #008000\">\"Above the fox there's a word 'YAY!' written in black with a large white </span><span style=\"color: #4b57d8; text-decoration-color: #4b57d8; font-weight: bold\">outline</span><span style=\"color: #008000; text-decoration-color: #008000\"> </span>\n",
       "<span style=\"color: #008000; text-decoration-color: #008000\">emphasizing its celebratory mood.\"</span>\n",
       "</pre>\n"
      ],
      "text/plain": [
       "Tag \u001b[32m\"\u001b[0m\u001b[1;38;2;75;87;216moutline\u001b[0m\u001b[32m\"\u001b[0m found in caption \u001b[32m\"Above the fox there's a word 'YAY!' written in black with a large white \u001b[0m\u001b[1;38;2;75;87;216moutline\u001b[0m\u001b[32m \u001b[0m\n",
       "\u001b[32memphasizing its celebratory mood.\"\u001b[0m\n"
      ]
     },
     "metadata": {},
     "output_type": "display_data"
    },
    {
     "data": {
      "text/html": [
       "<pre style=\"white-space:pre;overflow-x:auto;line-height:normal;font-family:Menlo,'DejaVu Sans Mono',consolas,'Courier New',monospace\">Tag <span style=\"color: #008000; text-decoration-color: #008000\">\"</span><span style=\"color: #617329; text-decoration-color: #617329; font-weight: bold\">outline</span><span style=\"color: #008000; text-decoration-color: #008000\">\"</span> found in caption <span style=\"color: #008000; text-decoration-color: #008000\">\"The character has a white </span><span style=\"color: #617329; text-decoration-color: #617329; font-weight: bold\">outline</span><span style=\"color: #008000; text-decoration-color: #008000\"> around it.\"</span>\n",
       "</pre>\n"
      ],
      "text/plain": [
       "Tag \u001b[32m\"\u001b[0m\u001b[1;38;2;97;115;41moutline\u001b[0m\u001b[32m\"\u001b[0m found in caption \u001b[32m\"The character has a white \u001b[0m\u001b[1;38;2;97;115;41moutline\u001b[0m\u001b[32m around it.\"\u001b[0m\n"
      ]
     },
     "metadata": {},
     "output_type": "display_data"
    },
    {
     "data": {
      "text/html": [
       "<pre style=\"white-space:pre;overflow-x:auto;line-height:normal;font-family:Menlo,'DejaVu Sans Mono',consolas,'Courier New',monospace\">Tag <span style=\"color: #008000; text-decoration-color: #008000\">\"</span><span style=\"color: #5c7e9b; text-decoration-color: #5c7e9b; font-weight: bold\">smile</span><span style=\"color: #008000; text-decoration-color: #008000\">\"</span> found in caption <span style=\"color: #008000; text-decoration-color: #008000\">\"It has big open-mouthed </span><span style=\"color: #5c7e9b; text-decoration-color: #5c7e9b; font-weight: bold\">smile</span><span style=\"color: #008000; text-decoration-color: #008000\"> indicating excitement or joy.\"</span>\n",
       "</pre>\n"
      ],
      "text/plain": [
       "Tag \u001b[32m\"\u001b[0m\u001b[1;38;2;92;126;155msmile\u001b[0m\u001b[32m\"\u001b[0m found in caption \u001b[32m\"It has big open-mouthed \u001b[0m\u001b[1;38;2;92;126;155msmile\u001b[0m\u001b[32m indicating excitement or joy.\"\u001b[0m\n"
      ]
     },
     "metadata": {},
     "output_type": "display_data"
    },
    {
     "data": {
      "text/html": [
       "<pre style=\"white-space:pre;overflow-x:auto;line-height:normal;font-family:Menlo,'DejaVu Sans Mono',consolas,'Courier New',monospace\">Tag <span style=\"color: #008000; text-decoration-color: #008000\">\"</span><span style=\"color: #128c3f; text-decoration-color: #128c3f; font-weight: bold\">tail</span><span style=\"color: #008000; text-decoration-color: #008000\">\"</span> found in caption <span style=\"color: #008000; text-decoration-color: #008000\">\"The fox has a red fur coat with white underbelly and a red </span><span style=\"color: #128c3f; text-decoration-color: #128c3f; font-weight: bold\">tail</span><span style=\"color: #008000; text-decoration-color: #008000\"> with a white tip.\"</span>\n",
       "</pre>\n"
      ],
      "text/plain": [
       "Tag \u001b[32m\"\u001b[0m\u001b[1;38;2;18;140;63mtail\u001b[0m\u001b[32m\"\u001b[0m found in caption \u001b[32m\"The fox has a red fur coat with white underbelly and a red \u001b[0m\u001b[1;38;2;18;140;63mtail\u001b[0m\u001b[32m with a white tip.\"\u001b[0m\n"
      ]
     },
     "metadata": {},
     "output_type": "display_data"
    },
    {
     "data": {
      "text/html": [
       "<pre style=\"white-space:pre;overflow-x:auto;line-height:normal;font-family:Menlo,'DejaVu Sans Mono',consolas,'Courier New',monospace\">C:\\Users\\kade\\Desktop\\training_dir_staging\\1_furry_sticker\\3a12abc329a5913967328896b6f284f3.txt\n",
       "</pre>\n"
      ],
      "text/plain": [
       "C:\\Users\\kade\\Desktop\\training_dir_staging\\1_furry_sticker\\3a12abc329a5913967328896b6f284f3.txt\n"
      ]
     },
     "metadata": {},
     "output_type": "display_data"
    },
    {
     "data": {
      "text/html": [
       "<pre style=\"white-space:pre;overflow-x:auto;line-height:normal;font-family:Menlo,'DejaVu Sans Mono',consolas,'Courier New',monospace\">Tag <span style=\"color: #008000; text-decoration-color: #008000\">\"</span><span style=\"color: #9f47c9; text-decoration-color: #9f47c9; font-weight: bold\">anthro</span><span style=\"color: #008000; text-decoration-color: #008000\">\"</span> found in caption <span style=\"color: #008000; text-decoration-color: #008000\">\"The image showcases an </span><span style=\"color: #9f47c9; text-decoration-color: #9f47c9; font-weight: bold\">anthro</span><span style=\"color: #008000; text-decoration-color: #008000\"> tabby cat with an orange fur coat.\"</span>\n",
       "</pre>\n"
      ],
      "text/plain": [
       "Tag \u001b[32m\"\u001b[0m\u001b[1;38;2;159;71;201manthro\u001b[0m\u001b[32m\"\u001b[0m found in caption \u001b[32m\"The image showcases an \u001b[0m\u001b[1;38;2;159;71;201manthro\u001b[0m\u001b[32m tabby cat with an orange fur coat.\"\u001b[0m\n"
      ]
     },
     "metadata": {},
     "output_type": "display_data"
    },
    {
     "data": {
      "text/html": [
       "<pre style=\"white-space:pre;overflow-x:auto;line-height:normal;font-family:Menlo,'DejaVu Sans Mono',consolas,'Courier New',monospace\">Tag <span style=\"color: #008000; text-decoration-color: #008000\">\"</span><span style=\"color: #c99822; text-decoration-color: #c99822; font-weight: bold\">green eyes</span><span style=\"color: #008000; text-decoration-color: #008000\">\"</span> found in caption <span style=\"color: #008000; text-decoration-color: #008000\">\"It has </span><span style=\"color: #c99822; text-decoration-color: #c99822; font-weight: bold\">green eyes</span><span style=\"color: #008000; text-decoration-color: #008000\"> and a playful and content expression.\"</span>\n",
       "</pre>\n"
      ],
      "text/plain": [
       "Tag \u001b[32m\"\u001b[0m\u001b[1;38;2;201;152;34mgreen eyes\u001b[0m\u001b[32m\"\u001b[0m found in caption \u001b[32m\"It has \u001b[0m\u001b[1;38;2;201;152;34mgreen eyes\u001b[0m\u001b[32m and a playful and content expression.\"\u001b[0m\n"
      ]
     },
     "metadata": {},
     "output_type": "display_data"
    },
    {
     "data": {
      "text/html": [
       "<pre style=\"white-space:pre;overflow-x:auto;line-height:normal;font-family:Menlo,'DejaVu Sans Mono',consolas,'Courier New',monospace\">Tag <span style=\"color: #008000; text-decoration-color: #008000\">\"</span><span style=\"color: #59d7d7; text-decoration-color: #59d7d7; font-weight: bold\">fur</span><span style=\"color: #008000; text-decoration-color: #008000\">\"</span> found in caption <span style=\"color: #008000; text-decoration-color: #008000\">\"The image showcases an anthro tabby cat with an orange </span><span style=\"color: #59d7d7; text-decoration-color: #59d7d7; font-weight: bold\">fur</span><span style=\"color: #008000; text-decoration-color: #008000\"> coat.\"</span>\n",
       "</pre>\n"
      ],
      "text/plain": [
       "Tag \u001b[32m\"\u001b[0m\u001b[1;38;2;89;215;215mfur\u001b[0m\u001b[32m\"\u001b[0m found in caption \u001b[32m\"The image showcases an anthro tabby cat with an orange \u001b[0m\u001b[1;38;2;89;215;215mfur\u001b[0m\u001b[32m coat.\"\u001b[0m\n"
      ]
     },
     "metadata": {},
     "output_type": "display_data"
    },
    {
     "data": {
      "text/html": [
       "<pre style=\"white-space:pre;overflow-x:auto;line-height:normal;font-family:Menlo,'DejaVu Sans Mono',consolas,'Courier New',monospace\">Tag <span style=\"color: #008000; text-decoration-color: #008000\">\"</span><span style=\"color: #5350a2; text-decoration-color: #5350a2; font-weight: bold\">food</span><span style=\"color: #008000; text-decoration-color: #008000\">\"</span> found in caption <span style=\"color: #008000; text-decoration-color: #008000\">\"The character is resting on a red couch next to a white bowl filled with fish shaped </span>\n",
       "<span style=\"color: #008000; text-decoration-color: #008000\">dry cat </span><span style=\"color: #5350a2; text-decoration-color: #5350a2; font-weight: bold\">food</span><span style=\"color: #008000; text-decoration-color: #008000\">.\"</span>\n",
       "</pre>\n"
      ],
      "text/plain": [
       "Tag \u001b[32m\"\u001b[0m\u001b[1;38;2;83;80;162mfood\u001b[0m\u001b[32m\"\u001b[0m found in caption \u001b[32m\"The character is resting on a red couch next to a white bowl filled with fish shaped \u001b[0m\n",
       "\u001b[32mdry cat \u001b[0m\u001b[1;38;2;83;80;162mfood\u001b[0m\u001b[32m.\"\u001b[0m\n"
      ]
     },
     "metadata": {},
     "output_type": "display_data"
    },
    {
     "data": {
      "text/html": [
       "<pre style=\"white-space:pre;overflow-x:auto;line-height:normal;font-family:Menlo,'DejaVu Sans Mono',consolas,'Courier New',monospace\">Tag <span style=\"color: #008000; text-decoration-color: #008000\">\"</span><span style=\"color: #9b3723; text-decoration-color: #9b3723; font-weight: bold\">bowl</span><span style=\"color: #008000; text-decoration-color: #008000\">\"</span> found in caption <span style=\"color: #008000; text-decoration-color: #008000\">\"The character is resting on a red couch next to a white </span><span style=\"color: #9b3723; text-decoration-color: #9b3723; font-weight: bold\">bowl</span><span style=\"color: #008000; text-decoration-color: #008000\"> filled with fish shaped </span>\n",
       "<span style=\"color: #008000; text-decoration-color: #008000\">dry cat food.\"</span>\n",
       "</pre>\n"
      ],
      "text/plain": [
       "Tag \u001b[32m\"\u001b[0m\u001b[1;38;2;155;55;35mbowl\u001b[0m\u001b[32m\"\u001b[0m found in caption \u001b[32m\"The character is resting on a red couch next to a white \u001b[0m\u001b[1;38;2;155;55;35mbowl\u001b[0m\u001b[32m filled with fish shaped \u001b[0m\n",
       "\u001b[32mdry cat food.\"\u001b[0m\n"
      ]
     },
     "metadata": {},
     "output_type": "display_data"
    },
    {
     "data": {
      "text/html": [
       "<pre style=\"white-space:pre;overflow-x:auto;line-height:normal;font-family:Menlo,'DejaVu Sans Mono',consolas,'Courier New',monospace\">C:\\Users\\kade\\Desktop\\training_dir_staging\\1_furry_sticker\\3c0feb90f445fd0a32d2a70d595d9a0f.txt\n",
       "</pre>\n"
      ],
      "text/plain": [
       "C:\\Users\\kade\\Desktop\\training_dir_staging\\1_furry_sticker\\3c0feb90f445fd0a32d2a70d595d9a0f.txt\n"
      ]
     },
     "metadata": {},
     "output_type": "display_data"
    },
    {
     "data": {
      "text/html": [
       "<pre style=\"white-space:pre;overflow-x:auto;line-height:normal;font-family:Menlo,'DejaVu Sans Mono',consolas,'Courier New',monospace\">Tag <span style=\"color: #008000; text-decoration-color: #008000\">\"</span><span style=\"color: #5e1dd5; text-decoration-color: #5e1dd5; font-weight: bold\">collar</span><span style=\"color: #008000; text-decoration-color: #008000\">\"</span> found in caption <span style=\"color: #008000; text-decoration-color: #008000\">\"It is wearing a red </span><span style=\"color: #5e1dd5; text-decoration-color: #5e1dd5; font-weight: bold\">collar</span><span style=\"color: #008000; text-decoration-color: #008000\"> with a gold cat head medal on it.\"</span>\n",
       "</pre>\n"
      ],
      "text/plain": [
       "Tag \u001b[32m\"\u001b[0m\u001b[1;38;2;94;29;213mcollar\u001b[0m\u001b[32m\"\u001b[0m found in caption \u001b[32m\"It is wearing a red \u001b[0m\u001b[1;38;2;94;29;213mcollar\u001b[0m\u001b[32m with a gold cat head medal on it.\"\u001b[0m\n"
      ]
     },
     "metadata": {},
     "output_type": "display_data"
    },
    {
     "data": {
      "text/html": [
       "<pre style=\"white-space:pre;overflow-x:auto;line-height:normal;font-family:Menlo,'DejaVu Sans Mono',consolas,'Courier New',monospace\">Tag <span style=\"color: #008000; text-decoration-color: #008000\">\"</span><span style=\"color: #64cff3; text-decoration-color: #64cff3; font-weight: bold\">pawpads</span><span style=\"color: #008000; text-decoration-color: #008000\">\"</span> found in caption <span style=\"color: #008000; text-decoration-color: #008000\">\"It has brown fur and orange </span><span style=\"color: #64cff3; text-decoration-color: #64cff3; font-weight: bold\">pawpads</span><span style=\"color: #008000; text-decoration-color: #008000\">.\"</span>\n",
       "</pre>\n"
      ],
      "text/plain": [
       "Tag \u001b[32m\"\u001b[0m\u001b[1;38;2;100;207;243mpawpads\u001b[0m\u001b[32m\"\u001b[0m found in caption \u001b[32m\"It has brown fur and orange \u001b[0m\u001b[1;38;2;100;207;243mpawpads\u001b[0m\u001b[32m.\"\u001b[0m\n"
      ]
     },
     "metadata": {},
     "output_type": "display_data"
    },
    {
     "data": {
      "text/html": [
       "<pre style=\"white-space:pre;overflow-x:auto;line-height:normal;font-family:Menlo,'DejaVu Sans Mono',consolas,'Courier New',monospace\">Tag <span style=\"color: #008000; text-decoration-color: #008000\">\"</span><span style=\"color: #e9866e; text-decoration-color: #e9866e; font-weight: bold\">anthro</span><span style=\"color: #008000; text-decoration-color: #008000\">\"</span> found in caption <span style=\"color: #008000; text-decoration-color: #008000\">\"The background is black. There's a tabby cat </span><span style=\"color: #e9866e; text-decoration-color: #e9866e; font-weight: bold\">anthro</span><span style=\"color: #008000; text-decoration-color: #008000\"> in the foreground.\"</span>\n",
       "</pre>\n"
      ],
      "text/plain": [
       "Tag \u001b[32m\"\u001b[0m\u001b[1;38;2;233;134;110manthro\u001b[0m\u001b[32m\"\u001b[0m found in caption \u001b[32m\"The background is black. There's a tabby cat \u001b[0m\u001b[1;38;2;233;134;110manthro\u001b[0m\u001b[32m in the foreground.\"\u001b[0m\n"
      ]
     },
     "metadata": {},
     "output_type": "display_data"
    },
    {
     "data": {
      "text/html": [
       "<pre style=\"white-space:pre;overflow-x:auto;line-height:normal;font-family:Menlo,'DejaVu Sans Mono',consolas,'Courier New',monospace\">Tag <span style=\"color: #008000; text-decoration-color: #008000\">\"</span><span style=\"color: #9584de; text-decoration-color: #9584de; font-weight: bold\">fur</span><span style=\"color: #008000; text-decoration-color: #008000\">\"</span> found in caption <span style=\"color: #008000; text-decoration-color: #008000\">\"It has brown </span><span style=\"color: #9584de; text-decoration-color: #9584de; font-weight: bold\">fur</span><span style=\"color: #008000; text-decoration-color: #008000\"> and orange pawpads.\"</span>\n",
       "</pre>\n"
      ],
      "text/plain": [
       "Tag \u001b[32m\"\u001b[0m\u001b[1;38;2;149;132;222mfur\u001b[0m\u001b[32m\"\u001b[0m found in caption \u001b[32m\"It has brown \u001b[0m\u001b[1;38;2;149;132;222mfur\u001b[0m\u001b[32m and orange pawpads.\"\u001b[0m\n"
      ]
     },
     "metadata": {},
     "output_type": "display_data"
    },
    {
     "data": {
      "text/html": [
       "<pre style=\"white-space:pre;overflow-x:auto;line-height:normal;font-family:Menlo,'DejaVu Sans Mono',consolas,'Courier New',monospace\">Tag <span style=\"color: #008000; text-decoration-color: #008000\">\"</span><span style=\"color: #4933f8; text-decoration-color: #4933f8; font-weight: bold\">tabby cat</span><span style=\"color: #008000; text-decoration-color: #008000\">\"</span> found in caption <span style=\"color: #008000; text-decoration-color: #008000\">\"The background is black. There's a </span><span style=\"color: #4933f8; text-decoration-color: #4933f8; font-weight: bold\">tabby cat</span><span style=\"color: #008000; text-decoration-color: #008000\"> anthro in the foreground.\"</span>\n",
       "</pre>\n"
      ],
      "text/plain": [
       "Tag \u001b[32m\"\u001b[0m\u001b[1;38;2;73;51;248mtabby cat\u001b[0m\u001b[32m\"\u001b[0m found in caption \u001b[32m\"The background is black. There's a \u001b[0m\u001b[1;38;2;73;51;248mtabby cat\u001b[0m\u001b[32m anthro in the foreground.\"\u001b[0m\n"
      ]
     },
     "metadata": {},
     "output_type": "display_data"
    },
    {
     "data": {
      "text/html": [
       "<pre style=\"white-space:pre;overflow-x:auto;line-height:normal;font-family:Menlo,'DejaVu Sans Mono',consolas,'Courier New',monospace\">Tag <span style=\"color: #008000; text-decoration-color: #008000\">\"</span><span style=\"color: #dd7f1d; text-decoration-color: #dd7f1d; font-weight: bold\">blush</span><span style=\"color: #008000; text-decoration-color: #008000\">\"</span> found in caption <span style=\"color: #008000; text-decoration-color: #008000\">\"It has a small </span><span style=\"color: #dd7f1d; text-decoration-color: #dd7f1d; font-weight: bold\">blush</span><span style=\"color: #008000; text-decoration-color: #008000\"> on his cheeks.\"</span>\n",
       "</pre>\n"
      ],
      "text/plain": [
       "Tag \u001b[32m\"\u001b[0m\u001b[1;38;2;221;127;29mblush\u001b[0m\u001b[32m\"\u001b[0m found in caption \u001b[32m\"It has a small \u001b[0m\u001b[1;38;2;221;127;29mblush\u001b[0m\u001b[32m on his cheeks.\"\u001b[0m\n"
      ]
     },
     "metadata": {},
     "output_type": "display_data"
    },
    {
     "data": {
      "text/html": [
       "<pre style=\"white-space:pre;overflow-x:auto;line-height:normal;font-family:Menlo,'DejaVu Sans Mono',consolas,'Courier New',monospace\">C:\\Users\\kade\\Desktop\\training_dir_staging\\1_furry_sticker\\3c3c9b21f695ab5433c806acd9d3f635.txt\n",
       "</pre>\n"
      ],
      "text/plain": [
       "C:\\Users\\kade\\Desktop\\training_dir_staging\\1_furry_sticker\\3c3c9b21f695ab5433c806acd9d3f635.txt\n"
      ]
     },
     "metadata": {},
     "output_type": "display_data"
    },
    {
     "data": {
      "text/html": [
       "<pre style=\"white-space:pre;overflow-x:auto;line-height:normal;font-family:Menlo,'DejaVu Sans Mono',consolas,'Courier New',monospace\">Tag <span style=\"color: #008000; text-decoration-color: #008000\">\"</span><span style=\"color: #237e75; text-decoration-color: #237e75; font-weight: bold\">anthro</span><span style=\"color: #008000; text-decoration-color: #008000\">\"</span> found in caption <span style=\"color: #008000; text-decoration-color: #008000\">\"In the center of the image is an </span><span style=\"color: #237e75; text-decoration-color: #237e75; font-weight: bold\">anthro</span><span style=\"color: #008000; text-decoration-color: #008000\"> red panda.\"</span>\n",
       "</pre>\n"
      ],
      "text/plain": [
       "Tag \u001b[32m\"\u001b[0m\u001b[1;38;2;35;126;117manthro\u001b[0m\u001b[32m\"\u001b[0m found in caption \u001b[32m\"In the center of the image is an \u001b[0m\u001b[1;38;2;35;126;117manthro\u001b[0m\u001b[32m red panda.\"\u001b[0m\n"
      ]
     },
     "metadata": {},
     "output_type": "display_data"
    },
    {
     "data": {
      "text/html": [
       "<pre style=\"white-space:pre;overflow-x:auto;line-height:normal;font-family:Menlo,'DejaVu Sans Mono',consolas,'Courier New',monospace\">Tag <span style=\"color: #008000; text-decoration-color: #008000\">\"</span><span style=\"color: #01d551; text-decoration-color: #01d551; font-weight: bold\">red panda</span><span style=\"color: #008000; text-decoration-color: #008000\">\"</span> found in caption <span style=\"color: #008000; text-decoration-color: #008000\">\"In the center of the image is an anthro </span><span style=\"color: #01d551; text-decoration-color: #01d551; font-weight: bold\">red panda</span><span style=\"color: #008000; text-decoration-color: #008000\">.\"</span>\n",
       "</pre>\n"
      ],
      "text/plain": [
       "Tag \u001b[32m\"\u001b[0m\u001b[1;38;2;1;213;81mred panda\u001b[0m\u001b[32m\"\u001b[0m found in caption \u001b[32m\"In the center of the image is an anthro \u001b[0m\u001b[1;38;2;1;213;81mred panda\u001b[0m\u001b[32m.\"\u001b[0m\n"
      ]
     },
     "metadata": {},
     "output_type": "display_data"
    },
    {
     "data": {
      "text/html": [
       "<pre style=\"white-space:pre;overflow-x:auto;line-height:normal;font-family:Menlo,'DejaVu Sans Mono',consolas,'Courier New',monospace\">Tag <span style=\"color: #008000; text-decoration-color: #008000\">\"</span><span style=\"color: #8d2ca8; text-decoration-color: #8d2ca8; font-weight: bold\">hair</span><span style=\"color: #008000; text-decoration-color: #008000\">\"</span> found in caption <span style=\"color: #008000; text-decoration-color: #008000\">\"It has black </span><span style=\"color: #8d2ca8; text-decoration-color: #8d2ca8; font-weight: bold\">hair</span><span style=\"color: #008000; text-decoration-color: #008000\"> with blue ends and white fur and white ears with red accents. It's </span>\n",
       "<span style=\"color: #008000; text-decoration-color: #008000\">chest and hands are white with his hand ending in black fur.\"</span>\n",
       "</pre>\n"
      ],
      "text/plain": [
       "Tag \u001b[32m\"\u001b[0m\u001b[1;38;2;141;44;168mhair\u001b[0m\u001b[32m\"\u001b[0m found in caption \u001b[32m\"It has black \u001b[0m\u001b[1;38;2;141;44;168mhair\u001b[0m\u001b[32m with blue ends and white fur and white ears with red accents. It's \u001b[0m\n",
       "\u001b[32mchest and hands are white with his hand ending in black fur.\"\u001b[0m\n"
      ]
     },
     "metadata": {},
     "output_type": "display_data"
    },
    {
     "data": {
      "text/html": [
       "<pre style=\"white-space:pre;overflow-x:auto;line-height:normal;font-family:Menlo,'DejaVu Sans Mono',consolas,'Courier New',monospace\">Tag <span style=\"color: #008000; text-decoration-color: #008000\">\"</span><span style=\"color: #f3dc35; text-decoration-color: #f3dc35; font-weight: bold\">fur</span><span style=\"color: #008000; text-decoration-color: #008000\">\"</span> found in caption <span style=\"color: #008000; text-decoration-color: #008000\">\"It has black hair with blue ends and white </span><span style=\"color: #f3dc35; text-decoration-color: #f3dc35; font-weight: bold\">fur</span><span style=\"color: #008000; text-decoration-color: #008000\"> and white ears with red accents. It's </span>\n",
       "<span style=\"color: #008000; text-decoration-color: #008000\">chest and hands are white with his hand ending in black </span><span style=\"color: #f3dc35; text-decoration-color: #f3dc35; font-weight: bold\">fur</span><span style=\"color: #008000; text-decoration-color: #008000\">.\"</span>\n",
       "</pre>\n"
      ],
      "text/plain": [
       "Tag \u001b[32m\"\u001b[0m\u001b[1;38;2;243;220;53mfur\u001b[0m\u001b[32m\"\u001b[0m found in caption \u001b[32m\"It has black hair with blue ends and white \u001b[0m\u001b[1;38;2;243;220;53mfur\u001b[0m\u001b[32m and white ears with red accents. It's \u001b[0m\n",
       "\u001b[32mchest and hands are white with his hand ending in black \u001b[0m\u001b[1;38;2;243;220;53mfur\u001b[0m\u001b[32m.\"\u001b[0m\n"
      ]
     },
     "metadata": {},
     "output_type": "display_data"
    },
    {
     "data": {
      "text/html": [
       "<pre style=\"white-space:pre;overflow-x:auto;line-height:normal;font-family:Menlo,'DejaVu Sans Mono',consolas,'Courier New',monospace\">Tag <span style=\"color: #008000; text-decoration-color: #008000\">\"</span><span style=\"color: #d7cca9; text-decoration-color: #d7cca9; font-weight: bold\">blue eyes</span><span style=\"color: #008000; text-decoration-color: #008000\">\"</span> found in caption <span style=\"color: #008000; text-decoration-color: #008000\">\"It is smiling and looking off to the right with it's </span><span style=\"color: #d7cca9; text-decoration-color: #d7cca9; font-weight: bold\">blue eyes</span><span style=\"color: #008000; text-decoration-color: #008000\">.\"</span>\n",
       "</pre>\n"
      ],
      "text/plain": [
       "Tag \u001b[32m\"\u001b[0m\u001b[1;38;2;215;204;169mblue eyes\u001b[0m\u001b[32m\"\u001b[0m found in caption \u001b[32m\"It is smiling and looking off to the right with it's \u001b[0m\u001b[1;38;2;215;204;169mblue eyes\u001b[0m\u001b[32m.\"\u001b[0m\n"
      ]
     },
     "metadata": {},
     "output_type": "display_data"
    },
    {
     "data": {
      "text/html": [
       "<pre style=\"white-space:pre;overflow-x:auto;line-height:normal;font-family:Menlo,'DejaVu Sans Mono',consolas,'Courier New',monospace\">Tag <span style=\"color: #008000; text-decoration-color: #008000\">\"</span><span style=\"color: #773f35; text-decoration-color: #773f35; font-weight: bold\">white fur</span><span style=\"color: #008000; text-decoration-color: #008000\">\"</span> found in caption <span style=\"color: #008000; text-decoration-color: #008000\">\"It has black hair with blue ends and </span><span style=\"color: #773f35; text-decoration-color: #773f35; font-weight: bold\">white fur</span><span style=\"color: #008000; text-decoration-color: #008000\"> and white ears with red accents. </span>\n",
       "<span style=\"color: #008000; text-decoration-color: #008000\">It's chest and hands are white with his hand ending in black fur.\"</span>\n",
       "</pre>\n"
      ],
      "text/plain": [
       "Tag \u001b[32m\"\u001b[0m\u001b[1;38;2;119;63;53mwhite fur\u001b[0m\u001b[32m\"\u001b[0m found in caption \u001b[32m\"It has black hair with blue ends and \u001b[0m\u001b[1;38;2;119;63;53mwhite fur\u001b[0m\u001b[32m and white ears with red accents. \u001b[0m\n",
       "\u001b[32mIt's chest and hands are white with his hand ending in black fur.\"\u001b[0m\n"
      ]
     },
     "metadata": {},
     "output_type": "display_data"
    },
    {
     "data": {
      "text/html": [
       "<pre style=\"white-space:pre;overflow-x:auto;line-height:normal;font-family:Menlo,'DejaVu Sans Mono',consolas,'Courier New',monospace\">Tag <span style=\"color: #008000; text-decoration-color: #008000\">\"</span><span style=\"color: #812853; text-decoration-color: #812853; font-weight: bold\">black hair</span><span style=\"color: #008000; text-decoration-color: #008000\">\"</span> found in caption <span style=\"color: #008000; text-decoration-color: #008000\">\"It has </span><span style=\"color: #812853; text-decoration-color: #812853; font-weight: bold\">black hair</span><span style=\"color: #008000; text-decoration-color: #008000\"> with blue ends and white fur and white ears with red accents. </span>\n",
       "<span style=\"color: #008000; text-decoration-color: #008000\">It's chest and hands are white with his hand ending in black fur.\"</span>\n",
       "</pre>\n"
      ],
      "text/plain": [
       "Tag \u001b[32m\"\u001b[0m\u001b[1;38;2;129;40;83mblack hair\u001b[0m\u001b[32m\"\u001b[0m found in caption \u001b[32m\"It has \u001b[0m\u001b[1;38;2;129;40;83mblack hair\u001b[0m\u001b[32m with blue ends and white fur and white ears with red accents. \u001b[0m\n",
       "\u001b[32mIt's chest and hands are white with his hand ending in black fur.\"\u001b[0m\n"
      ]
     },
     "metadata": {},
     "output_type": "display_data"
    },
    {
     "data": {
      "text/html": [
       "<pre style=\"white-space:pre;overflow-x:auto;line-height:normal;font-family:Menlo,'DejaVu Sans Mono',consolas,'Courier New',monospace\">C:\\Users\\kade\\Desktop\\training_dir_staging\\1_furry_sticker\\4130b426cf410e21596e60f281ee38d7.txt\n",
       "</pre>\n"
      ],
      "text/plain": [
       "C:\\Users\\kade\\Desktop\\training_dir_staging\\1_furry_sticker\\4130b426cf410e21596e60f281ee38d7.txt\n"
      ]
     },
     "metadata": {},
     "output_type": "display_data"
    },
    {
     "data": {
      "text/html": [
       "<pre style=\"white-space:pre;overflow-x:auto;line-height:normal;font-family:Menlo,'DejaVu Sans Mono',consolas,'Courier New',monospace\">Tag <span style=\"color: #008000; text-decoration-color: #008000\">\"</span><span style=\"color: #e722f7; text-decoration-color: #e722f7; font-weight: bold\">furry sticker</span><span style=\"color: #008000; text-decoration-color: #008000\">\"</span> found in caption <span style=\"color: #008000; text-decoration-color: #008000\">\"This image is a </span><span style=\"color: #e722f7; text-decoration-color: #e722f7; font-weight: bold\">furry sticker</span><span style=\"color: #008000; text-decoration-color: #008000\"> of two anthro animals one that appears to be an</span>\n",
       "<span style=\"color: #008000; text-decoration-color: #008000\">fox and the other a ych.\"</span>\n",
       "</pre>\n"
      ],
      "text/plain": [
       "Tag \u001b[32m\"\u001b[0m\u001b[1;38;2;231;34;247mfurry sticker\u001b[0m\u001b[32m\"\u001b[0m found in caption \u001b[32m\"This image is a \u001b[0m\u001b[1;38;2;231;34;247mfurry sticker\u001b[0m\u001b[32m of two anthro animals one that appears to be an\u001b[0m\n",
       "\u001b[32mfox and the other a ych.\"\u001b[0m\n"
      ]
     },
     "metadata": {},
     "output_type": "display_data"
    },
    {
     "data": {
      "text/html": [
       "<pre style=\"white-space:pre;overflow-x:auto;line-height:normal;font-family:Menlo,'DejaVu Sans Mono',consolas,'Courier New',monospace\">Tag <span style=\"color: #008000; text-decoration-color: #008000\">\"</span><span style=\"color: #ca437c; text-decoration-color: #ca437c; font-weight: bold\">fox</span><span style=\"color: #008000; text-decoration-color: #008000\">\"</span> found in caption <span style=\"color: #008000; text-decoration-color: #008000\">\"This image is a furry sticker of two anthro animals one that appears to be an </span><span style=\"color: #ca437c; text-decoration-color: #ca437c; font-weight: bold\">fox</span><span style=\"color: #008000; text-decoration-color: #008000\"> and </span>\n",
       "<span style=\"color: #008000; text-decoration-color: #008000\">the other a ych.\"</span>\n",
       "</pre>\n"
      ],
      "text/plain": [
       "Tag \u001b[32m\"\u001b[0m\u001b[1;38;2;202;67;124mfox\u001b[0m\u001b[32m\"\u001b[0m found in caption \u001b[32m\"This image is a furry sticker of two anthro animals one that appears to be an \u001b[0m\u001b[1;38;2;202;67;124mfox\u001b[0m\u001b[32m and \u001b[0m\n",
       "\u001b[32mthe other a ych.\"\u001b[0m\n"
      ]
     },
     "metadata": {},
     "output_type": "display_data"
    },
    {
     "data": {
      "text/html": [
       "<pre style=\"white-space:pre;overflow-x:auto;line-height:normal;font-family:Menlo,'DejaVu Sans Mono',consolas,'Courier New',monospace\">Tag <span style=\"color: #008000; text-decoration-color: #008000\">\"</span><span style=\"color: #b8123a; text-decoration-color: #b8123a; font-weight: bold\">fox</span><span style=\"color: #008000; text-decoration-color: #008000\">\"</span> found in caption <span style=\"color: #008000; text-decoration-color: #008000\">\"The </span><span style=\"color: #b8123a; text-decoration-color: #b8123a; font-weight: bold\">fox</span><span style=\"color: #008000; text-decoration-color: #008000\"> is orange and white with its eyes closed and a content expression while the </span>\n",
       "<span style=\"color: #008000; text-decoration-color: #008000\">anthro ych is blue and white.\"</span>\n",
       "</pre>\n"
      ],
      "text/plain": [
       "Tag \u001b[32m\"\u001b[0m\u001b[1;38;2;184;18;58mfox\u001b[0m\u001b[32m\"\u001b[0m found in caption \u001b[32m\"The \u001b[0m\u001b[1;38;2;184;18;58mfox\u001b[0m\u001b[32m is orange and white with its eyes closed and a content expression while the \u001b[0m\n",
       "\u001b[32manthro ych is blue and white.\"\u001b[0m\n"
      ]
     },
     "metadata": {},
     "output_type": "display_data"
    },
    {
     "data": {
      "text/html": [
       "<pre style=\"white-space:pre;overflow-x:auto;line-height:normal;font-family:Menlo,'DejaVu Sans Mono',consolas,'Courier New',monospace\">Tag <span style=\"color: #008000; text-decoration-color: #008000\">\"</span><span style=\"color: #88ff5a; text-decoration-color: #88ff5a; font-weight: bold\">fox</span><span style=\"color: #008000; text-decoration-color: #008000\">\"</span> found in caption <span style=\"color: #008000; text-decoration-color: #008000\">\"The </span><span style=\"color: #88ff5a; text-decoration-color: #88ff5a; font-weight: bold\">fox</span><span style=\"color: #008000; text-decoration-color: #008000\"> is petting the anthro ych's head.\"</span>\n",
       "</pre>\n"
      ],
      "text/plain": [
       "Tag \u001b[32m\"\u001b[0m\u001b[1;38;2;136;255;90mfox\u001b[0m\u001b[32m\"\u001b[0m found in caption \u001b[32m\"The \u001b[0m\u001b[1;38;2;136;255;90mfox\u001b[0m\u001b[32m is petting the anthro ych's head.\"\u001b[0m\n"
      ]
     },
     "metadata": {},
     "output_type": "display_data"
    },
    {
     "data": {
      "text/html": [
       "<pre style=\"white-space:pre;overflow-x:auto;line-height:normal;font-family:Menlo,'DejaVu Sans Mono',consolas,'Courier New',monospace\">Tag <span style=\"color: #008000; text-decoration-color: #008000\">\"</span><span style=\"color: #f785ae; text-decoration-color: #f785ae; font-weight: bold\">fox</span><span style=\"color: #008000; text-decoration-color: #008000\">\"</span> found in caption <span style=\"color: #008000; text-decoration-color: #008000\">\"The </span><span style=\"color: #f785ae; text-decoration-color: #f785ae; font-weight: bold\">fox</span><span style=\"color: #008000; text-decoration-color: #008000\"> has a white outline and the ych a blue outline around it.\"</span>\n",
       "</pre>\n"
      ],
      "text/plain": [
       "Tag \u001b[32m\"\u001b[0m\u001b[1;38;2;247;133;174mfox\u001b[0m\u001b[32m\"\u001b[0m found in caption \u001b[32m\"The \u001b[0m\u001b[1;38;2;247;133;174mfox\u001b[0m\u001b[32m has a white outline and the ych a blue outline around it.\"\u001b[0m\n"
      ]
     },
     "metadata": {},
     "output_type": "display_data"
    },
    {
     "data": {
      "text/html": [
       "<pre style=\"white-space:pre;overflow-x:auto;line-height:normal;font-family:Menlo,'DejaVu Sans Mono',consolas,'Courier New',monospace\">Tag <span style=\"color: #008000; text-decoration-color: #008000\">\"</span><span style=\"color: #8a4c7a; text-decoration-color: #8a4c7a; font-weight: bold\">anthro</span><span style=\"color: #008000; text-decoration-color: #008000\">\"</span> found in caption <span style=\"color: #008000; text-decoration-color: #008000\">\"This image is a furry sticker of two </span><span style=\"color: #8a4c7a; text-decoration-color: #8a4c7a; font-weight: bold\">anthro</span><span style=\"color: #008000; text-decoration-color: #008000\"> animals one that appears to be an fox </span>\n",
       "<span style=\"color: #008000; text-decoration-color: #008000\">and the other a ych.\"</span>\n",
       "</pre>\n"
      ],
      "text/plain": [
       "Tag \u001b[32m\"\u001b[0m\u001b[1;38;2;138;76;122manthro\u001b[0m\u001b[32m\"\u001b[0m found in caption \u001b[32m\"This image is a furry sticker of two \u001b[0m\u001b[1;38;2;138;76;122manthro\u001b[0m\u001b[32m animals one that appears to be an fox \u001b[0m\n",
       "\u001b[32mand the other a ych.\"\u001b[0m\n"
      ]
     },
     "metadata": {},
     "output_type": "display_data"
    },
    {
     "data": {
      "text/html": [
       "<pre style=\"white-space:pre;overflow-x:auto;line-height:normal;font-family:Menlo,'DejaVu Sans Mono',consolas,'Courier New',monospace\">Tag <span style=\"color: #008000; text-decoration-color: #008000\">\"</span><span style=\"color: #c92a2c; text-decoration-color: #c92a2c; font-weight: bold\">anthro</span><span style=\"color: #008000; text-decoration-color: #008000\">\"</span> found in caption <span style=\"color: #008000; text-decoration-color: #008000\">\"The fox is orange and white with its eyes closed and a content expression while the </span>\n",
       "<span style=\"color: #c92a2c; text-decoration-color: #c92a2c; font-weight: bold\">anthro</span><span style=\"color: #008000; text-decoration-color: #008000\"> ych is blue and white.\"</span>\n",
       "</pre>\n"
      ],
      "text/plain": [
       "Tag \u001b[32m\"\u001b[0m\u001b[1;38;2;201;42;44manthro\u001b[0m\u001b[32m\"\u001b[0m found in caption \u001b[32m\"The fox is orange and white with its eyes closed and a content expression while the \u001b[0m\n",
       "\u001b[1;38;2;201;42;44manthro\u001b[0m\u001b[32m ych is blue and white.\"\u001b[0m\n"
      ]
     },
     "metadata": {},
     "output_type": "display_data"
    },
    {
     "data": {
      "text/html": [
       "<pre style=\"white-space:pre;overflow-x:auto;line-height:normal;font-family:Menlo,'DejaVu Sans Mono',consolas,'Courier New',monospace\">Tag <span style=\"color: #008000; text-decoration-color: #008000\">\"</span><span style=\"color: #ff3ed8; text-decoration-color: #ff3ed8; font-weight: bold\">anthro</span><span style=\"color: #008000; text-decoration-color: #008000\">\"</span> found in caption <span style=\"color: #008000; text-decoration-color: #008000\">\"The fox is petting the </span><span style=\"color: #ff3ed8; text-decoration-color: #ff3ed8; font-weight: bold\">anthro</span><span style=\"color: #008000; text-decoration-color: #008000\"> ych's head.\"</span>\n",
       "</pre>\n"
      ],
      "text/plain": [
       "Tag \u001b[32m\"\u001b[0m\u001b[1;38;2;255;62;216manthro\u001b[0m\u001b[32m\"\u001b[0m found in caption \u001b[32m\"The fox is petting the \u001b[0m\u001b[1;38;2;255;62;216manthro\u001b[0m\u001b[32m ych's head.\"\u001b[0m\n"
      ]
     },
     "metadata": {},
     "output_type": "display_data"
    },
    {
     "data": {
      "text/html": [
       "<pre style=\"white-space:pre;overflow-x:auto;line-height:normal;font-family:Menlo,'DejaVu Sans Mono',consolas,'Courier New',monospace\">Tag <span style=\"color: #008000; text-decoration-color: #008000\">\"</span><span style=\"color: #4b46ed; text-decoration-color: #4b46ed; font-weight: bold\">anthro</span><span style=\"color: #008000; text-decoration-color: #008000\">\"</span> found in caption <span style=\"color: #008000; text-decoration-color: #008000\">\"Above the </span><span style=\"color: #4b46ed; text-decoration-color: #4b46ed; font-weight: bold\">anthro</span><span style=\"color: #008000; text-decoration-color: #008000\"> ych there's a text that reads 'PAT' indicating the action being </span>\n",
       "<span style=\"color: #008000; text-decoration-color: #008000\">depicted.\"</span>\n",
       "</pre>\n"
      ],
      "text/plain": [
       "Tag \u001b[32m\"\u001b[0m\u001b[1;38;2;75;70;237manthro\u001b[0m\u001b[32m\"\u001b[0m found in caption \u001b[32m\"Above the \u001b[0m\u001b[1;38;2;75;70;237manthro\u001b[0m\u001b[32m ych there's a text that reads 'PAT' indicating the action being \u001b[0m\n",
       "\u001b[32mdepicted.\"\u001b[0m\n"
      ]
     },
     "metadata": {},
     "output_type": "display_data"
    },
    {
     "data": {
      "text/html": [
       "<pre style=\"white-space:pre;overflow-x:auto;line-height:normal;font-family:Menlo,'DejaVu Sans Mono',consolas,'Courier New',monospace\">Tag <span style=\"color: #008000; text-decoration-color: #008000\">\"</span><span style=\"color: #b41deb; text-decoration-color: #b41deb; font-weight: bold\">eyes closed</span><span style=\"color: #008000; text-decoration-color: #008000\">\"</span> found in caption <span style=\"color: #008000; text-decoration-color: #008000\">\"The fox is orange and white with its </span><span style=\"color: #b41deb; text-decoration-color: #b41deb; font-weight: bold\">eyes closed</span><span style=\"color: #008000; text-decoration-color: #008000\"> and a content expression while</span>\n",
       "<span style=\"color: #008000; text-decoration-color: #008000\">the anthro ych is blue and white.\"</span>\n",
       "</pre>\n"
      ],
      "text/plain": [
       "Tag \u001b[32m\"\u001b[0m\u001b[1;38;2;180;29;235meyes closed\u001b[0m\u001b[32m\"\u001b[0m found in caption \u001b[32m\"The fox is orange and white with its \u001b[0m\u001b[1;38;2;180;29;235meyes closed\u001b[0m\u001b[32m and a content expression while\u001b[0m\n",
       "\u001b[32mthe anthro ych is blue and white.\"\u001b[0m\n"
      ]
     },
     "metadata": {},
     "output_type": "display_data"
    },
    {
     "data": {
      "text/html": [
       "<pre style=\"white-space:pre;overflow-x:auto;line-height:normal;font-family:Menlo,'DejaVu Sans Mono',consolas,'Courier New',monospace\">Tag <span style=\"color: #008000; text-decoration-color: #008000\">\"</span><span style=\"color: #d884c3; text-decoration-color: #d884c3; font-weight: bold\">text</span><span style=\"color: #008000; text-decoration-color: #008000\">\"</span> found in caption <span style=\"color: #008000; text-decoration-color: #008000\">\"Above the anthro ych there's a </span><span style=\"color: #d884c3; text-decoration-color: #d884c3; font-weight: bold\">text</span><span style=\"color: #008000; text-decoration-color: #008000\"> that reads 'PAT' indicating the action being </span>\n",
       "<span style=\"color: #008000; text-decoration-color: #008000\">depicted.\"</span>\n",
       "</pre>\n"
      ],
      "text/plain": [
       "Tag \u001b[32m\"\u001b[0m\u001b[1;38;2;216;132;195mtext\u001b[0m\u001b[32m\"\u001b[0m found in caption \u001b[32m\"Above the anthro ych there's a \u001b[0m\u001b[1;38;2;216;132;195mtext\u001b[0m\u001b[32m that reads 'PAT' indicating the action being \u001b[0m\n",
       "\u001b[32mdepicted.\"\u001b[0m\n"
      ]
     },
     "metadata": {},
     "output_type": "display_data"
    },
    {
     "data": {
      "text/html": [
       "<pre style=\"white-space:pre;overflow-x:auto;line-height:normal;font-family:Menlo,'DejaVu Sans Mono',consolas,'Courier New',monospace\">Tag <span style=\"color: #008000; text-decoration-color: #008000\">\"</span><span style=\"color: #402acd; text-decoration-color: #402acd; font-weight: bold\">sticker</span><span style=\"color: #008000; text-decoration-color: #008000\">\"</span> found in caption <span style=\"color: #008000; text-decoration-color: #008000\">\"This image is a furry </span><span style=\"color: #402acd; text-decoration-color: #402acd; font-weight: bold\">sticker</span><span style=\"color: #008000; text-decoration-color: #008000\"> of two anthro animals one that appears to be an fox </span>\n",
       "<span style=\"color: #008000; text-decoration-color: #008000\">and the other a ych.\"</span>\n",
       "</pre>\n"
      ],
      "text/plain": [
       "Tag \u001b[32m\"\u001b[0m\u001b[1;38;2;64;42;205msticker\u001b[0m\u001b[32m\"\u001b[0m found in caption \u001b[32m\"This image is a furry \u001b[0m\u001b[1;38;2;64;42;205msticker\u001b[0m\u001b[32m of two anthro animals one that appears to be an fox \u001b[0m\n",
       "\u001b[32mand the other a ych.\"\u001b[0m\n"
      ]
     },
     "metadata": {},
     "output_type": "display_data"
    },
    {
     "data": {
      "text/html": [
       "<pre style=\"white-space:pre;overflow-x:auto;line-height:normal;font-family:Menlo,'DejaVu Sans Mono',consolas,'Courier New',monospace\">Tag <span style=\"color: #008000; text-decoration-color: #008000\">\"</span><span style=\"color: #d99149; text-decoration-color: #d99149; font-weight: bold\">outline</span><span style=\"color: #008000; text-decoration-color: #008000\">\"</span> found in caption <span style=\"color: #008000; text-decoration-color: #008000\">\"The fox has a white </span><span style=\"color: #d99149; text-decoration-color: #d99149; font-weight: bold\">outline</span><span style=\"color: #008000; text-decoration-color: #008000\"> and the ych a blue </span><span style=\"color: #d99149; text-decoration-color: #d99149; font-weight: bold\">outline</span><span style=\"color: #008000; text-decoration-color: #008000\"> around it.\"</span>\n",
       "</pre>\n"
      ],
      "text/plain": [
       "Tag \u001b[32m\"\u001b[0m\u001b[1;38;2;217;145;73moutline\u001b[0m\u001b[32m\"\u001b[0m found in caption \u001b[32m\"The fox has a white \u001b[0m\u001b[1;38;2;217;145;73moutline\u001b[0m\u001b[32m and the ych a blue \u001b[0m\u001b[1;38;2;217;145;73moutline\u001b[0m\u001b[32m around it.\"\u001b[0m\n"
      ]
     },
     "metadata": {},
     "output_type": "display_data"
    },
    {
     "data": {
      "text/html": [
       "<pre style=\"white-space:pre;overflow-x:auto;line-height:normal;font-family:Menlo,'DejaVu Sans Mono',consolas,'Courier New',monospace\">C:\\Users\\kade\\Desktop\\training_dir_staging\\1_furry_sticker\\4896b709d1fe529d7d701fe6b410d0f4.txt\n",
       "</pre>\n"
      ],
      "text/plain": [
       "C:\\Users\\kade\\Desktop\\training_dir_staging\\1_furry_sticker\\4896b709d1fe529d7d701fe6b410d0f4.txt\n"
      ]
     },
     "metadata": {},
     "output_type": "display_data"
    },
    {
     "data": {
      "text/html": [
       "<pre style=\"white-space:pre;overflow-x:auto;line-height:normal;font-family:Menlo,'DejaVu Sans Mono',consolas,'Courier New',monospace\">Tag <span style=\"color: #008000; text-decoration-color: #008000\">\"</span><span style=\"color: #d6ba15; text-decoration-color: #d6ba15; font-weight: bold\">sergal</span><span style=\"color: #008000; text-decoration-color: #008000\">\"</span> found in caption <span style=\"color: #008000; text-decoration-color: #008000\">\"The </span><span style=\"color: #d6ba15; text-decoration-color: #d6ba15; font-weight: bold\">sergal</span><span style=\"color: #008000; text-decoration-color: #008000\"> has pointed ears and a long tail behind his back.\"</span>\n",
       "</pre>\n"
      ],
      "text/plain": [
       "Tag \u001b[32m\"\u001b[0m\u001b[1;38;2;214;186;21msergal\u001b[0m\u001b[32m\"\u001b[0m found in caption \u001b[32m\"The \u001b[0m\u001b[1;38;2;214;186;21msergal\u001b[0m\u001b[32m has pointed ears and a long tail behind his back.\"\u001b[0m\n"
      ]
     },
     "metadata": {},
     "output_type": "display_data"
    },
    {
     "data": {
      "text/html": [
       "<pre style=\"white-space:pre;overflow-x:auto;line-height:normal;font-family:Menlo,'DejaVu Sans Mono',consolas,'Courier New',monospace\">Tag <span style=\"color: #008000; text-decoration-color: #008000\">\"</span><span style=\"color: #088f6c; text-decoration-color: #088f6c; font-weight: bold\">speech bubble</span><span style=\"color: #008000; text-decoration-color: #008000\">\"</span> found in caption <span style=\"color: #008000; text-decoration-color: #008000\">\"Above the character there is a </span><span style=\"color: #088f6c; text-decoration-color: #088f6c; font-weight: bold\">speech bubble</span><span style=\"color: #008000; text-decoration-color: #008000\"> that reads 'FOOD'.\"</span>\n",
       "</pre>\n"
      ],
      "text/plain": [
       "Tag \u001b[32m\"\u001b[0m\u001b[1;38;2;8;143;108mspeech bubble\u001b[0m\u001b[32m\"\u001b[0m found in caption \u001b[32m\"Above the character there is a \u001b[0m\u001b[1;38;2;8;143;108mspeech bubble\u001b[0m\u001b[32m that reads 'FOOD'.\"\u001b[0m\n"
      ]
     },
     "metadata": {},
     "output_type": "display_data"
    },
    {
     "data": {
      "text/html": [
       "<pre style=\"white-space:pre;overflow-x:auto;line-height:normal;font-family:Menlo,'DejaVu Sans Mono',consolas,'Courier New',monospace\">C:\\Users\\kade\\Desktop\\training_dir_staging\\1_furry_sticker\\51d1cdf4a51c513f026b3f3abbbe1397.txt\n",
       "</pre>\n"
      ],
      "text/plain": [
       "C:\\Users\\kade\\Desktop\\training_dir_staging\\1_furry_sticker\\51d1cdf4a51c513f026b3f3abbbe1397.txt\n"
      ]
     },
     "metadata": {},
     "output_type": "display_data"
    },
    {
     "data": {
      "text/html": [
       "<pre style=\"white-space:pre;overflow-x:auto;line-height:normal;font-family:Menlo,'DejaVu Sans Mono',consolas,'Courier New',monospace\">Tag <span style=\"color: #008000; text-decoration-color: #008000\">\"</span><span style=\"color: #1576ee; text-decoration-color: #1576ee; font-weight: bold\">furry sticker</span><span style=\"color: #008000; text-decoration-color: #008000\">\"</span> found in caption <span style=\"color: #008000; text-decoration-color: #008000\">\"This image is a </span><span style=\"color: #1576ee; text-decoration-color: #1576ee; font-weight: bold\">furry sticker</span><span style=\"color: #008000; text-decoration-color: #008000\"> of a stylized anthro hyena.\"</span>\n",
       "</pre>\n"
      ],
      "text/plain": [
       "Tag \u001b[32m\"\u001b[0m\u001b[1;38;2;21;118;238mfurry sticker\u001b[0m\u001b[32m\"\u001b[0m found in caption \u001b[32m\"This image is a \u001b[0m\u001b[1;38;2;21;118;238mfurry sticker\u001b[0m\u001b[32m of a stylized anthro hyena.\"\u001b[0m\n"
      ]
     },
     "metadata": {},
     "output_type": "display_data"
    },
    {
     "data": {
      "text/html": [
       "<pre style=\"white-space:pre;overflow-x:auto;line-height:normal;font-family:Menlo,'DejaVu Sans Mono',consolas,'Courier New',monospace\">Tag <span style=\"color: #008000; text-decoration-color: #008000\">\"</span><span style=\"color: #10bdf3; text-decoration-color: #10bdf3; font-weight: bold\">anthro</span><span style=\"color: #008000; text-decoration-color: #008000\">\"</span> found in caption <span style=\"color: #008000; text-decoration-color: #008000\">\"This image is a furry sticker of a stylized </span><span style=\"color: #10bdf3; text-decoration-color: #10bdf3; font-weight: bold\">anthro</span><span style=\"color: #008000; text-decoration-color: #008000\"> hyena.\"</span>\n",
       "</pre>\n"
      ],
      "text/plain": [
       "Tag \u001b[32m\"\u001b[0m\u001b[1;38;2;16;189;243manthro\u001b[0m\u001b[32m\"\u001b[0m found in caption \u001b[32m\"This image is a furry sticker of a stylized \u001b[0m\u001b[1;38;2;16;189;243manthro\u001b[0m\u001b[32m hyena.\"\u001b[0m\n"
      ]
     },
     "metadata": {},
     "output_type": "display_data"
    },
    {
     "data": {
      "text/html": [
       "<pre style=\"white-space:pre;overflow-x:auto;line-height:normal;font-family:Menlo,'DejaVu Sans Mono',consolas,'Courier New',monospace\">Tag <span style=\"color: #008000; text-decoration-color: #008000\">\"</span><span style=\"color: #45d13a; text-decoration-color: #45d13a; font-weight: bold\">blush</span><span style=\"color: #008000; text-decoration-color: #008000\">\"</span> found in caption <span style=\"color: #008000; text-decoration-color: #008000\">\"The hyena has a </span><span style=\"color: #45d13a; text-decoration-color: #45d13a; font-weight: bold\">blush</span><span style=\"color: #008000; text-decoration-color: #008000\">.\"</span>\n",
       "</pre>\n"
      ],
      "text/plain": [
       "Tag \u001b[32m\"\u001b[0m\u001b[1;38;2;69;209;58mblush\u001b[0m\u001b[32m\"\u001b[0m found in caption \u001b[32m\"The hyena has a \u001b[0m\u001b[1;38;2;69;209;58mblush\u001b[0m\u001b[32m.\"\u001b[0m\n"
      ]
     },
     "metadata": {},
     "output_type": "display_data"
    },
    {
     "data": {
      "text/html": [
       "<pre style=\"white-space:pre;overflow-x:auto;line-height:normal;font-family:Menlo,'DejaVu Sans Mono',consolas,'Courier New',monospace\">Tag <span style=\"color: #008000; text-decoration-color: #008000\">\"</span><span style=\"color: #d08456; text-decoration-color: #d08456; font-weight: bold\">hyena</span><span style=\"color: #008000; text-decoration-color: #008000\">\"</span> found in caption <span style=\"color: #008000; text-decoration-color: #008000\">\"This image is a furry sticker of a stylized anthro </span><span style=\"color: #d08456; text-decoration-color: #d08456; font-weight: bold\">hyena</span><span style=\"color: #008000; text-decoration-color: #008000\">.\"</span>\n",
       "</pre>\n"
      ],
      "text/plain": [
       "Tag \u001b[32m\"\u001b[0m\u001b[1;38;2;208;132;86mhyena\u001b[0m\u001b[32m\"\u001b[0m found in caption \u001b[32m\"This image is a furry sticker of a stylized anthro \u001b[0m\u001b[1;38;2;208;132;86mhyena\u001b[0m\u001b[32m.\"\u001b[0m\n"
      ]
     },
     "metadata": {},
     "output_type": "display_data"
    },
    {
     "data": {
      "text/html": [
       "<pre style=\"white-space:pre;overflow-x:auto;line-height:normal;font-family:Menlo,'DejaVu Sans Mono',consolas,'Courier New',monospace\">Tag <span style=\"color: #008000; text-decoration-color: #008000\">\"</span><span style=\"color: #6321e0; text-decoration-color: #6321e0; font-weight: bold\">hyena</span><span style=\"color: #008000; text-decoration-color: #008000\">\"</span> found in caption <span style=\"color: #008000; text-decoration-color: #008000\">\"The </span><span style=\"color: #6321e0; text-decoration-color: #6321e0; font-weight: bold\">hyena</span><span style=\"color: #008000; text-decoration-color: #008000\"> has a blush.\"</span>\n",
       "</pre>\n"
      ],
      "text/plain": [
       "Tag \u001b[32m\"\u001b[0m\u001b[1;38;2;99;33;224mhyena\u001b[0m\u001b[32m\"\u001b[0m found in caption \u001b[32m\"The \u001b[0m\u001b[1;38;2;99;33;224mhyena\u001b[0m\u001b[32m has a blush.\"\u001b[0m\n"
      ]
     },
     "metadata": {},
     "output_type": "display_data"
    },
    {
     "data": {
      "text/html": [
       "<pre style=\"white-space:pre;overflow-x:auto;line-height:normal;font-family:Menlo,'DejaVu Sans Mono',consolas,'Courier New',monospace\">Tag <span style=\"color: #008000; text-decoration-color: #008000\">\"</span><span style=\"color: #faf091; text-decoration-color: #faf091; font-weight: bold\">fur</span><span style=\"color: #008000; text-decoration-color: #008000\">\"</span> found in caption <span style=\"color: #008000; text-decoration-color: #008000\">\"This image is a </span><span style=\"color: #faf091; text-decoration-color: #faf091; font-weight: bold\">fur</span><span style=\"color: #008000; text-decoration-color: #008000\">ry sticker of a stylized anthro hyena.\"</span>\n",
       "</pre>\n"
      ],
      "text/plain": [
       "Tag \u001b[32m\"\u001b[0m\u001b[1;38;2;250;240;145mfur\u001b[0m\u001b[32m\"\u001b[0m found in caption \u001b[32m\"This image is a \u001b[0m\u001b[1;38;2;250;240;145mfur\u001b[0m\u001b[32mry sticker of a stylized anthro hyena.\"\u001b[0m\n"
      ]
     },
     "metadata": {},
     "output_type": "display_data"
    },
    {
     "data": {
      "text/html": [
       "<pre style=\"white-space:pre;overflow-x:auto;line-height:normal;font-family:Menlo,'DejaVu Sans Mono',consolas,'Courier New',monospace\">Tag <span style=\"color: #008000; text-decoration-color: #008000\">\"</span><span style=\"color: #419ae0; text-decoration-color: #419ae0; font-weight: bold\">tail</span><span style=\"color: #008000; text-decoration-color: #008000\">\"</span> found in caption <span style=\"color: #008000; text-decoration-color: #008000\">\"It is depicted in a playful or cheeky pose with its </span><span style=\"color: #419ae0; text-decoration-color: #419ae0; font-weight: bold\">tail</span><span style=\"color: #008000; text-decoration-color: #008000\"> raised and wagging.\"</span>\n",
       "</pre>\n"
      ],
      "text/plain": [
       "Tag \u001b[32m\"\u001b[0m\u001b[1;38;2;65;154;224mtail\u001b[0m\u001b[32m\"\u001b[0m found in caption \u001b[32m\"It is depicted in a playful or cheeky pose with its \u001b[0m\u001b[1;38;2;65;154;224mtail\u001b[0m\u001b[32m raised and wagging.\"\u001b[0m\n"
      ]
     },
     "metadata": {},
     "output_type": "display_data"
    },
    {
     "data": {
      "text/html": [
       "<pre style=\"white-space:pre;overflow-x:auto;line-height:normal;font-family:Menlo,'DejaVu Sans Mono',consolas,'Courier New',monospace\">Tag <span style=\"color: #008000; text-decoration-color: #008000\">\"</span><span style=\"color: #b268c0; text-decoration-color: #b268c0; font-weight: bold\">outline</span><span style=\"color: #008000; text-decoration-color: #008000\">\"</span> found in caption <span style=\"color: #008000; text-decoration-color: #008000\">\"The character is wearing purple shorts and there's a white </span><span style=\"color: #b268c0; text-decoration-color: #b268c0; font-weight: bold\">outline</span><span style=\"color: #008000; text-decoration-color: #008000\"> around the </span>\n",
       "<span style=\"color: #008000; text-decoration-color: #008000\">character.\"</span>\n",
       "</pre>\n"
      ],
      "text/plain": [
       "Tag \u001b[32m\"\u001b[0m\u001b[1;38;2;178;104;192moutline\u001b[0m\u001b[32m\"\u001b[0m found in caption \u001b[32m\"The character is wearing purple shorts and there's a white \u001b[0m\u001b[1;38;2;178;104;192moutline\u001b[0m\u001b[32m around the \u001b[0m\n",
       "\u001b[32mcharacter.\"\u001b[0m\n"
      ]
     },
     "metadata": {},
     "output_type": "display_data"
    },
    {
     "data": {
      "text/html": [
       "<pre style=\"white-space:pre;overflow-x:auto;line-height:normal;font-family:Menlo,'DejaVu Sans Mono',consolas,'Courier New',monospace\">C:\\Users\\kade\\Desktop\\training_dir_staging\\1_furry_sticker\\560fb29619d60a588b629ab27cd7b869.txt\n",
       "</pre>\n"
      ],
      "text/plain": [
       "C:\\Users\\kade\\Desktop\\training_dir_staging\\1_furry_sticker\\560fb29619d60a588b629ab27cd7b869.txt\n"
      ]
     },
     "metadata": {},
     "output_type": "display_data"
    },
    {
     "data": {
      "text/html": [
       "<pre style=\"white-space:pre;overflow-x:auto;line-height:normal;font-family:Menlo,'DejaVu Sans Mono',consolas,'Courier New',monospace\">Tag <span style=\"color: #008000; text-decoration-color: #008000\">\"</span><span style=\"color: #d1f85d; text-decoration-color: #d1f85d; font-weight: bold\">anthro</span><span style=\"color: #008000; text-decoration-color: #008000\">\"</span> found in caption <span style=\"color: #008000; text-decoration-color: #008000\">\"This image is a cartoon representation of </span><span style=\"color: #d1f85d; text-decoration-color: #d1f85d; font-weight: bold\">anthro</span><span style=\"color: #008000; text-decoration-color: #008000\"> rabbit.\"</span>\n",
       "</pre>\n"
      ],
      "text/plain": [
       "Tag \u001b[32m\"\u001b[0m\u001b[1;38;2;209;248;93manthro\u001b[0m\u001b[32m\"\u001b[0m found in caption \u001b[32m\"This image is a cartoon representation of \u001b[0m\u001b[1;38;2;209;248;93manthro\u001b[0m\u001b[32m rabbit.\"\u001b[0m\n"
      ]
     },
     "metadata": {},
     "output_type": "display_data"
    },
    {
     "data": {
      "text/html": [
       "<pre style=\"white-space:pre;overflow-x:auto;line-height:normal;font-family:Menlo,'DejaVu Sans Mono',consolas,'Courier New',monospace\">Tag <span style=\"color: #008000; text-decoration-color: #008000\">\"</span><span style=\"color: #ddcce5; text-decoration-color: #ddcce5; font-weight: bold\">rabbit</span><span style=\"color: #008000; text-decoration-color: #008000\">\"</span> found in caption <span style=\"color: #008000; text-decoration-color: #008000\">\"This image is a cartoon representation of anthro </span><span style=\"color: #ddcce5; text-decoration-color: #ddcce5; font-weight: bold\">rabbit</span><span style=\"color: #008000; text-decoration-color: #008000\">.\"</span>\n",
       "</pre>\n"
      ],
      "text/plain": [
       "Tag \u001b[32m\"\u001b[0m\u001b[1;38;2;221;204;229mrabbit\u001b[0m\u001b[32m\"\u001b[0m found in caption \u001b[32m\"This image is a cartoon representation of anthro \u001b[0m\u001b[1;38;2;221;204;229mrabbit\u001b[0m\u001b[32m.\"\u001b[0m\n"
      ]
     },
     "metadata": {},
     "output_type": "display_data"
    },
    {
     "data": {
      "text/html": [
       "<pre style=\"white-space:pre;overflow-x:auto;line-height:normal;font-family:Menlo,'DejaVu Sans Mono',consolas,'Courier New',monospace\">Tag <span style=\"color: #008000; text-decoration-color: #008000\">\"</span><span style=\"color: #5b3595; text-decoration-color: #5b3595; font-weight: bold\">fur</span><span style=\"color: #008000; text-decoration-color: #008000\">\"</span> found in caption <span style=\"color: #008000; text-decoration-color: #008000\">\"The bunny has a light brown </span><span style=\"color: #5b3595; text-decoration-color: #5b3595; font-weight: bold\">fur</span><span style=\"color: #008000; text-decoration-color: #008000\"> color with some white and pink patches.\"</span>\n",
       "</pre>\n"
      ],
      "text/plain": [
       "Tag \u001b[32m\"\u001b[0m\u001b[1;38;2;91;53;149mfur\u001b[0m\u001b[32m\"\u001b[0m found in caption \u001b[32m\"The bunny has a light brown \u001b[0m\u001b[1;38;2;91;53;149mfur\u001b[0m\u001b[32m color with some white and pink patches.\"\u001b[0m\n"
      ]
     },
     "metadata": {},
     "output_type": "display_data"
    },
    {
     "data": {
      "text/html": [
       "<pre style=\"white-space:pre;overflow-x:auto;line-height:normal;font-family:Menlo,'DejaVu Sans Mono',consolas,'Courier New',monospace\">Tag <span style=\"color: #008000; text-decoration-color: #008000\">\"</span><span style=\"color: #dc7657; text-decoration-color: #dc7657; font-weight: bold\">pink nose</span><span style=\"color: #008000; text-decoration-color: #008000\">\"</span> found in caption <span style=\"color: #008000; text-decoration-color: #008000\">\"It has a cheerful expression with round open eyes and a </span><span style=\"color: #dc7657; text-decoration-color: #dc7657; font-weight: bold\">pink nose</span><span style=\"color: #008000; text-decoration-color: #008000\">.\"</span>\n",
       "</pre>\n"
      ],
      "text/plain": [
       "Tag \u001b[32m\"\u001b[0m\u001b[1;38;2;220;118;87mpink nose\u001b[0m\u001b[32m\"\u001b[0m found in caption \u001b[32m\"It has a cheerful expression with round open eyes and a \u001b[0m\u001b[1;38;2;220;118;87mpink nose\u001b[0m\u001b[32m.\"\u001b[0m\n"
      ]
     },
     "metadata": {},
     "output_type": "display_data"
    },
    {
     "data": {
      "text/html": [
       "<pre style=\"white-space:pre;overflow-x:auto;line-height:normal;font-family:Menlo,'DejaVu Sans Mono',consolas,'Courier New',monospace\">Tag <span style=\"color: #008000; text-decoration-color: #008000\">\"</span><span style=\"color: #2280a9; text-decoration-color: #2280a9; font-weight: bold\">brown fur</span><span style=\"color: #008000; text-decoration-color: #008000\">\"</span> found in caption <span style=\"color: #008000; text-decoration-color: #008000\">\"The bunny has a light </span><span style=\"color: #2280a9; text-decoration-color: #2280a9; font-weight: bold\">brown fur</span><span style=\"color: #008000; text-decoration-color: #008000\"> color with some white and pink patches.\"</span>\n",
       "</pre>\n"
      ],
      "text/plain": [
       "Tag \u001b[32m\"\u001b[0m\u001b[1;38;2;34;128;169mbrown fur\u001b[0m\u001b[32m\"\u001b[0m found in caption \u001b[32m\"The bunny has a light \u001b[0m\u001b[1;38;2;34;128;169mbrown fur\u001b[0m\u001b[32m color with some white and pink patches.\"\u001b[0m\n"
      ]
     },
     "metadata": {},
     "output_type": "display_data"
    },
    {
     "data": {
      "text/html": [
       "<pre style=\"white-space:pre;overflow-x:auto;line-height:normal;font-family:Menlo,'DejaVu Sans Mono',consolas,'Courier New',monospace\">C:\\Users\\kade\\Desktop\\training_dir_staging\\1_furry_sticker\\7b7bd6e31e5116408d9cbfe7b7644e1f.txt\n",
       "</pre>\n"
      ],
      "text/plain": [
       "C:\\Users\\kade\\Desktop\\training_dir_staging\\1_furry_sticker\\7b7bd6e31e5116408d9cbfe7b7644e1f.txt\n"
      ]
     },
     "metadata": {},
     "output_type": "display_data"
    },
    {
     "data": {
      "text/html": [
       "<pre style=\"white-space:pre;overflow-x:auto;line-height:normal;font-family:Menlo,'DejaVu Sans Mono',consolas,'Courier New',monospace\">Tag <span style=\"color: #008000; text-decoration-color: #008000\">\"</span><span style=\"color: #2be059; text-decoration-color: #2be059; font-weight: bold\">furry sticker</span><span style=\"color: #008000; text-decoration-color: #008000\">\"</span> found in caption <span style=\"color: #008000; text-decoration-color: #008000\">\"This </span><span style=\"color: #2be059; text-decoration-color: #2be059; font-weight: bold\">furry sticker</span><span style=\"color: #008000; text-decoration-color: #008000\"> is a stylized animated depiction of anthro fox.\"</span>\n",
       "</pre>\n"
      ],
      "text/plain": [
       "Tag \u001b[32m\"\u001b[0m\u001b[1;38;2;43;224;89mfurry sticker\u001b[0m\u001b[32m\"\u001b[0m found in caption \u001b[32m\"This \u001b[0m\u001b[1;38;2;43;224;89mfurry sticker\u001b[0m\u001b[32m is a stylized animated depiction of anthro fox.\"\u001b[0m\n"
      ]
     },
     "metadata": {},
     "output_type": "display_data"
    },
    {
     "data": {
      "text/html": [
       "<pre style=\"white-space:pre;overflow-x:auto;line-height:normal;font-family:Menlo,'DejaVu Sans Mono',consolas,'Courier New',monospace\">Tag <span style=\"color: #008000; text-decoration-color: #008000\">\"</span><span style=\"color: #03e1e5; text-decoration-color: #03e1e5; font-weight: bold\">collar</span><span style=\"color: #008000; text-decoration-color: #008000\">\"</span> found in caption <span style=\"color: #008000; text-decoration-color: #008000\">\"It has green eyes and is wearing a blue </span><span style=\"color: #03e1e5; text-decoration-color: #03e1e5; font-weight: bold\">collar</span><span style=\"color: #008000; text-decoration-color: #008000\"> with a silver buckle.\"</span>\n",
       "</pre>\n"
      ],
      "text/plain": [
       "Tag \u001b[32m\"\u001b[0m\u001b[1;38;2;3;225;229mcollar\u001b[0m\u001b[32m\"\u001b[0m found in caption \u001b[32m\"It has green eyes and is wearing a blue \u001b[0m\u001b[1;38;2;3;225;229mcollar\u001b[0m\u001b[32m with a silver buckle.\"\u001b[0m\n"
      ]
     },
     "metadata": {},
     "output_type": "display_data"
    },
    {
     "data": {
      "text/html": [
       "<pre style=\"white-space:pre;overflow-x:auto;line-height:normal;font-family:Menlo,'DejaVu Sans Mono',consolas,'Courier New',monospace\">Tag <span style=\"color: #008000; text-decoration-color: #008000\">\"</span><span style=\"color: #06ad73; text-decoration-color: #06ad73; font-weight: bold\">fox</span><span style=\"color: #008000; text-decoration-color: #008000\">\"</span> found in caption <span style=\"color: #008000; text-decoration-color: #008000\">\"This furry sticker is a stylized animated depiction of anthro </span><span style=\"color: #06ad73; text-decoration-color: #06ad73; font-weight: bold\">fox</span><span style=\"color: #008000; text-decoration-color: #008000\">.\"</span>\n",
       "</pre>\n"
      ],
      "text/plain": [
       "Tag \u001b[32m\"\u001b[0m\u001b[1;38;2;6;173;115mfox\u001b[0m\u001b[32m\"\u001b[0m found in caption \u001b[32m\"This furry sticker is a stylized animated depiction of anthro \u001b[0m\u001b[1;38;2;6;173;115mfox\u001b[0m\u001b[32m.\"\u001b[0m\n"
      ]
     },
     "metadata": {},
     "output_type": "display_data"
    },
    {
     "data": {
      "text/html": [
       "<pre style=\"white-space:pre;overflow-x:auto;line-height:normal;font-family:Menlo,'DejaVu Sans Mono',consolas,'Courier New',monospace\">Tag <span style=\"color: #008000; text-decoration-color: #008000\">\"</span><span style=\"color: #2d7377; text-decoration-color: #2d7377; font-weight: bold\">green eyes</span><span style=\"color: #008000; text-decoration-color: #008000\">\"</span> found in caption <span style=\"color: #008000; text-decoration-color: #008000\">\"It has </span><span style=\"color: #2d7377; text-decoration-color: #2d7377; font-weight: bold\">green eyes</span><span style=\"color: #008000; text-decoration-color: #008000\"> and is wearing a blue collar with a silver buckle.\"</span>\n",
       "</pre>\n"
      ],
      "text/plain": [
       "Tag \u001b[32m\"\u001b[0m\u001b[1;38;2;45;115;119mgreen eyes\u001b[0m\u001b[32m\"\u001b[0m found in caption \u001b[32m\"It has \u001b[0m\u001b[1;38;2;45;115;119mgreen eyes\u001b[0m\u001b[32m and is wearing a blue collar with a silver buckle.\"\u001b[0m\n"
      ]
     },
     "metadata": {},
     "output_type": "display_data"
    },
    {
     "data": {
      "text/html": [
       "<pre style=\"white-space:pre;overflow-x:auto;line-height:normal;font-family:Menlo,'DejaVu Sans Mono',consolas,'Courier New',monospace\">Tag <span style=\"color: #008000; text-decoration-color: #008000\">\"</span><span style=\"color: #026366; text-decoration-color: #026366; font-weight: bold\">anthro</span><span style=\"color: #008000; text-decoration-color: #008000\">\"</span> found in caption <span style=\"color: #008000; text-decoration-color: #008000\">\"This furry sticker is a stylized animated depiction of </span><span style=\"color: #026366; text-decoration-color: #026366; font-weight: bold\">anthro</span><span style=\"color: #008000; text-decoration-color: #008000\"> fox.\"</span>\n",
       "</pre>\n"
      ],
      "text/plain": [
       "Tag \u001b[32m\"\u001b[0m\u001b[1;38;2;2;99;102manthro\u001b[0m\u001b[32m\"\u001b[0m found in caption \u001b[32m\"This furry sticker is a stylized animated depiction of \u001b[0m\u001b[1;38;2;2;99;102manthro\u001b[0m\u001b[32m fox.\"\u001b[0m\n"
      ]
     },
     "metadata": {},
     "output_type": "display_data"
    },
    {
     "data": {
      "text/html": [
       "<pre style=\"white-space:pre;overflow-x:auto;line-height:normal;font-family:Menlo,'DejaVu Sans Mono',consolas,'Courier New',monospace\">Tag <span style=\"color: #008000; text-decoration-color: #008000\">\"</span><span style=\"color: #fde087; text-decoration-color: #fde087; font-weight: bold\">fur</span><span style=\"color: #008000; text-decoration-color: #008000\">\"</span> found in caption <span style=\"color: #008000; text-decoration-color: #008000\">\"This </span><span style=\"color: #fde087; text-decoration-color: #fde087; font-weight: bold\">fur</span><span style=\"color: #008000; text-decoration-color: #008000\">ry sticker is a stylized animated depiction of anthro fox.\"</span>\n",
       "</pre>\n"
      ],
      "text/plain": [
       "Tag \u001b[32m\"\u001b[0m\u001b[1;38;2;253;224;135mfur\u001b[0m\u001b[32m\"\u001b[0m found in caption \u001b[32m\"This \u001b[0m\u001b[1;38;2;253;224;135mfur\u001b[0m\u001b[32mry sticker is a stylized animated depiction of anthro fox.\"\u001b[0m\n"
      ]
     },
     "metadata": {},
     "output_type": "display_data"
    },
    {
     "data": {
      "text/html": [
       "<pre style=\"white-space:pre;overflow-x:auto;line-height:normal;font-family:Menlo,'DejaVu Sans Mono',consolas,'Courier New',monospace\">Tag <span style=\"color: #008000; text-decoration-color: #008000\">\"</span><span style=\"color: #aa751e; text-decoration-color: #aa751e; font-weight: bold\">fur</span><span style=\"color: #008000; text-decoration-color: #008000\">\"</span> found in caption <span style=\"color: #008000; text-decoration-color: #008000\">\"The character has an orange </span><span style=\"color: #aa751e; text-decoration-color: #aa751e; font-weight: bold\">fur</span><span style=\"color: #008000; text-decoration-color: #008000\"> coat and white underbelly.\"</span>\n",
       "</pre>\n"
      ],
      "text/plain": [
       "Tag \u001b[32m\"\u001b[0m\u001b[1;38;2;170;117;30mfur\u001b[0m\u001b[32m\"\u001b[0m found in caption \u001b[32m\"The character has an orange \u001b[0m\u001b[1;38;2;170;117;30mfur\u001b[0m\u001b[32m coat and white underbelly.\"\u001b[0m\n"
      ]
     },
     "metadata": {},
     "output_type": "display_data"
    },
    {
     "data": {
      "text/html": [
       "<pre style=\"white-space:pre;overflow-x:auto;line-height:normal;font-family:Menlo,'DejaVu Sans Mono',consolas,'Courier New',monospace\">Tag <span style=\"color: #008000; text-decoration-color: #008000\">\"</span><span style=\"color: #95f6c4; text-decoration-color: #95f6c4; font-weight: bold\">orange fur</span><span style=\"color: #008000; text-decoration-color: #008000\">\"</span> found in caption <span style=\"color: #008000; text-decoration-color: #008000\">\"The character has an </span><span style=\"color: #95f6c4; text-decoration-color: #95f6c4; font-weight: bold\">orange fur</span><span style=\"color: #008000; text-decoration-color: #008000\"> coat and white underbelly.\"</span>\n",
       "</pre>\n"
      ],
      "text/plain": [
       "Tag \u001b[32m\"\u001b[0m\u001b[1;38;2;149;246;196morange fur\u001b[0m\u001b[32m\"\u001b[0m found in caption \u001b[32m\"The character has an \u001b[0m\u001b[1;38;2;149;246;196morange fur\u001b[0m\u001b[32m coat and white underbelly.\"\u001b[0m\n"
      ]
     },
     "metadata": {},
     "output_type": "display_data"
    },
    {
     "data": {
      "text/html": [
       "<pre style=\"white-space:pre;overflow-x:auto;line-height:normal;font-family:Menlo,'DejaVu Sans Mono',consolas,'Courier New',monospace\">C:\\Users\\kade\\Desktop\\training_dir_staging\\1_furry_sticker\\7ba5c31f77820c66bceb515864857325.txt\n",
       "</pre>\n"
      ],
      "text/plain": [
       "C:\\Users\\kade\\Desktop\\training_dir_staging\\1_furry_sticker\\7ba5c31f77820c66bceb515864857325.txt\n"
      ]
     },
     "metadata": {},
     "output_type": "display_data"
    },
    {
     "data": {
      "text/html": [
       "<pre style=\"white-space:pre;overflow-x:auto;line-height:normal;font-family:Menlo,'DejaVu Sans Mono',consolas,'Courier New',monospace\">Tag <span style=\"color: #008000; text-decoration-color: #008000\">\"</span><span style=\"color: #d23c54; text-decoration-color: #d23c54; font-weight: bold\">lion</span><span style=\"color: #008000; text-decoration-color: #008000\">\"</span> found in caption <span style=\"color: #008000; text-decoration-color: #008000\">\"This sticker depicts animated anthro </span><span style=\"color: #d23c54; text-decoration-color: #d23c54; font-weight: bold\">lion</span><span style=\"color: #008000; text-decoration-color: #008000\"> creature with a playful expression.\"</span>\n",
       "</pre>\n"
      ],
      "text/plain": [
       "Tag \u001b[32m\"\u001b[0m\u001b[1;38;2;210;60;84mlion\u001b[0m\u001b[32m\"\u001b[0m found in caption \u001b[32m\"This sticker depicts animated anthro \u001b[0m\u001b[1;38;2;210;60;84mlion\u001b[0m\u001b[32m creature with a playful expression.\"\u001b[0m\n"
      ]
     },
     "metadata": {},
     "output_type": "display_data"
    },
    {
     "data": {
      "text/html": [
       "<pre style=\"white-space:pre;overflow-x:auto;line-height:normal;font-family:Menlo,'DejaVu Sans Mono',consolas,'Courier New',monospace\">Tag <span style=\"color: #008000; text-decoration-color: #008000\">\"</span><span style=\"color: #402dfd; text-decoration-color: #402dfd; font-weight: bold\">anthro</span><span style=\"color: #008000; text-decoration-color: #008000\">\"</span> found in caption <span style=\"color: #008000; text-decoration-color: #008000\">\"This sticker depicts animated </span><span style=\"color: #402dfd; text-decoration-color: #402dfd; font-weight: bold\">anthro</span><span style=\"color: #008000; text-decoration-color: #008000\"> lion creature with a playful expression.\"</span>\n",
       "</pre>\n"
      ],
      "text/plain": [
       "Tag \u001b[32m\"\u001b[0m\u001b[1;38;2;64;45;253manthro\u001b[0m\u001b[32m\"\u001b[0m found in caption \u001b[32m\"This sticker depicts animated \u001b[0m\u001b[1;38;2;64;45;253manthro\u001b[0m\u001b[32m lion creature with a playful expression.\"\u001b[0m\n"
      ]
     },
     "metadata": {},
     "output_type": "display_data"
    },
    {
     "data": {
      "text/html": [
       "<pre style=\"white-space:pre;overflow-x:auto;line-height:normal;font-family:Menlo,'DejaVu Sans Mono',consolas,'Courier New',monospace\">Tag <span style=\"color: #008000; text-decoration-color: #008000\">\"</span><span style=\"color: #48dde4; text-decoration-color: #48dde4; font-weight: bold\">fur</span><span style=\"color: #008000; text-decoration-color: #008000\">\"</span> found in caption <span style=\"color: #008000; text-decoration-color: #008000\">\"It has light and dark brown </span><span style=\"color: #48dde4; text-decoration-color: #48dde4; font-weight: bold\">fur</span><span style=\"color: #008000; text-decoration-color: #008000\"> a pink nose and is waving its right cartoonish paw as </span>\n",
       "<span style=\"color: #008000; text-decoration-color: #008000\">if greeting someone.\"</span>\n",
       "</pre>\n"
      ],
      "text/plain": [
       "Tag \u001b[32m\"\u001b[0m\u001b[1;38;2;72;221;228mfur\u001b[0m\u001b[32m\"\u001b[0m found in caption \u001b[32m\"It has light and dark brown \u001b[0m\u001b[1;38;2;72;221;228mfur\u001b[0m\u001b[32m a pink nose and is waving its right cartoonish paw as \u001b[0m\n",
       "\u001b[32mif greeting someone.\"\u001b[0m\n"
      ]
     },
     "metadata": {},
     "output_type": "display_data"
    },
    {
     "data": {
      "text/html": [
       "<pre style=\"white-space:pre;overflow-x:auto;line-height:normal;font-family:Menlo,'DejaVu Sans Mono',consolas,'Courier New',monospace\">Tag <span style=\"color: #008000; text-decoration-color: #008000\">\"</span><span style=\"color: #44f72f; text-decoration-color: #44f72f; font-weight: bold\">text</span><span style=\"color: #008000; text-decoration-color: #008000\">\"</span> found in caption <span style=\"color: #008000; text-decoration-color: #008000\">\"There is also a speech bubble with the </span><span style=\"color: #44f72f; text-decoration-color: #44f72f; font-weight: bold\">text</span><span style=\"color: #008000; text-decoration-color: #008000\"> \"</span>Hey.<span style=\"color: #008000; text-decoration-color: #008000\">\" written inside it above its head.\"</span>\n",
       "</pre>\n"
      ],
      "text/plain": [
       "Tag \u001b[32m\"\u001b[0m\u001b[1;38;2;68;247;47mtext\u001b[0m\u001b[32m\"\u001b[0m found in caption \u001b[32m\"There is also a speech bubble with the \u001b[0m\u001b[1;38;2;68;247;47mtext\u001b[0m\u001b[32m \"\u001b[0mHey.\u001b[32m\" written inside it above its head.\"\u001b[0m\n"
      ]
     },
     "metadata": {},
     "output_type": "display_data"
    },
    {
     "data": {
      "text/html": [
       "<pre style=\"white-space:pre;overflow-x:auto;line-height:normal;font-family:Menlo,'DejaVu Sans Mono',consolas,'Courier New',monospace\">Tag <span style=\"color: #008000; text-decoration-color: #008000\">\"</span><span style=\"color: #cc994a; text-decoration-color: #cc994a; font-weight: bold\">speech bubble</span><span style=\"color: #008000; text-decoration-color: #008000\">\"</span> found in caption <span style=\"color: #008000; text-decoration-color: #008000\">\"There is also a </span><span style=\"color: #cc994a; text-decoration-color: #cc994a; font-weight: bold\">speech bubble</span><span style=\"color: #008000; text-decoration-color: #008000\"> with the text \"</span>Hey.<span style=\"color: #008000; text-decoration-color: #008000\">\" written inside it above </span>\n",
       "<span style=\"color: #008000; text-decoration-color: #008000\">its head.\"</span>\n",
       "</pre>\n"
      ],
      "text/plain": [
       "Tag \u001b[32m\"\u001b[0m\u001b[1;38;2;204;153;74mspeech bubble\u001b[0m\u001b[32m\"\u001b[0m found in caption \u001b[32m\"There is also a \u001b[0m\u001b[1;38;2;204;153;74mspeech bubble\u001b[0m\u001b[32m with the text \"\u001b[0mHey.\u001b[32m\" written inside it above \u001b[0m\n",
       "\u001b[32mits head.\"\u001b[0m\n"
      ]
     },
     "metadata": {},
     "output_type": "display_data"
    },
    {
     "data": {
      "text/html": [
       "<pre style=\"white-space:pre;overflow-x:auto;line-height:normal;font-family:Menlo,'DejaVu Sans Mono',consolas,'Courier New',monospace\">C:\\Users\\kade\\Desktop\\training_dir_staging\\1_furry_sticker\\995650eef692b8280ccbd6bd38f1bbae.txt\n",
       "</pre>\n"
      ],
      "text/plain": [
       "C:\\Users\\kade\\Desktop\\training_dir_staging\\1_furry_sticker\\995650eef692b8280ccbd6bd38f1bbae.txt\n"
      ]
     },
     "metadata": {},
     "output_type": "display_data"
    },
    {
     "data": {
      "text/html": [
       "<pre style=\"white-space:pre;overflow-x:auto;line-height:normal;font-family:Menlo,'DejaVu Sans Mono',consolas,'Courier New',monospace\">Tag <span style=\"color: #008000; text-decoration-color: #008000\">\"</span><span style=\"color: #c351d5; text-decoration-color: #c351d5; font-weight: bold\">anthro</span><span style=\"color: #008000; text-decoration-color: #008000\">\"</span> found in caption <span style=\"color: #008000; text-decoration-color: #008000\">\"This image is a sticker of two </span><span style=\"color: #c351d5; text-decoration-color: #c351d5; font-weight: bold\">anthro</span><span style=\"color: #008000; text-decoration-color: #008000\"> characters.\"</span>\n",
       "</pre>\n"
      ],
      "text/plain": [
       "Tag \u001b[32m\"\u001b[0m\u001b[1;38;2;195;81;213manthro\u001b[0m\u001b[32m\"\u001b[0m found in caption \u001b[32m\"This image is a sticker of two \u001b[0m\u001b[1;38;2;195;81;213manthro\u001b[0m\u001b[32m characters.\"\u001b[0m\n"
      ]
     },
     "metadata": {},
     "output_type": "display_data"
    },
    {
     "data": {
      "text/html": [
       "<pre style=\"white-space:pre;overflow-x:auto;line-height:normal;font-family:Menlo,'DejaVu Sans Mono',consolas,'Courier New',monospace\">Tag <span style=\"color: #008000; text-decoration-color: #008000\">\"</span><span style=\"color: #96f926; text-decoration-color: #96f926; font-weight: bold\">anthro</span><span style=\"color: #008000; text-decoration-color: #008000\">\"</span> found in caption <span style=\"color: #008000; text-decoration-color: #008000\">\"A tiger is standing upright wearing a cap with an American flag and holding </span><span style=\"color: #96f926; text-decoration-color: #96f926; font-weight: bold\">anthro</span><span style=\"color: #008000; text-decoration-color: #008000\"> </span>\n",
       "<span style=\"color: #008000; text-decoration-color: #008000\">fox around its arms and holding a black mask in front of the fox's face.\"</span>\n",
       "</pre>\n"
      ],
      "text/plain": [
       "Tag \u001b[32m\"\u001b[0m\u001b[1;38;2;150;249;38manthro\u001b[0m\u001b[32m\"\u001b[0m found in caption \u001b[32m\"A tiger is standing upright wearing a cap with an American flag and holding \u001b[0m\u001b[1;38;2;150;249;38manthro\u001b[0m\u001b[32m \u001b[0m\n",
       "\u001b[32mfox around its arms and holding a black mask in front of the fox's face.\"\u001b[0m\n"
      ]
     },
     "metadata": {},
     "output_type": "display_data"
    },
    {
     "data": {
      "text/html": [
       "<pre style=\"white-space:pre;overflow-x:auto;line-height:normal;font-family:Menlo,'DejaVu Sans Mono',consolas,'Courier New',monospace\">Tag <span style=\"color: #008000; text-decoration-color: #008000\">\"</span><span style=\"color: #432c29; text-decoration-color: #432c29; font-weight: bold\">blush</span><span style=\"color: #008000; text-decoration-color: #008000\">\"</span> found in caption <span style=\"color: #008000; text-decoration-color: #008000\">\"The fox has a </span><span style=\"color: #432c29; text-decoration-color: #432c29; font-weight: bold\">blush</span><span style=\"color: #008000; text-decoration-color: #008000\"> on it's face.\"</span>\n",
       "</pre>\n"
      ],
      "text/plain": [
       "Tag \u001b[32m\"\u001b[0m\u001b[1;38;2;67;44;41mblush\u001b[0m\u001b[32m\"\u001b[0m found in caption \u001b[32m\"The fox has a \u001b[0m\u001b[1;38;2;67;44;41mblush\u001b[0m\u001b[32m on it's face.\"\u001b[0m\n"
      ]
     },
     "metadata": {},
     "output_type": "display_data"
    },
    {
     "data": {
      "text/html": [
       "<pre style=\"white-space:pre;overflow-x:auto;line-height:normal;font-family:Menlo,'DejaVu Sans Mono',consolas,'Courier New',monospace\">Tag <span style=\"color: #008000; text-decoration-color: #008000\">\"</span><span style=\"color: #90f040; text-decoration-color: #90f040; font-weight: bold\">fox</span><span style=\"color: #008000; text-decoration-color: #008000\">\"</span> found in caption <span style=\"color: #008000; text-decoration-color: #008000\">\"A tiger is standing upright wearing a cap with an American flag and holding anthro </span><span style=\"color: #90f040; text-decoration-color: #90f040; font-weight: bold\">fox</span><span style=\"color: #008000; text-decoration-color: #008000\"> </span>\n",
       "<span style=\"color: #008000; text-decoration-color: #008000\">around its arms and holding a black mask in front of the </span><span style=\"color: #90f040; text-decoration-color: #90f040; font-weight: bold\">fox</span><span style=\"color: #008000; text-decoration-color: #008000\">'s face.\"</span>\n",
       "</pre>\n"
      ],
      "text/plain": [
       "Tag \u001b[32m\"\u001b[0m\u001b[1;38;2;144;240;64mfox\u001b[0m\u001b[32m\"\u001b[0m found in caption \u001b[32m\"A tiger is standing upright wearing a cap with an American flag and holding anthro \u001b[0m\u001b[1;38;2;144;240;64mfox\u001b[0m\u001b[32m \u001b[0m\n",
       "\u001b[32maround its arms and holding a black mask in front of the \u001b[0m\u001b[1;38;2;144;240;64mfox\u001b[0m\u001b[32m's face.\"\u001b[0m\n"
      ]
     },
     "metadata": {},
     "output_type": "display_data"
    },
    {
     "data": {
      "text/html": [
       "<pre style=\"white-space:pre;overflow-x:auto;line-height:normal;font-family:Menlo,'DejaVu Sans Mono',consolas,'Courier New',monospace\">Tag <span style=\"color: #008000; text-decoration-color: #008000\">\"</span><span style=\"color: #823589; text-decoration-color: #823589; font-weight: bold\">fox</span><span style=\"color: #008000; text-decoration-color: #008000\">\"</span> found in caption <span style=\"color: #008000; text-decoration-color: #008000\">\"Above them there's a speech bubble with various symbols including a chain and a </span><span style=\"color: #823589; text-decoration-color: #823589; font-weight: bold\">fox</span><span style=\"color: #008000; text-decoration-color: #008000\"> and</span>\n",
       "<span style=\"color: #008000; text-decoration-color: #008000\">an eggplant with a red line crossing it out.\"</span>\n",
       "</pre>\n"
      ],
      "text/plain": [
       "Tag \u001b[32m\"\u001b[0m\u001b[1;38;2;130;53;137mfox\u001b[0m\u001b[32m\"\u001b[0m found in caption \u001b[32m\"Above them there's a speech bubble with various symbols including a chain and a \u001b[0m\u001b[1;38;2;130;53;137mfox\u001b[0m\u001b[32m and\u001b[0m\n",
       "\u001b[32man eggplant with a red line crossing it out.\"\u001b[0m\n"
      ]
     },
     "metadata": {},
     "output_type": "display_data"
    },
    {
     "data": {
      "text/html": [
       "<pre style=\"white-space:pre;overflow-x:auto;line-height:normal;font-family:Menlo,'DejaVu Sans Mono',consolas,'Courier New',monospace\">Tag <span style=\"color: #008000; text-decoration-color: #008000\">\"</span><span style=\"color: #9adc84; text-decoration-color: #9adc84; font-weight: bold\">fox</span><span style=\"color: #008000; text-decoration-color: #008000\">\"</span> found in caption <span style=\"color: #008000; text-decoration-color: #008000\">\"The </span><span style=\"color: #9adc84; text-decoration-color: #9adc84; font-weight: bold\">fox</span><span style=\"color: #008000; text-decoration-color: #008000\"> is naked and has a fluffy tail that ends in white.\"</span>\n",
       "</pre>\n"
      ],
      "text/plain": [
       "Tag \u001b[32m\"\u001b[0m\u001b[1;38;2;154;220;132mfox\u001b[0m\u001b[32m\"\u001b[0m found in caption \u001b[32m\"The \u001b[0m\u001b[1;38;2;154;220;132mfox\u001b[0m\u001b[32m is naked and has a fluffy tail that ends in white.\"\u001b[0m\n"
      ]
     },
     "metadata": {},
     "output_type": "display_data"
    },
    {
     "data": {
      "text/html": [
       "<pre style=\"white-space:pre;overflow-x:auto;line-height:normal;font-family:Menlo,'DejaVu Sans Mono',consolas,'Courier New',monospace\">Tag <span style=\"color: #008000; text-decoration-color: #008000\">\"</span><span style=\"color: #cde99f; text-decoration-color: #cde99f; font-weight: bold\">fox</span><span style=\"color: #008000; text-decoration-color: #008000\">\"</span> found in caption <span style=\"color: #008000; text-decoration-color: #008000\">\"The </span><span style=\"color: #cde99f; text-decoration-color: #cde99f; font-weight: bold\">fox</span><span style=\"color: #008000; text-decoration-color: #008000\"> has a blush on it's face.\"</span>\n",
       "</pre>\n"
      ],
      "text/plain": [
       "Tag \u001b[32m\"\u001b[0m\u001b[1;38;2;205;233;159mfox\u001b[0m\u001b[32m\"\u001b[0m found in caption \u001b[32m\"The \u001b[0m\u001b[1;38;2;205;233;159mfox\u001b[0m\u001b[32m has a blush on it's face.\"\u001b[0m\n"
      ]
     },
     "metadata": {},
     "output_type": "display_data"
    },
    {
     "data": {
      "text/html": [
       "<pre style=\"white-space:pre;overflow-x:auto;line-height:normal;font-family:Menlo,'DejaVu Sans Mono',consolas,'Courier New',monospace\">Tag <span style=\"color: #008000; text-decoration-color: #008000\">\"</span><span style=\"color: #93106e; text-decoration-color: #93106e; font-weight: bold\">tiger</span><span style=\"color: #008000; text-decoration-color: #008000\">\"</span> found in caption <span style=\"color: #008000; text-decoration-color: #008000\">\"A </span><span style=\"color: #93106e; text-decoration-color: #93106e; font-weight: bold\">tiger</span><span style=\"color: #008000; text-decoration-color: #008000\"> is standing upright wearing a cap with an American flag and holding anthro </span>\n",
       "<span style=\"color: #008000; text-decoration-color: #008000\">fox around its arms and holding a black mask in front of the fox's face.\"</span>\n",
       "</pre>\n"
      ],
      "text/plain": [
       "Tag \u001b[32m\"\u001b[0m\u001b[1;38;2;147;16;110mtiger\u001b[0m\u001b[32m\"\u001b[0m found in caption \u001b[32m\"A \u001b[0m\u001b[1;38;2;147;16;110mtiger\u001b[0m\u001b[32m is standing upright wearing a cap with an American flag and holding anthro \u001b[0m\n",
       "\u001b[32mfox around its arms and holding a black mask in front of the fox's face.\"\u001b[0m\n"
      ]
     },
     "metadata": {},
     "output_type": "display_data"
    },
    {
     "data": {
      "text/html": [
       "<pre style=\"white-space:pre;overflow-x:auto;line-height:normal;font-family:Menlo,'DejaVu Sans Mono',consolas,'Courier New',monospace\">Tag <span style=\"color: #008000; text-decoration-color: #008000\">\"</span><span style=\"color: #0af2fc; text-decoration-color: #0af2fc; font-weight: bold\">tiger</span><span style=\"color: #008000; text-decoration-color: #008000\">\"</span> found in caption <span style=\"color: #008000; text-decoration-color: #008000\">\"The </span><span style=\"color: #0af2fc; text-decoration-color: #0af2fc; font-weight: bold\">tiger</span><span style=\"color: #008000; text-decoration-color: #008000\"> is also wearing a black and orange outfit.\"</span>\n",
       "</pre>\n"
      ],
      "text/plain": [
       "Tag \u001b[32m\"\u001b[0m\u001b[1;38;2;10;242;252mtiger\u001b[0m\u001b[32m\"\u001b[0m found in caption \u001b[32m\"The \u001b[0m\u001b[1;38;2;10;242;252mtiger\u001b[0m\u001b[32m is also wearing a black and orange outfit.\"\u001b[0m\n"
      ]
     },
     "metadata": {},
     "output_type": "display_data"
    },
    {
     "data": {
      "text/html": [
       "<pre style=\"white-space:pre;overflow-x:auto;line-height:normal;font-family:Menlo,'DejaVu Sans Mono',consolas,'Courier New',monospace\">Tag <span style=\"color: #008000; text-decoration-color: #008000\">\"</span><span style=\"color: #3494e2; text-decoration-color: #3494e2; font-weight: bold\">tiger</span><span style=\"color: #008000; text-decoration-color: #008000\">\"</span> found in caption <span style=\"color: #008000; text-decoration-color: #008000\">\"The </span><span style=\"color: #3494e2; text-decoration-color: #3494e2; font-weight: bold\">tiger</span><span style=\"color: #008000; text-decoration-color: #008000\"> has a bell on the end of its tail.\"</span>\n",
       "</pre>\n"
      ],
      "text/plain": [
       "Tag \u001b[32m\"\u001b[0m\u001b[1;38;2;52;148;226mtiger\u001b[0m\u001b[32m\"\u001b[0m found in caption \u001b[32m\"The \u001b[0m\u001b[1;38;2;52;148;226mtiger\u001b[0m\u001b[32m has a bell on the end of its tail.\"\u001b[0m\n"
      ]
     },
     "metadata": {},
     "output_type": "display_data"
    },
    {
     "data": {
      "text/html": [
       "<pre style=\"white-space:pre;overflow-x:auto;line-height:normal;font-family:Menlo,'DejaVu Sans Mono',consolas,'Courier New',monospace\">Tag <span style=\"color: #008000; text-decoration-color: #008000\">\"</span><span style=\"color: #806bf4; text-decoration-color: #806bf4; font-weight: bold\">green eyes</span><span style=\"color: #008000; text-decoration-color: #008000\">\"</span> found in caption <span style=\"color: #008000; text-decoration-color: #008000\">\"Both characters have </span><span style=\"color: #806bf4; text-decoration-color: #806bf4; font-weight: bold\">green eyes</span><span style=\"color: #008000; text-decoration-color: #008000\">.\"</span>\n",
       "</pre>\n"
      ],
      "text/plain": [
       "Tag \u001b[32m\"\u001b[0m\u001b[1;38;2;128;107;244mgreen eyes\u001b[0m\u001b[32m\"\u001b[0m found in caption \u001b[32m\"Both characters have \u001b[0m\u001b[1;38;2;128;107;244mgreen eyes\u001b[0m\u001b[32m.\"\u001b[0m\n"
      ]
     },
     "metadata": {},
     "output_type": "display_data"
    },
    {
     "data": {
      "text/html": [
       "<pre style=\"white-space:pre;overflow-x:auto;line-height:normal;font-family:Menlo,'DejaVu Sans Mono',consolas,'Courier New',monospace\">Tag <span style=\"color: #008000; text-decoration-color: #008000\">\"</span><span style=\"color: #f5c23f; text-decoration-color: #f5c23f; font-weight: bold\">speech bubble</span><span style=\"color: #008000; text-decoration-color: #008000\">\"</span> found in caption <span style=\"color: #008000; text-decoration-color: #008000\">\"Above them there's a </span><span style=\"color: #f5c23f; text-decoration-color: #f5c23f; font-weight: bold\">speech bubble</span><span style=\"color: #008000; text-decoration-color: #008000\"> with various symbols including a chain and</span>\n",
       "<span style=\"color: #008000; text-decoration-color: #008000\">a fox and an eggplant with a red line crossing it out.\"</span>\n",
       "</pre>\n"
      ],
      "text/plain": [
       "Tag \u001b[32m\"\u001b[0m\u001b[1;38;2;245;194;63mspeech bubble\u001b[0m\u001b[32m\"\u001b[0m found in caption \u001b[32m\"Above them there's a \u001b[0m\u001b[1;38;2;245;194;63mspeech bubble\u001b[0m\u001b[32m with various symbols including a chain and\u001b[0m\n",
       "\u001b[32ma fox and an eggplant with a red line crossing it out.\"\u001b[0m\n"
      ]
     },
     "metadata": {},
     "output_type": "display_data"
    },
    {
     "data": {
      "text/html": [
       "<pre style=\"white-space:pre;overflow-x:auto;line-height:normal;font-family:Menlo,'DejaVu Sans Mono',consolas,'Courier New',monospace\">C:\\Users\\kade\\Desktop\\training_dir_staging\\1_furry_sticker\\af645ac16a9c9608b6429837a82b361c.txt\n",
       "</pre>\n"
      ],
      "text/plain": [
       "C:\\Users\\kade\\Desktop\\training_dir_staging\\1_furry_sticker\\af645ac16a9c9608b6429837a82b361c.txt\n"
      ]
     },
     "metadata": {},
     "output_type": "display_data"
    },
    {
     "data": {
      "text/html": [
       "<pre style=\"white-space:pre;overflow-x:auto;line-height:normal;font-family:Menlo,'DejaVu Sans Mono',consolas,'Courier New',monospace\">Tag <span style=\"color: #008000; text-decoration-color: #008000\">\"</span><span style=\"color: #e8accd; text-decoration-color: #e8accd; font-weight: bold\">furry sticker</span><span style=\"color: #008000; text-decoration-color: #008000\">\"</span> found in caption <span style=\"color: #008000; text-decoration-color: #008000\">\"This </span><span style=\"color: #e8accd; text-decoration-color: #e8accd; font-weight: bold\">furry sticker</span><span style=\"color: #008000; text-decoration-color: #008000\"> depicts anthro fox with orange fur and green eyes.\"</span>\n",
       "</pre>\n"
      ],
      "text/plain": [
       "Tag \u001b[32m\"\u001b[0m\u001b[1;38;2;232;172;205mfurry sticker\u001b[0m\u001b[32m\"\u001b[0m found in caption \u001b[32m\"This \u001b[0m\u001b[1;38;2;232;172;205mfurry sticker\u001b[0m\u001b[32m depicts anthro fox with orange fur and green eyes.\"\u001b[0m\n"
      ]
     },
     "metadata": {},
     "output_type": "display_data"
    },
    {
     "data": {
      "text/html": [
       "<pre style=\"white-space:pre;overflow-x:auto;line-height:normal;font-family:Menlo,'DejaVu Sans Mono',consolas,'Courier New',monospace\">Tag <span style=\"color: #008000; text-decoration-color: #008000\">\"</span><span style=\"color: #cce9f4; text-decoration-color: #cce9f4; font-weight: bold\">fox</span><span style=\"color: #008000; text-decoration-color: #008000\">\"</span> found in caption <span style=\"color: #008000; text-decoration-color: #008000\">\"This furry sticker depicts anthro </span><span style=\"color: #cce9f4; text-decoration-color: #cce9f4; font-weight: bold\">fox</span><span style=\"color: #008000; text-decoration-color: #008000\"> with orange fur and green eyes.\"</span>\n",
       "</pre>\n"
      ],
      "text/plain": [
       "Tag \u001b[32m\"\u001b[0m\u001b[1;38;2;204;233;244mfox\u001b[0m\u001b[32m\"\u001b[0m found in caption \u001b[32m\"This furry sticker depicts anthro \u001b[0m\u001b[1;38;2;204;233;244mfox\u001b[0m\u001b[32m with orange fur and green eyes.\"\u001b[0m\n"
      ]
     },
     "metadata": {},
     "output_type": "display_data"
    },
    {
     "data": {
      "text/html": [
       "<pre style=\"white-space:pre;overflow-x:auto;line-height:normal;font-family:Menlo,'DejaVu Sans Mono',consolas,'Courier New',monospace\">Tag <span style=\"color: #008000; text-decoration-color: #008000\">\"</span><span style=\"color: #c8e4b5; text-decoration-color: #c8e4b5; font-weight: bold\">fox</span><span style=\"color: #008000; text-decoration-color: #008000\">\"</span> found in caption <span style=\"color: #008000; text-decoration-color: #008000\">\"The anthro </span><span style=\"color: #c8e4b5; text-decoration-color: #c8e4b5; font-weight: bold\">fox</span><span style=\"color: #008000; text-decoration-color: #008000\"> is shown in a pose while talking with its mouth open and its hands at </span>\n",
       "<span style=\"color: #008000; text-decoration-color: #008000\">its chest.\"</span>\n",
       "</pre>\n"
      ],
      "text/plain": [
       "Tag \u001b[32m\"\u001b[0m\u001b[1;38;2;200;228;181mfox\u001b[0m\u001b[32m\"\u001b[0m found in caption \u001b[32m\"The anthro \u001b[0m\u001b[1;38;2;200;228;181mfox\u001b[0m\u001b[32m is shown in a pose while talking with its mouth open and its hands at \u001b[0m\n",
       "\u001b[32mits chest.\"\u001b[0m\n"
      ]
     },
     "metadata": {},
     "output_type": "display_data"
    },
    {
     "data": {
      "text/html": [
       "<pre style=\"white-space:pre;overflow-x:auto;line-height:normal;font-family:Menlo,'DejaVu Sans Mono',consolas,'Courier New',monospace\">Tag <span style=\"color: #008000; text-decoration-color: #008000\">\"</span><span style=\"color: #3f7b8f; text-decoration-color: #3f7b8f; font-weight: bold\">fox</span><span style=\"color: #008000; text-decoration-color: #008000\">\"</span> found in caption <span style=\"color: #008000; text-decoration-color: #008000\">\"The background is transparent putting emphasis on the </span><span style=\"color: #3f7b8f; text-decoration-color: #3f7b8f; font-weight: bold\">fox</span><span style=\"color: #008000; text-decoration-color: #008000\"> character.\"</span>\n",
       "</pre>\n"
      ],
      "text/plain": [
       "Tag \u001b[32m\"\u001b[0m\u001b[1;38;2;63;123;143mfox\u001b[0m\u001b[32m\"\u001b[0m found in caption \u001b[32m\"The background is transparent putting emphasis on the \u001b[0m\u001b[1;38;2;63;123;143mfox\u001b[0m\u001b[32m character.\"\u001b[0m\n"
      ]
     },
     "metadata": {},
     "output_type": "display_data"
    },
    {
     "data": {
      "text/html": [
       "<pre style=\"white-space:pre;overflow-x:auto;line-height:normal;font-family:Menlo,'DejaVu Sans Mono',consolas,'Courier New',monospace\">Tag <span style=\"color: #008000; text-decoration-color: #008000\">\"</span><span style=\"color: #3f0e8f; text-decoration-color: #3f0e8f; font-weight: bold\">anthro</span><span style=\"color: #008000; text-decoration-color: #008000\">\"</span> found in caption <span style=\"color: #008000; text-decoration-color: #008000\">\"This furry sticker depicts </span><span style=\"color: #3f0e8f; text-decoration-color: #3f0e8f; font-weight: bold\">anthro</span><span style=\"color: #008000; text-decoration-color: #008000\"> fox with orange fur and green eyes.\"</span>\n",
       "</pre>\n"
      ],
      "text/plain": [
       "Tag \u001b[32m\"\u001b[0m\u001b[1;38;2;63;14;143manthro\u001b[0m\u001b[32m\"\u001b[0m found in caption \u001b[32m\"This furry sticker depicts \u001b[0m\u001b[1;38;2;63;14;143manthro\u001b[0m\u001b[32m fox with orange fur and green eyes.\"\u001b[0m\n"
      ]
     },
     "metadata": {},
     "output_type": "display_data"
    },
    {
     "data": {
      "text/html": [
       "<pre style=\"white-space:pre;overflow-x:auto;line-height:normal;font-family:Menlo,'DejaVu Sans Mono',consolas,'Courier New',monospace\">Tag <span style=\"color: #008000; text-decoration-color: #008000\">\"</span><span style=\"color: #51da96; text-decoration-color: #51da96; font-weight: bold\">anthro</span><span style=\"color: #008000; text-decoration-color: #008000\">\"</span> found in caption <span style=\"color: #008000; text-decoration-color: #008000\">\"The </span><span style=\"color: #51da96; text-decoration-color: #51da96; font-weight: bold\">anthro</span><span style=\"color: #008000; text-decoration-color: #008000\"> fox is shown in a pose while talking with its mouth open and its hands at</span>\n",
       "<span style=\"color: #008000; text-decoration-color: #008000\">its chest.\"</span>\n",
       "</pre>\n"
      ],
      "text/plain": [
       "Tag \u001b[32m\"\u001b[0m\u001b[1;38;2;81;218;150manthro\u001b[0m\u001b[32m\"\u001b[0m found in caption \u001b[32m\"The \u001b[0m\u001b[1;38;2;81;218;150manthro\u001b[0m\u001b[32m fox is shown in a pose while talking with its mouth open and its hands at\u001b[0m\n",
       "\u001b[32mits chest.\"\u001b[0m\n"
      ]
     },
     "metadata": {},
     "output_type": "display_data"
    },
    {
     "data": {
      "text/html": [
       "<pre style=\"white-space:pre;overflow-x:auto;line-height:normal;font-family:Menlo,'DejaVu Sans Mono',consolas,'Courier New',monospace\">Tag <span style=\"color: #008000; text-decoration-color: #008000\">\"</span><span style=\"color: #43f0b7; text-decoration-color: #43f0b7; font-weight: bold\">green eyes</span><span style=\"color: #008000; text-decoration-color: #008000\">\"</span> found in caption <span style=\"color: #008000; text-decoration-color: #008000\">\"This furry sticker depicts anthro fox with orange fur and </span><span style=\"color: #43f0b7; text-decoration-color: #43f0b7; font-weight: bold\">green eyes</span><span style=\"color: #008000; text-decoration-color: #008000\">.\"</span>\n",
       "</pre>\n"
      ],
      "text/plain": [
       "Tag \u001b[32m\"\u001b[0m\u001b[1;38;2;67;240;183mgreen eyes\u001b[0m\u001b[32m\"\u001b[0m found in caption \u001b[32m\"This furry sticker depicts anthro fox with orange fur and \u001b[0m\u001b[1;38;2;67;240;183mgreen eyes\u001b[0m\u001b[32m.\"\u001b[0m\n"
      ]
     },
     "metadata": {},
     "output_type": "display_data"
    },
    {
     "data": {
      "text/html": [
       "<pre style=\"white-space:pre;overflow-x:auto;line-height:normal;font-family:Menlo,'DejaVu Sans Mono',consolas,'Courier New',monospace\">Tag <span style=\"color: #008000; text-decoration-color: #008000\">\"</span><span style=\"color: #59f816; text-decoration-color: #59f816; font-weight: bold\">fur</span><span style=\"color: #008000; text-decoration-color: #008000\">\"</span> found in caption <span style=\"color: #008000; text-decoration-color: #008000\">\"This </span><span style=\"color: #59f816; text-decoration-color: #59f816; font-weight: bold\">fur</span><span style=\"color: #008000; text-decoration-color: #008000\">ry sticker depicts anthro fox with orange </span><span style=\"color: #59f816; text-decoration-color: #59f816; font-weight: bold\">fur</span><span style=\"color: #008000; text-decoration-color: #008000\"> and green eyes.\"</span>\n",
       "</pre>\n"
      ],
      "text/plain": [
       "Tag \u001b[32m\"\u001b[0m\u001b[1;38;2;89;248;22mfur\u001b[0m\u001b[32m\"\u001b[0m found in caption \u001b[32m\"This \u001b[0m\u001b[1;38;2;89;248;22mfur\u001b[0m\u001b[32mry sticker depicts anthro fox with orange \u001b[0m\u001b[1;38;2;89;248;22mfur\u001b[0m\u001b[32m and green eyes.\"\u001b[0m\n"
      ]
     },
     "metadata": {},
     "output_type": "display_data"
    },
    {
     "data": {
      "text/html": [
       "<pre style=\"white-space:pre;overflow-x:auto;line-height:normal;font-family:Menlo,'DejaVu Sans Mono',consolas,'Courier New',monospace\">Tag <span style=\"color: #008000; text-decoration-color: #008000\">\"</span><span style=\"color: #68c600; text-decoration-color: #68c600; font-weight: bold\">orange fur</span><span style=\"color: #008000; text-decoration-color: #008000\">\"</span> found in caption <span style=\"color: #008000; text-decoration-color: #008000\">\"This furry sticker depicts anthro fox with </span><span style=\"color: #68c600; text-decoration-color: #68c600; font-weight: bold\">orange fur</span><span style=\"color: #008000; text-decoration-color: #008000\"> and green eyes.\"</span>\n",
       "</pre>\n"
      ],
      "text/plain": [
       "Tag \u001b[32m\"\u001b[0m\u001b[1;38;2;104;198;0morange fur\u001b[0m\u001b[32m\"\u001b[0m found in caption \u001b[32m\"This furry sticker depicts anthro fox with \u001b[0m\u001b[1;38;2;104;198;0morange fur\u001b[0m\u001b[32m and green eyes.\"\u001b[0m\n"
      ]
     },
     "metadata": {},
     "output_type": "display_data"
    },
    {
     "data": {
      "text/html": [
       "<pre style=\"white-space:pre;overflow-x:auto;line-height:normal;font-family:Menlo,'DejaVu Sans Mono',consolas,'Courier New',monospace\">Tag <span style=\"color: #008000; text-decoration-color: #008000\">\"</span><span style=\"color: #0221bd; text-decoration-color: #0221bd; font-weight: bold\">outline</span><span style=\"color: #008000; text-decoration-color: #008000\">\"</span> found in caption <span style=\"color: #008000; text-decoration-color: #008000\">\"The character has a white </span><span style=\"color: #0221bd; text-decoration-color: #0221bd; font-weight: bold\">outline</span><span style=\"color: #008000; text-decoration-color: #008000\"> around it.\"</span>\n",
       "</pre>\n"
      ],
      "text/plain": [
       "Tag \u001b[32m\"\u001b[0m\u001b[1;38;2;2;33;189moutline\u001b[0m\u001b[32m\"\u001b[0m found in caption \u001b[32m\"The character has a white \u001b[0m\u001b[1;38;2;2;33;189moutline\u001b[0m\u001b[32m around it.\"\u001b[0m\n"
      ]
     },
     "metadata": {},
     "output_type": "display_data"
    },
    {
     "data": {
      "text/html": [
       "<pre style=\"white-space:pre;overflow-x:auto;line-height:normal;font-family:Menlo,'DejaVu Sans Mono',consolas,'Courier New',monospace\">C:\\Users\\kade\\Desktop\\training_dir_staging\\1_furry_sticker\\c004dd17eabdc650f7870d1cce451132.txt\n",
       "</pre>\n"
      ],
      "text/plain": [
       "C:\\Users\\kade\\Desktop\\training_dir_staging\\1_furry_sticker\\c004dd17eabdc650f7870d1cce451132.txt\n"
      ]
     },
     "metadata": {},
     "output_type": "display_data"
    },
    {
     "data": {
      "text/html": [
       "<pre style=\"white-space:pre;overflow-x:auto;line-height:normal;font-family:Menlo,'DejaVu Sans Mono',consolas,'Courier New',monospace\">Tag <span style=\"color: #008000; text-decoration-color: #008000\">\"</span><span style=\"color: #823f1e; text-decoration-color: #823f1e; font-weight: bold\">furry sticker</span><span style=\"color: #008000; text-decoration-color: #008000\">\"</span> found in caption <span style=\"color: #008000; text-decoration-color: #008000\">\"This is </span><span style=\"color: #823f1e; text-decoration-color: #823f1e; font-weight: bold\">furry sticker</span><span style=\"color: #008000; text-decoration-color: #008000\"> of anthro fox.\"</span>\n",
       "</pre>\n"
      ],
      "text/plain": [
       "Tag \u001b[32m\"\u001b[0m\u001b[1;38;2;130;63;30mfurry sticker\u001b[0m\u001b[32m\"\u001b[0m found in caption \u001b[32m\"This is \u001b[0m\u001b[1;38;2;130;63;30mfurry sticker\u001b[0m\u001b[32m of anthro fox.\"\u001b[0m\n"
      ]
     },
     "metadata": {},
     "output_type": "display_data"
    },
    {
     "data": {
      "text/html": [
       "<pre style=\"white-space:pre;overflow-x:auto;line-height:normal;font-family:Menlo,'DejaVu Sans Mono',consolas,'Courier New',monospace\">Tag <span style=\"color: #008000; text-decoration-color: #008000\">\"</span><span style=\"color: #d3dff9; text-decoration-color: #d3dff9; font-weight: bold\">fox</span><span style=\"color: #008000; text-decoration-color: #008000\">\"</span> found in caption <span style=\"color: #008000; text-decoration-color: #008000\">\"This is furry sticker of anthro </span><span style=\"color: #d3dff9; text-decoration-color: #d3dff9; font-weight: bold\">fox</span><span style=\"color: #008000; text-decoration-color: #008000\">.\"</span>\n",
       "</pre>\n"
      ],
      "text/plain": [
       "Tag \u001b[32m\"\u001b[0m\u001b[1;38;2;211;223;249mfox\u001b[0m\u001b[32m\"\u001b[0m found in caption \u001b[32m\"This is furry sticker of anthro \u001b[0m\u001b[1;38;2;211;223;249mfox\u001b[0m\u001b[32m.\"\u001b[0m\n"
      ]
     },
     "metadata": {},
     "output_type": "display_data"
    },
    {
     "data": {
      "text/html": [
       "<pre style=\"white-space:pre;overflow-x:auto;line-height:normal;font-family:Menlo,'DejaVu Sans Mono',consolas,'Courier New',monospace\">Tag <span style=\"color: #008000; text-decoration-color: #008000\">\"</span><span style=\"color: #3a2cee; text-decoration-color: #3a2cee; font-weight: bold\">fox</span><span style=\"color: #008000; text-decoration-color: #008000\">\"</span> found in caption <span style=\"color: #008000; text-decoration-color: #008000\">\"The </span><span style=\"color: #3a2cee; text-decoration-color: #3a2cee; font-weight: bold\">fox</span><span style=\"color: #008000; text-decoration-color: #008000\"> is depicted in a thoughtful pose with one hand on its chin and a slightly </span>\n",
       "<span style=\"color: #008000; text-decoration-color: #008000\">furrowed brow as if it's pondering.\"</span>\n",
       "</pre>\n"
      ],
      "text/plain": [
       "Tag \u001b[32m\"\u001b[0m\u001b[1;38;2;58;44;238mfox\u001b[0m\u001b[32m\"\u001b[0m found in caption \u001b[32m\"The \u001b[0m\u001b[1;38;2;58;44;238mfox\u001b[0m\u001b[32m is depicted in a thoughtful pose with one hand on its chin and a slightly \u001b[0m\n",
       "\u001b[32mfurrowed brow as if it's pondering.\"\u001b[0m\n"
      ]
     },
     "metadata": {},
     "output_type": "display_data"
    },
    {
     "data": {
      "text/html": [
       "<pre style=\"white-space:pre;overflow-x:auto;line-height:normal;font-family:Menlo,'DejaVu Sans Mono',consolas,'Courier New',monospace\">Tag <span style=\"color: #008000; text-decoration-color: #008000\">\"</span><span style=\"color: #3df1b1; text-decoration-color: #3df1b1; font-weight: bold\">fox</span><span style=\"color: #008000; text-decoration-color: #008000\">\"</span> found in caption <span style=\"color: #008000; text-decoration-color: #008000\">\"The </span><span style=\"color: #3df1b1; text-decoration-color: #3df1b1; font-weight: bold\">fox</span><span style=\"color: #008000; text-decoration-color: #008000\"> has a red and brown coat with white underbelly and a tail that is red at the </span>\n",
       "<span style=\"color: #008000; text-decoration-color: #008000\">base and white at the tip.\"</span>\n",
       "</pre>\n"
      ],
      "text/plain": [
       "Tag \u001b[32m\"\u001b[0m\u001b[1;38;2;61;241;177mfox\u001b[0m\u001b[32m\"\u001b[0m found in caption \u001b[32m\"The \u001b[0m\u001b[1;38;2;61;241;177mfox\u001b[0m\u001b[32m has a red and brown coat with white underbelly and a tail that is red at the \u001b[0m\n",
       "\u001b[32mbase and white at the tip.\"\u001b[0m\n"
      ]
     },
     "metadata": {},
     "output_type": "display_data"
    },
    {
     "data": {
      "text/html": [
       "<pre style=\"white-space:pre;overflow-x:auto;line-height:normal;font-family:Menlo,'DejaVu Sans Mono',consolas,'Courier New',monospace\">Tag <span style=\"color: #008000; text-decoration-color: #008000\">\"</span><span style=\"color: #bbdc7d; text-decoration-color: #bbdc7d; font-weight: bold\">fox</span><span style=\"color: #008000; text-decoration-color: #008000\">\"</span> found in caption <span style=\"color: #008000; text-decoration-color: #008000\">\"The </span><span style=\"color: #bbdc7d; text-decoration-color: #bbdc7d; font-weight: bold\">fox</span><span style=\"color: #008000; text-decoration-color: #008000\"> has green eyes and is wearing a small grey hat.\"</span>\n",
       "</pre>\n"
      ],
      "text/plain": [
       "Tag \u001b[32m\"\u001b[0m\u001b[1;38;2;187;220;125mfox\u001b[0m\u001b[32m\"\u001b[0m found in caption \u001b[32m\"The \u001b[0m\u001b[1;38;2;187;220;125mfox\u001b[0m\u001b[32m has green eyes and is wearing a small grey hat.\"\u001b[0m\n"
      ]
     },
     "metadata": {},
     "output_type": "display_data"
    },
    {
     "data": {
      "text/html": [
       "<pre style=\"white-space:pre;overflow-x:auto;line-height:normal;font-family:Menlo,'DejaVu Sans Mono',consolas,'Courier New',monospace\">Tag <span style=\"color: #008000; text-decoration-color: #008000\">\"</span><span style=\"color: #441be8; text-decoration-color: #441be8; font-weight: bold\">fox</span><span style=\"color: #008000; text-decoration-color: #008000\">\"</span> found in caption <span style=\"color: #008000; text-decoration-color: #008000\">\"There's also a blue circle with an 'X' in it next to the </span><span style=\"color: #441be8; text-decoration-color: #441be8; font-weight: bold\">fox</span><span style=\"color: #008000; text-decoration-color: #008000\"> which indicates something </span>\n",
       "<span style=\"color: #008000; text-decoration-color: #008000\">wrong or incorrect and it is doubting it.\"</span>\n",
       "</pre>\n"
      ],
      "text/plain": [
       "Tag \u001b[32m\"\u001b[0m\u001b[1;38;2;68;27;232mfox\u001b[0m\u001b[32m\"\u001b[0m found in caption \u001b[32m\"There's also a blue circle with an 'X' in it next to the \u001b[0m\u001b[1;38;2;68;27;232mfox\u001b[0m\u001b[32m which indicates something \u001b[0m\n",
       "\u001b[32mwrong or incorrect and it is doubting it.\"\u001b[0m\n"
      ]
     },
     "metadata": {},
     "output_type": "display_data"
    },
    {
     "data": {
      "text/html": [
       "<pre style=\"white-space:pre;overflow-x:auto;line-height:normal;font-family:Menlo,'DejaVu Sans Mono',consolas,'Courier New',monospace\">Tag <span style=\"color: #008000; text-decoration-color: #008000\">\"</span><span style=\"color: #318eec; text-decoration-color: #318eec; font-weight: bold\">anthro</span><span style=\"color: #008000; text-decoration-color: #008000\">\"</span> found in caption <span style=\"color: #008000; text-decoration-color: #008000\">\"This is furry sticker of </span><span style=\"color: #318eec; text-decoration-color: #318eec; font-weight: bold\">anthro</span><span style=\"color: #008000; text-decoration-color: #008000\"> fox.\"</span>\n",
       "</pre>\n"
      ],
      "text/plain": [
       "Tag \u001b[32m\"\u001b[0m\u001b[1;38;2;49;142;236manthro\u001b[0m\u001b[32m\"\u001b[0m found in caption \u001b[32m\"This is furry sticker of \u001b[0m\u001b[1;38;2;49;142;236manthro\u001b[0m\u001b[32m fox.\"\u001b[0m\n"
      ]
     },
     "metadata": {},
     "output_type": "display_data"
    },
    {
     "data": {
      "text/html": [
       "<pre style=\"white-space:pre;overflow-x:auto;line-height:normal;font-family:Menlo,'DejaVu Sans Mono',consolas,'Courier New',monospace\">Tag <span style=\"color: #008000; text-decoration-color: #008000\">\"</span><span style=\"color: #9a447c; text-decoration-color: #9a447c; font-weight: bold\">green eyes</span><span style=\"color: #008000; text-decoration-color: #008000\">\"</span> found in caption <span style=\"color: #008000; text-decoration-color: #008000\">\"The fox has </span><span style=\"color: #9a447c; text-decoration-color: #9a447c; font-weight: bold\">green eyes</span><span style=\"color: #008000; text-decoration-color: #008000\"> and is wearing a small grey hat.\"</span>\n",
       "</pre>\n"
      ],
      "text/plain": [
       "Tag \u001b[32m\"\u001b[0m\u001b[1;38;2;154;68;124mgreen eyes\u001b[0m\u001b[32m\"\u001b[0m found in caption \u001b[32m\"The fox has \u001b[0m\u001b[1;38;2;154;68;124mgreen eyes\u001b[0m\u001b[32m and is wearing a small grey hat.\"\u001b[0m\n"
      ]
     },
     "metadata": {},
     "output_type": "display_data"
    },
    {
     "data": {
      "text/html": [
       "<pre style=\"white-space:pre;overflow-x:auto;line-height:normal;font-family:Menlo,'DejaVu Sans Mono',consolas,'Courier New',monospace\">Tag <span style=\"color: #008000; text-decoration-color: #008000\">\"</span><span style=\"color: #404915; text-decoration-color: #404915; font-weight: bold\">fur</span><span style=\"color: #008000; text-decoration-color: #008000\">\"</span> found in caption <span style=\"color: #008000; text-decoration-color: #008000\">\"This is </span><span style=\"color: #404915; text-decoration-color: #404915; font-weight: bold\">fur</span><span style=\"color: #008000; text-decoration-color: #008000\">ry sticker of anthro fox.\"</span>\n",
       "</pre>\n"
      ],
      "text/plain": [
       "Tag \u001b[32m\"\u001b[0m\u001b[1;38;2;64;73;21mfur\u001b[0m\u001b[32m\"\u001b[0m found in caption \u001b[32m\"This is \u001b[0m\u001b[1;38;2;64;73;21mfur\u001b[0m\u001b[32mry sticker of anthro fox.\"\u001b[0m\n"
      ]
     },
     "metadata": {},
     "output_type": "display_data"
    },
    {
     "data": {
      "text/html": [
       "<pre style=\"white-space:pre;overflow-x:auto;line-height:normal;font-family:Menlo,'DejaVu Sans Mono',consolas,'Courier New',monospace\">Tag <span style=\"color: #008000; text-decoration-color: #008000\">\"</span><span style=\"color: #95d462; text-decoration-color: #95d462; font-weight: bold\">fur</span><span style=\"color: #008000; text-decoration-color: #008000\">\"</span> found in caption <span style=\"color: #008000; text-decoration-color: #008000\">\"The fox is depicted in a thoughtful pose with one hand on its chin and a slightly </span>\n",
       "<span style=\"color: #95d462; text-decoration-color: #95d462; font-weight: bold\">fur</span><span style=\"color: #008000; text-decoration-color: #008000\">rowed brow as if it's pondering.\"</span>\n",
       "</pre>\n"
      ],
      "text/plain": [
       "Tag \u001b[32m\"\u001b[0m\u001b[1;38;2;149;212;98mfur\u001b[0m\u001b[32m\"\u001b[0m found in caption \u001b[32m\"The fox is depicted in a thoughtful pose with one hand on its chin and a slightly \u001b[0m\n",
       "\u001b[1;38;2;149;212;98mfur\u001b[0m\u001b[32mrowed brow as if it's pondering.\"\u001b[0m\n"
      ]
     },
     "metadata": {},
     "output_type": "display_data"
    },
    {
     "data": {
      "text/html": [
       "<pre style=\"white-space:pre;overflow-x:auto;line-height:normal;font-family:Menlo,'DejaVu Sans Mono',consolas,'Courier New',monospace\">Tag <span style=\"color: #008000; text-decoration-color: #008000\">\"</span><span style=\"color: #35cbb5; text-decoration-color: #35cbb5; font-weight: bold\">hat</span><span style=\"color: #008000; text-decoration-color: #008000\">\"</span> found in caption <span style=\"color: #008000; text-decoration-color: #008000\">\"The fox has a red and brown coat with white underbelly and a tail t</span><span style=\"color: #35cbb5; text-decoration-color: #35cbb5; font-weight: bold\">hat</span><span style=\"color: #008000; text-decoration-color: #008000\"> is red at the </span>\n",
       "<span style=\"color: #008000; text-decoration-color: #008000\">base and white at the tip.\"</span>\n",
       "</pre>\n"
      ],
      "text/plain": [
       "Tag \u001b[32m\"\u001b[0m\u001b[1;38;2;53;203;181mhat\u001b[0m\u001b[32m\"\u001b[0m found in caption \u001b[32m\"The fox has a red and brown coat with white underbelly and a tail t\u001b[0m\u001b[1;38;2;53;203;181mhat\u001b[0m\u001b[32m is red at the \u001b[0m\n",
       "\u001b[32mbase and white at the tip.\"\u001b[0m\n"
      ]
     },
     "metadata": {},
     "output_type": "display_data"
    },
    {
     "data": {
      "text/html": [
       "<pre style=\"white-space:pre;overflow-x:auto;line-height:normal;font-family:Menlo,'DejaVu Sans Mono',consolas,'Courier New',monospace\">Tag <span style=\"color: #008000; text-decoration-color: #008000\">\"</span><span style=\"color: #d05aa2; text-decoration-color: #d05aa2; font-weight: bold\">hat</span><span style=\"color: #008000; text-decoration-color: #008000\">\"</span> found in caption <span style=\"color: #008000; text-decoration-color: #008000\">\"The fox has green eyes and is wearing a small grey </span><span style=\"color: #d05aa2; text-decoration-color: #d05aa2; font-weight: bold\">hat</span><span style=\"color: #008000; text-decoration-color: #008000\">.\"</span>\n",
       "</pre>\n"
      ],
      "text/plain": [
       "Tag \u001b[32m\"\u001b[0m\u001b[1;38;2;208;90;162mhat\u001b[0m\u001b[32m\"\u001b[0m found in caption \u001b[32m\"The fox has green eyes and is wearing a small grey \u001b[0m\u001b[1;38;2;208;90;162mhat\u001b[0m\u001b[32m.\"\u001b[0m\n"
      ]
     },
     "metadata": {},
     "output_type": "display_data"
    },
    {
     "data": {
      "text/html": [
       "<pre style=\"white-space:pre;overflow-x:auto;line-height:normal;font-family:Menlo,'DejaVu Sans Mono',consolas,'Courier New',monospace\">C:\\Users\\kade\\Desktop\\training_dir_staging\\1_furry_sticker\\cd363fa50058989fb9e47cde17599357.txt\n",
       "</pre>\n"
      ],
      "text/plain": [
       "C:\\Users\\kade\\Desktop\\training_dir_staging\\1_furry_sticker\\cd363fa50058989fb9e47cde17599357.txt\n"
      ]
     },
     "metadata": {},
     "output_type": "display_data"
    },
    {
     "data": {
      "text/html": [
       "<pre style=\"white-space:pre;overflow-x:auto;line-height:normal;font-family:Menlo,'DejaVu Sans Mono',consolas,'Courier New',monospace\">Tag <span style=\"color: #008000; text-decoration-color: #008000\">\"</span><span style=\"color: #f2e3c9; text-decoration-color: #f2e3c9; font-weight: bold\">fur</span><span style=\"color: #008000; text-decoration-color: #008000\">\"</span> found in caption <span style=\"color: #008000; text-decoration-color: #008000\">\"It has a light purple </span><span style=\"color: #f2e3c9; text-decoration-color: #f2e3c9; font-weight: bold\">fur</span><span style=\"color: #008000; text-decoration-color: #008000\"> with large expressive eyes and an open mouth which appears to</span>\n",
       "<span style=\"color: #008000; text-decoration-color: #008000\">be shouting.\"</span>\n",
       "</pre>\n"
      ],
      "text/plain": [
       "Tag \u001b[32m\"\u001b[0m\u001b[1;38;2;242;227;201mfur\u001b[0m\u001b[32m\"\u001b[0m found in caption \u001b[32m\"It has a light purple \u001b[0m\u001b[1;38;2;242;227;201mfur\u001b[0m\u001b[32m with large expressive eyes and an open mouth which appears to\u001b[0m\n",
       "\u001b[32mbe shouting.\"\u001b[0m\n"
      ]
     },
     "metadata": {},
     "output_type": "display_data"
    },
    {
     "data": {
      "text/html": [
       "<pre style=\"white-space:pre;overflow-x:auto;line-height:normal;font-family:Menlo,'DejaVu Sans Mono',consolas,'Courier New',monospace\">Tag <span style=\"color: #008000; text-decoration-color: #008000\">\"</span><span style=\"color: #bfaf16; text-decoration-color: #bfaf16; font-weight: bold\">open mouth</span><span style=\"color: #008000; text-decoration-color: #008000\">\"</span> found in caption <span style=\"color: #008000; text-decoration-color: #008000\">\"It has a light purple fur with large expressive eyes and an </span><span style=\"color: #bfaf16; text-decoration-color: #bfaf16; font-weight: bold\">open mouth</span><span style=\"color: #008000; text-decoration-color: #008000\"> which </span>\n",
       "<span style=\"color: #008000; text-decoration-color: #008000\">appears to be shouting.\"</span>\n",
       "</pre>\n"
      ],
      "text/plain": [
       "Tag \u001b[32m\"\u001b[0m\u001b[1;38;2;191;175;22mopen mouth\u001b[0m\u001b[32m\"\u001b[0m found in caption \u001b[32m\"It has a light purple fur with large expressive eyes and an \u001b[0m\u001b[1;38;2;191;175;22mopen mouth\u001b[0m\u001b[32m which \u001b[0m\n",
       "\u001b[32mappears to be shouting.\"\u001b[0m\n"
      ]
     },
     "metadata": {},
     "output_type": "display_data"
    },
    {
     "data": {
      "text/html": [
       "<pre style=\"white-space:pre;overflow-x:auto;line-height:normal;font-family:Menlo,'DejaVu Sans Mono',consolas,'Courier New',monospace\">Tag <span style=\"color: #008000; text-decoration-color: #008000\">\"</span><span style=\"color: #b5251a; text-decoration-color: #b5251a; font-weight: bold\">anthro</span><span style=\"color: #008000; text-decoration-color: #008000\">\"</span> found in caption <span style=\"color: #008000; text-decoration-color: #008000\">\"This image is a stylized cartoonish sticker of </span><span style=\"color: #b5251a; text-decoration-color: #b5251a; font-weight: bold\">anthro</span><span style=\"color: #008000; text-decoration-color: #008000\"> red panda's face.\"</span>\n",
       "</pre>\n"
      ],
      "text/plain": [
       "Tag \u001b[32m\"\u001b[0m\u001b[1;38;2;181;37;26manthro\u001b[0m\u001b[32m\"\u001b[0m found in caption \u001b[32m\"This image is a stylized cartoonish sticker of \u001b[0m\u001b[1;38;2;181;37;26manthro\u001b[0m\u001b[32m red panda's face.\"\u001b[0m\n"
      ]
     },
     "metadata": {},
     "output_type": "display_data"
    },
    {
     "data": {
      "text/html": [
       "<pre style=\"white-space:pre;overflow-x:auto;line-height:normal;font-family:Menlo,'DejaVu Sans Mono',consolas,'Courier New',monospace\">Tag <span style=\"color: #008000; text-decoration-color: #008000\">\"</span><span style=\"color: #a896a5; text-decoration-color: #a896a5; font-weight: bold\">purple fur</span><span style=\"color: #008000; text-decoration-color: #008000\">\"</span> found in caption <span style=\"color: #008000; text-decoration-color: #008000\">\"It has a light </span><span style=\"color: #a896a5; text-decoration-color: #a896a5; font-weight: bold\">purple fur</span><span style=\"color: #008000; text-decoration-color: #008000\"> with large expressive eyes and an open mouth which </span>\n",
       "<span style=\"color: #008000; text-decoration-color: #008000\">appears to be shouting.\"</span>\n",
       "</pre>\n"
      ],
      "text/plain": [
       "Tag \u001b[32m\"\u001b[0m\u001b[1;38;2;168;150;165mpurple fur\u001b[0m\u001b[32m\"\u001b[0m found in caption \u001b[32m\"It has a light \u001b[0m\u001b[1;38;2;168;150;165mpurple fur\u001b[0m\u001b[32m with large expressive eyes and an open mouth which \u001b[0m\n",
       "\u001b[32mappears to be shouting.\"\u001b[0m\n"
      ]
     },
     "metadata": {},
     "output_type": "display_data"
    },
    {
     "data": {
      "text/html": [
       "<pre style=\"white-space:pre;overflow-x:auto;line-height:normal;font-family:Menlo,'DejaVu Sans Mono',consolas,'Courier New',monospace\">C:\\Users\\kade\\Desktop\\training_dir_staging\\1_furry_sticker\\f1ff847532e185a197af2f14a1fba805.txt\n",
       "</pre>\n"
      ],
      "text/plain": [
       "C:\\Users\\kade\\Desktop\\training_dir_staging\\1_furry_sticker\\f1ff847532e185a197af2f14a1fba805.txt\n"
      ]
     },
     "metadata": {},
     "output_type": "display_data"
    },
    {
     "data": {
      "text/html": [
       "<pre style=\"white-space:pre;overflow-x:auto;line-height:normal;font-family:Menlo,'DejaVu Sans Mono',consolas,'Courier New',monospace\">Tag <span style=\"color: #008000; text-decoration-color: #008000\">\"</span><span style=\"color: #059355; text-decoration-color: #059355; font-weight: bold\">snow leopard</span><span style=\"color: #008000; text-decoration-color: #008000\">\"</span> found in caption <span style=\"color: #008000; text-decoration-color: #008000\">\"This image is a sticker featuring a cartoonish anthro </span><span style=\"color: #059355; text-decoration-color: #059355; font-weight: bold\">snow leopard</span><span style=\"color: #008000; text-decoration-color: #008000\">.\"</span>\n",
       "</pre>\n"
      ],
      "text/plain": [
       "Tag \u001b[32m\"\u001b[0m\u001b[1;38;2;5;147;85msnow leopard\u001b[0m\u001b[32m\"\u001b[0m found in caption \u001b[32m\"This image is a sticker featuring a cartoonish anthro \u001b[0m\u001b[1;38;2;5;147;85msnow leopard\u001b[0m\u001b[32m.\"\u001b[0m\n"
      ]
     },
     "metadata": {},
     "output_type": "display_data"
    },
    {
     "data": {
      "text/html": [
       "<pre style=\"white-space:pre;overflow-x:auto;line-height:normal;font-family:Menlo,'DejaVu Sans Mono',consolas,'Courier New',monospace\">Tag <span style=\"color: #008000; text-decoration-color: #008000\">\"</span><span style=\"color: #399a62; text-decoration-color: #399a62; font-weight: bold\">fur</span><span style=\"color: #008000; text-decoration-color: #008000\">\"</span> found in caption <span style=\"color: #008000; text-decoration-color: #008000\">\"It has gray </span><span style=\"color: #399a62; text-decoration-color: #399a62; font-weight: bold\">fur</span><span style=\"color: #008000; text-decoration-color: #008000\"> with black spots and blue hair.\"</span>\n",
       "</pre>\n"
      ],
      "text/plain": [
       "Tag \u001b[32m\"\u001b[0m\u001b[1;38;2;57;154;98mfur\u001b[0m\u001b[32m\"\u001b[0m found in caption \u001b[32m\"It has gray \u001b[0m\u001b[1;38;2;57;154;98mfur\u001b[0m\u001b[32m with black spots and blue hair.\"\u001b[0m\n"
      ]
     },
     "metadata": {},
     "output_type": "display_data"
    },
    {
     "data": {
      "text/html": [
       "<pre style=\"white-space:pre;overflow-x:auto;line-height:normal;font-family:Menlo,'DejaVu Sans Mono',consolas,'Courier New',monospace\">Tag <span style=\"color: #008000; text-decoration-color: #008000\">\"</span><span style=\"color: #427468; text-decoration-color: #427468; font-weight: bold\">text</span><span style=\"color: #008000; text-decoration-color: #008000\">\"</span> found in caption <span style=\"color: #008000; text-decoration-color: #008000\">\"The speech bubble's background is white and the </span><span style=\"color: #427468; text-decoration-color: #427468; font-weight: bold\">text</span><span style=\"color: #008000; text-decoration-color: #008000\"> 'MOW!' is written in large bold </span>\n",
       "<span style=\"color: #008000; text-decoration-color: #008000\">black letters.\"</span>\n",
       "</pre>\n"
      ],
      "text/plain": [
       "Tag \u001b[32m\"\u001b[0m\u001b[1;38;2;66;116;104mtext\u001b[0m\u001b[32m\"\u001b[0m found in caption \u001b[32m\"The speech bubble's background is white and the \u001b[0m\u001b[1;38;2;66;116;104mtext\u001b[0m\u001b[32m 'MOW!' is written in large bold \u001b[0m\n",
       "\u001b[32mblack letters.\"\u001b[0m\n"
      ]
     },
     "metadata": {},
     "output_type": "display_data"
    },
    {
     "data": {
      "text/html": [
       "<pre style=\"white-space:pre;overflow-x:auto;line-height:normal;font-family:Menlo,'DejaVu Sans Mono',consolas,'Courier New',monospace\">Tag <span style=\"color: #008000; text-decoration-color: #008000\">\"</span><span style=\"color: #290e1e; text-decoration-color: #290e1e; font-weight: bold\">hair</span><span style=\"color: #008000; text-decoration-color: #008000\">\"</span> found in caption <span style=\"color: #008000; text-decoration-color: #008000\">\"It has gray fur with black spots and blue </span><span style=\"color: #290e1e; text-decoration-color: #290e1e; font-weight: bold\">hair</span><span style=\"color: #008000; text-decoration-color: #008000\">.\"</span>\n",
       "</pre>\n"
      ],
      "text/plain": [
       "Tag \u001b[32m\"\u001b[0m\u001b[1;38;2;41;14;30mhair\u001b[0m\u001b[32m\"\u001b[0m found in caption \u001b[32m\"It has gray fur with black spots and blue \u001b[0m\u001b[1;38;2;41;14;30mhair\u001b[0m\u001b[32m.\"\u001b[0m\n"
      ]
     },
     "metadata": {},
     "output_type": "display_data"
    },
    {
     "data": {
      "text/html": [
       "<pre style=\"white-space:pre;overflow-x:auto;line-height:normal;font-family:Menlo,'DejaVu Sans Mono',consolas,'Courier New',monospace\">Tag <span style=\"color: #008000; text-decoration-color: #008000\">\"</span><span style=\"color: #9c46b8; text-decoration-color: #9c46b8; font-weight: bold\">blue hair</span><span style=\"color: #008000; text-decoration-color: #008000\">\"</span> found in caption <span style=\"color: #008000; text-decoration-color: #008000\">\"It has gray fur with black spots and </span><span style=\"color: #9c46b8; text-decoration-color: #9c46b8; font-weight: bold\">blue hair</span><span style=\"color: #008000; text-decoration-color: #008000\">.\"</span>\n",
       "</pre>\n"
      ],
      "text/plain": [
       "Tag \u001b[32m\"\u001b[0m\u001b[1;38;2;156;70;184mblue hair\u001b[0m\u001b[32m\"\u001b[0m found in caption \u001b[32m\"It has gray fur with black spots and \u001b[0m\u001b[1;38;2;156;70;184mblue hair\u001b[0m\u001b[32m.\"\u001b[0m\n"
      ]
     },
     "metadata": {},
     "output_type": "display_data"
    },
    {
     "data": {
      "text/html": [
       "<pre style=\"white-space:pre;overflow-x:auto;line-height:normal;font-family:Menlo,'DejaVu Sans Mono',consolas,'Courier New',monospace\">C:\\Users\\kade\\Desktop\\training_dir_staging\\1_furry_sticker\\f9468ada1a62410d8d0891cabe0c538a.txt\n",
       "</pre>\n"
      ],
      "text/plain": [
       "C:\\Users\\kade\\Desktop\\training_dir_staging\\1_furry_sticker\\f9468ada1a62410d8d0891cabe0c538a.txt\n"
      ]
     },
     "metadata": {},
     "output_type": "display_data"
    },
    {
     "data": {
      "text/html": [
       "<pre style=\"white-space:pre;overflow-x:auto;line-height:normal;font-family:Menlo,'DejaVu Sans Mono',consolas,'Courier New',monospace\">Tag <span style=\"color: #008000; text-decoration-color: #008000\">\"</span><span style=\"color: #c5d695; text-decoration-color: #c5d695; font-weight: bold\">fox</span><span style=\"color: #008000; text-decoration-color: #008000\">\"</span> found in caption <span style=\"color: #008000; text-decoration-color: #008000\">\"This image is an illustration of anthro </span><span style=\"color: #c5d695; text-decoration-color: #c5d695; font-weight: bold\">fox</span><span style=\"color: #008000; text-decoration-color: #008000\"> with a blue hair on its head.\"</span>\n",
       "</pre>\n"
      ],
      "text/plain": [
       "Tag \u001b[32m\"\u001b[0m\u001b[1;38;2;197;214;149mfox\u001b[0m\u001b[32m\"\u001b[0m found in caption \u001b[32m\"This image is an illustration of anthro \u001b[0m\u001b[1;38;2;197;214;149mfox\u001b[0m\u001b[32m with a blue hair on its head.\"\u001b[0m\n"
      ]
     },
     "metadata": {},
     "output_type": "display_data"
    },
    {
     "data": {
      "text/html": [
       "<pre style=\"white-space:pre;overflow-x:auto;line-height:normal;font-family:Menlo,'DejaVu Sans Mono',consolas,'Courier New',monospace\">Tag <span style=\"color: #008000; text-decoration-color: #008000\">\"</span><span style=\"color: #d8f7c8; text-decoration-color: #d8f7c8; font-weight: bold\">fox</span><span style=\"color: #008000; text-decoration-color: #008000\">\"</span> found in caption <span style=\"color: #008000; text-decoration-color: #008000\">\"The </span><span style=\"color: #d8f7c8; text-decoration-color: #d8f7c8; font-weight: bold\">fox</span><span style=\"color: #008000; text-decoration-color: #008000\"> has a large tail that is half red and half white.\"</span>\n",
       "</pre>\n"
      ],
      "text/plain": [
       "Tag \u001b[32m\"\u001b[0m\u001b[1;38;2;216;247;200mfox\u001b[0m\u001b[32m\"\u001b[0m found in caption \u001b[32m\"The \u001b[0m\u001b[1;38;2;216;247;200mfox\u001b[0m\u001b[32m has a large tail that is half red and half white.\"\u001b[0m\n"
      ]
     },
     "metadata": {},
     "output_type": "display_data"
    },
    {
     "data": {
      "text/html": [
       "<pre style=\"white-space:pre;overflow-x:auto;line-height:normal;font-family:Menlo,'DejaVu Sans Mono',consolas,'Courier New',monospace\">Tag <span style=\"color: #008000; text-decoration-color: #008000\">\"</span><span style=\"color: #61d763; text-decoration-color: #61d763; font-weight: bold\">anthro</span><span style=\"color: #008000; text-decoration-color: #008000\">\"</span> found in caption <span style=\"color: #008000; text-decoration-color: #008000\">\"This image is an illustration of </span><span style=\"color: #61d763; text-decoration-color: #61d763; font-weight: bold\">anthro</span><span style=\"color: #008000; text-decoration-color: #008000\"> fox with a blue hair on its head.\"</span>\n",
       "</pre>\n"
      ],
      "text/plain": [
       "Tag \u001b[32m\"\u001b[0m\u001b[1;38;2;97;215;99manthro\u001b[0m\u001b[32m\"\u001b[0m found in caption \u001b[32m\"This image is an illustration of \u001b[0m\u001b[1;38;2;97;215;99manthro\u001b[0m\u001b[32m fox with a blue hair on its head.\"\u001b[0m\n"
      ]
     },
     "metadata": {},
     "output_type": "display_data"
    },
    {
     "data": {
      "text/html": [
       "<pre style=\"white-space:pre;overflow-x:auto;line-height:normal;font-family:Menlo,'DejaVu Sans Mono',consolas,'Courier New',monospace\">Tag <span style=\"color: #008000; text-decoration-color: #008000\">\"</span><span style=\"color: #469fa6; text-decoration-color: #469fa6; font-weight: bold\">headphones</span><span style=\"color: #008000; text-decoration-color: #008000\">\"</span> found in caption <span style=\"color: #008000; text-decoration-color: #008000\">\"The character is wearing </span><span style=\"color: #469fa6; text-decoration-color: #469fa6; font-weight: bold\">headphones</span><span style=\"color: #008000; text-decoration-color: #008000\"> of which only one is visible.\"</span>\n",
       "</pre>\n"
      ],
      "text/plain": [
       "Tag \u001b[32m\"\u001b[0m\u001b[1;38;2;70;159;166mheadphones\u001b[0m\u001b[32m\"\u001b[0m found in caption \u001b[32m\"The character is wearing \u001b[0m\u001b[1;38;2;70;159;166mheadphones\u001b[0m\u001b[32m of which only one is visible.\"\u001b[0m\n"
      ]
     },
     "metadata": {},
     "output_type": "display_data"
    },
    {
     "data": {
      "text/html": [
       "<pre style=\"white-space:pre;overflow-x:auto;line-height:normal;font-family:Menlo,'DejaVu Sans Mono',consolas,'Courier New',monospace\">Tag <span style=\"color: #008000; text-decoration-color: #008000\">\"</span><span style=\"color: #24bb7a; text-decoration-color: #24bb7a; font-weight: bold\">blue hair</span><span style=\"color: #008000; text-decoration-color: #008000\">\"</span> found in caption <span style=\"color: #008000; text-decoration-color: #008000\">\"This image is an illustration of anthro fox with a </span><span style=\"color: #24bb7a; text-decoration-color: #24bb7a; font-weight: bold\">blue hair</span><span style=\"color: #008000; text-decoration-color: #008000\"> on its head.\"</span>\n",
       "</pre>\n"
      ],
      "text/plain": [
       "Tag \u001b[32m\"\u001b[0m\u001b[1;38;2;36;187;122mblue hair\u001b[0m\u001b[32m\"\u001b[0m found in caption \u001b[32m\"This image is an illustration of anthro fox with a \u001b[0m\u001b[1;38;2;36;187;122mblue hair\u001b[0m\u001b[32m on its head.\"\u001b[0m\n"
      ]
     },
     "metadata": {},
     "output_type": "display_data"
    },
    {
     "data": {
      "text/html": [
       "<pre style=\"white-space:pre;overflow-x:auto;line-height:normal;font-family:Menlo,'DejaVu Sans Mono',consolas,'Courier New',monospace\">Tag <span style=\"color: #008000; text-decoration-color: #008000\">\"</span><span style=\"color: #2f3803; text-decoration-color: #2f3803; font-weight: bold\">surprise</span><span style=\"color: #008000; text-decoration-color: #008000\">\"</span> found in caption <span style=\"color: #008000; text-decoration-color: #008000\">\"The character is in a </span><span style=\"color: #2f3803; text-decoration-color: #2f3803; font-weight: bold\">surprise</span><span style=\"color: #008000; text-decoration-color: #008000\">d and startled pose.\"</span>\n",
       "</pre>\n"
      ],
      "text/plain": [
       "Tag \u001b[32m\"\u001b[0m\u001b[1;38;2;47;56;3msurprise\u001b[0m\u001b[32m\"\u001b[0m found in caption \u001b[32m\"The character is in a \u001b[0m\u001b[1;38;2;47;56;3msurprise\u001b[0m\u001b[32md and startled pose.\"\u001b[0m\n"
      ]
     },
     "metadata": {},
     "output_type": "display_data"
    },
    {
     "data": {
      "text/html": [
       "<pre style=\"white-space:pre;overflow-x:auto;line-height:normal;font-family:Menlo,'DejaVu Sans Mono',consolas,'Courier New',monospace\">Tag <span style=\"color: #008000; text-decoration-color: #008000\">\"</span><span style=\"color: #bc0775; text-decoration-color: #bc0775; font-weight: bold\">tail</span><span style=\"color: #008000; text-decoration-color: #008000\">\"</span> found in caption <span style=\"color: #008000; text-decoration-color: #008000\">\"The fox has a large </span><span style=\"color: #bc0775; text-decoration-color: #bc0775; font-weight: bold\">tail</span><span style=\"color: #008000; text-decoration-color: #008000\"> that is half red and half white.\"</span>\n",
       "</pre>\n"
      ],
      "text/plain": [
       "Tag \u001b[32m\"\u001b[0m\u001b[1;38;2;188;7;117mtail\u001b[0m\u001b[32m\"\u001b[0m found in caption \u001b[32m\"The fox has a large \u001b[0m\u001b[1;38;2;188;7;117mtail\u001b[0m\u001b[32m that is half red and half white.\"\u001b[0m\n"
      ]
     },
     "metadata": {},
     "output_type": "display_data"
    },
    {
     "data": {
      "text/html": [
       "<pre style=\"white-space:pre;overflow-x:auto;line-height:normal;font-family:Menlo,'DejaVu Sans Mono',consolas,'Courier New',monospace\">Tag <span style=\"color: #008000; text-decoration-color: #008000\">\"</span><span style=\"color: #515121; text-decoration-color: #515121; font-weight: bold\">hair</span><span style=\"color: #008000; text-decoration-color: #008000\">\"</span> found in caption <span style=\"color: #008000; text-decoration-color: #008000\">\"This image is an illustration of anthro fox with a blue </span><span style=\"color: #515121; text-decoration-color: #515121; font-weight: bold\">hair</span><span style=\"color: #008000; text-decoration-color: #008000\"> on its head.\"</span>\n",
       "</pre>\n"
      ],
      "text/plain": [
       "Tag \u001b[32m\"\u001b[0m\u001b[1;38;2;81;81;33mhair\u001b[0m\u001b[32m\"\u001b[0m found in caption \u001b[32m\"This image is an illustration of anthro fox with a blue \u001b[0m\u001b[1;38;2;81;81;33mhair\u001b[0m\u001b[32m on its head.\"\u001b[0m\n"
      ]
     },
     "metadata": {},
     "output_type": "display_data"
    }
   ],
   "source": [
    "import os\n",
    "import random\n",
    "from rich import print\n",
    "from rich.console import Console\n",
    "from rich.style import Style\n",
    "from rich.color import Color\n",
    "\n",
    "def find_files(path, extension):\n",
    "    for root, dirs, files in os.walk(path):\n",
    "        for file in files:\n",
    "            if file.endswith(extension):\n",
    "                yield os.path.join(root, file)\n",
    "\n",
    "def process_file(file_path):\n",
    "    console = Console()\n",
    "    file_path_printed = False  # Flag to track if file path has been printed\n",
    "    with open(file_path, 'r') as file:\n",
    "        content = file.read()\n",
    "        elements = content.split(',')\n",
    "        captions = [element.strip() for element in elements if '.' in element]\n",
    "        tags = [element.strip() for element in elements if '.' not in element and element.strip() != '']\n",
    "        for tag in tags:\n",
    "            for caption in captions:\n",
    "                if tag in caption:\n",
    "                    if not file_path_printed:\n",
    "                        print(file_path)  # Print file path only once per file\n",
    "                        file_path_printed = True\n",
    "                    color = Color.from_rgb(random.randint(0, 255), random.randint(0, 255), random.randint(0, 255))\n",
    "                    style = Style(color=color, bold=True)\n",
    "                    highlighted_caption = caption.replace(tag, f\"[{style}]{tag}[/{style}]\")\n",
    "                    console.print(f'Tag \"[{style}]{tag}[/{style}]\" found in caption \"{highlighted_caption}\"')\n",
    "\n",
    "def main():\n",
    "    path = 'C:\\\\Users\\\\kade\\\\Desktop\\\\training_dir_staging'\n",
    "    for file_path in find_files(path, '.txt'):\n",
    "        process_file(file_path)\n",
    "\n",
    "if __name__ == \"__main__\":\n",
    "    main()"
   ]
  }
 ],
 "metadata": {
  "kernelspec": {
   "display_name": "base",
   "language": "python",
   "name": "python3"
  },
  "language_info": {
   "codemirror_mode": {
    "name": "ipython",
    "version": 3
   },
   "file_extension": ".py",
   "mimetype": "text/x-python",
   "name": "python",
   "nbconvert_exporter": "python",
   "pygments_lexer": "ipython3",
   "version": "3.12.2"
  }
 },
 "nbformat": 4,
 "nbformat_minor": 2
}
