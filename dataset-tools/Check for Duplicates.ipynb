{
 "cells": [
  {
   "cell_type": "markdown",
   "metadata": {},
   "source": [
    "## Check for Duplicate Words Between Captions and Tags\n",
    "----\n",
    "\n",
    "Awoo"
   ]
  },
  {
   "cell_type": "code",
   "execution_count": 13,
   "metadata": {},
   "outputs": [
    {
     "data": {
      "text/html": [
       "<pre style=\"white-space:pre;overflow-x:auto;line-height:normal;font-family:Menlo,'DejaVu Sans Mono',consolas,'Courier New',monospace\">C:\\Users\\kade\\Desktop\\training_dir_staging\\1_furry_sticker\\0ad753093ae60a8b9b2aab24b81b3f3d.txt\n",
       "</pre>\n"
      ],
      "text/plain": [
       "C:\\Users\\kade\\Desktop\\training_dir_staging\\1_furry_sticker\\0ad753093ae60a8b9b2aab24b81b3f3d.txt\n"
      ]
     },
     "metadata": {},
     "output_type": "display_data"
    },
    {
     "data": {
      "text/html": [
       "<pre style=\"white-space:pre;overflow-x:auto;line-height:normal;font-family:Menlo,'DejaVu Sans Mono',consolas,'Courier New',monospace\">Tag <span style=\"color: #008000; text-decoration-color: #008000\">\"</span><span style=\"color: #f7565c; text-decoration-color: #f7565c; font-weight: bold\">black background</span><span style=\"color: #008000; text-decoration-color: #008000\">\"</span> found in caption <span style=\"color: #008000; text-decoration-color: #008000\">\"The entire image has a </span><span style=\"color: #f7565c; text-decoration-color: #f7565c; font-weight: bold\">black background</span><span style=\"color: #008000; text-decoration-color: #008000\"> with a white outline around the </span>\n",
       "<span style=\"color: #008000; text-decoration-color: #008000\">character and the texts.\"</span>\n",
       "</pre>\n"
      ],
      "text/plain": [
       "Tag \u001b[32m\"\u001b[0m\u001b[1;38;2;247;86;92mblack background\u001b[0m\u001b[32m\"\u001b[0m found in caption \u001b[32m\"The entire image has a \u001b[0m\u001b[1;38;2;247;86;92mblack background\u001b[0m\u001b[32m with a white outline around the \u001b[0m\n",
       "\u001b[32mcharacter and the texts.\"\u001b[0m\n"
      ]
     },
     "metadata": {},
     "output_type": "display_data"
    },
    {
     "data": {
      "text/html": [
       "<pre style=\"white-space:pre;overflow-x:auto;line-height:normal;font-family:Menlo,'DejaVu Sans Mono',consolas,'Courier New',monospace\">C:\\Users\\kade\\Desktop\\training_dir_staging\\1_furry_sticker\\0ad753093ae60a8b9b2aab24b81b3f3d.txt\n",
       "</pre>\n"
      ],
      "text/plain": [
       "C:\\Users\\kade\\Desktop\\training_dir_staging\\1_furry_sticker\\0ad753093ae60a8b9b2aab24b81b3f3d.txt\n"
      ]
     },
     "metadata": {},
     "output_type": "display_data"
    },
    {
     "data": {
      "text/html": [
       "<pre style=\"white-space:pre;overflow-x:auto;line-height:normal;font-family:Menlo,'DejaVu Sans Mono',consolas,'Courier New',monospace\">Tag <span style=\"color: #008000; text-decoration-color: #008000\">\"</span><span style=\"color: #8c0fe6; text-decoration-color: #8c0fe6; font-weight: bold\">anthro</span><span style=\"color: #008000; text-decoration-color: #008000\">\"</span> found in caption <span style=\"color: #008000; text-decoration-color: #008000\">\"The image showcases </span><span style=\"color: #8c0fe6; text-decoration-color: #8c0fe6; font-weight: bold\">anthro</span><span style=\"color: #008000; text-decoration-color: #008000\"> black panther with dark black spots and large yellow </span>\n",
       "<span style=\"color: #008000; text-decoration-color: #008000\">eyes.\"</span>\n",
       "</pre>\n"
      ],
      "text/plain": [
       "Tag \u001b[32m\"\u001b[0m\u001b[1;38;2;140;15;230manthro\u001b[0m\u001b[32m\"\u001b[0m found in caption \u001b[32m\"The image showcases \u001b[0m\u001b[1;38;2;140;15;230manthro\u001b[0m\u001b[32m black panther with dark black spots and large yellow \u001b[0m\n",
       "\u001b[32meyes.\"\u001b[0m\n"
      ]
     },
     "metadata": {},
     "output_type": "display_data"
    },
    {
     "data": {
      "text/html": [
       "<pre style=\"white-space:pre;overflow-x:auto;line-height:normal;font-family:Menlo,'DejaVu Sans Mono',consolas,'Courier New',monospace\">C:\\Users\\kade\\Desktop\\training_dir_staging\\1_furry_sticker\\0ad753093ae60a8b9b2aab24b81b3f3d.txt\n",
       "</pre>\n"
      ],
      "text/plain": [
       "C:\\Users\\kade\\Desktop\\training_dir_staging\\1_furry_sticker\\0ad753093ae60a8b9b2aab24b81b3f3d.txt\n"
      ]
     },
     "metadata": {},
     "output_type": "display_data"
    },
    {
     "data": {
      "text/html": [
       "<pre style=\"white-space:pre;overflow-x:auto;line-height:normal;font-family:Menlo,'DejaVu Sans Mono',consolas,'Courier New',monospace\">Tag <span style=\"color: #008000; text-decoration-color: #008000\">\"</span><span style=\"color: #f90b47; text-decoration-color: #f90b47; font-weight: bold\">text</span><span style=\"color: #008000; text-decoration-color: #008000\">\"</span> found in caption <span style=\"color: #008000; text-decoration-color: #008000\">\"The entire image has a black background with a white outline around the character and </span>\n",
       "<span style=\"color: #008000; text-decoration-color: #008000\">the </span><span style=\"color: #f90b47; text-decoration-color: #f90b47; font-weight: bold\">text</span><span style=\"color: #008000; text-decoration-color: #008000\">s.\"</span>\n",
       "</pre>\n"
      ],
      "text/plain": [
       "Tag \u001b[32m\"\u001b[0m\u001b[1;38;2;249;11;71mtext\u001b[0m\u001b[32m\"\u001b[0m found in caption \u001b[32m\"The entire image has a black background with a white outline around the character and \u001b[0m\n",
       "\u001b[32mthe \u001b[0m\u001b[1;38;2;249;11;71mtext\u001b[0m\u001b[32ms.\"\u001b[0m\n"
      ]
     },
     "metadata": {},
     "output_type": "display_data"
    },
    {
     "data": {
      "text/html": [
       "<pre style=\"white-space:pre;overflow-x:auto;line-height:normal;font-family:Menlo,'DejaVu Sans Mono',consolas,'Courier New',monospace\">C:\\Users\\kade\\Desktop\\training_dir_staging\\1_furry_sticker\\0d281d07dfc997a5b1037939ccd33eca.txt\n",
       "</pre>\n"
      ],
      "text/plain": [
       "C:\\Users\\kade\\Desktop\\training_dir_staging\\1_furry_sticker\\0d281d07dfc997a5b1037939ccd33eca.txt\n"
      ]
     },
     "metadata": {},
     "output_type": "display_data"
    },
    {
     "data": {
      "text/html": [
       "<pre style=\"white-space:pre;overflow-x:auto;line-height:normal;font-family:Menlo,'DejaVu Sans Mono',consolas,'Courier New',monospace\">Tag <span style=\"color: #008000; text-decoration-color: #008000\">\"</span><span style=\"color: #62caa0; text-decoration-color: #62caa0; font-weight: bold\">furry sticker</span><span style=\"color: #008000; text-decoration-color: #008000\">\"</span> found in caption <span style=\"color: #008000; text-decoration-color: #008000\">\"This image is a </span><span style=\"color: #62caa0; text-decoration-color: #62caa0; font-weight: bold\">furry sticker</span><span style=\"color: #008000; text-decoration-color: #008000\"> of anthro german shepherd dog with a humorous </span>\n",
       "<span style=\"color: #008000; text-decoration-color: #008000\">expression.\"</span>\n",
       "</pre>\n"
      ],
      "text/plain": [
       "Tag \u001b[32m\"\u001b[0m\u001b[1;38;2;98;202;160mfurry sticker\u001b[0m\u001b[32m\"\u001b[0m found in caption \u001b[32m\"This image is a \u001b[0m\u001b[1;38;2;98;202;160mfurry sticker\u001b[0m\u001b[32m of anthro german shepherd dog with a humorous \u001b[0m\n",
       "\u001b[32mexpression.\"\u001b[0m\n"
      ]
     },
     "metadata": {},
     "output_type": "display_data"
    },
    {
     "data": {
      "text/html": [
       "<pre style=\"white-space:pre;overflow-x:auto;line-height:normal;font-family:Menlo,'DejaVu Sans Mono',consolas,'Courier New',monospace\">C:\\Users\\kade\\Desktop\\training_dir_staging\\1_furry_sticker\\0d281d07dfc997a5b1037939ccd33eca.txt\n",
       "</pre>\n"
      ],
      "text/plain": [
       "C:\\Users\\kade\\Desktop\\training_dir_staging\\1_furry_sticker\\0d281d07dfc997a5b1037939ccd33eca.txt\n"
      ]
     },
     "metadata": {},
     "output_type": "display_data"
    },
    {
     "data": {
      "text/html": [
       "<pre style=\"white-space:pre;overflow-x:auto;line-height:normal;font-family:Menlo,'DejaVu Sans Mono',consolas,'Courier New',monospace\">Tag <span style=\"color: #008000; text-decoration-color: #008000\">\"</span><span style=\"color: #6c3376; text-decoration-color: #6c3376; font-weight: bold\">german shepherd</span><span style=\"color: #008000; text-decoration-color: #008000\">\"</span> found in caption <span style=\"color: #008000; text-decoration-color: #008000\">\"This image is a furry sticker of anthro </span><span style=\"color: #6c3376; text-decoration-color: #6c3376; font-weight: bold\">german shepherd</span><span style=\"color: #008000; text-decoration-color: #008000\"> dog with a humorous</span>\n",
       "<span style=\"color: #008000; text-decoration-color: #008000\">expression.\"</span>\n",
       "</pre>\n"
      ],
      "text/plain": [
       "Tag \u001b[32m\"\u001b[0m\u001b[1;38;2;108;51;118mgerman shepherd\u001b[0m\u001b[32m\"\u001b[0m found in caption \u001b[32m\"This image is a furry sticker of anthro \u001b[0m\u001b[1;38;2;108;51;118mgerman shepherd\u001b[0m\u001b[32m dog with a humorous\u001b[0m\n",
       "\u001b[32mexpression.\"\u001b[0m\n"
      ]
     },
     "metadata": {},
     "output_type": "display_data"
    },
    {
     "data": {
      "text/html": [
       "<pre style=\"white-space:pre;overflow-x:auto;line-height:normal;font-family:Menlo,'DejaVu Sans Mono',consolas,'Courier New',monospace\">C:\\Users\\kade\\Desktop\\training_dir_staging\\1_furry_sticker\\0d281d07dfc997a5b1037939ccd33eca.txt\n",
       "</pre>\n"
      ],
      "text/plain": [
       "C:\\Users\\kade\\Desktop\\training_dir_staging\\1_furry_sticker\\0d281d07dfc997a5b1037939ccd33eca.txt\n"
      ]
     },
     "metadata": {},
     "output_type": "display_data"
    },
    {
     "data": {
      "text/html": [
       "<pre style=\"white-space:pre;overflow-x:auto;line-height:normal;font-family:Menlo,'DejaVu Sans Mono',consolas,'Courier New',monospace\">Tag <span style=\"color: #008000; text-decoration-color: #008000\">\"</span><span style=\"color: #47747c; text-decoration-color: #47747c; font-weight: bold\">canine</span><span style=\"color: #008000; text-decoration-color: #008000\">\"</span> found in caption <span style=\"color: #008000; text-decoration-color: #008000\">\"The </span><span style=\"color: #47747c; text-decoration-color: #47747c; font-weight: bold\">canine</span><span style=\"color: #008000; text-decoration-color: #008000\"> appears to be shrugging with its paws raised and wearing dog tag.\"</span>\n",
       "</pre>\n"
      ],
      "text/plain": [
       "Tag \u001b[32m\"\u001b[0m\u001b[1;38;2;71;116;124mcanine\u001b[0m\u001b[32m\"\u001b[0m found in caption \u001b[32m\"The \u001b[0m\u001b[1;38;2;71;116;124mcanine\u001b[0m\u001b[32m appears to be shrugging with its paws raised and wearing dog tag.\"\u001b[0m\n"
      ]
     },
     "metadata": {},
     "output_type": "display_data"
    },
    {
     "data": {
      "text/html": [
       "<pre style=\"white-space:pre;overflow-x:auto;line-height:normal;font-family:Menlo,'DejaVu Sans Mono',consolas,'Courier New',monospace\">C:\\Users\\kade\\Desktop\\training_dir_staging\\1_furry_sticker\\0d281d07dfc997a5b1037939ccd33eca.txt\n",
       "</pre>\n"
      ],
      "text/plain": [
       "C:\\Users\\kade\\Desktop\\training_dir_staging\\1_furry_sticker\\0d281d07dfc997a5b1037939ccd33eca.txt\n"
      ]
     },
     "metadata": {},
     "output_type": "display_data"
    },
    {
     "data": {
      "text/html": [
       "<pre style=\"white-space:pre;overflow-x:auto;line-height:normal;font-family:Menlo,'DejaVu Sans Mono',consolas,'Courier New',monospace\">Tag <span style=\"color: #008000; text-decoration-color: #008000\">\"</span><span style=\"color: #6db12a; text-decoration-color: #6db12a; font-weight: bold\">anthro</span><span style=\"color: #008000; text-decoration-color: #008000\">\"</span> found in caption <span style=\"color: #008000; text-decoration-color: #008000\">\"This image is a furry sticker of </span><span style=\"color: #6db12a; text-decoration-color: #6db12a; font-weight: bold\">anthro</span><span style=\"color: #008000; text-decoration-color: #008000\"> german shepherd dog with a humorous </span>\n",
       "<span style=\"color: #008000; text-decoration-color: #008000\">expression.\"</span>\n",
       "</pre>\n"
      ],
      "text/plain": [
       "Tag \u001b[32m\"\u001b[0m\u001b[1;38;2;109;177;42manthro\u001b[0m\u001b[32m\"\u001b[0m found in caption \u001b[32m\"This image is a furry sticker of \u001b[0m\u001b[1;38;2;109;177;42manthro\u001b[0m\u001b[32m german shepherd dog with a humorous \u001b[0m\n",
       "\u001b[32mexpression.\"\u001b[0m\n"
      ]
     },
     "metadata": {},
     "output_type": "display_data"
    },
    {
     "data": {
      "text/html": [
       "<pre style=\"white-space:pre;overflow-x:auto;line-height:normal;font-family:Menlo,'DejaVu Sans Mono',consolas,'Courier New',monospace\">C:\\Users\\kade\\Desktop\\training_dir_staging\\1_furry_sticker\\0d281d07dfc997a5b1037939ccd33eca.txt\n",
       "</pre>\n"
      ],
      "text/plain": [
       "C:\\Users\\kade\\Desktop\\training_dir_staging\\1_furry_sticker\\0d281d07dfc997a5b1037939ccd33eca.txt\n"
      ]
     },
     "metadata": {},
     "output_type": "display_data"
    },
    {
     "data": {
      "text/html": [
       "<pre style=\"white-space:pre;overflow-x:auto;line-height:normal;font-family:Menlo,'DejaVu Sans Mono',consolas,'Courier New',monospace\">Tag <span style=\"color: #008000; text-decoration-color: #008000\">\"</span><span style=\"color: #be239f; text-decoration-color: #be239f; font-weight: bold\">fur</span><span style=\"color: #008000; text-decoration-color: #008000\">\"</span> found in caption <span style=\"color: #008000; text-decoration-color: #008000\">\"This image is a </span><span style=\"color: #be239f; text-decoration-color: #be239f; font-weight: bold\">fur</span><span style=\"color: #008000; text-decoration-color: #008000\">ry sticker of anthro german shepherd dog with a humorous </span>\n",
       "<span style=\"color: #008000; text-decoration-color: #008000\">expression.\"</span>\n",
       "</pre>\n"
      ],
      "text/plain": [
       "Tag \u001b[32m\"\u001b[0m\u001b[1;38;2;190;35;159mfur\u001b[0m\u001b[32m\"\u001b[0m found in caption \u001b[32m\"This image is a \u001b[0m\u001b[1;38;2;190;35;159mfur\u001b[0m\u001b[32mry sticker of anthro german shepherd dog with a humorous \u001b[0m\n",
       "\u001b[32mexpression.\"\u001b[0m\n"
      ]
     },
     "metadata": {},
     "output_type": "display_data"
    },
    {
     "data": {
      "text/html": [
       "<pre style=\"white-space:pre;overflow-x:auto;line-height:normal;font-family:Menlo,'DejaVu Sans Mono',consolas,'Courier New',monospace\">C:\\Users\\kade\\Desktop\\training_dir_staging\\1_furry_sticker\\0d281d07dfc997a5b1037939ccd33eca.txt\n",
       "</pre>\n"
      ],
      "text/plain": [
       "C:\\Users\\kade\\Desktop\\training_dir_staging\\1_furry_sticker\\0d281d07dfc997a5b1037939ccd33eca.txt\n"
      ]
     },
     "metadata": {},
     "output_type": "display_data"
    },
    {
     "data": {
      "text/html": [
       "<pre style=\"white-space:pre;overflow-x:auto;line-height:normal;font-family:Menlo,'DejaVu Sans Mono',consolas,'Courier New',monospace\">Tag <span style=\"color: #008000; text-decoration-color: #008000\">\"</span><span style=\"color: #a6d6ea; text-decoration-color: #a6d6ea; font-weight: bold\">outline</span><span style=\"color: #008000; text-decoration-color: #008000\">\"</span> found in caption <span style=\"color: #008000; text-decoration-color: #008000\">\"The character and the speech bubble has a white </span><span style=\"color: #a6d6ea; text-decoration-color: #a6d6ea; font-weight: bold\">outline</span><span style=\"color: #008000; text-decoration-color: #008000\"> around them.\"</span>\n",
       "</pre>\n"
      ],
      "text/plain": [
       "Tag \u001b[32m\"\u001b[0m\u001b[1;38;2;166;214;234moutline\u001b[0m\u001b[32m\"\u001b[0m found in caption \u001b[32m\"The character and the speech bubble has a white \u001b[0m\u001b[1;38;2;166;214;234moutline\u001b[0m\u001b[32m around them.\"\u001b[0m\n"
      ]
     },
     "metadata": {},
     "output_type": "display_data"
    },
    {
     "data": {
      "text/html": [
       "<pre style=\"white-space:pre;overflow-x:auto;line-height:normal;font-family:Menlo,'DejaVu Sans Mono',consolas,'Courier New',monospace\">C:\\Users\\kade\\Desktop\\training_dir_staging\\1_furry_sticker\\0d281d07dfc997a5b1037939ccd33eca.txt\n",
       "</pre>\n"
      ],
      "text/plain": [
       "C:\\Users\\kade\\Desktop\\training_dir_staging\\1_furry_sticker\\0d281d07dfc997a5b1037939ccd33eca.txt\n"
      ]
     },
     "metadata": {},
     "output_type": "display_data"
    },
    {
     "data": {
      "text/html": [
       "<pre style=\"white-space:pre;overflow-x:auto;line-height:normal;font-family:Menlo,'DejaVu Sans Mono',consolas,'Courier New',monospace\">Tag <span style=\"color: #008000; text-decoration-color: #008000\">\"</span><span style=\"color: #81c4c8; text-decoration-color: #81c4c8; font-weight: bold\">humor</span><span style=\"color: #008000; text-decoration-color: #008000\">\"</span> found in caption <span style=\"color: #008000; text-decoration-color: #008000\">\"This image is a furry sticker of anthro german shepherd dog with a </span><span style=\"color: #81c4c8; text-decoration-color: #81c4c8; font-weight: bold\">humor</span><span style=\"color: #008000; text-decoration-color: #008000\">ous </span>\n",
       "<span style=\"color: #008000; text-decoration-color: #008000\">expression.\"</span>\n",
       "</pre>\n"
      ],
      "text/plain": [
       "Tag \u001b[32m\"\u001b[0m\u001b[1;38;2;129;196;200mhumor\u001b[0m\u001b[32m\"\u001b[0m found in caption \u001b[32m\"This image is a furry sticker of anthro german shepherd dog with a \u001b[0m\u001b[1;38;2;129;196;200mhumor\u001b[0m\u001b[32mous \u001b[0m\n",
       "\u001b[32mexpression.\"\u001b[0m\n"
      ]
     },
     "metadata": {},
     "output_type": "display_data"
    },
    {
     "data": {
      "text/html": [
       "<pre style=\"white-space:pre;overflow-x:auto;line-height:normal;font-family:Menlo,'DejaVu Sans Mono',consolas,'Courier New',monospace\">C:\\Users\\kade\\Desktop\\training_dir_staging\\1_furry_sticker\\0d281d07dfc997a5b1037939ccd33eca.txt\n",
       "</pre>\n"
      ],
      "text/plain": [
       "C:\\Users\\kade\\Desktop\\training_dir_staging\\1_furry_sticker\\0d281d07dfc997a5b1037939ccd33eca.txt\n"
      ]
     },
     "metadata": {},
     "output_type": "display_data"
    },
    {
     "data": {
      "text/html": [
       "<pre style=\"white-space:pre;overflow-x:auto;line-height:normal;font-family:Menlo,'DejaVu Sans Mono',consolas,'Courier New',monospace\">Tag <span style=\"color: #008000; text-decoration-color: #008000\">\"</span><span style=\"color: #15470b; text-decoration-color: #15470b; font-weight: bold\">speech bubble</span><span style=\"color: #008000; text-decoration-color: #008000\">\"</span> found in caption <span style=\"color: #008000; text-decoration-color: #008000\">\"It is accompanied by a </span><span style=\"color: #15470b; text-decoration-color: #15470b; font-weight: bold\">speech bubble</span><span style=\"color: #008000; text-decoration-color: #008000\"> with 'I DON'T KNOW MAN I'M JUST A DOG.\"</span>\n",
       "</pre>\n"
      ],
      "text/plain": [
       "Tag \u001b[32m\"\u001b[0m\u001b[1;38;2;21;71;11mspeech bubble\u001b[0m\u001b[32m\"\u001b[0m found in caption \u001b[32m\"It is accompanied by a \u001b[0m\u001b[1;38;2;21;71;11mspeech bubble\u001b[0m\u001b[32m with 'I DON'T KNOW MAN I'M JUST A DOG.\"\u001b[0m\n"
      ]
     },
     "metadata": {},
     "output_type": "display_data"
    },
    {
     "data": {
      "text/html": [
       "<pre style=\"white-space:pre;overflow-x:auto;line-height:normal;font-family:Menlo,'DejaVu Sans Mono',consolas,'Courier New',monospace\">C:\\Users\\kade\\Desktop\\training_dir_staging\\1_furry_sticker\\0d281d07dfc997a5b1037939ccd33eca.txt\n",
       "</pre>\n"
      ],
      "text/plain": [
       "C:\\Users\\kade\\Desktop\\training_dir_staging\\1_furry_sticker\\0d281d07dfc997a5b1037939ccd33eca.txt\n"
      ]
     },
     "metadata": {},
     "output_type": "display_data"
    },
    {
     "data": {
      "text/html": [
       "<pre style=\"white-space:pre;overflow-x:auto;line-height:normal;font-family:Menlo,'DejaVu Sans Mono',consolas,'Courier New',monospace\">Tag <span style=\"color: #008000; text-decoration-color: #008000\">\"</span><span style=\"color: #420e0d; text-decoration-color: #420e0d; font-weight: bold\">speech bubble</span><span style=\"color: #008000; text-decoration-color: #008000\">\"</span> found in caption <span style=\"color: #008000; text-decoration-color: #008000\">\"The character and the </span><span style=\"color: #420e0d; text-decoration-color: #420e0d; font-weight: bold\">speech bubble</span><span style=\"color: #008000; text-decoration-color: #008000\"> has a white outline around them.\"</span>\n",
       "</pre>\n"
      ],
      "text/plain": [
       "Tag \u001b[32m\"\u001b[0m\u001b[1;38;2;66;14;13mspeech bubble\u001b[0m\u001b[32m\"\u001b[0m found in caption \u001b[32m\"The character and the \u001b[0m\u001b[1;38;2;66;14;13mspeech bubble\u001b[0m\u001b[32m has a white outline around them.\"\u001b[0m\n"
      ]
     },
     "metadata": {},
     "output_type": "display_data"
    },
    {
     "data": {
      "text/html": [
       "<pre style=\"white-space:pre;overflow-x:auto;line-height:normal;font-family:Menlo,'DejaVu Sans Mono',consolas,'Courier New',monospace\">C:\\Users\\kade\\Desktop\\training_dir_staging\\1_furry_sticker\\0d81f956ae974d505e254b280b43c947.txt\n",
       "</pre>\n"
      ],
      "text/plain": [
       "C:\\Users\\kade\\Desktop\\training_dir_staging\\1_furry_sticker\\0d81f956ae974d505e254b280b43c947.txt\n"
      ]
     },
     "metadata": {},
     "output_type": "display_data"
    },
    {
     "data": {
      "text/html": [
       "<pre style=\"white-space:pre;overflow-x:auto;line-height:normal;font-family:Menlo,'DejaVu Sans Mono',consolas,'Courier New',monospace\">Tag <span style=\"color: #008000; text-decoration-color: #008000\">\"</span><span style=\"color: #9ec75f; text-decoration-color: #9ec75f; font-weight: bold\">furry sticker</span><span style=\"color: #008000; text-decoration-color: #008000\">\"</span> found in caption <span style=\"color: #008000; text-decoration-color: #008000\">\"This </span><span style=\"color: #9ec75f; text-decoration-color: #9ec75f; font-weight: bold\">furry sticker</span><span style=\"color: #008000; text-decoration-color: #008000\"> depicts a cartoonish anthro rabbit.\"</span>\n",
       "</pre>\n"
      ],
      "text/plain": [
       "Tag \u001b[32m\"\u001b[0m\u001b[1;38;2;158;199;95mfurry sticker\u001b[0m\u001b[32m\"\u001b[0m found in caption \u001b[32m\"This \u001b[0m\u001b[1;38;2;158;199;95mfurry sticker\u001b[0m\u001b[32m depicts a cartoonish anthro rabbit.\"\u001b[0m\n"
      ]
     },
     "metadata": {},
     "output_type": "display_data"
    },
    {
     "data": {
      "text/html": [
       "<pre style=\"white-space:pre;overflow-x:auto;line-height:normal;font-family:Menlo,'DejaVu Sans Mono',consolas,'Courier New',monospace\">C:\\Users\\kade\\Desktop\\training_dir_staging\\1_furry_sticker\\0d81f956ae974d505e254b280b43c947.txt\n",
       "</pre>\n"
      ],
      "text/plain": [
       "C:\\Users\\kade\\Desktop\\training_dir_staging\\1_furry_sticker\\0d81f956ae974d505e254b280b43c947.txt\n"
      ]
     },
     "metadata": {},
     "output_type": "display_data"
    },
    {
     "data": {
      "text/html": [
       "<pre style=\"white-space:pre;overflow-x:auto;line-height:normal;font-family:Menlo,'DejaVu Sans Mono',consolas,'Courier New',monospace\">Tag <span style=\"color: #008000; text-decoration-color: #008000\">\"</span><span style=\"color: #5b67e4; text-decoration-color: #5b67e4; font-weight: bold\">glasses</span><span style=\"color: #008000; text-decoration-color: #008000\">\"</span> found in caption <span style=\"color: #008000; text-decoration-color: #008000\">\"It is wearing </span><span style=\"color: #5b67e4; text-decoration-color: #5b67e4; font-weight: bold\">glasses</span><span style=\"color: #008000; text-decoration-color: #008000\"> and its fur color is a shade of brown with a lighter beige </span>\n",
       "<span style=\"color: #008000; text-decoration-color: #008000\">color on the bottom of its tail and front of its ears.\"</span>\n",
       "</pre>\n"
      ],
      "text/plain": [
       "Tag \u001b[32m\"\u001b[0m\u001b[1;38;2;91;103;228mglasses\u001b[0m\u001b[32m\"\u001b[0m found in caption \u001b[32m\"It is wearing \u001b[0m\u001b[1;38;2;91;103;228mglasses\u001b[0m\u001b[32m and its fur color is a shade of brown with a lighter beige \u001b[0m\n",
       "\u001b[32mcolor on the bottom of its tail and front of its ears.\"\u001b[0m\n"
      ]
     },
     "metadata": {},
     "output_type": "display_data"
    },
    {
     "data": {
      "text/html": [
       "<pre style=\"white-space:pre;overflow-x:auto;line-height:normal;font-family:Menlo,'DejaVu Sans Mono',consolas,'Courier New',monospace\">C:\\Users\\kade\\Desktop\\training_dir_staging\\1_furry_sticker\\0d81f956ae974d505e254b280b43c947.txt\n",
       "</pre>\n"
      ],
      "text/plain": [
       "C:\\Users\\kade\\Desktop\\training_dir_staging\\1_furry_sticker\\0d81f956ae974d505e254b280b43c947.txt\n"
      ]
     },
     "metadata": {},
     "output_type": "display_data"
    },
    {
     "data": {
      "text/html": [
       "<pre style=\"white-space:pre;overflow-x:auto;line-height:normal;font-family:Menlo,'DejaVu Sans Mono',consolas,'Courier New',monospace\">Tag <span style=\"color: #008000; text-decoration-color: #008000\">\"</span><span style=\"color: #6b98f5; text-decoration-color: #6b98f5; font-weight: bold\">anthro</span><span style=\"color: #008000; text-decoration-color: #008000\">\"</span> found in caption <span style=\"color: #008000; text-decoration-color: #008000\">\"This furry sticker depicts a cartoonish </span><span style=\"color: #6b98f5; text-decoration-color: #6b98f5; font-weight: bold\">anthro</span><span style=\"color: #008000; text-decoration-color: #008000\"> rabbit.\"</span>\n",
       "</pre>\n"
      ],
      "text/plain": [
       "Tag \u001b[32m\"\u001b[0m\u001b[1;38;2;107;152;245manthro\u001b[0m\u001b[32m\"\u001b[0m found in caption \u001b[32m\"This furry sticker depicts a cartoonish \u001b[0m\u001b[1;38;2;107;152;245manthro\u001b[0m\u001b[32m rabbit.\"\u001b[0m\n"
      ]
     },
     "metadata": {},
     "output_type": "display_data"
    },
    {
     "data": {
      "text/html": [
       "<pre style=\"white-space:pre;overflow-x:auto;line-height:normal;font-family:Menlo,'DejaVu Sans Mono',consolas,'Courier New',monospace\">C:\\Users\\kade\\Desktop\\training_dir_staging\\1_furry_sticker\\0d81f956ae974d505e254b280b43c947.txt\n",
       "</pre>\n"
      ],
      "text/plain": [
       "C:\\Users\\kade\\Desktop\\training_dir_staging\\1_furry_sticker\\0d81f956ae974d505e254b280b43c947.txt\n"
      ]
     },
     "metadata": {},
     "output_type": "display_data"
    },
    {
     "data": {
      "text/html": [
       "<pre style=\"white-space:pre;overflow-x:auto;line-height:normal;font-family:Menlo,'DejaVu Sans Mono',consolas,'Courier New',monospace\">Tag <span style=\"color: #008000; text-decoration-color: #008000\">\"</span><span style=\"color: #4ba550; text-decoration-color: #4ba550; font-weight: bold\">rabbit</span><span style=\"color: #008000; text-decoration-color: #008000\">\"</span> found in caption <span style=\"color: #008000; text-decoration-color: #008000\">\"This furry sticker depicts a cartoonish anthro </span><span style=\"color: #4ba550; text-decoration-color: #4ba550; font-weight: bold\">rabbit</span><span style=\"color: #008000; text-decoration-color: #008000\">.\"</span>\n",
       "</pre>\n"
      ],
      "text/plain": [
       "Tag \u001b[32m\"\u001b[0m\u001b[1;38;2;75;165;80mrabbit\u001b[0m\u001b[32m\"\u001b[0m found in caption \u001b[32m\"This furry sticker depicts a cartoonish anthro \u001b[0m\u001b[1;38;2;75;165;80mrabbit\u001b[0m\u001b[32m.\"\u001b[0m\n"
      ]
     },
     "metadata": {},
     "output_type": "display_data"
    },
    {
     "data": {
      "text/html": [
       "<pre style=\"white-space:pre;overflow-x:auto;line-height:normal;font-family:Menlo,'DejaVu Sans Mono',consolas,'Courier New',monospace\">C:\\Users\\kade\\Desktop\\training_dir_staging\\1_furry_sticker\\0d81f956ae974d505e254b280b43c947.txt\n",
       "</pre>\n"
      ],
      "text/plain": [
       "C:\\Users\\kade\\Desktop\\training_dir_staging\\1_furry_sticker\\0d81f956ae974d505e254b280b43c947.txt\n"
      ]
     },
     "metadata": {},
     "output_type": "display_data"
    },
    {
     "data": {
      "text/html": [
       "<pre style=\"white-space:pre;overflow-x:auto;line-height:normal;font-family:Menlo,'DejaVu Sans Mono',consolas,'Courier New',monospace\">Tag <span style=\"color: #008000; text-decoration-color: #008000\">\"</span><span style=\"color: #a4e2c2; text-decoration-color: #a4e2c2; font-weight: bold\">blush</span><span style=\"color: #008000; text-decoration-color: #008000\">\"</span> found in caption <span style=\"color: #008000; text-decoration-color: #008000\">\"The character has a playful expression with its mouth open and a slight </span><span style=\"color: #a4e2c2; text-decoration-color: #a4e2c2; font-weight: bold\">blush</span><span style=\"color: #008000; text-decoration-color: #008000\"> on the </span>\n",
       "<span style=\"color: #008000; text-decoration-color: #008000\">cheeks.\"</span>\n",
       "</pre>\n"
      ],
      "text/plain": [
       "Tag \u001b[32m\"\u001b[0m\u001b[1;38;2;164;226;194mblush\u001b[0m\u001b[32m\"\u001b[0m found in caption \u001b[32m\"The character has a playful expression with its mouth open and a slight \u001b[0m\u001b[1;38;2;164;226;194mblush\u001b[0m\u001b[32m on the \u001b[0m\n",
       "\u001b[32mcheeks.\"\u001b[0m\n"
      ]
     },
     "metadata": {},
     "output_type": "display_data"
    },
    {
     "data": {
      "text/html": [
       "<pre style=\"white-space:pre;overflow-x:auto;line-height:normal;font-family:Menlo,'DejaVu Sans Mono',consolas,'Courier New',monospace\">C:\\Users\\kade\\Desktop\\training_dir_staging\\1_furry_sticker\\0d81f956ae974d505e254b280b43c947.txt\n",
       "</pre>\n"
      ],
      "text/plain": [
       "C:\\Users\\kade\\Desktop\\training_dir_staging\\1_furry_sticker\\0d81f956ae974d505e254b280b43c947.txt\n"
      ]
     },
     "metadata": {},
     "output_type": "display_data"
    },
    {
     "data": {
      "text/html": [
       "<pre style=\"white-space:pre;overflow-x:auto;line-height:normal;font-family:Menlo,'DejaVu Sans Mono',consolas,'Courier New',monospace\">Tag <span style=\"color: #008000; text-decoration-color: #008000\">\"</span><span style=\"color: #e49b4d; text-decoration-color: #e49b4d; font-weight: bold\">fur</span><span style=\"color: #008000; text-decoration-color: #008000\">\"</span> found in caption <span style=\"color: #008000; text-decoration-color: #008000\">\"This </span><span style=\"color: #e49b4d; text-decoration-color: #e49b4d; font-weight: bold\">fur</span><span style=\"color: #008000; text-decoration-color: #008000\">ry sticker depicts a cartoonish anthro rabbit.\"</span>\n",
       "</pre>\n"
      ],
      "text/plain": [
       "Tag \u001b[32m\"\u001b[0m\u001b[1;38;2;228;155;77mfur\u001b[0m\u001b[32m\"\u001b[0m found in caption \u001b[32m\"This \u001b[0m\u001b[1;38;2;228;155;77mfur\u001b[0m\u001b[32mry sticker depicts a cartoonish anthro rabbit.\"\u001b[0m\n"
      ]
     },
     "metadata": {},
     "output_type": "display_data"
    },
    {
     "data": {
      "text/html": [
       "<pre style=\"white-space:pre;overflow-x:auto;line-height:normal;font-family:Menlo,'DejaVu Sans Mono',consolas,'Courier New',monospace\">C:\\Users\\kade\\Desktop\\training_dir_staging\\1_furry_sticker\\0d81f956ae974d505e254b280b43c947.txt\n",
       "</pre>\n"
      ],
      "text/plain": [
       "C:\\Users\\kade\\Desktop\\training_dir_staging\\1_furry_sticker\\0d81f956ae974d505e254b280b43c947.txt\n"
      ]
     },
     "metadata": {},
     "output_type": "display_data"
    },
    {
     "data": {
      "text/html": [
       "<pre style=\"white-space:pre;overflow-x:auto;line-height:normal;font-family:Menlo,'DejaVu Sans Mono',consolas,'Courier New',monospace\">Tag <span style=\"color: #008000; text-decoration-color: #008000\">\"</span><span style=\"color: #335d94; text-decoration-color: #335d94; font-weight: bold\">fur</span><span style=\"color: #008000; text-decoration-color: #008000\">\"</span> found in caption <span style=\"color: #008000; text-decoration-color: #008000\">\"It is wearing glasses and its </span><span style=\"color: #335d94; text-decoration-color: #335d94; font-weight: bold\">fur</span><span style=\"color: #008000; text-decoration-color: #008000\"> color is a shade of brown with a lighter beige color </span>\n",
       "<span style=\"color: #008000; text-decoration-color: #008000\">on the bottom of its tail and front of its ears.\"</span>\n",
       "</pre>\n"
      ],
      "text/plain": [
       "Tag \u001b[32m\"\u001b[0m\u001b[1;38;2;51;93;148mfur\u001b[0m\u001b[32m\"\u001b[0m found in caption \u001b[32m\"It is wearing glasses and its \u001b[0m\u001b[1;38;2;51;93;148mfur\u001b[0m\u001b[32m color is a shade of brown with a lighter beige color \u001b[0m\n",
       "\u001b[32mon the bottom of its tail and front of its ears.\"\u001b[0m\n"
      ]
     },
     "metadata": {},
     "output_type": "display_data"
    },
    {
     "data": {
      "text/html": [
       "<pre style=\"white-space:pre;overflow-x:auto;line-height:normal;font-family:Menlo,'DejaVu Sans Mono',consolas,'Courier New',monospace\">C:\\Users\\kade\\Desktop\\training_dir_staging\\1_furry_sticker\\0d81f956ae974d505e254b280b43c947.txt\n",
       "</pre>\n"
      ],
      "text/plain": [
       "C:\\Users\\kade\\Desktop\\training_dir_staging\\1_furry_sticker\\0d81f956ae974d505e254b280b43c947.txt\n"
      ]
     },
     "metadata": {},
     "output_type": "display_data"
    },
    {
     "data": {
      "text/html": [
       "<pre style=\"white-space:pre;overflow-x:auto;line-height:normal;font-family:Menlo,'DejaVu Sans Mono',consolas,'Courier New',monospace\">Tag <span style=\"color: #008000; text-decoration-color: #008000\">\"</span><span style=\"color: #9df12d; text-decoration-color: #9df12d; font-weight: bold\">outline</span><span style=\"color: #008000; text-decoration-color: #008000\">\"</span> found in caption <span style=\"color: #008000; text-decoration-color: #008000\">\"The character is surrounded by two blue sparkles and two blue motion lines and it </span>\n",
       "<span style=\"color: #008000; text-decoration-color: #008000\">has a white </span><span style=\"color: #9df12d; text-decoration-color: #9df12d; font-weight: bold\">outline</span><span style=\"color: #008000; text-decoration-color: #008000\"> around it.\"</span>\n",
       "</pre>\n"
      ],
      "text/plain": [
       "Tag \u001b[32m\"\u001b[0m\u001b[1;38;2;157;241;45moutline\u001b[0m\u001b[32m\"\u001b[0m found in caption \u001b[32m\"The character is surrounded by two blue sparkles and two blue motion lines and it \u001b[0m\n",
       "\u001b[32mhas a white \u001b[0m\u001b[1;38;2;157;241;45moutline\u001b[0m\u001b[32m around it.\"\u001b[0m\n"
      ]
     },
     "metadata": {},
     "output_type": "display_data"
    },
    {
     "data": {
      "text/html": [
       "<pre style=\"white-space:pre;overflow-x:auto;line-height:normal;font-family:Menlo,'DejaVu Sans Mono',consolas,'Courier New',monospace\">C:\\Users\\kade\\Desktop\\training_dir_staging\\1_furry_sticker\\0da4833461592f1c7f4ac4151f7f8960.txt\n",
       "</pre>\n"
      ],
      "text/plain": [
       "C:\\Users\\kade\\Desktop\\training_dir_staging\\1_furry_sticker\\0da4833461592f1c7f4ac4151f7f8960.txt\n"
      ]
     },
     "metadata": {},
     "output_type": "display_data"
    },
    {
     "data": {
      "text/html": [
       "<pre style=\"white-space:pre;overflow-x:auto;line-height:normal;font-family:Menlo,'DejaVu Sans Mono',consolas,'Courier New',monospace\">Tag <span style=\"color: #008000; text-decoration-color: #008000\">\"</span><span style=\"color: #d3624a; text-decoration-color: #d3624a; font-weight: bold\">eyes closed</span><span style=\"color: #008000; text-decoration-color: #008000\">\"</span> found in caption <span style=\"color: #008000; text-decoration-color: #008000\">\"It has its </span><span style=\"color: #d3624a; text-decoration-color: #d3624a; font-weight: bold\">eyes closed</span><span style=\"color: #008000; text-decoration-color: #008000\"> and is crossing its arms with a displeased expression.\"</span>\n",
       "</pre>\n"
      ],
      "text/plain": [
       "Tag \u001b[32m\"\u001b[0m\u001b[1;38;2;211;98;74meyes closed\u001b[0m\u001b[32m\"\u001b[0m found in caption \u001b[32m\"It has its \u001b[0m\u001b[1;38;2;211;98;74meyes closed\u001b[0m\u001b[32m and is crossing its arms with a displeased expression.\"\u001b[0m\n"
      ]
     },
     "metadata": {},
     "output_type": "display_data"
    },
    {
     "data": {
      "text/html": [
       "<pre style=\"white-space:pre;overflow-x:auto;line-height:normal;font-family:Menlo,'DejaVu Sans Mono',consolas,'Courier New',monospace\">C:\\Users\\kade\\Desktop\\training_dir_staging\\1_furry_sticker\\0da4833461592f1c7f4ac4151f7f8960.txt\n",
       "</pre>\n"
      ],
      "text/plain": [
       "C:\\Users\\kade\\Desktop\\training_dir_staging\\1_furry_sticker\\0da4833461592f1c7f4ac4151f7f8960.txt\n"
      ]
     },
     "metadata": {},
     "output_type": "display_data"
    },
    {
     "data": {
      "text/html": [
       "<pre style=\"white-space:pre;overflow-x:auto;line-height:normal;font-family:Menlo,'DejaVu Sans Mono',consolas,'Courier New',monospace\">Tag <span style=\"color: #008000; text-decoration-color: #008000\">\"</span><span style=\"color: #559a22; text-decoration-color: #559a22; font-weight: bold\">headwear</span><span style=\"color: #008000; text-decoration-color: #008000\">\"</span> found in caption <span style=\"color: #008000; text-decoration-color: #008000\">\"The character has a brownish fur coat and brown hair sticking out from under the </span>\n",
       "<span style=\"color: #559a22; text-decoration-color: #559a22; font-weight: bold\">headwear</span><span style=\"color: #008000; text-decoration-color: #008000\">.\"</span>\n",
       "</pre>\n"
      ],
      "text/plain": [
       "Tag \u001b[32m\"\u001b[0m\u001b[1;38;2;85;154;34mheadwear\u001b[0m\u001b[32m\"\u001b[0m found in caption \u001b[32m\"The character has a brownish fur coat and brown hair sticking out from under the \u001b[0m\n",
       "\u001b[1;38;2;85;154;34mheadwear\u001b[0m\u001b[32m.\"\u001b[0m\n"
      ]
     },
     "metadata": {},
     "output_type": "display_data"
    },
    {
     "data": {
      "text/html": [
       "<pre style=\"white-space:pre;overflow-x:auto;line-height:normal;font-family:Menlo,'DejaVu Sans Mono',consolas,'Courier New',monospace\">C:\\Users\\kade\\Desktop\\training_dir_staging\\1_furry_sticker\\0da4833461592f1c7f4ac4151f7f8960.txt\n",
       "</pre>\n"
      ],
      "text/plain": [
       "C:\\Users\\kade\\Desktop\\training_dir_staging\\1_furry_sticker\\0da4833461592f1c7f4ac4151f7f8960.txt\n"
      ]
     },
     "metadata": {},
     "output_type": "display_data"
    },
    {
     "data": {
      "text/html": [
       "<pre style=\"white-space:pre;overflow-x:auto;line-height:normal;font-family:Menlo,'DejaVu Sans Mono',consolas,'Courier New',monospace\">Tag <span style=\"color: #008000; text-decoration-color: #008000\">\"</span><span style=\"color: #52f363; text-decoration-color: #52f363; font-weight: bold\">hat</span><span style=\"color: #008000; text-decoration-color: #008000\">\"</span> found in caption <span style=\"color: #008000; text-decoration-color: #008000\">\"The image showcases an animated character t</span><span style=\"color: #52f363; text-decoration-color: #52f363; font-weight: bold\">hat</span><span style=\"color: #008000; text-decoration-color: #008000\"> is an anthro dog.\"</span>\n",
       "</pre>\n"
      ],
      "text/plain": [
       "Tag \u001b[32m\"\u001b[0m\u001b[1;38;2;82;243;99mhat\u001b[0m\u001b[32m\"\u001b[0m found in caption \u001b[32m\"The image showcases an animated character t\u001b[0m\u001b[1;38;2;82;243;99mhat\u001b[0m\u001b[32m is an anthro dog.\"\u001b[0m\n"
      ]
     },
     "metadata": {},
     "output_type": "display_data"
    },
    {
     "data": {
      "text/html": [
       "<pre style=\"white-space:pre;overflow-x:auto;line-height:normal;font-family:Menlo,'DejaVu Sans Mono',consolas,'Courier New',monospace\">C:\\Users\\kade\\Desktop\\training_dir_staging\\1_furry_sticker\\0da4833461592f1c7f4ac4151f7f8960.txt\n",
       "</pre>\n"
      ],
      "text/plain": [
       "C:\\Users\\kade\\Desktop\\training_dir_staging\\1_furry_sticker\\0da4833461592f1c7f4ac4151f7f8960.txt\n"
      ]
     },
     "metadata": {},
     "output_type": "display_data"
    },
    {
     "data": {
      "text/html": [
       "<pre style=\"white-space:pre;overflow-x:auto;line-height:normal;font-family:Menlo,'DejaVu Sans Mono',consolas,'Courier New',monospace\">Tag <span style=\"color: #008000; text-decoration-color: #008000\">\"</span><span style=\"color: #33b11d; text-decoration-color: #33b11d; font-weight: bold\">collar</span><span style=\"color: #008000; text-decoration-color: #008000\">\"</span> found in caption <span style=\"color: #008000; text-decoration-color: #008000\">\"It has a brown nose and wears a blue cap with the Japanese flag on it and a blue </span>\n",
       "<span style=\"color: #33b11d; text-decoration-color: #33b11d; font-weight: bold\">collar</span><span style=\"color: #008000; text-decoration-color: #008000\"> around its neck with a black stripe in the middle.\"</span>\n",
       "</pre>\n"
      ],
      "text/plain": [
       "Tag \u001b[32m\"\u001b[0m\u001b[1;38;2;51;177;29mcollar\u001b[0m\u001b[32m\"\u001b[0m found in caption \u001b[32m\"It has a brown nose and wears a blue cap with the Japanese flag on it and a blue \u001b[0m\n",
       "\u001b[1;38;2;51;177;29mcollar\u001b[0m\u001b[32m around its neck with a black stripe in the middle.\"\u001b[0m\n"
      ]
     },
     "metadata": {},
     "output_type": "display_data"
    },
    {
     "data": {
      "text/html": [
       "<pre style=\"white-space:pre;overflow-x:auto;line-height:normal;font-family:Menlo,'DejaVu Sans Mono',consolas,'Courier New',monospace\">C:\\Users\\kade\\Desktop\\training_dir_staging\\1_furry_sticker\\0da4833461592f1c7f4ac4151f7f8960.txt\n",
       "</pre>\n"
      ],
      "text/plain": [
       "C:\\Users\\kade\\Desktop\\training_dir_staging\\1_furry_sticker\\0da4833461592f1c7f4ac4151f7f8960.txt\n"
      ]
     },
     "metadata": {},
     "output_type": "display_data"
    },
    {
     "data": {
      "text/html": [
       "<pre style=\"white-space:pre;overflow-x:auto;line-height:normal;font-family:Menlo,'DejaVu Sans Mono',consolas,'Courier New',monospace\">Tag <span style=\"color: #008000; text-decoration-color: #008000\">\"</span><span style=\"color: #332fe0; text-decoration-color: #332fe0; font-weight: bold\">fur</span><span style=\"color: #008000; text-decoration-color: #008000\">\"</span> found in caption <span style=\"color: #008000; text-decoration-color: #008000\">\"The character has a brownish </span><span style=\"color: #332fe0; text-decoration-color: #332fe0; font-weight: bold\">fur</span><span style=\"color: #008000; text-decoration-color: #008000\"> coat and brown hair sticking out from under the </span>\n",
       "<span style=\"color: #008000; text-decoration-color: #008000\">headwear.\"</span>\n",
       "</pre>\n"
      ],
      "text/plain": [
       "Tag \u001b[32m\"\u001b[0m\u001b[1;38;2;51;47;224mfur\u001b[0m\u001b[32m\"\u001b[0m found in caption \u001b[32m\"The character has a brownish \u001b[0m\u001b[1;38;2;51;47;224mfur\u001b[0m\u001b[32m coat and brown hair sticking out from under the \u001b[0m\n",
       "\u001b[32mheadwear.\"\u001b[0m\n"
      ]
     },
     "metadata": {},
     "output_type": "display_data"
    },
    {
     "data": {
      "text/html": [
       "<pre style=\"white-space:pre;overflow-x:auto;line-height:normal;font-family:Menlo,'DejaVu Sans Mono',consolas,'Courier New',monospace\">C:\\Users\\kade\\Desktop\\training_dir_staging\\1_furry_sticker\\0da4833461592f1c7f4ac4151f7f8960.txt\n",
       "</pre>\n"
      ],
      "text/plain": [
       "C:\\Users\\kade\\Desktop\\training_dir_staging\\1_furry_sticker\\0da4833461592f1c7f4ac4151f7f8960.txt\n"
      ]
     },
     "metadata": {},
     "output_type": "display_data"
    },
    {
     "data": {
      "text/html": [
       "<pre style=\"white-space:pre;overflow-x:auto;line-height:normal;font-family:Menlo,'DejaVu Sans Mono',consolas,'Courier New',monospace\">Tag <span style=\"color: #008000; text-decoration-color: #008000\">\"</span><span style=\"color: #20327f; text-decoration-color: #20327f; font-weight: bold\">brown hair</span><span style=\"color: #008000; text-decoration-color: #008000\">\"</span> found in caption <span style=\"color: #008000; text-decoration-color: #008000\">\"The character has a brownish fur coat and </span><span style=\"color: #20327f; text-decoration-color: #20327f; font-weight: bold\">brown hair</span><span style=\"color: #008000; text-decoration-color: #008000\"> sticking out from under the</span>\n",
       "<span style=\"color: #008000; text-decoration-color: #008000\">headwear.\"</span>\n",
       "</pre>\n"
      ],
      "text/plain": [
       "Tag \u001b[32m\"\u001b[0m\u001b[1;38;2;32;50;127mbrown hair\u001b[0m\u001b[32m\"\u001b[0m found in caption \u001b[32m\"The character has a brownish fur coat and \u001b[0m\u001b[1;38;2;32;50;127mbrown hair\u001b[0m\u001b[32m sticking out from under the\u001b[0m\n",
       "\u001b[32mheadwear.\"\u001b[0m\n"
      ]
     },
     "metadata": {},
     "output_type": "display_data"
    },
    {
     "data": {
      "text/html": [
       "<pre style=\"white-space:pre;overflow-x:auto;line-height:normal;font-family:Menlo,'DejaVu Sans Mono',consolas,'Courier New',monospace\">C:\\Users\\kade\\Desktop\\training_dir_staging\\1_furry_sticker\\0da4833461592f1c7f4ac4151f7f8960.txt\n",
       "</pre>\n"
      ],
      "text/plain": [
       "C:\\Users\\kade\\Desktop\\training_dir_staging\\1_furry_sticker\\0da4833461592f1c7f4ac4151f7f8960.txt\n"
      ]
     },
     "metadata": {},
     "output_type": "display_data"
    },
    {
     "data": {
      "text/html": [
       "<pre style=\"white-space:pre;overflow-x:auto;line-height:normal;font-family:Menlo,'DejaVu Sans Mono',consolas,'Courier New',monospace\">Tag <span style=\"color: #008000; text-decoration-color: #008000\">\"</span><span style=\"color: #197b4d; text-decoration-color: #197b4d; font-weight: bold\">text</span><span style=\"color: #008000; text-decoration-color: #008000\">\"</span> found in caption <span style=\"color: #008000; text-decoration-color: #008000\">\"The character and the </span><span style=\"color: #197b4d; text-decoration-color: #197b4d; font-weight: bold\">text</span><span style=\"color: #008000; text-decoration-color: #008000\"> has a white outline around it.\"</span>\n",
       "</pre>\n"
      ],
      "text/plain": [
       "Tag \u001b[32m\"\u001b[0m\u001b[1;38;2;25;123;77mtext\u001b[0m\u001b[32m\"\u001b[0m found in caption \u001b[32m\"The character and the \u001b[0m\u001b[1;38;2;25;123;77mtext\u001b[0m\u001b[32m has a white outline around it.\"\u001b[0m\n"
      ]
     },
     "metadata": {},
     "output_type": "display_data"
    },
    {
     "data": {
      "text/html": [
       "<pre style=\"white-space:pre;overflow-x:auto;line-height:normal;font-family:Menlo,'DejaVu Sans Mono',consolas,'Courier New',monospace\">C:\\Users\\kade\\Desktop\\training_dir_staging\\1_furry_sticker\\0da4833461592f1c7f4ac4151f7f8960.txt\n",
       "</pre>\n"
      ],
      "text/plain": [
       "C:\\Users\\kade\\Desktop\\training_dir_staging\\1_furry_sticker\\0da4833461592f1c7f4ac4151f7f8960.txt\n"
      ]
     },
     "metadata": {},
     "output_type": "display_data"
    },
    {
     "data": {
      "text/html": [
       "<pre style=\"white-space:pre;overflow-x:auto;line-height:normal;font-family:Menlo,'DejaVu Sans Mono',consolas,'Courier New',monospace\">Tag <span style=\"color: #008000; text-decoration-color: #008000\">\"</span><span style=\"color: #5610c7; text-decoration-color: #5610c7; font-weight: bold\">anthro</span><span style=\"color: #008000; text-decoration-color: #008000\">\"</span> found in caption <span style=\"color: #008000; text-decoration-color: #008000\">\"The image showcases an animated character that is an </span><span style=\"color: #5610c7; text-decoration-color: #5610c7; font-weight: bold\">anthro</span><span style=\"color: #008000; text-decoration-color: #008000\"> dog.\"</span>\n",
       "</pre>\n"
      ],
      "text/plain": [
       "Tag \u001b[32m\"\u001b[0m\u001b[1;38;2;86;16;199manthro\u001b[0m\u001b[32m\"\u001b[0m found in caption \u001b[32m\"The image showcases an animated character that is an \u001b[0m\u001b[1;38;2;86;16;199manthro\u001b[0m\u001b[32m dog.\"\u001b[0m\n"
      ]
     },
     "metadata": {},
     "output_type": "display_data"
    },
    {
     "data": {
      "text/html": [
       "<pre style=\"white-space:pre;overflow-x:auto;line-height:normal;font-family:Menlo,'DejaVu Sans Mono',consolas,'Courier New',monospace\">C:\\Users\\kade\\Desktop\\training_dir_staging\\1_furry_sticker\\0f27c73c75d57814e6dacf5c60040473.txt\n",
       "</pre>\n"
      ],
      "text/plain": [
       "C:\\Users\\kade\\Desktop\\training_dir_staging\\1_furry_sticker\\0f27c73c75d57814e6dacf5c60040473.txt\n"
      ]
     },
     "metadata": {},
     "output_type": "display_data"
    },
    {
     "data": {
      "text/html": [
       "<pre style=\"white-space:pre;overflow-x:auto;line-height:normal;font-family:Menlo,'DejaVu Sans Mono',consolas,'Courier New',monospace\">Tag <span style=\"color: #008000; text-decoration-color: #008000\">\"</span><span style=\"color: #866de8; text-decoration-color: #866de8; font-weight: bold\">furry sticker</span><span style=\"color: #008000; text-decoration-color: #008000\">\"</span> found in caption <span style=\"color: #008000; text-decoration-color: #008000\">\"This </span><span style=\"color: #866de8; text-decoration-color: #866de8; font-weight: bold\">furry sticker</span><span style=\"color: #008000; text-decoration-color: #008000\"> showcases an animated anthro fox character sitting at a </span>\n",
       "<span style=\"color: #008000; text-decoration-color: #008000\">desk with its hands on a laptop's screen.\"</span>\n",
       "</pre>\n"
      ],
      "text/plain": [
       "Tag \u001b[32m\"\u001b[0m\u001b[1;38;2;134;109;232mfurry sticker\u001b[0m\u001b[32m\"\u001b[0m found in caption \u001b[32m\"This \u001b[0m\u001b[1;38;2;134;109;232mfurry sticker\u001b[0m\u001b[32m showcases an animated anthro fox character sitting at a \u001b[0m\n",
       "\u001b[32mdesk with its hands on a laptop's screen.\"\u001b[0m\n"
      ]
     },
     "metadata": {},
     "output_type": "display_data"
    },
    {
     "data": {
      "text/html": [
       "<pre style=\"white-space:pre;overflow-x:auto;line-height:normal;font-family:Menlo,'DejaVu Sans Mono',consolas,'Courier New',monospace\">C:\\Users\\kade\\Desktop\\training_dir_staging\\1_furry_sticker\\0f27c73c75d57814e6dacf5c60040473.txt\n",
       "</pre>\n"
      ],
      "text/plain": [
       "C:\\Users\\kade\\Desktop\\training_dir_staging\\1_furry_sticker\\0f27c73c75d57814e6dacf5c60040473.txt\n"
      ]
     },
     "metadata": {},
     "output_type": "display_data"
    },
    {
     "data": {
      "text/html": [
       "<pre style=\"white-space:pre;overflow-x:auto;line-height:normal;font-family:Menlo,'DejaVu Sans Mono',consolas,'Courier New',monospace\">Tag <span style=\"color: #008000; text-decoration-color: #008000\">\"</span><span style=\"color: #4ee244; text-decoration-color: #4ee244; font-weight: bold\">fox</span><span style=\"color: #008000; text-decoration-color: #008000\">\"</span> found in caption <span style=\"color: #008000; text-decoration-color: #008000\">\"This furry sticker showcases an animated anthro </span><span style=\"color: #4ee244; text-decoration-color: #4ee244; font-weight: bold\">fox</span><span style=\"color: #008000; text-decoration-color: #008000\"> character sitting at a desk with </span>\n",
       "<span style=\"color: #008000; text-decoration-color: #008000\">its hands on a laptop's screen.\"</span>\n",
       "</pre>\n"
      ],
      "text/plain": [
       "Tag \u001b[32m\"\u001b[0m\u001b[1;38;2;78;226;68mfox\u001b[0m\u001b[32m\"\u001b[0m found in caption \u001b[32m\"This furry sticker showcases an animated anthro \u001b[0m\u001b[1;38;2;78;226;68mfox\u001b[0m\u001b[32m character sitting at a desk with \u001b[0m\n",
       "\u001b[32mits hands on a laptop's screen.\"\u001b[0m\n"
      ]
     },
     "metadata": {},
     "output_type": "display_data"
    },
    {
     "data": {
      "text/html": [
       "<pre style=\"white-space:pre;overflow-x:auto;line-height:normal;font-family:Menlo,'DejaVu Sans Mono',consolas,'Courier New',monospace\">C:\\Users\\kade\\Desktop\\training_dir_staging\\1_furry_sticker\\0f27c73c75d57814e6dacf5c60040473.txt\n",
       "</pre>\n"
      ],
      "text/plain": [
       "C:\\Users\\kade\\Desktop\\training_dir_staging\\1_furry_sticker\\0f27c73c75d57814e6dacf5c60040473.txt\n"
      ]
     },
     "metadata": {},
     "output_type": "display_data"
    },
    {
     "data": {
      "text/html": [
       "<pre style=\"white-space:pre;overflow-x:auto;line-height:normal;font-family:Menlo,'DejaVu Sans Mono',consolas,'Courier New',monospace\">Tag <span style=\"color: #008000; text-decoration-color: #008000\">\"</span><span style=\"color: #98b7c6; text-decoration-color: #98b7c6; font-weight: bold\">fox</span><span style=\"color: #008000; text-decoration-color: #008000\">\"</span> found in caption <span style=\"color: #008000; text-decoration-color: #008000\">\"The </span><span style=\"color: #98b7c6; text-decoration-color: #98b7c6; font-weight: bold\">fox</span><span style=\"color: #008000; text-decoration-color: #008000\"> appears to be in a state of surprise or shock with wide-open eyes and a closed </span>\n",
       "<span style=\"color: #008000; text-decoration-color: #008000\">mouth that is drawn as a small black line.\"</span>\n",
       "</pre>\n"
      ],
      "text/plain": [
       "Tag \u001b[32m\"\u001b[0m\u001b[1;38;2;152;183;198mfox\u001b[0m\u001b[32m\"\u001b[0m found in caption \u001b[32m\"The \u001b[0m\u001b[1;38;2;152;183;198mfox\u001b[0m\u001b[32m appears to be in a state of surprise or shock with wide-open eyes and a closed \u001b[0m\n",
       "\u001b[32mmouth that is drawn as a small black line.\"\u001b[0m\n"
      ]
     },
     "metadata": {},
     "output_type": "display_data"
    },
    {
     "data": {
      "text/html": [
       "<pre style=\"white-space:pre;overflow-x:auto;line-height:normal;font-family:Menlo,'DejaVu Sans Mono',consolas,'Courier New',monospace\">C:\\Users\\kade\\Desktop\\training_dir_staging\\1_furry_sticker\\0f27c73c75d57814e6dacf5c60040473.txt\n",
       "</pre>\n"
      ],
      "text/plain": [
       "C:\\Users\\kade\\Desktop\\training_dir_staging\\1_furry_sticker\\0f27c73c75d57814e6dacf5c60040473.txt\n"
      ]
     },
     "metadata": {},
     "output_type": "display_data"
    },
    {
     "data": {
      "text/html": [
       "<pre style=\"white-space:pre;overflow-x:auto;line-height:normal;font-family:Menlo,'DejaVu Sans Mono',consolas,'Courier New',monospace\">Tag <span style=\"color: #008000; text-decoration-color: #008000\">\"</span><span style=\"color: #16b30b; text-decoration-color: #16b30b; font-weight: bold\">fox</span><span style=\"color: #008000; text-decoration-color: #008000\">\"</span> found in caption <span style=\"color: #008000; text-decoration-color: #008000\">\"The </span><span style=\"color: #16b30b; text-decoration-color: #16b30b; font-weight: bold\">fox</span><span style=\"color: #008000; text-decoration-color: #008000\"> has a vibrant red fur with his chest and bottom of its face covered in white </span>\n",
       "<span style=\"color: #008000; text-decoration-color: #008000\">fur.\"</span>\n",
       "</pre>\n"
      ],
      "text/plain": [
       "Tag \u001b[32m\"\u001b[0m\u001b[1;38;2;22;179;11mfox\u001b[0m\u001b[32m\"\u001b[0m found in caption \u001b[32m\"The \u001b[0m\u001b[1;38;2;22;179;11mfox\u001b[0m\u001b[32m has a vibrant red fur with his chest and bottom of its face covered in white \u001b[0m\n",
       "\u001b[32mfur.\"\u001b[0m\n"
      ]
     },
     "metadata": {},
     "output_type": "display_data"
    },
    {
     "data": {
      "text/html": [
       "<pre style=\"white-space:pre;overflow-x:auto;line-height:normal;font-family:Menlo,'DejaVu Sans Mono',consolas,'Courier New',monospace\">C:\\Users\\kade\\Desktop\\training_dir_staging\\1_furry_sticker\\0f27c73c75d57814e6dacf5c60040473.txt\n",
       "</pre>\n"
      ],
      "text/plain": [
       "C:\\Users\\kade\\Desktop\\training_dir_staging\\1_furry_sticker\\0f27c73c75d57814e6dacf5c60040473.txt\n"
      ]
     },
     "metadata": {},
     "output_type": "display_data"
    },
    {
     "data": {
      "text/html": [
       "<pre style=\"white-space:pre;overflow-x:auto;line-height:normal;font-family:Menlo,'DejaVu Sans Mono',consolas,'Courier New',monospace\">Tag <span style=\"color: #008000; text-decoration-color: #008000\">\"</span><span style=\"color: #fd810b; text-decoration-color: #fd810b; font-weight: bold\">red fur</span><span style=\"color: #008000; text-decoration-color: #008000\">\"</span> found in caption <span style=\"color: #008000; text-decoration-color: #008000\">\"The fox has a vibrant </span><span style=\"color: #fd810b; text-decoration-color: #fd810b; font-weight: bold\">red fur</span><span style=\"color: #008000; text-decoration-color: #008000\"> with his chest and bottom of its face covered in </span>\n",
       "<span style=\"color: #008000; text-decoration-color: #008000\">white fur.\"</span>\n",
       "</pre>\n"
      ],
      "text/plain": [
       "Tag \u001b[32m\"\u001b[0m\u001b[1;38;2;253;129;11mred fur\u001b[0m\u001b[32m\"\u001b[0m found in caption \u001b[32m\"The fox has a vibrant \u001b[0m\u001b[1;38;2;253;129;11mred fur\u001b[0m\u001b[32m with his chest and bottom of its face covered in \u001b[0m\n",
       "\u001b[32mwhite fur.\"\u001b[0m\n"
      ]
     },
     "metadata": {},
     "output_type": "display_data"
    },
    {
     "data": {
      "text/html": [
       "<pre style=\"white-space:pre;overflow-x:auto;line-height:normal;font-family:Menlo,'DejaVu Sans Mono',consolas,'Courier New',monospace\">C:\\Users\\kade\\Desktop\\training_dir_staging\\1_furry_sticker\\0f27c73c75d57814e6dacf5c60040473.txt\n",
       "</pre>\n"
      ],
      "text/plain": [
       "C:\\Users\\kade\\Desktop\\training_dir_staging\\1_furry_sticker\\0f27c73c75d57814e6dacf5c60040473.txt\n"
      ]
     },
     "metadata": {},
     "output_type": "display_data"
    },
    {
     "data": {
      "text/html": [
       "<pre style=\"white-space:pre;overflow-x:auto;line-height:normal;font-family:Menlo,'DejaVu Sans Mono',consolas,'Courier New',monospace\">Tag <span style=\"color: #008000; text-decoration-color: #008000\">\"</span><span style=\"color: #5cd146; text-decoration-color: #5cd146; font-weight: bold\">fur</span><span style=\"color: #008000; text-decoration-color: #008000\">\"</span> found in caption <span style=\"color: #008000; text-decoration-color: #008000\">\"This </span><span style=\"color: #5cd146; text-decoration-color: #5cd146; font-weight: bold\">fur</span><span style=\"color: #008000; text-decoration-color: #008000\">ry sticker showcases an animated anthro fox character sitting at a desk with </span>\n",
       "<span style=\"color: #008000; text-decoration-color: #008000\">its hands on a laptop's screen.\"</span>\n",
       "</pre>\n"
      ],
      "text/plain": [
       "Tag \u001b[32m\"\u001b[0m\u001b[1;38;2;92;209;70mfur\u001b[0m\u001b[32m\"\u001b[0m found in caption \u001b[32m\"This \u001b[0m\u001b[1;38;2;92;209;70mfur\u001b[0m\u001b[32mry sticker showcases an animated anthro fox character sitting at a desk with \u001b[0m\n",
       "\u001b[32mits hands on a laptop's screen.\"\u001b[0m\n"
      ]
     },
     "metadata": {},
     "output_type": "display_data"
    },
    {
     "data": {
      "text/html": [
       "<pre style=\"white-space:pre;overflow-x:auto;line-height:normal;font-family:Menlo,'DejaVu Sans Mono',consolas,'Courier New',monospace\">C:\\Users\\kade\\Desktop\\training_dir_staging\\1_furry_sticker\\0f27c73c75d57814e6dacf5c60040473.txt\n",
       "</pre>\n"
      ],
      "text/plain": [
       "C:\\Users\\kade\\Desktop\\training_dir_staging\\1_furry_sticker\\0f27c73c75d57814e6dacf5c60040473.txt\n"
      ]
     },
     "metadata": {},
     "output_type": "display_data"
    },
    {
     "data": {
      "text/html": [
       "<pre style=\"white-space:pre;overflow-x:auto;line-height:normal;font-family:Menlo,'DejaVu Sans Mono',consolas,'Courier New',monospace\">Tag <span style=\"color: #008000; text-decoration-color: #008000\">\"</span><span style=\"color: #471e39; text-decoration-color: #471e39; font-weight: bold\">fur</span><span style=\"color: #008000; text-decoration-color: #008000\">\"</span> found in caption <span style=\"color: #008000; text-decoration-color: #008000\">\"The fox has a vibrant red </span><span style=\"color: #471e39; text-decoration-color: #471e39; font-weight: bold\">fur</span><span style=\"color: #008000; text-decoration-color: #008000\"> with his chest and bottom of its face covered in white </span>\n",
       "<span style=\"color: #471e39; text-decoration-color: #471e39; font-weight: bold\">fur</span><span style=\"color: #008000; text-decoration-color: #008000\">.\"</span>\n",
       "</pre>\n"
      ],
      "text/plain": [
       "Tag \u001b[32m\"\u001b[0m\u001b[1;38;2;71;30;57mfur\u001b[0m\u001b[32m\"\u001b[0m found in caption \u001b[32m\"The fox has a vibrant red \u001b[0m\u001b[1;38;2;71;30;57mfur\u001b[0m\u001b[32m with his chest and bottom of its face covered in white \u001b[0m\n",
       "\u001b[1;38;2;71;30;57mfur\u001b[0m\u001b[32m.\"\u001b[0m\n"
      ]
     },
     "metadata": {},
     "output_type": "display_data"
    },
    {
     "data": {
      "text/html": [
       "<pre style=\"white-space:pre;overflow-x:auto;line-height:normal;font-family:Menlo,'DejaVu Sans Mono',consolas,'Courier New',monospace\">C:\\Users\\kade\\Desktop\\training_dir_staging\\1_furry_sticker\\0f27c73c75d57814e6dacf5c60040473.txt\n",
       "</pre>\n"
      ],
      "text/plain": [
       "C:\\Users\\kade\\Desktop\\training_dir_staging\\1_furry_sticker\\0f27c73c75d57814e6dacf5c60040473.txt\n"
      ]
     },
     "metadata": {},
     "output_type": "display_data"
    },
    {
     "data": {
      "text/html": [
       "<pre style=\"white-space:pre;overflow-x:auto;line-height:normal;font-family:Menlo,'DejaVu Sans Mono',consolas,'Courier New',monospace\">Tag <span style=\"color: #008000; text-decoration-color: #008000\">\"</span><span style=\"color: #9a0a66; text-decoration-color: #9a0a66; font-weight: bold\">anthro</span><span style=\"color: #008000; text-decoration-color: #008000\">\"</span> found in caption <span style=\"color: #008000; text-decoration-color: #008000\">\"This furry sticker showcases an animated </span><span style=\"color: #9a0a66; text-decoration-color: #9a0a66; font-weight: bold\">anthro</span><span style=\"color: #008000; text-decoration-color: #008000\"> fox character sitting at a desk with</span>\n",
       "<span style=\"color: #008000; text-decoration-color: #008000\">its hands on a laptop's screen.\"</span>\n",
       "</pre>\n"
      ],
      "text/plain": [
       "Tag \u001b[32m\"\u001b[0m\u001b[1;38;2;154;10;102manthro\u001b[0m\u001b[32m\"\u001b[0m found in caption \u001b[32m\"This furry sticker showcases an animated \u001b[0m\u001b[1;38;2;154;10;102manthro\u001b[0m\u001b[32m fox character sitting at a desk with\u001b[0m\n",
       "\u001b[32mits hands on a laptop's screen.\"\u001b[0m\n"
      ]
     },
     "metadata": {},
     "output_type": "display_data"
    },
    {
     "data": {
      "text/html": [
       "<pre style=\"white-space:pre;overflow-x:auto;line-height:normal;font-family:Menlo,'DejaVu Sans Mono',consolas,'Courier New',monospace\">C:\\Users\\kade\\Desktop\\training_dir_staging\\1_furry_sticker\\0f27c73c75d57814e6dacf5c60040473.txt\n",
       "</pre>\n"
      ],
      "text/plain": [
       "C:\\Users\\kade\\Desktop\\training_dir_staging\\1_furry_sticker\\0f27c73c75d57814e6dacf5c60040473.txt\n"
      ]
     },
     "metadata": {},
     "output_type": "display_data"
    },
    {
     "data": {
      "text/html": [
       "<pre style=\"white-space:pre;overflow-x:auto;line-height:normal;font-family:Menlo,'DejaVu Sans Mono',consolas,'Courier New',monospace\">Tag <span style=\"color: #008000; text-decoration-color: #008000\">\"</span><span style=\"color: #df56cb; text-decoration-color: #df56cb; font-weight: bold\">computer</span><span style=\"color: #008000; text-decoration-color: #008000\">\"</span> found in caption <span style=\"color: #008000; text-decoration-color: #008000\">\"On the desk there's also a </span><span style=\"color: #df56cb; text-decoration-color: #df56cb; font-weight: bold\">computer</span><span style=\"color: #008000; text-decoration-color: #008000\"> mouse with a blue mouse pad under it.\"</span>\n",
       "</pre>\n"
      ],
      "text/plain": [
       "Tag \u001b[32m\"\u001b[0m\u001b[1;38;2;223;86;203mcomputer\u001b[0m\u001b[32m\"\u001b[0m found in caption \u001b[32m\"On the desk there's also a \u001b[0m\u001b[1;38;2;223;86;203mcomputer\u001b[0m\u001b[32m mouse with a blue mouse pad under it.\"\u001b[0m\n"
      ]
     },
     "metadata": {},
     "output_type": "display_data"
    },
    {
     "data": {
      "text/html": [
       "<pre style=\"white-space:pre;overflow-x:auto;line-height:normal;font-family:Menlo,'DejaVu Sans Mono',consolas,'Courier New',monospace\">C:\\Users\\kade\\Desktop\\training_dir_staging\\1_furry_sticker\\0f27c73c75d57814e6dacf5c60040473.txt\n",
       "</pre>\n"
      ],
      "text/plain": [
       "C:\\Users\\kade\\Desktop\\training_dir_staging\\1_furry_sticker\\0f27c73c75d57814e6dacf5c60040473.txt\n"
      ]
     },
     "metadata": {},
     "output_type": "display_data"
    },
    {
     "data": {
      "text/html": [
       "<pre style=\"white-space:pre;overflow-x:auto;line-height:normal;font-family:Menlo,'DejaVu Sans Mono',consolas,'Courier New',monospace\">Tag <span style=\"color: #008000; text-decoration-color: #008000\">\"</span><span style=\"color: #f536b9; text-decoration-color: #f536b9; font-weight: bold\">white fur</span><span style=\"color: #008000; text-decoration-color: #008000\">\"</span> found in caption <span style=\"color: #008000; text-decoration-color: #008000\">\"The fox has a vibrant red fur with his chest and bottom of its face covered in </span>\n",
       "<span style=\"color: #f536b9; text-decoration-color: #f536b9; font-weight: bold\">white fur</span><span style=\"color: #008000; text-decoration-color: #008000\">.\"</span>\n",
       "</pre>\n"
      ],
      "text/plain": [
       "Tag \u001b[32m\"\u001b[0m\u001b[1;38;2;245;54;185mwhite fur\u001b[0m\u001b[32m\"\u001b[0m found in caption \u001b[32m\"The fox has a vibrant red fur with his chest and bottom of its face covered in \u001b[0m\n",
       "\u001b[1;38;2;245;54;185mwhite fur\u001b[0m\u001b[32m.\"\u001b[0m\n"
      ]
     },
     "metadata": {},
     "output_type": "display_data"
    },
    {
     "data": {
      "text/html": [
       "<pre style=\"white-space:pre;overflow-x:auto;line-height:normal;font-family:Menlo,'DejaVu Sans Mono',consolas,'Courier New',monospace\">C:\\Users\\kade\\Desktop\\training_dir_staging\\1_furry_sticker\\1aea6a3150d717943f2e5d70f799050d.txt\n",
       "</pre>\n"
      ],
      "text/plain": [
       "C:\\Users\\kade\\Desktop\\training_dir_staging\\1_furry_sticker\\1aea6a3150d717943f2e5d70f799050d.txt\n"
      ]
     },
     "metadata": {},
     "output_type": "display_data"
    },
    {
     "data": {
      "text/html": [
       "<pre style=\"white-space:pre;overflow-x:auto;line-height:normal;font-family:Menlo,'DejaVu Sans Mono',consolas,'Courier New',monospace\">Tag <span style=\"color: #008000; text-decoration-color: #008000\">\"</span><span style=\"color: #d8d539; text-decoration-color: #d8d539; font-weight: bold\">fox</span><span style=\"color: #008000; text-decoration-color: #008000\">\"</span> found in caption <span style=\"color: #008000; text-decoration-color: #008000\">\"The image features a stylized cartoon depiction of a </span><span style=\"color: #d8d539; text-decoration-color: #d8d539; font-weight: bold\">fox</span><span style=\"color: #008000; text-decoration-color: #008000\"> with a playful and cheeky </span>\n",
       "<span style=\"color: #008000; text-decoration-color: #008000\">expression and it has its eyes closed.\"</span>\n",
       "</pre>\n"
      ],
      "text/plain": [
       "Tag \u001b[32m\"\u001b[0m\u001b[1;38;2;216;213;57mfox\u001b[0m\u001b[32m\"\u001b[0m found in caption \u001b[32m\"The image features a stylized cartoon depiction of a \u001b[0m\u001b[1;38;2;216;213;57mfox\u001b[0m\u001b[32m with a playful and cheeky \u001b[0m\n",
       "\u001b[32mexpression and it has its eyes closed.\"\u001b[0m\n"
      ]
     },
     "metadata": {},
     "output_type": "display_data"
    },
    {
     "data": {
      "text/html": [
       "<pre style=\"white-space:pre;overflow-x:auto;line-height:normal;font-family:Menlo,'DejaVu Sans Mono',consolas,'Courier New',monospace\">C:\\Users\\kade\\Desktop\\training_dir_staging\\1_furry_sticker\\1aea6a3150d717943f2e5d70f799050d.txt\n",
       "</pre>\n"
      ],
      "text/plain": [
       "C:\\Users\\kade\\Desktop\\training_dir_staging\\1_furry_sticker\\1aea6a3150d717943f2e5d70f799050d.txt\n"
      ]
     },
     "metadata": {},
     "output_type": "display_data"
    },
    {
     "data": {
      "text/html": [
       "<pre style=\"white-space:pre;overflow-x:auto;line-height:normal;font-family:Menlo,'DejaVu Sans Mono',consolas,'Courier New',monospace\">Tag <span style=\"color: #008000; text-decoration-color: #008000\">\"</span><span style=\"color: #58c6e1; text-decoration-color: #58c6e1; font-weight: bold\">eyes closed</span><span style=\"color: #008000; text-decoration-color: #008000\">\"</span> found in caption <span style=\"color: #008000; text-decoration-color: #008000\">\"The image features a stylized cartoon depiction of a fox with a playful and </span>\n",
       "<span style=\"color: #008000; text-decoration-color: #008000\">cheeky expression and it has its </span><span style=\"color: #58c6e1; text-decoration-color: #58c6e1; font-weight: bold\">eyes closed</span><span style=\"color: #008000; text-decoration-color: #008000\">.\"</span>\n",
       "</pre>\n"
      ],
      "text/plain": [
       "Tag \u001b[32m\"\u001b[0m\u001b[1;38;2;88;198;225meyes closed\u001b[0m\u001b[32m\"\u001b[0m found in caption \u001b[32m\"The image features a stylized cartoon depiction of a fox with a playful and \u001b[0m\n",
       "\u001b[32mcheeky expression and it has its \u001b[0m\u001b[1;38;2;88;198;225meyes closed\u001b[0m\u001b[32m.\"\u001b[0m\n"
      ]
     },
     "metadata": {},
     "output_type": "display_data"
    },
    {
     "data": {
      "text/html": [
       "<pre style=\"white-space:pre;overflow-x:auto;line-height:normal;font-family:Menlo,'DejaVu Sans Mono',consolas,'Courier New',monospace\">C:\\Users\\kade\\Desktop\\training_dir_staging\\1_furry_sticker\\1aea6a3150d717943f2e5d70f799050d.txt\n",
       "</pre>\n"
      ],
      "text/plain": [
       "C:\\Users\\kade\\Desktop\\training_dir_staging\\1_furry_sticker\\1aea6a3150d717943f2e5d70f799050d.txt\n"
      ]
     },
     "metadata": {},
     "output_type": "display_data"
    },
    {
     "data": {
      "text/html": [
       "<pre style=\"white-space:pre;overflow-x:auto;line-height:normal;font-family:Menlo,'DejaVu Sans Mono',consolas,'Courier New',monospace\">Tag <span style=\"color: #008000; text-decoration-color: #008000\">\"</span><span style=\"color: #befc85; text-decoration-color: #befc85; font-weight: bold\">black background</span><span style=\"color: #008000; text-decoration-color: #008000\">\"</span> found in caption <span style=\"color: #008000; text-decoration-color: #008000\">\"It is set against a </span><span style=\"color: #befc85; text-decoration-color: #befc85; font-weight: bold\">black background</span><span style=\"color: #008000; text-decoration-color: #008000\"> and there's a textual element at the </span>\n",
       "<span style=\"color: #008000; text-decoration-color: #008000\">bottom that reads 'GAFFERTAPE'.\"</span>\n",
       "</pre>\n"
      ],
      "text/plain": [
       "Tag \u001b[32m\"\u001b[0m\u001b[1;38;2;190;252;133mblack background\u001b[0m\u001b[32m\"\u001b[0m found in caption \u001b[32m\"It is set against a \u001b[0m\u001b[1;38;2;190;252;133mblack background\u001b[0m\u001b[32m and there's a textual element at the \u001b[0m\n",
       "\u001b[32mbottom that reads 'GAFFERTAPE'.\"\u001b[0m\n"
      ]
     },
     "metadata": {},
     "output_type": "display_data"
    },
    {
     "data": {
      "text/html": [
       "<pre style=\"white-space:pre;overflow-x:auto;line-height:normal;font-family:Menlo,'DejaVu Sans Mono',consolas,'Courier New',monospace\">C:\\Users\\kade\\Desktop\\training_dir_staging\\1_furry_sticker\\1aea6a3150d717943f2e5d70f799050d.txt\n",
       "</pre>\n"
      ],
      "text/plain": [
       "C:\\Users\\kade\\Desktop\\training_dir_staging\\1_furry_sticker\\1aea6a3150d717943f2e5d70f799050d.txt\n"
      ]
     },
     "metadata": {},
     "output_type": "display_data"
    },
    {
     "data": {
      "text/html": [
       "<pre style=\"white-space:pre;overflow-x:auto;line-height:normal;font-family:Menlo,'DejaVu Sans Mono',consolas,'Courier New',monospace\">Tag <span style=\"color: #008000; text-decoration-color: #008000\">\"</span><span style=\"color: #1ac780; text-decoration-color: #1ac780; font-weight: bold\">text</span><span style=\"color: #008000; text-decoration-color: #008000\">\"</span> found in caption <span style=\"color: #008000; text-decoration-color: #008000\">\"It is set against a black background and there's a </span><span style=\"color: #1ac780; text-decoration-color: #1ac780; font-weight: bold\">text</span><span style=\"color: #008000; text-decoration-color: #008000\">ual element at the bottom that </span>\n",
       "<span style=\"color: #008000; text-decoration-color: #008000\">reads 'GAFFERTAPE'.\"</span>\n",
       "</pre>\n"
      ],
      "text/plain": [
       "Tag \u001b[32m\"\u001b[0m\u001b[1;38;2;26;199;128mtext\u001b[0m\u001b[32m\"\u001b[0m found in caption \u001b[32m\"It is set against a black background and there's a \u001b[0m\u001b[1;38;2;26;199;128mtext\u001b[0m\u001b[32mual element at the bottom that \u001b[0m\n",
       "\u001b[32mreads 'GAFFERTAPE'.\"\u001b[0m\n"
      ]
     },
     "metadata": {},
     "output_type": "display_data"
    },
    {
     "data": {
      "text/html": [
       "<pre style=\"white-space:pre;overflow-x:auto;line-height:normal;font-family:Menlo,'DejaVu Sans Mono',consolas,'Courier New',monospace\">C:\\Users\\kade\\Desktop\\training_dir_staging\\1_furry_sticker\\1aea6a3150d717943f2e5d70f799050d.txt\n",
       "</pre>\n"
      ],
      "text/plain": [
       "C:\\Users\\kade\\Desktop\\training_dir_staging\\1_furry_sticker\\1aea6a3150d717943f2e5d70f799050d.txt\n"
      ]
     },
     "metadata": {},
     "output_type": "display_data"
    },
    {
     "data": {
      "text/html": [
       "<pre style=\"white-space:pre;overflow-x:auto;line-height:normal;font-family:Menlo,'DejaVu Sans Mono',consolas,'Courier New',monospace\">Tag <span style=\"color: #008000; text-decoration-color: #008000\">\"</span><span style=\"color: #7d2b58; text-decoration-color: #7d2b58; font-weight: bold\">text</span><span style=\"color: #008000; text-decoration-color: #008000\">\"</span> found in caption <span style=\"color: #008000; text-decoration-color: #008000\">\"The character and the </span><span style=\"color: #7d2b58; text-decoration-color: #7d2b58; font-weight: bold\">text</span><span style=\"color: #008000; text-decoration-color: #008000\"> has a white outline around it.\"</span>\n",
       "</pre>\n"
      ],
      "text/plain": [
       "Tag \u001b[32m\"\u001b[0m\u001b[1;38;2;125;43;88mtext\u001b[0m\u001b[32m\"\u001b[0m found in caption \u001b[32m\"The character and the \u001b[0m\u001b[1;38;2;125;43;88mtext\u001b[0m\u001b[32m has a white outline around it.\"\u001b[0m\n"
      ]
     },
     "metadata": {},
     "output_type": "display_data"
    },
    {
     "data": {
      "text/html": [
       "<pre style=\"white-space:pre;overflow-x:auto;line-height:normal;font-family:Menlo,'DejaVu Sans Mono',consolas,'Courier New',monospace\">C:\\Users\\kade\\Desktop\\training_dir_staging\\1_furry_sticker\\1aea6a3150d717943f2e5d70f799050d.txt\n",
       "</pre>\n"
      ],
      "text/plain": [
       "C:\\Users\\kade\\Desktop\\training_dir_staging\\1_furry_sticker\\1aea6a3150d717943f2e5d70f799050d.txt\n"
      ]
     },
     "metadata": {},
     "output_type": "display_data"
    },
    {
     "data": {
      "text/html": [
       "<pre style=\"white-space:pre;overflow-x:auto;line-height:normal;font-family:Menlo,'DejaVu Sans Mono',consolas,'Courier New',monospace\">Tag <span style=\"color: #008000; text-decoration-color: #008000\">\"</span><span style=\"color: #db9681; text-decoration-color: #db9681; font-weight: bold\">fur</span><span style=\"color: #008000; text-decoration-color: #008000\">\"</span> found in caption <span style=\"color: #008000; text-decoration-color: #008000\">\"The creature has orange </span><span style=\"color: #db9681; text-decoration-color: #db9681; font-weight: bold\">fur</span><span style=\"color: #008000; text-decoration-color: #008000\"> with white accents pointed ears and a mischievous smirk.\"</span>\n",
       "</pre>\n"
      ],
      "text/plain": [
       "Tag \u001b[32m\"\u001b[0m\u001b[1;38;2;219;150;129mfur\u001b[0m\u001b[32m\"\u001b[0m found in caption \u001b[32m\"The creature has orange \u001b[0m\u001b[1;38;2;219;150;129mfur\u001b[0m\u001b[32m with white accents pointed ears and a mischievous smirk.\"\u001b[0m\n"
      ]
     },
     "metadata": {},
     "output_type": "display_data"
    },
    {
     "data": {
      "text/html": [
       "<pre style=\"white-space:pre;overflow-x:auto;line-height:normal;font-family:Menlo,'DejaVu Sans Mono',consolas,'Courier New',monospace\">C:\\Users\\kade\\Desktop\\training_dir_staging\\1_furry_sticker\\1aea6a3150d717943f2e5d70f799050d.txt\n",
       "</pre>\n"
      ],
      "text/plain": [
       "C:\\Users\\kade\\Desktop\\training_dir_staging\\1_furry_sticker\\1aea6a3150d717943f2e5d70f799050d.txt\n"
      ]
     },
     "metadata": {},
     "output_type": "display_data"
    },
    {
     "data": {
      "text/html": [
       "<pre style=\"white-space:pre;overflow-x:auto;line-height:normal;font-family:Menlo,'DejaVu Sans Mono',consolas,'Courier New',monospace\">Tag <span style=\"color: #008000; text-decoration-color: #008000\">\"</span><span style=\"color: #604097; text-decoration-color: #604097; font-weight: bold\">orange fur</span><span style=\"color: #008000; text-decoration-color: #008000\">\"</span> found in caption <span style=\"color: #008000; text-decoration-color: #008000\">\"The creature has </span><span style=\"color: #604097; text-decoration-color: #604097; font-weight: bold\">orange fur</span><span style=\"color: #008000; text-decoration-color: #008000\"> with white accents pointed ears and a mischievous </span>\n",
       "<span style=\"color: #008000; text-decoration-color: #008000\">smirk.\"</span>\n",
       "</pre>\n"
      ],
      "text/plain": [
       "Tag \u001b[32m\"\u001b[0m\u001b[1;38;2;96;64;151morange fur\u001b[0m\u001b[32m\"\u001b[0m found in caption \u001b[32m\"The creature has \u001b[0m\u001b[1;38;2;96;64;151morange fur\u001b[0m\u001b[32m with white accents pointed ears and a mischievous \u001b[0m\n",
       "\u001b[32msmirk.\"\u001b[0m\n"
      ]
     },
     "metadata": {},
     "output_type": "display_data"
    },
    {
     "data": {
      "text/html": [
       "<pre style=\"white-space:pre;overflow-x:auto;line-height:normal;font-family:Menlo,'DejaVu Sans Mono',consolas,'Courier New',monospace\">C:\\Users\\kade\\Desktop\\training_dir_staging\\1_furry_sticker\\1b09d9c4726d721e86b204c23ab9e184.txt\n",
       "</pre>\n"
      ],
      "text/plain": [
       "C:\\Users\\kade\\Desktop\\training_dir_staging\\1_furry_sticker\\1b09d9c4726d721e86b204c23ab9e184.txt\n"
      ]
     },
     "metadata": {},
     "output_type": "display_data"
    },
    {
     "data": {
      "text/html": [
       "<pre style=\"white-space:pre;overflow-x:auto;line-height:normal;font-family:Menlo,'DejaVu Sans Mono',consolas,'Courier New',monospace\">Tag <span style=\"color: #008000; text-decoration-color: #008000\">\"</span><span style=\"color: #a55fd6; text-decoration-color: #a55fd6; font-weight: bold\">fox</span><span style=\"color: #008000; text-decoration-color: #008000\">\"</span> found in caption <span style=\"color: #008000; text-decoration-color: #008000\">\"The image depicts an anthro red </span><span style=\"color: #a55fd6; text-decoration-color: #a55fd6; font-weight: bold\">fox</span><span style=\"color: #008000; text-decoration-color: #008000\"> sitting at a desk.\"</span>\n",
       "</pre>\n"
      ],
      "text/plain": [
       "Tag \u001b[32m\"\u001b[0m\u001b[1;38;2;165;95;214mfox\u001b[0m\u001b[32m\"\u001b[0m found in caption \u001b[32m\"The image depicts an anthro red \u001b[0m\u001b[1;38;2;165;95;214mfox\u001b[0m\u001b[32m sitting at a desk.\"\u001b[0m\n"
      ]
     },
     "metadata": {},
     "output_type": "display_data"
    },
    {
     "data": {
      "text/html": [
       "<pre style=\"white-space:pre;overflow-x:auto;line-height:normal;font-family:Menlo,'DejaVu Sans Mono',consolas,'Courier New',monospace\">C:\\Users\\kade\\Desktop\\training_dir_staging\\1_furry_sticker\\1b09d9c4726d721e86b204c23ab9e184.txt\n",
       "</pre>\n"
      ],
      "text/plain": [
       "C:\\Users\\kade\\Desktop\\training_dir_staging\\1_furry_sticker\\1b09d9c4726d721e86b204c23ab9e184.txt\n"
      ]
     },
     "metadata": {},
     "output_type": "display_data"
    },
    {
     "data": {
      "text/html": [
       "<pre style=\"white-space:pre;overflow-x:auto;line-height:normal;font-family:Menlo,'DejaVu Sans Mono',consolas,'Courier New',monospace\">Tag <span style=\"color: #008000; text-decoration-color: #008000\">\"</span><span style=\"color: #b43b70; text-decoration-color: #b43b70; font-weight: bold\">fox</span><span style=\"color: #008000; text-decoration-color: #008000\">\"</span> found in caption <span style=\"color: #008000; text-decoration-color: #008000\">\"The </span><span style=\"color: #b43b70; text-decoration-color: #b43b70; font-weight: bold\">fox</span><span style=\"color: #008000; text-decoration-color: #008000\"> appears to be working on a computer as evidenced by the keyboard in front of it</span>\n",
       "<span style=\"color: #008000; text-decoration-color: #008000\">and the computer mouse with a mousepad on the desk.\"</span>\n",
       "</pre>\n"
      ],
      "text/plain": [
       "Tag \u001b[32m\"\u001b[0m\u001b[1;38;2;180;59;112mfox\u001b[0m\u001b[32m\"\u001b[0m found in caption \u001b[32m\"The \u001b[0m\u001b[1;38;2;180;59;112mfox\u001b[0m\u001b[32m appears to be working on a computer as evidenced by the keyboard in front of it\u001b[0m\n",
       "\u001b[32mand the computer mouse with a mousepad on the desk.\"\u001b[0m\n"
      ]
     },
     "metadata": {},
     "output_type": "display_data"
    },
    {
     "data": {
      "text/html": [
       "<pre style=\"white-space:pre;overflow-x:auto;line-height:normal;font-family:Menlo,'DejaVu Sans Mono',consolas,'Courier New',monospace\">C:\\Users\\kade\\Desktop\\training_dir_staging\\1_furry_sticker\\1b09d9c4726d721e86b204c23ab9e184.txt\n",
       "</pre>\n"
      ],
      "text/plain": [
       "C:\\Users\\kade\\Desktop\\training_dir_staging\\1_furry_sticker\\1b09d9c4726d721e86b204c23ab9e184.txt\n"
      ]
     },
     "metadata": {},
     "output_type": "display_data"
    },
    {
     "data": {
      "text/html": [
       "<pre style=\"white-space:pre;overflow-x:auto;line-height:normal;font-family:Menlo,'DejaVu Sans Mono',consolas,'Courier New',monospace\">Tag <span style=\"color: #008000; text-decoration-color: #008000\">\"</span><span style=\"color: #48f202; text-decoration-color: #48f202; font-weight: bold\">fox</span><span style=\"color: #008000; text-decoration-color: #008000\">\"</span> found in caption <span style=\"color: #008000; text-decoration-color: #008000\">\"The </span><span style=\"color: #48f202; text-decoration-color: #48f202; font-weight: bold\">fox</span><span style=\"color: #008000; text-decoration-color: #008000\"> has a perplexed expression on its face.\"</span>\n",
       "</pre>\n"
      ],
      "text/plain": [
       "Tag \u001b[32m\"\u001b[0m\u001b[1;38;2;72;242;2mfox\u001b[0m\u001b[32m\"\u001b[0m found in caption \u001b[32m\"The \u001b[0m\u001b[1;38;2;72;242;2mfox\u001b[0m\u001b[32m has a perplexed expression on its face.\"\u001b[0m\n"
      ]
     },
     "metadata": {},
     "output_type": "display_data"
    },
    {
     "data": {
      "text/html": [
       "<pre style=\"white-space:pre;overflow-x:auto;line-height:normal;font-family:Menlo,'DejaVu Sans Mono',consolas,'Courier New',monospace\">C:\\Users\\kade\\Desktop\\training_dir_staging\\1_furry_sticker\\1b09d9c4726d721e86b204c23ab9e184.txt\n",
       "</pre>\n"
      ],
      "text/plain": [
       "C:\\Users\\kade\\Desktop\\training_dir_staging\\1_furry_sticker\\1b09d9c4726d721e86b204c23ab9e184.txt\n"
      ]
     },
     "metadata": {},
     "output_type": "display_data"
    },
    {
     "data": {
      "text/html": [
       "<pre style=\"white-space:pre;overflow-x:auto;line-height:normal;font-family:Menlo,'DejaVu Sans Mono',consolas,'Courier New',monospace\">Tag <span style=\"color: #008000; text-decoration-color: #008000\">\"</span><span style=\"color: #211332; text-decoration-color: #211332; font-weight: bold\">anthro</span><span style=\"color: #008000; text-decoration-color: #008000\">\"</span> found in caption <span style=\"color: #008000; text-decoration-color: #008000\">\"The image depicts an </span><span style=\"color: #211332; text-decoration-color: #211332; font-weight: bold\">anthro</span><span style=\"color: #008000; text-decoration-color: #008000\"> red fox sitting at a desk.\"</span>\n",
       "</pre>\n"
      ],
      "text/plain": [
       "Tag \u001b[32m\"\u001b[0m\u001b[1;38;2;33;19;50manthro\u001b[0m\u001b[32m\"\u001b[0m found in caption \u001b[32m\"The image depicts an \u001b[0m\u001b[1;38;2;33;19;50manthro\u001b[0m\u001b[32m red fox sitting at a desk.\"\u001b[0m\n"
      ]
     },
     "metadata": {},
     "output_type": "display_data"
    },
    {
     "data": {
      "text/html": [
       "<pre style=\"white-space:pre;overflow-x:auto;line-height:normal;font-family:Menlo,'DejaVu Sans Mono',consolas,'Courier New',monospace\">C:\\Users\\kade\\Desktop\\training_dir_staging\\1_furry_sticker\\1c014a48012a09c9d2fb05aea4862190.txt\n",
       "</pre>\n"
      ],
      "text/plain": [
       "C:\\Users\\kade\\Desktop\\training_dir_staging\\1_furry_sticker\\1c014a48012a09c9d2fb05aea4862190.txt\n"
      ]
     },
     "metadata": {},
     "output_type": "display_data"
    },
    {
     "data": {
      "text/html": [
       "<pre style=\"white-space:pre;overflow-x:auto;line-height:normal;font-family:Menlo,'DejaVu Sans Mono',consolas,'Courier New',monospace\">Tag <span style=\"color: #008000; text-decoration-color: #008000\">\"</span><span style=\"color: #0e6d9e; text-decoration-color: #0e6d9e; font-weight: bold\">anthro</span><span style=\"color: #008000; text-decoration-color: #008000\">\"</span> found in caption <span style=\"color: #008000; text-decoration-color: #008000\">\"The image showcases a cartoonish </span><span style=\"color: #0e6d9e; text-decoration-color: #0e6d9e; font-weight: bold\">anthro</span><span style=\"color: #008000; text-decoration-color: #008000\"> canine with gray and black fur.\"</span>\n",
       "</pre>\n"
      ],
      "text/plain": [
       "Tag \u001b[32m\"\u001b[0m\u001b[1;38;2;14;109;158manthro\u001b[0m\u001b[32m\"\u001b[0m found in caption \u001b[32m\"The image showcases a cartoonish \u001b[0m\u001b[1;38;2;14;109;158manthro\u001b[0m\u001b[32m canine with gray and black fur.\"\u001b[0m\n"
      ]
     },
     "metadata": {},
     "output_type": "display_data"
    },
    {
     "data": {
      "text/html": [
       "<pre style=\"white-space:pre;overflow-x:auto;line-height:normal;font-family:Menlo,'DejaVu Sans Mono',consolas,'Courier New',monospace\">C:\\Users\\kade\\Desktop\\training_dir_staging\\1_furry_sticker\\1c014a48012a09c9d2fb05aea4862190.txt\n",
       "</pre>\n"
      ],
      "text/plain": [
       "C:\\Users\\kade\\Desktop\\training_dir_staging\\1_furry_sticker\\1c014a48012a09c9d2fb05aea4862190.txt\n"
      ]
     },
     "metadata": {},
     "output_type": "display_data"
    },
    {
     "data": {
      "text/html": [
       "<pre style=\"white-space:pre;overflow-x:auto;line-height:normal;font-family:Menlo,'DejaVu Sans Mono',consolas,'Courier New',monospace\">Tag <span style=\"color: #008000; text-decoration-color: #008000\">\"</span><span style=\"color: #2acfcf; text-decoration-color: #2acfcf; font-weight: bold\">fur</span><span style=\"color: #008000; text-decoration-color: #008000\">\"</span> found in caption <span style=\"color: #008000; text-decoration-color: #008000\">\"The image showcases a cartoonish anthro canine with gray and black </span><span style=\"color: #2acfcf; text-decoration-color: #2acfcf; font-weight: bold\">fur</span><span style=\"color: #008000; text-decoration-color: #008000\">.\"</span>\n",
       "</pre>\n"
      ],
      "text/plain": [
       "Tag \u001b[32m\"\u001b[0m\u001b[1;38;2;42;207;207mfur\u001b[0m\u001b[32m\"\u001b[0m found in caption \u001b[32m\"The image showcases a cartoonish anthro canine with gray and black \u001b[0m\u001b[1;38;2;42;207;207mfur\u001b[0m\u001b[32m.\"\u001b[0m\n"
      ]
     },
     "metadata": {},
     "output_type": "display_data"
    },
    {
     "data": {
      "text/html": [
       "<pre style=\"white-space:pre;overflow-x:auto;line-height:normal;font-family:Menlo,'DejaVu Sans Mono',consolas,'Courier New',monospace\">C:\\Users\\kade\\Desktop\\training_dir_staging\\1_furry_sticker\\1c014a48012a09c9d2fb05aea4862190.txt\n",
       "</pre>\n"
      ],
      "text/plain": [
       "C:\\Users\\kade\\Desktop\\training_dir_staging\\1_furry_sticker\\1c014a48012a09c9d2fb05aea4862190.txt\n"
      ]
     },
     "metadata": {},
     "output_type": "display_data"
    },
    {
     "data": {
      "text/html": [
       "<pre style=\"white-space:pre;overflow-x:auto;line-height:normal;font-family:Menlo,'DejaVu Sans Mono',consolas,'Courier New',monospace\">Tag <span style=\"color: #008000; text-decoration-color: #008000\">\"</span><span style=\"color: #e203b7; text-decoration-color: #e203b7; font-weight: bold\">canine</span><span style=\"color: #008000; text-decoration-color: #008000\">\"</span> found in caption <span style=\"color: #008000; text-decoration-color: #008000\">\"The image showcases a cartoonish anthro </span><span style=\"color: #e203b7; text-decoration-color: #e203b7; font-weight: bold\">canine</span><span style=\"color: #008000; text-decoration-color: #008000\"> with gray and black fur.\"</span>\n",
       "</pre>\n"
      ],
      "text/plain": [
       "Tag \u001b[32m\"\u001b[0m\u001b[1;38;2;226;3;183mcanine\u001b[0m\u001b[32m\"\u001b[0m found in caption \u001b[32m\"The image showcases a cartoonish anthro \u001b[0m\u001b[1;38;2;226;3;183mcanine\u001b[0m\u001b[32m with gray and black fur.\"\u001b[0m\n"
      ]
     },
     "metadata": {},
     "output_type": "display_data"
    },
    {
     "data": {
      "text/html": [
       "<pre style=\"white-space:pre;overflow-x:auto;line-height:normal;font-family:Menlo,'DejaVu Sans Mono',consolas,'Courier New',monospace\">C:\\Users\\kade\\Desktop\\training_dir_staging\\1_furry_sticker\\1d64f33795f33146e529a43b23c9d247.txt\n",
       "</pre>\n"
      ],
      "text/plain": [
       "C:\\Users\\kade\\Desktop\\training_dir_staging\\1_furry_sticker\\1d64f33795f33146e529a43b23c9d247.txt\n"
      ]
     },
     "metadata": {},
     "output_type": "display_data"
    },
    {
     "data": {
      "text/html": [
       "<pre style=\"white-space:pre;overflow-x:auto;line-height:normal;font-family:Menlo,'DejaVu Sans Mono',consolas,'Courier New',monospace\">Tag <span style=\"color: #008000; text-decoration-color: #008000\">\"</span><span style=\"color: #2d597c; text-decoration-color: #2d597c; font-weight: bold\">furry sticker</span><span style=\"color: #008000; text-decoration-color: #008000\">\"</span> found in caption <span style=\"color: #008000; text-decoration-color: #008000\">\"The </span><span style=\"color: #2d597c; text-decoration-color: #2d597c; font-weight: bold\">furry sticker</span><span style=\"color: #008000; text-decoration-color: #008000\"> features a cartoon anthro fox character.\"</span>\n",
       "</pre>\n"
      ],
      "text/plain": [
       "Tag \u001b[32m\"\u001b[0m\u001b[1;38;2;45;89;124mfurry sticker\u001b[0m\u001b[32m\"\u001b[0m found in caption \u001b[32m\"The \u001b[0m\u001b[1;38;2;45;89;124mfurry sticker\u001b[0m\u001b[32m features a cartoon anthro fox character.\"\u001b[0m\n"
      ]
     },
     "metadata": {},
     "output_type": "display_data"
    },
    {
     "data": {
      "text/html": [
       "<pre style=\"white-space:pre;overflow-x:auto;line-height:normal;font-family:Menlo,'DejaVu Sans Mono',consolas,'Courier New',monospace\">C:\\Users\\kade\\Desktop\\training_dir_staging\\1_furry_sticker\\1d64f33795f33146e529a43b23c9d247.txt\n",
       "</pre>\n"
      ],
      "text/plain": [
       "C:\\Users\\kade\\Desktop\\training_dir_staging\\1_furry_sticker\\1d64f33795f33146e529a43b23c9d247.txt\n"
      ]
     },
     "metadata": {},
     "output_type": "display_data"
    },
    {
     "data": {
      "text/html": [
       "<pre style=\"white-space:pre;overflow-x:auto;line-height:normal;font-family:Menlo,'DejaVu Sans Mono',consolas,'Courier New',monospace\">Tag <span style=\"color: #008000; text-decoration-color: #008000\">\"</span><span style=\"color: #1feefe; text-decoration-color: #1feefe; font-weight: bold\">fox</span><span style=\"color: #008000; text-decoration-color: #008000\">\"</span> found in caption <span style=\"color: #008000; text-decoration-color: #008000\">\"The furry sticker features a cartoon anthro </span><span style=\"color: #1feefe; text-decoration-color: #1feefe; font-weight: bold\">fox</span><span style=\"color: #008000; text-decoration-color: #008000\"> character.\"</span>\n",
       "</pre>\n"
      ],
      "text/plain": [
       "Tag \u001b[32m\"\u001b[0m\u001b[1;38;2;31;238;254mfox\u001b[0m\u001b[32m\"\u001b[0m found in caption \u001b[32m\"The furry sticker features a cartoon anthro \u001b[0m\u001b[1;38;2;31;238;254mfox\u001b[0m\u001b[32m character.\"\u001b[0m\n"
      ]
     },
     "metadata": {},
     "output_type": "display_data"
    },
    {
     "data": {
      "text/html": [
       "<pre style=\"white-space:pre;overflow-x:auto;line-height:normal;font-family:Menlo,'DejaVu Sans Mono',consolas,'Courier New',monospace\">C:\\Users\\kade\\Desktop\\training_dir_staging\\1_furry_sticker\\1d64f33795f33146e529a43b23c9d247.txt\n",
       "</pre>\n"
      ],
      "text/plain": [
       "C:\\Users\\kade\\Desktop\\training_dir_staging\\1_furry_sticker\\1d64f33795f33146e529a43b23c9d247.txt\n"
      ]
     },
     "metadata": {},
     "output_type": "display_data"
    },
    {
     "data": {
      "text/html": [
       "<pre style=\"white-space:pre;overflow-x:auto;line-height:normal;font-family:Menlo,'DejaVu Sans Mono',consolas,'Courier New',monospace\">Tag <span style=\"color: #008000; text-decoration-color: #008000\">\"</span><span style=\"color: #0d71bb; text-decoration-color: #0d71bb; font-weight: bold\">fox</span><span style=\"color: #008000; text-decoration-color: #008000\">\"</span> found in caption <span style=\"color: #008000; text-decoration-color: #008000\">\"The </span><span style=\"color: #0d71bb; text-decoration-color: #0d71bb; font-weight: bold\">fox</span><span style=\"color: #008000; text-decoration-color: #008000\"> has a red fur with pointed ears and amber eyes.\"</span>\n",
       "</pre>\n"
      ],
      "text/plain": [
       "Tag \u001b[32m\"\u001b[0m\u001b[1;38;2;13;113;187mfox\u001b[0m\u001b[32m\"\u001b[0m found in caption \u001b[32m\"The \u001b[0m\u001b[1;38;2;13;113;187mfox\u001b[0m\u001b[32m has a red fur with pointed ears and amber eyes.\"\u001b[0m\n"
      ]
     },
     "metadata": {},
     "output_type": "display_data"
    },
    {
     "data": {
      "text/html": [
       "<pre style=\"white-space:pre;overflow-x:auto;line-height:normal;font-family:Menlo,'DejaVu Sans Mono',consolas,'Courier New',monospace\">C:\\Users\\kade\\Desktop\\training_dir_staging\\1_furry_sticker\\1d64f33795f33146e529a43b23c9d247.txt\n",
       "</pre>\n"
      ],
      "text/plain": [
       "C:\\Users\\kade\\Desktop\\training_dir_staging\\1_furry_sticker\\1d64f33795f33146e529a43b23c9d247.txt\n"
      ]
     },
     "metadata": {},
     "output_type": "display_data"
    },
    {
     "data": {
      "text/html": [
       "<pre style=\"white-space:pre;overflow-x:auto;line-height:normal;font-family:Menlo,'DejaVu Sans Mono',consolas,'Courier New',monospace\">Tag <span style=\"color: #008000; text-decoration-color: #008000\">\"</span><span style=\"color: #4cf160; text-decoration-color: #4cf160; font-weight: bold\">fox</span><span style=\"color: #008000; text-decoration-color: #008000\">\"</span> found in caption <span style=\"color: #008000; text-decoration-color: #008000\">\"Above the </span><span style=\"color: #4cf160; text-decoration-color: #4cf160; font-weight: bold\">fox</span><span style=\"color: #008000; text-decoration-color: #008000\"> there's a light bulb symbol indicating a bright idea or inspiration.\"</span>\n",
       "</pre>\n"
      ],
      "text/plain": [
       "Tag \u001b[32m\"\u001b[0m\u001b[1;38;2;76;241;96mfox\u001b[0m\u001b[32m\"\u001b[0m found in caption \u001b[32m\"Above the \u001b[0m\u001b[1;38;2;76;241;96mfox\u001b[0m\u001b[32m there's a light bulb symbol indicating a bright idea or inspiration.\"\u001b[0m\n"
      ]
     },
     "metadata": {},
     "output_type": "display_data"
    },
    {
     "data": {
      "text/html": [
       "<pre style=\"white-space:pre;overflow-x:auto;line-height:normal;font-family:Menlo,'DejaVu Sans Mono',consolas,'Courier New',monospace\">C:\\Users\\kade\\Desktop\\training_dir_staging\\1_furry_sticker\\1d64f33795f33146e529a43b23c9d247.txt\n",
       "</pre>\n"
      ],
      "text/plain": [
       "C:\\Users\\kade\\Desktop\\training_dir_staging\\1_furry_sticker\\1d64f33795f33146e529a43b23c9d247.txt\n"
      ]
     },
     "metadata": {},
     "output_type": "display_data"
    },
    {
     "data": {
      "text/html": [
       "<pre style=\"white-space:pre;overflow-x:auto;line-height:normal;font-family:Menlo,'DejaVu Sans Mono',consolas,'Courier New',monospace\">Tag <span style=\"color: #008000; text-decoration-color: #008000\">\"</span><span style=\"color: #0d3536; text-decoration-color: #0d3536; font-weight: bold\">anthro</span><span style=\"color: #008000; text-decoration-color: #008000\">\"</span> found in caption <span style=\"color: #008000; text-decoration-color: #008000\">\"The furry sticker features a cartoon </span><span style=\"color: #0d3536; text-decoration-color: #0d3536; font-weight: bold\">anthro</span><span style=\"color: #008000; text-decoration-color: #008000\"> fox character.\"</span>\n",
       "</pre>\n"
      ],
      "text/plain": [
       "Tag \u001b[32m\"\u001b[0m\u001b[1;38;2;13;53;54manthro\u001b[0m\u001b[32m\"\u001b[0m found in caption \u001b[32m\"The furry sticker features a cartoon \u001b[0m\u001b[1;38;2;13;53;54manthro\u001b[0m\u001b[32m fox character.\"\u001b[0m\n"
      ]
     },
     "metadata": {},
     "output_type": "display_data"
    },
    {
     "data": {
      "text/html": [
       "<pre style=\"white-space:pre;overflow-x:auto;line-height:normal;font-family:Menlo,'DejaVu Sans Mono',consolas,'Courier New',monospace\">C:\\Users\\kade\\Desktop\\training_dir_staging\\1_furry_sticker\\1d64f33795f33146e529a43b23c9d247.txt\n",
       "</pre>\n"
      ],
      "text/plain": [
       "C:\\Users\\kade\\Desktop\\training_dir_staging\\1_furry_sticker\\1d64f33795f33146e529a43b23c9d247.txt\n"
      ]
     },
     "metadata": {},
     "output_type": "display_data"
    },
    {
     "data": {
      "text/html": [
       "<pre style=\"white-space:pre;overflow-x:auto;line-height:normal;font-family:Menlo,'DejaVu Sans Mono',consolas,'Courier New',monospace\">Tag <span style=\"color: #008000; text-decoration-color: #008000\">\"</span><span style=\"color: #8d715c; text-decoration-color: #8d715c; font-weight: bold\">fur</span><span style=\"color: #008000; text-decoration-color: #008000\">\"</span> found in caption <span style=\"color: #008000; text-decoration-color: #008000\">\"The </span><span style=\"color: #8d715c; text-decoration-color: #8d715c; font-weight: bold\">fur</span><span style=\"color: #008000; text-decoration-color: #008000\">ry sticker features a cartoon anthro fox character.\"</span>\n",
       "</pre>\n"
      ],
      "text/plain": [
       "Tag \u001b[32m\"\u001b[0m\u001b[1;38;2;141;113;92mfur\u001b[0m\u001b[32m\"\u001b[0m found in caption \u001b[32m\"The \u001b[0m\u001b[1;38;2;141;113;92mfur\u001b[0m\u001b[32mry sticker features a cartoon anthro fox character.\"\u001b[0m\n"
      ]
     },
     "metadata": {},
     "output_type": "display_data"
    },
    {
     "data": {
      "text/html": [
       "<pre style=\"white-space:pre;overflow-x:auto;line-height:normal;font-family:Menlo,'DejaVu Sans Mono',consolas,'Courier New',monospace\">C:\\Users\\kade\\Desktop\\training_dir_staging\\1_furry_sticker\\1d64f33795f33146e529a43b23c9d247.txt\n",
       "</pre>\n"
      ],
      "text/plain": [
       "C:\\Users\\kade\\Desktop\\training_dir_staging\\1_furry_sticker\\1d64f33795f33146e529a43b23c9d247.txt\n"
      ]
     },
     "metadata": {},
     "output_type": "display_data"
    },
    {
     "data": {
      "text/html": [
       "<pre style=\"white-space:pre;overflow-x:auto;line-height:normal;font-family:Menlo,'DejaVu Sans Mono',consolas,'Courier New',monospace\">Tag <span style=\"color: #008000; text-decoration-color: #008000\">\"</span><span style=\"color: #f6c799; text-decoration-color: #f6c799; font-weight: bold\">fur</span><span style=\"color: #008000; text-decoration-color: #008000\">\"</span> found in caption <span style=\"color: #008000; text-decoration-color: #008000\">\"The fox has a red </span><span style=\"color: #f6c799; text-decoration-color: #f6c799; font-weight: bold\">fur</span><span style=\"color: #008000; text-decoration-color: #008000\"> with pointed ears and amber eyes.\"</span>\n",
       "</pre>\n"
      ],
      "text/plain": [
       "Tag \u001b[32m\"\u001b[0m\u001b[1;38;2;246;199;153mfur\u001b[0m\u001b[32m\"\u001b[0m found in caption \u001b[32m\"The fox has a red \u001b[0m\u001b[1;38;2;246;199;153mfur\u001b[0m\u001b[32m with pointed ears and amber eyes.\"\u001b[0m\n"
      ]
     },
     "metadata": {},
     "output_type": "display_data"
    },
    {
     "data": {
      "text/html": [
       "<pre style=\"white-space:pre;overflow-x:auto;line-height:normal;font-family:Menlo,'DejaVu Sans Mono',consolas,'Courier New',monospace\">C:\\Users\\kade\\Desktop\\training_dir_staging\\1_furry_sticker\\1d64f33795f33146e529a43b23c9d247.txt\n",
       "</pre>\n"
      ],
      "text/plain": [
       "C:\\Users\\kade\\Desktop\\training_dir_staging\\1_furry_sticker\\1d64f33795f33146e529a43b23c9d247.txt\n"
      ]
     },
     "metadata": {},
     "output_type": "display_data"
    },
    {
     "data": {
      "text/html": [
       "<pre style=\"white-space:pre;overflow-x:auto;line-height:normal;font-family:Menlo,'DejaVu Sans Mono',consolas,'Courier New',monospace\">Tag <span style=\"color: #008000; text-decoration-color: #008000\">\"</span><span style=\"color: #e28fe9; text-decoration-color: #e28fe9; font-weight: bold\">red fur</span><span style=\"color: #008000; text-decoration-color: #008000\">\"</span> found in caption <span style=\"color: #008000; text-decoration-color: #008000\">\"The fox has a </span><span style=\"color: #e28fe9; text-decoration-color: #e28fe9; font-weight: bold\">red fur</span><span style=\"color: #008000; text-decoration-color: #008000\"> with pointed ears and amber eyes.\"</span>\n",
       "</pre>\n"
      ],
      "text/plain": [
       "Tag \u001b[32m\"\u001b[0m\u001b[1;38;2;226;143;233mred fur\u001b[0m\u001b[32m\"\u001b[0m found in caption \u001b[32m\"The fox has a \u001b[0m\u001b[1;38;2;226;143;233mred fur\u001b[0m\u001b[32m with pointed ears and amber eyes.\"\u001b[0m\n"
      ]
     },
     "metadata": {},
     "output_type": "display_data"
    },
    {
     "data": {
      "text/html": [
       "<pre style=\"white-space:pre;overflow-x:auto;line-height:normal;font-family:Menlo,'DejaVu Sans Mono',consolas,'Courier New',monospace\">C:\\Users\\kade\\Desktop\\training_dir_staging\\1_furry_sticker\\1d64f33795f33146e529a43b23c9d247.txt\n",
       "</pre>\n"
      ],
      "text/plain": [
       "C:\\Users\\kade\\Desktop\\training_dir_staging\\1_furry_sticker\\1d64f33795f33146e529a43b23c9d247.txt\n"
      ]
     },
     "metadata": {},
     "output_type": "display_data"
    },
    {
     "data": {
      "text/html": [
       "<pre style=\"white-space:pre;overflow-x:auto;line-height:normal;font-family:Menlo,'DejaVu Sans Mono',consolas,'Courier New',monospace\">Tag <span style=\"color: #008000; text-decoration-color: #008000\">\"</span><span style=\"color: #8020d9; text-decoration-color: #8020d9; font-weight: bold\">outline</span><span style=\"color: #008000; text-decoration-color: #008000\">\"</span> found in caption <span style=\"color: #008000; text-decoration-color: #008000\">\"The character has a white </span><span style=\"color: #8020d9; text-decoration-color: #8020d9; font-weight: bold\">outline</span><span style=\"color: #008000; text-decoration-color: #008000\"> around it.\"</span>\n",
       "</pre>\n"
      ],
      "text/plain": [
       "Tag \u001b[32m\"\u001b[0m\u001b[1;38;2;128;32;217moutline\u001b[0m\u001b[32m\"\u001b[0m found in caption \u001b[32m\"The character has a white \u001b[0m\u001b[1;38;2;128;32;217moutline\u001b[0m\u001b[32m around it.\"\u001b[0m\n"
      ]
     },
     "metadata": {},
     "output_type": "display_data"
    },
    {
     "data": {
      "text/html": [
       "<pre style=\"white-space:pre;overflow-x:auto;line-height:normal;font-family:Menlo,'DejaVu Sans Mono',consolas,'Courier New',monospace\">C:\\Users\\kade\\Desktop\\training_dir_staging\\1_furry_sticker\\1e3206f761554e1827e9e2ff1dd2f180.txt\n",
       "</pre>\n"
      ],
      "text/plain": [
       "C:\\Users\\kade\\Desktop\\training_dir_staging\\1_furry_sticker\\1e3206f761554e1827e9e2ff1dd2f180.txt\n"
      ]
     },
     "metadata": {},
     "output_type": "display_data"
    },
    {
     "data": {
      "text/html": [
       "<pre style=\"white-space:pre;overflow-x:auto;line-height:normal;font-family:Menlo,'DejaVu Sans Mono',consolas,'Courier New',monospace\">Tag <span style=\"color: #008000; text-decoration-color: #008000\">\"</span><span style=\"color: #9e8e0f; text-decoration-color: #9e8e0f; font-weight: bold\">furry sticker</span><span style=\"color: #008000; text-decoration-color: #008000\">\"</span> found in caption <span style=\"color: #008000; text-decoration-color: #008000\">\"The </span><span style=\"color: #9e8e0f; text-decoration-color: #9e8e0f; font-weight: bold\">furry sticker</span><span style=\"color: #008000; text-decoration-color: #008000\"> showcases an animated character that resembles a fluffy </span>\n",
       "<span style=\"color: #008000; text-decoration-color: #008000\">orange cat.\"</span>\n",
       "</pre>\n"
      ],
      "text/plain": [
       "Tag \u001b[32m\"\u001b[0m\u001b[1;38;2;158;142;15mfurry sticker\u001b[0m\u001b[32m\"\u001b[0m found in caption \u001b[32m\"The \u001b[0m\u001b[1;38;2;158;142;15mfurry sticker\u001b[0m\u001b[32m showcases an animated character that resembles a fluffy \u001b[0m\n",
       "\u001b[32morange cat.\"\u001b[0m\n"
      ]
     },
     "metadata": {},
     "output_type": "display_data"
    },
    {
     "data": {
      "text/html": [
       "<pre style=\"white-space:pre;overflow-x:auto;line-height:normal;font-family:Menlo,'DejaVu Sans Mono',consolas,'Courier New',monospace\">C:\\Users\\kade\\Desktop\\training_dir_staging\\1_furry_sticker\\1e3206f761554e1827e9e2ff1dd2f180.txt\n",
       "</pre>\n"
      ],
      "text/plain": [
       "C:\\Users\\kade\\Desktop\\training_dir_staging\\1_furry_sticker\\1e3206f761554e1827e9e2ff1dd2f180.txt\n"
      ]
     },
     "metadata": {},
     "output_type": "display_data"
    },
    {
     "data": {
      "text/html": [
       "<pre style=\"white-space:pre;overflow-x:auto;line-height:normal;font-family:Menlo,'DejaVu Sans Mono',consolas,'Courier New',monospace\">Tag <span style=\"color: #008000; text-decoration-color: #008000\">\"</span><span style=\"color: #28bf19; text-decoration-color: #28bf19; font-weight: bold\">yarn</span><span style=\"color: #008000; text-decoration-color: #008000\">\"</span> found in caption <span style=\"color: #008000; text-decoration-color: #008000\">\"The cat appears to be playing with a red ball of </span><span style=\"color: #28bf19; text-decoration-color: #28bf19; font-weight: bold\">yarn</span><span style=\"color: #008000; text-decoration-color: #008000\"> holding it with both paws and </span>\n",
       "<span style=\"color: #008000; text-decoration-color: #008000\">biting into it.\"</span>\n",
       "</pre>\n"
      ],
      "text/plain": [
       "Tag \u001b[32m\"\u001b[0m\u001b[1;38;2;40;191;25myarn\u001b[0m\u001b[32m\"\u001b[0m found in caption \u001b[32m\"The cat appears to be playing with a red ball of \u001b[0m\u001b[1;38;2;40;191;25myarn\u001b[0m\u001b[32m holding it with both paws and \u001b[0m\n",
       "\u001b[32mbiting into it.\"\u001b[0m\n"
      ]
     },
     "metadata": {},
     "output_type": "display_data"
    },
    {
     "data": {
      "text/html": [
       "<pre style=\"white-space:pre;overflow-x:auto;line-height:normal;font-family:Menlo,'DejaVu Sans Mono',consolas,'Courier New',monospace\">C:\\Users\\kade\\Desktop\\training_dir_staging\\1_furry_sticker\\1e3206f761554e1827e9e2ff1dd2f180.txt\n",
       "</pre>\n"
      ],
      "text/plain": [
       "C:\\Users\\kade\\Desktop\\training_dir_staging\\1_furry_sticker\\1e3206f761554e1827e9e2ff1dd2f180.txt\n"
      ]
     },
     "metadata": {},
     "output_type": "display_data"
    },
    {
     "data": {
      "text/html": [
       "<pre style=\"white-space:pre;overflow-x:auto;line-height:normal;font-family:Menlo,'DejaVu Sans Mono',consolas,'Courier New',monospace\">Tag <span style=\"color: #008000; text-decoration-color: #008000\">\"</span><span style=\"color: #b41f82; text-decoration-color: #b41f82; font-weight: bold\">paws</span><span style=\"color: #008000; text-decoration-color: #008000\">\"</span> found in caption <span style=\"color: #008000; text-decoration-color: #008000\">\"The cat appears to be playing with a red ball of yarn holding it with both </span><span style=\"color: #b41f82; text-decoration-color: #b41f82; font-weight: bold\">paws</span><span style=\"color: #008000; text-decoration-color: #008000\"> and </span>\n",
       "<span style=\"color: #008000; text-decoration-color: #008000\">biting into it.\"</span>\n",
       "</pre>\n"
      ],
      "text/plain": [
       "Tag \u001b[32m\"\u001b[0m\u001b[1;38;2;180;31;130mpaws\u001b[0m\u001b[32m\"\u001b[0m found in caption \u001b[32m\"The cat appears to be playing with a red ball of yarn holding it with both \u001b[0m\u001b[1;38;2;180;31;130mpaws\u001b[0m\u001b[32m and \u001b[0m\n",
       "\u001b[32mbiting into it.\"\u001b[0m\n"
      ]
     },
     "metadata": {},
     "output_type": "display_data"
    },
    {
     "data": {
      "text/html": [
       "<pre style=\"white-space:pre;overflow-x:auto;line-height:normal;font-family:Menlo,'DejaVu Sans Mono',consolas,'Courier New',monospace\">C:\\Users\\kade\\Desktop\\training_dir_staging\\1_furry_sticker\\1e3206f761554e1827e9e2ff1dd2f180.txt\n",
       "</pre>\n"
      ],
      "text/plain": [
       "C:\\Users\\kade\\Desktop\\training_dir_staging\\1_furry_sticker\\1e3206f761554e1827e9e2ff1dd2f180.txt\n"
      ]
     },
     "metadata": {},
     "output_type": "display_data"
    },
    {
     "data": {
      "text/html": [
       "<pre style=\"white-space:pre;overflow-x:auto;line-height:normal;font-family:Menlo,'DejaVu Sans Mono',consolas,'Courier New',monospace\">Tag <span style=\"color: #008000; text-decoration-color: #008000\">\"</span><span style=\"color: #83ce8b; text-decoration-color: #83ce8b; font-weight: bold\">fur</span><span style=\"color: #008000; text-decoration-color: #008000\">\"</span> found in caption <span style=\"color: #008000; text-decoration-color: #008000\">\"The </span><span style=\"color: #83ce8b; text-decoration-color: #83ce8b; font-weight: bold\">fur</span><span style=\"color: #008000; text-decoration-color: #008000\">ry sticker showcases an animated character that resembles a fluffy orange cat.\"</span>\n",
       "</pre>\n"
      ],
      "text/plain": [
       "Tag \u001b[32m\"\u001b[0m\u001b[1;38;2;131;206;139mfur\u001b[0m\u001b[32m\"\u001b[0m found in caption \u001b[32m\"The \u001b[0m\u001b[1;38;2;131;206;139mfur\u001b[0m\u001b[32mry sticker showcases an animated character that resembles a fluffy orange cat.\"\u001b[0m\n"
      ]
     },
     "metadata": {},
     "output_type": "display_data"
    },
    {
     "data": {
      "text/html": [
       "<pre style=\"white-space:pre;overflow-x:auto;line-height:normal;font-family:Menlo,'DejaVu Sans Mono',consolas,'Courier New',monospace\">C:\\Users\\kade\\Desktop\\training_dir_staging\\1_furry_sticker\\2ae636ee5a3b5b8240f11ca4b9083435.txt\n",
       "</pre>\n"
      ],
      "text/plain": [
       "C:\\Users\\kade\\Desktop\\training_dir_staging\\1_furry_sticker\\2ae636ee5a3b5b8240f11ca4b9083435.txt\n"
      ]
     },
     "metadata": {},
     "output_type": "display_data"
    },
    {
     "data": {
      "text/html": [
       "<pre style=\"white-space:pre;overflow-x:auto;line-height:normal;font-family:Menlo,'DejaVu Sans Mono',consolas,'Courier New',monospace\">Tag <span style=\"color: #008000; text-decoration-color: #008000\">\"</span><span style=\"color: #384ddc; text-decoration-color: #384ddc; font-weight: bold\">halo</span><span style=\"color: #008000; text-decoration-color: #008000\">\"</span> found in caption <span style=\"color: #008000; text-decoration-color: #008000\">\"The character also has a </span><span style=\"color: #384ddc; text-decoration-color: #384ddc; font-weight: bold\">halo</span><span style=\"color: #008000; text-decoration-color: #008000\"> above its head which is a common symbol of purity or </span>\n",
       "<span style=\"color: #008000; text-decoration-color: #008000\">divinity in various cultures.\"</span>\n",
       "</pre>\n"
      ],
      "text/plain": [
       "Tag \u001b[32m\"\u001b[0m\u001b[1;38;2;56;77;220mhalo\u001b[0m\u001b[32m\"\u001b[0m found in caption \u001b[32m\"The character also has a \u001b[0m\u001b[1;38;2;56;77;220mhalo\u001b[0m\u001b[32m above its head which is a common symbol of purity or \u001b[0m\n",
       "\u001b[32mdivinity in various cultures.\"\u001b[0m\n"
      ]
     },
     "metadata": {},
     "output_type": "display_data"
    },
    {
     "data": {
      "text/html": [
       "<pre style=\"white-space:pre;overflow-x:auto;line-height:normal;font-family:Menlo,'DejaVu Sans Mono',consolas,'Courier New',monospace\">C:\\Users\\kade\\Desktop\\training_dir_staging\\1_furry_sticker\\2ae636ee5a3b5b8240f11ca4b9083435.txt\n",
       "</pre>\n"
      ],
      "text/plain": [
       "C:\\Users\\kade\\Desktop\\training_dir_staging\\1_furry_sticker\\2ae636ee5a3b5b8240f11ca4b9083435.txt\n"
      ]
     },
     "metadata": {},
     "output_type": "display_data"
    },
    {
     "data": {
      "text/html": [
       "<pre style=\"white-space:pre;overflow-x:auto;line-height:normal;font-family:Menlo,'DejaVu Sans Mono',consolas,'Courier New',monospace\">Tag <span style=\"color: #008000; text-decoration-color: #008000\">\"</span><span style=\"color: #cc241e; text-decoration-color: #cc241e; font-weight: bold\">eyes closed</span><span style=\"color: #008000; text-decoration-color: #008000\">\"</span> found in caption <span style=\"color: #008000; text-decoration-color: #008000\">\"It has a playful expression with its </span><span style=\"color: #cc241e; text-decoration-color: #cc241e; font-weight: bold\">eyes closed</span><span style=\"color: #008000; text-decoration-color: #008000\"> and a slight smile.\"</span>\n",
       "</pre>\n"
      ],
      "text/plain": [
       "Tag \u001b[32m\"\u001b[0m\u001b[1;38;2;204;36;30meyes closed\u001b[0m\u001b[32m\"\u001b[0m found in caption \u001b[32m\"It has a playful expression with its \u001b[0m\u001b[1;38;2;204;36;30meyes closed\u001b[0m\u001b[32m and a slight smile.\"\u001b[0m\n"
      ]
     },
     "metadata": {},
     "output_type": "display_data"
    },
    {
     "data": {
      "text/html": [
       "<pre style=\"white-space:pre;overflow-x:auto;line-height:normal;font-family:Menlo,'DejaVu Sans Mono',consolas,'Courier New',monospace\">C:\\Users\\kade\\Desktop\\training_dir_staging\\1_furry_sticker\\2ae636ee5a3b5b8240f11ca4b9083435.txt\n",
       "</pre>\n"
      ],
      "text/plain": [
       "C:\\Users\\kade\\Desktop\\training_dir_staging\\1_furry_sticker\\2ae636ee5a3b5b8240f11ca4b9083435.txt\n"
      ]
     },
     "metadata": {},
     "output_type": "display_data"
    },
    {
     "data": {
      "text/html": [
       "<pre style=\"white-space:pre;overflow-x:auto;line-height:normal;font-family:Menlo,'DejaVu Sans Mono',consolas,'Courier New',monospace\">Tag <span style=\"color: #008000; text-decoration-color: #008000\">\"</span><span style=\"color: #ad1f7e; text-decoration-color: #ad1f7e; font-weight: bold\">anthro</span><span style=\"color: #008000; text-decoration-color: #008000\">\"</span> found in caption <span style=\"color: #008000; text-decoration-color: #008000\">\"The image depicts an animated character resembling an </span><span style=\"color: #ad1f7e; text-decoration-color: #ad1f7e; font-weight: bold\">anthro</span><span style=\"color: #008000; text-decoration-color: #008000\"> canine with black and </span>\n",
       "<span style=\"color: #008000; text-decoration-color: #008000\">gray fur.\"</span>\n",
       "</pre>\n"
      ],
      "text/plain": [
       "Tag \u001b[32m\"\u001b[0m\u001b[1;38;2;173;31;126manthro\u001b[0m\u001b[32m\"\u001b[0m found in caption \u001b[32m\"The image depicts an animated character resembling an \u001b[0m\u001b[1;38;2;173;31;126manthro\u001b[0m\u001b[32m canine with black and \u001b[0m\n",
       "\u001b[32mgray fur.\"\u001b[0m\n"
      ]
     },
     "metadata": {},
     "output_type": "display_data"
    },
    {
     "data": {
      "text/html": [
       "<pre style=\"white-space:pre;overflow-x:auto;line-height:normal;font-family:Menlo,'DejaVu Sans Mono',consolas,'Courier New',monospace\">C:\\Users\\kade\\Desktop\\training_dir_staging\\1_furry_sticker\\2ae636ee5a3b5b8240f11ca4b9083435.txt\n",
       "</pre>\n"
      ],
      "text/plain": [
       "C:\\Users\\kade\\Desktop\\training_dir_staging\\1_furry_sticker\\2ae636ee5a3b5b8240f11ca4b9083435.txt\n"
      ]
     },
     "metadata": {},
     "output_type": "display_data"
    },
    {
     "data": {
      "text/html": [
       "<pre style=\"white-space:pre;overflow-x:auto;line-height:normal;font-family:Menlo,'DejaVu Sans Mono',consolas,'Courier New',monospace\">Tag <span style=\"color: #008000; text-decoration-color: #008000\">\"</span><span style=\"color: #c64723; text-decoration-color: #c64723; font-weight: bold\">fur</span><span style=\"color: #008000; text-decoration-color: #008000\">\"</span> found in caption <span style=\"color: #008000; text-decoration-color: #008000\">\"The image depicts an animated character resembling an anthro canine with black and gray</span>\n",
       "<span style=\"color: #c64723; text-decoration-color: #c64723; font-weight: bold\">fur</span><span style=\"color: #008000; text-decoration-color: #008000\">.\"</span>\n",
       "</pre>\n"
      ],
      "text/plain": [
       "Tag \u001b[32m\"\u001b[0m\u001b[1;38;2;198;71;35mfur\u001b[0m\u001b[32m\"\u001b[0m found in caption \u001b[32m\"The image depicts an animated character resembling an anthro canine with black and gray\u001b[0m\n",
       "\u001b[1;38;2;198;71;35mfur\u001b[0m\u001b[32m.\"\u001b[0m\n"
      ]
     },
     "metadata": {},
     "output_type": "display_data"
    },
    {
     "data": {
      "text/html": [
       "<pre style=\"white-space:pre;overflow-x:auto;line-height:normal;font-family:Menlo,'DejaVu Sans Mono',consolas,'Courier New',monospace\">C:\\Users\\kade\\Desktop\\training_dir_staging\\1_furry_sticker\\2ae636ee5a3b5b8240f11ca4b9083435.txt\n",
       "</pre>\n"
      ],
      "text/plain": [
       "C:\\Users\\kade\\Desktop\\training_dir_staging\\1_furry_sticker\\2ae636ee5a3b5b8240f11ca4b9083435.txt\n"
      ]
     },
     "metadata": {},
     "output_type": "display_data"
    },
    {
     "data": {
      "text/html": [
       "<pre style=\"white-space:pre;overflow-x:auto;line-height:normal;font-family:Menlo,'DejaVu Sans Mono',consolas,'Courier New',monospace\">Tag <span style=\"color: #008000; text-decoration-color: #008000\">\"</span><span style=\"color: #f951b8; text-decoration-color: #f951b8; font-weight: bold\">canine</span><span style=\"color: #008000; text-decoration-color: #008000\">\"</span> found in caption <span style=\"color: #008000; text-decoration-color: #008000\">\"The image depicts an animated character resembling an anthro </span><span style=\"color: #f951b8; text-decoration-color: #f951b8; font-weight: bold\">canine</span><span style=\"color: #008000; text-decoration-color: #008000\"> with black and </span>\n",
       "<span style=\"color: #008000; text-decoration-color: #008000\">gray fur.\"</span>\n",
       "</pre>\n"
      ],
      "text/plain": [
       "Tag \u001b[32m\"\u001b[0m\u001b[1;38;2;249;81;184mcanine\u001b[0m\u001b[32m\"\u001b[0m found in caption \u001b[32m\"The image depicts an animated character resembling an anthro \u001b[0m\u001b[1;38;2;249;81;184mcanine\u001b[0m\u001b[32m with black and \u001b[0m\n",
       "\u001b[32mgray fur.\"\u001b[0m\n"
      ]
     },
     "metadata": {},
     "output_type": "display_data"
    },
    {
     "data": {
      "text/html": [
       "<pre style=\"white-space:pre;overflow-x:auto;line-height:normal;font-family:Menlo,'DejaVu Sans Mono',consolas,'Courier New',monospace\">C:\\Users\\kade\\Desktop\\training_dir_staging\\1_furry_sticker\\2ae636ee5a3b5b8240f11ca4b9083435.txt\n",
       "</pre>\n"
      ],
      "text/plain": [
       "C:\\Users\\kade\\Desktop\\training_dir_staging\\1_furry_sticker\\2ae636ee5a3b5b8240f11ca4b9083435.txt\n"
      ]
     },
     "metadata": {},
     "output_type": "display_data"
    },
    {
     "data": {
      "text/html": [
       "<pre style=\"white-space:pre;overflow-x:auto;line-height:normal;font-family:Menlo,'DejaVu Sans Mono',consolas,'Courier New',monospace\">Tag <span style=\"color: #008000; text-decoration-color: #008000\">\"</span><span style=\"color: #c54a50; text-decoration-color: #c54a50; font-weight: bold\">smile</span><span style=\"color: #008000; text-decoration-color: #008000\">\"</span> found in caption <span style=\"color: #008000; text-decoration-color: #008000\">\"It has a playful expression with its eyes closed and a slight </span><span style=\"color: #c54a50; text-decoration-color: #c54a50; font-weight: bold\">smile</span><span style=\"color: #008000; text-decoration-color: #008000\">.\"</span>\n",
       "</pre>\n"
      ],
      "text/plain": [
       "Tag \u001b[32m\"\u001b[0m\u001b[1;38;2;197;74;80msmile\u001b[0m\u001b[32m\"\u001b[0m found in caption \u001b[32m\"It has a playful expression with its eyes closed and a slight \u001b[0m\u001b[1;38;2;197;74;80msmile\u001b[0m\u001b[32m.\"\u001b[0m\n"
      ]
     },
     "metadata": {},
     "output_type": "display_data"
    },
    {
     "data": {
      "text/html": [
       "<pre style=\"white-space:pre;overflow-x:auto;line-height:normal;font-family:Menlo,'DejaVu Sans Mono',consolas,'Courier New',monospace\">C:\\Users\\kade\\Desktop\\training_dir_staging\\1_furry_sticker\\2b95b2d52c86f274dbe76eb23f5230d6.txt\n",
       "</pre>\n"
      ],
      "text/plain": [
       "C:\\Users\\kade\\Desktop\\training_dir_staging\\1_furry_sticker\\2b95b2d52c86f274dbe76eb23f5230d6.txt\n"
      ]
     },
     "metadata": {},
     "output_type": "display_data"
    },
    {
     "data": {
      "text/html": [
       "<pre style=\"white-space:pre;overflow-x:auto;line-height:normal;font-family:Menlo,'DejaVu Sans Mono',consolas,'Courier New',monospace\">Tag <span style=\"color: #008000; text-decoration-color: #008000\">\"</span><span style=\"color: #36fb87; text-decoration-color: #36fb87; font-weight: bold\">collar</span><span style=\"color: #008000; text-decoration-color: #008000\">\"</span> found in caption <span style=\"color: #008000; text-decoration-color: #008000\">\"It has green eyes and a pink </span><span style=\"color: #36fb87; text-decoration-color: #36fb87; font-weight: bold\">collar</span><span style=\"color: #008000; text-decoration-color: #008000\">.\"</span>\n",
       "</pre>\n"
      ],
      "text/plain": [
       "Tag \u001b[32m\"\u001b[0m\u001b[1;38;2;54;251;135mcollar\u001b[0m\u001b[32m\"\u001b[0m found in caption \u001b[32m\"It has green eyes and a pink \u001b[0m\u001b[1;38;2;54;251;135mcollar\u001b[0m\u001b[32m.\"\u001b[0m\n"
      ]
     },
     "metadata": {},
     "output_type": "display_data"
    },
    {
     "data": {
      "text/html": [
       "<pre style=\"white-space:pre;overflow-x:auto;line-height:normal;font-family:Menlo,'DejaVu Sans Mono',consolas,'Courier New',monospace\">C:\\Users\\kade\\Desktop\\training_dir_staging\\1_furry_sticker\\2b95b2d52c86f274dbe76eb23f5230d6.txt\n",
       "</pre>\n"
      ],
      "text/plain": [
       "C:\\Users\\kade\\Desktop\\training_dir_staging\\1_furry_sticker\\2b95b2d52c86f274dbe76eb23f5230d6.txt\n"
      ]
     },
     "metadata": {},
     "output_type": "display_data"
    },
    {
     "data": {
      "text/html": [
       "<pre style=\"white-space:pre;overflow-x:auto;line-height:normal;font-family:Menlo,'DejaVu Sans Mono',consolas,'Courier New',monospace\">Tag <span style=\"color: #008000; text-decoration-color: #008000\">\"</span><span style=\"color: #88415e; text-decoration-color: #88415e; font-weight: bold\">anthro</span><span style=\"color: #008000; text-decoration-color: #008000\">\"</span> found in caption <span style=\"color: #008000; text-decoration-color: #008000\">\"The image depicts an animated character with the appearance of an </span><span style=\"color: #88415e; text-decoration-color: #88415e; font-weight: bold\">anthro</span><span style=\"color: #008000; text-decoration-color: #008000\"> tabby cat.\"</span>\n",
       "</pre>\n"
      ],
      "text/plain": [
       "Tag \u001b[32m\"\u001b[0m\u001b[1;38;2;136;65;94manthro\u001b[0m\u001b[32m\"\u001b[0m found in caption \u001b[32m\"The image depicts an animated character with the appearance of an \u001b[0m\u001b[1;38;2;136;65;94manthro\u001b[0m\u001b[32m tabby cat.\"\u001b[0m\n"
      ]
     },
     "metadata": {},
     "output_type": "display_data"
    },
    {
     "data": {
      "text/html": [
       "<pre style=\"white-space:pre;overflow-x:auto;line-height:normal;font-family:Menlo,'DejaVu Sans Mono',consolas,'Courier New',monospace\">C:\\Users\\kade\\Desktop\\training_dir_staging\\1_furry_sticker\\2b95b2d52c86f274dbe76eb23f5230d6.txt\n",
       "</pre>\n"
      ],
      "text/plain": [
       "C:\\Users\\kade\\Desktop\\training_dir_staging\\1_furry_sticker\\2b95b2d52c86f274dbe76eb23f5230d6.txt\n"
      ]
     },
     "metadata": {},
     "output_type": "display_data"
    },
    {
     "data": {
      "text/html": [
       "<pre style=\"white-space:pre;overflow-x:auto;line-height:normal;font-family:Menlo,'DejaVu Sans Mono',consolas,'Courier New',monospace\">Tag <span style=\"color: #008000; text-decoration-color: #008000\">\"</span><span style=\"color: #2c953b; text-decoration-color: #2c953b; font-weight: bold\">green eyes</span><span style=\"color: #008000; text-decoration-color: #008000\">\"</span> found in caption <span style=\"color: #008000; text-decoration-color: #008000\">\"It has </span><span style=\"color: #2c953b; text-decoration-color: #2c953b; font-weight: bold\">green eyes</span><span style=\"color: #008000; text-decoration-color: #008000\"> and a pink collar.\"</span>\n",
       "</pre>\n"
      ],
      "text/plain": [
       "Tag \u001b[32m\"\u001b[0m\u001b[1;38;2;44;149;59mgreen eyes\u001b[0m\u001b[32m\"\u001b[0m found in caption \u001b[32m\"It has \u001b[0m\u001b[1;38;2;44;149;59mgreen eyes\u001b[0m\u001b[32m and a pink collar.\"\u001b[0m\n"
      ]
     },
     "metadata": {},
     "output_type": "display_data"
    },
    {
     "data": {
      "text/html": [
       "<pre style=\"white-space:pre;overflow-x:auto;line-height:normal;font-family:Menlo,'DejaVu Sans Mono',consolas,'Courier New',monospace\">C:\\Users\\kade\\Desktop\\training_dir_staging\\1_furry_sticker\\2b95b2d52c86f274dbe76eb23f5230d6.txt\n",
       "</pre>\n"
      ],
      "text/plain": [
       "C:\\Users\\kade\\Desktop\\training_dir_staging\\1_furry_sticker\\2b95b2d52c86f274dbe76eb23f5230d6.txt\n"
      ]
     },
     "metadata": {},
     "output_type": "display_data"
    },
    {
     "data": {
      "text/html": [
       "<pre style=\"white-space:pre;overflow-x:auto;line-height:normal;font-family:Menlo,'DejaVu Sans Mono',consolas,'Courier New',monospace\">Tag <span style=\"color: #008000; text-decoration-color: #008000\">\"</span><span style=\"color: #5ed452; text-decoration-color: #5ed452; font-weight: bold\">cup</span><span style=\"color: #008000; text-decoration-color: #008000\">\"</span> found in caption <span style=\"color: #008000; text-decoration-color: #008000\">\"It is holding a white </span><span style=\"color: #5ed452; text-decoration-color: #5ed452; font-weight: bold\">cup</span><span style=\"color: #008000; text-decoration-color: #008000\"> containing a hot beverage as evidenced by the steam rising </span>\n",
       "<span style=\"color: #008000; text-decoration-color: #008000\">from it.\"</span>\n",
       "</pre>\n"
      ],
      "text/plain": [
       "Tag \u001b[32m\"\u001b[0m\u001b[1;38;2;94;212;82mcup\u001b[0m\u001b[32m\"\u001b[0m found in caption \u001b[32m\"It is holding a white \u001b[0m\u001b[1;38;2;94;212;82mcup\u001b[0m\u001b[32m containing a hot beverage as evidenced by the steam rising \u001b[0m\n",
       "\u001b[32mfrom it.\"\u001b[0m\n"
      ]
     },
     "metadata": {},
     "output_type": "display_data"
    },
    {
     "data": {
      "text/html": [
       "<pre style=\"white-space:pre;overflow-x:auto;line-height:normal;font-family:Menlo,'DejaVu Sans Mono',consolas,'Courier New',monospace\">C:\\Users\\kade\\Desktop\\training_dir_staging\\1_furry_sticker\\2b95b2d52c86f274dbe76eb23f5230d6.txt\n",
       "</pre>\n"
      ],
      "text/plain": [
       "C:\\Users\\kade\\Desktop\\training_dir_staging\\1_furry_sticker\\2b95b2d52c86f274dbe76eb23f5230d6.txt\n"
      ]
     },
     "metadata": {},
     "output_type": "display_data"
    },
    {
     "data": {
      "text/html": [
       "<pre style=\"white-space:pre;overflow-x:auto;line-height:normal;font-family:Menlo,'DejaVu Sans Mono',consolas,'Courier New',monospace\">Tag <span style=\"color: #008000; text-decoration-color: #008000\">\"</span><span style=\"color: #996300; text-decoration-color: #996300; font-weight: bold\">beverage</span><span style=\"color: #008000; text-decoration-color: #008000\">\"</span> found in caption <span style=\"color: #008000; text-decoration-color: #008000\">\"It is holding a white cup containing a hot </span><span style=\"color: #996300; text-decoration-color: #996300; font-weight: bold\">beverage</span><span style=\"color: #008000; text-decoration-color: #008000\"> as evidenced by the steam </span>\n",
       "<span style=\"color: #008000; text-decoration-color: #008000\">rising from it.\"</span>\n",
       "</pre>\n"
      ],
      "text/plain": [
       "Tag \u001b[32m\"\u001b[0m\u001b[1;38;2;153;99;0mbeverage\u001b[0m\u001b[32m\"\u001b[0m found in caption \u001b[32m\"It is holding a white cup containing a hot \u001b[0m\u001b[1;38;2;153;99;0mbeverage\u001b[0m\u001b[32m as evidenced by the steam \u001b[0m\n",
       "\u001b[32mrising from it.\"\u001b[0m\n"
      ]
     },
     "metadata": {},
     "output_type": "display_data"
    },
    {
     "data": {
      "text/html": [
       "<pre style=\"white-space:pre;overflow-x:auto;line-height:normal;font-family:Menlo,'DejaVu Sans Mono',consolas,'Courier New',monospace\">C:\\Users\\kade\\Desktop\\training_dir_staging\\1_furry_sticker\\2d7427d4c1f515b063211ae7605dfe94.txt\n",
       "</pre>\n"
      ],
      "text/plain": [
       "C:\\Users\\kade\\Desktop\\training_dir_staging\\1_furry_sticker\\2d7427d4c1f515b063211ae7605dfe94.txt\n"
      ]
     },
     "metadata": {},
     "output_type": "display_data"
    },
    {
     "data": {
      "text/html": [
       "<pre style=\"white-space:pre;overflow-x:auto;line-height:normal;font-family:Menlo,'DejaVu Sans Mono',consolas,'Courier New',monospace\">Tag <span style=\"color: #008000; text-decoration-color: #008000\">\"</span><span style=\"color: #eec2e9; text-decoration-color: #eec2e9; font-weight: bold\">anthro</span><span style=\"color: #008000; text-decoration-color: #008000\">\"</span> found in caption <span style=\"color: #008000; text-decoration-color: #008000\">\"The image showcases an cartoony </span><span style=\"color: #eec2e9; text-decoration-color: #eec2e9; font-weight: bold\">anthro</span><span style=\"color: #008000; text-decoration-color: #008000\"> panther.\"</span>\n",
       "</pre>\n"
      ],
      "text/plain": [
       "Tag \u001b[32m\"\u001b[0m\u001b[1;38;2;238;194;233manthro\u001b[0m\u001b[32m\"\u001b[0m found in caption \u001b[32m\"The image showcases an cartoony \u001b[0m\u001b[1;38;2;238;194;233manthro\u001b[0m\u001b[32m panther.\"\u001b[0m\n"
      ]
     },
     "metadata": {},
     "output_type": "display_data"
    },
    {
     "data": {
      "text/html": [
       "<pre style=\"white-space:pre;overflow-x:auto;line-height:normal;font-family:Menlo,'DejaVu Sans Mono',consolas,'Courier New',monospace\">C:\\Users\\kade\\Desktop\\training_dir_staging\\1_furry_sticker\\2d7427d4c1f515b063211ae7605dfe94.txt\n",
       "</pre>\n"
      ],
      "text/plain": [
       "C:\\Users\\kade\\Desktop\\training_dir_staging\\1_furry_sticker\\2d7427d4c1f515b063211ae7605dfe94.txt\n"
      ]
     },
     "metadata": {},
     "output_type": "display_data"
    },
    {
     "data": {
      "text/html": [
       "<pre style=\"white-space:pre;overflow-x:auto;line-height:normal;font-family:Menlo,'DejaVu Sans Mono',consolas,'Courier New',monospace\">Tag <span style=\"color: #008000; text-decoration-color: #008000\">\"</span><span style=\"color: #ceaed9; text-decoration-color: #ceaed9; font-weight: bold\">outline</span><span style=\"color: #008000; text-decoration-color: #008000\">\"</span> found in caption <span style=\"color: #008000; text-decoration-color: #008000\">\"The character has a white </span><span style=\"color: #ceaed9; text-decoration-color: #ceaed9; font-weight: bold\">outline</span><span style=\"color: #008000; text-decoration-color: #008000\"> around it.\"</span>\n",
       "</pre>\n"
      ],
      "text/plain": [
       "Tag \u001b[32m\"\u001b[0m\u001b[1;38;2;206;174;217moutline\u001b[0m\u001b[32m\"\u001b[0m found in caption \u001b[32m\"The character has a white \u001b[0m\u001b[1;38;2;206;174;217moutline\u001b[0m\u001b[32m around it.\"\u001b[0m\n"
      ]
     },
     "metadata": {},
     "output_type": "display_data"
    },
    {
     "data": {
      "text/html": [
       "<pre style=\"white-space:pre;overflow-x:auto;line-height:normal;font-family:Menlo,'DejaVu Sans Mono',consolas,'Courier New',monospace\">C:\\Users\\kade\\Desktop\\training_dir_staging\\1_furry_sticker\\2dbc05b0a9a9053fbfb97a94f20689a8.txt\n",
       "</pre>\n"
      ],
      "text/plain": [
       "C:\\Users\\kade\\Desktop\\training_dir_staging\\1_furry_sticker\\2dbc05b0a9a9053fbfb97a94f20689a8.txt\n"
      ]
     },
     "metadata": {},
     "output_type": "display_data"
    },
    {
     "data": {
      "text/html": [
       "<pre style=\"white-space:pre;overflow-x:auto;line-height:normal;font-family:Menlo,'DejaVu Sans Mono',consolas,'Courier New',monospace\">Tag <span style=\"color: #008000; text-decoration-color: #008000\">\"</span><span style=\"color: #b4ef62; text-decoration-color: #b4ef62; font-weight: bold\">tongue</span><span style=\"color: #008000; text-decoration-color: #008000\">\"</span> found in caption <span style=\"color: #008000; text-decoration-color: #008000\">\"The character has a playful expression with its </span><span style=\"color: #b4ef62; text-decoration-color: #b4ef62; font-weight: bold\">tongue</span><span style=\"color: #008000; text-decoration-color: #008000\"> sticking out and a </span>\n",
       "<span style=\"color: #008000; text-decoration-color: #008000\">mischievous glint in its eyes which are squished in a silly manner.\"</span>\n",
       "</pre>\n"
      ],
      "text/plain": [
       "Tag \u001b[32m\"\u001b[0m\u001b[1;38;2;180;239;98mtongue\u001b[0m\u001b[32m\"\u001b[0m found in caption \u001b[32m\"The character has a playful expression with its \u001b[0m\u001b[1;38;2;180;239;98mtongue\u001b[0m\u001b[32m sticking out and a \u001b[0m\n",
       "\u001b[32mmischievous glint in its eyes which are squished in a silly manner.\"\u001b[0m\n"
      ]
     },
     "metadata": {},
     "output_type": "display_data"
    },
    {
     "data": {
      "text/html": [
       "<pre style=\"white-space:pre;overflow-x:auto;line-height:normal;font-family:Menlo,'DejaVu Sans Mono',consolas,'Courier New',monospace\">C:\\Users\\kade\\Desktop\\training_dir_staging\\1_furry_sticker\\2dbc05b0a9a9053fbfb97a94f20689a8.txt\n",
       "</pre>\n"
      ],
      "text/plain": [
       "C:\\Users\\kade\\Desktop\\training_dir_staging\\1_furry_sticker\\2dbc05b0a9a9053fbfb97a94f20689a8.txt\n"
      ]
     },
     "metadata": {},
     "output_type": "display_data"
    },
    {
     "data": {
      "text/html": [
       "<pre style=\"white-space:pre;overflow-x:auto;line-height:normal;font-family:Menlo,'DejaVu Sans Mono',consolas,'Courier New',monospace\">Tag <span style=\"color: #008000; text-decoration-color: #008000\">\"</span><span style=\"color: #2ae280; text-decoration-color: #2ae280; font-weight: bold\">fur</span><span style=\"color: #008000; text-decoration-color: #008000\">\"</span> found in caption <span style=\"color: #008000; text-decoration-color: #008000\">\"The </span><span style=\"color: #2ae280; text-decoration-color: #2ae280; font-weight: bold\">fur</span><span style=\"color: #008000; text-decoration-color: #008000\"> color is a mix of gray and white with black highlights and it has pointed </span>\n",
       "<span style=\"color: #008000; text-decoration-color: #008000\">ears.\"</span>\n",
       "</pre>\n"
      ],
      "text/plain": [
       "Tag \u001b[32m\"\u001b[0m\u001b[1;38;2;42;226;128mfur\u001b[0m\u001b[32m\"\u001b[0m found in caption \u001b[32m\"The \u001b[0m\u001b[1;38;2;42;226;128mfur\u001b[0m\u001b[32m color is a mix of gray and white with black highlights and it has pointed \u001b[0m\n",
       "\u001b[32mears.\"\u001b[0m\n"
      ]
     },
     "metadata": {},
     "output_type": "display_data"
    },
    {
     "data": {
      "text/html": [
       "<pre style=\"white-space:pre;overflow-x:auto;line-height:normal;font-family:Menlo,'DejaVu Sans Mono',consolas,'Courier New',monospace\">C:\\Users\\kade\\Desktop\\training_dir_staging\\1_furry_sticker\\2dbc05b0a9a9053fbfb97a94f20689a8.txt\n",
       "</pre>\n"
      ],
      "text/plain": [
       "C:\\Users\\kade\\Desktop\\training_dir_staging\\1_furry_sticker\\2dbc05b0a9a9053fbfb97a94f20689a8.txt\n"
      ]
     },
     "metadata": {},
     "output_type": "display_data"
    },
    {
     "data": {
      "text/html": [
       "<pre style=\"white-space:pre;overflow-x:auto;line-height:normal;font-family:Menlo,'DejaVu Sans Mono',consolas,'Courier New',monospace\">Tag <span style=\"color: #008000; text-decoration-color: #008000\">\"</span><span style=\"color: #1fd00e; text-decoration-color: #1fd00e; font-weight: bold\">anthro</span><span style=\"color: #008000; text-decoration-color: #008000\">\"</span> found in caption <span style=\"color: #008000; text-decoration-color: #008000\">\"The image depicts a cartoonish </span><span style=\"color: #1fd00e; text-decoration-color: #1fd00e; font-weight: bold\">anthro</span><span style=\"color: #008000; text-decoration-color: #008000\"> canine.\"</span>\n",
       "</pre>\n"
      ],
      "text/plain": [
       "Tag \u001b[32m\"\u001b[0m\u001b[1;38;2;31;208;14manthro\u001b[0m\u001b[32m\"\u001b[0m found in caption \u001b[32m\"The image depicts a cartoonish \u001b[0m\u001b[1;38;2;31;208;14manthro\u001b[0m\u001b[32m canine.\"\u001b[0m\n"
      ]
     },
     "metadata": {},
     "output_type": "display_data"
    },
    {
     "data": {
      "text/html": [
       "<pre style=\"white-space:pre;overflow-x:auto;line-height:normal;font-family:Menlo,'DejaVu Sans Mono',consolas,'Courier New',monospace\">C:\\Users\\kade\\Desktop\\training_dir_staging\\1_furry_sticker\\2dbc05b0a9a9053fbfb97a94f20689a8.txt\n",
       "</pre>\n"
      ],
      "text/plain": [
       "C:\\Users\\kade\\Desktop\\training_dir_staging\\1_furry_sticker\\2dbc05b0a9a9053fbfb97a94f20689a8.txt\n"
      ]
     },
     "metadata": {},
     "output_type": "display_data"
    },
    {
     "data": {
      "text/html": [
       "<pre style=\"white-space:pre;overflow-x:auto;line-height:normal;font-family:Menlo,'DejaVu Sans Mono',consolas,'Courier New',monospace\">Tag <span style=\"color: #008000; text-decoration-color: #008000\">\"</span><span style=\"color: #3b2df1; text-decoration-color: #3b2df1; font-weight: bold\">canine</span><span style=\"color: #008000; text-decoration-color: #008000\">\"</span> found in caption <span style=\"color: #008000; text-decoration-color: #008000\">\"The image depicts a cartoonish anthro </span><span style=\"color: #3b2df1; text-decoration-color: #3b2df1; font-weight: bold\">canine</span><span style=\"color: #008000; text-decoration-color: #008000\">.\"</span>\n",
       "</pre>\n"
      ],
      "text/plain": [
       "Tag \u001b[32m\"\u001b[0m\u001b[1;38;2;59;45;241mcanine\u001b[0m\u001b[32m\"\u001b[0m found in caption \u001b[32m\"The image depicts a cartoonish anthro \u001b[0m\u001b[1;38;2;59;45;241mcanine\u001b[0m\u001b[32m.\"\u001b[0m\n"
      ]
     },
     "metadata": {},
     "output_type": "display_data"
    },
    {
     "data": {
      "text/html": [
       "<pre style=\"white-space:pre;overflow-x:auto;line-height:normal;font-family:Menlo,'DejaVu Sans Mono',consolas,'Courier New',monospace\">C:\\Users\\kade\\Desktop\\training_dir_staging\\1_furry_sticker\\2ecb7e60de62a4cd44b60b342e6fae90.txt\n",
       "</pre>\n"
      ],
      "text/plain": [
       "C:\\Users\\kade\\Desktop\\training_dir_staging\\1_furry_sticker\\2ecb7e60de62a4cd44b60b342e6fae90.txt\n"
      ]
     },
     "metadata": {},
     "output_type": "display_data"
    },
    {
     "data": {
      "text/html": [
       "<pre style=\"white-space:pre;overflow-x:auto;line-height:normal;font-family:Menlo,'DejaVu Sans Mono',consolas,'Courier New',monospace\">Tag <span style=\"color: #008000; text-decoration-color: #008000\">\"</span><span style=\"color: #241d56; text-decoration-color: #241d56; font-weight: bold\">fox</span><span style=\"color: #008000; text-decoration-color: #008000\">\"</span> found in caption <span style=\"color: #008000; text-decoration-color: #008000\">\"The image portrays an animated anthro </span><span style=\"color: #241d56; text-decoration-color: #241d56; font-weight: bold\">fox</span><span style=\"color: #008000; text-decoration-color: #008000\"> character standing upright with its arms </span>\n",
       "<span style=\"color: #008000; text-decoration-color: #008000\">raised in a celebratory manner.\"</span>\n",
       "</pre>\n"
      ],
      "text/plain": [
       "Tag \u001b[32m\"\u001b[0m\u001b[1;38;2;36;29;86mfox\u001b[0m\u001b[32m\"\u001b[0m found in caption \u001b[32m\"The image portrays an animated anthro \u001b[0m\u001b[1;38;2;36;29;86mfox\u001b[0m\u001b[32m character standing upright with its arms \u001b[0m\n",
       "\u001b[32mraised in a celebratory manner.\"\u001b[0m\n"
      ]
     },
     "metadata": {},
     "output_type": "display_data"
    },
    {
     "data": {
      "text/html": [
       "<pre style=\"white-space:pre;overflow-x:auto;line-height:normal;font-family:Menlo,'DejaVu Sans Mono',consolas,'Courier New',monospace\">C:\\Users\\kade\\Desktop\\training_dir_staging\\1_furry_sticker\\2ecb7e60de62a4cd44b60b342e6fae90.txt\n",
       "</pre>\n"
      ],
      "text/plain": [
       "C:\\Users\\kade\\Desktop\\training_dir_staging\\1_furry_sticker\\2ecb7e60de62a4cd44b60b342e6fae90.txt\n"
      ]
     },
     "metadata": {},
     "output_type": "display_data"
    },
    {
     "data": {
      "text/html": [
       "<pre style=\"white-space:pre;overflow-x:auto;line-height:normal;font-family:Menlo,'DejaVu Sans Mono',consolas,'Courier New',monospace\">Tag <span style=\"color: #008000; text-decoration-color: #008000\">\"</span><span style=\"color: #e9b4a6; text-decoration-color: #e9b4a6; font-weight: bold\">fox</span><span style=\"color: #008000; text-decoration-color: #008000\">\"</span> found in caption <span style=\"color: #008000; text-decoration-color: #008000\">\"The </span><span style=\"color: #e9b4a6; text-decoration-color: #e9b4a6; font-weight: bold\">fox</span><span style=\"color: #008000; text-decoration-color: #008000\"> has a red fur coat with white underbelly and a red tail with a white tip.\"</span>\n",
       "</pre>\n"
      ],
      "text/plain": [
       "Tag \u001b[32m\"\u001b[0m\u001b[1;38;2;233;180;166mfox\u001b[0m\u001b[32m\"\u001b[0m found in caption \u001b[32m\"The \u001b[0m\u001b[1;38;2;233;180;166mfox\u001b[0m\u001b[32m has a red fur coat with white underbelly and a red tail with a white tip.\"\u001b[0m\n"
      ]
     },
     "metadata": {},
     "output_type": "display_data"
    },
    {
     "data": {
      "text/html": [
       "<pre style=\"white-space:pre;overflow-x:auto;line-height:normal;font-family:Menlo,'DejaVu Sans Mono',consolas,'Courier New',monospace\">C:\\Users\\kade\\Desktop\\training_dir_staging\\1_furry_sticker\\2ecb7e60de62a4cd44b60b342e6fae90.txt\n",
       "</pre>\n"
      ],
      "text/plain": [
       "C:\\Users\\kade\\Desktop\\training_dir_staging\\1_furry_sticker\\2ecb7e60de62a4cd44b60b342e6fae90.txt\n"
      ]
     },
     "metadata": {},
     "output_type": "display_data"
    },
    {
     "data": {
      "text/html": [
       "<pre style=\"white-space:pre;overflow-x:auto;line-height:normal;font-family:Menlo,'DejaVu Sans Mono',consolas,'Courier New',monospace\">Tag <span style=\"color: #008000; text-decoration-color: #008000\">\"</span><span style=\"color: #33e14a; text-decoration-color: #33e14a; font-weight: bold\">fox</span><span style=\"color: #008000; text-decoration-color: #008000\">\"</span> found in caption <span style=\"color: #008000; text-decoration-color: #008000\">\"Above the </span><span style=\"color: #33e14a; text-decoration-color: #33e14a; font-weight: bold\">fox</span><span style=\"color: #008000; text-decoration-color: #008000\"> there's a word 'YAY!' written in black with a large white outline </span>\n",
       "<span style=\"color: #008000; text-decoration-color: #008000\">emphasizing its celebratory mood.\"</span>\n",
       "</pre>\n"
      ],
      "text/plain": [
       "Tag \u001b[32m\"\u001b[0m\u001b[1;38;2;51;225;74mfox\u001b[0m\u001b[32m\"\u001b[0m found in caption \u001b[32m\"Above the \u001b[0m\u001b[1;38;2;51;225;74mfox\u001b[0m\u001b[32m there's a word 'YAY!' written in black with a large white outline \u001b[0m\n",
       "\u001b[32memphasizing its celebratory mood.\"\u001b[0m\n"
      ]
     },
     "metadata": {},
     "output_type": "display_data"
    },
    {
     "data": {
      "text/html": [
       "<pre style=\"white-space:pre;overflow-x:auto;line-height:normal;font-family:Menlo,'DejaVu Sans Mono',consolas,'Courier New',monospace\">C:\\Users\\kade\\Desktop\\training_dir_staging\\1_furry_sticker\\2ecb7e60de62a4cd44b60b342e6fae90.txt\n",
       "</pre>\n"
      ],
      "text/plain": [
       "C:\\Users\\kade\\Desktop\\training_dir_staging\\1_furry_sticker\\2ecb7e60de62a4cd44b60b342e6fae90.txt\n"
      ]
     },
     "metadata": {},
     "output_type": "display_data"
    },
    {
     "data": {
      "text/html": [
       "<pre style=\"white-space:pre;overflow-x:auto;line-height:normal;font-family:Menlo,'DejaVu Sans Mono',consolas,'Courier New',monospace\">Tag <span style=\"color: #008000; text-decoration-color: #008000\">\"</span><span style=\"color: #1975f3; text-decoration-color: #1975f3; font-weight: bold\">anthro</span><span style=\"color: #008000; text-decoration-color: #008000\">\"</span> found in caption <span style=\"color: #008000; text-decoration-color: #008000\">\"The image portrays an animated </span><span style=\"color: #1975f3; text-decoration-color: #1975f3; font-weight: bold\">anthro</span><span style=\"color: #008000; text-decoration-color: #008000\"> fox character standing upright with its arms </span>\n",
       "<span style=\"color: #008000; text-decoration-color: #008000\">raised in a celebratory manner.\"</span>\n",
       "</pre>\n"
      ],
      "text/plain": [
       "Tag \u001b[32m\"\u001b[0m\u001b[1;38;2;25;117;243manthro\u001b[0m\u001b[32m\"\u001b[0m found in caption \u001b[32m\"The image portrays an animated \u001b[0m\u001b[1;38;2;25;117;243manthro\u001b[0m\u001b[32m fox character standing upright with its arms \u001b[0m\n",
       "\u001b[32mraised in a celebratory manner.\"\u001b[0m\n"
      ]
     },
     "metadata": {},
     "output_type": "display_data"
    },
    {
     "data": {
      "text/html": [
       "<pre style=\"white-space:pre;overflow-x:auto;line-height:normal;font-family:Menlo,'DejaVu Sans Mono',consolas,'Courier New',monospace\">C:\\Users\\kade\\Desktop\\training_dir_staging\\1_furry_sticker\\2ecb7e60de62a4cd44b60b342e6fae90.txt\n",
       "</pre>\n"
      ],
      "text/plain": [
       "C:\\Users\\kade\\Desktop\\training_dir_staging\\1_furry_sticker\\2ecb7e60de62a4cd44b60b342e6fae90.txt\n"
      ]
     },
     "metadata": {},
     "output_type": "display_data"
    },
    {
     "data": {
      "text/html": [
       "<pre style=\"white-space:pre;overflow-x:auto;line-height:normal;font-family:Menlo,'DejaVu Sans Mono',consolas,'Courier New',monospace\">Tag <span style=\"color: #008000; text-decoration-color: #008000\">\"</span><span style=\"color: #102d6c; text-decoration-color: #102d6c; font-weight: bold\">fur</span><span style=\"color: #008000; text-decoration-color: #008000\">\"</span> found in caption <span style=\"color: #008000; text-decoration-color: #008000\">\"The fox has a red </span><span style=\"color: #102d6c; text-decoration-color: #102d6c; font-weight: bold\">fur</span><span style=\"color: #008000; text-decoration-color: #008000\"> coat with white underbelly and a red tail with a white tip.\"</span>\n",
       "</pre>\n"
      ],
      "text/plain": [
       "Tag \u001b[32m\"\u001b[0m\u001b[1;38;2;16;45;108mfur\u001b[0m\u001b[32m\"\u001b[0m found in caption \u001b[32m\"The fox has a red \u001b[0m\u001b[1;38;2;16;45;108mfur\u001b[0m\u001b[32m coat with white underbelly and a red tail with a white tip.\"\u001b[0m\n"
      ]
     },
     "metadata": {},
     "output_type": "display_data"
    },
    {
     "data": {
      "text/html": [
       "<pre style=\"white-space:pre;overflow-x:auto;line-height:normal;font-family:Menlo,'DejaVu Sans Mono',consolas,'Courier New',monospace\">C:\\Users\\kade\\Desktop\\training_dir_staging\\1_furry_sticker\\2ecb7e60de62a4cd44b60b342e6fae90.txt\n",
       "</pre>\n"
      ],
      "text/plain": [
       "C:\\Users\\kade\\Desktop\\training_dir_staging\\1_furry_sticker\\2ecb7e60de62a4cd44b60b342e6fae90.txt\n"
      ]
     },
     "metadata": {},
     "output_type": "display_data"
    },
    {
     "data": {
      "text/html": [
       "<pre style=\"white-space:pre;overflow-x:auto;line-height:normal;font-family:Menlo,'DejaVu Sans Mono',consolas,'Courier New',monospace\">Tag <span style=\"color: #008000; text-decoration-color: #008000\">\"</span><span style=\"color: #f4991c; text-decoration-color: #f4991c; font-weight: bold\">red fur</span><span style=\"color: #008000; text-decoration-color: #008000\">\"</span> found in caption <span style=\"color: #008000; text-decoration-color: #008000\">\"The fox has a </span><span style=\"color: #f4991c; text-decoration-color: #f4991c; font-weight: bold\">red fur</span><span style=\"color: #008000; text-decoration-color: #008000\"> coat with white underbelly and a red tail with a white tip.\"</span>\n",
       "</pre>\n"
      ],
      "text/plain": [
       "Tag \u001b[32m\"\u001b[0m\u001b[1;38;2;244;153;28mred fur\u001b[0m\u001b[32m\"\u001b[0m found in caption \u001b[32m\"The fox has a \u001b[0m\u001b[1;38;2;244;153;28mred fur\u001b[0m\u001b[32m coat with white underbelly and a red tail with a white tip.\"\u001b[0m\n"
      ]
     },
     "metadata": {},
     "output_type": "display_data"
    },
    {
     "data": {
      "text/html": [
       "<pre style=\"white-space:pre;overflow-x:auto;line-height:normal;font-family:Menlo,'DejaVu Sans Mono',consolas,'Courier New',monospace\">C:\\Users\\kade\\Desktop\\training_dir_staging\\1_furry_sticker\\2ecb7e60de62a4cd44b60b342e6fae90.txt\n",
       "</pre>\n"
      ],
      "text/plain": [
       "C:\\Users\\kade\\Desktop\\training_dir_staging\\1_furry_sticker\\2ecb7e60de62a4cd44b60b342e6fae90.txt\n"
      ]
     },
     "metadata": {},
     "output_type": "display_data"
    },
    {
     "data": {
      "text/html": [
       "<pre style=\"white-space:pre;overflow-x:auto;line-height:normal;font-family:Menlo,'DejaVu Sans Mono',consolas,'Courier New',monospace\">Tag <span style=\"color: #008000; text-decoration-color: #008000\">\"</span><span style=\"color: #432c3f; text-decoration-color: #432c3f; font-weight: bold\">outline</span><span style=\"color: #008000; text-decoration-color: #008000\">\"</span> found in caption <span style=\"color: #008000; text-decoration-color: #008000\">\"Above the fox there's a word 'YAY!' written in black with a large white </span><span style=\"color: #432c3f; text-decoration-color: #432c3f; font-weight: bold\">outline</span><span style=\"color: #008000; text-decoration-color: #008000\"> </span>\n",
       "<span style=\"color: #008000; text-decoration-color: #008000\">emphasizing its celebratory mood.\"</span>\n",
       "</pre>\n"
      ],
      "text/plain": [
       "Tag \u001b[32m\"\u001b[0m\u001b[1;38;2;67;44;63moutline\u001b[0m\u001b[32m\"\u001b[0m found in caption \u001b[32m\"Above the fox there's a word 'YAY!' written in black with a large white \u001b[0m\u001b[1;38;2;67;44;63moutline\u001b[0m\u001b[32m \u001b[0m\n",
       "\u001b[32memphasizing its celebratory mood.\"\u001b[0m\n"
      ]
     },
     "metadata": {},
     "output_type": "display_data"
    },
    {
     "data": {
      "text/html": [
       "<pre style=\"white-space:pre;overflow-x:auto;line-height:normal;font-family:Menlo,'DejaVu Sans Mono',consolas,'Courier New',monospace\">C:\\Users\\kade\\Desktop\\training_dir_staging\\1_furry_sticker\\2ecb7e60de62a4cd44b60b342e6fae90.txt\n",
       "</pre>\n"
      ],
      "text/plain": [
       "C:\\Users\\kade\\Desktop\\training_dir_staging\\1_furry_sticker\\2ecb7e60de62a4cd44b60b342e6fae90.txt\n"
      ]
     },
     "metadata": {},
     "output_type": "display_data"
    },
    {
     "data": {
      "text/html": [
       "<pre style=\"white-space:pre;overflow-x:auto;line-height:normal;font-family:Menlo,'DejaVu Sans Mono',consolas,'Courier New',monospace\">Tag <span style=\"color: #008000; text-decoration-color: #008000\">\"</span><span style=\"color: #3e3bc8; text-decoration-color: #3e3bc8; font-weight: bold\">outline</span><span style=\"color: #008000; text-decoration-color: #008000\">\"</span> found in caption <span style=\"color: #008000; text-decoration-color: #008000\">\"The character has a white </span><span style=\"color: #3e3bc8; text-decoration-color: #3e3bc8; font-weight: bold\">outline</span><span style=\"color: #008000; text-decoration-color: #008000\"> around it.\"</span>\n",
       "</pre>\n"
      ],
      "text/plain": [
       "Tag \u001b[32m\"\u001b[0m\u001b[1;38;2;62;59;200moutline\u001b[0m\u001b[32m\"\u001b[0m found in caption \u001b[32m\"The character has a white \u001b[0m\u001b[1;38;2;62;59;200moutline\u001b[0m\u001b[32m around it.\"\u001b[0m\n"
      ]
     },
     "metadata": {},
     "output_type": "display_data"
    },
    {
     "data": {
      "text/html": [
       "<pre style=\"white-space:pre;overflow-x:auto;line-height:normal;font-family:Menlo,'DejaVu Sans Mono',consolas,'Courier New',monospace\">C:\\Users\\kade\\Desktop\\training_dir_staging\\1_furry_sticker\\2ecb7e60de62a4cd44b60b342e6fae90.txt\n",
       "</pre>\n"
      ],
      "text/plain": [
       "C:\\Users\\kade\\Desktop\\training_dir_staging\\1_furry_sticker\\2ecb7e60de62a4cd44b60b342e6fae90.txt\n"
      ]
     },
     "metadata": {},
     "output_type": "display_data"
    },
    {
     "data": {
      "text/html": [
       "<pre style=\"white-space:pre;overflow-x:auto;line-height:normal;font-family:Menlo,'DejaVu Sans Mono',consolas,'Courier New',monospace\">Tag <span style=\"color: #008000; text-decoration-color: #008000\">\"</span><span style=\"color: #faedbd; text-decoration-color: #faedbd; font-weight: bold\">smile</span><span style=\"color: #008000; text-decoration-color: #008000\">\"</span> found in caption <span style=\"color: #008000; text-decoration-color: #008000\">\"It has big open-mouthed </span><span style=\"color: #faedbd; text-decoration-color: #faedbd; font-weight: bold\">smile</span><span style=\"color: #008000; text-decoration-color: #008000\"> indicating excitement or joy.\"</span>\n",
       "</pre>\n"
      ],
      "text/plain": [
       "Tag \u001b[32m\"\u001b[0m\u001b[1;38;2;250;237;189msmile\u001b[0m\u001b[32m\"\u001b[0m found in caption \u001b[32m\"It has big open-mouthed \u001b[0m\u001b[1;38;2;250;237;189msmile\u001b[0m\u001b[32m indicating excitement or joy.\"\u001b[0m\n"
      ]
     },
     "metadata": {},
     "output_type": "display_data"
    },
    {
     "data": {
      "text/html": [
       "<pre style=\"white-space:pre;overflow-x:auto;line-height:normal;font-family:Menlo,'DejaVu Sans Mono',consolas,'Courier New',monospace\">C:\\Users\\kade\\Desktop\\training_dir_staging\\1_furry_sticker\\2ecb7e60de62a4cd44b60b342e6fae90.txt\n",
       "</pre>\n"
      ],
      "text/plain": [
       "C:\\Users\\kade\\Desktop\\training_dir_staging\\1_furry_sticker\\2ecb7e60de62a4cd44b60b342e6fae90.txt\n"
      ]
     },
     "metadata": {},
     "output_type": "display_data"
    },
    {
     "data": {
      "text/html": [
       "<pre style=\"white-space:pre;overflow-x:auto;line-height:normal;font-family:Menlo,'DejaVu Sans Mono',consolas,'Courier New',monospace\">Tag <span style=\"color: #008000; text-decoration-color: #008000\">\"</span><span style=\"color: #61ea0f; text-decoration-color: #61ea0f; font-weight: bold\">tail</span><span style=\"color: #008000; text-decoration-color: #008000\">\"</span> found in caption <span style=\"color: #008000; text-decoration-color: #008000\">\"The fox has a red fur coat with white underbelly and a red </span><span style=\"color: #61ea0f; text-decoration-color: #61ea0f; font-weight: bold\">tail</span><span style=\"color: #008000; text-decoration-color: #008000\"> with a white tip.\"</span>\n",
       "</pre>\n"
      ],
      "text/plain": [
       "Tag \u001b[32m\"\u001b[0m\u001b[1;38;2;97;234;15mtail\u001b[0m\u001b[32m\"\u001b[0m found in caption \u001b[32m\"The fox has a red fur coat with white underbelly and a red \u001b[0m\u001b[1;38;2;97;234;15mtail\u001b[0m\u001b[32m with a white tip.\"\u001b[0m\n"
      ]
     },
     "metadata": {},
     "output_type": "display_data"
    },
    {
     "data": {
      "text/html": [
       "<pre style=\"white-space:pre;overflow-x:auto;line-height:normal;font-family:Menlo,'DejaVu Sans Mono',consolas,'Courier New',monospace\">C:\\Users\\kade\\Desktop\\training_dir_staging\\1_furry_sticker\\3a12abc329a5913967328896b6f284f3.txt\n",
       "</pre>\n"
      ],
      "text/plain": [
       "C:\\Users\\kade\\Desktop\\training_dir_staging\\1_furry_sticker\\3a12abc329a5913967328896b6f284f3.txt\n"
      ]
     },
     "metadata": {},
     "output_type": "display_data"
    },
    {
     "data": {
      "text/html": [
       "<pre style=\"white-space:pre;overflow-x:auto;line-height:normal;font-family:Menlo,'DejaVu Sans Mono',consolas,'Courier New',monospace\">Tag <span style=\"color: #008000; text-decoration-color: #008000\">\"</span><span style=\"color: #b7ddb3; text-decoration-color: #b7ddb3; font-weight: bold\">anthro</span><span style=\"color: #008000; text-decoration-color: #008000\">\"</span> found in caption <span style=\"color: #008000; text-decoration-color: #008000\">\"The image showcases an </span><span style=\"color: #b7ddb3; text-decoration-color: #b7ddb3; font-weight: bold\">anthro</span><span style=\"color: #008000; text-decoration-color: #008000\"> tabby cat with an orange fur coat.\"</span>\n",
       "</pre>\n"
      ],
      "text/plain": [
       "Tag \u001b[32m\"\u001b[0m\u001b[1;38;2;183;221;179manthro\u001b[0m\u001b[32m\"\u001b[0m found in caption \u001b[32m\"The image showcases an \u001b[0m\u001b[1;38;2;183;221;179manthro\u001b[0m\u001b[32m tabby cat with an orange fur coat.\"\u001b[0m\n"
      ]
     },
     "metadata": {},
     "output_type": "display_data"
    },
    {
     "data": {
      "text/html": [
       "<pre style=\"white-space:pre;overflow-x:auto;line-height:normal;font-family:Menlo,'DejaVu Sans Mono',consolas,'Courier New',monospace\">C:\\Users\\kade\\Desktop\\training_dir_staging\\1_furry_sticker\\3a12abc329a5913967328896b6f284f3.txt\n",
       "</pre>\n"
      ],
      "text/plain": [
       "C:\\Users\\kade\\Desktop\\training_dir_staging\\1_furry_sticker\\3a12abc329a5913967328896b6f284f3.txt\n"
      ]
     },
     "metadata": {},
     "output_type": "display_data"
    },
    {
     "data": {
      "text/html": [
       "<pre style=\"white-space:pre;overflow-x:auto;line-height:normal;font-family:Menlo,'DejaVu Sans Mono',consolas,'Courier New',monospace\">Tag <span style=\"color: #008000; text-decoration-color: #008000\">\"</span><span style=\"color: #8b1ee1; text-decoration-color: #8b1ee1; font-weight: bold\">green eyes</span><span style=\"color: #008000; text-decoration-color: #008000\">\"</span> found in caption <span style=\"color: #008000; text-decoration-color: #008000\">\"It has </span><span style=\"color: #8b1ee1; text-decoration-color: #8b1ee1; font-weight: bold\">green eyes</span><span style=\"color: #008000; text-decoration-color: #008000\"> and a playful and content expression.\"</span>\n",
       "</pre>\n"
      ],
      "text/plain": [
       "Tag \u001b[32m\"\u001b[0m\u001b[1;38;2;139;30;225mgreen eyes\u001b[0m\u001b[32m\"\u001b[0m found in caption \u001b[32m\"It has \u001b[0m\u001b[1;38;2;139;30;225mgreen eyes\u001b[0m\u001b[32m and a playful and content expression.\"\u001b[0m\n"
      ]
     },
     "metadata": {},
     "output_type": "display_data"
    },
    {
     "data": {
      "text/html": [
       "<pre style=\"white-space:pre;overflow-x:auto;line-height:normal;font-family:Menlo,'DejaVu Sans Mono',consolas,'Courier New',monospace\">C:\\Users\\kade\\Desktop\\training_dir_staging\\1_furry_sticker\\3a12abc329a5913967328896b6f284f3.txt\n",
       "</pre>\n"
      ],
      "text/plain": [
       "C:\\Users\\kade\\Desktop\\training_dir_staging\\1_furry_sticker\\3a12abc329a5913967328896b6f284f3.txt\n"
      ]
     },
     "metadata": {},
     "output_type": "display_data"
    },
    {
     "data": {
      "text/html": [
       "<pre style=\"white-space:pre;overflow-x:auto;line-height:normal;font-family:Menlo,'DejaVu Sans Mono',consolas,'Courier New',monospace\">Tag <span style=\"color: #008000; text-decoration-color: #008000\">\"</span><span style=\"color: #2871e6; text-decoration-color: #2871e6; font-weight: bold\">fur</span><span style=\"color: #008000; text-decoration-color: #008000\">\"</span> found in caption <span style=\"color: #008000; text-decoration-color: #008000\">\"The image showcases an anthro tabby cat with an orange </span><span style=\"color: #2871e6; text-decoration-color: #2871e6; font-weight: bold\">fur</span><span style=\"color: #008000; text-decoration-color: #008000\"> coat.\"</span>\n",
       "</pre>\n"
      ],
      "text/plain": [
       "Tag \u001b[32m\"\u001b[0m\u001b[1;38;2;40;113;230mfur\u001b[0m\u001b[32m\"\u001b[0m found in caption \u001b[32m\"The image showcases an anthro tabby cat with an orange \u001b[0m\u001b[1;38;2;40;113;230mfur\u001b[0m\u001b[32m coat.\"\u001b[0m\n"
      ]
     },
     "metadata": {},
     "output_type": "display_data"
    },
    {
     "data": {
      "text/html": [
       "<pre style=\"white-space:pre;overflow-x:auto;line-height:normal;font-family:Menlo,'DejaVu Sans Mono',consolas,'Courier New',monospace\">C:\\Users\\kade\\Desktop\\training_dir_staging\\1_furry_sticker\\3a12abc329a5913967328896b6f284f3.txt\n",
       "</pre>\n"
      ],
      "text/plain": [
       "C:\\Users\\kade\\Desktop\\training_dir_staging\\1_furry_sticker\\3a12abc329a5913967328896b6f284f3.txt\n"
      ]
     },
     "metadata": {},
     "output_type": "display_data"
    },
    {
     "data": {
      "text/html": [
       "<pre style=\"white-space:pre;overflow-x:auto;line-height:normal;font-family:Menlo,'DejaVu Sans Mono',consolas,'Courier New',monospace\">Tag <span style=\"color: #008000; text-decoration-color: #008000\">\"</span><span style=\"color: #22fc31; text-decoration-color: #22fc31; font-weight: bold\">food</span><span style=\"color: #008000; text-decoration-color: #008000\">\"</span> found in caption <span style=\"color: #008000; text-decoration-color: #008000\">\"The character is resting on a red couch next to a white bowl filled with fish shaped </span>\n",
       "<span style=\"color: #008000; text-decoration-color: #008000\">dry cat </span><span style=\"color: #22fc31; text-decoration-color: #22fc31; font-weight: bold\">food</span><span style=\"color: #008000; text-decoration-color: #008000\">.\"</span>\n",
       "</pre>\n"
      ],
      "text/plain": [
       "Tag \u001b[32m\"\u001b[0m\u001b[1;38;2;34;252;49mfood\u001b[0m\u001b[32m\"\u001b[0m found in caption \u001b[32m\"The character is resting on a red couch next to a white bowl filled with fish shaped \u001b[0m\n",
       "\u001b[32mdry cat \u001b[0m\u001b[1;38;2;34;252;49mfood\u001b[0m\u001b[32m.\"\u001b[0m\n"
      ]
     },
     "metadata": {},
     "output_type": "display_data"
    },
    {
     "data": {
      "text/html": [
       "<pre style=\"white-space:pre;overflow-x:auto;line-height:normal;font-family:Menlo,'DejaVu Sans Mono',consolas,'Courier New',monospace\">C:\\Users\\kade\\Desktop\\training_dir_staging\\1_furry_sticker\\3a12abc329a5913967328896b6f284f3.txt\n",
       "</pre>\n"
      ],
      "text/plain": [
       "C:\\Users\\kade\\Desktop\\training_dir_staging\\1_furry_sticker\\3a12abc329a5913967328896b6f284f3.txt\n"
      ]
     },
     "metadata": {},
     "output_type": "display_data"
    },
    {
     "data": {
      "text/html": [
       "<pre style=\"white-space:pre;overflow-x:auto;line-height:normal;font-family:Menlo,'DejaVu Sans Mono',consolas,'Courier New',monospace\">Tag <span style=\"color: #008000; text-decoration-color: #008000\">\"</span><span style=\"color: #5c5a1b; text-decoration-color: #5c5a1b; font-weight: bold\">bowl</span><span style=\"color: #008000; text-decoration-color: #008000\">\"</span> found in caption <span style=\"color: #008000; text-decoration-color: #008000\">\"The character is resting on a red couch next to a white </span><span style=\"color: #5c5a1b; text-decoration-color: #5c5a1b; font-weight: bold\">bowl</span><span style=\"color: #008000; text-decoration-color: #008000\"> filled with fish shaped </span>\n",
       "<span style=\"color: #008000; text-decoration-color: #008000\">dry cat food.\"</span>\n",
       "</pre>\n"
      ],
      "text/plain": [
       "Tag \u001b[32m\"\u001b[0m\u001b[1;38;2;92;90;27mbowl\u001b[0m\u001b[32m\"\u001b[0m found in caption \u001b[32m\"The character is resting on a red couch next to a white \u001b[0m\u001b[1;38;2;92;90;27mbowl\u001b[0m\u001b[32m filled with fish shaped \u001b[0m\n",
       "\u001b[32mdry cat food.\"\u001b[0m\n"
      ]
     },
     "metadata": {},
     "output_type": "display_data"
    },
    {
     "data": {
      "text/html": [
       "<pre style=\"white-space:pre;overflow-x:auto;line-height:normal;font-family:Menlo,'DejaVu Sans Mono',consolas,'Courier New',monospace\">C:\\Users\\kade\\Desktop\\training_dir_staging\\1_furry_sticker\\3c0feb90f445fd0a32d2a70d595d9a0f.txt\n",
       "</pre>\n"
      ],
      "text/plain": [
       "C:\\Users\\kade\\Desktop\\training_dir_staging\\1_furry_sticker\\3c0feb90f445fd0a32d2a70d595d9a0f.txt\n"
      ]
     },
     "metadata": {},
     "output_type": "display_data"
    },
    {
     "data": {
      "text/html": [
       "<pre style=\"white-space:pre;overflow-x:auto;line-height:normal;font-family:Menlo,'DejaVu Sans Mono',consolas,'Courier New',monospace\">Tag <span style=\"color: #008000; text-decoration-color: #008000\">\"</span><span style=\"color: #464b7c; text-decoration-color: #464b7c; font-weight: bold\">collar</span><span style=\"color: #008000; text-decoration-color: #008000\">\"</span> found in caption <span style=\"color: #008000; text-decoration-color: #008000\">\"It is wearing a red </span><span style=\"color: #464b7c; text-decoration-color: #464b7c; font-weight: bold\">collar</span><span style=\"color: #008000; text-decoration-color: #008000\"> with a gold cat head medal on it.\"</span>\n",
       "</pre>\n"
      ],
      "text/plain": [
       "Tag \u001b[32m\"\u001b[0m\u001b[1;38;2;70;75;124mcollar\u001b[0m\u001b[32m\"\u001b[0m found in caption \u001b[32m\"It is wearing a red \u001b[0m\u001b[1;38;2;70;75;124mcollar\u001b[0m\u001b[32m with a gold cat head medal on it.\"\u001b[0m\n"
      ]
     },
     "metadata": {},
     "output_type": "display_data"
    },
    {
     "data": {
      "text/html": [
       "<pre style=\"white-space:pre;overflow-x:auto;line-height:normal;font-family:Menlo,'DejaVu Sans Mono',consolas,'Courier New',monospace\">C:\\Users\\kade\\Desktop\\training_dir_staging\\1_furry_sticker\\3c0feb90f445fd0a32d2a70d595d9a0f.txt\n",
       "</pre>\n"
      ],
      "text/plain": [
       "C:\\Users\\kade\\Desktop\\training_dir_staging\\1_furry_sticker\\3c0feb90f445fd0a32d2a70d595d9a0f.txt\n"
      ]
     },
     "metadata": {},
     "output_type": "display_data"
    },
    {
     "data": {
      "text/html": [
       "<pre style=\"white-space:pre;overflow-x:auto;line-height:normal;font-family:Menlo,'DejaVu Sans Mono',consolas,'Courier New',monospace\">Tag <span style=\"color: #008000; text-decoration-color: #008000\">\"</span><span style=\"color: #9481cb; text-decoration-color: #9481cb; font-weight: bold\">pawpads</span><span style=\"color: #008000; text-decoration-color: #008000\">\"</span> found in caption <span style=\"color: #008000; text-decoration-color: #008000\">\"It has brown fur and orange </span><span style=\"color: #9481cb; text-decoration-color: #9481cb; font-weight: bold\">pawpads</span><span style=\"color: #008000; text-decoration-color: #008000\">.\"</span>\n",
       "</pre>\n"
      ],
      "text/plain": [
       "Tag \u001b[32m\"\u001b[0m\u001b[1;38;2;148;129;203mpawpads\u001b[0m\u001b[32m\"\u001b[0m found in caption \u001b[32m\"It has brown fur and orange \u001b[0m\u001b[1;38;2;148;129;203mpawpads\u001b[0m\u001b[32m.\"\u001b[0m\n"
      ]
     },
     "metadata": {},
     "output_type": "display_data"
    },
    {
     "data": {
      "text/html": [
       "<pre style=\"white-space:pre;overflow-x:auto;line-height:normal;font-family:Menlo,'DejaVu Sans Mono',consolas,'Courier New',monospace\">C:\\Users\\kade\\Desktop\\training_dir_staging\\1_furry_sticker\\3c0feb90f445fd0a32d2a70d595d9a0f.txt\n",
       "</pre>\n"
      ],
      "text/plain": [
       "C:\\Users\\kade\\Desktop\\training_dir_staging\\1_furry_sticker\\3c0feb90f445fd0a32d2a70d595d9a0f.txt\n"
      ]
     },
     "metadata": {},
     "output_type": "display_data"
    },
    {
     "data": {
      "text/html": [
       "<pre style=\"white-space:pre;overflow-x:auto;line-height:normal;font-family:Menlo,'DejaVu Sans Mono',consolas,'Courier New',monospace\">Tag <span style=\"color: #008000; text-decoration-color: #008000\">\"</span><span style=\"color: #d8649a; text-decoration-color: #d8649a; font-weight: bold\">anthro</span><span style=\"color: #008000; text-decoration-color: #008000\">\"</span> found in caption <span style=\"color: #008000; text-decoration-color: #008000\">\"The background is black. There's a tabby cat </span><span style=\"color: #d8649a; text-decoration-color: #d8649a; font-weight: bold\">anthro</span><span style=\"color: #008000; text-decoration-color: #008000\"> in the foreground.\"</span>\n",
       "</pre>\n"
      ],
      "text/plain": [
       "Tag \u001b[32m\"\u001b[0m\u001b[1;38;2;216;100;154manthro\u001b[0m\u001b[32m\"\u001b[0m found in caption \u001b[32m\"The background is black. There's a tabby cat \u001b[0m\u001b[1;38;2;216;100;154manthro\u001b[0m\u001b[32m in the foreground.\"\u001b[0m\n"
      ]
     },
     "metadata": {},
     "output_type": "display_data"
    },
    {
     "data": {
      "text/html": [
       "<pre style=\"white-space:pre;overflow-x:auto;line-height:normal;font-family:Menlo,'DejaVu Sans Mono',consolas,'Courier New',monospace\">C:\\Users\\kade\\Desktop\\training_dir_staging\\1_furry_sticker\\3c0feb90f445fd0a32d2a70d595d9a0f.txt\n",
       "</pre>\n"
      ],
      "text/plain": [
       "C:\\Users\\kade\\Desktop\\training_dir_staging\\1_furry_sticker\\3c0feb90f445fd0a32d2a70d595d9a0f.txt\n"
      ]
     },
     "metadata": {},
     "output_type": "display_data"
    },
    {
     "data": {
      "text/html": [
       "<pre style=\"white-space:pre;overflow-x:auto;line-height:normal;font-family:Menlo,'DejaVu Sans Mono',consolas,'Courier New',monospace\">Tag <span style=\"color: #008000; text-decoration-color: #008000\">\"</span><span style=\"color: #d25109; text-decoration-color: #d25109; font-weight: bold\">fur</span><span style=\"color: #008000; text-decoration-color: #008000\">\"</span> found in caption <span style=\"color: #008000; text-decoration-color: #008000\">\"It has brown </span><span style=\"color: #d25109; text-decoration-color: #d25109; font-weight: bold\">fur</span><span style=\"color: #008000; text-decoration-color: #008000\"> and orange pawpads.\"</span>\n",
       "</pre>\n"
      ],
      "text/plain": [
       "Tag \u001b[32m\"\u001b[0m\u001b[1;38;2;210;81;9mfur\u001b[0m\u001b[32m\"\u001b[0m found in caption \u001b[32m\"It has brown \u001b[0m\u001b[1;38;2;210;81;9mfur\u001b[0m\u001b[32m and orange pawpads.\"\u001b[0m\n"
      ]
     },
     "metadata": {},
     "output_type": "display_data"
    },
    {
     "data": {
      "text/html": [
       "<pre style=\"white-space:pre;overflow-x:auto;line-height:normal;font-family:Menlo,'DejaVu Sans Mono',consolas,'Courier New',monospace\">C:\\Users\\kade\\Desktop\\training_dir_staging\\1_furry_sticker\\3c0feb90f445fd0a32d2a70d595d9a0f.txt\n",
       "</pre>\n"
      ],
      "text/plain": [
       "C:\\Users\\kade\\Desktop\\training_dir_staging\\1_furry_sticker\\3c0feb90f445fd0a32d2a70d595d9a0f.txt\n"
      ]
     },
     "metadata": {},
     "output_type": "display_data"
    },
    {
     "data": {
      "text/html": [
       "<pre style=\"white-space:pre;overflow-x:auto;line-height:normal;font-family:Menlo,'DejaVu Sans Mono',consolas,'Courier New',monospace\">Tag <span style=\"color: #008000; text-decoration-color: #008000\">\"</span><span style=\"color: #c238da; text-decoration-color: #c238da; font-weight: bold\">tabby cat</span><span style=\"color: #008000; text-decoration-color: #008000\">\"</span> found in caption <span style=\"color: #008000; text-decoration-color: #008000\">\"The background is black. There's a </span><span style=\"color: #c238da; text-decoration-color: #c238da; font-weight: bold\">tabby cat</span><span style=\"color: #008000; text-decoration-color: #008000\"> anthro in the foreground.\"</span>\n",
       "</pre>\n"
      ],
      "text/plain": [
       "Tag \u001b[32m\"\u001b[0m\u001b[1;38;2;194;56;218mtabby cat\u001b[0m\u001b[32m\"\u001b[0m found in caption \u001b[32m\"The background is black. There's a \u001b[0m\u001b[1;38;2;194;56;218mtabby cat\u001b[0m\u001b[32m anthro in the foreground.\"\u001b[0m\n"
      ]
     },
     "metadata": {},
     "output_type": "display_data"
    },
    {
     "data": {
      "text/html": [
       "<pre style=\"white-space:pre;overflow-x:auto;line-height:normal;font-family:Menlo,'DejaVu Sans Mono',consolas,'Courier New',monospace\">C:\\Users\\kade\\Desktop\\training_dir_staging\\1_furry_sticker\\3c0feb90f445fd0a32d2a70d595d9a0f.txt\n",
       "</pre>\n"
      ],
      "text/plain": [
       "C:\\Users\\kade\\Desktop\\training_dir_staging\\1_furry_sticker\\3c0feb90f445fd0a32d2a70d595d9a0f.txt\n"
      ]
     },
     "metadata": {},
     "output_type": "display_data"
    },
    {
     "data": {
      "text/html": [
       "<pre style=\"white-space:pre;overflow-x:auto;line-height:normal;font-family:Menlo,'DejaVu Sans Mono',consolas,'Courier New',monospace\">Tag <span style=\"color: #008000; text-decoration-color: #008000\">\"</span><span style=\"color: #8efb3e; text-decoration-color: #8efb3e; font-weight: bold\">blush</span><span style=\"color: #008000; text-decoration-color: #008000\">\"</span> found in caption <span style=\"color: #008000; text-decoration-color: #008000\">\"It has a small </span><span style=\"color: #8efb3e; text-decoration-color: #8efb3e; font-weight: bold\">blush</span><span style=\"color: #008000; text-decoration-color: #008000\"> on his cheeks.\"</span>\n",
       "</pre>\n"
      ],
      "text/plain": [
       "Tag \u001b[32m\"\u001b[0m\u001b[1;38;2;142;251;62mblush\u001b[0m\u001b[32m\"\u001b[0m found in caption \u001b[32m\"It has a small \u001b[0m\u001b[1;38;2;142;251;62mblush\u001b[0m\u001b[32m on his cheeks.\"\u001b[0m\n"
      ]
     },
     "metadata": {},
     "output_type": "display_data"
    },
    {
     "data": {
      "text/html": [
       "<pre style=\"white-space:pre;overflow-x:auto;line-height:normal;font-family:Menlo,'DejaVu Sans Mono',consolas,'Courier New',monospace\">C:\\Users\\kade\\Desktop\\training_dir_staging\\1_furry_sticker\\3c3c9b21f695ab5433c806acd9d3f635.txt\n",
       "</pre>\n"
      ],
      "text/plain": [
       "C:\\Users\\kade\\Desktop\\training_dir_staging\\1_furry_sticker\\3c3c9b21f695ab5433c806acd9d3f635.txt\n"
      ]
     },
     "metadata": {},
     "output_type": "display_data"
    },
    {
     "data": {
      "text/html": [
       "<pre style=\"white-space:pre;overflow-x:auto;line-height:normal;font-family:Menlo,'DejaVu Sans Mono',consolas,'Courier New',monospace\">Tag <span style=\"color: #008000; text-decoration-color: #008000\">\"</span><span style=\"color: #fa0188; text-decoration-color: #fa0188; font-weight: bold\">anthro</span><span style=\"color: #008000; text-decoration-color: #008000\">\"</span> found in caption <span style=\"color: #008000; text-decoration-color: #008000\">\"In the center of the image is an </span><span style=\"color: #fa0188; text-decoration-color: #fa0188; font-weight: bold\">anthro</span><span style=\"color: #008000; text-decoration-color: #008000\"> red panda.\"</span>\n",
       "</pre>\n"
      ],
      "text/plain": [
       "Tag \u001b[32m\"\u001b[0m\u001b[1;38;2;250;1;136manthro\u001b[0m\u001b[32m\"\u001b[0m found in caption \u001b[32m\"In the center of the image is an \u001b[0m\u001b[1;38;2;250;1;136manthro\u001b[0m\u001b[32m red panda.\"\u001b[0m\n"
      ]
     },
     "metadata": {},
     "output_type": "display_data"
    },
    {
     "data": {
      "text/html": [
       "<pre style=\"white-space:pre;overflow-x:auto;line-height:normal;font-family:Menlo,'DejaVu Sans Mono',consolas,'Courier New',monospace\">C:\\Users\\kade\\Desktop\\training_dir_staging\\1_furry_sticker\\3c3c9b21f695ab5433c806acd9d3f635.txt\n",
       "</pre>\n"
      ],
      "text/plain": [
       "C:\\Users\\kade\\Desktop\\training_dir_staging\\1_furry_sticker\\3c3c9b21f695ab5433c806acd9d3f635.txt\n"
      ]
     },
     "metadata": {},
     "output_type": "display_data"
    },
    {
     "data": {
      "text/html": [
       "<pre style=\"white-space:pre;overflow-x:auto;line-height:normal;font-family:Menlo,'DejaVu Sans Mono',consolas,'Courier New',monospace\">Tag <span style=\"color: #008000; text-decoration-color: #008000\">\"</span><span style=\"color: #914f30; text-decoration-color: #914f30; font-weight: bold\">red panda</span><span style=\"color: #008000; text-decoration-color: #008000\">\"</span> found in caption <span style=\"color: #008000; text-decoration-color: #008000\">\"In the center of the image is an anthro </span><span style=\"color: #914f30; text-decoration-color: #914f30; font-weight: bold\">red panda</span><span style=\"color: #008000; text-decoration-color: #008000\">.\"</span>\n",
       "</pre>\n"
      ],
      "text/plain": [
       "Tag \u001b[32m\"\u001b[0m\u001b[1;38;2;145;79;48mred panda\u001b[0m\u001b[32m\"\u001b[0m found in caption \u001b[32m\"In the center of the image is an anthro \u001b[0m\u001b[1;38;2;145;79;48mred panda\u001b[0m\u001b[32m.\"\u001b[0m\n"
      ]
     },
     "metadata": {},
     "output_type": "display_data"
    },
    {
     "data": {
      "text/html": [
       "<pre style=\"white-space:pre;overflow-x:auto;line-height:normal;font-family:Menlo,'DejaVu Sans Mono',consolas,'Courier New',monospace\">C:\\Users\\kade\\Desktop\\training_dir_staging\\1_furry_sticker\\3c3c9b21f695ab5433c806acd9d3f635.txt\n",
       "</pre>\n"
      ],
      "text/plain": [
       "C:\\Users\\kade\\Desktop\\training_dir_staging\\1_furry_sticker\\3c3c9b21f695ab5433c806acd9d3f635.txt\n"
      ]
     },
     "metadata": {},
     "output_type": "display_data"
    },
    {
     "data": {
      "text/html": [
       "<pre style=\"white-space:pre;overflow-x:auto;line-height:normal;font-family:Menlo,'DejaVu Sans Mono',consolas,'Courier New',monospace\">Tag <span style=\"color: #008000; text-decoration-color: #008000\">\"</span><span style=\"color: #141c3e; text-decoration-color: #141c3e; font-weight: bold\">hair</span><span style=\"color: #008000; text-decoration-color: #008000\">\"</span> found in caption <span style=\"color: #008000; text-decoration-color: #008000\">\"It has black </span><span style=\"color: #141c3e; text-decoration-color: #141c3e; font-weight: bold\">hair</span><span style=\"color: #008000; text-decoration-color: #008000\"> with blue ends and white fur and white ears with red accents. It's </span>\n",
       "<span style=\"color: #008000; text-decoration-color: #008000\">chest and hands are white with his hand ending in black fur.\"</span>\n",
       "</pre>\n"
      ],
      "text/plain": [
       "Tag \u001b[32m\"\u001b[0m\u001b[1;38;2;20;28;62mhair\u001b[0m\u001b[32m\"\u001b[0m found in caption \u001b[32m\"It has black \u001b[0m\u001b[1;38;2;20;28;62mhair\u001b[0m\u001b[32m with blue ends and white fur and white ears with red accents. It's \u001b[0m\n",
       "\u001b[32mchest and hands are white with his hand ending in black fur.\"\u001b[0m\n"
      ]
     },
     "metadata": {},
     "output_type": "display_data"
    },
    {
     "data": {
      "text/html": [
       "<pre style=\"white-space:pre;overflow-x:auto;line-height:normal;font-family:Menlo,'DejaVu Sans Mono',consolas,'Courier New',monospace\">C:\\Users\\kade\\Desktop\\training_dir_staging\\1_furry_sticker\\3c3c9b21f695ab5433c806acd9d3f635.txt\n",
       "</pre>\n"
      ],
      "text/plain": [
       "C:\\Users\\kade\\Desktop\\training_dir_staging\\1_furry_sticker\\3c3c9b21f695ab5433c806acd9d3f635.txt\n"
      ]
     },
     "metadata": {},
     "output_type": "display_data"
    },
    {
     "data": {
      "text/html": [
       "<pre style=\"white-space:pre;overflow-x:auto;line-height:normal;font-family:Menlo,'DejaVu Sans Mono',consolas,'Courier New',monospace\">Tag <span style=\"color: #008000; text-decoration-color: #008000\">\"</span><span style=\"color: #4472c7; text-decoration-color: #4472c7; font-weight: bold\">fur</span><span style=\"color: #008000; text-decoration-color: #008000\">\"</span> found in caption <span style=\"color: #008000; text-decoration-color: #008000\">\"It has black hair with blue ends and white </span><span style=\"color: #4472c7; text-decoration-color: #4472c7; font-weight: bold\">fur</span><span style=\"color: #008000; text-decoration-color: #008000\"> and white ears with red accents. It's </span>\n",
       "<span style=\"color: #008000; text-decoration-color: #008000\">chest and hands are white with his hand ending in black </span><span style=\"color: #4472c7; text-decoration-color: #4472c7; font-weight: bold\">fur</span><span style=\"color: #008000; text-decoration-color: #008000\">.\"</span>\n",
       "</pre>\n"
      ],
      "text/plain": [
       "Tag \u001b[32m\"\u001b[0m\u001b[1;38;2;68;114;199mfur\u001b[0m\u001b[32m\"\u001b[0m found in caption \u001b[32m\"It has black hair with blue ends and white \u001b[0m\u001b[1;38;2;68;114;199mfur\u001b[0m\u001b[32m and white ears with red accents. It's \u001b[0m\n",
       "\u001b[32mchest and hands are white with his hand ending in black \u001b[0m\u001b[1;38;2;68;114;199mfur\u001b[0m\u001b[32m.\"\u001b[0m\n"
      ]
     },
     "metadata": {},
     "output_type": "display_data"
    },
    {
     "data": {
      "text/html": [
       "<pre style=\"white-space:pre;overflow-x:auto;line-height:normal;font-family:Menlo,'DejaVu Sans Mono',consolas,'Courier New',monospace\">C:\\Users\\kade\\Desktop\\training_dir_staging\\1_furry_sticker\\3c3c9b21f695ab5433c806acd9d3f635.txt\n",
       "</pre>\n"
      ],
      "text/plain": [
       "C:\\Users\\kade\\Desktop\\training_dir_staging\\1_furry_sticker\\3c3c9b21f695ab5433c806acd9d3f635.txt\n"
      ]
     },
     "metadata": {},
     "output_type": "display_data"
    },
    {
     "data": {
      "text/html": [
       "<pre style=\"white-space:pre;overflow-x:auto;line-height:normal;font-family:Menlo,'DejaVu Sans Mono',consolas,'Courier New',monospace\">Tag <span style=\"color: #008000; text-decoration-color: #008000\">\"</span><span style=\"color: #baad25; text-decoration-color: #baad25; font-weight: bold\">blue eyes</span><span style=\"color: #008000; text-decoration-color: #008000\">\"</span> found in caption <span style=\"color: #008000; text-decoration-color: #008000\">\"It is smiling and looking off to the right with it's </span><span style=\"color: #baad25; text-decoration-color: #baad25; font-weight: bold\">blue eyes</span><span style=\"color: #008000; text-decoration-color: #008000\">.\"</span>\n",
       "</pre>\n"
      ],
      "text/plain": [
       "Tag \u001b[32m\"\u001b[0m\u001b[1;38;2;186;173;37mblue eyes\u001b[0m\u001b[32m\"\u001b[0m found in caption \u001b[32m\"It is smiling and looking off to the right with it's \u001b[0m\u001b[1;38;2;186;173;37mblue eyes\u001b[0m\u001b[32m.\"\u001b[0m\n"
      ]
     },
     "metadata": {},
     "output_type": "display_data"
    },
    {
     "data": {
      "text/html": [
       "<pre style=\"white-space:pre;overflow-x:auto;line-height:normal;font-family:Menlo,'DejaVu Sans Mono',consolas,'Courier New',monospace\">C:\\Users\\kade\\Desktop\\training_dir_staging\\1_furry_sticker\\3c3c9b21f695ab5433c806acd9d3f635.txt\n",
       "</pre>\n"
      ],
      "text/plain": [
       "C:\\Users\\kade\\Desktop\\training_dir_staging\\1_furry_sticker\\3c3c9b21f695ab5433c806acd9d3f635.txt\n"
      ]
     },
     "metadata": {},
     "output_type": "display_data"
    },
    {
     "data": {
      "text/html": [
       "<pre style=\"white-space:pre;overflow-x:auto;line-height:normal;font-family:Menlo,'DejaVu Sans Mono',consolas,'Courier New',monospace\">Tag <span style=\"color: #008000; text-decoration-color: #008000\">\"</span><span style=\"color: #aacd54; text-decoration-color: #aacd54; font-weight: bold\">white fur</span><span style=\"color: #008000; text-decoration-color: #008000\">\"</span> found in caption <span style=\"color: #008000; text-decoration-color: #008000\">\"It has black hair with blue ends and </span><span style=\"color: #aacd54; text-decoration-color: #aacd54; font-weight: bold\">white fur</span><span style=\"color: #008000; text-decoration-color: #008000\"> and white ears with red accents. </span>\n",
       "<span style=\"color: #008000; text-decoration-color: #008000\">It's chest and hands are white with his hand ending in black fur.\"</span>\n",
       "</pre>\n"
      ],
      "text/plain": [
       "Tag \u001b[32m\"\u001b[0m\u001b[1;38;2;170;205;84mwhite fur\u001b[0m\u001b[32m\"\u001b[0m found in caption \u001b[32m\"It has black hair with blue ends and \u001b[0m\u001b[1;38;2;170;205;84mwhite fur\u001b[0m\u001b[32m and white ears with red accents. \u001b[0m\n",
       "\u001b[32mIt's chest and hands are white with his hand ending in black fur.\"\u001b[0m\n"
      ]
     },
     "metadata": {},
     "output_type": "display_data"
    },
    {
     "data": {
      "text/html": [
       "<pre style=\"white-space:pre;overflow-x:auto;line-height:normal;font-family:Menlo,'DejaVu Sans Mono',consolas,'Courier New',monospace\">C:\\Users\\kade\\Desktop\\training_dir_staging\\1_furry_sticker\\3c3c9b21f695ab5433c806acd9d3f635.txt\n",
       "</pre>\n"
      ],
      "text/plain": [
       "C:\\Users\\kade\\Desktop\\training_dir_staging\\1_furry_sticker\\3c3c9b21f695ab5433c806acd9d3f635.txt\n"
      ]
     },
     "metadata": {},
     "output_type": "display_data"
    },
    {
     "data": {
      "text/html": [
       "<pre style=\"white-space:pre;overflow-x:auto;line-height:normal;font-family:Menlo,'DejaVu Sans Mono',consolas,'Courier New',monospace\">Tag <span style=\"color: #008000; text-decoration-color: #008000\">\"</span><span style=\"color: #f46949; text-decoration-color: #f46949; font-weight: bold\">black hair</span><span style=\"color: #008000; text-decoration-color: #008000\">\"</span> found in caption <span style=\"color: #008000; text-decoration-color: #008000\">\"It has </span><span style=\"color: #f46949; text-decoration-color: #f46949; font-weight: bold\">black hair</span><span style=\"color: #008000; text-decoration-color: #008000\"> with blue ends and white fur and white ears with red accents. </span>\n",
       "<span style=\"color: #008000; text-decoration-color: #008000\">It's chest and hands are white with his hand ending in black fur.\"</span>\n",
       "</pre>\n"
      ],
      "text/plain": [
       "Tag \u001b[32m\"\u001b[0m\u001b[1;38;2;244;105;73mblack hair\u001b[0m\u001b[32m\"\u001b[0m found in caption \u001b[32m\"It has \u001b[0m\u001b[1;38;2;244;105;73mblack hair\u001b[0m\u001b[32m with blue ends and white fur and white ears with red accents. \u001b[0m\n",
       "\u001b[32mIt's chest and hands are white with his hand ending in black fur.\"\u001b[0m\n"
      ]
     },
     "metadata": {},
     "output_type": "display_data"
    },
    {
     "data": {
      "text/html": [
       "<pre style=\"white-space:pre;overflow-x:auto;line-height:normal;font-family:Menlo,'DejaVu Sans Mono',consolas,'Courier New',monospace\">C:\\Users\\kade\\Desktop\\training_dir_staging\\1_furry_sticker\\4130b426cf410e21596e60f281ee38d7.txt\n",
       "</pre>\n"
      ],
      "text/plain": [
       "C:\\Users\\kade\\Desktop\\training_dir_staging\\1_furry_sticker\\4130b426cf410e21596e60f281ee38d7.txt\n"
      ]
     },
     "metadata": {},
     "output_type": "display_data"
    },
    {
     "data": {
      "text/html": [
       "<pre style=\"white-space:pre;overflow-x:auto;line-height:normal;font-family:Menlo,'DejaVu Sans Mono',consolas,'Courier New',monospace\">Tag <span style=\"color: #008000; text-decoration-color: #008000\">\"</span><span style=\"color: #77e359; text-decoration-color: #77e359; font-weight: bold\">furry sticker</span><span style=\"color: #008000; text-decoration-color: #008000\">\"</span> found in caption <span style=\"color: #008000; text-decoration-color: #008000\">\"This image is a </span><span style=\"color: #77e359; text-decoration-color: #77e359; font-weight: bold\">furry sticker</span><span style=\"color: #008000; text-decoration-color: #008000\"> of two anthro animals one that appears to be an</span>\n",
       "<span style=\"color: #008000; text-decoration-color: #008000\">fox and the other a ych.\"</span>\n",
       "</pre>\n"
      ],
      "text/plain": [
       "Tag \u001b[32m\"\u001b[0m\u001b[1;38;2;119;227;89mfurry sticker\u001b[0m\u001b[32m\"\u001b[0m found in caption \u001b[32m\"This image is a \u001b[0m\u001b[1;38;2;119;227;89mfurry sticker\u001b[0m\u001b[32m of two anthro animals one that appears to be an\u001b[0m\n",
       "\u001b[32mfox and the other a ych.\"\u001b[0m\n"
      ]
     },
     "metadata": {},
     "output_type": "display_data"
    },
    {
     "data": {
      "text/html": [
       "<pre style=\"white-space:pre;overflow-x:auto;line-height:normal;font-family:Menlo,'DejaVu Sans Mono',consolas,'Courier New',monospace\">C:\\Users\\kade\\Desktop\\training_dir_staging\\1_furry_sticker\\4130b426cf410e21596e60f281ee38d7.txt\n",
       "</pre>\n"
      ],
      "text/plain": [
       "C:\\Users\\kade\\Desktop\\training_dir_staging\\1_furry_sticker\\4130b426cf410e21596e60f281ee38d7.txt\n"
      ]
     },
     "metadata": {},
     "output_type": "display_data"
    },
    {
     "data": {
      "text/html": [
       "<pre style=\"white-space:pre;overflow-x:auto;line-height:normal;font-family:Menlo,'DejaVu Sans Mono',consolas,'Courier New',monospace\">Tag <span style=\"color: #008000; text-decoration-color: #008000\">\"</span><span style=\"color: #710edd; text-decoration-color: #710edd; font-weight: bold\">fox</span><span style=\"color: #008000; text-decoration-color: #008000\">\"</span> found in caption <span style=\"color: #008000; text-decoration-color: #008000\">\"This image is a furry sticker of two anthro animals one that appears to be an </span><span style=\"color: #710edd; text-decoration-color: #710edd; font-weight: bold\">fox</span><span style=\"color: #008000; text-decoration-color: #008000\"> and </span>\n",
       "<span style=\"color: #008000; text-decoration-color: #008000\">the other a ych.\"</span>\n",
       "</pre>\n"
      ],
      "text/plain": [
       "Tag \u001b[32m\"\u001b[0m\u001b[1;38;2;113;14;221mfox\u001b[0m\u001b[32m\"\u001b[0m found in caption \u001b[32m\"This image is a furry sticker of two anthro animals one that appears to be an \u001b[0m\u001b[1;38;2;113;14;221mfox\u001b[0m\u001b[32m and \u001b[0m\n",
       "\u001b[32mthe other a ych.\"\u001b[0m\n"
      ]
     },
     "metadata": {},
     "output_type": "display_data"
    },
    {
     "data": {
      "text/html": [
       "<pre style=\"white-space:pre;overflow-x:auto;line-height:normal;font-family:Menlo,'DejaVu Sans Mono',consolas,'Courier New',monospace\">C:\\Users\\kade\\Desktop\\training_dir_staging\\1_furry_sticker\\4130b426cf410e21596e60f281ee38d7.txt\n",
       "</pre>\n"
      ],
      "text/plain": [
       "C:\\Users\\kade\\Desktop\\training_dir_staging\\1_furry_sticker\\4130b426cf410e21596e60f281ee38d7.txt\n"
      ]
     },
     "metadata": {},
     "output_type": "display_data"
    },
    {
     "data": {
      "text/html": [
       "<pre style=\"white-space:pre;overflow-x:auto;line-height:normal;font-family:Menlo,'DejaVu Sans Mono',consolas,'Courier New',monospace\">Tag <span style=\"color: #008000; text-decoration-color: #008000\">\"</span><span style=\"color: #9534d0; text-decoration-color: #9534d0; font-weight: bold\">fox</span><span style=\"color: #008000; text-decoration-color: #008000\">\"</span> found in caption <span style=\"color: #008000; text-decoration-color: #008000\">\"The </span><span style=\"color: #9534d0; text-decoration-color: #9534d0; font-weight: bold\">fox</span><span style=\"color: #008000; text-decoration-color: #008000\"> is orange and white with its eyes closed and a content expression while the </span>\n",
       "<span style=\"color: #008000; text-decoration-color: #008000\">anthro ych is blue and white.\"</span>\n",
       "</pre>\n"
      ],
      "text/plain": [
       "Tag \u001b[32m\"\u001b[0m\u001b[1;38;2;149;52;208mfox\u001b[0m\u001b[32m\"\u001b[0m found in caption \u001b[32m\"The \u001b[0m\u001b[1;38;2;149;52;208mfox\u001b[0m\u001b[32m is orange and white with its eyes closed and a content expression while the \u001b[0m\n",
       "\u001b[32manthro ych is blue and white.\"\u001b[0m\n"
      ]
     },
     "metadata": {},
     "output_type": "display_data"
    },
    {
     "data": {
      "text/html": [
       "<pre style=\"white-space:pre;overflow-x:auto;line-height:normal;font-family:Menlo,'DejaVu Sans Mono',consolas,'Courier New',monospace\">C:\\Users\\kade\\Desktop\\training_dir_staging\\1_furry_sticker\\4130b426cf410e21596e60f281ee38d7.txt\n",
       "</pre>\n"
      ],
      "text/plain": [
       "C:\\Users\\kade\\Desktop\\training_dir_staging\\1_furry_sticker\\4130b426cf410e21596e60f281ee38d7.txt\n"
      ]
     },
     "metadata": {},
     "output_type": "display_data"
    },
    {
     "data": {
      "text/html": [
       "<pre style=\"white-space:pre;overflow-x:auto;line-height:normal;font-family:Menlo,'DejaVu Sans Mono',consolas,'Courier New',monospace\">Tag <span style=\"color: #008000; text-decoration-color: #008000\">\"</span><span style=\"color: #f11ad6; text-decoration-color: #f11ad6; font-weight: bold\">fox</span><span style=\"color: #008000; text-decoration-color: #008000\">\"</span> found in caption <span style=\"color: #008000; text-decoration-color: #008000\">\"The </span><span style=\"color: #f11ad6; text-decoration-color: #f11ad6; font-weight: bold\">fox</span><span style=\"color: #008000; text-decoration-color: #008000\"> is petting the anthro ych's head.\"</span>\n",
       "</pre>\n"
      ],
      "text/plain": [
       "Tag \u001b[32m\"\u001b[0m\u001b[1;38;2;241;26;214mfox\u001b[0m\u001b[32m\"\u001b[0m found in caption \u001b[32m\"The \u001b[0m\u001b[1;38;2;241;26;214mfox\u001b[0m\u001b[32m is petting the anthro ych's head.\"\u001b[0m\n"
      ]
     },
     "metadata": {},
     "output_type": "display_data"
    },
    {
     "data": {
      "text/html": [
       "<pre style=\"white-space:pre;overflow-x:auto;line-height:normal;font-family:Menlo,'DejaVu Sans Mono',consolas,'Courier New',monospace\">C:\\Users\\kade\\Desktop\\training_dir_staging\\1_furry_sticker\\4130b426cf410e21596e60f281ee38d7.txt\n",
       "</pre>\n"
      ],
      "text/plain": [
       "C:\\Users\\kade\\Desktop\\training_dir_staging\\1_furry_sticker\\4130b426cf410e21596e60f281ee38d7.txt\n"
      ]
     },
     "metadata": {},
     "output_type": "display_data"
    },
    {
     "data": {
      "text/html": [
       "<pre style=\"white-space:pre;overflow-x:auto;line-height:normal;font-family:Menlo,'DejaVu Sans Mono',consolas,'Courier New',monospace\">Tag <span style=\"color: #008000; text-decoration-color: #008000\">\"</span><span style=\"color: #129157; text-decoration-color: #129157; font-weight: bold\">fox</span><span style=\"color: #008000; text-decoration-color: #008000\">\"</span> found in caption <span style=\"color: #008000; text-decoration-color: #008000\">\"The </span><span style=\"color: #129157; text-decoration-color: #129157; font-weight: bold\">fox</span><span style=\"color: #008000; text-decoration-color: #008000\"> has a white outline and the ych a blue outline around it.\"</span>\n",
       "</pre>\n"
      ],
      "text/plain": [
       "Tag \u001b[32m\"\u001b[0m\u001b[1;38;2;18;145;87mfox\u001b[0m\u001b[32m\"\u001b[0m found in caption \u001b[32m\"The \u001b[0m\u001b[1;38;2;18;145;87mfox\u001b[0m\u001b[32m has a white outline and the ych a blue outline around it.\"\u001b[0m\n"
      ]
     },
     "metadata": {},
     "output_type": "display_data"
    },
    {
     "data": {
      "text/html": [
       "<pre style=\"white-space:pre;overflow-x:auto;line-height:normal;font-family:Menlo,'DejaVu Sans Mono',consolas,'Courier New',monospace\">C:\\Users\\kade\\Desktop\\training_dir_staging\\1_furry_sticker\\4130b426cf410e21596e60f281ee38d7.txt\n",
       "</pre>\n"
      ],
      "text/plain": [
       "C:\\Users\\kade\\Desktop\\training_dir_staging\\1_furry_sticker\\4130b426cf410e21596e60f281ee38d7.txt\n"
      ]
     },
     "metadata": {},
     "output_type": "display_data"
    },
    {
     "data": {
      "text/html": [
       "<pre style=\"white-space:pre;overflow-x:auto;line-height:normal;font-family:Menlo,'DejaVu Sans Mono',consolas,'Courier New',monospace\">Tag <span style=\"color: #008000; text-decoration-color: #008000\">\"</span><span style=\"color: #9ce11e; text-decoration-color: #9ce11e; font-weight: bold\">anthro</span><span style=\"color: #008000; text-decoration-color: #008000\">\"</span> found in caption <span style=\"color: #008000; text-decoration-color: #008000\">\"This image is a furry sticker of two </span><span style=\"color: #9ce11e; text-decoration-color: #9ce11e; font-weight: bold\">anthro</span><span style=\"color: #008000; text-decoration-color: #008000\"> animals one that appears to be an fox </span>\n",
       "<span style=\"color: #008000; text-decoration-color: #008000\">and the other a ych.\"</span>\n",
       "</pre>\n"
      ],
      "text/plain": [
       "Tag \u001b[32m\"\u001b[0m\u001b[1;38;2;156;225;30manthro\u001b[0m\u001b[32m\"\u001b[0m found in caption \u001b[32m\"This image is a furry sticker of two \u001b[0m\u001b[1;38;2;156;225;30manthro\u001b[0m\u001b[32m animals one that appears to be an fox \u001b[0m\n",
       "\u001b[32mand the other a ych.\"\u001b[0m\n"
      ]
     },
     "metadata": {},
     "output_type": "display_data"
    },
    {
     "data": {
      "text/html": [
       "<pre style=\"white-space:pre;overflow-x:auto;line-height:normal;font-family:Menlo,'DejaVu Sans Mono',consolas,'Courier New',monospace\">C:\\Users\\kade\\Desktop\\training_dir_staging\\1_furry_sticker\\4130b426cf410e21596e60f281ee38d7.txt\n",
       "</pre>\n"
      ],
      "text/plain": [
       "C:\\Users\\kade\\Desktop\\training_dir_staging\\1_furry_sticker\\4130b426cf410e21596e60f281ee38d7.txt\n"
      ]
     },
     "metadata": {},
     "output_type": "display_data"
    },
    {
     "data": {
      "text/html": [
       "<pre style=\"white-space:pre;overflow-x:auto;line-height:normal;font-family:Menlo,'DejaVu Sans Mono',consolas,'Courier New',monospace\">Tag <span style=\"color: #008000; text-decoration-color: #008000\">\"</span><span style=\"color: #096e41; text-decoration-color: #096e41; font-weight: bold\">anthro</span><span style=\"color: #008000; text-decoration-color: #008000\">\"</span> found in caption <span style=\"color: #008000; text-decoration-color: #008000\">\"The fox is orange and white with its eyes closed and a content expression while the </span>\n",
       "<span style=\"color: #096e41; text-decoration-color: #096e41; font-weight: bold\">anthro</span><span style=\"color: #008000; text-decoration-color: #008000\"> ych is blue and white.\"</span>\n",
       "</pre>\n"
      ],
      "text/plain": [
       "Tag \u001b[32m\"\u001b[0m\u001b[1;38;2;9;110;65manthro\u001b[0m\u001b[32m\"\u001b[0m found in caption \u001b[32m\"The fox is orange and white with its eyes closed and a content expression while the \u001b[0m\n",
       "\u001b[1;38;2;9;110;65manthro\u001b[0m\u001b[32m ych is blue and white.\"\u001b[0m\n"
      ]
     },
     "metadata": {},
     "output_type": "display_data"
    },
    {
     "data": {
      "text/html": [
       "<pre style=\"white-space:pre;overflow-x:auto;line-height:normal;font-family:Menlo,'DejaVu Sans Mono',consolas,'Courier New',monospace\">C:\\Users\\kade\\Desktop\\training_dir_staging\\1_furry_sticker\\4130b426cf410e21596e60f281ee38d7.txt\n",
       "</pre>\n"
      ],
      "text/plain": [
       "C:\\Users\\kade\\Desktop\\training_dir_staging\\1_furry_sticker\\4130b426cf410e21596e60f281ee38d7.txt\n"
      ]
     },
     "metadata": {},
     "output_type": "display_data"
    },
    {
     "data": {
      "text/html": [
       "<pre style=\"white-space:pre;overflow-x:auto;line-height:normal;font-family:Menlo,'DejaVu Sans Mono',consolas,'Courier New',monospace\">Tag <span style=\"color: #008000; text-decoration-color: #008000\">\"</span><span style=\"color: #cab686; text-decoration-color: #cab686; font-weight: bold\">anthro</span><span style=\"color: #008000; text-decoration-color: #008000\">\"</span> found in caption <span style=\"color: #008000; text-decoration-color: #008000\">\"The fox is petting the </span><span style=\"color: #cab686; text-decoration-color: #cab686; font-weight: bold\">anthro</span><span style=\"color: #008000; text-decoration-color: #008000\"> ych's head.\"</span>\n",
       "</pre>\n"
      ],
      "text/plain": [
       "Tag \u001b[32m\"\u001b[0m\u001b[1;38;2;202;182;134manthro\u001b[0m\u001b[32m\"\u001b[0m found in caption \u001b[32m\"The fox is petting the \u001b[0m\u001b[1;38;2;202;182;134manthro\u001b[0m\u001b[32m ych's head.\"\u001b[0m\n"
      ]
     },
     "metadata": {},
     "output_type": "display_data"
    },
    {
     "data": {
      "text/html": [
       "<pre style=\"white-space:pre;overflow-x:auto;line-height:normal;font-family:Menlo,'DejaVu Sans Mono',consolas,'Courier New',monospace\">C:\\Users\\kade\\Desktop\\training_dir_staging\\1_furry_sticker\\4130b426cf410e21596e60f281ee38d7.txt\n",
       "</pre>\n"
      ],
      "text/plain": [
       "C:\\Users\\kade\\Desktop\\training_dir_staging\\1_furry_sticker\\4130b426cf410e21596e60f281ee38d7.txt\n"
      ]
     },
     "metadata": {},
     "output_type": "display_data"
    },
    {
     "data": {
      "text/html": [
       "<pre style=\"white-space:pre;overflow-x:auto;line-height:normal;font-family:Menlo,'DejaVu Sans Mono',consolas,'Courier New',monospace\">Tag <span style=\"color: #008000; text-decoration-color: #008000\">\"</span><span style=\"color: #27677f; text-decoration-color: #27677f; font-weight: bold\">anthro</span><span style=\"color: #008000; text-decoration-color: #008000\">\"</span> found in caption <span style=\"color: #008000; text-decoration-color: #008000\">\"Above the </span><span style=\"color: #27677f; text-decoration-color: #27677f; font-weight: bold\">anthro</span><span style=\"color: #008000; text-decoration-color: #008000\"> ych there's a text that reads 'PAT' indicating the action being </span>\n",
       "<span style=\"color: #008000; text-decoration-color: #008000\">depicted.\"</span>\n",
       "</pre>\n"
      ],
      "text/plain": [
       "Tag \u001b[32m\"\u001b[0m\u001b[1;38;2;39;103;127manthro\u001b[0m\u001b[32m\"\u001b[0m found in caption \u001b[32m\"Above the \u001b[0m\u001b[1;38;2;39;103;127manthro\u001b[0m\u001b[32m ych there's a text that reads 'PAT' indicating the action being \u001b[0m\n",
       "\u001b[32mdepicted.\"\u001b[0m\n"
      ]
     },
     "metadata": {},
     "output_type": "display_data"
    },
    {
     "data": {
      "text/html": [
       "<pre style=\"white-space:pre;overflow-x:auto;line-height:normal;font-family:Menlo,'DejaVu Sans Mono',consolas,'Courier New',monospace\">C:\\Users\\kade\\Desktop\\training_dir_staging\\1_furry_sticker\\4130b426cf410e21596e60f281ee38d7.txt\n",
       "</pre>\n"
      ],
      "text/plain": [
       "C:\\Users\\kade\\Desktop\\training_dir_staging\\1_furry_sticker\\4130b426cf410e21596e60f281ee38d7.txt\n"
      ]
     },
     "metadata": {},
     "output_type": "display_data"
    },
    {
     "data": {
      "text/html": [
       "<pre style=\"white-space:pre;overflow-x:auto;line-height:normal;font-family:Menlo,'DejaVu Sans Mono',consolas,'Courier New',monospace\">Tag <span style=\"color: #008000; text-decoration-color: #008000\">\"</span><span style=\"color: #89a3ce; text-decoration-color: #89a3ce; font-weight: bold\">eyes closed</span><span style=\"color: #008000; text-decoration-color: #008000\">\"</span> found in caption <span style=\"color: #008000; text-decoration-color: #008000\">\"The fox is orange and white with its </span><span style=\"color: #89a3ce; text-decoration-color: #89a3ce; font-weight: bold\">eyes closed</span><span style=\"color: #008000; text-decoration-color: #008000\"> and a content expression while</span>\n",
       "<span style=\"color: #008000; text-decoration-color: #008000\">the anthro ych is blue and white.\"</span>\n",
       "</pre>\n"
      ],
      "text/plain": [
       "Tag \u001b[32m\"\u001b[0m\u001b[1;38;2;137;163;206meyes closed\u001b[0m\u001b[32m\"\u001b[0m found in caption \u001b[32m\"The fox is orange and white with its \u001b[0m\u001b[1;38;2;137;163;206meyes closed\u001b[0m\u001b[32m and a content expression while\u001b[0m\n",
       "\u001b[32mthe anthro ych is blue and white.\"\u001b[0m\n"
      ]
     },
     "metadata": {},
     "output_type": "display_data"
    },
    {
     "data": {
      "text/html": [
       "<pre style=\"white-space:pre;overflow-x:auto;line-height:normal;font-family:Menlo,'DejaVu Sans Mono',consolas,'Courier New',monospace\">C:\\Users\\kade\\Desktop\\training_dir_staging\\1_furry_sticker\\4130b426cf410e21596e60f281ee38d7.txt\n",
       "</pre>\n"
      ],
      "text/plain": [
       "C:\\Users\\kade\\Desktop\\training_dir_staging\\1_furry_sticker\\4130b426cf410e21596e60f281ee38d7.txt\n"
      ]
     },
     "metadata": {},
     "output_type": "display_data"
    },
    {
     "data": {
      "text/html": [
       "<pre style=\"white-space:pre;overflow-x:auto;line-height:normal;font-family:Menlo,'DejaVu Sans Mono',consolas,'Courier New',monospace\">Tag <span style=\"color: #008000; text-decoration-color: #008000\">\"</span><span style=\"color: #d2caf8; text-decoration-color: #d2caf8; font-weight: bold\">text</span><span style=\"color: #008000; text-decoration-color: #008000\">\"</span> found in caption <span style=\"color: #008000; text-decoration-color: #008000\">\"Above the anthro ych there's a </span><span style=\"color: #d2caf8; text-decoration-color: #d2caf8; font-weight: bold\">text</span><span style=\"color: #008000; text-decoration-color: #008000\"> that reads 'PAT' indicating the action being </span>\n",
       "<span style=\"color: #008000; text-decoration-color: #008000\">depicted.\"</span>\n",
       "</pre>\n"
      ],
      "text/plain": [
       "Tag \u001b[32m\"\u001b[0m\u001b[1;38;2;210;202;248mtext\u001b[0m\u001b[32m\"\u001b[0m found in caption \u001b[32m\"Above the anthro ych there's a \u001b[0m\u001b[1;38;2;210;202;248mtext\u001b[0m\u001b[32m that reads 'PAT' indicating the action being \u001b[0m\n",
       "\u001b[32mdepicted.\"\u001b[0m\n"
      ]
     },
     "metadata": {},
     "output_type": "display_data"
    },
    {
     "data": {
      "text/html": [
       "<pre style=\"white-space:pre;overflow-x:auto;line-height:normal;font-family:Menlo,'DejaVu Sans Mono',consolas,'Courier New',monospace\">C:\\Users\\kade\\Desktop\\training_dir_staging\\1_furry_sticker\\4130b426cf410e21596e60f281ee38d7.txt\n",
       "</pre>\n"
      ],
      "text/plain": [
       "C:\\Users\\kade\\Desktop\\training_dir_staging\\1_furry_sticker\\4130b426cf410e21596e60f281ee38d7.txt\n"
      ]
     },
     "metadata": {},
     "output_type": "display_data"
    },
    {
     "data": {
      "text/html": [
       "<pre style=\"white-space:pre;overflow-x:auto;line-height:normal;font-family:Menlo,'DejaVu Sans Mono',consolas,'Courier New',monospace\">Tag <span style=\"color: #008000; text-decoration-color: #008000\">\"</span><span style=\"color: #24b7b6; text-decoration-color: #24b7b6; font-weight: bold\">sticker</span><span style=\"color: #008000; text-decoration-color: #008000\">\"</span> found in caption <span style=\"color: #008000; text-decoration-color: #008000\">\"This image is a furry </span><span style=\"color: #24b7b6; text-decoration-color: #24b7b6; font-weight: bold\">sticker</span><span style=\"color: #008000; text-decoration-color: #008000\"> of two anthro animals one that appears to be an fox </span>\n",
       "<span style=\"color: #008000; text-decoration-color: #008000\">and the other a ych.\"</span>\n",
       "</pre>\n"
      ],
      "text/plain": [
       "Tag \u001b[32m\"\u001b[0m\u001b[1;38;2;36;183;182msticker\u001b[0m\u001b[32m\"\u001b[0m found in caption \u001b[32m\"This image is a furry \u001b[0m\u001b[1;38;2;36;183;182msticker\u001b[0m\u001b[32m of two anthro animals one that appears to be an fox \u001b[0m\n",
       "\u001b[32mand the other a ych.\"\u001b[0m\n"
      ]
     },
     "metadata": {},
     "output_type": "display_data"
    },
    {
     "data": {
      "text/html": [
       "<pre style=\"white-space:pre;overflow-x:auto;line-height:normal;font-family:Menlo,'DejaVu Sans Mono',consolas,'Courier New',monospace\">C:\\Users\\kade\\Desktop\\training_dir_staging\\1_furry_sticker\\4130b426cf410e21596e60f281ee38d7.txt\n",
       "</pre>\n"
      ],
      "text/plain": [
       "C:\\Users\\kade\\Desktop\\training_dir_staging\\1_furry_sticker\\4130b426cf410e21596e60f281ee38d7.txt\n"
      ]
     },
     "metadata": {},
     "output_type": "display_data"
    },
    {
     "data": {
      "text/html": [
       "<pre style=\"white-space:pre;overflow-x:auto;line-height:normal;font-family:Menlo,'DejaVu Sans Mono',consolas,'Courier New',monospace\">Tag <span style=\"color: #008000; text-decoration-color: #008000\">\"</span><span style=\"color: #c012b4; text-decoration-color: #c012b4; font-weight: bold\">outline</span><span style=\"color: #008000; text-decoration-color: #008000\">\"</span> found in caption <span style=\"color: #008000; text-decoration-color: #008000\">\"The fox has a white </span><span style=\"color: #c012b4; text-decoration-color: #c012b4; font-weight: bold\">outline</span><span style=\"color: #008000; text-decoration-color: #008000\"> and the ych a blue </span><span style=\"color: #c012b4; text-decoration-color: #c012b4; font-weight: bold\">outline</span><span style=\"color: #008000; text-decoration-color: #008000\"> around it.\"</span>\n",
       "</pre>\n"
      ],
      "text/plain": [
       "Tag \u001b[32m\"\u001b[0m\u001b[1;38;2;192;18;180moutline\u001b[0m\u001b[32m\"\u001b[0m found in caption \u001b[32m\"The fox has a white \u001b[0m\u001b[1;38;2;192;18;180moutline\u001b[0m\u001b[32m and the ych a blue \u001b[0m\u001b[1;38;2;192;18;180moutline\u001b[0m\u001b[32m around it.\"\u001b[0m\n"
      ]
     },
     "metadata": {},
     "output_type": "display_data"
    },
    {
     "data": {
      "text/html": [
       "<pre style=\"white-space:pre;overflow-x:auto;line-height:normal;font-family:Menlo,'DejaVu Sans Mono',consolas,'Courier New',monospace\">C:\\Users\\kade\\Desktop\\training_dir_staging\\1_furry_sticker\\4896b709d1fe529d7d701fe6b410d0f4.txt\n",
       "</pre>\n"
      ],
      "text/plain": [
       "C:\\Users\\kade\\Desktop\\training_dir_staging\\1_furry_sticker\\4896b709d1fe529d7d701fe6b410d0f4.txt\n"
      ]
     },
     "metadata": {},
     "output_type": "display_data"
    },
    {
     "data": {
      "text/html": [
       "<pre style=\"white-space:pre;overflow-x:auto;line-height:normal;font-family:Menlo,'DejaVu Sans Mono',consolas,'Courier New',monospace\">Tag <span style=\"color: #008000; text-decoration-color: #008000\">\"</span><span style=\"color: #be4d47; text-decoration-color: #be4d47; font-weight: bold\">sergal</span><span style=\"color: #008000; text-decoration-color: #008000\">\"</span> found in caption <span style=\"color: #008000; text-decoration-color: #008000\">\"The </span><span style=\"color: #be4d47; text-decoration-color: #be4d47; font-weight: bold\">sergal</span><span style=\"color: #008000; text-decoration-color: #008000\"> has pointed ears and a long tail behind his back.\"</span>\n",
       "</pre>\n"
      ],
      "text/plain": [
       "Tag \u001b[32m\"\u001b[0m\u001b[1;38;2;190;77;71msergal\u001b[0m\u001b[32m\"\u001b[0m found in caption \u001b[32m\"The \u001b[0m\u001b[1;38;2;190;77;71msergal\u001b[0m\u001b[32m has pointed ears and a long tail behind his back.\"\u001b[0m\n"
      ]
     },
     "metadata": {},
     "output_type": "display_data"
    },
    {
     "data": {
      "text/html": [
       "<pre style=\"white-space:pre;overflow-x:auto;line-height:normal;font-family:Menlo,'DejaVu Sans Mono',consolas,'Courier New',monospace\">C:\\Users\\kade\\Desktop\\training_dir_staging\\1_furry_sticker\\4896b709d1fe529d7d701fe6b410d0f4.txt\n",
       "</pre>\n"
      ],
      "text/plain": [
       "C:\\Users\\kade\\Desktop\\training_dir_staging\\1_furry_sticker\\4896b709d1fe529d7d701fe6b410d0f4.txt\n"
      ]
     },
     "metadata": {},
     "output_type": "display_data"
    },
    {
     "data": {
      "text/html": [
       "<pre style=\"white-space:pre;overflow-x:auto;line-height:normal;font-family:Menlo,'DejaVu Sans Mono',consolas,'Courier New',monospace\">Tag <span style=\"color: #008000; text-decoration-color: #008000\">\"</span><span style=\"color: #6b13ed; text-decoration-color: #6b13ed; font-weight: bold\">speech bubble</span><span style=\"color: #008000; text-decoration-color: #008000\">\"</span> found in caption <span style=\"color: #008000; text-decoration-color: #008000\">\"Above the character there is a </span><span style=\"color: #6b13ed; text-decoration-color: #6b13ed; font-weight: bold\">speech bubble</span><span style=\"color: #008000; text-decoration-color: #008000\"> that reads 'FOOD'.\"</span>\n",
       "</pre>\n"
      ],
      "text/plain": [
       "Tag \u001b[32m\"\u001b[0m\u001b[1;38;2;107;19;237mspeech bubble\u001b[0m\u001b[32m\"\u001b[0m found in caption \u001b[32m\"Above the character there is a \u001b[0m\u001b[1;38;2;107;19;237mspeech bubble\u001b[0m\u001b[32m that reads 'FOOD'.\"\u001b[0m\n"
      ]
     },
     "metadata": {},
     "output_type": "display_data"
    },
    {
     "data": {
      "text/html": [
       "<pre style=\"white-space:pre;overflow-x:auto;line-height:normal;font-family:Menlo,'DejaVu Sans Mono',consolas,'Courier New',monospace\">C:\\Users\\kade\\Desktop\\training_dir_staging\\1_furry_sticker\\51d1cdf4a51c513f026b3f3abbbe1397.txt\n",
       "</pre>\n"
      ],
      "text/plain": [
       "C:\\Users\\kade\\Desktop\\training_dir_staging\\1_furry_sticker\\51d1cdf4a51c513f026b3f3abbbe1397.txt\n"
      ]
     },
     "metadata": {},
     "output_type": "display_data"
    },
    {
     "data": {
      "text/html": [
       "<pre style=\"white-space:pre;overflow-x:auto;line-height:normal;font-family:Menlo,'DejaVu Sans Mono',consolas,'Courier New',monospace\">Tag <span style=\"color: #008000; text-decoration-color: #008000\">\"</span><span style=\"color: #2a6bf8; text-decoration-color: #2a6bf8; font-weight: bold\">furry sticker</span><span style=\"color: #008000; text-decoration-color: #008000\">\"</span> found in caption <span style=\"color: #008000; text-decoration-color: #008000\">\"This image is a </span><span style=\"color: #2a6bf8; text-decoration-color: #2a6bf8; font-weight: bold\">furry sticker</span><span style=\"color: #008000; text-decoration-color: #008000\"> of a stylized anthro hyena.\"</span>\n",
       "</pre>\n"
      ],
      "text/plain": [
       "Tag \u001b[32m\"\u001b[0m\u001b[1;38;2;42;107;248mfurry sticker\u001b[0m\u001b[32m\"\u001b[0m found in caption \u001b[32m\"This image is a \u001b[0m\u001b[1;38;2;42;107;248mfurry sticker\u001b[0m\u001b[32m of a stylized anthro hyena.\"\u001b[0m\n"
      ]
     },
     "metadata": {},
     "output_type": "display_data"
    },
    {
     "data": {
      "text/html": [
       "<pre style=\"white-space:pre;overflow-x:auto;line-height:normal;font-family:Menlo,'DejaVu Sans Mono',consolas,'Courier New',monospace\">C:\\Users\\kade\\Desktop\\training_dir_staging\\1_furry_sticker\\51d1cdf4a51c513f026b3f3abbbe1397.txt\n",
       "</pre>\n"
      ],
      "text/plain": [
       "C:\\Users\\kade\\Desktop\\training_dir_staging\\1_furry_sticker\\51d1cdf4a51c513f026b3f3abbbe1397.txt\n"
      ]
     },
     "metadata": {},
     "output_type": "display_data"
    },
    {
     "data": {
      "text/html": [
       "<pre style=\"white-space:pre;overflow-x:auto;line-height:normal;font-family:Menlo,'DejaVu Sans Mono',consolas,'Courier New',monospace\">Tag <span style=\"color: #008000; text-decoration-color: #008000\">\"</span><span style=\"color: #f4eeed; text-decoration-color: #f4eeed; font-weight: bold\">anthro</span><span style=\"color: #008000; text-decoration-color: #008000\">\"</span> found in caption <span style=\"color: #008000; text-decoration-color: #008000\">\"This image is a furry sticker of a stylized </span><span style=\"color: #f4eeed; text-decoration-color: #f4eeed; font-weight: bold\">anthro</span><span style=\"color: #008000; text-decoration-color: #008000\"> hyena.\"</span>\n",
       "</pre>\n"
      ],
      "text/plain": [
       "Tag \u001b[32m\"\u001b[0m\u001b[1;38;2;244;238;237manthro\u001b[0m\u001b[32m\"\u001b[0m found in caption \u001b[32m\"This image is a furry sticker of a stylized \u001b[0m\u001b[1;38;2;244;238;237manthro\u001b[0m\u001b[32m hyena.\"\u001b[0m\n"
      ]
     },
     "metadata": {},
     "output_type": "display_data"
    },
    {
     "data": {
      "text/html": [
       "<pre style=\"white-space:pre;overflow-x:auto;line-height:normal;font-family:Menlo,'DejaVu Sans Mono',consolas,'Courier New',monospace\">C:\\Users\\kade\\Desktop\\training_dir_staging\\1_furry_sticker\\51d1cdf4a51c513f026b3f3abbbe1397.txt\n",
       "</pre>\n"
      ],
      "text/plain": [
       "C:\\Users\\kade\\Desktop\\training_dir_staging\\1_furry_sticker\\51d1cdf4a51c513f026b3f3abbbe1397.txt\n"
      ]
     },
     "metadata": {},
     "output_type": "display_data"
    },
    {
     "data": {
      "text/html": [
       "<pre style=\"white-space:pre;overflow-x:auto;line-height:normal;font-family:Menlo,'DejaVu Sans Mono',consolas,'Courier New',monospace\">Tag <span style=\"color: #008000; text-decoration-color: #008000\">\"</span><span style=\"color: #ae6db1; text-decoration-color: #ae6db1; font-weight: bold\">blush</span><span style=\"color: #008000; text-decoration-color: #008000\">\"</span> found in caption <span style=\"color: #008000; text-decoration-color: #008000\">\"The hyena has a </span><span style=\"color: #ae6db1; text-decoration-color: #ae6db1; font-weight: bold\">blush</span><span style=\"color: #008000; text-decoration-color: #008000\">.\"</span>\n",
       "</pre>\n"
      ],
      "text/plain": [
       "Tag \u001b[32m\"\u001b[0m\u001b[1;38;2;174;109;177mblush\u001b[0m\u001b[32m\"\u001b[0m found in caption \u001b[32m\"The hyena has a \u001b[0m\u001b[1;38;2;174;109;177mblush\u001b[0m\u001b[32m.\"\u001b[0m\n"
      ]
     },
     "metadata": {},
     "output_type": "display_data"
    },
    {
     "data": {
      "text/html": [
       "<pre style=\"white-space:pre;overflow-x:auto;line-height:normal;font-family:Menlo,'DejaVu Sans Mono',consolas,'Courier New',monospace\">C:\\Users\\kade\\Desktop\\training_dir_staging\\1_furry_sticker\\51d1cdf4a51c513f026b3f3abbbe1397.txt\n",
       "</pre>\n"
      ],
      "text/plain": [
       "C:\\Users\\kade\\Desktop\\training_dir_staging\\1_furry_sticker\\51d1cdf4a51c513f026b3f3abbbe1397.txt\n"
      ]
     },
     "metadata": {},
     "output_type": "display_data"
    },
    {
     "data": {
      "text/html": [
       "<pre style=\"white-space:pre;overflow-x:auto;line-height:normal;font-family:Menlo,'DejaVu Sans Mono',consolas,'Courier New',monospace\">Tag <span style=\"color: #008000; text-decoration-color: #008000\">\"</span><span style=\"color: #659b08; text-decoration-color: #659b08; font-weight: bold\">hyena</span><span style=\"color: #008000; text-decoration-color: #008000\">\"</span> found in caption <span style=\"color: #008000; text-decoration-color: #008000\">\"This image is a furry sticker of a stylized anthro </span><span style=\"color: #659b08; text-decoration-color: #659b08; font-weight: bold\">hyena</span><span style=\"color: #008000; text-decoration-color: #008000\">.\"</span>\n",
       "</pre>\n"
      ],
      "text/plain": [
       "Tag \u001b[32m\"\u001b[0m\u001b[1;38;2;101;155;8mhyena\u001b[0m\u001b[32m\"\u001b[0m found in caption \u001b[32m\"This image is a furry sticker of a stylized anthro \u001b[0m\u001b[1;38;2;101;155;8mhyena\u001b[0m\u001b[32m.\"\u001b[0m\n"
      ]
     },
     "metadata": {},
     "output_type": "display_data"
    },
    {
     "data": {
      "text/html": [
       "<pre style=\"white-space:pre;overflow-x:auto;line-height:normal;font-family:Menlo,'DejaVu Sans Mono',consolas,'Courier New',monospace\">C:\\Users\\kade\\Desktop\\training_dir_staging\\1_furry_sticker\\51d1cdf4a51c513f026b3f3abbbe1397.txt\n",
       "</pre>\n"
      ],
      "text/plain": [
       "C:\\Users\\kade\\Desktop\\training_dir_staging\\1_furry_sticker\\51d1cdf4a51c513f026b3f3abbbe1397.txt\n"
      ]
     },
     "metadata": {},
     "output_type": "display_data"
    },
    {
     "data": {
      "text/html": [
       "<pre style=\"white-space:pre;overflow-x:auto;line-height:normal;font-family:Menlo,'DejaVu Sans Mono',consolas,'Courier New',monospace\">Tag <span style=\"color: #008000; text-decoration-color: #008000\">\"</span><span style=\"color: #747357; text-decoration-color: #747357; font-weight: bold\">hyena</span><span style=\"color: #008000; text-decoration-color: #008000\">\"</span> found in caption <span style=\"color: #008000; text-decoration-color: #008000\">\"The </span><span style=\"color: #747357; text-decoration-color: #747357; font-weight: bold\">hyena</span><span style=\"color: #008000; text-decoration-color: #008000\"> has a blush.\"</span>\n",
       "</pre>\n"
      ],
      "text/plain": [
       "Tag \u001b[32m\"\u001b[0m\u001b[1;38;2;116;115;87mhyena\u001b[0m\u001b[32m\"\u001b[0m found in caption \u001b[32m\"The \u001b[0m\u001b[1;38;2;116;115;87mhyena\u001b[0m\u001b[32m has a blush.\"\u001b[0m\n"
      ]
     },
     "metadata": {},
     "output_type": "display_data"
    },
    {
     "data": {
      "text/html": [
       "<pre style=\"white-space:pre;overflow-x:auto;line-height:normal;font-family:Menlo,'DejaVu Sans Mono',consolas,'Courier New',monospace\">C:\\Users\\kade\\Desktop\\training_dir_staging\\1_furry_sticker\\51d1cdf4a51c513f026b3f3abbbe1397.txt\n",
       "</pre>\n"
      ],
      "text/plain": [
       "C:\\Users\\kade\\Desktop\\training_dir_staging\\1_furry_sticker\\51d1cdf4a51c513f026b3f3abbbe1397.txt\n"
      ]
     },
     "metadata": {},
     "output_type": "display_data"
    },
    {
     "data": {
      "text/html": [
       "<pre style=\"white-space:pre;overflow-x:auto;line-height:normal;font-family:Menlo,'DejaVu Sans Mono',consolas,'Courier New',monospace\">Tag <span style=\"color: #008000; text-decoration-color: #008000\">\"</span><span style=\"color: #97d56e; text-decoration-color: #97d56e; font-weight: bold\">fur</span><span style=\"color: #008000; text-decoration-color: #008000\">\"</span> found in caption <span style=\"color: #008000; text-decoration-color: #008000\">\"This image is a </span><span style=\"color: #97d56e; text-decoration-color: #97d56e; font-weight: bold\">fur</span><span style=\"color: #008000; text-decoration-color: #008000\">ry sticker of a stylized anthro hyena.\"</span>\n",
       "</pre>\n"
      ],
      "text/plain": [
       "Tag \u001b[32m\"\u001b[0m\u001b[1;38;2;151;213;110mfur\u001b[0m\u001b[32m\"\u001b[0m found in caption \u001b[32m\"This image is a \u001b[0m\u001b[1;38;2;151;213;110mfur\u001b[0m\u001b[32mry sticker of a stylized anthro hyena.\"\u001b[0m\n"
      ]
     },
     "metadata": {},
     "output_type": "display_data"
    },
    {
     "data": {
      "text/html": [
       "<pre style=\"white-space:pre;overflow-x:auto;line-height:normal;font-family:Menlo,'DejaVu Sans Mono',consolas,'Courier New',monospace\">C:\\Users\\kade\\Desktop\\training_dir_staging\\1_furry_sticker\\51d1cdf4a51c513f026b3f3abbbe1397.txt\n",
       "</pre>\n"
      ],
      "text/plain": [
       "C:\\Users\\kade\\Desktop\\training_dir_staging\\1_furry_sticker\\51d1cdf4a51c513f026b3f3abbbe1397.txt\n"
      ]
     },
     "metadata": {},
     "output_type": "display_data"
    },
    {
     "data": {
      "text/html": [
       "<pre style=\"white-space:pre;overflow-x:auto;line-height:normal;font-family:Menlo,'DejaVu Sans Mono',consolas,'Courier New',monospace\">Tag <span style=\"color: #008000; text-decoration-color: #008000\">\"</span><span style=\"color: #d42747; text-decoration-color: #d42747; font-weight: bold\">tail</span><span style=\"color: #008000; text-decoration-color: #008000\">\"</span> found in caption <span style=\"color: #008000; text-decoration-color: #008000\">\"It is depicted in a playful or cheeky pose with its </span><span style=\"color: #d42747; text-decoration-color: #d42747; font-weight: bold\">tail</span><span style=\"color: #008000; text-decoration-color: #008000\"> raised and wagging.\"</span>\n",
       "</pre>\n"
      ],
      "text/plain": [
       "Tag \u001b[32m\"\u001b[0m\u001b[1;38;2;212;39;71mtail\u001b[0m\u001b[32m\"\u001b[0m found in caption \u001b[32m\"It is depicted in a playful or cheeky pose with its \u001b[0m\u001b[1;38;2;212;39;71mtail\u001b[0m\u001b[32m raised and wagging.\"\u001b[0m\n"
      ]
     },
     "metadata": {},
     "output_type": "display_data"
    },
    {
     "data": {
      "text/html": [
       "<pre style=\"white-space:pre;overflow-x:auto;line-height:normal;font-family:Menlo,'DejaVu Sans Mono',consolas,'Courier New',monospace\">C:\\Users\\kade\\Desktop\\training_dir_staging\\1_furry_sticker\\51d1cdf4a51c513f026b3f3abbbe1397.txt\n",
       "</pre>\n"
      ],
      "text/plain": [
       "C:\\Users\\kade\\Desktop\\training_dir_staging\\1_furry_sticker\\51d1cdf4a51c513f026b3f3abbbe1397.txt\n"
      ]
     },
     "metadata": {},
     "output_type": "display_data"
    },
    {
     "data": {
      "text/html": [
       "<pre style=\"white-space:pre;overflow-x:auto;line-height:normal;font-family:Menlo,'DejaVu Sans Mono',consolas,'Courier New',monospace\">Tag <span style=\"color: #008000; text-decoration-color: #008000\">\"</span><span style=\"color: #ab10a2; text-decoration-color: #ab10a2; font-weight: bold\">outline</span><span style=\"color: #008000; text-decoration-color: #008000\">\"</span> found in caption <span style=\"color: #008000; text-decoration-color: #008000\">\"The character is wearing purple shorts and there's a white </span><span style=\"color: #ab10a2; text-decoration-color: #ab10a2; font-weight: bold\">outline</span><span style=\"color: #008000; text-decoration-color: #008000\"> around the </span>\n",
       "<span style=\"color: #008000; text-decoration-color: #008000\">character.\"</span>\n",
       "</pre>\n"
      ],
      "text/plain": [
       "Tag \u001b[32m\"\u001b[0m\u001b[1;38;2;171;16;162moutline\u001b[0m\u001b[32m\"\u001b[0m found in caption \u001b[32m\"The character is wearing purple shorts and there's a white \u001b[0m\u001b[1;38;2;171;16;162moutline\u001b[0m\u001b[32m around the \u001b[0m\n",
       "\u001b[32mcharacter.\"\u001b[0m\n"
      ]
     },
     "metadata": {},
     "output_type": "display_data"
    },
    {
     "data": {
      "text/html": [
       "<pre style=\"white-space:pre;overflow-x:auto;line-height:normal;font-family:Menlo,'DejaVu Sans Mono',consolas,'Courier New',monospace\">C:\\Users\\kade\\Desktop\\training_dir_staging\\1_furry_sticker\\560fb29619d60a588b629ab27cd7b869.txt\n",
       "</pre>\n"
      ],
      "text/plain": [
       "C:\\Users\\kade\\Desktop\\training_dir_staging\\1_furry_sticker\\560fb29619d60a588b629ab27cd7b869.txt\n"
      ]
     },
     "metadata": {},
     "output_type": "display_data"
    },
    {
     "data": {
      "text/html": [
       "<pre style=\"white-space:pre;overflow-x:auto;line-height:normal;font-family:Menlo,'DejaVu Sans Mono',consolas,'Courier New',monospace\">Tag <span style=\"color: #008000; text-decoration-color: #008000\">\"</span><span style=\"color: #a55f45; text-decoration-color: #a55f45; font-weight: bold\">anthro</span><span style=\"color: #008000; text-decoration-color: #008000\">\"</span> found in caption <span style=\"color: #008000; text-decoration-color: #008000\">\"This image is a cartoon representation of </span><span style=\"color: #a55f45; text-decoration-color: #a55f45; font-weight: bold\">anthro</span><span style=\"color: #008000; text-decoration-color: #008000\"> rabbit.\"</span>\n",
       "</pre>\n"
      ],
      "text/plain": [
       "Tag \u001b[32m\"\u001b[0m\u001b[1;38;2;165;95;69manthro\u001b[0m\u001b[32m\"\u001b[0m found in caption \u001b[32m\"This image is a cartoon representation of \u001b[0m\u001b[1;38;2;165;95;69manthro\u001b[0m\u001b[32m rabbit.\"\u001b[0m\n"
      ]
     },
     "metadata": {},
     "output_type": "display_data"
    },
    {
     "data": {
      "text/html": [
       "<pre style=\"white-space:pre;overflow-x:auto;line-height:normal;font-family:Menlo,'DejaVu Sans Mono',consolas,'Courier New',monospace\">C:\\Users\\kade\\Desktop\\training_dir_staging\\1_furry_sticker\\560fb29619d60a588b629ab27cd7b869.txt\n",
       "</pre>\n"
      ],
      "text/plain": [
       "C:\\Users\\kade\\Desktop\\training_dir_staging\\1_furry_sticker\\560fb29619d60a588b629ab27cd7b869.txt\n"
      ]
     },
     "metadata": {},
     "output_type": "display_data"
    },
    {
     "data": {
      "text/html": [
       "<pre style=\"white-space:pre;overflow-x:auto;line-height:normal;font-family:Menlo,'DejaVu Sans Mono',consolas,'Courier New',monospace\">Tag <span style=\"color: #008000; text-decoration-color: #008000\">\"</span><span style=\"color: #4f3ac2; text-decoration-color: #4f3ac2; font-weight: bold\">rabbit</span><span style=\"color: #008000; text-decoration-color: #008000\">\"</span> found in caption <span style=\"color: #008000; text-decoration-color: #008000\">\"This image is a cartoon representation of anthro </span><span style=\"color: #4f3ac2; text-decoration-color: #4f3ac2; font-weight: bold\">rabbit</span><span style=\"color: #008000; text-decoration-color: #008000\">.\"</span>\n",
       "</pre>\n"
      ],
      "text/plain": [
       "Tag \u001b[32m\"\u001b[0m\u001b[1;38;2;79;58;194mrabbit\u001b[0m\u001b[32m\"\u001b[0m found in caption \u001b[32m\"This image is a cartoon representation of anthro \u001b[0m\u001b[1;38;2;79;58;194mrabbit\u001b[0m\u001b[32m.\"\u001b[0m\n"
      ]
     },
     "metadata": {},
     "output_type": "display_data"
    },
    {
     "data": {
      "text/html": [
       "<pre style=\"white-space:pre;overflow-x:auto;line-height:normal;font-family:Menlo,'DejaVu Sans Mono',consolas,'Courier New',monospace\">C:\\Users\\kade\\Desktop\\training_dir_staging\\1_furry_sticker\\560fb29619d60a588b629ab27cd7b869.txt\n",
       "</pre>\n"
      ],
      "text/plain": [
       "C:\\Users\\kade\\Desktop\\training_dir_staging\\1_furry_sticker\\560fb29619d60a588b629ab27cd7b869.txt\n"
      ]
     },
     "metadata": {},
     "output_type": "display_data"
    },
    {
     "data": {
      "text/html": [
       "<pre style=\"white-space:pre;overflow-x:auto;line-height:normal;font-family:Menlo,'DejaVu Sans Mono',consolas,'Courier New',monospace\">Tag <span style=\"color: #008000; text-decoration-color: #008000\">\"</span><span style=\"color: #5dc586; text-decoration-color: #5dc586; font-weight: bold\">fur</span><span style=\"color: #008000; text-decoration-color: #008000\">\"</span> found in caption <span style=\"color: #008000; text-decoration-color: #008000\">\"The bunny has a light brown </span><span style=\"color: #5dc586; text-decoration-color: #5dc586; font-weight: bold\">fur</span><span style=\"color: #008000; text-decoration-color: #008000\"> color with some white and pink patches.\"</span>\n",
       "</pre>\n"
      ],
      "text/plain": [
       "Tag \u001b[32m\"\u001b[0m\u001b[1;38;2;93;197;134mfur\u001b[0m\u001b[32m\"\u001b[0m found in caption \u001b[32m\"The bunny has a light brown \u001b[0m\u001b[1;38;2;93;197;134mfur\u001b[0m\u001b[32m color with some white and pink patches.\"\u001b[0m\n"
      ]
     },
     "metadata": {},
     "output_type": "display_data"
    },
    {
     "data": {
      "text/html": [
       "<pre style=\"white-space:pre;overflow-x:auto;line-height:normal;font-family:Menlo,'DejaVu Sans Mono',consolas,'Courier New',monospace\">C:\\Users\\kade\\Desktop\\training_dir_staging\\1_furry_sticker\\560fb29619d60a588b629ab27cd7b869.txt\n",
       "</pre>\n"
      ],
      "text/plain": [
       "C:\\Users\\kade\\Desktop\\training_dir_staging\\1_furry_sticker\\560fb29619d60a588b629ab27cd7b869.txt\n"
      ]
     },
     "metadata": {},
     "output_type": "display_data"
    },
    {
     "data": {
      "text/html": [
       "<pre style=\"white-space:pre;overflow-x:auto;line-height:normal;font-family:Menlo,'DejaVu Sans Mono',consolas,'Courier New',monospace\">Tag <span style=\"color: #008000; text-decoration-color: #008000\">\"</span><span style=\"color: #b9abaa; text-decoration-color: #b9abaa; font-weight: bold\">pink nose</span><span style=\"color: #008000; text-decoration-color: #008000\">\"</span> found in caption <span style=\"color: #008000; text-decoration-color: #008000\">\"It has a cheerful expression with round open eyes and a </span><span style=\"color: #b9abaa; text-decoration-color: #b9abaa; font-weight: bold\">pink nose</span><span style=\"color: #008000; text-decoration-color: #008000\">.\"</span>\n",
       "</pre>\n"
      ],
      "text/plain": [
       "Tag \u001b[32m\"\u001b[0m\u001b[1;38;2;185;171;170mpink nose\u001b[0m\u001b[32m\"\u001b[0m found in caption \u001b[32m\"It has a cheerful expression with round open eyes and a \u001b[0m\u001b[1;38;2;185;171;170mpink nose\u001b[0m\u001b[32m.\"\u001b[0m\n"
      ]
     },
     "metadata": {},
     "output_type": "display_data"
    },
    {
     "data": {
      "text/html": [
       "<pre style=\"white-space:pre;overflow-x:auto;line-height:normal;font-family:Menlo,'DejaVu Sans Mono',consolas,'Courier New',monospace\">C:\\Users\\kade\\Desktop\\training_dir_staging\\1_furry_sticker\\560fb29619d60a588b629ab27cd7b869.txt\n",
       "</pre>\n"
      ],
      "text/plain": [
       "C:\\Users\\kade\\Desktop\\training_dir_staging\\1_furry_sticker\\560fb29619d60a588b629ab27cd7b869.txt\n"
      ]
     },
     "metadata": {},
     "output_type": "display_data"
    },
    {
     "data": {
      "text/html": [
       "<pre style=\"white-space:pre;overflow-x:auto;line-height:normal;font-family:Menlo,'DejaVu Sans Mono',consolas,'Courier New',monospace\">Tag <span style=\"color: #008000; text-decoration-color: #008000\">\"</span><span style=\"color: #106057; text-decoration-color: #106057; font-weight: bold\">brown fur</span><span style=\"color: #008000; text-decoration-color: #008000\">\"</span> found in caption <span style=\"color: #008000; text-decoration-color: #008000\">\"The bunny has a light </span><span style=\"color: #106057; text-decoration-color: #106057; font-weight: bold\">brown fur</span><span style=\"color: #008000; text-decoration-color: #008000\"> color with some white and pink patches.\"</span>\n",
       "</pre>\n"
      ],
      "text/plain": [
       "Tag \u001b[32m\"\u001b[0m\u001b[1;38;2;16;96;87mbrown fur\u001b[0m\u001b[32m\"\u001b[0m found in caption \u001b[32m\"The bunny has a light \u001b[0m\u001b[1;38;2;16;96;87mbrown fur\u001b[0m\u001b[32m color with some white and pink patches.\"\u001b[0m\n"
      ]
     },
     "metadata": {},
     "output_type": "display_data"
    },
    {
     "data": {
      "text/html": [
       "<pre style=\"white-space:pre;overflow-x:auto;line-height:normal;font-family:Menlo,'DejaVu Sans Mono',consolas,'Courier New',monospace\">C:\\Users\\kade\\Desktop\\training_dir_staging\\1_furry_sticker\\7b7bd6e31e5116408d9cbfe7b7644e1f.txt\n",
       "</pre>\n"
      ],
      "text/plain": [
       "C:\\Users\\kade\\Desktop\\training_dir_staging\\1_furry_sticker\\7b7bd6e31e5116408d9cbfe7b7644e1f.txt\n"
      ]
     },
     "metadata": {},
     "output_type": "display_data"
    },
    {
     "data": {
      "text/html": [
       "<pre style=\"white-space:pre;overflow-x:auto;line-height:normal;font-family:Menlo,'DejaVu Sans Mono',consolas,'Courier New',monospace\">Tag <span style=\"color: #008000; text-decoration-color: #008000\">\"</span><span style=\"color: #e37280; text-decoration-color: #e37280; font-weight: bold\">furry sticker</span><span style=\"color: #008000; text-decoration-color: #008000\">\"</span> found in caption <span style=\"color: #008000; text-decoration-color: #008000\">\"This </span><span style=\"color: #e37280; text-decoration-color: #e37280; font-weight: bold\">furry sticker</span><span style=\"color: #008000; text-decoration-color: #008000\"> is a stylized animated depiction of anthro fox.\"</span>\n",
       "</pre>\n"
      ],
      "text/plain": [
       "Tag \u001b[32m\"\u001b[0m\u001b[1;38;2;227;114;128mfurry sticker\u001b[0m\u001b[32m\"\u001b[0m found in caption \u001b[32m\"This \u001b[0m\u001b[1;38;2;227;114;128mfurry sticker\u001b[0m\u001b[32m is a stylized animated depiction of anthro fox.\"\u001b[0m\n"
      ]
     },
     "metadata": {},
     "output_type": "display_data"
    },
    {
     "data": {
      "text/html": [
       "<pre style=\"white-space:pre;overflow-x:auto;line-height:normal;font-family:Menlo,'DejaVu Sans Mono',consolas,'Courier New',monospace\">C:\\Users\\kade\\Desktop\\training_dir_staging\\1_furry_sticker\\7b7bd6e31e5116408d9cbfe7b7644e1f.txt\n",
       "</pre>\n"
      ],
      "text/plain": [
       "C:\\Users\\kade\\Desktop\\training_dir_staging\\1_furry_sticker\\7b7bd6e31e5116408d9cbfe7b7644e1f.txt\n"
      ]
     },
     "metadata": {},
     "output_type": "display_data"
    },
    {
     "data": {
      "text/html": [
       "<pre style=\"white-space:pre;overflow-x:auto;line-height:normal;font-family:Menlo,'DejaVu Sans Mono',consolas,'Courier New',monospace\">Tag <span style=\"color: #008000; text-decoration-color: #008000\">\"</span><span style=\"color: #23d63f; text-decoration-color: #23d63f; font-weight: bold\">collar</span><span style=\"color: #008000; text-decoration-color: #008000\">\"</span> found in caption <span style=\"color: #008000; text-decoration-color: #008000\">\"It has green eyes and is wearing a blue </span><span style=\"color: #23d63f; text-decoration-color: #23d63f; font-weight: bold\">collar</span><span style=\"color: #008000; text-decoration-color: #008000\"> with a silver buckle.\"</span>\n",
       "</pre>\n"
      ],
      "text/plain": [
       "Tag \u001b[32m\"\u001b[0m\u001b[1;38;2;35;214;63mcollar\u001b[0m\u001b[32m\"\u001b[0m found in caption \u001b[32m\"It has green eyes and is wearing a blue \u001b[0m\u001b[1;38;2;35;214;63mcollar\u001b[0m\u001b[32m with a silver buckle.\"\u001b[0m\n"
      ]
     },
     "metadata": {},
     "output_type": "display_data"
    },
    {
     "data": {
      "text/html": [
       "<pre style=\"white-space:pre;overflow-x:auto;line-height:normal;font-family:Menlo,'DejaVu Sans Mono',consolas,'Courier New',monospace\">C:\\Users\\kade\\Desktop\\training_dir_staging\\1_furry_sticker\\7b7bd6e31e5116408d9cbfe7b7644e1f.txt\n",
       "</pre>\n"
      ],
      "text/plain": [
       "C:\\Users\\kade\\Desktop\\training_dir_staging\\1_furry_sticker\\7b7bd6e31e5116408d9cbfe7b7644e1f.txt\n"
      ]
     },
     "metadata": {},
     "output_type": "display_data"
    },
    {
     "data": {
      "text/html": [
       "<pre style=\"white-space:pre;overflow-x:auto;line-height:normal;font-family:Menlo,'DejaVu Sans Mono',consolas,'Courier New',monospace\">Tag <span style=\"color: #008000; text-decoration-color: #008000\">\"</span><span style=\"color: #be1a87; text-decoration-color: #be1a87; font-weight: bold\">fox</span><span style=\"color: #008000; text-decoration-color: #008000\">\"</span> found in caption <span style=\"color: #008000; text-decoration-color: #008000\">\"This furry sticker is a stylized animated depiction of anthro </span><span style=\"color: #be1a87; text-decoration-color: #be1a87; font-weight: bold\">fox</span><span style=\"color: #008000; text-decoration-color: #008000\">.\"</span>\n",
       "</pre>\n"
      ],
      "text/plain": [
       "Tag \u001b[32m\"\u001b[0m\u001b[1;38;2;190;26;135mfox\u001b[0m\u001b[32m\"\u001b[0m found in caption \u001b[32m\"This furry sticker is a stylized animated depiction of anthro \u001b[0m\u001b[1;38;2;190;26;135mfox\u001b[0m\u001b[32m.\"\u001b[0m\n"
      ]
     },
     "metadata": {},
     "output_type": "display_data"
    },
    {
     "data": {
      "text/html": [
       "<pre style=\"white-space:pre;overflow-x:auto;line-height:normal;font-family:Menlo,'DejaVu Sans Mono',consolas,'Courier New',monospace\">C:\\Users\\kade\\Desktop\\training_dir_staging\\1_furry_sticker\\7b7bd6e31e5116408d9cbfe7b7644e1f.txt\n",
       "</pre>\n"
      ],
      "text/plain": [
       "C:\\Users\\kade\\Desktop\\training_dir_staging\\1_furry_sticker\\7b7bd6e31e5116408d9cbfe7b7644e1f.txt\n"
      ]
     },
     "metadata": {},
     "output_type": "display_data"
    },
    {
     "data": {
      "text/html": [
       "<pre style=\"white-space:pre;overflow-x:auto;line-height:normal;font-family:Menlo,'DejaVu Sans Mono',consolas,'Courier New',monospace\">Tag <span style=\"color: #008000; text-decoration-color: #008000\">\"</span><span style=\"color: #04f88a; text-decoration-color: #04f88a; font-weight: bold\">green eyes</span><span style=\"color: #008000; text-decoration-color: #008000\">\"</span> found in caption <span style=\"color: #008000; text-decoration-color: #008000\">\"It has </span><span style=\"color: #04f88a; text-decoration-color: #04f88a; font-weight: bold\">green eyes</span><span style=\"color: #008000; text-decoration-color: #008000\"> and is wearing a blue collar with a silver buckle.\"</span>\n",
       "</pre>\n"
      ],
      "text/plain": [
       "Tag \u001b[32m\"\u001b[0m\u001b[1;38;2;4;248;138mgreen eyes\u001b[0m\u001b[32m\"\u001b[0m found in caption \u001b[32m\"It has \u001b[0m\u001b[1;38;2;4;248;138mgreen eyes\u001b[0m\u001b[32m and is wearing a blue collar with a silver buckle.\"\u001b[0m\n"
      ]
     },
     "metadata": {},
     "output_type": "display_data"
    },
    {
     "data": {
      "text/html": [
       "<pre style=\"white-space:pre;overflow-x:auto;line-height:normal;font-family:Menlo,'DejaVu Sans Mono',consolas,'Courier New',monospace\">C:\\Users\\kade\\Desktop\\training_dir_staging\\1_furry_sticker\\7b7bd6e31e5116408d9cbfe7b7644e1f.txt\n",
       "</pre>\n"
      ],
      "text/plain": [
       "C:\\Users\\kade\\Desktop\\training_dir_staging\\1_furry_sticker\\7b7bd6e31e5116408d9cbfe7b7644e1f.txt\n"
      ]
     },
     "metadata": {},
     "output_type": "display_data"
    },
    {
     "data": {
      "text/html": [
       "<pre style=\"white-space:pre;overflow-x:auto;line-height:normal;font-family:Menlo,'DejaVu Sans Mono',consolas,'Courier New',monospace\">Tag <span style=\"color: #008000; text-decoration-color: #008000\">\"</span><span style=\"color: #5e0e34; text-decoration-color: #5e0e34; font-weight: bold\">anthro</span><span style=\"color: #008000; text-decoration-color: #008000\">\"</span> found in caption <span style=\"color: #008000; text-decoration-color: #008000\">\"This furry sticker is a stylized animated depiction of </span><span style=\"color: #5e0e34; text-decoration-color: #5e0e34; font-weight: bold\">anthro</span><span style=\"color: #008000; text-decoration-color: #008000\"> fox.\"</span>\n",
       "</pre>\n"
      ],
      "text/plain": [
       "Tag \u001b[32m\"\u001b[0m\u001b[1;38;2;94;14;52manthro\u001b[0m\u001b[32m\"\u001b[0m found in caption \u001b[32m\"This furry sticker is a stylized animated depiction of \u001b[0m\u001b[1;38;2;94;14;52manthro\u001b[0m\u001b[32m fox.\"\u001b[0m\n"
      ]
     },
     "metadata": {},
     "output_type": "display_data"
    },
    {
     "data": {
      "text/html": [
       "<pre style=\"white-space:pre;overflow-x:auto;line-height:normal;font-family:Menlo,'DejaVu Sans Mono',consolas,'Courier New',monospace\">C:\\Users\\kade\\Desktop\\training_dir_staging\\1_furry_sticker\\7b7bd6e31e5116408d9cbfe7b7644e1f.txt\n",
       "</pre>\n"
      ],
      "text/plain": [
       "C:\\Users\\kade\\Desktop\\training_dir_staging\\1_furry_sticker\\7b7bd6e31e5116408d9cbfe7b7644e1f.txt\n"
      ]
     },
     "metadata": {},
     "output_type": "display_data"
    },
    {
     "data": {
      "text/html": [
       "<pre style=\"white-space:pre;overflow-x:auto;line-height:normal;font-family:Menlo,'DejaVu Sans Mono',consolas,'Courier New',monospace\">Tag <span style=\"color: #008000; text-decoration-color: #008000\">\"</span><span style=\"color: #98f2fc; text-decoration-color: #98f2fc; font-weight: bold\">fur</span><span style=\"color: #008000; text-decoration-color: #008000\">\"</span> found in caption <span style=\"color: #008000; text-decoration-color: #008000\">\"This </span><span style=\"color: #98f2fc; text-decoration-color: #98f2fc; font-weight: bold\">fur</span><span style=\"color: #008000; text-decoration-color: #008000\">ry sticker is a stylized animated depiction of anthro fox.\"</span>\n",
       "</pre>\n"
      ],
      "text/plain": [
       "Tag \u001b[32m\"\u001b[0m\u001b[1;38;2;152;242;252mfur\u001b[0m\u001b[32m\"\u001b[0m found in caption \u001b[32m\"This \u001b[0m\u001b[1;38;2;152;242;252mfur\u001b[0m\u001b[32mry sticker is a stylized animated depiction of anthro fox.\"\u001b[0m\n"
      ]
     },
     "metadata": {},
     "output_type": "display_data"
    },
    {
     "data": {
      "text/html": [
       "<pre style=\"white-space:pre;overflow-x:auto;line-height:normal;font-family:Menlo,'DejaVu Sans Mono',consolas,'Courier New',monospace\">C:\\Users\\kade\\Desktop\\training_dir_staging\\1_furry_sticker\\7b7bd6e31e5116408d9cbfe7b7644e1f.txt\n",
       "</pre>\n"
      ],
      "text/plain": [
       "C:\\Users\\kade\\Desktop\\training_dir_staging\\1_furry_sticker\\7b7bd6e31e5116408d9cbfe7b7644e1f.txt\n"
      ]
     },
     "metadata": {},
     "output_type": "display_data"
    },
    {
     "data": {
      "text/html": [
       "<pre style=\"white-space:pre;overflow-x:auto;line-height:normal;font-family:Menlo,'DejaVu Sans Mono',consolas,'Courier New',monospace\">Tag <span style=\"color: #008000; text-decoration-color: #008000\">\"</span><span style=\"color: #d7fda2; text-decoration-color: #d7fda2; font-weight: bold\">fur</span><span style=\"color: #008000; text-decoration-color: #008000\">\"</span> found in caption <span style=\"color: #008000; text-decoration-color: #008000\">\"The character has an orange </span><span style=\"color: #d7fda2; text-decoration-color: #d7fda2; font-weight: bold\">fur</span><span style=\"color: #008000; text-decoration-color: #008000\"> coat and white underbelly.\"</span>\n",
       "</pre>\n"
      ],
      "text/plain": [
       "Tag \u001b[32m\"\u001b[0m\u001b[1;38;2;215;253;162mfur\u001b[0m\u001b[32m\"\u001b[0m found in caption \u001b[32m\"The character has an orange \u001b[0m\u001b[1;38;2;215;253;162mfur\u001b[0m\u001b[32m coat and white underbelly.\"\u001b[0m\n"
      ]
     },
     "metadata": {},
     "output_type": "display_data"
    },
    {
     "data": {
      "text/html": [
       "<pre style=\"white-space:pre;overflow-x:auto;line-height:normal;font-family:Menlo,'DejaVu Sans Mono',consolas,'Courier New',monospace\">C:\\Users\\kade\\Desktop\\training_dir_staging\\1_furry_sticker\\7b7bd6e31e5116408d9cbfe7b7644e1f.txt\n",
       "</pre>\n"
      ],
      "text/plain": [
       "C:\\Users\\kade\\Desktop\\training_dir_staging\\1_furry_sticker\\7b7bd6e31e5116408d9cbfe7b7644e1f.txt\n"
      ]
     },
     "metadata": {},
     "output_type": "display_data"
    },
    {
     "data": {
      "text/html": [
       "<pre style=\"white-space:pre;overflow-x:auto;line-height:normal;font-family:Menlo,'DejaVu Sans Mono',consolas,'Courier New',monospace\">Tag <span style=\"color: #008000; text-decoration-color: #008000\">\"</span><span style=\"color: #e8287e; text-decoration-color: #e8287e; font-weight: bold\">orange fur</span><span style=\"color: #008000; text-decoration-color: #008000\">\"</span> found in caption <span style=\"color: #008000; text-decoration-color: #008000\">\"The character has an </span><span style=\"color: #e8287e; text-decoration-color: #e8287e; font-weight: bold\">orange fur</span><span style=\"color: #008000; text-decoration-color: #008000\"> coat and white underbelly.\"</span>\n",
       "</pre>\n"
      ],
      "text/plain": [
       "Tag \u001b[32m\"\u001b[0m\u001b[1;38;2;232;40;126morange fur\u001b[0m\u001b[32m\"\u001b[0m found in caption \u001b[32m\"The character has an \u001b[0m\u001b[1;38;2;232;40;126morange fur\u001b[0m\u001b[32m coat and white underbelly.\"\u001b[0m\n"
      ]
     },
     "metadata": {},
     "output_type": "display_data"
    },
    {
     "data": {
      "text/html": [
       "<pre style=\"white-space:pre;overflow-x:auto;line-height:normal;font-family:Menlo,'DejaVu Sans Mono',consolas,'Courier New',monospace\">C:\\Users\\kade\\Desktop\\training_dir_staging\\1_furry_sticker\\7ba5c31f77820c66bceb515864857325.txt\n",
       "</pre>\n"
      ],
      "text/plain": [
       "C:\\Users\\kade\\Desktop\\training_dir_staging\\1_furry_sticker\\7ba5c31f77820c66bceb515864857325.txt\n"
      ]
     },
     "metadata": {},
     "output_type": "display_data"
    },
    {
     "data": {
      "text/html": [
       "<pre style=\"white-space:pre;overflow-x:auto;line-height:normal;font-family:Menlo,'DejaVu Sans Mono',consolas,'Courier New',monospace\">Tag <span style=\"color: #008000; text-decoration-color: #008000\">\"</span><span style=\"color: #49bad5; text-decoration-color: #49bad5; font-weight: bold\">lion</span><span style=\"color: #008000; text-decoration-color: #008000\">\"</span> found in caption <span style=\"color: #008000; text-decoration-color: #008000\">\"This sticker depicts animated anthro </span><span style=\"color: #49bad5; text-decoration-color: #49bad5; font-weight: bold\">lion</span><span style=\"color: #008000; text-decoration-color: #008000\"> creature with a playful expression.\"</span>\n",
       "</pre>\n"
      ],
      "text/plain": [
       "Tag \u001b[32m\"\u001b[0m\u001b[1;38;2;73;186;213mlion\u001b[0m\u001b[32m\"\u001b[0m found in caption \u001b[32m\"This sticker depicts animated anthro \u001b[0m\u001b[1;38;2;73;186;213mlion\u001b[0m\u001b[32m creature with a playful expression.\"\u001b[0m\n"
      ]
     },
     "metadata": {},
     "output_type": "display_data"
    },
    {
     "data": {
      "text/html": [
       "<pre style=\"white-space:pre;overflow-x:auto;line-height:normal;font-family:Menlo,'DejaVu Sans Mono',consolas,'Courier New',monospace\">C:\\Users\\kade\\Desktop\\training_dir_staging\\1_furry_sticker\\7ba5c31f77820c66bceb515864857325.txt\n",
       "</pre>\n"
      ],
      "text/plain": [
       "C:\\Users\\kade\\Desktop\\training_dir_staging\\1_furry_sticker\\7ba5c31f77820c66bceb515864857325.txt\n"
      ]
     },
     "metadata": {},
     "output_type": "display_data"
    },
    {
     "data": {
      "text/html": [
       "<pre style=\"white-space:pre;overflow-x:auto;line-height:normal;font-family:Menlo,'DejaVu Sans Mono',consolas,'Courier New',monospace\">Tag <span style=\"color: #008000; text-decoration-color: #008000\">\"</span><span style=\"color: #edeaea; text-decoration-color: #edeaea; font-weight: bold\">anthro</span><span style=\"color: #008000; text-decoration-color: #008000\">\"</span> found in caption <span style=\"color: #008000; text-decoration-color: #008000\">\"This sticker depicts animated </span><span style=\"color: #edeaea; text-decoration-color: #edeaea; font-weight: bold\">anthro</span><span style=\"color: #008000; text-decoration-color: #008000\"> lion creature with a playful expression.\"</span>\n",
       "</pre>\n"
      ],
      "text/plain": [
       "Tag \u001b[32m\"\u001b[0m\u001b[1;38;2;237;234;234manthro\u001b[0m\u001b[32m\"\u001b[0m found in caption \u001b[32m\"This sticker depicts animated \u001b[0m\u001b[1;38;2;237;234;234manthro\u001b[0m\u001b[32m lion creature with a playful expression.\"\u001b[0m\n"
      ]
     },
     "metadata": {},
     "output_type": "display_data"
    },
    {
     "data": {
      "text/html": [
       "<pre style=\"white-space:pre;overflow-x:auto;line-height:normal;font-family:Menlo,'DejaVu Sans Mono',consolas,'Courier New',monospace\">C:\\Users\\kade\\Desktop\\training_dir_staging\\1_furry_sticker\\7ba5c31f77820c66bceb515864857325.txt\n",
       "</pre>\n"
      ],
      "text/plain": [
       "C:\\Users\\kade\\Desktop\\training_dir_staging\\1_furry_sticker\\7ba5c31f77820c66bceb515864857325.txt\n"
      ]
     },
     "metadata": {},
     "output_type": "display_data"
    },
    {
     "data": {
      "text/html": [
       "<pre style=\"white-space:pre;overflow-x:auto;line-height:normal;font-family:Menlo,'DejaVu Sans Mono',consolas,'Courier New',monospace\">Tag <span style=\"color: #008000; text-decoration-color: #008000\">\"</span><span style=\"color: #056973; text-decoration-color: #056973; font-weight: bold\">fur</span><span style=\"color: #008000; text-decoration-color: #008000\">\"</span> found in caption <span style=\"color: #008000; text-decoration-color: #008000\">\"It has light and dark brown </span><span style=\"color: #056973; text-decoration-color: #056973; font-weight: bold\">fur</span><span style=\"color: #008000; text-decoration-color: #008000\"> a pink nose and is waving its right cartoonish paw as </span>\n",
       "<span style=\"color: #008000; text-decoration-color: #008000\">if greeting someone.\"</span>\n",
       "</pre>\n"
      ],
      "text/plain": [
       "Tag \u001b[32m\"\u001b[0m\u001b[1;38;2;5;105;115mfur\u001b[0m\u001b[32m\"\u001b[0m found in caption \u001b[32m\"It has light and dark brown \u001b[0m\u001b[1;38;2;5;105;115mfur\u001b[0m\u001b[32m a pink nose and is waving its right cartoonish paw as \u001b[0m\n",
       "\u001b[32mif greeting someone.\"\u001b[0m\n"
      ]
     },
     "metadata": {},
     "output_type": "display_data"
    },
    {
     "data": {
      "text/html": [
       "<pre style=\"white-space:pre;overflow-x:auto;line-height:normal;font-family:Menlo,'DejaVu Sans Mono',consolas,'Courier New',monospace\">C:\\Users\\kade\\Desktop\\training_dir_staging\\1_furry_sticker\\7ba5c31f77820c66bceb515864857325.txt\n",
       "</pre>\n"
      ],
      "text/plain": [
       "C:\\Users\\kade\\Desktop\\training_dir_staging\\1_furry_sticker\\7ba5c31f77820c66bceb515864857325.txt\n"
      ]
     },
     "metadata": {},
     "output_type": "display_data"
    },
    {
     "data": {
      "text/html": [
       "<pre style=\"white-space:pre;overflow-x:auto;line-height:normal;font-family:Menlo,'DejaVu Sans Mono',consolas,'Courier New',monospace\">Tag <span style=\"color: #008000; text-decoration-color: #008000\">\"</span><span style=\"color: #738411; text-decoration-color: #738411; font-weight: bold\">text</span><span style=\"color: #008000; text-decoration-color: #008000\">\"</span> found in caption <span style=\"color: #008000; text-decoration-color: #008000\">\"There is also a speech bubble with the </span><span style=\"color: #738411; text-decoration-color: #738411; font-weight: bold\">text</span><span style=\"color: #008000; text-decoration-color: #008000\"> \"</span>Hey.<span style=\"color: #008000; text-decoration-color: #008000\">\" written inside it above its head.\"</span>\n",
       "</pre>\n"
      ],
      "text/plain": [
       "Tag \u001b[32m\"\u001b[0m\u001b[1;38;2;115;132;17mtext\u001b[0m\u001b[32m\"\u001b[0m found in caption \u001b[32m\"There is also a speech bubble with the \u001b[0m\u001b[1;38;2;115;132;17mtext\u001b[0m\u001b[32m \"\u001b[0mHey.\u001b[32m\" written inside it above its head.\"\u001b[0m\n"
      ]
     },
     "metadata": {},
     "output_type": "display_data"
    },
    {
     "data": {
      "text/html": [
       "<pre style=\"white-space:pre;overflow-x:auto;line-height:normal;font-family:Menlo,'DejaVu Sans Mono',consolas,'Courier New',monospace\">C:\\Users\\kade\\Desktop\\training_dir_staging\\1_furry_sticker\\7ba5c31f77820c66bceb515864857325.txt\n",
       "</pre>\n"
      ],
      "text/plain": [
       "C:\\Users\\kade\\Desktop\\training_dir_staging\\1_furry_sticker\\7ba5c31f77820c66bceb515864857325.txt\n"
      ]
     },
     "metadata": {},
     "output_type": "display_data"
    },
    {
     "data": {
      "text/html": [
       "<pre style=\"white-space:pre;overflow-x:auto;line-height:normal;font-family:Menlo,'DejaVu Sans Mono',consolas,'Courier New',monospace\">Tag <span style=\"color: #008000; text-decoration-color: #008000\">\"</span><span style=\"color: #bbb3e5; text-decoration-color: #bbb3e5; font-weight: bold\">speech bubble</span><span style=\"color: #008000; text-decoration-color: #008000\">\"</span> found in caption <span style=\"color: #008000; text-decoration-color: #008000\">\"There is also a </span><span style=\"color: #bbb3e5; text-decoration-color: #bbb3e5; font-weight: bold\">speech bubble</span><span style=\"color: #008000; text-decoration-color: #008000\"> with the text \"</span>Hey.<span style=\"color: #008000; text-decoration-color: #008000\">\" written inside it above </span>\n",
       "<span style=\"color: #008000; text-decoration-color: #008000\">its head.\"</span>\n",
       "</pre>\n"
      ],
      "text/plain": [
       "Tag \u001b[32m\"\u001b[0m\u001b[1;38;2;187;179;229mspeech bubble\u001b[0m\u001b[32m\"\u001b[0m found in caption \u001b[32m\"There is also a \u001b[0m\u001b[1;38;2;187;179;229mspeech bubble\u001b[0m\u001b[32m with the text \"\u001b[0mHey.\u001b[32m\" written inside it above \u001b[0m\n",
       "\u001b[32mits head.\"\u001b[0m\n"
      ]
     },
     "metadata": {},
     "output_type": "display_data"
    },
    {
     "data": {
      "text/html": [
       "<pre style=\"white-space:pre;overflow-x:auto;line-height:normal;font-family:Menlo,'DejaVu Sans Mono',consolas,'Courier New',monospace\">C:\\Users\\kade\\Desktop\\training_dir_staging\\1_furry_sticker\\995650eef692b8280ccbd6bd38f1bbae.txt\n",
       "</pre>\n"
      ],
      "text/plain": [
       "C:\\Users\\kade\\Desktop\\training_dir_staging\\1_furry_sticker\\995650eef692b8280ccbd6bd38f1bbae.txt\n"
      ]
     },
     "metadata": {},
     "output_type": "display_data"
    },
    {
     "data": {
      "text/html": [
       "<pre style=\"white-space:pre;overflow-x:auto;line-height:normal;font-family:Menlo,'DejaVu Sans Mono',consolas,'Courier New',monospace\">Tag <span style=\"color: #008000; text-decoration-color: #008000\">\"</span><span style=\"color: #b51fb4; text-decoration-color: #b51fb4; font-weight: bold\">anthro</span><span style=\"color: #008000; text-decoration-color: #008000\">\"</span> found in caption <span style=\"color: #008000; text-decoration-color: #008000\">\"This image is a sticker of two </span><span style=\"color: #b51fb4; text-decoration-color: #b51fb4; font-weight: bold\">anthro</span><span style=\"color: #008000; text-decoration-color: #008000\"> characters.\"</span>\n",
       "</pre>\n"
      ],
      "text/plain": [
       "Tag \u001b[32m\"\u001b[0m\u001b[1;38;2;181;31;180manthro\u001b[0m\u001b[32m\"\u001b[0m found in caption \u001b[32m\"This image is a sticker of two \u001b[0m\u001b[1;38;2;181;31;180manthro\u001b[0m\u001b[32m characters.\"\u001b[0m\n"
      ]
     },
     "metadata": {},
     "output_type": "display_data"
    },
    {
     "data": {
      "text/html": [
       "<pre style=\"white-space:pre;overflow-x:auto;line-height:normal;font-family:Menlo,'DejaVu Sans Mono',consolas,'Courier New',monospace\">C:\\Users\\kade\\Desktop\\training_dir_staging\\1_furry_sticker\\995650eef692b8280ccbd6bd38f1bbae.txt\n",
       "</pre>\n"
      ],
      "text/plain": [
       "C:\\Users\\kade\\Desktop\\training_dir_staging\\1_furry_sticker\\995650eef692b8280ccbd6bd38f1bbae.txt\n"
      ]
     },
     "metadata": {},
     "output_type": "display_data"
    },
    {
     "data": {
      "text/html": [
       "<pre style=\"white-space:pre;overflow-x:auto;line-height:normal;font-family:Menlo,'DejaVu Sans Mono',consolas,'Courier New',monospace\">Tag <span style=\"color: #008000; text-decoration-color: #008000\">\"</span><span style=\"color: #fb7dfe; text-decoration-color: #fb7dfe; font-weight: bold\">anthro</span><span style=\"color: #008000; text-decoration-color: #008000\">\"</span> found in caption <span style=\"color: #008000; text-decoration-color: #008000\">\"A tiger is standing upright wearing a cap with an American flag and holding </span><span style=\"color: #fb7dfe; text-decoration-color: #fb7dfe; font-weight: bold\">anthro</span><span style=\"color: #008000; text-decoration-color: #008000\"> </span>\n",
       "<span style=\"color: #008000; text-decoration-color: #008000\">fox around its arms and holding a black mask in front of the fox's face.\"</span>\n",
       "</pre>\n"
      ],
      "text/plain": [
       "Tag \u001b[32m\"\u001b[0m\u001b[1;38;2;251;125;254manthro\u001b[0m\u001b[32m\"\u001b[0m found in caption \u001b[32m\"A tiger is standing upright wearing a cap with an American flag and holding \u001b[0m\u001b[1;38;2;251;125;254manthro\u001b[0m\u001b[32m \u001b[0m\n",
       "\u001b[32mfox around its arms and holding a black mask in front of the fox's face.\"\u001b[0m\n"
      ]
     },
     "metadata": {},
     "output_type": "display_data"
    },
    {
     "data": {
      "text/html": [
       "<pre style=\"white-space:pre;overflow-x:auto;line-height:normal;font-family:Menlo,'DejaVu Sans Mono',consolas,'Courier New',monospace\">C:\\Users\\kade\\Desktop\\training_dir_staging\\1_furry_sticker\\995650eef692b8280ccbd6bd38f1bbae.txt\n",
       "</pre>\n"
      ],
      "text/plain": [
       "C:\\Users\\kade\\Desktop\\training_dir_staging\\1_furry_sticker\\995650eef692b8280ccbd6bd38f1bbae.txt\n"
      ]
     },
     "metadata": {},
     "output_type": "display_data"
    },
    {
     "data": {
      "text/html": [
       "<pre style=\"white-space:pre;overflow-x:auto;line-height:normal;font-family:Menlo,'DejaVu Sans Mono',consolas,'Courier New',monospace\">Tag <span style=\"color: #008000; text-decoration-color: #008000\">\"</span><span style=\"color: #0f7457; text-decoration-color: #0f7457; font-weight: bold\">blush</span><span style=\"color: #008000; text-decoration-color: #008000\">\"</span> found in caption <span style=\"color: #008000; text-decoration-color: #008000\">\"The fox has a </span><span style=\"color: #0f7457; text-decoration-color: #0f7457; font-weight: bold\">blush</span><span style=\"color: #008000; text-decoration-color: #008000\"> on it's face.\"</span>\n",
       "</pre>\n"
      ],
      "text/plain": [
       "Tag \u001b[32m\"\u001b[0m\u001b[1;38;2;15;116;87mblush\u001b[0m\u001b[32m\"\u001b[0m found in caption \u001b[32m\"The fox has a \u001b[0m\u001b[1;38;2;15;116;87mblush\u001b[0m\u001b[32m on it's face.\"\u001b[0m\n"
      ]
     },
     "metadata": {},
     "output_type": "display_data"
    },
    {
     "data": {
      "text/html": [
       "<pre style=\"white-space:pre;overflow-x:auto;line-height:normal;font-family:Menlo,'DejaVu Sans Mono',consolas,'Courier New',monospace\">C:\\Users\\kade\\Desktop\\training_dir_staging\\1_furry_sticker\\995650eef692b8280ccbd6bd38f1bbae.txt\n",
       "</pre>\n"
      ],
      "text/plain": [
       "C:\\Users\\kade\\Desktop\\training_dir_staging\\1_furry_sticker\\995650eef692b8280ccbd6bd38f1bbae.txt\n"
      ]
     },
     "metadata": {},
     "output_type": "display_data"
    },
    {
     "data": {
      "text/html": [
       "<pre style=\"white-space:pre;overflow-x:auto;line-height:normal;font-family:Menlo,'DejaVu Sans Mono',consolas,'Courier New',monospace\">Tag <span style=\"color: #008000; text-decoration-color: #008000\">\"</span><span style=\"color: #8b957f; text-decoration-color: #8b957f; font-weight: bold\">fox</span><span style=\"color: #008000; text-decoration-color: #008000\">\"</span> found in caption <span style=\"color: #008000; text-decoration-color: #008000\">\"A tiger is standing upright wearing a cap with an American flag and holding anthro </span><span style=\"color: #8b957f; text-decoration-color: #8b957f; font-weight: bold\">fox</span><span style=\"color: #008000; text-decoration-color: #008000\"> </span>\n",
       "<span style=\"color: #008000; text-decoration-color: #008000\">around its arms and holding a black mask in front of the </span><span style=\"color: #8b957f; text-decoration-color: #8b957f; font-weight: bold\">fox</span><span style=\"color: #008000; text-decoration-color: #008000\">'s face.\"</span>\n",
       "</pre>\n"
      ],
      "text/plain": [
       "Tag \u001b[32m\"\u001b[0m\u001b[1;38;2;139;149;127mfox\u001b[0m\u001b[32m\"\u001b[0m found in caption \u001b[32m\"A tiger is standing upright wearing a cap with an American flag and holding anthro \u001b[0m\u001b[1;38;2;139;149;127mfox\u001b[0m\u001b[32m \u001b[0m\n",
       "\u001b[32maround its arms and holding a black mask in front of the \u001b[0m\u001b[1;38;2;139;149;127mfox\u001b[0m\u001b[32m's face.\"\u001b[0m\n"
      ]
     },
     "metadata": {},
     "output_type": "display_data"
    },
    {
     "data": {
      "text/html": [
       "<pre style=\"white-space:pre;overflow-x:auto;line-height:normal;font-family:Menlo,'DejaVu Sans Mono',consolas,'Courier New',monospace\">C:\\Users\\kade\\Desktop\\training_dir_staging\\1_furry_sticker\\995650eef692b8280ccbd6bd38f1bbae.txt\n",
       "</pre>\n"
      ],
      "text/plain": [
       "C:\\Users\\kade\\Desktop\\training_dir_staging\\1_furry_sticker\\995650eef692b8280ccbd6bd38f1bbae.txt\n"
      ]
     },
     "metadata": {},
     "output_type": "display_data"
    },
    {
     "data": {
      "text/html": [
       "<pre style=\"white-space:pre;overflow-x:auto;line-height:normal;font-family:Menlo,'DejaVu Sans Mono',consolas,'Courier New',monospace\">Tag <span style=\"color: #008000; text-decoration-color: #008000\">\"</span><span style=\"color: #5a3713; text-decoration-color: #5a3713; font-weight: bold\">fox</span><span style=\"color: #008000; text-decoration-color: #008000\">\"</span> found in caption <span style=\"color: #008000; text-decoration-color: #008000\">\"Above them there's a speech bubble with various symbols including a chain and a </span><span style=\"color: #5a3713; text-decoration-color: #5a3713; font-weight: bold\">fox</span><span style=\"color: #008000; text-decoration-color: #008000\"> and</span>\n",
       "<span style=\"color: #008000; text-decoration-color: #008000\">an eggplant with a red line crossing it out.\"</span>\n",
       "</pre>\n"
      ],
      "text/plain": [
       "Tag \u001b[32m\"\u001b[0m\u001b[1;38;2;90;55;19mfox\u001b[0m\u001b[32m\"\u001b[0m found in caption \u001b[32m\"Above them there's a speech bubble with various symbols including a chain and a \u001b[0m\u001b[1;38;2;90;55;19mfox\u001b[0m\u001b[32m and\u001b[0m\n",
       "\u001b[32man eggplant with a red line crossing it out.\"\u001b[0m\n"
      ]
     },
     "metadata": {},
     "output_type": "display_data"
    },
    {
     "data": {
      "text/html": [
       "<pre style=\"white-space:pre;overflow-x:auto;line-height:normal;font-family:Menlo,'DejaVu Sans Mono',consolas,'Courier New',monospace\">C:\\Users\\kade\\Desktop\\training_dir_staging\\1_furry_sticker\\995650eef692b8280ccbd6bd38f1bbae.txt\n",
       "</pre>\n"
      ],
      "text/plain": [
       "C:\\Users\\kade\\Desktop\\training_dir_staging\\1_furry_sticker\\995650eef692b8280ccbd6bd38f1bbae.txt\n"
      ]
     },
     "metadata": {},
     "output_type": "display_data"
    },
    {
     "data": {
      "text/html": [
       "<pre style=\"white-space:pre;overflow-x:auto;line-height:normal;font-family:Menlo,'DejaVu Sans Mono',consolas,'Courier New',monospace\">Tag <span style=\"color: #008000; text-decoration-color: #008000\">\"</span><span style=\"color: #a989e7; text-decoration-color: #a989e7; font-weight: bold\">fox</span><span style=\"color: #008000; text-decoration-color: #008000\">\"</span> found in caption <span style=\"color: #008000; text-decoration-color: #008000\">\"The </span><span style=\"color: #a989e7; text-decoration-color: #a989e7; font-weight: bold\">fox</span><span style=\"color: #008000; text-decoration-color: #008000\"> is naked and has a fluffy tail that ends in white.\"</span>\n",
       "</pre>\n"
      ],
      "text/plain": [
       "Tag \u001b[32m\"\u001b[0m\u001b[1;38;2;169;137;231mfox\u001b[0m\u001b[32m\"\u001b[0m found in caption \u001b[32m\"The \u001b[0m\u001b[1;38;2;169;137;231mfox\u001b[0m\u001b[32m is naked and has a fluffy tail that ends in white.\"\u001b[0m\n"
      ]
     },
     "metadata": {},
     "output_type": "display_data"
    },
    {
     "data": {
      "text/html": [
       "<pre style=\"white-space:pre;overflow-x:auto;line-height:normal;font-family:Menlo,'DejaVu Sans Mono',consolas,'Courier New',monospace\">C:\\Users\\kade\\Desktop\\training_dir_staging\\1_furry_sticker\\995650eef692b8280ccbd6bd38f1bbae.txt\n",
       "</pre>\n"
      ],
      "text/plain": [
       "C:\\Users\\kade\\Desktop\\training_dir_staging\\1_furry_sticker\\995650eef692b8280ccbd6bd38f1bbae.txt\n"
      ]
     },
     "metadata": {},
     "output_type": "display_data"
    },
    {
     "data": {
      "text/html": [
       "<pre style=\"white-space:pre;overflow-x:auto;line-height:normal;font-family:Menlo,'DejaVu Sans Mono',consolas,'Courier New',monospace\">Tag <span style=\"color: #008000; text-decoration-color: #008000\">\"</span><span style=\"color: #562f01; text-decoration-color: #562f01; font-weight: bold\">fox</span><span style=\"color: #008000; text-decoration-color: #008000\">\"</span> found in caption <span style=\"color: #008000; text-decoration-color: #008000\">\"The </span><span style=\"color: #562f01; text-decoration-color: #562f01; font-weight: bold\">fox</span><span style=\"color: #008000; text-decoration-color: #008000\"> has a blush on it's face.\"</span>\n",
       "</pre>\n"
      ],
      "text/plain": [
       "Tag \u001b[32m\"\u001b[0m\u001b[1;38;2;86;47;1mfox\u001b[0m\u001b[32m\"\u001b[0m found in caption \u001b[32m\"The \u001b[0m\u001b[1;38;2;86;47;1mfox\u001b[0m\u001b[32m has a blush on it's face.\"\u001b[0m\n"
      ]
     },
     "metadata": {},
     "output_type": "display_data"
    },
    {
     "data": {
      "text/html": [
       "<pre style=\"white-space:pre;overflow-x:auto;line-height:normal;font-family:Menlo,'DejaVu Sans Mono',consolas,'Courier New',monospace\">C:\\Users\\kade\\Desktop\\training_dir_staging\\1_furry_sticker\\995650eef692b8280ccbd6bd38f1bbae.txt\n",
       "</pre>\n"
      ],
      "text/plain": [
       "C:\\Users\\kade\\Desktop\\training_dir_staging\\1_furry_sticker\\995650eef692b8280ccbd6bd38f1bbae.txt\n"
      ]
     },
     "metadata": {},
     "output_type": "display_data"
    },
    {
     "data": {
      "text/html": [
       "<pre style=\"white-space:pre;overflow-x:auto;line-height:normal;font-family:Menlo,'DejaVu Sans Mono',consolas,'Courier New',monospace\">Tag <span style=\"color: #008000; text-decoration-color: #008000\">\"</span><span style=\"color: #bccce8; text-decoration-color: #bccce8; font-weight: bold\">tiger</span><span style=\"color: #008000; text-decoration-color: #008000\">\"</span> found in caption <span style=\"color: #008000; text-decoration-color: #008000\">\"A </span><span style=\"color: #bccce8; text-decoration-color: #bccce8; font-weight: bold\">tiger</span><span style=\"color: #008000; text-decoration-color: #008000\"> is standing upright wearing a cap with an American flag and holding anthro </span>\n",
       "<span style=\"color: #008000; text-decoration-color: #008000\">fox around its arms and holding a black mask in front of the fox's face.\"</span>\n",
       "</pre>\n"
      ],
      "text/plain": [
       "Tag \u001b[32m\"\u001b[0m\u001b[1;38;2;188;204;232mtiger\u001b[0m\u001b[32m\"\u001b[0m found in caption \u001b[32m\"A \u001b[0m\u001b[1;38;2;188;204;232mtiger\u001b[0m\u001b[32m is standing upright wearing a cap with an American flag and holding anthro \u001b[0m\n",
       "\u001b[32mfox around its arms and holding a black mask in front of the fox's face.\"\u001b[0m\n"
      ]
     },
     "metadata": {},
     "output_type": "display_data"
    },
    {
     "data": {
      "text/html": [
       "<pre style=\"white-space:pre;overflow-x:auto;line-height:normal;font-family:Menlo,'DejaVu Sans Mono',consolas,'Courier New',monospace\">C:\\Users\\kade\\Desktop\\training_dir_staging\\1_furry_sticker\\995650eef692b8280ccbd6bd38f1bbae.txt\n",
       "</pre>\n"
      ],
      "text/plain": [
       "C:\\Users\\kade\\Desktop\\training_dir_staging\\1_furry_sticker\\995650eef692b8280ccbd6bd38f1bbae.txt\n"
      ]
     },
     "metadata": {},
     "output_type": "display_data"
    },
    {
     "data": {
      "text/html": [
       "<pre style=\"white-space:pre;overflow-x:auto;line-height:normal;font-family:Menlo,'DejaVu Sans Mono',consolas,'Courier New',monospace\">Tag <span style=\"color: #008000; text-decoration-color: #008000\">\"</span><span style=\"color: #88f00d; text-decoration-color: #88f00d; font-weight: bold\">tiger</span><span style=\"color: #008000; text-decoration-color: #008000\">\"</span> found in caption <span style=\"color: #008000; text-decoration-color: #008000\">\"The </span><span style=\"color: #88f00d; text-decoration-color: #88f00d; font-weight: bold\">tiger</span><span style=\"color: #008000; text-decoration-color: #008000\"> is also wearing a black and orange outfit.\"</span>\n",
       "</pre>\n"
      ],
      "text/plain": [
       "Tag \u001b[32m\"\u001b[0m\u001b[1;38;2;136;240;13mtiger\u001b[0m\u001b[32m\"\u001b[0m found in caption \u001b[32m\"The \u001b[0m\u001b[1;38;2;136;240;13mtiger\u001b[0m\u001b[32m is also wearing a black and orange outfit.\"\u001b[0m\n"
      ]
     },
     "metadata": {},
     "output_type": "display_data"
    },
    {
     "data": {
      "text/html": [
       "<pre style=\"white-space:pre;overflow-x:auto;line-height:normal;font-family:Menlo,'DejaVu Sans Mono',consolas,'Courier New',monospace\">C:\\Users\\kade\\Desktop\\training_dir_staging\\1_furry_sticker\\995650eef692b8280ccbd6bd38f1bbae.txt\n",
       "</pre>\n"
      ],
      "text/plain": [
       "C:\\Users\\kade\\Desktop\\training_dir_staging\\1_furry_sticker\\995650eef692b8280ccbd6bd38f1bbae.txt\n"
      ]
     },
     "metadata": {},
     "output_type": "display_data"
    },
    {
     "data": {
      "text/html": [
       "<pre style=\"white-space:pre;overflow-x:auto;line-height:normal;font-family:Menlo,'DejaVu Sans Mono',consolas,'Courier New',monospace\">Tag <span style=\"color: #008000; text-decoration-color: #008000\">\"</span><span style=\"color: #86472c; text-decoration-color: #86472c; font-weight: bold\">tiger</span><span style=\"color: #008000; text-decoration-color: #008000\">\"</span> found in caption <span style=\"color: #008000; text-decoration-color: #008000\">\"The </span><span style=\"color: #86472c; text-decoration-color: #86472c; font-weight: bold\">tiger</span><span style=\"color: #008000; text-decoration-color: #008000\"> has a bell on the end of its tail.\"</span>\n",
       "</pre>\n"
      ],
      "text/plain": [
       "Tag \u001b[32m\"\u001b[0m\u001b[1;38;2;134;71;44mtiger\u001b[0m\u001b[32m\"\u001b[0m found in caption \u001b[32m\"The \u001b[0m\u001b[1;38;2;134;71;44mtiger\u001b[0m\u001b[32m has a bell on the end of its tail.\"\u001b[0m\n"
      ]
     },
     "metadata": {},
     "output_type": "display_data"
    },
    {
     "data": {
      "text/html": [
       "<pre style=\"white-space:pre;overflow-x:auto;line-height:normal;font-family:Menlo,'DejaVu Sans Mono',consolas,'Courier New',monospace\">C:\\Users\\kade\\Desktop\\training_dir_staging\\1_furry_sticker\\995650eef692b8280ccbd6bd38f1bbae.txt\n",
       "</pre>\n"
      ],
      "text/plain": [
       "C:\\Users\\kade\\Desktop\\training_dir_staging\\1_furry_sticker\\995650eef692b8280ccbd6bd38f1bbae.txt\n"
      ]
     },
     "metadata": {},
     "output_type": "display_data"
    },
    {
     "data": {
      "text/html": [
       "<pre style=\"white-space:pre;overflow-x:auto;line-height:normal;font-family:Menlo,'DejaVu Sans Mono',consolas,'Courier New',monospace\">Tag <span style=\"color: #008000; text-decoration-color: #008000\">\"</span><span style=\"color: #355116; text-decoration-color: #355116; font-weight: bold\">green eyes</span><span style=\"color: #008000; text-decoration-color: #008000\">\"</span> found in caption <span style=\"color: #008000; text-decoration-color: #008000\">\"Both characters have </span><span style=\"color: #355116; text-decoration-color: #355116; font-weight: bold\">green eyes</span><span style=\"color: #008000; text-decoration-color: #008000\">.\"</span>\n",
       "</pre>\n"
      ],
      "text/plain": [
       "Tag \u001b[32m\"\u001b[0m\u001b[1;38;2;53;81;22mgreen eyes\u001b[0m\u001b[32m\"\u001b[0m found in caption \u001b[32m\"Both characters have \u001b[0m\u001b[1;38;2;53;81;22mgreen eyes\u001b[0m\u001b[32m.\"\u001b[0m\n"
      ]
     },
     "metadata": {},
     "output_type": "display_data"
    },
    {
     "data": {
      "text/html": [
       "<pre style=\"white-space:pre;overflow-x:auto;line-height:normal;font-family:Menlo,'DejaVu Sans Mono',consolas,'Courier New',monospace\">C:\\Users\\kade\\Desktop\\training_dir_staging\\1_furry_sticker\\995650eef692b8280ccbd6bd38f1bbae.txt\n",
       "</pre>\n"
      ],
      "text/plain": [
       "C:\\Users\\kade\\Desktop\\training_dir_staging\\1_furry_sticker\\995650eef692b8280ccbd6bd38f1bbae.txt\n"
      ]
     },
     "metadata": {},
     "output_type": "display_data"
    },
    {
     "data": {
      "text/html": [
       "<pre style=\"white-space:pre;overflow-x:auto;line-height:normal;font-family:Menlo,'DejaVu Sans Mono',consolas,'Courier New',monospace\">Tag <span style=\"color: #008000; text-decoration-color: #008000\">\"</span><span style=\"color: #4309a1; text-decoration-color: #4309a1; font-weight: bold\">speech bubble</span><span style=\"color: #008000; text-decoration-color: #008000\">\"</span> found in caption <span style=\"color: #008000; text-decoration-color: #008000\">\"Above them there's a </span><span style=\"color: #4309a1; text-decoration-color: #4309a1; font-weight: bold\">speech bubble</span><span style=\"color: #008000; text-decoration-color: #008000\"> with various symbols including a chain and</span>\n",
       "<span style=\"color: #008000; text-decoration-color: #008000\">a fox and an eggplant with a red line crossing it out.\"</span>\n",
       "</pre>\n"
      ],
      "text/plain": [
       "Tag \u001b[32m\"\u001b[0m\u001b[1;38;2;67;9;161mspeech bubble\u001b[0m\u001b[32m\"\u001b[0m found in caption \u001b[32m\"Above them there's a \u001b[0m\u001b[1;38;2;67;9;161mspeech bubble\u001b[0m\u001b[32m with various symbols including a chain and\u001b[0m\n",
       "\u001b[32ma fox and an eggplant with a red line crossing it out.\"\u001b[0m\n"
      ]
     },
     "metadata": {},
     "output_type": "display_data"
    },
    {
     "data": {
      "text/html": [
       "<pre style=\"white-space:pre;overflow-x:auto;line-height:normal;font-family:Menlo,'DejaVu Sans Mono',consolas,'Courier New',monospace\">C:\\Users\\kade\\Desktop\\training_dir_staging\\1_furry_sticker\\af645ac16a9c9608b6429837a82b361c.txt\n",
       "</pre>\n"
      ],
      "text/plain": [
       "C:\\Users\\kade\\Desktop\\training_dir_staging\\1_furry_sticker\\af645ac16a9c9608b6429837a82b361c.txt\n"
      ]
     },
     "metadata": {},
     "output_type": "display_data"
    },
    {
     "data": {
      "text/html": [
       "<pre style=\"white-space:pre;overflow-x:auto;line-height:normal;font-family:Menlo,'DejaVu Sans Mono',consolas,'Courier New',monospace\">Tag <span style=\"color: #008000; text-decoration-color: #008000\">\"</span><span style=\"color: #912791; text-decoration-color: #912791; font-weight: bold\">furry sticker</span><span style=\"color: #008000; text-decoration-color: #008000\">\"</span> found in caption <span style=\"color: #008000; text-decoration-color: #008000\">\"This </span><span style=\"color: #912791; text-decoration-color: #912791; font-weight: bold\">furry sticker</span><span style=\"color: #008000; text-decoration-color: #008000\"> depicts anthro fox with orange fur and green eyes.\"</span>\n",
       "</pre>\n"
      ],
      "text/plain": [
       "Tag \u001b[32m\"\u001b[0m\u001b[1;38;2;145;39;145mfurry sticker\u001b[0m\u001b[32m\"\u001b[0m found in caption \u001b[32m\"This \u001b[0m\u001b[1;38;2;145;39;145mfurry sticker\u001b[0m\u001b[32m depicts anthro fox with orange fur and green eyes.\"\u001b[0m\n"
      ]
     },
     "metadata": {},
     "output_type": "display_data"
    },
    {
     "data": {
      "text/html": [
       "<pre style=\"white-space:pre;overflow-x:auto;line-height:normal;font-family:Menlo,'DejaVu Sans Mono',consolas,'Courier New',monospace\">C:\\Users\\kade\\Desktop\\training_dir_staging\\1_furry_sticker\\af645ac16a9c9608b6429837a82b361c.txt\n",
       "</pre>\n"
      ],
      "text/plain": [
       "C:\\Users\\kade\\Desktop\\training_dir_staging\\1_furry_sticker\\af645ac16a9c9608b6429837a82b361c.txt\n"
      ]
     },
     "metadata": {},
     "output_type": "display_data"
    },
    {
     "data": {
      "text/html": [
       "<pre style=\"white-space:pre;overflow-x:auto;line-height:normal;font-family:Menlo,'DejaVu Sans Mono',consolas,'Courier New',monospace\">Tag <span style=\"color: #008000; text-decoration-color: #008000\">\"</span><span style=\"color: #9a1faf; text-decoration-color: #9a1faf; font-weight: bold\">fox</span><span style=\"color: #008000; text-decoration-color: #008000\">\"</span> found in caption <span style=\"color: #008000; text-decoration-color: #008000\">\"This furry sticker depicts anthro </span><span style=\"color: #9a1faf; text-decoration-color: #9a1faf; font-weight: bold\">fox</span><span style=\"color: #008000; text-decoration-color: #008000\"> with orange fur and green eyes.\"</span>\n",
       "</pre>\n"
      ],
      "text/plain": [
       "Tag \u001b[32m\"\u001b[0m\u001b[1;38;2;154;31;175mfox\u001b[0m\u001b[32m\"\u001b[0m found in caption \u001b[32m\"This furry sticker depicts anthro \u001b[0m\u001b[1;38;2;154;31;175mfox\u001b[0m\u001b[32m with orange fur and green eyes.\"\u001b[0m\n"
      ]
     },
     "metadata": {},
     "output_type": "display_data"
    },
    {
     "data": {
      "text/html": [
       "<pre style=\"white-space:pre;overflow-x:auto;line-height:normal;font-family:Menlo,'DejaVu Sans Mono',consolas,'Courier New',monospace\">C:\\Users\\kade\\Desktop\\training_dir_staging\\1_furry_sticker\\af645ac16a9c9608b6429837a82b361c.txt\n",
       "</pre>\n"
      ],
      "text/plain": [
       "C:\\Users\\kade\\Desktop\\training_dir_staging\\1_furry_sticker\\af645ac16a9c9608b6429837a82b361c.txt\n"
      ]
     },
     "metadata": {},
     "output_type": "display_data"
    },
    {
     "data": {
      "text/html": [
       "<pre style=\"white-space:pre;overflow-x:auto;line-height:normal;font-family:Menlo,'DejaVu Sans Mono',consolas,'Courier New',monospace\">Tag <span style=\"color: #008000; text-decoration-color: #008000\">\"</span><span style=\"color: #6e31b2; text-decoration-color: #6e31b2; font-weight: bold\">fox</span><span style=\"color: #008000; text-decoration-color: #008000\">\"</span> found in caption <span style=\"color: #008000; text-decoration-color: #008000\">\"The anthro </span><span style=\"color: #6e31b2; text-decoration-color: #6e31b2; font-weight: bold\">fox</span><span style=\"color: #008000; text-decoration-color: #008000\"> is shown in a pose while talking with its mouth open and its hands at </span>\n",
       "<span style=\"color: #008000; text-decoration-color: #008000\">its chest.\"</span>\n",
       "</pre>\n"
      ],
      "text/plain": [
       "Tag \u001b[32m\"\u001b[0m\u001b[1;38;2;110;49;178mfox\u001b[0m\u001b[32m\"\u001b[0m found in caption \u001b[32m\"The anthro \u001b[0m\u001b[1;38;2;110;49;178mfox\u001b[0m\u001b[32m is shown in a pose while talking with its mouth open and its hands at \u001b[0m\n",
       "\u001b[32mits chest.\"\u001b[0m\n"
      ]
     },
     "metadata": {},
     "output_type": "display_data"
    },
    {
     "data": {
      "text/html": [
       "<pre style=\"white-space:pre;overflow-x:auto;line-height:normal;font-family:Menlo,'DejaVu Sans Mono',consolas,'Courier New',monospace\">C:\\Users\\kade\\Desktop\\training_dir_staging\\1_furry_sticker\\af645ac16a9c9608b6429837a82b361c.txt\n",
       "</pre>\n"
      ],
      "text/plain": [
       "C:\\Users\\kade\\Desktop\\training_dir_staging\\1_furry_sticker\\af645ac16a9c9608b6429837a82b361c.txt\n"
      ]
     },
     "metadata": {},
     "output_type": "display_data"
    },
    {
     "data": {
      "text/html": [
       "<pre style=\"white-space:pre;overflow-x:auto;line-height:normal;font-family:Menlo,'DejaVu Sans Mono',consolas,'Courier New',monospace\">Tag <span style=\"color: #008000; text-decoration-color: #008000\">\"</span><span style=\"color: #8a4d16; text-decoration-color: #8a4d16; font-weight: bold\">fox</span><span style=\"color: #008000; text-decoration-color: #008000\">\"</span> found in caption <span style=\"color: #008000; text-decoration-color: #008000\">\"The background is transparent putting emphasis on the </span><span style=\"color: #8a4d16; text-decoration-color: #8a4d16; font-weight: bold\">fox</span><span style=\"color: #008000; text-decoration-color: #008000\"> character.\"</span>\n",
       "</pre>\n"
      ],
      "text/plain": [
       "Tag \u001b[32m\"\u001b[0m\u001b[1;38;2;138;77;22mfox\u001b[0m\u001b[32m\"\u001b[0m found in caption \u001b[32m\"The background is transparent putting emphasis on the \u001b[0m\u001b[1;38;2;138;77;22mfox\u001b[0m\u001b[32m character.\"\u001b[0m\n"
      ]
     },
     "metadata": {},
     "output_type": "display_data"
    },
    {
     "data": {
      "text/html": [
       "<pre style=\"white-space:pre;overflow-x:auto;line-height:normal;font-family:Menlo,'DejaVu Sans Mono',consolas,'Courier New',monospace\">C:\\Users\\kade\\Desktop\\training_dir_staging\\1_furry_sticker\\af645ac16a9c9608b6429837a82b361c.txt\n",
       "</pre>\n"
      ],
      "text/plain": [
       "C:\\Users\\kade\\Desktop\\training_dir_staging\\1_furry_sticker\\af645ac16a9c9608b6429837a82b361c.txt\n"
      ]
     },
     "metadata": {},
     "output_type": "display_data"
    },
    {
     "data": {
      "text/html": [
       "<pre style=\"white-space:pre;overflow-x:auto;line-height:normal;font-family:Menlo,'DejaVu Sans Mono',consolas,'Courier New',monospace\">Tag <span style=\"color: #008000; text-decoration-color: #008000\">\"</span><span style=\"color: #73ac8c; text-decoration-color: #73ac8c; font-weight: bold\">anthro</span><span style=\"color: #008000; text-decoration-color: #008000\">\"</span> found in caption <span style=\"color: #008000; text-decoration-color: #008000\">\"This furry sticker depicts </span><span style=\"color: #73ac8c; text-decoration-color: #73ac8c; font-weight: bold\">anthro</span><span style=\"color: #008000; text-decoration-color: #008000\"> fox with orange fur and green eyes.\"</span>\n",
       "</pre>\n"
      ],
      "text/plain": [
       "Tag \u001b[32m\"\u001b[0m\u001b[1;38;2;115;172;140manthro\u001b[0m\u001b[32m\"\u001b[0m found in caption \u001b[32m\"This furry sticker depicts \u001b[0m\u001b[1;38;2;115;172;140manthro\u001b[0m\u001b[32m fox with orange fur and green eyes.\"\u001b[0m\n"
      ]
     },
     "metadata": {},
     "output_type": "display_data"
    },
    {
     "data": {
      "text/html": [
       "<pre style=\"white-space:pre;overflow-x:auto;line-height:normal;font-family:Menlo,'DejaVu Sans Mono',consolas,'Courier New',monospace\">C:\\Users\\kade\\Desktop\\training_dir_staging\\1_furry_sticker\\af645ac16a9c9608b6429837a82b361c.txt\n",
       "</pre>\n"
      ],
      "text/plain": [
       "C:\\Users\\kade\\Desktop\\training_dir_staging\\1_furry_sticker\\af645ac16a9c9608b6429837a82b361c.txt\n"
      ]
     },
     "metadata": {},
     "output_type": "display_data"
    },
    {
     "data": {
      "text/html": [
       "<pre style=\"white-space:pre;overflow-x:auto;line-height:normal;font-family:Menlo,'DejaVu Sans Mono',consolas,'Courier New',monospace\">Tag <span style=\"color: #008000; text-decoration-color: #008000\">\"</span><span style=\"color: #2cfcdc; text-decoration-color: #2cfcdc; font-weight: bold\">anthro</span><span style=\"color: #008000; text-decoration-color: #008000\">\"</span> found in caption <span style=\"color: #008000; text-decoration-color: #008000\">\"The </span><span style=\"color: #2cfcdc; text-decoration-color: #2cfcdc; font-weight: bold\">anthro</span><span style=\"color: #008000; text-decoration-color: #008000\"> fox is shown in a pose while talking with its mouth open and its hands at</span>\n",
       "<span style=\"color: #008000; text-decoration-color: #008000\">its chest.\"</span>\n",
       "</pre>\n"
      ],
      "text/plain": [
       "Tag \u001b[32m\"\u001b[0m\u001b[1;38;2;44;252;220manthro\u001b[0m\u001b[32m\"\u001b[0m found in caption \u001b[32m\"The \u001b[0m\u001b[1;38;2;44;252;220manthro\u001b[0m\u001b[32m fox is shown in a pose while talking with its mouth open and its hands at\u001b[0m\n",
       "\u001b[32mits chest.\"\u001b[0m\n"
      ]
     },
     "metadata": {},
     "output_type": "display_data"
    },
    {
     "data": {
      "text/html": [
       "<pre style=\"white-space:pre;overflow-x:auto;line-height:normal;font-family:Menlo,'DejaVu Sans Mono',consolas,'Courier New',monospace\">C:\\Users\\kade\\Desktop\\training_dir_staging\\1_furry_sticker\\af645ac16a9c9608b6429837a82b361c.txt\n",
       "</pre>\n"
      ],
      "text/plain": [
       "C:\\Users\\kade\\Desktop\\training_dir_staging\\1_furry_sticker\\af645ac16a9c9608b6429837a82b361c.txt\n"
      ]
     },
     "metadata": {},
     "output_type": "display_data"
    },
    {
     "data": {
      "text/html": [
       "<pre style=\"white-space:pre;overflow-x:auto;line-height:normal;font-family:Menlo,'DejaVu Sans Mono',consolas,'Courier New',monospace\">Tag <span style=\"color: #008000; text-decoration-color: #008000\">\"</span><span style=\"color: #6b4c67; text-decoration-color: #6b4c67; font-weight: bold\">green eyes</span><span style=\"color: #008000; text-decoration-color: #008000\">\"</span> found in caption <span style=\"color: #008000; text-decoration-color: #008000\">\"This furry sticker depicts anthro fox with orange fur and </span><span style=\"color: #6b4c67; text-decoration-color: #6b4c67; font-weight: bold\">green eyes</span><span style=\"color: #008000; text-decoration-color: #008000\">.\"</span>\n",
       "</pre>\n"
      ],
      "text/plain": [
       "Tag \u001b[32m\"\u001b[0m\u001b[1;38;2;107;76;103mgreen eyes\u001b[0m\u001b[32m\"\u001b[0m found in caption \u001b[32m\"This furry sticker depicts anthro fox with orange fur and \u001b[0m\u001b[1;38;2;107;76;103mgreen eyes\u001b[0m\u001b[32m.\"\u001b[0m\n"
      ]
     },
     "metadata": {},
     "output_type": "display_data"
    },
    {
     "data": {
      "text/html": [
       "<pre style=\"white-space:pre;overflow-x:auto;line-height:normal;font-family:Menlo,'DejaVu Sans Mono',consolas,'Courier New',monospace\">C:\\Users\\kade\\Desktop\\training_dir_staging\\1_furry_sticker\\af645ac16a9c9608b6429837a82b361c.txt\n",
       "</pre>\n"
      ],
      "text/plain": [
       "C:\\Users\\kade\\Desktop\\training_dir_staging\\1_furry_sticker\\af645ac16a9c9608b6429837a82b361c.txt\n"
      ]
     },
     "metadata": {},
     "output_type": "display_data"
    },
    {
     "data": {
      "text/html": [
       "<pre style=\"white-space:pre;overflow-x:auto;line-height:normal;font-family:Menlo,'DejaVu Sans Mono',consolas,'Courier New',monospace\">Tag <span style=\"color: #008000; text-decoration-color: #008000\">\"</span><span style=\"color: #c4c9ff; text-decoration-color: #c4c9ff; font-weight: bold\">fur</span><span style=\"color: #008000; text-decoration-color: #008000\">\"</span> found in caption <span style=\"color: #008000; text-decoration-color: #008000\">\"This </span><span style=\"color: #c4c9ff; text-decoration-color: #c4c9ff; font-weight: bold\">fur</span><span style=\"color: #008000; text-decoration-color: #008000\">ry sticker depicts anthro fox with orange </span><span style=\"color: #c4c9ff; text-decoration-color: #c4c9ff; font-weight: bold\">fur</span><span style=\"color: #008000; text-decoration-color: #008000\"> and green eyes.\"</span>\n",
       "</pre>\n"
      ],
      "text/plain": [
       "Tag \u001b[32m\"\u001b[0m\u001b[1;38;2;196;201;255mfur\u001b[0m\u001b[32m\"\u001b[0m found in caption \u001b[32m\"This \u001b[0m\u001b[1;38;2;196;201;255mfur\u001b[0m\u001b[32mry sticker depicts anthro fox with orange \u001b[0m\u001b[1;38;2;196;201;255mfur\u001b[0m\u001b[32m and green eyes.\"\u001b[0m\n"
      ]
     },
     "metadata": {},
     "output_type": "display_data"
    },
    {
     "data": {
      "text/html": [
       "<pre style=\"white-space:pre;overflow-x:auto;line-height:normal;font-family:Menlo,'DejaVu Sans Mono',consolas,'Courier New',monospace\">C:\\Users\\kade\\Desktop\\training_dir_staging\\1_furry_sticker\\af645ac16a9c9608b6429837a82b361c.txt\n",
       "</pre>\n"
      ],
      "text/plain": [
       "C:\\Users\\kade\\Desktop\\training_dir_staging\\1_furry_sticker\\af645ac16a9c9608b6429837a82b361c.txt\n"
      ]
     },
     "metadata": {},
     "output_type": "display_data"
    },
    {
     "data": {
      "text/html": [
       "<pre style=\"white-space:pre;overflow-x:auto;line-height:normal;font-family:Menlo,'DejaVu Sans Mono',consolas,'Courier New',monospace\">Tag <span style=\"color: #008000; text-decoration-color: #008000\">\"</span><span style=\"color: #7b71d5; text-decoration-color: #7b71d5; font-weight: bold\">orange fur</span><span style=\"color: #008000; text-decoration-color: #008000\">\"</span> found in caption <span style=\"color: #008000; text-decoration-color: #008000\">\"This furry sticker depicts anthro fox with </span><span style=\"color: #7b71d5; text-decoration-color: #7b71d5; font-weight: bold\">orange fur</span><span style=\"color: #008000; text-decoration-color: #008000\"> and green eyes.\"</span>\n",
       "</pre>\n"
      ],
      "text/plain": [
       "Tag \u001b[32m\"\u001b[0m\u001b[1;38;2;123;113;213morange fur\u001b[0m\u001b[32m\"\u001b[0m found in caption \u001b[32m\"This furry sticker depicts anthro fox with \u001b[0m\u001b[1;38;2;123;113;213morange fur\u001b[0m\u001b[32m and green eyes.\"\u001b[0m\n"
      ]
     },
     "metadata": {},
     "output_type": "display_data"
    },
    {
     "data": {
      "text/html": [
       "<pre style=\"white-space:pre;overflow-x:auto;line-height:normal;font-family:Menlo,'DejaVu Sans Mono',consolas,'Courier New',monospace\">C:\\Users\\kade\\Desktop\\training_dir_staging\\1_furry_sticker\\af645ac16a9c9608b6429837a82b361c.txt\n",
       "</pre>\n"
      ],
      "text/plain": [
       "C:\\Users\\kade\\Desktop\\training_dir_staging\\1_furry_sticker\\af645ac16a9c9608b6429837a82b361c.txt\n"
      ]
     },
     "metadata": {},
     "output_type": "display_data"
    },
    {
     "data": {
      "text/html": [
       "<pre style=\"white-space:pre;overflow-x:auto;line-height:normal;font-family:Menlo,'DejaVu Sans Mono',consolas,'Courier New',monospace\">Tag <span style=\"color: #008000; text-decoration-color: #008000\">\"</span><span style=\"color: #4ace81; text-decoration-color: #4ace81; font-weight: bold\">outline</span><span style=\"color: #008000; text-decoration-color: #008000\">\"</span> found in caption <span style=\"color: #008000; text-decoration-color: #008000\">\"The character has a white </span><span style=\"color: #4ace81; text-decoration-color: #4ace81; font-weight: bold\">outline</span><span style=\"color: #008000; text-decoration-color: #008000\"> around it.\"</span>\n",
       "</pre>\n"
      ],
      "text/plain": [
       "Tag \u001b[32m\"\u001b[0m\u001b[1;38;2;74;206;129moutline\u001b[0m\u001b[32m\"\u001b[0m found in caption \u001b[32m\"The character has a white \u001b[0m\u001b[1;38;2;74;206;129moutline\u001b[0m\u001b[32m around it.\"\u001b[0m\n"
      ]
     },
     "metadata": {},
     "output_type": "display_data"
    },
    {
     "data": {
      "text/html": [
       "<pre style=\"white-space:pre;overflow-x:auto;line-height:normal;font-family:Menlo,'DejaVu Sans Mono',consolas,'Courier New',monospace\">C:\\Users\\kade\\Desktop\\training_dir_staging\\1_furry_sticker\\c004dd17eabdc650f7870d1cce451132.txt\n",
       "</pre>\n"
      ],
      "text/plain": [
       "C:\\Users\\kade\\Desktop\\training_dir_staging\\1_furry_sticker\\c004dd17eabdc650f7870d1cce451132.txt\n"
      ]
     },
     "metadata": {},
     "output_type": "display_data"
    },
    {
     "data": {
      "text/html": [
       "<pre style=\"white-space:pre;overflow-x:auto;line-height:normal;font-family:Menlo,'DejaVu Sans Mono',consolas,'Courier New',monospace\">Tag <span style=\"color: #008000; text-decoration-color: #008000\">\"</span><span style=\"color: #96f8f3; text-decoration-color: #96f8f3; font-weight: bold\">furry sticker</span><span style=\"color: #008000; text-decoration-color: #008000\">\"</span> found in caption <span style=\"color: #008000; text-decoration-color: #008000\">\"This is </span><span style=\"color: #96f8f3; text-decoration-color: #96f8f3; font-weight: bold\">furry sticker</span><span style=\"color: #008000; text-decoration-color: #008000\"> of anthro fox.\"</span>\n",
       "</pre>\n"
      ],
      "text/plain": [
       "Tag \u001b[32m\"\u001b[0m\u001b[1;38;2;150;248;243mfurry sticker\u001b[0m\u001b[32m\"\u001b[0m found in caption \u001b[32m\"This is \u001b[0m\u001b[1;38;2;150;248;243mfurry sticker\u001b[0m\u001b[32m of anthro fox.\"\u001b[0m\n"
      ]
     },
     "metadata": {},
     "output_type": "display_data"
    },
    {
     "data": {
      "text/html": [
       "<pre style=\"white-space:pre;overflow-x:auto;line-height:normal;font-family:Menlo,'DejaVu Sans Mono',consolas,'Courier New',monospace\">C:\\Users\\kade\\Desktop\\training_dir_staging\\1_furry_sticker\\c004dd17eabdc650f7870d1cce451132.txt\n",
       "</pre>\n"
      ],
      "text/plain": [
       "C:\\Users\\kade\\Desktop\\training_dir_staging\\1_furry_sticker\\c004dd17eabdc650f7870d1cce451132.txt\n"
      ]
     },
     "metadata": {},
     "output_type": "display_data"
    },
    {
     "data": {
      "text/html": [
       "<pre style=\"white-space:pre;overflow-x:auto;line-height:normal;font-family:Menlo,'DejaVu Sans Mono',consolas,'Courier New',monospace\">Tag <span style=\"color: #008000; text-decoration-color: #008000\">\"</span><span style=\"color: #3196c9; text-decoration-color: #3196c9; font-weight: bold\">fox</span><span style=\"color: #008000; text-decoration-color: #008000\">\"</span> found in caption <span style=\"color: #008000; text-decoration-color: #008000\">\"This is furry sticker of anthro </span><span style=\"color: #3196c9; text-decoration-color: #3196c9; font-weight: bold\">fox</span><span style=\"color: #008000; text-decoration-color: #008000\">.\"</span>\n",
       "</pre>\n"
      ],
      "text/plain": [
       "Tag \u001b[32m\"\u001b[0m\u001b[1;38;2;49;150;201mfox\u001b[0m\u001b[32m\"\u001b[0m found in caption \u001b[32m\"This is furry sticker of anthro \u001b[0m\u001b[1;38;2;49;150;201mfox\u001b[0m\u001b[32m.\"\u001b[0m\n"
      ]
     },
     "metadata": {},
     "output_type": "display_data"
    },
    {
     "data": {
      "text/html": [
       "<pre style=\"white-space:pre;overflow-x:auto;line-height:normal;font-family:Menlo,'DejaVu Sans Mono',consolas,'Courier New',monospace\">C:\\Users\\kade\\Desktop\\training_dir_staging\\1_furry_sticker\\c004dd17eabdc650f7870d1cce451132.txt\n",
       "</pre>\n"
      ],
      "text/plain": [
       "C:\\Users\\kade\\Desktop\\training_dir_staging\\1_furry_sticker\\c004dd17eabdc650f7870d1cce451132.txt\n"
      ]
     },
     "metadata": {},
     "output_type": "display_data"
    },
    {
     "data": {
      "text/html": [
       "<pre style=\"white-space:pre;overflow-x:auto;line-height:normal;font-family:Menlo,'DejaVu Sans Mono',consolas,'Courier New',monospace\">Tag <span style=\"color: #008000; text-decoration-color: #008000\">\"</span><span style=\"color: #58b6cb; text-decoration-color: #58b6cb; font-weight: bold\">fox</span><span style=\"color: #008000; text-decoration-color: #008000\">\"</span> found in caption <span style=\"color: #008000; text-decoration-color: #008000\">\"The </span><span style=\"color: #58b6cb; text-decoration-color: #58b6cb; font-weight: bold\">fox</span><span style=\"color: #008000; text-decoration-color: #008000\"> is depicted in a thoughtful pose with one hand on its chin and a slightly </span>\n",
       "<span style=\"color: #008000; text-decoration-color: #008000\">furrowed brow as if it's pondering.\"</span>\n",
       "</pre>\n"
      ],
      "text/plain": [
       "Tag \u001b[32m\"\u001b[0m\u001b[1;38;2;88;182;203mfox\u001b[0m\u001b[32m\"\u001b[0m found in caption \u001b[32m\"The \u001b[0m\u001b[1;38;2;88;182;203mfox\u001b[0m\u001b[32m is depicted in a thoughtful pose with one hand on its chin and a slightly \u001b[0m\n",
       "\u001b[32mfurrowed brow as if it's pondering.\"\u001b[0m\n"
      ]
     },
     "metadata": {},
     "output_type": "display_data"
    },
    {
     "data": {
      "text/html": [
       "<pre style=\"white-space:pre;overflow-x:auto;line-height:normal;font-family:Menlo,'DejaVu Sans Mono',consolas,'Courier New',monospace\">C:\\Users\\kade\\Desktop\\training_dir_staging\\1_furry_sticker\\c004dd17eabdc650f7870d1cce451132.txt\n",
       "</pre>\n"
      ],
      "text/plain": [
       "C:\\Users\\kade\\Desktop\\training_dir_staging\\1_furry_sticker\\c004dd17eabdc650f7870d1cce451132.txt\n"
      ]
     },
     "metadata": {},
     "output_type": "display_data"
    },
    {
     "data": {
      "text/html": [
       "<pre style=\"white-space:pre;overflow-x:auto;line-height:normal;font-family:Menlo,'DejaVu Sans Mono',consolas,'Courier New',monospace\">Tag <span style=\"color: #008000; text-decoration-color: #008000\">\"</span><span style=\"color: #06ed6d; text-decoration-color: #06ed6d; font-weight: bold\">fox</span><span style=\"color: #008000; text-decoration-color: #008000\">\"</span> found in caption <span style=\"color: #008000; text-decoration-color: #008000\">\"The </span><span style=\"color: #06ed6d; text-decoration-color: #06ed6d; font-weight: bold\">fox</span><span style=\"color: #008000; text-decoration-color: #008000\"> has a red and brown coat with white underbelly and a tail that is red at the </span>\n",
       "<span style=\"color: #008000; text-decoration-color: #008000\">base and white at the tip.\"</span>\n",
       "</pre>\n"
      ],
      "text/plain": [
       "Tag \u001b[32m\"\u001b[0m\u001b[1;38;2;6;237;109mfox\u001b[0m\u001b[32m\"\u001b[0m found in caption \u001b[32m\"The \u001b[0m\u001b[1;38;2;6;237;109mfox\u001b[0m\u001b[32m has a red and brown coat with white underbelly and a tail that is red at the \u001b[0m\n",
       "\u001b[32mbase and white at the tip.\"\u001b[0m\n"
      ]
     },
     "metadata": {},
     "output_type": "display_data"
    },
    {
     "data": {
      "text/html": [
       "<pre style=\"white-space:pre;overflow-x:auto;line-height:normal;font-family:Menlo,'DejaVu Sans Mono',consolas,'Courier New',monospace\">C:\\Users\\kade\\Desktop\\training_dir_staging\\1_furry_sticker\\c004dd17eabdc650f7870d1cce451132.txt\n",
       "</pre>\n"
      ],
      "text/plain": [
       "C:\\Users\\kade\\Desktop\\training_dir_staging\\1_furry_sticker\\c004dd17eabdc650f7870d1cce451132.txt\n"
      ]
     },
     "metadata": {},
     "output_type": "display_data"
    },
    {
     "data": {
      "text/html": [
       "<pre style=\"white-space:pre;overflow-x:auto;line-height:normal;font-family:Menlo,'DejaVu Sans Mono',consolas,'Courier New',monospace\">Tag <span style=\"color: #008000; text-decoration-color: #008000\">\"</span><span style=\"color: #37a224; text-decoration-color: #37a224; font-weight: bold\">fox</span><span style=\"color: #008000; text-decoration-color: #008000\">\"</span> found in caption <span style=\"color: #008000; text-decoration-color: #008000\">\"The </span><span style=\"color: #37a224; text-decoration-color: #37a224; font-weight: bold\">fox</span><span style=\"color: #008000; text-decoration-color: #008000\"> has green eyes and is wearing a small grey hat.\"</span>\n",
       "</pre>\n"
      ],
      "text/plain": [
       "Tag \u001b[32m\"\u001b[0m\u001b[1;38;2;55;162;36mfox\u001b[0m\u001b[32m\"\u001b[0m found in caption \u001b[32m\"The \u001b[0m\u001b[1;38;2;55;162;36mfox\u001b[0m\u001b[32m has green eyes and is wearing a small grey hat.\"\u001b[0m\n"
      ]
     },
     "metadata": {},
     "output_type": "display_data"
    },
    {
     "data": {
      "text/html": [
       "<pre style=\"white-space:pre;overflow-x:auto;line-height:normal;font-family:Menlo,'DejaVu Sans Mono',consolas,'Courier New',monospace\">C:\\Users\\kade\\Desktop\\training_dir_staging\\1_furry_sticker\\c004dd17eabdc650f7870d1cce451132.txt\n",
       "</pre>\n"
      ],
      "text/plain": [
       "C:\\Users\\kade\\Desktop\\training_dir_staging\\1_furry_sticker\\c004dd17eabdc650f7870d1cce451132.txt\n"
      ]
     },
     "metadata": {},
     "output_type": "display_data"
    },
    {
     "data": {
      "text/html": [
       "<pre style=\"white-space:pre;overflow-x:auto;line-height:normal;font-family:Menlo,'DejaVu Sans Mono',consolas,'Courier New',monospace\">Tag <span style=\"color: #008000; text-decoration-color: #008000\">\"</span><span style=\"color: #b6e920; text-decoration-color: #b6e920; font-weight: bold\">fox</span><span style=\"color: #008000; text-decoration-color: #008000\">\"</span> found in caption <span style=\"color: #008000; text-decoration-color: #008000\">\"There's also a blue circle with an 'X' in it next to the </span><span style=\"color: #b6e920; text-decoration-color: #b6e920; font-weight: bold\">fox</span><span style=\"color: #008000; text-decoration-color: #008000\"> which indicates something </span>\n",
       "<span style=\"color: #008000; text-decoration-color: #008000\">wrong or incorrect and it is doubting it.\"</span>\n",
       "</pre>\n"
      ],
      "text/plain": [
       "Tag \u001b[32m\"\u001b[0m\u001b[1;38;2;182;233;32mfox\u001b[0m\u001b[32m\"\u001b[0m found in caption \u001b[32m\"There's also a blue circle with an 'X' in it next to the \u001b[0m\u001b[1;38;2;182;233;32mfox\u001b[0m\u001b[32m which indicates something \u001b[0m\n",
       "\u001b[32mwrong or incorrect and it is doubting it.\"\u001b[0m\n"
      ]
     },
     "metadata": {},
     "output_type": "display_data"
    },
    {
     "data": {
      "text/html": [
       "<pre style=\"white-space:pre;overflow-x:auto;line-height:normal;font-family:Menlo,'DejaVu Sans Mono',consolas,'Courier New',monospace\">C:\\Users\\kade\\Desktop\\training_dir_staging\\1_furry_sticker\\c004dd17eabdc650f7870d1cce451132.txt\n",
       "</pre>\n"
      ],
      "text/plain": [
       "C:\\Users\\kade\\Desktop\\training_dir_staging\\1_furry_sticker\\c004dd17eabdc650f7870d1cce451132.txt\n"
      ]
     },
     "metadata": {},
     "output_type": "display_data"
    },
    {
     "data": {
      "text/html": [
       "<pre style=\"white-space:pre;overflow-x:auto;line-height:normal;font-family:Menlo,'DejaVu Sans Mono',consolas,'Courier New',monospace\">Tag <span style=\"color: #008000; text-decoration-color: #008000\">\"</span><span style=\"color: #14c892; text-decoration-color: #14c892; font-weight: bold\">anthro</span><span style=\"color: #008000; text-decoration-color: #008000\">\"</span> found in caption <span style=\"color: #008000; text-decoration-color: #008000\">\"This is furry sticker of </span><span style=\"color: #14c892; text-decoration-color: #14c892; font-weight: bold\">anthro</span><span style=\"color: #008000; text-decoration-color: #008000\"> fox.\"</span>\n",
       "</pre>\n"
      ],
      "text/plain": [
       "Tag \u001b[32m\"\u001b[0m\u001b[1;38;2;20;200;146manthro\u001b[0m\u001b[32m\"\u001b[0m found in caption \u001b[32m\"This is furry sticker of \u001b[0m\u001b[1;38;2;20;200;146manthro\u001b[0m\u001b[32m fox.\"\u001b[0m\n"
      ]
     },
     "metadata": {},
     "output_type": "display_data"
    },
    {
     "data": {
      "text/html": [
       "<pre style=\"white-space:pre;overflow-x:auto;line-height:normal;font-family:Menlo,'DejaVu Sans Mono',consolas,'Courier New',monospace\">C:\\Users\\kade\\Desktop\\training_dir_staging\\1_furry_sticker\\c004dd17eabdc650f7870d1cce451132.txt\n",
       "</pre>\n"
      ],
      "text/plain": [
       "C:\\Users\\kade\\Desktop\\training_dir_staging\\1_furry_sticker\\c004dd17eabdc650f7870d1cce451132.txt\n"
      ]
     },
     "metadata": {},
     "output_type": "display_data"
    },
    {
     "data": {
      "text/html": [
       "<pre style=\"white-space:pre;overflow-x:auto;line-height:normal;font-family:Menlo,'DejaVu Sans Mono',consolas,'Courier New',monospace\">Tag <span style=\"color: #008000; text-decoration-color: #008000\">\"</span><span style=\"color: #b10f7d; text-decoration-color: #b10f7d; font-weight: bold\">green eyes</span><span style=\"color: #008000; text-decoration-color: #008000\">\"</span> found in caption <span style=\"color: #008000; text-decoration-color: #008000\">\"The fox has </span><span style=\"color: #b10f7d; text-decoration-color: #b10f7d; font-weight: bold\">green eyes</span><span style=\"color: #008000; text-decoration-color: #008000\"> and is wearing a small grey hat.\"</span>\n",
       "</pre>\n"
      ],
      "text/plain": [
       "Tag \u001b[32m\"\u001b[0m\u001b[1;38;2;177;15;125mgreen eyes\u001b[0m\u001b[32m\"\u001b[0m found in caption \u001b[32m\"The fox has \u001b[0m\u001b[1;38;2;177;15;125mgreen eyes\u001b[0m\u001b[32m and is wearing a small grey hat.\"\u001b[0m\n"
      ]
     },
     "metadata": {},
     "output_type": "display_data"
    },
    {
     "data": {
      "text/html": [
       "<pre style=\"white-space:pre;overflow-x:auto;line-height:normal;font-family:Menlo,'DejaVu Sans Mono',consolas,'Courier New',monospace\">C:\\Users\\kade\\Desktop\\training_dir_staging\\1_furry_sticker\\c004dd17eabdc650f7870d1cce451132.txt\n",
       "</pre>\n"
      ],
      "text/plain": [
       "C:\\Users\\kade\\Desktop\\training_dir_staging\\1_furry_sticker\\c004dd17eabdc650f7870d1cce451132.txt\n"
      ]
     },
     "metadata": {},
     "output_type": "display_data"
    },
    {
     "data": {
      "text/html": [
       "<pre style=\"white-space:pre;overflow-x:auto;line-height:normal;font-family:Menlo,'DejaVu Sans Mono',consolas,'Courier New',monospace\">Tag <span style=\"color: #008000; text-decoration-color: #008000\">\"</span><span style=\"color: #3ec62a; text-decoration-color: #3ec62a; font-weight: bold\">fur</span><span style=\"color: #008000; text-decoration-color: #008000\">\"</span> found in caption <span style=\"color: #008000; text-decoration-color: #008000\">\"This is </span><span style=\"color: #3ec62a; text-decoration-color: #3ec62a; font-weight: bold\">fur</span><span style=\"color: #008000; text-decoration-color: #008000\">ry sticker of anthro fox.\"</span>\n",
       "</pre>\n"
      ],
      "text/plain": [
       "Tag \u001b[32m\"\u001b[0m\u001b[1;38;2;62;198;42mfur\u001b[0m\u001b[32m\"\u001b[0m found in caption \u001b[32m\"This is \u001b[0m\u001b[1;38;2;62;198;42mfur\u001b[0m\u001b[32mry sticker of anthro fox.\"\u001b[0m\n"
      ]
     },
     "metadata": {},
     "output_type": "display_data"
    },
    {
     "data": {
      "text/html": [
       "<pre style=\"white-space:pre;overflow-x:auto;line-height:normal;font-family:Menlo,'DejaVu Sans Mono',consolas,'Courier New',monospace\">C:\\Users\\kade\\Desktop\\training_dir_staging\\1_furry_sticker\\c004dd17eabdc650f7870d1cce451132.txt\n",
       "</pre>\n"
      ],
      "text/plain": [
       "C:\\Users\\kade\\Desktop\\training_dir_staging\\1_furry_sticker\\c004dd17eabdc650f7870d1cce451132.txt\n"
      ]
     },
     "metadata": {},
     "output_type": "display_data"
    },
    {
     "data": {
      "text/html": [
       "<pre style=\"white-space:pre;overflow-x:auto;line-height:normal;font-family:Menlo,'DejaVu Sans Mono',consolas,'Courier New',monospace\">Tag <span style=\"color: #008000; text-decoration-color: #008000\">\"</span><span style=\"color: #7e73cf; text-decoration-color: #7e73cf; font-weight: bold\">fur</span><span style=\"color: #008000; text-decoration-color: #008000\">\"</span> found in caption <span style=\"color: #008000; text-decoration-color: #008000\">\"The fox is depicted in a thoughtful pose with one hand on its chin and a slightly </span>\n",
       "<span style=\"color: #7e73cf; text-decoration-color: #7e73cf; font-weight: bold\">fur</span><span style=\"color: #008000; text-decoration-color: #008000\">rowed brow as if it's pondering.\"</span>\n",
       "</pre>\n"
      ],
      "text/plain": [
       "Tag \u001b[32m\"\u001b[0m\u001b[1;38;2;126;115;207mfur\u001b[0m\u001b[32m\"\u001b[0m found in caption \u001b[32m\"The fox is depicted in a thoughtful pose with one hand on its chin and a slightly \u001b[0m\n",
       "\u001b[1;38;2;126;115;207mfur\u001b[0m\u001b[32mrowed brow as if it's pondering.\"\u001b[0m\n"
      ]
     },
     "metadata": {},
     "output_type": "display_data"
    },
    {
     "data": {
      "text/html": [
       "<pre style=\"white-space:pre;overflow-x:auto;line-height:normal;font-family:Menlo,'DejaVu Sans Mono',consolas,'Courier New',monospace\">C:\\Users\\kade\\Desktop\\training_dir_staging\\1_furry_sticker\\c004dd17eabdc650f7870d1cce451132.txt\n",
       "</pre>\n"
      ],
      "text/plain": [
       "C:\\Users\\kade\\Desktop\\training_dir_staging\\1_furry_sticker\\c004dd17eabdc650f7870d1cce451132.txt\n"
      ]
     },
     "metadata": {},
     "output_type": "display_data"
    },
    {
     "data": {
      "text/html": [
       "<pre style=\"white-space:pre;overflow-x:auto;line-height:normal;font-family:Menlo,'DejaVu Sans Mono',consolas,'Courier New',monospace\">Tag <span style=\"color: #008000; text-decoration-color: #008000\">\"</span><span style=\"color: #7b8114; text-decoration-color: #7b8114; font-weight: bold\">hat</span><span style=\"color: #008000; text-decoration-color: #008000\">\"</span> found in caption <span style=\"color: #008000; text-decoration-color: #008000\">\"The fox has a red and brown coat with white underbelly and a tail t</span><span style=\"color: #7b8114; text-decoration-color: #7b8114; font-weight: bold\">hat</span><span style=\"color: #008000; text-decoration-color: #008000\"> is red at the </span>\n",
       "<span style=\"color: #008000; text-decoration-color: #008000\">base and white at the tip.\"</span>\n",
       "</pre>\n"
      ],
      "text/plain": [
       "Tag \u001b[32m\"\u001b[0m\u001b[1;38;2;123;129;20mhat\u001b[0m\u001b[32m\"\u001b[0m found in caption \u001b[32m\"The fox has a red and brown coat with white underbelly and a tail t\u001b[0m\u001b[1;38;2;123;129;20mhat\u001b[0m\u001b[32m is red at the \u001b[0m\n",
       "\u001b[32mbase and white at the tip.\"\u001b[0m\n"
      ]
     },
     "metadata": {},
     "output_type": "display_data"
    },
    {
     "data": {
      "text/html": [
       "<pre style=\"white-space:pre;overflow-x:auto;line-height:normal;font-family:Menlo,'DejaVu Sans Mono',consolas,'Courier New',monospace\">C:\\Users\\kade\\Desktop\\training_dir_staging\\1_furry_sticker\\c004dd17eabdc650f7870d1cce451132.txt\n",
       "</pre>\n"
      ],
      "text/plain": [
       "C:\\Users\\kade\\Desktop\\training_dir_staging\\1_furry_sticker\\c004dd17eabdc650f7870d1cce451132.txt\n"
      ]
     },
     "metadata": {},
     "output_type": "display_data"
    },
    {
     "data": {
      "text/html": [
       "<pre style=\"white-space:pre;overflow-x:auto;line-height:normal;font-family:Menlo,'DejaVu Sans Mono',consolas,'Courier New',monospace\">Tag <span style=\"color: #008000; text-decoration-color: #008000\">\"</span><span style=\"color: #cabbed; text-decoration-color: #cabbed; font-weight: bold\">hat</span><span style=\"color: #008000; text-decoration-color: #008000\">\"</span> found in caption <span style=\"color: #008000; text-decoration-color: #008000\">\"The fox has green eyes and is wearing a small grey </span><span style=\"color: #cabbed; text-decoration-color: #cabbed; font-weight: bold\">hat</span><span style=\"color: #008000; text-decoration-color: #008000\">.\"</span>\n",
       "</pre>\n"
      ],
      "text/plain": [
       "Tag \u001b[32m\"\u001b[0m\u001b[1;38;2;202;187;237mhat\u001b[0m\u001b[32m\"\u001b[0m found in caption \u001b[32m\"The fox has green eyes and is wearing a small grey \u001b[0m\u001b[1;38;2;202;187;237mhat\u001b[0m\u001b[32m.\"\u001b[0m\n"
      ]
     },
     "metadata": {},
     "output_type": "display_data"
    },
    {
     "data": {
      "text/html": [
       "<pre style=\"white-space:pre;overflow-x:auto;line-height:normal;font-family:Menlo,'DejaVu Sans Mono',consolas,'Courier New',monospace\">C:\\Users\\kade\\Desktop\\training_dir_staging\\1_furry_sticker\\cd363fa50058989fb9e47cde17599357.txt\n",
       "</pre>\n"
      ],
      "text/plain": [
       "C:\\Users\\kade\\Desktop\\training_dir_staging\\1_furry_sticker\\cd363fa50058989fb9e47cde17599357.txt\n"
      ]
     },
     "metadata": {},
     "output_type": "display_data"
    },
    {
     "data": {
      "text/html": [
       "<pre style=\"white-space:pre;overflow-x:auto;line-height:normal;font-family:Menlo,'DejaVu Sans Mono',consolas,'Courier New',monospace\">Tag <span style=\"color: #008000; text-decoration-color: #008000\">\"</span><span style=\"color: #0990b0; text-decoration-color: #0990b0; font-weight: bold\">fur</span><span style=\"color: #008000; text-decoration-color: #008000\">\"</span> found in caption <span style=\"color: #008000; text-decoration-color: #008000\">\"It has a light purple </span><span style=\"color: #0990b0; text-decoration-color: #0990b0; font-weight: bold\">fur</span><span style=\"color: #008000; text-decoration-color: #008000\"> with large expressive eyes and an open mouth which appears to</span>\n",
       "<span style=\"color: #008000; text-decoration-color: #008000\">be shouting.\"</span>\n",
       "</pre>\n"
      ],
      "text/plain": [
       "Tag \u001b[32m\"\u001b[0m\u001b[1;38;2;9;144;176mfur\u001b[0m\u001b[32m\"\u001b[0m found in caption \u001b[32m\"It has a light purple \u001b[0m\u001b[1;38;2;9;144;176mfur\u001b[0m\u001b[32m with large expressive eyes and an open mouth which appears to\u001b[0m\n",
       "\u001b[32mbe shouting.\"\u001b[0m\n"
      ]
     },
     "metadata": {},
     "output_type": "display_data"
    },
    {
     "data": {
      "text/html": [
       "<pre style=\"white-space:pre;overflow-x:auto;line-height:normal;font-family:Menlo,'DejaVu Sans Mono',consolas,'Courier New',monospace\">C:\\Users\\kade\\Desktop\\training_dir_staging\\1_furry_sticker\\cd363fa50058989fb9e47cde17599357.txt\n",
       "</pre>\n"
      ],
      "text/plain": [
       "C:\\Users\\kade\\Desktop\\training_dir_staging\\1_furry_sticker\\cd363fa50058989fb9e47cde17599357.txt\n"
      ]
     },
     "metadata": {},
     "output_type": "display_data"
    },
    {
     "data": {
      "text/html": [
       "<pre style=\"white-space:pre;overflow-x:auto;line-height:normal;font-family:Menlo,'DejaVu Sans Mono',consolas,'Courier New',monospace\">Tag <span style=\"color: #008000; text-decoration-color: #008000\">\"</span><span style=\"color: #44e061; text-decoration-color: #44e061; font-weight: bold\">open mouth</span><span style=\"color: #008000; text-decoration-color: #008000\">\"</span> found in caption <span style=\"color: #008000; text-decoration-color: #008000\">\"It has a light purple fur with large expressive eyes and an </span><span style=\"color: #44e061; text-decoration-color: #44e061; font-weight: bold\">open mouth</span><span style=\"color: #008000; text-decoration-color: #008000\"> which </span>\n",
       "<span style=\"color: #008000; text-decoration-color: #008000\">appears to be shouting.\"</span>\n",
       "</pre>\n"
      ],
      "text/plain": [
       "Tag \u001b[32m\"\u001b[0m\u001b[1;38;2;68;224;97mopen mouth\u001b[0m\u001b[32m\"\u001b[0m found in caption \u001b[32m\"It has a light purple fur with large expressive eyes and an \u001b[0m\u001b[1;38;2;68;224;97mopen mouth\u001b[0m\u001b[32m which \u001b[0m\n",
       "\u001b[32mappears to be shouting.\"\u001b[0m\n"
      ]
     },
     "metadata": {},
     "output_type": "display_data"
    },
    {
     "data": {
      "text/html": [
       "<pre style=\"white-space:pre;overflow-x:auto;line-height:normal;font-family:Menlo,'DejaVu Sans Mono',consolas,'Courier New',monospace\">C:\\Users\\kade\\Desktop\\training_dir_staging\\1_furry_sticker\\cd363fa50058989fb9e47cde17599357.txt\n",
       "</pre>\n"
      ],
      "text/plain": [
       "C:\\Users\\kade\\Desktop\\training_dir_staging\\1_furry_sticker\\cd363fa50058989fb9e47cde17599357.txt\n"
      ]
     },
     "metadata": {},
     "output_type": "display_data"
    },
    {
     "data": {
      "text/html": [
       "<pre style=\"white-space:pre;overflow-x:auto;line-height:normal;font-family:Menlo,'DejaVu Sans Mono',consolas,'Courier New',monospace\">Tag <span style=\"color: #008000; text-decoration-color: #008000\">\"</span><span style=\"color: #3ffa69; text-decoration-color: #3ffa69; font-weight: bold\">anthro</span><span style=\"color: #008000; text-decoration-color: #008000\">\"</span> found in caption <span style=\"color: #008000; text-decoration-color: #008000\">\"This image is a stylized cartoonish sticker of </span><span style=\"color: #3ffa69; text-decoration-color: #3ffa69; font-weight: bold\">anthro</span><span style=\"color: #008000; text-decoration-color: #008000\"> red panda's face.\"</span>\n",
       "</pre>\n"
      ],
      "text/plain": [
       "Tag \u001b[32m\"\u001b[0m\u001b[1;38;2;63;250;105manthro\u001b[0m\u001b[32m\"\u001b[0m found in caption \u001b[32m\"This image is a stylized cartoonish sticker of \u001b[0m\u001b[1;38;2;63;250;105manthro\u001b[0m\u001b[32m red panda's face.\"\u001b[0m\n"
      ]
     },
     "metadata": {},
     "output_type": "display_data"
    },
    {
     "data": {
      "text/html": [
       "<pre style=\"white-space:pre;overflow-x:auto;line-height:normal;font-family:Menlo,'DejaVu Sans Mono',consolas,'Courier New',monospace\">C:\\Users\\kade\\Desktop\\training_dir_staging\\1_furry_sticker\\cd363fa50058989fb9e47cde17599357.txt\n",
       "</pre>\n"
      ],
      "text/plain": [
       "C:\\Users\\kade\\Desktop\\training_dir_staging\\1_furry_sticker\\cd363fa50058989fb9e47cde17599357.txt\n"
      ]
     },
     "metadata": {},
     "output_type": "display_data"
    },
    {
     "data": {
      "text/html": [
       "<pre style=\"white-space:pre;overflow-x:auto;line-height:normal;font-family:Menlo,'DejaVu Sans Mono',consolas,'Courier New',monospace\">Tag <span style=\"color: #008000; text-decoration-color: #008000\">\"</span><span style=\"color: #114a54; text-decoration-color: #114a54; font-weight: bold\">purple fur</span><span style=\"color: #008000; text-decoration-color: #008000\">\"</span> found in caption <span style=\"color: #008000; text-decoration-color: #008000\">\"It has a light </span><span style=\"color: #114a54; text-decoration-color: #114a54; font-weight: bold\">purple fur</span><span style=\"color: #008000; text-decoration-color: #008000\"> with large expressive eyes and an open mouth which </span>\n",
       "<span style=\"color: #008000; text-decoration-color: #008000\">appears to be shouting.\"</span>\n",
       "</pre>\n"
      ],
      "text/plain": [
       "Tag \u001b[32m\"\u001b[0m\u001b[1;38;2;17;74;84mpurple fur\u001b[0m\u001b[32m\"\u001b[0m found in caption \u001b[32m\"It has a light \u001b[0m\u001b[1;38;2;17;74;84mpurple fur\u001b[0m\u001b[32m with large expressive eyes and an open mouth which \u001b[0m\n",
       "\u001b[32mappears to be shouting.\"\u001b[0m\n"
      ]
     },
     "metadata": {},
     "output_type": "display_data"
    },
    {
     "data": {
      "text/html": [
       "<pre style=\"white-space:pre;overflow-x:auto;line-height:normal;font-family:Menlo,'DejaVu Sans Mono',consolas,'Courier New',monospace\">C:\\Users\\kade\\Desktop\\training_dir_staging\\1_furry_sticker\\f1ff847532e185a197af2f14a1fba805.txt\n",
       "</pre>\n"
      ],
      "text/plain": [
       "C:\\Users\\kade\\Desktop\\training_dir_staging\\1_furry_sticker\\f1ff847532e185a197af2f14a1fba805.txt\n"
      ]
     },
     "metadata": {},
     "output_type": "display_data"
    },
    {
     "data": {
      "text/html": [
       "<pre style=\"white-space:pre;overflow-x:auto;line-height:normal;font-family:Menlo,'DejaVu Sans Mono',consolas,'Courier New',monospace\">Tag <span style=\"color: #008000; text-decoration-color: #008000\">\"</span><span style=\"color: #c7acb9; text-decoration-color: #c7acb9; font-weight: bold\">snow leopard</span><span style=\"color: #008000; text-decoration-color: #008000\">\"</span> found in caption <span style=\"color: #008000; text-decoration-color: #008000\">\"This image is a sticker featuring a cartoonish anthro </span><span style=\"color: #c7acb9; text-decoration-color: #c7acb9; font-weight: bold\">snow leopard</span><span style=\"color: #008000; text-decoration-color: #008000\">.\"</span>\n",
       "</pre>\n"
      ],
      "text/plain": [
       "Tag \u001b[32m\"\u001b[0m\u001b[1;38;2;199;172;185msnow leopard\u001b[0m\u001b[32m\"\u001b[0m found in caption \u001b[32m\"This image is a sticker featuring a cartoonish anthro \u001b[0m\u001b[1;38;2;199;172;185msnow leopard\u001b[0m\u001b[32m.\"\u001b[0m\n"
      ]
     },
     "metadata": {},
     "output_type": "display_data"
    },
    {
     "data": {
      "text/html": [
       "<pre style=\"white-space:pre;overflow-x:auto;line-height:normal;font-family:Menlo,'DejaVu Sans Mono',consolas,'Courier New',monospace\">C:\\Users\\kade\\Desktop\\training_dir_staging\\1_furry_sticker\\f1ff847532e185a197af2f14a1fba805.txt\n",
       "</pre>\n"
      ],
      "text/plain": [
       "C:\\Users\\kade\\Desktop\\training_dir_staging\\1_furry_sticker\\f1ff847532e185a197af2f14a1fba805.txt\n"
      ]
     },
     "metadata": {},
     "output_type": "display_data"
    },
    {
     "data": {
      "text/html": [
       "<pre style=\"white-space:pre;overflow-x:auto;line-height:normal;font-family:Menlo,'DejaVu Sans Mono',consolas,'Courier New',monospace\">Tag <span style=\"color: #008000; text-decoration-color: #008000\">\"</span><span style=\"color: #a24d22; text-decoration-color: #a24d22; font-weight: bold\">fur</span><span style=\"color: #008000; text-decoration-color: #008000\">\"</span> found in caption <span style=\"color: #008000; text-decoration-color: #008000\">\"It has gray </span><span style=\"color: #a24d22; text-decoration-color: #a24d22; font-weight: bold\">fur</span><span style=\"color: #008000; text-decoration-color: #008000\"> with black spots and blue hair.\"</span>\n",
       "</pre>\n"
      ],
      "text/plain": [
       "Tag \u001b[32m\"\u001b[0m\u001b[1;38;2;162;77;34mfur\u001b[0m\u001b[32m\"\u001b[0m found in caption \u001b[32m\"It has gray \u001b[0m\u001b[1;38;2;162;77;34mfur\u001b[0m\u001b[32m with black spots and blue hair.\"\u001b[0m\n"
      ]
     },
     "metadata": {},
     "output_type": "display_data"
    },
    {
     "data": {
      "text/html": [
       "<pre style=\"white-space:pre;overflow-x:auto;line-height:normal;font-family:Menlo,'DejaVu Sans Mono',consolas,'Courier New',monospace\">C:\\Users\\kade\\Desktop\\training_dir_staging\\1_furry_sticker\\f1ff847532e185a197af2f14a1fba805.txt\n",
       "</pre>\n"
      ],
      "text/plain": [
       "C:\\Users\\kade\\Desktop\\training_dir_staging\\1_furry_sticker\\f1ff847532e185a197af2f14a1fba805.txt\n"
      ]
     },
     "metadata": {},
     "output_type": "display_data"
    },
    {
     "data": {
      "text/html": [
       "<pre style=\"white-space:pre;overflow-x:auto;line-height:normal;font-family:Menlo,'DejaVu Sans Mono',consolas,'Courier New',monospace\">Tag <span style=\"color: #008000; text-decoration-color: #008000\">\"</span><span style=\"color: #4d94b1; text-decoration-color: #4d94b1; font-weight: bold\">text</span><span style=\"color: #008000; text-decoration-color: #008000\">\"</span> found in caption <span style=\"color: #008000; text-decoration-color: #008000\">\"The speech bubble's background is white and the </span><span style=\"color: #4d94b1; text-decoration-color: #4d94b1; font-weight: bold\">text</span><span style=\"color: #008000; text-decoration-color: #008000\"> 'MOW!' is written in large bold </span>\n",
       "<span style=\"color: #008000; text-decoration-color: #008000\">black letters.\"</span>\n",
       "</pre>\n"
      ],
      "text/plain": [
       "Tag \u001b[32m\"\u001b[0m\u001b[1;38;2;77;148;177mtext\u001b[0m\u001b[32m\"\u001b[0m found in caption \u001b[32m\"The speech bubble's background is white and the \u001b[0m\u001b[1;38;2;77;148;177mtext\u001b[0m\u001b[32m 'MOW!' is written in large bold \u001b[0m\n",
       "\u001b[32mblack letters.\"\u001b[0m\n"
      ]
     },
     "metadata": {},
     "output_type": "display_data"
    },
    {
     "data": {
      "text/html": [
       "<pre style=\"white-space:pre;overflow-x:auto;line-height:normal;font-family:Menlo,'DejaVu Sans Mono',consolas,'Courier New',monospace\">C:\\Users\\kade\\Desktop\\training_dir_staging\\1_furry_sticker\\f1ff847532e185a197af2f14a1fba805.txt\n",
       "</pre>\n"
      ],
      "text/plain": [
       "C:\\Users\\kade\\Desktop\\training_dir_staging\\1_furry_sticker\\f1ff847532e185a197af2f14a1fba805.txt\n"
      ]
     },
     "metadata": {},
     "output_type": "display_data"
    },
    {
     "data": {
      "text/html": [
       "<pre style=\"white-space:pre;overflow-x:auto;line-height:normal;font-family:Menlo,'DejaVu Sans Mono',consolas,'Courier New',monospace\">Tag <span style=\"color: #008000; text-decoration-color: #008000\">\"</span><span style=\"color: #ae65a7; text-decoration-color: #ae65a7; font-weight: bold\">hair</span><span style=\"color: #008000; text-decoration-color: #008000\">\"</span> found in caption <span style=\"color: #008000; text-decoration-color: #008000\">\"It has gray fur with black spots and blue </span><span style=\"color: #ae65a7; text-decoration-color: #ae65a7; font-weight: bold\">hair</span><span style=\"color: #008000; text-decoration-color: #008000\">.\"</span>\n",
       "</pre>\n"
      ],
      "text/plain": [
       "Tag \u001b[32m\"\u001b[0m\u001b[1;38;2;174;101;167mhair\u001b[0m\u001b[32m\"\u001b[0m found in caption \u001b[32m\"It has gray fur with black spots and blue \u001b[0m\u001b[1;38;2;174;101;167mhair\u001b[0m\u001b[32m.\"\u001b[0m\n"
      ]
     },
     "metadata": {},
     "output_type": "display_data"
    },
    {
     "data": {
      "text/html": [
       "<pre style=\"white-space:pre;overflow-x:auto;line-height:normal;font-family:Menlo,'DejaVu Sans Mono',consolas,'Courier New',monospace\">C:\\Users\\kade\\Desktop\\training_dir_staging\\1_furry_sticker\\f1ff847532e185a197af2f14a1fba805.txt\n",
       "</pre>\n"
      ],
      "text/plain": [
       "C:\\Users\\kade\\Desktop\\training_dir_staging\\1_furry_sticker\\f1ff847532e185a197af2f14a1fba805.txt\n"
      ]
     },
     "metadata": {},
     "output_type": "display_data"
    },
    {
     "data": {
      "text/html": [
       "<pre style=\"white-space:pre;overflow-x:auto;line-height:normal;font-family:Menlo,'DejaVu Sans Mono',consolas,'Courier New',monospace\">Tag <span style=\"color: #008000; text-decoration-color: #008000\">\"</span><span style=\"color: #fef20d; text-decoration-color: #fef20d; font-weight: bold\">blue hair</span><span style=\"color: #008000; text-decoration-color: #008000\">\"</span> found in caption <span style=\"color: #008000; text-decoration-color: #008000\">\"It has gray fur with black spots and </span><span style=\"color: #fef20d; text-decoration-color: #fef20d; font-weight: bold\">blue hair</span><span style=\"color: #008000; text-decoration-color: #008000\">.\"</span>\n",
       "</pre>\n"
      ],
      "text/plain": [
       "Tag \u001b[32m\"\u001b[0m\u001b[1;38;2;254;242;13mblue hair\u001b[0m\u001b[32m\"\u001b[0m found in caption \u001b[32m\"It has gray fur with black spots and \u001b[0m\u001b[1;38;2;254;242;13mblue hair\u001b[0m\u001b[32m.\"\u001b[0m\n"
      ]
     },
     "metadata": {},
     "output_type": "display_data"
    },
    {
     "data": {
      "text/html": [
       "<pre style=\"white-space:pre;overflow-x:auto;line-height:normal;font-family:Menlo,'DejaVu Sans Mono',consolas,'Courier New',monospace\">C:\\Users\\kade\\Desktop\\training_dir_staging\\1_furry_sticker\\f9468ada1a62410d8d0891cabe0c538a.txt\n",
       "</pre>\n"
      ],
      "text/plain": [
       "C:\\Users\\kade\\Desktop\\training_dir_staging\\1_furry_sticker\\f9468ada1a62410d8d0891cabe0c538a.txt\n"
      ]
     },
     "metadata": {},
     "output_type": "display_data"
    },
    {
     "data": {
      "text/html": [
       "<pre style=\"white-space:pre;overflow-x:auto;line-height:normal;font-family:Menlo,'DejaVu Sans Mono',consolas,'Courier New',monospace\">Tag <span style=\"color: #008000; text-decoration-color: #008000\">\"</span><span style=\"color: #87e4ee; text-decoration-color: #87e4ee; font-weight: bold\">fox</span><span style=\"color: #008000; text-decoration-color: #008000\">\"</span> found in caption <span style=\"color: #008000; text-decoration-color: #008000\">\"This image is an illustration of anthro </span><span style=\"color: #87e4ee; text-decoration-color: #87e4ee; font-weight: bold\">fox</span><span style=\"color: #008000; text-decoration-color: #008000\"> with a blue hair on its head.\"</span>\n",
       "</pre>\n"
      ],
      "text/plain": [
       "Tag \u001b[32m\"\u001b[0m\u001b[1;38;2;135;228;238mfox\u001b[0m\u001b[32m\"\u001b[0m found in caption \u001b[32m\"This image is an illustration of anthro \u001b[0m\u001b[1;38;2;135;228;238mfox\u001b[0m\u001b[32m with a blue hair on its head.\"\u001b[0m\n"
      ]
     },
     "metadata": {},
     "output_type": "display_data"
    },
    {
     "data": {
      "text/html": [
       "<pre style=\"white-space:pre;overflow-x:auto;line-height:normal;font-family:Menlo,'DejaVu Sans Mono',consolas,'Courier New',monospace\">C:\\Users\\kade\\Desktop\\training_dir_staging\\1_furry_sticker\\f9468ada1a62410d8d0891cabe0c538a.txt\n",
       "</pre>\n"
      ],
      "text/plain": [
       "C:\\Users\\kade\\Desktop\\training_dir_staging\\1_furry_sticker\\f9468ada1a62410d8d0891cabe0c538a.txt\n"
      ]
     },
     "metadata": {},
     "output_type": "display_data"
    },
    {
     "data": {
      "text/html": [
       "<pre style=\"white-space:pre;overflow-x:auto;line-height:normal;font-family:Menlo,'DejaVu Sans Mono',consolas,'Courier New',monospace\">Tag <span style=\"color: #008000; text-decoration-color: #008000\">\"</span><span style=\"color: #06120b; text-decoration-color: #06120b; font-weight: bold\">fox</span><span style=\"color: #008000; text-decoration-color: #008000\">\"</span> found in caption <span style=\"color: #008000; text-decoration-color: #008000\">\"The </span><span style=\"color: #06120b; text-decoration-color: #06120b; font-weight: bold\">fox</span><span style=\"color: #008000; text-decoration-color: #008000\"> has a large tail that is half red and half white.\"</span>\n",
       "</pre>\n"
      ],
      "text/plain": [
       "Tag \u001b[32m\"\u001b[0m\u001b[1;38;2;6;18;11mfox\u001b[0m\u001b[32m\"\u001b[0m found in caption \u001b[32m\"The \u001b[0m\u001b[1;38;2;6;18;11mfox\u001b[0m\u001b[32m has a large tail that is half red and half white.\"\u001b[0m\n"
      ]
     },
     "metadata": {},
     "output_type": "display_data"
    },
    {
     "data": {
      "text/html": [
       "<pre style=\"white-space:pre;overflow-x:auto;line-height:normal;font-family:Menlo,'DejaVu Sans Mono',consolas,'Courier New',monospace\">C:\\Users\\kade\\Desktop\\training_dir_staging\\1_furry_sticker\\f9468ada1a62410d8d0891cabe0c538a.txt\n",
       "</pre>\n"
      ],
      "text/plain": [
       "C:\\Users\\kade\\Desktop\\training_dir_staging\\1_furry_sticker\\f9468ada1a62410d8d0891cabe0c538a.txt\n"
      ]
     },
     "metadata": {},
     "output_type": "display_data"
    },
    {
     "data": {
      "text/html": [
       "<pre style=\"white-space:pre;overflow-x:auto;line-height:normal;font-family:Menlo,'DejaVu Sans Mono',consolas,'Courier New',monospace\">Tag <span style=\"color: #008000; text-decoration-color: #008000\">\"</span><span style=\"color: #71729f; text-decoration-color: #71729f; font-weight: bold\">anthro</span><span style=\"color: #008000; text-decoration-color: #008000\">\"</span> found in caption <span style=\"color: #008000; text-decoration-color: #008000\">\"This image is an illustration of </span><span style=\"color: #71729f; text-decoration-color: #71729f; font-weight: bold\">anthro</span><span style=\"color: #008000; text-decoration-color: #008000\"> fox with a blue hair on its head.\"</span>\n",
       "</pre>\n"
      ],
      "text/plain": [
       "Tag \u001b[32m\"\u001b[0m\u001b[1;38;2;113;114;159manthro\u001b[0m\u001b[32m\"\u001b[0m found in caption \u001b[32m\"This image is an illustration of \u001b[0m\u001b[1;38;2;113;114;159manthro\u001b[0m\u001b[32m fox with a blue hair on its head.\"\u001b[0m\n"
      ]
     },
     "metadata": {},
     "output_type": "display_data"
    },
    {
     "data": {
      "text/html": [
       "<pre style=\"white-space:pre;overflow-x:auto;line-height:normal;font-family:Menlo,'DejaVu Sans Mono',consolas,'Courier New',monospace\">C:\\Users\\kade\\Desktop\\training_dir_staging\\1_furry_sticker\\f9468ada1a62410d8d0891cabe0c538a.txt\n",
       "</pre>\n"
      ],
      "text/plain": [
       "C:\\Users\\kade\\Desktop\\training_dir_staging\\1_furry_sticker\\f9468ada1a62410d8d0891cabe0c538a.txt\n"
      ]
     },
     "metadata": {},
     "output_type": "display_data"
    },
    {
     "data": {
      "text/html": [
       "<pre style=\"white-space:pre;overflow-x:auto;line-height:normal;font-family:Menlo,'DejaVu Sans Mono',consolas,'Courier New',monospace\">Tag <span style=\"color: #008000; text-decoration-color: #008000\">\"</span><span style=\"color: #9a6931; text-decoration-color: #9a6931; font-weight: bold\">headphones</span><span style=\"color: #008000; text-decoration-color: #008000\">\"</span> found in caption <span style=\"color: #008000; text-decoration-color: #008000\">\"The character is wearing </span><span style=\"color: #9a6931; text-decoration-color: #9a6931; font-weight: bold\">headphones</span><span style=\"color: #008000; text-decoration-color: #008000\"> of which only one is visible.\"</span>\n",
       "</pre>\n"
      ],
      "text/plain": [
       "Tag \u001b[32m\"\u001b[0m\u001b[1;38;2;154;105;49mheadphones\u001b[0m\u001b[32m\"\u001b[0m found in caption \u001b[32m\"The character is wearing \u001b[0m\u001b[1;38;2;154;105;49mheadphones\u001b[0m\u001b[32m of which only one is visible.\"\u001b[0m\n"
      ]
     },
     "metadata": {},
     "output_type": "display_data"
    },
    {
     "data": {
      "text/html": [
       "<pre style=\"white-space:pre;overflow-x:auto;line-height:normal;font-family:Menlo,'DejaVu Sans Mono',consolas,'Courier New',monospace\">C:\\Users\\kade\\Desktop\\training_dir_staging\\1_furry_sticker\\f9468ada1a62410d8d0891cabe0c538a.txt\n",
       "</pre>\n"
      ],
      "text/plain": [
       "C:\\Users\\kade\\Desktop\\training_dir_staging\\1_furry_sticker\\f9468ada1a62410d8d0891cabe0c538a.txt\n"
      ]
     },
     "metadata": {},
     "output_type": "display_data"
    },
    {
     "data": {
      "text/html": [
       "<pre style=\"white-space:pre;overflow-x:auto;line-height:normal;font-family:Menlo,'DejaVu Sans Mono',consolas,'Courier New',monospace\">Tag <span style=\"color: #008000; text-decoration-color: #008000\">\"</span><span style=\"color: #6904de; text-decoration-color: #6904de; font-weight: bold\">blue hair</span><span style=\"color: #008000; text-decoration-color: #008000\">\"</span> found in caption <span style=\"color: #008000; text-decoration-color: #008000\">\"This image is an illustration of anthro fox with a </span><span style=\"color: #6904de; text-decoration-color: #6904de; font-weight: bold\">blue hair</span><span style=\"color: #008000; text-decoration-color: #008000\"> on its head.\"</span>\n",
       "</pre>\n"
      ],
      "text/plain": [
       "Tag \u001b[32m\"\u001b[0m\u001b[1;38;2;105;4;222mblue hair\u001b[0m\u001b[32m\"\u001b[0m found in caption \u001b[32m\"This image is an illustration of anthro fox with a \u001b[0m\u001b[1;38;2;105;4;222mblue hair\u001b[0m\u001b[32m on its head.\"\u001b[0m\n"
      ]
     },
     "metadata": {},
     "output_type": "display_data"
    },
    {
     "data": {
      "text/html": [
       "<pre style=\"white-space:pre;overflow-x:auto;line-height:normal;font-family:Menlo,'DejaVu Sans Mono',consolas,'Courier New',monospace\">C:\\Users\\kade\\Desktop\\training_dir_staging\\1_furry_sticker\\f9468ada1a62410d8d0891cabe0c538a.txt\n",
       "</pre>\n"
      ],
      "text/plain": [
       "C:\\Users\\kade\\Desktop\\training_dir_staging\\1_furry_sticker\\f9468ada1a62410d8d0891cabe0c538a.txt\n"
      ]
     },
     "metadata": {},
     "output_type": "display_data"
    },
    {
     "data": {
      "text/html": [
       "<pre style=\"white-space:pre;overflow-x:auto;line-height:normal;font-family:Menlo,'DejaVu Sans Mono',consolas,'Courier New',monospace\">Tag <span style=\"color: #008000; text-decoration-color: #008000\">\"</span><span style=\"color: #40b5ea; text-decoration-color: #40b5ea; font-weight: bold\">surprise</span><span style=\"color: #008000; text-decoration-color: #008000\">\"</span> found in caption <span style=\"color: #008000; text-decoration-color: #008000\">\"The character is in a </span><span style=\"color: #40b5ea; text-decoration-color: #40b5ea; font-weight: bold\">surprise</span><span style=\"color: #008000; text-decoration-color: #008000\">d and startled pose.\"</span>\n",
       "</pre>\n"
      ],
      "text/plain": [
       "Tag \u001b[32m\"\u001b[0m\u001b[1;38;2;64;181;234msurprise\u001b[0m\u001b[32m\"\u001b[0m found in caption \u001b[32m\"The character is in a \u001b[0m\u001b[1;38;2;64;181;234msurprise\u001b[0m\u001b[32md and startled pose.\"\u001b[0m\n"
      ]
     },
     "metadata": {},
     "output_type": "display_data"
    },
    {
     "data": {
      "text/html": [
       "<pre style=\"white-space:pre;overflow-x:auto;line-height:normal;font-family:Menlo,'DejaVu Sans Mono',consolas,'Courier New',monospace\">C:\\Users\\kade\\Desktop\\training_dir_staging\\1_furry_sticker\\f9468ada1a62410d8d0891cabe0c538a.txt\n",
       "</pre>\n"
      ],
      "text/plain": [
       "C:\\Users\\kade\\Desktop\\training_dir_staging\\1_furry_sticker\\f9468ada1a62410d8d0891cabe0c538a.txt\n"
      ]
     },
     "metadata": {},
     "output_type": "display_data"
    },
    {
     "data": {
      "text/html": [
       "<pre style=\"white-space:pre;overflow-x:auto;line-height:normal;font-family:Menlo,'DejaVu Sans Mono',consolas,'Courier New',monospace\">Tag <span style=\"color: #008000; text-decoration-color: #008000\">\"</span><span style=\"color: #71fdf1; text-decoration-color: #71fdf1; font-weight: bold\">tail</span><span style=\"color: #008000; text-decoration-color: #008000\">\"</span> found in caption <span style=\"color: #008000; text-decoration-color: #008000\">\"The fox has a large </span><span style=\"color: #71fdf1; text-decoration-color: #71fdf1; font-weight: bold\">tail</span><span style=\"color: #008000; text-decoration-color: #008000\"> that is half red and half white.\"</span>\n",
       "</pre>\n"
      ],
      "text/plain": [
       "Tag \u001b[32m\"\u001b[0m\u001b[1;38;2;113;253;241mtail\u001b[0m\u001b[32m\"\u001b[0m found in caption \u001b[32m\"The fox has a large \u001b[0m\u001b[1;38;2;113;253;241mtail\u001b[0m\u001b[32m that is half red and half white.\"\u001b[0m\n"
      ]
     },
     "metadata": {},
     "output_type": "display_data"
    },
    {
     "data": {
      "text/html": [
       "<pre style=\"white-space:pre;overflow-x:auto;line-height:normal;font-family:Menlo,'DejaVu Sans Mono',consolas,'Courier New',monospace\">C:\\Users\\kade\\Desktop\\training_dir_staging\\1_furry_sticker\\f9468ada1a62410d8d0891cabe0c538a.txt\n",
       "</pre>\n"
      ],
      "text/plain": [
       "C:\\Users\\kade\\Desktop\\training_dir_staging\\1_furry_sticker\\f9468ada1a62410d8d0891cabe0c538a.txt\n"
      ]
     },
     "metadata": {},
     "output_type": "display_data"
    },
    {
     "data": {
      "text/html": [
       "<pre style=\"white-space:pre;overflow-x:auto;line-height:normal;font-family:Menlo,'DejaVu Sans Mono',consolas,'Courier New',monospace\">Tag <span style=\"color: #008000; text-decoration-color: #008000\">\"</span><span style=\"color: #7b95cd; text-decoration-color: #7b95cd; font-weight: bold\">hair</span><span style=\"color: #008000; text-decoration-color: #008000\">\"</span> found in caption <span style=\"color: #008000; text-decoration-color: #008000\">\"This image is an illustration of anthro fox with a blue </span><span style=\"color: #7b95cd; text-decoration-color: #7b95cd; font-weight: bold\">hair</span><span style=\"color: #008000; text-decoration-color: #008000\"> on its head.\"</span>\n",
       "</pre>\n"
      ],
      "text/plain": [
       "Tag \u001b[32m\"\u001b[0m\u001b[1;38;2;123;149;205mhair\u001b[0m\u001b[32m\"\u001b[0m found in caption \u001b[32m\"This image is an illustration of anthro fox with a blue \u001b[0m\u001b[1;38;2;123;149;205mhair\u001b[0m\u001b[32m on its head.\"\u001b[0m\n"
      ]
     },
     "metadata": {},
     "output_type": "display_data"
    }
   ],
   "source": [
    "import os\n",
    "import random\n",
    "from rich import print\n",
    "from rich.console import Console\n",
    "from rich.style import Style\n",
    "from rich.color import Color\n",
    "\n",
    "def find_files(path, extension):\n",
    "    for root, dirs, files in os.walk(path):\n",
    "        for file in files:\n",
    "            if file.endswith(extension):\n",
    "                yield os.path.join(root, file)\n",
    "\n",
    "def process_file(file_path):\n",
    "    console = Console()\n",
    "    with open(file_path, 'r') as file:\n",
    "        content = file.read()\n",
    "        elements = content.split(',')\n",
    "        captions = [element.strip() for element in elements if '.' in element]\n",
    "        tags = [element.strip() for element in elements if '.' not in element and element.strip() != '']\n",
    "        for tag in tags:\n",
    "            for caption in captions:\n",
    "                if tag in caption:\n",
    "                    print(file_path)\n",
    "                    color = Color.from_rgb(random.randint(0, 255), random.randint(0, 255), random.randint(0, 255))\n",
    "                    style = Style(color=color, bold=True)\n",
    "                    highlighted_caption = caption.replace(tag, f\"[{style}]{tag}[/{style}]\")\n",
    "                    console.print(f'Tag \"[{style}]{tag}[/{style}]\" found in caption \"{highlighted_caption}\"')\n",
    "\n",
    "def main():\n",
    "    path = 'C:\\\\Users\\\\kade\\\\Desktop\\\\training_dir_staging'\n",
    "    for file_path in find_files(path, '.txt'):\n",
    "        console = Console()\n",
    "        process_file(file_path)\n",
    "\n",
    "if __name__ == \"__main__\":\n",
    "    main()"
   ]
  }
 ],
 "metadata": {
  "kernelspec": {
   "display_name": "base",
   "language": "python",
   "name": "python3"
  },
  "language_info": {
   "codemirror_mode": {
    "name": "ipython",
    "version": 3
   },
   "file_extension": ".py",
   "mimetype": "text/x-python",
   "name": "python",
   "nbconvert_exporter": "python",
   "pygments_lexer": "ipython3",
   "version": "3.12.2"
  }
 },
 "nbformat": 4,
 "nbformat_minor": 2
}
