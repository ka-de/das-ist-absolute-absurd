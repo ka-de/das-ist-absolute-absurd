{
 "cells": [
  {
   "cell_type": "markdown",
   "metadata": {},
   "source": [
    "## Check for Duplicate Words Between Captions and Tags\n",
    "----\n",
    "\n",
    "Awoo"
   ]
  },
  {
   "cell_type": "code",
   "execution_count": 21,
   "metadata": {},
   "outputs": [
    {
     "data": {
      "text/html": [
       "<pre style=\"white-space:pre;overflow-x:auto;line-height:normal;font-family:Menlo,'DejaVu Sans Mono',consolas,'Courier New',monospace\">\n",
       "<span style=\"font-weight: bold\">C:\\Users\\kade\\Desktop\\training_dir_staging\\1_furry_sticker\\0ad753093ae60a8b9b2aab24b81b3f3d.txt</span>\n",
       "\n",
       "</pre>\n"
      ],
      "text/plain": [
       "\n",
       "\u001b[1mC:\\Users\\kade\\Desktop\\training_dir_staging\\1_furry_sticker\\0ad753093ae60a8b9b2aab24b81b3f3d.txt\u001b[0m\n",
       "\n"
      ]
     },
     "metadata": {},
     "output_type": "display_data"
    },
    {
     "data": {
      "text/html": [
       "<pre style=\"white-space:pre;overflow-x:auto;line-height:normal;font-family:Menlo,'DejaVu Sans Mono',consolas,'Courier New',monospace\">Tag <span style=\"color: #008000; text-decoration-color: #008000\">\"</span><span style=\"color: #77099f; text-decoration-color: #77099f; font-weight: bold\">black background</span><span style=\"color: #008000; text-decoration-color: #008000\">\"</span> found in caption <span style=\"color: #008000; text-decoration-color: #008000\">\"The entire image has a </span><span style=\"color: #77099f; text-decoration-color: #77099f; font-weight: bold\">black background</span><span style=\"color: #008000; text-decoration-color: #008000\"> with a white outline around the </span>\n",
       "<span style=\"color: #008000; text-decoration-color: #008000\">character and the texts.\"</span>\n",
       "</pre>\n"
      ],
      "text/plain": [
       "Tag \u001b[32m\"\u001b[0m\u001b[1;38;2;119;9;159mblack background\u001b[0m\u001b[32m\"\u001b[0m found in caption \u001b[32m\"The entire image has a \u001b[0m\u001b[1;38;2;119;9;159mblack background\u001b[0m\u001b[32m with a white outline around the \u001b[0m\n",
       "\u001b[32mcharacter and the texts.\"\u001b[0m\n"
      ]
     },
     "metadata": {},
     "output_type": "display_data"
    },
    {
     "data": {
      "text/html": [
       "<pre style=\"white-space:pre;overflow-x:auto;line-height:normal;font-family:Menlo,'DejaVu Sans Mono',consolas,'Courier New',monospace\">Tag <span style=\"color: #008000; text-decoration-color: #008000\">\"</span><span style=\"color: #a388d4; text-decoration-color: #a388d4; font-weight: bold\">anthro</span><span style=\"color: #008000; text-decoration-color: #008000\">\"</span> found in caption <span style=\"color: #008000; text-decoration-color: #008000\">\"The image showcases </span><span style=\"color: #a388d4; text-decoration-color: #a388d4; font-weight: bold\">anthro</span><span style=\"color: #008000; text-decoration-color: #008000\"> black panther with dark black spots and large yellow </span>\n",
       "<span style=\"color: #008000; text-decoration-color: #008000\">eyes.\"</span>\n",
       "</pre>\n"
      ],
      "text/plain": [
       "Tag \u001b[32m\"\u001b[0m\u001b[1;38;2;163;136;212manthro\u001b[0m\u001b[32m\"\u001b[0m found in caption \u001b[32m\"The image showcases \u001b[0m\u001b[1;38;2;163;136;212manthro\u001b[0m\u001b[32m black panther with dark black spots and large yellow \u001b[0m\n",
       "\u001b[32meyes.\"\u001b[0m\n"
      ]
     },
     "metadata": {},
     "output_type": "display_data"
    },
    {
     "data": {
      "text/html": [
       "<pre style=\"white-space:pre;overflow-x:auto;line-height:normal;font-family:Menlo,'DejaVu Sans Mono',consolas,'Courier New',monospace\">\n",
       "<span style=\"font-weight: bold\">C:\\Users\\kade\\Desktop\\training_dir_staging\\1_furry_sticker\\0d281d07dfc997a5b1037939ccd33eca.txt</span>\n",
       "\n",
       "</pre>\n"
      ],
      "text/plain": [
       "\n",
       "\u001b[1mC:\\Users\\kade\\Desktop\\training_dir_staging\\1_furry_sticker\\0d281d07dfc997a5b1037939ccd33eca.txt\u001b[0m\n",
       "\n"
      ]
     },
     "metadata": {},
     "output_type": "display_data"
    },
    {
     "data": {
      "text/html": [
       "<pre style=\"white-space:pre;overflow-x:auto;line-height:normal;font-family:Menlo,'DejaVu Sans Mono',consolas,'Courier New',monospace\">Tag <span style=\"color: #008000; text-decoration-color: #008000\">\"</span><span style=\"color: #aa176f; text-decoration-color: #aa176f; font-weight: bold\">furry sticker</span><span style=\"color: #008000; text-decoration-color: #008000\">\"</span> found in caption <span style=\"color: #008000; text-decoration-color: #008000\">\"This image is a </span><span style=\"color: #aa176f; text-decoration-color: #aa176f; font-weight: bold\">furry sticker</span><span style=\"color: #008000; text-decoration-color: #008000\"> of anthro german shepherd dog with a humorous </span>\n",
       "<span style=\"color: #008000; text-decoration-color: #008000\">expression.\"</span>\n",
       "</pre>\n"
      ],
      "text/plain": [
       "Tag \u001b[32m\"\u001b[0m\u001b[1;38;2;170;23;111mfurry sticker\u001b[0m\u001b[32m\"\u001b[0m found in caption \u001b[32m\"This image is a \u001b[0m\u001b[1;38;2;170;23;111mfurry sticker\u001b[0m\u001b[32m of anthro german shepherd dog with a humorous \u001b[0m\n",
       "\u001b[32mexpression.\"\u001b[0m\n"
      ]
     },
     "metadata": {},
     "output_type": "display_data"
    },
    {
     "data": {
      "text/html": [
       "<pre style=\"white-space:pre;overflow-x:auto;line-height:normal;font-family:Menlo,'DejaVu Sans Mono',consolas,'Courier New',monospace\">Tag <span style=\"color: #008000; text-decoration-color: #008000\">\"</span><span style=\"color: #75141e; text-decoration-color: #75141e; font-weight: bold\">german shepherd</span><span style=\"color: #008000; text-decoration-color: #008000\">\"</span> found in caption <span style=\"color: #008000; text-decoration-color: #008000\">\"This image is a furry sticker of anthro </span><span style=\"color: #75141e; text-decoration-color: #75141e; font-weight: bold\">german shepherd</span><span style=\"color: #008000; text-decoration-color: #008000\"> dog with a humorous</span>\n",
       "<span style=\"color: #008000; text-decoration-color: #008000\">expression.\"</span>\n",
       "</pre>\n"
      ],
      "text/plain": [
       "Tag \u001b[32m\"\u001b[0m\u001b[1;38;2;117;20;30mgerman shepherd\u001b[0m\u001b[32m\"\u001b[0m found in caption \u001b[32m\"This image is a furry sticker of anthro \u001b[0m\u001b[1;38;2;117;20;30mgerman shepherd\u001b[0m\u001b[32m dog with a humorous\u001b[0m\n",
       "\u001b[32mexpression.\"\u001b[0m\n"
      ]
     },
     "metadata": {},
     "output_type": "display_data"
    },
    {
     "data": {
      "text/html": [
       "<pre style=\"white-space:pre;overflow-x:auto;line-height:normal;font-family:Menlo,'DejaVu Sans Mono',consolas,'Courier New',monospace\">Tag <span style=\"color: #008000; text-decoration-color: #008000\">\"</span><span style=\"color: #dd040d; text-decoration-color: #dd040d; font-weight: bold\">canine</span><span style=\"color: #008000; text-decoration-color: #008000\">\"</span> found in caption <span style=\"color: #008000; text-decoration-color: #008000\">\"The </span><span style=\"color: #dd040d; text-decoration-color: #dd040d; font-weight: bold\">canine</span><span style=\"color: #008000; text-decoration-color: #008000\"> appears to be shrugging with its paws raised and wearing dog tag.\"</span>\n",
       "</pre>\n"
      ],
      "text/plain": [
       "Tag \u001b[32m\"\u001b[0m\u001b[1;38;2;221;4;13mcanine\u001b[0m\u001b[32m\"\u001b[0m found in caption \u001b[32m\"The \u001b[0m\u001b[1;38;2;221;4;13mcanine\u001b[0m\u001b[32m appears to be shrugging with its paws raised and wearing dog tag.\"\u001b[0m\n"
      ]
     },
     "metadata": {},
     "output_type": "display_data"
    },
    {
     "data": {
      "text/html": [
       "<pre style=\"white-space:pre;overflow-x:auto;line-height:normal;font-family:Menlo,'DejaVu Sans Mono',consolas,'Courier New',monospace\">Tag <span style=\"color: #008000; text-decoration-color: #008000\">\"</span><span style=\"color: #cba4cf; text-decoration-color: #cba4cf; font-weight: bold\">anthro</span><span style=\"color: #008000; text-decoration-color: #008000\">\"</span> found in caption <span style=\"color: #008000; text-decoration-color: #008000\">\"This image is a furry sticker of </span><span style=\"color: #cba4cf; text-decoration-color: #cba4cf; font-weight: bold\">anthro</span><span style=\"color: #008000; text-decoration-color: #008000\"> german shepherd dog with a humorous </span>\n",
       "<span style=\"color: #008000; text-decoration-color: #008000\">expression.\"</span>\n",
       "</pre>\n"
      ],
      "text/plain": [
       "Tag \u001b[32m\"\u001b[0m\u001b[1;38;2;203;164;207manthro\u001b[0m\u001b[32m\"\u001b[0m found in caption \u001b[32m\"This image is a furry sticker of \u001b[0m\u001b[1;38;2;203;164;207manthro\u001b[0m\u001b[32m german shepherd dog with a humorous \u001b[0m\n",
       "\u001b[32mexpression.\"\u001b[0m\n"
      ]
     },
     "metadata": {},
     "output_type": "display_data"
    },
    {
     "data": {
      "text/html": [
       "<pre style=\"white-space:pre;overflow-x:auto;line-height:normal;font-family:Menlo,'DejaVu Sans Mono',consolas,'Courier New',monospace\">Tag <span style=\"color: #008000; text-decoration-color: #008000\">\"</span><span style=\"color: #252ae0; text-decoration-color: #252ae0; font-weight: bold\">outline</span><span style=\"color: #008000; text-decoration-color: #008000\">\"</span> found in caption <span style=\"color: #008000; text-decoration-color: #008000\">\"The character and the speech bubble has a white </span><span style=\"color: #252ae0; text-decoration-color: #252ae0; font-weight: bold\">outline</span><span style=\"color: #008000; text-decoration-color: #008000\"> around them.\"</span>\n",
       "</pre>\n"
      ],
      "text/plain": [
       "Tag \u001b[32m\"\u001b[0m\u001b[1;38;2;37;42;224moutline\u001b[0m\u001b[32m\"\u001b[0m found in caption \u001b[32m\"The character and the speech bubble has a white \u001b[0m\u001b[1;38;2;37;42;224moutline\u001b[0m\u001b[32m around them.\"\u001b[0m\n"
      ]
     },
     "metadata": {},
     "output_type": "display_data"
    },
    {
     "data": {
      "text/html": [
       "<pre style=\"white-space:pre;overflow-x:auto;line-height:normal;font-family:Menlo,'DejaVu Sans Mono',consolas,'Courier New',monospace\">Tag <span style=\"color: #008000; text-decoration-color: #008000\">\"</span><span style=\"color: #d42f48; text-decoration-color: #d42f48; font-weight: bold\">speech bubble</span><span style=\"color: #008000; text-decoration-color: #008000\">\"</span> found in caption <span style=\"color: #008000; text-decoration-color: #008000\">\"It is accompanied by a </span><span style=\"color: #d42f48; text-decoration-color: #d42f48; font-weight: bold\">speech bubble</span><span style=\"color: #008000; text-decoration-color: #008000\"> with 'I DON'T KNOW MAN I'M JUST A DOG.\"</span>\n",
       "</pre>\n"
      ],
      "text/plain": [
       "Tag \u001b[32m\"\u001b[0m\u001b[1;38;2;212;47;72mspeech bubble\u001b[0m\u001b[32m\"\u001b[0m found in caption \u001b[32m\"It is accompanied by a \u001b[0m\u001b[1;38;2;212;47;72mspeech bubble\u001b[0m\u001b[32m with 'I DON'T KNOW MAN I'M JUST A DOG.\"\u001b[0m\n"
      ]
     },
     "metadata": {},
     "output_type": "display_data"
    },
    {
     "data": {
      "text/html": [
       "<pre style=\"white-space:pre;overflow-x:auto;line-height:normal;font-family:Menlo,'DejaVu Sans Mono',consolas,'Courier New',monospace\">Tag <span style=\"color: #008000; text-decoration-color: #008000\">\"</span><span style=\"color: #ec6bc1; text-decoration-color: #ec6bc1; font-weight: bold\">speech bubble</span><span style=\"color: #008000; text-decoration-color: #008000\">\"</span> found in caption <span style=\"color: #008000; text-decoration-color: #008000\">\"The character and the </span><span style=\"color: #ec6bc1; text-decoration-color: #ec6bc1; font-weight: bold\">speech bubble</span><span style=\"color: #008000; text-decoration-color: #008000\"> has a white outline around them.\"</span>\n",
       "</pre>\n"
      ],
      "text/plain": [
       "Tag \u001b[32m\"\u001b[0m\u001b[1;38;2;236;107;193mspeech bubble\u001b[0m\u001b[32m\"\u001b[0m found in caption \u001b[32m\"The character and the \u001b[0m\u001b[1;38;2;236;107;193mspeech bubble\u001b[0m\u001b[32m has a white outline around them.\"\u001b[0m\n"
      ]
     },
     "metadata": {},
     "output_type": "display_data"
    },
    {
     "data": {
      "text/html": [
       "<pre style=\"white-space:pre;overflow-x:auto;line-height:normal;font-family:Menlo,'DejaVu Sans Mono',consolas,'Courier New',monospace\">\n",
       "<span style=\"font-weight: bold\">C:\\Users\\kade\\Desktop\\training_dir_staging\\1_furry_sticker\\0d81f956ae974d505e254b280b43c947.txt</span>\n",
       "\n",
       "</pre>\n"
      ],
      "text/plain": [
       "\n",
       "\u001b[1mC:\\Users\\kade\\Desktop\\training_dir_staging\\1_furry_sticker\\0d81f956ae974d505e254b280b43c947.txt\u001b[0m\n",
       "\n"
      ]
     },
     "metadata": {},
     "output_type": "display_data"
    },
    {
     "data": {
      "text/html": [
       "<pre style=\"white-space:pre;overflow-x:auto;line-height:normal;font-family:Menlo,'DejaVu Sans Mono',consolas,'Courier New',monospace\">Tag <span style=\"color: #008000; text-decoration-color: #008000\">\"</span><span style=\"color: #785452; text-decoration-color: #785452; font-weight: bold\">furry sticker</span><span style=\"color: #008000; text-decoration-color: #008000\">\"</span> found in caption <span style=\"color: #008000; text-decoration-color: #008000\">\"This </span><span style=\"color: #785452; text-decoration-color: #785452; font-weight: bold\">furry sticker</span><span style=\"color: #008000; text-decoration-color: #008000\"> depicts a cartoonish anthro rabbit.\"</span>\n",
       "</pre>\n"
      ],
      "text/plain": [
       "Tag \u001b[32m\"\u001b[0m\u001b[1;38;2;120;84;82mfurry sticker\u001b[0m\u001b[32m\"\u001b[0m found in caption \u001b[32m\"This \u001b[0m\u001b[1;38;2;120;84;82mfurry sticker\u001b[0m\u001b[32m depicts a cartoonish anthro rabbit.\"\u001b[0m\n"
      ]
     },
     "metadata": {},
     "output_type": "display_data"
    },
    {
     "data": {
      "text/html": [
       "<pre style=\"white-space:pre;overflow-x:auto;line-height:normal;font-family:Menlo,'DejaVu Sans Mono',consolas,'Courier New',monospace\">Tag <span style=\"color: #008000; text-decoration-color: #008000\">\"</span><span style=\"color: #29c4aa; text-decoration-color: #29c4aa; font-weight: bold\">glasses</span><span style=\"color: #008000; text-decoration-color: #008000\">\"</span> found in caption <span style=\"color: #008000; text-decoration-color: #008000\">\"It is wearing </span><span style=\"color: #29c4aa; text-decoration-color: #29c4aa; font-weight: bold\">glasses</span><span style=\"color: #008000; text-decoration-color: #008000\"> and its fur color is a shade of brown with a lighter beige </span>\n",
       "<span style=\"color: #008000; text-decoration-color: #008000\">color on the bottom of its tail and front of its ears.\"</span>\n",
       "</pre>\n"
      ],
      "text/plain": [
       "Tag \u001b[32m\"\u001b[0m\u001b[1;38;2;41;196;170mglasses\u001b[0m\u001b[32m\"\u001b[0m found in caption \u001b[32m\"It is wearing \u001b[0m\u001b[1;38;2;41;196;170mglasses\u001b[0m\u001b[32m and its fur color is a shade of brown with a lighter beige \u001b[0m\n",
       "\u001b[32mcolor on the bottom of its tail and front of its ears.\"\u001b[0m\n"
      ]
     },
     "metadata": {},
     "output_type": "display_data"
    },
    {
     "data": {
      "text/html": [
       "<pre style=\"white-space:pre;overflow-x:auto;line-height:normal;font-family:Menlo,'DejaVu Sans Mono',consolas,'Courier New',monospace\">Tag <span style=\"color: #008000; text-decoration-color: #008000\">\"</span><span style=\"color: #d8a2cf; text-decoration-color: #d8a2cf; font-weight: bold\">anthro</span><span style=\"color: #008000; text-decoration-color: #008000\">\"</span> found in caption <span style=\"color: #008000; text-decoration-color: #008000\">\"This furry sticker depicts a cartoonish </span><span style=\"color: #d8a2cf; text-decoration-color: #d8a2cf; font-weight: bold\">anthro</span><span style=\"color: #008000; text-decoration-color: #008000\"> rabbit.\"</span>\n",
       "</pre>\n"
      ],
      "text/plain": [
       "Tag \u001b[32m\"\u001b[0m\u001b[1;38;2;216;162;207manthro\u001b[0m\u001b[32m\"\u001b[0m found in caption \u001b[32m\"This furry sticker depicts a cartoonish \u001b[0m\u001b[1;38;2;216;162;207manthro\u001b[0m\u001b[32m rabbit.\"\u001b[0m\n"
      ]
     },
     "metadata": {},
     "output_type": "display_data"
    },
    {
     "data": {
      "text/html": [
       "<pre style=\"white-space:pre;overflow-x:auto;line-height:normal;font-family:Menlo,'DejaVu Sans Mono',consolas,'Courier New',monospace\">Tag <span style=\"color: #008000; text-decoration-color: #008000\">\"</span><span style=\"color: #9bb237; text-decoration-color: #9bb237; font-weight: bold\">rabbit</span><span style=\"color: #008000; text-decoration-color: #008000\">\"</span> found in caption <span style=\"color: #008000; text-decoration-color: #008000\">\"This furry sticker depicts a cartoonish anthro </span><span style=\"color: #9bb237; text-decoration-color: #9bb237; font-weight: bold\">rabbit</span><span style=\"color: #008000; text-decoration-color: #008000\">.\"</span>\n",
       "</pre>\n"
      ],
      "text/plain": [
       "Tag \u001b[32m\"\u001b[0m\u001b[1;38;2;155;178;55mrabbit\u001b[0m\u001b[32m\"\u001b[0m found in caption \u001b[32m\"This furry sticker depicts a cartoonish anthro \u001b[0m\u001b[1;38;2;155;178;55mrabbit\u001b[0m\u001b[32m.\"\u001b[0m\n"
      ]
     },
     "metadata": {},
     "output_type": "display_data"
    },
    {
     "data": {
      "text/html": [
       "<pre style=\"white-space:pre;overflow-x:auto;line-height:normal;font-family:Menlo,'DejaVu Sans Mono',consolas,'Courier New',monospace\">Tag <span style=\"color: #008000; text-decoration-color: #008000\">\"</span><span style=\"color: #f45a7d; text-decoration-color: #f45a7d; font-weight: bold\">blush</span><span style=\"color: #008000; text-decoration-color: #008000\">\"</span> found in caption <span style=\"color: #008000; text-decoration-color: #008000\">\"The character has a playful expression with its mouth open and a slight </span><span style=\"color: #f45a7d; text-decoration-color: #f45a7d; font-weight: bold\">blush</span><span style=\"color: #008000; text-decoration-color: #008000\"> on the </span>\n",
       "<span style=\"color: #008000; text-decoration-color: #008000\">cheeks.\"</span>\n",
       "</pre>\n"
      ],
      "text/plain": [
       "Tag \u001b[32m\"\u001b[0m\u001b[1;38;2;244;90;125mblush\u001b[0m\u001b[32m\"\u001b[0m found in caption \u001b[32m\"The character has a playful expression with its mouth open and a slight \u001b[0m\u001b[1;38;2;244;90;125mblush\u001b[0m\u001b[32m on the \u001b[0m\n",
       "\u001b[32mcheeks.\"\u001b[0m\n"
      ]
     },
     "metadata": {},
     "output_type": "display_data"
    },
    {
     "data": {
      "text/html": [
       "<pre style=\"white-space:pre;overflow-x:auto;line-height:normal;font-family:Menlo,'DejaVu Sans Mono',consolas,'Courier New',monospace\">Tag <span style=\"color: #008000; text-decoration-color: #008000\">\"</span><span style=\"color: #05acc4; text-decoration-color: #05acc4; font-weight: bold\">fur</span><span style=\"color: #008000; text-decoration-color: #008000\">\"</span> found in caption <span style=\"color: #008000; text-decoration-color: #008000\">\"It is wearing glasses and its </span><span style=\"color: #05acc4; text-decoration-color: #05acc4; font-weight: bold\">fur</span><span style=\"color: #008000; text-decoration-color: #008000\"> color is a shade of brown with a lighter beige color </span>\n",
       "<span style=\"color: #008000; text-decoration-color: #008000\">on the bottom of its tail and front of its ears.\"</span>\n",
       "</pre>\n"
      ],
      "text/plain": [
       "Tag \u001b[32m\"\u001b[0m\u001b[1;38;2;5;172;196mfur\u001b[0m\u001b[32m\"\u001b[0m found in caption \u001b[32m\"It is wearing glasses and its \u001b[0m\u001b[1;38;2;5;172;196mfur\u001b[0m\u001b[32m color is a shade of brown with a lighter beige color \u001b[0m\n",
       "\u001b[32mon the bottom of its tail and front of its ears.\"\u001b[0m\n"
      ]
     },
     "metadata": {},
     "output_type": "display_data"
    },
    {
     "data": {
      "text/html": [
       "<pre style=\"white-space:pre;overflow-x:auto;line-height:normal;font-family:Menlo,'DejaVu Sans Mono',consolas,'Courier New',monospace\">Tag <span style=\"color: #008000; text-decoration-color: #008000\">\"</span><span style=\"color: #20a423; text-decoration-color: #20a423; font-weight: bold\">outline</span><span style=\"color: #008000; text-decoration-color: #008000\">\"</span> found in caption <span style=\"color: #008000; text-decoration-color: #008000\">\"The character is surrounded by two blue sparkles and two blue motion lines and it </span>\n",
       "<span style=\"color: #008000; text-decoration-color: #008000\">has a white </span><span style=\"color: #20a423; text-decoration-color: #20a423; font-weight: bold\">outline</span><span style=\"color: #008000; text-decoration-color: #008000\"> around it.\"</span>\n",
       "</pre>\n"
      ],
      "text/plain": [
       "Tag \u001b[32m\"\u001b[0m\u001b[1;38;2;32;164;35moutline\u001b[0m\u001b[32m\"\u001b[0m found in caption \u001b[32m\"The character is surrounded by two blue sparkles and two blue motion lines and it \u001b[0m\n",
       "\u001b[32mhas a white \u001b[0m\u001b[1;38;2;32;164;35moutline\u001b[0m\u001b[32m around it.\"\u001b[0m\n"
      ]
     },
     "metadata": {},
     "output_type": "display_data"
    },
    {
     "data": {
      "text/html": [
       "<pre style=\"white-space:pre;overflow-x:auto;line-height:normal;font-family:Menlo,'DejaVu Sans Mono',consolas,'Courier New',monospace\">\n",
       "<span style=\"font-weight: bold\">C:\\Users\\kade\\Desktop\\training_dir_staging\\1_furry_sticker\\0da4833461592f1c7f4ac4151f7f8960.txt</span>\n",
       "\n",
       "</pre>\n"
      ],
      "text/plain": [
       "\n",
       "\u001b[1mC:\\Users\\kade\\Desktop\\training_dir_staging\\1_furry_sticker\\0da4833461592f1c7f4ac4151f7f8960.txt\u001b[0m\n",
       "\n"
      ]
     },
     "metadata": {},
     "output_type": "display_data"
    },
    {
     "data": {
      "text/html": [
       "<pre style=\"white-space:pre;overflow-x:auto;line-height:normal;font-family:Menlo,'DejaVu Sans Mono',consolas,'Courier New',monospace\">Tag <span style=\"color: #008000; text-decoration-color: #008000\">\"</span><span style=\"color: #69933d; text-decoration-color: #69933d; font-weight: bold\">eyes closed</span><span style=\"color: #008000; text-decoration-color: #008000\">\"</span> found in caption <span style=\"color: #008000; text-decoration-color: #008000\">\"It has its </span><span style=\"color: #69933d; text-decoration-color: #69933d; font-weight: bold\">eyes closed</span><span style=\"color: #008000; text-decoration-color: #008000\"> and is crossing its arms with a displeased expression.\"</span>\n",
       "</pre>\n"
      ],
      "text/plain": [
       "Tag \u001b[32m\"\u001b[0m\u001b[1;38;2;105;147;61meyes closed\u001b[0m\u001b[32m\"\u001b[0m found in caption \u001b[32m\"It has its \u001b[0m\u001b[1;38;2;105;147;61meyes closed\u001b[0m\u001b[32m and is crossing its arms with a displeased expression.\"\u001b[0m\n"
      ]
     },
     "metadata": {},
     "output_type": "display_data"
    },
    {
     "data": {
      "text/html": [
       "<pre style=\"white-space:pre;overflow-x:auto;line-height:normal;font-family:Menlo,'DejaVu Sans Mono',consolas,'Courier New',monospace\">Tag <span style=\"color: #008000; text-decoration-color: #008000\">\"</span><span style=\"color: #4ebd2f; text-decoration-color: #4ebd2f; font-weight: bold\">headwear</span><span style=\"color: #008000; text-decoration-color: #008000\">\"</span> found in caption <span style=\"color: #008000; text-decoration-color: #008000\">\"The character has a brownish fur coat and brown hair sticking out from under the </span>\n",
       "<span style=\"color: #4ebd2f; text-decoration-color: #4ebd2f; font-weight: bold\">headwear</span><span style=\"color: #008000; text-decoration-color: #008000\">.\"</span>\n",
       "</pre>\n"
      ],
      "text/plain": [
       "Tag \u001b[32m\"\u001b[0m\u001b[1;38;2;78;189;47mheadwear\u001b[0m\u001b[32m\"\u001b[0m found in caption \u001b[32m\"The character has a brownish fur coat and brown hair sticking out from under the \u001b[0m\n",
       "\u001b[1;38;2;78;189;47mheadwear\u001b[0m\u001b[32m.\"\u001b[0m\n"
      ]
     },
     "metadata": {},
     "output_type": "display_data"
    },
    {
     "data": {
      "text/html": [
       "<pre style=\"white-space:pre;overflow-x:auto;line-height:normal;font-family:Menlo,'DejaVu Sans Mono',consolas,'Courier New',monospace\">Tag <span style=\"color: #008000; text-decoration-color: #008000\">\"</span><span style=\"color: #837972; text-decoration-color: #837972; font-weight: bold\">collar</span><span style=\"color: #008000; text-decoration-color: #008000\">\"</span> found in caption <span style=\"color: #008000; text-decoration-color: #008000\">\"It has a brown nose and wears a blue cap with the Japanese flag on it and a blue </span>\n",
       "<span style=\"color: #837972; text-decoration-color: #837972; font-weight: bold\">collar</span><span style=\"color: #008000; text-decoration-color: #008000\"> around its neck with a black stripe in the middle.\"</span>\n",
       "</pre>\n"
      ],
      "text/plain": [
       "Tag \u001b[32m\"\u001b[0m\u001b[1;38;2;131;121;114mcollar\u001b[0m\u001b[32m\"\u001b[0m found in caption \u001b[32m\"It has a brown nose and wears a blue cap with the Japanese flag on it and a blue \u001b[0m\n",
       "\u001b[1;38;2;131;121;114mcollar\u001b[0m\u001b[32m around its neck with a black stripe in the middle.\"\u001b[0m\n"
      ]
     },
     "metadata": {},
     "output_type": "display_data"
    },
    {
     "data": {
      "text/html": [
       "<pre style=\"white-space:pre;overflow-x:auto;line-height:normal;font-family:Menlo,'DejaVu Sans Mono',consolas,'Courier New',monospace\">Tag <span style=\"color: #008000; text-decoration-color: #008000\">\"</span><span style=\"color: #2fe191; text-decoration-color: #2fe191; font-weight: bold\">fur</span><span style=\"color: #008000; text-decoration-color: #008000\">\"</span> found in caption <span style=\"color: #008000; text-decoration-color: #008000\">\"The character has a brownish </span><span style=\"color: #2fe191; text-decoration-color: #2fe191; font-weight: bold\">fur</span><span style=\"color: #008000; text-decoration-color: #008000\"> coat and brown hair sticking out from under the </span>\n",
       "<span style=\"color: #008000; text-decoration-color: #008000\">headwear.\"</span>\n",
       "</pre>\n"
      ],
      "text/plain": [
       "Tag \u001b[32m\"\u001b[0m\u001b[1;38;2;47;225;145mfur\u001b[0m\u001b[32m\"\u001b[0m found in caption \u001b[32m\"The character has a brownish \u001b[0m\u001b[1;38;2;47;225;145mfur\u001b[0m\u001b[32m coat and brown hair sticking out from under the \u001b[0m\n",
       "\u001b[32mheadwear.\"\u001b[0m\n"
      ]
     },
     "metadata": {},
     "output_type": "display_data"
    },
    {
     "data": {
      "text/html": [
       "<pre style=\"white-space:pre;overflow-x:auto;line-height:normal;font-family:Menlo,'DejaVu Sans Mono',consolas,'Courier New',monospace\">Tag <span style=\"color: #008000; text-decoration-color: #008000\">\"</span><span style=\"color: #662202; text-decoration-color: #662202; font-weight: bold\">brown hair</span><span style=\"color: #008000; text-decoration-color: #008000\">\"</span> found in caption <span style=\"color: #008000; text-decoration-color: #008000\">\"The character has a brownish fur coat and </span><span style=\"color: #662202; text-decoration-color: #662202; font-weight: bold\">brown hair</span><span style=\"color: #008000; text-decoration-color: #008000\"> sticking out from under the</span>\n",
       "<span style=\"color: #008000; text-decoration-color: #008000\">headwear.\"</span>\n",
       "</pre>\n"
      ],
      "text/plain": [
       "Tag \u001b[32m\"\u001b[0m\u001b[1;38;2;102;34;2mbrown hair\u001b[0m\u001b[32m\"\u001b[0m found in caption \u001b[32m\"The character has a brownish fur coat and \u001b[0m\u001b[1;38;2;102;34;2mbrown hair\u001b[0m\u001b[32m sticking out from under the\u001b[0m\n",
       "\u001b[32mheadwear.\"\u001b[0m\n"
      ]
     },
     "metadata": {},
     "output_type": "display_data"
    },
    {
     "data": {
      "text/html": [
       "<pre style=\"white-space:pre;overflow-x:auto;line-height:normal;font-family:Menlo,'DejaVu Sans Mono',consolas,'Courier New',monospace\">Tag <span style=\"color: #008000; text-decoration-color: #008000\">\"</span><span style=\"color: #6a55ac; text-decoration-color: #6a55ac; font-weight: bold\">text</span><span style=\"color: #008000; text-decoration-color: #008000\">\"</span> found in caption <span style=\"color: #008000; text-decoration-color: #008000\">\"The character and the </span><span style=\"color: #6a55ac; text-decoration-color: #6a55ac; font-weight: bold\">text</span><span style=\"color: #008000; text-decoration-color: #008000\"> has a white outline around it.\"</span>\n",
       "</pre>\n"
      ],
      "text/plain": [
       "Tag \u001b[32m\"\u001b[0m\u001b[1;38;2;106;85;172mtext\u001b[0m\u001b[32m\"\u001b[0m found in caption \u001b[32m\"The character and the \u001b[0m\u001b[1;38;2;106;85;172mtext\u001b[0m\u001b[32m has a white outline around it.\"\u001b[0m\n"
      ]
     },
     "metadata": {},
     "output_type": "display_data"
    },
    {
     "data": {
      "text/html": [
       "<pre style=\"white-space:pre;overflow-x:auto;line-height:normal;font-family:Menlo,'DejaVu Sans Mono',consolas,'Courier New',monospace\">Tag <span style=\"color: #008000; text-decoration-color: #008000\">\"</span><span style=\"color: #8d97b2; text-decoration-color: #8d97b2; font-weight: bold\">anthro</span><span style=\"color: #008000; text-decoration-color: #008000\">\"</span> found in caption <span style=\"color: #008000; text-decoration-color: #008000\">\"The image showcases an animated character that is an </span><span style=\"color: #8d97b2; text-decoration-color: #8d97b2; font-weight: bold\">anthro</span><span style=\"color: #008000; text-decoration-color: #008000\"> dog.\"</span>\n",
       "</pre>\n"
      ],
      "text/plain": [
       "Tag \u001b[32m\"\u001b[0m\u001b[1;38;2;141;151;178manthro\u001b[0m\u001b[32m\"\u001b[0m found in caption \u001b[32m\"The image showcases an animated character that is an \u001b[0m\u001b[1;38;2;141;151;178manthro\u001b[0m\u001b[32m dog.\"\u001b[0m\n"
      ]
     },
     "metadata": {},
     "output_type": "display_data"
    },
    {
     "data": {
      "text/html": [
       "<pre style=\"white-space:pre;overflow-x:auto;line-height:normal;font-family:Menlo,'DejaVu Sans Mono',consolas,'Courier New',monospace\">\n",
       "<span style=\"font-weight: bold\">C:\\Users\\kade\\Desktop\\training_dir_staging\\1_furry_sticker\\0f27c73c75d57814e6dacf5c60040473.txt</span>\n",
       "\n",
       "</pre>\n"
      ],
      "text/plain": [
       "\n",
       "\u001b[1mC:\\Users\\kade\\Desktop\\training_dir_staging\\1_furry_sticker\\0f27c73c75d57814e6dacf5c60040473.txt\u001b[0m\n",
       "\n"
      ]
     },
     "metadata": {},
     "output_type": "display_data"
    },
    {
     "data": {
      "text/html": [
       "<pre style=\"white-space:pre;overflow-x:auto;line-height:normal;font-family:Menlo,'DejaVu Sans Mono',consolas,'Courier New',monospace\">Tag <span style=\"color: #008000; text-decoration-color: #008000\">\"</span><span style=\"color: #c2b5d6; text-decoration-color: #c2b5d6; font-weight: bold\">furry sticker</span><span style=\"color: #008000; text-decoration-color: #008000\">\"</span> found in caption <span style=\"color: #008000; text-decoration-color: #008000\">\"This </span><span style=\"color: #c2b5d6; text-decoration-color: #c2b5d6; font-weight: bold\">furry sticker</span><span style=\"color: #008000; text-decoration-color: #008000\"> showcases an animated anthro fox character sitting at a </span>\n",
       "<span style=\"color: #008000; text-decoration-color: #008000\">desk with its hands on a laptop's screen.\"</span>\n",
       "</pre>\n"
      ],
      "text/plain": [
       "Tag \u001b[32m\"\u001b[0m\u001b[1;38;2;194;181;214mfurry sticker\u001b[0m\u001b[32m\"\u001b[0m found in caption \u001b[32m\"This \u001b[0m\u001b[1;38;2;194;181;214mfurry sticker\u001b[0m\u001b[32m showcases an animated anthro fox character sitting at a \u001b[0m\n",
       "\u001b[32mdesk with its hands on a laptop's screen.\"\u001b[0m\n"
      ]
     },
     "metadata": {},
     "output_type": "display_data"
    },
    {
     "data": {
      "text/html": [
       "<pre style=\"white-space:pre;overflow-x:auto;line-height:normal;font-family:Menlo,'DejaVu Sans Mono',consolas,'Courier New',monospace\">Tag <span style=\"color: #008000; text-decoration-color: #008000\">\"</span><span style=\"color: #3ae768; text-decoration-color: #3ae768; font-weight: bold\">fox</span><span style=\"color: #008000; text-decoration-color: #008000\">\"</span> found in caption <span style=\"color: #008000; text-decoration-color: #008000\">\"This furry sticker showcases an animated anthro </span><span style=\"color: #3ae768; text-decoration-color: #3ae768; font-weight: bold\">fox</span><span style=\"color: #008000; text-decoration-color: #008000\"> character sitting at a desk with </span>\n",
       "<span style=\"color: #008000; text-decoration-color: #008000\">its hands on a laptop's screen.\"</span>\n",
       "</pre>\n"
      ],
      "text/plain": [
       "Tag \u001b[32m\"\u001b[0m\u001b[1;38;2;58;231;104mfox\u001b[0m\u001b[32m\"\u001b[0m found in caption \u001b[32m\"This furry sticker showcases an animated anthro \u001b[0m\u001b[1;38;2;58;231;104mfox\u001b[0m\u001b[32m character sitting at a desk with \u001b[0m\n",
       "\u001b[32mits hands on a laptop's screen.\"\u001b[0m\n"
      ]
     },
     "metadata": {},
     "output_type": "display_data"
    },
    {
     "data": {
      "text/html": [
       "<pre style=\"white-space:pre;overflow-x:auto;line-height:normal;font-family:Menlo,'DejaVu Sans Mono',consolas,'Courier New',monospace\">Tag <span style=\"color: #008000; text-decoration-color: #008000\">\"</span><span style=\"color: #e641d2; text-decoration-color: #e641d2; font-weight: bold\">fox</span><span style=\"color: #008000; text-decoration-color: #008000\">\"</span> found in caption <span style=\"color: #008000; text-decoration-color: #008000\">\"The </span><span style=\"color: #e641d2; text-decoration-color: #e641d2; font-weight: bold\">fox</span><span style=\"color: #008000; text-decoration-color: #008000\"> appears to be in a state of surprise or shock with wide-open eyes and a closed </span>\n",
       "<span style=\"color: #008000; text-decoration-color: #008000\">mouth that is drawn as a small black line.\"</span>\n",
       "</pre>\n"
      ],
      "text/plain": [
       "Tag \u001b[32m\"\u001b[0m\u001b[1;38;2;230;65;210mfox\u001b[0m\u001b[32m\"\u001b[0m found in caption \u001b[32m\"The \u001b[0m\u001b[1;38;2;230;65;210mfox\u001b[0m\u001b[32m appears to be in a state of surprise or shock with wide-open eyes and a closed \u001b[0m\n",
       "\u001b[32mmouth that is drawn as a small black line.\"\u001b[0m\n"
      ]
     },
     "metadata": {},
     "output_type": "display_data"
    },
    {
     "data": {
      "text/html": [
       "<pre style=\"white-space:pre;overflow-x:auto;line-height:normal;font-family:Menlo,'DejaVu Sans Mono',consolas,'Courier New',monospace\">Tag <span style=\"color: #008000; text-decoration-color: #008000\">\"</span><span style=\"color: #6b0c5b; text-decoration-color: #6b0c5b; font-weight: bold\">fox</span><span style=\"color: #008000; text-decoration-color: #008000\">\"</span> found in caption <span style=\"color: #008000; text-decoration-color: #008000\">\"The </span><span style=\"color: #6b0c5b; text-decoration-color: #6b0c5b; font-weight: bold\">fox</span><span style=\"color: #008000; text-decoration-color: #008000\"> has a vibrant red fur with his chest and bottom of its face covered in white </span>\n",
       "<span style=\"color: #008000; text-decoration-color: #008000\">fur.\"</span>\n",
       "</pre>\n"
      ],
      "text/plain": [
       "Tag \u001b[32m\"\u001b[0m\u001b[1;38;2;107;12;91mfox\u001b[0m\u001b[32m\"\u001b[0m found in caption \u001b[32m\"The \u001b[0m\u001b[1;38;2;107;12;91mfox\u001b[0m\u001b[32m has a vibrant red fur with his chest and bottom of its face covered in white \u001b[0m\n",
       "\u001b[32mfur.\"\u001b[0m\n"
      ]
     },
     "metadata": {},
     "output_type": "display_data"
    },
    {
     "data": {
      "text/html": [
       "<pre style=\"white-space:pre;overflow-x:auto;line-height:normal;font-family:Menlo,'DejaVu Sans Mono',consolas,'Courier New',monospace\">Tag <span style=\"color: #008000; text-decoration-color: #008000\">\"</span><span style=\"color: #9e04d1; text-decoration-color: #9e04d1; font-weight: bold\">red fur</span><span style=\"color: #008000; text-decoration-color: #008000\">\"</span> found in caption <span style=\"color: #008000; text-decoration-color: #008000\">\"The fox has a vibrant </span><span style=\"color: #9e04d1; text-decoration-color: #9e04d1; font-weight: bold\">red fur</span><span style=\"color: #008000; text-decoration-color: #008000\"> with his chest and bottom of its face covered in </span>\n",
       "<span style=\"color: #008000; text-decoration-color: #008000\">white fur.\"</span>\n",
       "</pre>\n"
      ],
      "text/plain": [
       "Tag \u001b[32m\"\u001b[0m\u001b[1;38;2;158;4;209mred fur\u001b[0m\u001b[32m\"\u001b[0m found in caption \u001b[32m\"The fox has a vibrant \u001b[0m\u001b[1;38;2;158;4;209mred fur\u001b[0m\u001b[32m with his chest and bottom of its face covered in \u001b[0m\n",
       "\u001b[32mwhite fur.\"\u001b[0m\n"
      ]
     },
     "metadata": {},
     "output_type": "display_data"
    },
    {
     "data": {
      "text/html": [
       "<pre style=\"white-space:pre;overflow-x:auto;line-height:normal;font-family:Menlo,'DejaVu Sans Mono',consolas,'Courier New',monospace\">Tag <span style=\"color: #008000; text-decoration-color: #008000\">\"</span><span style=\"color: #5795aa; text-decoration-color: #5795aa; font-weight: bold\">fur</span><span style=\"color: #008000; text-decoration-color: #008000\">\"</span> found in caption <span style=\"color: #008000; text-decoration-color: #008000\">\"The fox has a vibrant red </span><span style=\"color: #5795aa; text-decoration-color: #5795aa; font-weight: bold\">fur</span><span style=\"color: #008000; text-decoration-color: #008000\"> with his chest and bottom of its face covered in white </span>\n",
       "<span style=\"color: #5795aa; text-decoration-color: #5795aa; font-weight: bold\">fur</span><span style=\"color: #008000; text-decoration-color: #008000\">.\"</span>\n",
       "</pre>\n"
      ],
      "text/plain": [
       "Tag \u001b[32m\"\u001b[0m\u001b[1;38;2;87;149;170mfur\u001b[0m\u001b[32m\"\u001b[0m found in caption \u001b[32m\"The fox has a vibrant red \u001b[0m\u001b[1;38;2;87;149;170mfur\u001b[0m\u001b[32m with his chest and bottom of its face covered in white \u001b[0m\n",
       "\u001b[1;38;2;87;149;170mfur\u001b[0m\u001b[32m.\"\u001b[0m\n"
      ]
     },
     "metadata": {},
     "output_type": "display_data"
    },
    {
     "data": {
      "text/html": [
       "<pre style=\"white-space:pre;overflow-x:auto;line-height:normal;font-family:Menlo,'DejaVu Sans Mono',consolas,'Courier New',monospace\">Tag <span style=\"color: #008000; text-decoration-color: #008000\">\"</span><span style=\"color: #a6e79c; text-decoration-color: #a6e79c; font-weight: bold\">anthro</span><span style=\"color: #008000; text-decoration-color: #008000\">\"</span> found in caption <span style=\"color: #008000; text-decoration-color: #008000\">\"This furry sticker showcases an animated </span><span style=\"color: #a6e79c; text-decoration-color: #a6e79c; font-weight: bold\">anthro</span><span style=\"color: #008000; text-decoration-color: #008000\"> fox character sitting at a desk with</span>\n",
       "<span style=\"color: #008000; text-decoration-color: #008000\">its hands on a laptop's screen.\"</span>\n",
       "</pre>\n"
      ],
      "text/plain": [
       "Tag \u001b[32m\"\u001b[0m\u001b[1;38;2;166;231;156manthro\u001b[0m\u001b[32m\"\u001b[0m found in caption \u001b[32m\"This furry sticker showcases an animated \u001b[0m\u001b[1;38;2;166;231;156manthro\u001b[0m\u001b[32m fox character sitting at a desk with\u001b[0m\n",
       "\u001b[32mits hands on a laptop's screen.\"\u001b[0m\n"
      ]
     },
     "metadata": {},
     "output_type": "display_data"
    },
    {
     "data": {
      "text/html": [
       "<pre style=\"white-space:pre;overflow-x:auto;line-height:normal;font-family:Menlo,'DejaVu Sans Mono',consolas,'Courier New',monospace\">Tag <span style=\"color: #008000; text-decoration-color: #008000\">\"</span><span style=\"color: #e19368; text-decoration-color: #e19368; font-weight: bold\">computer</span><span style=\"color: #008000; text-decoration-color: #008000\">\"</span> found in caption <span style=\"color: #008000; text-decoration-color: #008000\">\"On the desk there's also a </span><span style=\"color: #e19368; text-decoration-color: #e19368; font-weight: bold\">computer</span><span style=\"color: #008000; text-decoration-color: #008000\"> mouse with a blue mouse pad under it.\"</span>\n",
       "</pre>\n"
      ],
      "text/plain": [
       "Tag \u001b[32m\"\u001b[0m\u001b[1;38;2;225;147;104mcomputer\u001b[0m\u001b[32m\"\u001b[0m found in caption \u001b[32m\"On the desk there's also a \u001b[0m\u001b[1;38;2;225;147;104mcomputer\u001b[0m\u001b[32m mouse with a blue mouse pad under it.\"\u001b[0m\n"
      ]
     },
     "metadata": {},
     "output_type": "display_data"
    },
    {
     "data": {
      "text/html": [
       "<pre style=\"white-space:pre;overflow-x:auto;line-height:normal;font-family:Menlo,'DejaVu Sans Mono',consolas,'Courier New',monospace\">Tag <span style=\"color: #008000; text-decoration-color: #008000\">\"</span><span style=\"color: #6ddc44; text-decoration-color: #6ddc44; font-weight: bold\">white fur</span><span style=\"color: #008000; text-decoration-color: #008000\">\"</span> found in caption <span style=\"color: #008000; text-decoration-color: #008000\">\"The fox has a vibrant red fur with his chest and bottom of its face covered in </span>\n",
       "<span style=\"color: #6ddc44; text-decoration-color: #6ddc44; font-weight: bold\">white fur</span><span style=\"color: #008000; text-decoration-color: #008000\">.\"</span>\n",
       "</pre>\n"
      ],
      "text/plain": [
       "Tag \u001b[32m\"\u001b[0m\u001b[1;38;2;109;220;68mwhite fur\u001b[0m\u001b[32m\"\u001b[0m found in caption \u001b[32m\"The fox has a vibrant red fur with his chest and bottom of its face covered in \u001b[0m\n",
       "\u001b[1;38;2;109;220;68mwhite fur\u001b[0m\u001b[32m.\"\u001b[0m\n"
      ]
     },
     "metadata": {},
     "output_type": "display_data"
    },
    {
     "data": {
      "text/html": [
       "<pre style=\"white-space:pre;overflow-x:auto;line-height:normal;font-family:Menlo,'DejaVu Sans Mono',consolas,'Courier New',monospace\">\n",
       "<span style=\"font-weight: bold\">C:\\Users\\kade\\Desktop\\training_dir_staging\\1_furry_sticker\\1aea6a3150d717943f2e5d70f799050d.txt</span>\n",
       "\n",
       "</pre>\n"
      ],
      "text/plain": [
       "\n",
       "\u001b[1mC:\\Users\\kade\\Desktop\\training_dir_staging\\1_furry_sticker\\1aea6a3150d717943f2e5d70f799050d.txt\u001b[0m\n",
       "\n"
      ]
     },
     "metadata": {},
     "output_type": "display_data"
    },
    {
     "data": {
      "text/html": [
       "<pre style=\"white-space:pre;overflow-x:auto;line-height:normal;font-family:Menlo,'DejaVu Sans Mono',consolas,'Courier New',monospace\">Tag <span style=\"color: #008000; text-decoration-color: #008000\">\"</span><span style=\"color: #a0ae4e; text-decoration-color: #a0ae4e; font-weight: bold\">fox</span><span style=\"color: #008000; text-decoration-color: #008000\">\"</span> found in caption <span style=\"color: #008000; text-decoration-color: #008000\">\"The image features a stylized cartoon depiction of a </span><span style=\"color: #a0ae4e; text-decoration-color: #a0ae4e; font-weight: bold\">fox</span><span style=\"color: #008000; text-decoration-color: #008000\"> with a playful and cheeky </span>\n",
       "<span style=\"color: #008000; text-decoration-color: #008000\">expression and it has its eyes closed.\"</span>\n",
       "</pre>\n"
      ],
      "text/plain": [
       "Tag \u001b[32m\"\u001b[0m\u001b[1;38;2;160;174;78mfox\u001b[0m\u001b[32m\"\u001b[0m found in caption \u001b[32m\"The image features a stylized cartoon depiction of a \u001b[0m\u001b[1;38;2;160;174;78mfox\u001b[0m\u001b[32m with a playful and cheeky \u001b[0m\n",
       "\u001b[32mexpression and it has its eyes closed.\"\u001b[0m\n"
      ]
     },
     "metadata": {},
     "output_type": "display_data"
    },
    {
     "data": {
      "text/html": [
       "<pre style=\"white-space:pre;overflow-x:auto;line-height:normal;font-family:Menlo,'DejaVu Sans Mono',consolas,'Courier New',monospace\">Tag <span style=\"color: #008000; text-decoration-color: #008000\">\"</span><span style=\"color: #0459fc; text-decoration-color: #0459fc; font-weight: bold\">eyes closed</span><span style=\"color: #008000; text-decoration-color: #008000\">\"</span> found in caption <span style=\"color: #008000; text-decoration-color: #008000\">\"The image features a stylized cartoon depiction of a fox with a playful and </span>\n",
       "<span style=\"color: #008000; text-decoration-color: #008000\">cheeky expression and it has its </span><span style=\"color: #0459fc; text-decoration-color: #0459fc; font-weight: bold\">eyes closed</span><span style=\"color: #008000; text-decoration-color: #008000\">.\"</span>\n",
       "</pre>\n"
      ],
      "text/plain": [
       "Tag \u001b[32m\"\u001b[0m\u001b[1;38;2;4;89;252meyes closed\u001b[0m\u001b[32m\"\u001b[0m found in caption \u001b[32m\"The image features a stylized cartoon depiction of a fox with a playful and \u001b[0m\n",
       "\u001b[32mcheeky expression and it has its \u001b[0m\u001b[1;38;2;4;89;252meyes closed\u001b[0m\u001b[32m.\"\u001b[0m\n"
      ]
     },
     "metadata": {},
     "output_type": "display_data"
    },
    {
     "data": {
      "text/html": [
       "<pre style=\"white-space:pre;overflow-x:auto;line-height:normal;font-family:Menlo,'DejaVu Sans Mono',consolas,'Courier New',monospace\">Tag <span style=\"color: #008000; text-decoration-color: #008000\">\"</span><span style=\"color: #739111; text-decoration-color: #739111; font-weight: bold\">black background</span><span style=\"color: #008000; text-decoration-color: #008000\">\"</span> found in caption <span style=\"color: #008000; text-decoration-color: #008000\">\"It is set against a </span><span style=\"color: #739111; text-decoration-color: #739111; font-weight: bold\">black background</span><span style=\"color: #008000; text-decoration-color: #008000\"> and there's a textual element at the </span>\n",
       "<span style=\"color: #008000; text-decoration-color: #008000\">bottom that reads 'GAFFERTAPE'.\"</span>\n",
       "</pre>\n"
      ],
      "text/plain": [
       "Tag \u001b[32m\"\u001b[0m\u001b[1;38;2;115;145;17mblack background\u001b[0m\u001b[32m\"\u001b[0m found in caption \u001b[32m\"It is set against a \u001b[0m\u001b[1;38;2;115;145;17mblack background\u001b[0m\u001b[32m and there's a textual element at the \u001b[0m\n",
       "\u001b[32mbottom that reads 'GAFFERTAPE'.\"\u001b[0m\n"
      ]
     },
     "metadata": {},
     "output_type": "display_data"
    },
    {
     "data": {
      "text/html": [
       "<pre style=\"white-space:pre;overflow-x:auto;line-height:normal;font-family:Menlo,'DejaVu Sans Mono',consolas,'Courier New',monospace\">Tag <span style=\"color: #008000; text-decoration-color: #008000\">\"</span><span style=\"color: #245d46; text-decoration-color: #245d46; font-weight: bold\">text</span><span style=\"color: #008000; text-decoration-color: #008000\">\"</span> found in caption <span style=\"color: #008000; text-decoration-color: #008000\">\"The character and the </span><span style=\"color: #245d46; text-decoration-color: #245d46; font-weight: bold\">text</span><span style=\"color: #008000; text-decoration-color: #008000\"> has a white outline around it.\"</span>\n",
       "</pre>\n"
      ],
      "text/plain": [
       "Tag \u001b[32m\"\u001b[0m\u001b[1;38;2;36;93;70mtext\u001b[0m\u001b[32m\"\u001b[0m found in caption \u001b[32m\"The character and the \u001b[0m\u001b[1;38;2;36;93;70mtext\u001b[0m\u001b[32m has a white outline around it.\"\u001b[0m\n"
      ]
     },
     "metadata": {},
     "output_type": "display_data"
    },
    {
     "data": {
      "text/html": [
       "<pre style=\"white-space:pre;overflow-x:auto;line-height:normal;font-family:Menlo,'DejaVu Sans Mono',consolas,'Courier New',monospace\">Tag <span style=\"color: #008000; text-decoration-color: #008000\">\"</span><span style=\"color: #0e4d0f; text-decoration-color: #0e4d0f; font-weight: bold\">fur</span><span style=\"color: #008000; text-decoration-color: #008000\">\"</span> found in caption <span style=\"color: #008000; text-decoration-color: #008000\">\"The creature has orange </span><span style=\"color: #0e4d0f; text-decoration-color: #0e4d0f; font-weight: bold\">fur</span><span style=\"color: #008000; text-decoration-color: #008000\"> with white accents pointed ears and a mischievous smirk.\"</span>\n",
       "</pre>\n"
      ],
      "text/plain": [
       "Tag \u001b[32m\"\u001b[0m\u001b[1;38;2;14;77;15mfur\u001b[0m\u001b[32m\"\u001b[0m found in caption \u001b[32m\"The creature has orange \u001b[0m\u001b[1;38;2;14;77;15mfur\u001b[0m\u001b[32m with white accents pointed ears and a mischievous smirk.\"\u001b[0m\n"
      ]
     },
     "metadata": {},
     "output_type": "display_data"
    },
    {
     "data": {
      "text/html": [
       "<pre style=\"white-space:pre;overflow-x:auto;line-height:normal;font-family:Menlo,'DejaVu Sans Mono',consolas,'Courier New',monospace\">Tag <span style=\"color: #008000; text-decoration-color: #008000\">\"</span><span style=\"color: #fe78df; text-decoration-color: #fe78df; font-weight: bold\">orange fur</span><span style=\"color: #008000; text-decoration-color: #008000\">\"</span> found in caption <span style=\"color: #008000; text-decoration-color: #008000\">\"The creature has </span><span style=\"color: #fe78df; text-decoration-color: #fe78df; font-weight: bold\">orange fur</span><span style=\"color: #008000; text-decoration-color: #008000\"> with white accents pointed ears and a mischievous </span>\n",
       "<span style=\"color: #008000; text-decoration-color: #008000\">smirk.\"</span>\n",
       "</pre>\n"
      ],
      "text/plain": [
       "Tag \u001b[32m\"\u001b[0m\u001b[1;38;2;254;120;223morange fur\u001b[0m\u001b[32m\"\u001b[0m found in caption \u001b[32m\"The creature has \u001b[0m\u001b[1;38;2;254;120;223morange fur\u001b[0m\u001b[32m with white accents pointed ears and a mischievous \u001b[0m\n",
       "\u001b[32msmirk.\"\u001b[0m\n"
      ]
     },
     "metadata": {},
     "output_type": "display_data"
    },
    {
     "data": {
      "text/html": [
       "<pre style=\"white-space:pre;overflow-x:auto;line-height:normal;font-family:Menlo,'DejaVu Sans Mono',consolas,'Courier New',monospace\">\n",
       "<span style=\"font-weight: bold\">C:\\Users\\kade\\Desktop\\training_dir_staging\\1_furry_sticker\\1b09d9c4726d721e86b204c23ab9e184.txt</span>\n",
       "\n",
       "</pre>\n"
      ],
      "text/plain": [
       "\n",
       "\u001b[1mC:\\Users\\kade\\Desktop\\training_dir_staging\\1_furry_sticker\\1b09d9c4726d721e86b204c23ab9e184.txt\u001b[0m\n",
       "\n"
      ]
     },
     "metadata": {},
     "output_type": "display_data"
    },
    {
     "data": {
      "text/html": [
       "<pre style=\"white-space:pre;overflow-x:auto;line-height:normal;font-family:Menlo,'DejaVu Sans Mono',consolas,'Courier New',monospace\">Tag <span style=\"color: #008000; text-decoration-color: #008000\">\"</span><span style=\"color: #9edbd5; text-decoration-color: #9edbd5; font-weight: bold\">fox</span><span style=\"color: #008000; text-decoration-color: #008000\">\"</span> found in caption <span style=\"color: #008000; text-decoration-color: #008000\">\"The image depicts an anthro red </span><span style=\"color: #9edbd5; text-decoration-color: #9edbd5; font-weight: bold\">fox</span><span style=\"color: #008000; text-decoration-color: #008000\"> sitting at a desk.\"</span>\n",
       "</pre>\n"
      ],
      "text/plain": [
       "Tag \u001b[32m\"\u001b[0m\u001b[1;38;2;158;219;213mfox\u001b[0m\u001b[32m\"\u001b[0m found in caption \u001b[32m\"The image depicts an anthro red \u001b[0m\u001b[1;38;2;158;219;213mfox\u001b[0m\u001b[32m sitting at a desk.\"\u001b[0m\n"
      ]
     },
     "metadata": {},
     "output_type": "display_data"
    },
    {
     "data": {
      "text/html": [
       "<pre style=\"white-space:pre;overflow-x:auto;line-height:normal;font-family:Menlo,'DejaVu Sans Mono',consolas,'Courier New',monospace\">Tag <span style=\"color: #008000; text-decoration-color: #008000\">\"</span><span style=\"color: #0482d3; text-decoration-color: #0482d3; font-weight: bold\">fox</span><span style=\"color: #008000; text-decoration-color: #008000\">\"</span> found in caption <span style=\"color: #008000; text-decoration-color: #008000\">\"The </span><span style=\"color: #0482d3; text-decoration-color: #0482d3; font-weight: bold\">fox</span><span style=\"color: #008000; text-decoration-color: #008000\"> appears to be working on a computer as evidenced by the keyboard in front of it</span>\n",
       "<span style=\"color: #008000; text-decoration-color: #008000\">and the computer mouse with a mousepad on the desk.\"</span>\n",
       "</pre>\n"
      ],
      "text/plain": [
       "Tag \u001b[32m\"\u001b[0m\u001b[1;38;2;4;130;211mfox\u001b[0m\u001b[32m\"\u001b[0m found in caption \u001b[32m\"The \u001b[0m\u001b[1;38;2;4;130;211mfox\u001b[0m\u001b[32m appears to be working on a computer as evidenced by the keyboard in front of it\u001b[0m\n",
       "\u001b[32mand the computer mouse with a mousepad on the desk.\"\u001b[0m\n"
      ]
     },
     "metadata": {},
     "output_type": "display_data"
    },
    {
     "data": {
      "text/html": [
       "<pre style=\"white-space:pre;overflow-x:auto;line-height:normal;font-family:Menlo,'DejaVu Sans Mono',consolas,'Courier New',monospace\">Tag <span style=\"color: #008000; text-decoration-color: #008000\">\"</span><span style=\"color: #992b05; text-decoration-color: #992b05; font-weight: bold\">fox</span><span style=\"color: #008000; text-decoration-color: #008000\">\"</span> found in caption <span style=\"color: #008000; text-decoration-color: #008000\">\"The </span><span style=\"color: #992b05; text-decoration-color: #992b05; font-weight: bold\">fox</span><span style=\"color: #008000; text-decoration-color: #008000\"> has a perplexed expression on its face.\"</span>\n",
       "</pre>\n"
      ],
      "text/plain": [
       "Tag \u001b[32m\"\u001b[0m\u001b[1;38;2;153;43;5mfox\u001b[0m\u001b[32m\"\u001b[0m found in caption \u001b[32m\"The \u001b[0m\u001b[1;38;2;153;43;5mfox\u001b[0m\u001b[32m has a perplexed expression on its face.\"\u001b[0m\n"
      ]
     },
     "metadata": {},
     "output_type": "display_data"
    },
    {
     "data": {
      "text/html": [
       "<pre style=\"white-space:pre;overflow-x:auto;line-height:normal;font-family:Menlo,'DejaVu Sans Mono',consolas,'Courier New',monospace\">Tag <span style=\"color: #008000; text-decoration-color: #008000\">\"</span><span style=\"color: #5a3d2c; text-decoration-color: #5a3d2c; font-weight: bold\">anthro</span><span style=\"color: #008000; text-decoration-color: #008000\">\"</span> found in caption <span style=\"color: #008000; text-decoration-color: #008000\">\"The image depicts an </span><span style=\"color: #5a3d2c; text-decoration-color: #5a3d2c; font-weight: bold\">anthro</span><span style=\"color: #008000; text-decoration-color: #008000\"> red fox sitting at a desk.\"</span>\n",
       "</pre>\n"
      ],
      "text/plain": [
       "Tag \u001b[32m\"\u001b[0m\u001b[1;38;2;90;61;44manthro\u001b[0m\u001b[32m\"\u001b[0m found in caption \u001b[32m\"The image depicts an \u001b[0m\u001b[1;38;2;90;61;44manthro\u001b[0m\u001b[32m red fox sitting at a desk.\"\u001b[0m\n"
      ]
     },
     "metadata": {},
     "output_type": "display_data"
    },
    {
     "data": {
      "text/html": [
       "<pre style=\"white-space:pre;overflow-x:auto;line-height:normal;font-family:Menlo,'DejaVu Sans Mono',consolas,'Courier New',monospace\">\n",
       "<span style=\"font-weight: bold\">C:\\Users\\kade\\Desktop\\training_dir_staging\\1_furry_sticker\\1c014a48012a09c9d2fb05aea4862190.txt</span>\n",
       "\n",
       "</pre>\n"
      ],
      "text/plain": [
       "\n",
       "\u001b[1mC:\\Users\\kade\\Desktop\\training_dir_staging\\1_furry_sticker\\1c014a48012a09c9d2fb05aea4862190.txt\u001b[0m\n",
       "\n"
      ]
     },
     "metadata": {},
     "output_type": "display_data"
    },
    {
     "data": {
      "text/html": [
       "<pre style=\"white-space:pre;overflow-x:auto;line-height:normal;font-family:Menlo,'DejaVu Sans Mono',consolas,'Courier New',monospace\">Tag <span style=\"color: #008000; text-decoration-color: #008000\">\"</span><span style=\"color: #056f31; text-decoration-color: #056f31; font-weight: bold\">anthro</span><span style=\"color: #008000; text-decoration-color: #008000\">\"</span> found in caption <span style=\"color: #008000; text-decoration-color: #008000\">\"The image showcases a cartoonish </span><span style=\"color: #056f31; text-decoration-color: #056f31; font-weight: bold\">anthro</span><span style=\"color: #008000; text-decoration-color: #008000\"> canine with gray and black fur.\"</span>\n",
       "</pre>\n"
      ],
      "text/plain": [
       "Tag \u001b[32m\"\u001b[0m\u001b[1;38;2;5;111;49manthro\u001b[0m\u001b[32m\"\u001b[0m found in caption \u001b[32m\"The image showcases a cartoonish \u001b[0m\u001b[1;38;2;5;111;49manthro\u001b[0m\u001b[32m canine with gray and black fur.\"\u001b[0m\n"
      ]
     },
     "metadata": {},
     "output_type": "display_data"
    },
    {
     "data": {
      "text/html": [
       "<pre style=\"white-space:pre;overflow-x:auto;line-height:normal;font-family:Menlo,'DejaVu Sans Mono',consolas,'Courier New',monospace\">Tag <span style=\"color: #008000; text-decoration-color: #008000\">\"</span><span style=\"color: #dd86f6; text-decoration-color: #dd86f6; font-weight: bold\">fur</span><span style=\"color: #008000; text-decoration-color: #008000\">\"</span> found in caption <span style=\"color: #008000; text-decoration-color: #008000\">\"The image showcases a cartoonish anthro canine with gray and black </span><span style=\"color: #dd86f6; text-decoration-color: #dd86f6; font-weight: bold\">fur</span><span style=\"color: #008000; text-decoration-color: #008000\">.\"</span>\n",
       "</pre>\n"
      ],
      "text/plain": [
       "Tag \u001b[32m\"\u001b[0m\u001b[1;38;2;221;134;246mfur\u001b[0m\u001b[32m\"\u001b[0m found in caption \u001b[32m\"The image showcases a cartoonish anthro canine with gray and black \u001b[0m\u001b[1;38;2;221;134;246mfur\u001b[0m\u001b[32m.\"\u001b[0m\n"
      ]
     },
     "metadata": {},
     "output_type": "display_data"
    },
    {
     "data": {
      "text/html": [
       "<pre style=\"white-space:pre;overflow-x:auto;line-height:normal;font-family:Menlo,'DejaVu Sans Mono',consolas,'Courier New',monospace\">Tag <span style=\"color: #008000; text-decoration-color: #008000\">\"</span><span style=\"color: #b4d579; text-decoration-color: #b4d579; font-weight: bold\">canine</span><span style=\"color: #008000; text-decoration-color: #008000\">\"</span> found in caption <span style=\"color: #008000; text-decoration-color: #008000\">\"The image showcases a cartoonish anthro </span><span style=\"color: #b4d579; text-decoration-color: #b4d579; font-weight: bold\">canine</span><span style=\"color: #008000; text-decoration-color: #008000\"> with gray and black fur.\"</span>\n",
       "</pre>\n"
      ],
      "text/plain": [
       "Tag \u001b[32m\"\u001b[0m\u001b[1;38;2;180;213;121mcanine\u001b[0m\u001b[32m\"\u001b[0m found in caption \u001b[32m\"The image showcases a cartoonish anthro \u001b[0m\u001b[1;38;2;180;213;121mcanine\u001b[0m\u001b[32m with gray and black fur.\"\u001b[0m\n"
      ]
     },
     "metadata": {},
     "output_type": "display_data"
    },
    {
     "data": {
      "text/html": [
       "<pre style=\"white-space:pre;overflow-x:auto;line-height:normal;font-family:Menlo,'DejaVu Sans Mono',consolas,'Courier New',monospace\">\n",
       "<span style=\"font-weight: bold\">C:\\Users\\kade\\Desktop\\training_dir_staging\\1_furry_sticker\\1d64f33795f33146e529a43b23c9d247.txt</span>\n",
       "\n",
       "</pre>\n"
      ],
      "text/plain": [
       "\n",
       "\u001b[1mC:\\Users\\kade\\Desktop\\training_dir_staging\\1_furry_sticker\\1d64f33795f33146e529a43b23c9d247.txt\u001b[0m\n",
       "\n"
      ]
     },
     "metadata": {},
     "output_type": "display_data"
    },
    {
     "data": {
      "text/html": [
       "<pre style=\"white-space:pre;overflow-x:auto;line-height:normal;font-family:Menlo,'DejaVu Sans Mono',consolas,'Courier New',monospace\">Tag <span style=\"color: #008000; text-decoration-color: #008000\">\"</span><span style=\"color: #e0c191; text-decoration-color: #e0c191; font-weight: bold\">furry sticker</span><span style=\"color: #008000; text-decoration-color: #008000\">\"</span> found in caption <span style=\"color: #008000; text-decoration-color: #008000\">\"The </span><span style=\"color: #e0c191; text-decoration-color: #e0c191; font-weight: bold\">furry sticker</span><span style=\"color: #008000; text-decoration-color: #008000\"> features a cartoon anthro fox character.\"</span>\n",
       "</pre>\n"
      ],
      "text/plain": [
       "Tag \u001b[32m\"\u001b[0m\u001b[1;38;2;224;193;145mfurry sticker\u001b[0m\u001b[32m\"\u001b[0m found in caption \u001b[32m\"The \u001b[0m\u001b[1;38;2;224;193;145mfurry sticker\u001b[0m\u001b[32m features a cartoon anthro fox character.\"\u001b[0m\n"
      ]
     },
     "metadata": {},
     "output_type": "display_data"
    },
    {
     "data": {
      "text/html": [
       "<pre style=\"white-space:pre;overflow-x:auto;line-height:normal;font-family:Menlo,'DejaVu Sans Mono',consolas,'Courier New',monospace\">Tag <span style=\"color: #008000; text-decoration-color: #008000\">\"</span><span style=\"color: #0cd150; text-decoration-color: #0cd150; font-weight: bold\">fox</span><span style=\"color: #008000; text-decoration-color: #008000\">\"</span> found in caption <span style=\"color: #008000; text-decoration-color: #008000\">\"The furry sticker features a cartoon anthro </span><span style=\"color: #0cd150; text-decoration-color: #0cd150; font-weight: bold\">fox</span><span style=\"color: #008000; text-decoration-color: #008000\"> character.\"</span>\n",
       "</pre>\n"
      ],
      "text/plain": [
       "Tag \u001b[32m\"\u001b[0m\u001b[1;38;2;12;209;80mfox\u001b[0m\u001b[32m\"\u001b[0m found in caption \u001b[32m\"The furry sticker features a cartoon anthro \u001b[0m\u001b[1;38;2;12;209;80mfox\u001b[0m\u001b[32m character.\"\u001b[0m\n"
      ]
     },
     "metadata": {},
     "output_type": "display_data"
    },
    {
     "data": {
      "text/html": [
       "<pre style=\"white-space:pre;overflow-x:auto;line-height:normal;font-family:Menlo,'DejaVu Sans Mono',consolas,'Courier New',monospace\">Tag <span style=\"color: #008000; text-decoration-color: #008000\">\"</span><span style=\"color: #1dcd22; text-decoration-color: #1dcd22; font-weight: bold\">fox</span><span style=\"color: #008000; text-decoration-color: #008000\">\"</span> found in caption <span style=\"color: #008000; text-decoration-color: #008000\">\"The </span><span style=\"color: #1dcd22; text-decoration-color: #1dcd22; font-weight: bold\">fox</span><span style=\"color: #008000; text-decoration-color: #008000\"> has a red fur with pointed ears and amber eyes.\"</span>\n",
       "</pre>\n"
      ],
      "text/plain": [
       "Tag \u001b[32m\"\u001b[0m\u001b[1;38;2;29;205;34mfox\u001b[0m\u001b[32m\"\u001b[0m found in caption \u001b[32m\"The \u001b[0m\u001b[1;38;2;29;205;34mfox\u001b[0m\u001b[32m has a red fur with pointed ears and amber eyes.\"\u001b[0m\n"
      ]
     },
     "metadata": {},
     "output_type": "display_data"
    },
    {
     "data": {
      "text/html": [
       "<pre style=\"white-space:pre;overflow-x:auto;line-height:normal;font-family:Menlo,'DejaVu Sans Mono',consolas,'Courier New',monospace\">Tag <span style=\"color: #008000; text-decoration-color: #008000\">\"</span><span style=\"color: #006a15; text-decoration-color: #006a15; font-weight: bold\">fox</span><span style=\"color: #008000; text-decoration-color: #008000\">\"</span> found in caption <span style=\"color: #008000; text-decoration-color: #008000\">\"Above the </span><span style=\"color: #006a15; text-decoration-color: #006a15; font-weight: bold\">fox</span><span style=\"color: #008000; text-decoration-color: #008000\"> there's a light bulb symbol indicating a bright idea or inspiration.\"</span>\n",
       "</pre>\n"
      ],
      "text/plain": [
       "Tag \u001b[32m\"\u001b[0m\u001b[1;38;2;0;106;21mfox\u001b[0m\u001b[32m\"\u001b[0m found in caption \u001b[32m\"Above the \u001b[0m\u001b[1;38;2;0;106;21mfox\u001b[0m\u001b[32m there's a light bulb symbol indicating a bright idea or inspiration.\"\u001b[0m\n"
      ]
     },
     "metadata": {},
     "output_type": "display_data"
    },
    {
     "data": {
      "text/html": [
       "<pre style=\"white-space:pre;overflow-x:auto;line-height:normal;font-family:Menlo,'DejaVu Sans Mono',consolas,'Courier New',monospace\">Tag <span style=\"color: #008000; text-decoration-color: #008000\">\"</span><span style=\"color: #b61051; text-decoration-color: #b61051; font-weight: bold\">anthro</span><span style=\"color: #008000; text-decoration-color: #008000\">\"</span> found in caption <span style=\"color: #008000; text-decoration-color: #008000\">\"The furry sticker features a cartoon </span><span style=\"color: #b61051; text-decoration-color: #b61051; font-weight: bold\">anthro</span><span style=\"color: #008000; text-decoration-color: #008000\"> fox character.\"</span>\n",
       "</pre>\n"
      ],
      "text/plain": [
       "Tag \u001b[32m\"\u001b[0m\u001b[1;38;2;182;16;81manthro\u001b[0m\u001b[32m\"\u001b[0m found in caption \u001b[32m\"The furry sticker features a cartoon \u001b[0m\u001b[1;38;2;182;16;81manthro\u001b[0m\u001b[32m fox character.\"\u001b[0m\n"
      ]
     },
     "metadata": {},
     "output_type": "display_data"
    },
    {
     "data": {
      "text/html": [
       "<pre style=\"white-space:pre;overflow-x:auto;line-height:normal;font-family:Menlo,'DejaVu Sans Mono',consolas,'Courier New',monospace\">Tag <span style=\"color: #008000; text-decoration-color: #008000\">\"</span><span style=\"color: #639b61; text-decoration-color: #639b61; font-weight: bold\">fur</span><span style=\"color: #008000; text-decoration-color: #008000\">\"</span> found in caption <span style=\"color: #008000; text-decoration-color: #008000\">\"The fox has a red </span><span style=\"color: #639b61; text-decoration-color: #639b61; font-weight: bold\">fur</span><span style=\"color: #008000; text-decoration-color: #008000\"> with pointed ears and amber eyes.\"</span>\n",
       "</pre>\n"
      ],
      "text/plain": [
       "Tag \u001b[32m\"\u001b[0m\u001b[1;38;2;99;155;97mfur\u001b[0m\u001b[32m\"\u001b[0m found in caption \u001b[32m\"The fox has a red \u001b[0m\u001b[1;38;2;99;155;97mfur\u001b[0m\u001b[32m with pointed ears and amber eyes.\"\u001b[0m\n"
      ]
     },
     "metadata": {},
     "output_type": "display_data"
    },
    {
     "data": {
      "text/html": [
       "<pre style=\"white-space:pre;overflow-x:auto;line-height:normal;font-family:Menlo,'DejaVu Sans Mono',consolas,'Courier New',monospace\">Tag <span style=\"color: #008000; text-decoration-color: #008000\">\"</span><span style=\"color: #e226b5; text-decoration-color: #e226b5; font-weight: bold\">red fur</span><span style=\"color: #008000; text-decoration-color: #008000\">\"</span> found in caption <span style=\"color: #008000; text-decoration-color: #008000\">\"The fox has a </span><span style=\"color: #e226b5; text-decoration-color: #e226b5; font-weight: bold\">red fur</span><span style=\"color: #008000; text-decoration-color: #008000\"> with pointed ears and amber eyes.\"</span>\n",
       "</pre>\n"
      ],
      "text/plain": [
       "Tag \u001b[32m\"\u001b[0m\u001b[1;38;2;226;38;181mred fur\u001b[0m\u001b[32m\"\u001b[0m found in caption \u001b[32m\"The fox has a \u001b[0m\u001b[1;38;2;226;38;181mred fur\u001b[0m\u001b[32m with pointed ears and amber eyes.\"\u001b[0m\n"
      ]
     },
     "metadata": {},
     "output_type": "display_data"
    },
    {
     "data": {
      "text/html": [
       "<pre style=\"white-space:pre;overflow-x:auto;line-height:normal;font-family:Menlo,'DejaVu Sans Mono',consolas,'Courier New',monospace\">Tag <span style=\"color: #008000; text-decoration-color: #008000\">\"</span><span style=\"color: #e3c0e7; text-decoration-color: #e3c0e7; font-weight: bold\">outline</span><span style=\"color: #008000; text-decoration-color: #008000\">\"</span> found in caption <span style=\"color: #008000; text-decoration-color: #008000\">\"The character has a white </span><span style=\"color: #e3c0e7; text-decoration-color: #e3c0e7; font-weight: bold\">outline</span><span style=\"color: #008000; text-decoration-color: #008000\"> around it.\"</span>\n",
       "</pre>\n"
      ],
      "text/plain": [
       "Tag \u001b[32m\"\u001b[0m\u001b[1;38;2;227;192;231moutline\u001b[0m\u001b[32m\"\u001b[0m found in caption \u001b[32m\"The character has a white \u001b[0m\u001b[1;38;2;227;192;231moutline\u001b[0m\u001b[32m around it.\"\u001b[0m\n"
      ]
     },
     "metadata": {},
     "output_type": "display_data"
    },
    {
     "data": {
      "text/html": [
       "<pre style=\"white-space:pre;overflow-x:auto;line-height:normal;font-family:Menlo,'DejaVu Sans Mono',consolas,'Courier New',monospace\">\n",
       "<span style=\"font-weight: bold\">C:\\Users\\kade\\Desktop\\training_dir_staging\\1_furry_sticker\\1e3206f761554e1827e9e2ff1dd2f180.txt</span>\n",
       "\n",
       "</pre>\n"
      ],
      "text/plain": [
       "\n",
       "\u001b[1mC:\\Users\\kade\\Desktop\\training_dir_staging\\1_furry_sticker\\1e3206f761554e1827e9e2ff1dd2f180.txt\u001b[0m\n",
       "\n"
      ]
     },
     "metadata": {},
     "output_type": "display_data"
    },
    {
     "data": {
      "text/html": [
       "<pre style=\"white-space:pre;overflow-x:auto;line-height:normal;font-family:Menlo,'DejaVu Sans Mono',consolas,'Courier New',monospace\">Tag <span style=\"color: #008000; text-decoration-color: #008000\">\"</span><span style=\"color: #1a2cdc; text-decoration-color: #1a2cdc; font-weight: bold\">furry sticker</span><span style=\"color: #008000; text-decoration-color: #008000\">\"</span> found in caption <span style=\"color: #008000; text-decoration-color: #008000\">\"The </span><span style=\"color: #1a2cdc; text-decoration-color: #1a2cdc; font-weight: bold\">furry sticker</span><span style=\"color: #008000; text-decoration-color: #008000\"> showcases an animated character that resembles a fluffy </span>\n",
       "<span style=\"color: #008000; text-decoration-color: #008000\">orange cat.\"</span>\n",
       "</pre>\n"
      ],
      "text/plain": [
       "Tag \u001b[32m\"\u001b[0m\u001b[1;38;2;26;44;220mfurry sticker\u001b[0m\u001b[32m\"\u001b[0m found in caption \u001b[32m\"The \u001b[0m\u001b[1;38;2;26;44;220mfurry sticker\u001b[0m\u001b[32m showcases an animated character that resembles a fluffy \u001b[0m\n",
       "\u001b[32morange cat.\"\u001b[0m\n"
      ]
     },
     "metadata": {},
     "output_type": "display_data"
    },
    {
     "data": {
      "text/html": [
       "<pre style=\"white-space:pre;overflow-x:auto;line-height:normal;font-family:Menlo,'DejaVu Sans Mono',consolas,'Courier New',monospace\">Tag <span style=\"color: #008000; text-decoration-color: #008000\">\"</span><span style=\"color: #079ba9; text-decoration-color: #079ba9; font-weight: bold\">yarn</span><span style=\"color: #008000; text-decoration-color: #008000\">\"</span> found in caption <span style=\"color: #008000; text-decoration-color: #008000\">\"The cat appears to be playing with a red ball of </span><span style=\"color: #079ba9; text-decoration-color: #079ba9; font-weight: bold\">yarn</span><span style=\"color: #008000; text-decoration-color: #008000\"> holding it with both paws and </span>\n",
       "<span style=\"color: #008000; text-decoration-color: #008000\">biting into it.\"</span>\n",
       "</pre>\n"
      ],
      "text/plain": [
       "Tag \u001b[32m\"\u001b[0m\u001b[1;38;2;7;155;169myarn\u001b[0m\u001b[32m\"\u001b[0m found in caption \u001b[32m\"The cat appears to be playing with a red ball of \u001b[0m\u001b[1;38;2;7;155;169myarn\u001b[0m\u001b[32m holding it with both paws and \u001b[0m\n",
       "\u001b[32mbiting into it.\"\u001b[0m\n"
      ]
     },
     "metadata": {},
     "output_type": "display_data"
    },
    {
     "data": {
      "text/html": [
       "<pre style=\"white-space:pre;overflow-x:auto;line-height:normal;font-family:Menlo,'DejaVu Sans Mono',consolas,'Courier New',monospace\">Tag <span style=\"color: #008000; text-decoration-color: #008000\">\"</span><span style=\"color: #8acd46; text-decoration-color: #8acd46; font-weight: bold\">paws</span><span style=\"color: #008000; text-decoration-color: #008000\">\"</span> found in caption <span style=\"color: #008000; text-decoration-color: #008000\">\"The cat appears to be playing with a red ball of yarn holding it with both </span><span style=\"color: #8acd46; text-decoration-color: #8acd46; font-weight: bold\">paws</span><span style=\"color: #008000; text-decoration-color: #008000\"> and </span>\n",
       "<span style=\"color: #008000; text-decoration-color: #008000\">biting into it.\"</span>\n",
       "</pre>\n"
      ],
      "text/plain": [
       "Tag \u001b[32m\"\u001b[0m\u001b[1;38;2;138;205;70mpaws\u001b[0m\u001b[32m\"\u001b[0m found in caption \u001b[32m\"The cat appears to be playing with a red ball of yarn holding it with both \u001b[0m\u001b[1;38;2;138;205;70mpaws\u001b[0m\u001b[32m and \u001b[0m\n",
       "\u001b[32mbiting into it.\"\u001b[0m\n"
      ]
     },
     "metadata": {},
     "output_type": "display_data"
    },
    {
     "data": {
      "text/html": [
       "<pre style=\"white-space:pre;overflow-x:auto;line-height:normal;font-family:Menlo,'DejaVu Sans Mono',consolas,'Courier New',monospace\">\n",
       "<span style=\"font-weight: bold\">C:\\Users\\kade\\Desktop\\training_dir_staging\\1_furry_sticker\\2ae636ee5a3b5b8240f11ca4b9083435.txt</span>\n",
       "\n",
       "</pre>\n"
      ],
      "text/plain": [
       "\n",
       "\u001b[1mC:\\Users\\kade\\Desktop\\training_dir_staging\\1_furry_sticker\\2ae636ee5a3b5b8240f11ca4b9083435.txt\u001b[0m\n",
       "\n"
      ]
     },
     "metadata": {},
     "output_type": "display_data"
    },
    {
     "data": {
      "text/html": [
       "<pre style=\"white-space:pre;overflow-x:auto;line-height:normal;font-family:Menlo,'DejaVu Sans Mono',consolas,'Courier New',monospace\">Tag <span style=\"color: #008000; text-decoration-color: #008000\">\"</span><span style=\"color: #1a959d; text-decoration-color: #1a959d; font-weight: bold\">halo</span><span style=\"color: #008000; text-decoration-color: #008000\">\"</span> found in caption <span style=\"color: #008000; text-decoration-color: #008000\">\"The character also has a </span><span style=\"color: #1a959d; text-decoration-color: #1a959d; font-weight: bold\">halo</span><span style=\"color: #008000; text-decoration-color: #008000\"> above its head which is a common symbol of purity or </span>\n",
       "<span style=\"color: #008000; text-decoration-color: #008000\">divinity in various cultures.\"</span>\n",
       "</pre>\n"
      ],
      "text/plain": [
       "Tag \u001b[32m\"\u001b[0m\u001b[1;38;2;26;149;157mhalo\u001b[0m\u001b[32m\"\u001b[0m found in caption \u001b[32m\"The character also has a \u001b[0m\u001b[1;38;2;26;149;157mhalo\u001b[0m\u001b[32m above its head which is a common symbol of purity or \u001b[0m\n",
       "\u001b[32mdivinity in various cultures.\"\u001b[0m\n"
      ]
     },
     "metadata": {},
     "output_type": "display_data"
    },
    {
     "data": {
      "text/html": [
       "<pre style=\"white-space:pre;overflow-x:auto;line-height:normal;font-family:Menlo,'DejaVu Sans Mono',consolas,'Courier New',monospace\">Tag <span style=\"color: #008000; text-decoration-color: #008000\">\"</span><span style=\"color: #51c726; text-decoration-color: #51c726; font-weight: bold\">eyes closed</span><span style=\"color: #008000; text-decoration-color: #008000\">\"</span> found in caption <span style=\"color: #008000; text-decoration-color: #008000\">\"It has a playful expression with its </span><span style=\"color: #51c726; text-decoration-color: #51c726; font-weight: bold\">eyes closed</span><span style=\"color: #008000; text-decoration-color: #008000\"> and a slight smile.\"</span>\n",
       "</pre>\n"
      ],
      "text/plain": [
       "Tag \u001b[32m\"\u001b[0m\u001b[1;38;2;81;199;38meyes closed\u001b[0m\u001b[32m\"\u001b[0m found in caption \u001b[32m\"It has a playful expression with its \u001b[0m\u001b[1;38;2;81;199;38meyes closed\u001b[0m\u001b[32m and a slight smile.\"\u001b[0m\n"
      ]
     },
     "metadata": {},
     "output_type": "display_data"
    },
    {
     "data": {
      "text/html": [
       "<pre style=\"white-space:pre;overflow-x:auto;line-height:normal;font-family:Menlo,'DejaVu Sans Mono',consolas,'Courier New',monospace\">Tag <span style=\"color: #008000; text-decoration-color: #008000\">\"</span><span style=\"color: #67fc91; text-decoration-color: #67fc91; font-weight: bold\">anthro</span><span style=\"color: #008000; text-decoration-color: #008000\">\"</span> found in caption <span style=\"color: #008000; text-decoration-color: #008000\">\"The image depicts an animated character resembling an </span><span style=\"color: #67fc91; text-decoration-color: #67fc91; font-weight: bold\">anthro</span><span style=\"color: #008000; text-decoration-color: #008000\"> canine with black and </span>\n",
       "<span style=\"color: #008000; text-decoration-color: #008000\">gray fur.\"</span>\n",
       "</pre>\n"
      ],
      "text/plain": [
       "Tag \u001b[32m\"\u001b[0m\u001b[1;38;2;103;252;145manthro\u001b[0m\u001b[32m\"\u001b[0m found in caption \u001b[32m\"The image depicts an animated character resembling an \u001b[0m\u001b[1;38;2;103;252;145manthro\u001b[0m\u001b[32m canine with black and \u001b[0m\n",
       "\u001b[32mgray fur.\"\u001b[0m\n"
      ]
     },
     "metadata": {},
     "output_type": "display_data"
    },
    {
     "data": {
      "text/html": [
       "<pre style=\"white-space:pre;overflow-x:auto;line-height:normal;font-family:Menlo,'DejaVu Sans Mono',consolas,'Courier New',monospace\">Tag <span style=\"color: #008000; text-decoration-color: #008000\">\"</span><span style=\"color: #788a19; text-decoration-color: #788a19; font-weight: bold\">fur</span><span style=\"color: #008000; text-decoration-color: #008000\">\"</span> found in caption <span style=\"color: #008000; text-decoration-color: #008000\">\"The image depicts an animated character resembling an anthro canine with black and gray</span>\n",
       "<span style=\"color: #788a19; text-decoration-color: #788a19; font-weight: bold\">fur</span><span style=\"color: #008000; text-decoration-color: #008000\">.\"</span>\n",
       "</pre>\n"
      ],
      "text/plain": [
       "Tag \u001b[32m\"\u001b[0m\u001b[1;38;2;120;138;25mfur\u001b[0m\u001b[32m\"\u001b[0m found in caption \u001b[32m\"The image depicts an animated character resembling an anthro canine with black and gray\u001b[0m\n",
       "\u001b[1;38;2;120;138;25mfur\u001b[0m\u001b[32m.\"\u001b[0m\n"
      ]
     },
     "metadata": {},
     "output_type": "display_data"
    },
    {
     "data": {
      "text/html": [
       "<pre style=\"white-space:pre;overflow-x:auto;line-height:normal;font-family:Menlo,'DejaVu Sans Mono',consolas,'Courier New',monospace\">Tag <span style=\"color: #008000; text-decoration-color: #008000\">\"</span><span style=\"color: #55a66e; text-decoration-color: #55a66e; font-weight: bold\">canine</span><span style=\"color: #008000; text-decoration-color: #008000\">\"</span> found in caption <span style=\"color: #008000; text-decoration-color: #008000\">\"The image depicts an animated character resembling an anthro </span><span style=\"color: #55a66e; text-decoration-color: #55a66e; font-weight: bold\">canine</span><span style=\"color: #008000; text-decoration-color: #008000\"> with black and </span>\n",
       "<span style=\"color: #008000; text-decoration-color: #008000\">gray fur.\"</span>\n",
       "</pre>\n"
      ],
      "text/plain": [
       "Tag \u001b[32m\"\u001b[0m\u001b[1;38;2;85;166;110mcanine\u001b[0m\u001b[32m\"\u001b[0m found in caption \u001b[32m\"The image depicts an animated character resembling an anthro \u001b[0m\u001b[1;38;2;85;166;110mcanine\u001b[0m\u001b[32m with black and \u001b[0m\n",
       "\u001b[32mgray fur.\"\u001b[0m\n"
      ]
     },
     "metadata": {},
     "output_type": "display_data"
    },
    {
     "data": {
      "text/html": [
       "<pre style=\"white-space:pre;overflow-x:auto;line-height:normal;font-family:Menlo,'DejaVu Sans Mono',consolas,'Courier New',monospace\">Tag <span style=\"color: #008000; text-decoration-color: #008000\">\"</span><span style=\"color: #4a1d7b; text-decoration-color: #4a1d7b; font-weight: bold\">smile</span><span style=\"color: #008000; text-decoration-color: #008000\">\"</span> found in caption <span style=\"color: #008000; text-decoration-color: #008000\">\"It has a playful expression with its eyes closed and a slight </span><span style=\"color: #4a1d7b; text-decoration-color: #4a1d7b; font-weight: bold\">smile</span><span style=\"color: #008000; text-decoration-color: #008000\">.\"</span>\n",
       "</pre>\n"
      ],
      "text/plain": [
       "Tag \u001b[32m\"\u001b[0m\u001b[1;38;2;74;29;123msmile\u001b[0m\u001b[32m\"\u001b[0m found in caption \u001b[32m\"It has a playful expression with its eyes closed and a slight \u001b[0m\u001b[1;38;2;74;29;123msmile\u001b[0m\u001b[32m.\"\u001b[0m\n"
      ]
     },
     "metadata": {},
     "output_type": "display_data"
    },
    {
     "data": {
      "text/html": [
       "<pre style=\"white-space:pre;overflow-x:auto;line-height:normal;font-family:Menlo,'DejaVu Sans Mono',consolas,'Courier New',monospace\">\n",
       "<span style=\"font-weight: bold\">C:\\Users\\kade\\Desktop\\training_dir_staging\\1_furry_sticker\\2b95b2d52c86f274dbe76eb23f5230d6.txt</span>\n",
       "\n",
       "</pre>\n"
      ],
      "text/plain": [
       "\n",
       "\u001b[1mC:\\Users\\kade\\Desktop\\training_dir_staging\\1_furry_sticker\\2b95b2d52c86f274dbe76eb23f5230d6.txt\u001b[0m\n",
       "\n"
      ]
     },
     "metadata": {},
     "output_type": "display_data"
    },
    {
     "data": {
      "text/html": [
       "<pre style=\"white-space:pre;overflow-x:auto;line-height:normal;font-family:Menlo,'DejaVu Sans Mono',consolas,'Courier New',monospace\">Tag <span style=\"color: #008000; text-decoration-color: #008000\">\"</span><span style=\"color: #b411e6; text-decoration-color: #b411e6; font-weight: bold\">collar</span><span style=\"color: #008000; text-decoration-color: #008000\">\"</span> found in caption <span style=\"color: #008000; text-decoration-color: #008000\">\"It has green eyes and a pink </span><span style=\"color: #b411e6; text-decoration-color: #b411e6; font-weight: bold\">collar</span><span style=\"color: #008000; text-decoration-color: #008000\">.\"</span>\n",
       "</pre>\n"
      ],
      "text/plain": [
       "Tag \u001b[32m\"\u001b[0m\u001b[1;38;2;180;17;230mcollar\u001b[0m\u001b[32m\"\u001b[0m found in caption \u001b[32m\"It has green eyes and a pink \u001b[0m\u001b[1;38;2;180;17;230mcollar\u001b[0m\u001b[32m.\"\u001b[0m\n"
      ]
     },
     "metadata": {},
     "output_type": "display_data"
    },
    {
     "data": {
      "text/html": [
       "<pre style=\"white-space:pre;overflow-x:auto;line-height:normal;font-family:Menlo,'DejaVu Sans Mono',consolas,'Courier New',monospace\">Tag <span style=\"color: #008000; text-decoration-color: #008000\">\"</span><span style=\"color: #6ceb99; text-decoration-color: #6ceb99; font-weight: bold\">anthro</span><span style=\"color: #008000; text-decoration-color: #008000\">\"</span> found in caption <span style=\"color: #008000; text-decoration-color: #008000\">\"The image depicts an animated character with the appearance of an </span><span style=\"color: #6ceb99; text-decoration-color: #6ceb99; font-weight: bold\">anthro</span><span style=\"color: #008000; text-decoration-color: #008000\"> tabby cat.\"</span>\n",
       "</pre>\n"
      ],
      "text/plain": [
       "Tag \u001b[32m\"\u001b[0m\u001b[1;38;2;108;235;153manthro\u001b[0m\u001b[32m\"\u001b[0m found in caption \u001b[32m\"The image depicts an animated character with the appearance of an \u001b[0m\u001b[1;38;2;108;235;153manthro\u001b[0m\u001b[32m tabby cat.\"\u001b[0m\n"
      ]
     },
     "metadata": {},
     "output_type": "display_data"
    },
    {
     "data": {
      "text/html": [
       "<pre style=\"white-space:pre;overflow-x:auto;line-height:normal;font-family:Menlo,'DejaVu Sans Mono',consolas,'Courier New',monospace\">Tag <span style=\"color: #008000; text-decoration-color: #008000\">\"</span><span style=\"color: #9cca50; text-decoration-color: #9cca50; font-weight: bold\">green eyes</span><span style=\"color: #008000; text-decoration-color: #008000\">\"</span> found in caption <span style=\"color: #008000; text-decoration-color: #008000\">\"It has </span><span style=\"color: #9cca50; text-decoration-color: #9cca50; font-weight: bold\">green eyes</span><span style=\"color: #008000; text-decoration-color: #008000\"> and a pink collar.\"</span>\n",
       "</pre>\n"
      ],
      "text/plain": [
       "Tag \u001b[32m\"\u001b[0m\u001b[1;38;2;156;202;80mgreen eyes\u001b[0m\u001b[32m\"\u001b[0m found in caption \u001b[32m\"It has \u001b[0m\u001b[1;38;2;156;202;80mgreen eyes\u001b[0m\u001b[32m and a pink collar.\"\u001b[0m\n"
      ]
     },
     "metadata": {},
     "output_type": "display_data"
    },
    {
     "data": {
      "text/html": [
       "<pre style=\"white-space:pre;overflow-x:auto;line-height:normal;font-family:Menlo,'DejaVu Sans Mono',consolas,'Courier New',monospace\">Tag <span style=\"color: #008000; text-decoration-color: #008000\">\"</span><span style=\"color: #7f031e; text-decoration-color: #7f031e; font-weight: bold\">cup</span><span style=\"color: #008000; text-decoration-color: #008000\">\"</span> found in caption <span style=\"color: #008000; text-decoration-color: #008000\">\"It is holding a white </span><span style=\"color: #7f031e; text-decoration-color: #7f031e; font-weight: bold\">cup</span><span style=\"color: #008000; text-decoration-color: #008000\"> containing a hot beverage as evidenced by the steam rising </span>\n",
       "<span style=\"color: #008000; text-decoration-color: #008000\">from it.\"</span>\n",
       "</pre>\n"
      ],
      "text/plain": [
       "Tag \u001b[32m\"\u001b[0m\u001b[1;38;2;127;3;30mcup\u001b[0m\u001b[32m\"\u001b[0m found in caption \u001b[32m\"It is holding a white \u001b[0m\u001b[1;38;2;127;3;30mcup\u001b[0m\u001b[32m containing a hot beverage as evidenced by the steam rising \u001b[0m\n",
       "\u001b[32mfrom it.\"\u001b[0m\n"
      ]
     },
     "metadata": {},
     "output_type": "display_data"
    },
    {
     "data": {
      "text/html": [
       "<pre style=\"white-space:pre;overflow-x:auto;line-height:normal;font-family:Menlo,'DejaVu Sans Mono',consolas,'Courier New',monospace\">Tag <span style=\"color: #008000; text-decoration-color: #008000\">\"</span><span style=\"color: #8873b6; text-decoration-color: #8873b6; font-weight: bold\">beverage</span><span style=\"color: #008000; text-decoration-color: #008000\">\"</span> found in caption <span style=\"color: #008000; text-decoration-color: #008000\">\"It is holding a white cup containing a hot </span><span style=\"color: #8873b6; text-decoration-color: #8873b6; font-weight: bold\">beverage</span><span style=\"color: #008000; text-decoration-color: #008000\"> as evidenced by the steam </span>\n",
       "<span style=\"color: #008000; text-decoration-color: #008000\">rising from it.\"</span>\n",
       "</pre>\n"
      ],
      "text/plain": [
       "Tag \u001b[32m\"\u001b[0m\u001b[1;38;2;136;115;182mbeverage\u001b[0m\u001b[32m\"\u001b[0m found in caption \u001b[32m\"It is holding a white cup containing a hot \u001b[0m\u001b[1;38;2;136;115;182mbeverage\u001b[0m\u001b[32m as evidenced by the steam \u001b[0m\n",
       "\u001b[32mrising from it.\"\u001b[0m\n"
      ]
     },
     "metadata": {},
     "output_type": "display_data"
    },
    {
     "data": {
      "text/html": [
       "<pre style=\"white-space:pre;overflow-x:auto;line-height:normal;font-family:Menlo,'DejaVu Sans Mono',consolas,'Courier New',monospace\">\n",
       "<span style=\"font-weight: bold\">C:\\Users\\kade\\Desktop\\training_dir_staging\\1_furry_sticker\\2d7427d4c1f515b063211ae7605dfe94.txt</span>\n",
       "\n",
       "</pre>\n"
      ],
      "text/plain": [
       "\n",
       "\u001b[1mC:\\Users\\kade\\Desktop\\training_dir_staging\\1_furry_sticker\\2d7427d4c1f515b063211ae7605dfe94.txt\u001b[0m\n",
       "\n"
      ]
     },
     "metadata": {},
     "output_type": "display_data"
    },
    {
     "data": {
      "text/html": [
       "<pre style=\"white-space:pre;overflow-x:auto;line-height:normal;font-family:Menlo,'DejaVu Sans Mono',consolas,'Courier New',monospace\">Tag <span style=\"color: #008000; text-decoration-color: #008000\">\"</span><span style=\"color: #eaaf3e; text-decoration-color: #eaaf3e; font-weight: bold\">anthro</span><span style=\"color: #008000; text-decoration-color: #008000\">\"</span> found in caption <span style=\"color: #008000; text-decoration-color: #008000\">\"The image showcases an cartoony </span><span style=\"color: #eaaf3e; text-decoration-color: #eaaf3e; font-weight: bold\">anthro</span><span style=\"color: #008000; text-decoration-color: #008000\"> panther.\"</span>\n",
       "</pre>\n"
      ],
      "text/plain": [
       "Tag \u001b[32m\"\u001b[0m\u001b[1;38;2;234;175;62manthro\u001b[0m\u001b[32m\"\u001b[0m found in caption \u001b[32m\"The image showcases an cartoony \u001b[0m\u001b[1;38;2;234;175;62manthro\u001b[0m\u001b[32m panther.\"\u001b[0m\n"
      ]
     },
     "metadata": {},
     "output_type": "display_data"
    },
    {
     "data": {
      "text/html": [
       "<pre style=\"white-space:pre;overflow-x:auto;line-height:normal;font-family:Menlo,'DejaVu Sans Mono',consolas,'Courier New',monospace\">Tag <span style=\"color: #008000; text-decoration-color: #008000\">\"</span><span style=\"color: #87bf39; text-decoration-color: #87bf39; font-weight: bold\">outline</span><span style=\"color: #008000; text-decoration-color: #008000\">\"</span> found in caption <span style=\"color: #008000; text-decoration-color: #008000\">\"The character has a white </span><span style=\"color: #87bf39; text-decoration-color: #87bf39; font-weight: bold\">outline</span><span style=\"color: #008000; text-decoration-color: #008000\"> around it.\"</span>\n",
       "</pre>\n"
      ],
      "text/plain": [
       "Tag \u001b[32m\"\u001b[0m\u001b[1;38;2;135;191;57moutline\u001b[0m\u001b[32m\"\u001b[0m found in caption \u001b[32m\"The character has a white \u001b[0m\u001b[1;38;2;135;191;57moutline\u001b[0m\u001b[32m around it.\"\u001b[0m\n"
      ]
     },
     "metadata": {},
     "output_type": "display_data"
    },
    {
     "data": {
      "text/html": [
       "<pre style=\"white-space:pre;overflow-x:auto;line-height:normal;font-family:Menlo,'DejaVu Sans Mono',consolas,'Courier New',monospace\">\n",
       "<span style=\"font-weight: bold\">C:\\Users\\kade\\Desktop\\training_dir_staging\\1_furry_sticker\\2dbc05b0a9a9053fbfb97a94f20689a8.txt</span>\n",
       "\n",
       "</pre>\n"
      ],
      "text/plain": [
       "\n",
       "\u001b[1mC:\\Users\\kade\\Desktop\\training_dir_staging\\1_furry_sticker\\2dbc05b0a9a9053fbfb97a94f20689a8.txt\u001b[0m\n",
       "\n"
      ]
     },
     "metadata": {},
     "output_type": "display_data"
    },
    {
     "data": {
      "text/html": [
       "<pre style=\"white-space:pre;overflow-x:auto;line-height:normal;font-family:Menlo,'DejaVu Sans Mono',consolas,'Courier New',monospace\">Tag <span style=\"color: #008000; text-decoration-color: #008000\">\"</span><span style=\"color: #f4d39b; text-decoration-color: #f4d39b; font-weight: bold\">tongue</span><span style=\"color: #008000; text-decoration-color: #008000\">\"</span> found in caption <span style=\"color: #008000; text-decoration-color: #008000\">\"The character has a playful expression with its </span><span style=\"color: #f4d39b; text-decoration-color: #f4d39b; font-weight: bold\">tongue</span><span style=\"color: #008000; text-decoration-color: #008000\"> sticking out and a </span>\n",
       "<span style=\"color: #008000; text-decoration-color: #008000\">mischievous glint in its eyes which are squished in a silly manner.\"</span>\n",
       "</pre>\n"
      ],
      "text/plain": [
       "Tag \u001b[32m\"\u001b[0m\u001b[1;38;2;244;211;155mtongue\u001b[0m\u001b[32m\"\u001b[0m found in caption \u001b[32m\"The character has a playful expression with its \u001b[0m\u001b[1;38;2;244;211;155mtongue\u001b[0m\u001b[32m sticking out and a \u001b[0m\n",
       "\u001b[32mmischievous glint in its eyes which are squished in a silly manner.\"\u001b[0m\n"
      ]
     },
     "metadata": {},
     "output_type": "display_data"
    },
    {
     "data": {
      "text/html": [
       "<pre style=\"white-space:pre;overflow-x:auto;line-height:normal;font-family:Menlo,'DejaVu Sans Mono',consolas,'Courier New',monospace\">Tag <span style=\"color: #008000; text-decoration-color: #008000\">\"</span><span style=\"color: #44122b; text-decoration-color: #44122b; font-weight: bold\">fur</span><span style=\"color: #008000; text-decoration-color: #008000\">\"</span> found in caption <span style=\"color: #008000; text-decoration-color: #008000\">\"The </span><span style=\"color: #44122b; text-decoration-color: #44122b; font-weight: bold\">fur</span><span style=\"color: #008000; text-decoration-color: #008000\"> color is a mix of gray and white with black highlights and it has pointed </span>\n",
       "<span style=\"color: #008000; text-decoration-color: #008000\">ears.\"</span>\n",
       "</pre>\n"
      ],
      "text/plain": [
       "Tag \u001b[32m\"\u001b[0m\u001b[1;38;2;68;18;43mfur\u001b[0m\u001b[32m\"\u001b[0m found in caption \u001b[32m\"The \u001b[0m\u001b[1;38;2;68;18;43mfur\u001b[0m\u001b[32m color is a mix of gray and white with black highlights and it has pointed \u001b[0m\n",
       "\u001b[32mears.\"\u001b[0m\n"
      ]
     },
     "metadata": {},
     "output_type": "display_data"
    },
    {
     "data": {
      "text/html": [
       "<pre style=\"white-space:pre;overflow-x:auto;line-height:normal;font-family:Menlo,'DejaVu Sans Mono',consolas,'Courier New',monospace\">Tag <span style=\"color: #008000; text-decoration-color: #008000\">\"</span><span style=\"color: #9bbad8; text-decoration-color: #9bbad8; font-weight: bold\">anthro</span><span style=\"color: #008000; text-decoration-color: #008000\">\"</span> found in caption <span style=\"color: #008000; text-decoration-color: #008000\">\"The image depicts a cartoonish </span><span style=\"color: #9bbad8; text-decoration-color: #9bbad8; font-weight: bold\">anthro</span><span style=\"color: #008000; text-decoration-color: #008000\"> canine.\"</span>\n",
       "</pre>\n"
      ],
      "text/plain": [
       "Tag \u001b[32m\"\u001b[0m\u001b[1;38;2;155;186;216manthro\u001b[0m\u001b[32m\"\u001b[0m found in caption \u001b[32m\"The image depicts a cartoonish \u001b[0m\u001b[1;38;2;155;186;216manthro\u001b[0m\u001b[32m canine.\"\u001b[0m\n"
      ]
     },
     "metadata": {},
     "output_type": "display_data"
    },
    {
     "data": {
      "text/html": [
       "<pre style=\"white-space:pre;overflow-x:auto;line-height:normal;font-family:Menlo,'DejaVu Sans Mono',consolas,'Courier New',monospace\">Tag <span style=\"color: #008000; text-decoration-color: #008000\">\"</span><span style=\"color: #b3360d; text-decoration-color: #b3360d; font-weight: bold\">canine</span><span style=\"color: #008000; text-decoration-color: #008000\">\"</span> found in caption <span style=\"color: #008000; text-decoration-color: #008000\">\"The image depicts a cartoonish anthro </span><span style=\"color: #b3360d; text-decoration-color: #b3360d; font-weight: bold\">canine</span><span style=\"color: #008000; text-decoration-color: #008000\">.\"</span>\n",
       "</pre>\n"
      ],
      "text/plain": [
       "Tag \u001b[32m\"\u001b[0m\u001b[1;38;2;179;54;13mcanine\u001b[0m\u001b[32m\"\u001b[0m found in caption \u001b[32m\"The image depicts a cartoonish anthro \u001b[0m\u001b[1;38;2;179;54;13mcanine\u001b[0m\u001b[32m.\"\u001b[0m\n"
      ]
     },
     "metadata": {},
     "output_type": "display_data"
    },
    {
     "data": {
      "text/html": [
       "<pre style=\"white-space:pre;overflow-x:auto;line-height:normal;font-family:Menlo,'DejaVu Sans Mono',consolas,'Courier New',monospace\">\n",
       "<span style=\"font-weight: bold\">C:\\Users\\kade\\Desktop\\training_dir_staging\\1_furry_sticker\\2ecb7e60de62a4cd44b60b342e6fae90.txt</span>\n",
       "\n",
       "</pre>\n"
      ],
      "text/plain": [
       "\n",
       "\u001b[1mC:\\Users\\kade\\Desktop\\training_dir_staging\\1_furry_sticker\\2ecb7e60de62a4cd44b60b342e6fae90.txt\u001b[0m\n",
       "\n"
      ]
     },
     "metadata": {},
     "output_type": "display_data"
    },
    {
     "data": {
      "text/html": [
       "<pre style=\"white-space:pre;overflow-x:auto;line-height:normal;font-family:Menlo,'DejaVu Sans Mono',consolas,'Courier New',monospace\">Tag <span style=\"color: #008000; text-decoration-color: #008000\">\"</span><span style=\"color: #22d6ea; text-decoration-color: #22d6ea; font-weight: bold\">fox</span><span style=\"color: #008000; text-decoration-color: #008000\">\"</span> found in caption <span style=\"color: #008000; text-decoration-color: #008000\">\"The image portrays an animated anthro </span><span style=\"color: #22d6ea; text-decoration-color: #22d6ea; font-weight: bold\">fox</span><span style=\"color: #008000; text-decoration-color: #008000\"> character standing upright with its arms </span>\n",
       "<span style=\"color: #008000; text-decoration-color: #008000\">raised in a celebratory manner.\"</span>\n",
       "</pre>\n"
      ],
      "text/plain": [
       "Tag \u001b[32m\"\u001b[0m\u001b[1;38;2;34;214;234mfox\u001b[0m\u001b[32m\"\u001b[0m found in caption \u001b[32m\"The image portrays an animated anthro \u001b[0m\u001b[1;38;2;34;214;234mfox\u001b[0m\u001b[32m character standing upright with its arms \u001b[0m\n",
       "\u001b[32mraised in a celebratory manner.\"\u001b[0m\n"
      ]
     },
     "metadata": {},
     "output_type": "display_data"
    },
    {
     "data": {
      "text/html": [
       "<pre style=\"white-space:pre;overflow-x:auto;line-height:normal;font-family:Menlo,'DejaVu Sans Mono',consolas,'Courier New',monospace\">Tag <span style=\"color: #008000; text-decoration-color: #008000\">\"</span><span style=\"color: #6f6e0e; text-decoration-color: #6f6e0e; font-weight: bold\">fox</span><span style=\"color: #008000; text-decoration-color: #008000\">\"</span> found in caption <span style=\"color: #008000; text-decoration-color: #008000\">\"The </span><span style=\"color: #6f6e0e; text-decoration-color: #6f6e0e; font-weight: bold\">fox</span><span style=\"color: #008000; text-decoration-color: #008000\"> has a red fur coat with white underbelly and a red tail with a white tip.\"</span>\n",
       "</pre>\n"
      ],
      "text/plain": [
       "Tag \u001b[32m\"\u001b[0m\u001b[1;38;2;111;110;14mfox\u001b[0m\u001b[32m\"\u001b[0m found in caption \u001b[32m\"The \u001b[0m\u001b[1;38;2;111;110;14mfox\u001b[0m\u001b[32m has a red fur coat with white underbelly and a red tail with a white tip.\"\u001b[0m\n"
      ]
     },
     "metadata": {},
     "output_type": "display_data"
    },
    {
     "data": {
      "text/html": [
       "<pre style=\"white-space:pre;overflow-x:auto;line-height:normal;font-family:Menlo,'DejaVu Sans Mono',consolas,'Courier New',monospace\">Tag <span style=\"color: #008000; text-decoration-color: #008000\">\"</span><span style=\"color: #b33a10; text-decoration-color: #b33a10; font-weight: bold\">fox</span><span style=\"color: #008000; text-decoration-color: #008000\">\"</span> found in caption <span style=\"color: #008000; text-decoration-color: #008000\">\"Above the </span><span style=\"color: #b33a10; text-decoration-color: #b33a10; font-weight: bold\">fox</span><span style=\"color: #008000; text-decoration-color: #008000\"> there's a word 'YAY!' written in black with a large white outline </span>\n",
       "<span style=\"color: #008000; text-decoration-color: #008000\">emphasizing its celebratory mood.\"</span>\n",
       "</pre>\n"
      ],
      "text/plain": [
       "Tag \u001b[32m\"\u001b[0m\u001b[1;38;2;179;58;16mfox\u001b[0m\u001b[32m\"\u001b[0m found in caption \u001b[32m\"Above the \u001b[0m\u001b[1;38;2;179;58;16mfox\u001b[0m\u001b[32m there's a word 'YAY!' written in black with a large white outline \u001b[0m\n",
       "\u001b[32memphasizing its celebratory mood.\"\u001b[0m\n"
      ]
     },
     "metadata": {},
     "output_type": "display_data"
    },
    {
     "data": {
      "text/html": [
       "<pre style=\"white-space:pre;overflow-x:auto;line-height:normal;font-family:Menlo,'DejaVu Sans Mono',consolas,'Courier New',monospace\">Tag <span style=\"color: #008000; text-decoration-color: #008000\">\"</span><span style=\"color: #fb3968; text-decoration-color: #fb3968; font-weight: bold\">anthro</span><span style=\"color: #008000; text-decoration-color: #008000\">\"</span> found in caption <span style=\"color: #008000; text-decoration-color: #008000\">\"The image portrays an animated </span><span style=\"color: #fb3968; text-decoration-color: #fb3968; font-weight: bold\">anthro</span><span style=\"color: #008000; text-decoration-color: #008000\"> fox character standing upright with its arms </span>\n",
       "<span style=\"color: #008000; text-decoration-color: #008000\">raised in a celebratory manner.\"</span>\n",
       "</pre>\n"
      ],
      "text/plain": [
       "Tag \u001b[32m\"\u001b[0m\u001b[1;38;2;251;57;104manthro\u001b[0m\u001b[32m\"\u001b[0m found in caption \u001b[32m\"The image portrays an animated \u001b[0m\u001b[1;38;2;251;57;104manthro\u001b[0m\u001b[32m fox character standing upright with its arms \u001b[0m\n",
       "\u001b[32mraised in a celebratory manner.\"\u001b[0m\n"
      ]
     },
     "metadata": {},
     "output_type": "display_data"
    },
    {
     "data": {
      "text/html": [
       "<pre style=\"white-space:pre;overflow-x:auto;line-height:normal;font-family:Menlo,'DejaVu Sans Mono',consolas,'Courier New',monospace\">Tag <span style=\"color: #008000; text-decoration-color: #008000\">\"</span><span style=\"color: #74b507; text-decoration-color: #74b507; font-weight: bold\">fur</span><span style=\"color: #008000; text-decoration-color: #008000\">\"</span> found in caption <span style=\"color: #008000; text-decoration-color: #008000\">\"The fox has a red </span><span style=\"color: #74b507; text-decoration-color: #74b507; font-weight: bold\">fur</span><span style=\"color: #008000; text-decoration-color: #008000\"> coat with white underbelly and a red tail with a white tip.\"</span>\n",
       "</pre>\n"
      ],
      "text/plain": [
       "Tag \u001b[32m\"\u001b[0m\u001b[1;38;2;116;181;7mfur\u001b[0m\u001b[32m\"\u001b[0m found in caption \u001b[32m\"The fox has a red \u001b[0m\u001b[1;38;2;116;181;7mfur\u001b[0m\u001b[32m coat with white underbelly and a red tail with a white tip.\"\u001b[0m\n"
      ]
     },
     "metadata": {},
     "output_type": "display_data"
    },
    {
     "data": {
      "text/html": [
       "<pre style=\"white-space:pre;overflow-x:auto;line-height:normal;font-family:Menlo,'DejaVu Sans Mono',consolas,'Courier New',monospace\">Tag <span style=\"color: #008000; text-decoration-color: #008000\">\"</span><span style=\"color: #18614a; text-decoration-color: #18614a; font-weight: bold\">red fur</span><span style=\"color: #008000; text-decoration-color: #008000\">\"</span> found in caption <span style=\"color: #008000; text-decoration-color: #008000\">\"The fox has a </span><span style=\"color: #18614a; text-decoration-color: #18614a; font-weight: bold\">red fur</span><span style=\"color: #008000; text-decoration-color: #008000\"> coat with white underbelly and a red tail with a white tip.\"</span>\n",
       "</pre>\n"
      ],
      "text/plain": [
       "Tag \u001b[32m\"\u001b[0m\u001b[1;38;2;24;97;74mred fur\u001b[0m\u001b[32m\"\u001b[0m found in caption \u001b[32m\"The fox has a \u001b[0m\u001b[1;38;2;24;97;74mred fur\u001b[0m\u001b[32m coat with white underbelly and a red tail with a white tip.\"\u001b[0m\n"
      ]
     },
     "metadata": {},
     "output_type": "display_data"
    },
    {
     "data": {
      "text/html": [
       "<pre style=\"white-space:pre;overflow-x:auto;line-height:normal;font-family:Menlo,'DejaVu Sans Mono',consolas,'Courier New',monospace\">Tag <span style=\"color: #008000; text-decoration-color: #008000\">\"</span><span style=\"color: #f6fea4; text-decoration-color: #f6fea4; font-weight: bold\">outline</span><span style=\"color: #008000; text-decoration-color: #008000\">\"</span> found in caption <span style=\"color: #008000; text-decoration-color: #008000\">\"Above the fox there's a word 'YAY!' written in black with a large white </span><span style=\"color: #f6fea4; text-decoration-color: #f6fea4; font-weight: bold\">outline</span><span style=\"color: #008000; text-decoration-color: #008000\"> </span>\n",
       "<span style=\"color: #008000; text-decoration-color: #008000\">emphasizing its celebratory mood.\"</span>\n",
       "</pre>\n"
      ],
      "text/plain": [
       "Tag \u001b[32m\"\u001b[0m\u001b[1;38;2;246;254;164moutline\u001b[0m\u001b[32m\"\u001b[0m found in caption \u001b[32m\"Above the fox there's a word 'YAY!' written in black with a large white \u001b[0m\u001b[1;38;2;246;254;164moutline\u001b[0m\u001b[32m \u001b[0m\n",
       "\u001b[32memphasizing its celebratory mood.\"\u001b[0m\n"
      ]
     },
     "metadata": {},
     "output_type": "display_data"
    },
    {
     "data": {
      "text/html": [
       "<pre style=\"white-space:pre;overflow-x:auto;line-height:normal;font-family:Menlo,'DejaVu Sans Mono',consolas,'Courier New',monospace\">Tag <span style=\"color: #008000; text-decoration-color: #008000\">\"</span><span style=\"color: #92f93b; text-decoration-color: #92f93b; font-weight: bold\">outline</span><span style=\"color: #008000; text-decoration-color: #008000\">\"</span> found in caption <span style=\"color: #008000; text-decoration-color: #008000\">\"The character has a white </span><span style=\"color: #92f93b; text-decoration-color: #92f93b; font-weight: bold\">outline</span><span style=\"color: #008000; text-decoration-color: #008000\"> around it.\"</span>\n",
       "</pre>\n"
      ],
      "text/plain": [
       "Tag \u001b[32m\"\u001b[0m\u001b[1;38;2;146;249;59moutline\u001b[0m\u001b[32m\"\u001b[0m found in caption \u001b[32m\"The character has a white \u001b[0m\u001b[1;38;2;146;249;59moutline\u001b[0m\u001b[32m around it.\"\u001b[0m\n"
      ]
     },
     "metadata": {},
     "output_type": "display_data"
    },
    {
     "data": {
      "text/html": [
       "<pre style=\"white-space:pre;overflow-x:auto;line-height:normal;font-family:Menlo,'DejaVu Sans Mono',consolas,'Courier New',monospace\">Tag <span style=\"color: #008000; text-decoration-color: #008000\">\"</span><span style=\"color: #7b82e4; text-decoration-color: #7b82e4; font-weight: bold\">smile</span><span style=\"color: #008000; text-decoration-color: #008000\">\"</span> found in caption <span style=\"color: #008000; text-decoration-color: #008000\">\"It has big open-mouthed </span><span style=\"color: #7b82e4; text-decoration-color: #7b82e4; font-weight: bold\">smile</span><span style=\"color: #008000; text-decoration-color: #008000\"> indicating excitement or joy.\"</span>\n",
       "</pre>\n"
      ],
      "text/plain": [
       "Tag \u001b[32m\"\u001b[0m\u001b[1;38;2;123;130;228msmile\u001b[0m\u001b[32m\"\u001b[0m found in caption \u001b[32m\"It has big open-mouthed \u001b[0m\u001b[1;38;2;123;130;228msmile\u001b[0m\u001b[32m indicating excitement or joy.\"\u001b[0m\n"
      ]
     },
     "metadata": {},
     "output_type": "display_data"
    },
    {
     "data": {
      "text/html": [
       "<pre style=\"white-space:pre;overflow-x:auto;line-height:normal;font-family:Menlo,'DejaVu Sans Mono',consolas,'Courier New',monospace\">Tag <span style=\"color: #008000; text-decoration-color: #008000\">\"</span><span style=\"color: #e6ff51; text-decoration-color: #e6ff51; font-weight: bold\">tail</span><span style=\"color: #008000; text-decoration-color: #008000\">\"</span> found in caption <span style=\"color: #008000; text-decoration-color: #008000\">\"The fox has a red fur coat with white underbelly and a red </span><span style=\"color: #e6ff51; text-decoration-color: #e6ff51; font-weight: bold\">tail</span><span style=\"color: #008000; text-decoration-color: #008000\"> with a white tip.\"</span>\n",
       "</pre>\n"
      ],
      "text/plain": [
       "Tag \u001b[32m\"\u001b[0m\u001b[1;38;2;230;255;81mtail\u001b[0m\u001b[32m\"\u001b[0m found in caption \u001b[32m\"The fox has a red fur coat with white underbelly and a red \u001b[0m\u001b[1;38;2;230;255;81mtail\u001b[0m\u001b[32m with a white tip.\"\u001b[0m\n"
      ]
     },
     "metadata": {},
     "output_type": "display_data"
    },
    {
     "data": {
      "text/html": [
       "<pre style=\"white-space:pre;overflow-x:auto;line-height:normal;font-family:Menlo,'DejaVu Sans Mono',consolas,'Courier New',monospace\">\n",
       "<span style=\"font-weight: bold\">C:\\Users\\kade\\Desktop\\training_dir_staging\\1_furry_sticker\\3a12abc329a5913967328896b6f284f3.txt</span>\n",
       "\n",
       "</pre>\n"
      ],
      "text/plain": [
       "\n",
       "\u001b[1mC:\\Users\\kade\\Desktop\\training_dir_staging\\1_furry_sticker\\3a12abc329a5913967328896b6f284f3.txt\u001b[0m\n",
       "\n"
      ]
     },
     "metadata": {},
     "output_type": "display_data"
    },
    {
     "data": {
      "text/html": [
       "<pre style=\"white-space:pre;overflow-x:auto;line-height:normal;font-family:Menlo,'DejaVu Sans Mono',consolas,'Courier New',monospace\">Tag <span style=\"color: #008000; text-decoration-color: #008000\">\"</span><span style=\"color: #e44a89; text-decoration-color: #e44a89; font-weight: bold\">anthro</span><span style=\"color: #008000; text-decoration-color: #008000\">\"</span> found in caption <span style=\"color: #008000; text-decoration-color: #008000\">\"The image showcases an </span><span style=\"color: #e44a89; text-decoration-color: #e44a89; font-weight: bold\">anthro</span><span style=\"color: #008000; text-decoration-color: #008000\"> tabby cat with an orange fur coat.\"</span>\n",
       "</pre>\n"
      ],
      "text/plain": [
       "Tag \u001b[32m\"\u001b[0m\u001b[1;38;2;228;74;137manthro\u001b[0m\u001b[32m\"\u001b[0m found in caption \u001b[32m\"The image showcases an \u001b[0m\u001b[1;38;2;228;74;137manthro\u001b[0m\u001b[32m tabby cat with an orange fur coat.\"\u001b[0m\n"
      ]
     },
     "metadata": {},
     "output_type": "display_data"
    },
    {
     "data": {
      "text/html": [
       "<pre style=\"white-space:pre;overflow-x:auto;line-height:normal;font-family:Menlo,'DejaVu Sans Mono',consolas,'Courier New',monospace\">Tag <span style=\"color: #008000; text-decoration-color: #008000\">\"</span><span style=\"color: #22cb6c; text-decoration-color: #22cb6c; font-weight: bold\">green eyes</span><span style=\"color: #008000; text-decoration-color: #008000\">\"</span> found in caption <span style=\"color: #008000; text-decoration-color: #008000\">\"It has </span><span style=\"color: #22cb6c; text-decoration-color: #22cb6c; font-weight: bold\">green eyes</span><span style=\"color: #008000; text-decoration-color: #008000\"> and a playful and content expression.\"</span>\n",
       "</pre>\n"
      ],
      "text/plain": [
       "Tag \u001b[32m\"\u001b[0m\u001b[1;38;2;34;203;108mgreen eyes\u001b[0m\u001b[32m\"\u001b[0m found in caption \u001b[32m\"It has \u001b[0m\u001b[1;38;2;34;203;108mgreen eyes\u001b[0m\u001b[32m and a playful and content expression.\"\u001b[0m\n"
      ]
     },
     "metadata": {},
     "output_type": "display_data"
    },
    {
     "data": {
      "text/html": [
       "<pre style=\"white-space:pre;overflow-x:auto;line-height:normal;font-family:Menlo,'DejaVu Sans Mono',consolas,'Courier New',monospace\">Tag <span style=\"color: #008000; text-decoration-color: #008000\">\"</span><span style=\"color: #108d93; text-decoration-color: #108d93; font-weight: bold\">fur</span><span style=\"color: #008000; text-decoration-color: #008000\">\"</span> found in caption <span style=\"color: #008000; text-decoration-color: #008000\">\"The image showcases an anthro tabby cat with an orange </span><span style=\"color: #108d93; text-decoration-color: #108d93; font-weight: bold\">fur</span><span style=\"color: #008000; text-decoration-color: #008000\"> coat.\"</span>\n",
       "</pre>\n"
      ],
      "text/plain": [
       "Tag \u001b[32m\"\u001b[0m\u001b[1;38;2;16;141;147mfur\u001b[0m\u001b[32m\"\u001b[0m found in caption \u001b[32m\"The image showcases an anthro tabby cat with an orange \u001b[0m\u001b[1;38;2;16;141;147mfur\u001b[0m\u001b[32m coat.\"\u001b[0m\n"
      ]
     },
     "metadata": {},
     "output_type": "display_data"
    },
    {
     "data": {
      "text/html": [
       "<pre style=\"white-space:pre;overflow-x:auto;line-height:normal;font-family:Menlo,'DejaVu Sans Mono',consolas,'Courier New',monospace\">Tag <span style=\"color: #008000; text-decoration-color: #008000\">\"</span><span style=\"color: #323b15; text-decoration-color: #323b15; font-weight: bold\">food</span><span style=\"color: #008000; text-decoration-color: #008000\">\"</span> found in caption <span style=\"color: #008000; text-decoration-color: #008000\">\"The character is resting on a red couch next to a white bowl filled with fish shaped </span>\n",
       "<span style=\"color: #008000; text-decoration-color: #008000\">dry cat </span><span style=\"color: #323b15; text-decoration-color: #323b15; font-weight: bold\">food</span><span style=\"color: #008000; text-decoration-color: #008000\">.\"</span>\n",
       "</pre>\n"
      ],
      "text/plain": [
       "Tag \u001b[32m\"\u001b[0m\u001b[1;38;2;50;59;21mfood\u001b[0m\u001b[32m\"\u001b[0m found in caption \u001b[32m\"The character is resting on a red couch next to a white bowl filled with fish shaped \u001b[0m\n",
       "\u001b[32mdry cat \u001b[0m\u001b[1;38;2;50;59;21mfood\u001b[0m\u001b[32m.\"\u001b[0m\n"
      ]
     },
     "metadata": {},
     "output_type": "display_data"
    },
    {
     "data": {
      "text/html": [
       "<pre style=\"white-space:pre;overflow-x:auto;line-height:normal;font-family:Menlo,'DejaVu Sans Mono',consolas,'Courier New',monospace\">Tag <span style=\"color: #008000; text-decoration-color: #008000\">\"</span><span style=\"color: #bdaa54; text-decoration-color: #bdaa54; font-weight: bold\">bowl</span><span style=\"color: #008000; text-decoration-color: #008000\">\"</span> found in caption <span style=\"color: #008000; text-decoration-color: #008000\">\"The character is resting on a red couch next to a white </span><span style=\"color: #bdaa54; text-decoration-color: #bdaa54; font-weight: bold\">bowl</span><span style=\"color: #008000; text-decoration-color: #008000\"> filled with fish shaped </span>\n",
       "<span style=\"color: #008000; text-decoration-color: #008000\">dry cat food.\"</span>\n",
       "</pre>\n"
      ],
      "text/plain": [
       "Tag \u001b[32m\"\u001b[0m\u001b[1;38;2;189;170;84mbowl\u001b[0m\u001b[32m\"\u001b[0m found in caption \u001b[32m\"The character is resting on a red couch next to a white \u001b[0m\u001b[1;38;2;189;170;84mbowl\u001b[0m\u001b[32m filled with fish shaped \u001b[0m\n",
       "\u001b[32mdry cat food.\"\u001b[0m\n"
      ]
     },
     "metadata": {},
     "output_type": "display_data"
    },
    {
     "data": {
      "text/html": [
       "<pre style=\"white-space:pre;overflow-x:auto;line-height:normal;font-family:Menlo,'DejaVu Sans Mono',consolas,'Courier New',monospace\">\n",
       "<span style=\"font-weight: bold\">C:\\Users\\kade\\Desktop\\training_dir_staging\\1_furry_sticker\\3c0feb90f445fd0a32d2a70d595d9a0f.txt</span>\n",
       "\n",
       "</pre>\n"
      ],
      "text/plain": [
       "\n",
       "\u001b[1mC:\\Users\\kade\\Desktop\\training_dir_staging\\1_furry_sticker\\3c0feb90f445fd0a32d2a70d595d9a0f.txt\u001b[0m\n",
       "\n"
      ]
     },
     "metadata": {},
     "output_type": "display_data"
    },
    {
     "data": {
      "text/html": [
       "<pre style=\"white-space:pre;overflow-x:auto;line-height:normal;font-family:Menlo,'DejaVu Sans Mono',consolas,'Courier New',monospace\">Tag <span style=\"color: #008000; text-decoration-color: #008000\">\"</span><span style=\"color: #b00bd2; text-decoration-color: #b00bd2; font-weight: bold\">collar</span><span style=\"color: #008000; text-decoration-color: #008000\">\"</span> found in caption <span style=\"color: #008000; text-decoration-color: #008000\">\"It is wearing a red </span><span style=\"color: #b00bd2; text-decoration-color: #b00bd2; font-weight: bold\">collar</span><span style=\"color: #008000; text-decoration-color: #008000\"> with a gold cat head medal on it.\"</span>\n",
       "</pre>\n"
      ],
      "text/plain": [
       "Tag \u001b[32m\"\u001b[0m\u001b[1;38;2;176;11;210mcollar\u001b[0m\u001b[32m\"\u001b[0m found in caption \u001b[32m\"It is wearing a red \u001b[0m\u001b[1;38;2;176;11;210mcollar\u001b[0m\u001b[32m with a gold cat head medal on it.\"\u001b[0m\n"
      ]
     },
     "metadata": {},
     "output_type": "display_data"
    },
    {
     "data": {
      "text/html": [
       "<pre style=\"white-space:pre;overflow-x:auto;line-height:normal;font-family:Menlo,'DejaVu Sans Mono',consolas,'Courier New',monospace\">Tag <span style=\"color: #008000; text-decoration-color: #008000\">\"</span><span style=\"color: #4e0f32; text-decoration-color: #4e0f32; font-weight: bold\">pawpads</span><span style=\"color: #008000; text-decoration-color: #008000\">\"</span> found in caption <span style=\"color: #008000; text-decoration-color: #008000\">\"It has brown fur and orange </span><span style=\"color: #4e0f32; text-decoration-color: #4e0f32; font-weight: bold\">pawpads</span><span style=\"color: #008000; text-decoration-color: #008000\">.\"</span>\n",
       "</pre>\n"
      ],
      "text/plain": [
       "Tag \u001b[32m\"\u001b[0m\u001b[1;38;2;78;15;50mpawpads\u001b[0m\u001b[32m\"\u001b[0m found in caption \u001b[32m\"It has brown fur and orange \u001b[0m\u001b[1;38;2;78;15;50mpawpads\u001b[0m\u001b[32m.\"\u001b[0m\n"
      ]
     },
     "metadata": {},
     "output_type": "display_data"
    },
    {
     "data": {
      "text/html": [
       "<pre style=\"white-space:pre;overflow-x:auto;line-height:normal;font-family:Menlo,'DejaVu Sans Mono',consolas,'Courier New',monospace\">Tag <span style=\"color: #008000; text-decoration-color: #008000\">\"</span><span style=\"color: #6b63e8; text-decoration-color: #6b63e8; font-weight: bold\">anthro</span><span style=\"color: #008000; text-decoration-color: #008000\">\"</span> found in caption <span style=\"color: #008000; text-decoration-color: #008000\">\"The background is black. There's a tabby cat </span><span style=\"color: #6b63e8; text-decoration-color: #6b63e8; font-weight: bold\">anthro</span><span style=\"color: #008000; text-decoration-color: #008000\"> in the foreground.\"</span>\n",
       "</pre>\n"
      ],
      "text/plain": [
       "Tag \u001b[32m\"\u001b[0m\u001b[1;38;2;107;99;232manthro\u001b[0m\u001b[32m\"\u001b[0m found in caption \u001b[32m\"The background is black. There's a tabby cat \u001b[0m\u001b[1;38;2;107;99;232manthro\u001b[0m\u001b[32m in the foreground.\"\u001b[0m\n"
      ]
     },
     "metadata": {},
     "output_type": "display_data"
    },
    {
     "data": {
      "text/html": [
       "<pre style=\"white-space:pre;overflow-x:auto;line-height:normal;font-family:Menlo,'DejaVu Sans Mono',consolas,'Courier New',monospace\">Tag <span style=\"color: #008000; text-decoration-color: #008000\">\"</span><span style=\"color: #5b9a7c; text-decoration-color: #5b9a7c; font-weight: bold\">fur</span><span style=\"color: #008000; text-decoration-color: #008000\">\"</span> found in caption <span style=\"color: #008000; text-decoration-color: #008000\">\"It has brown </span><span style=\"color: #5b9a7c; text-decoration-color: #5b9a7c; font-weight: bold\">fur</span><span style=\"color: #008000; text-decoration-color: #008000\"> and orange pawpads.\"</span>\n",
       "</pre>\n"
      ],
      "text/plain": [
       "Tag \u001b[32m\"\u001b[0m\u001b[1;38;2;91;154;124mfur\u001b[0m\u001b[32m\"\u001b[0m found in caption \u001b[32m\"It has brown \u001b[0m\u001b[1;38;2;91;154;124mfur\u001b[0m\u001b[32m and orange pawpads.\"\u001b[0m\n"
      ]
     },
     "metadata": {},
     "output_type": "display_data"
    },
    {
     "data": {
      "text/html": [
       "<pre style=\"white-space:pre;overflow-x:auto;line-height:normal;font-family:Menlo,'DejaVu Sans Mono',consolas,'Courier New',monospace\">Tag <span style=\"color: #008000; text-decoration-color: #008000\">\"</span><span style=\"color: #ce4328; text-decoration-color: #ce4328; font-weight: bold\">tabby cat</span><span style=\"color: #008000; text-decoration-color: #008000\">\"</span> found in caption <span style=\"color: #008000; text-decoration-color: #008000\">\"The background is black. There's a </span><span style=\"color: #ce4328; text-decoration-color: #ce4328; font-weight: bold\">tabby cat</span><span style=\"color: #008000; text-decoration-color: #008000\"> anthro in the foreground.\"</span>\n",
       "</pre>\n"
      ],
      "text/plain": [
       "Tag \u001b[32m\"\u001b[0m\u001b[1;38;2;206;67;40mtabby cat\u001b[0m\u001b[32m\"\u001b[0m found in caption \u001b[32m\"The background is black. There's a \u001b[0m\u001b[1;38;2;206;67;40mtabby cat\u001b[0m\u001b[32m anthro in the foreground.\"\u001b[0m\n"
      ]
     },
     "metadata": {},
     "output_type": "display_data"
    },
    {
     "data": {
      "text/html": [
       "<pre style=\"white-space:pre;overflow-x:auto;line-height:normal;font-family:Menlo,'DejaVu Sans Mono',consolas,'Courier New',monospace\">Tag <span style=\"color: #008000; text-decoration-color: #008000\">\"</span><span style=\"color: #0ec6a5; text-decoration-color: #0ec6a5; font-weight: bold\">blush</span><span style=\"color: #008000; text-decoration-color: #008000\">\"</span> found in caption <span style=\"color: #008000; text-decoration-color: #008000\">\"It has a small </span><span style=\"color: #0ec6a5; text-decoration-color: #0ec6a5; font-weight: bold\">blush</span><span style=\"color: #008000; text-decoration-color: #008000\"> on his cheeks.\"</span>\n",
       "</pre>\n"
      ],
      "text/plain": [
       "Tag \u001b[32m\"\u001b[0m\u001b[1;38;2;14;198;165mblush\u001b[0m\u001b[32m\"\u001b[0m found in caption \u001b[32m\"It has a small \u001b[0m\u001b[1;38;2;14;198;165mblush\u001b[0m\u001b[32m on his cheeks.\"\u001b[0m\n"
      ]
     },
     "metadata": {},
     "output_type": "display_data"
    },
    {
     "data": {
      "text/html": [
       "<pre style=\"white-space:pre;overflow-x:auto;line-height:normal;font-family:Menlo,'DejaVu Sans Mono',consolas,'Courier New',monospace\">\n",
       "<span style=\"font-weight: bold\">C:\\Users\\kade\\Desktop\\training_dir_staging\\1_furry_sticker\\3c3c9b21f695ab5433c806acd9d3f635.txt</span>\n",
       "\n",
       "</pre>\n"
      ],
      "text/plain": [
       "\n",
       "\u001b[1mC:\\Users\\kade\\Desktop\\training_dir_staging\\1_furry_sticker\\3c3c9b21f695ab5433c806acd9d3f635.txt\u001b[0m\n",
       "\n"
      ]
     },
     "metadata": {},
     "output_type": "display_data"
    },
    {
     "data": {
      "text/html": [
       "<pre style=\"white-space:pre;overflow-x:auto;line-height:normal;font-family:Menlo,'DejaVu Sans Mono',consolas,'Courier New',monospace\">Tag <span style=\"color: #008000; text-decoration-color: #008000\">\"</span><span style=\"color: #e7126a; text-decoration-color: #e7126a; font-weight: bold\">anthro</span><span style=\"color: #008000; text-decoration-color: #008000\">\"</span> found in caption <span style=\"color: #008000; text-decoration-color: #008000\">\"In the center of the image is an </span><span style=\"color: #e7126a; text-decoration-color: #e7126a; font-weight: bold\">anthro</span><span style=\"color: #008000; text-decoration-color: #008000\"> red panda.\"</span>\n",
       "</pre>\n"
      ],
      "text/plain": [
       "Tag \u001b[32m\"\u001b[0m\u001b[1;38;2;231;18;106manthro\u001b[0m\u001b[32m\"\u001b[0m found in caption \u001b[32m\"In the center of the image is an \u001b[0m\u001b[1;38;2;231;18;106manthro\u001b[0m\u001b[32m red panda.\"\u001b[0m\n"
      ]
     },
     "metadata": {},
     "output_type": "display_data"
    },
    {
     "data": {
      "text/html": [
       "<pre style=\"white-space:pre;overflow-x:auto;line-height:normal;font-family:Menlo,'DejaVu Sans Mono',consolas,'Courier New',monospace\">Tag <span style=\"color: #008000; text-decoration-color: #008000\">\"</span><span style=\"color: #048e0d; text-decoration-color: #048e0d; font-weight: bold\">red panda</span><span style=\"color: #008000; text-decoration-color: #008000\">\"</span> found in caption <span style=\"color: #008000; text-decoration-color: #008000\">\"In the center of the image is an anthro </span><span style=\"color: #048e0d; text-decoration-color: #048e0d; font-weight: bold\">red panda</span><span style=\"color: #008000; text-decoration-color: #008000\">.\"</span>\n",
       "</pre>\n"
      ],
      "text/plain": [
       "Tag \u001b[32m\"\u001b[0m\u001b[1;38;2;4;142;13mred panda\u001b[0m\u001b[32m\"\u001b[0m found in caption \u001b[32m\"In the center of the image is an anthro \u001b[0m\u001b[1;38;2;4;142;13mred panda\u001b[0m\u001b[32m.\"\u001b[0m\n"
      ]
     },
     "metadata": {},
     "output_type": "display_data"
    },
    {
     "data": {
      "text/html": [
       "<pre style=\"white-space:pre;overflow-x:auto;line-height:normal;font-family:Menlo,'DejaVu Sans Mono',consolas,'Courier New',monospace\">Tag <span style=\"color: #008000; text-decoration-color: #008000\">\"</span><span style=\"color: #7c7cc1; text-decoration-color: #7c7cc1; font-weight: bold\">hair</span><span style=\"color: #008000; text-decoration-color: #008000\">\"</span> found in caption <span style=\"color: #008000; text-decoration-color: #008000\">\"It has black </span><span style=\"color: #7c7cc1; text-decoration-color: #7c7cc1; font-weight: bold\">hair</span><span style=\"color: #008000; text-decoration-color: #008000\"> with blue ends and white fur and white ears with red accents. It's </span>\n",
       "<span style=\"color: #008000; text-decoration-color: #008000\">chest and hands are white with his hand ending in black fur.\"</span>\n",
       "</pre>\n"
      ],
      "text/plain": [
       "Tag \u001b[32m\"\u001b[0m\u001b[1;38;2;124;124;193mhair\u001b[0m\u001b[32m\"\u001b[0m found in caption \u001b[32m\"It has black \u001b[0m\u001b[1;38;2;124;124;193mhair\u001b[0m\u001b[32m with blue ends and white fur and white ears with red accents. It's \u001b[0m\n",
       "\u001b[32mchest and hands are white with his hand ending in black fur.\"\u001b[0m\n"
      ]
     },
     "metadata": {},
     "output_type": "display_data"
    },
    {
     "data": {
      "text/html": [
       "<pre style=\"white-space:pre;overflow-x:auto;line-height:normal;font-family:Menlo,'DejaVu Sans Mono',consolas,'Courier New',monospace\">Tag <span style=\"color: #008000; text-decoration-color: #008000\">\"</span><span style=\"color: #308832; text-decoration-color: #308832; font-weight: bold\">fur</span><span style=\"color: #008000; text-decoration-color: #008000\">\"</span> found in caption <span style=\"color: #008000; text-decoration-color: #008000\">\"It has black hair with blue ends and white </span><span style=\"color: #308832; text-decoration-color: #308832; font-weight: bold\">fur</span><span style=\"color: #008000; text-decoration-color: #008000\"> and white ears with red accents. It's </span>\n",
       "<span style=\"color: #008000; text-decoration-color: #008000\">chest and hands are white with his hand ending in black </span><span style=\"color: #308832; text-decoration-color: #308832; font-weight: bold\">fur</span><span style=\"color: #008000; text-decoration-color: #008000\">.\"</span>\n",
       "</pre>\n"
      ],
      "text/plain": [
       "Tag \u001b[32m\"\u001b[0m\u001b[1;38;2;48;136;50mfur\u001b[0m\u001b[32m\"\u001b[0m found in caption \u001b[32m\"It has black hair with blue ends and white \u001b[0m\u001b[1;38;2;48;136;50mfur\u001b[0m\u001b[32m and white ears with red accents. It's \u001b[0m\n",
       "\u001b[32mchest and hands are white with his hand ending in black \u001b[0m\u001b[1;38;2;48;136;50mfur\u001b[0m\u001b[32m.\"\u001b[0m\n"
      ]
     },
     "metadata": {},
     "output_type": "display_data"
    },
    {
     "data": {
      "text/html": [
       "<pre style=\"white-space:pre;overflow-x:auto;line-height:normal;font-family:Menlo,'DejaVu Sans Mono',consolas,'Courier New',monospace\">Tag <span style=\"color: #008000; text-decoration-color: #008000\">\"</span><span style=\"color: #b06e47; text-decoration-color: #b06e47; font-weight: bold\">blue eyes</span><span style=\"color: #008000; text-decoration-color: #008000\">\"</span> found in caption <span style=\"color: #008000; text-decoration-color: #008000\">\"It is smiling and looking off to the right with it's </span><span style=\"color: #b06e47; text-decoration-color: #b06e47; font-weight: bold\">blue eyes</span><span style=\"color: #008000; text-decoration-color: #008000\">.\"</span>\n",
       "</pre>\n"
      ],
      "text/plain": [
       "Tag \u001b[32m\"\u001b[0m\u001b[1;38;2;176;110;71mblue eyes\u001b[0m\u001b[32m\"\u001b[0m found in caption \u001b[32m\"It is smiling and looking off to the right with it's \u001b[0m\u001b[1;38;2;176;110;71mblue eyes\u001b[0m\u001b[32m.\"\u001b[0m\n"
      ]
     },
     "metadata": {},
     "output_type": "display_data"
    },
    {
     "data": {
      "text/html": [
       "<pre style=\"white-space:pre;overflow-x:auto;line-height:normal;font-family:Menlo,'DejaVu Sans Mono',consolas,'Courier New',monospace\">Tag <span style=\"color: #008000; text-decoration-color: #008000\">\"</span><span style=\"color: #128453; text-decoration-color: #128453; font-weight: bold\">white fur</span><span style=\"color: #008000; text-decoration-color: #008000\">\"</span> found in caption <span style=\"color: #008000; text-decoration-color: #008000\">\"It has black hair with blue ends and </span><span style=\"color: #128453; text-decoration-color: #128453; font-weight: bold\">white fur</span><span style=\"color: #008000; text-decoration-color: #008000\"> and white ears with red accents. </span>\n",
       "<span style=\"color: #008000; text-decoration-color: #008000\">It's chest and hands are white with his hand ending in black fur.\"</span>\n",
       "</pre>\n"
      ],
      "text/plain": [
       "Tag \u001b[32m\"\u001b[0m\u001b[1;38;2;18;132;83mwhite fur\u001b[0m\u001b[32m\"\u001b[0m found in caption \u001b[32m\"It has black hair with blue ends and \u001b[0m\u001b[1;38;2;18;132;83mwhite fur\u001b[0m\u001b[32m and white ears with red accents. \u001b[0m\n",
       "\u001b[32mIt's chest and hands are white with his hand ending in black fur.\"\u001b[0m\n"
      ]
     },
     "metadata": {},
     "output_type": "display_data"
    },
    {
     "data": {
      "text/html": [
       "<pre style=\"white-space:pre;overflow-x:auto;line-height:normal;font-family:Menlo,'DejaVu Sans Mono',consolas,'Courier New',monospace\">Tag <span style=\"color: #008000; text-decoration-color: #008000\">\"</span><span style=\"color: #0e1d0d; text-decoration-color: #0e1d0d; font-weight: bold\">black hair</span><span style=\"color: #008000; text-decoration-color: #008000\">\"</span> found in caption <span style=\"color: #008000; text-decoration-color: #008000\">\"It has </span><span style=\"color: #0e1d0d; text-decoration-color: #0e1d0d; font-weight: bold\">black hair</span><span style=\"color: #008000; text-decoration-color: #008000\"> with blue ends and white fur and white ears with red accents. </span>\n",
       "<span style=\"color: #008000; text-decoration-color: #008000\">It's chest and hands are white with his hand ending in black fur.\"</span>\n",
       "</pre>\n"
      ],
      "text/plain": [
       "Tag \u001b[32m\"\u001b[0m\u001b[1;38;2;14;29;13mblack hair\u001b[0m\u001b[32m\"\u001b[0m found in caption \u001b[32m\"It has \u001b[0m\u001b[1;38;2;14;29;13mblack hair\u001b[0m\u001b[32m with blue ends and white fur and white ears with red accents. \u001b[0m\n",
       "\u001b[32mIt's chest and hands are white with his hand ending in black fur.\"\u001b[0m\n"
      ]
     },
     "metadata": {},
     "output_type": "display_data"
    },
    {
     "data": {
      "text/html": [
       "<pre style=\"white-space:pre;overflow-x:auto;line-height:normal;font-family:Menlo,'DejaVu Sans Mono',consolas,'Courier New',monospace\">\n",
       "<span style=\"font-weight: bold\">C:\\Users\\kade\\Desktop\\training_dir_staging\\1_furry_sticker\\4130b426cf410e21596e60f281ee38d7.txt</span>\n",
       "\n",
       "</pre>\n"
      ],
      "text/plain": [
       "\n",
       "\u001b[1mC:\\Users\\kade\\Desktop\\training_dir_staging\\1_furry_sticker\\4130b426cf410e21596e60f281ee38d7.txt\u001b[0m\n",
       "\n"
      ]
     },
     "metadata": {},
     "output_type": "display_data"
    },
    {
     "data": {
      "text/html": [
       "<pre style=\"white-space:pre;overflow-x:auto;line-height:normal;font-family:Menlo,'DejaVu Sans Mono',consolas,'Courier New',monospace\">Tag <span style=\"color: #008000; text-decoration-color: #008000\">\"</span><span style=\"color: #80b271; text-decoration-color: #80b271; font-weight: bold\">furry sticker</span><span style=\"color: #008000; text-decoration-color: #008000\">\"</span> found in caption <span style=\"color: #008000; text-decoration-color: #008000\">\"This image is a </span><span style=\"color: #80b271; text-decoration-color: #80b271; font-weight: bold\">furry sticker</span><span style=\"color: #008000; text-decoration-color: #008000\"> of two anthro animals one that appears to be an</span>\n",
       "<span style=\"color: #008000; text-decoration-color: #008000\">fox and the other a ych.\"</span>\n",
       "</pre>\n"
      ],
      "text/plain": [
       "Tag \u001b[32m\"\u001b[0m\u001b[1;38;2;128;178;113mfurry sticker\u001b[0m\u001b[32m\"\u001b[0m found in caption \u001b[32m\"This image is a \u001b[0m\u001b[1;38;2;128;178;113mfurry sticker\u001b[0m\u001b[32m of two anthro animals one that appears to be an\u001b[0m\n",
       "\u001b[32mfox and the other a ych.\"\u001b[0m\n"
      ]
     },
     "metadata": {},
     "output_type": "display_data"
    },
    {
     "data": {
      "text/html": [
       "<pre style=\"white-space:pre;overflow-x:auto;line-height:normal;font-family:Menlo,'DejaVu Sans Mono',consolas,'Courier New',monospace\">Tag <span style=\"color: #008000; text-decoration-color: #008000\">\"</span><span style=\"color: #b865a2; text-decoration-color: #b865a2; font-weight: bold\">fox</span><span style=\"color: #008000; text-decoration-color: #008000\">\"</span> found in caption <span style=\"color: #008000; text-decoration-color: #008000\">\"This image is a furry sticker of two anthro animals one that appears to be an </span><span style=\"color: #b865a2; text-decoration-color: #b865a2; font-weight: bold\">fox</span><span style=\"color: #008000; text-decoration-color: #008000\"> and </span>\n",
       "<span style=\"color: #008000; text-decoration-color: #008000\">the other a ych.\"</span>\n",
       "</pre>\n"
      ],
      "text/plain": [
       "Tag \u001b[32m\"\u001b[0m\u001b[1;38;2;184;101;162mfox\u001b[0m\u001b[32m\"\u001b[0m found in caption \u001b[32m\"This image is a furry sticker of two anthro animals one that appears to be an \u001b[0m\u001b[1;38;2;184;101;162mfox\u001b[0m\u001b[32m and \u001b[0m\n",
       "\u001b[32mthe other a ych.\"\u001b[0m\n"
      ]
     },
     "metadata": {},
     "output_type": "display_data"
    },
    {
     "data": {
      "text/html": [
       "<pre style=\"white-space:pre;overflow-x:auto;line-height:normal;font-family:Menlo,'DejaVu Sans Mono',consolas,'Courier New',monospace\">Tag <span style=\"color: #008000; text-decoration-color: #008000\">\"</span><span style=\"color: #c7f473; text-decoration-color: #c7f473; font-weight: bold\">fox</span><span style=\"color: #008000; text-decoration-color: #008000\">\"</span> found in caption <span style=\"color: #008000; text-decoration-color: #008000\">\"The </span><span style=\"color: #c7f473; text-decoration-color: #c7f473; font-weight: bold\">fox</span><span style=\"color: #008000; text-decoration-color: #008000\"> is orange and white with its eyes closed and a content expression while the </span>\n",
       "<span style=\"color: #008000; text-decoration-color: #008000\">anthro ych is blue and white.\"</span>\n",
       "</pre>\n"
      ],
      "text/plain": [
       "Tag \u001b[32m\"\u001b[0m\u001b[1;38;2;199;244;115mfox\u001b[0m\u001b[32m\"\u001b[0m found in caption \u001b[32m\"The \u001b[0m\u001b[1;38;2;199;244;115mfox\u001b[0m\u001b[32m is orange and white with its eyes closed and a content expression while the \u001b[0m\n",
       "\u001b[32manthro ych is blue and white.\"\u001b[0m\n"
      ]
     },
     "metadata": {},
     "output_type": "display_data"
    },
    {
     "data": {
      "text/html": [
       "<pre style=\"white-space:pre;overflow-x:auto;line-height:normal;font-family:Menlo,'DejaVu Sans Mono',consolas,'Courier New',monospace\">Tag <span style=\"color: #008000; text-decoration-color: #008000\">\"</span><span style=\"color: #7e818d; text-decoration-color: #7e818d; font-weight: bold\">fox</span><span style=\"color: #008000; text-decoration-color: #008000\">\"</span> found in caption <span style=\"color: #008000; text-decoration-color: #008000\">\"The </span><span style=\"color: #7e818d; text-decoration-color: #7e818d; font-weight: bold\">fox</span><span style=\"color: #008000; text-decoration-color: #008000\"> is petting the anthro ych's head.\"</span>\n",
       "</pre>\n"
      ],
      "text/plain": [
       "Tag \u001b[32m\"\u001b[0m\u001b[1;38;2;126;129;141mfox\u001b[0m\u001b[32m\"\u001b[0m found in caption \u001b[32m\"The \u001b[0m\u001b[1;38;2;126;129;141mfox\u001b[0m\u001b[32m is petting the anthro ych's head.\"\u001b[0m\n"
      ]
     },
     "metadata": {},
     "output_type": "display_data"
    },
    {
     "data": {
      "text/html": [
       "<pre style=\"white-space:pre;overflow-x:auto;line-height:normal;font-family:Menlo,'DejaVu Sans Mono',consolas,'Courier New',monospace\">Tag <span style=\"color: #008000; text-decoration-color: #008000\">\"</span><span style=\"color: #e477ae; text-decoration-color: #e477ae; font-weight: bold\">fox</span><span style=\"color: #008000; text-decoration-color: #008000\">\"</span> found in caption <span style=\"color: #008000; text-decoration-color: #008000\">\"The </span><span style=\"color: #e477ae; text-decoration-color: #e477ae; font-weight: bold\">fox</span><span style=\"color: #008000; text-decoration-color: #008000\"> has a white outline and the ych a blue outline around it.\"</span>\n",
       "</pre>\n"
      ],
      "text/plain": [
       "Tag \u001b[32m\"\u001b[0m\u001b[1;38;2;228;119;174mfox\u001b[0m\u001b[32m\"\u001b[0m found in caption \u001b[32m\"The \u001b[0m\u001b[1;38;2;228;119;174mfox\u001b[0m\u001b[32m has a white outline and the ych a blue outline around it.\"\u001b[0m\n"
      ]
     },
     "metadata": {},
     "output_type": "display_data"
    },
    {
     "data": {
      "text/html": [
       "<pre style=\"white-space:pre;overflow-x:auto;line-height:normal;font-family:Menlo,'DejaVu Sans Mono',consolas,'Courier New',monospace\">Tag <span style=\"color: #008000; text-decoration-color: #008000\">\"</span><span style=\"color: #df710d; text-decoration-color: #df710d; font-weight: bold\">anthro</span><span style=\"color: #008000; text-decoration-color: #008000\">\"</span> found in caption <span style=\"color: #008000; text-decoration-color: #008000\">\"This image is a furry sticker of two </span><span style=\"color: #df710d; text-decoration-color: #df710d; font-weight: bold\">anthro</span><span style=\"color: #008000; text-decoration-color: #008000\"> animals one that appears to be an fox </span>\n",
       "<span style=\"color: #008000; text-decoration-color: #008000\">and the other a ych.\"</span>\n",
       "</pre>\n"
      ],
      "text/plain": [
       "Tag \u001b[32m\"\u001b[0m\u001b[1;38;2;223;113;13manthro\u001b[0m\u001b[32m\"\u001b[0m found in caption \u001b[32m\"This image is a furry sticker of two \u001b[0m\u001b[1;38;2;223;113;13manthro\u001b[0m\u001b[32m animals one that appears to be an fox \u001b[0m\n",
       "\u001b[32mand the other a ych.\"\u001b[0m\n"
      ]
     },
     "metadata": {},
     "output_type": "display_data"
    },
    {
     "data": {
      "text/html": [
       "<pre style=\"white-space:pre;overflow-x:auto;line-height:normal;font-family:Menlo,'DejaVu Sans Mono',consolas,'Courier New',monospace\">Tag <span style=\"color: #008000; text-decoration-color: #008000\">\"</span><span style=\"color: #a80f35; text-decoration-color: #a80f35; font-weight: bold\">anthro</span><span style=\"color: #008000; text-decoration-color: #008000\">\"</span> found in caption <span style=\"color: #008000; text-decoration-color: #008000\">\"The fox is orange and white with its eyes closed and a content expression while the </span>\n",
       "<span style=\"color: #a80f35; text-decoration-color: #a80f35; font-weight: bold\">anthro</span><span style=\"color: #008000; text-decoration-color: #008000\"> ych is blue and white.\"</span>\n",
       "</pre>\n"
      ],
      "text/plain": [
       "Tag \u001b[32m\"\u001b[0m\u001b[1;38;2;168;15;53manthro\u001b[0m\u001b[32m\"\u001b[0m found in caption \u001b[32m\"The fox is orange and white with its eyes closed and a content expression while the \u001b[0m\n",
       "\u001b[1;38;2;168;15;53manthro\u001b[0m\u001b[32m ych is blue and white.\"\u001b[0m\n"
      ]
     },
     "metadata": {},
     "output_type": "display_data"
    },
    {
     "data": {
      "text/html": [
       "<pre style=\"white-space:pre;overflow-x:auto;line-height:normal;font-family:Menlo,'DejaVu Sans Mono',consolas,'Courier New',monospace\">Tag <span style=\"color: #008000; text-decoration-color: #008000\">\"</span><span style=\"color: #463e17; text-decoration-color: #463e17; font-weight: bold\">anthro</span><span style=\"color: #008000; text-decoration-color: #008000\">\"</span> found in caption <span style=\"color: #008000; text-decoration-color: #008000\">\"The fox is petting the </span><span style=\"color: #463e17; text-decoration-color: #463e17; font-weight: bold\">anthro</span><span style=\"color: #008000; text-decoration-color: #008000\"> ych's head.\"</span>\n",
       "</pre>\n"
      ],
      "text/plain": [
       "Tag \u001b[32m\"\u001b[0m\u001b[1;38;2;70;62;23manthro\u001b[0m\u001b[32m\"\u001b[0m found in caption \u001b[32m\"The fox is petting the \u001b[0m\u001b[1;38;2;70;62;23manthro\u001b[0m\u001b[32m ych's head.\"\u001b[0m\n"
      ]
     },
     "metadata": {},
     "output_type": "display_data"
    },
    {
     "data": {
      "text/html": [
       "<pre style=\"white-space:pre;overflow-x:auto;line-height:normal;font-family:Menlo,'DejaVu Sans Mono',consolas,'Courier New',monospace\">Tag <span style=\"color: #008000; text-decoration-color: #008000\">\"</span><span style=\"color: #f3bf12; text-decoration-color: #f3bf12; font-weight: bold\">anthro</span><span style=\"color: #008000; text-decoration-color: #008000\">\"</span> found in caption <span style=\"color: #008000; text-decoration-color: #008000\">\"Above the </span><span style=\"color: #f3bf12; text-decoration-color: #f3bf12; font-weight: bold\">anthro</span><span style=\"color: #008000; text-decoration-color: #008000\"> ych there's a text that reads 'PAT' indicating the action being </span>\n",
       "<span style=\"color: #008000; text-decoration-color: #008000\">depicted.\"</span>\n",
       "</pre>\n"
      ],
      "text/plain": [
       "Tag \u001b[32m\"\u001b[0m\u001b[1;38;2;243;191;18manthro\u001b[0m\u001b[32m\"\u001b[0m found in caption \u001b[32m\"Above the \u001b[0m\u001b[1;38;2;243;191;18manthro\u001b[0m\u001b[32m ych there's a text that reads 'PAT' indicating the action being \u001b[0m\n",
       "\u001b[32mdepicted.\"\u001b[0m\n"
      ]
     },
     "metadata": {},
     "output_type": "display_data"
    },
    {
     "data": {
      "text/html": [
       "<pre style=\"white-space:pre;overflow-x:auto;line-height:normal;font-family:Menlo,'DejaVu Sans Mono',consolas,'Courier New',monospace\">Tag <span style=\"color: #008000; text-decoration-color: #008000\">\"</span><span style=\"color: #a868f9; text-decoration-color: #a868f9; font-weight: bold\">eyes closed</span><span style=\"color: #008000; text-decoration-color: #008000\">\"</span> found in caption <span style=\"color: #008000; text-decoration-color: #008000\">\"The fox is orange and white with its </span><span style=\"color: #a868f9; text-decoration-color: #a868f9; font-weight: bold\">eyes closed</span><span style=\"color: #008000; text-decoration-color: #008000\"> and a content expression while</span>\n",
       "<span style=\"color: #008000; text-decoration-color: #008000\">the anthro ych is blue and white.\"</span>\n",
       "</pre>\n"
      ],
      "text/plain": [
       "Tag \u001b[32m\"\u001b[0m\u001b[1;38;2;168;104;249meyes closed\u001b[0m\u001b[32m\"\u001b[0m found in caption \u001b[32m\"The fox is orange and white with its \u001b[0m\u001b[1;38;2;168;104;249meyes closed\u001b[0m\u001b[32m and a content expression while\u001b[0m\n",
       "\u001b[32mthe anthro ych is blue and white.\"\u001b[0m\n"
      ]
     },
     "metadata": {},
     "output_type": "display_data"
    },
    {
     "data": {
      "text/html": [
       "<pre style=\"white-space:pre;overflow-x:auto;line-height:normal;font-family:Menlo,'DejaVu Sans Mono',consolas,'Courier New',monospace\">Tag <span style=\"color: #008000; text-decoration-color: #008000\">\"</span><span style=\"color: #940477; text-decoration-color: #940477; font-weight: bold\">text</span><span style=\"color: #008000; text-decoration-color: #008000\">\"</span> found in caption <span style=\"color: #008000; text-decoration-color: #008000\">\"Above the anthro ych there's a </span><span style=\"color: #940477; text-decoration-color: #940477; font-weight: bold\">text</span><span style=\"color: #008000; text-decoration-color: #008000\"> that reads 'PAT' indicating the action being </span>\n",
       "<span style=\"color: #008000; text-decoration-color: #008000\">depicted.\"</span>\n",
       "</pre>\n"
      ],
      "text/plain": [
       "Tag \u001b[32m\"\u001b[0m\u001b[1;38;2;148;4;119mtext\u001b[0m\u001b[32m\"\u001b[0m found in caption \u001b[32m\"Above the anthro ych there's a \u001b[0m\u001b[1;38;2;148;4;119mtext\u001b[0m\u001b[32m that reads 'PAT' indicating the action being \u001b[0m\n",
       "\u001b[32mdepicted.\"\u001b[0m\n"
      ]
     },
     "metadata": {},
     "output_type": "display_data"
    },
    {
     "data": {
      "text/html": [
       "<pre style=\"white-space:pre;overflow-x:auto;line-height:normal;font-family:Menlo,'DejaVu Sans Mono',consolas,'Courier New',monospace\">Tag <span style=\"color: #008000; text-decoration-color: #008000\">\"</span><span style=\"color: #13437d; text-decoration-color: #13437d; font-weight: bold\">sticker</span><span style=\"color: #008000; text-decoration-color: #008000\">\"</span> found in caption <span style=\"color: #008000; text-decoration-color: #008000\">\"This image is a furry </span><span style=\"color: #13437d; text-decoration-color: #13437d; font-weight: bold\">sticker</span><span style=\"color: #008000; text-decoration-color: #008000\"> of two anthro animals one that appears to be an fox </span>\n",
       "<span style=\"color: #008000; text-decoration-color: #008000\">and the other a ych.\"</span>\n",
       "</pre>\n"
      ],
      "text/plain": [
       "Tag \u001b[32m\"\u001b[0m\u001b[1;38;2;19;67;125msticker\u001b[0m\u001b[32m\"\u001b[0m found in caption \u001b[32m\"This image is a furry \u001b[0m\u001b[1;38;2;19;67;125msticker\u001b[0m\u001b[32m of two anthro animals one that appears to be an fox \u001b[0m\n",
       "\u001b[32mand the other a ych.\"\u001b[0m\n"
      ]
     },
     "metadata": {},
     "output_type": "display_data"
    },
    {
     "data": {
      "text/html": [
       "<pre style=\"white-space:pre;overflow-x:auto;line-height:normal;font-family:Menlo,'DejaVu Sans Mono',consolas,'Courier New',monospace\">Tag <span style=\"color: #008000; text-decoration-color: #008000\">\"</span><span style=\"color: #039010; text-decoration-color: #039010; font-weight: bold\">outline</span><span style=\"color: #008000; text-decoration-color: #008000\">\"</span> found in caption <span style=\"color: #008000; text-decoration-color: #008000\">\"The fox has a white </span><span style=\"color: #039010; text-decoration-color: #039010; font-weight: bold\">outline</span><span style=\"color: #008000; text-decoration-color: #008000\"> and the ych a blue </span><span style=\"color: #039010; text-decoration-color: #039010; font-weight: bold\">outline</span><span style=\"color: #008000; text-decoration-color: #008000\"> around it.\"</span>\n",
       "</pre>\n"
      ],
      "text/plain": [
       "Tag \u001b[32m\"\u001b[0m\u001b[1;38;2;3;144;16moutline\u001b[0m\u001b[32m\"\u001b[0m found in caption \u001b[32m\"The fox has a white \u001b[0m\u001b[1;38;2;3;144;16moutline\u001b[0m\u001b[32m and the ych a blue \u001b[0m\u001b[1;38;2;3;144;16moutline\u001b[0m\u001b[32m around it.\"\u001b[0m\n"
      ]
     },
     "metadata": {},
     "output_type": "display_data"
    },
    {
     "data": {
      "text/html": [
       "<pre style=\"white-space:pre;overflow-x:auto;line-height:normal;font-family:Menlo,'DejaVu Sans Mono',consolas,'Courier New',monospace\">\n",
       "<span style=\"font-weight: bold\">C:\\Users\\kade\\Desktop\\training_dir_staging\\1_furry_sticker\\4896b709d1fe529d7d701fe6b410d0f4.txt</span>\n",
       "\n",
       "</pre>\n"
      ],
      "text/plain": [
       "\n",
       "\u001b[1mC:\\Users\\kade\\Desktop\\training_dir_staging\\1_furry_sticker\\4896b709d1fe529d7d701fe6b410d0f4.txt\u001b[0m\n",
       "\n"
      ]
     },
     "metadata": {},
     "output_type": "display_data"
    },
    {
     "data": {
      "text/html": [
       "<pre style=\"white-space:pre;overflow-x:auto;line-height:normal;font-family:Menlo,'DejaVu Sans Mono',consolas,'Courier New',monospace\">Tag <span style=\"color: #008000; text-decoration-color: #008000\">\"</span><span style=\"color: #90efbc; text-decoration-color: #90efbc; font-weight: bold\">sergal</span><span style=\"color: #008000; text-decoration-color: #008000\">\"</span> found in caption <span style=\"color: #008000; text-decoration-color: #008000\">\"The </span><span style=\"color: #90efbc; text-decoration-color: #90efbc; font-weight: bold\">sergal</span><span style=\"color: #008000; text-decoration-color: #008000\"> has pointed ears and a long tail behind his back.\"</span>\n",
       "</pre>\n"
      ],
      "text/plain": [
       "Tag \u001b[32m\"\u001b[0m\u001b[1;38;2;144;239;188msergal\u001b[0m\u001b[32m\"\u001b[0m found in caption \u001b[32m\"The \u001b[0m\u001b[1;38;2;144;239;188msergal\u001b[0m\u001b[32m has pointed ears and a long tail behind his back.\"\u001b[0m\n"
      ]
     },
     "metadata": {},
     "output_type": "display_data"
    },
    {
     "data": {
      "text/html": [
       "<pre style=\"white-space:pre;overflow-x:auto;line-height:normal;font-family:Menlo,'DejaVu Sans Mono',consolas,'Courier New',monospace\">Tag <span style=\"color: #008000; text-decoration-color: #008000\">\"</span><span style=\"color: #1a6114; text-decoration-color: #1a6114; font-weight: bold\">speech bubble</span><span style=\"color: #008000; text-decoration-color: #008000\">\"</span> found in caption <span style=\"color: #008000; text-decoration-color: #008000\">\"Above the character there is a </span><span style=\"color: #1a6114; text-decoration-color: #1a6114; font-weight: bold\">speech bubble</span><span style=\"color: #008000; text-decoration-color: #008000\"> that reads 'FOOD'.\"</span>\n",
       "</pre>\n"
      ],
      "text/plain": [
       "Tag \u001b[32m\"\u001b[0m\u001b[1;38;2;26;97;20mspeech bubble\u001b[0m\u001b[32m\"\u001b[0m found in caption \u001b[32m\"Above the character there is a \u001b[0m\u001b[1;38;2;26;97;20mspeech bubble\u001b[0m\u001b[32m that reads 'FOOD'.\"\u001b[0m\n"
      ]
     },
     "metadata": {},
     "output_type": "display_data"
    },
    {
     "data": {
      "text/html": [
       "<pre style=\"white-space:pre;overflow-x:auto;line-height:normal;font-family:Menlo,'DejaVu Sans Mono',consolas,'Courier New',monospace\">\n",
       "<span style=\"font-weight: bold\">C:\\Users\\kade\\Desktop\\training_dir_staging\\1_furry_sticker\\51d1cdf4a51c513f026b3f3abbbe1397.txt</span>\n",
       "\n",
       "</pre>\n"
      ],
      "text/plain": [
       "\n",
       "\u001b[1mC:\\Users\\kade\\Desktop\\training_dir_staging\\1_furry_sticker\\51d1cdf4a51c513f026b3f3abbbe1397.txt\u001b[0m\n",
       "\n"
      ]
     },
     "metadata": {},
     "output_type": "display_data"
    },
    {
     "data": {
      "text/html": [
       "<pre style=\"white-space:pre;overflow-x:auto;line-height:normal;font-family:Menlo,'DejaVu Sans Mono',consolas,'Courier New',monospace\">Tag <span style=\"color: #008000; text-decoration-color: #008000\">\"</span><span style=\"color: #9d6f73; text-decoration-color: #9d6f73; font-weight: bold\">furry sticker</span><span style=\"color: #008000; text-decoration-color: #008000\">\"</span> found in caption <span style=\"color: #008000; text-decoration-color: #008000\">\"This image is a </span><span style=\"color: #9d6f73; text-decoration-color: #9d6f73; font-weight: bold\">furry sticker</span><span style=\"color: #008000; text-decoration-color: #008000\"> of a stylized anthro hyena.\"</span>\n",
       "</pre>\n"
      ],
      "text/plain": [
       "Tag \u001b[32m\"\u001b[0m\u001b[1;38;2;157;111;115mfurry sticker\u001b[0m\u001b[32m\"\u001b[0m found in caption \u001b[32m\"This image is a \u001b[0m\u001b[1;38;2;157;111;115mfurry sticker\u001b[0m\u001b[32m of a stylized anthro hyena.\"\u001b[0m\n"
      ]
     },
     "metadata": {},
     "output_type": "display_data"
    },
    {
     "data": {
      "text/html": [
       "<pre style=\"white-space:pre;overflow-x:auto;line-height:normal;font-family:Menlo,'DejaVu Sans Mono',consolas,'Courier New',monospace\">Tag <span style=\"color: #008000; text-decoration-color: #008000\">\"</span><span style=\"color: #4bc23d; text-decoration-color: #4bc23d; font-weight: bold\">anthro</span><span style=\"color: #008000; text-decoration-color: #008000\">\"</span> found in caption <span style=\"color: #008000; text-decoration-color: #008000\">\"This image is a furry sticker of a stylized </span><span style=\"color: #4bc23d; text-decoration-color: #4bc23d; font-weight: bold\">anthro</span><span style=\"color: #008000; text-decoration-color: #008000\"> hyena.\"</span>\n",
       "</pre>\n"
      ],
      "text/plain": [
       "Tag \u001b[32m\"\u001b[0m\u001b[1;38;2;75;194;61manthro\u001b[0m\u001b[32m\"\u001b[0m found in caption \u001b[32m\"This image is a furry sticker of a stylized \u001b[0m\u001b[1;38;2;75;194;61manthro\u001b[0m\u001b[32m hyena.\"\u001b[0m\n"
      ]
     },
     "metadata": {},
     "output_type": "display_data"
    },
    {
     "data": {
      "text/html": [
       "<pre style=\"white-space:pre;overflow-x:auto;line-height:normal;font-family:Menlo,'DejaVu Sans Mono',consolas,'Courier New',monospace\">Tag <span style=\"color: #008000; text-decoration-color: #008000\">\"</span><span style=\"color: #ce1f16; text-decoration-color: #ce1f16; font-weight: bold\">blush</span><span style=\"color: #008000; text-decoration-color: #008000\">\"</span> found in caption <span style=\"color: #008000; text-decoration-color: #008000\">\"The hyena has a </span><span style=\"color: #ce1f16; text-decoration-color: #ce1f16; font-weight: bold\">blush</span><span style=\"color: #008000; text-decoration-color: #008000\">.\"</span>\n",
       "</pre>\n"
      ],
      "text/plain": [
       "Tag \u001b[32m\"\u001b[0m\u001b[1;38;2;206;31;22mblush\u001b[0m\u001b[32m\"\u001b[0m found in caption \u001b[32m\"The hyena has a \u001b[0m\u001b[1;38;2;206;31;22mblush\u001b[0m\u001b[32m.\"\u001b[0m\n"
      ]
     },
     "metadata": {},
     "output_type": "display_data"
    },
    {
     "data": {
      "text/html": [
       "<pre style=\"white-space:pre;overflow-x:auto;line-height:normal;font-family:Menlo,'DejaVu Sans Mono',consolas,'Courier New',monospace\">Tag <span style=\"color: #008000; text-decoration-color: #008000\">\"</span><span style=\"color: #d58101; text-decoration-color: #d58101; font-weight: bold\">hyena</span><span style=\"color: #008000; text-decoration-color: #008000\">\"</span> found in caption <span style=\"color: #008000; text-decoration-color: #008000\">\"This image is a furry sticker of a stylized anthro </span><span style=\"color: #d58101; text-decoration-color: #d58101; font-weight: bold\">hyena</span><span style=\"color: #008000; text-decoration-color: #008000\">.\"</span>\n",
       "</pre>\n"
      ],
      "text/plain": [
       "Tag \u001b[32m\"\u001b[0m\u001b[1;38;2;213;129;1mhyena\u001b[0m\u001b[32m\"\u001b[0m found in caption \u001b[32m\"This image is a furry sticker of a stylized anthro \u001b[0m\u001b[1;38;2;213;129;1mhyena\u001b[0m\u001b[32m.\"\u001b[0m\n"
      ]
     },
     "metadata": {},
     "output_type": "display_data"
    },
    {
     "data": {
      "text/html": [
       "<pre style=\"white-space:pre;overflow-x:auto;line-height:normal;font-family:Menlo,'DejaVu Sans Mono',consolas,'Courier New',monospace\">Tag <span style=\"color: #008000; text-decoration-color: #008000\">\"</span><span style=\"color: #22d18b; text-decoration-color: #22d18b; font-weight: bold\">hyena</span><span style=\"color: #008000; text-decoration-color: #008000\">\"</span> found in caption <span style=\"color: #008000; text-decoration-color: #008000\">\"The </span><span style=\"color: #22d18b; text-decoration-color: #22d18b; font-weight: bold\">hyena</span><span style=\"color: #008000; text-decoration-color: #008000\"> has a blush.\"</span>\n",
       "</pre>\n"
      ],
      "text/plain": [
       "Tag \u001b[32m\"\u001b[0m\u001b[1;38;2;34;209;139mhyena\u001b[0m\u001b[32m\"\u001b[0m found in caption \u001b[32m\"The \u001b[0m\u001b[1;38;2;34;209;139mhyena\u001b[0m\u001b[32m has a blush.\"\u001b[0m\n"
      ]
     },
     "metadata": {},
     "output_type": "display_data"
    },
    {
     "data": {
      "text/html": [
       "<pre style=\"white-space:pre;overflow-x:auto;line-height:normal;font-family:Menlo,'DejaVu Sans Mono',consolas,'Courier New',monospace\">Tag <span style=\"color: #008000; text-decoration-color: #008000\">\"</span><span style=\"color: #9fe47e; text-decoration-color: #9fe47e; font-weight: bold\">tail</span><span style=\"color: #008000; text-decoration-color: #008000\">\"</span> found in caption <span style=\"color: #008000; text-decoration-color: #008000\">\"It is depicted in a playful or cheeky pose with its </span><span style=\"color: #9fe47e; text-decoration-color: #9fe47e; font-weight: bold\">tail</span><span style=\"color: #008000; text-decoration-color: #008000\"> raised and wagging.\"</span>\n",
       "</pre>\n"
      ],
      "text/plain": [
       "Tag \u001b[32m\"\u001b[0m\u001b[1;38;2;159;228;126mtail\u001b[0m\u001b[32m\"\u001b[0m found in caption \u001b[32m\"It is depicted in a playful or cheeky pose with its \u001b[0m\u001b[1;38;2;159;228;126mtail\u001b[0m\u001b[32m raised and wagging.\"\u001b[0m\n"
      ]
     },
     "metadata": {},
     "output_type": "display_data"
    },
    {
     "data": {
      "text/html": [
       "<pre style=\"white-space:pre;overflow-x:auto;line-height:normal;font-family:Menlo,'DejaVu Sans Mono',consolas,'Courier New',monospace\">Tag <span style=\"color: #008000; text-decoration-color: #008000\">\"</span><span style=\"color: #d3da2e; text-decoration-color: #d3da2e; font-weight: bold\">outline</span><span style=\"color: #008000; text-decoration-color: #008000\">\"</span> found in caption <span style=\"color: #008000; text-decoration-color: #008000\">\"The character is wearing purple shorts and there's a white </span><span style=\"color: #d3da2e; text-decoration-color: #d3da2e; font-weight: bold\">outline</span><span style=\"color: #008000; text-decoration-color: #008000\"> around the </span>\n",
       "<span style=\"color: #008000; text-decoration-color: #008000\">character.\"</span>\n",
       "</pre>\n"
      ],
      "text/plain": [
       "Tag \u001b[32m\"\u001b[0m\u001b[1;38;2;211;218;46moutline\u001b[0m\u001b[32m\"\u001b[0m found in caption \u001b[32m\"The character is wearing purple shorts and there's a white \u001b[0m\u001b[1;38;2;211;218;46moutline\u001b[0m\u001b[32m around the \u001b[0m\n",
       "\u001b[32mcharacter.\"\u001b[0m\n"
      ]
     },
     "metadata": {},
     "output_type": "display_data"
    },
    {
     "data": {
      "text/html": [
       "<pre style=\"white-space:pre;overflow-x:auto;line-height:normal;font-family:Menlo,'DejaVu Sans Mono',consolas,'Courier New',monospace\">\n",
       "<span style=\"font-weight: bold\">C:\\Users\\kade\\Desktop\\training_dir_staging\\1_furry_sticker\\560fb29619d60a588b629ab27cd7b869.txt</span>\n",
       "\n",
       "</pre>\n"
      ],
      "text/plain": [
       "\n",
       "\u001b[1mC:\\Users\\kade\\Desktop\\training_dir_staging\\1_furry_sticker\\560fb29619d60a588b629ab27cd7b869.txt\u001b[0m\n",
       "\n"
      ]
     },
     "metadata": {},
     "output_type": "display_data"
    },
    {
     "data": {
      "text/html": [
       "<pre style=\"white-space:pre;overflow-x:auto;line-height:normal;font-family:Menlo,'DejaVu Sans Mono',consolas,'Courier New',monospace\">Tag <span style=\"color: #008000; text-decoration-color: #008000\">\"</span><span style=\"color: #a5fb29; text-decoration-color: #a5fb29; font-weight: bold\">anthro</span><span style=\"color: #008000; text-decoration-color: #008000\">\"</span> found in caption <span style=\"color: #008000; text-decoration-color: #008000\">\"This image is a cartoon representation of </span><span style=\"color: #a5fb29; text-decoration-color: #a5fb29; font-weight: bold\">anthro</span><span style=\"color: #008000; text-decoration-color: #008000\"> rabbit.\"</span>\n",
       "</pre>\n"
      ],
      "text/plain": [
       "Tag \u001b[32m\"\u001b[0m\u001b[1;38;2;165;251;41manthro\u001b[0m\u001b[32m\"\u001b[0m found in caption \u001b[32m\"This image is a cartoon representation of \u001b[0m\u001b[1;38;2;165;251;41manthro\u001b[0m\u001b[32m rabbit.\"\u001b[0m\n"
      ]
     },
     "metadata": {},
     "output_type": "display_data"
    },
    {
     "data": {
      "text/html": [
       "<pre style=\"white-space:pre;overflow-x:auto;line-height:normal;font-family:Menlo,'DejaVu Sans Mono',consolas,'Courier New',monospace\">Tag <span style=\"color: #008000; text-decoration-color: #008000\">\"</span><span style=\"color: #8d7da6; text-decoration-color: #8d7da6; font-weight: bold\">rabbit</span><span style=\"color: #008000; text-decoration-color: #008000\">\"</span> found in caption <span style=\"color: #008000; text-decoration-color: #008000\">\"This image is a cartoon representation of anthro </span><span style=\"color: #8d7da6; text-decoration-color: #8d7da6; font-weight: bold\">rabbit</span><span style=\"color: #008000; text-decoration-color: #008000\">.\"</span>\n",
       "</pre>\n"
      ],
      "text/plain": [
       "Tag \u001b[32m\"\u001b[0m\u001b[1;38;2;141;125;166mrabbit\u001b[0m\u001b[32m\"\u001b[0m found in caption \u001b[32m\"This image is a cartoon representation of anthro \u001b[0m\u001b[1;38;2;141;125;166mrabbit\u001b[0m\u001b[32m.\"\u001b[0m\n"
      ]
     },
     "metadata": {},
     "output_type": "display_data"
    },
    {
     "data": {
      "text/html": [
       "<pre style=\"white-space:pre;overflow-x:auto;line-height:normal;font-family:Menlo,'DejaVu Sans Mono',consolas,'Courier New',monospace\">Tag <span style=\"color: #008000; text-decoration-color: #008000\">\"</span><span style=\"color: #1ca31a; text-decoration-color: #1ca31a; font-weight: bold\">fur</span><span style=\"color: #008000; text-decoration-color: #008000\">\"</span> found in caption <span style=\"color: #008000; text-decoration-color: #008000\">\"The bunny has a light brown </span><span style=\"color: #1ca31a; text-decoration-color: #1ca31a; font-weight: bold\">fur</span><span style=\"color: #008000; text-decoration-color: #008000\"> color with some white and pink patches.\"</span>\n",
       "</pre>\n"
      ],
      "text/plain": [
       "Tag \u001b[32m\"\u001b[0m\u001b[1;38;2;28;163;26mfur\u001b[0m\u001b[32m\"\u001b[0m found in caption \u001b[32m\"The bunny has a light brown \u001b[0m\u001b[1;38;2;28;163;26mfur\u001b[0m\u001b[32m color with some white and pink patches.\"\u001b[0m\n"
      ]
     },
     "metadata": {},
     "output_type": "display_data"
    },
    {
     "data": {
      "text/html": [
       "<pre style=\"white-space:pre;overflow-x:auto;line-height:normal;font-family:Menlo,'DejaVu Sans Mono',consolas,'Courier New',monospace\">Tag <span style=\"color: #008000; text-decoration-color: #008000\">\"</span><span style=\"color: #2ff13c; text-decoration-color: #2ff13c; font-weight: bold\">pink nose</span><span style=\"color: #008000; text-decoration-color: #008000\">\"</span> found in caption <span style=\"color: #008000; text-decoration-color: #008000\">\"It has a cheerful expression with round open eyes and a </span><span style=\"color: #2ff13c; text-decoration-color: #2ff13c; font-weight: bold\">pink nose</span><span style=\"color: #008000; text-decoration-color: #008000\">.\"</span>\n",
       "</pre>\n"
      ],
      "text/plain": [
       "Tag \u001b[32m\"\u001b[0m\u001b[1;38;2;47;241;60mpink nose\u001b[0m\u001b[32m\"\u001b[0m found in caption \u001b[32m\"It has a cheerful expression with round open eyes and a \u001b[0m\u001b[1;38;2;47;241;60mpink nose\u001b[0m\u001b[32m.\"\u001b[0m\n"
      ]
     },
     "metadata": {},
     "output_type": "display_data"
    },
    {
     "data": {
      "text/html": [
       "<pre style=\"white-space:pre;overflow-x:auto;line-height:normal;font-family:Menlo,'DejaVu Sans Mono',consolas,'Courier New',monospace\">Tag <span style=\"color: #008000; text-decoration-color: #008000\">\"</span><span style=\"color: #fc1bb8; text-decoration-color: #fc1bb8; font-weight: bold\">brown fur</span><span style=\"color: #008000; text-decoration-color: #008000\">\"</span> found in caption <span style=\"color: #008000; text-decoration-color: #008000\">\"The bunny has a light </span><span style=\"color: #fc1bb8; text-decoration-color: #fc1bb8; font-weight: bold\">brown fur</span><span style=\"color: #008000; text-decoration-color: #008000\"> color with some white and pink patches.\"</span>\n",
       "</pre>\n"
      ],
      "text/plain": [
       "Tag \u001b[32m\"\u001b[0m\u001b[1;38;2;252;27;184mbrown fur\u001b[0m\u001b[32m\"\u001b[0m found in caption \u001b[32m\"The bunny has a light \u001b[0m\u001b[1;38;2;252;27;184mbrown fur\u001b[0m\u001b[32m color with some white and pink patches.\"\u001b[0m\n"
      ]
     },
     "metadata": {},
     "output_type": "display_data"
    },
    {
     "data": {
      "text/html": [
       "<pre style=\"white-space:pre;overflow-x:auto;line-height:normal;font-family:Menlo,'DejaVu Sans Mono',consolas,'Courier New',monospace\">\n",
       "<span style=\"font-weight: bold\">C:\\Users\\kade\\Desktop\\training_dir_staging\\1_furry_sticker\\7b7bd6e31e5116408d9cbfe7b7644e1f.txt</span>\n",
       "\n",
       "</pre>\n"
      ],
      "text/plain": [
       "\n",
       "\u001b[1mC:\\Users\\kade\\Desktop\\training_dir_staging\\1_furry_sticker\\7b7bd6e31e5116408d9cbfe7b7644e1f.txt\u001b[0m\n",
       "\n"
      ]
     },
     "metadata": {},
     "output_type": "display_data"
    },
    {
     "data": {
      "text/html": [
       "<pre style=\"white-space:pre;overflow-x:auto;line-height:normal;font-family:Menlo,'DejaVu Sans Mono',consolas,'Courier New',monospace\">Tag <span style=\"color: #008000; text-decoration-color: #008000\">\"</span><span style=\"color: #2fc94d; text-decoration-color: #2fc94d; font-weight: bold\">furry sticker</span><span style=\"color: #008000; text-decoration-color: #008000\">\"</span> found in caption <span style=\"color: #008000; text-decoration-color: #008000\">\"This </span><span style=\"color: #2fc94d; text-decoration-color: #2fc94d; font-weight: bold\">furry sticker</span><span style=\"color: #008000; text-decoration-color: #008000\"> is a stylized animated depiction of anthro fox.\"</span>\n",
       "</pre>\n"
      ],
      "text/plain": [
       "Tag \u001b[32m\"\u001b[0m\u001b[1;38;2;47;201;77mfurry sticker\u001b[0m\u001b[32m\"\u001b[0m found in caption \u001b[32m\"This \u001b[0m\u001b[1;38;2;47;201;77mfurry sticker\u001b[0m\u001b[32m is a stylized animated depiction of anthro fox.\"\u001b[0m\n"
      ]
     },
     "metadata": {},
     "output_type": "display_data"
    },
    {
     "data": {
      "text/html": [
       "<pre style=\"white-space:pre;overflow-x:auto;line-height:normal;font-family:Menlo,'DejaVu Sans Mono',consolas,'Courier New',monospace\">Tag <span style=\"color: #008000; text-decoration-color: #008000\">\"</span><span style=\"color: #fa86d4; text-decoration-color: #fa86d4; font-weight: bold\">collar</span><span style=\"color: #008000; text-decoration-color: #008000\">\"</span> found in caption <span style=\"color: #008000; text-decoration-color: #008000\">\"It has green eyes and is wearing a blue </span><span style=\"color: #fa86d4; text-decoration-color: #fa86d4; font-weight: bold\">collar</span><span style=\"color: #008000; text-decoration-color: #008000\"> with a silver buckle.\"</span>\n",
       "</pre>\n"
      ],
      "text/plain": [
       "Tag \u001b[32m\"\u001b[0m\u001b[1;38;2;250;134;212mcollar\u001b[0m\u001b[32m\"\u001b[0m found in caption \u001b[32m\"It has green eyes and is wearing a blue \u001b[0m\u001b[1;38;2;250;134;212mcollar\u001b[0m\u001b[32m with a silver buckle.\"\u001b[0m\n"
      ]
     },
     "metadata": {},
     "output_type": "display_data"
    },
    {
     "data": {
      "text/html": [
       "<pre style=\"white-space:pre;overflow-x:auto;line-height:normal;font-family:Menlo,'DejaVu Sans Mono',consolas,'Courier New',monospace\">Tag <span style=\"color: #008000; text-decoration-color: #008000\">\"</span><span style=\"color: #c36e69; text-decoration-color: #c36e69; font-weight: bold\">fox</span><span style=\"color: #008000; text-decoration-color: #008000\">\"</span> found in caption <span style=\"color: #008000; text-decoration-color: #008000\">\"This furry sticker is a stylized animated depiction of anthro </span><span style=\"color: #c36e69; text-decoration-color: #c36e69; font-weight: bold\">fox</span><span style=\"color: #008000; text-decoration-color: #008000\">.\"</span>\n",
       "</pre>\n"
      ],
      "text/plain": [
       "Tag \u001b[32m\"\u001b[0m\u001b[1;38;2;195;110;105mfox\u001b[0m\u001b[32m\"\u001b[0m found in caption \u001b[32m\"This furry sticker is a stylized animated depiction of anthro \u001b[0m\u001b[1;38;2;195;110;105mfox\u001b[0m\u001b[32m.\"\u001b[0m\n"
      ]
     },
     "metadata": {},
     "output_type": "display_data"
    },
    {
     "data": {
      "text/html": [
       "<pre style=\"white-space:pre;overflow-x:auto;line-height:normal;font-family:Menlo,'DejaVu Sans Mono',consolas,'Courier New',monospace\">Tag <span style=\"color: #008000; text-decoration-color: #008000\">\"</span><span style=\"color: #a560b2; text-decoration-color: #a560b2; font-weight: bold\">green eyes</span><span style=\"color: #008000; text-decoration-color: #008000\">\"</span> found in caption <span style=\"color: #008000; text-decoration-color: #008000\">\"It has </span><span style=\"color: #a560b2; text-decoration-color: #a560b2; font-weight: bold\">green eyes</span><span style=\"color: #008000; text-decoration-color: #008000\"> and is wearing a blue collar with a silver buckle.\"</span>\n",
       "</pre>\n"
      ],
      "text/plain": [
       "Tag \u001b[32m\"\u001b[0m\u001b[1;38;2;165;96;178mgreen eyes\u001b[0m\u001b[32m\"\u001b[0m found in caption \u001b[32m\"It has \u001b[0m\u001b[1;38;2;165;96;178mgreen eyes\u001b[0m\u001b[32m and is wearing a blue collar with a silver buckle.\"\u001b[0m\n"
      ]
     },
     "metadata": {},
     "output_type": "display_data"
    },
    {
     "data": {
      "text/html": [
       "<pre style=\"white-space:pre;overflow-x:auto;line-height:normal;font-family:Menlo,'DejaVu Sans Mono',consolas,'Courier New',monospace\">Tag <span style=\"color: #008000; text-decoration-color: #008000\">\"</span><span style=\"color: #d2c8c1; text-decoration-color: #d2c8c1; font-weight: bold\">anthro</span><span style=\"color: #008000; text-decoration-color: #008000\">\"</span> found in caption <span style=\"color: #008000; text-decoration-color: #008000\">\"This furry sticker is a stylized animated depiction of </span><span style=\"color: #d2c8c1; text-decoration-color: #d2c8c1; font-weight: bold\">anthro</span><span style=\"color: #008000; text-decoration-color: #008000\"> fox.\"</span>\n",
       "</pre>\n"
      ],
      "text/plain": [
       "Tag \u001b[32m\"\u001b[0m\u001b[1;38;2;210;200;193manthro\u001b[0m\u001b[32m\"\u001b[0m found in caption \u001b[32m\"This furry sticker is a stylized animated depiction of \u001b[0m\u001b[1;38;2;210;200;193manthro\u001b[0m\u001b[32m fox.\"\u001b[0m\n"
      ]
     },
     "metadata": {},
     "output_type": "display_data"
    },
    {
     "data": {
      "text/html": [
       "<pre style=\"white-space:pre;overflow-x:auto;line-height:normal;font-family:Menlo,'DejaVu Sans Mono',consolas,'Courier New',monospace\">Tag <span style=\"color: #008000; text-decoration-color: #008000\">\"</span><span style=\"color: #8e5c58; text-decoration-color: #8e5c58; font-weight: bold\">fur</span><span style=\"color: #008000; text-decoration-color: #008000\">\"</span> found in caption <span style=\"color: #008000; text-decoration-color: #008000\">\"The character has an orange </span><span style=\"color: #8e5c58; text-decoration-color: #8e5c58; font-weight: bold\">fur</span><span style=\"color: #008000; text-decoration-color: #008000\"> coat and white underbelly.\"</span>\n",
       "</pre>\n"
      ],
      "text/plain": [
       "Tag \u001b[32m\"\u001b[0m\u001b[1;38;2;142;92;88mfur\u001b[0m\u001b[32m\"\u001b[0m found in caption \u001b[32m\"The character has an orange \u001b[0m\u001b[1;38;2;142;92;88mfur\u001b[0m\u001b[32m coat and white underbelly.\"\u001b[0m\n"
      ]
     },
     "metadata": {},
     "output_type": "display_data"
    },
    {
     "data": {
      "text/html": [
       "<pre style=\"white-space:pre;overflow-x:auto;line-height:normal;font-family:Menlo,'DejaVu Sans Mono',consolas,'Courier New',monospace\">Tag <span style=\"color: #008000; text-decoration-color: #008000\">\"</span><span style=\"color: #ea9af3; text-decoration-color: #ea9af3; font-weight: bold\">orange fur</span><span style=\"color: #008000; text-decoration-color: #008000\">\"</span> found in caption <span style=\"color: #008000; text-decoration-color: #008000\">\"The character has an </span><span style=\"color: #ea9af3; text-decoration-color: #ea9af3; font-weight: bold\">orange fur</span><span style=\"color: #008000; text-decoration-color: #008000\"> coat and white underbelly.\"</span>\n",
       "</pre>\n"
      ],
      "text/plain": [
       "Tag \u001b[32m\"\u001b[0m\u001b[1;38;2;234;154;243morange fur\u001b[0m\u001b[32m\"\u001b[0m found in caption \u001b[32m\"The character has an \u001b[0m\u001b[1;38;2;234;154;243morange fur\u001b[0m\u001b[32m coat and white underbelly.\"\u001b[0m\n"
      ]
     },
     "metadata": {},
     "output_type": "display_data"
    },
    {
     "data": {
      "text/html": [
       "<pre style=\"white-space:pre;overflow-x:auto;line-height:normal;font-family:Menlo,'DejaVu Sans Mono',consolas,'Courier New',monospace\">\n",
       "<span style=\"font-weight: bold\">C:\\Users\\kade\\Desktop\\training_dir_staging\\1_furry_sticker\\7ba5c31f77820c66bceb515864857325.txt</span>\n",
       "\n",
       "</pre>\n"
      ],
      "text/plain": [
       "\n",
       "\u001b[1mC:\\Users\\kade\\Desktop\\training_dir_staging\\1_furry_sticker\\7ba5c31f77820c66bceb515864857325.txt\u001b[0m\n",
       "\n"
      ]
     },
     "metadata": {},
     "output_type": "display_data"
    },
    {
     "data": {
      "text/html": [
       "<pre style=\"white-space:pre;overflow-x:auto;line-height:normal;font-family:Menlo,'DejaVu Sans Mono',consolas,'Courier New',monospace\">Tag <span style=\"color: #008000; text-decoration-color: #008000\">\"</span><span style=\"color: #846eb2; text-decoration-color: #846eb2; font-weight: bold\">lion</span><span style=\"color: #008000; text-decoration-color: #008000\">\"</span> found in caption <span style=\"color: #008000; text-decoration-color: #008000\">\"This sticker depicts animated anthro </span><span style=\"color: #846eb2; text-decoration-color: #846eb2; font-weight: bold\">lion</span><span style=\"color: #008000; text-decoration-color: #008000\"> creature with a playful expression.\"</span>\n",
       "</pre>\n"
      ],
      "text/plain": [
       "Tag \u001b[32m\"\u001b[0m\u001b[1;38;2;132;110;178mlion\u001b[0m\u001b[32m\"\u001b[0m found in caption \u001b[32m\"This sticker depicts animated anthro \u001b[0m\u001b[1;38;2;132;110;178mlion\u001b[0m\u001b[32m creature with a playful expression.\"\u001b[0m\n"
      ]
     },
     "metadata": {},
     "output_type": "display_data"
    },
    {
     "data": {
      "text/html": [
       "<pre style=\"white-space:pre;overflow-x:auto;line-height:normal;font-family:Menlo,'DejaVu Sans Mono',consolas,'Courier New',monospace\">Tag <span style=\"color: #008000; text-decoration-color: #008000\">\"</span><span style=\"color: #0135b1; text-decoration-color: #0135b1; font-weight: bold\">anthro</span><span style=\"color: #008000; text-decoration-color: #008000\">\"</span> found in caption <span style=\"color: #008000; text-decoration-color: #008000\">\"This sticker depicts animated </span><span style=\"color: #0135b1; text-decoration-color: #0135b1; font-weight: bold\">anthro</span><span style=\"color: #008000; text-decoration-color: #008000\"> lion creature with a playful expression.\"</span>\n",
       "</pre>\n"
      ],
      "text/plain": [
       "Tag \u001b[32m\"\u001b[0m\u001b[1;38;2;1;53;177manthro\u001b[0m\u001b[32m\"\u001b[0m found in caption \u001b[32m\"This sticker depicts animated \u001b[0m\u001b[1;38;2;1;53;177manthro\u001b[0m\u001b[32m lion creature with a playful expression.\"\u001b[0m\n"
      ]
     },
     "metadata": {},
     "output_type": "display_data"
    },
    {
     "data": {
      "text/html": [
       "<pre style=\"white-space:pre;overflow-x:auto;line-height:normal;font-family:Menlo,'DejaVu Sans Mono',consolas,'Courier New',monospace\">Tag <span style=\"color: #008000; text-decoration-color: #008000\">\"</span><span style=\"color: #14d24e; text-decoration-color: #14d24e; font-weight: bold\">fur</span><span style=\"color: #008000; text-decoration-color: #008000\">\"</span> found in caption <span style=\"color: #008000; text-decoration-color: #008000\">\"It has light and dark brown </span><span style=\"color: #14d24e; text-decoration-color: #14d24e; font-weight: bold\">fur</span><span style=\"color: #008000; text-decoration-color: #008000\"> a pink nose and is waving its right cartoonish paw as </span>\n",
       "<span style=\"color: #008000; text-decoration-color: #008000\">if greeting someone.\"</span>\n",
       "</pre>\n"
      ],
      "text/plain": [
       "Tag \u001b[32m\"\u001b[0m\u001b[1;38;2;20;210;78mfur\u001b[0m\u001b[32m\"\u001b[0m found in caption \u001b[32m\"It has light and dark brown \u001b[0m\u001b[1;38;2;20;210;78mfur\u001b[0m\u001b[32m a pink nose and is waving its right cartoonish paw as \u001b[0m\n",
       "\u001b[32mif greeting someone.\"\u001b[0m\n"
      ]
     },
     "metadata": {},
     "output_type": "display_data"
    },
    {
     "data": {
      "text/html": [
       "<pre style=\"white-space:pre;overflow-x:auto;line-height:normal;font-family:Menlo,'DejaVu Sans Mono',consolas,'Courier New',monospace\">Tag <span style=\"color: #008000; text-decoration-color: #008000\">\"</span><span style=\"color: #ab6ac2; text-decoration-color: #ab6ac2; font-weight: bold\">text</span><span style=\"color: #008000; text-decoration-color: #008000\">\"</span> found in caption <span style=\"color: #008000; text-decoration-color: #008000\">\"There is also a speech bubble with the </span><span style=\"color: #ab6ac2; text-decoration-color: #ab6ac2; font-weight: bold\">text</span><span style=\"color: #008000; text-decoration-color: #008000\"> \"</span>Hey.<span style=\"color: #008000; text-decoration-color: #008000\">\" written inside it above its head.\"</span>\n",
       "</pre>\n"
      ],
      "text/plain": [
       "Tag \u001b[32m\"\u001b[0m\u001b[1;38;2;171;106;194mtext\u001b[0m\u001b[32m\"\u001b[0m found in caption \u001b[32m\"There is also a speech bubble with the \u001b[0m\u001b[1;38;2;171;106;194mtext\u001b[0m\u001b[32m \"\u001b[0mHey.\u001b[32m\" written inside it above its head.\"\u001b[0m\n"
      ]
     },
     "metadata": {},
     "output_type": "display_data"
    },
    {
     "data": {
      "text/html": [
       "<pre style=\"white-space:pre;overflow-x:auto;line-height:normal;font-family:Menlo,'DejaVu Sans Mono',consolas,'Courier New',monospace\">Tag <span style=\"color: #008000; text-decoration-color: #008000\">\"</span><span style=\"color: #476e7c; text-decoration-color: #476e7c; font-weight: bold\">speech bubble</span><span style=\"color: #008000; text-decoration-color: #008000\">\"</span> found in caption <span style=\"color: #008000; text-decoration-color: #008000\">\"There is also a </span><span style=\"color: #476e7c; text-decoration-color: #476e7c; font-weight: bold\">speech bubble</span><span style=\"color: #008000; text-decoration-color: #008000\"> with the text \"</span>Hey.<span style=\"color: #008000; text-decoration-color: #008000\">\" written inside it above </span>\n",
       "<span style=\"color: #008000; text-decoration-color: #008000\">its head.\"</span>\n",
       "</pre>\n"
      ],
      "text/plain": [
       "Tag \u001b[32m\"\u001b[0m\u001b[1;38;2;71;110;124mspeech bubble\u001b[0m\u001b[32m\"\u001b[0m found in caption \u001b[32m\"There is also a \u001b[0m\u001b[1;38;2;71;110;124mspeech bubble\u001b[0m\u001b[32m with the text \"\u001b[0mHey.\u001b[32m\" written inside it above \u001b[0m\n",
       "\u001b[32mits head.\"\u001b[0m\n"
      ]
     },
     "metadata": {},
     "output_type": "display_data"
    },
    {
     "data": {
      "text/html": [
       "<pre style=\"white-space:pre;overflow-x:auto;line-height:normal;font-family:Menlo,'DejaVu Sans Mono',consolas,'Courier New',monospace\">\n",
       "<span style=\"font-weight: bold\">C:\\Users\\kade\\Desktop\\training_dir_staging\\1_furry_sticker\\995650eef692b8280ccbd6bd38f1bbae.txt</span>\n",
       "\n",
       "</pre>\n"
      ],
      "text/plain": [
       "\n",
       "\u001b[1mC:\\Users\\kade\\Desktop\\training_dir_staging\\1_furry_sticker\\995650eef692b8280ccbd6bd38f1bbae.txt\u001b[0m\n",
       "\n"
      ]
     },
     "metadata": {},
     "output_type": "display_data"
    },
    {
     "data": {
      "text/html": [
       "<pre style=\"white-space:pre;overflow-x:auto;line-height:normal;font-family:Menlo,'DejaVu Sans Mono',consolas,'Courier New',monospace\">Tag <span style=\"color: #008000; text-decoration-color: #008000\">\"</span><span style=\"color: #9151e8; text-decoration-color: #9151e8; font-weight: bold\">anthro</span><span style=\"color: #008000; text-decoration-color: #008000\">\"</span> found in caption <span style=\"color: #008000; text-decoration-color: #008000\">\"This image is a sticker of two </span><span style=\"color: #9151e8; text-decoration-color: #9151e8; font-weight: bold\">anthro</span><span style=\"color: #008000; text-decoration-color: #008000\"> characters.\"</span>\n",
       "</pre>\n"
      ],
      "text/plain": [
       "Tag \u001b[32m\"\u001b[0m\u001b[1;38;2;145;81;232manthro\u001b[0m\u001b[32m\"\u001b[0m found in caption \u001b[32m\"This image is a sticker of two \u001b[0m\u001b[1;38;2;145;81;232manthro\u001b[0m\u001b[32m characters.\"\u001b[0m\n"
      ]
     },
     "metadata": {},
     "output_type": "display_data"
    },
    {
     "data": {
      "text/html": [
       "<pre style=\"white-space:pre;overflow-x:auto;line-height:normal;font-family:Menlo,'DejaVu Sans Mono',consolas,'Courier New',monospace\">Tag <span style=\"color: #008000; text-decoration-color: #008000\">\"</span><span style=\"color: #cc5c8f; text-decoration-color: #cc5c8f; font-weight: bold\">anthro</span><span style=\"color: #008000; text-decoration-color: #008000\">\"</span> found in caption <span style=\"color: #008000; text-decoration-color: #008000\">\"A tiger is standing upright wearing a cap with an American flag and holding </span><span style=\"color: #cc5c8f; text-decoration-color: #cc5c8f; font-weight: bold\">anthro</span><span style=\"color: #008000; text-decoration-color: #008000\"> </span>\n",
       "<span style=\"color: #008000; text-decoration-color: #008000\">fox around its arms and holding a black mask in front of the fox's face.\"</span>\n",
       "</pre>\n"
      ],
      "text/plain": [
       "Tag \u001b[32m\"\u001b[0m\u001b[1;38;2;204;92;143manthro\u001b[0m\u001b[32m\"\u001b[0m found in caption \u001b[32m\"A tiger is standing upright wearing a cap with an American flag and holding \u001b[0m\u001b[1;38;2;204;92;143manthro\u001b[0m\u001b[32m \u001b[0m\n",
       "\u001b[32mfox around its arms and holding a black mask in front of the fox's face.\"\u001b[0m\n"
      ]
     },
     "metadata": {},
     "output_type": "display_data"
    },
    {
     "data": {
      "text/html": [
       "<pre style=\"white-space:pre;overflow-x:auto;line-height:normal;font-family:Menlo,'DejaVu Sans Mono',consolas,'Courier New',monospace\">Tag <span style=\"color: #008000; text-decoration-color: #008000\">\"</span><span style=\"color: #16381c; text-decoration-color: #16381c; font-weight: bold\">blush</span><span style=\"color: #008000; text-decoration-color: #008000\">\"</span> found in caption <span style=\"color: #008000; text-decoration-color: #008000\">\"The fox has a </span><span style=\"color: #16381c; text-decoration-color: #16381c; font-weight: bold\">blush</span><span style=\"color: #008000; text-decoration-color: #008000\"> on it's face.\"</span>\n",
       "</pre>\n"
      ],
      "text/plain": [
       "Tag \u001b[32m\"\u001b[0m\u001b[1;38;2;22;56;28mblush\u001b[0m\u001b[32m\"\u001b[0m found in caption \u001b[32m\"The fox has a \u001b[0m\u001b[1;38;2;22;56;28mblush\u001b[0m\u001b[32m on it's face.\"\u001b[0m\n"
      ]
     },
     "metadata": {},
     "output_type": "display_data"
    },
    {
     "data": {
      "text/html": [
       "<pre style=\"white-space:pre;overflow-x:auto;line-height:normal;font-family:Menlo,'DejaVu Sans Mono',consolas,'Courier New',monospace\">Tag <span style=\"color: #008000; text-decoration-color: #008000\">\"</span><span style=\"color: #804226; text-decoration-color: #804226; font-weight: bold\">fox</span><span style=\"color: #008000; text-decoration-color: #008000\">\"</span> found in caption <span style=\"color: #008000; text-decoration-color: #008000\">\"A tiger is standing upright wearing a cap with an American flag and holding anthro </span><span style=\"color: #804226; text-decoration-color: #804226; font-weight: bold\">fox</span><span style=\"color: #008000; text-decoration-color: #008000\"> </span>\n",
       "<span style=\"color: #008000; text-decoration-color: #008000\">around its arms and holding a black mask in front of the </span><span style=\"color: #804226; text-decoration-color: #804226; font-weight: bold\">fox</span><span style=\"color: #008000; text-decoration-color: #008000\">'s face.\"</span>\n",
       "</pre>\n"
      ],
      "text/plain": [
       "Tag \u001b[32m\"\u001b[0m\u001b[1;38;2;128;66;38mfox\u001b[0m\u001b[32m\"\u001b[0m found in caption \u001b[32m\"A tiger is standing upright wearing a cap with an American flag and holding anthro \u001b[0m\u001b[1;38;2;128;66;38mfox\u001b[0m\u001b[32m \u001b[0m\n",
       "\u001b[32maround its arms and holding a black mask in front of the \u001b[0m\u001b[1;38;2;128;66;38mfox\u001b[0m\u001b[32m's face.\"\u001b[0m\n"
      ]
     },
     "metadata": {},
     "output_type": "display_data"
    },
    {
     "data": {
      "text/html": [
       "<pre style=\"white-space:pre;overflow-x:auto;line-height:normal;font-family:Menlo,'DejaVu Sans Mono',consolas,'Courier New',monospace\">Tag <span style=\"color: #008000; text-decoration-color: #008000\">\"</span><span style=\"color: #a11ce1; text-decoration-color: #a11ce1; font-weight: bold\">fox</span><span style=\"color: #008000; text-decoration-color: #008000\">\"</span> found in caption <span style=\"color: #008000; text-decoration-color: #008000\">\"Above them there's a speech bubble with various symbols including a chain and a </span><span style=\"color: #a11ce1; text-decoration-color: #a11ce1; font-weight: bold\">fox</span><span style=\"color: #008000; text-decoration-color: #008000\"> and</span>\n",
       "<span style=\"color: #008000; text-decoration-color: #008000\">an eggplant with a red line crossing it out.\"</span>\n",
       "</pre>\n"
      ],
      "text/plain": [
       "Tag \u001b[32m\"\u001b[0m\u001b[1;38;2;161;28;225mfox\u001b[0m\u001b[32m\"\u001b[0m found in caption \u001b[32m\"Above them there's a speech bubble with various symbols including a chain and a \u001b[0m\u001b[1;38;2;161;28;225mfox\u001b[0m\u001b[32m and\u001b[0m\n",
       "\u001b[32man eggplant with a red line crossing it out.\"\u001b[0m\n"
      ]
     },
     "metadata": {},
     "output_type": "display_data"
    },
    {
     "data": {
      "text/html": [
       "<pre style=\"white-space:pre;overflow-x:auto;line-height:normal;font-family:Menlo,'DejaVu Sans Mono',consolas,'Courier New',monospace\">Tag <span style=\"color: #008000; text-decoration-color: #008000\">\"</span><span style=\"color: #08b8ab; text-decoration-color: #08b8ab; font-weight: bold\">fox</span><span style=\"color: #008000; text-decoration-color: #008000\">\"</span> found in caption <span style=\"color: #008000; text-decoration-color: #008000\">\"The </span><span style=\"color: #08b8ab; text-decoration-color: #08b8ab; font-weight: bold\">fox</span><span style=\"color: #008000; text-decoration-color: #008000\"> is naked and has a fluffy tail that ends in white.\"</span>\n",
       "</pre>\n"
      ],
      "text/plain": [
       "Tag \u001b[32m\"\u001b[0m\u001b[1;38;2;8;184;171mfox\u001b[0m\u001b[32m\"\u001b[0m found in caption \u001b[32m\"The \u001b[0m\u001b[1;38;2;8;184;171mfox\u001b[0m\u001b[32m is naked and has a fluffy tail that ends in white.\"\u001b[0m\n"
      ]
     },
     "metadata": {},
     "output_type": "display_data"
    },
    {
     "data": {
      "text/html": [
       "<pre style=\"white-space:pre;overflow-x:auto;line-height:normal;font-family:Menlo,'DejaVu Sans Mono',consolas,'Courier New',monospace\">Tag <span style=\"color: #008000; text-decoration-color: #008000\">\"</span><span style=\"color: #d87d3f; text-decoration-color: #d87d3f; font-weight: bold\">fox</span><span style=\"color: #008000; text-decoration-color: #008000\">\"</span> found in caption <span style=\"color: #008000; text-decoration-color: #008000\">\"The </span><span style=\"color: #d87d3f; text-decoration-color: #d87d3f; font-weight: bold\">fox</span><span style=\"color: #008000; text-decoration-color: #008000\"> has a blush on it's face.\"</span>\n",
       "</pre>\n"
      ],
      "text/plain": [
       "Tag \u001b[32m\"\u001b[0m\u001b[1;38;2;216;125;63mfox\u001b[0m\u001b[32m\"\u001b[0m found in caption \u001b[32m\"The \u001b[0m\u001b[1;38;2;216;125;63mfox\u001b[0m\u001b[32m has a blush on it's face.\"\u001b[0m\n"
      ]
     },
     "metadata": {},
     "output_type": "display_data"
    },
    {
     "data": {
      "text/html": [
       "<pre style=\"white-space:pre;overflow-x:auto;line-height:normal;font-family:Menlo,'DejaVu Sans Mono',consolas,'Courier New',monospace\">Tag <span style=\"color: #008000; text-decoration-color: #008000\">\"</span><span style=\"color: #d84e72; text-decoration-color: #d84e72; font-weight: bold\">tiger</span><span style=\"color: #008000; text-decoration-color: #008000\">\"</span> found in caption <span style=\"color: #008000; text-decoration-color: #008000\">\"A </span><span style=\"color: #d84e72; text-decoration-color: #d84e72; font-weight: bold\">tiger</span><span style=\"color: #008000; text-decoration-color: #008000\"> is standing upright wearing a cap with an American flag and holding anthro </span>\n",
       "<span style=\"color: #008000; text-decoration-color: #008000\">fox around its arms and holding a black mask in front of the fox's face.\"</span>\n",
       "</pre>\n"
      ],
      "text/plain": [
       "Tag \u001b[32m\"\u001b[0m\u001b[1;38;2;216;78;114mtiger\u001b[0m\u001b[32m\"\u001b[0m found in caption \u001b[32m\"A \u001b[0m\u001b[1;38;2;216;78;114mtiger\u001b[0m\u001b[32m is standing upright wearing a cap with an American flag and holding anthro \u001b[0m\n",
       "\u001b[32mfox around its arms and holding a black mask in front of the fox's face.\"\u001b[0m\n"
      ]
     },
     "metadata": {},
     "output_type": "display_data"
    },
    {
     "data": {
      "text/html": [
       "<pre style=\"white-space:pre;overflow-x:auto;line-height:normal;font-family:Menlo,'DejaVu Sans Mono',consolas,'Courier New',monospace\">Tag <span style=\"color: #008000; text-decoration-color: #008000\">\"</span><span style=\"color: #53d7bc; text-decoration-color: #53d7bc; font-weight: bold\">tiger</span><span style=\"color: #008000; text-decoration-color: #008000\">\"</span> found in caption <span style=\"color: #008000; text-decoration-color: #008000\">\"The </span><span style=\"color: #53d7bc; text-decoration-color: #53d7bc; font-weight: bold\">tiger</span><span style=\"color: #008000; text-decoration-color: #008000\"> is also wearing a black and orange outfit.\"</span>\n",
       "</pre>\n"
      ],
      "text/plain": [
       "Tag \u001b[32m\"\u001b[0m\u001b[1;38;2;83;215;188mtiger\u001b[0m\u001b[32m\"\u001b[0m found in caption \u001b[32m\"The \u001b[0m\u001b[1;38;2;83;215;188mtiger\u001b[0m\u001b[32m is also wearing a black and orange outfit.\"\u001b[0m\n"
      ]
     },
     "metadata": {},
     "output_type": "display_data"
    },
    {
     "data": {
      "text/html": [
       "<pre style=\"white-space:pre;overflow-x:auto;line-height:normal;font-family:Menlo,'DejaVu Sans Mono',consolas,'Courier New',monospace\">Tag <span style=\"color: #008000; text-decoration-color: #008000\">\"</span><span style=\"color: #9814ce; text-decoration-color: #9814ce; font-weight: bold\">tiger</span><span style=\"color: #008000; text-decoration-color: #008000\">\"</span> found in caption <span style=\"color: #008000; text-decoration-color: #008000\">\"The </span><span style=\"color: #9814ce; text-decoration-color: #9814ce; font-weight: bold\">tiger</span><span style=\"color: #008000; text-decoration-color: #008000\"> has a bell on the end of its tail.\"</span>\n",
       "</pre>\n"
      ],
      "text/plain": [
       "Tag \u001b[32m\"\u001b[0m\u001b[1;38;2;152;20;206mtiger\u001b[0m\u001b[32m\"\u001b[0m found in caption \u001b[32m\"The \u001b[0m\u001b[1;38;2;152;20;206mtiger\u001b[0m\u001b[32m has a bell on the end of its tail.\"\u001b[0m\n"
      ]
     },
     "metadata": {},
     "output_type": "display_data"
    },
    {
     "data": {
      "text/html": [
       "<pre style=\"white-space:pre;overflow-x:auto;line-height:normal;font-family:Menlo,'DejaVu Sans Mono',consolas,'Courier New',monospace\">Tag <span style=\"color: #008000; text-decoration-color: #008000\">\"</span><span style=\"color: #1dd979; text-decoration-color: #1dd979; font-weight: bold\">green eyes</span><span style=\"color: #008000; text-decoration-color: #008000\">\"</span> found in caption <span style=\"color: #008000; text-decoration-color: #008000\">\"Both characters have </span><span style=\"color: #1dd979; text-decoration-color: #1dd979; font-weight: bold\">green eyes</span><span style=\"color: #008000; text-decoration-color: #008000\">.\"</span>\n",
       "</pre>\n"
      ],
      "text/plain": [
       "Tag \u001b[32m\"\u001b[0m\u001b[1;38;2;29;217;121mgreen eyes\u001b[0m\u001b[32m\"\u001b[0m found in caption \u001b[32m\"Both characters have \u001b[0m\u001b[1;38;2;29;217;121mgreen eyes\u001b[0m\u001b[32m.\"\u001b[0m\n"
      ]
     },
     "metadata": {},
     "output_type": "display_data"
    },
    {
     "data": {
      "text/html": [
       "<pre style=\"white-space:pre;overflow-x:auto;line-height:normal;font-family:Menlo,'DejaVu Sans Mono',consolas,'Courier New',monospace\">Tag <span style=\"color: #008000; text-decoration-color: #008000\">\"</span><span style=\"color: #0e3885; text-decoration-color: #0e3885; font-weight: bold\">speech bubble</span><span style=\"color: #008000; text-decoration-color: #008000\">\"</span> found in caption <span style=\"color: #008000; text-decoration-color: #008000\">\"Above them there's a </span><span style=\"color: #0e3885; text-decoration-color: #0e3885; font-weight: bold\">speech bubble</span><span style=\"color: #008000; text-decoration-color: #008000\"> with various symbols including a chain and</span>\n",
       "<span style=\"color: #008000; text-decoration-color: #008000\">a fox and an eggplant with a red line crossing it out.\"</span>\n",
       "</pre>\n"
      ],
      "text/plain": [
       "Tag \u001b[32m\"\u001b[0m\u001b[1;38;2;14;56;133mspeech bubble\u001b[0m\u001b[32m\"\u001b[0m found in caption \u001b[32m\"Above them there's a \u001b[0m\u001b[1;38;2;14;56;133mspeech bubble\u001b[0m\u001b[32m with various symbols including a chain and\u001b[0m\n",
       "\u001b[32ma fox and an eggplant with a red line crossing it out.\"\u001b[0m\n"
      ]
     },
     "metadata": {},
     "output_type": "display_data"
    },
    {
     "data": {
      "text/html": [
       "<pre style=\"white-space:pre;overflow-x:auto;line-height:normal;font-family:Menlo,'DejaVu Sans Mono',consolas,'Courier New',monospace\">\n",
       "<span style=\"font-weight: bold\">C:\\Users\\kade\\Desktop\\training_dir_staging\\1_furry_sticker\\af645ac16a9c9608b6429837a82b361c.txt</span>\n",
       "\n",
       "</pre>\n"
      ],
      "text/plain": [
       "\n",
       "\u001b[1mC:\\Users\\kade\\Desktop\\training_dir_staging\\1_furry_sticker\\af645ac16a9c9608b6429837a82b361c.txt\u001b[0m\n",
       "\n"
      ]
     },
     "metadata": {},
     "output_type": "display_data"
    },
    {
     "data": {
      "text/html": [
       "<pre style=\"white-space:pre;overflow-x:auto;line-height:normal;font-family:Menlo,'DejaVu Sans Mono',consolas,'Courier New',monospace\">Tag <span style=\"color: #008000; text-decoration-color: #008000\">\"</span><span style=\"color: #5dd472; text-decoration-color: #5dd472; font-weight: bold\">furry sticker</span><span style=\"color: #008000; text-decoration-color: #008000\">\"</span> found in caption <span style=\"color: #008000; text-decoration-color: #008000\">\"This </span><span style=\"color: #5dd472; text-decoration-color: #5dd472; font-weight: bold\">furry sticker</span><span style=\"color: #008000; text-decoration-color: #008000\"> depicts anthro fox with orange fur and green eyes.\"</span>\n",
       "</pre>\n"
      ],
      "text/plain": [
       "Tag \u001b[32m\"\u001b[0m\u001b[1;38;2;93;212;114mfurry sticker\u001b[0m\u001b[32m\"\u001b[0m found in caption \u001b[32m\"This \u001b[0m\u001b[1;38;2;93;212;114mfurry sticker\u001b[0m\u001b[32m depicts anthro fox with orange fur and green eyes.\"\u001b[0m\n"
      ]
     },
     "metadata": {},
     "output_type": "display_data"
    },
    {
     "data": {
      "text/html": [
       "<pre style=\"white-space:pre;overflow-x:auto;line-height:normal;font-family:Menlo,'DejaVu Sans Mono',consolas,'Courier New',monospace\">Tag <span style=\"color: #008000; text-decoration-color: #008000\">\"</span><span style=\"color: #00c827; text-decoration-color: #00c827; font-weight: bold\">fox</span><span style=\"color: #008000; text-decoration-color: #008000\">\"</span> found in caption <span style=\"color: #008000; text-decoration-color: #008000\">\"This furry sticker depicts anthro </span><span style=\"color: #00c827; text-decoration-color: #00c827; font-weight: bold\">fox</span><span style=\"color: #008000; text-decoration-color: #008000\"> with orange fur and green eyes.\"</span>\n",
       "</pre>\n"
      ],
      "text/plain": [
       "Tag \u001b[32m\"\u001b[0m\u001b[1;38;2;0;200;39mfox\u001b[0m\u001b[32m\"\u001b[0m found in caption \u001b[32m\"This furry sticker depicts anthro \u001b[0m\u001b[1;38;2;0;200;39mfox\u001b[0m\u001b[32m with orange fur and green eyes.\"\u001b[0m\n"
      ]
     },
     "metadata": {},
     "output_type": "display_data"
    },
    {
     "data": {
      "text/html": [
       "<pre style=\"white-space:pre;overflow-x:auto;line-height:normal;font-family:Menlo,'DejaVu Sans Mono',consolas,'Courier New',monospace\">Tag <span style=\"color: #008000; text-decoration-color: #008000\">\"</span><span style=\"color: #867575; text-decoration-color: #867575; font-weight: bold\">fox</span><span style=\"color: #008000; text-decoration-color: #008000\">\"</span> found in caption <span style=\"color: #008000; text-decoration-color: #008000\">\"The anthro </span><span style=\"color: #867575; text-decoration-color: #867575; font-weight: bold\">fox</span><span style=\"color: #008000; text-decoration-color: #008000\"> is shown in a pose while talking with its mouth open and its hands at </span>\n",
       "<span style=\"color: #008000; text-decoration-color: #008000\">its chest.\"</span>\n",
       "</pre>\n"
      ],
      "text/plain": [
       "Tag \u001b[32m\"\u001b[0m\u001b[1;38;2;134;117;117mfox\u001b[0m\u001b[32m\"\u001b[0m found in caption \u001b[32m\"The anthro \u001b[0m\u001b[1;38;2;134;117;117mfox\u001b[0m\u001b[32m is shown in a pose while talking with its mouth open and its hands at \u001b[0m\n",
       "\u001b[32mits chest.\"\u001b[0m\n"
      ]
     },
     "metadata": {},
     "output_type": "display_data"
    },
    {
     "data": {
      "text/html": [
       "<pre style=\"white-space:pre;overflow-x:auto;line-height:normal;font-family:Menlo,'DejaVu Sans Mono',consolas,'Courier New',monospace\">Tag <span style=\"color: #008000; text-decoration-color: #008000\">\"</span><span style=\"color: #3e418d; text-decoration-color: #3e418d; font-weight: bold\">fox</span><span style=\"color: #008000; text-decoration-color: #008000\">\"</span> found in caption <span style=\"color: #008000; text-decoration-color: #008000\">\"The background is transparent putting emphasis on the </span><span style=\"color: #3e418d; text-decoration-color: #3e418d; font-weight: bold\">fox</span><span style=\"color: #008000; text-decoration-color: #008000\"> character.\"</span>\n",
       "</pre>\n"
      ],
      "text/plain": [
       "Tag \u001b[32m\"\u001b[0m\u001b[1;38;2;62;65;141mfox\u001b[0m\u001b[32m\"\u001b[0m found in caption \u001b[32m\"The background is transparent putting emphasis on the \u001b[0m\u001b[1;38;2;62;65;141mfox\u001b[0m\u001b[32m character.\"\u001b[0m\n"
      ]
     },
     "metadata": {},
     "output_type": "display_data"
    },
    {
     "data": {
      "text/html": [
       "<pre style=\"white-space:pre;overflow-x:auto;line-height:normal;font-family:Menlo,'DejaVu Sans Mono',consolas,'Courier New',monospace\">Tag <span style=\"color: #008000; text-decoration-color: #008000\">\"</span><span style=\"color: #10f2b2; text-decoration-color: #10f2b2; font-weight: bold\">anthro</span><span style=\"color: #008000; text-decoration-color: #008000\">\"</span> found in caption <span style=\"color: #008000; text-decoration-color: #008000\">\"This furry sticker depicts </span><span style=\"color: #10f2b2; text-decoration-color: #10f2b2; font-weight: bold\">anthro</span><span style=\"color: #008000; text-decoration-color: #008000\"> fox with orange fur and green eyes.\"</span>\n",
       "</pre>\n"
      ],
      "text/plain": [
       "Tag \u001b[32m\"\u001b[0m\u001b[1;38;2;16;242;178manthro\u001b[0m\u001b[32m\"\u001b[0m found in caption \u001b[32m\"This furry sticker depicts \u001b[0m\u001b[1;38;2;16;242;178manthro\u001b[0m\u001b[32m fox with orange fur and green eyes.\"\u001b[0m\n"
      ]
     },
     "metadata": {},
     "output_type": "display_data"
    },
    {
     "data": {
      "text/html": [
       "<pre style=\"white-space:pre;overflow-x:auto;line-height:normal;font-family:Menlo,'DejaVu Sans Mono',consolas,'Courier New',monospace\">Tag <span style=\"color: #008000; text-decoration-color: #008000\">\"</span><span style=\"color: #6655c1; text-decoration-color: #6655c1; font-weight: bold\">anthro</span><span style=\"color: #008000; text-decoration-color: #008000\">\"</span> found in caption <span style=\"color: #008000; text-decoration-color: #008000\">\"The </span><span style=\"color: #6655c1; text-decoration-color: #6655c1; font-weight: bold\">anthro</span><span style=\"color: #008000; text-decoration-color: #008000\"> fox is shown in a pose while talking with its mouth open and its hands at</span>\n",
       "<span style=\"color: #008000; text-decoration-color: #008000\">its chest.\"</span>\n",
       "</pre>\n"
      ],
      "text/plain": [
       "Tag \u001b[32m\"\u001b[0m\u001b[1;38;2;102;85;193manthro\u001b[0m\u001b[32m\"\u001b[0m found in caption \u001b[32m\"The \u001b[0m\u001b[1;38;2;102;85;193manthro\u001b[0m\u001b[32m fox is shown in a pose while talking with its mouth open and its hands at\u001b[0m\n",
       "\u001b[32mits chest.\"\u001b[0m\n"
      ]
     },
     "metadata": {},
     "output_type": "display_data"
    },
    {
     "data": {
      "text/html": [
       "<pre style=\"white-space:pre;overflow-x:auto;line-height:normal;font-family:Menlo,'DejaVu Sans Mono',consolas,'Courier New',monospace\">Tag <span style=\"color: #008000; text-decoration-color: #008000\">\"</span><span style=\"color: #8c8730; text-decoration-color: #8c8730; font-weight: bold\">green eyes</span><span style=\"color: #008000; text-decoration-color: #008000\">\"</span> found in caption <span style=\"color: #008000; text-decoration-color: #008000\">\"This furry sticker depicts anthro fox with orange fur and </span><span style=\"color: #8c8730; text-decoration-color: #8c8730; font-weight: bold\">green eyes</span><span style=\"color: #008000; text-decoration-color: #008000\">.\"</span>\n",
       "</pre>\n"
      ],
      "text/plain": [
       "Tag \u001b[32m\"\u001b[0m\u001b[1;38;2;140;135;48mgreen eyes\u001b[0m\u001b[32m\"\u001b[0m found in caption \u001b[32m\"This furry sticker depicts anthro fox with orange fur and \u001b[0m\u001b[1;38;2;140;135;48mgreen eyes\u001b[0m\u001b[32m.\"\u001b[0m\n"
      ]
     },
     "metadata": {},
     "output_type": "display_data"
    },
    {
     "data": {
      "text/html": [
       "<pre style=\"white-space:pre;overflow-x:auto;line-height:normal;font-family:Menlo,'DejaVu Sans Mono',consolas,'Courier New',monospace\">Tag <span style=\"color: #008000; text-decoration-color: #008000\">\"</span><span style=\"color: #598e02; text-decoration-color: #598e02; font-weight: bold\">fur</span><span style=\"color: #008000; text-decoration-color: #008000\">\"</span> found in caption <span style=\"color: #008000; text-decoration-color: #008000\">\"This </span><span style=\"color: #598e02; text-decoration-color: #598e02; font-weight: bold\">fur</span><span style=\"color: #008000; text-decoration-color: #008000\">ry sticker depicts anthro fox with orange </span><span style=\"color: #598e02; text-decoration-color: #598e02; font-weight: bold\">fur</span><span style=\"color: #008000; text-decoration-color: #008000\"> and green eyes.\"</span>\n",
       "</pre>\n"
      ],
      "text/plain": [
       "Tag \u001b[32m\"\u001b[0m\u001b[1;38;2;89;142;2mfur\u001b[0m\u001b[32m\"\u001b[0m found in caption \u001b[32m\"This \u001b[0m\u001b[1;38;2;89;142;2mfur\u001b[0m\u001b[32mry sticker depicts anthro fox with orange \u001b[0m\u001b[1;38;2;89;142;2mfur\u001b[0m\u001b[32m and green eyes.\"\u001b[0m\n"
      ]
     },
     "metadata": {},
     "output_type": "display_data"
    },
    {
     "data": {
      "text/html": [
       "<pre style=\"white-space:pre;overflow-x:auto;line-height:normal;font-family:Menlo,'DejaVu Sans Mono',consolas,'Courier New',monospace\">Tag <span style=\"color: #008000; text-decoration-color: #008000\">\"</span><span style=\"color: #0b6e49; text-decoration-color: #0b6e49; font-weight: bold\">orange fur</span><span style=\"color: #008000; text-decoration-color: #008000\">\"</span> found in caption <span style=\"color: #008000; text-decoration-color: #008000\">\"This furry sticker depicts anthro fox with </span><span style=\"color: #0b6e49; text-decoration-color: #0b6e49; font-weight: bold\">orange fur</span><span style=\"color: #008000; text-decoration-color: #008000\"> and green eyes.\"</span>\n",
       "</pre>\n"
      ],
      "text/plain": [
       "Tag \u001b[32m\"\u001b[0m\u001b[1;38;2;11;110;73morange fur\u001b[0m\u001b[32m\"\u001b[0m found in caption \u001b[32m\"This furry sticker depicts anthro fox with \u001b[0m\u001b[1;38;2;11;110;73morange fur\u001b[0m\u001b[32m and green eyes.\"\u001b[0m\n"
      ]
     },
     "metadata": {},
     "output_type": "display_data"
    },
    {
     "data": {
      "text/html": [
       "<pre style=\"white-space:pre;overflow-x:auto;line-height:normal;font-family:Menlo,'DejaVu Sans Mono',consolas,'Courier New',monospace\">Tag <span style=\"color: #008000; text-decoration-color: #008000\">\"</span><span style=\"color: #96dd73; text-decoration-color: #96dd73; font-weight: bold\">outline</span><span style=\"color: #008000; text-decoration-color: #008000\">\"</span> found in caption <span style=\"color: #008000; text-decoration-color: #008000\">\"The character has a white </span><span style=\"color: #96dd73; text-decoration-color: #96dd73; font-weight: bold\">outline</span><span style=\"color: #008000; text-decoration-color: #008000\"> around it.\"</span>\n",
       "</pre>\n"
      ],
      "text/plain": [
       "Tag \u001b[32m\"\u001b[0m\u001b[1;38;2;150;221;115moutline\u001b[0m\u001b[32m\"\u001b[0m found in caption \u001b[32m\"The character has a white \u001b[0m\u001b[1;38;2;150;221;115moutline\u001b[0m\u001b[32m around it.\"\u001b[0m\n"
      ]
     },
     "metadata": {},
     "output_type": "display_data"
    },
    {
     "data": {
      "text/html": [
       "<pre style=\"white-space:pre;overflow-x:auto;line-height:normal;font-family:Menlo,'DejaVu Sans Mono',consolas,'Courier New',monospace\">\n",
       "<span style=\"font-weight: bold\">C:\\Users\\kade\\Desktop\\training_dir_staging\\1_furry_sticker\\c004dd17eabdc650f7870d1cce451132.txt</span>\n",
       "\n",
       "</pre>\n"
      ],
      "text/plain": [
       "\n",
       "\u001b[1mC:\\Users\\kade\\Desktop\\training_dir_staging\\1_furry_sticker\\c004dd17eabdc650f7870d1cce451132.txt\u001b[0m\n",
       "\n"
      ]
     },
     "metadata": {},
     "output_type": "display_data"
    },
    {
     "data": {
      "text/html": [
       "<pre style=\"white-space:pre;overflow-x:auto;line-height:normal;font-family:Menlo,'DejaVu Sans Mono',consolas,'Courier New',monospace\">Tag <span style=\"color: #008000; text-decoration-color: #008000\">\"</span><span style=\"color: #cfb453; text-decoration-color: #cfb453; font-weight: bold\">furry sticker</span><span style=\"color: #008000; text-decoration-color: #008000\">\"</span> found in caption <span style=\"color: #008000; text-decoration-color: #008000\">\"This is </span><span style=\"color: #cfb453; text-decoration-color: #cfb453; font-weight: bold\">furry sticker</span><span style=\"color: #008000; text-decoration-color: #008000\"> of anthro fox.\"</span>\n",
       "</pre>\n"
      ],
      "text/plain": [
       "Tag \u001b[32m\"\u001b[0m\u001b[1;38;2;207;180;83mfurry sticker\u001b[0m\u001b[32m\"\u001b[0m found in caption \u001b[32m\"This is \u001b[0m\u001b[1;38;2;207;180;83mfurry sticker\u001b[0m\u001b[32m of anthro fox.\"\u001b[0m\n"
      ]
     },
     "metadata": {},
     "output_type": "display_data"
    },
    {
     "data": {
      "text/html": [
       "<pre style=\"white-space:pre;overflow-x:auto;line-height:normal;font-family:Menlo,'DejaVu Sans Mono',consolas,'Courier New',monospace\">Tag <span style=\"color: #008000; text-decoration-color: #008000\">\"</span><span style=\"color: #c82b44; text-decoration-color: #c82b44; font-weight: bold\">fox</span><span style=\"color: #008000; text-decoration-color: #008000\">\"</span> found in caption <span style=\"color: #008000; text-decoration-color: #008000\">\"This is furry sticker of anthro </span><span style=\"color: #c82b44; text-decoration-color: #c82b44; font-weight: bold\">fox</span><span style=\"color: #008000; text-decoration-color: #008000\">.\"</span>\n",
       "</pre>\n"
      ],
      "text/plain": [
       "Tag \u001b[32m\"\u001b[0m\u001b[1;38;2;200;43;68mfox\u001b[0m\u001b[32m\"\u001b[0m found in caption \u001b[32m\"This is furry sticker of anthro \u001b[0m\u001b[1;38;2;200;43;68mfox\u001b[0m\u001b[32m.\"\u001b[0m\n"
      ]
     },
     "metadata": {},
     "output_type": "display_data"
    },
    {
     "data": {
      "text/html": [
       "<pre style=\"white-space:pre;overflow-x:auto;line-height:normal;font-family:Menlo,'DejaVu Sans Mono',consolas,'Courier New',monospace\">Tag <span style=\"color: #008000; text-decoration-color: #008000\">\"</span><span style=\"color: #dea06e; text-decoration-color: #dea06e; font-weight: bold\">fox</span><span style=\"color: #008000; text-decoration-color: #008000\">\"</span> found in caption <span style=\"color: #008000; text-decoration-color: #008000\">\"The </span><span style=\"color: #dea06e; text-decoration-color: #dea06e; font-weight: bold\">fox</span><span style=\"color: #008000; text-decoration-color: #008000\"> is depicted in a thoughtful pose with one hand on its chin and a slightly </span>\n",
       "<span style=\"color: #008000; text-decoration-color: #008000\">furrowed brow as if it's pondering.\"</span>\n",
       "</pre>\n"
      ],
      "text/plain": [
       "Tag \u001b[32m\"\u001b[0m\u001b[1;38;2;222;160;110mfox\u001b[0m\u001b[32m\"\u001b[0m found in caption \u001b[32m\"The \u001b[0m\u001b[1;38;2;222;160;110mfox\u001b[0m\u001b[32m is depicted in a thoughtful pose with one hand on its chin and a slightly \u001b[0m\n",
       "\u001b[32mfurrowed brow as if it's pondering.\"\u001b[0m\n"
      ]
     },
     "metadata": {},
     "output_type": "display_data"
    },
    {
     "data": {
      "text/html": [
       "<pre style=\"white-space:pre;overflow-x:auto;line-height:normal;font-family:Menlo,'DejaVu Sans Mono',consolas,'Courier New',monospace\">Tag <span style=\"color: #008000; text-decoration-color: #008000\">\"</span><span style=\"color: #dd1f1c; text-decoration-color: #dd1f1c; font-weight: bold\">fox</span><span style=\"color: #008000; text-decoration-color: #008000\">\"</span> found in caption <span style=\"color: #008000; text-decoration-color: #008000\">\"The </span><span style=\"color: #dd1f1c; text-decoration-color: #dd1f1c; font-weight: bold\">fox</span><span style=\"color: #008000; text-decoration-color: #008000\"> has a red and brown coat with white underbelly and a tail that is red at the </span>\n",
       "<span style=\"color: #008000; text-decoration-color: #008000\">base and white at the tip.\"</span>\n",
       "</pre>\n"
      ],
      "text/plain": [
       "Tag \u001b[32m\"\u001b[0m\u001b[1;38;2;221;31;28mfox\u001b[0m\u001b[32m\"\u001b[0m found in caption \u001b[32m\"The \u001b[0m\u001b[1;38;2;221;31;28mfox\u001b[0m\u001b[32m has a red and brown coat with white underbelly and a tail that is red at the \u001b[0m\n",
       "\u001b[32mbase and white at the tip.\"\u001b[0m\n"
      ]
     },
     "metadata": {},
     "output_type": "display_data"
    },
    {
     "data": {
      "text/html": [
       "<pre style=\"white-space:pre;overflow-x:auto;line-height:normal;font-family:Menlo,'DejaVu Sans Mono',consolas,'Courier New',monospace\">Tag <span style=\"color: #008000; text-decoration-color: #008000\">\"</span><span style=\"color: #bd0f67; text-decoration-color: #bd0f67; font-weight: bold\">fox</span><span style=\"color: #008000; text-decoration-color: #008000\">\"</span> found in caption <span style=\"color: #008000; text-decoration-color: #008000\">\"The </span><span style=\"color: #bd0f67; text-decoration-color: #bd0f67; font-weight: bold\">fox</span><span style=\"color: #008000; text-decoration-color: #008000\"> has green eyes and is wearing a small grey hat.\"</span>\n",
       "</pre>\n"
      ],
      "text/plain": [
       "Tag \u001b[32m\"\u001b[0m\u001b[1;38;2;189;15;103mfox\u001b[0m\u001b[32m\"\u001b[0m found in caption \u001b[32m\"The \u001b[0m\u001b[1;38;2;189;15;103mfox\u001b[0m\u001b[32m has green eyes and is wearing a small grey hat.\"\u001b[0m\n"
      ]
     },
     "metadata": {},
     "output_type": "display_data"
    },
    {
     "data": {
      "text/html": [
       "<pre style=\"white-space:pre;overflow-x:auto;line-height:normal;font-family:Menlo,'DejaVu Sans Mono',consolas,'Courier New',monospace\">Tag <span style=\"color: #008000; text-decoration-color: #008000\">\"</span><span style=\"color: #2d85e7; text-decoration-color: #2d85e7; font-weight: bold\">fox</span><span style=\"color: #008000; text-decoration-color: #008000\">\"</span> found in caption <span style=\"color: #008000; text-decoration-color: #008000\">\"There's also a blue circle with an 'X' in it next to the </span><span style=\"color: #2d85e7; text-decoration-color: #2d85e7; font-weight: bold\">fox</span><span style=\"color: #008000; text-decoration-color: #008000\"> which indicates something </span>\n",
       "<span style=\"color: #008000; text-decoration-color: #008000\">wrong or incorrect and it is doubting it.\"</span>\n",
       "</pre>\n"
      ],
      "text/plain": [
       "Tag \u001b[32m\"\u001b[0m\u001b[1;38;2;45;133;231mfox\u001b[0m\u001b[32m\"\u001b[0m found in caption \u001b[32m\"There's also a blue circle with an 'X' in it next to the \u001b[0m\u001b[1;38;2;45;133;231mfox\u001b[0m\u001b[32m which indicates something \u001b[0m\n",
       "\u001b[32mwrong or incorrect and it is doubting it.\"\u001b[0m\n"
      ]
     },
     "metadata": {},
     "output_type": "display_data"
    },
    {
     "data": {
      "text/html": [
       "<pre style=\"white-space:pre;overflow-x:auto;line-height:normal;font-family:Menlo,'DejaVu Sans Mono',consolas,'Courier New',monospace\">Tag <span style=\"color: #008000; text-decoration-color: #008000\">\"</span><span style=\"color: #474fae; text-decoration-color: #474fae; font-weight: bold\">anthro</span><span style=\"color: #008000; text-decoration-color: #008000\">\"</span> found in caption <span style=\"color: #008000; text-decoration-color: #008000\">\"This is furry sticker of </span><span style=\"color: #474fae; text-decoration-color: #474fae; font-weight: bold\">anthro</span><span style=\"color: #008000; text-decoration-color: #008000\"> fox.\"</span>\n",
       "</pre>\n"
      ],
      "text/plain": [
       "Tag \u001b[32m\"\u001b[0m\u001b[1;38;2;71;79;174manthro\u001b[0m\u001b[32m\"\u001b[0m found in caption \u001b[32m\"This is furry sticker of \u001b[0m\u001b[1;38;2;71;79;174manthro\u001b[0m\u001b[32m fox.\"\u001b[0m\n"
      ]
     },
     "metadata": {},
     "output_type": "display_data"
    },
    {
     "data": {
      "text/html": [
       "<pre style=\"white-space:pre;overflow-x:auto;line-height:normal;font-family:Menlo,'DejaVu Sans Mono',consolas,'Courier New',monospace\">Tag <span style=\"color: #008000; text-decoration-color: #008000\">\"</span><span style=\"color: #474c74; text-decoration-color: #474c74; font-weight: bold\">green eyes</span><span style=\"color: #008000; text-decoration-color: #008000\">\"</span> found in caption <span style=\"color: #008000; text-decoration-color: #008000\">\"The fox has </span><span style=\"color: #474c74; text-decoration-color: #474c74; font-weight: bold\">green eyes</span><span style=\"color: #008000; text-decoration-color: #008000\"> and is wearing a small grey hat.\"</span>\n",
       "</pre>\n"
      ],
      "text/plain": [
       "Tag \u001b[32m\"\u001b[0m\u001b[1;38;2;71;76;116mgreen eyes\u001b[0m\u001b[32m\"\u001b[0m found in caption \u001b[32m\"The fox has \u001b[0m\u001b[1;38;2;71;76;116mgreen eyes\u001b[0m\u001b[32m and is wearing a small grey hat.\"\u001b[0m\n"
      ]
     },
     "metadata": {},
     "output_type": "display_data"
    },
    {
     "data": {
      "text/html": [
       "<pre style=\"white-space:pre;overflow-x:auto;line-height:normal;font-family:Menlo,'DejaVu Sans Mono',consolas,'Courier New',monospace\">Tag <span style=\"color: #008000; text-decoration-color: #008000\">\"</span><span style=\"color: #bcc217; text-decoration-color: #bcc217; font-weight: bold\">hat</span><span style=\"color: #008000; text-decoration-color: #008000\">\"</span> found in caption <span style=\"color: #008000; text-decoration-color: #008000\">\"The fox has green eyes and is wearing a small grey </span><span style=\"color: #bcc217; text-decoration-color: #bcc217; font-weight: bold\">hat</span><span style=\"color: #008000; text-decoration-color: #008000\">.\"</span>\n",
       "</pre>\n"
      ],
      "text/plain": [
       "Tag \u001b[32m\"\u001b[0m\u001b[1;38;2;188;194;23mhat\u001b[0m\u001b[32m\"\u001b[0m found in caption \u001b[32m\"The fox has green eyes and is wearing a small grey \u001b[0m\u001b[1;38;2;188;194;23mhat\u001b[0m\u001b[32m.\"\u001b[0m\n"
      ]
     },
     "metadata": {},
     "output_type": "display_data"
    },
    {
     "data": {
      "text/html": [
       "<pre style=\"white-space:pre;overflow-x:auto;line-height:normal;font-family:Menlo,'DejaVu Sans Mono',consolas,'Courier New',monospace\">\n",
       "<span style=\"font-weight: bold\">C:\\Users\\kade\\Desktop\\training_dir_staging\\1_furry_sticker\\cd363fa50058989fb9e47cde17599357.txt</span>\n",
       "\n",
       "</pre>\n"
      ],
      "text/plain": [
       "\n",
       "\u001b[1mC:\\Users\\kade\\Desktop\\training_dir_staging\\1_furry_sticker\\cd363fa50058989fb9e47cde17599357.txt\u001b[0m\n",
       "\n"
      ]
     },
     "metadata": {},
     "output_type": "display_data"
    },
    {
     "data": {
      "text/html": [
       "<pre style=\"white-space:pre;overflow-x:auto;line-height:normal;font-family:Menlo,'DejaVu Sans Mono',consolas,'Courier New',monospace\">Tag <span style=\"color: #008000; text-decoration-color: #008000\">\"</span><span style=\"color: #d5f1e7; text-decoration-color: #d5f1e7; font-weight: bold\">fur</span><span style=\"color: #008000; text-decoration-color: #008000\">\"</span> found in caption <span style=\"color: #008000; text-decoration-color: #008000\">\"It has a light purple </span><span style=\"color: #d5f1e7; text-decoration-color: #d5f1e7; font-weight: bold\">fur</span><span style=\"color: #008000; text-decoration-color: #008000\"> with large expressive eyes and an open mouth which appears to</span>\n",
       "<span style=\"color: #008000; text-decoration-color: #008000\">be shouting.\"</span>\n",
       "</pre>\n"
      ],
      "text/plain": [
       "Tag \u001b[32m\"\u001b[0m\u001b[1;38;2;213;241;231mfur\u001b[0m\u001b[32m\"\u001b[0m found in caption \u001b[32m\"It has a light purple \u001b[0m\u001b[1;38;2;213;241;231mfur\u001b[0m\u001b[32m with large expressive eyes and an open mouth which appears to\u001b[0m\n",
       "\u001b[32mbe shouting.\"\u001b[0m\n"
      ]
     },
     "metadata": {},
     "output_type": "display_data"
    },
    {
     "data": {
      "text/html": [
       "<pre style=\"white-space:pre;overflow-x:auto;line-height:normal;font-family:Menlo,'DejaVu Sans Mono',consolas,'Courier New',monospace\">Tag <span style=\"color: #008000; text-decoration-color: #008000\">\"</span><span style=\"color: #6be033; text-decoration-color: #6be033; font-weight: bold\">open mouth</span><span style=\"color: #008000; text-decoration-color: #008000\">\"</span> found in caption <span style=\"color: #008000; text-decoration-color: #008000\">\"It has a light purple fur with large expressive eyes and an </span><span style=\"color: #6be033; text-decoration-color: #6be033; font-weight: bold\">open mouth</span><span style=\"color: #008000; text-decoration-color: #008000\"> which </span>\n",
       "<span style=\"color: #008000; text-decoration-color: #008000\">appears to be shouting.\"</span>\n",
       "</pre>\n"
      ],
      "text/plain": [
       "Tag \u001b[32m\"\u001b[0m\u001b[1;38;2;107;224;51mopen mouth\u001b[0m\u001b[32m\"\u001b[0m found in caption \u001b[32m\"It has a light purple fur with large expressive eyes and an \u001b[0m\u001b[1;38;2;107;224;51mopen mouth\u001b[0m\u001b[32m which \u001b[0m\n",
       "\u001b[32mappears to be shouting.\"\u001b[0m\n"
      ]
     },
     "metadata": {},
     "output_type": "display_data"
    },
    {
     "data": {
      "text/html": [
       "<pre style=\"white-space:pre;overflow-x:auto;line-height:normal;font-family:Menlo,'DejaVu Sans Mono',consolas,'Courier New',monospace\">Tag <span style=\"color: #008000; text-decoration-color: #008000\">\"</span><span style=\"color: #ef63c8; text-decoration-color: #ef63c8; font-weight: bold\">anthro</span><span style=\"color: #008000; text-decoration-color: #008000\">\"</span> found in caption <span style=\"color: #008000; text-decoration-color: #008000\">\"This image is a stylized cartoonish sticker of </span><span style=\"color: #ef63c8; text-decoration-color: #ef63c8; font-weight: bold\">anthro</span><span style=\"color: #008000; text-decoration-color: #008000\"> red panda's face.\"</span>\n",
       "</pre>\n"
      ],
      "text/plain": [
       "Tag \u001b[32m\"\u001b[0m\u001b[1;38;2;239;99;200manthro\u001b[0m\u001b[32m\"\u001b[0m found in caption \u001b[32m\"This image is a stylized cartoonish sticker of \u001b[0m\u001b[1;38;2;239;99;200manthro\u001b[0m\u001b[32m red panda's face.\"\u001b[0m\n"
      ]
     },
     "metadata": {},
     "output_type": "display_data"
    },
    {
     "data": {
      "text/html": [
       "<pre style=\"white-space:pre;overflow-x:auto;line-height:normal;font-family:Menlo,'DejaVu Sans Mono',consolas,'Courier New',monospace\">Tag <span style=\"color: #008000; text-decoration-color: #008000\">\"</span><span style=\"color: #6919a3; text-decoration-color: #6919a3; font-weight: bold\">purple fur</span><span style=\"color: #008000; text-decoration-color: #008000\">\"</span> found in caption <span style=\"color: #008000; text-decoration-color: #008000\">\"It has a light </span><span style=\"color: #6919a3; text-decoration-color: #6919a3; font-weight: bold\">purple fur</span><span style=\"color: #008000; text-decoration-color: #008000\"> with large expressive eyes and an open mouth which </span>\n",
       "<span style=\"color: #008000; text-decoration-color: #008000\">appears to be shouting.\"</span>\n",
       "</pre>\n"
      ],
      "text/plain": [
       "Tag \u001b[32m\"\u001b[0m\u001b[1;38;2;105;25;163mpurple fur\u001b[0m\u001b[32m\"\u001b[0m found in caption \u001b[32m\"It has a light \u001b[0m\u001b[1;38;2;105;25;163mpurple fur\u001b[0m\u001b[32m with large expressive eyes and an open mouth which \u001b[0m\n",
       "\u001b[32mappears to be shouting.\"\u001b[0m\n"
      ]
     },
     "metadata": {},
     "output_type": "display_data"
    },
    {
     "data": {
      "text/html": [
       "<pre style=\"white-space:pre;overflow-x:auto;line-height:normal;font-family:Menlo,'DejaVu Sans Mono',consolas,'Courier New',monospace\">\n",
       "<span style=\"font-weight: bold\">C:\\Users\\kade\\Desktop\\training_dir_staging\\1_furry_sticker\\f1ff847532e185a197af2f14a1fba805.txt</span>\n",
       "\n",
       "</pre>\n"
      ],
      "text/plain": [
       "\n",
       "\u001b[1mC:\\Users\\kade\\Desktop\\training_dir_staging\\1_furry_sticker\\f1ff847532e185a197af2f14a1fba805.txt\u001b[0m\n",
       "\n"
      ]
     },
     "metadata": {},
     "output_type": "display_data"
    },
    {
     "data": {
      "text/html": [
       "<pre style=\"white-space:pre;overflow-x:auto;line-height:normal;font-family:Menlo,'DejaVu Sans Mono',consolas,'Courier New',monospace\">Tag <span style=\"color: #008000; text-decoration-color: #008000\">\"</span><span style=\"color: #dc7def; text-decoration-color: #dc7def; font-weight: bold\">snow leopard</span><span style=\"color: #008000; text-decoration-color: #008000\">\"</span> found in caption <span style=\"color: #008000; text-decoration-color: #008000\">\"This image is a sticker featuring a cartoonish anthro </span><span style=\"color: #dc7def; text-decoration-color: #dc7def; font-weight: bold\">snow leopard</span><span style=\"color: #008000; text-decoration-color: #008000\">.\"</span>\n",
       "</pre>\n"
      ],
      "text/plain": [
       "Tag \u001b[32m\"\u001b[0m\u001b[1;38;2;220;125;239msnow leopard\u001b[0m\u001b[32m\"\u001b[0m found in caption \u001b[32m\"This image is a sticker featuring a cartoonish anthro \u001b[0m\u001b[1;38;2;220;125;239msnow leopard\u001b[0m\u001b[32m.\"\u001b[0m\n"
      ]
     },
     "metadata": {},
     "output_type": "display_data"
    },
    {
     "data": {
      "text/html": [
       "<pre style=\"white-space:pre;overflow-x:auto;line-height:normal;font-family:Menlo,'DejaVu Sans Mono',consolas,'Courier New',monospace\">Tag <span style=\"color: #008000; text-decoration-color: #008000\">\"</span><span style=\"color: #114327; text-decoration-color: #114327; font-weight: bold\">fur</span><span style=\"color: #008000; text-decoration-color: #008000\">\"</span> found in caption <span style=\"color: #008000; text-decoration-color: #008000\">\"It has gray </span><span style=\"color: #114327; text-decoration-color: #114327; font-weight: bold\">fur</span><span style=\"color: #008000; text-decoration-color: #008000\"> with black spots and blue hair.\"</span>\n",
       "</pre>\n"
      ],
      "text/plain": [
       "Tag \u001b[32m\"\u001b[0m\u001b[1;38;2;17;67;39mfur\u001b[0m\u001b[32m\"\u001b[0m found in caption \u001b[32m\"It has gray \u001b[0m\u001b[1;38;2;17;67;39mfur\u001b[0m\u001b[32m with black spots and blue hair.\"\u001b[0m\n"
      ]
     },
     "metadata": {},
     "output_type": "display_data"
    },
    {
     "data": {
      "text/html": [
       "<pre style=\"white-space:pre;overflow-x:auto;line-height:normal;font-family:Menlo,'DejaVu Sans Mono',consolas,'Courier New',monospace\">Tag <span style=\"color: #008000; text-decoration-color: #008000\">\"</span><span style=\"color: #b5c2b6; text-decoration-color: #b5c2b6; font-weight: bold\">text</span><span style=\"color: #008000; text-decoration-color: #008000\">\"</span> found in caption <span style=\"color: #008000; text-decoration-color: #008000\">\"The speech bubble's background is white and the </span><span style=\"color: #b5c2b6; text-decoration-color: #b5c2b6; font-weight: bold\">text</span><span style=\"color: #008000; text-decoration-color: #008000\"> 'MOW!' is written in large bold </span>\n",
       "<span style=\"color: #008000; text-decoration-color: #008000\">black letters.\"</span>\n",
       "</pre>\n"
      ],
      "text/plain": [
       "Tag \u001b[32m\"\u001b[0m\u001b[1;38;2;181;194;182mtext\u001b[0m\u001b[32m\"\u001b[0m found in caption \u001b[32m\"The speech bubble's background is white and the \u001b[0m\u001b[1;38;2;181;194;182mtext\u001b[0m\u001b[32m 'MOW!' is written in large bold \u001b[0m\n",
       "\u001b[32mblack letters.\"\u001b[0m\n"
      ]
     },
     "metadata": {},
     "output_type": "display_data"
    },
    {
     "data": {
      "text/html": [
       "<pre style=\"white-space:pre;overflow-x:auto;line-height:normal;font-family:Menlo,'DejaVu Sans Mono',consolas,'Courier New',monospace\">Tag <span style=\"color: #008000; text-decoration-color: #008000\">\"</span><span style=\"color: #f68f4c; text-decoration-color: #f68f4c; font-weight: bold\">hair</span><span style=\"color: #008000; text-decoration-color: #008000\">\"</span> found in caption <span style=\"color: #008000; text-decoration-color: #008000\">\"It has gray fur with black spots and blue </span><span style=\"color: #f68f4c; text-decoration-color: #f68f4c; font-weight: bold\">hair</span><span style=\"color: #008000; text-decoration-color: #008000\">.\"</span>\n",
       "</pre>\n"
      ],
      "text/plain": [
       "Tag \u001b[32m\"\u001b[0m\u001b[1;38;2;246;143;76mhair\u001b[0m\u001b[32m\"\u001b[0m found in caption \u001b[32m\"It has gray fur with black spots and blue \u001b[0m\u001b[1;38;2;246;143;76mhair\u001b[0m\u001b[32m.\"\u001b[0m\n"
      ]
     },
     "metadata": {},
     "output_type": "display_data"
    },
    {
     "data": {
      "text/html": [
       "<pre style=\"white-space:pre;overflow-x:auto;line-height:normal;font-family:Menlo,'DejaVu Sans Mono',consolas,'Courier New',monospace\">Tag <span style=\"color: #008000; text-decoration-color: #008000\">\"</span><span style=\"color: #0f32ea; text-decoration-color: #0f32ea; font-weight: bold\">blue hair</span><span style=\"color: #008000; text-decoration-color: #008000\">\"</span> found in caption <span style=\"color: #008000; text-decoration-color: #008000\">\"It has gray fur with black spots and </span><span style=\"color: #0f32ea; text-decoration-color: #0f32ea; font-weight: bold\">blue hair</span><span style=\"color: #008000; text-decoration-color: #008000\">.\"</span>\n",
       "</pre>\n"
      ],
      "text/plain": [
       "Tag \u001b[32m\"\u001b[0m\u001b[1;38;2;15;50;234mblue hair\u001b[0m\u001b[32m\"\u001b[0m found in caption \u001b[32m\"It has gray fur with black spots and \u001b[0m\u001b[1;38;2;15;50;234mblue hair\u001b[0m\u001b[32m.\"\u001b[0m\n"
      ]
     },
     "metadata": {},
     "output_type": "display_data"
    },
    {
     "data": {
      "text/html": [
       "<pre style=\"white-space:pre;overflow-x:auto;line-height:normal;font-family:Menlo,'DejaVu Sans Mono',consolas,'Courier New',monospace\">\n",
       "<span style=\"font-weight: bold\">C:\\Users\\kade\\Desktop\\training_dir_staging\\1_furry_sticker\\f9468ada1a62410d8d0891cabe0c538a.txt</span>\n",
       "\n",
       "</pre>\n"
      ],
      "text/plain": [
       "\n",
       "\u001b[1mC:\\Users\\kade\\Desktop\\training_dir_staging\\1_furry_sticker\\f9468ada1a62410d8d0891cabe0c538a.txt\u001b[0m\n",
       "\n"
      ]
     },
     "metadata": {},
     "output_type": "display_data"
    },
    {
     "data": {
      "text/html": [
       "<pre style=\"white-space:pre;overflow-x:auto;line-height:normal;font-family:Menlo,'DejaVu Sans Mono',consolas,'Courier New',monospace\">Tag <span style=\"color: #008000; text-decoration-color: #008000\">\"</span><span style=\"color: #660377; text-decoration-color: #660377; font-weight: bold\">fox</span><span style=\"color: #008000; text-decoration-color: #008000\">\"</span> found in caption <span style=\"color: #008000; text-decoration-color: #008000\">\"This image is an illustration of anthro </span><span style=\"color: #660377; text-decoration-color: #660377; font-weight: bold\">fox</span><span style=\"color: #008000; text-decoration-color: #008000\"> with a blue hair on its head.\"</span>\n",
       "</pre>\n"
      ],
      "text/plain": [
       "Tag \u001b[32m\"\u001b[0m\u001b[1;38;2;102;3;119mfox\u001b[0m\u001b[32m\"\u001b[0m found in caption \u001b[32m\"This image is an illustration of anthro \u001b[0m\u001b[1;38;2;102;3;119mfox\u001b[0m\u001b[32m with a blue hair on its head.\"\u001b[0m\n"
      ]
     },
     "metadata": {},
     "output_type": "display_data"
    },
    {
     "data": {
      "text/html": [
       "<pre style=\"white-space:pre;overflow-x:auto;line-height:normal;font-family:Menlo,'DejaVu Sans Mono',consolas,'Courier New',monospace\">Tag <span style=\"color: #008000; text-decoration-color: #008000\">\"</span><span style=\"color: #5a3e3c; text-decoration-color: #5a3e3c; font-weight: bold\">fox</span><span style=\"color: #008000; text-decoration-color: #008000\">\"</span> found in caption <span style=\"color: #008000; text-decoration-color: #008000\">\"The </span><span style=\"color: #5a3e3c; text-decoration-color: #5a3e3c; font-weight: bold\">fox</span><span style=\"color: #008000; text-decoration-color: #008000\"> has a large tail that is half red and half white.\"</span>\n",
       "</pre>\n"
      ],
      "text/plain": [
       "Tag \u001b[32m\"\u001b[0m\u001b[1;38;2;90;62;60mfox\u001b[0m\u001b[32m\"\u001b[0m found in caption \u001b[32m\"The \u001b[0m\u001b[1;38;2;90;62;60mfox\u001b[0m\u001b[32m has a large tail that is half red and half white.\"\u001b[0m\n"
      ]
     },
     "metadata": {},
     "output_type": "display_data"
    },
    {
     "data": {
      "text/html": [
       "<pre style=\"white-space:pre;overflow-x:auto;line-height:normal;font-family:Menlo,'DejaVu Sans Mono',consolas,'Courier New',monospace\">Tag <span style=\"color: #008000; text-decoration-color: #008000\">\"</span><span style=\"color: #c77a2c; text-decoration-color: #c77a2c; font-weight: bold\">anthro</span><span style=\"color: #008000; text-decoration-color: #008000\">\"</span> found in caption <span style=\"color: #008000; text-decoration-color: #008000\">\"This image is an illustration of </span><span style=\"color: #c77a2c; text-decoration-color: #c77a2c; font-weight: bold\">anthro</span><span style=\"color: #008000; text-decoration-color: #008000\"> fox with a blue hair on its head.\"</span>\n",
       "</pre>\n"
      ],
      "text/plain": [
       "Tag \u001b[32m\"\u001b[0m\u001b[1;38;2;199;122;44manthro\u001b[0m\u001b[32m\"\u001b[0m found in caption \u001b[32m\"This image is an illustration of \u001b[0m\u001b[1;38;2;199;122;44manthro\u001b[0m\u001b[32m fox with a blue hair on its head.\"\u001b[0m\n"
      ]
     },
     "metadata": {},
     "output_type": "display_data"
    },
    {
     "data": {
      "text/html": [
       "<pre style=\"white-space:pre;overflow-x:auto;line-height:normal;font-family:Menlo,'DejaVu Sans Mono',consolas,'Courier New',monospace\">Tag <span style=\"color: #008000; text-decoration-color: #008000\">\"</span><span style=\"color: #e2efeb; text-decoration-color: #e2efeb; font-weight: bold\">headphones</span><span style=\"color: #008000; text-decoration-color: #008000\">\"</span> found in caption <span style=\"color: #008000; text-decoration-color: #008000\">\"The character is wearing </span><span style=\"color: #e2efeb; text-decoration-color: #e2efeb; font-weight: bold\">headphones</span><span style=\"color: #008000; text-decoration-color: #008000\"> of which only one is visible.\"</span>\n",
       "</pre>\n"
      ],
      "text/plain": [
       "Tag \u001b[32m\"\u001b[0m\u001b[1;38;2;226;239;235mheadphones\u001b[0m\u001b[32m\"\u001b[0m found in caption \u001b[32m\"The character is wearing \u001b[0m\u001b[1;38;2;226;239;235mheadphones\u001b[0m\u001b[32m of which only one is visible.\"\u001b[0m\n"
      ]
     },
     "metadata": {},
     "output_type": "display_data"
    },
    {
     "data": {
      "text/html": [
       "<pre style=\"white-space:pre;overflow-x:auto;line-height:normal;font-family:Menlo,'DejaVu Sans Mono',consolas,'Courier New',monospace\">Tag <span style=\"color: #008000; text-decoration-color: #008000\">\"</span><span style=\"color: #759324; text-decoration-color: #759324; font-weight: bold\">blue hair</span><span style=\"color: #008000; text-decoration-color: #008000\">\"</span> found in caption <span style=\"color: #008000; text-decoration-color: #008000\">\"This image is an illustration of anthro fox with a </span><span style=\"color: #759324; text-decoration-color: #759324; font-weight: bold\">blue hair</span><span style=\"color: #008000; text-decoration-color: #008000\"> on its head.\"</span>\n",
       "</pre>\n"
      ],
      "text/plain": [
       "Tag \u001b[32m\"\u001b[0m\u001b[1;38;2;117;147;36mblue hair\u001b[0m\u001b[32m\"\u001b[0m found in caption \u001b[32m\"This image is an illustration of anthro fox with a \u001b[0m\u001b[1;38;2;117;147;36mblue hair\u001b[0m\u001b[32m on its head.\"\u001b[0m\n"
      ]
     },
     "metadata": {},
     "output_type": "display_data"
    },
    {
     "data": {
      "text/html": [
       "<pre style=\"white-space:pre;overflow-x:auto;line-height:normal;font-family:Menlo,'DejaVu Sans Mono',consolas,'Courier New',monospace\">Tag <span style=\"color: #008000; text-decoration-color: #008000\">\"</span><span style=\"color: #962e3e; text-decoration-color: #962e3e; font-weight: bold\">tail</span><span style=\"color: #008000; text-decoration-color: #008000\">\"</span> found in caption <span style=\"color: #008000; text-decoration-color: #008000\">\"The fox has a large </span><span style=\"color: #962e3e; text-decoration-color: #962e3e; font-weight: bold\">tail</span><span style=\"color: #008000; text-decoration-color: #008000\"> that is half red and half white.\"</span>\n",
       "</pre>\n"
      ],
      "text/plain": [
       "Tag \u001b[32m\"\u001b[0m\u001b[1;38;2;150;46;62mtail\u001b[0m\u001b[32m\"\u001b[0m found in caption \u001b[32m\"The fox has a large \u001b[0m\u001b[1;38;2;150;46;62mtail\u001b[0m\u001b[32m that is half red and half white.\"\u001b[0m\n"
      ]
     },
     "metadata": {},
     "output_type": "display_data"
    },
    {
     "data": {
      "text/html": [
       "<pre style=\"white-space:pre;overflow-x:auto;line-height:normal;font-family:Menlo,'DejaVu Sans Mono',consolas,'Courier New',monospace\">Tag <span style=\"color: #008000; text-decoration-color: #008000\">\"</span><span style=\"color: #608180; text-decoration-color: #608180; font-weight: bold\">hair</span><span style=\"color: #008000; text-decoration-color: #008000\">\"</span> found in caption <span style=\"color: #008000; text-decoration-color: #008000\">\"This image is an illustration of anthro fox with a blue </span><span style=\"color: #608180; text-decoration-color: #608180; font-weight: bold\">hair</span><span style=\"color: #008000; text-decoration-color: #008000\"> on its head.\"</span>\n",
       "</pre>\n"
      ],
      "text/plain": [
       "Tag \u001b[32m\"\u001b[0m\u001b[1;38;2;96;129;128mhair\u001b[0m\u001b[32m\"\u001b[0m found in caption \u001b[32m\"This image is an illustration of anthro fox with a blue \u001b[0m\u001b[1;38;2;96;129;128mhair\u001b[0m\u001b[32m on its head.\"\u001b[0m\n"
      ]
     },
     "metadata": {},
     "output_type": "display_data"
    }
   ],
   "source": [
    "import os\n",
    "import random\n",
    "import re\n",
    "from rich import print\n",
    "from rich.console import Console\n",
    "from rich.style import Style\n",
    "from rich.color import Color\n",
    "\n",
    "def find_files(path, extension):\n",
    "    for root, dirs, files in os.walk(path):\n",
    "        for file in files:\n",
    "            if file.endswith(extension):\n",
    "                yield os.path.join(root, file)\n",
    "\n",
    "def process_file(file_path):\n",
    "    console = Console()\n",
    "    file_path_printed = False\n",
    "    with open(file_path, 'r') as file:\n",
    "        content = file.read()\n",
    "        elements = content.split(',')\n",
    "        captions = [element.strip() for element in elements if '.' in element]\n",
    "        tags = [element.strip() for element in elements if '.' not in element and element.strip() != '']\n",
    "        for tag in tags:\n",
    "            pattern = r'\\b{}\\b'.format(re.escape(tag))\n",
    "            for caption in captions:\n",
    "                if re.search(pattern, caption):\n",
    "                    if not file_path_printed:\n",
    "                        console.print(f'\\n[bold]{file_path}[/bold]\\n')\n",
    "                        file_path_printed = True\n",
    "                    color = Color.from_rgb(random.randint(0, 255), random.randint(0, 255), random.randint(0, 255))\n",
    "                    style = Style(color=color, bold=True)\n",
    "                    highlighted_caption = caption.replace(tag, f\"[{style}]{tag}[/{style}]\")\n",
    "                    console.print(f'Tag \"[{style}]{tag}[/{style}]\" found in caption \"{highlighted_caption}\"')\n",
    "\n",
    "def main():\n",
    "    path = 'C:\\\\Users\\\\kade\\\\Desktop\\\\training_dir_staging'\n",
    "    for file_path in find_files(path, '.txt'):\n",
    "        process_file(file_path)\n",
    "\n",
    "if __name__ == \"__main__\":\n",
    "    main()"
   ]
  }
 ],
 "metadata": {
  "kernelspec": {
   "display_name": "base",
   "language": "python",
   "name": "python3"
  },
  "language_info": {
   "codemirror_mode": {
    "name": "ipython",
    "version": 3
   },
   "file_extension": ".py",
   "mimetype": "text/x-python",
   "name": "python",
   "nbconvert_exporter": "python",
   "pygments_lexer": "ipython3",
   "version": "3.12.2"
  }
 },
 "nbformat": 4,
 "nbformat_minor": 2
}
