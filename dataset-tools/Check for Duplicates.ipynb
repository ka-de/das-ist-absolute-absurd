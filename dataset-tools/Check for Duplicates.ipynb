{
 "cells": [
  {
   "cell_type": "markdown",
   "metadata": {},
   "source": [
    "## Check for Duplicate Words Between Captions and Tags\n",
    "----\n",
    "\n",
    "Awoo"
   ]
  },
  {
   "cell_type": "code",
   "execution_count": 22,
   "metadata": {},
   "outputs": [
    {
     "data": {
      "text/html": [
       "<pre style=\"white-space:pre;overflow-x:auto;line-height:normal;font-family:Menlo,'DejaVu Sans Mono',consolas,'Courier New',monospace\">\n",
       "\n",
       "<span style=\"font-weight: bold\">C:\\Users\\kade\\Desktop\\training_dir_staging\\1_furry_sticker\\0ad753093ae60a8b9b2aab24b81b3f3d.txt</span>\n",
       "\n",
       "</pre>\n"
      ],
      "text/plain": [
       "\n",
       "\n",
       "\u001b[1mC:\\Users\\kade\\Desktop\\training_dir_staging\\1_furry_sticker\\0ad753093ae60a8b9b2aab24b81b3f3d.txt\u001b[0m\n",
       "\n"
      ]
     },
     "metadata": {},
     "output_type": "display_data"
    },
    {
     "data": {
      "text/html": [
       "<pre style=\"white-space:pre;overflow-x:auto;line-height:normal;font-family:Menlo,'DejaVu Sans Mono',consolas,'Courier New',monospace\">Tag <span style=\"color: #008000; text-decoration-color: #008000\">\"</span><span style=\"color: #58c126; text-decoration-color: #58c126; font-weight: bold\">black background</span><span style=\"color: #008000; text-decoration-color: #008000\">\"</span> found in caption <span style=\"color: #008000; text-decoration-color: #008000\">\"The entire image has a </span><span style=\"color: #58c126; text-decoration-color: #58c126; font-weight: bold\">black background</span><span style=\"color: #008000; text-decoration-color: #008000\"> with a white outline around the </span>\n",
       "<span style=\"color: #008000; text-decoration-color: #008000\">character and the texts.\"</span>\n",
       "</pre>\n"
      ],
      "text/plain": [
       "Tag \u001b[32m\"\u001b[0m\u001b[1;38;2;88;193;38mblack background\u001b[0m\u001b[32m\"\u001b[0m found in caption \u001b[32m\"The entire image has a \u001b[0m\u001b[1;38;2;88;193;38mblack background\u001b[0m\u001b[32m with a white outline around the \u001b[0m\n",
       "\u001b[32mcharacter and the texts.\"\u001b[0m\n"
      ]
     },
     "metadata": {},
     "output_type": "display_data"
    },
    {
     "data": {
      "text/html": [
       "<pre style=\"white-space:pre;overflow-x:auto;line-height:normal;font-family:Menlo,'DejaVu Sans Mono',consolas,'Courier New',monospace\">Tag <span style=\"color: #008000; text-decoration-color: #008000\">\"</span><span style=\"color: #1a53b7; text-decoration-color: #1a53b7; font-weight: bold\">anthro</span><span style=\"color: #008000; text-decoration-color: #008000\">\"</span> found in caption <span style=\"color: #008000; text-decoration-color: #008000\">\"The image showcases </span><span style=\"color: #1a53b7; text-decoration-color: #1a53b7; font-weight: bold\">anthro</span><span style=\"color: #008000; text-decoration-color: #008000\"> black panther with dark black spots and large yellow </span>\n",
       "<span style=\"color: #008000; text-decoration-color: #008000\">eyes.\"</span>\n",
       "</pre>\n"
      ],
      "text/plain": [
       "Tag \u001b[32m\"\u001b[0m\u001b[1;38;2;26;83;183manthro\u001b[0m\u001b[32m\"\u001b[0m found in caption \u001b[32m\"The image showcases \u001b[0m\u001b[1;38;2;26;83;183manthro\u001b[0m\u001b[32m black panther with dark black spots and large yellow \u001b[0m\n",
       "\u001b[32meyes.\"\u001b[0m\n"
      ]
     },
     "metadata": {},
     "output_type": "display_data"
    },
    {
     "data": {
      "text/html": [
       "<pre style=\"white-space:pre;overflow-x:auto;line-height:normal;font-family:Menlo,'DejaVu Sans Mono',consolas,'Courier New',monospace\">\n",
       "\n",
       "<span style=\"font-weight: bold\">C:\\Users\\kade\\Desktop\\training_dir_staging\\1_furry_sticker\\0d281d07dfc997a5b1037939ccd33eca.txt</span>\n",
       "\n",
       "</pre>\n"
      ],
      "text/plain": [
       "\n",
       "\n",
       "\u001b[1mC:\\Users\\kade\\Desktop\\training_dir_staging\\1_furry_sticker\\0d281d07dfc997a5b1037939ccd33eca.txt\u001b[0m\n",
       "\n"
      ]
     },
     "metadata": {},
     "output_type": "display_data"
    },
    {
     "data": {
      "text/html": [
       "<pre style=\"white-space:pre;overflow-x:auto;line-height:normal;font-family:Menlo,'DejaVu Sans Mono',consolas,'Courier New',monospace\">Tag <span style=\"color: #008000; text-decoration-color: #008000\">\"</span><span style=\"color: #7a1dbe; text-decoration-color: #7a1dbe; font-weight: bold\">furry sticker</span><span style=\"color: #008000; text-decoration-color: #008000\">\"</span> found in caption <span style=\"color: #008000; text-decoration-color: #008000\">\"This image is a </span><span style=\"color: #7a1dbe; text-decoration-color: #7a1dbe; font-weight: bold\">furry sticker</span><span style=\"color: #008000; text-decoration-color: #008000\"> of anthro german shepherd dog with a humorous </span>\n",
       "<span style=\"color: #008000; text-decoration-color: #008000\">expression.\"</span>\n",
       "</pre>\n"
      ],
      "text/plain": [
       "Tag \u001b[32m\"\u001b[0m\u001b[1;38;2;122;29;190mfurry sticker\u001b[0m\u001b[32m\"\u001b[0m found in caption \u001b[32m\"This image is a \u001b[0m\u001b[1;38;2;122;29;190mfurry sticker\u001b[0m\u001b[32m of anthro german shepherd dog with a humorous \u001b[0m\n",
       "\u001b[32mexpression.\"\u001b[0m\n"
      ]
     },
     "metadata": {},
     "output_type": "display_data"
    },
    {
     "data": {
      "text/html": [
       "<pre style=\"white-space:pre;overflow-x:auto;line-height:normal;font-family:Menlo,'DejaVu Sans Mono',consolas,'Courier New',monospace\">Tag <span style=\"color: #008000; text-decoration-color: #008000\">\"</span><span style=\"color: #85d1a4; text-decoration-color: #85d1a4; font-weight: bold\">german shepherd</span><span style=\"color: #008000; text-decoration-color: #008000\">\"</span> found in caption <span style=\"color: #008000; text-decoration-color: #008000\">\"This image is a furry sticker of anthro </span><span style=\"color: #85d1a4; text-decoration-color: #85d1a4; font-weight: bold\">german shepherd</span><span style=\"color: #008000; text-decoration-color: #008000\"> dog with a humorous</span>\n",
       "<span style=\"color: #008000; text-decoration-color: #008000\">expression.\"</span>\n",
       "</pre>\n"
      ],
      "text/plain": [
       "Tag \u001b[32m\"\u001b[0m\u001b[1;38;2;133;209;164mgerman shepherd\u001b[0m\u001b[32m\"\u001b[0m found in caption \u001b[32m\"This image is a furry sticker of anthro \u001b[0m\u001b[1;38;2;133;209;164mgerman shepherd\u001b[0m\u001b[32m dog with a humorous\u001b[0m\n",
       "\u001b[32mexpression.\"\u001b[0m\n"
      ]
     },
     "metadata": {},
     "output_type": "display_data"
    },
    {
     "data": {
      "text/html": [
       "<pre style=\"white-space:pre;overflow-x:auto;line-height:normal;font-family:Menlo,'DejaVu Sans Mono',consolas,'Courier New',monospace\">Tag <span style=\"color: #008000; text-decoration-color: #008000\">\"</span><span style=\"color: #8e6ef2; text-decoration-color: #8e6ef2; font-weight: bold\">canine</span><span style=\"color: #008000; text-decoration-color: #008000\">\"</span> found in caption <span style=\"color: #008000; text-decoration-color: #008000\">\"The </span><span style=\"color: #8e6ef2; text-decoration-color: #8e6ef2; font-weight: bold\">canine</span><span style=\"color: #008000; text-decoration-color: #008000\"> appears to be shrugging with its paws raised and wearing dog tag.\"</span>\n",
       "</pre>\n"
      ],
      "text/plain": [
       "Tag \u001b[32m\"\u001b[0m\u001b[1;38;2;142;110;242mcanine\u001b[0m\u001b[32m\"\u001b[0m found in caption \u001b[32m\"The \u001b[0m\u001b[1;38;2;142;110;242mcanine\u001b[0m\u001b[32m appears to be shrugging with its paws raised and wearing dog tag.\"\u001b[0m\n"
      ]
     },
     "metadata": {},
     "output_type": "display_data"
    },
    {
     "data": {
      "text/html": [
       "<pre style=\"white-space:pre;overflow-x:auto;line-height:normal;font-family:Menlo,'DejaVu Sans Mono',consolas,'Courier New',monospace\">Tag <span style=\"color: #008000; text-decoration-color: #008000\">\"</span><span style=\"color: #1ed8b5; text-decoration-color: #1ed8b5; font-weight: bold\">anthro</span><span style=\"color: #008000; text-decoration-color: #008000\">\"</span> found in caption <span style=\"color: #008000; text-decoration-color: #008000\">\"This image is a furry sticker of </span><span style=\"color: #1ed8b5; text-decoration-color: #1ed8b5; font-weight: bold\">anthro</span><span style=\"color: #008000; text-decoration-color: #008000\"> german shepherd dog with a humorous </span>\n",
       "<span style=\"color: #008000; text-decoration-color: #008000\">expression.\"</span>\n",
       "</pre>\n"
      ],
      "text/plain": [
       "Tag \u001b[32m\"\u001b[0m\u001b[1;38;2;30;216;181manthro\u001b[0m\u001b[32m\"\u001b[0m found in caption \u001b[32m\"This image is a furry sticker of \u001b[0m\u001b[1;38;2;30;216;181manthro\u001b[0m\u001b[32m german shepherd dog with a humorous \u001b[0m\n",
       "\u001b[32mexpression.\"\u001b[0m\n"
      ]
     },
     "metadata": {},
     "output_type": "display_data"
    },
    {
     "data": {
      "text/html": [
       "<pre style=\"white-space:pre;overflow-x:auto;line-height:normal;font-family:Menlo,'DejaVu Sans Mono',consolas,'Courier New',monospace\">Tag <span style=\"color: #008000; text-decoration-color: #008000\">\"</span><span style=\"color: #c9e0c7; text-decoration-color: #c9e0c7; font-weight: bold\">outline</span><span style=\"color: #008000; text-decoration-color: #008000\">\"</span> found in caption <span style=\"color: #008000; text-decoration-color: #008000\">\"The character and the speech bubble has a white </span><span style=\"color: #c9e0c7; text-decoration-color: #c9e0c7; font-weight: bold\">outline</span><span style=\"color: #008000; text-decoration-color: #008000\"> around them.\"</span>\n",
       "</pre>\n"
      ],
      "text/plain": [
       "Tag \u001b[32m\"\u001b[0m\u001b[1;38;2;201;224;199moutline\u001b[0m\u001b[32m\"\u001b[0m found in caption \u001b[32m\"The character and the speech bubble has a white \u001b[0m\u001b[1;38;2;201;224;199moutline\u001b[0m\u001b[32m around them.\"\u001b[0m\n"
      ]
     },
     "metadata": {},
     "output_type": "display_data"
    },
    {
     "data": {
      "text/html": [
       "<pre style=\"white-space:pre;overflow-x:auto;line-height:normal;font-family:Menlo,'DejaVu Sans Mono',consolas,'Courier New',monospace\">Tag <span style=\"color: #008000; text-decoration-color: #008000\">\"</span><span style=\"color: #e7f9e3; text-decoration-color: #e7f9e3; font-weight: bold\">speech bubble</span><span style=\"color: #008000; text-decoration-color: #008000\">\"</span> found in caption <span style=\"color: #008000; text-decoration-color: #008000\">\"It is accompanied by a </span><span style=\"color: #e7f9e3; text-decoration-color: #e7f9e3; font-weight: bold\">speech bubble</span><span style=\"color: #008000; text-decoration-color: #008000\"> with 'I DON'T KNOW MAN I'M JUST A DOG.\"</span>\n",
       "</pre>\n"
      ],
      "text/plain": [
       "Tag \u001b[32m\"\u001b[0m\u001b[1;38;2;231;249;227mspeech bubble\u001b[0m\u001b[32m\"\u001b[0m found in caption \u001b[32m\"It is accompanied by a \u001b[0m\u001b[1;38;2;231;249;227mspeech bubble\u001b[0m\u001b[32m with 'I DON'T KNOW MAN I'M JUST A DOG.\"\u001b[0m\n"
      ]
     },
     "metadata": {},
     "output_type": "display_data"
    },
    {
     "data": {
      "text/html": [
       "<pre style=\"white-space:pre;overflow-x:auto;line-height:normal;font-family:Menlo,'DejaVu Sans Mono',consolas,'Courier New',monospace\">Tag <span style=\"color: #008000; text-decoration-color: #008000\">\"</span><span style=\"color: #46a21b; text-decoration-color: #46a21b; font-weight: bold\">speech bubble</span><span style=\"color: #008000; text-decoration-color: #008000\">\"</span> found in caption <span style=\"color: #008000; text-decoration-color: #008000\">\"The character and the </span><span style=\"color: #46a21b; text-decoration-color: #46a21b; font-weight: bold\">speech bubble</span><span style=\"color: #008000; text-decoration-color: #008000\"> has a white outline around them.\"</span>\n",
       "</pre>\n"
      ],
      "text/plain": [
       "Tag \u001b[32m\"\u001b[0m\u001b[1;38;2;70;162;27mspeech bubble\u001b[0m\u001b[32m\"\u001b[0m found in caption \u001b[32m\"The character and the \u001b[0m\u001b[1;38;2;70;162;27mspeech bubble\u001b[0m\u001b[32m has a white outline around them.\"\u001b[0m\n"
      ]
     },
     "metadata": {},
     "output_type": "display_data"
    },
    {
     "data": {
      "text/html": [
       "<pre style=\"white-space:pre;overflow-x:auto;line-height:normal;font-family:Menlo,'DejaVu Sans Mono',consolas,'Courier New',monospace\">\n",
       "\n",
       "<span style=\"font-weight: bold\">C:\\Users\\kade\\Desktop\\training_dir_staging\\1_furry_sticker\\0d81f956ae974d505e254b280b43c947.txt</span>\n",
       "\n",
       "</pre>\n"
      ],
      "text/plain": [
       "\n",
       "\n",
       "\u001b[1mC:\\Users\\kade\\Desktop\\training_dir_staging\\1_furry_sticker\\0d81f956ae974d505e254b280b43c947.txt\u001b[0m\n",
       "\n"
      ]
     },
     "metadata": {},
     "output_type": "display_data"
    },
    {
     "data": {
      "text/html": [
       "<pre style=\"white-space:pre;overflow-x:auto;line-height:normal;font-family:Menlo,'DejaVu Sans Mono',consolas,'Courier New',monospace\">Tag <span style=\"color: #008000; text-decoration-color: #008000\">\"</span><span style=\"color: #09997a; text-decoration-color: #09997a; font-weight: bold\">furry sticker</span><span style=\"color: #008000; text-decoration-color: #008000\">\"</span> found in caption <span style=\"color: #008000; text-decoration-color: #008000\">\"This </span><span style=\"color: #09997a; text-decoration-color: #09997a; font-weight: bold\">furry sticker</span><span style=\"color: #008000; text-decoration-color: #008000\"> depicts a cartoonish anthro rabbit.\"</span>\n",
       "</pre>\n"
      ],
      "text/plain": [
       "Tag \u001b[32m\"\u001b[0m\u001b[1;38;2;9;153;122mfurry sticker\u001b[0m\u001b[32m\"\u001b[0m found in caption \u001b[32m\"This \u001b[0m\u001b[1;38;2;9;153;122mfurry sticker\u001b[0m\u001b[32m depicts a cartoonish anthro rabbit.\"\u001b[0m\n"
      ]
     },
     "metadata": {},
     "output_type": "display_data"
    },
    {
     "data": {
      "text/html": [
       "<pre style=\"white-space:pre;overflow-x:auto;line-height:normal;font-family:Menlo,'DejaVu Sans Mono',consolas,'Courier New',monospace\">Tag <span style=\"color: #008000; text-decoration-color: #008000\">\"</span><span style=\"color: #a55e17; text-decoration-color: #a55e17; font-weight: bold\">glasses</span><span style=\"color: #008000; text-decoration-color: #008000\">\"</span> found in caption <span style=\"color: #008000; text-decoration-color: #008000\">\"It is wearing </span><span style=\"color: #a55e17; text-decoration-color: #a55e17; font-weight: bold\">glasses</span><span style=\"color: #008000; text-decoration-color: #008000\"> and its fur color is a shade of brown with a lighter beige </span>\n",
       "<span style=\"color: #008000; text-decoration-color: #008000\">color on the bottom of its tail and front of its ears.\"</span>\n",
       "</pre>\n"
      ],
      "text/plain": [
       "Tag \u001b[32m\"\u001b[0m\u001b[1;38;2;165;94;23mglasses\u001b[0m\u001b[32m\"\u001b[0m found in caption \u001b[32m\"It is wearing \u001b[0m\u001b[1;38;2;165;94;23mglasses\u001b[0m\u001b[32m and its fur color is a shade of brown with a lighter beige \u001b[0m\n",
       "\u001b[32mcolor on the bottom of its tail and front of its ears.\"\u001b[0m\n"
      ]
     },
     "metadata": {},
     "output_type": "display_data"
    },
    {
     "data": {
      "text/html": [
       "<pre style=\"white-space:pre;overflow-x:auto;line-height:normal;font-family:Menlo,'DejaVu Sans Mono',consolas,'Courier New',monospace\">Tag <span style=\"color: #008000; text-decoration-color: #008000\">\"</span><span style=\"color: #1cb850; text-decoration-color: #1cb850; font-weight: bold\">anthro</span><span style=\"color: #008000; text-decoration-color: #008000\">\"</span> found in caption <span style=\"color: #008000; text-decoration-color: #008000\">\"This furry sticker depicts a cartoonish </span><span style=\"color: #1cb850; text-decoration-color: #1cb850; font-weight: bold\">anthro</span><span style=\"color: #008000; text-decoration-color: #008000\"> rabbit.\"</span>\n",
       "</pre>\n"
      ],
      "text/plain": [
       "Tag \u001b[32m\"\u001b[0m\u001b[1;38;2;28;184;80manthro\u001b[0m\u001b[32m\"\u001b[0m found in caption \u001b[32m\"This furry sticker depicts a cartoonish \u001b[0m\u001b[1;38;2;28;184;80manthro\u001b[0m\u001b[32m rabbit.\"\u001b[0m\n"
      ]
     },
     "metadata": {},
     "output_type": "display_data"
    },
    {
     "data": {
      "text/html": [
       "<pre style=\"white-space:pre;overflow-x:auto;line-height:normal;font-family:Menlo,'DejaVu Sans Mono',consolas,'Courier New',monospace\">Tag <span style=\"color: #008000; text-decoration-color: #008000\">\"</span><span style=\"color: #9d6ac4; text-decoration-color: #9d6ac4; font-weight: bold\">rabbit</span><span style=\"color: #008000; text-decoration-color: #008000\">\"</span> found in caption <span style=\"color: #008000; text-decoration-color: #008000\">\"This furry sticker depicts a cartoonish anthro </span><span style=\"color: #9d6ac4; text-decoration-color: #9d6ac4; font-weight: bold\">rabbit</span><span style=\"color: #008000; text-decoration-color: #008000\">.\"</span>\n",
       "</pre>\n"
      ],
      "text/plain": [
       "Tag \u001b[32m\"\u001b[0m\u001b[1;38;2;157;106;196mrabbit\u001b[0m\u001b[32m\"\u001b[0m found in caption \u001b[32m\"This furry sticker depicts a cartoonish anthro \u001b[0m\u001b[1;38;2;157;106;196mrabbit\u001b[0m\u001b[32m.\"\u001b[0m\n"
      ]
     },
     "metadata": {},
     "output_type": "display_data"
    },
    {
     "data": {
      "text/html": [
       "<pre style=\"white-space:pre;overflow-x:auto;line-height:normal;font-family:Menlo,'DejaVu Sans Mono',consolas,'Courier New',monospace\">Tag <span style=\"color: #008000; text-decoration-color: #008000\">\"</span><span style=\"color: #b2d4a6; text-decoration-color: #b2d4a6; font-weight: bold\">blush</span><span style=\"color: #008000; text-decoration-color: #008000\">\"</span> found in caption <span style=\"color: #008000; text-decoration-color: #008000\">\"The character has a playful expression with its mouth open and a slight </span><span style=\"color: #b2d4a6; text-decoration-color: #b2d4a6; font-weight: bold\">blush</span><span style=\"color: #008000; text-decoration-color: #008000\"> on the </span>\n",
       "<span style=\"color: #008000; text-decoration-color: #008000\">cheeks.\"</span>\n",
       "</pre>\n"
      ],
      "text/plain": [
       "Tag \u001b[32m\"\u001b[0m\u001b[1;38;2;178;212;166mblush\u001b[0m\u001b[32m\"\u001b[0m found in caption \u001b[32m\"The character has a playful expression with its mouth open and a slight \u001b[0m\u001b[1;38;2;178;212;166mblush\u001b[0m\u001b[32m on the \u001b[0m\n",
       "\u001b[32mcheeks.\"\u001b[0m\n"
      ]
     },
     "metadata": {},
     "output_type": "display_data"
    },
    {
     "data": {
      "text/html": [
       "<pre style=\"white-space:pre;overflow-x:auto;line-height:normal;font-family:Menlo,'DejaVu Sans Mono',consolas,'Courier New',monospace\">Tag <span style=\"color: #008000; text-decoration-color: #008000\">\"</span><span style=\"color: #f3a261; text-decoration-color: #f3a261; font-weight: bold\">fur</span><span style=\"color: #008000; text-decoration-color: #008000\">\"</span> found in caption <span style=\"color: #008000; text-decoration-color: #008000\">\"It is wearing glasses and its </span><span style=\"color: #f3a261; text-decoration-color: #f3a261; font-weight: bold\">fur</span><span style=\"color: #008000; text-decoration-color: #008000\"> color is a shade of brown with a lighter beige color </span>\n",
       "<span style=\"color: #008000; text-decoration-color: #008000\">on the bottom of its tail and front of its ears.\"</span>\n",
       "</pre>\n"
      ],
      "text/plain": [
       "Tag \u001b[32m\"\u001b[0m\u001b[1;38;2;243;162;97mfur\u001b[0m\u001b[32m\"\u001b[0m found in caption \u001b[32m\"It is wearing glasses and its \u001b[0m\u001b[1;38;2;243;162;97mfur\u001b[0m\u001b[32m color is a shade of brown with a lighter beige color \u001b[0m\n",
       "\u001b[32mon the bottom of its tail and front of its ears.\"\u001b[0m\n"
      ]
     },
     "metadata": {},
     "output_type": "display_data"
    },
    {
     "data": {
      "text/html": [
       "<pre style=\"white-space:pre;overflow-x:auto;line-height:normal;font-family:Menlo,'DejaVu Sans Mono',consolas,'Courier New',monospace\">Tag <span style=\"color: #008000; text-decoration-color: #008000\">\"</span><span style=\"color: #05634b; text-decoration-color: #05634b; font-weight: bold\">outline</span><span style=\"color: #008000; text-decoration-color: #008000\">\"</span> found in caption <span style=\"color: #008000; text-decoration-color: #008000\">\"The character is surrounded by two blue sparkles and two blue motion lines and it </span>\n",
       "<span style=\"color: #008000; text-decoration-color: #008000\">has a white </span><span style=\"color: #05634b; text-decoration-color: #05634b; font-weight: bold\">outline</span><span style=\"color: #008000; text-decoration-color: #008000\"> around it.\"</span>\n",
       "</pre>\n"
      ],
      "text/plain": [
       "Tag \u001b[32m\"\u001b[0m\u001b[1;38;2;5;99;75moutline\u001b[0m\u001b[32m\"\u001b[0m found in caption \u001b[32m\"The character is surrounded by two blue sparkles and two blue motion lines and it \u001b[0m\n",
       "\u001b[32mhas a white \u001b[0m\u001b[1;38;2;5;99;75moutline\u001b[0m\u001b[32m around it.\"\u001b[0m\n"
      ]
     },
     "metadata": {},
     "output_type": "display_data"
    },
    {
     "data": {
      "text/html": [
       "<pre style=\"white-space:pre;overflow-x:auto;line-height:normal;font-family:Menlo,'DejaVu Sans Mono',consolas,'Courier New',monospace\">\n",
       "\n",
       "<span style=\"font-weight: bold\">C:\\Users\\kade\\Desktop\\training_dir_staging\\1_furry_sticker\\0da4833461592f1c7f4ac4151f7f8960.txt</span>\n",
       "\n",
       "</pre>\n"
      ],
      "text/plain": [
       "\n",
       "\n",
       "\u001b[1mC:\\Users\\kade\\Desktop\\training_dir_staging\\1_furry_sticker\\0da4833461592f1c7f4ac4151f7f8960.txt\u001b[0m\n",
       "\n"
      ]
     },
     "metadata": {},
     "output_type": "display_data"
    },
    {
     "data": {
      "text/html": [
       "<pre style=\"white-space:pre;overflow-x:auto;line-height:normal;font-family:Menlo,'DejaVu Sans Mono',consolas,'Courier New',monospace\">Tag <span style=\"color: #008000; text-decoration-color: #008000\">\"</span><span style=\"color: #f437d3; text-decoration-color: #f437d3; font-weight: bold\">eyes closed</span><span style=\"color: #008000; text-decoration-color: #008000\">\"</span> found in caption <span style=\"color: #008000; text-decoration-color: #008000\">\"It has its </span><span style=\"color: #f437d3; text-decoration-color: #f437d3; font-weight: bold\">eyes closed</span><span style=\"color: #008000; text-decoration-color: #008000\"> and is crossing its arms with a displeased expression.\"</span>\n",
       "</pre>\n"
      ],
      "text/plain": [
       "Tag \u001b[32m\"\u001b[0m\u001b[1;38;2;244;55;211meyes closed\u001b[0m\u001b[32m\"\u001b[0m found in caption \u001b[32m\"It has its \u001b[0m\u001b[1;38;2;244;55;211meyes closed\u001b[0m\u001b[32m and is crossing its arms with a displeased expression.\"\u001b[0m\n"
      ]
     },
     "metadata": {},
     "output_type": "display_data"
    },
    {
     "data": {
      "text/html": [
       "<pre style=\"white-space:pre;overflow-x:auto;line-height:normal;font-family:Menlo,'DejaVu Sans Mono',consolas,'Courier New',monospace\">Tag <span style=\"color: #008000; text-decoration-color: #008000\">\"</span><span style=\"color: #658219; text-decoration-color: #658219; font-weight: bold\">headwear</span><span style=\"color: #008000; text-decoration-color: #008000\">\"</span> found in caption <span style=\"color: #008000; text-decoration-color: #008000\">\"The character has a brownish fur coat and brown hair sticking out from under the </span>\n",
       "<span style=\"color: #658219; text-decoration-color: #658219; font-weight: bold\">headwear</span><span style=\"color: #008000; text-decoration-color: #008000\">.\"</span>\n",
       "</pre>\n"
      ],
      "text/plain": [
       "Tag \u001b[32m\"\u001b[0m\u001b[1;38;2;101;130;25mheadwear\u001b[0m\u001b[32m\"\u001b[0m found in caption \u001b[32m\"The character has a brownish fur coat and brown hair sticking out from under the \u001b[0m\n",
       "\u001b[1;38;2;101;130;25mheadwear\u001b[0m\u001b[32m.\"\u001b[0m\n"
      ]
     },
     "metadata": {},
     "output_type": "display_data"
    },
    {
     "data": {
      "text/html": [
       "<pre style=\"white-space:pre;overflow-x:auto;line-height:normal;font-family:Menlo,'DejaVu Sans Mono',consolas,'Courier New',monospace\">Tag <span style=\"color: #008000; text-decoration-color: #008000\">\"</span><span style=\"color: #c03c86; text-decoration-color: #c03c86; font-weight: bold\">collar</span><span style=\"color: #008000; text-decoration-color: #008000\">\"</span> found in caption <span style=\"color: #008000; text-decoration-color: #008000\">\"It has a brown nose and wears a blue cap with the Japanese flag on it and a blue </span>\n",
       "<span style=\"color: #c03c86; text-decoration-color: #c03c86; font-weight: bold\">collar</span><span style=\"color: #008000; text-decoration-color: #008000\"> around its neck with a black stripe in the middle.\"</span>\n",
       "</pre>\n"
      ],
      "text/plain": [
       "Tag \u001b[32m\"\u001b[0m\u001b[1;38;2;192;60;134mcollar\u001b[0m\u001b[32m\"\u001b[0m found in caption \u001b[32m\"It has a brown nose and wears a blue cap with the Japanese flag on it and a blue \u001b[0m\n",
       "\u001b[1;38;2;192;60;134mcollar\u001b[0m\u001b[32m around its neck with a black stripe in the middle.\"\u001b[0m\n"
      ]
     },
     "metadata": {},
     "output_type": "display_data"
    },
    {
     "data": {
      "text/html": [
       "<pre style=\"white-space:pre;overflow-x:auto;line-height:normal;font-family:Menlo,'DejaVu Sans Mono',consolas,'Courier New',monospace\">Tag <span style=\"color: #008000; text-decoration-color: #008000\">\"</span><span style=\"color: #22fa16; text-decoration-color: #22fa16; font-weight: bold\">fur</span><span style=\"color: #008000; text-decoration-color: #008000\">\"</span> found in caption <span style=\"color: #008000; text-decoration-color: #008000\">\"The character has a brownish </span><span style=\"color: #22fa16; text-decoration-color: #22fa16; font-weight: bold\">fur</span><span style=\"color: #008000; text-decoration-color: #008000\"> coat and brown hair sticking out from under the </span>\n",
       "<span style=\"color: #008000; text-decoration-color: #008000\">headwear.\"</span>\n",
       "</pre>\n"
      ],
      "text/plain": [
       "Tag \u001b[32m\"\u001b[0m\u001b[1;38;2;34;250;22mfur\u001b[0m\u001b[32m\"\u001b[0m found in caption \u001b[32m\"The character has a brownish \u001b[0m\u001b[1;38;2;34;250;22mfur\u001b[0m\u001b[32m coat and brown hair sticking out from under the \u001b[0m\n",
       "\u001b[32mheadwear.\"\u001b[0m\n"
      ]
     },
     "metadata": {},
     "output_type": "display_data"
    },
    {
     "data": {
      "text/html": [
       "<pre style=\"white-space:pre;overflow-x:auto;line-height:normal;font-family:Menlo,'DejaVu Sans Mono',consolas,'Courier New',monospace\">Tag <span style=\"color: #008000; text-decoration-color: #008000\">\"</span><span style=\"color: #6f712c; text-decoration-color: #6f712c; font-weight: bold\">brown hair</span><span style=\"color: #008000; text-decoration-color: #008000\">\"</span> found in caption <span style=\"color: #008000; text-decoration-color: #008000\">\"The character has a brownish fur coat and </span><span style=\"color: #6f712c; text-decoration-color: #6f712c; font-weight: bold\">brown hair</span><span style=\"color: #008000; text-decoration-color: #008000\"> sticking out from under the</span>\n",
       "<span style=\"color: #008000; text-decoration-color: #008000\">headwear.\"</span>\n",
       "</pre>\n"
      ],
      "text/plain": [
       "Tag \u001b[32m\"\u001b[0m\u001b[1;38;2;111;113;44mbrown hair\u001b[0m\u001b[32m\"\u001b[0m found in caption \u001b[32m\"The character has a brownish fur coat and \u001b[0m\u001b[1;38;2;111;113;44mbrown hair\u001b[0m\u001b[32m sticking out from under the\u001b[0m\n",
       "\u001b[32mheadwear.\"\u001b[0m\n"
      ]
     },
     "metadata": {},
     "output_type": "display_data"
    },
    {
     "data": {
      "text/html": [
       "<pre style=\"white-space:pre;overflow-x:auto;line-height:normal;font-family:Menlo,'DejaVu Sans Mono',consolas,'Courier New',monospace\">Tag <span style=\"color: #008000; text-decoration-color: #008000\">\"</span><span style=\"color: #328051; text-decoration-color: #328051; font-weight: bold\">text</span><span style=\"color: #008000; text-decoration-color: #008000\">\"</span> found in caption <span style=\"color: #008000; text-decoration-color: #008000\">\"The character and the </span><span style=\"color: #328051; text-decoration-color: #328051; font-weight: bold\">text</span><span style=\"color: #008000; text-decoration-color: #008000\"> has a white outline around it.\"</span>\n",
       "</pre>\n"
      ],
      "text/plain": [
       "Tag \u001b[32m\"\u001b[0m\u001b[1;38;2;50;128;81mtext\u001b[0m\u001b[32m\"\u001b[0m found in caption \u001b[32m\"The character and the \u001b[0m\u001b[1;38;2;50;128;81mtext\u001b[0m\u001b[32m has a white outline around it.\"\u001b[0m\n"
      ]
     },
     "metadata": {},
     "output_type": "display_data"
    },
    {
     "data": {
      "text/html": [
       "<pre style=\"white-space:pre;overflow-x:auto;line-height:normal;font-family:Menlo,'DejaVu Sans Mono',consolas,'Courier New',monospace\">Tag <span style=\"color: #008000; text-decoration-color: #008000\">\"</span><span style=\"color: #1a55c7; text-decoration-color: #1a55c7; font-weight: bold\">anthro</span><span style=\"color: #008000; text-decoration-color: #008000\">\"</span> found in caption <span style=\"color: #008000; text-decoration-color: #008000\">\"The image showcases an animated character that is an </span><span style=\"color: #1a55c7; text-decoration-color: #1a55c7; font-weight: bold\">anthro</span><span style=\"color: #008000; text-decoration-color: #008000\"> dog.\"</span>\n",
       "</pre>\n"
      ],
      "text/plain": [
       "Tag \u001b[32m\"\u001b[0m\u001b[1;38;2;26;85;199manthro\u001b[0m\u001b[32m\"\u001b[0m found in caption \u001b[32m\"The image showcases an animated character that is an \u001b[0m\u001b[1;38;2;26;85;199manthro\u001b[0m\u001b[32m dog.\"\u001b[0m\n"
      ]
     },
     "metadata": {},
     "output_type": "display_data"
    },
    {
     "data": {
      "text/html": [
       "<pre style=\"white-space:pre;overflow-x:auto;line-height:normal;font-family:Menlo,'DejaVu Sans Mono',consolas,'Courier New',monospace\">\n",
       "\n",
       "<span style=\"font-weight: bold\">C:\\Users\\kade\\Desktop\\training_dir_staging\\1_furry_sticker\\0f27c73c75d57814e6dacf5c60040473.txt</span>\n",
       "\n",
       "</pre>\n"
      ],
      "text/plain": [
       "\n",
       "\n",
       "\u001b[1mC:\\Users\\kade\\Desktop\\training_dir_staging\\1_furry_sticker\\0f27c73c75d57814e6dacf5c60040473.txt\u001b[0m\n",
       "\n"
      ]
     },
     "metadata": {},
     "output_type": "display_data"
    },
    {
     "data": {
      "text/html": [
       "<pre style=\"white-space:pre;overflow-x:auto;line-height:normal;font-family:Menlo,'DejaVu Sans Mono',consolas,'Courier New',monospace\">Tag <span style=\"color: #008000; text-decoration-color: #008000\">\"</span><span style=\"color: #4a0965; text-decoration-color: #4a0965; font-weight: bold\">furry sticker</span><span style=\"color: #008000; text-decoration-color: #008000\">\"</span> found in caption <span style=\"color: #008000; text-decoration-color: #008000\">\"This </span><span style=\"color: #4a0965; text-decoration-color: #4a0965; font-weight: bold\">furry sticker</span><span style=\"color: #008000; text-decoration-color: #008000\"> showcases an animated anthro fox character sitting at a </span>\n",
       "<span style=\"color: #008000; text-decoration-color: #008000\">desk with its hands on a laptop's screen.\"</span>\n",
       "</pre>\n"
      ],
      "text/plain": [
       "Tag \u001b[32m\"\u001b[0m\u001b[1;38;2;74;9;101mfurry sticker\u001b[0m\u001b[32m\"\u001b[0m found in caption \u001b[32m\"This \u001b[0m\u001b[1;38;2;74;9;101mfurry sticker\u001b[0m\u001b[32m showcases an animated anthro fox character sitting at a \u001b[0m\n",
       "\u001b[32mdesk with its hands on a laptop's screen.\"\u001b[0m\n"
      ]
     },
     "metadata": {},
     "output_type": "display_data"
    },
    {
     "data": {
      "text/html": [
       "<pre style=\"white-space:pre;overflow-x:auto;line-height:normal;font-family:Menlo,'DejaVu Sans Mono',consolas,'Courier New',monospace\">Tag <span style=\"color: #008000; text-decoration-color: #008000\">\"</span><span style=\"color: #334e4f; text-decoration-color: #334e4f; font-weight: bold\">fox</span><span style=\"color: #008000; text-decoration-color: #008000\">\"</span> found in caption <span style=\"color: #008000; text-decoration-color: #008000\">\"This furry sticker showcases an animated anthro </span><span style=\"color: #334e4f; text-decoration-color: #334e4f; font-weight: bold\">fox</span><span style=\"color: #008000; text-decoration-color: #008000\"> character sitting at a desk with </span>\n",
       "<span style=\"color: #008000; text-decoration-color: #008000\">its hands on a laptop's screen.\"</span>\n",
       "</pre>\n"
      ],
      "text/plain": [
       "Tag \u001b[32m\"\u001b[0m\u001b[1;38;2;51;78;79mfox\u001b[0m\u001b[32m\"\u001b[0m found in caption \u001b[32m\"This furry sticker showcases an animated anthro \u001b[0m\u001b[1;38;2;51;78;79mfox\u001b[0m\u001b[32m character sitting at a desk with \u001b[0m\n",
       "\u001b[32mits hands on a laptop's screen.\"\u001b[0m\n"
      ]
     },
     "metadata": {},
     "output_type": "display_data"
    },
    {
     "data": {
      "text/html": [
       "<pre style=\"white-space:pre;overflow-x:auto;line-height:normal;font-family:Menlo,'DejaVu Sans Mono',consolas,'Courier New',monospace\">Tag <span style=\"color: #008000; text-decoration-color: #008000\">\"</span><span style=\"color: #c05176; text-decoration-color: #c05176; font-weight: bold\">fox</span><span style=\"color: #008000; text-decoration-color: #008000\">\"</span> found in caption <span style=\"color: #008000; text-decoration-color: #008000\">\"The </span><span style=\"color: #c05176; text-decoration-color: #c05176; font-weight: bold\">fox</span><span style=\"color: #008000; text-decoration-color: #008000\"> appears to be in a state of surprise or shock with wide-open eyes and a closed </span>\n",
       "<span style=\"color: #008000; text-decoration-color: #008000\">mouth that is drawn as a small black line.\"</span>\n",
       "</pre>\n"
      ],
      "text/plain": [
       "Tag \u001b[32m\"\u001b[0m\u001b[1;38;2;192;81;118mfox\u001b[0m\u001b[32m\"\u001b[0m found in caption \u001b[32m\"The \u001b[0m\u001b[1;38;2;192;81;118mfox\u001b[0m\u001b[32m appears to be in a state of surprise or shock with wide-open eyes and a closed \u001b[0m\n",
       "\u001b[32mmouth that is drawn as a small black line.\"\u001b[0m\n"
      ]
     },
     "metadata": {},
     "output_type": "display_data"
    },
    {
     "data": {
      "text/html": [
       "<pre style=\"white-space:pre;overflow-x:auto;line-height:normal;font-family:Menlo,'DejaVu Sans Mono',consolas,'Courier New',monospace\">Tag <span style=\"color: #008000; text-decoration-color: #008000\">\"</span><span style=\"color: #1114a4; text-decoration-color: #1114a4; font-weight: bold\">fox</span><span style=\"color: #008000; text-decoration-color: #008000\">\"</span> found in caption <span style=\"color: #008000; text-decoration-color: #008000\">\"The </span><span style=\"color: #1114a4; text-decoration-color: #1114a4; font-weight: bold\">fox</span><span style=\"color: #008000; text-decoration-color: #008000\"> has a vibrant red fur with his chest and bottom of its face covered in white </span>\n",
       "<span style=\"color: #008000; text-decoration-color: #008000\">fur.\"</span>\n",
       "</pre>\n"
      ],
      "text/plain": [
       "Tag \u001b[32m\"\u001b[0m\u001b[1;38;2;17;20;164mfox\u001b[0m\u001b[32m\"\u001b[0m found in caption \u001b[32m\"The \u001b[0m\u001b[1;38;2;17;20;164mfox\u001b[0m\u001b[32m has a vibrant red fur with his chest and bottom of its face covered in white \u001b[0m\n",
       "\u001b[32mfur.\"\u001b[0m\n"
      ]
     },
     "metadata": {},
     "output_type": "display_data"
    },
    {
     "data": {
      "text/html": [
       "<pre style=\"white-space:pre;overflow-x:auto;line-height:normal;font-family:Menlo,'DejaVu Sans Mono',consolas,'Courier New',monospace\">Tag <span style=\"color: #008000; text-decoration-color: #008000\">\"</span><span style=\"color: #3c72df; text-decoration-color: #3c72df; font-weight: bold\">red fur</span><span style=\"color: #008000; text-decoration-color: #008000\">\"</span> found in caption <span style=\"color: #008000; text-decoration-color: #008000\">\"The fox has a vibrant </span><span style=\"color: #3c72df; text-decoration-color: #3c72df; font-weight: bold\">red fur</span><span style=\"color: #008000; text-decoration-color: #008000\"> with his chest and bottom of its face covered in </span>\n",
       "<span style=\"color: #008000; text-decoration-color: #008000\">white fur.\"</span>\n",
       "</pre>\n"
      ],
      "text/plain": [
       "Tag \u001b[32m\"\u001b[0m\u001b[1;38;2;60;114;223mred fur\u001b[0m\u001b[32m\"\u001b[0m found in caption \u001b[32m\"The fox has a vibrant \u001b[0m\u001b[1;38;2;60;114;223mred fur\u001b[0m\u001b[32m with his chest and bottom of its face covered in \u001b[0m\n",
       "\u001b[32mwhite fur.\"\u001b[0m\n"
      ]
     },
     "metadata": {},
     "output_type": "display_data"
    },
    {
     "data": {
      "text/html": [
       "<pre style=\"white-space:pre;overflow-x:auto;line-height:normal;font-family:Menlo,'DejaVu Sans Mono',consolas,'Courier New',monospace\">Tag <span style=\"color: #008000; text-decoration-color: #008000\">\"</span><span style=\"color: #4cdc4a; text-decoration-color: #4cdc4a; font-weight: bold\">fur</span><span style=\"color: #008000; text-decoration-color: #008000\">\"</span> found in caption <span style=\"color: #008000; text-decoration-color: #008000\">\"The fox has a vibrant red </span><span style=\"color: #4cdc4a; text-decoration-color: #4cdc4a; font-weight: bold\">fur</span><span style=\"color: #008000; text-decoration-color: #008000\"> with his chest and bottom of its face covered in white </span>\n",
       "<span style=\"color: #4cdc4a; text-decoration-color: #4cdc4a; font-weight: bold\">fur</span><span style=\"color: #008000; text-decoration-color: #008000\">.\"</span>\n",
       "</pre>\n"
      ],
      "text/plain": [
       "Tag \u001b[32m\"\u001b[0m\u001b[1;38;2;76;220;74mfur\u001b[0m\u001b[32m\"\u001b[0m found in caption \u001b[32m\"The fox has a vibrant red \u001b[0m\u001b[1;38;2;76;220;74mfur\u001b[0m\u001b[32m with his chest and bottom of its face covered in white \u001b[0m\n",
       "\u001b[1;38;2;76;220;74mfur\u001b[0m\u001b[32m.\"\u001b[0m\n"
      ]
     },
     "metadata": {},
     "output_type": "display_data"
    },
    {
     "data": {
      "text/html": [
       "<pre style=\"white-space:pre;overflow-x:auto;line-height:normal;font-family:Menlo,'DejaVu Sans Mono',consolas,'Courier New',monospace\">Tag <span style=\"color: #008000; text-decoration-color: #008000\">\"</span><span style=\"color: #6c1cc1; text-decoration-color: #6c1cc1; font-weight: bold\">anthro</span><span style=\"color: #008000; text-decoration-color: #008000\">\"</span> found in caption <span style=\"color: #008000; text-decoration-color: #008000\">\"This furry sticker showcases an animated </span><span style=\"color: #6c1cc1; text-decoration-color: #6c1cc1; font-weight: bold\">anthro</span><span style=\"color: #008000; text-decoration-color: #008000\"> fox character sitting at a desk with</span>\n",
       "<span style=\"color: #008000; text-decoration-color: #008000\">its hands on a laptop's screen.\"</span>\n",
       "</pre>\n"
      ],
      "text/plain": [
       "Tag \u001b[32m\"\u001b[0m\u001b[1;38;2;108;28;193manthro\u001b[0m\u001b[32m\"\u001b[0m found in caption \u001b[32m\"This furry sticker showcases an animated \u001b[0m\u001b[1;38;2;108;28;193manthro\u001b[0m\u001b[32m fox character sitting at a desk with\u001b[0m\n",
       "\u001b[32mits hands on a laptop's screen.\"\u001b[0m\n"
      ]
     },
     "metadata": {},
     "output_type": "display_data"
    },
    {
     "data": {
      "text/html": [
       "<pre style=\"white-space:pre;overflow-x:auto;line-height:normal;font-family:Menlo,'DejaVu Sans Mono',consolas,'Courier New',monospace\">Tag <span style=\"color: #008000; text-decoration-color: #008000\">\"</span><span style=\"color: #ac536d; text-decoration-color: #ac536d; font-weight: bold\">computer</span><span style=\"color: #008000; text-decoration-color: #008000\">\"</span> found in caption <span style=\"color: #008000; text-decoration-color: #008000\">\"On the desk there's also a </span><span style=\"color: #ac536d; text-decoration-color: #ac536d; font-weight: bold\">computer</span><span style=\"color: #008000; text-decoration-color: #008000\"> mouse with a blue mouse pad under it.\"</span>\n",
       "</pre>\n"
      ],
      "text/plain": [
       "Tag \u001b[32m\"\u001b[0m\u001b[1;38;2;172;83;109mcomputer\u001b[0m\u001b[32m\"\u001b[0m found in caption \u001b[32m\"On the desk there's also a \u001b[0m\u001b[1;38;2;172;83;109mcomputer\u001b[0m\u001b[32m mouse with a blue mouse pad under it.\"\u001b[0m\n"
      ]
     },
     "metadata": {},
     "output_type": "display_data"
    },
    {
     "data": {
      "text/html": [
       "<pre style=\"white-space:pre;overflow-x:auto;line-height:normal;font-family:Menlo,'DejaVu Sans Mono',consolas,'Courier New',monospace\">Tag <span style=\"color: #008000; text-decoration-color: #008000\">\"</span><span style=\"color: #90f9ba; text-decoration-color: #90f9ba; font-weight: bold\">white fur</span><span style=\"color: #008000; text-decoration-color: #008000\">\"</span> found in caption <span style=\"color: #008000; text-decoration-color: #008000\">\"The fox has a vibrant red fur with his chest and bottom of its face covered in </span>\n",
       "<span style=\"color: #90f9ba; text-decoration-color: #90f9ba; font-weight: bold\">white fur</span><span style=\"color: #008000; text-decoration-color: #008000\">.\"</span>\n",
       "</pre>\n"
      ],
      "text/plain": [
       "Tag \u001b[32m\"\u001b[0m\u001b[1;38;2;144;249;186mwhite fur\u001b[0m\u001b[32m\"\u001b[0m found in caption \u001b[32m\"The fox has a vibrant red fur with his chest and bottom of its face covered in \u001b[0m\n",
       "\u001b[1;38;2;144;249;186mwhite fur\u001b[0m\u001b[32m.\"\u001b[0m\n"
      ]
     },
     "metadata": {},
     "output_type": "display_data"
    },
    {
     "data": {
      "text/html": [
       "<pre style=\"white-space:pre;overflow-x:auto;line-height:normal;font-family:Menlo,'DejaVu Sans Mono',consolas,'Courier New',monospace\">\n",
       "\n",
       "<span style=\"font-weight: bold\">C:\\Users\\kade\\Desktop\\training_dir_staging\\1_furry_sticker\\1aea6a3150d717943f2e5d70f799050d.txt</span>\n",
       "\n",
       "</pre>\n"
      ],
      "text/plain": [
       "\n",
       "\n",
       "\u001b[1mC:\\Users\\kade\\Desktop\\training_dir_staging\\1_furry_sticker\\1aea6a3150d717943f2e5d70f799050d.txt\u001b[0m\n",
       "\n"
      ]
     },
     "metadata": {},
     "output_type": "display_data"
    },
    {
     "data": {
      "text/html": [
       "<pre style=\"white-space:pre;overflow-x:auto;line-height:normal;font-family:Menlo,'DejaVu Sans Mono',consolas,'Courier New',monospace\">Tag <span style=\"color: #008000; text-decoration-color: #008000\">\"</span><span style=\"color: #d0866d; text-decoration-color: #d0866d; font-weight: bold\">fox</span><span style=\"color: #008000; text-decoration-color: #008000\">\"</span> found in caption <span style=\"color: #008000; text-decoration-color: #008000\">\"The image features a stylized cartoon depiction of a </span><span style=\"color: #d0866d; text-decoration-color: #d0866d; font-weight: bold\">fox</span><span style=\"color: #008000; text-decoration-color: #008000\"> with a playful and cheeky </span>\n",
       "<span style=\"color: #008000; text-decoration-color: #008000\">expression and it has its eyes closed.\"</span>\n",
       "</pre>\n"
      ],
      "text/plain": [
       "Tag \u001b[32m\"\u001b[0m\u001b[1;38;2;208;134;109mfox\u001b[0m\u001b[32m\"\u001b[0m found in caption \u001b[32m\"The image features a stylized cartoon depiction of a \u001b[0m\u001b[1;38;2;208;134;109mfox\u001b[0m\u001b[32m with a playful and cheeky \u001b[0m\n",
       "\u001b[32mexpression and it has its eyes closed.\"\u001b[0m\n"
      ]
     },
     "metadata": {},
     "output_type": "display_data"
    },
    {
     "data": {
      "text/html": [
       "<pre style=\"white-space:pre;overflow-x:auto;line-height:normal;font-family:Menlo,'DejaVu Sans Mono',consolas,'Courier New',monospace\">Tag <span style=\"color: #008000; text-decoration-color: #008000\">\"</span><span style=\"color: #3fc9e0; text-decoration-color: #3fc9e0; font-weight: bold\">eyes closed</span><span style=\"color: #008000; text-decoration-color: #008000\">\"</span> found in caption <span style=\"color: #008000; text-decoration-color: #008000\">\"The image features a stylized cartoon depiction of a fox with a playful and </span>\n",
       "<span style=\"color: #008000; text-decoration-color: #008000\">cheeky expression and it has its </span><span style=\"color: #3fc9e0; text-decoration-color: #3fc9e0; font-weight: bold\">eyes closed</span><span style=\"color: #008000; text-decoration-color: #008000\">.\"</span>\n",
       "</pre>\n"
      ],
      "text/plain": [
       "Tag \u001b[32m\"\u001b[0m\u001b[1;38;2;63;201;224meyes closed\u001b[0m\u001b[32m\"\u001b[0m found in caption \u001b[32m\"The image features a stylized cartoon depiction of a fox with a playful and \u001b[0m\n",
       "\u001b[32mcheeky expression and it has its \u001b[0m\u001b[1;38;2;63;201;224meyes closed\u001b[0m\u001b[32m.\"\u001b[0m\n"
      ]
     },
     "metadata": {},
     "output_type": "display_data"
    },
    {
     "data": {
      "text/html": [
       "<pre style=\"white-space:pre;overflow-x:auto;line-height:normal;font-family:Menlo,'DejaVu Sans Mono',consolas,'Courier New',monospace\">Tag <span style=\"color: #008000; text-decoration-color: #008000\">\"</span><span style=\"color: #6056e9; text-decoration-color: #6056e9; font-weight: bold\">black background</span><span style=\"color: #008000; text-decoration-color: #008000\">\"</span> found in caption <span style=\"color: #008000; text-decoration-color: #008000\">\"It is set against a </span><span style=\"color: #6056e9; text-decoration-color: #6056e9; font-weight: bold\">black background</span><span style=\"color: #008000; text-decoration-color: #008000\"> and there's a textual element at the </span>\n",
       "<span style=\"color: #008000; text-decoration-color: #008000\">bottom that reads 'GAFFERTAPE'.\"</span>\n",
       "</pre>\n"
      ],
      "text/plain": [
       "Tag \u001b[32m\"\u001b[0m\u001b[1;38;2;96;86;233mblack background\u001b[0m\u001b[32m\"\u001b[0m found in caption \u001b[32m\"It is set against a \u001b[0m\u001b[1;38;2;96;86;233mblack background\u001b[0m\u001b[32m and there's a textual element at the \u001b[0m\n",
       "\u001b[32mbottom that reads 'GAFFERTAPE'.\"\u001b[0m\n"
      ]
     },
     "metadata": {},
     "output_type": "display_data"
    },
    {
     "data": {
      "text/html": [
       "<pre style=\"white-space:pre;overflow-x:auto;line-height:normal;font-family:Menlo,'DejaVu Sans Mono',consolas,'Courier New',monospace\">Tag <span style=\"color: #008000; text-decoration-color: #008000\">\"</span><span style=\"color: #4ea90a; text-decoration-color: #4ea90a; font-weight: bold\">text</span><span style=\"color: #008000; text-decoration-color: #008000\">\"</span> found in caption <span style=\"color: #008000; text-decoration-color: #008000\">\"The character and the </span><span style=\"color: #4ea90a; text-decoration-color: #4ea90a; font-weight: bold\">text</span><span style=\"color: #008000; text-decoration-color: #008000\"> has a white outline around it.\"</span>\n",
       "</pre>\n"
      ],
      "text/plain": [
       "Tag \u001b[32m\"\u001b[0m\u001b[1;38;2;78;169;10mtext\u001b[0m\u001b[32m\"\u001b[0m found in caption \u001b[32m\"The character and the \u001b[0m\u001b[1;38;2;78;169;10mtext\u001b[0m\u001b[32m has a white outline around it.\"\u001b[0m\n"
      ]
     },
     "metadata": {},
     "output_type": "display_data"
    },
    {
     "data": {
      "text/html": [
       "<pre style=\"white-space:pre;overflow-x:auto;line-height:normal;font-family:Menlo,'DejaVu Sans Mono',consolas,'Courier New',monospace\">Tag <span style=\"color: #008000; text-decoration-color: #008000\">\"</span><span style=\"color: #c1e8ac; text-decoration-color: #c1e8ac; font-weight: bold\">fur</span><span style=\"color: #008000; text-decoration-color: #008000\">\"</span> found in caption <span style=\"color: #008000; text-decoration-color: #008000\">\"The creature has orange </span><span style=\"color: #c1e8ac; text-decoration-color: #c1e8ac; font-weight: bold\">fur</span><span style=\"color: #008000; text-decoration-color: #008000\"> with white accents pointed ears and a mischievous smirk.\"</span>\n",
       "</pre>\n"
      ],
      "text/plain": [
       "Tag \u001b[32m\"\u001b[0m\u001b[1;38;2;193;232;172mfur\u001b[0m\u001b[32m\"\u001b[0m found in caption \u001b[32m\"The creature has orange \u001b[0m\u001b[1;38;2;193;232;172mfur\u001b[0m\u001b[32m with white accents pointed ears and a mischievous smirk.\"\u001b[0m\n"
      ]
     },
     "metadata": {},
     "output_type": "display_data"
    },
    {
     "data": {
      "text/html": [
       "<pre style=\"white-space:pre;overflow-x:auto;line-height:normal;font-family:Menlo,'DejaVu Sans Mono',consolas,'Courier New',monospace\">Tag <span style=\"color: #008000; text-decoration-color: #008000\">\"</span><span style=\"color: #26ba45; text-decoration-color: #26ba45; font-weight: bold\">orange fur</span><span style=\"color: #008000; text-decoration-color: #008000\">\"</span> found in caption <span style=\"color: #008000; text-decoration-color: #008000\">\"The creature has </span><span style=\"color: #26ba45; text-decoration-color: #26ba45; font-weight: bold\">orange fur</span><span style=\"color: #008000; text-decoration-color: #008000\"> with white accents pointed ears and a mischievous </span>\n",
       "<span style=\"color: #008000; text-decoration-color: #008000\">smirk.\"</span>\n",
       "</pre>\n"
      ],
      "text/plain": [
       "Tag \u001b[32m\"\u001b[0m\u001b[1;38;2;38;186;69morange fur\u001b[0m\u001b[32m\"\u001b[0m found in caption \u001b[32m\"The creature has \u001b[0m\u001b[1;38;2;38;186;69morange fur\u001b[0m\u001b[32m with white accents pointed ears and a mischievous \u001b[0m\n",
       "\u001b[32msmirk.\"\u001b[0m\n"
      ]
     },
     "metadata": {},
     "output_type": "display_data"
    },
    {
     "data": {
      "text/html": [
       "<pre style=\"white-space:pre;overflow-x:auto;line-height:normal;font-family:Menlo,'DejaVu Sans Mono',consolas,'Courier New',monospace\">\n",
       "\n",
       "<span style=\"font-weight: bold\">C:\\Users\\kade\\Desktop\\training_dir_staging\\1_furry_sticker\\1b09d9c4726d721e86b204c23ab9e184.txt</span>\n",
       "\n",
       "</pre>\n"
      ],
      "text/plain": [
       "\n",
       "\n",
       "\u001b[1mC:\\Users\\kade\\Desktop\\training_dir_staging\\1_furry_sticker\\1b09d9c4726d721e86b204c23ab9e184.txt\u001b[0m\n",
       "\n"
      ]
     },
     "metadata": {},
     "output_type": "display_data"
    },
    {
     "data": {
      "text/html": [
       "<pre style=\"white-space:pre;overflow-x:auto;line-height:normal;font-family:Menlo,'DejaVu Sans Mono',consolas,'Courier New',monospace\">Tag <span style=\"color: #008000; text-decoration-color: #008000\">\"</span><span style=\"color: #cb0895; text-decoration-color: #cb0895; font-weight: bold\">fox</span><span style=\"color: #008000; text-decoration-color: #008000\">\"</span> found in caption <span style=\"color: #008000; text-decoration-color: #008000\">\"The image depicts an anthro red </span><span style=\"color: #cb0895; text-decoration-color: #cb0895; font-weight: bold\">fox</span><span style=\"color: #008000; text-decoration-color: #008000\"> sitting at a desk.\"</span>\n",
       "</pre>\n"
      ],
      "text/plain": [
       "Tag \u001b[32m\"\u001b[0m\u001b[1;38;2;203;8;149mfox\u001b[0m\u001b[32m\"\u001b[0m found in caption \u001b[32m\"The image depicts an anthro red \u001b[0m\u001b[1;38;2;203;8;149mfox\u001b[0m\u001b[32m sitting at a desk.\"\u001b[0m\n"
      ]
     },
     "metadata": {},
     "output_type": "display_data"
    },
    {
     "data": {
      "text/html": [
       "<pre style=\"white-space:pre;overflow-x:auto;line-height:normal;font-family:Menlo,'DejaVu Sans Mono',consolas,'Courier New',monospace\">Tag <span style=\"color: #008000; text-decoration-color: #008000\">\"</span><span style=\"color: #e9f073; text-decoration-color: #e9f073; font-weight: bold\">fox</span><span style=\"color: #008000; text-decoration-color: #008000\">\"</span> found in caption <span style=\"color: #008000; text-decoration-color: #008000\">\"The </span><span style=\"color: #e9f073; text-decoration-color: #e9f073; font-weight: bold\">fox</span><span style=\"color: #008000; text-decoration-color: #008000\"> appears to be working on a computer as evidenced by the keyboard in front of it</span>\n",
       "<span style=\"color: #008000; text-decoration-color: #008000\">and the computer mouse with a mousepad on the desk.\"</span>\n",
       "</pre>\n"
      ],
      "text/plain": [
       "Tag \u001b[32m\"\u001b[0m\u001b[1;38;2;233;240;115mfox\u001b[0m\u001b[32m\"\u001b[0m found in caption \u001b[32m\"The \u001b[0m\u001b[1;38;2;233;240;115mfox\u001b[0m\u001b[32m appears to be working on a computer as evidenced by the keyboard in front of it\u001b[0m\n",
       "\u001b[32mand the computer mouse with a mousepad on the desk.\"\u001b[0m\n"
      ]
     },
     "metadata": {},
     "output_type": "display_data"
    },
    {
     "data": {
      "text/html": [
       "<pre style=\"white-space:pre;overflow-x:auto;line-height:normal;font-family:Menlo,'DejaVu Sans Mono',consolas,'Courier New',monospace\">Tag <span style=\"color: #008000; text-decoration-color: #008000\">\"</span><span style=\"color: #db8391; text-decoration-color: #db8391; font-weight: bold\">fox</span><span style=\"color: #008000; text-decoration-color: #008000\">\"</span> found in caption <span style=\"color: #008000; text-decoration-color: #008000\">\"The </span><span style=\"color: #db8391; text-decoration-color: #db8391; font-weight: bold\">fox</span><span style=\"color: #008000; text-decoration-color: #008000\"> has a perplexed expression on its face.\"</span>\n",
       "</pre>\n"
      ],
      "text/plain": [
       "Tag \u001b[32m\"\u001b[0m\u001b[1;38;2;219;131;145mfox\u001b[0m\u001b[32m\"\u001b[0m found in caption \u001b[32m\"The \u001b[0m\u001b[1;38;2;219;131;145mfox\u001b[0m\u001b[32m has a perplexed expression on its face.\"\u001b[0m\n"
      ]
     },
     "metadata": {},
     "output_type": "display_data"
    },
    {
     "data": {
      "text/html": [
       "<pre style=\"white-space:pre;overflow-x:auto;line-height:normal;font-family:Menlo,'DejaVu Sans Mono',consolas,'Courier New',monospace\">Tag <span style=\"color: #008000; text-decoration-color: #008000\">\"</span><span style=\"color: #15001c; text-decoration-color: #15001c; font-weight: bold\">anthro</span><span style=\"color: #008000; text-decoration-color: #008000\">\"</span> found in caption <span style=\"color: #008000; text-decoration-color: #008000\">\"The image depicts an </span><span style=\"color: #15001c; text-decoration-color: #15001c; font-weight: bold\">anthro</span><span style=\"color: #008000; text-decoration-color: #008000\"> red fox sitting at a desk.\"</span>\n",
       "</pre>\n"
      ],
      "text/plain": [
       "Tag \u001b[32m\"\u001b[0m\u001b[1;38;2;21;0;28manthro\u001b[0m\u001b[32m\"\u001b[0m found in caption \u001b[32m\"The image depicts an \u001b[0m\u001b[1;38;2;21;0;28manthro\u001b[0m\u001b[32m red fox sitting at a desk.\"\u001b[0m\n"
      ]
     },
     "metadata": {},
     "output_type": "display_data"
    },
    {
     "data": {
      "text/html": [
       "<pre style=\"white-space:pre;overflow-x:auto;line-height:normal;font-family:Menlo,'DejaVu Sans Mono',consolas,'Courier New',monospace\">\n",
       "\n",
       "<span style=\"font-weight: bold\">C:\\Users\\kade\\Desktop\\training_dir_staging\\1_furry_sticker\\1c014a48012a09c9d2fb05aea4862190.txt</span>\n",
       "\n",
       "</pre>\n"
      ],
      "text/plain": [
       "\n",
       "\n",
       "\u001b[1mC:\\Users\\kade\\Desktop\\training_dir_staging\\1_furry_sticker\\1c014a48012a09c9d2fb05aea4862190.txt\u001b[0m\n",
       "\n"
      ]
     },
     "metadata": {},
     "output_type": "display_data"
    },
    {
     "data": {
      "text/html": [
       "<pre style=\"white-space:pre;overflow-x:auto;line-height:normal;font-family:Menlo,'DejaVu Sans Mono',consolas,'Courier New',monospace\">Tag <span style=\"color: #008000; text-decoration-color: #008000\">\"</span><span style=\"color: #775c37; text-decoration-color: #775c37; font-weight: bold\">anthro</span><span style=\"color: #008000; text-decoration-color: #008000\">\"</span> found in caption <span style=\"color: #008000; text-decoration-color: #008000\">\"The image showcases a cartoonish </span><span style=\"color: #775c37; text-decoration-color: #775c37; font-weight: bold\">anthro</span><span style=\"color: #008000; text-decoration-color: #008000\"> canine with gray and black fur.\"</span>\n",
       "</pre>\n"
      ],
      "text/plain": [
       "Tag \u001b[32m\"\u001b[0m\u001b[1;38;2;119;92;55manthro\u001b[0m\u001b[32m\"\u001b[0m found in caption \u001b[32m\"The image showcases a cartoonish \u001b[0m\u001b[1;38;2;119;92;55manthro\u001b[0m\u001b[32m canine with gray and black fur.\"\u001b[0m\n"
      ]
     },
     "metadata": {},
     "output_type": "display_data"
    },
    {
     "data": {
      "text/html": [
       "<pre style=\"white-space:pre;overflow-x:auto;line-height:normal;font-family:Menlo,'DejaVu Sans Mono',consolas,'Courier New',monospace\">Tag <span style=\"color: #008000; text-decoration-color: #008000\">\"</span><span style=\"color: #ec4184; text-decoration-color: #ec4184; font-weight: bold\">fur</span><span style=\"color: #008000; text-decoration-color: #008000\">\"</span> found in caption <span style=\"color: #008000; text-decoration-color: #008000\">\"The image showcases a cartoonish anthro canine with gray and black </span><span style=\"color: #ec4184; text-decoration-color: #ec4184; font-weight: bold\">fur</span><span style=\"color: #008000; text-decoration-color: #008000\">.\"</span>\n",
       "</pre>\n"
      ],
      "text/plain": [
       "Tag \u001b[32m\"\u001b[0m\u001b[1;38;2;236;65;132mfur\u001b[0m\u001b[32m\"\u001b[0m found in caption \u001b[32m\"The image showcases a cartoonish anthro canine with gray and black \u001b[0m\u001b[1;38;2;236;65;132mfur\u001b[0m\u001b[32m.\"\u001b[0m\n"
      ]
     },
     "metadata": {},
     "output_type": "display_data"
    },
    {
     "data": {
      "text/html": [
       "<pre style=\"white-space:pre;overflow-x:auto;line-height:normal;font-family:Menlo,'DejaVu Sans Mono',consolas,'Courier New',monospace\">Tag <span style=\"color: #008000; text-decoration-color: #008000\">\"</span><span style=\"color: #5c9d40; text-decoration-color: #5c9d40; font-weight: bold\">canine</span><span style=\"color: #008000; text-decoration-color: #008000\">\"</span> found in caption <span style=\"color: #008000; text-decoration-color: #008000\">\"The image showcases a cartoonish anthro </span><span style=\"color: #5c9d40; text-decoration-color: #5c9d40; font-weight: bold\">canine</span><span style=\"color: #008000; text-decoration-color: #008000\"> with gray and black fur.\"</span>\n",
       "</pre>\n"
      ],
      "text/plain": [
       "Tag \u001b[32m\"\u001b[0m\u001b[1;38;2;92;157;64mcanine\u001b[0m\u001b[32m\"\u001b[0m found in caption \u001b[32m\"The image showcases a cartoonish anthro \u001b[0m\u001b[1;38;2;92;157;64mcanine\u001b[0m\u001b[32m with gray and black fur.\"\u001b[0m\n"
      ]
     },
     "metadata": {},
     "output_type": "display_data"
    },
    {
     "data": {
      "text/html": [
       "<pre style=\"white-space:pre;overflow-x:auto;line-height:normal;font-family:Menlo,'DejaVu Sans Mono',consolas,'Courier New',monospace\">\n",
       "\n",
       "<span style=\"font-weight: bold\">C:\\Users\\kade\\Desktop\\training_dir_staging\\1_furry_sticker\\1d64f33795f33146e529a43b23c9d247.txt</span>\n",
       "\n",
       "</pre>\n"
      ],
      "text/plain": [
       "\n",
       "\n",
       "\u001b[1mC:\\Users\\kade\\Desktop\\training_dir_staging\\1_furry_sticker\\1d64f33795f33146e529a43b23c9d247.txt\u001b[0m\n",
       "\n"
      ]
     },
     "metadata": {},
     "output_type": "display_data"
    },
    {
     "data": {
      "text/html": [
       "<pre style=\"white-space:pre;overflow-x:auto;line-height:normal;font-family:Menlo,'DejaVu Sans Mono',consolas,'Courier New',monospace\">Tag <span style=\"color: #008000; text-decoration-color: #008000\">\"</span><span style=\"color: #8a5f2c; text-decoration-color: #8a5f2c; font-weight: bold\">furry sticker</span><span style=\"color: #008000; text-decoration-color: #008000\">\"</span> found in caption <span style=\"color: #008000; text-decoration-color: #008000\">\"The </span><span style=\"color: #8a5f2c; text-decoration-color: #8a5f2c; font-weight: bold\">furry sticker</span><span style=\"color: #008000; text-decoration-color: #008000\"> features a cartoon anthro fox character.\"</span>\n",
       "</pre>\n"
      ],
      "text/plain": [
       "Tag \u001b[32m\"\u001b[0m\u001b[1;38;2;138;95;44mfurry sticker\u001b[0m\u001b[32m\"\u001b[0m found in caption \u001b[32m\"The \u001b[0m\u001b[1;38;2;138;95;44mfurry sticker\u001b[0m\u001b[32m features a cartoon anthro fox character.\"\u001b[0m\n"
      ]
     },
     "metadata": {},
     "output_type": "display_data"
    },
    {
     "data": {
      "text/html": [
       "<pre style=\"white-space:pre;overflow-x:auto;line-height:normal;font-family:Menlo,'DejaVu Sans Mono',consolas,'Courier New',monospace\">Tag <span style=\"color: #008000; text-decoration-color: #008000\">\"</span><span style=\"color: #aeac9d; text-decoration-color: #aeac9d; font-weight: bold\">fox</span><span style=\"color: #008000; text-decoration-color: #008000\">\"</span> found in caption <span style=\"color: #008000; text-decoration-color: #008000\">\"The furry sticker features a cartoon anthro </span><span style=\"color: #aeac9d; text-decoration-color: #aeac9d; font-weight: bold\">fox</span><span style=\"color: #008000; text-decoration-color: #008000\"> character.\"</span>\n",
       "</pre>\n"
      ],
      "text/plain": [
       "Tag \u001b[32m\"\u001b[0m\u001b[1;38;2;174;172;157mfox\u001b[0m\u001b[32m\"\u001b[0m found in caption \u001b[32m\"The furry sticker features a cartoon anthro \u001b[0m\u001b[1;38;2;174;172;157mfox\u001b[0m\u001b[32m character.\"\u001b[0m\n"
      ]
     },
     "metadata": {},
     "output_type": "display_data"
    },
    {
     "data": {
      "text/html": [
       "<pre style=\"white-space:pre;overflow-x:auto;line-height:normal;font-family:Menlo,'DejaVu Sans Mono',consolas,'Courier New',monospace\">Tag <span style=\"color: #008000; text-decoration-color: #008000\">\"</span><span style=\"color: #d4cd83; text-decoration-color: #d4cd83; font-weight: bold\">fox</span><span style=\"color: #008000; text-decoration-color: #008000\">\"</span> found in caption <span style=\"color: #008000; text-decoration-color: #008000\">\"The </span><span style=\"color: #d4cd83; text-decoration-color: #d4cd83; font-weight: bold\">fox</span><span style=\"color: #008000; text-decoration-color: #008000\"> has a red fur with pointed ears and amber eyes.\"</span>\n",
       "</pre>\n"
      ],
      "text/plain": [
       "Tag \u001b[32m\"\u001b[0m\u001b[1;38;2;212;205;131mfox\u001b[0m\u001b[32m\"\u001b[0m found in caption \u001b[32m\"The \u001b[0m\u001b[1;38;2;212;205;131mfox\u001b[0m\u001b[32m has a red fur with pointed ears and amber eyes.\"\u001b[0m\n"
      ]
     },
     "metadata": {},
     "output_type": "display_data"
    },
    {
     "data": {
      "text/html": [
       "<pre style=\"white-space:pre;overflow-x:auto;line-height:normal;font-family:Menlo,'DejaVu Sans Mono',consolas,'Courier New',monospace\">Tag <span style=\"color: #008000; text-decoration-color: #008000\">\"</span><span style=\"color: #4b9931; text-decoration-color: #4b9931; font-weight: bold\">fox</span><span style=\"color: #008000; text-decoration-color: #008000\">\"</span> found in caption <span style=\"color: #008000; text-decoration-color: #008000\">\"Above the </span><span style=\"color: #4b9931; text-decoration-color: #4b9931; font-weight: bold\">fox</span><span style=\"color: #008000; text-decoration-color: #008000\"> there's a light bulb symbol indicating a bright idea or inspiration.\"</span>\n",
       "</pre>\n"
      ],
      "text/plain": [
       "Tag \u001b[32m\"\u001b[0m\u001b[1;38;2;75;153;49mfox\u001b[0m\u001b[32m\"\u001b[0m found in caption \u001b[32m\"Above the \u001b[0m\u001b[1;38;2;75;153;49mfox\u001b[0m\u001b[32m there's a light bulb symbol indicating a bright idea or inspiration.\"\u001b[0m\n"
      ]
     },
     "metadata": {},
     "output_type": "display_data"
    },
    {
     "data": {
      "text/html": [
       "<pre style=\"white-space:pre;overflow-x:auto;line-height:normal;font-family:Menlo,'DejaVu Sans Mono',consolas,'Courier New',monospace\">Tag <span style=\"color: #008000; text-decoration-color: #008000\">\"</span><span style=\"color: #797f09; text-decoration-color: #797f09; font-weight: bold\">anthro</span><span style=\"color: #008000; text-decoration-color: #008000\">\"</span> found in caption <span style=\"color: #008000; text-decoration-color: #008000\">\"The furry sticker features a cartoon </span><span style=\"color: #797f09; text-decoration-color: #797f09; font-weight: bold\">anthro</span><span style=\"color: #008000; text-decoration-color: #008000\"> fox character.\"</span>\n",
       "</pre>\n"
      ],
      "text/plain": [
       "Tag \u001b[32m\"\u001b[0m\u001b[1;38;2;121;127;9manthro\u001b[0m\u001b[32m\"\u001b[0m found in caption \u001b[32m\"The furry sticker features a cartoon \u001b[0m\u001b[1;38;2;121;127;9manthro\u001b[0m\u001b[32m fox character.\"\u001b[0m\n"
      ]
     },
     "metadata": {},
     "output_type": "display_data"
    },
    {
     "data": {
      "text/html": [
       "<pre style=\"white-space:pre;overflow-x:auto;line-height:normal;font-family:Menlo,'DejaVu Sans Mono',consolas,'Courier New',monospace\">Tag <span style=\"color: #008000; text-decoration-color: #008000\">\"</span><span style=\"color: #81a43d; text-decoration-color: #81a43d; font-weight: bold\">fur</span><span style=\"color: #008000; text-decoration-color: #008000\">\"</span> found in caption <span style=\"color: #008000; text-decoration-color: #008000\">\"The fox has a red </span><span style=\"color: #81a43d; text-decoration-color: #81a43d; font-weight: bold\">fur</span><span style=\"color: #008000; text-decoration-color: #008000\"> with pointed ears and amber eyes.\"</span>\n",
       "</pre>\n"
      ],
      "text/plain": [
       "Tag \u001b[32m\"\u001b[0m\u001b[1;38;2;129;164;61mfur\u001b[0m\u001b[32m\"\u001b[0m found in caption \u001b[32m\"The fox has a red \u001b[0m\u001b[1;38;2;129;164;61mfur\u001b[0m\u001b[32m with pointed ears and amber eyes.\"\u001b[0m\n"
      ]
     },
     "metadata": {},
     "output_type": "display_data"
    },
    {
     "data": {
      "text/html": [
       "<pre style=\"white-space:pre;overflow-x:auto;line-height:normal;font-family:Menlo,'DejaVu Sans Mono',consolas,'Courier New',monospace\">Tag <span style=\"color: #008000; text-decoration-color: #008000\">\"</span><span style=\"color: #8fd406; text-decoration-color: #8fd406; font-weight: bold\">red fur</span><span style=\"color: #008000; text-decoration-color: #008000\">\"</span> found in caption <span style=\"color: #008000; text-decoration-color: #008000\">\"The fox has a </span><span style=\"color: #8fd406; text-decoration-color: #8fd406; font-weight: bold\">red fur</span><span style=\"color: #008000; text-decoration-color: #008000\"> with pointed ears and amber eyes.\"</span>\n",
       "</pre>\n"
      ],
      "text/plain": [
       "Tag \u001b[32m\"\u001b[0m\u001b[1;38;2;143;212;6mred fur\u001b[0m\u001b[32m\"\u001b[0m found in caption \u001b[32m\"The fox has a \u001b[0m\u001b[1;38;2;143;212;6mred fur\u001b[0m\u001b[32m with pointed ears and amber eyes.\"\u001b[0m\n"
      ]
     },
     "metadata": {},
     "output_type": "display_data"
    },
    {
     "data": {
      "text/html": [
       "<pre style=\"white-space:pre;overflow-x:auto;line-height:normal;font-family:Menlo,'DejaVu Sans Mono',consolas,'Courier New',monospace\">Tag <span style=\"color: #008000; text-decoration-color: #008000\">\"</span><span style=\"color: #d8be6a; text-decoration-color: #d8be6a; font-weight: bold\">outline</span><span style=\"color: #008000; text-decoration-color: #008000\">\"</span> found in caption <span style=\"color: #008000; text-decoration-color: #008000\">\"The character has a white </span><span style=\"color: #d8be6a; text-decoration-color: #d8be6a; font-weight: bold\">outline</span><span style=\"color: #008000; text-decoration-color: #008000\"> around it.\"</span>\n",
       "</pre>\n"
      ],
      "text/plain": [
       "Tag \u001b[32m\"\u001b[0m\u001b[1;38;2;216;190;106moutline\u001b[0m\u001b[32m\"\u001b[0m found in caption \u001b[32m\"The character has a white \u001b[0m\u001b[1;38;2;216;190;106moutline\u001b[0m\u001b[32m around it.\"\u001b[0m\n"
      ]
     },
     "metadata": {},
     "output_type": "display_data"
    },
    {
     "data": {
      "text/html": [
       "<pre style=\"white-space:pre;overflow-x:auto;line-height:normal;font-family:Menlo,'DejaVu Sans Mono',consolas,'Courier New',monospace\">\n",
       "\n",
       "<span style=\"font-weight: bold\">C:\\Users\\kade\\Desktop\\training_dir_staging\\1_furry_sticker\\1e3206f761554e1827e9e2ff1dd2f180.txt</span>\n",
       "\n",
       "</pre>\n"
      ],
      "text/plain": [
       "\n",
       "\n",
       "\u001b[1mC:\\Users\\kade\\Desktop\\training_dir_staging\\1_furry_sticker\\1e3206f761554e1827e9e2ff1dd2f180.txt\u001b[0m\n",
       "\n"
      ]
     },
     "metadata": {},
     "output_type": "display_data"
    },
    {
     "data": {
      "text/html": [
       "<pre style=\"white-space:pre;overflow-x:auto;line-height:normal;font-family:Menlo,'DejaVu Sans Mono',consolas,'Courier New',monospace\">Tag <span style=\"color: #008000; text-decoration-color: #008000\">\"</span><span style=\"color: #01e6e9; text-decoration-color: #01e6e9; font-weight: bold\">furry sticker</span><span style=\"color: #008000; text-decoration-color: #008000\">\"</span> found in caption <span style=\"color: #008000; text-decoration-color: #008000\">\"The </span><span style=\"color: #01e6e9; text-decoration-color: #01e6e9; font-weight: bold\">furry sticker</span><span style=\"color: #008000; text-decoration-color: #008000\"> showcases an animated character that resembles a fluffy </span>\n",
       "<span style=\"color: #008000; text-decoration-color: #008000\">orange cat.\"</span>\n",
       "</pre>\n"
      ],
      "text/plain": [
       "Tag \u001b[32m\"\u001b[0m\u001b[1;38;2;1;230;233mfurry sticker\u001b[0m\u001b[32m\"\u001b[0m found in caption \u001b[32m\"The \u001b[0m\u001b[1;38;2;1;230;233mfurry sticker\u001b[0m\u001b[32m showcases an animated character that resembles a fluffy \u001b[0m\n",
       "\u001b[32morange cat.\"\u001b[0m\n"
      ]
     },
     "metadata": {},
     "output_type": "display_data"
    },
    {
     "data": {
      "text/html": [
       "<pre style=\"white-space:pre;overflow-x:auto;line-height:normal;font-family:Menlo,'DejaVu Sans Mono',consolas,'Courier New',monospace\">Tag <span style=\"color: #008000; text-decoration-color: #008000\">\"</span><span style=\"color: #f3e051; text-decoration-color: #f3e051; font-weight: bold\">yarn</span><span style=\"color: #008000; text-decoration-color: #008000\">\"</span> found in caption <span style=\"color: #008000; text-decoration-color: #008000\">\"The cat appears to be playing with a red ball of </span><span style=\"color: #f3e051; text-decoration-color: #f3e051; font-weight: bold\">yarn</span><span style=\"color: #008000; text-decoration-color: #008000\"> holding it with both paws and </span>\n",
       "<span style=\"color: #008000; text-decoration-color: #008000\">biting into it.\"</span>\n",
       "</pre>\n"
      ],
      "text/plain": [
       "Tag \u001b[32m\"\u001b[0m\u001b[1;38;2;243;224;81myarn\u001b[0m\u001b[32m\"\u001b[0m found in caption \u001b[32m\"The cat appears to be playing with a red ball of \u001b[0m\u001b[1;38;2;243;224;81myarn\u001b[0m\u001b[32m holding it with both paws and \u001b[0m\n",
       "\u001b[32mbiting into it.\"\u001b[0m\n"
      ]
     },
     "metadata": {},
     "output_type": "display_data"
    },
    {
     "data": {
      "text/html": [
       "<pre style=\"white-space:pre;overflow-x:auto;line-height:normal;font-family:Menlo,'DejaVu Sans Mono',consolas,'Courier New',monospace\">Tag <span style=\"color: #008000; text-decoration-color: #008000\">\"</span><span style=\"color: #c5281c; text-decoration-color: #c5281c; font-weight: bold\">paws</span><span style=\"color: #008000; text-decoration-color: #008000\">\"</span> found in caption <span style=\"color: #008000; text-decoration-color: #008000\">\"The cat appears to be playing with a red ball of yarn holding it with both </span><span style=\"color: #c5281c; text-decoration-color: #c5281c; font-weight: bold\">paws</span><span style=\"color: #008000; text-decoration-color: #008000\"> and </span>\n",
       "<span style=\"color: #008000; text-decoration-color: #008000\">biting into it.\"</span>\n",
       "</pre>\n"
      ],
      "text/plain": [
       "Tag \u001b[32m\"\u001b[0m\u001b[1;38;2;197;40;28mpaws\u001b[0m\u001b[32m\"\u001b[0m found in caption \u001b[32m\"The cat appears to be playing with a red ball of yarn holding it with both \u001b[0m\u001b[1;38;2;197;40;28mpaws\u001b[0m\u001b[32m and \u001b[0m\n",
       "\u001b[32mbiting into it.\"\u001b[0m\n"
      ]
     },
     "metadata": {},
     "output_type": "display_data"
    },
    {
     "data": {
      "text/html": [
       "<pre style=\"white-space:pre;overflow-x:auto;line-height:normal;font-family:Menlo,'DejaVu Sans Mono',consolas,'Courier New',monospace\">\n",
       "\n",
       "<span style=\"font-weight: bold\">C:\\Users\\kade\\Desktop\\training_dir_staging\\1_furry_sticker\\2ae636ee5a3b5b8240f11ca4b9083435.txt</span>\n",
       "\n",
       "</pre>\n"
      ],
      "text/plain": [
       "\n",
       "\n",
       "\u001b[1mC:\\Users\\kade\\Desktop\\training_dir_staging\\1_furry_sticker\\2ae636ee5a3b5b8240f11ca4b9083435.txt\u001b[0m\n",
       "\n"
      ]
     },
     "metadata": {},
     "output_type": "display_data"
    },
    {
     "data": {
      "text/html": [
       "<pre style=\"white-space:pre;overflow-x:auto;line-height:normal;font-family:Menlo,'DejaVu Sans Mono',consolas,'Courier New',monospace\">Tag <span style=\"color: #008000; text-decoration-color: #008000\">\"</span><span style=\"color: #48cf59; text-decoration-color: #48cf59; font-weight: bold\">halo</span><span style=\"color: #008000; text-decoration-color: #008000\">\"</span> found in caption <span style=\"color: #008000; text-decoration-color: #008000\">\"The character also has a </span><span style=\"color: #48cf59; text-decoration-color: #48cf59; font-weight: bold\">halo</span><span style=\"color: #008000; text-decoration-color: #008000\"> above its head which is a common symbol of purity or </span>\n",
       "<span style=\"color: #008000; text-decoration-color: #008000\">divinity in various cultures.\"</span>\n",
       "</pre>\n"
      ],
      "text/plain": [
       "Tag \u001b[32m\"\u001b[0m\u001b[1;38;2;72;207;89mhalo\u001b[0m\u001b[32m\"\u001b[0m found in caption \u001b[32m\"The character also has a \u001b[0m\u001b[1;38;2;72;207;89mhalo\u001b[0m\u001b[32m above its head which is a common symbol of purity or \u001b[0m\n",
       "\u001b[32mdivinity in various cultures.\"\u001b[0m\n"
      ]
     },
     "metadata": {},
     "output_type": "display_data"
    },
    {
     "data": {
      "text/html": [
       "<pre style=\"white-space:pre;overflow-x:auto;line-height:normal;font-family:Menlo,'DejaVu Sans Mono',consolas,'Courier New',monospace\">Tag <span style=\"color: #008000; text-decoration-color: #008000\">\"</span><span style=\"color: #c068fa; text-decoration-color: #c068fa; font-weight: bold\">eyes closed</span><span style=\"color: #008000; text-decoration-color: #008000\">\"</span> found in caption <span style=\"color: #008000; text-decoration-color: #008000\">\"It has a playful expression with its </span><span style=\"color: #c068fa; text-decoration-color: #c068fa; font-weight: bold\">eyes closed</span><span style=\"color: #008000; text-decoration-color: #008000\"> and a slight smile.\"</span>\n",
       "</pre>\n"
      ],
      "text/plain": [
       "Tag \u001b[32m\"\u001b[0m\u001b[1;38;2;192;104;250meyes closed\u001b[0m\u001b[32m\"\u001b[0m found in caption \u001b[32m\"It has a playful expression with its \u001b[0m\u001b[1;38;2;192;104;250meyes closed\u001b[0m\u001b[32m and a slight smile.\"\u001b[0m\n"
      ]
     },
     "metadata": {},
     "output_type": "display_data"
    },
    {
     "data": {
      "text/html": [
       "<pre style=\"white-space:pre;overflow-x:auto;line-height:normal;font-family:Menlo,'DejaVu Sans Mono',consolas,'Courier New',monospace\">Tag <span style=\"color: #008000; text-decoration-color: #008000\">\"</span><span style=\"color: #79d960; text-decoration-color: #79d960; font-weight: bold\">anthro</span><span style=\"color: #008000; text-decoration-color: #008000\">\"</span> found in caption <span style=\"color: #008000; text-decoration-color: #008000\">\"The image depicts an animated character resembling an </span><span style=\"color: #79d960; text-decoration-color: #79d960; font-weight: bold\">anthro</span><span style=\"color: #008000; text-decoration-color: #008000\"> canine with black and </span>\n",
       "<span style=\"color: #008000; text-decoration-color: #008000\">gray fur.\"</span>\n",
       "</pre>\n"
      ],
      "text/plain": [
       "Tag \u001b[32m\"\u001b[0m\u001b[1;38;2;121;217;96manthro\u001b[0m\u001b[32m\"\u001b[0m found in caption \u001b[32m\"The image depicts an animated character resembling an \u001b[0m\u001b[1;38;2;121;217;96manthro\u001b[0m\u001b[32m canine with black and \u001b[0m\n",
       "\u001b[32mgray fur.\"\u001b[0m\n"
      ]
     },
     "metadata": {},
     "output_type": "display_data"
    },
    {
     "data": {
      "text/html": [
       "<pre style=\"white-space:pre;overflow-x:auto;line-height:normal;font-family:Menlo,'DejaVu Sans Mono',consolas,'Courier New',monospace\">Tag <span style=\"color: #008000; text-decoration-color: #008000\">\"</span><span style=\"color: #c6ca24; text-decoration-color: #c6ca24; font-weight: bold\">fur</span><span style=\"color: #008000; text-decoration-color: #008000\">\"</span> found in caption <span style=\"color: #008000; text-decoration-color: #008000\">\"The image depicts an animated character resembling an anthro canine with black and gray</span>\n",
       "<span style=\"color: #c6ca24; text-decoration-color: #c6ca24; font-weight: bold\">fur</span><span style=\"color: #008000; text-decoration-color: #008000\">.\"</span>\n",
       "</pre>\n"
      ],
      "text/plain": [
       "Tag \u001b[32m\"\u001b[0m\u001b[1;38;2;198;202;36mfur\u001b[0m\u001b[32m\"\u001b[0m found in caption \u001b[32m\"The image depicts an animated character resembling an anthro canine with black and gray\u001b[0m\n",
       "\u001b[1;38;2;198;202;36mfur\u001b[0m\u001b[32m.\"\u001b[0m\n"
      ]
     },
     "metadata": {},
     "output_type": "display_data"
    },
    {
     "data": {
      "text/html": [
       "<pre style=\"white-space:pre;overflow-x:auto;line-height:normal;font-family:Menlo,'DejaVu Sans Mono',consolas,'Courier New',monospace\">Tag <span style=\"color: #008000; text-decoration-color: #008000\">\"</span><span style=\"color: #f1d7bc; text-decoration-color: #f1d7bc; font-weight: bold\">canine</span><span style=\"color: #008000; text-decoration-color: #008000\">\"</span> found in caption <span style=\"color: #008000; text-decoration-color: #008000\">\"The image depicts an animated character resembling an anthro </span><span style=\"color: #f1d7bc; text-decoration-color: #f1d7bc; font-weight: bold\">canine</span><span style=\"color: #008000; text-decoration-color: #008000\"> with black and </span>\n",
       "<span style=\"color: #008000; text-decoration-color: #008000\">gray fur.\"</span>\n",
       "</pre>\n"
      ],
      "text/plain": [
       "Tag \u001b[32m\"\u001b[0m\u001b[1;38;2;241;215;188mcanine\u001b[0m\u001b[32m\"\u001b[0m found in caption \u001b[32m\"The image depicts an animated character resembling an anthro \u001b[0m\u001b[1;38;2;241;215;188mcanine\u001b[0m\u001b[32m with black and \u001b[0m\n",
       "\u001b[32mgray fur.\"\u001b[0m\n"
      ]
     },
     "metadata": {},
     "output_type": "display_data"
    },
    {
     "data": {
      "text/html": [
       "<pre style=\"white-space:pre;overflow-x:auto;line-height:normal;font-family:Menlo,'DejaVu Sans Mono',consolas,'Courier New',monospace\">Tag <span style=\"color: #008000; text-decoration-color: #008000\">\"</span><span style=\"color: #a63b95; text-decoration-color: #a63b95; font-weight: bold\">smile</span><span style=\"color: #008000; text-decoration-color: #008000\">\"</span> found in caption <span style=\"color: #008000; text-decoration-color: #008000\">\"It has a playful expression with its eyes closed and a slight </span><span style=\"color: #a63b95; text-decoration-color: #a63b95; font-weight: bold\">smile</span><span style=\"color: #008000; text-decoration-color: #008000\">.\"</span>\n",
       "</pre>\n"
      ],
      "text/plain": [
       "Tag \u001b[32m\"\u001b[0m\u001b[1;38;2;166;59;149msmile\u001b[0m\u001b[32m\"\u001b[0m found in caption \u001b[32m\"It has a playful expression with its eyes closed and a slight \u001b[0m\u001b[1;38;2;166;59;149msmile\u001b[0m\u001b[32m.\"\u001b[0m\n"
      ]
     },
     "metadata": {},
     "output_type": "display_data"
    },
    {
     "data": {
      "text/html": [
       "<pre style=\"white-space:pre;overflow-x:auto;line-height:normal;font-family:Menlo,'DejaVu Sans Mono',consolas,'Courier New',monospace\">\n",
       "\n",
       "<span style=\"font-weight: bold\">C:\\Users\\kade\\Desktop\\training_dir_staging\\1_furry_sticker\\2b95b2d52c86f274dbe76eb23f5230d6.txt</span>\n",
       "\n",
       "</pre>\n"
      ],
      "text/plain": [
       "\n",
       "\n",
       "\u001b[1mC:\\Users\\kade\\Desktop\\training_dir_staging\\1_furry_sticker\\2b95b2d52c86f274dbe76eb23f5230d6.txt\u001b[0m\n",
       "\n"
      ]
     },
     "metadata": {},
     "output_type": "display_data"
    },
    {
     "data": {
      "text/html": [
       "<pre style=\"white-space:pre;overflow-x:auto;line-height:normal;font-family:Menlo,'DejaVu Sans Mono',consolas,'Courier New',monospace\">Tag <span style=\"color: #008000; text-decoration-color: #008000\">\"</span><span style=\"color: #7feae7; text-decoration-color: #7feae7; font-weight: bold\">collar</span><span style=\"color: #008000; text-decoration-color: #008000\">\"</span> found in caption <span style=\"color: #008000; text-decoration-color: #008000\">\"It has green eyes and a pink </span><span style=\"color: #7feae7; text-decoration-color: #7feae7; font-weight: bold\">collar</span><span style=\"color: #008000; text-decoration-color: #008000\">.\"</span>\n",
       "</pre>\n"
      ],
      "text/plain": [
       "Tag \u001b[32m\"\u001b[0m\u001b[1;38;2;127;234;231mcollar\u001b[0m\u001b[32m\"\u001b[0m found in caption \u001b[32m\"It has green eyes and a pink \u001b[0m\u001b[1;38;2;127;234;231mcollar\u001b[0m\u001b[32m.\"\u001b[0m\n"
      ]
     },
     "metadata": {},
     "output_type": "display_data"
    },
    {
     "data": {
      "text/html": [
       "<pre style=\"white-space:pre;overflow-x:auto;line-height:normal;font-family:Menlo,'DejaVu Sans Mono',consolas,'Courier New',monospace\">Tag <span style=\"color: #008000; text-decoration-color: #008000\">\"</span><span style=\"color: #2d5ecd; text-decoration-color: #2d5ecd; font-weight: bold\">anthro</span><span style=\"color: #008000; text-decoration-color: #008000\">\"</span> found in caption <span style=\"color: #008000; text-decoration-color: #008000\">\"The image depicts an animated character with the appearance of an </span><span style=\"color: #2d5ecd; text-decoration-color: #2d5ecd; font-weight: bold\">anthro</span><span style=\"color: #008000; text-decoration-color: #008000\"> tabby cat.\"</span>\n",
       "</pre>\n"
      ],
      "text/plain": [
       "Tag \u001b[32m\"\u001b[0m\u001b[1;38;2;45;94;205manthro\u001b[0m\u001b[32m\"\u001b[0m found in caption \u001b[32m\"The image depicts an animated character with the appearance of an \u001b[0m\u001b[1;38;2;45;94;205manthro\u001b[0m\u001b[32m tabby cat.\"\u001b[0m\n"
      ]
     },
     "metadata": {},
     "output_type": "display_data"
    },
    {
     "data": {
      "text/html": [
       "<pre style=\"white-space:pre;overflow-x:auto;line-height:normal;font-family:Menlo,'DejaVu Sans Mono',consolas,'Courier New',monospace\">Tag <span style=\"color: #008000; text-decoration-color: #008000\">\"</span><span style=\"color: #97b484; text-decoration-color: #97b484; font-weight: bold\">green eyes</span><span style=\"color: #008000; text-decoration-color: #008000\">\"</span> found in caption <span style=\"color: #008000; text-decoration-color: #008000\">\"It has </span><span style=\"color: #97b484; text-decoration-color: #97b484; font-weight: bold\">green eyes</span><span style=\"color: #008000; text-decoration-color: #008000\"> and a pink collar.\"</span>\n",
       "</pre>\n"
      ],
      "text/plain": [
       "Tag \u001b[32m\"\u001b[0m\u001b[1;38;2;151;180;132mgreen eyes\u001b[0m\u001b[32m\"\u001b[0m found in caption \u001b[32m\"It has \u001b[0m\u001b[1;38;2;151;180;132mgreen eyes\u001b[0m\u001b[32m and a pink collar.\"\u001b[0m\n"
      ]
     },
     "metadata": {},
     "output_type": "display_data"
    },
    {
     "data": {
      "text/html": [
       "<pre style=\"white-space:pre;overflow-x:auto;line-height:normal;font-family:Menlo,'DejaVu Sans Mono',consolas,'Courier New',monospace\">Tag <span style=\"color: #008000; text-decoration-color: #008000\">\"</span><span style=\"color: #5d3ee0; text-decoration-color: #5d3ee0; font-weight: bold\">cup</span><span style=\"color: #008000; text-decoration-color: #008000\">\"</span> found in caption <span style=\"color: #008000; text-decoration-color: #008000\">\"It is holding a white </span><span style=\"color: #5d3ee0; text-decoration-color: #5d3ee0; font-weight: bold\">cup</span><span style=\"color: #008000; text-decoration-color: #008000\"> containing a hot beverage as evidenced by the steam rising </span>\n",
       "<span style=\"color: #008000; text-decoration-color: #008000\">from it.\"</span>\n",
       "</pre>\n"
      ],
      "text/plain": [
       "Tag \u001b[32m\"\u001b[0m\u001b[1;38;2;93;62;224mcup\u001b[0m\u001b[32m\"\u001b[0m found in caption \u001b[32m\"It is holding a white \u001b[0m\u001b[1;38;2;93;62;224mcup\u001b[0m\u001b[32m containing a hot beverage as evidenced by the steam rising \u001b[0m\n",
       "\u001b[32mfrom it.\"\u001b[0m\n"
      ]
     },
     "metadata": {},
     "output_type": "display_data"
    },
    {
     "data": {
      "text/html": [
       "<pre style=\"white-space:pre;overflow-x:auto;line-height:normal;font-family:Menlo,'DejaVu Sans Mono',consolas,'Courier New',monospace\">Tag <span style=\"color: #008000; text-decoration-color: #008000\">\"</span><span style=\"color: #8b6b02; text-decoration-color: #8b6b02; font-weight: bold\">beverage</span><span style=\"color: #008000; text-decoration-color: #008000\">\"</span> found in caption <span style=\"color: #008000; text-decoration-color: #008000\">\"It is holding a white cup containing a hot </span><span style=\"color: #8b6b02; text-decoration-color: #8b6b02; font-weight: bold\">beverage</span><span style=\"color: #008000; text-decoration-color: #008000\"> as evidenced by the steam </span>\n",
       "<span style=\"color: #008000; text-decoration-color: #008000\">rising from it.\"</span>\n",
       "</pre>\n"
      ],
      "text/plain": [
       "Tag \u001b[32m\"\u001b[0m\u001b[1;38;2;139;107;2mbeverage\u001b[0m\u001b[32m\"\u001b[0m found in caption \u001b[32m\"It is holding a white cup containing a hot \u001b[0m\u001b[1;38;2;139;107;2mbeverage\u001b[0m\u001b[32m as evidenced by the steam \u001b[0m\n",
       "\u001b[32mrising from it.\"\u001b[0m\n"
      ]
     },
     "metadata": {},
     "output_type": "display_data"
    },
    {
     "data": {
      "text/html": [
       "<pre style=\"white-space:pre;overflow-x:auto;line-height:normal;font-family:Menlo,'DejaVu Sans Mono',consolas,'Courier New',monospace\">\n",
       "\n",
       "<span style=\"font-weight: bold\">C:\\Users\\kade\\Desktop\\training_dir_staging\\1_furry_sticker\\2d7427d4c1f515b063211ae7605dfe94.txt</span>\n",
       "\n",
       "</pre>\n"
      ],
      "text/plain": [
       "\n",
       "\n",
       "\u001b[1mC:\\Users\\kade\\Desktop\\training_dir_staging\\1_furry_sticker\\2d7427d4c1f515b063211ae7605dfe94.txt\u001b[0m\n",
       "\n"
      ]
     },
     "metadata": {},
     "output_type": "display_data"
    },
    {
     "data": {
      "text/html": [
       "<pre style=\"white-space:pre;overflow-x:auto;line-height:normal;font-family:Menlo,'DejaVu Sans Mono',consolas,'Courier New',monospace\">Tag <span style=\"color: #008000; text-decoration-color: #008000\">\"</span><span style=\"color: #095eb3; text-decoration-color: #095eb3; font-weight: bold\">anthro</span><span style=\"color: #008000; text-decoration-color: #008000\">\"</span> found in caption <span style=\"color: #008000; text-decoration-color: #008000\">\"The image showcases an cartoony </span><span style=\"color: #095eb3; text-decoration-color: #095eb3; font-weight: bold\">anthro</span><span style=\"color: #008000; text-decoration-color: #008000\"> panther.\"</span>\n",
       "</pre>\n"
      ],
      "text/plain": [
       "Tag \u001b[32m\"\u001b[0m\u001b[1;38;2;9;94;179manthro\u001b[0m\u001b[32m\"\u001b[0m found in caption \u001b[32m\"The image showcases an cartoony \u001b[0m\u001b[1;38;2;9;94;179manthro\u001b[0m\u001b[32m panther.\"\u001b[0m\n"
      ]
     },
     "metadata": {},
     "output_type": "display_data"
    },
    {
     "data": {
      "text/html": [
       "<pre style=\"white-space:pre;overflow-x:auto;line-height:normal;font-family:Menlo,'DejaVu Sans Mono',consolas,'Courier New',monospace\">Tag <span style=\"color: #008000; text-decoration-color: #008000\">\"</span><span style=\"color: #bd484f; text-decoration-color: #bd484f; font-weight: bold\">outline</span><span style=\"color: #008000; text-decoration-color: #008000\">\"</span> found in caption <span style=\"color: #008000; text-decoration-color: #008000\">\"The character has a white </span><span style=\"color: #bd484f; text-decoration-color: #bd484f; font-weight: bold\">outline</span><span style=\"color: #008000; text-decoration-color: #008000\"> around it.\"</span>\n",
       "</pre>\n"
      ],
      "text/plain": [
       "Tag \u001b[32m\"\u001b[0m\u001b[1;38;2;189;72;79moutline\u001b[0m\u001b[32m\"\u001b[0m found in caption \u001b[32m\"The character has a white \u001b[0m\u001b[1;38;2;189;72;79moutline\u001b[0m\u001b[32m around it.\"\u001b[0m\n"
      ]
     },
     "metadata": {},
     "output_type": "display_data"
    },
    {
     "data": {
      "text/html": [
       "<pre style=\"white-space:pre;overflow-x:auto;line-height:normal;font-family:Menlo,'DejaVu Sans Mono',consolas,'Courier New',monospace\">\n",
       "\n",
       "<span style=\"font-weight: bold\">C:\\Users\\kade\\Desktop\\training_dir_staging\\1_furry_sticker\\2dbc05b0a9a9053fbfb97a94f20689a8.txt</span>\n",
       "\n",
       "</pre>\n"
      ],
      "text/plain": [
       "\n",
       "\n",
       "\u001b[1mC:\\Users\\kade\\Desktop\\training_dir_staging\\1_furry_sticker\\2dbc05b0a9a9053fbfb97a94f20689a8.txt\u001b[0m\n",
       "\n"
      ]
     },
     "metadata": {},
     "output_type": "display_data"
    },
    {
     "data": {
      "text/html": [
       "<pre style=\"white-space:pre;overflow-x:auto;line-height:normal;font-family:Menlo,'DejaVu Sans Mono',consolas,'Courier New',monospace\">Tag <span style=\"color: #008000; text-decoration-color: #008000\">\"</span><span style=\"color: #0f3949; text-decoration-color: #0f3949; font-weight: bold\">tongue</span><span style=\"color: #008000; text-decoration-color: #008000\">\"</span> found in caption <span style=\"color: #008000; text-decoration-color: #008000\">\"The character has a playful expression with its </span><span style=\"color: #0f3949; text-decoration-color: #0f3949; font-weight: bold\">tongue</span><span style=\"color: #008000; text-decoration-color: #008000\"> sticking out and a </span>\n",
       "<span style=\"color: #008000; text-decoration-color: #008000\">mischievous glint in its eyes which are squished in a silly manner.\"</span>\n",
       "</pre>\n"
      ],
      "text/plain": [
       "Tag \u001b[32m\"\u001b[0m\u001b[1;38;2;15;57;73mtongue\u001b[0m\u001b[32m\"\u001b[0m found in caption \u001b[32m\"The character has a playful expression with its \u001b[0m\u001b[1;38;2;15;57;73mtongue\u001b[0m\u001b[32m sticking out and a \u001b[0m\n",
       "\u001b[32mmischievous glint in its eyes which are squished in a silly manner.\"\u001b[0m\n"
      ]
     },
     "metadata": {},
     "output_type": "display_data"
    },
    {
     "data": {
      "text/html": [
       "<pre style=\"white-space:pre;overflow-x:auto;line-height:normal;font-family:Menlo,'DejaVu Sans Mono',consolas,'Courier New',monospace\">Tag <span style=\"color: #008000; text-decoration-color: #008000\">\"</span><span style=\"color: #aac566; text-decoration-color: #aac566; font-weight: bold\">fur</span><span style=\"color: #008000; text-decoration-color: #008000\">\"</span> found in caption <span style=\"color: #008000; text-decoration-color: #008000\">\"The </span><span style=\"color: #aac566; text-decoration-color: #aac566; font-weight: bold\">fur</span><span style=\"color: #008000; text-decoration-color: #008000\"> color is a mix of gray and white with black highlights and it has pointed </span>\n",
       "<span style=\"color: #008000; text-decoration-color: #008000\">ears.\"</span>\n",
       "</pre>\n"
      ],
      "text/plain": [
       "Tag \u001b[32m\"\u001b[0m\u001b[1;38;2;170;197;102mfur\u001b[0m\u001b[32m\"\u001b[0m found in caption \u001b[32m\"The \u001b[0m\u001b[1;38;2;170;197;102mfur\u001b[0m\u001b[32m color is a mix of gray and white with black highlights and it has pointed \u001b[0m\n",
       "\u001b[32mears.\"\u001b[0m\n"
      ]
     },
     "metadata": {},
     "output_type": "display_data"
    },
    {
     "data": {
      "text/html": [
       "<pre style=\"white-space:pre;overflow-x:auto;line-height:normal;font-family:Menlo,'DejaVu Sans Mono',consolas,'Courier New',monospace\">Tag <span style=\"color: #008000; text-decoration-color: #008000\">\"</span><span style=\"color: #8500e5; text-decoration-color: #8500e5; font-weight: bold\">anthro</span><span style=\"color: #008000; text-decoration-color: #008000\">\"</span> found in caption <span style=\"color: #008000; text-decoration-color: #008000\">\"The image depicts a cartoonish </span><span style=\"color: #8500e5; text-decoration-color: #8500e5; font-weight: bold\">anthro</span><span style=\"color: #008000; text-decoration-color: #008000\"> canine.\"</span>\n",
       "</pre>\n"
      ],
      "text/plain": [
       "Tag \u001b[32m\"\u001b[0m\u001b[1;38;2;133;0;229manthro\u001b[0m\u001b[32m\"\u001b[0m found in caption \u001b[32m\"The image depicts a cartoonish \u001b[0m\u001b[1;38;2;133;0;229manthro\u001b[0m\u001b[32m canine.\"\u001b[0m\n"
      ]
     },
     "metadata": {},
     "output_type": "display_data"
    },
    {
     "data": {
      "text/html": [
       "<pre style=\"white-space:pre;overflow-x:auto;line-height:normal;font-family:Menlo,'DejaVu Sans Mono',consolas,'Courier New',monospace\">Tag <span style=\"color: #008000; text-decoration-color: #008000\">\"</span><span style=\"color: #0f5f06; text-decoration-color: #0f5f06; font-weight: bold\">canine</span><span style=\"color: #008000; text-decoration-color: #008000\">\"</span> found in caption <span style=\"color: #008000; text-decoration-color: #008000\">\"The image depicts a cartoonish anthro </span><span style=\"color: #0f5f06; text-decoration-color: #0f5f06; font-weight: bold\">canine</span><span style=\"color: #008000; text-decoration-color: #008000\">.\"</span>\n",
       "</pre>\n"
      ],
      "text/plain": [
       "Tag \u001b[32m\"\u001b[0m\u001b[1;38;2;15;95;6mcanine\u001b[0m\u001b[32m\"\u001b[0m found in caption \u001b[32m\"The image depicts a cartoonish anthro \u001b[0m\u001b[1;38;2;15;95;6mcanine\u001b[0m\u001b[32m.\"\u001b[0m\n"
      ]
     },
     "metadata": {},
     "output_type": "display_data"
    },
    {
     "data": {
      "text/html": [
       "<pre style=\"white-space:pre;overflow-x:auto;line-height:normal;font-family:Menlo,'DejaVu Sans Mono',consolas,'Courier New',monospace\">\n",
       "\n",
       "<span style=\"font-weight: bold\">C:\\Users\\kade\\Desktop\\training_dir_staging\\1_furry_sticker\\2ecb7e60de62a4cd44b60b342e6fae90.txt</span>\n",
       "\n",
       "</pre>\n"
      ],
      "text/plain": [
       "\n",
       "\n",
       "\u001b[1mC:\\Users\\kade\\Desktop\\training_dir_staging\\1_furry_sticker\\2ecb7e60de62a4cd44b60b342e6fae90.txt\u001b[0m\n",
       "\n"
      ]
     },
     "metadata": {},
     "output_type": "display_data"
    },
    {
     "data": {
      "text/html": [
       "<pre style=\"white-space:pre;overflow-x:auto;line-height:normal;font-family:Menlo,'DejaVu Sans Mono',consolas,'Courier New',monospace\">Tag <span style=\"color: #008000; text-decoration-color: #008000\">\"</span><span style=\"color: #582ad9; text-decoration-color: #582ad9; font-weight: bold\">fox</span><span style=\"color: #008000; text-decoration-color: #008000\">\"</span> found in caption <span style=\"color: #008000; text-decoration-color: #008000\">\"The image portrays an animated anthro </span><span style=\"color: #582ad9; text-decoration-color: #582ad9; font-weight: bold\">fox</span><span style=\"color: #008000; text-decoration-color: #008000\"> character standing upright with its arms </span>\n",
       "<span style=\"color: #008000; text-decoration-color: #008000\">raised in a celebratory manner.\"</span>\n",
       "</pre>\n"
      ],
      "text/plain": [
       "Tag \u001b[32m\"\u001b[0m\u001b[1;38;2;88;42;217mfox\u001b[0m\u001b[32m\"\u001b[0m found in caption \u001b[32m\"The image portrays an animated anthro \u001b[0m\u001b[1;38;2;88;42;217mfox\u001b[0m\u001b[32m character standing upright with its arms \u001b[0m\n",
       "\u001b[32mraised in a celebratory manner.\"\u001b[0m\n"
      ]
     },
     "metadata": {},
     "output_type": "display_data"
    },
    {
     "data": {
      "text/html": [
       "<pre style=\"white-space:pre;overflow-x:auto;line-height:normal;font-family:Menlo,'DejaVu Sans Mono',consolas,'Courier New',monospace\">Tag <span style=\"color: #008000; text-decoration-color: #008000\">\"</span><span style=\"color: #9af3e8; text-decoration-color: #9af3e8; font-weight: bold\">fox</span><span style=\"color: #008000; text-decoration-color: #008000\">\"</span> found in caption <span style=\"color: #008000; text-decoration-color: #008000\">\"The </span><span style=\"color: #9af3e8; text-decoration-color: #9af3e8; font-weight: bold\">fox</span><span style=\"color: #008000; text-decoration-color: #008000\"> has a red fur coat with white underbelly and a red tail with a white tip.\"</span>\n",
       "</pre>\n"
      ],
      "text/plain": [
       "Tag \u001b[32m\"\u001b[0m\u001b[1;38;2;154;243;232mfox\u001b[0m\u001b[32m\"\u001b[0m found in caption \u001b[32m\"The \u001b[0m\u001b[1;38;2;154;243;232mfox\u001b[0m\u001b[32m has a red fur coat with white underbelly and a red tail with a white tip.\"\u001b[0m\n"
      ]
     },
     "metadata": {},
     "output_type": "display_data"
    },
    {
     "data": {
      "text/html": [
       "<pre style=\"white-space:pre;overflow-x:auto;line-height:normal;font-family:Menlo,'DejaVu Sans Mono',consolas,'Courier New',monospace\">Tag <span style=\"color: #008000; text-decoration-color: #008000\">\"</span><span style=\"color: #de5cc8; text-decoration-color: #de5cc8; font-weight: bold\">fox</span><span style=\"color: #008000; text-decoration-color: #008000\">\"</span> found in caption <span style=\"color: #008000; text-decoration-color: #008000\">\"Above the </span><span style=\"color: #de5cc8; text-decoration-color: #de5cc8; font-weight: bold\">fox</span><span style=\"color: #008000; text-decoration-color: #008000\"> there's a word 'YAY!' written in black with a large white outline </span>\n",
       "<span style=\"color: #008000; text-decoration-color: #008000\">emphasizing its celebratory mood.\"</span>\n",
       "</pre>\n"
      ],
      "text/plain": [
       "Tag \u001b[32m\"\u001b[0m\u001b[1;38;2;222;92;200mfox\u001b[0m\u001b[32m\"\u001b[0m found in caption \u001b[32m\"Above the \u001b[0m\u001b[1;38;2;222;92;200mfox\u001b[0m\u001b[32m there's a word 'YAY!' written in black with a large white outline \u001b[0m\n",
       "\u001b[32memphasizing its celebratory mood.\"\u001b[0m\n"
      ]
     },
     "metadata": {},
     "output_type": "display_data"
    },
    {
     "data": {
      "text/html": [
       "<pre style=\"white-space:pre;overflow-x:auto;line-height:normal;font-family:Menlo,'DejaVu Sans Mono',consolas,'Courier New',monospace\">Tag <span style=\"color: #008000; text-decoration-color: #008000\">\"</span><span style=\"color: #53abab; text-decoration-color: #53abab; font-weight: bold\">anthro</span><span style=\"color: #008000; text-decoration-color: #008000\">\"</span> found in caption <span style=\"color: #008000; text-decoration-color: #008000\">\"The image portrays an animated </span><span style=\"color: #53abab; text-decoration-color: #53abab; font-weight: bold\">anthro</span><span style=\"color: #008000; text-decoration-color: #008000\"> fox character standing upright with its arms </span>\n",
       "<span style=\"color: #008000; text-decoration-color: #008000\">raised in a celebratory manner.\"</span>\n",
       "</pre>\n"
      ],
      "text/plain": [
       "Tag \u001b[32m\"\u001b[0m\u001b[1;38;2;83;171;171manthro\u001b[0m\u001b[32m\"\u001b[0m found in caption \u001b[32m\"The image portrays an animated \u001b[0m\u001b[1;38;2;83;171;171manthro\u001b[0m\u001b[32m fox character standing upright with its arms \u001b[0m\n",
       "\u001b[32mraised in a celebratory manner.\"\u001b[0m\n"
      ]
     },
     "metadata": {},
     "output_type": "display_data"
    },
    {
     "data": {
      "text/html": [
       "<pre style=\"white-space:pre;overflow-x:auto;line-height:normal;font-family:Menlo,'DejaVu Sans Mono',consolas,'Courier New',monospace\">Tag <span style=\"color: #008000; text-decoration-color: #008000\">\"</span><span style=\"color: #b6e2ea; text-decoration-color: #b6e2ea; font-weight: bold\">fur</span><span style=\"color: #008000; text-decoration-color: #008000\">\"</span> found in caption <span style=\"color: #008000; text-decoration-color: #008000\">\"The fox has a red </span><span style=\"color: #b6e2ea; text-decoration-color: #b6e2ea; font-weight: bold\">fur</span><span style=\"color: #008000; text-decoration-color: #008000\"> coat with white underbelly and a red tail with a white tip.\"</span>\n",
       "</pre>\n"
      ],
      "text/plain": [
       "Tag \u001b[32m\"\u001b[0m\u001b[1;38;2;182;226;234mfur\u001b[0m\u001b[32m\"\u001b[0m found in caption \u001b[32m\"The fox has a red \u001b[0m\u001b[1;38;2;182;226;234mfur\u001b[0m\u001b[32m coat with white underbelly and a red tail with a white tip.\"\u001b[0m\n"
      ]
     },
     "metadata": {},
     "output_type": "display_data"
    },
    {
     "data": {
      "text/html": [
       "<pre style=\"white-space:pre;overflow-x:auto;line-height:normal;font-family:Menlo,'DejaVu Sans Mono',consolas,'Courier New',monospace\">Tag <span style=\"color: #008000; text-decoration-color: #008000\">\"</span><span style=\"color: #ac33bf; text-decoration-color: #ac33bf; font-weight: bold\">red fur</span><span style=\"color: #008000; text-decoration-color: #008000\">\"</span> found in caption <span style=\"color: #008000; text-decoration-color: #008000\">\"The fox has a </span><span style=\"color: #ac33bf; text-decoration-color: #ac33bf; font-weight: bold\">red fur</span><span style=\"color: #008000; text-decoration-color: #008000\"> coat with white underbelly and a red tail with a white tip.\"</span>\n",
       "</pre>\n"
      ],
      "text/plain": [
       "Tag \u001b[32m\"\u001b[0m\u001b[1;38;2;172;51;191mred fur\u001b[0m\u001b[32m\"\u001b[0m found in caption \u001b[32m\"The fox has a \u001b[0m\u001b[1;38;2;172;51;191mred fur\u001b[0m\u001b[32m coat with white underbelly and a red tail with a white tip.\"\u001b[0m\n"
      ]
     },
     "metadata": {},
     "output_type": "display_data"
    },
    {
     "data": {
      "text/html": [
       "<pre style=\"white-space:pre;overflow-x:auto;line-height:normal;font-family:Menlo,'DejaVu Sans Mono',consolas,'Courier New',monospace\">Tag <span style=\"color: #008000; text-decoration-color: #008000\">\"</span><span style=\"color: #6f9230; text-decoration-color: #6f9230; font-weight: bold\">outline</span><span style=\"color: #008000; text-decoration-color: #008000\">\"</span> found in caption <span style=\"color: #008000; text-decoration-color: #008000\">\"Above the fox there's a word 'YAY!' written in black with a large white </span><span style=\"color: #6f9230; text-decoration-color: #6f9230; font-weight: bold\">outline</span><span style=\"color: #008000; text-decoration-color: #008000\"> </span>\n",
       "<span style=\"color: #008000; text-decoration-color: #008000\">emphasizing its celebratory mood.\"</span>\n",
       "</pre>\n"
      ],
      "text/plain": [
       "Tag \u001b[32m\"\u001b[0m\u001b[1;38;2;111;146;48moutline\u001b[0m\u001b[32m\"\u001b[0m found in caption \u001b[32m\"Above the fox there's a word 'YAY!' written in black with a large white \u001b[0m\u001b[1;38;2;111;146;48moutline\u001b[0m\u001b[32m \u001b[0m\n",
       "\u001b[32memphasizing its celebratory mood.\"\u001b[0m\n"
      ]
     },
     "metadata": {},
     "output_type": "display_data"
    },
    {
     "data": {
      "text/html": [
       "<pre style=\"white-space:pre;overflow-x:auto;line-height:normal;font-family:Menlo,'DejaVu Sans Mono',consolas,'Courier New',monospace\">Tag <span style=\"color: #008000; text-decoration-color: #008000\">\"</span><span style=\"color: #c2de5c; text-decoration-color: #c2de5c; font-weight: bold\">outline</span><span style=\"color: #008000; text-decoration-color: #008000\">\"</span> found in caption <span style=\"color: #008000; text-decoration-color: #008000\">\"The character has a white </span><span style=\"color: #c2de5c; text-decoration-color: #c2de5c; font-weight: bold\">outline</span><span style=\"color: #008000; text-decoration-color: #008000\"> around it.\"</span>\n",
       "</pre>\n"
      ],
      "text/plain": [
       "Tag \u001b[32m\"\u001b[0m\u001b[1;38;2;194;222;92moutline\u001b[0m\u001b[32m\"\u001b[0m found in caption \u001b[32m\"The character has a white \u001b[0m\u001b[1;38;2;194;222;92moutline\u001b[0m\u001b[32m around it.\"\u001b[0m\n"
      ]
     },
     "metadata": {},
     "output_type": "display_data"
    },
    {
     "data": {
      "text/html": [
       "<pre style=\"white-space:pre;overflow-x:auto;line-height:normal;font-family:Menlo,'DejaVu Sans Mono',consolas,'Courier New',monospace\">Tag <span style=\"color: #008000; text-decoration-color: #008000\">\"</span><span style=\"color: #735470; text-decoration-color: #735470; font-weight: bold\">smile</span><span style=\"color: #008000; text-decoration-color: #008000\">\"</span> found in caption <span style=\"color: #008000; text-decoration-color: #008000\">\"It has big open-mouthed </span><span style=\"color: #735470; text-decoration-color: #735470; font-weight: bold\">smile</span><span style=\"color: #008000; text-decoration-color: #008000\"> indicating excitement or joy.\"</span>\n",
       "</pre>\n"
      ],
      "text/plain": [
       "Tag \u001b[32m\"\u001b[0m\u001b[1;38;2;115;84;112msmile\u001b[0m\u001b[32m\"\u001b[0m found in caption \u001b[32m\"It has big open-mouthed \u001b[0m\u001b[1;38;2;115;84;112msmile\u001b[0m\u001b[32m indicating excitement or joy.\"\u001b[0m\n"
      ]
     },
     "metadata": {},
     "output_type": "display_data"
    },
    {
     "data": {
      "text/html": [
       "<pre style=\"white-space:pre;overflow-x:auto;line-height:normal;font-family:Menlo,'DejaVu Sans Mono',consolas,'Courier New',monospace\">Tag <span style=\"color: #008000; text-decoration-color: #008000\">\"</span><span style=\"color: #47b50d; text-decoration-color: #47b50d; font-weight: bold\">tail</span><span style=\"color: #008000; text-decoration-color: #008000\">\"</span> found in caption <span style=\"color: #008000; text-decoration-color: #008000\">\"The fox has a red fur coat with white underbelly and a red </span><span style=\"color: #47b50d; text-decoration-color: #47b50d; font-weight: bold\">tail</span><span style=\"color: #008000; text-decoration-color: #008000\"> with a white tip.\"</span>\n",
       "</pre>\n"
      ],
      "text/plain": [
       "Tag \u001b[32m\"\u001b[0m\u001b[1;38;2;71;181;13mtail\u001b[0m\u001b[32m\"\u001b[0m found in caption \u001b[32m\"The fox has a red fur coat with white underbelly and a red \u001b[0m\u001b[1;38;2;71;181;13mtail\u001b[0m\u001b[32m with a white tip.\"\u001b[0m\n"
      ]
     },
     "metadata": {},
     "output_type": "display_data"
    },
    {
     "data": {
      "text/html": [
       "<pre style=\"white-space:pre;overflow-x:auto;line-height:normal;font-family:Menlo,'DejaVu Sans Mono',consolas,'Courier New',monospace\">\n",
       "\n",
       "<span style=\"font-weight: bold\">C:\\Users\\kade\\Desktop\\training_dir_staging\\1_furry_sticker\\3a12abc329a5913967328896b6f284f3.txt</span>\n",
       "\n",
       "</pre>\n"
      ],
      "text/plain": [
       "\n",
       "\n",
       "\u001b[1mC:\\Users\\kade\\Desktop\\training_dir_staging\\1_furry_sticker\\3a12abc329a5913967328896b6f284f3.txt\u001b[0m\n",
       "\n"
      ]
     },
     "metadata": {},
     "output_type": "display_data"
    },
    {
     "data": {
      "text/html": [
       "<pre style=\"white-space:pre;overflow-x:auto;line-height:normal;font-family:Menlo,'DejaVu Sans Mono',consolas,'Courier New',monospace\">Tag <span style=\"color: #008000; text-decoration-color: #008000\">\"</span><span style=\"color: #a5fb49; text-decoration-color: #a5fb49; font-weight: bold\">anthro</span><span style=\"color: #008000; text-decoration-color: #008000\">\"</span> found in caption <span style=\"color: #008000; text-decoration-color: #008000\">\"The image showcases an </span><span style=\"color: #a5fb49; text-decoration-color: #a5fb49; font-weight: bold\">anthro</span><span style=\"color: #008000; text-decoration-color: #008000\"> tabby cat with an orange fur coat.\"</span>\n",
       "</pre>\n"
      ],
      "text/plain": [
       "Tag \u001b[32m\"\u001b[0m\u001b[1;38;2;165;251;73manthro\u001b[0m\u001b[32m\"\u001b[0m found in caption \u001b[32m\"The image showcases an \u001b[0m\u001b[1;38;2;165;251;73manthro\u001b[0m\u001b[32m tabby cat with an orange fur coat.\"\u001b[0m\n"
      ]
     },
     "metadata": {},
     "output_type": "display_data"
    },
    {
     "data": {
      "text/html": [
       "<pre style=\"white-space:pre;overflow-x:auto;line-height:normal;font-family:Menlo,'DejaVu Sans Mono',consolas,'Courier New',monospace\">Tag <span style=\"color: #008000; text-decoration-color: #008000\">\"</span><span style=\"color: #28a88f; text-decoration-color: #28a88f; font-weight: bold\">green eyes</span><span style=\"color: #008000; text-decoration-color: #008000\">\"</span> found in caption <span style=\"color: #008000; text-decoration-color: #008000\">\"It has </span><span style=\"color: #28a88f; text-decoration-color: #28a88f; font-weight: bold\">green eyes</span><span style=\"color: #008000; text-decoration-color: #008000\"> and a playful and content expression.\"</span>\n",
       "</pre>\n"
      ],
      "text/plain": [
       "Tag \u001b[32m\"\u001b[0m\u001b[1;38;2;40;168;143mgreen eyes\u001b[0m\u001b[32m\"\u001b[0m found in caption \u001b[32m\"It has \u001b[0m\u001b[1;38;2;40;168;143mgreen eyes\u001b[0m\u001b[32m and a playful and content expression.\"\u001b[0m\n"
      ]
     },
     "metadata": {},
     "output_type": "display_data"
    },
    {
     "data": {
      "text/html": [
       "<pre style=\"white-space:pre;overflow-x:auto;line-height:normal;font-family:Menlo,'DejaVu Sans Mono',consolas,'Courier New',monospace\">Tag <span style=\"color: #008000; text-decoration-color: #008000\">\"</span><span style=\"color: #394dd1; text-decoration-color: #394dd1; font-weight: bold\">fur</span><span style=\"color: #008000; text-decoration-color: #008000\">\"</span> found in caption <span style=\"color: #008000; text-decoration-color: #008000\">\"The image showcases an anthro tabby cat with an orange </span><span style=\"color: #394dd1; text-decoration-color: #394dd1; font-weight: bold\">fur</span><span style=\"color: #008000; text-decoration-color: #008000\"> coat.\"</span>\n",
       "</pre>\n"
      ],
      "text/plain": [
       "Tag \u001b[32m\"\u001b[0m\u001b[1;38;2;57;77;209mfur\u001b[0m\u001b[32m\"\u001b[0m found in caption \u001b[32m\"The image showcases an anthro tabby cat with an orange \u001b[0m\u001b[1;38;2;57;77;209mfur\u001b[0m\u001b[32m coat.\"\u001b[0m\n"
      ]
     },
     "metadata": {},
     "output_type": "display_data"
    },
    {
     "data": {
      "text/html": [
       "<pre style=\"white-space:pre;overflow-x:auto;line-height:normal;font-family:Menlo,'DejaVu Sans Mono',consolas,'Courier New',monospace\">Tag <span style=\"color: #008000; text-decoration-color: #008000\">\"</span><span style=\"color: #58b354; text-decoration-color: #58b354; font-weight: bold\">food</span><span style=\"color: #008000; text-decoration-color: #008000\">\"</span> found in caption <span style=\"color: #008000; text-decoration-color: #008000\">\"The character is resting on a red couch next to a white bowl filled with fish shaped </span>\n",
       "<span style=\"color: #008000; text-decoration-color: #008000\">dry cat </span><span style=\"color: #58b354; text-decoration-color: #58b354; font-weight: bold\">food</span><span style=\"color: #008000; text-decoration-color: #008000\">.\"</span>\n",
       "</pre>\n"
      ],
      "text/plain": [
       "Tag \u001b[32m\"\u001b[0m\u001b[1;38;2;88;179;84mfood\u001b[0m\u001b[32m\"\u001b[0m found in caption \u001b[32m\"The character is resting on a red couch next to a white bowl filled with fish shaped \u001b[0m\n",
       "\u001b[32mdry cat \u001b[0m\u001b[1;38;2;88;179;84mfood\u001b[0m\u001b[32m.\"\u001b[0m\n"
      ]
     },
     "metadata": {},
     "output_type": "display_data"
    },
    {
     "data": {
      "text/html": [
       "<pre style=\"white-space:pre;overflow-x:auto;line-height:normal;font-family:Menlo,'DejaVu Sans Mono',consolas,'Courier New',monospace\">Tag <span style=\"color: #008000; text-decoration-color: #008000\">\"</span><span style=\"color: #ab855a; text-decoration-color: #ab855a; font-weight: bold\">bowl</span><span style=\"color: #008000; text-decoration-color: #008000\">\"</span> found in caption <span style=\"color: #008000; text-decoration-color: #008000\">\"The character is resting on a red couch next to a white </span><span style=\"color: #ab855a; text-decoration-color: #ab855a; font-weight: bold\">bowl</span><span style=\"color: #008000; text-decoration-color: #008000\"> filled with fish shaped </span>\n",
       "<span style=\"color: #008000; text-decoration-color: #008000\">dry cat food.\"</span>\n",
       "</pre>\n"
      ],
      "text/plain": [
       "Tag \u001b[32m\"\u001b[0m\u001b[1;38;2;171;133;90mbowl\u001b[0m\u001b[32m\"\u001b[0m found in caption \u001b[32m\"The character is resting on a red couch next to a white \u001b[0m\u001b[1;38;2;171;133;90mbowl\u001b[0m\u001b[32m filled with fish shaped \u001b[0m\n",
       "\u001b[32mdry cat food.\"\u001b[0m\n"
      ]
     },
     "metadata": {},
     "output_type": "display_data"
    },
    {
     "data": {
      "text/html": [
       "<pre style=\"white-space:pre;overflow-x:auto;line-height:normal;font-family:Menlo,'DejaVu Sans Mono',consolas,'Courier New',monospace\">\n",
       "\n",
       "<span style=\"font-weight: bold\">C:\\Users\\kade\\Desktop\\training_dir_staging\\1_furry_sticker\\3c0feb90f445fd0a32d2a70d595d9a0f.txt</span>\n",
       "\n",
       "</pre>\n"
      ],
      "text/plain": [
       "\n",
       "\n",
       "\u001b[1mC:\\Users\\kade\\Desktop\\training_dir_staging\\1_furry_sticker\\3c0feb90f445fd0a32d2a70d595d9a0f.txt\u001b[0m\n",
       "\n"
      ]
     },
     "metadata": {},
     "output_type": "display_data"
    },
    {
     "data": {
      "text/html": [
       "<pre style=\"white-space:pre;overflow-x:auto;line-height:normal;font-family:Menlo,'DejaVu Sans Mono',consolas,'Courier New',monospace\">Tag <span style=\"color: #008000; text-decoration-color: #008000\">\"</span><span style=\"color: #806801; text-decoration-color: #806801; font-weight: bold\">collar</span><span style=\"color: #008000; text-decoration-color: #008000\">\"</span> found in caption <span style=\"color: #008000; text-decoration-color: #008000\">\"It is wearing a red </span><span style=\"color: #806801; text-decoration-color: #806801; font-weight: bold\">collar</span><span style=\"color: #008000; text-decoration-color: #008000\"> with a gold cat head medal on it.\"</span>\n",
       "</pre>\n"
      ],
      "text/plain": [
       "Tag \u001b[32m\"\u001b[0m\u001b[1;38;2;128;104;1mcollar\u001b[0m\u001b[32m\"\u001b[0m found in caption \u001b[32m\"It is wearing a red \u001b[0m\u001b[1;38;2;128;104;1mcollar\u001b[0m\u001b[32m with a gold cat head medal on it.\"\u001b[0m\n"
      ]
     },
     "metadata": {},
     "output_type": "display_data"
    },
    {
     "data": {
      "text/html": [
       "<pre style=\"white-space:pre;overflow-x:auto;line-height:normal;font-family:Menlo,'DejaVu Sans Mono',consolas,'Courier New',monospace\">Tag <span style=\"color: #008000; text-decoration-color: #008000\">\"</span><span style=\"color: #35cbfe; text-decoration-color: #35cbfe; font-weight: bold\">pawpads</span><span style=\"color: #008000; text-decoration-color: #008000\">\"</span> found in caption <span style=\"color: #008000; text-decoration-color: #008000\">\"It has brown fur and orange </span><span style=\"color: #35cbfe; text-decoration-color: #35cbfe; font-weight: bold\">pawpads</span><span style=\"color: #008000; text-decoration-color: #008000\">.\"</span>\n",
       "</pre>\n"
      ],
      "text/plain": [
       "Tag \u001b[32m\"\u001b[0m\u001b[1;38;2;53;203;254mpawpads\u001b[0m\u001b[32m\"\u001b[0m found in caption \u001b[32m\"It has brown fur and orange \u001b[0m\u001b[1;38;2;53;203;254mpawpads\u001b[0m\u001b[32m.\"\u001b[0m\n"
      ]
     },
     "metadata": {},
     "output_type": "display_data"
    },
    {
     "data": {
      "text/html": [
       "<pre style=\"white-space:pre;overflow-x:auto;line-height:normal;font-family:Menlo,'DejaVu Sans Mono',consolas,'Courier New',monospace\">Tag <span style=\"color: #008000; text-decoration-color: #008000\">\"</span><span style=\"color: #a1770d; text-decoration-color: #a1770d; font-weight: bold\">anthro</span><span style=\"color: #008000; text-decoration-color: #008000\">\"</span> found in caption <span style=\"color: #008000; text-decoration-color: #008000\">\"The background is black. There's a tabby cat </span><span style=\"color: #a1770d; text-decoration-color: #a1770d; font-weight: bold\">anthro</span><span style=\"color: #008000; text-decoration-color: #008000\"> in the foreground.\"</span>\n",
       "</pre>\n"
      ],
      "text/plain": [
       "Tag \u001b[32m\"\u001b[0m\u001b[1;38;2;161;119;13manthro\u001b[0m\u001b[32m\"\u001b[0m found in caption \u001b[32m\"The background is black. There's a tabby cat \u001b[0m\u001b[1;38;2;161;119;13manthro\u001b[0m\u001b[32m in the foreground.\"\u001b[0m\n"
      ]
     },
     "metadata": {},
     "output_type": "display_data"
    },
    {
     "data": {
      "text/html": [
       "<pre style=\"white-space:pre;overflow-x:auto;line-height:normal;font-family:Menlo,'DejaVu Sans Mono',consolas,'Courier New',monospace\">Tag <span style=\"color: #008000; text-decoration-color: #008000\">\"</span><span style=\"color: #dd73f3; text-decoration-color: #dd73f3; font-weight: bold\">fur</span><span style=\"color: #008000; text-decoration-color: #008000\">\"</span> found in caption <span style=\"color: #008000; text-decoration-color: #008000\">\"It has brown </span><span style=\"color: #dd73f3; text-decoration-color: #dd73f3; font-weight: bold\">fur</span><span style=\"color: #008000; text-decoration-color: #008000\"> and orange pawpads.\"</span>\n",
       "</pre>\n"
      ],
      "text/plain": [
       "Tag \u001b[32m\"\u001b[0m\u001b[1;38;2;221;115;243mfur\u001b[0m\u001b[32m\"\u001b[0m found in caption \u001b[32m\"It has brown \u001b[0m\u001b[1;38;2;221;115;243mfur\u001b[0m\u001b[32m and orange pawpads.\"\u001b[0m\n"
      ]
     },
     "metadata": {},
     "output_type": "display_data"
    },
    {
     "data": {
      "text/html": [
       "<pre style=\"white-space:pre;overflow-x:auto;line-height:normal;font-family:Menlo,'DejaVu Sans Mono',consolas,'Courier New',monospace\">Tag <span style=\"color: #008000; text-decoration-color: #008000\">\"</span><span style=\"color: #1011bc; text-decoration-color: #1011bc; font-weight: bold\">tabby cat</span><span style=\"color: #008000; text-decoration-color: #008000\">\"</span> found in caption <span style=\"color: #008000; text-decoration-color: #008000\">\"The background is black. There's a </span><span style=\"color: #1011bc; text-decoration-color: #1011bc; font-weight: bold\">tabby cat</span><span style=\"color: #008000; text-decoration-color: #008000\"> anthro in the foreground.\"</span>\n",
       "</pre>\n"
      ],
      "text/plain": [
       "Tag \u001b[32m\"\u001b[0m\u001b[1;38;2;16;17;188mtabby cat\u001b[0m\u001b[32m\"\u001b[0m found in caption \u001b[32m\"The background is black. There's a \u001b[0m\u001b[1;38;2;16;17;188mtabby cat\u001b[0m\u001b[32m anthro in the foreground.\"\u001b[0m\n"
      ]
     },
     "metadata": {},
     "output_type": "display_data"
    },
    {
     "data": {
      "text/html": [
       "<pre style=\"white-space:pre;overflow-x:auto;line-height:normal;font-family:Menlo,'DejaVu Sans Mono',consolas,'Courier New',monospace\">Tag <span style=\"color: #008000; text-decoration-color: #008000\">\"</span><span style=\"color: #6c4833; text-decoration-color: #6c4833; font-weight: bold\">blush</span><span style=\"color: #008000; text-decoration-color: #008000\">\"</span> found in caption <span style=\"color: #008000; text-decoration-color: #008000\">\"It has a small </span><span style=\"color: #6c4833; text-decoration-color: #6c4833; font-weight: bold\">blush</span><span style=\"color: #008000; text-decoration-color: #008000\"> on his cheeks.\"</span>\n",
       "</pre>\n"
      ],
      "text/plain": [
       "Tag \u001b[32m\"\u001b[0m\u001b[1;38;2;108;72;51mblush\u001b[0m\u001b[32m\"\u001b[0m found in caption \u001b[32m\"It has a small \u001b[0m\u001b[1;38;2;108;72;51mblush\u001b[0m\u001b[32m on his cheeks.\"\u001b[0m\n"
      ]
     },
     "metadata": {},
     "output_type": "display_data"
    },
    {
     "data": {
      "text/html": [
       "<pre style=\"white-space:pre;overflow-x:auto;line-height:normal;font-family:Menlo,'DejaVu Sans Mono',consolas,'Courier New',monospace\">\n",
       "\n",
       "<span style=\"font-weight: bold\">C:\\Users\\kade\\Desktop\\training_dir_staging\\1_furry_sticker\\3c3c9b21f695ab5433c806acd9d3f635.txt</span>\n",
       "\n",
       "</pre>\n"
      ],
      "text/plain": [
       "\n",
       "\n",
       "\u001b[1mC:\\Users\\kade\\Desktop\\training_dir_staging\\1_furry_sticker\\3c3c9b21f695ab5433c806acd9d3f635.txt\u001b[0m\n",
       "\n"
      ]
     },
     "metadata": {},
     "output_type": "display_data"
    },
    {
     "data": {
      "text/html": [
       "<pre style=\"white-space:pre;overflow-x:auto;line-height:normal;font-family:Menlo,'DejaVu Sans Mono',consolas,'Courier New',monospace\">Tag <span style=\"color: #008000; text-decoration-color: #008000\">\"</span><span style=\"color: #c5e951; text-decoration-color: #c5e951; font-weight: bold\">anthro</span><span style=\"color: #008000; text-decoration-color: #008000\">\"</span> found in caption <span style=\"color: #008000; text-decoration-color: #008000\">\"In the center of the image is an </span><span style=\"color: #c5e951; text-decoration-color: #c5e951; font-weight: bold\">anthro</span><span style=\"color: #008000; text-decoration-color: #008000\"> red panda.\"</span>\n",
       "</pre>\n"
      ],
      "text/plain": [
       "Tag \u001b[32m\"\u001b[0m\u001b[1;38;2;197;233;81manthro\u001b[0m\u001b[32m\"\u001b[0m found in caption \u001b[32m\"In the center of the image is an \u001b[0m\u001b[1;38;2;197;233;81manthro\u001b[0m\u001b[32m red panda.\"\u001b[0m\n"
      ]
     },
     "metadata": {},
     "output_type": "display_data"
    },
    {
     "data": {
      "text/html": [
       "<pre style=\"white-space:pre;overflow-x:auto;line-height:normal;font-family:Menlo,'DejaVu Sans Mono',consolas,'Courier New',monospace\">Tag <span style=\"color: #008000; text-decoration-color: #008000\">\"</span><span style=\"color: #26c17d; text-decoration-color: #26c17d; font-weight: bold\">red panda</span><span style=\"color: #008000; text-decoration-color: #008000\">\"</span> found in caption <span style=\"color: #008000; text-decoration-color: #008000\">\"In the center of the image is an anthro </span><span style=\"color: #26c17d; text-decoration-color: #26c17d; font-weight: bold\">red panda</span><span style=\"color: #008000; text-decoration-color: #008000\">.\"</span>\n",
       "</pre>\n"
      ],
      "text/plain": [
       "Tag \u001b[32m\"\u001b[0m\u001b[1;38;2;38;193;125mred panda\u001b[0m\u001b[32m\"\u001b[0m found in caption \u001b[32m\"In the center of the image is an anthro \u001b[0m\u001b[1;38;2;38;193;125mred panda\u001b[0m\u001b[32m.\"\u001b[0m\n"
      ]
     },
     "metadata": {},
     "output_type": "display_data"
    },
    {
     "data": {
      "text/html": [
       "<pre style=\"white-space:pre;overflow-x:auto;line-height:normal;font-family:Menlo,'DejaVu Sans Mono',consolas,'Courier New',monospace\">Tag <span style=\"color: #008000; text-decoration-color: #008000\">\"</span><span style=\"color: #15281c; text-decoration-color: #15281c; font-weight: bold\">hair</span><span style=\"color: #008000; text-decoration-color: #008000\">\"</span> found in caption <span style=\"color: #008000; text-decoration-color: #008000\">\"It has black </span><span style=\"color: #15281c; text-decoration-color: #15281c; font-weight: bold\">hair</span><span style=\"color: #008000; text-decoration-color: #008000\"> with blue ends and white fur and white ears with red accents. It's </span>\n",
       "<span style=\"color: #008000; text-decoration-color: #008000\">chest and hands are white with his hand ending in black fur.\"</span>\n",
       "</pre>\n"
      ],
      "text/plain": [
       "Tag \u001b[32m\"\u001b[0m\u001b[1;38;2;21;40;28mhair\u001b[0m\u001b[32m\"\u001b[0m found in caption \u001b[32m\"It has black \u001b[0m\u001b[1;38;2;21;40;28mhair\u001b[0m\u001b[32m with blue ends and white fur and white ears with red accents. It's \u001b[0m\n",
       "\u001b[32mchest and hands are white with his hand ending in black fur.\"\u001b[0m\n"
      ]
     },
     "metadata": {},
     "output_type": "display_data"
    },
    {
     "data": {
      "text/html": [
       "<pre style=\"white-space:pre;overflow-x:auto;line-height:normal;font-family:Menlo,'DejaVu Sans Mono',consolas,'Courier New',monospace\">Tag <span style=\"color: #008000; text-decoration-color: #008000\">\"</span><span style=\"color: #af522c; text-decoration-color: #af522c; font-weight: bold\">fur</span><span style=\"color: #008000; text-decoration-color: #008000\">\"</span> found in caption <span style=\"color: #008000; text-decoration-color: #008000\">\"It has black hair with blue ends and white </span><span style=\"color: #af522c; text-decoration-color: #af522c; font-weight: bold\">fur</span><span style=\"color: #008000; text-decoration-color: #008000\"> and white ears with red accents. It's </span>\n",
       "<span style=\"color: #008000; text-decoration-color: #008000\">chest and hands are white with his hand ending in black </span><span style=\"color: #af522c; text-decoration-color: #af522c; font-weight: bold\">fur</span><span style=\"color: #008000; text-decoration-color: #008000\">.\"</span>\n",
       "</pre>\n"
      ],
      "text/plain": [
       "Tag \u001b[32m\"\u001b[0m\u001b[1;38;2;175;82;44mfur\u001b[0m\u001b[32m\"\u001b[0m found in caption \u001b[32m\"It has black hair with blue ends and white \u001b[0m\u001b[1;38;2;175;82;44mfur\u001b[0m\u001b[32m and white ears with red accents. It's \u001b[0m\n",
       "\u001b[32mchest and hands are white with his hand ending in black \u001b[0m\u001b[1;38;2;175;82;44mfur\u001b[0m\u001b[32m.\"\u001b[0m\n"
      ]
     },
     "metadata": {},
     "output_type": "display_data"
    },
    {
     "data": {
      "text/html": [
       "<pre style=\"white-space:pre;overflow-x:auto;line-height:normal;font-family:Menlo,'DejaVu Sans Mono',consolas,'Courier New',monospace\">Tag <span style=\"color: #008000; text-decoration-color: #008000\">\"</span><span style=\"color: #6f4733; text-decoration-color: #6f4733; font-weight: bold\">blue eyes</span><span style=\"color: #008000; text-decoration-color: #008000\">\"</span> found in caption <span style=\"color: #008000; text-decoration-color: #008000\">\"It is smiling and looking off to the right with it's </span><span style=\"color: #6f4733; text-decoration-color: #6f4733; font-weight: bold\">blue eyes</span><span style=\"color: #008000; text-decoration-color: #008000\">.\"</span>\n",
       "</pre>\n"
      ],
      "text/plain": [
       "Tag \u001b[32m\"\u001b[0m\u001b[1;38;2;111;71;51mblue eyes\u001b[0m\u001b[32m\"\u001b[0m found in caption \u001b[32m\"It is smiling and looking off to the right with it's \u001b[0m\u001b[1;38;2;111;71;51mblue eyes\u001b[0m\u001b[32m.\"\u001b[0m\n"
      ]
     },
     "metadata": {},
     "output_type": "display_data"
    },
    {
     "data": {
      "text/html": [
       "<pre style=\"white-space:pre;overflow-x:auto;line-height:normal;font-family:Menlo,'DejaVu Sans Mono',consolas,'Courier New',monospace\">Tag <span style=\"color: #008000; text-decoration-color: #008000\">\"</span><span style=\"color: #8de007; text-decoration-color: #8de007; font-weight: bold\">white fur</span><span style=\"color: #008000; text-decoration-color: #008000\">\"</span> found in caption <span style=\"color: #008000; text-decoration-color: #008000\">\"It has black hair with blue ends and </span><span style=\"color: #8de007; text-decoration-color: #8de007; font-weight: bold\">white fur</span><span style=\"color: #008000; text-decoration-color: #008000\"> and white ears with red accents. </span>\n",
       "<span style=\"color: #008000; text-decoration-color: #008000\">It's chest and hands are white with his hand ending in black fur.\"</span>\n",
       "</pre>\n"
      ],
      "text/plain": [
       "Tag \u001b[32m\"\u001b[0m\u001b[1;38;2;141;224;7mwhite fur\u001b[0m\u001b[32m\"\u001b[0m found in caption \u001b[32m\"It has black hair with blue ends and \u001b[0m\u001b[1;38;2;141;224;7mwhite fur\u001b[0m\u001b[32m and white ears with red accents. \u001b[0m\n",
       "\u001b[32mIt's chest and hands are white with his hand ending in black fur.\"\u001b[0m\n"
      ]
     },
     "metadata": {},
     "output_type": "display_data"
    },
    {
     "data": {
      "text/html": [
       "<pre style=\"white-space:pre;overflow-x:auto;line-height:normal;font-family:Menlo,'DejaVu Sans Mono',consolas,'Courier New',monospace\">Tag <span style=\"color: #008000; text-decoration-color: #008000\">\"</span><span style=\"color: #c1b39f; text-decoration-color: #c1b39f; font-weight: bold\">black hair</span><span style=\"color: #008000; text-decoration-color: #008000\">\"</span> found in caption <span style=\"color: #008000; text-decoration-color: #008000\">\"It has </span><span style=\"color: #c1b39f; text-decoration-color: #c1b39f; font-weight: bold\">black hair</span><span style=\"color: #008000; text-decoration-color: #008000\"> with blue ends and white fur and white ears with red accents. </span>\n",
       "<span style=\"color: #008000; text-decoration-color: #008000\">It's chest and hands are white with his hand ending in black fur.\"</span>\n",
       "</pre>\n"
      ],
      "text/plain": [
       "Tag \u001b[32m\"\u001b[0m\u001b[1;38;2;193;179;159mblack hair\u001b[0m\u001b[32m\"\u001b[0m found in caption \u001b[32m\"It has \u001b[0m\u001b[1;38;2;193;179;159mblack hair\u001b[0m\u001b[32m with blue ends and white fur and white ears with red accents. \u001b[0m\n",
       "\u001b[32mIt's chest and hands are white with his hand ending in black fur.\"\u001b[0m\n"
      ]
     },
     "metadata": {},
     "output_type": "display_data"
    },
    {
     "data": {
      "text/html": [
       "<pre style=\"white-space:pre;overflow-x:auto;line-height:normal;font-family:Menlo,'DejaVu Sans Mono',consolas,'Courier New',monospace\">\n",
       "\n",
       "<span style=\"font-weight: bold\">C:\\Users\\kade\\Desktop\\training_dir_staging\\1_furry_sticker\\4130b426cf410e21596e60f281ee38d7.txt</span>\n",
       "\n",
       "</pre>\n"
      ],
      "text/plain": [
       "\n",
       "\n",
       "\u001b[1mC:\\Users\\kade\\Desktop\\training_dir_staging\\1_furry_sticker\\4130b426cf410e21596e60f281ee38d7.txt\u001b[0m\n",
       "\n"
      ]
     },
     "metadata": {},
     "output_type": "display_data"
    },
    {
     "data": {
      "text/html": [
       "<pre style=\"white-space:pre;overflow-x:auto;line-height:normal;font-family:Menlo,'DejaVu Sans Mono',consolas,'Courier New',monospace\">Tag <span style=\"color: #008000; text-decoration-color: #008000\">\"</span><span style=\"color: #07f10e; text-decoration-color: #07f10e; font-weight: bold\">furry sticker</span><span style=\"color: #008000; text-decoration-color: #008000\">\"</span> found in caption <span style=\"color: #008000; text-decoration-color: #008000\">\"This image is a </span><span style=\"color: #07f10e; text-decoration-color: #07f10e; font-weight: bold\">furry sticker</span><span style=\"color: #008000; text-decoration-color: #008000\"> of two anthro animals one that appears to be an</span>\n",
       "<span style=\"color: #008000; text-decoration-color: #008000\">fox and the other a ych.\"</span>\n",
       "</pre>\n"
      ],
      "text/plain": [
       "Tag \u001b[32m\"\u001b[0m\u001b[1;38;2;7;241;14mfurry sticker\u001b[0m\u001b[32m\"\u001b[0m found in caption \u001b[32m\"This image is a \u001b[0m\u001b[1;38;2;7;241;14mfurry sticker\u001b[0m\u001b[32m of two anthro animals one that appears to be an\u001b[0m\n",
       "\u001b[32mfox and the other a ych.\"\u001b[0m\n"
      ]
     },
     "metadata": {},
     "output_type": "display_data"
    },
    {
     "data": {
      "text/html": [
       "<pre style=\"white-space:pre;overflow-x:auto;line-height:normal;font-family:Menlo,'DejaVu Sans Mono',consolas,'Courier New',monospace\">Tag <span style=\"color: #008000; text-decoration-color: #008000\">\"</span><span style=\"color: #484f59; text-decoration-color: #484f59; font-weight: bold\">fox</span><span style=\"color: #008000; text-decoration-color: #008000\">\"</span> found in caption <span style=\"color: #008000; text-decoration-color: #008000\">\"This image is a furry sticker of two anthro animals one that appears to be an </span><span style=\"color: #484f59; text-decoration-color: #484f59; font-weight: bold\">fox</span><span style=\"color: #008000; text-decoration-color: #008000\"> and </span>\n",
       "<span style=\"color: #008000; text-decoration-color: #008000\">the other a ych.\"</span>\n",
       "</pre>\n"
      ],
      "text/plain": [
       "Tag \u001b[32m\"\u001b[0m\u001b[1;38;2;72;79;89mfox\u001b[0m\u001b[32m\"\u001b[0m found in caption \u001b[32m\"This image is a furry sticker of two anthro animals one that appears to be an \u001b[0m\u001b[1;38;2;72;79;89mfox\u001b[0m\u001b[32m and \u001b[0m\n",
       "\u001b[32mthe other a ych.\"\u001b[0m\n"
      ]
     },
     "metadata": {},
     "output_type": "display_data"
    },
    {
     "data": {
      "text/html": [
       "<pre style=\"white-space:pre;overflow-x:auto;line-height:normal;font-family:Menlo,'DejaVu Sans Mono',consolas,'Courier New',monospace\">Tag <span style=\"color: #008000; text-decoration-color: #008000\">\"</span><span style=\"color: #144804; text-decoration-color: #144804; font-weight: bold\">fox</span><span style=\"color: #008000; text-decoration-color: #008000\">\"</span> found in caption <span style=\"color: #008000; text-decoration-color: #008000\">\"The </span><span style=\"color: #144804; text-decoration-color: #144804; font-weight: bold\">fox</span><span style=\"color: #008000; text-decoration-color: #008000\"> is orange and white with its eyes closed and a content expression while the </span>\n",
       "<span style=\"color: #008000; text-decoration-color: #008000\">anthro ych is blue and white.\"</span>\n",
       "</pre>\n"
      ],
      "text/plain": [
       "Tag \u001b[32m\"\u001b[0m\u001b[1;38;2;20;72;4mfox\u001b[0m\u001b[32m\"\u001b[0m found in caption \u001b[32m\"The \u001b[0m\u001b[1;38;2;20;72;4mfox\u001b[0m\u001b[32m is orange and white with its eyes closed and a content expression while the \u001b[0m\n",
       "\u001b[32manthro ych is blue and white.\"\u001b[0m\n"
      ]
     },
     "metadata": {},
     "output_type": "display_data"
    },
    {
     "data": {
      "text/html": [
       "<pre style=\"white-space:pre;overflow-x:auto;line-height:normal;font-family:Menlo,'DejaVu Sans Mono',consolas,'Courier New',monospace\">Tag <span style=\"color: #008000; text-decoration-color: #008000\">\"</span><span style=\"color: #9c47cb; text-decoration-color: #9c47cb; font-weight: bold\">fox</span><span style=\"color: #008000; text-decoration-color: #008000\">\"</span> found in caption <span style=\"color: #008000; text-decoration-color: #008000\">\"The </span><span style=\"color: #9c47cb; text-decoration-color: #9c47cb; font-weight: bold\">fox</span><span style=\"color: #008000; text-decoration-color: #008000\"> is petting the anthro ych's head.\"</span>\n",
       "</pre>\n"
      ],
      "text/plain": [
       "Tag \u001b[32m\"\u001b[0m\u001b[1;38;2;156;71;203mfox\u001b[0m\u001b[32m\"\u001b[0m found in caption \u001b[32m\"The \u001b[0m\u001b[1;38;2;156;71;203mfox\u001b[0m\u001b[32m is petting the anthro ych's head.\"\u001b[0m\n"
      ]
     },
     "metadata": {},
     "output_type": "display_data"
    },
    {
     "data": {
      "text/html": [
       "<pre style=\"white-space:pre;overflow-x:auto;line-height:normal;font-family:Menlo,'DejaVu Sans Mono',consolas,'Courier New',monospace\">Tag <span style=\"color: #008000; text-decoration-color: #008000\">\"</span><span style=\"color: #c71a14; text-decoration-color: #c71a14; font-weight: bold\">fox</span><span style=\"color: #008000; text-decoration-color: #008000\">\"</span> found in caption <span style=\"color: #008000; text-decoration-color: #008000\">\"The </span><span style=\"color: #c71a14; text-decoration-color: #c71a14; font-weight: bold\">fox</span><span style=\"color: #008000; text-decoration-color: #008000\"> has a white outline and the ych a blue outline around it.\"</span>\n",
       "</pre>\n"
      ],
      "text/plain": [
       "Tag \u001b[32m\"\u001b[0m\u001b[1;38;2;199;26;20mfox\u001b[0m\u001b[32m\"\u001b[0m found in caption \u001b[32m\"The \u001b[0m\u001b[1;38;2;199;26;20mfox\u001b[0m\u001b[32m has a white outline and the ych a blue outline around it.\"\u001b[0m\n"
      ]
     },
     "metadata": {},
     "output_type": "display_data"
    },
    {
     "data": {
      "text/html": [
       "<pre style=\"white-space:pre;overflow-x:auto;line-height:normal;font-family:Menlo,'DejaVu Sans Mono',consolas,'Courier New',monospace\">Tag <span style=\"color: #008000; text-decoration-color: #008000\">\"</span><span style=\"color: #f6f34a; text-decoration-color: #f6f34a; font-weight: bold\">anthro</span><span style=\"color: #008000; text-decoration-color: #008000\">\"</span> found in caption <span style=\"color: #008000; text-decoration-color: #008000\">\"This image is a furry sticker of two </span><span style=\"color: #f6f34a; text-decoration-color: #f6f34a; font-weight: bold\">anthro</span><span style=\"color: #008000; text-decoration-color: #008000\"> animals one that appears to be an fox </span>\n",
       "<span style=\"color: #008000; text-decoration-color: #008000\">and the other a ych.\"</span>\n",
       "</pre>\n"
      ],
      "text/plain": [
       "Tag \u001b[32m\"\u001b[0m\u001b[1;38;2;246;243;74manthro\u001b[0m\u001b[32m\"\u001b[0m found in caption \u001b[32m\"This image is a furry sticker of two \u001b[0m\u001b[1;38;2;246;243;74manthro\u001b[0m\u001b[32m animals one that appears to be an fox \u001b[0m\n",
       "\u001b[32mand the other a ych.\"\u001b[0m\n"
      ]
     },
     "metadata": {},
     "output_type": "display_data"
    },
    {
     "data": {
      "text/html": [
       "<pre style=\"white-space:pre;overflow-x:auto;line-height:normal;font-family:Menlo,'DejaVu Sans Mono',consolas,'Courier New',monospace\">Tag <span style=\"color: #008000; text-decoration-color: #008000\">\"</span><span style=\"color: #1e8b76; text-decoration-color: #1e8b76; font-weight: bold\">anthro</span><span style=\"color: #008000; text-decoration-color: #008000\">\"</span> found in caption <span style=\"color: #008000; text-decoration-color: #008000\">\"The fox is orange and white with its eyes closed and a content expression while the </span>\n",
       "<span style=\"color: #1e8b76; text-decoration-color: #1e8b76; font-weight: bold\">anthro</span><span style=\"color: #008000; text-decoration-color: #008000\"> ych is blue and white.\"</span>\n",
       "</pre>\n"
      ],
      "text/plain": [
       "Tag \u001b[32m\"\u001b[0m\u001b[1;38;2;30;139;118manthro\u001b[0m\u001b[32m\"\u001b[0m found in caption \u001b[32m\"The fox is orange and white with its eyes closed and a content expression while the \u001b[0m\n",
       "\u001b[1;38;2;30;139;118manthro\u001b[0m\u001b[32m ych is blue and white.\"\u001b[0m\n"
      ]
     },
     "metadata": {},
     "output_type": "display_data"
    },
    {
     "data": {
      "text/html": [
       "<pre style=\"white-space:pre;overflow-x:auto;line-height:normal;font-family:Menlo,'DejaVu Sans Mono',consolas,'Courier New',monospace\">Tag <span style=\"color: #008000; text-decoration-color: #008000\">\"</span><span style=\"color: #5c13a5; text-decoration-color: #5c13a5; font-weight: bold\">anthro</span><span style=\"color: #008000; text-decoration-color: #008000\">\"</span> found in caption <span style=\"color: #008000; text-decoration-color: #008000\">\"The fox is petting the </span><span style=\"color: #5c13a5; text-decoration-color: #5c13a5; font-weight: bold\">anthro</span><span style=\"color: #008000; text-decoration-color: #008000\"> ych's head.\"</span>\n",
       "</pre>\n"
      ],
      "text/plain": [
       "Tag \u001b[32m\"\u001b[0m\u001b[1;38;2;92;19;165manthro\u001b[0m\u001b[32m\"\u001b[0m found in caption \u001b[32m\"The fox is petting the \u001b[0m\u001b[1;38;2;92;19;165manthro\u001b[0m\u001b[32m ych's head.\"\u001b[0m\n"
      ]
     },
     "metadata": {},
     "output_type": "display_data"
    },
    {
     "data": {
      "text/html": [
       "<pre style=\"white-space:pre;overflow-x:auto;line-height:normal;font-family:Menlo,'DejaVu Sans Mono',consolas,'Courier New',monospace\">Tag <span style=\"color: #008000; text-decoration-color: #008000\">\"</span><span style=\"color: #c9ab1d; text-decoration-color: #c9ab1d; font-weight: bold\">anthro</span><span style=\"color: #008000; text-decoration-color: #008000\">\"</span> found in caption <span style=\"color: #008000; text-decoration-color: #008000\">\"Above the </span><span style=\"color: #c9ab1d; text-decoration-color: #c9ab1d; font-weight: bold\">anthro</span><span style=\"color: #008000; text-decoration-color: #008000\"> ych there's a text that reads 'PAT' indicating the action being </span>\n",
       "<span style=\"color: #008000; text-decoration-color: #008000\">depicted.\"</span>\n",
       "</pre>\n"
      ],
      "text/plain": [
       "Tag \u001b[32m\"\u001b[0m\u001b[1;38;2;201;171;29manthro\u001b[0m\u001b[32m\"\u001b[0m found in caption \u001b[32m\"Above the \u001b[0m\u001b[1;38;2;201;171;29manthro\u001b[0m\u001b[32m ych there's a text that reads 'PAT' indicating the action being \u001b[0m\n",
       "\u001b[32mdepicted.\"\u001b[0m\n"
      ]
     },
     "metadata": {},
     "output_type": "display_data"
    },
    {
     "data": {
      "text/html": [
       "<pre style=\"white-space:pre;overflow-x:auto;line-height:normal;font-family:Menlo,'DejaVu Sans Mono',consolas,'Courier New',monospace\">Tag <span style=\"color: #008000; text-decoration-color: #008000\">\"</span><span style=\"color: #017059; text-decoration-color: #017059; font-weight: bold\">eyes closed</span><span style=\"color: #008000; text-decoration-color: #008000\">\"</span> found in caption <span style=\"color: #008000; text-decoration-color: #008000\">\"The fox is orange and white with its </span><span style=\"color: #017059; text-decoration-color: #017059; font-weight: bold\">eyes closed</span><span style=\"color: #008000; text-decoration-color: #008000\"> and a content expression while</span>\n",
       "<span style=\"color: #008000; text-decoration-color: #008000\">the anthro ych is blue and white.\"</span>\n",
       "</pre>\n"
      ],
      "text/plain": [
       "Tag \u001b[32m\"\u001b[0m\u001b[1;38;2;1;112;89meyes closed\u001b[0m\u001b[32m\"\u001b[0m found in caption \u001b[32m\"The fox is orange and white with its \u001b[0m\u001b[1;38;2;1;112;89meyes closed\u001b[0m\u001b[32m and a content expression while\u001b[0m\n",
       "\u001b[32mthe anthro ych is blue and white.\"\u001b[0m\n"
      ]
     },
     "metadata": {},
     "output_type": "display_data"
    },
    {
     "data": {
      "text/html": [
       "<pre style=\"white-space:pre;overflow-x:auto;line-height:normal;font-family:Menlo,'DejaVu Sans Mono',consolas,'Courier New',monospace\">Tag <span style=\"color: #008000; text-decoration-color: #008000\">\"</span><span style=\"color: #194a4e; text-decoration-color: #194a4e; font-weight: bold\">text</span><span style=\"color: #008000; text-decoration-color: #008000\">\"</span> found in caption <span style=\"color: #008000; text-decoration-color: #008000\">\"Above the anthro ych there's a </span><span style=\"color: #194a4e; text-decoration-color: #194a4e; font-weight: bold\">text</span><span style=\"color: #008000; text-decoration-color: #008000\"> that reads 'PAT' indicating the action being </span>\n",
       "<span style=\"color: #008000; text-decoration-color: #008000\">depicted.\"</span>\n",
       "</pre>\n"
      ],
      "text/plain": [
       "Tag \u001b[32m\"\u001b[0m\u001b[1;38;2;25;74;78mtext\u001b[0m\u001b[32m\"\u001b[0m found in caption \u001b[32m\"Above the anthro ych there's a \u001b[0m\u001b[1;38;2;25;74;78mtext\u001b[0m\u001b[32m that reads 'PAT' indicating the action being \u001b[0m\n",
       "\u001b[32mdepicted.\"\u001b[0m\n"
      ]
     },
     "metadata": {},
     "output_type": "display_data"
    },
    {
     "data": {
      "text/html": [
       "<pre style=\"white-space:pre;overflow-x:auto;line-height:normal;font-family:Menlo,'DejaVu Sans Mono',consolas,'Courier New',monospace\">Tag <span style=\"color: #008000; text-decoration-color: #008000\">\"</span><span style=\"color: #01ae28; text-decoration-color: #01ae28; font-weight: bold\">sticker</span><span style=\"color: #008000; text-decoration-color: #008000\">\"</span> found in caption <span style=\"color: #008000; text-decoration-color: #008000\">\"This image is a furry </span><span style=\"color: #01ae28; text-decoration-color: #01ae28; font-weight: bold\">sticker</span><span style=\"color: #008000; text-decoration-color: #008000\"> of two anthro animals one that appears to be an fox </span>\n",
       "<span style=\"color: #008000; text-decoration-color: #008000\">and the other a ych.\"</span>\n",
       "</pre>\n"
      ],
      "text/plain": [
       "Tag \u001b[32m\"\u001b[0m\u001b[1;38;2;1;174;40msticker\u001b[0m\u001b[32m\"\u001b[0m found in caption \u001b[32m\"This image is a furry \u001b[0m\u001b[1;38;2;1;174;40msticker\u001b[0m\u001b[32m of two anthro animals one that appears to be an fox \u001b[0m\n",
       "\u001b[32mand the other a ych.\"\u001b[0m\n"
      ]
     },
     "metadata": {},
     "output_type": "display_data"
    },
    {
     "data": {
      "text/html": [
       "<pre style=\"white-space:pre;overflow-x:auto;line-height:normal;font-family:Menlo,'DejaVu Sans Mono',consolas,'Courier New',monospace\">Tag <span style=\"color: #008000; text-decoration-color: #008000\">\"</span><span style=\"color: #1e9eff; text-decoration-color: #1e9eff; font-weight: bold\">outline</span><span style=\"color: #008000; text-decoration-color: #008000\">\"</span> found in caption <span style=\"color: #008000; text-decoration-color: #008000\">\"The fox has a white </span><span style=\"color: #1e9eff; text-decoration-color: #1e9eff; font-weight: bold\">outline</span><span style=\"color: #008000; text-decoration-color: #008000\"> and the ych a blue </span><span style=\"color: #1e9eff; text-decoration-color: #1e9eff; font-weight: bold\">outline</span><span style=\"color: #008000; text-decoration-color: #008000\"> around it.\"</span>\n",
       "</pre>\n"
      ],
      "text/plain": [
       "Tag \u001b[32m\"\u001b[0m\u001b[1;38;2;30;158;255moutline\u001b[0m\u001b[32m\"\u001b[0m found in caption \u001b[32m\"The fox has a white \u001b[0m\u001b[1;38;2;30;158;255moutline\u001b[0m\u001b[32m and the ych a blue \u001b[0m\u001b[1;38;2;30;158;255moutline\u001b[0m\u001b[32m around it.\"\u001b[0m\n"
      ]
     },
     "metadata": {},
     "output_type": "display_data"
    },
    {
     "data": {
      "text/html": [
       "<pre style=\"white-space:pre;overflow-x:auto;line-height:normal;font-family:Menlo,'DejaVu Sans Mono',consolas,'Courier New',monospace\">\n",
       "\n",
       "<span style=\"font-weight: bold\">C:\\Users\\kade\\Desktop\\training_dir_staging\\1_furry_sticker\\4896b709d1fe529d7d701fe6b410d0f4.txt</span>\n",
       "\n",
       "</pre>\n"
      ],
      "text/plain": [
       "\n",
       "\n",
       "\u001b[1mC:\\Users\\kade\\Desktop\\training_dir_staging\\1_furry_sticker\\4896b709d1fe529d7d701fe6b410d0f4.txt\u001b[0m\n",
       "\n"
      ]
     },
     "metadata": {},
     "output_type": "display_data"
    },
    {
     "data": {
      "text/html": [
       "<pre style=\"white-space:pre;overflow-x:auto;line-height:normal;font-family:Menlo,'DejaVu Sans Mono',consolas,'Courier New',monospace\">Tag <span style=\"color: #008000; text-decoration-color: #008000\">\"</span><span style=\"color: #dd12a1; text-decoration-color: #dd12a1; font-weight: bold\">sergal</span><span style=\"color: #008000; text-decoration-color: #008000\">\"</span> found in caption <span style=\"color: #008000; text-decoration-color: #008000\">\"The </span><span style=\"color: #dd12a1; text-decoration-color: #dd12a1; font-weight: bold\">sergal</span><span style=\"color: #008000; text-decoration-color: #008000\"> has pointed ears and a long tail behind his back.\"</span>\n",
       "</pre>\n"
      ],
      "text/plain": [
       "Tag \u001b[32m\"\u001b[0m\u001b[1;38;2;221;18;161msergal\u001b[0m\u001b[32m\"\u001b[0m found in caption \u001b[32m\"The \u001b[0m\u001b[1;38;2;221;18;161msergal\u001b[0m\u001b[32m has pointed ears and a long tail behind his back.\"\u001b[0m\n"
      ]
     },
     "metadata": {},
     "output_type": "display_data"
    },
    {
     "data": {
      "text/html": [
       "<pre style=\"white-space:pre;overflow-x:auto;line-height:normal;font-family:Menlo,'DejaVu Sans Mono',consolas,'Courier New',monospace\">Tag <span style=\"color: #008000; text-decoration-color: #008000\">\"</span><span style=\"color: #7f730a; text-decoration-color: #7f730a; font-weight: bold\">speech bubble</span><span style=\"color: #008000; text-decoration-color: #008000\">\"</span> found in caption <span style=\"color: #008000; text-decoration-color: #008000\">\"Above the character there is a </span><span style=\"color: #7f730a; text-decoration-color: #7f730a; font-weight: bold\">speech bubble</span><span style=\"color: #008000; text-decoration-color: #008000\"> that reads 'FOOD'.\"</span>\n",
       "</pre>\n"
      ],
      "text/plain": [
       "Tag \u001b[32m\"\u001b[0m\u001b[1;38;2;127;115;10mspeech bubble\u001b[0m\u001b[32m\"\u001b[0m found in caption \u001b[32m\"Above the character there is a \u001b[0m\u001b[1;38;2;127;115;10mspeech bubble\u001b[0m\u001b[32m that reads 'FOOD'.\"\u001b[0m\n"
      ]
     },
     "metadata": {},
     "output_type": "display_data"
    },
    {
     "data": {
      "text/html": [
       "<pre style=\"white-space:pre;overflow-x:auto;line-height:normal;font-family:Menlo,'DejaVu Sans Mono',consolas,'Courier New',monospace\">\n",
       "\n",
       "<span style=\"font-weight: bold\">C:\\Users\\kade\\Desktop\\training_dir_staging\\1_furry_sticker\\51d1cdf4a51c513f026b3f3abbbe1397.txt</span>\n",
       "\n",
       "</pre>\n"
      ],
      "text/plain": [
       "\n",
       "\n",
       "\u001b[1mC:\\Users\\kade\\Desktop\\training_dir_staging\\1_furry_sticker\\51d1cdf4a51c513f026b3f3abbbe1397.txt\u001b[0m\n",
       "\n"
      ]
     },
     "metadata": {},
     "output_type": "display_data"
    },
    {
     "data": {
      "text/html": [
       "<pre style=\"white-space:pre;overflow-x:auto;line-height:normal;font-family:Menlo,'DejaVu Sans Mono',consolas,'Courier New',monospace\">Tag <span style=\"color: #008000; text-decoration-color: #008000\">\"</span><span style=\"color: #14097a; text-decoration-color: #14097a; font-weight: bold\">furry sticker</span><span style=\"color: #008000; text-decoration-color: #008000\">\"</span> found in caption <span style=\"color: #008000; text-decoration-color: #008000\">\"This image is a </span><span style=\"color: #14097a; text-decoration-color: #14097a; font-weight: bold\">furry sticker</span><span style=\"color: #008000; text-decoration-color: #008000\"> of a stylized anthro hyena.\"</span>\n",
       "</pre>\n"
      ],
      "text/plain": [
       "Tag \u001b[32m\"\u001b[0m\u001b[1;38;2;20;9;122mfurry sticker\u001b[0m\u001b[32m\"\u001b[0m found in caption \u001b[32m\"This image is a \u001b[0m\u001b[1;38;2;20;9;122mfurry sticker\u001b[0m\u001b[32m of a stylized anthro hyena.\"\u001b[0m\n"
      ]
     },
     "metadata": {},
     "output_type": "display_data"
    },
    {
     "data": {
      "text/html": [
       "<pre style=\"white-space:pre;overflow-x:auto;line-height:normal;font-family:Menlo,'DejaVu Sans Mono',consolas,'Courier New',monospace\">Tag <span style=\"color: #008000; text-decoration-color: #008000\">\"</span><span style=\"color: #06e6ee; text-decoration-color: #06e6ee; font-weight: bold\">anthro</span><span style=\"color: #008000; text-decoration-color: #008000\">\"</span> found in caption <span style=\"color: #008000; text-decoration-color: #008000\">\"This image is a furry sticker of a stylized </span><span style=\"color: #06e6ee; text-decoration-color: #06e6ee; font-weight: bold\">anthro</span><span style=\"color: #008000; text-decoration-color: #008000\"> hyena.\"</span>\n",
       "</pre>\n"
      ],
      "text/plain": [
       "Tag \u001b[32m\"\u001b[0m\u001b[1;38;2;6;230;238manthro\u001b[0m\u001b[32m\"\u001b[0m found in caption \u001b[32m\"This image is a furry sticker of a stylized \u001b[0m\u001b[1;38;2;6;230;238manthro\u001b[0m\u001b[32m hyena.\"\u001b[0m\n"
      ]
     },
     "metadata": {},
     "output_type": "display_data"
    },
    {
     "data": {
      "text/html": [
       "<pre style=\"white-space:pre;overflow-x:auto;line-height:normal;font-family:Menlo,'DejaVu Sans Mono',consolas,'Courier New',monospace\">Tag <span style=\"color: #008000; text-decoration-color: #008000\">\"</span><span style=\"color: #bf052e; text-decoration-color: #bf052e; font-weight: bold\">blush</span><span style=\"color: #008000; text-decoration-color: #008000\">\"</span> found in caption <span style=\"color: #008000; text-decoration-color: #008000\">\"The hyena has a </span><span style=\"color: #bf052e; text-decoration-color: #bf052e; font-weight: bold\">blush</span><span style=\"color: #008000; text-decoration-color: #008000\">.\"</span>\n",
       "</pre>\n"
      ],
      "text/plain": [
       "Tag \u001b[32m\"\u001b[0m\u001b[1;38;2;191;5;46mblush\u001b[0m\u001b[32m\"\u001b[0m found in caption \u001b[32m\"The hyena has a \u001b[0m\u001b[1;38;2;191;5;46mblush\u001b[0m\u001b[32m.\"\u001b[0m\n"
      ]
     },
     "metadata": {},
     "output_type": "display_data"
    },
    {
     "data": {
      "text/html": [
       "<pre style=\"white-space:pre;overflow-x:auto;line-height:normal;font-family:Menlo,'DejaVu Sans Mono',consolas,'Courier New',monospace\">Tag <span style=\"color: #008000; text-decoration-color: #008000\">\"</span><span style=\"color: #61c5a4; text-decoration-color: #61c5a4; font-weight: bold\">hyena</span><span style=\"color: #008000; text-decoration-color: #008000\">\"</span> found in caption <span style=\"color: #008000; text-decoration-color: #008000\">\"This image is a furry sticker of a stylized anthro </span><span style=\"color: #61c5a4; text-decoration-color: #61c5a4; font-weight: bold\">hyena</span><span style=\"color: #008000; text-decoration-color: #008000\">.\"</span>\n",
       "</pre>\n"
      ],
      "text/plain": [
       "Tag \u001b[32m\"\u001b[0m\u001b[1;38;2;97;197;164mhyena\u001b[0m\u001b[32m\"\u001b[0m found in caption \u001b[32m\"This image is a furry sticker of a stylized anthro \u001b[0m\u001b[1;38;2;97;197;164mhyena\u001b[0m\u001b[32m.\"\u001b[0m\n"
      ]
     },
     "metadata": {},
     "output_type": "display_data"
    },
    {
     "data": {
      "text/html": [
       "<pre style=\"white-space:pre;overflow-x:auto;line-height:normal;font-family:Menlo,'DejaVu Sans Mono',consolas,'Courier New',monospace\">Tag <span style=\"color: #008000; text-decoration-color: #008000\">\"</span><span style=\"color: #3a9478; text-decoration-color: #3a9478; font-weight: bold\">hyena</span><span style=\"color: #008000; text-decoration-color: #008000\">\"</span> found in caption <span style=\"color: #008000; text-decoration-color: #008000\">\"The </span><span style=\"color: #3a9478; text-decoration-color: #3a9478; font-weight: bold\">hyena</span><span style=\"color: #008000; text-decoration-color: #008000\"> has a blush.\"</span>\n",
       "</pre>\n"
      ],
      "text/plain": [
       "Tag \u001b[32m\"\u001b[0m\u001b[1;38;2;58;148;120mhyena\u001b[0m\u001b[32m\"\u001b[0m found in caption \u001b[32m\"The \u001b[0m\u001b[1;38;2;58;148;120mhyena\u001b[0m\u001b[32m has a blush.\"\u001b[0m\n"
      ]
     },
     "metadata": {},
     "output_type": "display_data"
    },
    {
     "data": {
      "text/html": [
       "<pre style=\"white-space:pre;overflow-x:auto;line-height:normal;font-family:Menlo,'DejaVu Sans Mono',consolas,'Courier New',monospace\">Tag <span style=\"color: #008000; text-decoration-color: #008000\">\"</span><span style=\"color: #79db00; text-decoration-color: #79db00; font-weight: bold\">tail</span><span style=\"color: #008000; text-decoration-color: #008000\">\"</span> found in caption <span style=\"color: #008000; text-decoration-color: #008000\">\"It is depicted in a playful or cheeky pose with its </span><span style=\"color: #79db00; text-decoration-color: #79db00; font-weight: bold\">tail</span><span style=\"color: #008000; text-decoration-color: #008000\"> raised and wagging.\"</span>\n",
       "</pre>\n"
      ],
      "text/plain": [
       "Tag \u001b[32m\"\u001b[0m\u001b[1;38;2;121;219;0mtail\u001b[0m\u001b[32m\"\u001b[0m found in caption \u001b[32m\"It is depicted in a playful or cheeky pose with its \u001b[0m\u001b[1;38;2;121;219;0mtail\u001b[0m\u001b[32m raised and wagging.\"\u001b[0m\n"
      ]
     },
     "metadata": {},
     "output_type": "display_data"
    },
    {
     "data": {
      "text/html": [
       "<pre style=\"white-space:pre;overflow-x:auto;line-height:normal;font-family:Menlo,'DejaVu Sans Mono',consolas,'Courier New',monospace\">Tag <span style=\"color: #008000; text-decoration-color: #008000\">\"</span><span style=\"color: #28604f; text-decoration-color: #28604f; font-weight: bold\">outline</span><span style=\"color: #008000; text-decoration-color: #008000\">\"</span> found in caption <span style=\"color: #008000; text-decoration-color: #008000\">\"The character is wearing purple shorts and there's a white </span><span style=\"color: #28604f; text-decoration-color: #28604f; font-weight: bold\">outline</span><span style=\"color: #008000; text-decoration-color: #008000\"> around the </span>\n",
       "<span style=\"color: #008000; text-decoration-color: #008000\">character.\"</span>\n",
       "</pre>\n"
      ],
      "text/plain": [
       "Tag \u001b[32m\"\u001b[0m\u001b[1;38;2;40;96;79moutline\u001b[0m\u001b[32m\"\u001b[0m found in caption \u001b[32m\"The character is wearing purple shorts and there's a white \u001b[0m\u001b[1;38;2;40;96;79moutline\u001b[0m\u001b[32m around the \u001b[0m\n",
       "\u001b[32mcharacter.\"\u001b[0m\n"
      ]
     },
     "metadata": {},
     "output_type": "display_data"
    },
    {
     "data": {
      "text/html": [
       "<pre style=\"white-space:pre;overflow-x:auto;line-height:normal;font-family:Menlo,'DejaVu Sans Mono',consolas,'Courier New',monospace\">\n",
       "\n",
       "<span style=\"font-weight: bold\">C:\\Users\\kade\\Desktop\\training_dir_staging\\1_furry_sticker\\560fb29619d60a588b629ab27cd7b869.txt</span>\n",
       "\n",
       "</pre>\n"
      ],
      "text/plain": [
       "\n",
       "\n",
       "\u001b[1mC:\\Users\\kade\\Desktop\\training_dir_staging\\1_furry_sticker\\560fb29619d60a588b629ab27cd7b869.txt\u001b[0m\n",
       "\n"
      ]
     },
     "metadata": {},
     "output_type": "display_data"
    },
    {
     "data": {
      "text/html": [
       "<pre style=\"white-space:pre;overflow-x:auto;line-height:normal;font-family:Menlo,'DejaVu Sans Mono',consolas,'Courier New',monospace\">Tag <span style=\"color: #008000; text-decoration-color: #008000\">\"</span><span style=\"color: #39bcea; text-decoration-color: #39bcea; font-weight: bold\">anthro</span><span style=\"color: #008000; text-decoration-color: #008000\">\"</span> found in caption <span style=\"color: #008000; text-decoration-color: #008000\">\"This image is a cartoon representation of </span><span style=\"color: #39bcea; text-decoration-color: #39bcea; font-weight: bold\">anthro</span><span style=\"color: #008000; text-decoration-color: #008000\"> rabbit.\"</span>\n",
       "</pre>\n"
      ],
      "text/plain": [
       "Tag \u001b[32m\"\u001b[0m\u001b[1;38;2;57;188;234manthro\u001b[0m\u001b[32m\"\u001b[0m found in caption \u001b[32m\"This image is a cartoon representation of \u001b[0m\u001b[1;38;2;57;188;234manthro\u001b[0m\u001b[32m rabbit.\"\u001b[0m\n"
      ]
     },
     "metadata": {},
     "output_type": "display_data"
    },
    {
     "data": {
      "text/html": [
       "<pre style=\"white-space:pre;overflow-x:auto;line-height:normal;font-family:Menlo,'DejaVu Sans Mono',consolas,'Courier New',monospace\">Tag <span style=\"color: #008000; text-decoration-color: #008000\">\"</span><span style=\"color: #331366; text-decoration-color: #331366; font-weight: bold\">rabbit</span><span style=\"color: #008000; text-decoration-color: #008000\">\"</span> found in caption <span style=\"color: #008000; text-decoration-color: #008000\">\"This image is a cartoon representation of anthro </span><span style=\"color: #331366; text-decoration-color: #331366; font-weight: bold\">rabbit</span><span style=\"color: #008000; text-decoration-color: #008000\">.\"</span>\n",
       "</pre>\n"
      ],
      "text/plain": [
       "Tag \u001b[32m\"\u001b[0m\u001b[1;38;2;51;19;102mrabbit\u001b[0m\u001b[32m\"\u001b[0m found in caption \u001b[32m\"This image is a cartoon representation of anthro \u001b[0m\u001b[1;38;2;51;19;102mrabbit\u001b[0m\u001b[32m.\"\u001b[0m\n"
      ]
     },
     "metadata": {},
     "output_type": "display_data"
    },
    {
     "data": {
      "text/html": [
       "<pre style=\"white-space:pre;overflow-x:auto;line-height:normal;font-family:Menlo,'DejaVu Sans Mono',consolas,'Courier New',monospace\">Tag <span style=\"color: #008000; text-decoration-color: #008000\">\"</span><span style=\"color: #ec5906; text-decoration-color: #ec5906; font-weight: bold\">fur</span><span style=\"color: #008000; text-decoration-color: #008000\">\"</span> found in caption <span style=\"color: #008000; text-decoration-color: #008000\">\"The bunny has a light brown </span><span style=\"color: #ec5906; text-decoration-color: #ec5906; font-weight: bold\">fur</span><span style=\"color: #008000; text-decoration-color: #008000\"> color with some white and pink patches.\"</span>\n",
       "</pre>\n"
      ],
      "text/plain": [
       "Tag \u001b[32m\"\u001b[0m\u001b[1;38;2;236;89;6mfur\u001b[0m\u001b[32m\"\u001b[0m found in caption \u001b[32m\"The bunny has a light brown \u001b[0m\u001b[1;38;2;236;89;6mfur\u001b[0m\u001b[32m color with some white and pink patches.\"\u001b[0m\n"
      ]
     },
     "metadata": {},
     "output_type": "display_data"
    },
    {
     "data": {
      "text/html": [
       "<pre style=\"white-space:pre;overflow-x:auto;line-height:normal;font-family:Menlo,'DejaVu Sans Mono',consolas,'Courier New',monospace\">Tag <span style=\"color: #008000; text-decoration-color: #008000\">\"</span><span style=\"color: #8e88d3; text-decoration-color: #8e88d3; font-weight: bold\">pink nose</span><span style=\"color: #008000; text-decoration-color: #008000\">\"</span> found in caption <span style=\"color: #008000; text-decoration-color: #008000\">\"It has a cheerful expression with round open eyes and a </span><span style=\"color: #8e88d3; text-decoration-color: #8e88d3; font-weight: bold\">pink nose</span><span style=\"color: #008000; text-decoration-color: #008000\">.\"</span>\n",
       "</pre>\n"
      ],
      "text/plain": [
       "Tag \u001b[32m\"\u001b[0m\u001b[1;38;2;142;136;211mpink nose\u001b[0m\u001b[32m\"\u001b[0m found in caption \u001b[32m\"It has a cheerful expression with round open eyes and a \u001b[0m\u001b[1;38;2;142;136;211mpink nose\u001b[0m\u001b[32m.\"\u001b[0m\n"
      ]
     },
     "metadata": {},
     "output_type": "display_data"
    },
    {
     "data": {
      "text/html": [
       "<pre style=\"white-space:pre;overflow-x:auto;line-height:normal;font-family:Menlo,'DejaVu Sans Mono',consolas,'Courier New',monospace\">Tag <span style=\"color: #008000; text-decoration-color: #008000\">\"</span><span style=\"color: #f6d11a; text-decoration-color: #f6d11a; font-weight: bold\">brown fur</span><span style=\"color: #008000; text-decoration-color: #008000\">\"</span> found in caption <span style=\"color: #008000; text-decoration-color: #008000\">\"The bunny has a light </span><span style=\"color: #f6d11a; text-decoration-color: #f6d11a; font-weight: bold\">brown fur</span><span style=\"color: #008000; text-decoration-color: #008000\"> color with some white and pink patches.\"</span>\n",
       "</pre>\n"
      ],
      "text/plain": [
       "Tag \u001b[32m\"\u001b[0m\u001b[1;38;2;246;209;26mbrown fur\u001b[0m\u001b[32m\"\u001b[0m found in caption \u001b[32m\"The bunny has a light \u001b[0m\u001b[1;38;2;246;209;26mbrown fur\u001b[0m\u001b[32m color with some white and pink patches.\"\u001b[0m\n"
      ]
     },
     "metadata": {},
     "output_type": "display_data"
    },
    {
     "data": {
      "text/html": [
       "<pre style=\"white-space:pre;overflow-x:auto;line-height:normal;font-family:Menlo,'DejaVu Sans Mono',consolas,'Courier New',monospace\">\n",
       "\n",
       "<span style=\"font-weight: bold\">C:\\Users\\kade\\Desktop\\training_dir_staging\\1_furry_sticker\\7b7bd6e31e5116408d9cbfe7b7644e1f.txt</span>\n",
       "\n",
       "</pre>\n"
      ],
      "text/plain": [
       "\n",
       "\n",
       "\u001b[1mC:\\Users\\kade\\Desktop\\training_dir_staging\\1_furry_sticker\\7b7bd6e31e5116408d9cbfe7b7644e1f.txt\u001b[0m\n",
       "\n"
      ]
     },
     "metadata": {},
     "output_type": "display_data"
    },
    {
     "data": {
      "text/html": [
       "<pre style=\"white-space:pre;overflow-x:auto;line-height:normal;font-family:Menlo,'DejaVu Sans Mono',consolas,'Courier New',monospace\">Tag <span style=\"color: #008000; text-decoration-color: #008000\">\"</span><span style=\"color: #4c71ed; text-decoration-color: #4c71ed; font-weight: bold\">furry sticker</span><span style=\"color: #008000; text-decoration-color: #008000\">\"</span> found in caption <span style=\"color: #008000; text-decoration-color: #008000\">\"This </span><span style=\"color: #4c71ed; text-decoration-color: #4c71ed; font-weight: bold\">furry sticker</span><span style=\"color: #008000; text-decoration-color: #008000\"> is a stylized animated depiction of anthro fox.\"</span>\n",
       "</pre>\n"
      ],
      "text/plain": [
       "Tag \u001b[32m\"\u001b[0m\u001b[1;38;2;76;113;237mfurry sticker\u001b[0m\u001b[32m\"\u001b[0m found in caption \u001b[32m\"This \u001b[0m\u001b[1;38;2;76;113;237mfurry sticker\u001b[0m\u001b[32m is a stylized animated depiction of anthro fox.\"\u001b[0m\n"
      ]
     },
     "metadata": {},
     "output_type": "display_data"
    },
    {
     "data": {
      "text/html": [
       "<pre style=\"white-space:pre;overflow-x:auto;line-height:normal;font-family:Menlo,'DejaVu Sans Mono',consolas,'Courier New',monospace\">Tag <span style=\"color: #008000; text-decoration-color: #008000\">\"</span><span style=\"color: #6b2fcb; text-decoration-color: #6b2fcb; font-weight: bold\">collar</span><span style=\"color: #008000; text-decoration-color: #008000\">\"</span> found in caption <span style=\"color: #008000; text-decoration-color: #008000\">\"It has green eyes and is wearing a blue </span><span style=\"color: #6b2fcb; text-decoration-color: #6b2fcb; font-weight: bold\">collar</span><span style=\"color: #008000; text-decoration-color: #008000\"> with a silver buckle.\"</span>\n",
       "</pre>\n"
      ],
      "text/plain": [
       "Tag \u001b[32m\"\u001b[0m\u001b[1;38;2;107;47;203mcollar\u001b[0m\u001b[32m\"\u001b[0m found in caption \u001b[32m\"It has green eyes and is wearing a blue \u001b[0m\u001b[1;38;2;107;47;203mcollar\u001b[0m\u001b[32m with a silver buckle.\"\u001b[0m\n"
      ]
     },
     "metadata": {},
     "output_type": "display_data"
    },
    {
     "data": {
      "text/html": [
       "<pre style=\"white-space:pre;overflow-x:auto;line-height:normal;font-family:Menlo,'DejaVu Sans Mono',consolas,'Courier New',monospace\">Tag <span style=\"color: #008000; text-decoration-color: #008000\">\"</span><span style=\"color: #5c5ca4; text-decoration-color: #5c5ca4; font-weight: bold\">fox</span><span style=\"color: #008000; text-decoration-color: #008000\">\"</span> found in caption <span style=\"color: #008000; text-decoration-color: #008000\">\"This furry sticker is a stylized animated depiction of anthro </span><span style=\"color: #5c5ca4; text-decoration-color: #5c5ca4; font-weight: bold\">fox</span><span style=\"color: #008000; text-decoration-color: #008000\">.\"</span>\n",
       "</pre>\n"
      ],
      "text/plain": [
       "Tag \u001b[32m\"\u001b[0m\u001b[1;38;2;92;92;164mfox\u001b[0m\u001b[32m\"\u001b[0m found in caption \u001b[32m\"This furry sticker is a stylized animated depiction of anthro \u001b[0m\u001b[1;38;2;92;92;164mfox\u001b[0m\u001b[32m.\"\u001b[0m\n"
      ]
     },
     "metadata": {},
     "output_type": "display_data"
    },
    {
     "data": {
      "text/html": [
       "<pre style=\"white-space:pre;overflow-x:auto;line-height:normal;font-family:Menlo,'DejaVu Sans Mono',consolas,'Courier New',monospace\">Tag <span style=\"color: #008000; text-decoration-color: #008000\">\"</span><span style=\"color: #c8abdd; text-decoration-color: #c8abdd; font-weight: bold\">green eyes</span><span style=\"color: #008000; text-decoration-color: #008000\">\"</span> found in caption <span style=\"color: #008000; text-decoration-color: #008000\">\"It has </span><span style=\"color: #c8abdd; text-decoration-color: #c8abdd; font-weight: bold\">green eyes</span><span style=\"color: #008000; text-decoration-color: #008000\"> and is wearing a blue collar with a silver buckle.\"</span>\n",
       "</pre>\n"
      ],
      "text/plain": [
       "Tag \u001b[32m\"\u001b[0m\u001b[1;38;2;200;171;221mgreen eyes\u001b[0m\u001b[32m\"\u001b[0m found in caption \u001b[32m\"It has \u001b[0m\u001b[1;38;2;200;171;221mgreen eyes\u001b[0m\u001b[32m and is wearing a blue collar with a silver buckle.\"\u001b[0m\n"
      ]
     },
     "metadata": {},
     "output_type": "display_data"
    },
    {
     "data": {
      "text/html": [
       "<pre style=\"white-space:pre;overflow-x:auto;line-height:normal;font-family:Menlo,'DejaVu Sans Mono',consolas,'Courier New',monospace\">Tag <span style=\"color: #008000; text-decoration-color: #008000\">\"</span><span style=\"color: #2a9db2; text-decoration-color: #2a9db2; font-weight: bold\">anthro</span><span style=\"color: #008000; text-decoration-color: #008000\">\"</span> found in caption <span style=\"color: #008000; text-decoration-color: #008000\">\"This furry sticker is a stylized animated depiction of </span><span style=\"color: #2a9db2; text-decoration-color: #2a9db2; font-weight: bold\">anthro</span><span style=\"color: #008000; text-decoration-color: #008000\"> fox.\"</span>\n",
       "</pre>\n"
      ],
      "text/plain": [
       "Tag \u001b[32m\"\u001b[0m\u001b[1;38;2;42;157;178manthro\u001b[0m\u001b[32m\"\u001b[0m found in caption \u001b[32m\"This furry sticker is a stylized animated depiction of \u001b[0m\u001b[1;38;2;42;157;178manthro\u001b[0m\u001b[32m fox.\"\u001b[0m\n"
      ]
     },
     "metadata": {},
     "output_type": "display_data"
    },
    {
     "data": {
      "text/html": [
       "<pre style=\"white-space:pre;overflow-x:auto;line-height:normal;font-family:Menlo,'DejaVu Sans Mono',consolas,'Courier New',monospace\">Tag <span style=\"color: #008000; text-decoration-color: #008000\">\"</span><span style=\"color: #f06e6c; text-decoration-color: #f06e6c; font-weight: bold\">fur</span><span style=\"color: #008000; text-decoration-color: #008000\">\"</span> found in caption <span style=\"color: #008000; text-decoration-color: #008000\">\"The character has an orange </span><span style=\"color: #f06e6c; text-decoration-color: #f06e6c; font-weight: bold\">fur</span><span style=\"color: #008000; text-decoration-color: #008000\"> coat and white underbelly.\"</span>\n",
       "</pre>\n"
      ],
      "text/plain": [
       "Tag \u001b[32m\"\u001b[0m\u001b[1;38;2;240;110;108mfur\u001b[0m\u001b[32m\"\u001b[0m found in caption \u001b[32m\"The character has an orange \u001b[0m\u001b[1;38;2;240;110;108mfur\u001b[0m\u001b[32m coat and white underbelly.\"\u001b[0m\n"
      ]
     },
     "metadata": {},
     "output_type": "display_data"
    },
    {
     "data": {
      "text/html": [
       "<pre style=\"white-space:pre;overflow-x:auto;line-height:normal;font-family:Menlo,'DejaVu Sans Mono',consolas,'Courier New',monospace\">Tag <span style=\"color: #008000; text-decoration-color: #008000\">\"</span><span style=\"color: #8c20a0; text-decoration-color: #8c20a0; font-weight: bold\">orange fur</span><span style=\"color: #008000; text-decoration-color: #008000\">\"</span> found in caption <span style=\"color: #008000; text-decoration-color: #008000\">\"The character has an </span><span style=\"color: #8c20a0; text-decoration-color: #8c20a0; font-weight: bold\">orange fur</span><span style=\"color: #008000; text-decoration-color: #008000\"> coat and white underbelly.\"</span>\n",
       "</pre>\n"
      ],
      "text/plain": [
       "Tag \u001b[32m\"\u001b[0m\u001b[1;38;2;140;32;160morange fur\u001b[0m\u001b[32m\"\u001b[0m found in caption \u001b[32m\"The character has an \u001b[0m\u001b[1;38;2;140;32;160morange fur\u001b[0m\u001b[32m coat and white underbelly.\"\u001b[0m\n"
      ]
     },
     "metadata": {},
     "output_type": "display_data"
    },
    {
     "data": {
      "text/html": [
       "<pre style=\"white-space:pre;overflow-x:auto;line-height:normal;font-family:Menlo,'DejaVu Sans Mono',consolas,'Courier New',monospace\">\n",
       "\n",
       "<span style=\"font-weight: bold\">C:\\Users\\kade\\Desktop\\training_dir_staging\\1_furry_sticker\\7ba5c31f77820c66bceb515864857325.txt</span>\n",
       "\n",
       "</pre>\n"
      ],
      "text/plain": [
       "\n",
       "\n",
       "\u001b[1mC:\\Users\\kade\\Desktop\\training_dir_staging\\1_furry_sticker\\7ba5c31f77820c66bceb515864857325.txt\u001b[0m\n",
       "\n"
      ]
     },
     "metadata": {},
     "output_type": "display_data"
    },
    {
     "data": {
      "text/html": [
       "<pre style=\"white-space:pre;overflow-x:auto;line-height:normal;font-family:Menlo,'DejaVu Sans Mono',consolas,'Courier New',monospace\">Tag <span style=\"color: #008000; text-decoration-color: #008000\">\"</span><span style=\"color: #0de8ce; text-decoration-color: #0de8ce; font-weight: bold\">lion</span><span style=\"color: #008000; text-decoration-color: #008000\">\"</span> found in caption <span style=\"color: #008000; text-decoration-color: #008000\">\"This sticker depicts animated anthro </span><span style=\"color: #0de8ce; text-decoration-color: #0de8ce; font-weight: bold\">lion</span><span style=\"color: #008000; text-decoration-color: #008000\"> creature with a playful expression.\"</span>\n",
       "</pre>\n"
      ],
      "text/plain": [
       "Tag \u001b[32m\"\u001b[0m\u001b[1;38;2;13;232;206mlion\u001b[0m\u001b[32m\"\u001b[0m found in caption \u001b[32m\"This sticker depicts animated anthro \u001b[0m\u001b[1;38;2;13;232;206mlion\u001b[0m\u001b[32m creature with a playful expression.\"\u001b[0m\n"
      ]
     },
     "metadata": {},
     "output_type": "display_data"
    },
    {
     "data": {
      "text/html": [
       "<pre style=\"white-space:pre;overflow-x:auto;line-height:normal;font-family:Menlo,'DejaVu Sans Mono',consolas,'Courier New',monospace\">Tag <span style=\"color: #008000; text-decoration-color: #008000\">\"</span><span style=\"color: #89c92d; text-decoration-color: #89c92d; font-weight: bold\">anthro</span><span style=\"color: #008000; text-decoration-color: #008000\">\"</span> found in caption <span style=\"color: #008000; text-decoration-color: #008000\">\"This sticker depicts animated </span><span style=\"color: #89c92d; text-decoration-color: #89c92d; font-weight: bold\">anthro</span><span style=\"color: #008000; text-decoration-color: #008000\"> lion creature with a playful expression.\"</span>\n",
       "</pre>\n"
      ],
      "text/plain": [
       "Tag \u001b[32m\"\u001b[0m\u001b[1;38;2;137;201;45manthro\u001b[0m\u001b[32m\"\u001b[0m found in caption \u001b[32m\"This sticker depicts animated \u001b[0m\u001b[1;38;2;137;201;45manthro\u001b[0m\u001b[32m lion creature with a playful expression.\"\u001b[0m\n"
      ]
     },
     "metadata": {},
     "output_type": "display_data"
    },
    {
     "data": {
      "text/html": [
       "<pre style=\"white-space:pre;overflow-x:auto;line-height:normal;font-family:Menlo,'DejaVu Sans Mono',consolas,'Courier New',monospace\">Tag <span style=\"color: #008000; text-decoration-color: #008000\">\"</span><span style=\"color: #50309c; text-decoration-color: #50309c; font-weight: bold\">fur</span><span style=\"color: #008000; text-decoration-color: #008000\">\"</span> found in caption <span style=\"color: #008000; text-decoration-color: #008000\">\"It has light and dark brown </span><span style=\"color: #50309c; text-decoration-color: #50309c; font-weight: bold\">fur</span><span style=\"color: #008000; text-decoration-color: #008000\"> a pink nose and is waving its right cartoonish paw as </span>\n",
       "<span style=\"color: #008000; text-decoration-color: #008000\">if greeting someone.\"</span>\n",
       "</pre>\n"
      ],
      "text/plain": [
       "Tag \u001b[32m\"\u001b[0m\u001b[1;38;2;80;48;156mfur\u001b[0m\u001b[32m\"\u001b[0m found in caption \u001b[32m\"It has light and dark brown \u001b[0m\u001b[1;38;2;80;48;156mfur\u001b[0m\u001b[32m a pink nose and is waving its right cartoonish paw as \u001b[0m\n",
       "\u001b[32mif greeting someone.\"\u001b[0m\n"
      ]
     },
     "metadata": {},
     "output_type": "display_data"
    },
    {
     "data": {
      "text/html": [
       "<pre style=\"white-space:pre;overflow-x:auto;line-height:normal;font-family:Menlo,'DejaVu Sans Mono',consolas,'Courier New',monospace\">Tag <span style=\"color: #008000; text-decoration-color: #008000\">\"</span><span style=\"color: #8be49a; text-decoration-color: #8be49a; font-weight: bold\">text</span><span style=\"color: #008000; text-decoration-color: #008000\">\"</span> found in caption <span style=\"color: #008000; text-decoration-color: #008000\">\"There is also a speech bubble with the </span><span style=\"color: #8be49a; text-decoration-color: #8be49a; font-weight: bold\">text</span><span style=\"color: #008000; text-decoration-color: #008000\"> \"</span>Hey.<span style=\"color: #008000; text-decoration-color: #008000\">\" written inside it above its head.\"</span>\n",
       "</pre>\n"
      ],
      "text/plain": [
       "Tag \u001b[32m\"\u001b[0m\u001b[1;38;2;139;228;154mtext\u001b[0m\u001b[32m\"\u001b[0m found in caption \u001b[32m\"There is also a speech bubble with the \u001b[0m\u001b[1;38;2;139;228;154mtext\u001b[0m\u001b[32m \"\u001b[0mHey.\u001b[32m\" written inside it above its head.\"\u001b[0m\n"
      ]
     },
     "metadata": {},
     "output_type": "display_data"
    },
    {
     "data": {
      "text/html": [
       "<pre style=\"white-space:pre;overflow-x:auto;line-height:normal;font-family:Menlo,'DejaVu Sans Mono',consolas,'Courier New',monospace\">Tag <span style=\"color: #008000; text-decoration-color: #008000\">\"</span><span style=\"color: #aa3527; text-decoration-color: #aa3527; font-weight: bold\">speech bubble</span><span style=\"color: #008000; text-decoration-color: #008000\">\"</span> found in caption <span style=\"color: #008000; text-decoration-color: #008000\">\"There is also a </span><span style=\"color: #aa3527; text-decoration-color: #aa3527; font-weight: bold\">speech bubble</span><span style=\"color: #008000; text-decoration-color: #008000\"> with the text \"</span>Hey.<span style=\"color: #008000; text-decoration-color: #008000\">\" written inside it above </span>\n",
       "<span style=\"color: #008000; text-decoration-color: #008000\">its head.\"</span>\n",
       "</pre>\n"
      ],
      "text/plain": [
       "Tag \u001b[32m\"\u001b[0m\u001b[1;38;2;170;53;39mspeech bubble\u001b[0m\u001b[32m\"\u001b[0m found in caption \u001b[32m\"There is also a \u001b[0m\u001b[1;38;2;170;53;39mspeech bubble\u001b[0m\u001b[32m with the text \"\u001b[0mHey.\u001b[32m\" written inside it above \u001b[0m\n",
       "\u001b[32mits head.\"\u001b[0m\n"
      ]
     },
     "metadata": {},
     "output_type": "display_data"
    },
    {
     "data": {
      "text/html": [
       "<pre style=\"white-space:pre;overflow-x:auto;line-height:normal;font-family:Menlo,'DejaVu Sans Mono',consolas,'Courier New',monospace\">\n",
       "\n",
       "<span style=\"font-weight: bold\">C:\\Users\\kade\\Desktop\\training_dir_staging\\1_furry_sticker\\995650eef692b8280ccbd6bd38f1bbae.txt</span>\n",
       "\n",
       "</pre>\n"
      ],
      "text/plain": [
       "\n",
       "\n",
       "\u001b[1mC:\\Users\\kade\\Desktop\\training_dir_staging\\1_furry_sticker\\995650eef692b8280ccbd6bd38f1bbae.txt\u001b[0m\n",
       "\n"
      ]
     },
     "metadata": {},
     "output_type": "display_data"
    },
    {
     "data": {
      "text/html": [
       "<pre style=\"white-space:pre;overflow-x:auto;line-height:normal;font-family:Menlo,'DejaVu Sans Mono',consolas,'Courier New',monospace\">Tag <span style=\"color: #008000; text-decoration-color: #008000\">\"</span><span style=\"color: #be5679; text-decoration-color: #be5679; font-weight: bold\">anthro</span><span style=\"color: #008000; text-decoration-color: #008000\">\"</span> found in caption <span style=\"color: #008000; text-decoration-color: #008000\">\"This image is a sticker of two </span><span style=\"color: #be5679; text-decoration-color: #be5679; font-weight: bold\">anthro</span><span style=\"color: #008000; text-decoration-color: #008000\"> characters.\"</span>\n",
       "</pre>\n"
      ],
      "text/plain": [
       "Tag \u001b[32m\"\u001b[0m\u001b[1;38;2;190;86;121manthro\u001b[0m\u001b[32m\"\u001b[0m found in caption \u001b[32m\"This image is a sticker of two \u001b[0m\u001b[1;38;2;190;86;121manthro\u001b[0m\u001b[32m characters.\"\u001b[0m\n"
      ]
     },
     "metadata": {},
     "output_type": "display_data"
    },
    {
     "data": {
      "text/html": [
       "<pre style=\"white-space:pre;overflow-x:auto;line-height:normal;font-family:Menlo,'DejaVu Sans Mono',consolas,'Courier New',monospace\">Tag <span style=\"color: #008000; text-decoration-color: #008000\">\"</span><span style=\"color: #43758b; text-decoration-color: #43758b; font-weight: bold\">anthro</span><span style=\"color: #008000; text-decoration-color: #008000\">\"</span> found in caption <span style=\"color: #008000; text-decoration-color: #008000\">\"A tiger is standing upright wearing a cap with an American flag and holding </span><span style=\"color: #43758b; text-decoration-color: #43758b; font-weight: bold\">anthro</span><span style=\"color: #008000; text-decoration-color: #008000\"> </span>\n",
       "<span style=\"color: #008000; text-decoration-color: #008000\">fox around its arms and holding a black mask in front of the fox's face.\"</span>\n",
       "</pre>\n"
      ],
      "text/plain": [
       "Tag \u001b[32m\"\u001b[0m\u001b[1;38;2;67;117;139manthro\u001b[0m\u001b[32m\"\u001b[0m found in caption \u001b[32m\"A tiger is standing upright wearing a cap with an American flag and holding \u001b[0m\u001b[1;38;2;67;117;139manthro\u001b[0m\u001b[32m \u001b[0m\n",
       "\u001b[32mfox around its arms and holding a black mask in front of the fox's face.\"\u001b[0m\n"
      ]
     },
     "metadata": {},
     "output_type": "display_data"
    },
    {
     "data": {
      "text/html": [
       "<pre style=\"white-space:pre;overflow-x:auto;line-height:normal;font-family:Menlo,'DejaVu Sans Mono',consolas,'Courier New',monospace\">Tag <span style=\"color: #008000; text-decoration-color: #008000\">\"</span><span style=\"color: #26b262; text-decoration-color: #26b262; font-weight: bold\">blush</span><span style=\"color: #008000; text-decoration-color: #008000\">\"</span> found in caption <span style=\"color: #008000; text-decoration-color: #008000\">\"The fox has a </span><span style=\"color: #26b262; text-decoration-color: #26b262; font-weight: bold\">blush</span><span style=\"color: #008000; text-decoration-color: #008000\"> on it's face.\"</span>\n",
       "</pre>\n"
      ],
      "text/plain": [
       "Tag \u001b[32m\"\u001b[0m\u001b[1;38;2;38;178;98mblush\u001b[0m\u001b[32m\"\u001b[0m found in caption \u001b[32m\"The fox has a \u001b[0m\u001b[1;38;2;38;178;98mblush\u001b[0m\u001b[32m on it's face.\"\u001b[0m\n"
      ]
     },
     "metadata": {},
     "output_type": "display_data"
    },
    {
     "data": {
      "text/html": [
       "<pre style=\"white-space:pre;overflow-x:auto;line-height:normal;font-family:Menlo,'DejaVu Sans Mono',consolas,'Courier New',monospace\">Tag <span style=\"color: #008000; text-decoration-color: #008000\">\"</span><span style=\"color: #58fc52; text-decoration-color: #58fc52; font-weight: bold\">fox</span><span style=\"color: #008000; text-decoration-color: #008000\">\"</span> found in caption <span style=\"color: #008000; text-decoration-color: #008000\">\"A tiger is standing upright wearing a cap with an American flag and holding anthro </span><span style=\"color: #58fc52; text-decoration-color: #58fc52; font-weight: bold\">fox</span><span style=\"color: #008000; text-decoration-color: #008000\"> </span>\n",
       "<span style=\"color: #008000; text-decoration-color: #008000\">around its arms and holding a black mask in front of the </span><span style=\"color: #58fc52; text-decoration-color: #58fc52; font-weight: bold\">fox</span><span style=\"color: #008000; text-decoration-color: #008000\">'s face.\"</span>\n",
       "</pre>\n"
      ],
      "text/plain": [
       "Tag \u001b[32m\"\u001b[0m\u001b[1;38;2;88;252;82mfox\u001b[0m\u001b[32m\"\u001b[0m found in caption \u001b[32m\"A tiger is standing upright wearing a cap with an American flag and holding anthro \u001b[0m\u001b[1;38;2;88;252;82mfox\u001b[0m\u001b[32m \u001b[0m\n",
       "\u001b[32maround its arms and holding a black mask in front of the \u001b[0m\u001b[1;38;2;88;252;82mfox\u001b[0m\u001b[32m's face.\"\u001b[0m\n"
      ]
     },
     "metadata": {},
     "output_type": "display_data"
    },
    {
     "data": {
      "text/html": [
       "<pre style=\"white-space:pre;overflow-x:auto;line-height:normal;font-family:Menlo,'DejaVu Sans Mono',consolas,'Courier New',monospace\">Tag <span style=\"color: #008000; text-decoration-color: #008000\">\"</span><span style=\"color: #69170d; text-decoration-color: #69170d; font-weight: bold\">fox</span><span style=\"color: #008000; text-decoration-color: #008000\">\"</span> found in caption <span style=\"color: #008000; text-decoration-color: #008000\">\"Above them there's a speech bubble with various symbols including a chain and a </span><span style=\"color: #69170d; text-decoration-color: #69170d; font-weight: bold\">fox</span><span style=\"color: #008000; text-decoration-color: #008000\"> and</span>\n",
       "<span style=\"color: #008000; text-decoration-color: #008000\">an eggplant with a red line crossing it out.\"</span>\n",
       "</pre>\n"
      ],
      "text/plain": [
       "Tag \u001b[32m\"\u001b[0m\u001b[1;38;2;105;23;13mfox\u001b[0m\u001b[32m\"\u001b[0m found in caption \u001b[32m\"Above them there's a speech bubble with various symbols including a chain and a \u001b[0m\u001b[1;38;2;105;23;13mfox\u001b[0m\u001b[32m and\u001b[0m\n",
       "\u001b[32man eggplant with a red line crossing it out.\"\u001b[0m\n"
      ]
     },
     "metadata": {},
     "output_type": "display_data"
    },
    {
     "data": {
      "text/html": [
       "<pre style=\"white-space:pre;overflow-x:auto;line-height:normal;font-family:Menlo,'DejaVu Sans Mono',consolas,'Courier New',monospace\">Tag <span style=\"color: #008000; text-decoration-color: #008000\">\"</span><span style=\"color: #465e34; text-decoration-color: #465e34; font-weight: bold\">fox</span><span style=\"color: #008000; text-decoration-color: #008000\">\"</span> found in caption <span style=\"color: #008000; text-decoration-color: #008000\">\"The </span><span style=\"color: #465e34; text-decoration-color: #465e34; font-weight: bold\">fox</span><span style=\"color: #008000; text-decoration-color: #008000\"> is naked and has a fluffy tail that ends in white.\"</span>\n",
       "</pre>\n"
      ],
      "text/plain": [
       "Tag \u001b[32m\"\u001b[0m\u001b[1;38;2;70;94;52mfox\u001b[0m\u001b[32m\"\u001b[0m found in caption \u001b[32m\"The \u001b[0m\u001b[1;38;2;70;94;52mfox\u001b[0m\u001b[32m is naked and has a fluffy tail that ends in white.\"\u001b[0m\n"
      ]
     },
     "metadata": {},
     "output_type": "display_data"
    },
    {
     "data": {
      "text/html": [
       "<pre style=\"white-space:pre;overflow-x:auto;line-height:normal;font-family:Menlo,'DejaVu Sans Mono',consolas,'Courier New',monospace\">Tag <span style=\"color: #008000; text-decoration-color: #008000\">\"</span><span style=\"color: #92ec58; text-decoration-color: #92ec58; font-weight: bold\">fox</span><span style=\"color: #008000; text-decoration-color: #008000\">\"</span> found in caption <span style=\"color: #008000; text-decoration-color: #008000\">\"The </span><span style=\"color: #92ec58; text-decoration-color: #92ec58; font-weight: bold\">fox</span><span style=\"color: #008000; text-decoration-color: #008000\"> has a blush on it's face.\"</span>\n",
       "</pre>\n"
      ],
      "text/plain": [
       "Tag \u001b[32m\"\u001b[0m\u001b[1;38;2;146;236;88mfox\u001b[0m\u001b[32m\"\u001b[0m found in caption \u001b[32m\"The \u001b[0m\u001b[1;38;2;146;236;88mfox\u001b[0m\u001b[32m has a blush on it's face.\"\u001b[0m\n"
      ]
     },
     "metadata": {},
     "output_type": "display_data"
    },
    {
     "data": {
      "text/html": [
       "<pre style=\"white-space:pre;overflow-x:auto;line-height:normal;font-family:Menlo,'DejaVu Sans Mono',consolas,'Courier New',monospace\">Tag <span style=\"color: #008000; text-decoration-color: #008000\">\"</span><span style=\"color: #1fa5aa; text-decoration-color: #1fa5aa; font-weight: bold\">tiger</span><span style=\"color: #008000; text-decoration-color: #008000\">\"</span> found in caption <span style=\"color: #008000; text-decoration-color: #008000\">\"A </span><span style=\"color: #1fa5aa; text-decoration-color: #1fa5aa; font-weight: bold\">tiger</span><span style=\"color: #008000; text-decoration-color: #008000\"> is standing upright wearing a cap with an American flag and holding anthro </span>\n",
       "<span style=\"color: #008000; text-decoration-color: #008000\">fox around its arms and holding a black mask in front of the fox's face.\"</span>\n",
       "</pre>\n"
      ],
      "text/plain": [
       "Tag \u001b[32m\"\u001b[0m\u001b[1;38;2;31;165;170mtiger\u001b[0m\u001b[32m\"\u001b[0m found in caption \u001b[32m\"A \u001b[0m\u001b[1;38;2;31;165;170mtiger\u001b[0m\u001b[32m is standing upright wearing a cap with an American flag and holding anthro \u001b[0m\n",
       "\u001b[32mfox around its arms and holding a black mask in front of the fox's face.\"\u001b[0m\n"
      ]
     },
     "metadata": {},
     "output_type": "display_data"
    },
    {
     "data": {
      "text/html": [
       "<pre style=\"white-space:pre;overflow-x:auto;line-height:normal;font-family:Menlo,'DejaVu Sans Mono',consolas,'Courier New',monospace\">Tag <span style=\"color: #008000; text-decoration-color: #008000\">\"</span><span style=\"color: #d58088; text-decoration-color: #d58088; font-weight: bold\">tiger</span><span style=\"color: #008000; text-decoration-color: #008000\">\"</span> found in caption <span style=\"color: #008000; text-decoration-color: #008000\">\"The </span><span style=\"color: #d58088; text-decoration-color: #d58088; font-weight: bold\">tiger</span><span style=\"color: #008000; text-decoration-color: #008000\"> is also wearing a black and orange outfit.\"</span>\n",
       "</pre>\n"
      ],
      "text/plain": [
       "Tag \u001b[32m\"\u001b[0m\u001b[1;38;2;213;128;136mtiger\u001b[0m\u001b[32m\"\u001b[0m found in caption \u001b[32m\"The \u001b[0m\u001b[1;38;2;213;128;136mtiger\u001b[0m\u001b[32m is also wearing a black and orange outfit.\"\u001b[0m\n"
      ]
     },
     "metadata": {},
     "output_type": "display_data"
    },
    {
     "data": {
      "text/html": [
       "<pre style=\"white-space:pre;overflow-x:auto;line-height:normal;font-family:Menlo,'DejaVu Sans Mono',consolas,'Courier New',monospace\">Tag <span style=\"color: #008000; text-decoration-color: #008000\">\"</span><span style=\"color: #1c3e3d; text-decoration-color: #1c3e3d; font-weight: bold\">tiger</span><span style=\"color: #008000; text-decoration-color: #008000\">\"</span> found in caption <span style=\"color: #008000; text-decoration-color: #008000\">\"The </span><span style=\"color: #1c3e3d; text-decoration-color: #1c3e3d; font-weight: bold\">tiger</span><span style=\"color: #008000; text-decoration-color: #008000\"> has a bell on the end of its tail.\"</span>\n",
       "</pre>\n"
      ],
      "text/plain": [
       "Tag \u001b[32m\"\u001b[0m\u001b[1;38;2;28;62;61mtiger\u001b[0m\u001b[32m\"\u001b[0m found in caption \u001b[32m\"The \u001b[0m\u001b[1;38;2;28;62;61mtiger\u001b[0m\u001b[32m has a bell on the end of its tail.\"\u001b[0m\n"
      ]
     },
     "metadata": {},
     "output_type": "display_data"
    },
    {
     "data": {
      "text/html": [
       "<pre style=\"white-space:pre;overflow-x:auto;line-height:normal;font-family:Menlo,'DejaVu Sans Mono',consolas,'Courier New',monospace\">Tag <span style=\"color: #008000; text-decoration-color: #008000\">\"</span><span style=\"color: #417815; text-decoration-color: #417815; font-weight: bold\">green eyes</span><span style=\"color: #008000; text-decoration-color: #008000\">\"</span> found in caption <span style=\"color: #008000; text-decoration-color: #008000\">\"Both characters have </span><span style=\"color: #417815; text-decoration-color: #417815; font-weight: bold\">green eyes</span><span style=\"color: #008000; text-decoration-color: #008000\">.\"</span>\n",
       "</pre>\n"
      ],
      "text/plain": [
       "Tag \u001b[32m\"\u001b[0m\u001b[1;38;2;65;120;21mgreen eyes\u001b[0m\u001b[32m\"\u001b[0m found in caption \u001b[32m\"Both characters have \u001b[0m\u001b[1;38;2;65;120;21mgreen eyes\u001b[0m\u001b[32m.\"\u001b[0m\n"
      ]
     },
     "metadata": {},
     "output_type": "display_data"
    },
    {
     "data": {
      "text/html": [
       "<pre style=\"white-space:pre;overflow-x:auto;line-height:normal;font-family:Menlo,'DejaVu Sans Mono',consolas,'Courier New',monospace\">Tag <span style=\"color: #008000; text-decoration-color: #008000\">\"</span><span style=\"color: #fd450b; text-decoration-color: #fd450b; font-weight: bold\">speech bubble</span><span style=\"color: #008000; text-decoration-color: #008000\">\"</span> found in caption <span style=\"color: #008000; text-decoration-color: #008000\">\"Above them there's a </span><span style=\"color: #fd450b; text-decoration-color: #fd450b; font-weight: bold\">speech bubble</span><span style=\"color: #008000; text-decoration-color: #008000\"> with various symbols including a chain and</span>\n",
       "<span style=\"color: #008000; text-decoration-color: #008000\">a fox and an eggplant with a red line crossing it out.\"</span>\n",
       "</pre>\n"
      ],
      "text/plain": [
       "Tag \u001b[32m\"\u001b[0m\u001b[1;38;2;253;69;11mspeech bubble\u001b[0m\u001b[32m\"\u001b[0m found in caption \u001b[32m\"Above them there's a \u001b[0m\u001b[1;38;2;253;69;11mspeech bubble\u001b[0m\u001b[32m with various symbols including a chain and\u001b[0m\n",
       "\u001b[32ma fox and an eggplant with a red line crossing it out.\"\u001b[0m\n"
      ]
     },
     "metadata": {},
     "output_type": "display_data"
    },
    {
     "data": {
      "text/html": [
       "<pre style=\"white-space:pre;overflow-x:auto;line-height:normal;font-family:Menlo,'DejaVu Sans Mono',consolas,'Courier New',monospace\">\n",
       "\n",
       "<span style=\"font-weight: bold\">C:\\Users\\kade\\Desktop\\training_dir_staging\\1_furry_sticker\\af645ac16a9c9608b6429837a82b361c.txt</span>\n",
       "\n",
       "</pre>\n"
      ],
      "text/plain": [
       "\n",
       "\n",
       "\u001b[1mC:\\Users\\kade\\Desktop\\training_dir_staging\\1_furry_sticker\\af645ac16a9c9608b6429837a82b361c.txt\u001b[0m\n",
       "\n"
      ]
     },
     "metadata": {},
     "output_type": "display_data"
    },
    {
     "data": {
      "text/html": [
       "<pre style=\"white-space:pre;overflow-x:auto;line-height:normal;font-family:Menlo,'DejaVu Sans Mono',consolas,'Courier New',monospace\">Tag <span style=\"color: #008000; text-decoration-color: #008000\">\"</span><span style=\"color: #bd55a1; text-decoration-color: #bd55a1; font-weight: bold\">furry sticker</span><span style=\"color: #008000; text-decoration-color: #008000\">\"</span> found in caption <span style=\"color: #008000; text-decoration-color: #008000\">\"This </span><span style=\"color: #bd55a1; text-decoration-color: #bd55a1; font-weight: bold\">furry sticker</span><span style=\"color: #008000; text-decoration-color: #008000\"> depicts anthro fox with orange fur and green eyes.\"</span>\n",
       "</pre>\n"
      ],
      "text/plain": [
       "Tag \u001b[32m\"\u001b[0m\u001b[1;38;2;189;85;161mfurry sticker\u001b[0m\u001b[32m\"\u001b[0m found in caption \u001b[32m\"This \u001b[0m\u001b[1;38;2;189;85;161mfurry sticker\u001b[0m\u001b[32m depicts anthro fox with orange fur and green eyes.\"\u001b[0m\n"
      ]
     },
     "metadata": {},
     "output_type": "display_data"
    },
    {
     "data": {
      "text/html": [
       "<pre style=\"white-space:pre;overflow-x:auto;line-height:normal;font-family:Menlo,'DejaVu Sans Mono',consolas,'Courier New',monospace\">Tag <span style=\"color: #008000; text-decoration-color: #008000\">\"</span><span style=\"color: #27f8f4; text-decoration-color: #27f8f4; font-weight: bold\">fox</span><span style=\"color: #008000; text-decoration-color: #008000\">\"</span> found in caption <span style=\"color: #008000; text-decoration-color: #008000\">\"This furry sticker depicts anthro </span><span style=\"color: #27f8f4; text-decoration-color: #27f8f4; font-weight: bold\">fox</span><span style=\"color: #008000; text-decoration-color: #008000\"> with orange fur and green eyes.\"</span>\n",
       "</pre>\n"
      ],
      "text/plain": [
       "Tag \u001b[32m\"\u001b[0m\u001b[1;38;2;39;248;244mfox\u001b[0m\u001b[32m\"\u001b[0m found in caption \u001b[32m\"This furry sticker depicts anthro \u001b[0m\u001b[1;38;2;39;248;244mfox\u001b[0m\u001b[32m with orange fur and green eyes.\"\u001b[0m\n"
      ]
     },
     "metadata": {},
     "output_type": "display_data"
    },
    {
     "data": {
      "text/html": [
       "<pre style=\"white-space:pre;overflow-x:auto;line-height:normal;font-family:Menlo,'DejaVu Sans Mono',consolas,'Courier New',monospace\">Tag <span style=\"color: #008000; text-decoration-color: #008000\">\"</span><span style=\"color: #ceeef8; text-decoration-color: #ceeef8; font-weight: bold\">fox</span><span style=\"color: #008000; text-decoration-color: #008000\">\"</span> found in caption <span style=\"color: #008000; text-decoration-color: #008000\">\"The anthro </span><span style=\"color: #ceeef8; text-decoration-color: #ceeef8; font-weight: bold\">fox</span><span style=\"color: #008000; text-decoration-color: #008000\"> is shown in a pose while talking with its mouth open and its hands at </span>\n",
       "<span style=\"color: #008000; text-decoration-color: #008000\">its chest.\"</span>\n",
       "</pre>\n"
      ],
      "text/plain": [
       "Tag \u001b[32m\"\u001b[0m\u001b[1;38;2;206;238;248mfox\u001b[0m\u001b[32m\"\u001b[0m found in caption \u001b[32m\"The anthro \u001b[0m\u001b[1;38;2;206;238;248mfox\u001b[0m\u001b[32m is shown in a pose while talking with its mouth open and its hands at \u001b[0m\n",
       "\u001b[32mits chest.\"\u001b[0m\n"
      ]
     },
     "metadata": {},
     "output_type": "display_data"
    },
    {
     "data": {
      "text/html": [
       "<pre style=\"white-space:pre;overflow-x:auto;line-height:normal;font-family:Menlo,'DejaVu Sans Mono',consolas,'Courier New',monospace\">Tag <span style=\"color: #008000; text-decoration-color: #008000\">\"</span><span style=\"color: #cbe37c; text-decoration-color: #cbe37c; font-weight: bold\">fox</span><span style=\"color: #008000; text-decoration-color: #008000\">\"</span> found in caption <span style=\"color: #008000; text-decoration-color: #008000\">\"The background is transparent putting emphasis on the </span><span style=\"color: #cbe37c; text-decoration-color: #cbe37c; font-weight: bold\">fox</span><span style=\"color: #008000; text-decoration-color: #008000\"> character.\"</span>\n",
       "</pre>\n"
      ],
      "text/plain": [
       "Tag \u001b[32m\"\u001b[0m\u001b[1;38;2;203;227;124mfox\u001b[0m\u001b[32m\"\u001b[0m found in caption \u001b[32m\"The background is transparent putting emphasis on the \u001b[0m\u001b[1;38;2;203;227;124mfox\u001b[0m\u001b[32m character.\"\u001b[0m\n"
      ]
     },
     "metadata": {},
     "output_type": "display_data"
    },
    {
     "data": {
      "text/html": [
       "<pre style=\"white-space:pre;overflow-x:auto;line-height:normal;font-family:Menlo,'DejaVu Sans Mono',consolas,'Courier New',monospace\">Tag <span style=\"color: #008000; text-decoration-color: #008000\">\"</span><span style=\"color: #0535a9; text-decoration-color: #0535a9; font-weight: bold\">anthro</span><span style=\"color: #008000; text-decoration-color: #008000\">\"</span> found in caption <span style=\"color: #008000; text-decoration-color: #008000\">\"This furry sticker depicts </span><span style=\"color: #0535a9; text-decoration-color: #0535a9; font-weight: bold\">anthro</span><span style=\"color: #008000; text-decoration-color: #008000\"> fox with orange fur and green eyes.\"</span>\n",
       "</pre>\n"
      ],
      "text/plain": [
       "Tag \u001b[32m\"\u001b[0m\u001b[1;38;2;5;53;169manthro\u001b[0m\u001b[32m\"\u001b[0m found in caption \u001b[32m\"This furry sticker depicts \u001b[0m\u001b[1;38;2;5;53;169manthro\u001b[0m\u001b[32m fox with orange fur and green eyes.\"\u001b[0m\n"
      ]
     },
     "metadata": {},
     "output_type": "display_data"
    },
    {
     "data": {
      "text/html": [
       "<pre style=\"white-space:pre;overflow-x:auto;line-height:normal;font-family:Menlo,'DejaVu Sans Mono',consolas,'Courier New',monospace\">Tag <span style=\"color: #008000; text-decoration-color: #008000\">\"</span><span style=\"color: #81025a; text-decoration-color: #81025a; font-weight: bold\">anthro</span><span style=\"color: #008000; text-decoration-color: #008000\">\"</span> found in caption <span style=\"color: #008000; text-decoration-color: #008000\">\"The </span><span style=\"color: #81025a; text-decoration-color: #81025a; font-weight: bold\">anthro</span><span style=\"color: #008000; text-decoration-color: #008000\"> fox is shown in a pose while talking with its mouth open and its hands at</span>\n",
       "<span style=\"color: #008000; text-decoration-color: #008000\">its chest.\"</span>\n",
       "</pre>\n"
      ],
      "text/plain": [
       "Tag \u001b[32m\"\u001b[0m\u001b[1;38;2;129;2;90manthro\u001b[0m\u001b[32m\"\u001b[0m found in caption \u001b[32m\"The \u001b[0m\u001b[1;38;2;129;2;90manthro\u001b[0m\u001b[32m fox is shown in a pose while talking with its mouth open and its hands at\u001b[0m\n",
       "\u001b[32mits chest.\"\u001b[0m\n"
      ]
     },
     "metadata": {},
     "output_type": "display_data"
    },
    {
     "data": {
      "text/html": [
       "<pre style=\"white-space:pre;overflow-x:auto;line-height:normal;font-family:Menlo,'DejaVu Sans Mono',consolas,'Courier New',monospace\">Tag <span style=\"color: #008000; text-decoration-color: #008000\">\"</span><span style=\"color: #743c0a; text-decoration-color: #743c0a; font-weight: bold\">green eyes</span><span style=\"color: #008000; text-decoration-color: #008000\">\"</span> found in caption <span style=\"color: #008000; text-decoration-color: #008000\">\"This furry sticker depicts anthro fox with orange fur and </span><span style=\"color: #743c0a; text-decoration-color: #743c0a; font-weight: bold\">green eyes</span><span style=\"color: #008000; text-decoration-color: #008000\">.\"</span>\n",
       "</pre>\n"
      ],
      "text/plain": [
       "Tag \u001b[32m\"\u001b[0m\u001b[1;38;2;116;60;10mgreen eyes\u001b[0m\u001b[32m\"\u001b[0m found in caption \u001b[32m\"This furry sticker depicts anthro fox with orange fur and \u001b[0m\u001b[1;38;2;116;60;10mgreen eyes\u001b[0m\u001b[32m.\"\u001b[0m\n"
      ]
     },
     "metadata": {},
     "output_type": "display_data"
    },
    {
     "data": {
      "text/html": [
       "<pre style=\"white-space:pre;overflow-x:auto;line-height:normal;font-family:Menlo,'DejaVu Sans Mono',consolas,'Courier New',monospace\">Tag <span style=\"color: #008000; text-decoration-color: #008000\">\"</span><span style=\"color: #a85798; text-decoration-color: #a85798; font-weight: bold\">fur</span><span style=\"color: #008000; text-decoration-color: #008000\">\"</span> found in caption <span style=\"color: #008000; text-decoration-color: #008000\">\"This </span><span style=\"color: #a85798; text-decoration-color: #a85798; font-weight: bold\">fur</span><span style=\"color: #008000; text-decoration-color: #008000\">ry sticker depicts anthro fox with orange </span><span style=\"color: #a85798; text-decoration-color: #a85798; font-weight: bold\">fur</span><span style=\"color: #008000; text-decoration-color: #008000\"> and green eyes.\"</span>\n",
       "</pre>\n"
      ],
      "text/plain": [
       "Tag \u001b[32m\"\u001b[0m\u001b[1;38;2;168;87;152mfur\u001b[0m\u001b[32m\"\u001b[0m found in caption \u001b[32m\"This \u001b[0m\u001b[1;38;2;168;87;152mfur\u001b[0m\u001b[32mry sticker depicts anthro fox with orange \u001b[0m\u001b[1;38;2;168;87;152mfur\u001b[0m\u001b[32m and green eyes.\"\u001b[0m\n"
      ]
     },
     "metadata": {},
     "output_type": "display_data"
    },
    {
     "data": {
      "text/html": [
       "<pre style=\"white-space:pre;overflow-x:auto;line-height:normal;font-family:Menlo,'DejaVu Sans Mono',consolas,'Courier New',monospace\">Tag <span style=\"color: #008000; text-decoration-color: #008000\">\"</span><span style=\"color: #e5d9f1; text-decoration-color: #e5d9f1; font-weight: bold\">orange fur</span><span style=\"color: #008000; text-decoration-color: #008000\">\"</span> found in caption <span style=\"color: #008000; text-decoration-color: #008000\">\"This furry sticker depicts anthro fox with </span><span style=\"color: #e5d9f1; text-decoration-color: #e5d9f1; font-weight: bold\">orange fur</span><span style=\"color: #008000; text-decoration-color: #008000\"> and green eyes.\"</span>\n",
       "</pre>\n"
      ],
      "text/plain": [
       "Tag \u001b[32m\"\u001b[0m\u001b[1;38;2;229;217;241morange fur\u001b[0m\u001b[32m\"\u001b[0m found in caption \u001b[32m\"This furry sticker depicts anthro fox with \u001b[0m\u001b[1;38;2;229;217;241morange fur\u001b[0m\u001b[32m and green eyes.\"\u001b[0m\n"
      ]
     },
     "metadata": {},
     "output_type": "display_data"
    },
    {
     "data": {
      "text/html": [
       "<pre style=\"white-space:pre;overflow-x:auto;line-height:normal;font-family:Menlo,'DejaVu Sans Mono',consolas,'Courier New',monospace\">Tag <span style=\"color: #008000; text-decoration-color: #008000\">\"</span><span style=\"color: #95f31d; text-decoration-color: #95f31d; font-weight: bold\">outline</span><span style=\"color: #008000; text-decoration-color: #008000\">\"</span> found in caption <span style=\"color: #008000; text-decoration-color: #008000\">\"The character has a white </span><span style=\"color: #95f31d; text-decoration-color: #95f31d; font-weight: bold\">outline</span><span style=\"color: #008000; text-decoration-color: #008000\"> around it.\"</span>\n",
       "</pre>\n"
      ],
      "text/plain": [
       "Tag \u001b[32m\"\u001b[0m\u001b[1;38;2;149;243;29moutline\u001b[0m\u001b[32m\"\u001b[0m found in caption \u001b[32m\"The character has a white \u001b[0m\u001b[1;38;2;149;243;29moutline\u001b[0m\u001b[32m around it.\"\u001b[0m\n"
      ]
     },
     "metadata": {},
     "output_type": "display_data"
    },
    {
     "data": {
      "text/html": [
       "<pre style=\"white-space:pre;overflow-x:auto;line-height:normal;font-family:Menlo,'DejaVu Sans Mono',consolas,'Courier New',monospace\">\n",
       "\n",
       "<span style=\"font-weight: bold\">C:\\Users\\kade\\Desktop\\training_dir_staging\\1_furry_sticker\\c004dd17eabdc650f7870d1cce451132.txt</span>\n",
       "\n",
       "</pre>\n"
      ],
      "text/plain": [
       "\n",
       "\n",
       "\u001b[1mC:\\Users\\kade\\Desktop\\training_dir_staging\\1_furry_sticker\\c004dd17eabdc650f7870d1cce451132.txt\u001b[0m\n",
       "\n"
      ]
     },
     "metadata": {},
     "output_type": "display_data"
    },
    {
     "data": {
      "text/html": [
       "<pre style=\"white-space:pre;overflow-x:auto;line-height:normal;font-family:Menlo,'DejaVu Sans Mono',consolas,'Courier New',monospace\">Tag <span style=\"color: #008000; text-decoration-color: #008000\">\"</span><span style=\"color: #6e06cb; text-decoration-color: #6e06cb; font-weight: bold\">furry sticker</span><span style=\"color: #008000; text-decoration-color: #008000\">\"</span> found in caption <span style=\"color: #008000; text-decoration-color: #008000\">\"This is </span><span style=\"color: #6e06cb; text-decoration-color: #6e06cb; font-weight: bold\">furry sticker</span><span style=\"color: #008000; text-decoration-color: #008000\"> of anthro fox.\"</span>\n",
       "</pre>\n"
      ],
      "text/plain": [
       "Tag \u001b[32m\"\u001b[0m\u001b[1;38;2;110;6;203mfurry sticker\u001b[0m\u001b[32m\"\u001b[0m found in caption \u001b[32m\"This is \u001b[0m\u001b[1;38;2;110;6;203mfurry sticker\u001b[0m\u001b[32m of anthro fox.\"\u001b[0m\n"
      ]
     },
     "metadata": {},
     "output_type": "display_data"
    },
    {
     "data": {
      "text/html": [
       "<pre style=\"white-space:pre;overflow-x:auto;line-height:normal;font-family:Menlo,'DejaVu Sans Mono',consolas,'Courier New',monospace\">Tag <span style=\"color: #008000; text-decoration-color: #008000\">\"</span><span style=\"color: #c794c5; text-decoration-color: #c794c5; font-weight: bold\">fox</span><span style=\"color: #008000; text-decoration-color: #008000\">\"</span> found in caption <span style=\"color: #008000; text-decoration-color: #008000\">\"This is furry sticker of anthro </span><span style=\"color: #c794c5; text-decoration-color: #c794c5; font-weight: bold\">fox</span><span style=\"color: #008000; text-decoration-color: #008000\">.\"</span>\n",
       "</pre>\n"
      ],
      "text/plain": [
       "Tag \u001b[32m\"\u001b[0m\u001b[1;38;2;199;148;197mfox\u001b[0m\u001b[32m\"\u001b[0m found in caption \u001b[32m\"This is furry sticker of anthro \u001b[0m\u001b[1;38;2;199;148;197mfox\u001b[0m\u001b[32m.\"\u001b[0m\n"
      ]
     },
     "metadata": {},
     "output_type": "display_data"
    },
    {
     "data": {
      "text/html": [
       "<pre style=\"white-space:pre;overflow-x:auto;line-height:normal;font-family:Menlo,'DejaVu Sans Mono',consolas,'Courier New',monospace\">Tag <span style=\"color: #008000; text-decoration-color: #008000\">\"</span><span style=\"color: #cf61a0; text-decoration-color: #cf61a0; font-weight: bold\">fox</span><span style=\"color: #008000; text-decoration-color: #008000\">\"</span> found in caption <span style=\"color: #008000; text-decoration-color: #008000\">\"The </span><span style=\"color: #cf61a0; text-decoration-color: #cf61a0; font-weight: bold\">fox</span><span style=\"color: #008000; text-decoration-color: #008000\"> is depicted in a thoughtful pose with one hand on its chin and a slightly </span>\n",
       "<span style=\"color: #008000; text-decoration-color: #008000\">furrowed brow as if it's pondering.\"</span>\n",
       "</pre>\n"
      ],
      "text/plain": [
       "Tag \u001b[32m\"\u001b[0m\u001b[1;38;2;207;97;160mfox\u001b[0m\u001b[32m\"\u001b[0m found in caption \u001b[32m\"The \u001b[0m\u001b[1;38;2;207;97;160mfox\u001b[0m\u001b[32m is depicted in a thoughtful pose with one hand on its chin and a slightly \u001b[0m\n",
       "\u001b[32mfurrowed brow as if it's pondering.\"\u001b[0m\n"
      ]
     },
     "metadata": {},
     "output_type": "display_data"
    },
    {
     "data": {
      "text/html": [
       "<pre style=\"white-space:pre;overflow-x:auto;line-height:normal;font-family:Menlo,'DejaVu Sans Mono',consolas,'Courier New',monospace\">Tag <span style=\"color: #008000; text-decoration-color: #008000\">\"</span><span style=\"color: #b85ccd; text-decoration-color: #b85ccd; font-weight: bold\">fox</span><span style=\"color: #008000; text-decoration-color: #008000\">\"</span> found in caption <span style=\"color: #008000; text-decoration-color: #008000\">\"The </span><span style=\"color: #b85ccd; text-decoration-color: #b85ccd; font-weight: bold\">fox</span><span style=\"color: #008000; text-decoration-color: #008000\"> has a red and brown coat with white underbelly and a tail that is red at the </span>\n",
       "<span style=\"color: #008000; text-decoration-color: #008000\">base and white at the tip.\"</span>\n",
       "</pre>\n"
      ],
      "text/plain": [
       "Tag \u001b[32m\"\u001b[0m\u001b[1;38;2;184;92;205mfox\u001b[0m\u001b[32m\"\u001b[0m found in caption \u001b[32m\"The \u001b[0m\u001b[1;38;2;184;92;205mfox\u001b[0m\u001b[32m has a red and brown coat with white underbelly and a tail that is red at the \u001b[0m\n",
       "\u001b[32mbase and white at the tip.\"\u001b[0m\n"
      ]
     },
     "metadata": {},
     "output_type": "display_data"
    },
    {
     "data": {
      "text/html": [
       "<pre style=\"white-space:pre;overflow-x:auto;line-height:normal;font-family:Menlo,'DejaVu Sans Mono',consolas,'Courier New',monospace\">Tag <span style=\"color: #008000; text-decoration-color: #008000\">\"</span><span style=\"color: #f82f8b; text-decoration-color: #f82f8b; font-weight: bold\">fox</span><span style=\"color: #008000; text-decoration-color: #008000\">\"</span> found in caption <span style=\"color: #008000; text-decoration-color: #008000\">\"The </span><span style=\"color: #f82f8b; text-decoration-color: #f82f8b; font-weight: bold\">fox</span><span style=\"color: #008000; text-decoration-color: #008000\"> has green eyes and is wearing a small grey hat.\"</span>\n",
       "</pre>\n"
      ],
      "text/plain": [
       "Tag \u001b[32m\"\u001b[0m\u001b[1;38;2;248;47;139mfox\u001b[0m\u001b[32m\"\u001b[0m found in caption \u001b[32m\"The \u001b[0m\u001b[1;38;2;248;47;139mfox\u001b[0m\u001b[32m has green eyes and is wearing a small grey hat.\"\u001b[0m\n"
      ]
     },
     "metadata": {},
     "output_type": "display_data"
    },
    {
     "data": {
      "text/html": [
       "<pre style=\"white-space:pre;overflow-x:auto;line-height:normal;font-family:Menlo,'DejaVu Sans Mono',consolas,'Courier New',monospace\">Tag <span style=\"color: #008000; text-decoration-color: #008000\">\"</span><span style=\"color: #813606; text-decoration-color: #813606; font-weight: bold\">fox</span><span style=\"color: #008000; text-decoration-color: #008000\">\"</span> found in caption <span style=\"color: #008000; text-decoration-color: #008000\">\"There's also a blue circle with an 'X' in it next to the </span><span style=\"color: #813606; text-decoration-color: #813606; font-weight: bold\">fox</span><span style=\"color: #008000; text-decoration-color: #008000\"> which indicates something </span>\n",
       "<span style=\"color: #008000; text-decoration-color: #008000\">wrong or incorrect and it is doubting it.\"</span>\n",
       "</pre>\n"
      ],
      "text/plain": [
       "Tag \u001b[32m\"\u001b[0m\u001b[1;38;2;129;54;6mfox\u001b[0m\u001b[32m\"\u001b[0m found in caption \u001b[32m\"There's also a blue circle with an 'X' in it next to the \u001b[0m\u001b[1;38;2;129;54;6mfox\u001b[0m\u001b[32m which indicates something \u001b[0m\n",
       "\u001b[32mwrong or incorrect and it is doubting it.\"\u001b[0m\n"
      ]
     },
     "metadata": {},
     "output_type": "display_data"
    },
    {
     "data": {
      "text/html": [
       "<pre style=\"white-space:pre;overflow-x:auto;line-height:normal;font-family:Menlo,'DejaVu Sans Mono',consolas,'Courier New',monospace\">Tag <span style=\"color: #008000; text-decoration-color: #008000\">\"</span><span style=\"color: #a314db; text-decoration-color: #a314db; font-weight: bold\">anthro</span><span style=\"color: #008000; text-decoration-color: #008000\">\"</span> found in caption <span style=\"color: #008000; text-decoration-color: #008000\">\"This is furry sticker of </span><span style=\"color: #a314db; text-decoration-color: #a314db; font-weight: bold\">anthro</span><span style=\"color: #008000; text-decoration-color: #008000\"> fox.\"</span>\n",
       "</pre>\n"
      ],
      "text/plain": [
       "Tag \u001b[32m\"\u001b[0m\u001b[1;38;2;163;20;219manthro\u001b[0m\u001b[32m\"\u001b[0m found in caption \u001b[32m\"This is furry sticker of \u001b[0m\u001b[1;38;2;163;20;219manthro\u001b[0m\u001b[32m fox.\"\u001b[0m\n"
      ]
     },
     "metadata": {},
     "output_type": "display_data"
    },
    {
     "data": {
      "text/html": [
       "<pre style=\"white-space:pre;overflow-x:auto;line-height:normal;font-family:Menlo,'DejaVu Sans Mono',consolas,'Courier New',monospace\">Tag <span style=\"color: #008000; text-decoration-color: #008000\">\"</span><span style=\"color: #870a16; text-decoration-color: #870a16; font-weight: bold\">green eyes</span><span style=\"color: #008000; text-decoration-color: #008000\">\"</span> found in caption <span style=\"color: #008000; text-decoration-color: #008000\">\"The fox has </span><span style=\"color: #870a16; text-decoration-color: #870a16; font-weight: bold\">green eyes</span><span style=\"color: #008000; text-decoration-color: #008000\"> and is wearing a small grey hat.\"</span>\n",
       "</pre>\n"
      ],
      "text/plain": [
       "Tag \u001b[32m\"\u001b[0m\u001b[1;38;2;135;10;22mgreen eyes\u001b[0m\u001b[32m\"\u001b[0m found in caption \u001b[32m\"The fox has \u001b[0m\u001b[1;38;2;135;10;22mgreen eyes\u001b[0m\u001b[32m and is wearing a small grey hat.\"\u001b[0m\n"
      ]
     },
     "metadata": {},
     "output_type": "display_data"
    },
    {
     "data": {
      "text/html": [
       "<pre style=\"white-space:pre;overflow-x:auto;line-height:normal;font-family:Menlo,'DejaVu Sans Mono',consolas,'Courier New',monospace\">Tag <span style=\"color: #008000; text-decoration-color: #008000\">\"</span><span style=\"color: #9dee76; text-decoration-color: #9dee76; font-weight: bold\">hat</span><span style=\"color: #008000; text-decoration-color: #008000\">\"</span> found in caption <span style=\"color: #008000; text-decoration-color: #008000\">\"The fox has green eyes and is wearing a small grey </span><span style=\"color: #9dee76; text-decoration-color: #9dee76; font-weight: bold\">hat</span><span style=\"color: #008000; text-decoration-color: #008000\">.\"</span>\n",
       "</pre>\n"
      ],
      "text/plain": [
       "Tag \u001b[32m\"\u001b[0m\u001b[1;38;2;157;238;118mhat\u001b[0m\u001b[32m\"\u001b[0m found in caption \u001b[32m\"The fox has green eyes and is wearing a small grey \u001b[0m\u001b[1;38;2;157;238;118mhat\u001b[0m\u001b[32m.\"\u001b[0m\n"
      ]
     },
     "metadata": {},
     "output_type": "display_data"
    },
    {
     "data": {
      "text/html": [
       "<pre style=\"white-space:pre;overflow-x:auto;line-height:normal;font-family:Menlo,'DejaVu Sans Mono',consolas,'Courier New',monospace\">\n",
       "\n",
       "<span style=\"font-weight: bold\">C:\\Users\\kade\\Desktop\\training_dir_staging\\1_furry_sticker\\cd363fa50058989fb9e47cde17599357.txt</span>\n",
       "\n",
       "</pre>\n"
      ],
      "text/plain": [
       "\n",
       "\n",
       "\u001b[1mC:\\Users\\kade\\Desktop\\training_dir_staging\\1_furry_sticker\\cd363fa50058989fb9e47cde17599357.txt\u001b[0m\n",
       "\n"
      ]
     },
     "metadata": {},
     "output_type": "display_data"
    },
    {
     "data": {
      "text/html": [
       "<pre style=\"white-space:pre;overflow-x:auto;line-height:normal;font-family:Menlo,'DejaVu Sans Mono',consolas,'Courier New',monospace\">Tag <span style=\"color: #008000; text-decoration-color: #008000\">\"</span><span style=\"color: #35454d; text-decoration-color: #35454d; font-weight: bold\">fur</span><span style=\"color: #008000; text-decoration-color: #008000\">\"</span> found in caption <span style=\"color: #008000; text-decoration-color: #008000\">\"It has a light purple </span><span style=\"color: #35454d; text-decoration-color: #35454d; font-weight: bold\">fur</span><span style=\"color: #008000; text-decoration-color: #008000\"> with large expressive eyes and an open mouth which appears to</span>\n",
       "<span style=\"color: #008000; text-decoration-color: #008000\">be shouting.\"</span>\n",
       "</pre>\n"
      ],
      "text/plain": [
       "Tag \u001b[32m\"\u001b[0m\u001b[1;38;2;53;69;77mfur\u001b[0m\u001b[32m\"\u001b[0m found in caption \u001b[32m\"It has a light purple \u001b[0m\u001b[1;38;2;53;69;77mfur\u001b[0m\u001b[32m with large expressive eyes and an open mouth which appears to\u001b[0m\n",
       "\u001b[32mbe shouting.\"\u001b[0m\n"
      ]
     },
     "metadata": {},
     "output_type": "display_data"
    },
    {
     "data": {
      "text/html": [
       "<pre style=\"white-space:pre;overflow-x:auto;line-height:normal;font-family:Menlo,'DejaVu Sans Mono',consolas,'Courier New',monospace\">Tag <span style=\"color: #008000; text-decoration-color: #008000\">\"</span><span style=\"color: #5e0fcd; text-decoration-color: #5e0fcd; font-weight: bold\">open mouth</span><span style=\"color: #008000; text-decoration-color: #008000\">\"</span> found in caption <span style=\"color: #008000; text-decoration-color: #008000\">\"It has a light purple fur with large expressive eyes and an </span><span style=\"color: #5e0fcd; text-decoration-color: #5e0fcd; font-weight: bold\">open mouth</span><span style=\"color: #008000; text-decoration-color: #008000\"> which </span>\n",
       "<span style=\"color: #008000; text-decoration-color: #008000\">appears to be shouting.\"</span>\n",
       "</pre>\n"
      ],
      "text/plain": [
       "Tag \u001b[32m\"\u001b[0m\u001b[1;38;2;94;15;205mopen mouth\u001b[0m\u001b[32m\"\u001b[0m found in caption \u001b[32m\"It has a light purple fur with large expressive eyes and an \u001b[0m\u001b[1;38;2;94;15;205mopen mouth\u001b[0m\u001b[32m which \u001b[0m\n",
       "\u001b[32mappears to be shouting.\"\u001b[0m\n"
      ]
     },
     "metadata": {},
     "output_type": "display_data"
    },
    {
     "data": {
      "text/html": [
       "<pre style=\"white-space:pre;overflow-x:auto;line-height:normal;font-family:Menlo,'DejaVu Sans Mono',consolas,'Courier New',monospace\">Tag <span style=\"color: #008000; text-decoration-color: #008000\">\"</span><span style=\"color: #e0ee71; text-decoration-color: #e0ee71; font-weight: bold\">anthro</span><span style=\"color: #008000; text-decoration-color: #008000\">\"</span> found in caption <span style=\"color: #008000; text-decoration-color: #008000\">\"This image is a stylized cartoonish sticker of </span><span style=\"color: #e0ee71; text-decoration-color: #e0ee71; font-weight: bold\">anthro</span><span style=\"color: #008000; text-decoration-color: #008000\"> red panda's face.\"</span>\n",
       "</pre>\n"
      ],
      "text/plain": [
       "Tag \u001b[32m\"\u001b[0m\u001b[1;38;2;224;238;113manthro\u001b[0m\u001b[32m\"\u001b[0m found in caption \u001b[32m\"This image is a stylized cartoonish sticker of \u001b[0m\u001b[1;38;2;224;238;113manthro\u001b[0m\u001b[32m red panda's face.\"\u001b[0m\n"
      ]
     },
     "metadata": {},
     "output_type": "display_data"
    },
    {
     "data": {
      "text/html": [
       "<pre style=\"white-space:pre;overflow-x:auto;line-height:normal;font-family:Menlo,'DejaVu Sans Mono',consolas,'Courier New',monospace\">Tag <span style=\"color: #008000; text-decoration-color: #008000\">\"</span><span style=\"color: #b2bd35; text-decoration-color: #b2bd35; font-weight: bold\">purple fur</span><span style=\"color: #008000; text-decoration-color: #008000\">\"</span> found in caption <span style=\"color: #008000; text-decoration-color: #008000\">\"It has a light </span><span style=\"color: #b2bd35; text-decoration-color: #b2bd35; font-weight: bold\">purple fur</span><span style=\"color: #008000; text-decoration-color: #008000\"> with large expressive eyes and an open mouth which </span>\n",
       "<span style=\"color: #008000; text-decoration-color: #008000\">appears to be shouting.\"</span>\n",
       "</pre>\n"
      ],
      "text/plain": [
       "Tag \u001b[32m\"\u001b[0m\u001b[1;38;2;178;189;53mpurple fur\u001b[0m\u001b[32m\"\u001b[0m found in caption \u001b[32m\"It has a light \u001b[0m\u001b[1;38;2;178;189;53mpurple fur\u001b[0m\u001b[32m with large expressive eyes and an open mouth which \u001b[0m\n",
       "\u001b[32mappears to be shouting.\"\u001b[0m\n"
      ]
     },
     "metadata": {},
     "output_type": "display_data"
    },
    {
     "data": {
      "text/html": [
       "<pre style=\"white-space:pre;overflow-x:auto;line-height:normal;font-family:Menlo,'DejaVu Sans Mono',consolas,'Courier New',monospace\">\n",
       "\n",
       "<span style=\"font-weight: bold\">C:\\Users\\kade\\Desktop\\training_dir_staging\\1_furry_sticker\\f1ff847532e185a197af2f14a1fba805.txt</span>\n",
       "\n",
       "</pre>\n"
      ],
      "text/plain": [
       "\n",
       "\n",
       "\u001b[1mC:\\Users\\kade\\Desktop\\training_dir_staging\\1_furry_sticker\\f1ff847532e185a197af2f14a1fba805.txt\u001b[0m\n",
       "\n"
      ]
     },
     "metadata": {},
     "output_type": "display_data"
    },
    {
     "data": {
      "text/html": [
       "<pre style=\"white-space:pre;overflow-x:auto;line-height:normal;font-family:Menlo,'DejaVu Sans Mono',consolas,'Courier New',monospace\">Tag <span style=\"color: #008000; text-decoration-color: #008000\">\"</span><span style=\"color: #bc8e2a; text-decoration-color: #bc8e2a; font-weight: bold\">snow leopard</span><span style=\"color: #008000; text-decoration-color: #008000\">\"</span> found in caption <span style=\"color: #008000; text-decoration-color: #008000\">\"This image is a sticker featuring a cartoonish anthro </span><span style=\"color: #bc8e2a; text-decoration-color: #bc8e2a; font-weight: bold\">snow leopard</span><span style=\"color: #008000; text-decoration-color: #008000\">.\"</span>\n",
       "</pre>\n"
      ],
      "text/plain": [
       "Tag \u001b[32m\"\u001b[0m\u001b[1;38;2;188;142;42msnow leopard\u001b[0m\u001b[32m\"\u001b[0m found in caption \u001b[32m\"This image is a sticker featuring a cartoonish anthro \u001b[0m\u001b[1;38;2;188;142;42msnow leopard\u001b[0m\u001b[32m.\"\u001b[0m\n"
      ]
     },
     "metadata": {},
     "output_type": "display_data"
    },
    {
     "data": {
      "text/html": [
       "<pre style=\"white-space:pre;overflow-x:auto;line-height:normal;font-family:Menlo,'DejaVu Sans Mono',consolas,'Courier New',monospace\">Tag <span style=\"color: #008000; text-decoration-color: #008000\">\"</span><span style=\"color: #bb1a1f; text-decoration-color: #bb1a1f; font-weight: bold\">fur</span><span style=\"color: #008000; text-decoration-color: #008000\">\"</span> found in caption <span style=\"color: #008000; text-decoration-color: #008000\">\"It has gray </span><span style=\"color: #bb1a1f; text-decoration-color: #bb1a1f; font-weight: bold\">fur</span><span style=\"color: #008000; text-decoration-color: #008000\"> with black spots and blue hair.\"</span>\n",
       "</pre>\n"
      ],
      "text/plain": [
       "Tag \u001b[32m\"\u001b[0m\u001b[1;38;2;187;26;31mfur\u001b[0m\u001b[32m\"\u001b[0m found in caption \u001b[32m\"It has gray \u001b[0m\u001b[1;38;2;187;26;31mfur\u001b[0m\u001b[32m with black spots and blue hair.\"\u001b[0m\n"
      ]
     },
     "metadata": {},
     "output_type": "display_data"
    },
    {
     "data": {
      "text/html": [
       "<pre style=\"white-space:pre;overflow-x:auto;line-height:normal;font-family:Menlo,'DejaVu Sans Mono',consolas,'Courier New',monospace\">Tag <span style=\"color: #008000; text-decoration-color: #008000\">\"</span><span style=\"color: #592daa; text-decoration-color: #592daa; font-weight: bold\">text</span><span style=\"color: #008000; text-decoration-color: #008000\">\"</span> found in caption <span style=\"color: #008000; text-decoration-color: #008000\">\"The speech bubble's background is white and the </span><span style=\"color: #592daa; text-decoration-color: #592daa; font-weight: bold\">text</span><span style=\"color: #008000; text-decoration-color: #008000\"> 'MOW!' is written in large bold </span>\n",
       "<span style=\"color: #008000; text-decoration-color: #008000\">black letters.\"</span>\n",
       "</pre>\n"
      ],
      "text/plain": [
       "Tag \u001b[32m\"\u001b[0m\u001b[1;38;2;89;45;170mtext\u001b[0m\u001b[32m\"\u001b[0m found in caption \u001b[32m\"The speech bubble's background is white and the \u001b[0m\u001b[1;38;2;89;45;170mtext\u001b[0m\u001b[32m 'MOW!' is written in large bold \u001b[0m\n",
       "\u001b[32mblack letters.\"\u001b[0m\n"
      ]
     },
     "metadata": {},
     "output_type": "display_data"
    },
    {
     "data": {
      "text/html": [
       "<pre style=\"white-space:pre;overflow-x:auto;line-height:normal;font-family:Menlo,'DejaVu Sans Mono',consolas,'Courier New',monospace\">Tag <span style=\"color: #008000; text-decoration-color: #008000\">\"</span><span style=\"color: #3b3acf; text-decoration-color: #3b3acf; font-weight: bold\">hair</span><span style=\"color: #008000; text-decoration-color: #008000\">\"</span> found in caption <span style=\"color: #008000; text-decoration-color: #008000\">\"It has gray fur with black spots and blue </span><span style=\"color: #3b3acf; text-decoration-color: #3b3acf; font-weight: bold\">hair</span><span style=\"color: #008000; text-decoration-color: #008000\">.\"</span>\n",
       "</pre>\n"
      ],
      "text/plain": [
       "Tag \u001b[32m\"\u001b[0m\u001b[1;38;2;59;58;207mhair\u001b[0m\u001b[32m\"\u001b[0m found in caption \u001b[32m\"It has gray fur with black spots and blue \u001b[0m\u001b[1;38;2;59;58;207mhair\u001b[0m\u001b[32m.\"\u001b[0m\n"
      ]
     },
     "metadata": {},
     "output_type": "display_data"
    },
    {
     "data": {
      "text/html": [
       "<pre style=\"white-space:pre;overflow-x:auto;line-height:normal;font-family:Menlo,'DejaVu Sans Mono',consolas,'Courier New',monospace\">Tag <span style=\"color: #008000; text-decoration-color: #008000\">\"</span><span style=\"color: #7c0efe; text-decoration-color: #7c0efe; font-weight: bold\">blue hair</span><span style=\"color: #008000; text-decoration-color: #008000\">\"</span> found in caption <span style=\"color: #008000; text-decoration-color: #008000\">\"It has gray fur with black spots and </span><span style=\"color: #7c0efe; text-decoration-color: #7c0efe; font-weight: bold\">blue hair</span><span style=\"color: #008000; text-decoration-color: #008000\">.\"</span>\n",
       "</pre>\n"
      ],
      "text/plain": [
       "Tag \u001b[32m\"\u001b[0m\u001b[1;38;2;124;14;254mblue hair\u001b[0m\u001b[32m\"\u001b[0m found in caption \u001b[32m\"It has gray fur with black spots and \u001b[0m\u001b[1;38;2;124;14;254mblue hair\u001b[0m\u001b[32m.\"\u001b[0m\n"
      ]
     },
     "metadata": {},
     "output_type": "display_data"
    },
    {
     "data": {
      "text/html": [
       "<pre style=\"white-space:pre;overflow-x:auto;line-height:normal;font-family:Menlo,'DejaVu Sans Mono',consolas,'Courier New',monospace\">\n",
       "\n",
       "<span style=\"font-weight: bold\">C:\\Users\\kade\\Desktop\\training_dir_staging\\1_furry_sticker\\f9468ada1a62410d8d0891cabe0c538a.txt</span>\n",
       "\n",
       "</pre>\n"
      ],
      "text/plain": [
       "\n",
       "\n",
       "\u001b[1mC:\\Users\\kade\\Desktop\\training_dir_staging\\1_furry_sticker\\f9468ada1a62410d8d0891cabe0c538a.txt\u001b[0m\n",
       "\n"
      ]
     },
     "metadata": {},
     "output_type": "display_data"
    },
    {
     "data": {
      "text/html": [
       "<pre style=\"white-space:pre;overflow-x:auto;line-height:normal;font-family:Menlo,'DejaVu Sans Mono',consolas,'Courier New',monospace\">Tag <span style=\"color: #008000; text-decoration-color: #008000\">\"</span><span style=\"color: #bd1af2; text-decoration-color: #bd1af2; font-weight: bold\">fox</span><span style=\"color: #008000; text-decoration-color: #008000\">\"</span> found in caption <span style=\"color: #008000; text-decoration-color: #008000\">\"This image is an illustration of anthro </span><span style=\"color: #bd1af2; text-decoration-color: #bd1af2; font-weight: bold\">fox</span><span style=\"color: #008000; text-decoration-color: #008000\"> with a blue hair on its head.\"</span>\n",
       "</pre>\n"
      ],
      "text/plain": [
       "Tag \u001b[32m\"\u001b[0m\u001b[1;38;2;189;26;242mfox\u001b[0m\u001b[32m\"\u001b[0m found in caption \u001b[32m\"This image is an illustration of anthro \u001b[0m\u001b[1;38;2;189;26;242mfox\u001b[0m\u001b[32m with a blue hair on its head.\"\u001b[0m\n"
      ]
     },
     "metadata": {},
     "output_type": "display_data"
    },
    {
     "data": {
      "text/html": [
       "<pre style=\"white-space:pre;overflow-x:auto;line-height:normal;font-family:Menlo,'DejaVu Sans Mono',consolas,'Courier New',monospace\">Tag <span style=\"color: #008000; text-decoration-color: #008000\">\"</span><span style=\"color: #3ffcb3; text-decoration-color: #3ffcb3; font-weight: bold\">fox</span><span style=\"color: #008000; text-decoration-color: #008000\">\"</span> found in caption <span style=\"color: #008000; text-decoration-color: #008000\">\"The </span><span style=\"color: #3ffcb3; text-decoration-color: #3ffcb3; font-weight: bold\">fox</span><span style=\"color: #008000; text-decoration-color: #008000\"> has a large tail that is half red and half white.\"</span>\n",
       "</pre>\n"
      ],
      "text/plain": [
       "Tag \u001b[32m\"\u001b[0m\u001b[1;38;2;63;252;179mfox\u001b[0m\u001b[32m\"\u001b[0m found in caption \u001b[32m\"The \u001b[0m\u001b[1;38;2;63;252;179mfox\u001b[0m\u001b[32m has a large tail that is half red and half white.\"\u001b[0m\n"
      ]
     },
     "metadata": {},
     "output_type": "display_data"
    },
    {
     "data": {
      "text/html": [
       "<pre style=\"white-space:pre;overflow-x:auto;line-height:normal;font-family:Menlo,'DejaVu Sans Mono',consolas,'Courier New',monospace\">Tag <span style=\"color: #008000; text-decoration-color: #008000\">\"</span><span style=\"color: #5cd049; text-decoration-color: #5cd049; font-weight: bold\">anthro</span><span style=\"color: #008000; text-decoration-color: #008000\">\"</span> found in caption <span style=\"color: #008000; text-decoration-color: #008000\">\"This image is an illustration of </span><span style=\"color: #5cd049; text-decoration-color: #5cd049; font-weight: bold\">anthro</span><span style=\"color: #008000; text-decoration-color: #008000\"> fox with a blue hair on its head.\"</span>\n",
       "</pre>\n"
      ],
      "text/plain": [
       "Tag \u001b[32m\"\u001b[0m\u001b[1;38;2;92;208;73manthro\u001b[0m\u001b[32m\"\u001b[0m found in caption \u001b[32m\"This image is an illustration of \u001b[0m\u001b[1;38;2;92;208;73manthro\u001b[0m\u001b[32m fox with a blue hair on its head.\"\u001b[0m\n"
      ]
     },
     "metadata": {},
     "output_type": "display_data"
    },
    {
     "data": {
      "text/html": [
       "<pre style=\"white-space:pre;overflow-x:auto;line-height:normal;font-family:Menlo,'DejaVu Sans Mono',consolas,'Courier New',monospace\">Tag <span style=\"color: #008000; text-decoration-color: #008000\">\"</span><span style=\"color: #3bd0e3; text-decoration-color: #3bd0e3; font-weight: bold\">headphones</span><span style=\"color: #008000; text-decoration-color: #008000\">\"</span> found in caption <span style=\"color: #008000; text-decoration-color: #008000\">\"The character is wearing </span><span style=\"color: #3bd0e3; text-decoration-color: #3bd0e3; font-weight: bold\">headphones</span><span style=\"color: #008000; text-decoration-color: #008000\"> of which only one is visible.\"</span>\n",
       "</pre>\n"
      ],
      "text/plain": [
       "Tag \u001b[32m\"\u001b[0m\u001b[1;38;2;59;208;227mheadphones\u001b[0m\u001b[32m\"\u001b[0m found in caption \u001b[32m\"The character is wearing \u001b[0m\u001b[1;38;2;59;208;227mheadphones\u001b[0m\u001b[32m of which only one is visible.\"\u001b[0m\n"
      ]
     },
     "metadata": {},
     "output_type": "display_data"
    },
    {
     "data": {
      "text/html": [
       "<pre style=\"white-space:pre;overflow-x:auto;line-height:normal;font-family:Menlo,'DejaVu Sans Mono',consolas,'Courier New',monospace\">Tag <span style=\"color: #008000; text-decoration-color: #008000\">\"</span><span style=\"color: #5b7198; text-decoration-color: #5b7198; font-weight: bold\">blue hair</span><span style=\"color: #008000; text-decoration-color: #008000\">\"</span> found in caption <span style=\"color: #008000; text-decoration-color: #008000\">\"This image is an illustration of anthro fox with a </span><span style=\"color: #5b7198; text-decoration-color: #5b7198; font-weight: bold\">blue hair</span><span style=\"color: #008000; text-decoration-color: #008000\"> on its head.\"</span>\n",
       "</pre>\n"
      ],
      "text/plain": [
       "Tag \u001b[32m\"\u001b[0m\u001b[1;38;2;91;113;152mblue hair\u001b[0m\u001b[32m\"\u001b[0m found in caption \u001b[32m\"This image is an illustration of anthro fox with a \u001b[0m\u001b[1;38;2;91;113;152mblue hair\u001b[0m\u001b[32m on its head.\"\u001b[0m\n"
      ]
     },
     "metadata": {},
     "output_type": "display_data"
    },
    {
     "data": {
      "text/html": [
       "<pre style=\"white-space:pre;overflow-x:auto;line-height:normal;font-family:Menlo,'DejaVu Sans Mono',consolas,'Courier New',monospace\">Tag <span style=\"color: #008000; text-decoration-color: #008000\">\"</span><span style=\"color: #41bea2; text-decoration-color: #41bea2; font-weight: bold\">tail</span><span style=\"color: #008000; text-decoration-color: #008000\">\"</span> found in caption <span style=\"color: #008000; text-decoration-color: #008000\">\"The fox has a large </span><span style=\"color: #41bea2; text-decoration-color: #41bea2; font-weight: bold\">tail</span><span style=\"color: #008000; text-decoration-color: #008000\"> that is half red and half white.\"</span>\n",
       "</pre>\n"
      ],
      "text/plain": [
       "Tag \u001b[32m\"\u001b[0m\u001b[1;38;2;65;190;162mtail\u001b[0m\u001b[32m\"\u001b[0m found in caption \u001b[32m\"The fox has a large \u001b[0m\u001b[1;38;2;65;190;162mtail\u001b[0m\u001b[32m that is half red and half white.\"\u001b[0m\n"
      ]
     },
     "metadata": {},
     "output_type": "display_data"
    },
    {
     "data": {
      "text/html": [
       "<pre style=\"white-space:pre;overflow-x:auto;line-height:normal;font-family:Menlo,'DejaVu Sans Mono',consolas,'Courier New',monospace\">Tag <span style=\"color: #008000; text-decoration-color: #008000\">\"</span><span style=\"color: #305894; text-decoration-color: #305894; font-weight: bold\">hair</span><span style=\"color: #008000; text-decoration-color: #008000\">\"</span> found in caption <span style=\"color: #008000; text-decoration-color: #008000\">\"This image is an illustration of anthro fox with a blue </span><span style=\"color: #305894; text-decoration-color: #305894; font-weight: bold\">hair</span><span style=\"color: #008000; text-decoration-color: #008000\"> on its head.\"</span>\n",
       "</pre>\n"
      ],
      "text/plain": [
       "Tag \u001b[32m\"\u001b[0m\u001b[1;38;2;48;88;148mhair\u001b[0m\u001b[32m\"\u001b[0m found in caption \u001b[32m\"This image is an illustration of anthro fox with a blue \u001b[0m\u001b[1;38;2;48;88;148mhair\u001b[0m\u001b[32m on its head.\"\u001b[0m\n"
      ]
     },
     "metadata": {},
     "output_type": "display_data"
    }
   ],
   "source": [
    "import os\n",
    "import random\n",
    "import re\n",
    "from rich import print\n",
    "from rich.console import Console\n",
    "from rich.style import Style\n",
    "from rich.color import Color\n",
    "\n",
    "def find_files(path, extension):\n",
    "    for root, dirs, files in os.walk(path):\n",
    "        for file in files:\n",
    "            if file.endswith(extension):\n",
    "                yield os.path.join(root, file)\n",
    "\n",
    "def process_file(file_path):\n",
    "    console = Console()\n",
    "    file_path_printed = False\n",
    "    with open(file_path, 'r') as file:\n",
    "        content = file.read()\n",
    "        elements = content.split(',')\n",
    "        captions = [element.strip() for element in elements if '.' in element]\n",
    "        tags = [element.strip() for element in elements if '.' not in element and element.strip() != '']\n",
    "        for tag in tags:\n",
    "            pattern = r'\\b{}\\b'.format(re.escape(tag))\n",
    "            for caption in captions:\n",
    "                if re.search(pattern, caption):\n",
    "                    if not file_path_printed:\n",
    "                        console.print(f'\\n\\n[bold]{file_path}[/bold]\\n')\n",
    "                        file_path_printed = True\n",
    "                    color = Color.from_rgb(random.randint(0, 255), random.randint(0, 255), random.randint(0, 255))\n",
    "                    style = Style(color=color, bold=True)\n",
    "                    highlighted_caption = caption.replace(tag, f\"[{style}]{tag}[/{style}]\")\n",
    "                    console.print(f'Tag \"[{style}]{tag}[/{style}]\" found in caption \"{highlighted_caption}\"')\n",
    "\n",
    "def main():\n",
    "    path = 'C:\\\\Users\\\\kade\\\\Desktop\\\\training_dir_staging'\n",
    "    for file_path in find_files(path, '.txt'):\n",
    "        process_file(file_path)\n",
    "\n",
    "if __name__ == \"__main__\":\n",
    "    main()"
   ]
  }
 ],
 "metadata": {
  "kernelspec": {
   "display_name": "base",
   "language": "python",
   "name": "python3"
  },
  "language_info": {
   "codemirror_mode": {
    "name": "ipython",
    "version": 3
   },
   "file_extension": ".py",
   "mimetype": "text/x-python",
   "name": "python",
   "nbconvert_exporter": "python",
   "pygments_lexer": "ipython3",
   "version": "3.12.2"
  }
 },
 "nbformat": 4,
 "nbformat_minor": 2
}
