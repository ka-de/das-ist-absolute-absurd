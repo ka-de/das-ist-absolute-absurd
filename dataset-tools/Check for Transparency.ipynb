{
 "cells": [
  {
   "cell_type": "markdown",
   "metadata": {},
   "source": [
    "## Check for Transparency\n",
    "----\n",
    "\n",
    "The Python script recursively traverses a specified directory, identifying image files with extensions `.jpg`, `.jpeg`, and `.png`. For each identified image, it checks if it contains transparency by examining its mode with PIL."
   ]
  },
  {
   "cell_type": "code",
   "execution_count": 2,
   "metadata": {},
   "outputs": [
    {
     "name": "stdout",
     "output_type": "stream",
     "text": [
      "No transparent images in your dataset!\n"
     ]
    }
   ],
   "source": [
    "import os\n",
    "from PIL import Image\n",
    "\n",
    "def check_transparency(image_path):\n",
    "    try:\n",
    "        image = Image.open(image_path)\n",
    "        if image.mode == 'RGBA':\n",
    "            return True\n",
    "    except Exception as e:\n",
    "        print(f\"Error processing {image_path}: {e}\")\n",
    "    return False\n",
    "\n",
    "def main():\n",
    "    directory = r'C:\\Users\\kade\\Desktop\\training_dir_staging'\n",
    "    transparent_images = []\n",
    "\n",
    "    for root, _, files in os.walk(directory):\n",
    "        for file in files:\n",
    "            if file.lower().endswith(('.jpg', '.jpeg', '.png')):\n",
    "                file_path = os.path.join(root, file)\n",
    "                if check_transparency(file_path):\n",
    "                    transparent_images.append(file_path)\n",
    "\n",
    "    if transparent_images:\n",
    "        print(\"Images with transparency:\")\n",
    "        for img in transparent_images:\n",
    "            print(img)\n",
    "    else:\n",
    "        print(\"No transparent images in your dataset!\")\n",
    "\n",
    "if __name__ == \"__main__\":\n",
    "    main()"
   ]
  }
 ],
 "metadata": {
  "kernelspec": {
   "display_name": "base",
   "language": "python",
   "name": "python3"
  },
  "language_info": {
   "codemirror_mode": {
    "name": "ipython",
    "version": 3
   },
   "file_extension": ".py",
   "mimetype": "text/x-python",
   "name": "python",
   "nbconvert_exporter": "python",
   "pygments_lexer": "ipython3",
   "version": "3.12.2"
  }
 },
 "nbformat": 4,
 "nbformat_minor": 2
}
