{
 "cells": [
  {
   "cell_type": "markdown",
   "metadata": {},
   "source": [
    "## Find Missing `.tags` and `.caption`s\n",
    "----\n",
    "\n",
    "This Python script iterates through a specified directory and its subdirectories to find image files (with extensions `.png`, `.jpg`, or `.jpeg`). For each image file found, it checks if corresponding caption and tags files exist. If either the caption file or the tags file is missing for an image file, the script adds the file paths of the missing files to a list. Finally, if any missing files are found, it prints out their paths; otherwise, it prints \"No missing files found.\""
   ]
  },
  {
   "cell_type": "code",
   "execution_count": null,
   "metadata": {},
   "outputs": [],
   "source": [
    "import os\n",
    "\n",
    "def find_missing_files(directory):\n",
    "    missing_files = []\n",
    "    for root, dirs, files in os.walk(directory):\n",
    "        for file in files:\n",
    "            if file.lower().endswith(('.png', '.jpg', '.jpeg')):\n",
    "                file_name, file_extension = os.path.splitext(file)\n",
    "                caption_file = os.path.join(root, file_name + \".caption\")\n",
    "                tags_file = os.path.join(root, file_name + \".tags\")\n",
    "                if not os.path.exists(caption_file):\n",
    "                    missing_files.append(caption_file)\n",
    "                if not os.path.exists(tags_file):\n",
    "                    missing_files.append(tags_file)\n",
    "    return missing_files\n",
    "\n",
    "if __name__ == \"__main__\":\n",
    "    directory = r\"C:\\Users\\kade\\Desktop\\training_dir_staging\"\n",
    "    missing_files = find_missing_files(directory)\n",
    "    if missing_files:\n",
    "        print(\"Missing files:\")\n",
    "        for file in missing_files:\n",
    "            print(file)\n",
    "    else:\n",
    "        print(\"No missing files found.\")"
   ]
  }
 ],
 "metadata": {
  "language_info": {
   "name": "python"
  }
 },
 "nbformat": 4,
 "nbformat_minor": 2
}
